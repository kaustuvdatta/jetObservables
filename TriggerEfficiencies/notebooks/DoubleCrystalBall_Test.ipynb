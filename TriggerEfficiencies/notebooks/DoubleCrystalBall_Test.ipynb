{
 "cells": [
  {
   "cell_type": "code",
   "execution_count": 1,
   "id": "f5cd2277-07b4-4398-b4d1-1a2dc612a279",
   "metadata": {},
   "outputs": [
    {
     "name": "stderr",
     "output_type": "stream",
     "text": [
      "/tmp/ipykernel_2687/3777615979.py:1: DeprecationWarning: Importing display from IPython.core.display is deprecated since IPython 7.14, please import from IPython display\n",
      "  from IPython.core.display import display, HTML\n"
     ]
    },
    {
     "data": {
      "text/html": [
       "<style>.container { width:100% !important; }</style>"
      ],
      "text/plain": [
       "<IPython.core.display.HTML object>"
      ]
     },
     "metadata": {},
     "output_type": "display_data"
    }
   ],
   "source": [
    "from IPython.core.display import display, HTML\n",
    "display(HTML(\"<style>.container { width:100% !important; }</style>\"))"
   ]
  },
  {
   "cell_type": "code",
   "execution_count": null,
   "id": "ab389d46-ae28-4320-ab66-cbf44968cb85",
   "metadata": {},
   "outputs": [],
   "source": [
    "from ROOT import *\n",
    "import time, os, math, sys, json, gc, copy, pprint, argparse\n",
    "\n",
    "from array import array\n",
    "\n",
    "#import histoHelpers\n",
    "#from histoHelpers import *\n",
    "\n",
    "from random import gauss\n",
    "import numpy as np\n",
    "\n",
    "#sys.path.insert(0,'../../')\n",
    "#from datasets_dijetSel_RunIISummer20UL_SampleDictPrep import dictSamples, checkDict\n",
    "\n",
    "#sys.path.insert(0,'../python/')\n",
    "#import CMS_lumi as CMS_lumi\n",
    "#import tdrstyle as tdrstyle\n",
    "from collections import OrderedDict\n",
    "import matplotlib\n",
    "import matplotlib.pyplot as plt"
   ]
  },
  {
   "cell_type": "code",
   "execution_count": null,
   "id": "e1322888-45e7-4ebd-9de6-f74d6a208aa2",
   "metadata": {},
   "outputs": [],
   "source": [
    "sys.path.insert(0,'../python/')\n",
    "from DoubleCrystalBall import Base, Distribution, DLog, Integral\n",
    "\n",
    "fitter = ROOT.Fit.Fitter()\n",
    "myDist = Distribution()\n",
    "myInt = Integral()\n",
    "myDLog = DLog()\n",
    "#params = [N,mu,sigma,kL,nL,,kR,nR]\n",
    "\n",
    "params = array('f', [1,400,50,0,1,500,2])\n",
    "myDist.SetParameters(params)\n",
    "myInt.SetParameters(params)\n",
    "myDLog.SetParameters(params)\n",
    "myDist.dump()\n",
    "myInt.dump()\n",
    "myDLog.dump()\n",
    "\n",
    "x_values = array('f', [i for i in np.linspace(100.,1000., 900)]) \n",
    "resultsD = []\n",
    "resultsI = []\n",
    "resultsDL = []\n",
    "\n",
    "for x in x_values:\n",
    "    resultD = myDist.DoEval([x])  #  [x] because Eval expects array-like input\n",
    "    resultsD.append(resultD)\n",
    "    \n",
    "    resultDL = myDLog.DoEval([x])  \n",
    "    resultsDL.append(resultDL)\n",
    "    \n",
    "    resultI = myInt.DoEval([x])  \n",
    "    resultsI.append(resultI)\n",
    "\n",
    "plt.figure(figsize=(12,9))\n",
    "plt.plot(x_values,resultsD,label='Double Crystal-Ball')\n",
    "plt.plot(x_values,resultsI,label='Integral')\n",
    "plt.plot(x_values,resultsDL,label='Derivative of logarithm')\n",
    "#plt.plot(x_values,resultsD)\n",
    "plt.legend(loc='best', fontsize=12 )\n",
    "plt.show()\n",
    "myDist.dump()\n",
    "myInt.dump()\n",
    "print(resultsI)\n"
   ]
  },
  {
   "cell_type": "code",
   "execution_count": null,
   "id": "e80433df-714b-4ba0-af0f-de35a81f974b",
   "metadata": {},
   "outputs": [],
   "source": [
    "import ROOT\n",
    "from hyperopt import fmin, tpe, hp, STATUS_OK, Trials\n",
    "import numpy as np\n",
    "\n",
    "# Assume your TH1 histogram is named h_eff\n",
    "h_eff = ROOT.TH1F(\"h_eff\", \"Efficiency\", 100, 0, 500)  # Example histogram, you'd use your actual histogram here\n",
    "\n",
    "# Convert TH1 to Python lists\n",
    "x_vals = [h_eff.GetBinCenter(i) for i in range(1, h_eff.GetNbinsX()+1)]\n",
    "y_vals = [h_eff.GetBinContent(i) for i in range(1, h_eff.GetNbinsX()+1)]\n",
    "y_errs = [h_eff.GetBinError(i) for i in range(1, h_eff.GetNbinsX()+1)]\n",
    "\n",
    "# Define the objective function for hyperopt\n",
    "def objective(params):\n",
    "    cb = Distribution()  # From your implementation\n",
    "    f_cb = ROOT.TF1(\"f_cb\", cb.wrapped_eval, 0, 500, 7)  # Adjust the range accordingly\n",
    "    \n",
    "    for i, p in enumerate(params):\n",
    "        f_cb.SetParameter(i, p)\n",
    "        f_cb.SetParLimits(i, params[p][0], params[p][1])\n",
    "    \n",
    "    h_eff.Fit(f_cb, \"R\")  # R option is for the range\n",
    "    \n",
    "    chi2_ndf = f_cb.GetChisquare() / f_cb.GetNDF()\n",
    "    \n",
    "    return {'loss': chi2_ndf, 'status': STATUS_OK, 'params': params}\n",
    "\n",
    "# Define the parameter space for hyperopt\n",
    "space = {\n",
    "    'N': (0, 2),\n",
    "    'mu': (380, 460),  # Sample range, adjust accordingly\n",
    "    'sigma': (0, 10),\n",
    "    'kL': (-5, 5),\n",
    "    'nL': (0, 5),\n",
    "    'kR': (-5, 5),\n",
    "    'nR': (0, 5)\n",
    "}\n",
    "\n",
    "trials = Trials()\n",
    "best = fmin(fn=objective,\n",
    "            space=space,\n",
    "            algo=tpe.suggest,\n",
    "            max_evals=100,\n",
    "            trials=trials)\n",
    "\n",
    "# Extract the best 5 fits and display them\n",
    "best_trials = sorted(trials.results, key=lambda x: x['loss'])[:5]\n",
    "canvas = ROOT.TCanvas(\"canvas\", \"Best Fits\", 800, 600)\n",
    "h_eff.Draw()\n",
    "\n",
    "leg = ROOT.TLegend(0.6, 0.6, 0.9, 0.9)\n",
    "for i, trial in enumerate(best_trials):\n",
    "    params = trial['params']\n",
    "    cb = Distribution()\n",
    "    f_cb = ROOT.TF1(f\"f_cb_{i}\", cb.wrapped_eval, 0, 500, 7)\n",
    "    for j, p in enumerate(params):\n",
    "        f_cb.SetParameter(j, params[p])\n",
    "    f_cb.SetLineColor(i+1)  # Different color for each fit\n",
    "    f_cb.Draw(\"SAME\")\n",
    "    leg.AddEntry(f_cb, f\"Fit {i+1}: chi2/ndf={trial['loss']:.2f}\", \"l\")\n",
    "\n",
    "leg.Draw()\n",
    "canvas.Print(\"best_fits.png\")\n",
    "\n",
    "# Determine where efficiency is >= 99.5%\n",
    "efficiency_threshold = 0.995\n",
    "thresholds = []\n",
    "for x in x_vals:\n",
    "    if f_cb.Eval(x) >= efficiency_threshold:\n",
    "        thresholds.append(x)\n",
    "print(\"Efficiency >= 99.5% at:\", thresholds)"
   ]
  }
 ],
 "metadata": {
  "kernelspec": {
   "display_name": "Python 3 (ipykernel)",
   "language": "python",
   "name": "python3"
  },
  "language_info": {
   "codemirror_mode": {
    "name": "ipython",
    "version": 3
   },
   "file_extension": ".py",
   "mimetype": "text/x-python",
   "name": "python",
   "nbconvert_exporter": "python",
   "pygments_lexer": "ipython3",
   "version": "3.11.4"
  }
 },
 "nbformat": 4,
 "nbformat_minor": 5
}
