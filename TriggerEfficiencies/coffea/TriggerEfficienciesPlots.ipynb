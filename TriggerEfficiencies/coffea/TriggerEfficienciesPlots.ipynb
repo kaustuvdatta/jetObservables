{
 "cells": [
  {
   "cell_type": "code",
   "execution_count": 1,
   "metadata": {},
   "outputs": [],
   "source": [
    "import argparse\n",
    "import os\n",
    "import sys\n",
    "\n",
    "import uproot\n",
    "from coffea import hist\n",
    "from coffea.util import load"
   ]
  },
  {
   "cell_type": "code",
   "execution_count": 12,
   "metadata": {},
   "outputs": [
    {
     "name": "stdout",
     "output_type": "stream",
     "text": [
      "total 1.3M\r\n",
      "-rw-r--r-- 1 15148 1399 3.0K Feb 19 17:13 createJsonInputs.py\r\n",
      "-rw-r--r-- 1 15148 1399 101K Feb 18 12:13 dask_job_output.log\r\n",
      "-rw-r--r-- 1 15148 1399 5.6K Feb  9 14:44 env.yml\r\n",
      "-rw-r--r-- 1 15148 1399  80K Feb  1 17:33 hists_None_trigger_sample_test2.coffea\r\n",
      "-rw-r--r-- 1 15148 1399  53K Feb 19 15:12 hists_samples_2017.coffea\r\n",
      "-rw-r--r-- 1 15148 1399 182K Feb  3 12:42 hists_samples_2017_lowstats.coffea\r\n",
      "-rw-r--r-- 1 15148 1399 216K Feb  9 12:30 hists_samples_2017_reduced_testcondor.coffea\r\n",
      "-rw-r--r-- 1 15148 1399  66K Feb 19 16:33 hists_samples_2017_SingleMuon_Run2017C_all.coffea\r\n",
      "-rw-r--r-- 1 15148 1399  66K Feb 19 16:53 hists_samples_2017_SingleMuon_Run2017C.coffea\r\n",
      "-rw-r--r-- 1 15148 1399  39K Feb  3 15:40 hists_samples_SingleMuonRun2017B.coffea\r\n",
      "-rw-r--r-- 1 15148 1399  44K Feb  3 15:57 hists_samples_SingleMuonRun2017C.coffea\r\n",
      "-rw-r--r-- 1 15148 1399  48K Feb  3 16:19 hists_samples_SingleMuonRun2017F.coffea\r\n",
      "-rw-r--r-- 1 15148 1399  61K Feb 19 15:22 output.root\r\n",
      "drwxr-xr-x 1 15148 1399 2.0K Feb  9 10:52 __pycache__\r\n",
      "-rw-r--r-- 1 15148 1399 6.7K Feb  9 10:59 runner.py\r\n",
      "-rw-r--r-- 1 15148 1399  15K Feb 19 15:27 runner_test.py\r\n",
      "-rw-r--r-- 1 15148 1399  50K Feb 19 17:13 samples_2017.json\r\n",
      "-rw-r--r-- 1 15148 1399  88K Feb 19 17:13 samples_2017_reduced.json\r\n",
      "-rw-r--r-- 1 15148 1399  48K Jan 29 10:48 TriggerEfficiencies.ipynb\r\n",
      "-rw-r--r-- 1 15148 1399  60K Feb 19 15:26 TriggerEfficienciesPlots.ipynb\r\n",
      "-rw-r--r-- 1 15148 1399 4.2K Feb  9 11:04 trigger_efficiencies.py\r\n",
      "-rw-r--r-- 1 15148 1399  979 Feb  2 12:17 trigger_samples.json\r\n"
     ]
    }
   ],
   "source": [
    "! ls -lh"
   ]
  },
  {
   "cell_type": "code",
   "execution_count": 2,
   "metadata": {},
   "outputs": [
    {
     "name": "stdout",
     "output_type": "stream",
     "text": [
      "total 202K\r\n",
      "-rw-r--r--. 1 kadatta 2766 3.0K Jan  5  2022 createJsonInputs.py\r\n",
      "-rwxr-xr-x. 1 kadatta 2766  30K Jan  5  2022 DrawCoffeaHistogram.py\r\n",
      "-rw-r--r--. 1 kadatta 2766 5.6K Jan  5  2022 env.yml\r\n",
      "-rw-r--r--. 1 kadatta 2766  15K Jan  5  2022 runner.py\r\n",
      "-rw-r--r--. 1 kadatta 2766  50K Jan  5  2022 samples_2017.json\r\n",
      "-rw-r--r--. 1 kadatta 2766  49K May 22 03:37 TriggerEfficiencies.ipynb\r\n",
      "-rw-r--r--. 1 kadatta 2766  46K May 22 03:37 TriggerEfficienciesPlots.ipynb\r\n",
      "-rw-r--r--. 1 kadatta 2766 4.2K Jan  5  2022 trigger_efficiencies.py\r\n",
      "-rw-r--r--. 1 kadatta 2766  979 Jan  5  2022 trigger_samples.json\r\n"
     ]
    }
   ],
   "source": [
    "! ls -lh"
   ]
  },
  {
   "cell_type": "code",
   "execution_count": 58,
   "metadata": {},
   "outputs": [
    {
     "name": "stdout",
     "output_type": "stream",
     "text": [
      "SingleMuon_Run2017C_njetsBasic_pt\n",
      "SingleMuon_Run2017C_basetrigger_pt\n",
      "SingleMuon_Run2017C_triggerAK8PFJet140_pt\n",
      "SingleMuon_Run2017C_triggerAK8PFJet200_pt\n",
      "SingleMuon_Run2017C_triggerAK8PFJet260_pt\n",
      "SingleMuon_Run2017C_triggerAK8PFJet320_pt\n",
      "SingleMuon_Run2017C_triggerAK8PFJet400_pt\n",
      "SingleMuon_Run2017C_triggerAK8PFJet450_pt\n",
      "SingleMuon_Run2017C_triggerAK8PFJet500_pt\n"
     ]
    }
   ],
   "source": [
    "result = load('hists_samples_2017_SingleMuon_Run2017C_all.coffea')\n",
    "outputfile = uproot.recreate(\"output.root\")\n",
    "\n",
    "listHistos = []\n",
    "for i in result['jets'].values():\n",
    "    listHistos.append(i)\n",
    "    print(i[0]+'_'+i[1]+'_pt')\n",
    "    outputfile[i[0]+'_'+i[1]+'_pt'] = hist.export1d(result['jets'].integrate('dataset', i[0]).integrate('selection',i[1]).sum('eta', 'mass'))\n",
    "    outputfile[i[0]+'_'+i[1]+'_mass'] = hist.export1d(result['jets'].integrate('dataset', i[0]).integrate('selection',i[1]).sum('eta', 'pt'))\n",
    "    outputfile[i[0]+'_'+i[1]+'_eta'] = hist.export1d(result['jets'].integrate('dataset', i[0]).integrate('selection',i[1]).sum('mass', 'pt'))\n",
    "    \n",
    "outputfile.close()"
   ]
  },
  {
   "cell_type": "code",
   "execution_count": 59,
   "metadata": {
    "scrolled": true
   },
   "outputs": [
    {
     "name": "stdout",
     "output_type": "stream",
     "text": [
      "{'SingleMuon_Run2017C_njetsBasic_pt': <ROOT.TH1D object (\"SingleMuon_Run2017C_njetsBasic_pt\") at 0x560eaea35420>, 'SingleMuon_Run2017C_njetsBasic_mass': <ROOT.TH1D object (\"SingleMuon_Run2017C_njetsBasic_mass\") at 0x560eafe0efb0>, 'SingleMuon_Run2017C_njetsBasic_eta': <ROOT.TH1D object (\"SingleMuon_Run2017C_njetsBasic_eta\") at 0x560eb1d757a0>, 'SingleMuon_Run2017C_basetrigger_pt': <ROOT.TH1D object (\"SingleMuon_Run2017C_basetrigger_pt\") at 0x560eb1e049b0>, 'SingleMuon_Run2017C_basetrigger_mass': <ROOT.TH1D object (\"SingleMuon_Run2017C_basetrigger_mass\") at 0x560eb1dd9bc0>, 'SingleMuon_Run2017C_basetrigger_eta': <ROOT.TH1D object (\"SingleMuon_Run2017C_basetrigger_eta\") at 0x560eb16fcd70>, 'SingleMuon_Run2017C_triggerAK8PFJet140_pt': <ROOT.TH1D object (\"SingleMuon_Run2017C_triggerAK8PFJet140_pt\") at 0x560eb1f19600>, 'SingleMuon_Run2017C_triggerAK8PFJet140_mass': <ROOT.TH1D object (\"SingleMuon_Run2017C_triggerAK8PFJet140_mass\") at 0x560eb2208210>, 'SingleMuon_Run2017C_triggerAK8PFJet140_eta': <ROOT.TH1D object (\"SingleMuon_Run2017C_triggerAK8PFJet140_eta\") at 0x560eaddac6c0>, 'SingleMuon_Run2017C_triggerAK8PFJet200_pt': <ROOT.TH1D object (\"SingleMuon_Run2017C_triggerAK8PFJet200_pt\") at 0x560eb18345b0>, 'SingleMuon_Run2017C_triggerAK8PFJet200_mass': <ROOT.TH1D object (\"SingleMuon_Run2017C_triggerAK8PFJet200_mass\") at 0x560eb16f9a30>, 'SingleMuon_Run2017C_triggerAK8PFJet200_eta': <ROOT.TH1D object (\"SingleMuon_Run2017C_triggerAK8PFJet200_eta\") at 0x560eb16e7b80>, 'SingleMuon_Run2017C_triggerAK8PFJet260_pt': <ROOT.TH1D object (\"SingleMuon_Run2017C_triggerAK8PFJet260_pt\") at 0x560eadd71d70>, 'SingleMuon_Run2017C_triggerAK8PFJet260_mass': <ROOT.TH1D object (\"SingleMuon_Run2017C_triggerAK8PFJet260_mass\") at 0x560eadd84700>, 'SingleMuon_Run2017C_triggerAK8PFJet260_eta': <ROOT.TH1D object (\"SingleMuon_Run2017C_triggerAK8PFJet260_eta\") at 0x560eb1d54e80>, 'SingleMuon_Run2017C_triggerAK8PFJet320_pt': <ROOT.TH1D object (\"SingleMuon_Run2017C_triggerAK8PFJet320_pt\") at 0x560eb1a5d9b0>, 'SingleMuon_Run2017C_triggerAK8PFJet320_mass': <ROOT.TH1D object (\"SingleMuon_Run2017C_triggerAK8PFJet320_mass\") at 0x560eb17fcac0>, 'SingleMuon_Run2017C_triggerAK8PFJet320_eta': <ROOT.TH1D object (\"SingleMuon_Run2017C_triggerAK8PFJet320_eta\") at 0x560eb16e7360>, 'SingleMuon_Run2017C_triggerAK8PFJet400_pt': <ROOT.TH1D object (\"SingleMuon_Run2017C_triggerAK8PFJet400_pt\") at 0x560eb198caf0>, 'SingleMuon_Run2017C_triggerAK8PFJet400_mass': <ROOT.TH1D object (\"SingleMuon_Run2017C_triggerAK8PFJet400_mass\") at 0x560eb1e45880>, 'SingleMuon_Run2017C_triggerAK8PFJet400_eta': <ROOT.TH1D object (\"SingleMuon_Run2017C_triggerAK8PFJet400_eta\") at 0x560eaf9b2030>, 'SingleMuon_Run2017C_triggerAK8PFJet450_pt': <ROOT.TH1D object (\"SingleMuon_Run2017C_triggerAK8PFJet450_pt\") at 0x560eb18a9340>, 'SingleMuon_Run2017C_triggerAK8PFJet450_mass': <ROOT.TH1D object (\"SingleMuon_Run2017C_triggerAK8PFJet450_mass\") at 0x560eadd970b0>, 'SingleMuon_Run2017C_triggerAK8PFJet450_eta': <ROOT.TH1D object (\"SingleMuon_Run2017C_triggerAK8PFJet450_eta\") at 0x560eadd9c810>, 'SingleMuon_Run2017C_triggerAK8PFJet500_pt': <ROOT.TH1D object (\"SingleMuon_Run2017C_triggerAK8PFJet500_pt\") at 0x560eb1f627e0>, 'SingleMuon_Run2017C_triggerAK8PFJet500_mass': <ROOT.TH1D object (\"SingleMuon_Run2017C_triggerAK8PFJet500_mass\") at 0x560eb1eeb6b0>, 'SingleMuon_Run2017C_triggerAK8PFJet500_eta': <ROOT.TH1D object (\"SingleMuon_Run2017C_triggerAK8PFJet500_eta\") at 0x560eb1fef5c0>}\n"
     ]
    }
   ],
   "source": [
    "#### Translate to root\n",
    "import ROOT\n",
    "sys.path.insert(0,'../../Unfolding/python/')\n",
    "import CMS_lumi as CMS_lumi\n",
    "import tdrstyle as tdrstyle\n",
    "from collections import OrderedDict\n",
    "\n",
    "%jsroot\n",
    "\n",
    "canvas = {} ### needed to plot several histos in a loop\n",
    "histDict = {}\n",
    "\n",
    "inFile = ROOT.TFile('output.root')\n",
    "\n",
    "for q in listHistos:\n",
    "    for k in ['pt','mass','eta']:\n",
    "        histDict[ q[0]+'_'+q[1]+'_'+k ] = inFile.Get(q[0]+'_'+q[1]+'_'+k)\n",
    "\n",
    "print(histDict)\n"
   ]
  },
  {
   "cell_type": "code",
   "execution_count": 62,
   "metadata": {},
   "outputs": [
    {
     "name": "stderr",
     "output_type": "stream",
     "text": [
      "Warning in <TCanvas::Constructor>: Deleting canvas with same name: triggerAK8PFJet140\n"
     ]
    },
    {
     "data": {
      "text/html": [
       "\n",
       "<div id=\"root_plot_26\"\n",
       "     style=\"width: 696px; height: 472px\">\n",
       "</div>\n",
       "\n",
       "<script>\n",
       " requirejs.config({\n",
       "     paths: {\n",
       "       'JSRootCore' : 'https://root.cern.ch/js/notebook//scripts/JSRootCore',\n",
       "     }\n",
       "   });\n",
       " require(['JSRootCore'],\n",
       "     function(Core) {\n",
       "       var obj = Core.JSONR_unref({\"_typename\":\"TCanvas\",\"fUniqueID\":0,\"fBits\":53673992,\"fLineColor\":1,\"fLineStyle\":1,\"fLineWidth\":1,\"fFillColor\":0,\"fFillStyle\":1001,\"fLeftMargin\":0.1,\"fRightMargin\":0.1,\"fBottomMargin\":0.1,\"fTopMargin\":0.1,\"fXfile\":2,\"fYfile\":2,\"fAfile\":1,\"fXstat\":0.99,\"fYstat\":0.99,\"fAstat\":2,\"fFrameFillColor\":0,\"fFrameLineColor\":1,\"fFrameFillStyle\":1001,\"fFrameLineStyle\":1,\"fFrameLineWidth\":1,\"fFrameBorderSize\":1,\"fFrameBorderMode\":0,\"fX1\":-12.500009052456,\"fY1\":-0.0363315499835967,\"fX2\":1202.50000905246,\"fY2\":0.326983928197079,\"fXtoAbsPixelk\":7.16054890606516,\"fXtoPixelk\":7.16054890606516,\"fXtoPixel\":0.572839497636865,\"fYtoAbsPixelk\":424.800047186661,\"fYtoPixelk\":424.800047186661,\"fYtoPixel\":-1299.14641226839,\"fUtoAbsPixelk\":5e-5,\"fUtoPixelk\":5e-5,\"fUtoPixel\":696,\"fVtoAbsPixelk\":472.00005,\"fVtoPixelk\":472,\"fVtoPixel\":-472,\"fAbsPixeltoXk\":-12.500009052456,\"fPixeltoXk\":-12.500009052456,\"fPixeltoX\":1.74568968118522,\"fAbsPixeltoYk\":0.326983928197079,\"fPixeltoYk\":-0.0363315499835967,\"fPixeltoY\":-7.69736182586178e-4,\"fXlowNDC\":0,\"fYlowNDC\":0,\"fXUpNDC\":0,\"fYUpNDC\":0,\"fWNDC\":1,\"fHNDC\":1,\"fAbsXlowNDC\":0,\"fAbsYlowNDC\":0,\"fAbsWNDC\":1,\"fAbsHNDC\":1,\"fUxmin\":109,\"fUymin\":0,\"fUxmax\":1081,\"fUymax\":0.290652378213483,\"fTheta\":30,\"fPhi\":30,\"fAspectRatio\":0,\"fNumber\":0,\"fTickx\":0,\"fTicky\":0,\"fLogx\":0,\"fLogy\":0,\"fLogz\":0,\"fPadPaint\":0,\"fCrosshair\":0,\"fCrosshairPos\":0,\"fBorderSize\":2,\"fBorderMode\":0,\"fModified\":false,\"fGridx\":false,\"fGridy\":false,\"fAbsCoord\":false,\"fEditable\":true,\"fFixedAspectRatio\":false,\"fPrimitives\":{\"_typename\":\"TList\",\"name\":\"TList\",\"arr\":[{\"_typename\":\"TFrame\",\"fUniqueID\":0,\"fBits\":50331656,\"fLineColor\":1,\"fLineStyle\":1,\"fLineWidth\":1,\"fFillColor\":0,\"fFillStyle\":1001,\"fX1\":109,\"fY1\":0,\"fX2\":1081,\"fY2\":0.290652378213483,\"fBorderSize\":1,\"fBorderMode\":0},{\"_typename\":\"TEfficiency\",\"fUniqueID\":0,\"fBits\":50331656,\"fName\":\"SingleMuon_Run2017C_basetrigger_pt_clone\",\"fTitle\":\"\",\"fLineColor\":1,\"fLineStyle\":1,\"fLineWidth\":1,\"fFillColor\":19,\"fFillStyle\":1001,\"fMarkerColor\":1,\"fMarkerStyle\":1,\"fMarkerSize\":1,\"fBeta_alpha\":1,\"fBeta_beta\":1,\"fBeta_bin_params\":[],\"fConfLevel\":0.682689492137,\"fFunctions\":{\"_typename\":\"TList\",\"name\":\"TList\",\"arr\":[],\"opt\":[]},\"fPassedHistogram\":{\"_typename\":\"TH1D\",\"fUniqueID\":0,\"fBits\":50331656,\"fName\":\"SingleMuon_Run2017C_basetrigger_pt_clone_passed\",\"fTitle\":\"entries\",\"fLineColor\":602,\"fLineStyle\":1,\"fLineWidth\":1,\"fFillColor\":0,\"fFillStyle\":1001,\"fMarkerColor\":1,\"fMarkerStyle\":1,\"fMarkerSize\":1,\"fNcells\":102,\"fXaxis\":{\"_typename\":\"TAxis\",\"fUniqueID\":0,\"fBits\":50331648,\"fName\":\"pt\",\"fTitle\":\"Leading jet $p^{T}$ [GeV]\",\"fNdivisions\":510,\"fAxisColor\":1,\"fLabelColor\":1,\"fLabelFont\":42,\"fLabelOffset\":0.005,\"fLabelSize\":0.035,\"fTickLength\":0.03,\"fTitleOffset\":1,\"fTitleSize\":0.035,\"fTitleColor\":1,\"fTitleFont\":42,\"fNbins\":100,\"fXmin\":0,\"fXmax\":1000,\"fXbins\":[],\"fFirst\":0,\"fLast\":0,\"fBits2\":0,\"fTimeDisplay\":false,\"fTimeFormat\":\"\",\"fLabels\":null,\"fModLabs\":null},\"fYaxis\":{\"_typename\":\"TAxis\",\"fUniqueID\":0,\"fBits\":50331648,\"fName\":\"yaxis\",\"fTitle\":\"\",\"fNdivisions\":510,\"fAxisColor\":1,\"fLabelColor\":1,\"fLabelFont\":42,\"fLabelOffset\":0.005,\"fLabelSize\":0.035,\"fTickLength\":0.03,\"fTitleOffset\":0,\"fTitleSize\":0.035,\"fTitleColor\":1,\"fTitleFont\":42,\"fNbins\":1,\"fXmin\":0,\"fXmax\":1,\"fXbins\":[],\"fFirst\":0,\"fLast\":0,\"fBits2\":0,\"fTimeDisplay\":false,\"fTimeFormat\":\"\",\"fLabels\":null,\"fModLabs\":null},\"fZaxis\":{\"_typename\":\"TAxis\",\"fUniqueID\":0,\"fBits\":50331648,\"fName\":\"zaxis\",\"fTitle\":\"\",\"fNdivisions\":510,\"fAxisColor\":1,\"fLabelColor\":1,\"fLabelFont\":42,\"fLabelOffset\":0.005,\"fLabelSize\":0.035,\"fTickLength\":0.03,\"fTitleOffset\":1,\"fTitleSize\":0.035,\"fTitleColor\":1,\"fTitleFont\":42,\"fNbins\":1,\"fXmin\":0,\"fXmax\":1,\"fXbins\":[],\"fFirst\":0,\"fLast\":0,\"fBits2\":0,\"fTimeDisplay\":false,\"fTimeFormat\":\"\",\"fLabels\":null,\"fModLabs\":null},\"fBarOffset\":0,\"fBarWidth\":1000,\"fEntries\":20,\"fTsumw\":20,\"fTsumw2\":20,\"fTsumwx\":6230,\"fTsumwx2\":2047900,\"fMaximum\":-1111,\"fMinimum\":-1111,\"fNormFactor\":0,\"fContour\":[],\"fSumw2\":[0,0,0,0,0,0,0,0,0,0,0,0,0,0,0,0,0,0,0,0,0,0,0,3,0,0,6,0,0,0,1,1,0,1,2,0,1,1,1,0,0,0,1,0,0,1,0,0,1,0,0,0,0,0,0,0,0,0,0,0,0,0,0,0,0,0,0,0,0,0,0,0,0,0,0,0,0,0,0,0,0,0,0,0,0,0,0,0,0,0,0,0,0,0,0,0,0,0,0,0,0,0],\"fOption\":\"\",\"fFunctions\":{\"_typename\":\"TList\",\"name\":\"TList\",\"arr\":[],\"opt\":[]},\"fBufferSize\":0,\"fBuffer\":[],\"fBinStatErrOpt\":0,\"fStatOverflows\":2,\"fArray\":[0,0,0,0,0,0,0,0,0,0,0,0,0,0,0,0,0,0,0,0,0,0,0,3,0,0,6,0,0,0,1,1,0,1,2,0,1,1,1,0,0,0,1,0,0,1,0,0,1,0,0,0,0,0,0,0,0,0,0,0,0,0,0,0,0,0,0,0,0,0,0,0,0,0,0,0,0,0,0,0,0,0,0,0,0,0,0,0,0,0,0,0,0,0,0,0,0,0,0,0,0,0]},\"fStatisticOption\":0,\"fTotalHistogram\":{\"_typename\":\"TH1D\",\"fUniqueID\":0,\"fBits\":50331656,\"fName\":\"SingleMuon_Run2017C_basetrigger_pt_clone_total\",\"fTitle\":\"entries\",\"fLineColor\":602,\"fLineStyle\":1,\"fLineWidth\":1,\"fFillColor\":0,\"fFillStyle\":1001,\"fMarkerColor\":1,\"fMarkerStyle\":1,\"fMarkerSize\":1,\"fNcells\":102,\"fXaxis\":{\"_typename\":\"TAxis\",\"fUniqueID\":0,\"fBits\":50331648,\"fName\":\"pt\",\"fTitle\":\"Leading jet $p^{T}$ [GeV]\",\"fNdivisions\":510,\"fAxisColor\":1,\"fLabelColor\":1,\"fLabelFont\":42,\"fLabelOffset\":0.005,\"fLabelSize\":0.035,\"fTickLength\":0.03,\"fTitleOffset\":1,\"fTitleSize\":0.035,\"fTitleColor\":1,\"fTitleFont\":42,\"fNbins\":100,\"fXmin\":0,\"fXmax\":1000,\"fXbins\":[],\"fFirst\":0,\"fLast\":0,\"fBits2\":0,\"fTimeDisplay\":false,\"fTimeFormat\":\"\",\"fLabels\":null,\"fModLabs\":null},\"fYaxis\":{\"_typename\":\"TAxis\",\"fUniqueID\":0,\"fBits\":50331648,\"fName\":\"yaxis\",\"fTitle\":\"\",\"fNdivisions\":510,\"fAxisColor\":1,\"fLabelColor\":1,\"fLabelFont\":42,\"fLabelOffset\":0.005,\"fLabelSize\":0.035,\"fTickLength\":0.03,\"fTitleOffset\":0,\"fTitleSize\":0.035,\"fTitleColor\":1,\"fTitleFont\":42,\"fNbins\":1,\"fXmin\":0,\"fXmax\":1,\"fXbins\":[],\"fFirst\":0,\"fLast\":0,\"fBits2\":0,\"fTimeDisplay\":false,\"fTimeFormat\":\"\",\"fLabels\":null,\"fModLabs\":null},\"fZaxis\":{\"_typename\":\"TAxis\",\"fUniqueID\":0,\"fBits\":50331648,\"fName\":\"zaxis\",\"fTitle\":\"\",\"fNdivisions\":510,\"fAxisColor\":1,\"fLabelColor\":1,\"fLabelFont\":42,\"fLabelOffset\":0.005,\"fLabelSize\":0.035,\"fTickLength\":0.03,\"fTitleOffset\":1,\"fTitleSize\":0.035,\"fTitleColor\":1,\"fTitleFont\":42,\"fNbins\":1,\"fXmin\":0,\"fXmax\":1,\"fXbins\":[],\"fFirst\":0,\"fLast\":0,\"fBits2\":0,\"fTimeDisplay\":false,\"fTimeFormat\":\"\",\"fLabels\":null,\"fModLabs\":null},\"fBarOffset\":0,\"fBarWidth\":1000,\"fEntries\":43839,\"fTsumw\":43839,\"fTsumw2\":43839,\"fTsumwx\":15918445,\"fTsumwx2\":6443873575,\"fMaximum\":-1111,\"fMinimum\":-1111,\"fNormFactor\":0,\"fContour\":[],\"fSumw2\":[0,0,0,0,0,0,0,0,0,0,0,0,0,0,0,0,0,0,0,0,100,411,874,1379,1551,1790,1964,1964,1982,1998,2034,1806,1810,1741,1687,1579,1468,1424,1295,1199,1127,1006,934,878,774,728,676,643,559,554,499,417,402,384,334,287,275,259,223,248,209,161,168,174,158,141,143,101,108,115,80,77,88,81,61,58,62,44,53,52,24,37,35,43,25,30,31,19,22,24,20,20,13,17,17,18,9,11,8,6,13,154],\"fOption\":\"\",\"fFunctions\":{\"_typename\":\"TList\",\"name\":\"TList\",\"arr\":[],\"opt\":[]},\"fBufferSize\":0,\"fBuffer\":[],\"fBinStatErrOpt\":0,\"fStatOverflows\":2,\"fArray\":[0,0,0,0,0,0,0,0,0,0,0,0,0,0,0,0,0,0,0,0,100,411,874,1379,1551,1790,1964,1964,1982,1998,2034,1806,1810,1741,1687,1579,1468,1424,1295,1199,1127,1006,934,878,774,728,676,643,559,554,499,417,402,384,334,287,275,259,223,248,209,161,168,174,158,141,143,101,108,115,80,77,88,81,61,58,62,44,53,52,24,37,35,43,25,30,31,19,22,24,20,20,13,17,17,18,9,11,8,6,13,154]},\"fWeight\":1}],\"opt\":[\"\",\"ap\"]},\"fExecs\":null,\"fName\":\"triggerAK8PFJet140\",\"fTitle\":\"triggerAK8PFJet140\",\"fNumPaletteColor\":0,\"fNextPaletteColor\":0,\"fDISPLAY\":\"$DISPLAY\",\"fDoubleBuffer\":0,\"fRetained\":true,\"fXsizeUser\":0,\"fYsizeUser\":0,\"fXsizeReal\":20,\"fYsizeReal\":14.28571,\"fWindowTopX\":0,\"fWindowTopY\":0,\"fWindowWidth\":0,\"fWindowHeight\":0,\"fCw\":696,\"fCh\":472,\"fCatt\":{\"_typename\":\"TAttCanvas\",\"fXBetween\":2,\"fYBetween\":2,\"fTitleFromTop\":1.2,\"fXdate\":0.2,\"fYdate\":0.3,\"fAdate\":1},\"kMoveOpaque\":true,\"kResizeOpaque\":true,\"fHighLightColor\":2,\"fBatch\":true,\"kShowEventStatus\":false,\"kAutoExec\":true,\"kMenuBar\":true});\n",
       "       Core.draw(\"root_plot_26\", obj, \"\");\n",
       "     }\n",
       " );\n",
       "</script>\n"
      ],
      "text/plain": [
       "<IPython.core.display.HTML object>"
      ]
     },
     "metadata": {},
     "output_type": "display_data"
    }
   ],
   "source": [
    "tLabel = 'triggerAK8PFJet140'\n",
    "\n",
    "denominator = histDict['SingleMuon_Run2017C_basetrigger_pt'].Clone()\n",
    "numerator = histDict['SingleMuon_Run2017C_triggerAK8PFJet140_pt'].Clone()\n",
    "\n",
    "test = ROOT.TEfficiency( numerator, denominator )\n",
    "\n",
    "canvas[tLabel] = ROOT.TCanvas( tLabel, tLabel, 700, 500)\n",
    "# denominator.Draw('histe')\n",
    "# numerator.Draw('histe same')\n",
    "test.Draw()\n",
    "canvas[tLabel].Draw()\n"
   ]
  },
  {
   "cell_type": "code",
   "execution_count": 2,
   "metadata": {},
   "outputs": [
    {
     "name": "stdout",
     "output_type": "stream",
     "text": [
      "Welcome to JupyROOT 6.18/00\n"
     ]
    }
   ],
   "source": []
  },
  {
   "cell_type": "code",
   "execution_count": 105,
   "metadata": {},
   "outputs": [],
   "source": [
    "effPlots = {}\n",
    "axis = {}\n",
    "\n",
    "def plotTriggerEfficiency( sample, triggerDenom, triggerPass, triggerScale, name, xlabel, \\\n",
    "                              xmin=0, xmax=1000, rebin=1, log=False, ext='png'):\n",
    "\n",
    "    outputFileName = name+'_'+sample+'_TriggerEfficiency.'+ext\n",
    "    print( 'Processing....... '+outputFileName )\n",
    "\n",
    "    Denom = DenomOnly = triggerDenom #.Rebin(rebin)\n",
    "#     PassingOnly.Scale( triggerScale )\n",
    "    Passing = PassingOnly = triggerPass #.Rebin( rebin )\n",
    "    print( Denom, Passing )\n",
    "    effPlots[name+sample+'eff'] = ROOT.TGraphAsymmErrors( Passing, Denom, 'cp'  )\n",
    "    #effPlots[name+sample+'eff']= TEfficiency( Passing, Denom )\n",
    "    binWidth = DenomOnly.GetBinWidth(1)\n",
    "\n",
    "    legend= ROOT.TLegend(0.50,0.75,0.90,0.90)\n",
    "    legend.SetFillStyle(0)\n",
    "    legend.SetTextSize(0.04)\n",
    "\n",
    "    DenomOnly.SetLineWidth(2)\n",
    "    DenomOnly.SetLineColor(ROOT.kRed-4)\n",
    "    PassingOnly.SetLineWidth(2)\n",
    "    PassingOnly.SetLineColor(ROOT.kBlue-4)\n",
    "\n",
    "#     canvas[name+sample+'full'] = ROOT.TCanvas(name+sample+'full', name+sample+'full',  10, 10, 750, 750 )\n",
    "#     pad1 = ROOT.TPad(\"pad1\", \"Histo\",0,0.46,1.00,1.00,-1)\n",
    "#     pad2 = ROOT.TPad(\"pad2\", \"Efficiency\",0,0.00,1.00,0.531,-1);\n",
    "#     pad2.Draw()\n",
    "#     pad1.Draw()\n",
    "\n",
    "\n",
    "#     pad1.cd()\n",
    "#     if log: pad1.SetLogy()\n",
    "\n",
    "#     legend.AddEntry( DenomOnly, 'SingleMu trigger', 'l' )\n",
    "#     legend.AddEntry( PassingOnly, name, 'l' )\n",
    "#     #DenomOnly.SetMinimum(10)\n",
    "#     DenomOnly.GetXaxis().SetRangeUser( xmin, xmax )\n",
    "#     DenomOnly.Draw('histe')\n",
    "#     DenomOnly.GetYaxis().SetTitleSize(0.06)\n",
    "#     DenomOnly.GetYaxis().SetTitleOffset(0.8)\n",
    "#     DenomOnly.GetYaxis().SetLabelSize(0.06)\n",
    "#     DenomOnly.GetXaxis().SetTitleOffset(0.8)\n",
    "#     DenomOnly.GetXaxis().SetTitleSize(0.06)\n",
    "#     DenomOnly.GetXaxis().SetLabelSize(0.05)\n",
    "#     PassingOnly.Draw('histe same')\n",
    "#     DenomOnly.GetYaxis().SetTitle( 'Events / '+str(binWidth) )\n",
    "\n",
    "#     CMS_lumi.CMS_lumi(pad1, 4, 0)\n",
    "#     legend.Draw()\n",
    "\n",
    "#     pad2.cd()\n",
    "#     pad2.SetTopMargin(0)\n",
    "#     pad2.SetBottomMargin(0.3)\n",
    "#     effPlots[name+sample+'eff'].SetMarkerStyle(8)\n",
    "#     effPlots[name+sample+'eff'].SetLineWidth(2)\n",
    "#     effPlots[name+sample+'eff'].SetLineColor(ROOT.kBlue-4)\n",
    "#     effPlots[name+sample+'eff'].SetFillStyle(1001)\n",
    "#     effPlots[name+sample+'eff'].GetYaxis().SetTitle(\"Efficiency\")\n",
    "#     effPlots[name+sample+'eff'].GetYaxis().SetLabelSize(0.06)\n",
    "#     effPlots[name+sample+'eff'].GetXaxis().SetLabelSize(0.06)\n",
    "#     effPlots[name+sample+'eff'].GetYaxis().SetTitleSize(0.06)\n",
    "#     effPlots[name+sample+'eff'].GetYaxis().SetTitleOffset(0.8)\n",
    "#     effPlots[name+sample+'eff'].SetMinimum(-0.1)\n",
    "#     effPlots[name+sample+'eff'].SetMaximum(1.1)\n",
    "#     effPlots[name+sample+'eff'].GetXaxis().SetLimits( xmin, xmax )\n",
    "#     effPlots[name+sample+'eff'].GetXaxis().SetTitle( xlabel )\n",
    "#     effPlots[name+sample+'eff'].Draw()\n",
    "\n",
    "#     #can.SaveAs( 'Plots/'+outputFileName.replace('.','Extended.') )\n",
    "#     canvas[name+sample+'full'].Draw()\n",
    "\n",
    "    #### Fitting\n",
    "    #errF = TF1('errF', '0.5*(1+TMath::Erf((x-[0])/[1]))', 500, 1500 )\n",
    "    #errF = TF1('errF', '0.5*(1+TMath::Erf(([0]*x-[1])/[2]))', 400, 1000 )  ## HT\n",
    "    #errF = TF1('errF', '0.5*(1+TMath::Erf(([0]*x-[1])/[2]))', 0, 100 )  ## Mass\n",
    "    #effPlots[name+sample+'eff'].SetStatisticOption(TeffPlots[name+sample+'eff'].kFWilson)\n",
    "    #for i in range(5): eff.Fit(errF, '+')\n",
    "    #for i in range(5): effPlots[name+sample+'eff'].Fit('errF', 'MIR')\n",
    "    #print '&'*10, '900', errF.Eval(900)\n",
    "    #print '&'*10, '1000', errF.Eval(1000)\n",
    "    \n",
    "    ROOT.gStyle.SetOptFit(1)\n",
    "    canvas[name+sample+'effOnly'] = ROOT.TCanvas(name+sample+'effOnly', name+sample+'effOnly',  10, 10, 750, 500 )\n",
    "\n",
    "    \n",
    "    \n",
    "    effPlots[name+sample+'eff'].SetMarkerStyle(8)\n",
    "    effPlots[name+sample+'eff'].SetMarkerColor(ROOT.kGray)\n",
    "    effPlots[name+sample+'eff'].SetMinimum(-0.15)\n",
    "    #effPlots[name+sample+'eff'].SetMinimum(0.8)\n",
    "    effPlots[name+sample+'eff'].SetMaximum(1.15)\n",
    "    effPlots[name+sample+'eff'].GetXaxis().SetTitle( xlabel )\n",
    "    effPlots[name+sample+'eff'].GetYaxis().SetLabelSize(0.05)\n",
    "    effPlots[name+sample+'eff'].GetXaxis().SetLabelSize(0.05)\n",
    "    effPlots[name+sample+'eff'].GetYaxis().SetTitleSize(0.06)\n",
    "    effPlots[name+sample+'eff'].GetYaxis().SetTitleOffset(0.8)\n",
    "    effPlots[name+sample+'eff'].GetXaxis().SetTitleOffset(0.8)\n",
    "    #effPlots[name+sample+'eff'].GetXaxis().SetLimits( 400, 1200 )\n",
    "    #effPlots[name+sample+'eff'].GetXaxis().SetLimits( 700, 1050 )\n",
    "    effPlots[name+sample+'eff'].GetXaxis().SetLimits( xmin, xmax )\n",
    "    effPlots[name+sample+'eff'].Draw('AP')\n",
    "\n",
    "    rightmax = DenomOnly.GetMaximum()\n",
    "    rightmin = DenomOnly.GetMinimum()\n",
    "    scale = ROOT.gPad.GetUymax()/rightmax\n",
    "    DenomOnly.SetLineColor(ROOT.kBlue-5)\n",
    "    DenomOnly.Scale( scale )\n",
    "    DenomOnly.Draw( 'hist same' )\n",
    "    #axis = TGaxis( gPad.GetUxmax(), gPad.GetUymin(), gPad.GetUxmax(), gPad.GetUymax(),-3,rightmax,710,\"+L\")\n",
    "    axis[name+sample+'axis'] = ROOT.TGaxis( ROOT.gPad.GetUxmax(), ROOT.gPad.GetUymin(), ROOT.gPad.GetUxmax(), ROOT.gPad.GetUymax(),rightmin,rightmax,510,\"+L\")\n",
    "#     axis[name+sample+'axis'].SetTitle('Events / '+str(binWidth) )\n",
    "#     axis[name+sample+'axis'].SetTitleColor(ROOT.kBlue-5)\n",
    "#     axis[name+sample+'axis'].SetTitleSize(0.06)\n",
    "#     axis[name+sample+'axis'].SetLabelSize(0.05)\n",
    "#     axis[name+sample+'axis'].SetTitleFont(42)\n",
    "#     axis[name+sample+'axis'].SetLabelFont(42)\n",
    "    axis[name+sample+'axis'].SetLineColor(ROOT.kBlue-5)\n",
    "    axis[name+sample+'axis'].SetLabelColor(ROOT.kBlue-5)\n",
    "#     axis[name+sample+'axis'].SetTitleOffset(0.7)\n",
    "    axis[name+sample+'axis'].Draw('same')\n",
    "\n",
    "    \n",
    "    \n",
    "    '''\n",
    "    errF.SetLineColor(kRed)\n",
    "    errF.SetLineWidth(2)\n",
    "    errF.Draw('sames')\n",
    "    can1.Update()\n",
    "    st1 = effPlots[name+sample+'eff'].GetListOfFunctions().FindObject(\"stats\")\n",
    "    st1.SetX1NDC(.60);\n",
    "    st1.SetX2NDC(.90);\n",
    "    st1.SetY1NDC(.20);\n",
    "    st1.SetY2NDC(.50);\n",
    "    #\t#eff.Draw(\"same\")\n",
    "    can1.Modified()\n",
    "    '''\n",
    "\n",
    "\n",
    "    CMS_lumi.relPosX = 0.11\n",
    "    CMS_lumi.cmsTextSize = 0.7\n",
    "    CMS_lumi.extraOverCmsTextSize = 0.6\n",
    "    CMS_lumi.CMS_lumi(canvas[name+sample+'effOnly'], 4, 0)\n",
    "\n",
    "    canvas[name+sample+'effOnly'].Draw()\n",
    "    canvas[name+sample+'effOnly'].SaveAs( outputFileName )\n",
    "\n",
    "#    return Efficiency\n"
   ]
  },
  {
   "cell_type": "code",
   "execution_count": 106,
   "metadata": {
    "scrolled": false
   },
   "outputs": [
    {
     "name": "stdout",
     "output_type": "stream",
     "text": [
      "43839.0 20.0\n",
      "Processing....... triggerAK8PFJet450_SingleMuon_TriggerEfficiency.png\n",
      "Name: SingleMuon_Run2017C_basetrigger_pt Title: entries NbinsX: 100 Name: SingleMuon_Run2017C_triggerAK8PFJet140_pt Title: entries NbinsX: 100\n"
     ]
    },
    {
     "name": "stderr",
     "output_type": "stream",
     "text": [
      "Warning in <TGraphAsymmErrors::Divide>: Number of graph points is different than histogram bins - 19 points have been skipped\n",
      "Warning in <TCanvas::Constructor>: Deleting canvas with same name: triggerAK8PFJet450SingleMuoneffOnly\n",
      "Info in <TCanvas::Print>: png file triggerAK8PFJet450_SingleMuon_TriggerEfficiency.png has been created\n"
     ]
    },
    {
     "data": {
      "text/html": [
       "\n",
       "<div id=\"root_plot_48\"\n",
       "     style=\"width: 746px; height: 472px\">\n",
       "</div>\n",
       "\n",
       "<script>\n",
       " requirejs.config({\n",
       "     paths: {\n",
       "       'JSRootCore' : 'https://root.cern.ch/js/notebook//scripts/JSRootCore',\n",
       "     }\n",
       "   });\n",
       " require(['JSRootCore'],\n",
       "     function(Core) {\n",
       "       var obj = Core.JSONR_unref({\"_typename\":\"TCanvas\",\"fUniqueID\":0,\"fBits\":53673992,\"fLineColor\":1,\"fLineStyle\":1,\"fLineWidth\":1,\"fFillColor\":0,\"fFillStyle\":1001,\"fLeftMargin\":0.1,\"fRightMargin\":0.1,\"fBottomMargin\":0.1,\"fTopMargin\":0.1,\"fXfile\":2,\"fYfile\":2,\"fAfile\":1,\"fXstat\":0.99,\"fYstat\":0.99,\"fAstat\":2,\"fFrameFillColor\":0,\"fFrameLineColor\":1,\"fFrameFillStyle\":1001,\"fFrameLineStyle\":1,\"fFrameLineWidth\":1,\"fFrameBorderSize\":1,\"fFrameBorderMode\":0,\"fX1\":99.999992549419,\"fY1\":-0.312500012107194,\"fX2\":1100.00000745058,\"fY2\":1.31250001210719,\"fXtoAbsPixelk\":-74.5999433302399,\"fXtoPixelk\":-74.5999433302399,\"fXtoPixel\":0.745999988883733,\"fYtoAbsPixelk\":381.230817066662,\"fYtoPixelk\":381.230817066662,\"fYtoPixel\":-290.461534133324,\"fUtoAbsPixelk\":5e-5,\"fUtoPixelk\":5e-5,\"fUtoPixel\":746,\"fVtoAbsPixelk\":472.00005,\"fVtoPixelk\":472,\"fVtoPixel\":-472,\"fAbsPixeltoXk\":99.999992549419,\"fPixeltoXk\":99.999992549419,\"fPixeltoX\":1.34048259370129,\"fAbsPixeltoYk\":1.31250001210719,\"fPixeltoYk\":-0.312500012107194,\"fPixeltoY\":-0.00344279666147116,\"fXlowNDC\":0,\"fYlowNDC\":0,\"fXUpNDC\":0,\"fYUpNDC\":0,\"fWNDC\":1,\"fHNDC\":1,\"fAbsXlowNDC\":0,\"fAbsYlowNDC\":0,\"fAbsWNDC\":1,\"fAbsHNDC\":1,\"fUxmin\":200,\"fUymin\":-0.15,\"fUxmax\":1000,\"fUymax\":1.15,\"fTheta\":30,\"fPhi\":30,\"fAspectRatio\":0,\"fNumber\":0,\"fTickx\":0,\"fTicky\":0,\"fLogx\":0,\"fLogy\":0,\"fLogz\":0,\"fPadPaint\":0,\"fCrosshair\":0,\"fCrosshairPos\":0,\"fBorderSize\":2,\"fBorderMode\":0,\"fModified\":false,\"fGridx\":false,\"fGridy\":false,\"fAbsCoord\":false,\"fEditable\":true,\"fFixedAspectRatio\":false,\"fPrimitives\":{\"_typename\":\"TList\",\"name\":\"TList\",\"arr\":[{\"_typename\":\"TFrame\",\"fUniqueID\":0,\"fBits\":50331656,\"fLineColor\":1,\"fLineStyle\":1,\"fLineWidth\":1,\"fFillColor\":0,\"fFillStyle\":1001,\"fX1\":200,\"fY1\":-0.15,\"fX2\":1000,\"fY2\":1.15,\"fBorderSize\":1,\"fBorderMode\":0},{\"_typename\":\"TGraphAsymmErrors\",\"fUniqueID\":0,\"fBits\":50332680,\"fName\":\"divide_SingleMuon_Run2017C_triggerAK8PFJet140_pt_by_SingleMuon_Run2017C_basetrigger_pt\",\"fTitle\":\"entries\",\"fLineColor\":602,\"fLineStyle\":1,\"fLineWidth\":1,\"fFillColor\":0,\"fFillStyle\":1001,\"fMarkerColor\":920,\"fMarkerStyle\":8,\"fMarkerSize\":1,\"fNpoints\":81,\"fX\":[195,205,215,225,235,245,255,265,275,285,295,305,315,325,335,345,355,365,375,385,395,405,415,425,435,445,455,465,475,485,495,505,515,525,535,545,555,565,575,585,595,605,615,625,635,645,655,665,675,685,695,705,715,725,735,745,755,765,775,785,795,805,815,825,835,845,855,865,875,885,895,905,915,925,935,945,955,965,975,985,995],\"fY\":[0,0,0,0.00217548948513416,0,0,0.00305498981670061,0,0,0,4.91642084562439e-4,5.53709856035437e-4,0,5.74382538770821e-4,0.001185536455246,0,6.81198910081744e-4,7.02247191011236e-4,7.72200772200772e-4,0,0,0,0.00107066381156317,0,0,0.00137362637362637,0,0,0.00178890876565295,0,0,0,0,0,0,0,0,0,0,0,0,0,0,0,0,0,0,0,0,0,0,0,0,0,0,0,0,0,0,0,0,0,0,0,0,0,0,0,0,0,0,0,0,0,0,0,0,0,0,0,0],\"fFunctions\":{\"_typename\":\"TList\",\"name\":\"TList\",\"arr\":[],\"opt\":[]},\"fHistogram\":{\"_typename\":\"TH1F\",\"fUniqueID\":0,\"fBits\":50332168,\"fName\":\"divide_SingleMuon_Run2017C_triggerAK8PFJet140_pt_by_SingleMuon_Run2017C_basetrigger_pt\",\"fTitle\":\"entries\",\"fLineColor\":602,\"fLineStyle\":1,\"fLineWidth\":1,\"fFillColor\":0,\"fFillStyle\":1001,\"fMarkerColor\":1,\"fMarkerStyle\":1,\"fMarkerSize\":1,\"fNcells\":102,\"fXaxis\":{\"_typename\":\"TAxis\",\"fUniqueID\":0,\"fBits\":50331656,\"fName\":\"xaxis\",\"fTitle\":\"Leading jet pt [GeV]\",\"fNdivisions\":510,\"fAxisColor\":1,\"fLabelColor\":1,\"fLabelFont\":42,\"fLabelOffset\":0.005,\"fLabelSize\":0.05,\"fTickLength\":0.03,\"fTitleOffset\":0.8,\"fTitleSize\":0.035,\"fTitleColor\":1,\"fTitleFont\":42,\"fNbins\":100,\"fXmin\":200,\"fXmax\":1000,\"fXbins\":[],\"fFirst\":0,\"fLast\":0,\"fBits2\":0,\"fTimeDisplay\":false,\"fTimeFormat\":\"\",\"fLabels\":null,\"fModLabs\":null},\"fYaxis\":{\"_typename\":\"TAxis\",\"fUniqueID\":0,\"fBits\":50331656,\"fName\":\"yaxis\",\"fTitle\":\"\",\"fNdivisions\":510,\"fAxisColor\":1,\"fLabelColor\":1,\"fLabelFont\":42,\"fLabelOffset\":0.005,\"fLabelSize\":0.05,\"fTickLength\":0.03,\"fTitleOffset\":0.8,\"fTitleSize\":0.06,\"fTitleColor\":1,\"fTitleFont\":42,\"fNbins\":1,\"fXmin\":0,\"fXmax\":0.290652378213483,\"fXbins\":[],\"fFirst\":0,\"fLast\":0,\"fBits2\":0,\"fTimeDisplay\":false,\"fTimeFormat\":\"\",\"fLabels\":null,\"fModLabs\":null},\"fZaxis\":{\"_typename\":\"TAxis\",\"fUniqueID\":0,\"fBits\":50331648,\"fName\":\"zaxis\",\"fTitle\":\"\",\"fNdivisions\":510,\"fAxisColor\":1,\"fLabelColor\":1,\"fLabelFont\":42,\"fLabelOffset\":0.005,\"fLabelSize\":0.035,\"fTickLength\":0.03,\"fTitleOffset\":1,\"fTitleSize\":0.035,\"fTitleColor\":1,\"fTitleFont\":42,\"fNbins\":1,\"fXmin\":0,\"fXmax\":1,\"fXbins\":[],\"fFirst\":0,\"fLast\":0,\"fBits2\":0,\"fTimeDisplay\":false,\"fTimeFormat\":\"\",\"fLabels\":null,\"fModLabs\":null},\"fBarOffset\":0,\"fBarWidth\":1000,\"fEntries\":0,\"fTsumw\":0,\"fTsumw2\":0,\"fTsumwx\":0,\"fTsumwx2\":0,\"fMaximum\":1.15,\"fMinimum\":-0.15,\"fNormFactor\":0,\"fContour\":[],\"fSumw2\":[],\"fOption\":\"\",\"fFunctions\":{\"_typename\":\"TList\",\"name\":\"TList\",\"arr\":[],\"opt\":[]},\"fBufferSize\":0,\"fBuffer\":[],\"fBinStatErrOpt\":0,\"fStatOverflows\":2,\"fArray\":[0,0,0,0,0,0,0,0,0,0,0,0,0,0,0,0,0,0,0,0,0,0,0,0,0,0,0,0,0,0,0,0,0,0,0,0,0,0,0,0,0,0,0,0,0,0,0,0,0,0,0,0,0,0,0,0,0,0,0,0,0,0,0,0,0,0,0,0,0,0,0,0,0,0,0,0,0,0,0,0,0,0,0,0,0,0,0,0,0,0,0,0,0,0,0,0,0,0,0,0,0,0]},\"fMinimum\":-0.15,\"fMaximum\":1.15,\"fEXlow\":[5,5,5,5,5,5,5,5,5,5,5,5,5,5,5,5,5,5,5,5,5,5,5,5,5,5,5,5,5,5,5,5,5,5,5,5,5,5,5,5,5,5,5,5,5,5,5,5,5,5,5,5,5,5,5,5,5,5,5,5,5,5,5,5,5,5,5,5,5,5,5,5,5,5,5,5,5,5,5,5,5],\"fEXhigh\":[5,5,5,5,5,5,5,5,5,5,5,5,5,5,5,5,5,5,5,5,5,5,5,5,5,5,5,5,5,5,5,5,5,5,5,5,5,5,5,5,5,5,5,5,5,5,5,5,5,5,5,5,5,5,5,5,5,5,5,5,5,5,5,5,5,5,5,5,5,5,5,5,5,5,5,5,5,5,5,5,5],\"fEYlow\":[0,0,0,0.00118374962806496,0,0,0.00121112939186515,0,0,0,4.06712663234769e-4,4.58058960761482e-4,0,4.75160707404569e-4,7.65710300196359e-4,0,5.63526148081092e-4,5.80938693426363e-4,6.38809068102619e-4,0,0,0,8.85719696323728e-4,0,0,0.00113635537983179,0,0,0.00147991576423189,0,0,0,0,0,0,0,0,0,0,0,0,0,0,0,0,0,0,0,0,0,0,0,0,0,0,0,0,0,0,0,0,0,0,0,0,0,0,0,0,0,0,0,0,0,0,0,0,0,0,0,0],\"fEYhigh\":[0.0182417836272893,0.00446935397781634,0.00210421511694679,0.00211162124992201,0.00118628590584324,0.0010279749836341,0.00182021280913779,9.36944522755357e-4,9.28439391619517e-4,9.21007866418632e-4,0.00112962732007548,0.00127210777908658,0.00101662191982681,0.00131955673502795,0.00156149065785626,0.0011652620647436,0.00156467530563113,0.0016129659855126,0.00177343506763192,0.00153428603559457,0.00163222604632058,0.00182836789188973,0.00245767384267027,0.00209463876255939,0.00237575435459728,0.00315153802301304,0.00271969969771612,0.00285908020970852,0.00410151550161021,0.00331762823264387,0.00368262457869756,0.00440518857908895,0.00456918519964283,0.00478285275862511,0.00549687742939858,0.00639417923724453,0.00667226509034262,0.00708298823741733,0.008221717719461,0.00739598844489165,0.00877003293206262,0.0113697868748757,0.0108986369562851,0.01052480667886,0.011584413659353,0.0129720196839426,0.012791758234401,0.0180628130465112,0.0169020272521436,0.0158814227647033,0.0227499963387715,0.0236258074241306,0.0207033807885412,0.0224723120781868,0.0297297933358672,0.0312432712189071,0.0292573651782982,0.0409781316010068,0.0341398789237802,0.03478486281645,0.0738408910803759,0.0485397238305492,0.0512411463721985,0.0419108595567889,0.0709947284972286,0.0595223440638972,0.0576587369394201,0.0923494906334009,0.0802770559325042,0.0738408910803759,0.0879414416485934,0.0879414416485934,0.132046423993932,0.102637515420034,0.102637515420034,0.0972223406286151,0.184992497739924,0.154109706155818,0.20556785742921,0.26422943473953,0.132046423993932]},{\"_typename\":\"TH1D\",\"fUniqueID\":0,\"fBits\":50331656,\"fName\":\"SingleMuon_Run2017C_basetrigger_pt\",\"fTitle\":\"entries\",\"fLineColor\":595,\"fLineStyle\":1,\"fLineWidth\":2,\"fFillColor\":0,\"fFillStyle\":1001,\"fMarkerColor\":1,\"fMarkerStyle\":1,\"fMarkerSize\":1,\"fNcells\":102,\"fXaxis\":{\"_typename\":\"TAxis\",\"fUniqueID\":0,\"fBits\":50331648,\"fName\":\"pt\",\"fTitle\":\"Leading jet $p^{T}$ [GeV]\",\"fNdivisions\":510,\"fAxisColor\":1,\"fLabelColor\":1,\"fLabelFont\":42,\"fLabelOffset\":0.005,\"fLabelSize\":0.035,\"fTickLength\":0.03,\"fTitleOffset\":1,\"fTitleSize\":0.035,\"fTitleColor\":1,\"fTitleFont\":42,\"fNbins\":100,\"fXmin\":0,\"fXmax\":1000,\"fXbins\":[],\"fFirst\":0,\"fLast\":0,\"fBits2\":0,\"fTimeDisplay\":false,\"fTimeFormat\":\"\",\"fLabels\":null,\"fModLabs\":null},\"fYaxis\":{\"_typename\":\"TAxis\",\"fUniqueID\":0,\"fBits\":50331648,\"fName\":\"yaxis\",\"fTitle\":\"\",\"fNdivisions\":510,\"fAxisColor\":1,\"fLabelColor\":1,\"fLabelFont\":42,\"fLabelOffset\":0.005,\"fLabelSize\":0.035,\"fTickLength\":0.03,\"fTitleOffset\":0,\"fTitleSize\":0.035,\"fTitleColor\":1,\"fTitleFont\":42,\"fNbins\":1,\"fXmin\":0,\"fXmax\":1,\"fXbins\":[],\"fFirst\":0,\"fLast\":0,\"fBits2\":0,\"fTimeDisplay\":false,\"fTimeFormat\":\"\",\"fLabels\":null,\"fModLabs\":null},\"fZaxis\":{\"_typename\":\"TAxis\",\"fUniqueID\":0,\"fBits\":50331648,\"fName\":\"zaxis\",\"fTitle\":\"\",\"fNdivisions\":510,\"fAxisColor\":1,\"fLabelColor\":1,\"fLabelFont\":42,\"fLabelOffset\":0.005,\"fLabelSize\":0.035,\"fTickLength\":0.03,\"fTitleOffset\":1,\"fTitleSize\":0.035,\"fTitleColor\":1,\"fTitleFont\":42,\"fNbins\":1,\"fXmin\":0,\"fXmax\":1,\"fXbins\":[],\"fFirst\":0,\"fLast\":0,\"fBits2\":0,\"fTimeDisplay\":false,\"fTimeFormat\":\"\",\"fLabels\":null,\"fModLabs\":null},\"fBarOffset\":0,\"fBarWidth\":1000,\"fEntries\":43839,\"fTsumw\":43839,\"fTsumw2\":43839,\"fTsumwx\":15918445,\"fTsumwx2\":6443873575,\"fMaximum\":-1111,\"fMinimum\":-1111,\"fNormFactor\":0,\"fContour\":[],\"fSumw2\":[0,0,0,0,0,0,0,0,0,0,0,0,0,0,0,0,0,0,0,0,2.417119393129e-5,9.93436070576019e-5,2.11256234959475e-4,3.33320764312489e-4,3.74895217874308e-4,4.32664371370091e-4,4.74722248810536e-4,4.74722248810536e-4,4.79073063718168e-4,4.82940454747174e-4,4.91642084562439e-4,4.36531762399097e-4,4.37498610156349e-4,4.20820486343759e-4,4.07768041620862e-4,3.81663152175069e-4,3.54833126911337e-4,3.4419780158157e-4,3.13016961410206e-4,2.89812615236167e-4,2.72409355605638e-4,2.43162210948777e-4,2.25758951318249e-4,2.12223082716726e-4,1.87085041028185e-4,1.75966291819791e-4,1.6339727097552e-4,1.55420776978195e-4,1.35116974075911e-4,1.33908414379347e-4,1.20614257717137e-4,1.00793878693479e-4,9.71681996037858e-5,9.28173846961536e-5,8.07317877305086e-5,6.93713265828023e-5,6.64707833110475e-5,6.26033922820411e-5,5.39017624667767e-5,5.99445609495992e-5,5.05177953163961e-5,3.89156222293769e-5,4.06076058045672e-5,4.20578774404446e-5,3.81904864114382e-5,3.40813834431189e-5,3.45648073217447e-5,2.44129058706029e-5,2.61048894457932e-5,2.77968730209835e-5,1.9336955145032e-5,1.86118193270933e-5,2.12706506595352e-5,1.95786670843449e-5,1.47444282980869e-5,1.40192924801482e-5,1.49861402373998e-5,1.06353253297676e-5,1.28107327835837e-5,1.25690208442708e-5,5.8010865435096e-6,8.9433417545773e-6,8.4599178759515e-6,1.03936133904547e-5,6.0427984828225e-6,7.251358179387e-6,7.4930701186999e-6,4.5925268469451e-6,5.3176626648838e-6,5.8010865435096e-6,4.834238786258e-6,4.834238786258e-6,3.1422552110677e-6,4.1091029683193e-6,4.1091029683193e-6,4.3508149076322e-6,2.1754074538161e-6,2.6588313324419e-6,1.9336955145032e-6,1.4502716358774e-6,3.1422552110677e-6,3.72236386541866e-5],\"fOption\":\"\",\"fFunctions\":{\"_typename\":\"TList\",\"name\":\"TList\",\"arr\":[],\"opt\":[]},\"fBufferSize\":0,\"fBuffer\":[],\"fBinStatErrOpt\":0,\"fStatOverflows\":2,\"fArray\":[0,0,0,0,0,0,0,0,0,0,0,0,0,0,0,0,0,0,0,0,0.0491642084562439,0.202064896755162,0.429695181907571,0.677974434611603,0.762536873156342,0.880039331366765,0.965585054080629,0.965585054080629,0.974434611602753,0.982300884955752,1,0.887905604719764,0.889872173058014,0.855948869223206,0.829400196656834,0.776302851524091,0.72173058013766,0.700098328416913,0.636676499508358,0.589478859390364,0.554080629301868,0.494591937069813,0.459193706981318,0.431661750245821,0.380530973451327,0.357915437561455,0.332350049164208,0.316125860373648,0.274827925270403,0.272369714847591,0.245329400196657,0.205014749262537,0.1976401179941,0.188790560471976,0.164208456243854,0.14110127826942,0.135201573254671,0.127335299901672,0.109636184857424,0.121927236971485,0.10275319567355,0.0791543756145526,0.0825958702064897,0.0855457227138643,0.0776794493608653,0.0693215339233038,0.0703048180924287,0.0496558505408063,0.0530973451327434,0.0565388397246804,0.0393313667649951,0.0378564405113078,0.0432645034414946,0.0398230088495575,0.0299901671583088,0.0285152409046214,0.0304818092428712,0.0216322517207473,0.0260570304818092,0.0255653883972468,0.0117994100294985,0.0181907571288102,0.0172074729596853,0.0211406096361849,0.012291052114061,0.0147492625368732,0.0152409046214356,0.00934119960668633,0.0108161258603736,0.0117994100294985,0.00983284169124877,0.00983284169124877,0.0063913470993117,0.00835791543756146,0.00835791543756146,0.00884955752212389,0.00442477876106195,0.00540806293018682,0.00393313667649951,0.00294985250737463,0.0063913470993117,0.0757128810226155]},{\"_typename\":\"TGaxis\",\"fUniqueID\":0,\"fBits\":50331656,\"fLineColor\":595,\"fLineStyle\":1,\"fLineWidth\":1,\"fX1\":1,\"fY1\":0,\"fX2\":1,\"fY2\":1,\"fTextAngle\":0,\"fTextSize\":0.04,\"fTextAlign\":11,\"fTextColor\":1,\"fTextFont\":62,\"fWmin\":0,\"fWmax\":2034,\"fGridLength\":0,\"fTickSize\":0.03,\"fLabelOffset\":0.005,\"fLabelSize\":0.04,\"fTitleOffset\":1,\"fTitleSize\":0.04,\"fNdiv\":510,\"fLabelColor\":595,\"fLabelFont\":62,\"fNModLabs\":0,\"fChopt\":\"+L\",\"fName\":\"\",\"fTitle\":\"\",\"fTimeFormat\":\"\",\"fFunctionName\":\"\",\"fModLabs\":null},{\"_typename\":\"TLatex\",\"fUniqueID\":0,\"fBits\":50348041,\"fName\":\"\",\"fTitle\":\"20.1 fb^{-1}\",\"fTextAngle\":0,\"fTextSize\":0.06,\"fTextAlign\":31,\"fTextColor\":1,\"fTextFont\":42,\"fX\":0.899999998509884,\"fY\":0.919999998807907,\"fLineColor\":1,\"fLineStyle\":1,\"fLineWidth\":2,\"fLimitFactorSize\":3,\"fOriginSize\":0.0600000023841858},{\"_typename\":\"TLatex\",\"fUniqueID\":0,\"fBits\":50348041,\"fName\":\"\",\"fTitle\":\"CMS\",\"fTextAngle\":0,\"fTextSize\":0.07,\"fTextAlign\":11,\"fTextColor\":1,\"fTextFont\":61,\"fX\":0.100000001490116,\"fY\":0.919999998807907,\"fLineColor\":1,\"fLineStyle\":1,\"fLineWidth\":2,\"fLimitFactorSize\":3,\"fOriginSize\":0.04},{\"_typename\":\"TLatex\",\"fUniqueID\":0,\"fBits\":50348041,\"fName\":\"\",\"fTitle\":\"Preliminary\",\"fTextAngle\":0,\"fTextSize\":0.042,\"fTextAlign\":11,\"fTextColor\":1,\"fTextFont\":52,\"fX\":0.188000001162291,\"fY\":0.919999998807907,\"fLineColor\":1,\"fLineStyle\":1,\"fLineWidth\":2,\"fLimitFactorSize\":3,\"fOriginSize\":0.0419999994337559},{\"_typename\":\"TPaveText\",\"fUniqueID\":0,\"fBits\":50331657,\"fLineColor\":1,\"fLineStyle\":1,\"fLineWidth\":1,\"fFillColor\":0,\"fFillStyle\":0,\"fX1\":537.721178696638,\"fY1\":1.21500001707114,\"fX2\":662.278821303362,\"fY2\":1.30437501973473,\"fX1NDC\":0.437721179624665,\"fY1NDC\":0.940000003948808,\"fX2NDC\":0.562278820375335,\"fY2NDC\":0.995000004768372,\"fBorderSize\":0,\"fInit\":1,\"fShadowColor\":1,\"fCornerRadius\":0,\"fOption\":\"blNDC\",\"fName\":\"title\",\"fTextAngle\":0,\"fTextSize\":0,\"fTextAlign\":22,\"fTextColor\":1,\"fTextFont\":42,\"fLabel\":\"\",\"fLongest\":7,\"fMargin\":0.05,\"fLines\":{\"_typename\":\"TList\",\"name\":\"TList\",\"arr\":[{\"_typename\":\"TLatex\",\"fUniqueID\":0,\"fBits\":50331648,\"fName\":\"\",\"fTitle\":\"entries\",\"fTextAngle\":0,\"fTextSize\":0,\"fTextAlign\":0,\"fTextColor\":0,\"fTextFont\":0,\"fX\":0,\"fY\":0,\"fLineColor\":1,\"fLineStyle\":1,\"fLineWidth\":2,\"fLimitFactorSize\":3,\"fOriginSize\":0.0467500016093254}],\"opt\":[\"\"]}}],\"opt\":[\"\",\"ap\",\"hist same\",\"same\",\"\",\"\",\"\",\"blNDC\"]},\"fExecs\":null,\"fName\":\"triggerAK8PFJet450SingleMuoneffOnly\",\"fTitle\":\"triggerAK8PFJet450SingleMuoneffOnly\",\"fNumPaletteColor\":0,\"fNextPaletteColor\":0,\"fDISPLAY\":\"$DISPLAY\",\"fDoubleBuffer\":0,\"fRetained\":true,\"fXsizeUser\":0,\"fYsizeUser\":0,\"fXsizeReal\":20,\"fYsizeReal\":13.33333,\"fWindowTopX\":0,\"fWindowTopY\":0,\"fWindowWidth\":0,\"fWindowHeight\":0,\"fCw\":746,\"fCh\":472,\"fCatt\":{\"_typename\":\"TAttCanvas\",\"fXBetween\":2,\"fYBetween\":2,\"fTitleFromTop\":1.2,\"fXdate\":0.2,\"fYdate\":0.3,\"fAdate\":1},\"kMoveOpaque\":true,\"kResizeOpaque\":true,\"fHighLightColor\":2,\"fBatch\":true,\"kShowEventStatus\":false,\"kAutoExec\":true,\"kMenuBar\":true});\n",
       "       Core.draw(\"root_plot_48\", obj, \"\");\n",
       "     }\n",
       " );\n",
       "</script>\n"
      ],
      "text/plain": [
       "<IPython.core.display.HTML object>"
      ]
     },
     "metadata": {},
     "output_type": "display_data"
    }
   ],
   "source": [
    "denominator = histDict['SingleMuon_Run2017C_basetrigger_pt'].Clone()\n",
    "numerator = histDict['SingleMuon_Run2017C_triggerAK8PFJet140_pt'].Clone()\n",
    "print( denominator.Integral(), numerator.Integral())\n",
    "\n",
    "plotTriggerEfficiency( 'SingleMuon', denominator, numerator, 1, 'triggerAK8PFJet450', 'Leading jet pt [GeV]', \\\n",
    "                              xmin=200, xmax=1000, rebin=2)"
   ]
  },
  {
   "cell_type": "code",
   "execution_count": null,
   "metadata": {},
   "outputs": [],
   "source": []
  }
 ],
 "metadata": {
  "kernelspec": {
   "display_name": "Python 3",
   "language": "python",
   "name": "python3"
  },
  "language_info": {
   "codemirror_mode": {
    "name": "ipython",
    "version": 3
   },
   "file_extension": ".py",
   "mimetype": "text/x-python",
   "name": "python",
   "nbconvert_exporter": "python",
   "pygments_lexer": "ipython3",
   "version": "3.9.12"
  },
  "latex_envs": {
   "LaTeX_envs_menu_present": true,
   "autoclose": false,
   "autocomplete": true,
   "bibliofile": "biblio.bib",
   "cite_by": "apalike",
   "current_citInitial": 1,
   "eqLabelWithNumbers": true,
   "eqNumInitial": 1,
   "hotkeys": {
    "equation": "Ctrl-E",
    "itemize": "Ctrl-I"
   },
   "labels_anchors": false,
   "latex_user_defs": false,
   "report_style_numbering": false,
   "user_envs_cfg": false
  },
  "sparkconnect": {
   "bundled_options": [],
   "list_of_options": []
  }
 },
 "nbformat": 4,
 "nbformat_minor": 4
}
