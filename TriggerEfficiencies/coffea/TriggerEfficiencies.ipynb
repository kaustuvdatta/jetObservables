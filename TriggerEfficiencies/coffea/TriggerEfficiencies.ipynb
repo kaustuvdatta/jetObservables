{
 "cells": [
  {
   "cell_type": "code",
   "execution_count": 1,
   "metadata": {},
   "outputs": [],
   "source": [
    "import argparse\n",
    "import os\n",
    "import sys\n",
    "\n",
    "# ##### REMEMBER TO MANUALLY COPY THE PROXY TO YOUR CERNBOX FOLDER AND TO MODIFY THE NEXT LINE\n",
    "# os.environ['X509_USER_PROXY'] = '{}/tmp/x509up_u15148'.format(os.environ[\"HOME\"])\n",
    "# if os.path.isfile(os.environ['X509_USER_PROXY']): \n",
    "#     print(\"Found proxy at {}\".format(os.environ['X509_USER_PROXY']))\n",
    "# else: \n",
    "#     print(\"Failed to find proxy at {}\".format(os.environ['X509_USER_PROXY']))\n",
    "# os.environ['X509_CERT_DIR'] = '/cvmfs/cms.cern.ch/grid/etc/grid-security/certificates'\n",
    "# os.environ['X509_VOMS_DIR'] = '/cvmfs/cms.cern.ch/grid/etc/grid-security/vomsdir'"
   ]
  },
  {
   "cell_type": "code",
   "execution_count": 2,
   "metadata": {},
   "outputs": [],
   "source": [
    "import awkward1 as ak\n",
    "from coffea import processor, hist\n",
    "from coffea.analysis_objects import JaggedCandidateArray\n",
    "import numpy as np"
   ]
  },
  {
   "cell_type": "code",
   "execution_count": 4,
   "metadata": {},
   "outputs": [],
   "source": [
    "class Analyzer(processor.ProcessorABC):\n",
    "    \n",
    "    def __init__(self, ismc, year):\n",
    "        self.ismc = ismc\n",
    "        self.year = year\n",
    "        self.baseTriggers = {\n",
    "            '2016' : [ 'IsoMu24', 'IsoTkMu24'],\n",
    "            '2017' : [ 'IsoMu27' ],\n",
    "            '2018' : [ 'IsoMu24' ],\n",
    "        }\n",
    "        self.triggers = [ 'AK8PFJet140','AK8PFJet200', 'AK8PFJet260', 'AK8PFJet320', 'AK8PFJet400', 'AK8PFJet450', 'AK8PFJet500']\n",
    "                    \n",
    "        self._columns = [ 'FatJet_pt', 'FatJet_eta', 'FatJet_msoftdrop', 'FatJet_jetID' ] + [ 'HLT_'+t for t in self.triggers ]\n",
    "        self._accumulator = processor.dict_accumulator({\n",
    "            \"sumw\": processor.defaultdict_accumulator(float),\n",
    "            \n",
    "            \"jets\": hist.Hist(\n",
    "                \"entries\",\n",
    "                hist.Cat(\"dataset\", \"Dataset\"),\n",
    "                hist.Cat(\"selection\", \"Selection\"),\n",
    "                hist.Bin(\"pt\", r\"Leading jet $p^{T}$ [GeV]\", 100, 0, 1000),\n",
    "                hist.Bin(\"eta\", r\"Leading jet $\\eta$\", 10, -5, 5),\n",
    "                hist.Bin(\"mass\", r\"Leading jet softdrop mass [GeV]\", 51, 0, 500),\n",
    "            ),\n",
    "            'cutflow': hist.Hist(\n",
    "                'entries',\n",
    "                hist.Cat('dataset', 'Dataset'),\n",
    "                hist.Bin('cut', 'Cut index', 11, 0, 11),\n",
    "            ),\n",
    "\n",
    "        })\n",
    "\n",
    "    @property\n",
    "    def accumulator(self):\n",
    "        return self._accumulator\n",
    "    \n",
    "    @property\n",
    "    def columns(self):\n",
    "        return self._columns\n",
    "    \n",
    "\n",
    "    def process(self, events): #, parameters=parameters, samples_info={}, \\\n",
    "                #lumimask=None, cat=False, boosted=False, uncertainty=None, \\\n",
    "                #uncertaintyName=None, parametersName=None, extraCorrection=None):\n",
    "\n",
    "        dataset = events.metadata['dataset']\n",
    "        isRealData = 'genWeight' not in events.columns\n",
    "        selection = processor.PackedSelection()\n",
    "        weights = processor.Weights(len(events))\n",
    "        output = self.accumulator.identity()\n",
    "        \n",
    "        nEvents = events.size\n",
    "        run = events.run\n",
    "        luminosityBlock = events.luminosityBlock\n",
    "        #print(\"Processing %d %s events\" % (nEvents, dataset))\n",
    "\n",
    "        basetrigger = np.zeros(events.size, dtype='bool')\n",
    "        for t in self.baseTriggers[self.year]: basetrigger = basetrigger | events.HLT[t]\n",
    "        selection.add('basetrigger', basetrigger)\n",
    "        \n",
    "        dummyTriggerDict = {}\n",
    "        for it in self.triggers:\n",
    "            dummyTriggerDict[ it ] = np.zeros(events.size, dtype='bool')\n",
    "            dummyTriggerDict[ it ] = dummyTriggerDict[ it ] | events.HLT[it]\n",
    "            selection.add('trigger'+it, dummyTriggerDict[ it ])\n",
    "\n",
    "        fatjets = events.FatJet\n",
    "        candidatejet = fatjets[\n",
    "            (fatjets.pt > 200)\n",
    "            & (abs(fatjets.eta) < 2.5)\n",
    "            & fatjets.isTight  # this is loose in sampleContainer\n",
    "        ]\n",
    "        candidatejet = candidatejet[:, 0:1]\n",
    "        selection.add( 'njetsBasic', ( \n",
    "            (candidatejet.pt >= 200)\n",
    "            & (candidatejet.msoftdrop >= 40.)\n",
    "            & (abs(candidatejet.eta) < 2.5)\n",
    "        ).any() ) \n",
    "        \n",
    "        baseCuts = [ 'njetsBasic', 'basetrigger'  ] \n",
    "        triggerCuts = [ 'trigger'+i for i in self.triggers ]\n",
    "        \n",
    "#         allcuts = set()\n",
    "#         #output['cutflow'].fill(dataset=dataset, cut=0 )\n",
    "#         for i, cut in enumerate(cuts):\n",
    "#             allcuts.add(cut)\n",
    "#             cut = selection.all(*allcuts)\n",
    "#             output['cutflow'].fill(dataset=dataset, cut=i)\n",
    "\n",
    "        \n",
    "        def normalize(val, cut):\n",
    "            return val[cut].pad(1, clip=True).fillna(0).flatten()\n",
    "\n",
    "        allcuts = set()\n",
    "        for icut in baseCuts:\n",
    "            allcuts.add(icut)\n",
    "            jcut = selection.all(*allcuts)\n",
    "            output['jets'].fill(\n",
    "                dataset=dataset,\n",
    "                selection=icut,\n",
    "                pt=normalize(candidatejet.pt, jcut), \n",
    "                eta=normalize(candidatejet.eta, jcut), \n",
    "                mass=normalize(candidatejet.msoftdrop, jcut),\n",
    "#                 weight=weight,\n",
    "            )\n",
    "        \n",
    "        \n",
    "        \n",
    "        for icut in triggerCuts:\n",
    "            allcuts = set(baseCuts)\n",
    "            allcuts.add(icut)\n",
    "            jcut = selection.all(*allcuts)\n",
    "            output['jets'].fill(\n",
    "                dataset=dataset,\n",
    "                selection=icut,\n",
    "                pt=normalize(candidatejet.pt, jcut), \n",
    "                eta=normalize(candidatejet.eta, jcut), \n",
    "                mass=normalize(candidatejet.msoftdrop, jcut),\n",
    "#                 weight=weight,\n",
    "            )\n",
    "        \n",
    "        return output\n",
    "\n",
    "    def postprocess(self, accumulator):\n",
    "        return accumulator\n"
   ]
  },
  {
   "cell_type": "code",
   "execution_count": 5,
   "metadata": {},
   "outputs": [
    {
     "name": "stdout",
     "output_type": "stream",
     "text": [
      "Running uproot job...\n"
     ]
    },
    {
     "data": {
      "application/vnd.jupyter.widget-view+json": {
       "model_id": "7251b4ea18784397891d878a6a7c0214",
       "version_major": 2,
       "version_minor": 0
      },
      "text/plain": [
       "HBox(children=(FloatProgress(value=0.0, description='Processing', max=185.0, style=ProgressStyle(description_w…"
      ]
     },
     "metadata": {},
     "output_type": "display_data"
    },
    {
     "name": "stdout",
     "output_type": "stream",
     "text": [
      "\n"
     ]
    }
   ],
   "source": [
    "samples = {\n",
    "        'SingleMuon2017B': [\n",
    "            \"root://xrootd-cms.infn.it//store/data/Run2017B/SingleMuon/NANOAOD/UL2017_02Dec2019-v1/70000/BEFC25BC-02AE-724B-A0C8-E0F6F2CD97E4.root\",\n",
    "            \"root://xrootd-cms.infn.it//store/data/Run2017B/SingleMuon/NANOAOD/UL2017_02Dec2019-v1/70000/FC54AA3D-F3E3-8E47-904D-A1CF57776A03.root\",\n",
    "            \"root://xrootd-cms.infn.it//store/data/Run2017B/SingleMuon/NANOAOD/UL2017_02Dec2019-v1/70000/6328267C-BB6E-C74C-B0C4-FBDBA11A4A51.root\",\n",
    "            \"root://xrootd-cms.infn.it//store/data/Run2017B/SingleMuon/NANOAOD/UL2017_02Dec2019-v1/70000/A0D5A4D0-4D31-5E41-9372-6E456DD5359D.root\",\n",
    "            \"root://xrootd-cms.infn.it//store/data/Run2017B/SingleMuon/NANOAOD/UL2017_02Dec2019-v1/70000/F36842AE-0E88-384F-AB7D-F81304A5E7F6.root\",\n",
    "            \"root://xrootd-cms.infn.it//store/data/Run2017B/SingleMuon/NANOAOD/UL2017_02Dec2019-v1/70000/BEFC25BC-02AE-724B-A0C8-E0F6F2CD97E4.root\"\n",
    "        ],\n",
    "#         'tt semileptonic': [\n",
    "#             \"root://xrootd-cms.infn.it//store/user/algomez/tmpFiles/ttH/TTToSemiLeptonic_TuneCP5_13TeV-powheg-pythia8/TTToSemiLeptonic_nanoAODPostProcessor_2017_v03/200903_113849/0000/nano_postprocessed_97.root\"\n",
    "#         ]\n",
    "}\n",
    "\n",
    "print(\"Running uproot job...\")\n",
    "result = processor.run_uproot_job(\n",
    "        samples,\n",
    "        \"Events\",\n",
    "        Analyzer(ismc=False,year='2017'),\n",
    "        processor.futures_executor,\n",
    "        {\"nano\": True, \"workers\": 30},\n",
    "        chunksize=100000,\n",
    "        maxchunks=1000,\n",
    ")\n",
    "\n"
   ]
  },
  {
   "cell_type": "code",
   "execution_count": 3,
   "metadata": {},
   "outputs": [],
   "source": [
    "import matplotlib.pyplot as plt\n",
    "import mplhep as hep\n",
    "%matplotlib inline\n",
    "# plt.style.use(hep.style.ROOT)\n",
    "hep.set_style(\"CMS\")"
   ]
  },
  {
   "cell_type": "code",
   "execution_count": 10,
   "metadata": {},
   "outputs": [
    {
     "name": "stdout",
     "output_type": "stream",
     "text": [
      "{'sumw': defaultdict_accumulator(<class 'float'>, {}), 'jets': <Hist (dataset,selection,pt,eta,mass) instance at 0x7fc82a307510>, 'cutflow': <Hist (dataset,cut) instance at 0x7fc82a4d6e10>}\n"
     ]
    }
   ],
   "source": [
    "from coffea.util import load\n",
    "from coffea.hist import plot\n",
    "\n",
    "result = load('hists_None_trigger_sample_test.coffea')\n",
    "print(result)"
   ]
  },
  {
   "cell_type": "code",
   "execution_count": 8,
   "metadata": {
    "scrolled": false
   },
   "outputs": [
    {
     "ename": "ValueError",
     "evalue": "Plotting multiple histograms with different binning is not supported",
     "output_type": "error",
     "traceback": [
      "\u001b[0;31m---------------------------------------------------------------------------\u001b[0m",
      "\u001b[0;31mValueError\u001b[0m                                Traceback (most recent call last)",
      "\u001b[0;32m<ipython-input-8-bb5a2d9b9c73>\u001b[0m in \u001b[0;36m<module>\u001b[0;34m\u001b[0m\n\u001b[1;32m      1\u001b[0m \u001b[0mhep\u001b[0m\u001b[0;34m.\u001b[0m\u001b[0mcms\u001b[0m\u001b[0;34m.\u001b[0m\u001b[0mlabel\u001b[0m\u001b[0;34m(\u001b[0m\u001b[0mdata\u001b[0m\u001b[0;34m=\u001b[0m\u001b[0;32mTrue\u001b[0m\u001b[0;34m,\u001b[0m\u001b[0myear\u001b[0m\u001b[0;34m=\u001b[0m\u001b[0;34m'2017'\u001b[0m\u001b[0;34m)\u001b[0m\u001b[0;34m\u001b[0m\u001b[0;34m\u001b[0m\u001b[0m\n\u001b[1;32m      2\u001b[0m \u001b[0mtmpHist\u001b[0m \u001b[0;34m=\u001b[0m \u001b[0mresult\u001b[0m\u001b[0;34m[\u001b[0m\u001b[0;34m'jets'\u001b[0m\u001b[0;34m]\u001b[0m\u001b[0;34m.\u001b[0m\u001b[0mintegrate\u001b[0m\u001b[0;34m(\u001b[0m\u001b[0;34m'dataset'\u001b[0m\u001b[0;34m)\u001b[0m\u001b[0;34m.\u001b[0m\u001b[0msum\u001b[0m\u001b[0;34m(\u001b[0m\u001b[0;34m'eta'\u001b[0m\u001b[0;34m,\u001b[0m\u001b[0;34m'mass'\u001b[0m\u001b[0;34m)\u001b[0m\u001b[0;34m.\u001b[0m\u001b[0mrebin\u001b[0m\u001b[0;34m(\u001b[0m\u001b[0;34m\"pt\"\u001b[0m\u001b[0;34m,\u001b[0m \u001b[0mhist\u001b[0m\u001b[0;34m.\u001b[0m\u001b[0mBin\u001b[0m\u001b[0;34m(\u001b[0m\u001b[0;34m\"newpt\"\u001b[0m\u001b[0;34m,\u001b[0m \u001b[0;34m\"Leading jet pt [GeV]\"\u001b[0m\u001b[0;34m,\u001b[0m \u001b[0;36m45\u001b[0m\u001b[0;34m,\u001b[0m \u001b[0;36m100\u001b[0m\u001b[0;34m,\u001b[0m \u001b[0;36m1000\u001b[0m\u001b[0;34m)\u001b[0m\u001b[0;34m)\u001b[0m\u001b[0;34m\u001b[0m\u001b[0;34m\u001b[0m\u001b[0m\n\u001b[0;32m----> 3\u001b[0;31m \u001b[0ma\u001b[0m \u001b[0;34m=\u001b[0m \u001b[0mhist\u001b[0m\u001b[0;34m.\u001b[0m\u001b[0mplot1d\u001b[0m\u001b[0;34m(\u001b[0m\u001b[0mtmpHist\u001b[0m\u001b[0;34m)\u001b[0m\u001b[0;34m\u001b[0m\u001b[0;34m\u001b[0m\u001b[0m\n\u001b[0m\u001b[1;32m      4\u001b[0m \u001b[0ma\u001b[0m\u001b[0;34m.\u001b[0m\u001b[0mset_ylim\u001b[0m\u001b[0;34m(\u001b[0m\u001b[0;36m0\u001b[0m\u001b[0;34m,\u001b[0m\u001b[0;36m100\u001b[0m\u001b[0;34m)\u001b[0m\u001b[0;34m\u001b[0m\u001b[0;34m\u001b[0m\u001b[0m\n\u001b[1;32m      5\u001b[0m \u001b[0;31m# a.set_xlim(100,800)\u001b[0m\u001b[0;34m\u001b[0m\u001b[0;34m\u001b[0m\u001b[0;34m\u001b[0m\u001b[0m\n",
      "\u001b[0;32m~/miniconda2/envs/btv/lib/python3.7/site-packages/coffea/hist/plot.py\u001b[0m in \u001b[0;36mplot1d\u001b[0;34m(hist, ax, clear, overlay, stack, overflow, line_opts, fill_opts, error_opts, legend_opts, overlay_overflow, density, binwnorm, order)\u001b[0m\n\u001b[1;32m    258\u001b[0m                      \u001b[0myerr\u001b[0m\u001b[0;34m=\u001b[0m\u001b[0m_error\u001b[0m\u001b[0;34m,\u001b[0m \u001b[0mhisttype\u001b[0m\u001b[0;34m=\u001b[0m\u001b[0mhisttype\u001b[0m\u001b[0;34m,\u001b[0m \u001b[0max\u001b[0m\u001b[0;34m=\u001b[0m\u001b[0max\u001b[0m\u001b[0;34m,\u001b[0m\u001b[0;34m\u001b[0m\u001b[0;34m\u001b[0m\u001b[0m\n\u001b[1;32m    259\u001b[0m                      \u001b[0mdensity\u001b[0m\u001b[0;34m=\u001b[0m\u001b[0mdensity\u001b[0m\u001b[0;34m,\u001b[0m \u001b[0mbinwnorm\u001b[0m\u001b[0;34m=\u001b[0m\u001b[0mbinwnorm\u001b[0m\u001b[0;34m,\u001b[0m \u001b[0mstack\u001b[0m\u001b[0;34m=\u001b[0m\u001b[0mstack\u001b[0m\u001b[0;34m,\u001b[0m\u001b[0;34m\u001b[0m\u001b[0;34m\u001b[0m\u001b[0m\n\u001b[0;32m--> 260\u001b[0;31m                      **kwargs)\n\u001b[0m\u001b[1;32m    261\u001b[0m \u001b[0;34m\u001b[0m\u001b[0m\n\u001b[1;32m    262\u001b[0m         \u001b[0;32mif\u001b[0m \u001b[0mstack\u001b[0m \u001b[0;32mand\u001b[0m \u001b[0merror_opts\u001b[0m \u001b[0;32mis\u001b[0m \u001b[0;32mnot\u001b[0m \u001b[0;32mNone\u001b[0m\u001b[0;34m:\u001b[0m\u001b[0;34m\u001b[0m\u001b[0;34m\u001b[0m\u001b[0m\n",
      "\u001b[0;32m~/miniconda2/envs/btv/lib/python3.7/site-packages/mplhep/plot.py\u001b[0m in \u001b[0;36mhistplot\u001b[0;34m(H, bins, yerr, w2, stack, density, binwnorm, histtype, label, edges, binticks, ax, **kwargs)\u001b[0m\n\u001b[1;32m    164\u001b[0m             \u001b[0;32mif\u001b[0m \u001b[0mlen\u001b[0m\u001b[0;34m(\u001b[0m\u001b[0mset\u001b[0m\u001b[0;34m(\u001b[0m\u001b[0mmap\u001b[0m\u001b[0;34m(\u001b[0m\u001b[0mlen\u001b[0m\u001b[0;34m,\u001b[0m \u001b[0m_H\u001b[0m\u001b[0;34m)\u001b[0m\u001b[0;34m)\u001b[0m\u001b[0;34m)\u001b[0m \u001b[0;34m!=\u001b[0m \u001b[0;36m1\u001b[0m\u001b[0;34m:\u001b[0m\u001b[0;34m\u001b[0m\u001b[0;34m\u001b[0m\u001b[0m\n\u001b[1;32m    165\u001b[0m                 raise ValueError(\n\u001b[0;32m--> 166\u001b[0;31m                     \u001b[0;34m\"Plotting multiple histograms with different binning is not supported\"\u001b[0m\u001b[0;34m\u001b[0m\u001b[0;34m\u001b[0m\u001b[0m\n\u001b[0m\u001b[1;32m    167\u001b[0m                 )\n\u001b[1;32m    168\u001b[0m             \u001b[0mh\u001b[0m \u001b[0;34m=\u001b[0m \u001b[0mnp\u001b[0m\u001b[0;34m.\u001b[0m\u001b[0masarray\u001b[0m\u001b[0;34m(\u001b[0m\u001b[0m_H\u001b[0m\u001b[0;34m)\u001b[0m\u001b[0;34m.\u001b[0m\u001b[0mastype\u001b[0m\u001b[0;34m(\u001b[0m\u001b[0mfloat\u001b[0m\u001b[0;34m)\u001b[0m\u001b[0;34m\u001b[0m\u001b[0;34m\u001b[0m\u001b[0m\n",
      "\u001b[0;31mValueError\u001b[0m: Plotting multiple histograms with different binning is not supported"
     ]
    },
    {
     "data": {
      "image/png": "[encoded data removed]",
      "text/plain": [
       "<Figure size 720x720 with 1 Axes>"
      ]
     },
     "metadata": {
      "needs_background": "light"
     },
     "output_type": "display_data"
    }
   ],
   "source": [
    "hep.cms.label(data=True,year='2017')\n",
    "tmpHist = result['jets'].integrate('dataset').sum('eta','mass').rebin(\"pt\", hist.Bin(\"newpt\", \"Leading jet pt [GeV]\", 45, 100, 1000))\n",
    "a = hist.plot1d(tmpHist)\n",
    "a.set_ylim(0,100)\n",
    "# a.set_xlim(100,800)\n"
   ]
  },
  {
   "cell_type": "code",
   "execution_count": null,
   "metadata": {},
   "outputs": [],
   "source": [
    "newBin = hist.Bin(\"newpt\", \"Leading jet pt [GeV]\", 20, 100, 900)\n",
    "denominator = result['jets'].integrate('dataset').integrate('selection', ['basetrigger']).sum('eta','mass').rebin('pt', newBin)\n",
    "numerator = result['jets'].integrate('dataset').integrate('selection', ['triggerAK8PFJet450']).sum('eta','mass').rebin('pt', newBin)\n",
    "\n",
    "ax = hist.plotratio(\n",
    "    num=numerator,\n",
    "    denom=denominator,\n",
    "    error_opts={'color': 'k', 'marker': '.'},\n",
    "#     unc='num'\n",
    ")\n",
    "ax.set_ylim(-0.1,1.1)\n",
    "# ax.set_xlim(100,1000)"
   ]
  },
  {
   "cell_type": "code",
   "execution_count": null,
   "metadata": {},
   "outputs": [],
   "source": [
    "################## DOES NOT WORK\n",
    "\n",
    "\n",
    "#### Translate to root\n",
    "import ROOT\n",
    "%jsroot\n",
    "\n",
    "canvas = {} ### needed to plot several histos in a loop\n",
    "\n",
    "histDict = {}\n",
    "for ih in tmpHist.identifiers('selection'):\n",
    "    histDict[ih.name] = hist.export1d(tmpHist.integrate('selection', ih))\n",
    "    print(ih)\n",
    "print(histDict)"
   ]
  },
  {
   "cell_type": "code",
   "execution_count": null,
   "metadata": {},
   "outputs": [],
   "source": [
    "\n",
    "tLabel = 'triggerAK8PFJet500'\n",
    "\n",
    "denominator = histDict['basetrigger'].Clone()\n",
    "numerator = histDict[tLabel].Clone()\n",
    "\n",
    "canvas[tLabel] = ROOT.TCanvas( tLabel, tLabel, 500, 700)\n",
    "denominator.Draw('histe')\n",
    "numerator.Draw('histe same')\n",
    "canvas[tLabel].Draw()\n"
   ]
  },
  {
   "cell_type": "code",
   "execution_count": null,
   "metadata": {},
   "outputs": [],
   "source": [
    "hep.cms.label(data=True,year='2017')\n",
    "\n",
    "a = hist.plot1d(result['cutflow'] ) #, overlay='dataset')"
   ]
  },
  {
   "cell_type": "code",
   "execution_count": null,
   "metadata": {},
   "outputs": [],
   "source": [
    "import pyspark.sql\n",
    "from pyarrow.compat import guid\n",
    "from coffea.processor.spark.detail import _spark_initialize, _spark_stop\n",
    "from coffea.processor.spark.spark_executor import spark_executor\n",
    "\n",
    "partitionsize = 200000\n",
    "thread_workers = 10\n",
    "\n",
    "fileset = {\n",
    "    'SingleMuon2017B': {\n",
    "        'files': [\n",
    "            \"root://xrootd-cms.infn.it//store/data/Run2017B/SingleMuon/NANOAOD/UL2017_02Dec2019-v1/70000/BEFC25BC-02AE-724B-A0C8-E0F6F2CD97E4.root\",\n",
    "            \"root://xrootd-cms.infn.it//store/data/Run2017B/SingleMuon/NANOAOD/UL2017_02Dec2019-v1/70000/FC54AA3D-F3E3-8E47-904D-A1CF57776A03.root\",\n",
    "            \"root://xrootd-cms.infn.it//store/data/Run2017B/SingleMuon/NANOAOD/UL2017_02Dec2019-v1/70000/6328267C-BB6E-C74C-B0C4-FBDBA11A4A51.root\",\n",
    "            \"root://xrootd-cms.infn.it//store/data/Run2017B/SingleMuon/NANOAOD/UL2017_02Dec2019-v1/70000/A0D5A4D0-4D31-5E41-9372-6E456DD5359D.root\",\n",
    "            \"root://xrootd-cms.infn.it//store/data/Run2017B/SingleMuon/NANOAOD/UL2017_02Dec2019-v1/70000/F36842AE-0E88-384F-AB7D-F81304A5E7F6.root\",\n",
    "            \"root://xrootd-cms.infn.it//store/data/Run2017B/SingleMuon/NANOAOD/UL2017_02Dec2019-v1/70000/BEFC25BC-02AE-724B-A0C8-E0F6F2CD97E4.root\"\n",
    "        ],\n",
    "        'treename' : 'Events'\n",
    "    }\n",
    "#         'tt semileptonic': [\n",
    "#             \"root://xrootd-cms.infn.it//store/user/algomez/tmpFiles/ttH/TTToSemiLeptonic_TuneCP5_13TeV-powheg-pythia8/TTToSemiLeptonic_nanoAODPostProcessor_2017_v03/200903_113849/0000/nano_postprocessed_97.root\"\n",
    "#         ]\n",
    "}\n",
    "\n",
    "\n",
    "output = processor.run_spark_job(fileset, Analyzer(ismc=False,year='2017'), spark_executor, \n",
    "                                 spark=spark, partitionsize=partitionsize, thread_workers=thread_workers,\n",
    "                                 #executor_args={'file_type': 'edu.vanderbilt.accre.laurelin.Root', 'cache': False}\n",
    "                                )\n",
    "\n",
    "\n",
    "print(output)"
   ]
  },
  {
   "cell_type": "code",
   "execution_count": null,
   "metadata": {},
   "outputs": [],
   "source": []
  }
 ],
 "metadata": {
  "kernelspec": {
   "display_name": "Python 3",
   "language": "python",
   "name": "python3"
  },
  "language_info": {
   "codemirror_mode": {
    "name": "ipython",
    "version": 3
   },
   "file_extension": ".py",
   "mimetype": "text/x-python",
   "name": "python",
   "nbconvert_exporter": "python",
   "pygments_lexer": "ipython3",
   "version": "3.9.12"
  },
  "latex_envs": {
   "LaTeX_envs_menu_present": true,
   "autoclose": false,
   "autocomplete": true,
   "bibliofile": "biblio.bib",
   "cite_by": "apalike",
   "current_citInitial": 1,
   "eqLabelWithNumbers": true,
   "eqNumInitial": 1,
   "hotkeys": {
    "equation": "Ctrl-E",
    "itemize": "Ctrl-I"
   },
   "labels_anchors": false,
   "latex_user_defs": false,
   "report_style_numbering": false,
   "user_envs_cfg": false
  },
  "sparkconnect": {
   "bundled_options": [],
   "list_of_options": []
  }
 },
 "nbformat": 4,
 "nbformat_minor": 4
}
