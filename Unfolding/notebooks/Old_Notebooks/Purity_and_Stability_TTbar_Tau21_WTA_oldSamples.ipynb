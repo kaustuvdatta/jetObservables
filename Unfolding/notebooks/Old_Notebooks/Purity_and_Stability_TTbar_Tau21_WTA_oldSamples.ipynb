{
 "cells": [
  {
   "cell_type": "markdown",
   "metadata": {},
   "source": [
    "# Mapping the phase space of a jet"
   ]
  },
  {
   "cell_type": "markdown",
   "metadata": {},
   "source": [
    "## 1-D Unfolding  of $\\tau_{21}^{(1.)}$ measured with $E$-scheme recombination+exclusive $k_T$ axes and with WTA $k_T$ axes, with a purity&stability study for each observables' binning\n"
   ]
  },
  {
   "cell_type": "markdown",
   "metadata": {},
   "source": [
    "#### Firstly , import the ROOT data analysis framework which will be used to read the data files and unfold the final result. "
   ]
  },
  {
   "cell_type": "code",
   "execution_count": 44,
   "metadata": {},
   "outputs": [],
   "source": [
    "import ROOT\n",
    "import array as array\n",
    "import os\n",
    "import glob\n",
    "from ROOT import TH1D, TH2D, TTree,TFile\n",
    "from random import gauss\n",
    "import numpy as np\n",
    "import root_numpy as rtnpy\n",
    "from root_numpy import *\n",
    "import h5py\n",
    "from awkward import JaggedArray, Table\n",
    "import matplotlib.pyplot as plt\n",
    "import seaborn as sns\n",
    "ROOT.TH1.SetDefaultSumw2()\n",
    "\n"
   ]
  },
  {
   "cell_type": "code",
   "execution_count": 45,
   "metadata": {},
   "outputs": [],
   "source": [
    "%jsroot on"
   ]
  },
  {
   "cell_type": "code",
   "execution_count": 46,
   "metadata": {
    "scrolled": true
   },
   "outputs": [
    {
     "name": "stdout",
     "output_type": "stream",
     "text": [
      "2016 Single Muon dataset luminosity:35.92\n"
     ]
    }
   ],
   "source": [
    "lumi = 5.75+2.57+4.24+4.03+3.11+7.57+8.65 #B+C+D+E+F+G+H\n",
    "print \"2016 Single Muon dataset luminosity:%0.2f\"%(lumi)"
   ]
  },
  {
   "cell_type": "code",
   "execution_count": 47,
   "metadata": {},
   "outputs": [],
   "source": [
    "systs = ['Jmr', 'Jms', 'pileup', 'JesTotal', 'Lumi', 'lhaPDF', 'Jer']\n",
    "\n",
    "uncert_colors = [ 4 ,  4 , ROOT.kCyan +1 ,2 ,      ROOT.kYellow+3,    ROOT.kMagenta ,  2 , ROOT.kBlack ,ROOT.kBlack ,    ROOT.kCyan +3 , ROOT.kViolet+3 ,  ROOT.kAzure+2 , ROOT.kMagenta+1 ,ROOT.kViolet+3 ,  ROOT.kRed ,   ROOT.kCyan +3 , ROOT.kViolet+3 ,  ROOT.kAzure+2 , ROOT.kMagenta+1 ,   ROOT.kCyan +3 , ROOT.kViolet+3 ,  ROOT.kAzure+2 , ROOT.kMagenta+1 ,ROOT.kViolet+3 ,  ROOT.kRed ,   ROOT.kCyan +3 , ROOT.kViolet+3 ,  ROOT.kAzure+2 , ROOT.kMagenta+1 ]\n",
    "uncert_lines = [ 5,8,7,3,    5,    6,8,1, 2, 4, 5, 1, 7, 8, 1, 7,7,4,4,5,2,1,3, 2, 4, 5, 1, 7, 8, 1]"
   ]
  },
  {
   "cell_type": "markdown",
   "metadata": {},
   "source": [
    "#### Below the MC and Data events are read from ROOT trees which only contain events meeting the selection criteria set forth in this __[script](https://github.com/kaustuvdatta/jetObservables/blob/102X/python/nSubProducer_gen_reco.py)__ and thereafter in the nSubExtractor class"
   ]
  },
  {
   "cell_type": "code",
   "execution_count": 48,
   "metadata": {},
   "outputs": [],
   "source": [
    "from nSubExtractor_old import nSubExtractor_old as nSubExtractor"
   ]
  },
  {
   "cell_type": "markdown",
   "metadata": {},
   "source": [
    "### Loading datasets of $N$-subjettiness bases measured with WTA $k_T$"
   ]
  },
  {
   "cell_type": "code",
   "execution_count": 49,
   "metadata": {},
   "outputs": [
    {
     "name": "stdout",
     "output_type": "stream",
     "text": [
      "(6270, 21) (6270, 2)\n"
     ]
    }
   ],
   "source": [
    "a = nSubExtractor(isMC=1, axisdef=\"WTA_kT\", sample=\"TTbar/2\")\n",
    "TTbarMG_dataset, TTbarMG_reco_nSub_basis, TTbarMG_gen_nSub_basis, TTbarMG_weights = a.sample_loader()\n",
    "\n",
    "print TTbarMG_reco_nSub_basis.shape, TTbarMG_weights.shape"
   ]
  },
  {
   "cell_type": "code",
   "execution_count": 50,
   "metadata": {},
   "outputs": [
    {
     "name": "stdout",
     "output_type": "stream",
     "text": [
      "(43107, 21) (43107, 2)\n"
     ]
    }
   ],
   "source": [
    "a = nSubExtractor(isMC=1, axisdef=\"WTA_kT\", sample=\"TTbar/1\")\n",
    "TTbar_dataset, TTbar_reco_nSub_basis, TTbar_gen_nSub_basis, TTbar_weights  = a.sample_loader()\n",
    "\n",
    "print TTbar_reco_nSub_basis.shape, TTbar_weights.shape"
   ]
  },
  {
   "cell_type": "code",
   "execution_count": 51,
   "metadata": {},
   "outputs": [
    {
     "name": "stdout",
     "output_type": "stream",
     "text": [
      "(900, 21) (900, 2)\n"
     ]
    }
   ],
   "source": [
    "a = nSubExtractor(isMC=1, axisdef=\"WTA_kT\", sample=\"ST/1\")\n",
    "ST1_dataset, ST1_reco_nSub_basis, ST1_gen_nSub_basis, ST1_weights  = a.sample_loader()\n",
    "print ST1_reco_nSub_basis.shape, ST1_weights.shape"
   ]
  },
  {
   "cell_type": "code",
   "execution_count": 52,
   "metadata": {},
   "outputs": [
    {
     "name": "stdout",
     "output_type": "stream",
     "text": [
      "(1988, 21) (1988, 2)\n"
     ]
    }
   ],
   "source": [
    "a = nSubExtractor(isMC=1, axisdef=\"WTA_kT\", sample=\"ST/2\")\n",
    "ST2_dataset, ST2_reco_nSub_basis, ST2_gen_nSub_basis, ST2_weights  = a.sample_loader()\n",
    "print ST2_reco_nSub_basis.shape, ST2_weights.shape"
   ]
  },
  {
   "cell_type": "code",
   "execution_count": 53,
   "metadata": {},
   "outputs": [
    {
     "name": "stdout",
     "output_type": "stream",
     "text": [
      "(594, 21) (594, 2)\n"
     ]
    }
   ],
   "source": [
    "a = nSubExtractor(isMC=1, axisdef=\"WTA_kT\", sample=\"ST/3\")\n",
    "ST3_dataset, ST3_reco_nSub_basis, ST3_gen_nSub_basis, ST3_weights  = a.sample_loader()\n",
    "print ST3_reco_nSub_basis.shape, ST3_weights.shape"
   ]
  },
  {
   "cell_type": "code",
   "execution_count": 54,
   "metadata": {},
   "outputs": [
    {
     "name": "stdout",
     "output_type": "stream",
     "text": [
      "(617, 21) (617, 2)\n"
     ]
    }
   ],
   "source": [
    "a = nSubExtractor(isMC=1, axisdef=\"WTA_kT\", sample=\"ST/4\")\n",
    "ST4_dataset, ST4_reco_nSub_basis, ST4_gen_nSub_basis, ST4_weights  = a.sample_loader()\n",
    "print ST4_reco_nSub_basis.shape, ST4_weights.shape"
   ]
  },
  {
   "cell_type": "code",
   "execution_count": 55,
   "metadata": {},
   "outputs": [
    {
     "name": "stdout",
     "output_type": "stream",
     "text": [
      "(69, 21) (69, 2)\n"
     ]
    }
   ],
   "source": [
    "a = nSubExtractor(isMC=1, axisdef=\"WTA_kT\", sample=\"ST/5\")\n",
    "ST5_dataset, ST5_reco_nSub_basis, ST5_gen_nSub_basis, ST5_weights  = a.sample_loader()\n",
    "print ST5_reco_nSub_basis.shape, ST5_weights.shape"
   ]
  },
  {
   "cell_type": "code",
   "execution_count": 56,
   "metadata": {},
   "outputs": [
    {
     "name": "stdout",
     "output_type": "stream",
     "text": [
      "(207, 21) (207, 3)\n"
     ]
    }
   ],
   "source": [
    "a = nSubExtractor(isMC=1, axisdef=\"WTA_kT\", sample=\"Wjets/2\")\n",
    "Wjets_dataset, Wjets_reco_nSub_basis, Wjets_gen_nSub_basis, Wjets_weights = a.sample_loader()\n",
    "print Wjets_reco_nSub_basis.shape, Wjets_weights.shape"
   ]
  },
  {
   "cell_type": "code",
   "execution_count": 57,
   "metadata": {},
   "outputs": [
    {
     "name": "stdout",
     "output_type": "stream",
     "text": [
      "(16482, 21)\n"
     ]
    }
   ],
   "source": [
    "a = nSubExtractor(isMC=0, axisdef=\"WTA_kT\", sample=\"Data\")\n",
    "data_dataset, data_nSub_basis,  = a.sample_loader()\n",
    "print data_nSub_basis.shape"
   ]
  },
  {
   "cell_type": "code",
   "execution_count": 58,
   "metadata": {
    "scrolled": true
   },
   "outputs": [],
   "source": [
    "weight_ST1 = (80.95*0.322*lumi*1000.)/(38811017.)*np.ones(ST1_weights.shape[0])*ST1_weights[:,0]*ST1_weights[:,1]*0.8\n",
    "weight_ST2 = (0.322*136.02*lumi*1000.)/(66960888.)*np.ones(ST2_weights.shape[0])*ST2_weights[:,0]*ST2_weights[:,1]*0.8\n",
    "weight_ST3 = (35.6*lumi*1000.)/(998276.)*np.ones(ST3_weights.shape[0])*ST3_weights[:,0]*ST3_weights[:,1]*0.8\n",
    "weight_ST4 = (35.6*lumi*1000.)/(992024.)*np.ones(ST4_weights.shape[0])*ST4_weights[:,0]*ST4_weights[:,1]*0.8\n",
    "weight_ST5 = (10.12*lumi*1000.)/(2989199.)*np.ones(ST5_weights.shape[0])*ST5_weights[:,0]*ST5_weights[:,1]*0.8\n",
    "weight_TTbar = (831.76*lumi*1000.)/76915549.*np.ones(TTbar_weights.shape[0])*TTbar_weights[:,0]*TTbar_weights[:,1]*0.8\n",
    "weight_Wjets = ((60781.5*lumi*1000.)*(Wjets_weights[:,2]/abs(Wjets_weights[:,2][0]))/158307515.0)*Wjets_weights[:,0]*Wjets_weights[:,1]*0.8 \n",
    "weight_data = 1.0*np.ones(data_nSub_basis.shape[0])\n",
    "\n",
    "#print lumi, weight_Wjets\n",
    "#print TTbar_weights[:,0]"
   ]
  },
  {
   "cell_type": "code",
   "execution_count": 59,
   "metadata": {},
   "outputs": [
    {
     "name": "stdout",
     "output_type": "stream",
     "text": [
      "4681\n"
     ]
    }
   ],
   "source": [
    "lenW = Wjets_reco_nSub_basis.shape[0]\n",
    "lenST = ST1_reco_nSub_basis.shape[0]+ST1_reco_nSub_basis.shape[0]+ST2_reco_nSub_basis.shape[0]+ST4_reco_nSub_basis.shape[0]+ST5_reco_nSub_basis.shape[0]\n",
    "lenbkg = lenW+lenST\n",
    "print lenbkg"
   ]
  },
  {
   "cell_type": "code",
   "execution_count": 60,
   "metadata": {},
   "outputs": [],
   "source": [
    "bkg_reco_nSub_basis = np.concatenate((Wjets_reco_nSub_basis, ST1_reco_nSub_basis, ST2_reco_nSub_basis, ST3_reco_nSub_basis, ST4_reco_nSub_basis, ST5_reco_nSub_basis))"
   ]
  },
  {
   "cell_type": "code",
   "execution_count": 61,
   "metadata": {},
   "outputs": [
    {
     "name": "stdout",
     "output_type": "stream",
     "text": [
      "4681\n"
     ]
    }
   ],
   "source": [
    "lenW = Wjets_gen_nSub_basis.shape[0]\n",
    "lenST = ST1_gen_nSub_basis.shape[0]+ST1_gen_nSub_basis.shape[0]+ST2_gen_nSub_basis.shape[0]+ST4_gen_nSub_basis.shape[0]+ST5_gen_nSub_basis.shape[0]\n",
    "lenbkg = lenW+lenST\n",
    "print lenbkg"
   ]
  },
  {
   "cell_type": "code",
   "execution_count": 62,
   "metadata": {},
   "outputs": [],
   "source": [
    "bkg_gen_nSub_basis = np.concatenate((Wjets_gen_nSub_basis, ST1_gen_nSub_basis, ST2_gen_nSub_basis, ST3_gen_nSub_basis, ST4_gen_nSub_basis, ST5_gen_nSub_basis))"
   ]
  },
  {
   "cell_type": "code",
   "execution_count": 63,
   "metadata": {},
   "outputs": [],
   "source": [
    "Wjets_gen_tau21 = Wjets_gen_nSub_basis[:,4]/Wjets_gen_nSub_basis[:,1]\n",
    "\n",
    "ST1_gen_tau21 = ST1_gen_nSub_basis[:,4]/ST1_gen_nSub_basis[:,1]\n",
    "\n",
    "ST2_gen_tau21 = ST2_gen_nSub_basis[:,4]/ST2_gen_nSub_basis[:,1]\n",
    "\n",
    "ST3_gen_tau21 = ST3_gen_nSub_basis[:,4]/ST3_gen_nSub_basis[:,1]\n",
    "\n",
    "ST4_gen_tau21 = ST4_gen_nSub_basis[:,4]/ST4_gen_nSub_basis[:,1]\n",
    "\n",
    "ST5_gen_tau21 = ST5_gen_nSub_basis[:,4]/ST5_gen_nSub_basis[:,1]\n",
    "\n",
    "TTbar_gen_tau21 = TTbar_gen_nSub_basis[:,4]/TTbar_gen_nSub_basis[:,1]"
   ]
  },
  {
   "cell_type": "code",
   "execution_count": 64,
   "metadata": {},
   "outputs": [],
   "source": [
    "Wjets_reco_tau21 = Wjets_reco_nSub_basis[:,4]/Wjets_reco_nSub_basis[:,1]\n",
    "\n",
    "ST1_reco_tau21 = ST1_reco_nSub_basis[:,4]/ST1_reco_nSub_basis[:,1]\n",
    "\n",
    "ST2_reco_tau21 = ST2_reco_nSub_basis[:,4]/ST2_reco_nSub_basis[:,1]\n",
    "\n",
    "ST3_reco_tau21 = ST3_reco_nSub_basis[:,4]/ST3_reco_nSub_basis[:,1]\n",
    "\n",
    "ST4_reco_tau21 = ST4_reco_nSub_basis[:,4]/ST4_reco_nSub_basis[:,1]\n",
    "\n",
    "ST5_reco_tau21 = ST5_reco_nSub_basis[:,4]/ST5_reco_nSub_basis[:,1]\n",
    "\n",
    "TTbar_reco_tau21 = TTbar_reco_nSub_basis[:,4]/TTbar_reco_nSub_basis[:,1]"
   ]
  },
  {
   "cell_type": "markdown",
   "metadata": {},
   "source": [
    "# Unfolding $\\tau_{2,1}^{(1)}$ with background subtraction"
   ]
  },
  {
   "cell_type": "raw",
   "metadata": {},
   "source": [
    "MC_sig_reco_tau21 = TTbar_reco_tau21\n",
    "MC_sig_gen_tau21 = TTbar_gen_tau21\n",
    "\n",
    "MC_bkg_reco_tau21 = np.concatenate((ST1_reco_tau21,ST2_reco_tau21,ST3_reco_tau21,ST4_reco_tau21,ST5_reco_tau21,Wjets_reco_tau21))\n",
    "MC_bkg_gen_tau21 = np.concatenate((ST1_gen_tau21,ST2_gen_tau21,ST3_gen_tau21,ST4_gen_tau21,ST5_gen_tau21,Wjets_gen_tau21))\n",
    "\n",
    "data_tau21 = data_nSub_basis[:,4]/data_nSub_basis[:,1]\n",
    "weights_MC_sig = weight_TTbar\n",
    "weights_MC_bkg = np.concatenate((weight_ST1,weight_ST2,weight_ST3,weight_ST4,weight_ST5,weight_Wjets))"
   ]
  },
  {
   "cell_type": "raw",
   "metadata": {
    "collapsed": true
   },
   "source": [
    "Get the response matrix and input 1D distributions for unfolding."
   ]
  },
  {
   "cell_type": "raw",
   "metadata": {},
   "source": [
    "print np.min(MC_sig_gen_tau21)\n",
    "print np.min(MC_sig_reco_tau21)\n",
    "print np.max(MC_sig_gen_tau21)\n",
    "print np.max(MC_sig_reco_tau21), \"\\n\"\n",
    "\n",
    "\n",
    "print np.min(MC_bkg_gen_tau21)\n",
    "print np.min(MC_bkg_reco_tau21)\n",
    "print np.max(MC_bkg_gen_tau21)\n",
    "print np.max(MC_bkg_reco_tau21), \"\\n\"\n",
    "\n",
    "\n",
    "print np.min(data_tau21)\n",
    "print np.max(data_tau21)"
   ]
  },
  {
   "cell_type": "raw",
   "metadata": {
    "collapsed": true
   },
   "source": [
    "#### Set the axis ranges for the generator nd detector level distributions as well as the number of bins in each. Note that we want twice as many detector bins as generator level bins as recommended by the TUnfold documenation "
   ]
  },
  {
   "cell_type": "raw",
   "metadata": {},
   "source": [
    "ROOT.TH1.SetDefaultSumw2()\n",
    "from root_numpy import *"
   ]
  },
  {
   "cell_type": "raw",
   "metadata": {},
   "source": [
    "gen_bins = np.array([x for x in np.linspace(num=9, start=0., stop=0.8)])\n",
    "gen_bins = np.concatenate((gen_bins, np.array([1.])))\n",
    "print gen_bins, gen_bins.shape[0]\n",
    "\n",
    "det_bins = np.array([x for x in np.linspace(num=17, start=0., stop=0.8)])\n",
    "det_bins = np.concatenate((det_bins, np.array([0.9, 1.])))\n",
    "\n",
    "print det_bins, det_bins.shape[0]"
   ]
  },
  {
   "cell_type": "code",
   "execution_count": 65,
   "metadata": {},
   "outputs": [
    {
     "name": "stdout",
     "output_type": "stream",
     "text": [
      "0.03768753404598482\n",
      "0.035832446145258635\n",
      "0.9254738918178942\n",
      "0.8701607885563205 \n",
      "\n",
      "0.08263408413674796\n",
      "0.07191420099054327\n",
      "0.8891610030080723\n",
      "0.8670939747005171 \n",
      "\n",
      "0.0677043885388563\n",
      "0.8498763137412436\n"
     ]
    }
   ],
   "source": [
    "MC_sig_reco_tau21 = TTbar_reco_tau21\n",
    "MC_sig_gen_tau21 = TTbar_gen_tau21\n",
    "\n",
    "MC_bkg_reco_tau21 = np.concatenate((ST1_reco_tau21,ST2_reco_tau21,ST3_reco_tau21,ST4_reco_tau21,ST5_reco_tau21,Wjets_reco_tau21))\n",
    "MC_bkg_gen_tau21 = np.concatenate((ST1_gen_tau21,ST2_gen_tau21,ST3_gen_tau21,ST4_gen_tau21,ST5_gen_tau21,Wjets_gen_tau21))\n",
    "\n",
    "data_tau21 = data_nSub_basis[:,4]/data_nSub_basis[:,1]\n",
    "weights_MC_sig = weight_TTbar\n",
    "weights_MC_bkg = np.concatenate((weight_ST1,weight_ST2,weight_ST3,weight_ST4,weight_ST5,weight_Wjets))\n",
    "\n",
    "print np.min(MC_sig_gen_tau21)\n",
    "print np.min(MC_sig_reco_tau21)\n",
    "print np.max(MC_sig_gen_tau21)\n",
    "print np.max(MC_sig_reco_tau21), \"\\n\"\n",
    "\n",
    "\n",
    "print np.min(MC_bkg_gen_tau21)\n",
    "print np.min(MC_bkg_reco_tau21)\n",
    "print np.max(MC_bkg_gen_tau21)\n",
    "print np.max(MC_bkg_reco_tau21), \"\\n\"\n",
    "\n",
    "\n",
    "print np.min(data_tau21)\n",
    "print np.max(data_tau21)"
   ]
  },
  {
   "cell_type": "markdown",
   "metadata": {
    "collapsed": true
   },
   "source": [
    "### Get the response matrix and input 1D distributions for unfolding."
   ]
  },
  {
   "cell_type": "markdown",
   "metadata": {
    "collapsed": true
   },
   "source": [
    "#### Set the axis ranges for the generator nd detector level distributions as well as the number of bins in each. Note that we want twice as many detector bins as generator level bins as recommended by the TUnfold documenation "
   ]
  },
  {
   "cell_type": "code",
   "execution_count": 136,
   "metadata": {},
   "outputs": [
    {
     "name": "stdout",
     "output_type": "stream",
     "text": [
      "[0.   0.16 0.32 0.48 0.64 0.8  1.  ] 7\n",
      "[0.   0.08 0.16 0.24 0.32 0.4  0.48 0.56 0.64 0.72 0.8  0.9  1.  ] 13\n"
     ]
    }
   ],
   "source": [
    "gen_bins1 = np.array([x for x in np.linspace(num=6, start=0., stop=0.8)])\n",
    "gen_bins1 = np.concatenate(( gen_bins1, np.array([1.])))\n",
    "print gen_bins1, gen_bins1.shape[0]\n",
    "\n",
    "det_bins1 = np.array([x for x in np.linspace(num=11, start=0., stop=0.8)])\n",
    "det_bins1 = np.concatenate((det_bins1, np.array([0.9,1.])))\n",
    "print det_bins1, det_bins1.shape[0]"
   ]
  },
  {
   "cell_type": "code",
   "execution_count": 137,
   "metadata": {},
   "outputs": [
    {
     "name": "stdout",
     "output_type": "stream",
     "text": [
      "[0.  0.1 0.2 0.3 0.4 0.5 0.6 0.7 0.8 1. ] 10\n",
      "[0.   0.05 0.1  0.15 0.2  0.25 0.3  0.35 0.4  0.45 0.5  0.55 0.6  0.65\n",
      " 0.7  0.75 0.8  0.9  1.  ] 19\n"
     ]
    }
   ],
   "source": [
    "gen_bins2 = np.array([x for x in np.linspace(num=9, start=0., stop=0.8)])\n",
    "gen_bins2 = np.concatenate((gen_bins2, np.array([1.])))\n",
    "print gen_bins2, gen_bins2.shape[0]\n",
    "\n",
    "det_bins2 = np.array([x for x in np.linspace(num=17, start=0., stop=0.8)])\n",
    "det_bins2 = np.concatenate((det_bins2, np.array([0.9, 1.])))\n",
    "\n",
    "print det_bins2, det_bins2.shape[0]"
   ]
  },
  {
   "cell_type": "code",
   "execution_count": 138,
   "metadata": {
    "scrolled": true
   },
   "outputs": [
    {
     "name": "stdout",
     "output_type": "stream",
     "text": [
      "[0.  0.2 0.3 0.4 0.5 0.6 0.7 0.8 1. ] 9\n",
      "[0.   0.1  0.2  0.25 0.3  0.35 0.4  0.45 0.5  0.55 0.6  0.65 0.7  0.75\n",
      " 0.8  0.9  1.  ] 17\n"
     ]
    }
   ],
   "source": [
    "gen_bins3 = np.array([x for x in np.linspace(num=7, start=0.2, stop=0.8)])\n",
    "gen_bins3 = np.concatenate((np.array([0.]), gen_bins3, np.array([1.])))\n",
    "print gen_bins3, gen_bins3.shape[0]\n",
    "\n",
    "det_bins3 = np.array([x for x in np.linspace(num=13, start=0.2, stop=0.8)])\n",
    "det_bins3 = np.concatenate((np.array([0., 0.1]), det_bins3, np.array([0.9,1.])))\n",
    "print det_bins3, det_bins3.shape[0]"
   ]
  },
  {
   "cell_type": "raw",
   "metadata": {},
   "source": [
    "gen_bins4 = np.array([x for x in np.linspace(num=17, start=0., stop=0.8)])\n",
    "gen_bins4 = np.concatenate((np.array([0.]), gen_bins4, np.array([0.93])))\n",
    "print gen_bins4, gen_bins4.shape[0]\n",
    "\n",
    "det_bins4 = np.array([x for x in np.linspace(num=33, start=0., stop=0.8)])\n",
    "det_bins4 = np.concatenate((det_bins4, np.array([0.865 0.93])))\n",
    "\n",
    "print det_bins4, det_bins4.shape[0]"
   ]
  },
  {
   "cell_type": "code",
   "execution_count": 139,
   "metadata": {},
   "outputs": [
    {
     "name": "stdout",
     "output_type": "stream",
     "text": [
      "[0.    0.12  0.256 0.392 0.528 0.664 0.8   0.93 ] 8\n",
      "[0.    0.06  0.12  0.188 0.256 0.324 0.392 0.46  0.528 0.596 0.664 0.732\n",
      " 0.8   0.865 0.93 ] 15\n"
     ]
    }
   ],
   "source": [
    "gen_bins4 = [x for x in np.linspace(num=6, start=0.12, stop=0.8)]\n",
    "gen_bins4 = np.concatenate((np.array([0.]), gen_bins4, np.array([0.93])))\n",
    "print gen_bins4, gen_bins4.shape[0]\n",
    "\n",
    "det_bins4 = np.array([x for x in np.linspace(num=11, start=0.12, stop=0.8)])\n",
    "det_bins4 = np.concatenate((np.array([0., 0.06]),det_bins4, np.array([0.865, 0.93])))\n",
    "print det_bins4, det_bins4.shape[0]"
   ]
  },
  {
   "cell_type": "code",
   "execution_count": 140,
   "metadata": {},
   "outputs": [
    {
     "name": "stdout",
     "output_type": "stream",
     "text": [
      "[0.    0.12  0.205 0.29  0.375 0.46  0.545 0.63  0.715 0.8   0.93 ] 11\n",
      "[0.     0.06   0.12   0.1625 0.205  0.2475 0.29   0.3325 0.375  0.4175\n",
      " 0.46   0.5025 0.545  0.5875 0.63   0.6725 0.715  0.7575 0.8    0.865\n",
      " 0.93  ] 21\n"
     ]
    }
   ],
   "source": [
    "gen_bins5 = [x for x in np.linspace(num=9, start=0.12, stop=0.8)]\n",
    "gen_bins5 = np.concatenate((np.array([0.]), gen_bins5, np.array([0.93])))\n",
    "print gen_bins5, gen_bins5.shape[0]\n",
    "\n",
    "det_bins5 = np.array([x for x in np.linspace(num=17, start=0.12, stop=0.8)])\n",
    "det_bins5 = np.concatenate((np.array([0., 0.06]),det_bins5, np.array([0.865, 0.93])))\n",
    "print det_bins5, det_bins5.shape[0]"
   ]
  },
  {
   "cell_type": "code",
   "execution_count": 141,
   "metadata": {},
   "outputs": [
    {
     "name": "stdout",
     "output_type": "stream",
     "text": [
      "[0.    0.12  0.188 0.256 0.324 0.392 0.46  0.528 0.596 0.664 0.732 0.8\n",
      " 0.93 ] 13\n",
      "[0.    0.06  0.12  0.154 0.188 0.222 0.256 0.29  0.324 0.358 0.392 0.426\n",
      " 0.46  0.494 0.528 0.562 0.596 0.63  0.664 0.698 0.732 0.766 0.8   0.865\n",
      " 0.93 ] 25\n"
     ]
    }
   ],
   "source": [
    "gen_bins6 = [x for x in np.linspace(num=11, start=0.12, stop=0.8)]\n",
    "gen_bins6 = np.concatenate((np.array([0.]), gen_bins6, np.array([0.93])))\n",
    "print gen_bins6, gen_bins6.shape[0]\n",
    "\n",
    "det_bins6 = np.array([x for x in np.linspace(num=21, start=0.12, stop=0.8)])\n",
    "det_bins6 = np.concatenate((np.array([0., 0.06]), det_bins6, np.array([0.865, 0.93])))\n",
    "print det_bins6, det_bins6.shape[0]"
   ]
  },
  {
   "cell_type": "code",
   "execution_count": 142,
   "metadata": {},
   "outputs": [
    {
     "name": "stdout",
     "output_type": "stream",
     "text": [
      "[0.   0.12 0.25 0.38 0.51 0.64 0.77 0.93] 8\n",
      "[0.    0.06  0.12  0.185 0.25  0.315 0.38  0.445 0.51  0.575 0.64  0.705\n",
      " 0.77  0.85  0.93 ] 15\n"
     ]
    }
   ],
   "source": [
    "gen_bins7 = [x for x in np.linspace(num=6, start=0.12, stop=0.77)]\n",
    "gen_bins7 = np.concatenate((np.array([0.]), gen_bins7, np.array([0.93])))\n",
    "print gen_bins7, gen_bins7.shape[0]\n",
    "\n",
    "det_bins7 = np.array([x for x in np.linspace(num=11, start=0.12, stop=0.77)])\n",
    "det_bins7 = np.concatenate((np.array([0., 0.06]),det_bins7, np.array([0.85, 0.93])))\n",
    "print det_bins7, det_bins7.shape[0]"
   ]
  },
  {
   "cell_type": "code",
   "execution_count": 143,
   "metadata": {},
   "outputs": [
    {
     "name": "stdout",
     "output_type": "stream",
     "text": [
      "[0.      0.12    0.20125 0.2825  0.36375 0.445   0.52625 0.6075  0.68875\n",
      " 0.77    0.93   ] 11\n",
      "[0.       0.06     0.12     0.160625 0.20125  0.241875 0.2825   0.323125\n",
      " 0.36375  0.404375 0.445    0.485625 0.52625  0.566875 0.6075   0.648125\n",
      " 0.68875  0.729375 0.77     0.85     0.93    ] 21\n"
     ]
    }
   ],
   "source": [
    "gen_bins8 = [x for x in np.linspace(num=9, start=0.12, stop=0.77)]\n",
    "gen_bins8 = np.concatenate((np.array([0.]), gen_bins8, np.array([0.93])))\n",
    "print gen_bins8, gen_bins8.shape[0]\n",
    "\n",
    "det_bins8 = np.array([x for x in np.linspace(num=17, start=0.12, stop=0.77)])\n",
    "det_bins8 = np.concatenate((np.array([0., 0.06]),det_bins8, np.array([0.85, 0.93])))\n",
    "print det_bins8, det_bins8.shape[0]"
   ]
  },
  {
   "cell_type": "code",
   "execution_count": 144,
   "metadata": {},
   "outputs": [
    {
     "name": "stdout",
     "output_type": "stream",
     "text": [
      "[0.    0.12  0.185 0.25  0.315 0.38  0.445 0.51  0.575 0.64  0.705 0.77\n",
      " 0.93 ] 13\n",
      "[0.     0.06   0.12   0.1525 0.185  0.2175 0.25   0.2825 0.315  0.3475\n",
      " 0.38   0.4125 0.445  0.4775 0.51   0.5425 0.575  0.6075 0.64   0.6725\n",
      " 0.705  0.7375 0.77   0.85   0.93  ] 25\n"
     ]
    }
   ],
   "source": [
    "gen_bins9 = [x for x in np.linspace(num=11, start=0.12, stop=0.77)]\n",
    "gen_bins9 = np.concatenate((np.array([0.]), gen_bins9, np.array([0.93])))\n",
    "print gen_bins9, gen_bins9.shape[0]\n",
    "\n",
    "det_bins9 = np.array([x for x in np.linspace(num=21, start=0.12, stop=0.77)])\n",
    "det_bins9 = np.concatenate((np.array([0., 0.06]), det_bins9, np.array([0.85, 0.93])))\n",
    "print det_bins9, det_bins9.shape[0]"
   ]
  },
  {
   "cell_type": "code",
   "execution_count": 145,
   "metadata": {},
   "outputs": [],
   "source": [
    "det_bins_arr = [det_bins1, det_bins2, det_bins3, det_bins4, det_bins5, det_bins6, det_bins7, det_bins8, det_bins9]\n",
    "gen_bins_arr = [gen_bins1, gen_bins2, gen_bins3, gen_bins4, gen_bins5, gen_bins6, gen_bins7, gen_bins8, gen_bins9 ]"
   ]
  },
  {
   "cell_type": "raw",
   "metadata": {},
   "source": [
    "gen_bins = np.array([x for x in np.linspace(num=11, start=0., stop=1.)])\n",
    "print gen_bins, gen_bins.shape[0]\n",
    "\n",
    "det_bins = np.array([x for x in np.linspace(num=21, start=0., stop=1.)])\n",
    "print det_bins, det_bins.shape[0]"
   ]
  },
  {
   "cell_type": "markdown",
   "metadata": {},
   "source": [
    "#### Fill histograms for sig and bkg. MC separately in this case (as one should!)"
   ]
  },
  {
   "cell_type": "code",
   "execution_count": 146,
   "metadata": {},
   "outputs": [],
   "source": [
    "def fill_hists(gen_bins, det_bins, MC_sig_reco_tau21, MC_sig_gen_tau21, MC_bkg_reco_tau21, MC_bkg_gen_tau21, data_tau21):\n",
    "        \n",
    "    histMgenMC_bkg = ROOT.TH1D(\"histMgenMC_bkg\", \"histMgenMC_bkg; #tau_{2}^{1}; Events/(0.02)\",  gen_bins.shape[0]-1, (gen_bins))\n",
    "    fill_hist(histMgenMC_bkg, MC_bkg_gen_tau21, weights=weights_MC_bkg)\n",
    "\n",
    "    histMdetMC_bkg = ROOT.TH1D(\"histMdetMC_bkg\", \"histMdetMC_bkg; #tau_{2}^{1}; Events/(0.02)\", det_bins.shape[0]-1, (det_bins))\n",
    "    fill_hist(histMdetMC_bkg, MC_bkg_reco_tau21, weights=weights_MC_bkg)\n",
    "\n",
    "    histMgenMC_sig = ROOT.TH1D(\"histMgenMC_sig\", \"histMgenMC_sig; #tau_{2}^{1}; Events/(0.02)\",  gen_bins.shape[0]-1, (gen_bins))\n",
    "    fill_hist(histMgenMC_sig, MC_sig_gen_tau21, weights=weights_MC_sig)\n",
    "\n",
    "    histMdetMC_sig = ROOT.TH1D(\"histMdetMC_sig\", \"histMdetMC_sig; #tau_{2}^{1}; Events/(0.02)\", det_bins.shape[0]-1, (det_bins))\n",
    "    fill_hist(histMdetMC_sig, MC_sig_reco_tau21, weights=weights_MC_sig)\n",
    "\n",
    "    #histMgenData = ROOT.TH1D(\"histMgenData\", \"histMgenData; #tau_{2}^{1}; Events/(0.02)\", gen_bins.shape[0]-1, (gen_bins))\n",
    "    #fill_hist(histMgenData, TTbartruth_nSub_basis[:,4]/TTbartruth_nSub_basis[:,1])\n",
    "\n",
    "    histMdetData = ROOT.TH1D(\"histMdetData\", \"histMdetData; #tau_{2}^{1}; Events/(0.02)\", det_bins.shape[0]-1, (det_bins))\n",
    "    fill_hist(histMdetData, data_tau21)\n",
    "\n",
    "    histMgenMC_bkg.SetTitle(\";#tau_{2,1}^{1}(gen_bkg)\")\n",
    "    histMdetMC_bkg.SetTitle(\";#tau_{2,1}^{1}(det_bkg)\")\n",
    "    histMgenMC_sig.SetTitle(\";#tau_{2,1}^{1}(gen_sig)\")\n",
    "    histMdetMC_sig.SetTitle(\";#tau_{2,1}^{1}(det_sig)\")\n",
    "    histMdetData.SetTitle(\";#tau_{2,1}^{1}(data)\")\n",
    "\n",
    "\n",
    "    ### Fill response matrix\n",
    "\n",
    "    response = ROOT.TH2D('response', 'response', det_bins.shape[0]-1, det_bins, gen_bins.shape[0]-1, gen_bins)\n",
    "    hist2Dfill = np.zeros((MC_sig_reco_tau21.shape[0], 2))\n",
    "    hist2Dfill[:,0] = MC_sig_reco_tau21.flatten()\n",
    "    hist2Dfill[:,1] = MC_sig_gen_tau21.flatten()\n",
    "    fill_hist(response, hist2Dfill, weights_MC_sig)\n",
    "    response.SetTitle(\"Nominal Response Matrix;#tau_{2,1}^{1}(det_sig);#tau_{2,1}^{1}(gen_sig)\")\n",
    "\n",
    "    '''\n",
    "    ##### Normalise the distributions, draw them and the response matrix.\n",
    "\n",
    "    norm_genMC_bkg = histMgenMC_bkg.Integral()\n",
    "    print norm_genMC_bkg\n",
    "\n",
    "    norm_recoMC_bkg = histMdetMC_bkg.Integral()\n",
    "    print norm_recoMC_bkg\n",
    "\n",
    "    norm_genMC_sig = histMgenMC_sig.Integral()\n",
    "    print norm_genMC_sig\n",
    "\n",
    "    norm_recoMC_sig = histMdetMC_sig.Integral()\n",
    "    print norm_recoMC_sig\n",
    "\n",
    "    #norm_genData = histMgenData.Integral()\n",
    "    #print norm_genData\n",
    "\n",
    "    norm_detData = histMdetData.Integral()\n",
    "    print norm_detData\n",
    "\n",
    "    hMC_gen_bkg = ROOT.TH1D(histMgenMC_bkg)\n",
    "    #hMC_gen_bkg.Scale(1./norm_genMC_bkg)\n",
    "\n",
    "    hMC_reco_bkg = ROOT.TH1D(histMdetMC_bkg)\n",
    "    #hMC_reco_bkg.Scale(1./norm_recoMC_bkg)\n",
    "\n",
    "    hMC_gen_sig = ROOT.TH1D(histMgenMC_sig)\n",
    "    #hMC_gen_sig.Scale(1./norm_genMC_sig)\n",
    "\n",
    "    hMC_reco_sig = ROOT.TH1D(histMdetMC_sig)\n",
    "    #hMC_reco_sig.Scale(1./norm_recoMC_sig)\n",
    "\n",
    "    hMC_data = ROOT.TH1D(histMdetData)\n",
    "    #histMgenData.Scale(1./norm_genData)\n",
    "    #histMdetData.Scale(1./norm_detData)\n",
    "\n",
    "    histMgenMC_bkg.Scale(1./norm_genMC_bkg)\n",
    "    histMdetMC_bkg.Scale(1./norm_recoMC_bkg)\n",
    "    histMgenMC_sig.Scale(1./norm_genMC_sig)\n",
    "    histMdetMC_sig.Scale(1./norm_recoMC_sig)\n",
    "\n",
    "    #histMgenData.Scale(1./norm_genData)\n",
    "    histMdetData.Scale(1./norm_detData)\n",
    "    '''\n",
    "    \n",
    "    return histMgenMC_bkg, histMdetMC_bkg, histMgenMC_sig, histMdetMC_sig, histMdetData, response"
   ]
  },
  {
   "cell_type": "markdown",
   "metadata": {},
   "source": [
    "### Purity and Stability calculation"
   ]
  },
  {
   "cell_type": "markdown",
   "metadata": {},
   "source": [
    "We define purity as the fraction of reconstructed events that are generated in the same bin, \n",
    "and stability as the fraction of generated events that are reconstructed in the same\n",
    "bin, divided by the overall reconstruction efficiency per bin. "
   ]
  },
  {
   "cell_type": "code",
   "execution_count": 147,
   "metadata": {
    "scrolled": true
   },
   "outputs": [],
   "source": [
    "def purity_stability_calc(gen_bins, MC_sig_gen_tau21, det_bins, MC_sig_reco_tau21, verbose=True ):\n",
    "    \n",
    "    purity = ROOT.TH1D(\"purity\", \"Purity and stability study; #tau_{2}^{1}; \",  gen_bins.shape[0]-1, (gen_bins))\n",
    "    stability = ROOT.TH1D(\"stability\", \"Purity and stability study; #tau_{2}^{1}; \",  gen_bins.shape[0]-1, (gen_bins))\n",
    "    efficiency = ROOT.TH1D(\"efficiency\", \"Purity and stability study; #tau_{2}^{1}; \",  gen_bins.shape[0]-1, (gen_bins))\n",
    "\n",
    "    gen_arr = MC_sig_gen_tau21[:]\n",
    "    gen_bin_index = np.digitize(gen_arr, gen_bins)\n",
    "    if verbose: print gen_bin_index\n",
    "    \n",
    "    det_arr = MC_sig_reco_tau21[:]\n",
    "    det_bin_index = np.digitize(det_arr, gen_bins)\n",
    "    det_bin_index2 = np.digitize(det_arr, det_bins)\n",
    "    \n",
    "    ndet_pergenbin = [0.] #N_recgen array = number of events generated in and reconstructed in gen bin i\n",
    "    ndet_genanywhere = [0.] # number of events reconstructed in gen _bin i but generated anywhere\n",
    "    ngen_detanywhere = [0.] # number of events generated in gen _bin i but reconstructed anywhere\n",
    "\n",
    "    ### purity = # of evts generated and reconstructed in gen bin i / # of evts reconstructed in gen bin i but generated anywhere\n",
    "    ### stability = # of evts generated and reconstructed in gen bin / # of evts generated in gen bin i but reconstructed anywhere\n",
    "    \n",
    "    for i in xrange(0, gen_bins.shape[0]-1):\n",
    "\n",
    "        #print i+1\n",
    "        print \"Setting contents for P, S, eff. histos\"\n",
    "        for k in xrange(0, gen_bin_index.shape[0]):\n",
    "\n",
    "            if gen_bin_index[k]==i+1: \n",
    "                ngen_detanywhere[i]+=1 #stability denominator\n",
    "                if det_bin_index[k]==i+1: ndet_pergenbin[i]+=1\n",
    "\n",
    "        ngen_detanywhere.append(0.)\n",
    "        ndet_pergenbin.append(0.)\n",
    "\n",
    "        for k in xrange(0, det_bin_index.shape[0]):\n",
    "\n",
    "            if det_bin_index[k]==i+1: \n",
    "                ndet_genanywhere[i]+=1 #purity denominator\n",
    "\n",
    "        ndet_genanywhere.append(0.)\n",
    "\n",
    "        if verbose: print \"Setting contents for P, S, eff. histos, in bin %d\"%(i+1)\n",
    "        purity.SetBinContent(i+1, ndet_pergenbin[i]/ndet_genanywhere[i])\n",
    "        stability.SetBinContent(i+1, ndet_pergenbin[i]/ngen_detanywhere[i])\n",
    "        efficiency.SetBinContent(i+1, ndet_pergenbin[i]/43107.)\n",
    "\n",
    "\n",
    "    ndet_pergenbin = np.array(ndet_pergenbin)\n",
    "    ndet_genanywhere = np.array(ndet_genanywhere)\n",
    "    ngen_detanywhere = np.array(ngen_detanywhere)\n",
    "\n",
    "    try:\n",
    "        if verbose:print \"\\n\\n+++++++++Pure and Stable! :)+++++++++++++\\n\\n\"\n",
    "        if verbose: print ndet_pergenbin,\"\\n\"\n",
    "        if verbose: print ndet_genanywhere,\"\\n\"\n",
    "        purity_arr = ndet_pergenbin/ndet_genanywhere\n",
    "        if verbose:print \"Purity array:\", purity_arr[:-1], \"\\n\"\n",
    "\n",
    "        if verbose: print ndet_pergenbin,\"\\n\"\n",
    "        if verbose: print ngen_detanywhere,\"\\n\"\n",
    "        stability_arr = ndet_pergenbin/ngen_detanywhere\n",
    "        if verbose:print \"Stability array:\", stability_arr[:-1], \"\\n\"\n",
    "\n",
    "        if verbose:print \"+++++Efficiency+++++\\n\"\n",
    "        efficiency_arr = ndet_pergenbin/np.sum(ngen_detanywhere)\n",
    "        if verbose:print \"Efficiency array:\", efficiency_arr[:-1]\n",
    "\n",
    "\n",
    "        purity.SetLineColor(ROOT.kRed)\n",
    "        purity.SetLineWidth(2)\n",
    "        purity.SetLineStyle(2)\n",
    "        purity.SetMinimum(0.)\n",
    "        purity.SetMaximum(1.05)\n",
    "\n",
    "        stability.SetLineColor(9)\n",
    "        stability.SetLineWidth(2)\n",
    "        stability.SetLineStyle(2)\n",
    "        stability.SetMinimum(0.)\n",
    "        stability.SetMaximum(1.05)\n",
    "        stability.SetTitle(\"t#bar{t} 2016, W-selection \")\n",
    "        \n",
    "\n",
    "        return purity, stability\n",
    "    except:\n",
    "        print \"didn't work, binning issues probably the cause\"\n",
    "        return -1,-1"
   ]
  },
  {
   "cell_type": "markdown",
   "metadata": {},
   "source": [
    "### Unfolding "
   ]
  },
  {
   "cell_type": "code",
   "execution_count": 148,
   "metadata": {},
   "outputs": [],
   "source": [
    "def doUnfolding(response, histMdetData, histMdetMC_sig, histMdetMC_bkg, histMgenMC_sig):\n",
    "\n",
    "    print 'getting tunfolder:'\n",
    "\n",
    "    orientation = ROOT.TUnfoldDensity.kHistMapOutputHoriz\n",
    "    regMode = ROOT.TUnfoldDensity.kRegModeCurvature\n",
    "    con = ROOT.TUnfoldDensity.kEConstraintNone\n",
    "    mode =  ROOT.TUnfoldDensity.kDensityModeBinWidth\n",
    "    errmode = ROOT.TUnfoldSys.kSysErrModeMatrix\n",
    "    #tunfolder_MC = ROOT.TUnfoldDensity(response, orientation, regMode, con, mode, \"signal\", \"*[UOb]\")\n",
    "    #tunfolder_data = ROOT.TUnfoldDensity(response, orientation, regMode, con, mode, \"signal\", \"*[UOb]\")\n",
    "\n",
    "    tunfolder_MC = ROOT.TUnfoldDensity(response,ROOT.TUnfold.kHistMapOutputVert,ROOT.TUnfold.kRegModeCurvature, ROOT.TUnfold.kEConstraintNone, ROOT.TUnfoldDensity.kDensityModeBinWidth)\n",
    "    tunfolder_data = ROOT.TUnfoldDensity(response,ROOT.TUnfold.kHistMapOutputVert,ROOT.TUnfold.kRegModeCurvature, ROOT.TUnfold.kEConstraintNone, ROOT.TUnfoldDensity.kDensityModeBinWidth)\n",
    "\n",
    "    print 'setting reco input'\n",
    "    tunfolder_data.SetInput( histMdetData )\n",
    "    tunfolder_data.SubtractBackground( histMdetMC_bkg, \"bkg_all\", 1. )\n",
    "\n",
    "    print 'setting reco MC input'\n",
    "    tunfolder_MC.SetInput( histMdetMC_sig )\n",
    "    #tunfolder_MC.SubtractBackground( histMdetMC_bkg, \"bkg_all\", 1. )\n",
    "\n",
    "    unfolded_data = tunfolder_data.DoUnfold(0.)\n",
    "    unfolded_data = tunfolder_data.GetOutput(\"unfolded_data\")\n",
    "\n",
    "    unfolded_MC = tunfolder_MC.DoUnfold(0.)\n",
    "    unfolded_MC = tunfolder_MC.GetOutput(\"closure_unfolded_MC\")\n",
    "\n",
    "\n",
    "    unfolded_MC.SetMarkerStyle(2)\n",
    "    unfolded_MC.SetMarkerColor(7)\n",
    "    unfolded_MC.SetLineColor(7)\n",
    "    unfolded_MC.SetLineWidth(1)\n",
    "    #unfolded_MC.Rebin(2)\n",
    "\n",
    "    unfolded_data.SetMarkerStyle(22)\n",
    "    unfolded_data.SetMarkerColor(1)\n",
    "    unfolded_data.SetLineColor(1)\n",
    "    unfolded_data.SetLineWidth(2)\n",
    "    #unfolded_data.Rebin(2)\n",
    "\n",
    "\n",
    "    histMgenMC_sig.SetMarkerStyle(5)\n",
    "    histMgenMC_sig.SetMarkerColor(2)\n",
    "    histMgenMC_sig.SetLineColor(2)\n",
    "    #histMgenMC_sig.Rebin(2)\n",
    "\n",
    "\n",
    "    hs = ROOT.THStack(\"#tau_{2,1}^{WTA}\", \"#tau_{2,1}^{WTA}\")\n",
    "    #hs.Add\n",
    "    #hs.SetMaximum(5500)\n",
    "    hs.Add( unfolded_MC, \"E\")\n",
    "    hs.Add( unfolded_data, \"E \")\n",
    "    #hs.Add(histMgenMC_sig, \"E HIST\")\n",
    "\n",
    "    leg0 = ROOT.TLegend(0.45, 0.72, 0.95, 0.9)\n",
    "    leg0.SetTextSize(9)\n",
    "    leg0.AddEntry( unfolded_data, \"Data (2016)\", 'p')\n",
    "    #leg0.AddEntry( histMgenMC_sig, \"Generator-level (ttbar MC: Powheg+Pythia8)\", 'p')\n",
    "    #leg0.AddEntry( histMgenData, \"'Truth' (MC: MG5+Pythia8)\", 'p')\n",
    "    leg0.AddEntry( unfolded_MC, \"MC self-closure (ttbar Powheg)\", 'p')\n",
    "    leg0.SetLineColor(0)\n",
    "    leg0.SetBorderSize(0)\n",
    "    leg0.SetFillStyle(0)\n",
    "\n",
    "    #hs.Draw(\"nostack\")\n",
    "    #leg0.Draw()\n",
    "    \n",
    "    return hs, leg0"
   ]
  },
  {
   "cell_type": "markdown",
   "metadata": {
    "collapsed": true
   },
   "source": [
    "Draw the variables at reco and gen level and for \"data\""
   ]
  },
  {
   "cell_type": "code",
   "execution_count": 149,
   "metadata": {},
   "outputs": [],
   "source": [
    "ROOT.gStyle.SetOptStat(0)"
   ]
  },
  {
   "cell_type": "code",
   "execution_count": 150,
   "metadata": {
    "scrolled": true
   },
   "outputs": [
    {
     "name": "stdout",
     "output_type": "stream",
     "text": [
      "Gen-level bins 0 [0.   0.16 0.32 0.48 0.64 0.8  1.  ]\n",
      "Detector-level bins 0 [0.   0.08 0.16 0.24 0.32 0.4  0.48 0.56 0.64 0.72 0.8  0.9  1.  ]\n",
      "Setting contents for P, S, eff. histos\n",
      "Setting contents for P, S, eff. histos\n",
      "Setting contents for P, S, eff. histos\n",
      "Setting contents for P, S, eff. histos\n",
      "Setting contents for P, S, eff. histos\n",
      "Setting contents for P, S, eff. histos\n",
      "getting tunfolder:\n",
      "setting reco input\n",
      "setting reco MC input\n",
      "Gen-level bins 1 [0.  0.1 0.2 0.3 0.4 0.5 0.6 0.7 0.8 1. ]\n",
      "Detector-level bins 1 [0.   0.05 0.1  0.15 0.2  0.25 0.3  0.35 0.4  0.45 0.5  0.55 0.6  0.65\n",
      " 0.7  0.75 0.8  0.9  1.  ]\n",
      "Setting contents for P, S, eff. histos\n",
      "Setting contents for P, S, eff. histos\n",
      "Setting contents for P, S, eff. histos\n",
      "Setting contents for P, S, eff. histos\n",
      "Setting contents for P, S, eff. histos\n",
      "Setting contents for P, S, eff. histos\n",
      "Setting contents for P, S, eff. histos\n",
      "Setting contents for P, S, eff. histos\n",
      "Setting contents for P, S, eff. histos"
     ]
    },
    {
     "name": "stderr",
     "output_type": "stream",
     "text": [
      "/shome/kdatta/.local/lib/python2.7/site-packages/ipykernel_launcher.py:56: RuntimeWarning: invalid value encountered in divide\n",
      "/shome/kdatta/.local/lib/python2.7/site-packages/ipykernel_launcher.py:61: RuntimeWarning: invalid value encountered in divide\n"
     ]
    },
    {
     "name": "stdout",
     "output_type": "stream",
     "text": [
      "\n",
      "getting tunfolder:\n",
      "setting reco input\n",
      "setting reco MC input\n",
      "Gen-level bins 2 [0.  0.2 0.3 0.4 0.5 0.6 0.7 0.8 1. ]\n",
      "Detector-level bins 2 [0.   0.1  0.2  0.25 0.3  0.35 0.4  0.45 0.5  0.55 0.6  0.65 0.7  0.75\n",
      " 0.8  0.9  1.  ]\n",
      "Setting contents for P, S, eff. histos\n",
      "Setting contents for P, S, eff. histos\n",
      "Setting contents for P, S, eff. histos\n",
      "Setting contents for P, S, eff. histos\n",
      "Setting contents for P, S, eff. histos\n",
      "Setting contents for P, S, eff. histos\n",
      "Setting contents for P, S, eff. histos\n",
      "Setting contents for P, S, eff. histos\n",
      "getting tunfolder:\n",
      "setting reco input\n",
      "setting reco MC input\n",
      "Gen-level bins 3 [0.    0.12  0.256 0.392 0.528 0.664 0.8   0.93 ]\n",
      "Detector-level bins 3 [0.    0.06  0.12  0.188 0.256 0.324 0.392 0.46  0.528 0.596 0.664 0.732\n",
      " 0.8   0.865 0.93 ]\n",
      "Setting contents for P, S, eff. histos\n",
      "Setting contents for P, S, eff. histos\n",
      "Setting contents for P, S, eff. histos\n",
      "Setting contents for P, S, eff. histos\n",
      "Setting contents for P, S, eff. histos\n",
      "Setting contents for P, S, eff. histos\n",
      "Setting contents for P, S, eff. histos\n",
      "getting tunfolder:\n",
      "setting reco input\n",
      "setting reco MC input\n",
      "Gen-level bins 4 [0.    0.12  0.205 0.29  0.375 0.46  0.545 0.63  0.715 0.8   0.93 ]\n",
      "Detector-level bins 4 [0.     0.06   0.12   0.1625 0.205  0.2475 0.29   0.3325 0.375  0.4175\n",
      " 0.46   0.5025 0.545  0.5875 0.63   0.6725 0.715  0.7575 0.8    0.865\n",
      " 0.93  ]\n",
      "Setting contents for P, S, eff. histos\n",
      "Setting contents for P, S, eff. histos\n",
      "Setting contents for P, S, eff. histos\n",
      "Setting contents for P, S, eff. histos\n",
      "Setting contents for P, S, eff. histos\n",
      "Setting contents for P, S, eff. histos\n",
      "Setting contents for P, S, eff. histos\n",
      "Setting contents for P, S, eff. histos\n",
      "Setting contents for P, S, eff. histos\n",
      "Setting contents for P, S, eff. histos\n",
      "getting tunfolder:\n",
      "setting reco input\n",
      "setting reco MC input\n",
      "Gen-level bins 5 [0.    0.12  0.188 0.256 0.324 0.392 0.46  0.528 0.596 0.664 0.732 0.8\n",
      " 0.93 ]\n",
      "Detector-level bins 5 [0.    0.06  0.12  0.154 0.188 0.222 0.256 0.29  0.324 0.358 0.392 0.426\n",
      " 0.46  0.494 0.528 0.562 0.596 0.63  0.664 0.698 0.732 0.766 0.8   0.865\n",
      " 0.93 ]\n",
      "Setting contents for P, S, eff. histos\n",
      "Setting contents for P, S, eff. histos\n",
      "Setting contents for P, S, eff. histos\n",
      "Setting contents for P, S, eff. histos\n",
      "Setting contents for P, S, eff. histos\n",
      "Setting contents for P, S, eff. histos\n",
      "Setting contents for P, S, eff. histos\n",
      "Setting contents for P, S, eff. histos\n",
      "Setting contents for P, S, eff. histos\n",
      "Setting contents for P, S, eff. histos\n",
      "Setting contents for P, S, eff. histos\n",
      "Setting contents for P, S, eff. histos\n",
      "getting tunfolder:\n",
      "setting reco input\n",
      "setting reco MC input\n",
      "Gen-level bins 6 [0.   0.12 0.25 0.38 0.51 0.64 0.77 0.93]\n",
      "Detector-level bins 6 [0.    0.06  0.12  0.185 0.25  0.315 0.38  0.445 0.51  0.575 0.64  0.705\n",
      " 0.77  0.85  0.93 ]\n",
      "Setting contents for P, S, eff. histos\n",
      "Setting contents for P, S, eff. histos\n",
      "Setting contents for P, S, eff. histos\n",
      "Setting contents for P, S, eff. histos\n",
      "Setting contents for P, S, eff. histos\n",
      "Setting contents for P, S, eff. histos\n",
      "Setting contents for P, S, eff. histos\n",
      "getting tunfolder:\n",
      "setting reco input\n",
      "setting reco MC input\n",
      "Gen-level bins 7 [0.      0.12    0.20125 0.2825  0.36375 0.445   0.52625 0.6075  0.68875\n",
      " 0.77    0.93   ]\n",
      "Detector-level bins 7 [0.       0.06     0.12     0.160625 0.20125  0.241875 0.2825   0.323125\n",
      " 0.36375  0.404375 0.445    0.485625 0.52625  0.566875 0.6075   0.648125\n",
      " 0.68875  0.729375 0.77     0.85     0.93    ]\n",
      "Setting contents for P, S, eff. histos\n",
      "Setting contents for P, S, eff. histos\n",
      "Setting contents for P, S, eff. histos\n",
      "Setting contents for P, S, eff. histos\n",
      "Setting contents for P, S, eff. histos\n",
      "Setting contents for P, S, eff. histos\n",
      "Setting contents for P, S, eff. histos\n",
      "Setting contents for P, S, eff. histos\n",
      "Setting contents for P, S, eff. histos\n",
      "Setting contents for P, S, eff. histos\n",
      "getting tunfolder:\n",
      "setting reco input\n",
      "setting reco MC input\n",
      "Gen-level bins 8 [0.    0.12  0.185 0.25  0.315 0.38  0.445 0.51  0.575 0.64  0.705 0.77\n",
      " 0.93 ]\n",
      "Detector-level bins 8 [0.     0.06   0.12   0.1525 0.185  0.2175 0.25   0.2825 0.315  0.3475\n",
      " 0.38   0.4125 0.445  0.4775 0.51   0.5425 0.575  0.6075 0.64   0.6725\n",
      " 0.705  0.7375 0.77   0.85   0.93  ]\n",
      "Setting contents for P, S, eff. histos\n",
      "Setting contents for P, S, eff. histos\n",
      "Setting contents for P, S, eff. histos\n",
      "Setting contents for P, S, eff. histos\n",
      "Setting contents for P, S, eff. histos\n",
      "Setting contents for P, S, eff. histos\n",
      "Setting contents for P, S, eff. histos\n",
      "Setting contents for P, S, eff. histos\n",
      "Setting contents for P, S, eff. histos\n",
      "Setting contents for P, S, eff. histos\n",
      "Setting contents for P, S, eff. histos\n",
      "Setting contents for P, S, eff. histos\n",
      "getting tunfolder:\n",
      "setting reco input\n",
      "setting reco MC input\n"
     ]
    },
    {
     "name": "stderr",
     "output_type": "stream",
     "text": [
      "Warning in <TROOT::Append>: Replacing existing TH1: histMgenMC_bkg (Potential memory leak).\n",
      "Warning in <TROOT::Append>: Replacing existing TH1: histMdetMC_bkg (Potential memory leak).\n",
      "Warning in <TROOT::Append>: Replacing existing TH1: histMgenMC_sig (Potential memory leak).\n",
      "Warning in <TROOT::Append>: Replacing existing TH1: histMdetMC_sig (Potential memory leak).\n",
      "Warning in <TROOT::Append>: Replacing existing TH1: histMdetData (Potential memory leak).\n",
      "Warning in <TROOT::Append>: Replacing existing TH1: response (Potential memory leak).\n",
      "Warning in <TROOT::Append>: Replacing existing TH1: purity (Potential memory leak).\n",
      "Warning in <TROOT::Append>: Replacing existing TH1: stability (Potential memory leak).\n",
      "Info in <TUnfold::SetConstraint>: fConstraint=0\n",
      "Info in <TUnfold::TUnfold>: underflow and overflow bin do not depend on the input data\n",
      "Info in <TUnfold::TUnfold>: 12 input bins and 6 output bins\n",
      "Info in <TUnfoldDensity::TUnfold>: *NOT* unfolding bin #0 (yaxis:#tau_{2,1}^{1}(gen_sig)[ufl])\n",
      "Info in <TUnfoldDensity::TUnfold>: *NOT* unfolding bin #7 (yaxis:#tau_{2,1}^{1}(gen_sig)[ofl])\n",
      "Info in <TUnfoldDensity::RegularizeOneDistribution>: regularizing yaxis regMode=3 densityMode=1 axisSteering=*[UOB]\n",
      "Info in <TUnfold::SetConstraint>: fConstraint=0\n",
      "Info in <TUnfold::TUnfold>: underflow and overflow bin do not depend on the input data\n",
      "Info in <TUnfold::TUnfold>: 12 input bins and 6 output bins\n",
      "Info in <TUnfoldDensity::TUnfold>: *NOT* unfolding bin #0 (yaxis:#tau_{2,1}^{1}(gen_sig)[ufl])\n",
      "Info in <TUnfoldDensity::TUnfold>: *NOT* unfolding bin #7 (yaxis:#tau_{2,1}^{1}(gen_sig)[ofl])\n",
      "Info in <TUnfoldDensity::RegularizeOneDistribution>: regularizing yaxis regMode=3 densityMode=1 axisSteering=*[UOB]\n",
      "Warning in <TUnfoldDensity::SetInput>: One input bin has zero error, and is ignored.\n",
      "Warning in <TUnfoldDensity::SetInput>: One input bin has zero error, and is ignored.\n",
      "Warning in <TROOT::Append>: Replacing existing TH1: unfolded_data (Potential memory leak).\n",
      "Warning in <TROOT::Append>: Replacing existing TH1: closure_unfolded_MC (Potential memory leak).\n",
      "Warning in <TROOT::Append>: Replacing existing TH1: histMgenMC_bkg (Potential memory leak).\n",
      "Warning in <TROOT::Append>: Replacing existing TH1: histMdetMC_bkg (Potential memory leak).\n",
      "Warning in <TROOT::Append>: Replacing existing TH1: histMgenMC_sig (Potential memory leak).\n",
      "Warning in <TROOT::Append>: Replacing existing TH1: histMdetMC_sig (Potential memory leak).\n",
      "Warning in <TROOT::Append>: Replacing existing TH1: histMdetData (Potential memory leak).\n",
      "Warning in <TROOT::Append>: Replacing existing TH1: response (Potential memory leak).\n",
      "Warning in <TROOT::Append>: Replacing existing TH1: purity (Potential memory leak).\n",
      "Warning in <TROOT::Append>: Replacing existing TH1: stability (Potential memory leak).\n",
      "Info in <TUnfold::SetConstraint>: fConstraint=0\n",
      "Info in <TUnfold::TUnfold>: underflow and overflow bin do not depend on the input data\n",
      "Info in <TUnfold::TUnfold>: 18 input bins and 9 output bins\n",
      "Info in <TUnfoldDensity::TUnfold>: *NOT* unfolding bin #0 (yaxis:#tau_{2,1}^{1}(gen_sig)[ufl])\n",
      "Info in <TUnfoldDensity::TUnfold>: *NOT* unfolding bin #10 (yaxis:#tau_{2,1}^{1}(gen_sig)[ofl])\n",
      "Info in <TUnfoldDensity::RegularizeOneDistribution>: regularizing yaxis regMode=3 densityMode=1 axisSteering=*[UOB]\n",
      "Info in <TUnfold::SetConstraint>: fConstraint=0\n",
      "Info in <TUnfold::TUnfold>: underflow and overflow bin do not depend on the input data\n",
      "Info in <TUnfold::TUnfold>: 18 input bins and 9 output bins\n",
      "Info in <TUnfoldDensity::TUnfold>: *NOT* unfolding bin #0 (yaxis:#tau_{2,1}^{1}(gen_sig)[ufl])\n",
      "Info in <TUnfoldDensity::TUnfold>: *NOT* unfolding bin #10 (yaxis:#tau_{2,1}^{1}(gen_sig)[ofl])\n",
      "Info in <TUnfoldDensity::RegularizeOneDistribution>: regularizing yaxis regMode=3 densityMode=1 axisSteering=*[UOB]\n",
      "Warning in <TUnfoldDensity::SetInput>: 2/18 input bins have zero error, and are ignored.\n",
      "Warning in <TUnfoldDensity::SetInput>: One input bin has zero error, and is ignored.\n",
      "Warning in <TROOT::Append>: Replacing existing TH1: unfolded_data (Potential memory leak).\n",
      "Warning in <TROOT::Append>: Replacing existing TH1: closure_unfolded_MC (Potential memory leak).\n",
      "Warning in <TROOT::Append>: Replacing existing TH1: histMgenMC_bkg (Potential memory leak).\n",
      "Warning in <TROOT::Append>: Replacing existing TH1: histMdetMC_bkg (Potential memory leak).\n",
      "Warning in <TROOT::Append>: Replacing existing TH1: histMgenMC_sig (Potential memory leak).\n",
      "Warning in <TROOT::Append>: Replacing existing TH1: histMdetMC_sig (Potential memory leak).\n",
      "Warning in <TROOT::Append>: Replacing existing TH1: histMdetData (Potential memory leak).\n",
      "Warning in <TROOT::Append>: Replacing existing TH1: response (Potential memory leak).\n",
      "Warning in <TROOT::Append>: Replacing existing TH1: purity (Potential memory leak).\n",
      "Warning in <TROOT::Append>: Replacing existing TH1: stability (Potential memory leak).\n",
      "Info in <TUnfold::SetConstraint>: fConstraint=0\n",
      "Info in <TUnfold::TUnfold>: underflow and overflow bin do not depend on the input data\n",
      "Info in <TUnfold::TUnfold>: 16 input bins and 8 output bins\n",
      "Info in <TUnfoldDensity::TUnfold>: *NOT* unfolding bin #0 (yaxis:#tau_{2,1}^{1}(gen_sig)[ufl])\n",
      "Info in <TUnfoldDensity::TUnfold>: *NOT* unfolding bin #9 (yaxis:#tau_{2,1}^{1}(gen_sig)[ofl])\n",
      "Info in <TUnfoldDensity::RegularizeOneDistribution>: regularizing yaxis regMode=3 densityMode=1 axisSteering=*[UOB]\n",
      "Info in <TUnfold::SetConstraint>: fConstraint=0\n",
      "Info in <TUnfold::TUnfold>: underflow and overflow bin do not depend on the input data\n",
      "Info in <TUnfold::TUnfold>: 16 input bins and 8 output bins\n",
      "Info in <TUnfoldDensity::TUnfold>: *NOT* unfolding bin #0 (yaxis:#tau_{2,1}^{1}(gen_sig)[ufl])\n",
      "Info in <TUnfoldDensity::TUnfold>: *NOT* unfolding bin #9 (yaxis:#tau_{2,1}^{1}(gen_sig)[ofl])\n",
      "Info in <TUnfoldDensity::RegularizeOneDistribution>: regularizing yaxis regMode=3 densityMode=1 axisSteering=*[UOB]\n",
      "Warning in <TUnfoldDensity::SetInput>: One input bin has zero error, and is ignored.\n",
      "Warning in <TUnfoldDensity::SetInput>: One input bin has zero error, and is ignored.\n",
      "Warning in <TROOT::Append>: Replacing existing TH1: unfolded_data (Potential memory leak).\n",
      "Warning in <TROOT::Append>: Replacing existing TH1: closure_unfolded_MC (Potential memory leak).\n",
      "Warning in <TROOT::Append>: Replacing existing TH1: histMgenMC_bkg (Potential memory leak).\n",
      "Warning in <TROOT::Append>: Replacing existing TH1: histMdetMC_bkg (Potential memory leak).\n",
      "Warning in <TROOT::Append>: Replacing existing TH1: histMgenMC_sig (Potential memory leak).\n",
      "Warning in <TROOT::Append>: Replacing existing TH1: histMdetMC_sig (Potential memory leak).\n",
      "Warning in <TROOT::Append>: Replacing existing TH1: histMdetData (Potential memory leak).\n",
      "Warning in <TROOT::Append>: Replacing existing TH1: response (Potential memory leak).\n",
      "Warning in <TROOT::Append>: Replacing existing TH1: purity (Potential memory leak).\n",
      "Warning in <TROOT::Append>: Replacing existing TH1: stability (Potential memory leak).\n",
      "Info in <TUnfold::SetConstraint>: fConstraint=0\n",
      "Info in <TUnfold::TUnfold>: underflow and overflow bin do not depend on the input data\n",
      "Info in <TUnfold::TUnfold>: 14 input bins and 7 output bins\n",
      "Info in <TUnfoldDensity::TUnfold>: *NOT* unfolding bin #0 (yaxis:#tau_{2,1}^{1}(gen_sig)[ufl])\n",
      "Info in <TUnfoldDensity::TUnfold>: *NOT* unfolding bin #8 (yaxis:#tau_{2,1}^{1}(gen_sig)[ofl])\n",
      "Info in <TUnfoldDensity::RegularizeOneDistribution>: regularizing yaxis regMode=3 densityMode=1 axisSteering=*[UOB]\n",
      "Info in <TUnfold::SetConstraint>: fConstraint=0\n",
      "Info in <TUnfold::TUnfold>: underflow and overflow bin do not depend on the input data\n",
      "Info in <TUnfold::TUnfold>: 14 input bins and 7 output bins\n",
      "Info in <TUnfoldDensity::TUnfold>: *NOT* unfolding bin #0 (yaxis:#tau_{2,1}^{1}(gen_sig)[ufl])\n",
      "Info in <TUnfoldDensity::TUnfold>: *NOT* unfolding bin #8 (yaxis:#tau_{2,1}^{1}(gen_sig)[ofl])\n",
      "Info in <TUnfoldDensity::RegularizeOneDistribution>: regularizing yaxis regMode=3 densityMode=1 axisSteering=*[UOB]\n",
      "Warning in <TUnfoldDensity::SetInput>: 2/14 input bins have zero error, and are ignored.\n",
      "Warning in <TROOT::Append>: Replacing existing TH1: unfolded_data (Potential memory leak).\n",
      "Warning in <TROOT::Append>: Replacing existing TH1: closure_unfolded_MC (Potential memory leak).\n",
      "Warning in <TROOT::Append>: Replacing existing TH1: histMgenMC_bkg (Potential memory leak).\n",
      "Warning in <TROOT::Append>: Replacing existing TH1: histMdetMC_bkg (Potential memory leak).\n",
      "Warning in <TROOT::Append>: Replacing existing TH1: histMgenMC_sig (Potential memory leak).\n",
      "Warning in <TROOT::Append>: Replacing existing TH1: histMdetMC_sig (Potential memory leak).\n",
      "Warning in <TROOT::Append>: Replacing existing TH1: histMdetData (Potential memory leak).\n",
      "Warning in <TROOT::Append>: Replacing existing TH1: response (Potential memory leak).\n",
      "Warning in <TROOT::Append>: Replacing existing TH1: purity (Potential memory leak).\n",
      "Warning in <TROOT::Append>: Replacing existing TH1: stability (Potential memory leak).\n",
      "Info in <TUnfold::SetConstraint>: fConstraint=0\n",
      "Info in <TUnfold::TUnfold>: underflow and overflow bin do not depend on the input data\n",
      "Info in <TUnfold::TUnfold>: 20 input bins and 10 output bins\n",
      "Info in <TUnfoldDensity::TUnfold>: *NOT* unfolding bin #0 (yaxis:#tau_{2,1}^{1}(gen_sig)[ufl])\n",
      "Info in <TUnfoldDensity::TUnfold>: *NOT* unfolding bin #11 (yaxis:#tau_{2,1}^{1}(gen_sig)[ofl])\n",
      "Info in <TUnfoldDensity::RegularizeOneDistribution>: regularizing yaxis regMode=3 densityMode=1 axisSteering=*[UOB]\n",
      "Info in <TUnfold::SetConstraint>: fConstraint=0\n",
      "Info in <TUnfold::TUnfold>: underflow and overflow bin do not depend on the input data\n",
      "Info in <TUnfold::TUnfold>: 20 input bins and 10 output bins\n",
      "Info in <TUnfoldDensity::TUnfold>: *NOT* unfolding bin #0 (yaxis:#tau_{2,1}^{1}(gen_sig)[ufl])\n",
      "Info in <TUnfoldDensity::TUnfold>: *NOT* unfolding bin #11 (yaxis:#tau_{2,1}^{1}(gen_sig)[ofl])\n",
      "Info in <TUnfoldDensity::RegularizeOneDistribution>: regularizing yaxis regMode=3 densityMode=1 axisSteering=*[UOB]\n",
      "Warning in <TUnfoldDensity::SetInput>: 2/20 input bins have zero error, and are ignored.\n",
      "Warning in <TROOT::Append>: Replacing existing TH1: unfolded_data (Potential memory leak).\n",
      "Warning in <TROOT::Append>: Replacing existing TH1: closure_unfolded_MC (Potential memory leak).\n",
      "Warning in <TROOT::Append>: Replacing existing TH1: histMgenMC_bkg (Potential memory leak).\n",
      "Warning in <TROOT::Append>: Replacing existing TH1: histMdetMC_bkg (Potential memory leak).\n",
      "Warning in <TROOT::Append>: Replacing existing TH1: histMgenMC_sig (Potential memory leak).\n",
      "Warning in <TROOT::Append>: Replacing existing TH1: histMdetMC_sig (Potential memory leak).\n",
      "Warning in <TROOT::Append>: Replacing existing TH1: histMdetData (Potential memory leak).\n",
      "Warning in <TROOT::Append>: Replacing existing TH1: response (Potential memory leak).\n",
      "Warning in <TROOT::Append>: Replacing existing TH1: purity (Potential memory leak).\n",
      "Warning in <TROOT::Append>: Replacing existing TH1: stability (Potential memory leak).\n",
      "Info in <TUnfold::SetConstraint>: fConstraint=0\n",
      "Info in <TUnfold::TUnfold>: underflow and overflow bin do not depend on the input data\n",
      "Info in <TUnfold::TUnfold>: 24 input bins and 12 output bins\n",
      "Info in <TUnfoldDensity::TUnfold>: *NOT* unfolding bin #0 (yaxis:#tau_{2,1}^{1}(gen_sig)[ufl])\n",
      "Info in <TUnfoldDensity::TUnfold>: *NOT* unfolding bin #13 (yaxis:#tau_{2,1}^{1}(gen_sig)[ofl])\n",
      "Info in <TUnfoldDensity::RegularizeOneDistribution>: regularizing yaxis regMode=3 densityMode=1 axisSteering=*[UOB]\n",
      "Info in <TUnfold::SetConstraint>: fConstraint=0\n",
      "Info in <TUnfold::TUnfold>: underflow and overflow bin do not depend on the input data\n",
      "Info in <TUnfold::TUnfold>: 24 input bins and 12 output bins\n",
      "Info in <TUnfoldDensity::TUnfold>: *NOT* unfolding bin #0 (yaxis:#tau_{2,1}^{1}(gen_sig)[ufl])\n",
      "Info in <TUnfoldDensity::TUnfold>: *NOT* unfolding bin #13 (yaxis:#tau_{2,1}^{1}(gen_sig)[ofl])\n",
      "Info in <TUnfoldDensity::RegularizeOneDistribution>: regularizing yaxis regMode=3 densityMode=1 axisSteering=*[UOB]\n",
      "Warning in <TUnfoldDensity::SetInput>: 2/24 input bins have zero error, and are ignored.\n",
      "Warning in <TROOT::Append>: Replacing existing TH1: unfolded_data (Potential memory leak).\n",
      "Warning in <TROOT::Append>: Replacing existing TH1: closure_unfolded_MC (Potential memory leak).\n",
      "Warning in <TROOT::Append>: Replacing existing TH1: histMgenMC_bkg (Potential memory leak).\n",
      "Warning in <TROOT::Append>: Replacing existing TH1: histMdetMC_bkg (Potential memory leak).\n",
      "Warning in <TROOT::Append>: Replacing existing TH1: histMgenMC_sig (Potential memory leak).\n",
      "Warning in <TROOT::Append>: Replacing existing TH1: histMdetMC_sig (Potential memory leak).\n",
      "Warning in <TROOT::Append>: Replacing existing TH1: histMdetData (Potential memory leak).\n",
      "Warning in <TROOT::Append>: Replacing existing TH1: response (Potential memory leak).\n",
      "Warning in <TROOT::Append>: Replacing existing TH1: purity (Potential memory leak).\n",
      "Warning in <TROOT::Append>: Replacing existing TH1: stability (Potential memory leak).\n",
      "Info in <TUnfold::SetConstraint>: fConstraint=0\n",
      "Info in <TUnfold::TUnfold>: underflow and overflow bin do not depend on the input data\n",
      "Info in <TUnfold::TUnfold>: 14 input bins and 7 output bins\n",
      "Info in <TUnfoldDensity::TUnfold>: *NOT* unfolding bin #0 (yaxis:#tau_{2,1}^{1}(gen_sig)[ufl])\n",
      "Info in <TUnfoldDensity::TUnfold>: *NOT* unfolding bin #8 (yaxis:#tau_{2,1}^{1}(gen_sig)[ofl])\n",
      "Info in <TUnfoldDensity::RegularizeOneDistribution>: regularizing yaxis regMode=3 densityMode=1 axisSteering=*[UOB]\n",
      "Info in <TUnfold::SetConstraint>: fConstraint=0\n",
      "Info in <TUnfold::TUnfold>: underflow and overflow bin do not depend on the input data\n",
      "Info in <TUnfold::TUnfold>: 14 input bins and 7 output bins\n",
      "Info in <TUnfoldDensity::TUnfold>: *NOT* unfolding bin #0 (yaxis:#tau_{2,1}^{1}(gen_sig)[ufl])\n",
      "Info in <TUnfoldDensity::TUnfold>: *NOT* unfolding bin #8 (yaxis:#tau_{2,1}^{1}(gen_sig)[ofl])\n",
      "Info in <TUnfoldDensity::RegularizeOneDistribution>: regularizing yaxis regMode=3 densityMode=1 axisSteering=*[UOB]\n",
      "Warning in <TUnfoldDensity::SetInput>: 2/14 input bins have zero error, and are ignored.\n",
      "Warning in <TROOT::Append>: Replacing existing TH1: unfolded_data (Potential memory leak).\n",
      "Warning in <TROOT::Append>: Replacing existing TH1: closure_unfolded_MC (Potential memory leak).\n",
      "Warning in <TROOT::Append>: Replacing existing TH1: histMgenMC_bkg (Potential memory leak).\n",
      "Warning in <TROOT::Append>: Replacing existing TH1: histMdetMC_bkg (Potential memory leak).\n",
      "Warning in <TROOT::Append>: Replacing existing TH1: histMgenMC_sig (Potential memory leak).\n",
      "Warning in <TROOT::Append>: Replacing existing TH1: histMdetMC_sig (Potential memory leak).\n",
      "Warning in <TROOT::Append>: Replacing existing TH1: histMdetData (Potential memory leak).\n",
      "Warning in <TROOT::Append>: Replacing existing TH1: response (Potential memory leak).\n",
      "Warning in <TROOT::Append>: Replacing existing TH1: purity (Potential memory leak).\n",
      "Warning in <TROOT::Append>: Replacing existing TH1: stability (Potential memory leak).\n",
      "Info in <TUnfold::SetConstraint>: fConstraint=0\n",
      "Info in <TUnfold::TUnfold>: underflow and overflow bin do not depend on the input data\n",
      "Info in <TUnfold::TUnfold>: 20 input bins and 10 output bins\n",
      "Info in <TUnfoldDensity::TUnfold>: *NOT* unfolding bin #0 (yaxis:#tau_{2,1}^{1}(gen_sig)[ufl])\n",
      "Info in <TUnfoldDensity::TUnfold>: *NOT* unfolding bin #11 (yaxis:#tau_{2,1}^{1}(gen_sig)[ofl])\n",
      "Info in <TUnfoldDensity::RegularizeOneDistribution>: regularizing yaxis regMode=3 densityMode=1 axisSteering=*[UOB]\n",
      "Info in <TUnfold::SetConstraint>: fConstraint=0\n",
      "Info in <TUnfold::TUnfold>: underflow and overflow bin do not depend on the input data\n",
      "Info in <TUnfold::TUnfold>: 20 input bins and 10 output bins\n",
      "Info in <TUnfoldDensity::TUnfold>: *NOT* unfolding bin #0 (yaxis:#tau_{2,1}^{1}(gen_sig)[ufl])\n",
      "Info in <TUnfoldDensity::TUnfold>: *NOT* unfolding bin #11 (yaxis:#tau_{2,1}^{1}(gen_sig)[ofl])\n",
      "Info in <TUnfoldDensity::RegularizeOneDistribution>: regularizing yaxis regMode=3 densityMode=1 axisSteering=*[UOB]\n",
      "Warning in <TUnfoldDensity::SetInput>: 2/20 input bins have zero error, and are ignored.\n",
      "Warning in <TROOT::Append>: Replacing existing TH1: unfolded_data (Potential memory leak).\n",
      "Warning in <TROOT::Append>: Replacing existing TH1: closure_unfolded_MC (Potential memory leak).\n",
      "Warning in <TROOT::Append>: Replacing existing TH1: histMgenMC_bkg (Potential memory leak).\n",
      "Warning in <TROOT::Append>: Replacing existing TH1: histMdetMC_bkg (Potential memory leak).\n",
      "Warning in <TROOT::Append>: Replacing existing TH1: histMgenMC_sig (Potential memory leak).\n",
      "Warning in <TROOT::Append>: Replacing existing TH1: histMdetMC_sig (Potential memory leak).\n",
      "Warning in <TROOT::Append>: Replacing existing TH1: histMdetData (Potential memory leak).\n",
      "Warning in <TROOT::Append>: Replacing existing TH1: response (Potential memory leak).\n",
      "Warning in <TROOT::Append>: Replacing existing TH1: purity (Potential memory leak).\n",
      "Warning in <TROOT::Append>: Replacing existing TH1: stability (Potential memory leak).\n",
      "Info in <TUnfold::SetConstraint>: fConstraint=0\n",
      "Info in <TUnfold::TUnfold>: underflow and overflow bin do not depend on the input data\n",
      "Info in <TUnfold::TUnfold>: 24 input bins and 12 output bins\n",
      "Info in <TUnfoldDensity::TUnfold>: *NOT* unfolding bin #0 (yaxis:#tau_{2,1}^{1}(gen_sig)[ufl])\n",
      "Info in <TUnfoldDensity::TUnfold>: *NOT* unfolding bin #13 (yaxis:#tau_{2,1}^{1}(gen_sig)[ofl])\n",
      "Info in <TUnfoldDensity::RegularizeOneDistribution>: regularizing yaxis regMode=3 densityMode=1 axisSteering=*[UOB]\n",
      "Info in <TUnfold::SetConstraint>: fConstraint=0\n",
      "Info in <TUnfold::TUnfold>: underflow and overflow bin do not depend on the input data\n",
      "Info in <TUnfold::TUnfold>: 24 input bins and 12 output bins\n",
      "Info in <TUnfoldDensity::TUnfold>: *NOT* unfolding bin #0 (yaxis:#tau_{2,1}^{1}(gen_sig)[ufl])\n",
      "Info in <TUnfoldDensity::TUnfold>: *NOT* unfolding bin #13 (yaxis:#tau_{2,1}^{1}(gen_sig)[ofl])\n",
      "Info in <TUnfoldDensity::RegularizeOneDistribution>: regularizing yaxis regMode=3 densityMode=1 axisSteering=*[UOB]\n",
      "Warning in <TUnfoldDensity::SetInput>: 2/24 input bins have zero error, and are ignored.\n",
      "Warning in <TROOT::Append>: Replacing existing TH1: unfolded_data (Potential memory leak).\n",
      "Warning in <TROOT::Append>: Replacing existing TH1: closure_unfolded_MC (Potential memory leak).\n"
     ]
    }
   ],
   "source": [
    "purities = []\n",
    "stabilities = []\n",
    "h_unfoldings = [] \n",
    "h_responses = []\n",
    "\n",
    "h_purities = ROOT.THStack(\"purities\",\"purities\")\n",
    "h_stabilities = ROOT.THStack(\"stabilities\",\"stabilities\")\n",
    "legus = []\n",
    "\n",
    "leg_p = ROOT.TLegend(0.75, 0.5, 0.9, 0.9)\n",
    "leg_p.SetLineColor(0)\n",
    "leg_p.SetBorderSize(0)\n",
    "leg_p.SetFillStyle(0)\n",
    "\n",
    "leg_s = ROOT.TLegend(0.75, 0.5, 0.9, 0.9)\n",
    "leg_s.SetLineColor(0)\n",
    "leg_s.SetBorderSize(0)\n",
    "leg_s.SetFillStyle(0)\n",
    "\n",
    "for i in xrange(len(det_bins_arr)):\n",
    "    k=i\n",
    "    gen_bins = gen_bins_arr[i]\n",
    "    det_bins = det_bins_arr[i]\n",
    "    \n",
    "    histMgenMC_bkg, histMdetMC_bkg, histMgenMC_sig, histMdetMC_sig, histMdetData, response = fill_hists(gen_bins, det_bins,\n",
    "                                                                                              MC_sig_reco_tau21, MC_sig_gen_tau21,\n",
    "                                                                                              MC_bkg_reco_tau21, MC_bkg_gen_tau21,\n",
    "                                                                                              data_tau21);\n",
    "    response.SetTitle(\"Response Matrix #tau_{2,1}^{WTA} binning %d\"%(i+1))\n",
    "    h_responses.append(response)\n",
    "    print \"Gen-level bins %d\"%i, gen_bins\n",
    "    print \"Detector-level bins %d\"%i, det_bins\n",
    "    '''\n",
    "    c0 = ROOT.TCanvas(\"chistMgenMC_sig1\", \"chistMgenMC_sig1\")\n",
    "    histMgenMC_sig.Draw(\"e\")\n",
    "    histMdetMC_sig.SetLineColor(ROOT.kRed+i)\n",
    "    histMdetMC_sig.Draw(\"e same\")\n",
    "    c0.Update()\n",
    "    c0.Draw()\n",
    "    c0.Print()\n",
    "    \n",
    "    \n",
    "    c1 = ROOT.TCanvas(\"chistMgenMC_bkg1\", \"chistMgenMC_bkg1\")\n",
    "    histMgenMC_bkg.Draw(\"e\")\n",
    "    histMdetMC_bkg.SetLineColor(ROOT.kRed+i)\n",
    "    histMdetMC_bkg.Draw(\"e same\")\n",
    "    c1.Update()\n",
    "    c1.Draw()\n",
    "    c1.Print()\n",
    "    \n",
    "    c2 = ROOT.TCanvas(\"chistMgenMC_sig1\", \"chistMgenMC_sig1\")\n",
    "    histMdetData.Draw(\"e \")\n",
    "    c2.Update()\n",
    "    c2.Draw()\n",
    "    c2.Print()\n",
    "    \n",
    "    c3 = ROOT.TCanvas(\"cresponse1\", \"cresponse1\")\n",
    "    response.Draw(\"colz\")\n",
    "    c3.Update()\n",
    "    c3.Draw()\n",
    "    c3.Print()\n",
    "    '''\n",
    "    purity, stability = purity_stability_calc(gen_bins, MC_sig_gen_tau21, det_bins, MC_sig_reco_tau21, verbose=False );\n",
    "    \n",
    "    if k==9:\n",
    "        k=ROOT.kGreen+9\n",
    "    purity.SetTitle(\"purity %d\"%(i+1))\n",
    "    #purity.SetLineStyle(i)\n",
    "    purity.SetLineColor(k+1)\n",
    "    \n",
    "    stability.SetTitle(\"stability %d\"%(i+1))\n",
    "    #stability.SetLineStyle(i)\n",
    "    stability.SetLineColor(k+1)\n",
    "    \n",
    "    purities.append(purity)\n",
    "    stabilities.append(stability)\n",
    "    \n",
    "    h_purities.Add(purity)\n",
    "    h_stabilities.Add(stability)\n",
    "    \n",
    "    leg_s.AddEntry( stability, \"bins%d\"%(i+1))\n",
    "    leg_p.AddEntry( purity, \"bins%d\"%(i+1))\n",
    "    \n",
    "    hu, legu = doUnfolding(response, histMdetData, histMdetMC_sig, histMdetMC_bkg, histMgenMC_sig)\n",
    "    hu.SetTitle(\"#tau_{2,1}^{WTA} binning %d\"%(i+1))\n",
    "    h_unfoldings.append(hu)\n",
    "    legus.append(legu)"
   ]
  },
  {
   "cell_type": "code",
   "execution_count": 151,
   "metadata": {
    "scrolled": true
   },
   "outputs": [
    {
     "name": "stderr",
     "output_type": "stream",
     "text": [
      "Warning in <TCanvas::Constructor>: Deleting canvas with same name: pse_ttbar\n",
      "Info in <TCanvas::Print>: png file Purities_tau21_WTAkT_Wsel_powheg.png has been created\n"
     ]
    }
   ],
   "source": [
    "cpse = ROOT.TCanvas(\"pse_ttbar\", \"pse_ttbar\", )\n",
    "#cpse.cd()\n",
    "h_purities.Draw(\"nostack\")\n",
    "leg_p.Draw()\n",
    "#cpse.Draw()\n",
    "cpse.SaveAs(\"Purities_tau21_WTAkT_Wsel_powheg.png\")\n",
    "#cpse.Print()\n",
    "#cpse.Delete()"
   ]
  },
  {
   "cell_type": "code",
   "execution_count": 152,
   "metadata": {},
   "outputs": [
    {
     "name": "stderr",
     "output_type": "stream",
     "text": [
      "Warning in <TCanvas::Constructor>: Deleting canvas with same name: pse1_ttbar\n",
      "Info in <TCanvas::Print>: png file Stabilities_tau21_WTAkT_Wsel_powheg.png has been created\n"
     ]
    }
   ],
   "source": [
    "cpse1 = ROOT.TCanvas(\"pse1_ttbar\", \"pse1_ttbar\", )\n",
    "h_stabilities.Draw(\"nostack\")\n",
    "leg_s.Draw()\n",
    "#cpse1.Draw()\n",
    "#cpse1.Draw()\n",
    "cpse1.SaveAs(\"Stabilities_tau21_WTAkT_Wsel_powheg.png\")\n",
    "#cpse1.Print()"
   ]
  },
  {
   "cell_type": "code",
   "execution_count": 153,
   "metadata": {
    "scrolled": true
   },
   "outputs": [
    {
     "name": "stderr",
     "output_type": "stream",
     "text": [
      "Warning in <TCanvas::Constructor>: Deleting canvas with same name: c5\n",
      "Info in <TCanvas::Print>: png file Tau21_unfoldings_WTAkT_Wsel_powheg.png has been created\n"
     ]
    },
    {
     "data": {
      "text/html": [
       "\n",
       "<div id=\"root_plot_10\"\n",
       "     style=\"width: 1196px; height: 1052px\">\n",
       "</div>\n",
       "\n",
       "<script>\n",
       " requirejs.config({\n",
       "     paths: {\n",
       "       'JSRootCore' : 'https://root.cern.ch/js/notebook//scripts/JSRootCore',\n",
       "     }\n",
       "   });\n",
       " require(['JSRootCore'],\n",
       "     function(Core) {\n",
       "       var obj = Core.JSONR_unref({\"_typename\":\"TCanvas\",\"fUniqueID\":0,\"fBits\":53673992,\"fLineColor\":1,\"fLineStyle\":1,\"fLineWidth\":1,\"fFillColor\":0,\"fFillStyle\":1001,\"fLeftMargin\":0.1,\"fRightMargin\":0.1,\"fBottomMargin\":0.1,\"fTopMargin\":0.1,\"fXfile\":2,\"fYfile\":2,\"fAfile\":1,\"fXstat\":0.99,\"fYstat\":0.99,\"fAstat\":2,\"fFrameFillColor\":0,\"fFrameLineColor\":1,\"fFrameFillStyle\":1001,\"fFrameLineStyle\":1,\"fFrameLineWidth\":1,\"fFrameBorderSize\":1,\"fFrameBorderMode\":0,\"fX1\":0,\"fY1\":0,\"fX2\":1,\"fY2\":1,\"fXtoAbsPixelk\":5e-5,\"fXtoPixelk\":5e-5,\"fXtoPixel\":1196,\"fYtoAbsPixelk\":1052.00005,\"fYtoPixelk\":1052.00005,\"fYtoPixel\":-1052,\"fUtoAbsPixelk\":5e-5,\"fUtoPixelk\":5e-5,\"fUtoPixel\":1196,\"fVtoAbsPixelk\":1052.00005,\"fVtoPixelk\":1052,\"fVtoPixel\":-1052,\"fAbsPixeltoXk\":0,\"fPixeltoXk\":0,\"fPixeltoX\":8.36120401337793e-4,\"fAbsPixeltoYk\":1,\"fPixeltoYk\":0,\"fPixeltoY\":-9.50570342205323e-4,\"fXlowNDC\":0,\"fYlowNDC\":0,\"fXUpNDC\":0,\"fYUpNDC\":0,\"fWNDC\":1,\"fHNDC\":1,\"fAbsXlowNDC\":0,\"fAbsYlowNDC\":0,\"fAbsWNDC\":1,\"fAbsHNDC\":1,\"fUxmin\":0,\"fUymin\":0,\"fUxmax\":1,\"fUymax\":1,\"fTheta\":30,\"fPhi\":30,\"fAspectRatio\":0,\"fNumber\":0,\"fTickx\":0,\"fTicky\":0,\"fLogx\":0,\"fLogy\":0,\"fLogz\":0,\"fPadPaint\":0,\"fCrosshair\":0,\"fCrosshairPos\":0,\"fBorderSize\":2,\"fBorderMode\":0,\"fModified\":false,\"fGridx\":false,\"fGridy\":false,\"fAbsCoord\":false,\"fEditable\":true,\"fFixedAspectRatio\":false,\"fPrimitives\":{\"_typename\":\"TList\",\"name\":\"TList\",\"arr\":[{\"_typename\":\"TPad\",\"fUniqueID\":0,\"fBits\":50331657,\"fLineColor\":1,\"fLineStyle\":1,\"fLineWidth\":1,\"fFillColor\":0,\"fFillStyle\":1001,\"fLeftMargin\":0.1,\"fRightMargin\":0.1,\"fBottomMargin\":0.1,\"fTopMargin\":0.1,\"fXfile\":2,\"fYfile\":2,\"fAfile\":1,\"fXstat\":0.99,\"fYstat\":0.99,\"fAstat\":2,\"fFrameFillColor\":0,\"fFrameLineColor\":1,\"fFrameFillStyle\":1001,\"fFrameLineStyle\":1,\"fFrameLineWidth\":1,\"fFrameBorderSize\":1,\"fFrameBorderMode\":0,\"fX1\":-0.125000009313226,\"fY1\":-791.706674271807,\"fX2\":1.12500000931323,\"fY2\":6178.28738528973,\"fXtoAbsPixelk\":49.4347186864695,\"fXtoPixelk\":37.4747189537963,\"fXtoPixel\":299.797329293728,\"fYtoAbsPixelk\":302.705130845892,\"fYtoPixelk\":292.185131081032,\"fYtoPixel\":-0.0472922450607774,\"fUtoAbsPixelk\":11.9600497326732,\"fUtoPixelk\":5e-5,\"fUtoPixel\":374.74666720132,\"fVtoAbsPixelk\":340.146716901807,\"fVtoPixelk\":329.626667136947,\"fVtoPixel\":-329.626667136947,\"fAbsPixeltoXk\":-0.164893625980356,\"fPixeltoXk\":-0.125000009313226,\"fPixeltoX\":0.00333558675240981,\"fAbsPixeltoYk\":6400.73399892247,\"fPixeltoYk\":-791.706674271807,\"fPixeltoY\":-21.1451158369592,\"fXlowNDC\":0.00999999977648258,\"fYlowNDC\":0.676666666443149,\"fXUpNDC\":0,\"fYUpNDC\":0,\"fWNDC\":0.313333333780368,\"fHNDC\":0.313333333780368,\"fAbsXlowNDC\":0.00999999977648258,\"fAbsYlowNDC\":0.676666666443149,\"fAbsWNDC\":0.313333333780368,\"fAbsHNDC\":0.313333333780368,\"fUxmin\":0,\"fUymin\":-94.707226771249,\"fUxmax\":1,\"fUymax\":5481.28793778917,\"fTheta\":30,\"fPhi\":30,\"fAspectRatio\":0,\"fNumber\":1,\"fTickx\":0,\"fTicky\":0,\"fLogx\":0,\"fLogy\":0,\"fLogz\":0,\"fPadPaint\":0,\"fCrosshair\":0,\"fCrosshairPos\":0,\"fBorderSize\":2,\"fBorderMode\":0,\"fModified\":false,\"fGridx\":false,\"fGridy\":false,\"fAbsCoord\":false,\"fEditable\":true,\"fFixedAspectRatio\":false,\"fPrimitives\":{\"_typename\":\"TList\",\"name\":\"TList\",\"arr\":[{\"_typename\":\"TFrame\",\"fUniqueID\":0,\"fBits\":50331656,\"fLineColor\":1,\"fLineStyle\":1,\"fLineWidth\":1,\"fFillColor\":0,\"fFillStyle\":1001,\"fX1\":0,\"fY1\":-94.707226771249,\"fX2\":1,\"fY2\":5481.28793778917,\"fBorderSize\":1,\"fBorderMode\":0},{\"_typename\":\"THStack\",\"fUniqueID\":0,\"fBits\":50331656,\"fName\":\"#tau_{2,1}^{WTA}\",\"fTitle\":\"#tau_{2,1}^{WTA} binning 1\",\"fHists\":{\"_typename\":\"TList\",\"name\":\"TList\",\"arr\":[{\"_typename\":\"TH1D\",\"fUniqueID\":0,\"fBits\":50332168,\"fName\":\"closure_unfolded_MC\",\"fTitle\":\"closure_unfolded_MC\",\"fLineColor\":7,\"fLineStyle\":1,\"fLineWidth\":1,\"fFillColor\":0,\"fFillStyle\":1001,\"fMarkerColor\":7,\"fMarkerStyle\":2,\"fMarkerSize\":1,\"fNcells\":8,\"fXaxis\":{\"_typename\":\"TAxis\",\"fUniqueID\":0,\"fBits\":50331648,\"fName\":\"xaxis\",\"fTitle\":\"#tau_{2,1}^{1}(gen_sig)\",\"fNdivisions\":510,\"fAxisColor\":1,\"fLabelColor\":1,\"fLabelFont\":42,\"fLabelOffset\":0.005,\"fLabelSize\":0.035,\"fTickLength\":0.03,\"fTitleOffset\":1,\"fTitleSize\":0.035,\"fTitleColor\":1,\"fTitleFont\":42,\"fNbins\":6,\"fXmin\":0,\"fXmax\":1,\"fXbins\":[0,0.16,0.32,0.48,0.64,0.8,1],\"fFirst\":0,\"fLast\":0,\"fBits2\":0,\"fTimeDisplay\":false,\"fTimeFormat\":\"\",\"fLabels\":null,\"fModLabs\":null},\"fYaxis\":{\"_typename\":\"TAxis\",\"fUniqueID\":0,\"fBits\":50331648,\"fName\":\"yaxis\",\"fTitle\":\"\",\"fNdivisions\":510,\"fAxisColor\":1,\"fLabelColor\":1,\"fLabelFont\":42,\"fLabelOffset\":0.005,\"fLabelSize\":0.035,\"fTickLength\":0.03,\"fTitleOffset\":0,\"fTitleSize\":0.035,\"fTitleColor\":1,\"fTitleFont\":42,\"fNbins\":1,\"fXmin\":0,\"fXmax\":1,\"fXbins\":[],\"fFirst\":0,\"fLast\":0,\"fBits2\":0,\"fTimeDisplay\":false,\"fTimeFormat\":\"\",\"fLabels\":null,\"fModLabs\":null},\"fZaxis\":{\"_typename\":\"TAxis\",\"fUniqueID\":0,\"fBits\":50331648,\"fName\":\"zaxis\",\"fTitle\":\"\",\"fNdivisions\":510,\"fAxisColor\":1,\"fLabelColor\":1,\"fLabelFont\":42,\"fLabelOffset\":0.005,\"fLabelSize\":0.035,\"fTickLength\":0.03,\"fTitleOffset\":1,\"fTitleSize\":0.035,\"fTitleColor\":1,\"fTitleFont\":42,\"fNbins\":1,\"fXmin\":0,\"fXmax\":1,\"fXbins\":[],\"fFirst\":0,\"fLast\":0,\"fBits2\":0,\"fTimeDisplay\":false,\"fTimeFormat\":\"\",\"fLabels\":null,\"fModLabs\":null},\"fBarOffset\":0,\"fBarWidth\":1000,\"fEntries\":14,\"fTsumw\":0,\"fTsumw2\":0,\"fTsumwx\":0,\"fTsumwx2\":0,\"fMaximum\":-1111,\"fMinimum\":-1111,\"fNormFactor\":0,\"fContour\":[],\"fSumw2\":[0,894.390224023255,3762.71472658824,3830.99260333889,2623.40109151698,1195.59991202459,443.128297864757,0],\"fOption\":\"\",\"fFunctions\":{\"_typename\":\"TList\",\"name\":\"TList\",\"arr\":[],\"opt\":[]},\"fBufferSize\":0,\"fBuffer\":[],\"fBinStatErrOpt\":0,\"fStatOverflows\":2,\"fArray\":[0,926.722096041283,5215.20791804703,4353.46910627566,2528.8125482277,838.065009141625,38.8609515774401,0]},{\"_typename\":\"TH1D\",\"fUniqueID\":0,\"fBits\":50332168,\"fName\":\"unfolded_data\",\"fTitle\":\"unfolded_data\",\"fLineColor\":1,\"fLineStyle\":1,\"fLineWidth\":2,\"fFillColor\":0,\"fFillStyle\":1001,\"fMarkerColor\":1,\"fMarkerStyle\":22,\"fMarkerSize\":1,\"fNcells\":8,\"fXaxis\":{\"_typename\":\"TAxis\",\"fUniqueID\":0,\"fBits\":50331648,\"fName\":\"xaxis\",\"fTitle\":\"#tau_{2,1}^{1}(gen_sig)\",\"fNdivisions\":510,\"fAxisColor\":1,\"fLabelColor\":1,\"fLabelFont\":42,\"fLabelOffset\":0.005,\"fLabelSize\":0.035,\"fTickLength\":0.03,\"fTitleOffset\":1,\"fTitleSize\":0.035,\"fTitleColor\":1,\"fTitleFont\":42,\"fNbins\":6,\"fXmin\":0,\"fXmax\":1,\"fXbins\":[0,0.16,0.32,0.48,0.64,0.8,1],\"fFirst\":0,\"fLast\":0,\"fBits2\":0,\"fTimeDisplay\":false,\"fTimeFormat\":\"\",\"fLabels\":null,\"fModLabs\":null},\"fYaxis\":{\"_typename\":\"TAxis\",\"fUniqueID\":0,\"fBits\":50331648,\"fName\":\"yaxis\",\"fTitle\":\"\",\"fNdivisions\":510,\"fAxisColor\":1,\"fLabelColor\":1,\"fLabelFont\":42,\"fLabelOffset\":0.005,\"fLabelSize\":0.035,\"fTickLength\":0.03,\"fTitleOffset\":0,\"fTitleSize\":0.035,\"fTitleColor\":1,\"fTitleFont\":42,\"fNbins\":1,\"fXmin\":0,\"fXmax\":1,\"fXbins\":[],\"fFirst\":0,\"fLast\":0,\"fBits2\":0,\"fTimeDisplay\":false,\"fTimeFormat\":\"\",\"fLabels\":null,\"fModLabs\":null},\"fZaxis\":{\"_typename\":\"TAxis\",\"fUniqueID\":0,\"fBits\":50331648,\"fName\":\"zaxis\",\"fTitle\":\"\",\"fNdivisions\":510,\"fAxisColor\":1,\"fLabelColor\":1,\"fLabelFont\":42,\"fLabelOffset\":0.005,\"fLabelSize\":0.035,\"fTickLength\":0.03,\"fTitleOffset\":1,\"fTitleSize\":0.035,\"fTitleColor\":1,\"fTitleFont\":42,\"fNbins\":1,\"fXmin\":0,\"fXmax\":1,\"fXbins\":[],\"fFirst\":0,\"fLast\":0,\"fBits2\":0,\"fTimeDisplay\":false,\"fTimeFormat\":\"\",\"fLabels\":null,\"fModLabs\":null},\"fBarOffset\":0,\"fBarWidth\":1000,\"fEntries\":14,\"fTsumw\":0,\"fTsumw2\":0,\"fTsumwx\":0,\"fTsumwx2\":0,\"fMaximum\":-1111,\"fMinimum\":-1111,\"fNormFactor\":0,\"fContour\":[],\"fSumw2\":[0,3486.88070220514,22563.7008007379,38931.6973948347,38432.3748840393,22089.6024034557,6719.90307779963,0],\"fOption\":\"\",\"fFunctions\":{\"_typename\":\"TList\",\"name\":\"TList\",\"arr\":[],\"opt\":[]},\"fBufferSize\":0,\"fBuffer\":[],\"fBinStatErrOpt\":0,\"fStatOverflows\":2,\"fArray\":[0,892.23769070792,5220.27422646588,4485.06858445321,3067.9577908228,833.95979134405,-94.707226771249,0]}],\"opt\":[\"E\",\"E \"]},\"fHistogram\":{\"_typename\":\"TH1F\",\"fUniqueID\":0,\"fBits\":50332160,\"fName\":\"#tau_{2,1}^{WTA}\",\"fTitle\":\"#tau_{2,1}^{WTA} binning 1\",\"fLineColor\":602,\"fLineStyle\":1,\"fLineWidth\":1,\"fFillColor\":0,\"fFillStyle\":1001,\"fMarkerColor\":1,\"fMarkerStyle\":1,\"fMarkerSize\":1,\"fNcells\":8,\"fXaxis\":{\"_typename\":\"TAxis\",\"fUniqueID\":0,\"fBits\":50331648,\"fName\":\"xaxis\",\"fTitle\":\"\",\"fNdivisions\":510,\"fAxisColor\":1,\"fLabelColor\":1,\"fLabelFont\":42,\"fLabelOffset\":0.005,\"fLabelSize\":0.035,\"fTickLength\":0.03,\"fTitleOffset\":1,\"fTitleSize\":0.035,\"fTitleColor\":1,\"fTitleFont\":42,\"fNbins\":6,\"fXmin\":0,\"fXmax\":1,\"fXbins\":[0,0.16,0.32,0.48,0.64,0.8,1],\"fFirst\":0,\"fLast\":0,\"fBits2\":0,\"fTimeDisplay\":false,\"fTimeFormat\":\"\",\"fLabels\":null,\"fModLabs\":null},\"fYaxis\":{\"_typename\":\"TAxis\",\"fUniqueID\":0,\"fBits\":50331648,\"fName\":\"yaxis\",\"fTitle\":\"\",\"fNdivisions\":510,\"fAxisColor\":1,\"fLabelColor\":1,\"fLabelFont\":42,\"fLabelOffset\":0.005,\"fLabelSize\":0.035,\"fTickLength\":0.03,\"fTitleOffset\":0,\"fTitleSize\":0.035,\"fTitleColor\":1,\"fTitleFont\":42,\"fNbins\":1,\"fXmin\":0,\"fXmax\":1,\"fXbins\":[],\"fFirst\":0,\"fLast\":0,\"fBits2\":0,\"fTimeDisplay\":false,\"fTimeFormat\":\"\",\"fLabels\":null,\"fModLabs\":null},\"fZaxis\":{\"_typename\":\"TAxis\",\"fUniqueID\":0,\"fBits\":50331648,\"fName\":\"zaxis\",\"fTitle\":\"\",\"fNdivisions\":510,\"fAxisColor\":1,\"fLabelColor\":1,\"fLabelFont\":42,\"fLabelOffset\":0.005,\"fLabelSize\":0.035,\"fTickLength\":0.03,\"fTitleOffset\":1,\"fTitleSize\":0.035,\"fTitleColor\":1,\"fTitleFont\":42,\"fNbins\":1,\"fXmin\":0,\"fXmax\":1,\"fXbins\":[],\"fFirst\":0,\"fLast\":0,\"fBits2\":0,\"fTimeDisplay\":false,\"fTimeFormat\":\"\",\"fLabels\":null,\"fModLabs\":null},\"fBarOffset\":0,\"fBarWidth\":1000,\"fEntries\":0,\"fTsumw\":0,\"fTsumw2\":0,\"fTsumwx\":0,\"fTsumwx2\":0,\"fMaximum\":5481.28793778917,\"fMinimum\":-94.707226771249,\"fNormFactor\":0,\"fContour\":[],\"fSumw2\":[0,0,0,0,0,0,0,0],\"fOption\":\"\",\"fFunctions\":{\"_typename\":\"TList\",\"name\":\"TList\",\"arr\":[],\"opt\":[]},\"fBufferSize\":0,\"fBuffer\":[],\"fBinStatErrOpt\":0,\"fStatOverflows\":2,\"fArray\":[0,0,0,0,0,0,0,0]},\"fMaximum\":-1111,\"fMinimum\":-1111},{\"_typename\":\"TLegend\",\"fUniqueID\":0,\"fBits\":50331656,\"fLineColor\":0,\"fLineStyle\":1,\"fLineWidth\":1,\"fFillColor\":0,\"fFillStyle\":0,\"fX1\":0.437499999068677,\"fY1\":4226.6890486125,\"fX2\":1.0625000083819,\"fY2\":5481.28797933358,\"fX1NDC\":0.45,\"fY1NDC\":0.72,\"fX2NDC\":0.95,\"fY2NDC\":0.9,\"fBorderSize\":0,\"fInit\":1,\"fShadowColor\":1,\"fCornerRadius\":0,\"fOption\":\"brNDC\",\"fName\":\"TPave\",\"fTextAngle\":0,\"fTextSize\":9,\"fTextAlign\":12,\"fTextColor\":1,\"fTextFont\":42,\"fPrimitives\":{\"_typename\":\"TList\",\"name\":\"TList\",\"arr\":[{\"_typename\":\"TLegendEntry\",\"fUniqueID\":0,\"fBits\":50331656,\"fTextAngle\":0,\"fTextSize\":0,\"fTextAlign\":0,\"fTextColor\":0,\"fTextFont\":42,\"fLineColor\":1,\"fLineStyle\":1,\"fLineWidth\":1,\"fFillColor\":0,\"fFillStyle\":0,\"fMarkerColor\":1,\"fMarkerStyle\":22,\"fMarkerSize\":1,\"fObject\":{\"$ref\":12},\"fLabel\":\"Data (2016)\",\"fOption\":\"p\"},{\"_typename\":\"TLegendEntry\",\"fUniqueID\":0,\"fBits\":50331656,\"fTextAngle\":0,\"fTextSize\":0,\"fTextAlign\":0,\"fTextColor\":0,\"fTextFont\":42,\"fLineColor\":1,\"fLineStyle\":1,\"fLineWidth\":1,\"fFillColor\":0,\"fFillStyle\":0,\"fMarkerColor\":7,\"fMarkerStyle\":2,\"fMarkerSize\":1,\"fObject\":{\"$ref\":7},\"fLabel\":\"MC self-closure (ttbar Powheg)\",\"fOption\":\"p\"}],\"opt\":[\"p\",\"p\"]},\"fEntrySeparation\":0.1,\"fMargin\":0.25,\"fNColumns\":1,\"fColumnSeparation\":0},{\"_typename\":\"TPaveText\",\"fUniqueID\":0,\"fBits\":50331657,\"fLineColor\":1,\"fLineStyle\":1,\"fLineWidth\":1,\"fFillColor\":0,\"fFillStyle\":0,\"fX1\":0.302374935054991,\"fY1\":5585.20639013172,\"fX2\":0.697625064945009,\"fY2\":6143.43744822745,\"fX1NDC\":0.341899950399867,\"fY1NDC\":0.914909397326614,\"fX2NDC\":0.658100049600133,\"fY2NDC\":0.995000004768372,\"fBorderSize\":0,\"fInit\":1,\"fShadowColor\":1,\"fCornerRadius\":0,\"fOption\":\"blNDC\",\"fName\":\"title\",\"fTextAngle\":0,\"fTextSize\":0,\"fTextAlign\":22,\"fTextColor\":1,\"fTextFont\":42,\"fLabel\":\"\",\"fLongest\":26,\"fMargin\":0.05,\"fLines\":{\"_typename\":\"TList\",\"name\":\"TList\",\"arr\":[{\"_typename\":\"TLatex\",\"fUniqueID\":0,\"fBits\":50331648,\"fName\":\"\",\"fTitle\":\"#tau_{2,1}^{WTA} binning 1\",\"fTextAngle\":0,\"fTextSize\":0,\"fTextAlign\":0,\"fTextColor\":0,\"fTextFont\":0,\"fX\":0,\"fY\":0,\"fLineColor\":1,\"fLineStyle\":1,\"fLineWidth\":2,\"fLimitFactorSize\":3,\"fOriginSize\":0.0584365278482437}],\"opt\":[\"\"]}}],\"opt\":[\"\",\"nostack\",\"\",\"blNDC\"]},\"fExecs\":{\"_typename\":\"TList\",\"name\":\"TList\",\"arr\":[],\"opt\":[]},\"fName\":\"c5_1\",\"fTitle\":\"c5_1\",\"fNumPaletteColor\":0,\"fNextPaletteColor\":0},{\"_typename\":\"TPad\",\"fUniqueID\":0,\"fBits\":50331657,\"fLineColor\":1,\"fLineStyle\":1,\"fLineWidth\":1,\"fFillColor\":0,\"fFillStyle\":1001,\"fLeftMargin\":0.1,\"fRightMargin\":0.1,\"fBottomMargin\":0.1,\"fTopMargin\":0.1,\"fXfile\":2,\"fYfile\":2,\"fAfile\":1,\"fXstat\":0.99,\"fYstat\":0.99,\"fAstat\":2,\"fFrameFillColor\":0,\"fFrameLineColor\":1,\"fFrameFillStyle\":1001,\"fFrameLineStyle\":1,\"fFrameLineWidth\":1,\"fFrameBorderSize\":1,\"fFrameBorderMode\":0,\"fX1\":-0.125000009313226,\"fY1\":-667.697316420286,\"fX2\":1.12500000931323,\"fY2\":4333.3303256564,\"fXtoAbsPixelk\":448.101385353136,\"fXtoPixelk\":37.4747189537963,\"fXtoPixel\":299.797329293728,\"fYtoAbsPixelk\":296.137593813555,\"fYtoPixelk\":285.617594048695,\"fYtoPixel\":-0.0659117866823206,\"fUtoAbsPixelk\":410.62671639934,\"fUtoPixelk\":5e-5,\"fUtoPixel\":374.74666720132,\"fVtoAbsPixelk\":340.146716901807,\"fVtoPixelk\":329.626667136947,\"fVtoPixel\":-329.626667136947,\"fAbsPixeltoXk\":-1.49468087794107,\"fPixeltoXk\":-0.125000009313226,\"fPixeltoX\":0.00333558675240981,\"fAbsPixeltoYk\":4492.93758703384,\"fPixeltoYk\":-667.697316420286,\"fPixeltoY\":-15.1717932457174,\"fXlowNDC\":0.343333333109816,\"fYlowNDC\":0.676666666443149,\"fXUpNDC\":0,\"fYUpNDC\":0,\"fWNDC\":0.313333333780368,\"fHNDC\":0.313333333780368,\"fAbsXlowNDC\":0.343333333109816,\"fAbsYlowNDC\":0.676666666443149,\"fAbsWNDC\":0.313333333780368,\"fAbsHNDC\":0.313333333780368,\"fUxmin\":0,\"fUymin\":-167.594522404169,\"fUxmax\":1,\"fUymax\":3833.22753164028,\"fTheta\":30,\"fPhi\":30,\"fAspectRatio\":0,\"fNumber\":2,\"fTickx\":0,\"fTicky\":0,\"fLogx\":0,\"fLogy\":0,\"fLogz\":0,\"fPadPaint\":0,\"fCrosshair\":0,\"fCrosshairPos\":0,\"fBorderSize\":2,\"fBorderMode\":0,\"fModified\":false,\"fGridx\":false,\"fGridy\":false,\"fAbsCoord\":false,\"fEditable\":true,\"fFixedAspectRatio\":false,\"fPrimitives\":{\"_typename\":\"TList\",\"name\":\"TList\",\"arr\":[{\"_typename\":\"TFrame\",\"fUniqueID\":0,\"fBits\":50331656,\"fLineColor\":1,\"fLineStyle\":1,\"fLineWidth\":1,\"fFillColor\":0,\"fFillStyle\":1001,\"fX1\":0,\"fY1\":-167.594522404169,\"fX2\":1,\"fY2\":3833.22753164028,\"fBorderSize\":1,\"fBorderMode\":0},{\"_typename\":\"THStack\",\"fUniqueID\":0,\"fBits\":50331656,\"fName\":\"#tau_{2,1}^{WTA}\",\"fTitle\":\"#tau_{2,1}^{WTA} binning 2\",\"fHists\":{\"_typename\":\"TList\",\"name\":\"TList\",\"arr\":[{\"_typename\":\"TH1D\",\"fUniqueID\":0,\"fBits\":50332168,\"fName\":\"closure_unfolded_MC\",\"fTitle\":\"closure_unfolded_MC\",\"fLineColor\":7,\"fLineStyle\":1,\"fLineWidth\":1,\"fFillColor\":0,\"fFillStyle\":1001,\"fMarkerColor\":7,\"fMarkerStyle\":2,\"fMarkerSize\":1,\"fNcells\":11,\"fXaxis\":{\"_typename\":\"TAxis\",\"fUniqueID\":0,\"fBits\":50331648,\"fName\":\"xaxis\",\"fTitle\":\"#tau_{2,1}^{1}(gen_sig)\",\"fNdivisions\":510,\"fAxisColor\":1,\"fLabelColor\":1,\"fLabelFont\":42,\"fLabelOffset\":0.005,\"fLabelSize\":0.035,\"fTickLength\":0.03,\"fTitleOffset\":1,\"fTitleSize\":0.035,\"fTitleColor\":1,\"fTitleFont\":42,\"fNbins\":9,\"fXmin\":0,\"fXmax\":1,\"fXbins\":[0,0.1,0.2,0.3,0.4,0.5,0.6,0.7,0.8,1],\"fFirst\":0,\"fLast\":0,\"fBits2\":0,\"fTimeDisplay\":false,\"fTimeFormat\":\"\",\"fLabels\":null,\"fModLabs\":null},\"fYaxis\":{\"_typename\":\"TAxis\",\"fUniqueID\":0,\"fBits\":50331648,\"fName\":\"yaxis\",\"fTitle\":\"\",\"fNdivisions\":510,\"fAxisColor\":1,\"fLabelColor\":1,\"fLabelFont\":42,\"fLabelOffset\":0.005,\"fLabelSize\":0.035,\"fTickLength\":0.03,\"fTitleOffset\":0,\"fTitleSize\":0.035,\"fTitleColor\":1,\"fTitleFont\":42,\"fNbins\":1,\"fXmin\":0,\"fXmax\":1,\"fXbins\":[],\"fFirst\":0,\"fLast\":0,\"fBits2\":0,\"fTimeDisplay\":false,\"fTimeFormat\":\"\",\"fLabels\":null,\"fModLabs\":null},\"fZaxis\":{\"_typename\":\"TAxis\",\"fUniqueID\":0,\"fBits\":50331648,\"fName\":\"zaxis\",\"fTitle\":\"\",\"fNdivisions\":510,\"fAxisColor\":1,\"fLabelColor\":1,\"fLabelFont\":42,\"fLabelOffset\":0.005,\"fLabelSize\":0.035,\"fTickLength\":0.03,\"fTitleOffset\":1,\"fTitleSize\":0.035,\"fTitleColor\":1,\"fTitleFont\":42,\"fNbins\":1,\"fXmin\":0,\"fXmax\":1,\"fXbins\":[],\"fFirst\":0,\"fLast\":0,\"fBits2\":0,\"fTimeDisplay\":false,\"fTimeFormat\":\"\",\"fLabels\":null,\"fModLabs\":null},\"fBarOffset\":0,\"fBarWidth\":1000,\"fEntries\":20,\"fTsumw\":0,\"fTsumw2\":0,\"fTsumwx\":0,\"fTsumwx2\":0,\"fMaximum\":-1111,\"fMinimum\":-1111,\"fNormFactor\":0,\"fContour\":[],\"fSumw2\":[0,185.693485444217,2017.62692738906,4652.24282997535,5633.09734342503,5306.63545675388,4215.23042198995,2866.04451241941,1581.76131595166,672.195980758886,0],\"fOption\":\"\",\"fFunctions\":{\"_typename\":\"TList\",\"name\":\"TList\",\"arr\":[],\"opt\":[]},\"fBufferSize\":0,\"fBuffer\":[],\"fBinStatErrOpt\":0,\"fStatOverflows\":2,\"fArray\":[0,66.6598241858029,1988.14774257971,3425.54497507145,3067.65753956547,2356.93771239398,1650.17646723825,964.956120005987,342.196296692664,38.8609515774399,0]},{\"_typename\":\"TH1D\",\"fUniqueID\":0,\"fBits\":50332168,\"fName\":\"unfolded_data\",\"fTitle\":\"unfolded_data\",\"fLineColor\":1,\"fLineStyle\":1,\"fLineWidth\":2,\"fFillColor\":0,\"fFillStyle\":1001,\"fMarkerColor\":1,\"fMarkerStyle\":22,\"fMarkerSize\":1,\"fNcells\":11,\"fXaxis\":{\"_typename\":\"TAxis\",\"fUniqueID\":0,\"fBits\":50331648,\"fName\":\"xaxis\",\"fTitle\":\"#tau_{2,1}^{1}(gen_sig)\",\"fNdivisions\":510,\"fAxisColor\":1,\"fLabelColor\":1,\"fLabelFont\":42,\"fLabelOffset\":0.005,\"fLabelSize\":0.035,\"fTickLength\":0.03,\"fTitleOffset\":1,\"fTitleSize\":0.035,\"fTitleColor\":1,\"fTitleFont\":42,\"fNbins\":9,\"fXmin\":0,\"fXmax\":1,\"fXbins\":[0,0.1,0.2,0.3,0.4,0.5,0.6,0.7,0.8,1],\"fFirst\":0,\"fLast\":0,\"fBits2\":0,\"fTimeDisplay\":false,\"fTimeFormat\":\"\",\"fLabels\":null,\"fModLabs\":null},\"fYaxis\":{\"_typename\":\"TAxis\",\"fUniqueID\":0,\"fBits\":50331648,\"fName\":\"yaxis\",\"fTitle\":\"\",\"fNdivisions\":510,\"fAxisColor\":1,\"fLabelColor\":1,\"fLabelFont\":42,\"fLabelOffset\":0.005,\"fLabelSize\":0.035,\"fTickLength\":0.03,\"fTitleOffset\":0,\"fTitleSize\":0.035,\"fTitleColor\":1,\"fTitleFont\":42,\"fNbins\":1,\"fXmin\":0,\"fXmax\":1,\"fXbins\":[],\"fFirst\":0,\"fLast\":0,\"fBits2\":0,\"fTimeDisplay\":false,\"fTimeFormat\":\"\",\"fLabels\":null,\"fModLabs\":null},\"fZaxis\":{\"_typename\":\"TAxis\",\"fUniqueID\":0,\"fBits\":50331648,\"fName\":\"zaxis\",\"fTitle\":\"\",\"fNdivisions\":510,\"fAxisColor\":1,\"fLabelColor\":1,\"fLabelFont\":42,\"fLabelOffset\":0.005,\"fLabelSize\":0.035,\"fTickLength\":0.03,\"fTitleOffset\":1,\"fTitleSize\":0.035,\"fTitleColor\":1,\"fTitleFont\":42,\"fNbins\":1,\"fXmin\":0,\"fXmax\":1,\"fXbins\":[],\"fFirst\":0,\"fLast\":0,\"fBits2\":0,\"fTimeDisplay\":false,\"fTimeFormat\":\"\",\"fLabels\":null,\"fModLabs\":null},\"fBarOffset\":0,\"fBarWidth\":1000,\"fEntries\":20,\"fTsumw\":0,\"fTsumw2\":0,\"fTsumwx\":0,\"fTsumwx2\":0,\"fMaximum\":-1111,\"fMinimum\":-1111,\"fNormFactor\":0,\"fContour\":[],\"fSumw2\":[0,730.69451988334,8244.37198841209,28979.678537481,51328.1363077302,55923.9828634029,59894.6594584266,50920.4050276905,35856.081605923,10659.794396866,0],\"fOption\":\"\",\"fFunctions\":{\"_typename\":\"TList\",\"name\":\"TList\",\"arr\":[],\"opt\":[]},\"fBufferSize\":0,\"fBuffer\":[],\"fBinStatErrOpt\":0,\"fStatOverflows\":2,\"fArray\":[0,60.8353902649984,1921.36237157112,3650.69288727646,2584.40579243481,3047.62416033138,1472.14495889285,1699.56874541641,-167.594522404169,86.7027789437943,0]}],\"opt\":[\"E\",\"E \"]},\"fHistogram\":{\"_typename\":\"TH1F\",\"fUniqueID\":0,\"fBits\":50332160,\"fName\":\"#tau_{2,1}^{WTA}\",\"fTitle\":\"#tau_{2,1}^{WTA} binning 2\",\"fLineColor\":602,\"fLineStyle\":1,\"fLineWidth\":1,\"fFillColor\":0,\"fFillStyle\":1001,\"fMarkerColor\":1,\"fMarkerStyle\":1,\"fMarkerSize\":1,\"fNcells\":11,\"fXaxis\":{\"_typename\":\"TAxis\",\"fUniqueID\":0,\"fBits\":50331648,\"fName\":\"xaxis\",\"fTitle\":\"\",\"fNdivisions\":510,\"fAxisColor\":1,\"fLabelColor\":1,\"fLabelFont\":42,\"fLabelOffset\":0.005,\"fLabelSize\":0.035,\"fTickLength\":0.03,\"fTitleOffset\":1,\"fTitleSize\":0.035,\"fTitleColor\":1,\"fTitleFont\":42,\"fNbins\":9,\"fXmin\":0,\"fXmax\":1,\"fXbins\":[0,0.1,0.2,0.3,0.4,0.5,0.6,0.7,0.8,1],\"fFirst\":0,\"fLast\":0,\"fBits2\":0,\"fTimeDisplay\":false,\"fTimeFormat\":\"\",\"fLabels\":null,\"fModLabs\":null},\"fYaxis\":{\"_typename\":\"TAxis\",\"fUniqueID\":0,\"fBits\":50331648,\"fName\":\"yaxis\",\"fTitle\":\"\",\"fNdivisions\":510,\"fAxisColor\":1,\"fLabelColor\":1,\"fLabelFont\":42,\"fLabelOffset\":0.005,\"fLabelSize\":0.035,\"fTickLength\":0.03,\"fTitleOffset\":0,\"fTitleSize\":0.035,\"fTitleColor\":1,\"fTitleFont\":42,\"fNbins\":1,\"fXmin\":0,\"fXmax\":1,\"fXbins\":[],\"fFirst\":0,\"fLast\":0,\"fBits2\":0,\"fTimeDisplay\":false,\"fTimeFormat\":\"\",\"fLabels\":null,\"fModLabs\":null},\"fZaxis\":{\"_typename\":\"TAxis\",\"fUniqueID\":0,\"fBits\":50331648,\"fName\":\"zaxis\",\"fTitle\":\"\",\"fNdivisions\":510,\"fAxisColor\":1,\"fLabelColor\":1,\"fLabelFont\":42,\"fLabelOffset\":0.005,\"fLabelSize\":0.035,\"fTickLength\":0.03,\"fTitleOffset\":1,\"fTitleSize\":0.035,\"fTitleColor\":1,\"fTitleFont\":42,\"fNbins\":1,\"fXmin\":0,\"fXmax\":1,\"fXbins\":[],\"fFirst\":0,\"fLast\":0,\"fBits2\":0,\"fTimeDisplay\":false,\"fTimeFormat\":\"\",\"fLabels\":null,\"fModLabs\":null},\"fBarOffset\":0,\"fBarWidth\":1000,\"fEntries\":0,\"fTsumw\":0,\"fTsumw2\":0,\"fTsumwx\":0,\"fTsumwx2\":0,\"fMaximum\":3833.22753164028,\"fMinimum\":-167.594522404169,\"fNormFactor\":0,\"fContour\":[],\"fSumw2\":[0,0,0,0,0,0,0,0,0,0,0],\"fOption\":\"\",\"fFunctions\":{\"_typename\":\"TList\",\"name\":\"TList\",\"arr\":[],\"opt\":[]},\"fBufferSize\":0,\"fBuffer\":[],\"fBinStatErrOpt\":0,\"fStatOverflows\":2,\"fArray\":[0,0,0,0,0,0,0,0,0,0,0]},\"fMaximum\":-1111,\"fMinimum\":-1111},{\"_typename\":\"TLegend\",\"fUniqueID\":0,\"fBits\":50331656,\"fLineColor\":0,\"fLineStyle\":1,\"fLineWidth\":1,\"fFillColor\":0,\"fFillStyle\":0,\"fX1\":0.437499999068677,\"fY1\":2933.04258587493,\"fX2\":1.0625000083819,\"fY2\":3833.22756144873,\"fX1NDC\":0.45,\"fY1NDC\":0.72,\"fX2NDC\":0.95,\"fY2NDC\":0.9,\"fBorderSize\":0,\"fInit\":1,\"fShadowColor\":1,\"fCornerRadius\":0,\"fOption\":\"brNDC\",\"fName\":\"TPave\",\"fTextAngle\":0,\"fTextSize\":9,\"fTextAlign\":12,\"fTextColor\":1,\"fTextFont\":42,\"fPrimitives\":{\"_typename\":\"TList\",\"name\":\"TList\",\"arr\":[{\"_typename\":\"TLegendEntry\",\"fUniqueID\":0,\"fBits\":50331656,\"fTextAngle\":0,\"fTextSize\":0,\"fTextAlign\":0,\"fTextColor\":0,\"fTextFont\":42,\"fLineColor\":1,\"fLineStyle\":1,\"fLineWidth\":1,\"fFillColor\":0,\"fFillStyle\":0,\"fMarkerColor\":1,\"fMarkerStyle\":22,\"fMarkerSize\":1,\"fObject\":{\"$ref\":40},\"fLabel\":\"Data (2016)\",\"fOption\":\"p\"},{\"_typename\":\"TLegendEntry\",\"fUniqueID\":0,\"fBits\":50331656,\"fTextAngle\":0,\"fTextSize\":0,\"fTextAlign\":0,\"fTextColor\":0,\"fTextFont\":42,\"fLineColor\":1,\"fLineStyle\":1,\"fLineWidth\":1,\"fFillColor\":0,\"fFillStyle\":0,\"fMarkerColor\":7,\"fMarkerStyle\":2,\"fMarkerSize\":1,\"fObject\":{\"$ref\":35},\"fLabel\":\"MC self-closure (ttbar Powheg)\",\"fOption\":\"p\"}],\"opt\":[\"p\",\"p\"]},\"fEntrySeparation\":0.1,\"fMargin\":0.25,\"fNColumns\":1,\"fColumnSeparation\":0},{\"_typename\":\"TPaveText\",\"fUniqueID\":0,\"fBits\":50331657,\"fLineColor\":1,\"fLineStyle\":1,\"fLineWidth\":1,\"fFillColor\":0,\"fFillStyle\":0,\"fX1\":0.299039348302581,\"fY1\":3907.78986960583,\"fX2\":0.700960651697419,\"fY2\":4308.32521129277,\"fX1NDC\":0.339231481037703,\"fY1NDC\":0.914909397326614,\"fX2NDC\":0.660768518962297,\"fY2NDC\":0.995000004768372,\"fBorderSize\":0,\"fInit\":1,\"fShadowColor\":1,\"fCornerRadius\":0,\"fOption\":\"blNDC\",\"fName\":\"title\",\"fTextAngle\":0,\"fTextSize\":0,\"fTextAlign\":22,\"fTextColor\":1,\"fTextFont\":42,\"fLabel\":\"\",\"fLongest\":26,\"fMargin\":0.05,\"fLines\":{\"_typename\":\"TList\",\"name\":\"TList\",\"arr\":[{\"_typename\":\"TLatex\",\"fUniqueID\":0,\"fBits\":50331648,\"fName\":\"\",\"fTitle\":\"#tau_{2,1}^{WTA} binning 2\",\"fTextAngle\":0,\"fTextSize\":0,\"fTextAlign\":0,\"fTextColor\":0,\"fTextFont\":0,\"fX\":0,\"fY\":0,\"fLineColor\":1,\"fLineStyle\":1,\"fLineWidth\":2,\"fLimitFactorSize\":3,\"fOriginSize\":0.0576084032654762}],\"opt\":[\"\"]}}],\"opt\":[\"\",\"nostack\",\"\",\"blNDC\"]},\"fExecs\":{\"_typename\":\"TList\",\"name\":\"TList\",\"arr\":[],\"opt\":[]},\"fName\":\"c5_2\",\"fTitle\":\"c5_2\",\"fNumPaletteColor\":0,\"fNextPaletteColor\":0},{\"_typename\":\"TPad\",\"fUniqueID\":0,\"fBits\":50331657,\"fLineColor\":1,\"fLineStyle\":1,\"fLineWidth\":1,\"fFillColor\":0,\"fFillStyle\":1001,\"fLeftMargin\":0.1,\"fRightMargin\":0.1,\"fBottomMargin\":0.1,\"fTopMargin\":0.1,\"fXfile\":2,\"fYfile\":2,\"fAfile\":1,\"fXstat\":0.99,\"fYstat\":0.99,\"fAstat\":2,\"fFrameFillColor\":0,\"fFrameLineColor\":1,\"fFrameFillStyle\":1001,\"fFrameLineStyle\":1,\"fFrameLineWidth\":1,\"fFrameBorderSize\":1,\"fFrameBorderMode\":0,\"fX1\":-0.125000009313226,\"fY1\":-668.554504494189,\"fX2\":1.12500000931323,\"fY2\":4338.75874495962,\"fXtoAbsPixelk\":846.768052019803,\"fXtoPixelk\":37.4747189537963,\"fXtoPixel\":299.797329293728,\"fYtoAbsPixelk\":296.136409949301,\"fYtoPixelk\":285.616410184441,\"fYtoPixel\":-0.0658290485766798,\"fUtoAbsPixelk\":809.293383066006,\"fUtoPixelk\":5e-5,\"fUtoPixel\":374.74666720132,\"fVtoAbsPixelk\":340.146716901807,\"fVtoPixelk\":329.626667136947,\"fVtoPixel\":-329.626667136947,\"fAbsPixeltoXk\":-2.82446812990178,\"fPixeltoXk\":-0.125000009313226,\"fPixeltoX\":0.00333558675240981,\"fAbsPixeltoYk\":4498.56661082306,\"fPixeltoYk\":-668.554504494189,\"fPixeltoY\":-15.1908621136331,\"fXlowNDC\":0.676666666443149,\"fYlowNDC\":0.676666666443149,\"fXUpNDC\":0,\"fYUpNDC\":0,\"fWNDC\":0.313333333780368,\"fHNDC\":0.313333333780368,\"fAbsXlowNDC\":0.676666666443149,\"fAbsYlowNDC\":0.676666666443149,\"fAbsWNDC\":0.313333333780368,\"fAbsHNDC\":0.313333333780368,\"fUxmin\":0,\"fUymin\":-167.823149702894,\"fUxmax\":1,\"fUymax\":3838.02739016833,\"fTheta\":30,\"fPhi\":30,\"fAspectRatio\":0,\"fNumber\":3,\"fTickx\":0,\"fTicky\":0,\"fLogx\":0,\"fLogy\":0,\"fLogz\":0,\"fPadPaint\":0,\"fCrosshair\":0,\"fCrosshairPos\":0,\"fBorderSize\":2,\"fBorderMode\":0,\"fModified\":false,\"fGridx\":false,\"fGridy\":false,\"fAbsCoord\":false,\"fEditable\":true,\"fFixedAspectRatio\":false,\"fPrimitives\":{\"_typename\":\"TList\",\"name\":\"TList\",\"arr\":[{\"_typename\":\"TFrame\",\"fUniqueID\":0,\"fBits\":50331656,\"fLineColor\":1,\"fLineStyle\":1,\"fLineWidth\":1,\"fFillColor\":0,\"fFillStyle\":1001,\"fX1\":0,\"fY1\":-167.823149702894,\"fX2\":1,\"fY2\":3838.02739016833,\"fBorderSize\":1,\"fBorderMode\":0},{\"_typename\":\"THStack\",\"fUniqueID\":0,\"fBits\":50331656,\"fName\":\"#tau_{2,1}^{WTA}\",\"fTitle\":\"#tau_{2,1}^{WTA} binning 3\",\"fHists\":{\"_typename\":\"TList\",\"name\":\"TList\",\"arr\":[{\"_typename\":\"TH1D\",\"fUniqueID\":0,\"fBits\":50332168,\"fName\":\"closure_unfolded_MC\",\"fTitle\":\"closure_unfolded_MC\",\"fLineColor\":7,\"fLineStyle\":1,\"fLineWidth\":1,\"fFillColor\":0,\"fFillStyle\":1001,\"fMarkerColor\":7,\"fMarkerStyle\":2,\"fMarkerSize\":1,\"fNcells\":10,\"fXaxis\":{\"_typename\":\"TAxis\",\"fUniqueID\":0,\"fBits\":50331648,\"fName\":\"xaxis\",\"fTitle\":\"#tau_{2,1}^{1}(gen_sig)\",\"fNdivisions\":510,\"fAxisColor\":1,\"fLabelColor\":1,\"fLabelFont\":42,\"fLabelOffset\":0.005,\"fLabelSize\":0.035,\"fTickLength\":0.03,\"fTitleOffset\":1,\"fTitleSize\":0.035,\"fTitleColor\":1,\"fTitleFont\":42,\"fNbins\":8,\"fXmin\":0,\"fXmax\":1,\"fXbins\":[0,0.2,0.3,0.4,0.5,0.6,0.7,0.8,1],\"fFirst\":0,\"fLast\":0,\"fBits2\":0,\"fTimeDisplay\":false,\"fTimeFormat\":\"\",\"fLabels\":null,\"fModLabs\":null},\"fYaxis\":{\"_typename\":\"TAxis\",\"fUniqueID\":0,\"fBits\":50331648,\"fName\":\"yaxis\",\"fTitle\":\"\",\"fNdivisions\":510,\"fAxisColor\":1,\"fLabelColor\":1,\"fLabelFont\":42,\"fLabelOffset\":0.005,\"fLabelSize\":0.035,\"fTickLength\":0.03,\"fTitleOffset\":0,\"fTitleSize\":0.035,\"fTitleColor\":1,\"fTitleFont\":42,\"fNbins\":1,\"fXmin\":0,\"fXmax\":1,\"fXbins\":[],\"fFirst\":0,\"fLast\":0,\"fBits2\":0,\"fTimeDisplay\":false,\"fTimeFormat\":\"\",\"fLabels\":null,\"fModLabs\":null},\"fZaxis\":{\"_typename\":\"TAxis\",\"fUniqueID\":0,\"fBits\":50331648,\"fName\":\"zaxis\",\"fTitle\":\"\",\"fNdivisions\":510,\"fAxisColor\":1,\"fLabelColor\":1,\"fLabelFont\":42,\"fLabelOffset\":0.005,\"fLabelSize\":0.035,\"fTickLength\":0.03,\"fTitleOffset\":1,\"fTitleSize\":0.035,\"fTitleColor\":1,\"fTitleFont\":42,\"fNbins\":1,\"fXmin\":0,\"fXmax\":1,\"fXbins\":[],\"fFirst\":0,\"fLast\":0,\"fBits2\":0,\"fTimeDisplay\":false,\"fTimeFormat\":\"\",\"fLabels\":null,\"fModLabs\":null},\"fBarOffset\":0,\"fBarWidth\":1000,\"fEntries\":18,\"fTsumw\":0,\"fTsumw2\":0,\"fTsumwx\":0,\"fTsumwx2\":0,\"fMaximum\":-1111,\"fMinimum\":-1111,\"fNormFactor\":0,\"fContour\":[],\"fSumw2\":[0,1520.18790708052,4386.33642992533,5563.03988413173,5292.77765271297,4213.20387205725,2865.77754622466,1581.70035199636,672.180456928571,0],\"fOption\":\"\",\"fFunctions\":{\"_typename\":\"TList\",\"name\":\"TList\",\"arr\":[],\"opt\":[]},\"fBufferSize\":0,\"fBuffer\":[],\"fBinStatErrOpt\":0,\"fStatOverflows\":2,\"fArray\":[0,2054.80756676552,3425.54497507145,3067.65753956547,2356.93771239398,1650.17646723825,964.956120005984,342.196296692665,38.8609515774392,0]},{\"_typename\":\"TH1D\",\"fUniqueID\":0,\"fBits\":50332168,\"fName\":\"unfolded_data\",\"fTitle\":\"unfolded_data\",\"fLineColor\":1,\"fLineStyle\":1,\"fLineWidth\":2,\"fFillColor\":0,\"fFillStyle\":1001,\"fMarkerColor\":1,\"fMarkerStyle\":22,\"fMarkerSize\":1,\"fNcells\":10,\"fXaxis\":{\"_typename\":\"TAxis\",\"fUniqueID\":0,\"fBits\":50331648,\"fName\":\"xaxis\",\"fTitle\":\"#tau_{2,1}^{1}(gen_sig)\",\"fNdivisions\":510,\"fAxisColor\":1,\"fLabelColor\":1,\"fLabelFont\":42,\"fLabelOffset\":0.005,\"fLabelSize\":0.035,\"fTickLength\":0.03,\"fTitleOffset\":1,\"fTitleSize\":0.035,\"fTitleColor\":1,\"fTitleFont\":42,\"fNbins\":8,\"fXmin\":0,\"fXmax\":1,\"fXbins\":[0,0.2,0.3,0.4,0.5,0.6,0.7,0.8,1],\"fFirst\":0,\"fLast\":0,\"fBits2\":0,\"fTimeDisplay\":false,\"fTimeFormat\":\"\",\"fLabels\":null,\"fModLabs\":null},\"fYaxis\":{\"_typename\":\"TAxis\",\"fUniqueID\":0,\"fBits\":50331648,\"fName\":\"yaxis\",\"fTitle\":\"\",\"fNdivisions\":510,\"fAxisColor\":1,\"fLabelColor\":1,\"fLabelFont\":42,\"fLabelOffset\":0.005,\"fLabelSize\":0.035,\"fTickLength\":0.03,\"fTitleOffset\":0,\"fTitleSize\":0.035,\"fTitleColor\":1,\"fTitleFont\":42,\"fNbins\":1,\"fXmin\":0,\"fXmax\":1,\"fXbins\":[],\"fFirst\":0,\"fLast\":0,\"fBits2\":0,\"fTimeDisplay\":false,\"fTimeFormat\":\"\",\"fLabels\":null,\"fModLabs\":null},\"fZaxis\":{\"_typename\":\"TAxis\",\"fUniqueID\":0,\"fBits\":50331648,\"fName\":\"zaxis\",\"fTitle\":\"\",\"fNdivisions\":510,\"fAxisColor\":1,\"fLabelColor\":1,\"fLabelFont\":42,\"fLabelOffset\":0.005,\"fLabelSize\":0.035,\"fTickLength\":0.03,\"fTitleOffset\":1,\"fTitleSize\":0.035,\"fTitleColor\":1,\"fTitleFont\":42,\"fNbins\":1,\"fXmin\":0,\"fXmax\":1,\"fXbins\":[],\"fFirst\":0,\"fLast\":0,\"fBits2\":0,\"fTimeDisplay\":false,\"fTimeFormat\":\"\",\"fLabels\":null,\"fModLabs\":null},\"fBarOffset\":0,\"fBarWidth\":1000,\"fEntries\":18,\"fTsumw\":0,\"fTsumw2\":0,\"fTsumwx\":0,\"fTsumwx2\":0,\"fMaximum\":-1111,\"fMinimum\":-1111,\"fNormFactor\":0,\"fContour\":[],\"fSumw2\":[0,5937.14027982862,27010.8967611716,50592.2111290818,55757.7313617264,59865.8998565765,50916.7474962878,35855.491191004,10659.5380285237,0],\"fOption\":\"\",\"fFunctions\":{\"_typename\":\"TList\",\"name\":\"TList\",\"arr\":[],\"opt\":[]},\"fBufferSize\":0,\"fBuffer\":[],\"fBinStatErrOpt\":0,\"fStatOverflows\":2,\"fArray\":[0,1978.30276808072,3655.26418111269,2581.82809077659,3048.86999353216,1471.54228868578,1699.99312446842,-167.823149702894,86.6945868856492,0]}],\"opt\":[\"E\",\"E \"]},\"fHistogram\":{\"_typename\":\"TH1F\",\"fUniqueID\":0,\"fBits\":50332160,\"fName\":\"#tau_{2,1}^{WTA}\",\"fTitle\":\"#tau_{2,1}^{WTA} binning 3\",\"fLineColor\":602,\"fLineStyle\":1,\"fLineWidth\":1,\"fFillColor\":0,\"fFillStyle\":1001,\"fMarkerColor\":1,\"fMarkerStyle\":1,\"fMarkerSize\":1,\"fNcells\":10,\"fXaxis\":{\"_typename\":\"TAxis\",\"fUniqueID\":0,\"fBits\":50331648,\"fName\":\"xaxis\",\"fTitle\":\"\",\"fNdivisions\":510,\"fAxisColor\":1,\"fLabelColor\":1,\"fLabelFont\":42,\"fLabelOffset\":0.005,\"fLabelSize\":0.035,\"fTickLength\":0.03,\"fTitleOffset\":1,\"fTitleSize\":0.035,\"fTitleColor\":1,\"fTitleFont\":42,\"fNbins\":8,\"fXmin\":0,\"fXmax\":1,\"fXbins\":[0,0.2,0.3,0.4,0.5,0.6,0.7,0.8,1],\"fFirst\":0,\"fLast\":0,\"fBits2\":0,\"fTimeDisplay\":false,\"fTimeFormat\":\"\",\"fLabels\":null,\"fModLabs\":null},\"fYaxis\":{\"_typename\":\"TAxis\",\"fUniqueID\":0,\"fBits\":50331648,\"fName\":\"yaxis\",\"fTitle\":\"\",\"fNdivisions\":510,\"fAxisColor\":1,\"fLabelColor\":1,\"fLabelFont\":42,\"fLabelOffset\":0.005,\"fLabelSize\":0.035,\"fTickLength\":0.03,\"fTitleOffset\":0,\"fTitleSize\":0.035,\"fTitleColor\":1,\"fTitleFont\":42,\"fNbins\":1,\"fXmin\":0,\"fXmax\":1,\"fXbins\":[],\"fFirst\":0,\"fLast\":0,\"fBits2\":0,\"fTimeDisplay\":false,\"fTimeFormat\":\"\",\"fLabels\":null,\"fModLabs\":null},\"fZaxis\":{\"_typename\":\"TAxis\",\"fUniqueID\":0,\"fBits\":50331648,\"fName\":\"zaxis\",\"fTitle\":\"\",\"fNdivisions\":510,\"fAxisColor\":1,\"fLabelColor\":1,\"fLabelFont\":42,\"fLabelOffset\":0.005,\"fLabelSize\":0.035,\"fTickLength\":0.03,\"fTitleOffset\":1,\"fTitleSize\":0.035,\"fTitleColor\":1,\"fTitleFont\":42,\"fNbins\":1,\"fXmin\":0,\"fXmax\":1,\"fXbins\":[],\"fFirst\":0,\"fLast\":0,\"fBits2\":0,\"fTimeDisplay\":false,\"fTimeFormat\":\"\",\"fLabels\":null,\"fModLabs\":null},\"fBarOffset\":0,\"fBarWidth\":1000,\"fEntries\":0,\"fTsumw\":0,\"fTsumw2\":0,\"fTsumwx\":0,\"fTsumwx2\":0,\"fMaximum\":3838.02739016833,\"fMinimum\":-167.823149702894,\"fNormFactor\":0,\"fContour\":[],\"fSumw2\":[0,0,0,0,0,0,0,0,0,0],\"fOption\":\"\",\"fFunctions\":{\"_typename\":\"TList\",\"name\":\"TList\",\"arr\":[],\"opt\":[]},\"fBufferSize\":0,\"fBuffer\":[],\"fBinStatErrOpt\":0,\"fStatOverflows\":2,\"fArray\":[0,0,0,0,0,0,0,0,0,0]},\"fMaximum\":-1111,\"fMinimum\":-1111},{\"_typename\":\"TLegend\",\"fUniqueID\":0,\"fBits\":50331656,\"fLineColor\":0,\"fLineStyle\":1,\"fLineWidth\":1,\"fFillColor\":0,\"fFillStyle\":0,\"fX1\":0.437499999068677,\"fY1\":2936.71103511255,\"fX2\":1.0625000083819,\"fY2\":3838.02742001424,\"fX1NDC\":0.45,\"fY1NDC\":0.72,\"fX2NDC\":0.95,\"fY2NDC\":0.9,\"fBorderSize\":0,\"fInit\":1,\"fShadowColor\":1,\"fCornerRadius\":0,\"fOption\":\"brNDC\",\"fName\":\"TPave\",\"fTextAngle\":0,\"fTextSize\":9,\"fTextAlign\":12,\"fTextColor\":1,\"fTextFont\":42,\"fPrimitives\":{\"_typename\":\"TList\",\"name\":\"TList\",\"arr\":[{\"_typename\":\"TLegendEntry\",\"fUniqueID\":0,\"fBits\":50331656,\"fTextAngle\":0,\"fTextSize\":0,\"fTextAlign\":0,\"fTextColor\":0,\"fTextFont\":42,\"fLineColor\":1,\"fLineStyle\":1,\"fLineWidth\":1,\"fFillColor\":0,\"fFillStyle\":0,\"fMarkerColor\":1,\"fMarkerStyle\":22,\"fMarkerSize\":1,\"fObject\":{\"$ref\":68},\"fLabel\":\"Data (2016)\",\"fOption\":\"p\"},{\"_typename\":\"TLegendEntry\",\"fUniqueID\":0,\"fBits\":50331656,\"fTextAngle\":0,\"fTextSize\":0,\"fTextAlign\":0,\"fTextColor\":0,\"fTextFont\":42,\"fLineColor\":1,\"fLineStyle\":1,\"fLineWidth\":1,\"fFillColor\":0,\"fFillStyle\":0,\"fMarkerColor\":7,\"fMarkerStyle\":2,\"fMarkerSize\":1,\"fObject\":{\"$ref\":63},\"fLabel\":\"MC self-closure (ttbar Powheg)\",\"fOption\":\"p\"}],\"opt\":[\"p\",\"p\"]},\"fEntrySeparation\":0.1,\"fMargin\":0.25,\"fNColumns\":1,\"fColumnSeparation\":0},{\"_typename\":\"TPaveText\",\"fUniqueID\":0,\"fBits\":50331657,\"fLineColor\":1,\"fLineStyle\":1,\"fLineWidth\":1,\"fFillColor\":0,\"fFillStyle\":0,\"fX1\":0.299039348302581,\"fY1\":3912.68344278917,\"fX2\":0.700960651697419,\"fY2\":4313.72220258908,\"fX1NDC\":0.339231481037703,\"fY1NDC\":0.914909397326614,\"fX2NDC\":0.660768518962297,\"fY2NDC\":0.995000004768372,\"fBorderSize\":0,\"fInit\":1,\"fShadowColor\":1,\"fCornerRadius\":0,\"fOption\":\"blNDC\",\"fName\":\"title\",\"fTextAngle\":0,\"fTextSize\":0,\"fTextAlign\":22,\"fTextColor\":1,\"fTextFont\":42,\"fLabel\":\"\",\"fLongest\":26,\"fMargin\":0.05,\"fLines\":{\"_typename\":\"TList\",\"name\":\"TList\",\"arr\":[{\"_typename\":\"TLatex\",\"fUniqueID\":0,\"fBits\":50331648,\"fName\":\"\",\"fTitle\":\"#tau_{2,1}^{WTA} binning 3\",\"fTextAngle\":0,\"fTextSize\":0,\"fTextAlign\":0,\"fTextColor\":0,\"fTextFont\":0,\"fX\":0,\"fY\":0,\"fLineColor\":1,\"fLineStyle\":1,\"fLineWidth\":2,\"fLimitFactorSize\":3,\"fOriginSize\":0.0580515451729298}],\"opt\":[\"\"]}}],\"opt\":[\"\",\"nostack\",\"\",\"blNDC\"]},\"fExecs\":{\"_typename\":\"TList\",\"name\":\"TList\",\"arr\":[],\"opt\":[]},\"fName\":\"c5_3\",\"fTitle\":\"c5_3\",\"fNumPaletteColor\":0,\"fNextPaletteColor\":0},{\"_typename\":\"TPad\",\"fUniqueID\":0,\"fBits\":50331657,\"fLineColor\":1,\"fLineStyle\":1,\"fLineWidth\":1,\"fFillColor\":0,\"fFillStyle\":1001,\"fLeftMargin\":0.1,\"fRightMargin\":0.1,\"fBottomMargin\":0.1,\"fTopMargin\":0.1,\"fXfile\":2,\"fYfile\":2,\"fAfile\":1,\"fXstat\":0.99,\"fYstat\":0.99,\"fAstat\":2,\"fFrameFillColor\":0,\"fFrameLineColor\":1,\"fFrameFillStyle\":1001,\"fFrameLineStyle\":1,\"fFrameLineWidth\":1,\"fFrameBorderSize\":1,\"fFrameBorderMode\":0,\"fX1\":-0.1162500086613,\"fY1\":-655.572064136299,\"fX2\":1.0462500086613,\"fY2\":5199.96393613319,\"fXtoAbsPixelk\":49.4347186864695,\"fXtoPixelk\":37.4747189537963,\"fXtoPixel\":322.362719670675,\"fYtoAbsPixelk\":653.909155747247,\"fYtoPixelk\":292.722489315721,\"fYtoPixel\":-0.0562931672048087,\"fUtoAbsPixelk\":11.9600497326732,\"fUtoPixelk\":5e-5,\"fUtoPixel\":374.74666720132,\"fVtoAbsPixelk\":690.813383568473,\"fVtoPixelk\":329.626667136947,\"fVtoPixel\":-329.626667136947,\"fAbsPixeltoXk\":-0.153351072161731,\"fPixeltoXk\":-0.1162500086613,\"fPixeltoX\":0.00310209567974113,\"fAbsPixeltoYk\":11616.1363486293,\"fPixeltoYk\":-655.572064136299,\"fPixeltoY\":-17.7641452711614,\"fXlowNDC\":0.00999999977648258,\"fYlowNDC\":0.343333333109816,\"fXUpNDC\":0,\"fYUpNDC\":0,\"fWNDC\":0.313333333780368,\"fHNDC\":0.313333333780368,\"fAbsXlowNDC\":0.00999999977648258,\"fAbsYlowNDC\":0.343333333109816,\"fAbsWNDC\":0.313333333780368,\"fAbsHNDC\":0.313333333780368,\"fUxmin\":0,\"fUymin\":-70.0184292076335,\"fUxmax\":0.93,\"fUymax\":4614.41030120453,\"fTheta\":30,\"fPhi\":30,\"fAspectRatio\":0,\"fNumber\":4,\"fTickx\":0,\"fTicky\":0,\"fLogx\":0,\"fLogy\":0,\"fLogz\":0,\"fPadPaint\":0,\"fCrosshair\":0,\"fCrosshairPos\":0,\"fBorderSize\":2,\"fBorderMode\":0,\"fModified\":false,\"fGridx\":false,\"fGridy\":false,\"fAbsCoord\":false,\"fEditable\":true,\"fFixedAspectRatio\":false,\"fPrimitives\":{\"_typename\":\"TList\",\"name\":\"TList\",\"arr\":[{\"_typename\":\"TFrame\",\"fUniqueID\":0,\"fBits\":50331656,\"fLineColor\":1,\"fLineStyle\":1,\"fLineWidth\":1,\"fFillColor\":0,\"fFillStyle\":1001,\"fX1\":0,\"fY1\":-70.0184292076335,\"fX2\":0.93,\"fY2\":4614.41030120453,\"fBorderSize\":1,\"fBorderMode\":0},{\"_typename\":\"THStack\",\"fUniqueID\":0,\"fBits\":50331656,\"fName\":\"#tau_{2,1}^{WTA}\",\"fTitle\":\"#tau_{2,1}^{WTA} binning 4\",\"fHists\":{\"_typename\":\"TList\",\"name\":\"TList\",\"arr\":[{\"_typename\":\"TH1D\",\"fUniqueID\":0,\"fBits\":50332168,\"fName\":\"closure_unfolded_MC\",\"fTitle\":\"closure_unfolded_MC\",\"fLineColor\":7,\"fLineStyle\":1,\"fLineWidth\":1,\"fFillColor\":0,\"fFillStyle\":1001,\"fMarkerColor\":7,\"fMarkerStyle\":2,\"fMarkerSize\":1,\"fNcells\":9,\"fXaxis\":{\"_typename\":\"TAxis\",\"fUniqueID\":0,\"fBits\":50331648,\"fName\":\"xaxis\",\"fTitle\":\"#tau_{2,1}^{1}(gen_sig)\",\"fNdivisions\":510,\"fAxisColor\":1,\"fLabelColor\":1,\"fLabelFont\":42,\"fLabelOffset\":0.005,\"fLabelSize\":0.035,\"fTickLength\":0.03,\"fTitleOffset\":1,\"fTitleSize\":0.035,\"fTitleColor\":1,\"fTitleFont\":42,\"fNbins\":7,\"fXmin\":0,\"fXmax\":0.93,\"fXbins\":[0,0.12,0.256,0.392,0.528,0.664,0.8,0.93],\"fFirst\":0,\"fLast\":0,\"fBits2\":0,\"fTimeDisplay\":false,\"fTimeFormat\":\"\",\"fLabels\":null,\"fModLabs\":null},\"fYaxis\":{\"_typename\":\"TAxis\",\"fUniqueID\":0,\"fBits\":50331648,\"fName\":\"yaxis\",\"fTitle\":\"\",\"fNdivisions\":510,\"fAxisColor\":1,\"fLabelColor\":1,\"fLabelFont\":42,\"fLabelOffset\":0.005,\"fLabelSize\":0.035,\"fTickLength\":0.03,\"fTitleOffset\":0,\"fTitleSize\":0.035,\"fTitleColor\":1,\"fTitleFont\":42,\"fNbins\":1,\"fXmin\":0,\"fXmax\":1,\"fXbins\":[],\"fFirst\":0,\"fLast\":0,\"fBits2\":0,\"fTimeDisplay\":false,\"fTimeFormat\":\"\",\"fLabels\":null,\"fModLabs\":null},\"fZaxis\":{\"_typename\":\"TAxis\",\"fUniqueID\":0,\"fBits\":50331648,\"fName\":\"zaxis\",\"fTitle\":\"\",\"fNdivisions\":510,\"fAxisColor\":1,\"fLabelColor\":1,\"fLabelFont\":42,\"fLabelOffset\":0.005,\"fLabelSize\":0.035,\"fTickLength\":0.03,\"fTitleOffset\":1,\"fTitleSize\":0.035,\"fTitleColor\":1,\"fTitleFont\":42,\"fNbins\":1,\"fXmin\":0,\"fXmax\":1,\"fXbins\":[],\"fFirst\":0,\"fLast\":0,\"fBits2\":0,\"fTimeDisplay\":false,\"fTimeFormat\":\"\",\"fLabels\":null,\"fModLabs\":null},\"fBarOffset\":0,\"fBarWidth\":1000,\"fEntries\":16,\"fTsumw\":0,\"fTsumw2\":0,\"fTsumwx\":0,\"fTsumwx2\":0,\"fMaximum\":-1111,\"fMinimum\":-1111,\"fNormFactor\":0,\"fContour\":[],\"fSumw2\":[0,407.04340126225,2925.83744894426,4246.94083195159,3734.98509189951,2572.92297185128,1258.94840641052,507.507964689843,0],\"fOption\":\"\",\"fFunctions\":{\"_typename\":\"TList\",\"name\":\"TList\",\"arr\":[],\"opt\":[]},\"fBufferSize\":0,\"fBuffer\":[],\"fBinStatErrOpt\":0,\"fStatOverflows\":2,\"fArray\":[0,217.548451796817,3707.58025066245,4394.67647733765,3126.363371661,1803.89185327144,612.216273003952,38.8609515774399,0]},{\"_typename\":\"TH1D\",\"fUniqueID\":0,\"fBits\":50332168,\"fName\":\"unfolded_data\",\"fTitle\":\"unfolded_data\",\"fLineColor\":1,\"fLineStyle\":1,\"fLineWidth\":2,\"fFillColor\":0,\"fFillStyle\":1001,\"fMarkerColor\":1,\"fMarkerStyle\":22,\"fMarkerSize\":1,\"fNcells\":9,\"fXaxis\":{\"_typename\":\"TAxis\",\"fUniqueID\":0,\"fBits\":50331648,\"fName\":\"xaxis\",\"fTitle\":\"#tau_{2,1}^{1}(gen_sig)\",\"fNdivisions\":510,\"fAxisColor\":1,\"fLabelColor\":1,\"fLabelFont\":42,\"fLabelOffset\":0.005,\"fLabelSize\":0.035,\"fTickLength\":0.03,\"fTitleOffset\":1,\"fTitleSize\":0.035,\"fTitleColor\":1,\"fTitleFont\":42,\"fNbins\":7,\"fXmin\":0,\"fXmax\":0.93,\"fXbins\":[0,0.12,0.256,0.392,0.528,0.664,0.8,0.93],\"fFirst\":0,\"fLast\":0,\"fBits2\":0,\"fTimeDisplay\":false,\"fTimeFormat\":\"\",\"fLabels\":null,\"fModLabs\":null},\"fYaxis\":{\"_typename\":\"TAxis\",\"fUniqueID\":0,\"fBits\":50331648,\"fName\":\"yaxis\",\"fTitle\":\"\",\"fNdivisions\":510,\"fAxisColor\":1,\"fLabelColor\":1,\"fLabelFont\":42,\"fLabelOffset\":0.005,\"fLabelSize\":0.035,\"fTickLength\":0.03,\"fTitleOffset\":0,\"fTitleSize\":0.035,\"fTitleColor\":1,\"fTitleFont\":42,\"fNbins\":1,\"fXmin\":0,\"fXmax\":1,\"fXbins\":[],\"fFirst\":0,\"fLast\":0,\"fBits2\":0,\"fTimeDisplay\":false,\"fTimeFormat\":\"\",\"fLabels\":null,\"fModLabs\":null},\"fZaxis\":{\"_typename\":\"TAxis\",\"fUniqueID\":0,\"fBits\":50331648,\"fName\":\"zaxis\",\"fTitle\":\"\",\"fNdivisions\":510,\"fAxisColor\":1,\"fLabelColor\":1,\"fLabelFont\":42,\"fLabelOffset\":0.005,\"fLabelSize\":0.035,\"fTickLength\":0.03,\"fTitleOffset\":1,\"fTitleSize\":0.035,\"fTitleColor\":1,\"fTitleFont\":42,\"fNbins\":1,\"fXmin\":0,\"fXmax\":1,\"fXbins\":[],\"fFirst\":0,\"fLast\":0,\"fBits2\":0,\"fTimeDisplay\":false,\"fTimeFormat\":\"\",\"fLabels\":null,\"fModLabs\":null},\"fBarOffset\":0,\"fBarWidth\":1000,\"fEntries\":16,\"fTsumw\":0,\"fTsumw2\":0,\"fTsumwx\":0,\"fTsumwx2\":0,\"fMaximum\":-1111,\"fMinimum\":-1111,\"fNormFactor\":0,\"fContour\":[],\"fSumw2\":[0,1620.88493580817,13880.0444338703,37337.8063301149,42908.5338239063,40315.9157283706,22519.0448442754,7499.26943639533,0],\"fOption\":\"\",\"fFunctions\":{\"_typename\":\"TList\",\"name\":\"TList\",\"arr\":[],\"opt\":[]},\"fBufferSize\":0,\"fBuffer\":[],\"fBinStatErrOpt\":0,\"fStatOverflows\":2,\"fArray\":[0,155.738134637477,3864.0875880889,4087.52531953732,3490.29833134555,2299.108832808,577.164795164937,-70.0184292076335,0]}],\"opt\":[\"E\",\"E \"]},\"fHistogram\":{\"_typename\":\"TH1F\",\"fUniqueID\":0,\"fBits\":50332160,\"fName\":\"#tau_{2,1}^{WTA}\",\"fTitle\":\"#tau_{2,1}^{WTA} binning 4\",\"fLineColor\":602,\"fLineStyle\":1,\"fLineWidth\":1,\"fFillColor\":0,\"fFillStyle\":1001,\"fMarkerColor\":1,\"fMarkerStyle\":1,\"fMarkerSize\":1,\"fNcells\":9,\"fXaxis\":{\"_typename\":\"TAxis\",\"fUniqueID\":0,\"fBits\":50331648,\"fName\":\"xaxis\",\"fTitle\":\"\",\"fNdivisions\":510,\"fAxisColor\":1,\"fLabelColor\":1,\"fLabelFont\":42,\"fLabelOffset\":0.005,\"fLabelSize\":0.035,\"fTickLength\":0.03,\"fTitleOffset\":1,\"fTitleSize\":0.035,\"fTitleColor\":1,\"fTitleFont\":42,\"fNbins\":7,\"fXmin\":0,\"fXmax\":0.93,\"fXbins\":[0,0.12,0.256,0.392,0.528,0.664,0.8,0.93],\"fFirst\":0,\"fLast\":0,\"fBits2\":0,\"fTimeDisplay\":false,\"fTimeFormat\":\"\",\"fLabels\":null,\"fModLabs\":null},\"fYaxis\":{\"_typename\":\"TAxis\",\"fUniqueID\":0,\"fBits\":50331648,\"fName\":\"yaxis\",\"fTitle\":\"\",\"fNdivisions\":510,\"fAxisColor\":1,\"fLabelColor\":1,\"fLabelFont\":42,\"fLabelOffset\":0.005,\"fLabelSize\":0.035,\"fTickLength\":0.03,\"fTitleOffset\":0,\"fTitleSize\":0.035,\"fTitleColor\":1,\"fTitleFont\":42,\"fNbins\":1,\"fXmin\":0,\"fXmax\":1,\"fXbins\":[],\"fFirst\":0,\"fLast\":0,\"fBits2\":0,\"fTimeDisplay\":false,\"fTimeFormat\":\"\",\"fLabels\":null,\"fModLabs\":null},\"fZaxis\":{\"_typename\":\"TAxis\",\"fUniqueID\":0,\"fBits\":50331648,\"fName\":\"zaxis\",\"fTitle\":\"\",\"fNdivisions\":510,\"fAxisColor\":1,\"fLabelColor\":1,\"fLabelFont\":42,\"fLabelOffset\":0.005,\"fLabelSize\":0.035,\"fTickLength\":0.03,\"fTitleOffset\":1,\"fTitleSize\":0.035,\"fTitleColor\":1,\"fTitleFont\":42,\"fNbins\":1,\"fXmin\":0,\"fXmax\":1,\"fXbins\":[],\"fFirst\":0,\"fLast\":0,\"fBits2\":0,\"fTimeDisplay\":false,\"fTimeFormat\":\"\",\"fLabels\":null,\"fModLabs\":null},\"fBarOffset\":0,\"fBarWidth\":1000,\"fEntries\":0,\"fTsumw\":0,\"fTsumw2\":0,\"fTsumwx\":0,\"fTsumwx2\":0,\"fMaximum\":4614.41030120453,\"fMinimum\":-70.0184292076335,\"fNormFactor\":0,\"fContour\":[],\"fSumw2\":[0,0,0,0,0,0,0,0,0],\"fOption\":\"\",\"fFunctions\":{\"_typename\":\"TList\",\"name\":\"TList\",\"arr\":[],\"opt\":[]},\"fBufferSize\":0,\"fBuffer\":[],\"fBinStatErrOpt\":0,\"fStatOverflows\":2,\"fArray\":[0,0,0,0,0,0,0,0,0]},\"fMaximum\":-1111,\"fMinimum\":-1111},{\"_typename\":\"TLegend\",\"fUniqueID\":0,\"fBits\":50331656,\"fLineColor\":0,\"fLineStyle\":1,\"fLineWidth\":1,\"fFillColor\":0,\"fFillStyle\":0,\"fX1\":0.40687499913387,\"fY1\":3560.41385605774,\"fX2\":0.988125007795171,\"fY2\":4614.41033610625,\"fX1NDC\":0.45,\"fY1NDC\":0.72,\"fX2NDC\":0.95,\"fY2NDC\":0.9,\"fBorderSize\":0,\"fInit\":1,\"fShadowColor\":1,\"fCornerRadius\":0,\"fOption\":\"brNDC\",\"fName\":\"TPave\",\"fTextAngle\":0,\"fTextSize\":9,\"fTextAlign\":12,\"fTextColor\":1,\"fTextFont\":42,\"fPrimitives\":{\"_typename\":\"TList\",\"name\":\"TList\",\"arr\":[{\"_typename\":\"TLegendEntry\",\"fUniqueID\":0,\"fBits\":50331656,\"fTextAngle\":0,\"fTextSize\":0,\"fTextAlign\":0,\"fTextColor\":0,\"fTextFont\":42,\"fLineColor\":1,\"fLineStyle\":1,\"fLineWidth\":1,\"fFillColor\":0,\"fFillStyle\":0,\"fMarkerColor\":1,\"fMarkerStyle\":22,\"fMarkerSize\":1,\"fObject\":{\"$ref\":96},\"fLabel\":\"Data (2016)\",\"fOption\":\"p\"},{\"_typename\":\"TLegendEntry\",\"fUniqueID\":0,\"fBits\":50331656,\"fTextAngle\":0,\"fTextSize\":0,\"fTextAlign\":0,\"fTextColor\":0,\"fTextFont\":42,\"fLineColor\":1,\"fLineStyle\":1,\"fLineWidth\":1,\"fFillColor\":0,\"fFillStyle\":0,\"fMarkerColor\":7,\"fMarkerStyle\":2,\"fMarkerSize\":1,\"fObject\":{\"$ref\":91},\"fLabel\":\"MC self-closure (ttbar Powheg)\",\"fOption\":\"p\"}],\"opt\":[\"p\",\"p\"]},\"fEntrySeparation\":0.1,\"fMargin\":0.25,\"fNColumns\":1,\"fColumnSeparation\":0},{\"_typename\":\"TPaveText\",\"fUniqueID\":0,\"fBits\":50331657,\"fLineColor\":1,\"fLineStyle\":1,\"fLineWidth\":1,\"fFillColor\":0,\"fFillStyle\":0,\"fX1\":0.2781065939214,\"fY1\":4701.71284889456,\"fX2\":0.6518934060786,\"fY2\":5170.68628405322,\"fX1NDC\":0.339231481037703,\"fY1NDC\":0.914909397326614,\"fX2NDC\":0.660768518962297,\"fY2NDC\":0.995000004768372,\"fBorderSize\":0,\"fInit\":1,\"fShadowColor\":1,\"fCornerRadius\":0,\"fOption\":\"blNDC\",\"fName\":\"title\",\"fTextAngle\":0,\"fTextSize\":0,\"fTextAlign\":22,\"fTextColor\":1,\"fTextFont\":42,\"fLabel\":\"\",\"fLongest\":26,\"fMargin\":0.05,\"fLines\":{\"_typename\":\"TList\",\"name\":\"TList\",\"arr\":[{\"_typename\":\"TLatex\",\"fUniqueID\":0,\"fBits\":50331648,\"fName\":\"\",\"fTitle\":\"#tau_{2,1}^{WTA} binning 4\",\"fTextAngle\":0,\"fTextSize\":0,\"fTextAlign\":0,\"fTextColor\":0,\"fTextFont\":0,\"fX\":0,\"fY\":0,\"fLineColor\":1,\"fLineStyle\":1,\"fLineWidth\":2,\"fLimitFactorSize\":3,\"fOriginSize\":0.0576084032654762}],\"opt\":[\"\"]}}],\"opt\":[\"\",\"nostack\",\"\",\"blNDC\"]},\"fExecs\":{\"_typename\":\"TList\",\"name\":\"TList\",\"arr\":[],\"opt\":[]},\"fName\":\"c5_4\",\"fTitle\":\"c5_4\",\"fNumPaletteColor\":0,\"fNextPaletteColor\":0},{\"_typename\":\"TPad\",\"fUniqueID\":0,\"fBits\":50331657,\"fLineColor\":1,\"fLineStyle\":1,\"fLineWidth\":1,\"fFillColor\":0,\"fFillStyle\":1001,\"fLeftMargin\":0.1,\"fRightMargin\":0.1,\"fBottomMargin\":0.1,\"fTopMargin\":0.1,\"fXfile\":2,\"fYfile\":2,\"fAfile\":1,\"fXstat\":0.99,\"fYstat\":0.99,\"fAstat\":2,\"fFrameFillColor\":0,\"fFrameLineColor\":1,\"fFrameFillStyle\":1001,\"fFrameLineStyle\":1,\"fFrameLineWidth\":1,\"fFrameBorderSize\":1,\"fFrameBorderMode\":0,\"fX1\":-0.1162500086613,\"fY1\":-657.827822469273,\"fX2\":1.0462500086613,\"fY2\":3674.03594297033,\"fXtoAbsPixelk\":448.101385353136,\"fXtoPixelk\":37.4747189537963,\"fXtoPixel\":322.362719670675,\"fYtoAbsPixelk\":640.756963419606,\"fYtoPixelk\":279.570296988079,\"fYtoPixel\":-0.0760934980843046,\"fUtoAbsPixelk\":410.62671639934,\"fUtoPixelk\":5e-5,\"fUtoPixel\":374.74666720132,\"fVtoAbsPixelk\":690.813383568473,\"fVtoPixelk\":329.626667136947,\"fVtoPixel\":-329.626667136947,\"fAbsPixeltoXk\":-1.39005321648519,\"fPixeltoXk\":-0.1162500086613,\"fPixeltoX\":0.00310209567974113,\"fAbsPixeltoYk\":8420.65261226006,\"fPixeltoYk\":-657.827822469273,\"fPixeltoY\":-13.1417272851892,\"fXlowNDC\":0.343333333109816,\"fYlowNDC\":0.343333333109816,\"fXUpNDC\":0,\"fYUpNDC\":0,\"fWNDC\":0.313333333780368,\"fHNDC\":0.313333333780368,\"fAbsXlowNDC\":0.343333333109816,\"fAbsYlowNDC\":0.343333333109816,\"fAbsWNDC\":0.313333333780368,\"fAbsHNDC\":0.313333333780368,\"fUxmin\":0,\"fUymin\":-224.641420105391,\"fUxmax\":0.93,\"fUymax\":3240.84954060645,\"fTheta\":30,\"fPhi\":30,\"fAspectRatio\":0,\"fNumber\":5,\"fTickx\":0,\"fTicky\":0,\"fLogx\":0,\"fLogy\":0,\"fLogz\":0,\"fPadPaint\":0,\"fCrosshair\":0,\"fCrosshairPos\":0,\"fBorderSize\":2,\"fBorderMode\":0,\"fModified\":false,\"fGridx\":false,\"fGridy\":false,\"fAbsCoord\":false,\"fEditable\":true,\"fFixedAspectRatio\":false,\"fPrimitives\":{\"_typename\":\"TList\",\"name\":\"TList\",\"arr\":[{\"_typename\":\"TFrame\",\"fUniqueID\":0,\"fBits\":50331656,\"fLineColor\":1,\"fLineStyle\":1,\"fLineWidth\":1,\"fFillColor\":0,\"fFillStyle\":1001,\"fX1\":0,\"fY1\":-224.641420105391,\"fX2\":0.93,\"fY2\":3240.84954060645,\"fBorderSize\":1,\"fBorderMode\":0},{\"_typename\":\"THStack\",\"fUniqueID\":0,\"fBits\":50331656,\"fName\":\"#tau_{2,1}^{WTA}\",\"fTitle\":\"#tau_{2,1}^{WTA} binning 5\",\"fHists\":{\"_typename\":\"TList\",\"name\":\"TList\",\"arr\":[{\"_typename\":\"TH1D\",\"fUniqueID\":0,\"fBits\":50332168,\"fName\":\"closure_unfolded_MC\",\"fTitle\":\"closure_unfolded_MC\",\"fLineColor\":7,\"fLineStyle\":1,\"fLineWidth\":1,\"fFillColor\":0,\"fFillStyle\":1001,\"fMarkerColor\":7,\"fMarkerStyle\":2,\"fMarkerSize\":1,\"fNcells\":12,\"fXaxis\":{\"_typename\":\"TAxis\",\"fUniqueID\":0,\"fBits\":50331648,\"fName\":\"xaxis\",\"fTitle\":\"#tau_{2,1}^{1}(gen_sig)\",\"fNdivisions\":510,\"fAxisColor\":1,\"fLabelColor\":1,\"fLabelFont\":42,\"fLabelOffset\":0.005,\"fLabelSize\":0.035,\"fTickLength\":0.03,\"fTitleOffset\":1,\"fTitleSize\":0.035,\"fTitleColor\":1,\"fTitleFont\":42,\"fNbins\":10,\"fXmin\":0,\"fXmax\":0.93,\"fXbins\":[0,0.12,0.205,0.29,0.375,0.46,0.545,0.63,0.715,0.8,0.93],\"fFirst\":0,\"fLast\":0,\"fBits2\":0,\"fTimeDisplay\":false,\"fTimeFormat\":\"\",\"fLabels\":null,\"fModLabs\":null},\"fYaxis\":{\"_typename\":\"TAxis\",\"fUniqueID\":0,\"fBits\":50331648,\"fName\":\"yaxis\",\"fTitle\":\"\",\"fNdivisions\":510,\"fAxisColor\":1,\"fLabelColor\":1,\"fLabelFont\":42,\"fLabelOffset\":0.005,\"fLabelSize\":0.035,\"fTickLength\":0.03,\"fTitleOffset\":0,\"fTitleSize\":0.035,\"fTitleColor\":1,\"fTitleFont\":42,\"fNbins\":1,\"fXmin\":0,\"fXmax\":1,\"fXbins\":[],\"fFirst\":0,\"fLast\":0,\"fBits2\":0,\"fTimeDisplay\":false,\"fTimeFormat\":\"\",\"fLabels\":null,\"fModLabs\":null},\"fZaxis\":{\"_typename\":\"TAxis\",\"fUniqueID\":0,\"fBits\":50331648,\"fName\":\"zaxis\",\"fTitle\":\"\",\"fNdivisions\":510,\"fAxisColor\":1,\"fLabelColor\":1,\"fLabelFont\":42,\"fLabelOffset\":0.005,\"fLabelSize\":0.035,\"fTickLength\":0.03,\"fTitleOffset\":1,\"fTitleSize\":0.035,\"fTitleColor\":1,\"fTitleFont\":42,\"fNbins\":1,\"fXmin\":0,\"fXmax\":1,\"fXbins\":[],\"fFirst\":0,\"fLast\":0,\"fBits2\":0,\"fTimeDisplay\":false,\"fTimeFormat\":\"\",\"fLabels\":null,\"fModLabs\":null},\"fBarOffset\":0,\"fBarWidth\":1000,\"fEntries\":22,\"fTsumw\":0,\"fTsumw2\":0,\"fTsumwx\":0,\"fTsumwx2\":0,\"fMaximum\":-1111,\"fMinimum\":-1111,\"fNormFactor\":0,\"fContour\":[],\"fSumw2\":[0,449.121046596176,2887.6100913517,5757.44359303008,7475.45259022061,8079.42919295618,7682.66620212831,6093.93908632718,3828.5052749903,1995.28680137326,842.94448344544,0],\"fOption\":\"\",\"fFunctions\":{\"_typename\":\"TList\",\"name\":\"TList\",\"arr\":[],\"opt\":[]},\"fBufferSize\":0,\"fBuffer\":[],\"fBinStatErrOpt\":0,\"fStatOverflows\":2,\"fArray\":[0,217.548451796817,1991.87883453833,2922.53965380168,2721.29586886655,2211.76396462826,1693.53796721945,1168.27259124283,682.103551219351,253.335794420028,38.8609515774397,0]},{\"_typename\":\"TH1D\",\"fUniqueID\":0,\"fBits\":50332168,\"fName\":\"unfolded_data\",\"fTitle\":\"unfolded_data\",\"fLineColor\":1,\"fLineStyle\":1,\"fLineWidth\":2,\"fFillColor\":0,\"fFillStyle\":1001,\"fMarkerColor\":1,\"fMarkerStyle\":22,\"fMarkerSize\":1,\"fNcells\":12,\"fXaxis\":{\"_typename\":\"TAxis\",\"fUniqueID\":0,\"fBits\":50331648,\"fName\":\"xaxis\",\"fTitle\":\"#tau_{2,1}^{1}(gen_sig)\",\"fNdivisions\":510,\"fAxisColor\":1,\"fLabelColor\":1,\"fLabelFont\":42,\"fLabelOffset\":0.005,\"fLabelSize\":0.035,\"fTickLength\":0.03,\"fTitleOffset\":1,\"fTitleSize\":0.035,\"fTitleColor\":1,\"fTitleFont\":42,\"fNbins\":10,\"fXmin\":0,\"fXmax\":0.93,\"fXbins\":[0,0.12,0.205,0.29,0.375,0.46,0.545,0.63,0.715,0.8,0.93],\"fFirst\":0,\"fLast\":0,\"fBits2\":0,\"fTimeDisplay\":false,\"fTimeFormat\":\"\",\"fLabels\":null,\"fModLabs\":null},\"fYaxis\":{\"_typename\":\"TAxis\",\"fUniqueID\":0,\"fBits\":50331648,\"fName\":\"yaxis\",\"fTitle\":\"\",\"fNdivisions\":510,\"fAxisColor\":1,\"fLabelColor\":1,\"fLabelFont\":42,\"fLabelOffset\":0.005,\"fLabelSize\":0.035,\"fTickLength\":0.03,\"fTitleOffset\":0,\"fTitleSize\":0.035,\"fTitleColor\":1,\"fTitleFont\":42,\"fNbins\":1,\"fXmin\":0,\"fXmax\":1,\"fXbins\":[],\"fFirst\":0,\"fLast\":0,\"fBits2\":0,\"fTimeDisplay\":false,\"fTimeFormat\":\"\",\"fLabels\":null,\"fModLabs\":null},\"fZaxis\":{\"_typename\":\"TAxis\",\"fUniqueID\":0,\"fBits\":50331648,\"fName\":\"zaxis\",\"fTitle\":\"\",\"fNdivisions\":510,\"fAxisColor\":1,\"fLabelColor\":1,\"fLabelFont\":42,\"fLabelOffset\":0.005,\"fLabelSize\":0.035,\"fTickLength\":0.03,\"fTitleOffset\":1,\"fTitleSize\":0.035,\"fTitleColor\":1,\"fTitleFont\":42,\"fNbins\":1,\"fXmin\":0,\"fXmax\":1,\"fXbins\":[],\"fFirst\":0,\"fLast\":0,\"fBits2\":0,\"fTimeDisplay\":false,\"fTimeFormat\":\"\",\"fLabels\":null,\"fModLabs\":null},\"fBarOffset\":0,\"fBarWidth\":1000,\"fEntries\":22,\"fTsumw\":0,\"fTsumw2\":0,\"fTsumwx\":0,\"fTsumwx2\":0,\"fMaximum\":-1111,\"fMinimum\":-1111,\"fNormFactor\":0,\"fContour\":[],\"fSumw2\":[0,1775.72570660439,11996.5690006164,35093.4195007656,65637.8896538559,87647.2646532098,100693.588147215,94518.317088627,66054.7695491171,43261.5739350776,13580.1975105089,0],\"fOption\":\"\",\"fFunctions\":{\"_typename\":\"TList\",\"name\":\"TList\",\"arr\":[],\"opt\":[]},\"fBufferSize\":0,\"fBuffer\":[],\"fBinStatErrOpt\":0,\"fStatOverflows\":2,\"fArray\":[0,212.567729618197,1942.49320156204,3086.52337200614,2428.50641505253,2483.75353960226,1878.57273923639,1261.84663922404,1182.74877000454,-224.641420105391,110.989548122272,0]}],\"opt\":[\"E\",\"E \"]},\"fHistogram\":{\"_typename\":\"TH1F\",\"fUniqueID\":0,\"fBits\":50332160,\"fName\":\"#tau_{2,1}^{WTA}\",\"fTitle\":\"#tau_{2,1}^{WTA} binning 5\",\"fLineColor\":602,\"fLineStyle\":1,\"fLineWidth\":1,\"fFillColor\":0,\"fFillStyle\":1001,\"fMarkerColor\":1,\"fMarkerStyle\":1,\"fMarkerSize\":1,\"fNcells\":12,\"fXaxis\":{\"_typename\":\"TAxis\",\"fUniqueID\":0,\"fBits\":50331648,\"fName\":\"xaxis\",\"fTitle\":\"\",\"fNdivisions\":510,\"fAxisColor\":1,\"fLabelColor\":1,\"fLabelFont\":42,\"fLabelOffset\":0.005,\"fLabelSize\":0.035,\"fTickLength\":0.03,\"fTitleOffset\":1,\"fTitleSize\":0.035,\"fTitleColor\":1,\"fTitleFont\":42,\"fNbins\":10,\"fXmin\":0,\"fXmax\":0.93,\"fXbins\":[0,0.12,0.205,0.29,0.375,0.46,0.545,0.63,0.715,0.8,0.93],\"fFirst\":0,\"fLast\":0,\"fBits2\":0,\"fTimeDisplay\":false,\"fTimeFormat\":\"\",\"fLabels\":null,\"fModLabs\":null},\"fYaxis\":{\"_typename\":\"TAxis\",\"fUniqueID\":0,\"fBits\":50331648,\"fName\":\"yaxis\",\"fTitle\":\"\",\"fNdivisions\":510,\"fAxisColor\":1,\"fLabelColor\":1,\"fLabelFont\":42,\"fLabelOffset\":0.005,\"fLabelSize\":0.035,\"fTickLength\":0.03,\"fTitleOffset\":0,\"fTitleSize\":0.035,\"fTitleColor\":1,\"fTitleFont\":42,\"fNbins\":1,\"fXmin\":0,\"fXmax\":1,\"fXbins\":[],\"fFirst\":0,\"fLast\":0,\"fBits2\":0,\"fTimeDisplay\":false,\"fTimeFormat\":\"\",\"fLabels\":null,\"fModLabs\":null},\"fZaxis\":{\"_typename\":\"TAxis\",\"fUniqueID\":0,\"fBits\":50331648,\"fName\":\"zaxis\",\"fTitle\":\"\",\"fNdivisions\":510,\"fAxisColor\":1,\"fLabelColor\":1,\"fLabelFont\":42,\"fLabelOffset\":0.005,\"fLabelSize\":0.035,\"fTickLength\":0.03,\"fTitleOffset\":1,\"fTitleSize\":0.035,\"fTitleColor\":1,\"fTitleFont\":42,\"fNbins\":1,\"fXmin\":0,\"fXmax\":1,\"fXbins\":[],\"fFirst\":0,\"fLast\":0,\"fBits2\":0,\"fTimeDisplay\":false,\"fTimeFormat\":\"\",\"fLabels\":null,\"fModLabs\":null},\"fBarOffset\":0,\"fBarWidth\":1000,\"fEntries\":0,\"fTsumw\":0,\"fTsumw2\":0,\"fTsumwx\":0,\"fTsumwx2\":0,\"fMaximum\":3240.84954060645,\"fMinimum\":-224.641420105391,\"fNormFactor\":0,\"fContour\":[],\"fSumw2\":[0,0,0,0,0,0,0,0,0,0,0,0],\"fOption\":\"\",\"fFunctions\":{\"_typename\":\"TList\",\"name\":\"TList\",\"arr\":[],\"opt\":[]},\"fBufferSize\":0,\"fBuffer\":[],\"fBinStatErrOpt\":0,\"fStatOverflows\":2,\"fArray\":[0,0,0,0,0,0,0,0,0,0,0,0]},\"fMaximum\":-1111,\"fMinimum\":-1111},{\"_typename\":\"TLegend\",\"fUniqueID\":0,\"fBits\":50331656,\"fLineColor\":0,\"fLineStyle\":1,\"fLineWidth\":1,\"fFillColor\":0,\"fFillStyle\":0,\"fX1\":0.40687499913387,\"fY1\":2461.11408864724,\"fX2\":0.988125007795171,\"fY2\":3240.84956642637,\"fX1NDC\":0.45,\"fY1NDC\":0.72,\"fX2NDC\":0.95,\"fY2NDC\":0.9,\"fBorderSize\":0,\"fInit\":1,\"fShadowColor\":1,\"fCornerRadius\":0,\"fOption\":\"brNDC\",\"fName\":\"TPave\",\"fTextAngle\":0,\"fTextSize\":9,\"fTextAlign\":12,\"fTextColor\":1,\"fTextFont\":42,\"fPrimitives\":{\"_typename\":\"TList\",\"name\":\"TList\",\"arr\":[{\"_typename\":\"TLegendEntry\",\"fUniqueID\":0,\"fBits\":50331656,\"fTextAngle\":0,\"fTextSize\":0,\"fTextAlign\":0,\"fTextColor\":0,\"fTextFont\":42,\"fLineColor\":1,\"fLineStyle\":1,\"fLineWidth\":1,\"fFillColor\":0,\"fFillStyle\":0,\"fMarkerColor\":1,\"fMarkerStyle\":22,\"fMarkerSize\":1,\"fObject\":{\"$ref\":124},\"fLabel\":\"Data (2016)\",\"fOption\":\"p\"},{\"_typename\":\"TLegendEntry\",\"fUniqueID\":0,\"fBits\":50331656,\"fTextAngle\":0,\"fTextSize\":0,\"fTextAlign\":0,\"fTextColor\":0,\"fTextFont\":42,\"fLineColor\":1,\"fLineStyle\":1,\"fLineWidth\":1,\"fFillColor\":0,\"fFillStyle\":0,\"fMarkerColor\":7,\"fMarkerStyle\":2,\"fMarkerSize\":1,\"fObject\":{\"$ref\":119},\"fLabel\":\"MC self-closure (ttbar Powheg)\",\"fOption\":\"p\"}],\"opt\":[\"p\",\"p\"]},\"fEntrySeparation\":0.1,\"fMargin\":0.25,\"fNColumns\":1,\"fColumnSeparation\":0},{\"_typename\":\"TPaveText\",\"fUniqueID\":0,\"fBits\":50331657,\"fLineColor\":1,\"fLineStyle\":1,\"fLineWidth\":1,\"fFillColor\":0,\"fFillStyle\":0,\"fX1\":0.2781065939214,\"fY1\":3305.43504447008,\"fX2\":0.6518934060786,\"fY2\":3652.37664479907,\"fX1NDC\":0.339231481037703,\"fY1NDC\":0.914909397326614,\"fX2NDC\":0.660768518962297,\"fY2NDC\":0.995000004768372,\"fBorderSize\":0,\"fInit\":1,\"fShadowColor\":1,\"fCornerRadius\":0,\"fOption\":\"blNDC\",\"fName\":\"title\",\"fTextAngle\":0,\"fTextSize\":0,\"fTextAlign\":22,\"fTextColor\":1,\"fTextFont\":42,\"fLabel\":\"\",\"fLongest\":26,\"fMargin\":0.05,\"fLines\":{\"_typename\":\"TList\",\"name\":\"TList\",\"arr\":[{\"_typename\":\"TLatex\",\"fUniqueID\":0,\"fBits\":50331648,\"fName\":\"\",\"fTitle\":\"#tau_{2,1}^{WTA} binning 5\",\"fTextAngle\":0,\"fTextSize\":0,\"fTextAlign\":0,\"fTextColor\":0,\"fTextFont\":0,\"fX\":0,\"fY\":0,\"fLineColor\":1,\"fLineStyle\":1,\"fLineWidth\":2,\"fLimitFactorSize\":3,\"fOriginSize\":0.0576084032654762}],\"opt\":[\"\"]}}],\"opt\":[\"\",\"nostack\",\"\",\"blNDC\"]},\"fExecs\":{\"_typename\":\"TList\",\"name\":\"TList\",\"arr\":[],\"opt\":[]},\"fName\":\"c5_5\",\"fTitle\":\"c5_5\",\"fNumPaletteColor\":0,\"fNextPaletteColor\":0},{\"_typename\":\"TPad\",\"fUniqueID\":0,\"fBits\":50331657,\"fLineColor\":1,\"fLineStyle\":1,\"fLineWidth\":1,\"fFillColor\":0,\"fFillStyle\":1001,\"fLeftMargin\":0.1,\"fRightMargin\":0.1,\"fBottomMargin\":0.1,\"fTopMargin\":0.1,\"fXfile\":2,\"fYfile\":2,\"fAfile\":1,\"fXstat\":0.99,\"fYstat\":0.99,\"fAstat\":2,\"fFrameFillColor\":0,\"fFrameLineColor\":1,\"fFrameFillStyle\":1001,\"fFrameLineStyle\":1,\"fFrameLineWidth\":1,\"fFrameBorderSize\":1,\"fFrameBorderMode\":0,\"fX1\":-0.1162500086613,\"fY1\":-773.601171715931,\"fX2\":1.0462500086613,\"fY2\":3353.17612743339,\"fXtoAbsPixelk\":846.768052019803,\"fXtoPixelk\":37.4747189537963,\"fXtoPixel\":322.362719670675,\"fYtoAbsPixelk\":629.021928047352,\"fYtoPixelk\":267.835261615826,\"fYtoPixel\":-0.0798750800545732,\"fUtoAbsPixelk\":809.293383066006,\"fUtoPixelk\":5e-5,\"fUtoPixel\":374.74666720132,\"fVtoAbsPixelk\":690.813383568473,\"fVtoPixelk\":329.626667136947,\"fVtoPixel\":-329.626667136947,\"fAbsPixeltoXk\":-2.62675536080865,\"fPixeltoXk\":-0.1162500086613,\"fPixeltoX\":0.00310209567974112,\"fAbsPixeltoYk\":7875.07039263791,\"fPixeltoYk\":-773.601171715931,\"fPixeltoY\":-12.519549267641,\"fXlowNDC\":0.676666666443149,\"fYlowNDC\":0.343333333109816,\"fXUpNDC\":0,\"fYUpNDC\":0,\"fWNDC\":0.313333333780368,\"fHNDC\":0.313333333780368,\"fAbsXlowNDC\":0.676666666443149,\"fAbsYlowNDC\":0.343333333109816,\"fAbsWNDC\":0.313333333780368,\"fAbsHNDC\":0.313333333780368,\"fUxmin\":0,\"fUymin\":-360.923417203488,\"fUxmax\":0.93,\"fUymax\":2940.49837292095,\"fTheta\":30,\"fPhi\":30,\"fAspectRatio\":0,\"fNumber\":6,\"fTickx\":0,\"fTicky\":0,\"fLogx\":0,\"fLogy\":0,\"fLogz\":0,\"fPadPaint\":0,\"fCrosshair\":0,\"fCrosshairPos\":0,\"fBorderSize\":2,\"fBorderMode\":0,\"fModified\":false,\"fGridx\":false,\"fGridy\":false,\"fAbsCoord\":false,\"fEditable\":true,\"fFixedAspectRatio\":false,\"fPrimitives\":{\"_typename\":\"TList\",\"name\":\"TList\",\"arr\":[{\"_typename\":\"TFrame\",\"fUniqueID\":0,\"fBits\":50331656,\"fLineColor\":1,\"fLineStyle\":1,\"fLineWidth\":1,\"fFillColor\":0,\"fFillStyle\":1001,\"fX1\":0,\"fY1\":-360.923417203488,\"fX2\":0.93,\"fY2\":2940.49837292095,\"fBorderSize\":1,\"fBorderMode\":0},{\"_typename\":\"THStack\",\"fUniqueID\":0,\"fBits\":50331656,\"fName\":\"#tau_{2,1}^{WTA}\",\"fTitle\":\"#tau_{2,1}^{WTA} binning 6\",\"fHists\":{\"_typename\":\"TList\",\"name\":\"TList\",\"arr\":[{\"_typename\":\"TH1D\",\"fUniqueID\":0,\"fBits\":50332168,\"fName\":\"closure_unfolded_MC\",\"fTitle\":\"closure_unfolded_MC\",\"fLineColor\":7,\"fLineStyle\":1,\"fLineWidth\":1,\"fFillColor\":0,\"fFillStyle\":1001,\"fMarkerColor\":7,\"fMarkerStyle\":2,\"fMarkerSize\":1,\"fNcells\":14,\"fXaxis\":{\"_typename\":\"TAxis\",\"fUniqueID\":0,\"fBits\":50331648,\"fName\":\"xaxis\",\"fTitle\":\"#tau_{2,1}^{1}(gen_sig)\",\"fNdivisions\":510,\"fAxisColor\":1,\"fLabelColor\":1,\"fLabelFont\":42,\"fLabelOffset\":0.005,\"fLabelSize\":0.035,\"fTickLength\":0.03,\"fTitleOffset\":1,\"fTitleSize\":0.035,\"fTitleColor\":1,\"fTitleFont\":42,\"fNbins\":12,\"fXmin\":0,\"fXmax\":0.93,\"fXbins\":[0,0.12,0.188,0.256,0.324,0.392,0.46,0.528,0.596,0.664,0.732,0.8,0.93],\"fFirst\":0,\"fLast\":0,\"fBits2\":0,\"fTimeDisplay\":false,\"fTimeFormat\":\"\",\"fLabels\":null,\"fModLabs\":null},\"fYaxis\":{\"_typename\":\"TAxis\",\"fUniqueID\":0,\"fBits\":50331648,\"fName\":\"yaxis\",\"fTitle\":\"\",\"fNdivisions\":510,\"fAxisColor\":1,\"fLabelColor\":1,\"fLabelFont\":42,\"fLabelOffset\":0.005,\"fLabelSize\":0.035,\"fTickLength\":0.03,\"fTitleOffset\":0,\"fTitleSize\":0.035,\"fTitleColor\":1,\"fTitleFont\":42,\"fNbins\":1,\"fXmin\":0,\"fXmax\":1,\"fXbins\":[],\"fFirst\":0,\"fLast\":0,\"fBits2\":0,\"fTimeDisplay\":false,\"fTimeFormat\":\"\",\"fLabels\":null,\"fModLabs\":null},\"fZaxis\":{\"_typename\":\"TAxis\",\"fUniqueID\":0,\"fBits\":50331648,\"fName\":\"zaxis\",\"fTitle\":\"\",\"fNdivisions\":510,\"fAxisColor\":1,\"fLabelColor\":1,\"fLabelFont\":42,\"fLabelOffset\":0.005,\"fLabelSize\":0.035,\"fTickLength\":0.03,\"fTitleOffset\":1,\"fTitleSize\":0.035,\"fTitleColor\":1,\"fTitleFont\":42,\"fNbins\":1,\"fXmin\":0,\"fXmax\":1,\"fXbins\":[],\"fFirst\":0,\"fLast\":0,\"fBits2\":0,\"fTimeDisplay\":false,\"fTimeFormat\":\"\",\"fLabels\":null,\"fModLabs\":null},\"fBarOffset\":0,\"fBarWidth\":1000,\"fEntries\":26,\"fTsumw\":0,\"fTsumw2\":0,\"fTsumwx\":0,\"fTsumwx2\":0,\"fMaximum\":-1111,\"fMinimum\":-1111,\"fNormFactor\":0,\"fContour\":[],\"fSumw2\":[0,515.109813410837,3261.59842454616,8036.48503263801,14021.3287500397,17117.069234478,16393.1584598692,15148.7686469626,12244.1581146537,8464.53388452188,6120.521985848,3346.95699010961,1078.93631364951,0],\"fOption\":\"\",\"fFunctions\":{\"_typename\":\"TList\",\"name\":\"TList\",\"arr\":[],\"opt\":[]},\"fBufferSize\":0,\"fBuffer\":[],\"fBinStatErrOpt\":0,\"fStatOverflows\":2,\"fArray\":[0,217.548451796815,1465.50815733801,2242.07209332445,2349.73291325485,2044.9435640828,1745.22159383473,1381.14177782626,1057.33267321632,746.559180055107,436.675442577274,175.54083042668,38.8609515774401,0]},{\"_typename\":\"TH1D\",\"fUniqueID\":0,\"fBits\":50332168,\"fName\":\"unfolded_data\",\"fTitle\":\"unfolded_data\",\"fLineColor\":1,\"fLineStyle\":1,\"fLineWidth\":2,\"fFillColor\":0,\"fFillStyle\":1001,\"fMarkerColor\":1,\"fMarkerStyle\":22,\"fMarkerSize\":1,\"fNcells\":14,\"fXaxis\":{\"_typename\":\"TAxis\",\"fUniqueID\":0,\"fBits\":50331648,\"fName\":\"xaxis\",\"fTitle\":\"#tau_{2,1}^{1}(gen_sig)\",\"fNdivisions\":510,\"fAxisColor\":1,\"fLabelColor\":1,\"fLabelFont\":42,\"fLabelOffset\":0.005,\"fLabelSize\":0.035,\"fTickLength\":0.03,\"fTitleOffset\":1,\"fTitleSize\":0.035,\"fTitleColor\":1,\"fTitleFont\":42,\"fNbins\":12,\"fXmin\":0,\"fXmax\":0.93,\"fXbins\":[0,0.12,0.188,0.256,0.324,0.392,0.46,0.528,0.596,0.664,0.732,0.8,0.93],\"fFirst\":0,\"fLast\":0,\"fBits2\":0,\"fTimeDisplay\":false,\"fTimeFormat\":\"\",\"fLabels\":null,\"fModLabs\":null},\"fYaxis\":{\"_typename\":\"TAxis\",\"fUniqueID\":0,\"fBits\":50331648,\"fName\":\"yaxis\",\"fTitle\":\"\",\"fNdivisions\":510,\"fAxisColor\":1,\"fLabelColor\":1,\"fLabelFont\":42,\"fLabelOffset\":0.005,\"fLabelSize\":0.035,\"fTickLength\":0.03,\"fTitleOffset\":0,\"fTitleSize\":0.035,\"fTitleColor\":1,\"fTitleFont\":42,\"fNbins\":1,\"fXmin\":0,\"fXmax\":1,\"fXbins\":[],\"fFirst\":0,\"fLast\":0,\"fBits2\":0,\"fTimeDisplay\":false,\"fTimeFormat\":\"\",\"fLabels\":null,\"fModLabs\":null},\"fZaxis\":{\"_typename\":\"TAxis\",\"fUniqueID\":0,\"fBits\":50331648,\"fName\":\"zaxis\",\"fTitle\":\"\",\"fNdivisions\":510,\"fAxisColor\":1,\"fLabelColor\":1,\"fLabelFont\":42,\"fLabelOffset\":0.005,\"fLabelSize\":0.035,\"fTickLength\":0.03,\"fTitleOffset\":1,\"fTitleSize\":0.035,\"fTitleColor\":1,\"fTitleFont\":42,\"fNbins\":1,\"fXmin\":0,\"fXmax\":1,\"fXbins\":[],\"fFirst\":0,\"fLast\":0,\"fBits2\":0,\"fTimeDisplay\":false,\"fTimeFormat\":\"\",\"fLabels\":null,\"fModLabs\":null},\"fBarOffset\":0,\"fBarWidth\":1000,\"fEntries\":26,\"fTsumw\":0,\"fTsumw2\":0,\"fTsumwx\":0,\"fTsumwx2\":0,\"fMaximum\":-1111,\"fMinimum\":-1111,\"fNormFactor\":0,\"fContour\":[],\"fSumw2\":[0,2029.14564884506,13030.2940272201,42170.9093388086,106139.640068337,160148.150199509,170132.253002564,186500.904483139,167712.975739433,140745.199414558,125783.810407738,98859.2174425011,23301.6744494127,0],\"fOption\":\"\",\"fFunctions\":{\"_typename\":\"TList\",\"name\":\"TList\",\"arr\":[],\"opt\":[]},\"fBufferSize\":0,\"fBuffer\":[],\"fBinStatErrOpt\":0,\"fStatOverflows\":2,\"fArray\":[0,244.106304058707,1229.00657404916,2800.47464087709,1706.8095092613,2247.9072057668,2054.407606008,1465.66944571319,1242.57342546846,965.507023000797,771.839804639223,-360.923417203488,132.17568620462,0]}],\"opt\":[\"E\",\"E \"]},\"fHistogram\":{\"_typename\":\"TH1F\",\"fUniqueID\":0,\"fBits\":50332160,\"fName\":\"#tau_{2,1}^{WTA}\",\"fTitle\":\"#tau_{2,1}^{WTA} binning 6\",\"fLineColor\":602,\"fLineStyle\":1,\"fLineWidth\":1,\"fFillColor\":0,\"fFillStyle\":1001,\"fMarkerColor\":1,\"fMarkerStyle\":1,\"fMarkerSize\":1,\"fNcells\":14,\"fXaxis\":{\"_typename\":\"TAxis\",\"fUniqueID\":0,\"fBits\":50331648,\"fName\":\"xaxis\",\"fTitle\":\"\",\"fNdivisions\":510,\"fAxisColor\":1,\"fLabelColor\":1,\"fLabelFont\":42,\"fLabelOffset\":0.005,\"fLabelSize\":0.035,\"fTickLength\":0.03,\"fTitleOffset\":1,\"fTitleSize\":0.035,\"fTitleColor\":1,\"fTitleFont\":42,\"fNbins\":12,\"fXmin\":0,\"fXmax\":0.93,\"fXbins\":[0,0.12,0.188,0.256,0.324,0.392,0.46,0.528,0.596,0.664,0.732,0.8,0.93],\"fFirst\":0,\"fLast\":0,\"fBits2\":0,\"fTimeDisplay\":false,\"fTimeFormat\":\"\",\"fLabels\":null,\"fModLabs\":null},\"fYaxis\":{\"_typename\":\"TAxis\",\"fUniqueID\":0,\"fBits\":50331648,\"fName\":\"yaxis\",\"fTitle\":\"\",\"fNdivisions\":510,\"fAxisColor\":1,\"fLabelColor\":1,\"fLabelFont\":42,\"fLabelOffset\":0.005,\"fLabelSize\":0.035,\"fTickLength\":0.03,\"fTitleOffset\":0,\"fTitleSize\":0.035,\"fTitleColor\":1,\"fTitleFont\":42,\"fNbins\":1,\"fXmin\":0,\"fXmax\":1,\"fXbins\":[],\"fFirst\":0,\"fLast\":0,\"fBits2\":0,\"fTimeDisplay\":false,\"fTimeFormat\":\"\",\"fLabels\":null,\"fModLabs\":null},\"fZaxis\":{\"_typename\":\"TAxis\",\"fUniqueID\":0,\"fBits\":50331648,\"fName\":\"zaxis\",\"fTitle\":\"\",\"fNdivisions\":510,\"fAxisColor\":1,\"fLabelColor\":1,\"fLabelFont\":42,\"fLabelOffset\":0.005,\"fLabelSize\":0.035,\"fTickLength\":0.03,\"fTitleOffset\":1,\"fTitleSize\":0.035,\"fTitleColor\":1,\"fTitleFont\":42,\"fNbins\":1,\"fXmin\":0,\"fXmax\":1,\"fXbins\":[],\"fFirst\":0,\"fLast\":0,\"fBits2\":0,\"fTimeDisplay\":false,\"fTimeFormat\":\"\",\"fLabels\":null,\"fModLabs\":null},\"fBarOffset\":0,\"fBarWidth\":1000,\"fEntries\":0,\"fTsumw\":0,\"fTsumw2\":0,\"fTsumwx\":0,\"fTsumwx2\":0,\"fMaximum\":2940.49837292095,\"fMinimum\":-360.923417203488,\"fNormFactor\":0,\"fContour\":[],\"fSumw2\":[0,0,0,0,0,0,0,0,0,0,0,0,0,0],\"fOption\":\"\",\"fFunctions\":{\"_typename\":\"TList\",\"name\":\"TList\",\"arr\":[],\"opt\":[]},\"fBufferSize\":0,\"fBuffer\":[],\"fBinStatErrOpt\":0,\"fStatOverflows\":2,\"fArray\":[0,0,0,0,0,0,0,0,0,0,0,0,0,0]},\"fMaximum\":-1111,\"fMinimum\":-1111},{\"_typename\":\"TLegend\",\"fUniqueID\":0,\"fBits\":50331656,\"fLineColor\":0,\"fLineStyle\":1,\"fLineWidth\":1,\"fFillColor\":0,\"fFillStyle\":0,\"fX1\":0.40687499913387,\"fY1\":2197.67848367158,\"fX2\":0.988125007795171,\"fY2\":2940.49839751846,\"fX1NDC\":0.45,\"fY1NDC\":0.72,\"fX2NDC\":0.95,\"fY2NDC\":0.9,\"fBorderSize\":0,\"fInit\":1,\"fShadowColor\":1,\"fCornerRadius\":0,\"fOption\":\"brNDC\",\"fName\":\"TPave\",\"fTextAngle\":0,\"fTextSize\":9,\"fTextAlign\":12,\"fTextColor\":1,\"fTextFont\":42,\"fPrimitives\":{\"_typename\":\"TList\",\"name\":\"TList\",\"arr\":[{\"_typename\":\"TLegendEntry\",\"fUniqueID\":0,\"fBits\":50331656,\"fTextAngle\":0,\"fTextSize\":0,\"fTextAlign\":0,\"fTextColor\":0,\"fTextFont\":42,\"fLineColor\":1,\"fLineStyle\":1,\"fLineWidth\":1,\"fFillColor\":0,\"fFillStyle\":0,\"fMarkerColor\":1,\"fMarkerStyle\":22,\"fMarkerSize\":1,\"fObject\":{\"$ref\":152},\"fLabel\":\"Data (2016)\",\"fOption\":\"p\"},{\"_typename\":\"TLegendEntry\",\"fUniqueID\":0,\"fBits\":50331656,\"fTextAngle\":0,\"fTextSize\":0,\"fTextAlign\":0,\"fTextColor\":0,\"fTextFont\":42,\"fLineColor\":1,\"fLineStyle\":1,\"fLineWidth\":1,\"fFillColor\":0,\"fFillStyle\":0,\"fMarkerColor\":7,\"fMarkerStyle\":2,\"fMarkerSize\":1,\"fObject\":{\"$ref\":147},\"fLabel\":\"MC self-closure (ttbar Powheg)\",\"fOption\":\"p\"}],\"opt\":[\"p\",\"p\"]},\"fEntrySeparation\":0.1,\"fMargin\":0.25,\"fNColumns\":1,\"fColumnSeparation\":0},{\"_typename\":\"TPaveText\",\"fUniqueID\":0,\"fBits\":50331657,\"fLineColor\":1,\"fLineStyle\":1,\"fLineWidth\":1,\"fFillColor\":0,\"fFillStyle\":0,\"fX1\":0.2781065939214,\"fY1\":3002.02615994993,\"fX2\":0.6518934060786,\"fY2\":3332.54226061565,\"fX1NDC\":0.339231481037703,\"fY1NDC\":0.914909397326614,\"fX2NDC\":0.660768518962297,\"fY2NDC\":0.995000004768372,\"fBorderSize\":0,\"fInit\":1,\"fShadowColor\":1,\"fCornerRadius\":0,\"fOption\":\"blNDC\",\"fName\":\"title\",\"fTextAngle\":0,\"fTextSize\":0,\"fTextAlign\":22,\"fTextColor\":1,\"fTextFont\":42,\"fLabel\":\"\",\"fLongest\":26,\"fMargin\":0.05,\"fLines\":{\"_typename\":\"TList\",\"name\":\"TList\",\"arr\":[{\"_typename\":\"TLatex\",\"fUniqueID\":0,\"fBits\":50331648,\"fName\":\"\",\"fTitle\":\"#tau_{2,1}^{WTA} binning 6\",\"fTextAngle\":0,\"fTextSize\":0,\"fTextAlign\":0,\"fTextColor\":0,\"fTextFont\":0,\"fX\":0,\"fY\":0,\"fLineColor\":1,\"fLineStyle\":1,\"fLineWidth\":2,\"fLimitFactorSize\":3,\"fOriginSize\":0.0576084032654762}],\"opt\":[\"\"]}}],\"opt\":[\"\",\"nostack\",\"\",\"blNDC\"]},\"fExecs\":{\"_typename\":\"TList\",\"name\":\"TList\",\"arr\":[],\"opt\":[]},\"fName\":\"c5_6\",\"fTitle\":\"c5_6\",\"fNumPaletteColor\":0,\"fNextPaletteColor\":0},{\"_typename\":\"TPad\",\"fUniqueID\":0,\"fBits\":50331657,\"fLineColor\":1,\"fLineStyle\":1,\"fLineWidth\":1,\"fFillColor\":0,\"fFillStyle\":1001,\"fLeftMargin\":0.1,\"fRightMargin\":0.1,\"fBottomMargin\":0.1,\"fTopMargin\":0.1,\"fXfile\":2,\"fYfile\":2,\"fAfile\":1,\"fXstat\":0.99,\"fYstat\":0.99,\"fAstat\":2,\"fFrameFillColor\":0,\"fFrameLineColor\":1,\"fFrameFillStyle\":1001,\"fFrameLineStyle\":1,\"fFrameLineWidth\":1,\"fFrameBorderSize\":1,\"fFrameBorderMode\":0,\"fX1\":-0.1162500086613,\"fY1\":-765.983984312948,\"fX2\":1.0462500086613,\"fY2\":5092.63852269608,\"fXtoAbsPixelk\":49.4347186864695,\"fXtoPixelk\":37.4747189537963,\"fXtoPixel\":322.362719670675,\"fYtoAbsPixelk\":998.383102526479,\"fYtoPixelk\":286.529769428286,\"fYtoPixel\":-0.0562635101924718,\"fUtoAbsPixelk\":11.9600497326732,\"fUtoPixelk\":5e-5,\"fUtoPixel\":374.74666720132,\"fVtoAbsPixelk\":1041.48005023514,\"fVtoPixelk\":329.626667136947,\"fVtoPixel\":-329.626667136947,\"fAbsPixeltoXk\":-0.153351072161731,\"fPixeltoXk\":-0.1162500086613,\"fPixeltoX\":0.00310209567974113,\"fAbsPixeltoYk\":17744.7700847514,\"fPixeltoYk\":-765.983984312948,\"fPixeltoY\":-17.7735089150872,\"fXlowNDC\":0.00999999977648258,\"fYlowNDC\":0.00999999977648264,\"fXUpNDC\":0,\"fYUpNDC\":0,\"fWNDC\":0.313333333780368,\"fHNDC\":0.313333333780368,\"fAbsXlowNDC\":0.00999999977648258,\"fAbsYlowNDC\":0.00999999977648264,\"fAbsWNDC\":0.313333333780368,\"fAbsHNDC\":0.313333333780368,\"fUxmin\":0,\"fUymin\":-180.121698691933,\"fUxmax\":0.93,\"fUymax\":4506.77623707506,\"fTheta\":30,\"fPhi\":30,\"fAspectRatio\":0,\"fNumber\":7,\"fTickx\":0,\"fTicky\":0,\"fLogx\":0,\"fLogy\":0,\"fLogz\":0,\"fPadPaint\":0,\"fCrosshair\":0,\"fCrosshairPos\":0,\"fBorderSize\":2,\"fBorderMode\":0,\"fModified\":false,\"fGridx\":false,\"fGridy\":false,\"fAbsCoord\":false,\"fEditable\":true,\"fFixedAspectRatio\":false,\"fPrimitives\":{\"_typename\":\"TList\",\"name\":\"TList\",\"arr\":[{\"_typename\":\"TFrame\",\"fUniqueID\":0,\"fBits\":50331656,\"fLineColor\":1,\"fLineStyle\":1,\"fLineWidth\":1,\"fFillColor\":0,\"fFillStyle\":1001,\"fX1\":0,\"fY1\":-180.121698691933,\"fX2\":0.93,\"fY2\":4506.77623707506,\"fBorderSize\":1,\"fBorderMode\":0},{\"_typename\":\"THStack\",\"fUniqueID\":0,\"fBits\":50331656,\"fName\":\"#tau_{2,1}^{WTA}\",\"fTitle\":\"#tau_{2,1}^{WTA} binning 7\",\"fHists\":{\"_typename\":\"TList\",\"name\":\"TList\",\"arr\":[{\"_typename\":\"TH1D\",\"fUniqueID\":0,\"fBits\":50332168,\"fName\":\"closure_unfolded_MC\",\"fTitle\":\"closure_unfolded_MC\",\"fLineColor\":7,\"fLineStyle\":1,\"fLineWidth\":1,\"fFillColor\":0,\"fFillStyle\":1001,\"fMarkerColor\":7,\"fMarkerStyle\":2,\"fMarkerSize\":1,\"fNcells\":9,\"fXaxis\":{\"_typename\":\"TAxis\",\"fUniqueID\":0,\"fBits\":50331648,\"fName\":\"xaxis\",\"fTitle\":\"#tau_{2,1}^{1}(gen_sig)\",\"fNdivisions\":510,\"fAxisColor\":1,\"fLabelColor\":1,\"fLabelFont\":42,\"fLabelOffset\":0.005,\"fLabelSize\":0.035,\"fTickLength\":0.03,\"fTitleOffset\":1,\"fTitleSize\":0.035,\"fTitleColor\":1,\"fTitleFont\":42,\"fNbins\":7,\"fXmin\":0,\"fXmax\":0.93,\"fXbins\":[0,0.12,0.25,0.38,0.51,0.64,0.77,0.93],\"fFirst\":0,\"fLast\":0,\"fBits2\":0,\"fTimeDisplay\":false,\"fTimeFormat\":\"\",\"fLabels\":null,\"fModLabs\":null},\"fYaxis\":{\"_typename\":\"TAxis\",\"fUniqueID\":0,\"fBits\":50331648,\"fName\":\"yaxis\",\"fTitle\":\"\",\"fNdivisions\":510,\"fAxisColor\":1,\"fLabelColor\":1,\"fLabelFont\":42,\"fLabelOffset\":0.005,\"fLabelSize\":0.035,\"fTickLength\":0.03,\"fTitleOffset\":0,\"fTitleSize\":0.035,\"fTitleColor\":1,\"fTitleFont\":42,\"fNbins\":1,\"fXmin\":0,\"fXmax\":1,\"fXbins\":[],\"fFirst\":0,\"fLast\":0,\"fBits2\":0,\"fTimeDisplay\":false,\"fTimeFormat\":\"\",\"fLabels\":null,\"fModLabs\":null},\"fZaxis\":{\"_typename\":\"TAxis\",\"fUniqueID\":0,\"fBits\":50331648,\"fName\":\"zaxis\",\"fTitle\":\"\",\"fNdivisions\":510,\"fAxisColor\":1,\"fLabelColor\":1,\"fLabelFont\":42,\"fLabelOffset\":0.005,\"fLabelSize\":0.035,\"fTickLength\":0.03,\"fTitleOffset\":1,\"fTitleSize\":0.035,\"fTitleColor\":1,\"fTitleFont\":42,\"fNbins\":1,\"fXmin\":0,\"fXmax\":1,\"fXbins\":[],\"fFirst\":0,\"fLast\":0,\"fBits2\":0,\"fTimeDisplay\":false,\"fTimeFormat\":\"\",\"fLabels\":null,\"fModLabs\":null},\"fBarOffset\":0,\"fBarWidth\":1000,\"fEntries\":16,\"fTsumw\":0,\"fTsumw2\":0,\"fTsumwx\":0,\"fTsumwx2\":0,\"fMaximum\":-1111,\"fMinimum\":-1111,\"fNormFactor\":0,\"fContour\":[],\"fSumw2\":[0,411.265540435732,2853.19235486059,4259.22603576202,3947.52235716477,2852.80766857068,1546.73445243641,539.349106518681,0],\"fOption\":\"\",\"fFunctions\":{\"_typename\":\"TList\",\"name\":\"TList\",\"arr\":[],\"opt\":[]},\"fBufferSize\":0,\"fBuffer\":[],\"fBinStatErrOpt\":0,\"fStatOverflows\":2,\"fArray\":[0,217.548451796815,3490.41269723951,4292.16784483339,3096.40032193684,1927.68235278512,782.216276562693,94.7096841563712,0]},{\"_typename\":\"TH1D\",\"fUniqueID\":0,\"fBits\":50332168,\"fName\":\"unfolded_data\",\"fTitle\":\"unfolded_data\",\"fLineColor\":1,\"fLineStyle\":1,\"fLineWidth\":2,\"fFillColor\":0,\"fFillStyle\":1001,\"fMarkerColor\":1,\"fMarkerStyle\":22,\"fMarkerSize\":1,\"fNcells\":9,\"fXaxis\":{\"_typename\":\"TAxis\",\"fUniqueID\":0,\"fBits\":50331648,\"fName\":\"xaxis\",\"fTitle\":\"#tau_{2,1}^{1}(gen_sig)\",\"fNdivisions\":510,\"fAxisColor\":1,\"fLabelColor\":1,\"fLabelFont\":42,\"fLabelOffset\":0.005,\"fLabelSize\":0.035,\"fTickLength\":0.03,\"fTitleOffset\":1,\"fTitleSize\":0.035,\"fTitleColor\":1,\"fTitleFont\":42,\"fNbins\":7,\"fXmin\":0,\"fXmax\":0.93,\"fXbins\":[0,0.12,0.25,0.38,0.51,0.64,0.77,0.93],\"fFirst\":0,\"fLast\":0,\"fBits2\":0,\"fTimeDisplay\":false,\"fTimeFormat\":\"\",\"fLabels\":null,\"fModLabs\":null},\"fYaxis\":{\"_typename\":\"TAxis\",\"fUniqueID\":0,\"fBits\":50331648,\"fName\":\"yaxis\",\"fTitle\":\"\",\"fNdivisions\":510,\"fAxisColor\":1,\"fLabelColor\":1,\"fLabelFont\":42,\"fLabelOffset\":0.005,\"fLabelSize\":0.035,\"fTickLength\":0.03,\"fTitleOffset\":0,\"fTitleSize\":0.035,\"fTitleColor\":1,\"fTitleFont\":42,\"fNbins\":1,\"fXmin\":0,\"fXmax\":1,\"fXbins\":[],\"fFirst\":0,\"fLast\":0,\"fBits2\":0,\"fTimeDisplay\":false,\"fTimeFormat\":\"\",\"fLabels\":null,\"fModLabs\":null},\"fZaxis\":{\"_typename\":\"TAxis\",\"fUniqueID\":0,\"fBits\":50331648,\"fName\":\"zaxis\",\"fTitle\":\"\",\"fNdivisions\":510,\"fAxisColor\":1,\"fLabelColor\":1,\"fLabelFont\":42,\"fLabelOffset\":0.005,\"fLabelSize\":0.035,\"fTickLength\":0.03,\"fTitleOffset\":1,\"fTitleSize\":0.035,\"fTitleColor\":1,\"fTitleFont\":42,\"fNbins\":1,\"fXmin\":0,\"fXmax\":1,\"fXbins\":[],\"fFirst\":0,\"fLast\":0,\"fBits2\":0,\"fTimeDisplay\":false,\"fTimeFormat\":\"\",\"fLabels\":null,\"fModLabs\":null},\"fBarOffset\":0,\"fBarWidth\":1000,\"fEntries\":16,\"fTsumw\":0,\"fTsumw2\":0,\"fTsumwx\":0,\"fTsumwx2\":0,\"fMaximum\":-1111,\"fMinimum\":-1111,\"fNormFactor\":0,\"fContour\":[],\"fSumw2\":[0,1619.2265335296,12549.6497842845,35589.4566610349,42459.3353148677,45061.659847103,30675.5268191994,11769.1957760145,0],\"fOption\":\"\",\"fFunctions\":{\"_typename\":\"TList\",\"name\":\"TList\",\"arr\":[],\"opt\":[]},\"fBufferSize\":0,\"fBuffer\":[],\"fBinStatErrOpt\":0,\"fStatOverflows\":2,\"fArray\":[0,172.905765688786,3595.26210454019,4111.51184936758,3492.14092592325,2228.22208725793,965.40948823318,-180.121698691933,0]}],\"opt\":[\"E\",\"E \"]},\"fHistogram\":{\"_typename\":\"TH1F\",\"fUniqueID\":0,\"fBits\":50332160,\"fName\":\"#tau_{2,1}^{WTA}\",\"fTitle\":\"#tau_{2,1}^{WTA} binning 7\",\"fLineColor\":602,\"fLineStyle\":1,\"fLineWidth\":1,\"fFillColor\":0,\"fFillStyle\":1001,\"fMarkerColor\":1,\"fMarkerStyle\":1,\"fMarkerSize\":1,\"fNcells\":9,\"fXaxis\":{\"_typename\":\"TAxis\",\"fUniqueID\":0,\"fBits\":50331648,\"fName\":\"xaxis\",\"fTitle\":\"\",\"fNdivisions\":510,\"fAxisColor\":1,\"fLabelColor\":1,\"fLabelFont\":42,\"fLabelOffset\":0.005,\"fLabelSize\":0.035,\"fTickLength\":0.03,\"fTitleOffset\":1,\"fTitleSize\":0.035,\"fTitleColor\":1,\"fTitleFont\":42,\"fNbins\":7,\"fXmin\":0,\"fXmax\":0.93,\"fXbins\":[0,0.12,0.25,0.38,0.51,0.64,0.77,0.93],\"fFirst\":0,\"fLast\":0,\"fBits2\":0,\"fTimeDisplay\":false,\"fTimeFormat\":\"\",\"fLabels\":null,\"fModLabs\":null},\"fYaxis\":{\"_typename\":\"TAxis\",\"fUniqueID\":0,\"fBits\":50331648,\"fName\":\"yaxis\",\"fTitle\":\"\",\"fNdivisions\":510,\"fAxisColor\":1,\"fLabelColor\":1,\"fLabelFont\":42,\"fLabelOffset\":0.005,\"fLabelSize\":0.035,\"fTickLength\":0.03,\"fTitleOffset\":0,\"fTitleSize\":0.035,\"fTitleColor\":1,\"fTitleFont\":42,\"fNbins\":1,\"fXmin\":0,\"fXmax\":1,\"fXbins\":[],\"fFirst\":0,\"fLast\":0,\"fBits2\":0,\"fTimeDisplay\":false,\"fTimeFormat\":\"\",\"fLabels\":null,\"fModLabs\":null},\"fZaxis\":{\"_typename\":\"TAxis\",\"fUniqueID\":0,\"fBits\":50331648,\"fName\":\"zaxis\",\"fTitle\":\"\",\"fNdivisions\":510,\"fAxisColor\":1,\"fLabelColor\":1,\"fLabelFont\":42,\"fLabelOffset\":0.005,\"fLabelSize\":0.035,\"fTickLength\":0.03,\"fTitleOffset\":1,\"fTitleSize\":0.035,\"fTitleColor\":1,\"fTitleFont\":42,\"fNbins\":1,\"fXmin\":0,\"fXmax\":1,\"fXbins\":[],\"fFirst\":0,\"fLast\":0,\"fBits2\":0,\"fTimeDisplay\":false,\"fTimeFormat\":\"\",\"fLabels\":null,\"fModLabs\":null},\"fBarOffset\":0,\"fBarWidth\":1000,\"fEntries\":0,\"fTsumw\":0,\"fTsumw2\":0,\"fTsumwx\":0,\"fTsumwx2\":0,\"fMaximum\":4506.77623707506,\"fMinimum\":-180.121698691933,\"fNormFactor\":0,\"fContour\":[],\"fSumw2\":[0,0,0,0,0,0,0,0,0],\"fOption\":\"\",\"fFunctions\":{\"_typename\":\"TList\",\"name\":\"TList\",\"arr\":[],\"opt\":[]},\"fBufferSize\":0,\"fBuffer\":[],\"fBinStatErrOpt\":0,\"fStatOverflows\":2,\"fArray\":[0,0,0,0,0,0,0,0,0]},\"fMaximum\":-1111,\"fMinimum\":-1111},{\"_typename\":\"TLegend\",\"fUniqueID\":0,\"fBits\":50331656,\"fLineColor\":0,\"fLineStyle\":1,\"fLineWidth\":1,\"fFillColor\":0,\"fFillStyle\":0,\"fX1\":0.40687499913387,\"fY1\":3452.22422073355,\"fX2\":0.988125007795171,\"fY2\":4506.77627199518,\"fX1NDC\":0.45,\"fY1NDC\":0.72,\"fX2NDC\":0.95,\"fY2NDC\":0.9,\"fBorderSize\":0,\"fInit\":1,\"fShadowColor\":1,\"fCornerRadius\":0,\"fOption\":\"brNDC\",\"fName\":\"TPave\",\"fTextAngle\":0,\"fTextSize\":9,\"fTextAlign\":12,\"fTextColor\":1,\"fTextFont\":42,\"fPrimitives\":{\"_typename\":\"TList\",\"name\":\"TList\",\"arr\":[{\"_typename\":\"TLegendEntry\",\"fUniqueID\":0,\"fBits\":50331656,\"fTextAngle\":0,\"fTextSize\":0,\"fTextAlign\":0,\"fTextColor\":0,\"fTextFont\":42,\"fLineColor\":1,\"fLineStyle\":1,\"fLineWidth\":1,\"fFillColor\":0,\"fFillStyle\":0,\"fMarkerColor\":1,\"fMarkerStyle\":22,\"fMarkerSize\":1,\"fObject\":{\"$ref\":180},\"fLabel\":\"Data (2016)\",\"fOption\":\"p\"},{\"_typename\":\"TLegendEntry\",\"fUniqueID\":0,\"fBits\":50331656,\"fTextAngle\":0,\"fTextSize\":0,\"fTextAlign\":0,\"fTextColor\":0,\"fTextFont\":42,\"fLineColor\":1,\"fLineStyle\":1,\"fLineWidth\":1,\"fFillColor\":0,\"fFillStyle\":0,\"fMarkerColor\":7,\"fMarkerStyle\":2,\"fMarkerSize\":1,\"fObject\":{\"$ref\":175},\"fLabel\":\"MC self-closure (ttbar Powheg)\",\"fOption\":\"p\"}],\"opt\":[\"p\",\"p\"]},\"fEntrySeparation\":0.1,\"fMargin\":0.25,\"fNColumns\":1,\"fColumnSeparation\":0},{\"_typename\":\"TPaveText\",\"fUniqueID\":0,\"fBits\":50331657,\"fLineColor\":1,\"fLineStyle\":1,\"fLineWidth\":1,\"fFillColor\":0,\"fFillStyle\":0,\"fX1\":0.2781065939214,\"fY1\":4594.12480273882,\"fX2\":0.6518934060786,\"fY2\":5063.34543809712,\"fX1NDC\":0.339231481037703,\"fY1NDC\":0.914909397326614,\"fX2NDC\":0.660768518962297,\"fY2NDC\":0.995000004768372,\"fBorderSize\":0,\"fInit\":1,\"fShadowColor\":1,\"fCornerRadius\":0,\"fOption\":\"blNDC\",\"fName\":\"title\",\"fTextAngle\":0,\"fTextSize\":0,\"fTextAlign\":22,\"fTextColor\":1,\"fTextFont\":42,\"fLabel\":\"\",\"fLongest\":26,\"fMargin\":0.05,\"fLines\":{\"_typename\":\"TList\",\"name\":\"TList\",\"arr\":[{\"_typename\":\"TLatex\",\"fUniqueID\":0,\"fBits\":50331648,\"fName\":\"\",\"fTitle\":\"#tau_{2,1}^{WTA} binning 7\",\"fTextAngle\":0,\"fTextSize\":0,\"fTextAlign\":0,\"fTextColor\":0,\"fTextFont\":0,\"fX\":0,\"fY\":0,\"fLineColor\":1,\"fLineStyle\":1,\"fLineWidth\":2,\"fLimitFactorSize\":3,\"fOriginSize\":0.0576084032654762}],\"opt\":[\"\"]}}],\"opt\":[\"\",\"nostack\",\"\",\"blNDC\"]},\"fExecs\":{\"_typename\":\"TList\",\"name\":\"TList\",\"arr\":[],\"opt\":[]},\"fName\":\"c5_7\",\"fTitle\":\"c5_7\",\"fNumPaletteColor\":0,\"fNextPaletteColor\":0},{\"_typename\":\"TPad\",\"fUniqueID\":0,\"fBits\":50331657,\"fLineColor\":1,\"fLineStyle\":1,\"fLineWidth\":1,\"fFillColor\":0,\"fFillStyle\":1001,\"fLeftMargin\":0.1,\"fRightMargin\":0.1,\"fBottomMargin\":0.1,\"fTopMargin\":0.1,\"fXfile\":2,\"fYfile\":2,\"fAfile\":1,\"fXstat\":0.99,\"fYstat\":0.99,\"fAstat\":2,\"fFrameFillColor\":0,\"fFrameLineColor\":1,\"fFrameFillStyle\":1001,\"fFrameLineStyle\":1,\"fFrameLineWidth\":1,\"fFrameBorderSize\":1,\"fFrameBorderMode\":0,\"fX1\":-0.1162500086613,\"fY1\":-474.019486902566,\"fX2\":1.0462500086613,\"fY2\":3780.16108985375,\"fXtoAbsPixelk\":448.101385353136,\"fXtoPixelk\":37.4747189537963,\"fXtoPixel\":322.362719670675,\"fYtoAbsPixelk\":1004.75159905482,\"fYtoPixelk\":292.898265956628,\"fYtoPixel\":-0.0774829984740041,\"fUtoAbsPixelk\":410.62671639934,\"fUtoPixelk\":5e-5,\"fUtoPixel\":374.74666720132,\"fVtoAbsPixelk\":1041.48005023514,\"fVtoPixelk\":329.626667136947,\"fVtoPixel\":-329.626667136947,\"fAbsPixeltoXk\":-1.39005321648519,\"fPixeltoXk\":-0.1162500086613,\"fPixeltoX\":0.00310209567974113,\"fAbsPixeltoYk\":12967.380829898,\"fPixeltoYk\":-474.019486902566,\"fPixeltoY\":-12.9060570666416,\"fXlowNDC\":0.343333333109816,\"fYlowNDC\":0.00999999977648264,\"fXUpNDC\":0,\"fYUpNDC\":0,\"fWNDC\":0.313333333780368,\"fHNDC\":0.313333333780368,\"fAbsXlowNDC\":0.343333333109816,\"fAbsYlowNDC\":0.00999999977648264,\"fAbsWNDC\":0.313333333780368,\"fAbsHNDC\":0.313333333780368,\"fUxmin\":0,\"fUymin\":-48.6014038700414,\"fUxmax\":0.93,\"fUymax\":3354.74300682122,\"fTheta\":30,\"fPhi\":30,\"fAspectRatio\":0,\"fNumber\":8,\"fTickx\":0,\"fTicky\":0,\"fLogx\":0,\"fLogy\":0,\"fLogz\":0,\"fPadPaint\":0,\"fCrosshair\":0,\"fCrosshairPos\":0,\"fBorderSize\":2,\"fBorderMode\":0,\"fModified\":false,\"fGridx\":false,\"fGridy\":false,\"fAbsCoord\":false,\"fEditable\":true,\"fFixedAspectRatio\":false,\"fPrimitives\":{\"_typename\":\"TList\",\"name\":\"TList\",\"arr\":[{\"_typename\":\"TFrame\",\"fUniqueID\":0,\"fBits\":50331656,\"fLineColor\":1,\"fLineStyle\":1,\"fLineWidth\":1,\"fFillColor\":0,\"fFillStyle\":1001,\"fX1\":0,\"fY1\":-48.6014038700414,\"fX2\":0.93,\"fY2\":3354.74300682122,\"fBorderSize\":1,\"fBorderMode\":0},{\"_typename\":\"THStack\",\"fUniqueID\":0,\"fBits\":50331656,\"fName\":\"#tau_{2,1}^{WTA}\",\"fTitle\":\"#tau_{2,1}^{WTA} binning 8\",\"fHists\":{\"_typename\":\"TList\",\"name\":\"TList\",\"arr\":[{\"_typename\":\"TH1D\",\"fUniqueID\":0,\"fBits\":50332168,\"fName\":\"closure_unfolded_MC\",\"fTitle\":\"closure_unfolded_MC\",\"fLineColor\":7,\"fLineStyle\":1,\"fLineWidth\":1,\"fFillColor\":0,\"fFillStyle\":1001,\"fMarkerColor\":7,\"fMarkerStyle\":2,\"fMarkerSize\":1,\"fNcells\":12,\"fXaxis\":{\"_typename\":\"TAxis\",\"fUniqueID\":0,\"fBits\":50331648,\"fName\":\"xaxis\",\"fTitle\":\"#tau_{2,1}^{1}(gen_sig)\",\"fNdivisions\":510,\"fAxisColor\":1,\"fLabelColor\":1,\"fLabelFont\":42,\"fLabelOffset\":0.005,\"fLabelSize\":0.035,\"fTickLength\":0.03,\"fTitleOffset\":1,\"fTitleSize\":0.035,\"fTitleColor\":1,\"fTitleFont\":42,\"fNbins\":10,\"fXmin\":0,\"fXmax\":0.93,\"fXbins\":[0,0.12,0.20125,0.2825,0.36375,0.445,0.52625,0.6075,0.68875,0.77,0.93],\"fFirst\":0,\"fLast\":0,\"fBits2\":0,\"fTimeDisplay\":false,\"fTimeFormat\":\"\",\"fLabels\":null,\"fModLabs\":null},\"fYaxis\":{\"_typename\":\"TAxis\",\"fUniqueID\":0,\"fBits\":50331648,\"fName\":\"yaxis\",\"fTitle\":\"\",\"fNdivisions\":510,\"fAxisColor\":1,\"fLabelColor\":1,\"fLabelFont\":42,\"fLabelOffset\":0.005,\"fLabelSize\":0.035,\"fTickLength\":0.03,\"fTitleOffset\":0,\"fTitleSize\":0.035,\"fTitleColor\":1,\"fTitleFont\":42,\"fNbins\":1,\"fXmin\":0,\"fXmax\":1,\"fXbins\":[],\"fFirst\":0,\"fLast\":0,\"fBits2\":0,\"fTimeDisplay\":false,\"fTimeFormat\":\"\",\"fLabels\":null,\"fModLabs\":null},\"fZaxis\":{\"_typename\":\"TAxis\",\"fUniqueID\":0,\"fBits\":50331648,\"fName\":\"zaxis\",\"fTitle\":\"\",\"fNdivisions\":510,\"fAxisColor\":1,\"fLabelColor\":1,\"fLabelFont\":42,\"fLabelOffset\":0.005,\"fLabelSize\":0.035,\"fTickLength\":0.03,\"fTitleOffset\":1,\"fTitleSize\":0.035,\"fTitleColor\":1,\"fTitleFont\":42,\"fNbins\":1,\"fXmin\":0,\"fXmax\":1,\"fXbins\":[],\"fFirst\":0,\"fLast\":0,\"fBits2\":0,\"fTimeDisplay\":false,\"fTimeFormat\":\"\",\"fLabels\":null,\"fModLabs\":null},\"fBarOffset\":0,\"fBarWidth\":1000,\"fEntries\":22,\"fTsumw\":0,\"fTsumw2\":0,\"fTsumwx\":0,\"fTsumwx2\":0,\"fMaximum\":-1111,\"fMinimum\":-1111,\"fNormFactor\":0,\"fContour\":[],\"fSumw2\":[0,457.904414370603,2930.25855795392,6082.42680930229,8395.50252422591,9529.7050136812,9059.24527440209,6784.20179576269,3812.69586712922,2094.4093392408,744.468803373679,0],\"fOption\":\"\",\"fFunctions\":{\"_typename\":\"TList\",\"name\":\"TList\",\"arr\":[],\"opt\":[]},\"fBufferSize\":0,\"fBuffer\":[],\"fBinStatErrOpt\":0,\"fStatOverflows\":2,\"fArray\":[0,217.548451796817,1872.46468335647,2778.79874875577,2662.4572434962,2187.15842762244,1695.80681852614,1241.58805932224,789.273175833193,361.332336445109,94.7096841563703,0]},{\"_typename\":\"TH1D\",\"fUniqueID\":0,\"fBits\":50332168,\"fName\":\"unfolded_data\",\"fTitle\":\"unfolded_data\",\"fLineColor\":1,\"fLineStyle\":1,\"fLineWidth\":2,\"fFillColor\":0,\"fFillStyle\":1001,\"fMarkerColor\":1,\"fMarkerStyle\":22,\"fMarkerSize\":1,\"fNcells\":12,\"fXaxis\":{\"_typename\":\"TAxis\",\"fUniqueID\":0,\"fBits\":50331648,\"fName\":\"xaxis\",\"fTitle\":\"#tau_{2,1}^{1}(gen_sig)\",\"fNdivisions\":510,\"fAxisColor\":1,\"fLabelColor\":1,\"fLabelFont\":42,\"fLabelOffset\":0.005,\"fLabelSize\":0.035,\"fTickLength\":0.03,\"fTitleOffset\":1,\"fTitleSize\":0.035,\"fTitleColor\":1,\"fTitleFont\":42,\"fNbins\":10,\"fXmin\":0,\"fXmax\":0.93,\"fXbins\":[0,0.12,0.20125,0.2825,0.36375,0.445,0.52625,0.6075,0.68875,0.77,0.93],\"fFirst\":0,\"fLast\":0,\"fBits2\":0,\"fTimeDisplay\":false,\"fTimeFormat\":\"\",\"fLabels\":null,\"fModLabs\":null},\"fYaxis\":{\"_typename\":\"TAxis\",\"fUniqueID\":0,\"fBits\":50331648,\"fName\":\"yaxis\",\"fTitle\":\"\",\"fNdivisions\":510,\"fAxisColor\":1,\"fLabelColor\":1,\"fLabelFont\":42,\"fLabelOffset\":0.005,\"fLabelSize\":0.035,\"fTickLength\":0.03,\"fTitleOffset\":0,\"fTitleSize\":0.035,\"fTitleColor\":1,\"fTitleFont\":42,\"fNbins\":1,\"fXmin\":0,\"fXmax\":1,\"fXbins\":[],\"fFirst\":0,\"fLast\":0,\"fBits2\":0,\"fTimeDisplay\":false,\"fTimeFormat\":\"\",\"fLabels\":null,\"fModLabs\":null},\"fZaxis\":{\"_typename\":\"TAxis\",\"fUniqueID\":0,\"fBits\":50331648,\"fName\":\"zaxis\",\"fTitle\":\"\",\"fNdivisions\":510,\"fAxisColor\":1,\"fLabelColor\":1,\"fLabelFont\":42,\"fLabelOffset\":0.005,\"fLabelSize\":0.035,\"fTickLength\":0.03,\"fTitleOffset\":1,\"fTitleSize\":0.035,\"fTitleColor\":1,\"fTitleFont\":42,\"fNbins\":1,\"fXmin\":0,\"fXmax\":1,\"fXbins\":[],\"fFirst\":0,\"fLast\":0,\"fBits2\":0,\"fTimeDisplay\":false,\"fTimeFormat\":\"\",\"fLabels\":null,\"fModLabs\":null},\"fBarOffset\":0,\"fBarWidth\":1000,\"fEntries\":22,\"fTsumw\":0,\"fTsumw2\":0,\"fTsumwx\":0,\"fTsumwx2\":0,\"fMaximum\":-1111,\"fMinimum\":-1111,\"fNormFactor\":0,\"fContour\":[],\"fSumw2\":[0,1804.8222425148,12059.292506215,34703.6408711256,60913.783528166,93969.6454285658,109649.803208494,102222.808254839,70884.7407515588,46345.4576411558,16436.8536462235,0],\"fOption\":\"\",\"fFunctions\":{\"_typename\":\"TList\",\"name\":\"TList\",\"arr\":[],\"opt\":[]},\"fBufferSize\":0,\"fBuffer\":[],\"fBinStatErrOpt\":0,\"fStatOverflows\":2,\"fArray\":[0,227.434436172295,1742.80186359744,3194.99333982973,2048.39473623213,2813.34352509861,1548.39183518966,1492.57911054395,1221.7569838626,155.333856490264,-48.6014038700414,0]}],\"opt\":[\"E\",\"E \"]},\"fHistogram\":{\"_typename\":\"TH1F\",\"fUniqueID\":0,\"fBits\":50332160,\"fName\":\"#tau_{2,1}^{WTA}\",\"fTitle\":\"#tau_{2,1}^{WTA} binning 8\",\"fLineColor\":602,\"fLineStyle\":1,\"fLineWidth\":1,\"fFillColor\":0,\"fFillStyle\":1001,\"fMarkerColor\":1,\"fMarkerStyle\":1,\"fMarkerSize\":1,\"fNcells\":12,\"fXaxis\":{\"_typename\":\"TAxis\",\"fUniqueID\":0,\"fBits\":50331648,\"fName\":\"xaxis\",\"fTitle\":\"\",\"fNdivisions\":510,\"fAxisColor\":1,\"fLabelColor\":1,\"fLabelFont\":42,\"fLabelOffset\":0.005,\"fLabelSize\":0.035,\"fTickLength\":0.03,\"fTitleOffset\":1,\"fTitleSize\":0.035,\"fTitleColor\":1,\"fTitleFont\":42,\"fNbins\":10,\"fXmin\":0,\"fXmax\":0.93,\"fXbins\":[0,0.12,0.20125,0.2825,0.36375,0.445,0.52625,0.6075,0.68875,0.77,0.93],\"fFirst\":0,\"fLast\":0,\"fBits2\":0,\"fTimeDisplay\":false,\"fTimeFormat\":\"\",\"fLabels\":null,\"fModLabs\":null},\"fYaxis\":{\"_typename\":\"TAxis\",\"fUniqueID\":0,\"fBits\":50331648,\"fName\":\"yaxis\",\"fTitle\":\"\",\"fNdivisions\":510,\"fAxisColor\":1,\"fLabelColor\":1,\"fLabelFont\":42,\"fLabelOffset\":0.005,\"fLabelSize\":0.035,\"fTickLength\":0.03,\"fTitleOffset\":0,\"fTitleSize\":0.035,\"fTitleColor\":1,\"fTitleFont\":42,\"fNbins\":1,\"fXmin\":0,\"fXmax\":1,\"fXbins\":[],\"fFirst\":0,\"fLast\":0,\"fBits2\":0,\"fTimeDisplay\":false,\"fTimeFormat\":\"\",\"fLabels\":null,\"fModLabs\":null},\"fZaxis\":{\"_typename\":\"TAxis\",\"fUniqueID\":0,\"fBits\":50331648,\"fName\":\"zaxis\",\"fTitle\":\"\",\"fNdivisions\":510,\"fAxisColor\":1,\"fLabelColor\":1,\"fLabelFont\":42,\"fLabelOffset\":0.005,\"fLabelSize\":0.035,\"fTickLength\":0.03,\"fTitleOffset\":1,\"fTitleSize\":0.035,\"fTitleColor\":1,\"fTitleFont\":42,\"fNbins\":1,\"fXmin\":0,\"fXmax\":1,\"fXbins\":[],\"fFirst\":0,\"fLast\":0,\"fBits2\":0,\"fTimeDisplay\":false,\"fTimeFormat\":\"\",\"fLabels\":null,\"fModLabs\":null},\"fBarOffset\":0,\"fBarWidth\":1000,\"fEntries\":0,\"fTsumw\":0,\"fTsumw2\":0,\"fTsumwx\":0,\"fTsumwx2\":0,\"fMaximum\":3354.74300682122,\"fMinimum\":-48.6014038700414,\"fNormFactor\":0,\"fContour\":[],\"fSumw2\":[0,0,0,0,0,0,0,0,0,0,0,0],\"fOption\":\"\",\"fFunctions\":{\"_typename\":\"TList\",\"name\":\"TList\",\"arr\":[],\"opt\":[]},\"fBufferSize\":0,\"fBuffer\":[],\"fBinStatErrOpt\":0,\"fStatOverflows\":2,\"fArray\":[0,0,0,0,0,0,0,0,0,0,0,0]},\"fMaximum\":-1111,\"fMinimum\":-1111},{\"_typename\":\"TLegend\",\"fUniqueID\":0,\"fBits\":50331656,\"fLineColor\":0,\"fLineStyle\":1,\"fLineWidth\":1,\"fFillColor\":0,\"fFillStyle\":0,\"fX1\":0.40687499913387,\"fY1\":2588.99052836198,\"fX2\":0.988125007795171,\"fY2\":3354.74303217811,\"fX1NDC\":0.45,\"fY1NDC\":0.72,\"fX2NDC\":0.95,\"fY2NDC\":0.9,\"fBorderSize\":0,\"fInit\":1,\"fShadowColor\":1,\"fCornerRadius\":0,\"fOption\":\"brNDC\",\"fName\":\"TPave\",\"fTextAngle\":0,\"fTextSize\":9,\"fTextAlign\":12,\"fTextColor\":1,\"fTextFont\":42,\"fPrimitives\":{\"_typename\":\"TList\",\"name\":\"TList\",\"arr\":[{\"_typename\":\"TLegendEntry\",\"fUniqueID\":0,\"fBits\":50331656,\"fTextAngle\":0,\"fTextSize\":0,\"fTextAlign\":0,\"fTextColor\":0,\"fTextFont\":42,\"fLineColor\":1,\"fLineStyle\":1,\"fLineWidth\":1,\"fFillColor\":0,\"fFillStyle\":0,\"fMarkerColor\":1,\"fMarkerStyle\":22,\"fMarkerSize\":1,\"fObject\":{\"$ref\":208},\"fLabel\":\"Data (2016)\",\"fOption\":\"p\"},{\"_typename\":\"TLegendEntry\",\"fUniqueID\":0,\"fBits\":50331656,\"fTextAngle\":0,\"fTextSize\":0,\"fTextAlign\":0,\"fTextColor\":0,\"fTextFont\":42,\"fLineColor\":1,\"fLineStyle\":1,\"fLineWidth\":1,\"fFillColor\":0,\"fFillStyle\":0,\"fMarkerColor\":7,\"fMarkerStyle\":2,\"fMarkerSize\":1,\"fObject\":{\"$ref\":203},\"fLabel\":\"MC self-closure (ttbar Powheg)\",\"fOption\":\"p\"}],\"opt\":[\"p\",\"p\"]},\"fEntrySeparation\":0.1,\"fMargin\":0.25,\"fNColumns\":1,\"fColumnSeparation\":0},{\"_typename\":\"TPaveText\",\"fUniqueID\":0,\"fBits\":50331657,\"fLineColor\":1,\"fLineStyle\":1,\"fLineWidth\":1,\"fFillColor\":0,\"fFillStyle\":0,\"fX1\":0.2781065939214,\"fY1\":3418.17030069614,\"fX2\":0.6518934060786,\"fY2\":3758.89020725548,\"fX1NDC\":0.339231481037703,\"fY1NDC\":0.914909397326615,\"fX2NDC\":0.660768518962297,\"fY2NDC\":0.995000004768372,\"fBorderSize\":0,\"fInit\":1,\"fShadowColor\":1,\"fCornerRadius\":0,\"fOption\":\"blNDC\",\"fName\":\"title\",\"fTextAngle\":0,\"fTextSize\":0,\"fTextAlign\":22,\"fTextColor\":1,\"fTextFont\":42,\"fLabel\":\"\",\"fLongest\":26,\"fMargin\":0.05,\"fLines\":{\"_typename\":\"TList\",\"name\":\"TList\",\"arr\":[{\"_typename\":\"TLatex\",\"fUniqueID\":0,\"fBits\":50331648,\"fName\":\"\",\"fTitle\":\"#tau_{2,1}^{WTA} binning 8\",\"fTextAngle\":0,\"fTextSize\":0,\"fTextAlign\":0,\"fTextColor\":0,\"fTextFont\":0,\"fX\":0,\"fY\":0,\"fLineColor\":1,\"fLineStyle\":1,\"fLineWidth\":2,\"fLimitFactorSize\":3,\"fOriginSize\":0.0576084032654762}],\"opt\":[\"\"]}}],\"opt\":[\"\",\"nostack\",\"\",\"blNDC\"]},\"fExecs\":{\"_typename\":\"TList\",\"name\":\"TList\",\"arr\":[],\"opt\":[]},\"fName\":\"c5_8\",\"fTitle\":\"c5_8\",\"fNumPaletteColor\":0,\"fNextPaletteColor\":0},{\"_typename\":\"TPad\",\"fUniqueID\":0,\"fBits\":50331657,\"fLineColor\":1,\"fLineStyle\":1,\"fLineWidth\":1,\"fFillColor\":0,\"fFillStyle\":1001,\"fLeftMargin\":0.1,\"fRightMargin\":0.1,\"fBottomMargin\":0.1,\"fTopMargin\":0.1,\"fXfile\":2,\"fYfile\":2,\"fAfile\":1,\"fXstat\":0.99,\"fYstat\":0.99,\"fAstat\":2,\"fFrameFillColor\":0,\"fFrameLineColor\":1,\"fFrameFillStyle\":1001,\"fFrameLineStyle\":1,\"fFrameLineWidth\":1,\"fFrameBorderSize\":1,\"fFrameBorderMode\":0,\"fX1\":-0.1162500086613,\"fY1\":-640.42220806406,\"fX2\":1.0462500086613,\"fY2\":3087.46960133019,\"fXtoAbsPixelk\":846.768052019803,\"fXtoPixelk\":37.4747189537963,\"fXtoPixel\":322.362719670675,\"fYtoAbsPixelk\":984.852806527941,\"fYtoPixelk\":272.999473429748,\"fYtoPixel\":-0.0884217364641033,\"fUtoAbsPixelk\":809.293383066006,\"fUtoPixelk\":5e-5,\"fUtoPixel\":374.74666720132,\"fVtoAbsPixelk\":1041.48005023514,\"fVtoPixelk\":329.626667136947,\"fVtoPixel\":-329.626667136947,\"fAbsPixeltoXk\":-2.62675536080865,\"fPixeltoXk\":-0.1162500086613,\"fPixeltoX\":0.00310209567974112,\"fAbsPixeltoYk\":11138.1295585364,\"fPixeltoYk\":-640.42220806406,\"fPixeltoY\":-11.3094363443764,\"fXlowNDC\":0.676666666443149,\"fYlowNDC\":0.00999999977648264,\"fXUpNDC\":0,\"fYUpNDC\":0,\"fWNDC\":0.313333333780368,\"fHNDC\":0.313333333780368,\"fAbsXlowNDC\":0.676666666443149,\"fAbsYlowNDC\":0.00999999977648264,\"fAbsWNDC\":0.313333333780368,\"fAbsHNDC\":0.313333333780368,\"fUxmin\":0,\"fUymin\":-267.633004904667,\"fUxmax\":0.93,\"fUymax\":2714.68039817079,\"fTheta\":30,\"fPhi\":30,\"fAspectRatio\":0,\"fNumber\":9,\"fTickx\":0,\"fTicky\":0,\"fLogx\":0,\"fLogy\":0,\"fLogz\":0,\"fPadPaint\":0,\"fCrosshair\":0,\"fCrosshairPos\":0,\"fBorderSize\":2,\"fBorderMode\":0,\"fModified\":false,\"fGridx\":false,\"fGridy\":false,\"fAbsCoord\":false,\"fEditable\":true,\"fFixedAspectRatio\":false,\"fPrimitives\":{\"_typename\":\"TList\",\"name\":\"TList\",\"arr\":[{\"_typename\":\"TFrame\",\"fUniqueID\":0,\"fBits\":50331656,\"fLineColor\":1,\"fLineStyle\":1,\"fLineWidth\":1,\"fFillColor\":0,\"fFillStyle\":1001,\"fX1\":0,\"fY1\":-267.633004904667,\"fX2\":0.93,\"fY2\":2714.68039817079,\"fBorderSize\":1,\"fBorderMode\":0},{\"_typename\":\"THStack\",\"fUniqueID\":0,\"fBits\":50331656,\"fName\":\"#tau_{2,1}^{WTA}\",\"fTitle\":\"#tau_{2,1}^{WTA} binning 9\",\"fHists\":{\"_typename\":\"TList\",\"name\":\"TList\",\"arr\":[{\"_typename\":\"TH1D\",\"fUniqueID\":0,\"fBits\":50332168,\"fName\":\"closure_unfolded_MC\",\"fTitle\":\"closure_unfolded_MC\",\"fLineColor\":7,\"fLineStyle\":1,\"fLineWidth\":1,\"fFillColor\":0,\"fFillStyle\":1001,\"fMarkerColor\":7,\"fMarkerStyle\":2,\"fMarkerSize\":1,\"fNcells\":14,\"fXaxis\":{\"_typename\":\"TAxis\",\"fUniqueID\":0,\"fBits\":50331648,\"fName\":\"xaxis\",\"fTitle\":\"#tau_{2,1}^{1}(gen_sig)\",\"fNdivisions\":510,\"fAxisColor\":1,\"fLabelColor\":1,\"fLabelFont\":42,\"fLabelOffset\":0.005,\"fLabelSize\":0.035,\"fTickLength\":0.03,\"fTitleOffset\":1,\"fTitleSize\":0.035,\"fTitleColor\":1,\"fTitleFont\":42,\"fNbins\":12,\"fXmin\":0,\"fXmax\":0.93,\"fXbins\":[0,0.12,0.185,0.25,0.315,0.38,0.445,0.51,0.575,0.64,0.705,0.77,0.93],\"fFirst\":0,\"fLast\":0,\"fBits2\":0,\"fTimeDisplay\":false,\"fTimeFormat\":\"\",\"fLabels\":null,\"fModLabs\":null},\"fYaxis\":{\"_typename\":\"TAxis\",\"fUniqueID\":0,\"fBits\":50331648,\"fName\":\"yaxis\",\"fTitle\":\"\",\"fNdivisions\":510,\"fAxisColor\":1,\"fLabelColor\":1,\"fLabelFont\":42,\"fLabelOffset\":0.005,\"fLabelSize\":0.035,\"fTickLength\":0.03,\"fTitleOffset\":0,\"fTitleSize\":0.035,\"fTitleColor\":1,\"fTitleFont\":42,\"fNbins\":1,\"fXmin\":0,\"fXmax\":1,\"fXbins\":[],\"fFirst\":0,\"fLast\":0,\"fBits2\":0,\"fTimeDisplay\":false,\"fTimeFormat\":\"\",\"fLabels\":null,\"fModLabs\":null},\"fZaxis\":{\"_typename\":\"TAxis\",\"fUniqueID\":0,\"fBits\":50331648,\"fName\":\"zaxis\",\"fTitle\":\"\",\"fNdivisions\":510,\"fAxisColor\":1,\"fLabelColor\":1,\"fLabelFont\":42,\"fLabelOffset\":0.005,\"fLabelSize\":0.035,\"fTickLength\":0.03,\"fTitleOffset\":1,\"fTitleSize\":0.035,\"fTitleColor\":1,\"fTitleFont\":42,\"fNbins\":1,\"fXmin\":0,\"fXmax\":1,\"fXbins\":[],\"fFirst\":0,\"fLast\":0,\"fBits2\":0,\"fTimeDisplay\":false,\"fTimeFormat\":\"\",\"fLabels\":null,\"fModLabs\":null},\"fBarOffset\":0,\"fBarWidth\":1000,\"fEntries\":26,\"fTsumw\":0,\"fTsumw2\":0,\"fTsumwx\":0,\"fTsumwx2\":0,\"fMaximum\":-1111,\"fMinimum\":-1111,\"fNormFactor\":0,\"fContour\":[],\"fSumw2\":[0,535.662821903849,3481.61103921253,8281.19993141693,13297.4960271865,16721.4298555439,17551.6763837784,17033.6379658936,14856.5328396044,11936.4615454758,7723.93401953316,3411.51668093514,994.007358175506,0],\"fOption\":\"\",\"fFunctions\":{\"_typename\":\"TList\",\"name\":\"TList\",\"arr\":[],\"opt\":[]},\"fBufferSize\":0,\"fBuffer\":[],\"fBinStatErrOpt\":0,\"fStatOverflows\":2,\"fArray\":[0,217.548451796816,1372.63256707194,2117.78013016757,2275.90600643008,2016.26183840329,1718.29856115797,1378.10176077889,1125.67157938423,802.010773400883,531.687689783141,250.528586779554,94.7096841563712,0]},{\"_typename\":\"TH1D\",\"fUniqueID\":0,\"fBits\":50332168,\"fName\":\"unfolded_data\",\"fTitle\":\"unfolded_data\",\"fLineColor\":1,\"fLineStyle\":1,\"fLineWidth\":2,\"fFillColor\":0,\"fFillStyle\":1001,\"fMarkerColor\":1,\"fMarkerStyle\":22,\"fMarkerSize\":1,\"fNcells\":14,\"fXaxis\":{\"_typename\":\"TAxis\",\"fUniqueID\":0,\"fBits\":50331648,\"fName\":\"xaxis\",\"fTitle\":\"#tau_{2,1}^{1}(gen_sig)\",\"fNdivisions\":510,\"fAxisColor\":1,\"fLabelColor\":1,\"fLabelFont\":42,\"fLabelOffset\":0.005,\"fLabelSize\":0.035,\"fTickLength\":0.03,\"fTitleOffset\":1,\"fTitleSize\":0.035,\"fTitleColor\":1,\"fTitleFont\":42,\"fNbins\":12,\"fXmin\":0,\"fXmax\":0.93,\"fXbins\":[0,0.12,0.185,0.25,0.315,0.38,0.445,0.51,0.575,0.64,0.705,0.77,0.93],\"fFirst\":0,\"fLast\":0,\"fBits2\":0,\"fTimeDisplay\":false,\"fTimeFormat\":\"\",\"fLabels\":null,\"fModLabs\":null},\"fYaxis\":{\"_typename\":\"TAxis\",\"fUniqueID\":0,\"fBits\":50331648,\"fName\":\"yaxis\",\"fTitle\":\"\",\"fNdivisions\":510,\"fAxisColor\":1,\"fLabelColor\":1,\"fLabelFont\":42,\"fLabelOffset\":0.005,\"fLabelSize\":0.035,\"fTickLength\":0.03,\"fTitleOffset\":0,\"fTitleSize\":0.035,\"fTitleColor\":1,\"fTitleFont\":42,\"fNbins\":1,\"fXmin\":0,\"fXmax\":1,\"fXbins\":[],\"fFirst\":0,\"fLast\":0,\"fBits2\":0,\"fTimeDisplay\":false,\"fTimeFormat\":\"\",\"fLabels\":null,\"fModLabs\":null},\"fZaxis\":{\"_typename\":\"TAxis\",\"fUniqueID\":0,\"fBits\":50331648,\"fName\":\"zaxis\",\"fTitle\":\"\",\"fNdivisions\":510,\"fAxisColor\":1,\"fLabelColor\":1,\"fLabelFont\":42,\"fLabelOffset\":0.005,\"fLabelSize\":0.035,\"fTickLength\":0.03,\"fTitleOffset\":1,\"fTitleSize\":0.035,\"fTitleColor\":1,\"fTitleFont\":42,\"fNbins\":1,\"fXmin\":0,\"fXmax\":1,\"fXbins\":[],\"fFirst\":0,\"fLast\":0,\"fBits2\":0,\"fTimeDisplay\":false,\"fTimeFormat\":\"\",\"fLabels\":null,\"fModLabs\":null},\"fBarOffset\":0,\"fBarWidth\":1000,\"fEntries\":26,\"fTsumw\":0,\"fTsumw2\":0,\"fTsumwx\":0,\"fTsumwx2\":0,\"fMaximum\":-1111,\"fMinimum\":-1111,\"fNormFactor\":0,\"fContour\":[],\"fSumw2\":[0,2107.47431732968,13791.1328141196,39575.0150941437,91547.8904415309,149032.877801046,169036.130810116,183691.179543476,208310.193972166,211494.559331061,161291.32876355,92165.9894604169,25340.7002550481,0],\"fOption\":\"\",\"fFunctions\":{\"_typename\":\"TList\",\"name\":\"TList\",\"arr\":[],\"opt\":[]},\"fBufferSize\":0,\"fBuffer\":[],\"fBinStatErrOpt\":0,\"fStatOverflows\":2,\"fArray\":[0,235.966429373631,1180.07097400844,2585.4099030198,1868.81385115117,1843.40454940087,2273.61642411892,1253.28009684694,1317.01240406066,890.332027605526,1094.45524587517,-267.633004904667,89.3969862075091,0]}],\"opt\":[\"E\",\"E \"]},\"fHistogram\":{\"_typename\":\"TH1F\",\"fUniqueID\":0,\"fBits\":50332160,\"fName\":\"#tau_{2,1}^{WTA}\",\"fTitle\":\"#tau_{2,1}^{WTA} binning 9\",\"fLineColor\":602,\"fLineStyle\":1,\"fLineWidth\":1,\"fFillColor\":0,\"fFillStyle\":1001,\"fMarkerColor\":1,\"fMarkerStyle\":1,\"fMarkerSize\":1,\"fNcells\":14,\"fXaxis\":{\"_typename\":\"TAxis\",\"fUniqueID\":0,\"fBits\":50331648,\"fName\":\"xaxis\",\"fTitle\":\"\",\"fNdivisions\":510,\"fAxisColor\":1,\"fLabelColor\":1,\"fLabelFont\":42,\"fLabelOffset\":0.005,\"fLabelSize\":0.035,\"fTickLength\":0.03,\"fTitleOffset\":1,\"fTitleSize\":0.035,\"fTitleColor\":1,\"fTitleFont\":42,\"fNbins\":12,\"fXmin\":0,\"fXmax\":0.93,\"fXbins\":[0,0.12,0.185,0.25,0.315,0.38,0.445,0.51,0.575,0.64,0.705,0.77,0.93],\"fFirst\":0,\"fLast\":0,\"fBits2\":0,\"fTimeDisplay\":false,\"fTimeFormat\":\"\",\"fLabels\":null,\"fModLabs\":null},\"fYaxis\":{\"_typename\":\"TAxis\",\"fUniqueID\":0,\"fBits\":50331648,\"fName\":\"yaxis\",\"fTitle\":\"\",\"fNdivisions\":510,\"fAxisColor\":1,\"fLabelColor\":1,\"fLabelFont\":42,\"fLabelOffset\":0.005,\"fLabelSize\":0.035,\"fTickLength\":0.03,\"fTitleOffset\":0,\"fTitleSize\":0.035,\"fTitleColor\":1,\"fTitleFont\":42,\"fNbins\":1,\"fXmin\":0,\"fXmax\":1,\"fXbins\":[],\"fFirst\":0,\"fLast\":0,\"fBits2\":0,\"fTimeDisplay\":false,\"fTimeFormat\":\"\",\"fLabels\":null,\"fModLabs\":null},\"fZaxis\":{\"_typename\":\"TAxis\",\"fUniqueID\":0,\"fBits\":50331648,\"fName\":\"zaxis\",\"fTitle\":\"\",\"fNdivisions\":510,\"fAxisColor\":1,\"fLabelColor\":1,\"fLabelFont\":42,\"fLabelOffset\":0.005,\"fLabelSize\":0.035,\"fTickLength\":0.03,\"fTitleOffset\":1,\"fTitleSize\":0.035,\"fTitleColor\":1,\"fTitleFont\":42,\"fNbins\":1,\"fXmin\":0,\"fXmax\":1,\"fXbins\":[],\"fFirst\":0,\"fLast\":0,\"fBits2\":0,\"fTimeDisplay\":false,\"fTimeFormat\":\"\",\"fLabels\":null,\"fModLabs\":null},\"fBarOffset\":0,\"fBarWidth\":1000,\"fEntries\":0,\"fTsumw\":0,\"fTsumw2\":0,\"fTsumwx\":0,\"fTsumwx2\":0,\"fMaximum\":2714.68039817079,\"fMinimum\":-267.633004904667,\"fNormFactor\":0,\"fContour\":[],\"fSumw2\":[0,0,0,0,0,0,0,0,0,0,0,0,0,0],\"fOption\":\"\",\"fFunctions\":{\"_typename\":\"TList\",\"name\":\"TList\",\"arr\":[],\"opt\":[]},\"fBufferSize\":0,\"fBuffer\":[],\"fBinStatErrOpt\":0,\"fStatOverflows\":2,\"fArray\":[0,0,0,0,0,0,0,0,0,0,0,0,0,0]},\"fMaximum\":-1111,\"fMinimum\":-1111},{\"_typename\":\"TLegend\",\"fUniqueID\":0,\"fBits\":50331656,\"fLineColor\":0,\"fLineStyle\":1,\"fLineWidth\":1,\"fFillColor\":0,\"fFillStyle\":0,\"fX1\":0.40687499913387,\"fY1\":2043.6598946998,\"fX2\":0.988125007795171,\"fY2\":2714.68042039076,\"fX1NDC\":0.45,\"fY1NDC\":0.72,\"fX2NDC\":0.95,\"fY2NDC\":0.9,\"fBorderSize\":0,\"fInit\":1,\"fShadowColor\":1,\"fCornerRadius\":0,\"fOption\":\"brNDC\",\"fName\":\"TPave\",\"fTextAngle\":0,\"fTextSize\":9,\"fTextAlign\":12,\"fTextColor\":1,\"fTextFont\":42,\"fPrimitives\":{\"_typename\":\"TList\",\"name\":\"TList\",\"arr\":[{\"_typename\":\"TLegendEntry\",\"fUniqueID\":0,\"fBits\":50331656,\"fTextAngle\":0,\"fTextSize\":0,\"fTextAlign\":0,\"fTextColor\":0,\"fTextFont\":42,\"fLineColor\":1,\"fLineStyle\":1,\"fLineWidth\":1,\"fFillColor\":0,\"fFillStyle\":0,\"fMarkerColor\":1,\"fMarkerStyle\":22,\"fMarkerSize\":1,\"fObject\":{\"$ref\":236},\"fLabel\":\"Data (2016)\",\"fOption\":\"p\"},{\"_typename\":\"TLegendEntry\",\"fUniqueID\":0,\"fBits\":50331656,\"fTextAngle\":0,\"fTextSize\":0,\"fTextAlign\":0,\"fTextColor\":0,\"fTextFont\":42,\"fLineColor\":1,\"fLineStyle\":1,\"fLineWidth\":1,\"fFillColor\":0,\"fFillStyle\":0,\"fMarkerColor\":7,\"fMarkerStyle\":2,\"fMarkerSize\":1,\"fObject\":{\"$ref\":231},\"fLabel\":\"MC self-closure (ttbar Powheg)\",\"fOption\":\"p\"}],\"opt\":[\"p\",\"p\"]},\"fEntrySeparation\":0.1,\"fMargin\":0.25,\"fNColumns\":1,\"fColumnSeparation\":0},{\"_typename\":\"TPaveText\",\"fUniqueID\":0,\"fBits\":50331657,\"fLineColor\":1,\"fLineStyle\":1,\"fLineWidth\":1,\"fFillColor\":0,\"fFillStyle\":0,\"fX1\":0.2781065939214,\"fY1\":2770.26104056765,\"fX2\":0.6518934060786,\"fY2\":3068.83016005919,\"fX1NDC\":0.339231481037703,\"fY1NDC\":0.914909397326614,\"fX2NDC\":0.660768518962297,\"fY2NDC\":0.995000004768372,\"fBorderSize\":0,\"fInit\":1,\"fShadowColor\":1,\"fCornerRadius\":0,\"fOption\":\"blNDC\",\"fName\":\"title\",\"fTextAngle\":0,\"fTextSize\":0,\"fTextAlign\":22,\"fTextColor\":1,\"fTextFont\":42,\"fLabel\":\"\",\"fLongest\":26,\"fMargin\":0.05,\"fLines\":{\"_typename\":\"TList\",\"name\":\"TList\",\"arr\":[{\"_typename\":\"TLatex\",\"fUniqueID\":0,\"fBits\":50331648,\"fName\":\"\",\"fTitle\":\"#tau_{2,1}^{WTA} binning 9\",\"fTextAngle\":0,\"fTextSize\":0,\"fTextAlign\":0,\"fTextColor\":0,\"fTextFont\":0,\"fX\":0,\"fY\":0,\"fLineColor\":1,\"fLineStyle\":1,\"fLineWidth\":2,\"fLimitFactorSize\":3,\"fOriginSize\":0.0576084032654762}],\"opt\":[\"\"]}}],\"opt\":[\"\",\"nostack\",\"\",\"blNDC\"]},\"fExecs\":{\"_typename\":\"TList\",\"name\":\"TList\",\"arr\":[],\"opt\":[]},\"fName\":\"c5_9\",\"fTitle\":\"c5_9\",\"fNumPaletteColor\":0,\"fNextPaletteColor\":0}],\"opt\":[\"\",\"\",\"\",\"\",\"\",\"\",\"\",\"\",\"\"]},\"fExecs\":null,\"fName\":\"c5\",\"fTitle\":\"c5\",\"fNumPaletteColor\":0,\"fNextPaletteColor\":0,\"fDISPLAY\":\"$DISPLAY\",\"fDoubleBuffer\":0,\"fRetained\":true,\"fXsizeUser\":0,\"fYsizeUser\":0,\"fXsizeReal\":20,\"fYsizeReal\":18,\"fWindowTopX\":0,\"fWindowTopY\":0,\"fWindowWidth\":0,\"fWindowHeight\":0,\"fCw\":1196,\"fCh\":1052,\"fCatt\":{\"_typename\":\"TAttCanvas\",\"fXBetween\":2,\"fYBetween\":2,\"fTitleFromTop\":1.2,\"fXdate\":0.2,\"fYdate\":0.3,\"fAdate\":1},\"kMoveOpaque\":true,\"kResizeOpaque\":true,\"fHighLightColor\":2,\"fBatch\":true,\"kShowEventStatus\":false,\"kAutoExec\":true,\"kMenuBar\":true});\n",
       "       Core.draw(\"root_plot_10\", obj, \"\");\n",
       "     }\n",
       " );\n",
       "</script>\n"
      ],
      "text/plain": [
       "<IPython.core.display.HTML object>"
      ]
     },
     "metadata": {},
     "output_type": "display_data"
    }
   ],
   "source": [
    "import time\n",
    "#hs = []\n",
    "c5 = ROOT.TCanvas('c5', 'c5', 1200, 1080)\n",
    "c5.Divide(3,3)\n",
    "for i in xrange(len(h_unfoldings)):\n",
    "    c5.cd(i+1)\n",
    "    h_unfoldings[i].Draw(\"nostack\")\n",
    "    legus[i].Draw()\n",
    "    #time.sleep(1)\n",
    "\n",
    "c5.Draw()\n",
    "#time.sleep(2)\n",
    "c5.SaveAs(\"Tau21_unfoldings_WTAkT_Wsel_powheg.png\")\n",
    "#time.sleep(5)\n",
    "#c5.SaveAs(\"Tau21_unfoldings_WTAkT_Wsel_powheg.pdf\")"
   ]
  },
  {
   "cell_type": "code",
   "execution_count": 154,
   "metadata": {
    "scrolled": true
   },
   "outputs": [
    {
     "name": "stderr",
     "output_type": "stream",
     "text": [
      "Warning in <TCanvas::Constructor>: Deleting canvas with same name: c6\n",
      "Info in <TCanvas::Print>: png file Tau21_responses_WTAkT_Wsel_powheg.png has been created\n"
     ]
    },
    {
     "data": {
      "text/html": [
       "\n",
       "<div id=\"root_plot_11\"\n",
       "     style=\"width: 1196px; height: 1052px\">\n",
       "</div>\n",
       "\n",
       "<script>\n",
       " requirejs.config({\n",
       "     paths: {\n",
       "       'JSRootCore' : 'https://root.cern.ch/js/notebook//scripts/JSRootCore',\n",
       "     }\n",
       "   });\n",
       " require(['JSRootCore'],\n",
       "     function(Core) {\n",
       "       var obj = Core.JSONR_unref({\"_typename\":\"TCanvas\",\"fUniqueID\":0,\"fBits\":53673992,\"fLineColor\":1,\"fLineStyle\":1,\"fLineWidth\":1,\"fFillColor\":0,\"fFillStyle\":1001,\"fLeftMargin\":0.1,\"fRightMargin\":0.1,\"fBottomMargin\":0.1,\"fTopMargin\":0.1,\"fXfile\":2,\"fYfile\":2,\"fAfile\":1,\"fXstat\":0.99,\"fYstat\":0.99,\"fAstat\":2,\"fFrameFillColor\":0,\"fFrameLineColor\":1,\"fFrameFillStyle\":1001,\"fFrameLineStyle\":1,\"fFrameLineWidth\":1,\"fFrameBorderSize\":1,\"fFrameBorderMode\":0,\"fX1\":0,\"fY1\":0,\"fX2\":1,\"fY2\":1,\"fXtoAbsPixelk\":5e-5,\"fXtoPixelk\":5e-5,\"fXtoPixel\":1196,\"fYtoAbsPixelk\":1052.00005,\"fYtoPixelk\":1052.00005,\"fYtoPixel\":-1052,\"fUtoAbsPixelk\":5e-5,\"fUtoPixelk\":5e-5,\"fUtoPixel\":1196,\"fVtoAbsPixelk\":1052.00005,\"fVtoPixelk\":1052,\"fVtoPixel\":-1052,\"fAbsPixeltoXk\":0,\"fPixeltoXk\":0,\"fPixeltoX\":8.36120401337793e-4,\"fAbsPixeltoYk\":1,\"fPixeltoYk\":0,\"fPixeltoY\":-9.50570342205323e-4,\"fXlowNDC\":0,\"fYlowNDC\":0,\"fXUpNDC\":0,\"fYUpNDC\":0,\"fWNDC\":1,\"fHNDC\":1,\"fAbsXlowNDC\":0,\"fAbsYlowNDC\":0,\"fAbsWNDC\":1,\"fAbsHNDC\":1,\"fUxmin\":0,\"fUymin\":0,\"fUxmax\":1,\"fUymax\":1,\"fTheta\":30,\"fPhi\":30,\"fAspectRatio\":0,\"fNumber\":0,\"fTickx\":0,\"fTicky\":0,\"fLogx\":0,\"fLogy\":0,\"fLogz\":0,\"fPadPaint\":0,\"fCrosshair\":0,\"fCrosshairPos\":0,\"fBorderSize\":2,\"fBorderMode\":0,\"fModified\":false,\"fGridx\":false,\"fGridy\":false,\"fAbsCoord\":false,\"fEditable\":true,\"fFixedAspectRatio\":false,\"fPrimitives\":{\"_typename\":\"TList\",\"name\":\"TList\",\"arr\":[{\"_typename\":\"TPad\",\"fUniqueID\":0,\"fBits\":50331657,\"fLineColor\":1,\"fLineStyle\":1,\"fLineWidth\":1,\"fFillColor\":0,\"fFillStyle\":1001,\"fLeftMargin\":0.1,\"fRightMargin\":0.1,\"fBottomMargin\":0.1,\"fTopMargin\":0.1,\"fXfile\":2,\"fYfile\":2,\"fAfile\":1,\"fXstat\":0.99,\"fYstat\":0.99,\"fAstat\":2,\"fFrameFillColor\":0,\"fFrameLineColor\":1,\"fFrameFillStyle\":1001,\"fFrameLineStyle\":1,\"fFrameLineWidth\":1,\"fFrameBorderSize\":1,\"fFrameBorderMode\":0,\"fX1\":-0.125000009313226,\"fY1\":-0.125000009313226,\"fX2\":1.12500000931323,\"fY2\":1.12500000931323,\"fXtoAbsPixelk\":49.4347186864695,\"fXtoPixelk\":37.4747189537963,\"fXtoPixel\":299.797329293728,\"fYtoAbsPixelk\":307.184048223384,\"fYtoPixelk\":296.664048458524,\"fYtoPixel\":-263.701329780102,\"fUtoAbsPixelk\":11.9600497326732,\"fUtoPixelk\":5e-5,\"fUtoPixel\":374.74666720132,\"fVtoAbsPixelk\":340.146716901807,\"fVtoPixelk\":329.626667136947,\"fVtoPixel\":-329.626667136947,\"fAbsPixeltoXk\":-0.164893625980356,\"fPixeltoXk\":-0.125000009313226,\"fPixeltoX\":0.00333558675240981,\"fAbsPixeltoYk\":1.16489362598036,\"fPixeltoYk\":-0.125000009313226,\"fPixeltoY\":-0.00379216896946971,\"fXlowNDC\":0.00999999977648258,\"fYlowNDC\":0.676666666443149,\"fXUpNDC\":0,\"fYUpNDC\":0,\"fWNDC\":0.313333333780368,\"fHNDC\":0.313333333780368,\"fAbsXlowNDC\":0.00999999977648258,\"fAbsYlowNDC\":0.676666666443149,\"fAbsWNDC\":0.313333333780368,\"fAbsHNDC\":0.313333333780368,\"fUxmin\":0,\"fUymin\":0,\"fUxmax\":1,\"fUymax\":1,\"fTheta\":30,\"fPhi\":30,\"fAspectRatio\":0,\"fNumber\":1,\"fTickx\":0,\"fTicky\":0,\"fLogx\":0,\"fLogy\":0,\"fLogz\":0,\"fPadPaint\":0,\"fCrosshair\":0,\"fCrosshairPos\":0,\"fBorderSize\":2,\"fBorderMode\":0,\"fModified\":false,\"fGridx\":false,\"fGridy\":false,\"fAbsCoord\":false,\"fEditable\":true,\"fFixedAspectRatio\":false,\"fPrimitives\":{\"_typename\":\"TList\",\"name\":\"TList\",\"arr\":[{\"_typename\":\"TFrame\",\"fUniqueID\":0,\"fBits\":50331656,\"fLineColor\":1,\"fLineStyle\":1,\"fLineWidth\":1,\"fFillColor\":0,\"fFillStyle\":1001,\"fX1\":0,\"fY1\":0,\"fX2\":1,\"fY2\":1,\"fBorderSize\":1,\"fBorderMode\":0},{\"_typename\":\"TH2D\",\"fUniqueID\":0,\"fBits\":50332168,\"fName\":\"response\",\"fTitle\":\"Response Matrix #tau_{2,1}^{WTA} binning 1\",\"fLineColor\":602,\"fLineStyle\":1,\"fLineWidth\":1,\"fFillColor\":0,\"fFillStyle\":1001,\"fMarkerColor\":1,\"fMarkerStyle\":1,\"fMarkerSize\":1,\"fNcells\":112,\"fXaxis\":{\"_typename\":\"TAxis\",\"fUniqueID\":0,\"fBits\":50331648,\"fName\":\"xaxis\",\"fTitle\":\"#tau_{2,1}^{1}(det_sig)\",\"fNdivisions\":510,\"fAxisColor\":1,\"fLabelColor\":1,\"fLabelFont\":42,\"fLabelOffset\":0.005,\"fLabelSize\":0.035,\"fTickLength\":0.03,\"fTitleOffset\":1,\"fTitleSize\":0.035,\"fTitleColor\":1,\"fTitleFont\":42,\"fNbins\":12,\"fXmin\":0,\"fXmax\":1,\"fXbins\":[0,0.08,0.16,0.24,0.32,0.4,0.48,0.56,0.64,0.72,0.8,0.9,1],\"fFirst\":0,\"fLast\":0,\"fBits2\":0,\"fTimeDisplay\":false,\"fTimeFormat\":\"\",\"fLabels\":null,\"fModLabs\":null},\"fYaxis\":{\"_typename\":\"TAxis\",\"fUniqueID\":0,\"fBits\":50331648,\"fName\":\"yaxis\",\"fTitle\":\"#tau_{2,1}^{1}(gen_sig)\",\"fNdivisions\":510,\"fAxisColor\":1,\"fLabelColor\":1,\"fLabelFont\":42,\"fLabelOffset\":0.005,\"fLabelSize\":0.035,\"fTickLength\":0.03,\"fTitleOffset\":0,\"fTitleSize\":0.035,\"fTitleColor\":1,\"fTitleFont\":42,\"fNbins\":6,\"fXmin\":0,\"fXmax\":1,\"fXbins\":[0,0.16,0.32,0.48,0.64,0.8,1],\"fFirst\":0,\"fLast\":0,\"fBits2\":0,\"fTimeDisplay\":false,\"fTimeFormat\":\"\",\"fLabels\":null,\"fModLabs\":null},\"fZaxis\":{\"_typename\":\"TAxis\",\"fUniqueID\":0,\"fBits\":50331648,\"fName\":\"zaxis\",\"fTitle\":\"\",\"fNdivisions\":510,\"fAxisColor\":1,\"fLabelColor\":1,\"fLabelFont\":42,\"fLabelOffset\":0.005,\"fLabelSize\":0.035,\"fTickLength\":0.03,\"fTitleOffset\":1,\"fTitleSize\":0.035,\"fTitleColor\":1,\"fTitleFont\":42,\"fNbins\":1,\"fXmin\":0,\"fXmax\":1,\"fXbins\":[],\"fFirst\":0,\"fLast\":0,\"fBits2\":0,\"fTimeDisplay\":false,\"fTimeFormat\":\"\",\"fLabels\":null,\"fModLabs\":null},\"fBarOffset\":0,\"fBarWidth\":1000,\"fEntries\":43107,\"fTsumw\":13901.1376293109,\"fTsumw2\":4887.05421222413,\"fTsumwx\":5365.7921764556,\"fTsumwx2\":2386.71922025455,\"fMaximum\":-1111,\"fMinimum\":-1111,\"fNormFactor\":0,\"fContour\":[0,119.152824317318,238.305648634635,357.458472951953,476.61129726927,595.764121586588,714.916945903905,834.069770221223,953.22259453854,1072.37541885586,1191.52824317318,1310.68106749049,1429.83389180781,1548.98671612513,1668.13954044245,1787.29236475976,1906.44518907708,2025.5980133944,2144.75083771172,2263.90366202903],\"fSumw2\":[0,0,0,0,0,0,0,0,0,0,0,0,0,0,0,2.96991596448814,130.99782902352,167.452862464622,21.8059695672879,1.5933674897494,0.591107750406944,0,0.0776838278224796,0,0,0,0,0,0,0.128682114250529,35.8883761126005,534.919917426135,834.860714004826,358.17114225663,51.31127695612,7.92250597613318,2.06900637073153,0.236474618501603,0.31650652664424,0,0,0,0,0,0.836398075656492,9.86095290180986,116.012609688784,549.841792854217,577.900238175561,228.582966102078,40.4083675779581,6.50375647012089,0.840022377646069,0.113748393567943,0,0,0,0,0.734587661045001,3.28230853128959,5.93534895071936,21.2342462169039,104.953185571062,338.061732753501,313.161158995879,93.2755824869519,12.6757236214152,0.484875270434237,0,0,0,0,0.181914696241711,2.82614697445909,4.75751074098347,7.08260000162578,6.87190048695189,14.6022232107496,57.9123350302213,131.887590123782,64.9664895615117,6.33420150614781,0,0,0,0,0,1.19731482204717,1.72943746393108,1.49466469413007,0.616085240874383,0.608634988039605,1.01518665309595,1.21338828405793,3.59933089825123,2.14431571993548,0,0,0,0,0,0,0,0,0,0,0,0,0,0,0,0],\"fOption\":\"\",\"fFunctions\":{\"_typename\":\"TList\",\"name\":\"TList\",\"arr\":[{\"_typename\":\"TPaletteAxis\",\"fUniqueID\":0,\"fBits\":50331648,\"fLineColor\":1,\"fLineStyle\":1,\"fLineWidth\":1,\"fFillColor\":1178,\"fFillStyle\":1001,\"fX1\":1.00625000009313,\"fY1\":0,\"fX2\":1.06250000093132,\"fY2\":1,\"fX1NDC\":0.904999994039535,\"fY1NDC\":0.100000005960465,\"fX2NDC\":0.949999994039535,\"fY2NDC\":0.899999994039535,\"fBorderSize\":4,\"fInit\":1,\"fShadowColor\":1,\"fCornerRadius\":0,\"fOption\":\"br\",\"fName\":\"TPave\",\"fAxis\":{\"_typename\":\"TGaxis\",\"fUniqueID\":0,\"fBits\":50331648,\"fLineColor\":1,\"fLineStyle\":1,\"fLineWidth\":1,\"fX1\":0,\"fY1\":0,\"fX2\":0,\"fY2\":0,\"fTextAngle\":0,\"fTextSize\":0.04,\"fTextAlign\":11,\"fTextColor\":1,\"fTextFont\":42,\"fWmin\":0,\"fWmax\":0,\"fGridLength\":0,\"fTickSize\":0.03,\"fLabelOffset\":0.005,\"fLabelSize\":0.035,\"fTitleOffset\":1,\"fTitleSize\":0.035,\"fNdiv\":0,\"fLabelColor\":1,\"fLabelFont\":42,\"fNModLabs\":0,\"fChopt\":\"\",\"fName\":\"\",\"fTitle\":\"\",\"fTimeFormat\":\"\",\"fFunctionName\":\"\",\"fModLabs\":null},\"fName\":\"palette\"}],\"opt\":[\"br\"]},\"fBufferSize\":0,\"fBuffer\":[],\"fBinStatErrOpt\":0,\"fStatOverflows\":2,\"fScalefactor\":1,\"fTsumwy\":5115.46484738494,\"fTsumwy2\":2226.34975709807,\"fTsumwxy\":2272.04348811417,\"fArray\":[0,0,0,0,0,0,0,0,0,0,0,0,0,0,0,8.11377779174267,374.042236409971,476.981158730777,60.6538796707689,4.94165903735381,1.71066621356154,0,0.278718187103891,0,0,0,0,0,0,0.359108352322425,100.845263910978,1526.71588645001,2383.05648634635,1025.8452882715,148.319845439653,22.8176211677291,5.77441577404174,0.683048441009368,0.790953893456533,0,0,0,0,0,2.21560703465281,28.6260874755635,334.354503066268,1564.10677897141,1642.51368908746,646.724652144207,114.480422220064,17.9142356529251,2.19586456556852,0.337266057539063,0,0,0,0,1.90712432707016,9.32975958315546,17.118353614558,59.7352800421646,298.072527844549,955.607333855607,884.474390941726,264.555601842071,36.6649208958616,1.34725528092212,0,0,0,0,0.426514590889586,7.90445964929316,13.5836925220901,19.4379589728374,19.7493270109804,41.822111050052,163.630223649062,371.887959936994,182.075179145865,17.5475826135627,0,0,0,0,0,3.31755801119459,5.0743448350394,4.51948084870399,1.98528026238907,1.53949594595396,2.82538485762645,3.28120857851874,10.5866052857729,5.73159295224074,0,0,0,0,0,0,0,0,0,0,0,0,0,0,0,0]},{\"_typename\":\"TPaveText\",\"fUniqueID\":0,\"fBits\":50331657,\"fLineColor\":1,\"fLineStyle\":1,\"fLineWidth\":1,\"fFillColor\":0,\"fFillStyle\":0,\"fX1\":0.0624999934807416,\"fY1\":1.01863675438656,\"fX2\":0.937500006519258,\"fY2\":1.11875001518056,\"fX1NDC\":0.15,\"fY1NDC\":0.914909397326614,\"fX2NDC\":0.85,\"fY2NDC\":0.995000004768372,\"fBorderSize\":0,\"fInit\":1,\"fShadowColor\":1,\"fCornerRadius\":0,\"fOption\":\"blNDC\",\"fName\":\"title\",\"fTextAngle\":0,\"fTextSize\":0,\"fTextAlign\":22,\"fTextColor\":1,\"fTextFont\":42,\"fLabel\":\"\",\"fLongest\":42,\"fMargin\":0.05,\"fLines\":{\"_typename\":\"TList\",\"name\":\"TList\",\"arr\":[{\"_typename\":\"TLatex\",\"fUniqueID\":0,\"fBits\":50331648,\"fName\":\"\",\"fTitle\":\"Response Matrix #tau_{2,1}^{WTA} binning 1\",\"fTextAngle\":0,\"fTextSize\":0,\"fTextAlign\":0,\"fTextColor\":0,\"fTextFont\":0,\"fX\":0,\"fY\":0,\"fLineColor\":1,\"fLineStyle\":1,\"fLineWidth\":2,\"fLimitFactorSize\":3,\"fOriginSize\":0.0562653876841068}],\"opt\":[\"\"]}}],\"opt\":[\"\",\"colz\",\"blNDC\"]},\"fExecs\":{\"_typename\":\"TList\",\"name\":\"TList\",\"arr\":[],\"opt\":[]},\"fName\":\"c6_1\",\"fTitle\":\"c6_1\",\"fNumPaletteColor\":0,\"fNextPaletteColor\":0},{\"_typename\":\"TPad\",\"fUniqueID\":0,\"fBits\":50331657,\"fLineColor\":1,\"fLineStyle\":1,\"fLineWidth\":1,\"fFillColor\":0,\"fFillStyle\":1001,\"fLeftMargin\":0.1,\"fRightMargin\":0.1,\"fBottomMargin\":0.1,\"fTopMargin\":0.1,\"fXfile\":2,\"fYfile\":2,\"fAfile\":1,\"fXstat\":0.99,\"fYstat\":0.99,\"fAstat\":2,\"fFrameFillColor\":0,\"fFrameLineColor\":1,\"fFrameFillStyle\":1001,\"fFrameLineStyle\":1,\"fFrameLineWidth\":1,\"fFrameBorderSize\":1,\"fFrameBorderMode\":0,\"fX1\":-0.125000009313226,\"fY1\":-0.125000009313226,\"fX2\":1.12500000931323,\"fY2\":1.12500000931323,\"fXtoAbsPixelk\":448.101385353136,\"fXtoPixelk\":37.4747189537963,\"fXtoPixel\":299.797329293728,\"fYtoAbsPixelk\":307.184048223384,\"fYtoPixelk\":296.664048458524,\"fYtoPixel\":-263.701329780102,\"fUtoAbsPixelk\":410.62671639934,\"fUtoPixelk\":5e-5,\"fUtoPixel\":374.74666720132,\"fVtoAbsPixelk\":340.146716901807,\"fVtoPixelk\":329.626667136947,\"fVtoPixel\":-329.626667136947,\"fAbsPixeltoXk\":-1.49468087794107,\"fPixeltoXk\":-0.125000009313226,\"fPixeltoX\":0.00333558675240981,\"fAbsPixeltoYk\":1.16489362598036,\"fPixeltoYk\":-0.125000009313226,\"fPixeltoY\":-0.00379216896946971,\"fXlowNDC\":0.343333333109816,\"fYlowNDC\":0.676666666443149,\"fXUpNDC\":0,\"fYUpNDC\":0,\"fWNDC\":0.313333333780368,\"fHNDC\":0.313333333780368,\"fAbsXlowNDC\":0.343333333109816,\"fAbsYlowNDC\":0.676666666443149,\"fAbsWNDC\":0.313333333780368,\"fAbsHNDC\":0.313333333780368,\"fUxmin\":0,\"fUymin\":0,\"fUxmax\":1,\"fUymax\":1,\"fTheta\":30,\"fPhi\":30,\"fAspectRatio\":0,\"fNumber\":2,\"fTickx\":0,\"fTicky\":0,\"fLogx\":0,\"fLogy\":0,\"fLogz\":0,\"fPadPaint\":0,\"fCrosshair\":0,\"fCrosshairPos\":0,\"fBorderSize\":2,\"fBorderMode\":0,\"fModified\":false,\"fGridx\":false,\"fGridy\":false,\"fAbsCoord\":false,\"fEditable\":true,\"fFixedAspectRatio\":false,\"fPrimitives\":{\"_typename\":\"TList\",\"name\":\"TList\",\"arr\":[{\"_typename\":\"TFrame\",\"fUniqueID\":0,\"fBits\":50331656,\"fLineColor\":1,\"fLineStyle\":1,\"fLineWidth\":1,\"fFillColor\":0,\"fFillStyle\":1001,\"fX1\":0,\"fY1\":0,\"fX2\":1,\"fY2\":1,\"fBorderSize\":1,\"fBorderMode\":0},{\"_typename\":\"TH2D\",\"fUniqueID\":0,\"fBits\":50332168,\"fName\":\"response\",\"fTitle\":\"Response Matrix #tau_{2,1}^{WTA} binning 2\",\"fLineColor\":602,\"fLineStyle\":1,\"fLineWidth\":1,\"fFillColor\":0,\"fFillStyle\":1001,\"fMarkerColor\":1,\"fMarkerStyle\":1,\"fMarkerSize\":1,\"fNcells\":220,\"fXaxis\":{\"_typename\":\"TAxis\",\"fUniqueID\":0,\"fBits\":50331648,\"fName\":\"xaxis\",\"fTitle\":\"#tau_{2,1}^{1}(det_sig)\",\"fNdivisions\":510,\"fAxisColor\":1,\"fLabelColor\":1,\"fLabelFont\":42,\"fLabelOffset\":0.005,\"fLabelSize\":0.035,\"fTickLength\":0.03,\"fTitleOffset\":1,\"fTitleSize\":0.035,\"fTitleColor\":1,\"fTitleFont\":42,\"fNbins\":18,\"fXmin\":0,\"fXmax\":1,\"fXbins\":[0,0.05,0.1,0.15,0.2,0.25,0.3,0.35,0.4,0.45,0.5,0.55,0.6,0.65,0.7,0.75,0.8,0.9,1],\"fFirst\":0,\"fLast\":0,\"fBits2\":0,\"fTimeDisplay\":false,\"fTimeFormat\":\"\",\"fLabels\":null,\"fModLabs\":null},\"fYaxis\":{\"_typename\":\"TAxis\",\"fUniqueID\":0,\"fBits\":50331648,\"fName\":\"yaxis\",\"fTitle\":\"#tau_{2,1}^{1}(gen_sig)\",\"fNdivisions\":510,\"fAxisColor\":1,\"fLabelColor\":1,\"fLabelFont\":42,\"fLabelOffset\":0.005,\"fLabelSize\":0.035,\"fTickLength\":0.03,\"fTitleOffset\":0,\"fTitleSize\":0.035,\"fTitleColor\":1,\"fTitleFont\":42,\"fNbins\":9,\"fXmin\":0,\"fXmax\":1,\"fXbins\":[0,0.1,0.2,0.3,0.4,0.5,0.6,0.7,0.8,1],\"fFirst\":0,\"fLast\":0,\"fBits2\":0,\"fTimeDisplay\":false,\"fTimeFormat\":\"\",\"fLabels\":null,\"fModLabs\":null},\"fZaxis\":{\"_typename\":\"TAxis\",\"fUniqueID\":0,\"fBits\":50331648,\"fName\":\"zaxis\",\"fTitle\":\"\",\"fNdivisions\":510,\"fAxisColor\":1,\"fLabelColor\":1,\"fLabelFont\":42,\"fLabelOffset\":0.005,\"fLabelSize\":0.035,\"fTickLength\":0.03,\"fTitleOffset\":1,\"fTitleSize\":0.035,\"fTitleColor\":1,\"fTitleFont\":42,\"fNbins\":1,\"fXmin\":0,\"fXmax\":1,\"fXbins\":[],\"fFirst\":0,\"fLast\":0,\"fBits2\":0,\"fTimeDisplay\":false,\"fTimeFormat\":\"\",\"fLabels\":null,\"fModLabs\":null},\"fBarOffset\":0,\"fBarWidth\":1000,\"fEntries\":43107,\"fTsumw\":13901.1376293109,\"fTsumw2\":4887.05421222413,\"fTsumwx\":5365.7921764556,\"fTsumwx2\":2386.71922025455,\"fMaximum\":-1111,\"fMinimum\":-1111,\"fNormFactor\":0,\"fContour\":[0,62.9969395765107,125.993879153021,188.990818729532,251.987758306043,314.984697882554,377.981637459064,440.978577035575,503.975516612086,566.972456188596,629.969395765107,692.966335341618,755.963274918128,818.960214494639,881.95715407115,944.954093647661,1007.95103322417,1070.94797280068,1133.94491237719,1196.9418519537],\"fSumw2\":[0,0,0,0,0,0,0,0,0,0,0,0,0,0,0,0,0,0,0,0,0,0.437888594293136,4.95367828400429,11.2259195352665,5.09177497724689,0.999912461772837,0.162559073395288,0.222567825513752,0,0,0,0,0,0,0,0,0,0,0,0,0,0,6.80167688895143,95.4756995605886,273.634039294162,226.907172334418,68.1151925404225,17.121108371498,4.83675376643832,1.10018787667651,0.126377952883809,0.252705106809104,0.235097033841714,0.0776838278224796,0,0,0,0,0,0,0,0,0,4.77838883176933,54.5438522724921,289.310281732307,442.915937983271,280.999416437561,92.6877248668999,26.4396828423836,6.2468814734503,2.54067155690258,1.20996001345981,0.255197096008558,0,0.31650652664424,0,0,0,0,0,0,0,0.246236632289518,2.31675257144084,13.3970724350937,92.5096780582946,292.225952448949,363.684627650129,200.293538547207,72.427765333968,27.1430566557838,7.67785010915991,1.34828317974789,0.768323882829953,0,0,0.113748393567943,0,0,0,0,0,0.482216523468481,1.99071148572648,2.60178552021989,7.31451922805385,23.8399678980651,92.3537953659072,233.097580027826,251.292884248784,141.79827411903,53.4238899890904,17.5721178692077,5.10487105451341,1.69658730151179,0.180398472064073,0,0,0,0,0,0,0.325680160740201,1.10414149249236,1.57637833416747,2.70304916774204,2.53100079349598,10.361901644653,23.1341173107596,75.3477472740501,170.882323165062,172.748694567771,84.3583599609601,27.9057020066408,7.61893536207125,1.33086370279747,0.256588267312631,0,0,0,0,0,0.298364930418434,0.76936727826143,1.032862078723,1.58311183274636,1.97446005551151,2.64178424847206,4.34131974638895,7.81599727056354,19.8804583285636,53.1380082986492,106.923147287795,87.6289757397859,41.6137443369142,9.70393611605515,1.49181948684177,0,0,0,0,0,0,0.728997848233022,1.44029681110081,1.82146634811619,3.81625463654719,2.4812146065205,1.36764582111672,1.73270808119745,2.6959138379165,5.39680629467678,10.7325389607044,24.9389730699232,39.9558165761589,21.3087293576226,5.07066902242765,0,0,0,0,0,0,0.267919124895922,0.929395697151246,1.31159104027146,1.11845343317859,0.794057684611097,0.420553992185239,0.285121041216995,0.290145296477559,0.592402619742777,0.902527549190643,0.463357996263026,2.13720458899508,1.96131298024778,2.14431571993548,0,0,0,0,0,0,0,0,0,0,0,0,0,0,0,0,0,0,0,0,0,0],\"fOption\":\"\",\"fFunctions\":{\"_typename\":\"TList\",\"name\":\"TList\",\"arr\":[{\"_typename\":\"TPaletteAxis\",\"fUniqueID\":0,\"fBits\":50331648,\"fLineColor\":1,\"fLineStyle\":1,\"fLineWidth\":1,\"fFillColor\":1178,\"fFillStyle\":1001,\"fX1\":1.00625000009313,\"fY1\":0,\"fX2\":1.06250000093132,\"fY2\":1,\"fX1NDC\":0.904999994039535,\"fY1NDC\":0.100000005960465,\"fX2NDC\":0.949999994039535,\"fY2NDC\":0.899999994039535,\"fBorderSize\":4,\"fInit\":1,\"fShadowColor\":1,\"fCornerRadius\":0,\"fOption\":\"br\",\"fName\":\"TPave\",\"fAxis\":{\"_typename\":\"TGaxis\",\"fUniqueID\":0,\"fBits\":50331648,\"fLineColor\":1,\"fLineStyle\":1,\"fLineWidth\":1,\"fX1\":0,\"fY1\":0,\"fX2\":0,\"fY2\":0,\"fTextAngle\":0,\"fTextSize\":0.04,\"fTextAlign\":11,\"fTextColor\":1,\"fTextFont\":42,\"fWmin\":0,\"fWmax\":0,\"fGridLength\":0,\"fTickSize\":0.03,\"fLabelOffset\":0.005,\"fLabelSize\":0.035,\"fTitleOffset\":1,\"fTitleSize\":0.035,\"fNdiv\":0,\"fLabelColor\":1,\"fLabelFont\":42,\"fNModLabs\":0,\"fChopt\":\"\",\"fName\":\"\",\"fTitle\":\"\",\"fTimeFormat\":\"\",\"fFunctionName\":\"\",\"fModLabs\":null},\"fName\":\"palette\"}],\"opt\":[\"br\"]},\"fBufferSize\":0,\"fBuffer\":[],\"fBinStatErrOpt\":0,\"fStatOverflows\":2,\"fScalefactor\":1,\"fTsumwy\":5115.46484738494,\"fTsumwy2\":2226.34975709807,\"fTsumwxy\":2272.04348811417,\"fArray\":[0,0,0,0,0,0,0,0,0,0,0,0,0,0,0,0,0,0,0,0,0,1.13855366366148,14.4718774357584,32.3730723444235,14.8836643045962,2.72244362872144,0.403186152286122,0.66702665635582,0,0,0,0,0,0,0,0,0,0,0,0,0,0,17.3967849115034,272.844130872622,782.452404261815,651.030768151861,196.264811907753,49.1855334989003,14.148744431719,3.20278370056487,0.355496769160859,0.502697828530325,0.484868058178422,0.278718187103891,0,0,0,0,0,0,0,0,0,12.1416741787722,155.744494758087,822.051553507588,1259.93879153021,800.072431219014,268.594515063342,75.9031009551794,18.7634249567535,7.38232392524921,3.4490702146933,0.712640869086658,0,0.790953893456533,0,0,0,0,0,0,0,0.70019563357857,7.0189742701012,38.9982047843717,264.019990350844,834.640539673612,1037.21525511976,575.243664462757,204.156557952888,77.3470617411265,21.8436939889964,3.99339678321328,2.14273874667109,0,0,0.337266057539063,0,0,0,0,0,1.18686167896434,5.52851718008405,7.80439158574433,20.7403806018034,68.0043336293558,260.530381507965,659.840830704039,711.491643765523,402.148006952313,151.633394309244,48.9951296443047,14.0191116769566,4.44053871367541,0.57419044400296,0,0,0,0,0,0,0.806976688274512,3.07081228331496,4.48201519383545,7.77528011121954,7.48862030068127,29.3715948897305,66.3745656177493,213.299043048994,482.016123631779,487.979787963799,240.886831890319,80.2878676247132,21.1629410939555,4.30454551084044,0.869461389038177,0,0,0,0,0,0.767668211031511,2.07648660352484,2.85308605850206,4.85328659838234,5.94181053842351,7.87494271313813,12.5171352615385,21.9966901591449,55.7412102379142,150.713865428773,301.700587690647,247.983332589972,117.457770871848,28.3519303183986,4.12631672474866,0,0,0,0,0,0,2.13096431395204,4.04082030423404,5.1268446371,9.76310958977661,6.96205729141499,3.9904219319557,5.13080041605891,7.54433874197574,15.4812903436516,30.5207048171655,68.3455776577301,110.336983228022,58.9233236389279,13.899059780698,0,0,0,0,0,0,0.731524835868448,2.58603317532614,3.78166481609795,3.1546365727661,2.65752429487935,1.54309110751398,0.741504694945848,0.761745562843736,1.52138248400415,2.47773774644185,1.1756410155151,5.87601147108677,6.12086084790969,5.73159295224074,0,0,0,0,0,0,0,0,0,0,0,0,0,0,0,0,0,0,0,0,0,0]},{\"_typename\":\"TPaveText\",\"fUniqueID\":0,\"fBits\":50331657,\"fLineColor\":1,\"fLineStyle\":1,\"fLineWidth\":1,\"fFillColor\":0,\"fFillStyle\":0,\"fX1\":0.0624999934807416,\"fY1\":1.01863675438656,\"fX2\":0.937500006519258,\"fY2\":1.11875001518056,\"fX1NDC\":0.15,\"fY1NDC\":0.914909397326614,\"fX2NDC\":0.85,\"fY2NDC\":0.995000004768372,\"fBorderSize\":0,\"fInit\":1,\"fShadowColor\":1,\"fCornerRadius\":0,\"fOption\":\"blNDC\",\"fName\":\"title\",\"fTextAngle\":0,\"fTextSize\":0,\"fTextAlign\":22,\"fTextColor\":1,\"fTextFont\":42,\"fLabel\":\"\",\"fLongest\":42,\"fMargin\":0.05,\"fLines\":{\"_typename\":\"TList\",\"name\":\"TList\",\"arr\":[{\"_typename\":\"TLatex\",\"fUniqueID\":0,\"fBits\":50331648,\"fName\":\"\",\"fTitle\":\"Response Matrix #tau_{2,1}^{WTA} binning 2\",\"fTextAngle\":0,\"fTextSize\":0,\"fTextAlign\":0,\"fTextColor\":0,\"fTextFont\":0,\"fX\":0,\"fY\":0,\"fLineColor\":1,\"fLineStyle\":1,\"fLineWidth\":2,\"fLimitFactorSize\":3,\"fOriginSize\":0.0555050447583199}],\"opt\":[\"\"]}}],\"opt\":[\"\",\"colz\",\"blNDC\"]},\"fExecs\":{\"_typename\":\"TList\",\"name\":\"TList\",\"arr\":[],\"opt\":[]},\"fName\":\"c6_2\",\"fTitle\":\"c6_2\",\"fNumPaletteColor\":0,\"fNextPaletteColor\":0},{\"_typename\":\"TPad\",\"fUniqueID\":0,\"fBits\":50331657,\"fLineColor\":1,\"fLineStyle\":1,\"fLineWidth\":1,\"fFillColor\":0,\"fFillStyle\":1001,\"fLeftMargin\":0.1,\"fRightMargin\":0.1,\"fBottomMargin\":0.1,\"fTopMargin\":0.1,\"fXfile\":2,\"fYfile\":2,\"fAfile\":1,\"fXstat\":0.99,\"fYstat\":0.99,\"fAstat\":2,\"fFrameFillColor\":0,\"fFrameLineColor\":1,\"fFrameFillStyle\":1001,\"fFrameLineStyle\":1,\"fFrameLineWidth\":1,\"fFrameBorderSize\":1,\"fFrameBorderMode\":0,\"fX1\":-0.125000009313226,\"fY1\":-0.125000009313226,\"fX2\":1.12500000931323,\"fY2\":1.12500000931323,\"fXtoAbsPixelk\":846.768052019803,\"fXtoPixelk\":37.4747189537963,\"fXtoPixel\":299.797329293728,\"fYtoAbsPixelk\":307.184048223384,\"fYtoPixelk\":296.664048458524,\"fYtoPixel\":-263.701329780102,\"fUtoAbsPixelk\":809.293383066006,\"fUtoPixelk\":5e-5,\"fUtoPixel\":374.74666720132,\"fVtoAbsPixelk\":340.146716901807,\"fVtoPixelk\":329.626667136947,\"fVtoPixel\":-329.626667136947,\"fAbsPixeltoXk\":-2.82446812990178,\"fPixeltoXk\":-0.125000009313226,\"fPixeltoX\":0.00333558675240981,\"fAbsPixeltoYk\":1.16489362598036,\"fPixeltoYk\":-0.125000009313226,\"fPixeltoY\":-0.00379216896946971,\"fXlowNDC\":0.676666666443149,\"fYlowNDC\":0.676666666443149,\"fXUpNDC\":0,\"fYUpNDC\":0,\"fWNDC\":0.313333333780368,\"fHNDC\":0.313333333780368,\"fAbsXlowNDC\":0.676666666443149,\"fAbsYlowNDC\":0.676666666443149,\"fAbsWNDC\":0.313333333780368,\"fAbsHNDC\":0.313333333780368,\"fUxmin\":0,\"fUymin\":0,\"fUxmax\":1,\"fUymax\":1,\"fTheta\":30,\"fPhi\":30,\"fAspectRatio\":0,\"fNumber\":3,\"fTickx\":0,\"fTicky\":0,\"fLogx\":0,\"fLogy\":0,\"fLogz\":0,\"fPadPaint\":0,\"fCrosshair\":0,\"fCrosshairPos\":0,\"fBorderSize\":2,\"fBorderMode\":0,\"fModified\":false,\"fGridx\":false,\"fGridy\":false,\"fAbsCoord\":false,\"fEditable\":true,\"fFixedAspectRatio\":false,\"fPrimitives\":{\"_typename\":\"TList\",\"name\":\"TList\",\"arr\":[{\"_typename\":\"TFrame\",\"fUniqueID\":0,\"fBits\":50331656,\"fLineColor\":1,\"fLineStyle\":1,\"fLineWidth\":1,\"fFillColor\":0,\"fFillStyle\":1001,\"fX1\":0,\"fY1\":0,\"fX2\":1,\"fY2\":1,\"fBorderSize\":1,\"fBorderMode\":0},{\"_typename\":\"TH2D\",\"fUniqueID\":0,\"fBits\":50332168,\"fName\":\"response\",\"fTitle\":\"Response Matrix #tau_{2,1}^{WTA} binning 3\",\"fLineColor\":602,\"fLineStyle\":1,\"fLineWidth\":1,\"fFillColor\":0,\"fFillStyle\":1001,\"fMarkerColor\":1,\"fMarkerStyle\":1,\"fMarkerSize\":1,\"fNcells\":180,\"fXaxis\":{\"_typename\":\"TAxis\",\"fUniqueID\":0,\"fBits\":50331648,\"fName\":\"xaxis\",\"fTitle\":\"#tau_{2,1}^{1}(det_sig)\",\"fNdivisions\":510,\"fAxisColor\":1,\"fLabelColor\":1,\"fLabelFont\":42,\"fLabelOffset\":0.005,\"fLabelSize\":0.035,\"fTickLength\":0.03,\"fTitleOffset\":1,\"fTitleSize\":0.035,\"fTitleColor\":1,\"fTitleFont\":42,\"fNbins\":16,\"fXmin\":0,\"fXmax\":1,\"fXbins\":[0,0.1,0.2,0.25,0.3,0.35,0.4,0.45,0.5,0.55,0.6,0.65,0.7,0.75,0.8,0.9,1],\"fFirst\":0,\"fLast\":0,\"fBits2\":0,\"fTimeDisplay\":false,\"fTimeFormat\":\"\",\"fLabels\":null,\"fModLabs\":null},\"fYaxis\":{\"_typename\":\"TAxis\",\"fUniqueID\":0,\"fBits\":50331648,\"fName\":\"yaxis\",\"fTitle\":\"#tau_{2,1}^{1}(gen_sig)\",\"fNdivisions\":510,\"fAxisColor\":1,\"fLabelColor\":1,\"fLabelFont\":42,\"fLabelOffset\":0.005,\"fLabelSize\":0.035,\"fTickLength\":0.03,\"fTitleOffset\":0,\"fTitleSize\":0.035,\"fTitleColor\":1,\"fTitleFont\":42,\"fNbins\":8,\"fXmin\":0,\"fXmax\":1,\"fXbins\":[0,0.2,0.3,0.4,0.5,0.6,0.7,0.8,1],\"fFirst\":0,\"fLast\":0,\"fBits2\":0,\"fTimeDisplay\":false,\"fTimeFormat\":\"\",\"fLabels\":null,\"fModLabs\":null},\"fZaxis\":{\"_typename\":\"TAxis\",\"fUniqueID\":0,\"fBits\":50331648,\"fName\":\"zaxis\",\"fTitle\":\"\",\"fNdivisions\":510,\"fAxisColor\":1,\"fLabelColor\":1,\"fLabelFont\":42,\"fLabelOffset\":0.005,\"fLabelSize\":0.035,\"fTickLength\":0.03,\"fTitleOffset\":1,\"fTitleSize\":0.035,\"fTitleColor\":1,\"fTitleFont\":42,\"fNbins\":1,\"fXmin\":0,\"fXmax\":1,\"fXbins\":[],\"fFirst\":0,\"fLast\":0,\"fBits2\":0,\"fTimeDisplay\":false,\"fTimeFormat\":\"\",\"fLabels\":null,\"fModLabs\":null},\"fBarOffset\":0,\"fBarWidth\":1000,\"fEntries\":43107,\"fTsumw\":13901.1376293109,\"fTsumw2\":4887.05421222413,\"fTsumwx\":5365.7921764556,\"fTsumwx2\":2386.71922025455,\"fMaximum\":-1111,\"fMinimum\":-1111,\"fNormFactor\":0,\"fContour\":[0,62.9969395765107,125.993879153021,188.990818729532,251.987758306043,314.984697882554,377.981637459064,440.978577035575,503.975516612086,566.972456188596,629.969395765107,692.966335341618,755.963274918128,818.960214494639,881.95715407115,944.954093647661,1007.95103322417,1070.94797280068,1133.94491237719,1196.9418519537],\"fSumw2\":[0,0,0,0,0,0,0,0,0,0,0,0,0,0,0,0,0,0,0,12.1932437672489,385.427433367263,227.907084796191,68.2777516138177,17.3436761970117,4.83675376643832,1.10018787667651,0.126377952883809,0.252705106809104,0.235097033841714,0.0776838278224796,0,0,0,0,0,0,0,0,59.3222411042615,289.310281732307,442.915937983271,280.999416437561,92.6877248668999,26.4396828423836,6.2468814734503,2.54067155690258,1.20996001345981,0.255197096008558,0,0.31650652664424,0,0,0,0,0,0,2.56298920373036,13.3970724350937,92.5096780582946,292.225952448949,363.684627650129,200.293538547207,72.427765333968,27.1430566557838,7.67785010915991,1.34828317974789,0.768323882829953,0,0,0.113748393567943,0,0,0,0,2.47292800919496,2.60178552021989,7.31451922805385,23.8399678980651,92.3537953659072,233.097580027826,251.292884248784,141.79827411903,53.4238899890904,17.5721178692077,5.10487105451341,1.69658730151179,0.180398472064073,0,0,0,0,0,1.42982165323256,1.57637833416747,2.70304916774204,2.53100079349598,10.361901644653,23.1341173107596,75.3477472740501,170.882323165062,172.748694567771,84.3583599609601,27.9057020066408,7.61893536207125,1.33086370279747,0.256588267312631,0,0,0,0,1.06773220867986,1.032862078723,1.58311183274636,1.97446005551151,2.64178424847206,4.34131974638895,7.81599727056354,19.8804583285636,53.1380082986492,106.923147287795,87.6289757397859,41.6137443369142,9.70393611605515,1.49181948684177,0,0,0,0,0.728997848233022,1.44029681110081,1.82146634811619,3.81625463654719,2.4812146065205,1.36764582111672,1.73270808119745,2.6959138379165,5.39680629467678,10.7325389607044,24.9389730699232,39.9558165761589,21.3087293576226,5.07066902242765,0,0,0,0,0.267919124895922,0.929395697151246,1.31159104027146,1.11845343317859,0.794057684611097,0.420553992185239,0.285121041216995,0.290145296477559,0.592402619742777,0.902527549190643,0.463357996263026,2.13720458899508,1.96131298024778,2.14431571993548,0,0,0,0,0,0,0,0,0,0,0,0,0,0,0,0,0,0,0,0],\"fOption\":\"\",\"fFunctions\":{\"_typename\":\"TList\",\"name\":\"TList\",\"arr\":[{\"_typename\":\"TPaletteAxis\",\"fUniqueID\":0,\"fBits\":50331648,\"fLineColor\":1,\"fLineStyle\":1,\"fLineWidth\":1,\"fFillColor\":1178,\"fFillStyle\":1001,\"fX1\":1.00625000009313,\"fY1\":0,\"fX2\":1.06250000093132,\"fY2\":1,\"fX1NDC\":0.904999994039535,\"fY1NDC\":0.100000005960465,\"fX2NDC\":0.949999994039535,\"fY2NDC\":0.899999994039535,\"fBorderSize\":4,\"fInit\":1,\"fShadowColor\":1,\"fCornerRadius\":0,\"fOption\":\"br\",\"fName\":\"TPave\",\"fAxis\":{\"_typename\":\"TGaxis\",\"fUniqueID\":0,\"fBits\":50331648,\"fLineColor\":1,\"fLineStyle\":1,\"fLineWidth\":1,\"fX1\":0,\"fY1\":0,\"fX2\":0,\"fY2\":0,\"fTextAngle\":0,\"fTextSize\":0.04,\"fTextAlign\":11,\"fTextColor\":1,\"fTextFont\":42,\"fWmin\":0,\"fWmax\":0,\"fGridLength\":0,\"fTickSize\":0.03,\"fLabelOffset\":0.005,\"fLabelSize\":0.035,\"fTitleOffset\":1,\"fTitleSize\":0.035,\"fNdiv\":0,\"fLabelColor\":1,\"fLabelFont\":42,\"fNModLabs\":0,\"fChopt\":\"\",\"fName\":\"\",\"fTitle\":\"\",\"fTimeFormat\":\"\",\"fFunctionName\":\"\",\"fModLabs\":null},\"fName\":\"palette\"}],\"opt\":[\"br\"]},\"fBufferSize\":0,\"fBuffer\":[],\"fBinStatErrOpt\":0,\"fStatOverflows\":2,\"fScalefactor\":1,\"fTsumwy\":5115.46484738494,\"fTsumwy2\":2226.34975709807,\"fTsumwxy\":2272.04348811417,\"fArray\":[0,0,0,0,0,0,0,0,0,0,0,0,0,0,0,0,0,0,0,33.0072160109232,1102.55327178346,653.753211780582,196.667998060039,49.8525601552561,14.148744431719,3.20278370056487,0.355496769160859,0.502697828530325,0.484868058178422,0.278718187103891,0,0,0,0,0,0,0,0,167.886168936859,822.051553507588,1259.93879153021,800.072431219014,268.594515063342,75.9031009551794,18.7634249567535,7.38232392524921,3.4490702146933,0.712640869086658,0,0.790953893456533,0,0,0,0,0,0,7.71916990367977,38.9982047843717,264.019990350844,834.640539673612,1037.21525511976,575.243664462757,204.156557952888,77.3470617411265,21.8436939889964,3.99339678321328,2.14273874667109,0,0,0.337266057539063,0,0,0,0,6.71537885904839,7.80439158574433,20.7403806018034,68.0043336293558,260.530381507965,659.840830704039,711.491643765523,402.148006952313,151.633394309244,48.9951296443047,14.0191116769566,4.44053871367541,0.57419044400296,0,0,0,0,0,3.87778897158948,4.48201519383545,7.77528011121954,7.48862030068127,29.3715948897305,66.3745656177493,213.299043048994,482.016123631779,487.979787963799,240.886831890319,80.2878676247132,21.1629410939555,4.30454551084044,0.869461389038177,0,0,0,0,2.84415481455635,2.85308605850206,4.85328659838234,5.94181053842351,7.87494271313813,12.5171352615385,21.9966901591449,55.7412102379142,150.713865428773,301.700587690647,247.983332589972,117.457770871848,28.3519303183986,4.12631672474866,0,0,0,0,2.13096431395204,4.04082030423404,5.1268446371,9.76310958977661,6.96205729141499,3.9904219319557,5.13080041605891,7.54433874197574,15.4812903436516,30.5207048171655,68.3455776577301,110.336983228022,58.9233236389279,13.899059780698,0,0,0,0,0.731524835868448,2.58603317532614,3.78166481609795,3.1546365727661,2.65752429487935,1.54309110751398,0.741504694945848,0.761745562843736,1.52138248400415,2.47773774644185,1.1756410155151,5.87601147108677,6.12086084790969,5.73159295224074,0,0,0,0,0,0,0,0,0,0,0,0,0,0,0,0,0,0,0,0]},{\"_typename\":\"TPaveText\",\"fUniqueID\":0,\"fBits\":50331657,\"fLineColor\":1,\"fLineStyle\":1,\"fLineWidth\":1,\"fFillColor\":0,\"fFillStyle\":0,\"fX1\":0.0624999934807416,\"fY1\":1.01863675438656,\"fX2\":0.937500006519258,\"fY2\":1.11875001518056,\"fX1NDC\":0.15,\"fY1NDC\":0.914909397326614,\"fX2NDC\":0.85,\"fY2NDC\":0.995000004768372,\"fBorderSize\":0,\"fInit\":1,\"fShadowColor\":1,\"fCornerRadius\":0,\"fOption\":\"blNDC\",\"fName\":\"title\",\"fTextAngle\":0,\"fTextSize\":0,\"fTextAlign\":22,\"fTextColor\":1,\"fTextFont\":42,\"fLabel\":\"\",\"fLongest\":42,\"fMargin\":0.05,\"fLines\":{\"_typename\":\"TList\",\"name\":\"TList\",\"arr\":[{\"_typename\":\"TLatex\",\"fUniqueID\":0,\"fBits\":50331648,\"fName\":\"\",\"fTitle\":\"Response Matrix #tau_{2,1}^{WTA} binning 3\",\"fTextAngle\":0,\"fTextSize\":0,\"fTextAlign\":0,\"fTextColor\":0,\"fTextFont\":0,\"fX\":0,\"fY\":0,\"fLineColor\":1,\"fLineStyle\":1,\"fLineWidth\":2,\"fLimitFactorSize\":3,\"fOriginSize\":0.0556931979954243}],\"opt\":[\"\"]}}],\"opt\":[\"\",\"colz\",\"blNDC\"]},\"fExecs\":{\"_typename\":\"TList\",\"name\":\"TList\",\"arr\":[],\"opt\":[]},\"fName\":\"c6_3\",\"fTitle\":\"c6_3\",\"fNumPaletteColor\":0,\"fNextPaletteColor\":0},{\"_typename\":\"TPad\",\"fUniqueID\":0,\"fBits\":50331657,\"fLineColor\":1,\"fLineStyle\":1,\"fLineWidth\":1,\"fFillColor\":0,\"fFillStyle\":1001,\"fLeftMargin\":0.1,\"fRightMargin\":0.1,\"fBottomMargin\":0.1,\"fTopMargin\":0.1,\"fXfile\":2,\"fYfile\":2,\"fAfile\":1,\"fXstat\":0.99,\"fYstat\":0.99,\"fAstat\":2,\"fFrameFillColor\":0,\"fFrameLineColor\":1,\"fFrameFillStyle\":1001,\"fFrameLineStyle\":1,\"fFrameLineWidth\":1,\"fFrameBorderSize\":1,\"fFrameBorderMode\":0,\"fX1\":-0.1162500086613,\"fY1\":-0.1162500086613,\"fX2\":1.0462500086613,\"fY2\":1.0462500086613,\"fXtoAbsPixelk\":49.4347186864695,\"fXtoPixelk\":37.4747189537963,\"fXtoPixel\":322.362719670675,\"fYtoAbsPixelk\":657.850714890051,\"fYtoPixelk\":296.664048458524,\"fYtoPixel\":-283.549816967851,\"fUtoAbsPixelk\":11.9600497326732,\"fUtoPixelk\":5e-5,\"fUtoPixel\":374.74666720132,\"fVtoAbsPixelk\":690.813383568473,\"fVtoPixelk\":329.626667136947,\"fVtoPixel\":-329.626667136947,\"fAbsPixeltoXk\":-0.153351072161731,\"fPixeltoXk\":-0.1162500086613,\"fPixeltoX\":0.00310209567974113,\"fAbsPixeltoYk\":2.32005321648519,\"fPixeltoYk\":-0.1162500086613,\"fPixeltoY\":-0.00352671714160683,\"fXlowNDC\":0.00999999977648258,\"fYlowNDC\":0.343333333109816,\"fXUpNDC\":0,\"fYUpNDC\":0,\"fWNDC\":0.313333333780368,\"fHNDC\":0.313333333780368,\"fAbsXlowNDC\":0.00999999977648258,\"fAbsYlowNDC\":0.343333333109816,\"fAbsWNDC\":0.313333333780368,\"fAbsHNDC\":0.313333333780368,\"fUxmin\":0,\"fUymin\":0,\"fUxmax\":0.93,\"fUymax\":0.93,\"fTheta\":30,\"fPhi\":30,\"fAspectRatio\":0,\"fNumber\":4,\"fTickx\":0,\"fTicky\":0,\"fLogx\":0,\"fLogy\":0,\"fLogz\":0,\"fPadPaint\":0,\"fCrosshair\":0,\"fCrosshairPos\":0,\"fBorderSize\":2,\"fBorderMode\":0,\"fModified\":false,\"fGridx\":false,\"fGridy\":false,\"fAbsCoord\":false,\"fEditable\":true,\"fFixedAspectRatio\":false,\"fPrimitives\":{\"_typename\":\"TList\",\"name\":\"TList\",\"arr\":[{\"_typename\":\"TFrame\",\"fUniqueID\":0,\"fBits\":50331656,\"fLineColor\":1,\"fLineStyle\":1,\"fLineWidth\":1,\"fFillColor\":0,\"fFillStyle\":1001,\"fX1\":0,\"fY1\":0,\"fX2\":0.93,\"fY2\":0.93,\"fBorderSize\":1,\"fBorderMode\":0},{\"_typename\":\"TH2D\",\"fUniqueID\":0,\"fBits\":50332168,\"fName\":\"response\",\"fTitle\":\"Response Matrix #tau_{2,1}^{WTA} binning 4\",\"fLineColor\":602,\"fLineStyle\":1,\"fLineWidth\":1,\"fFillColor\":0,\"fFillStyle\":1001,\"fMarkerColor\":1,\"fMarkerStyle\":1,\"fMarkerSize\":1,\"fNcells\":144,\"fXaxis\":{\"_typename\":\"TAxis\",\"fUniqueID\":0,\"fBits\":50331648,\"fName\":\"xaxis\",\"fTitle\":\"#tau_{2,1}^{1}(det_sig)\",\"fNdivisions\":510,\"fAxisColor\":1,\"fLabelColor\":1,\"fLabelFont\":42,\"fLabelOffset\":0.005,\"fLabelSize\":0.035,\"fTickLength\":0.03,\"fTitleOffset\":1,\"fTitleSize\":0.035,\"fTitleColor\":1,\"fTitleFont\":42,\"fNbins\":14,\"fXmin\":0,\"fXmax\":0.93,\"fXbins\":[0,0.06,0.12,0.188,0.256,0.324,0.392,0.46,0.528,0.596,0.664,0.732,0.8,0.865,0.93],\"fFirst\":0,\"fLast\":0,\"fBits2\":0,\"fTimeDisplay\":false,\"fTimeFormat\":\"\",\"fLabels\":null,\"fModLabs\":null},\"fYaxis\":{\"_typename\":\"TAxis\",\"fUniqueID\":0,\"fBits\":50331648,\"fName\":\"yaxis\",\"fTitle\":\"#tau_{2,1}^{1}(gen_sig)\",\"fNdivisions\":510,\"fAxisColor\":1,\"fLabelColor\":1,\"fLabelFont\":42,\"fLabelOffset\":0.005,\"fLabelSize\":0.035,\"fTickLength\":0.03,\"fTitleOffset\":0,\"fTitleSize\":0.035,\"fTitleColor\":1,\"fTitleFont\":42,\"fNbins\":7,\"fXmin\":0,\"fXmax\":0.93,\"fXbins\":[0,0.12,0.256,0.392,0.528,0.664,0.8,0.93],\"fFirst\":0,\"fLast\":0,\"fBits2\":0,\"fTimeDisplay\":false,\"fTimeFormat\":\"\",\"fLabels\":null,\"fModLabs\":null},\"fZaxis\":{\"_typename\":\"TAxis\",\"fUniqueID\":0,\"fBits\":50331648,\"fName\":\"zaxis\",\"fTitle\":\"\",\"fNdivisions\":510,\"fAxisColor\":1,\"fLabelColor\":1,\"fLabelFont\":42,\"fLabelOffset\":0.005,\"fLabelSize\":0.035,\"fTickLength\":0.03,\"fTitleOffset\":1,\"fTitleSize\":0.035,\"fTitleColor\":1,\"fTitleFont\":42,\"fNbins\":1,\"fXmin\":0,\"fXmax\":1,\"fXbins\":[],\"fFirst\":0,\"fLast\":0,\"fBits2\":0,\"fTimeDisplay\":false,\"fTimeFormat\":\"\",\"fLabels\":null,\"fModLabs\":null},\"fBarOffset\":0,\"fBarWidth\":1000,\"fEntries\":43107,\"fTsumw\":13901.1376293109,\"fTsumw2\":4887.05421222413,\"fTsumwx\":5365.7921764556,\"fTsumwx2\":2386.71922025455,\"fMaximum\":-1111,\"fMinimum\":-1111,\"fNormFactor\":0,\"fContour\":[0,87.385035715517,174.770071431034,262.155107146551,349.540142862068,436.925178577585,524.310214293102,611.695250008619,699.080285724136,786.465321439653,873.85035715517,961.235392870687,1048.6204285862,1136.00546430172,1223.39050001724,1310.77553573276,1398.16057144827,1485.54560716379,1572.93064287931,1660.31567859482],\"fSumw2\":[0,0,0,0,0,0,0,0,0,0,0,0,0,0,0,0,0,0.611598522983239,20.717463519631,44.4127994314375,9.61050601787074,0.654411093413657,0.221449052522997,0,0,0,0.0776838278224796,0,0,0,0,0,0,0,15.38620298987,275.867222620975,595.834869596019,333.068978120029,65.9823359478215,11.3040143900367,1.76232458211473,0.448156798925476,0.109650522097317,0.192284948971075,0.124221577673165,0,0,0,0,0,0.03702521883579,5.03586301945712,93.6575170580775,485.389798325306,611.979761059322,261.677390203795,63.496331395367,14.2271323391439,1.17396318732176,0.489151172662395,0,0.113748393567943,0,0,0,0,0,2.44073577269065,4.52994292474682,20.0970416500869,115.434897712982,365.168339417824,379.97087802243,169.881027217329,38.8005229140091,6.81869837416538,1.41610569508769,0,0,0,0,0,0.116129515245471,0.997209004104691,2.09976984297422,4.072032036209,8.07412166716472,18.997756259629,85.6489606273072,231.522548540251,202.604826666584,69.9723428883414,12.2719248773599,0.923604203462071,0,0,0,0,0,0.832642128067579,2.7209616083079,3.49888775850316,5.56975945938801,4.77809067721854,6.05887105373445,13.0836646480853,46.1696752875178,85.5936987515158,43.7108587512296,5.82817700552513,0.0672955675948438,0,0,0,0,0.267919124895922,1.26425610650583,1.39457705457649,1.49466469413007,0.420553992185239,0.427963373017205,0.739705584420125,0.902527549190643,1.77279090570522,2.78908465980067,2.14431571993548,0,0,0,0,0,0,0,0,0,0,0,0,0,0,0,0,0,0],\"fOption\":\"\",\"fFunctions\":{\"_typename\":\"TList\",\"name\":\"TList\",\"arr\":[{\"_typename\":\"TPaletteAxis\",\"fUniqueID\":0,\"fBits\":50331648,\"fLineColor\":1,\"fLineStyle\":1,\"fLineWidth\":1,\"fFillColor\":1178,\"fFillStyle\":1001,\"fX1\":0.935812500086613,\"fY1\":0,\"fX2\":0.98812500086613,\"fY2\":0.93,\"fX1NDC\":0.904999994039535,\"fY1NDC\":0.100000005960465,\"fX2NDC\":0.949999994039535,\"fY2NDC\":0.899999994039535,\"fBorderSize\":4,\"fInit\":1,\"fShadowColor\":1,\"fCornerRadius\":0,\"fOption\":\"br\",\"fName\":\"TPave\",\"fAxis\":{\"_typename\":\"TGaxis\",\"fUniqueID\":0,\"fBits\":50331648,\"fLineColor\":1,\"fLineStyle\":1,\"fLineWidth\":1,\"fX1\":0,\"fY1\":0,\"fX2\":0,\"fY2\":0,\"fTextAngle\":0,\"fTextSize\":0.04,\"fTextAlign\":11,\"fTextColor\":1,\"fTextFont\":42,\"fWmin\":0,\"fWmax\":0,\"fGridLength\":0,\"fTickSize\":0.03,\"fLabelOffset\":0.005,\"fLabelSize\":0.035,\"fTitleOffset\":1,\"fTitleSize\":0.035,\"fNdiv\":0,\"fLabelColor\":1,\"fLabelFont\":42,\"fNModLabs\":0,\"fChopt\":\"\",\"fName\":\"\",\"fTitle\":\"\",\"fTimeFormat\":\"\",\"fFunctionName\":\"\",\"fModLabs\":null},\"fName\":\"palette\"}],\"opt\":[\"br\"]},\"fBufferSize\":0,\"fBuffer\":[],\"fBinStatErrOpt\":0,\"fStatOverflows\":2,\"fScalefactor\":1,\"fTsumwy\":5115.46484738494,\"fTsumwy2\":2226.34975709807,\"fTsumwxy\":2272.04348811417,\"fArray\":[0,0,0,0,0,0,0,0,0,0,0,0,0,0,0,0,0,1.75372677343087,57.6780337100235,127.567863871231,27.6249427544746,1.97978531602289,0.665381184529312,0,0,0,0.278718187103891,0,0,0,0,0,0,0,40.6265746440432,787.466486204656,1702.34052794998,951.28909858948,186.673773646309,32.1002603780334,4.8237942579586,1.13764589640435,0.331135202141538,0.438503077493277,0.352450815963257,0,0,0,0,0,0.192419382692571,14.2188540349854,267.490480685235,1388.40668913893,1747.70071431034,749.376061692239,181.280645273282,40.8652547842998,3.41116702488256,1.39692495322357,0,0.337266057539063,0,0,0,0,0,6.55510090629962,13.4636854460201,55.3790211537119,326.445842747399,1034.72371101107,1073.98226187116,482.960220709352,109.533039512282,19.2035927302347,4.11689557346645,0,0,0,0,0,0.340777809203403,2.73658839905582,5.88688137862361,12.2974305809957,24.1286888730983,55.1067442819424,243.182938572698,649.982909993481,573.574995370004,197.584542147428,36.3975209499916,2.67183491490634,0,0,0,0,0,2.39212084637104,7.41296266284848,9.89341155813978,15.0282007797252,13.5299099104914,16.9866064135985,37.9937727340782,131.795745992556,239.095249277866,121.865289848699,15.9635890871308,0.259413892447656,0,0,0,0,0.731524835868448,3.58448904337632,4.07588896698923,4.51948084870399,1.54309110751398,1.11944957426056,1.90518316753318,2.47773774644185,5.05752887765293,8.11498445685862,5.73159295224074,0,0,0,0,0,0,0,0,0,0,0,0,0,0,0,0,0,0]},{\"_typename\":\"TPaveText\",\"fUniqueID\":0,\"fBits\":50331657,\"fLineColor\":1,\"fLineStyle\":1,\"fLineWidth\":1,\"fFillColor\":0,\"fFillStyle\":0,\"fX1\":0.0581249939370897,\"fY1\":0.947332181579499,\"fX2\":0.87187500606291,\"fY2\":1.04043751411792,\"fX1NDC\":0.15,\"fY1NDC\":0.914909397326615,\"fX2NDC\":0.85,\"fY2NDC\":0.995000004768372,\"fBorderSize\":0,\"fInit\":1,\"fShadowColor\":1,\"fCornerRadius\":0,\"fOption\":\"blNDC\",\"fName\":\"title\",\"fTextAngle\":0,\"fTextSize\":0,\"fTextAlign\":22,\"fTextColor\":1,\"fTextFont\":42,\"fLabel\":\"\",\"fLongest\":42,\"fMargin\":0.05,\"fLines\":{\"_typename\":\"TList\",\"name\":\"TList\",\"arr\":[{\"_typename\":\"TLatex\",\"fUniqueID\":0,\"fBits\":50331648,\"fName\":\"\",\"fTitle\":\"Response Matrix #tau_{2,1}^{WTA} binning 4\",\"fTextAngle\":0,\"fTextSize\":0,\"fTextAlign\":0,\"fTextColor\":0,\"fTextFont\":0,\"fX\":0,\"fY\":0,\"fLineColor\":1,\"fLineStyle\":1,\"fLineWidth\":2,\"fLimitFactorSize\":3,\"fOriginSize\":0.0555050447583199}],\"opt\":[\"\"]}}],\"opt\":[\"\",\"colz\",\"blNDC\"]},\"fExecs\":{\"_typename\":\"TList\",\"name\":\"TList\",\"arr\":[],\"opt\":[]},\"fName\":\"c6_4\",\"fTitle\":\"c6_4\",\"fNumPaletteColor\":0,\"fNextPaletteColor\":0},{\"_typename\":\"TPad\",\"fUniqueID\":0,\"fBits\":50331657,\"fLineColor\":1,\"fLineStyle\":1,\"fLineWidth\":1,\"fFillColor\":0,\"fFillStyle\":1001,\"fLeftMargin\":0.1,\"fRightMargin\":0.1,\"fBottomMargin\":0.1,\"fTopMargin\":0.1,\"fXfile\":2,\"fYfile\":2,\"fAfile\":1,\"fXstat\":0.99,\"fYstat\":0.99,\"fAstat\":2,\"fFrameFillColor\":0,\"fFrameLineColor\":1,\"fFrameFillStyle\":1001,\"fFrameLineStyle\":1,\"fFrameLineWidth\":1,\"fFrameBorderSize\":1,\"fFrameBorderMode\":0,\"fX1\":-0.1162500086613,\"fY1\":-0.1162500086613,\"fX2\":1.0462500086613,\"fY2\":1.0462500086613,\"fXtoAbsPixelk\":448.101385353136,\"fXtoPixelk\":37.4747189537963,\"fXtoPixel\":322.362719670675,\"fYtoAbsPixelk\":657.850714890051,\"fYtoPixelk\":296.664048458524,\"fYtoPixel\":-283.549816967851,\"fUtoAbsPixelk\":410.62671639934,\"fUtoPixelk\":5e-5,\"fUtoPixel\":374.74666720132,\"fVtoAbsPixelk\":690.813383568473,\"fVtoPixelk\":329.626667136947,\"fVtoPixel\":-329.626667136947,\"fAbsPixeltoXk\":-1.39005321648519,\"fPixeltoXk\":-0.1162500086613,\"fPixeltoX\":0.00310209567974113,\"fAbsPixeltoYk\":2.32005321648519,\"fPixeltoYk\":-0.1162500086613,\"fPixeltoY\":-0.00352671714160683,\"fXlowNDC\":0.343333333109816,\"fYlowNDC\":0.343333333109816,\"fXUpNDC\":0,\"fYUpNDC\":0,\"fWNDC\":0.313333333780368,\"fHNDC\":0.313333333780368,\"fAbsXlowNDC\":0.343333333109816,\"fAbsYlowNDC\":0.343333333109816,\"fAbsWNDC\":0.313333333780368,\"fAbsHNDC\":0.313333333780368,\"fUxmin\":0,\"fUymin\":0,\"fUxmax\":0.93,\"fUymax\":0.93,\"fTheta\":30,\"fPhi\":30,\"fAspectRatio\":0,\"fNumber\":5,\"fTickx\":0,\"fTicky\":0,\"fLogx\":0,\"fLogy\":0,\"fLogz\":0,\"fPadPaint\":0,\"fCrosshair\":0,\"fCrosshairPos\":0,\"fBorderSize\":2,\"fBorderMode\":0,\"fModified\":false,\"fGridx\":false,\"fGridy\":false,\"fAbsCoord\":false,\"fEditable\":true,\"fFixedAspectRatio\":false,\"fPrimitives\":{\"_typename\":\"TList\",\"name\":\"TList\",\"arr\":[{\"_typename\":\"TFrame\",\"fUniqueID\":0,\"fBits\":50331656,\"fLineColor\":1,\"fLineStyle\":1,\"fLineWidth\":1,\"fFillColor\":0,\"fFillStyle\":1001,\"fX1\":0,\"fY1\":0,\"fX2\":0.93,\"fY2\":0.93,\"fBorderSize\":1,\"fBorderMode\":0},{\"_typename\":\"TH2D\",\"fUniqueID\":0,\"fBits\":50332168,\"fName\":\"response\",\"fTitle\":\"Response Matrix #tau_{2,1}^{WTA} binning 5\",\"fLineColor\":602,\"fLineStyle\":1,\"fLineWidth\":1,\"fFillColor\":0,\"fFillStyle\":1001,\"fMarkerColor\":1,\"fMarkerStyle\":1,\"fMarkerSize\":1,\"fNcells\":264,\"fXaxis\":{\"_typename\":\"TAxis\",\"fUniqueID\":0,\"fBits\":50331648,\"fName\":\"xaxis\",\"fTitle\":\"#tau_{2,1}^{1}(det_sig)\",\"fNdivisions\":510,\"fAxisColor\":1,\"fLabelColor\":1,\"fLabelFont\":42,\"fLabelOffset\":0.005,\"fLabelSize\":0.035,\"fTickLength\":0.03,\"fTitleOffset\":1,\"fTitleSize\":0.035,\"fTitleColor\":1,\"fTitleFont\":42,\"fNbins\":20,\"fXmin\":0,\"fXmax\":0.93,\"fXbins\":[0,0.06,0.12,0.1625,0.205,0.2475,0.29,0.3325,0.375,0.4175,0.46,0.5025,0.545,0.5875,0.63,0.6725,0.715,0.7575,0.8,0.865,0.93],\"fFirst\":0,\"fLast\":0,\"fBits2\":0,\"fTimeDisplay\":false,\"fTimeFormat\":\"\",\"fLabels\":null,\"fModLabs\":null},\"fYaxis\":{\"_typename\":\"TAxis\",\"fUniqueID\":0,\"fBits\":50331648,\"fName\":\"yaxis\",\"fTitle\":\"#tau_{2,1}^{1}(gen_sig)\",\"fNdivisions\":510,\"fAxisColor\":1,\"fLabelColor\":1,\"fLabelFont\":42,\"fLabelOffset\":0.005,\"fLabelSize\":0.035,\"fTickLength\":0.03,\"fTitleOffset\":0,\"fTitleSize\":0.035,\"fTitleColor\":1,\"fTitleFont\":42,\"fNbins\":10,\"fXmin\":0,\"fXmax\":0.93,\"fXbins\":[0,0.12,0.205,0.29,0.375,0.46,0.545,0.63,0.715,0.8,0.93],\"fFirst\":0,\"fLast\":0,\"fBits2\":0,\"fTimeDisplay\":false,\"fTimeFormat\":\"\",\"fLabels\":null,\"fModLabs\":null},\"fZaxis\":{\"_typename\":\"TAxis\",\"fUniqueID\":0,\"fBits\":50331648,\"fName\":\"zaxis\",\"fTitle\":\"\",\"fNdivisions\":510,\"fAxisColor\":1,\"fLabelColor\":1,\"fLabelFont\":42,\"fLabelOffset\":0.005,\"fLabelSize\":0.035,\"fTickLength\":0.03,\"fTitleOffset\":1,\"fTitleSize\":0.035,\"fTitleColor\":1,\"fTitleFont\":42,\"fNbins\":1,\"fXmin\":0,\"fXmax\":1,\"fXbins\":[],\"fFirst\":0,\"fLast\":0,\"fBits2\":0,\"fTimeDisplay\":false,\"fTimeFormat\":\"\",\"fLabels\":null,\"fModLabs\":null},\"fBarOffset\":0,\"fBarWidth\":1000,\"fEntries\":43107,\"fTsumw\":13901.1376293109,\"fTsumw2\":4887.05421222413,\"fTsumwx\":5365.7921764556,\"fTsumwx2\":2386.71922025455,\"fMaximum\":-1111,\"fMinimum\":-1111,\"fNormFactor\":0,\"fContour\":[0,48.9533900302076,97.9067800604153,146.860170090623,195.813560120831,244.766950151038,293.720340181246,342.673730211453,391.627120241661,440.580510271869,489.533900302076,538.487290332284,587.440680362492,636.394070392699,685.347460422907,734.300850453115,783.254240483322,832.20763051353,881.161020543737,930.114410573945],\"fSumw2\":[0,0,0,0,0,0,0,0,0,0,0,0,0,0,0,0,0,0,0,0,0,0,0,0.611598522983239,20.717463519631,31.8304101360826,17.6553940413183,3.69141478014155,1.17791453175336,0.32258305342612,0.221449052522997,0,0,0,0,0,0,0.0776838278224796,0,0,0,0,0,0,0,0,14.906462739084,107.660151513829,243.070819118531,214.069238868617,78.4963221828369,26.6074105669347,7.38106830186604,2.10690501447897,1.62469420671246,0.128565569758939,0.252705106809104,0.235097033841714,0.109650522097317,0,0,0,0,0,0,0,0,0,0.516765469621799,5.20947899878252,56.0650538886898,224.233421034582,342.784976836531,243.801880268243,101.658776149066,34.2428775152738,10.7053825906629,2.96999190685743,1.78224877744107,0.827969250084169,0.187416607845364,0,0,0.31650652664424,0,0,0,0,0,0,0,0.681313561790286,2.90132951552815,17.1397181008391,78.0073937226502,231.497797506923,298.969022526951,191.816951153262,79.3736542681253,31.6093896217614,12.4031253981249,3.81684849349748,1.23559039974313,0.712671014972993,0.229817786441687,0,0,0.113748393567943,0,0,0,0,0,0.506438442009114,1.83133723038443,2.03204475557899,6.83962704350465,26.039509007533,81.2194170950715,197.700091268397,222.339978776462,136.900829198555,66.3246481879139,25.2787120194884,9.97045600528305,3.11653565337167,1.38089708269451,0.229825076408976,0.14083088424731,0,0,0,0,0,0,0.573100053253854,1.5130410867124,1.84102640839782,2.42168417217947,3.3118257378963,8.07319633515849,28.2692329054968,73.7499834583498,145.709576236165,163.791368920952,100.605531569214,45.17058234139,14.8679666780559,4.50921283979823,2.0354485326309,0.363436053421286,0,0,0,0,0,0.116129515245471,0.215295441151015,0.716149280860742,0.365609744092832,1.76716997838738,1.52982073556986,3.25248865875399,4.16614248551416,7.68288404658112,22.6153799814797,58.6369449526839,113.156705576599,101.149757781877,64.1636579567146,23.2981539954477,8.73691817041024,1.80250778227071,0.484875270434237,0,0,0,0,0,0.364150111414674,0.727479202560329,1.21838563096326,0.901351830839922,1.54756023460624,1.38865745892512,1.62519179982636,3.30661055707024,3.78035409632277,8.28472646439723,14.9771850245426,40.1861759721679,66.6732118252897,57.9471110333255,26.6262130341379,9.1582024223329,1.5764136553033,0.0672955675948438,0,0,0,0,0,0.823901461375211,0.856664107095483,1.24418388520317,1.8214626682557,3.26432916435563,1.20910128049246,0.748177308759235,0.965687434010884,1.50259991730288,2.64022277008758,5.36771708817441,7.41801137386978,18.5984684368656,26.0181019528481,14.6303545005528,4.69049228324966,0,0,0,0,0,0,0.332464454759852,0.864850367287316,0.875464127685701,0.993068022249342,0.843814910727338,0.71811148835381,0.214197601230192,0.285121041216995,0.290145296477559,0.592402619742777,0.651683932387372,0.385197438677094,0.597163620789422,2.19324356928165,1.63711455356099,2.14431571993548,0,0,0,0,0,0,0,0,0,0,0,0,0,0,0,0,0,0,0,0,0,0,0,0],\"fOption\":\"\",\"fFunctions\":{\"_typename\":\"TList\",\"name\":\"TList\",\"arr\":[{\"_typename\":\"TPaletteAxis\",\"fUniqueID\":0,\"fBits\":50331648,\"fLineColor\":1,\"fLineStyle\":1,\"fLineWidth\":1,\"fFillColor\":1178,\"fFillStyle\":1001,\"fX1\":0.935812500086613,\"fY1\":0,\"fX2\":0.98812500086613,\"fY2\":0.93,\"fX1NDC\":0.904999994039535,\"fY1NDC\":0.100000005960465,\"fX2NDC\":0.949999994039535,\"fY2NDC\":0.899999994039535,\"fBorderSize\":4,\"fInit\":1,\"fShadowColor\":1,\"fCornerRadius\":0,\"fOption\":\"br\",\"fName\":\"TPave\",\"fAxis\":{\"_typename\":\"TGaxis\",\"fUniqueID\":0,\"fBits\":50331648,\"fLineColor\":1,\"fLineStyle\":1,\"fLineWidth\":1,\"fX1\":0,\"fY1\":0,\"fX2\":0,\"fY2\":0,\"fTextAngle\":0,\"fTextSize\":0.04,\"fTextAlign\":11,\"fTextColor\":1,\"fTextFont\":42,\"fWmin\":0,\"fWmax\":0,\"fGridLength\":0,\"fTickSize\":0.03,\"fLabelOffset\":0.005,\"fLabelSize\":0.035,\"fTitleOffset\":1,\"fTitleSize\":0.035,\"fNdiv\":0,\"fLabelColor\":1,\"fLabelFont\":42,\"fNModLabs\":0,\"fChopt\":\"\",\"fName\":\"\",\"fTitle\":\"\",\"fTimeFormat\":\"\",\"fFunctionName\":\"\",\"fModLabs\":null},\"fName\":\"palette\"}],\"opt\":[\"br\"]},\"fBufferSize\":0,\"fBuffer\":[],\"fBinStatErrOpt\":0,\"fStatOverflows\":2,\"fScalefactor\":1,\"fTsumwy\":5115.46484738494,\"fTsumwy2\":2226.34975709807,\"fTsumwxy\":2272.04348811417,\"fArray\":[0,0,0,0,0,0,0,0,0,0,0,0,0,0,0,0,0,0,0,0,0,0,0,1.75372677343087,57.6780337100235,92.6022340567635,49.8734402748797,10.4800815808057,3.23393641584016,0.982899613439665,0.665381184529312,0,0,0,0,0,0,0.278718187103891,0,0,0,0,0,0,0,0,39.4359314134877,308.541641748041,696.914035753053,610.572768633634,226.141003011138,76.4861573486218,21.3478015349249,6.40425150270175,4.35798209089568,0.358560412983558,0.502697828530325,0.484868058178422,0.331135202141538,0,0,0,0,0,0,0,0,0,1.38306261324807,15.0799531837127,159.820935913084,636.948861139274,979.067800604153,690.02368577632,293.402108051071,97.4647515299624,31.4013532568898,9.13275370831853,5.01546952334022,2.39711182597187,0.610852782851056,0,0,0.790953893456533,0,0,0,0,0,0,0,2.01777448921758,8.76006531902827,49.6813626830767,224.401441455553,661.922915040423,850.791151940141,550.936004869232,228.626006660748,90.4279512215439,36.2768149354425,10.7476808256187,3.63744011685717,2.05491042965574,0.677082822471833,0,0,0.337266057539063,0,0,0,0,0,1.22082746610491,5.07394280592925,6.14527737763908,19.5673232811919,73.8642145794976,231.045382540394,559.487248586076,628.924028694549,387.987548990077,185.158712729916,71.9720159825071,27.8935319748464,8.7101209831752,3.85911347723758,0.479400747192759,0.375274411927206,0,0,0,0,0,0,1.51001967694536,4.49096819054602,5.44384995183228,7.04233957938056,9.56970336388211,23.1422319566019,78.9339702227103,208.690289840945,413.168683507513,464.193272768648,287.111971312322,127.550935545308,42.6165838117035,13.0716498268103,5.72035088841393,1.28114677588828,0,0,0,0,0,0.340777809203403,0.656134910128714,1.87151133893474,0.973497248275335,5.02559841778256,4.67313209460812,9.75013254055975,12.4399814598082,22.3120814031959,63.7006551629091,163.695917008613,315.864827348749,288.79090177975,180.533032875276,66.0169005188249,24.5569171279194,5.72333691737902,1.34725528092212,0,0,0,0,0,0.853404992717694,2.06711056188708,3.45881980943992,2.48639189818812,4.81556055722943,4.06986865700578,4.91421634734138,9.44484143346049,10.9942274157263,23.4696234636235,43.0439117983128,114.277045045451,188.729642805724,163.502569925125,74.6140477401593,26.4910325517225,4.61182232378885,0.259413892447656,0,0,0,0,0,2.1985217866385,2.54432417384937,3.46638988045006,4.92580282851519,8.31879121969933,3.41493604381138,2.09876591331363,2.88957275378689,4.21967615825904,7.33095201276103,14.5500920549216,21.4498515655588,51.1961447219921,71.2780295403526,40.7775973687911,12.6763463973262,0,0,0,0,0,0,0.985582565260668,2.33197544593392,2.47173442524655,2.97556440964266,2.54415221386823,2.24806045737866,0.89740528512129,0.741504694945848,0.761745562843736,1.52138248400415,1.78243721666176,1.06184359938286,1.53991167026466,6.13092041899032,5.13513817565379,5.73159295224074,0,0,0,0,0,0,0,0,0,0,0,0,0,0,0,0,0,0,0,0,0,0,0,0]},{\"_typename\":\"TPaveText\",\"fUniqueID\":0,\"fBits\":50331657,\"fLineColor\":1,\"fLineStyle\":1,\"fLineWidth\":1,\"fFillColor\":0,\"fFillStyle\":0,\"fX1\":0.0581249939370897,\"fY1\":0.947332181579499,\"fX2\":0.87187500606291,\"fY2\":1.04043751411792,\"fX1NDC\":0.15,\"fY1NDC\":0.914909397326615,\"fX2NDC\":0.85,\"fY2NDC\":0.995000004768372,\"fBorderSize\":0,\"fInit\":1,\"fShadowColor\":1,\"fCornerRadius\":0,\"fOption\":\"blNDC\",\"fName\":\"title\",\"fTextAngle\":0,\"fTextSize\":0,\"fTextAlign\":22,\"fTextColor\":1,\"fTextFont\":42,\"fLabel\":\"\",\"fLongest\":42,\"fMargin\":0.05,\"fLines\":{\"_typename\":\"TList\",\"name\":\"TList\",\"arr\":[{\"_typename\":\"TLatex\",\"fUniqueID\":0,\"fBits\":50331648,\"fName\":\"\",\"fTitle\":\"Response Matrix #tau_{2,1}^{WTA} binning 5\",\"fTextAngle\":0,\"fTextSize\":0,\"fTextAlign\":0,\"fTextColor\":0,\"fTextFont\":0,\"fX\":0,\"fY\":0,\"fLineColor\":1,\"fLineStyle\":1,\"fLineWidth\":2,\"fLimitFactorSize\":3,\"fOriginSize\":0.0555050447583199}],\"opt\":[\"\"]}}],\"opt\":[\"\",\"colz\",\"blNDC\"]},\"fExecs\":{\"_typename\":\"TList\",\"name\":\"TList\",\"arr\":[],\"opt\":[]},\"fName\":\"c6_5\",\"fTitle\":\"c6_5\",\"fNumPaletteColor\":0,\"fNextPaletteColor\":0},{\"_typename\":\"TPad\",\"fUniqueID\":0,\"fBits\":50331657,\"fLineColor\":1,\"fLineStyle\":1,\"fLineWidth\":1,\"fFillColor\":0,\"fFillStyle\":1001,\"fLeftMargin\":0.1,\"fRightMargin\":0.1,\"fBottomMargin\":0.1,\"fTopMargin\":0.1,\"fXfile\":2,\"fYfile\":2,\"fAfile\":1,\"fXstat\":0.99,\"fYstat\":0.99,\"fAstat\":2,\"fFrameFillColor\":0,\"fFrameLineColor\":1,\"fFrameFillStyle\":1001,\"fFrameLineStyle\":1,\"fFrameLineWidth\":1,\"fFrameBorderSize\":1,\"fFrameBorderMode\":0,\"fX1\":-0.1162500086613,\"fY1\":-0.1162500086613,\"fX2\":1.0462500086613,\"fY2\":1.0462500086613,\"fXtoAbsPixelk\":846.768052019803,\"fXtoPixelk\":37.4747189537963,\"fXtoPixel\":322.362719670675,\"fYtoAbsPixelk\":657.850714890051,\"fYtoPixelk\":296.664048458524,\"fYtoPixel\":-283.549816967851,\"fUtoAbsPixelk\":809.293383066006,\"fUtoPixelk\":5e-5,\"fUtoPixel\":374.74666720132,\"fVtoAbsPixelk\":690.813383568473,\"fVtoPixelk\":329.626667136947,\"fVtoPixel\":-329.626667136947,\"fAbsPixeltoXk\":-2.62675536080865,\"fPixeltoXk\":-0.1162500086613,\"fPixeltoX\":0.00310209567974112,\"fAbsPixeltoYk\":2.32005321648519,\"fPixeltoYk\":-0.1162500086613,\"fPixeltoY\":-0.00352671714160683,\"fXlowNDC\":0.676666666443149,\"fYlowNDC\":0.343333333109816,\"fXUpNDC\":0,\"fYUpNDC\":0,\"fWNDC\":0.313333333780368,\"fHNDC\":0.313333333780368,\"fAbsXlowNDC\":0.676666666443149,\"fAbsYlowNDC\":0.343333333109816,\"fAbsWNDC\":0.313333333780368,\"fAbsHNDC\":0.313333333780368,\"fUxmin\":0,\"fUymin\":0,\"fUxmax\":0.93,\"fUymax\":0.93,\"fTheta\":30,\"fPhi\":30,\"fAspectRatio\":0,\"fNumber\":6,\"fTickx\":0,\"fTicky\":0,\"fLogx\":0,\"fLogy\":0,\"fLogz\":0,\"fPadPaint\":0,\"fCrosshair\":0,\"fCrosshairPos\":0,\"fBorderSize\":2,\"fBorderMode\":0,\"fModified\":false,\"fGridx\":false,\"fGridy\":false,\"fAbsCoord\":false,\"fEditable\":true,\"fFixedAspectRatio\":false,\"fPrimitives\":{\"_typename\":\"TList\",\"name\":\"TList\",\"arr\":[{\"_typename\":\"TFrame\",\"fUniqueID\":0,\"fBits\":50331656,\"fLineColor\":1,\"fLineStyle\":1,\"fLineWidth\":1,\"fFillColor\":0,\"fFillStyle\":1001,\"fX1\":0,\"fY1\":0,\"fX2\":0.93,\"fY2\":0.93,\"fBorderSize\":1,\"fBorderMode\":0},{\"_typename\":\"TH2D\",\"fUniqueID\":0,\"fBits\":50332168,\"fName\":\"response\",\"fTitle\":\"Response Matrix #tau_{2,1}^{WTA} binning 6\",\"fLineColor\":602,\"fLineStyle\":1,\"fLineWidth\":1,\"fFillColor\":0,\"fFillStyle\":1001,\"fMarkerColor\":1,\"fMarkerStyle\":1,\"fMarkerSize\":1,\"fNcells\":364,\"fXaxis\":{\"_typename\":\"TAxis\",\"fUniqueID\":0,\"fBits\":50331648,\"fName\":\"xaxis\",\"fTitle\":\"#tau_{2,1}^{1}(det_sig)\",\"fNdivisions\":510,\"fAxisColor\":1,\"fLabelColor\":1,\"fLabelFont\":42,\"fLabelOffset\":0.005,\"fLabelSize\":0.035,\"fTickLength\":0.03,\"fTitleOffset\":1,\"fTitleSize\":0.035,\"fTitleColor\":1,\"fTitleFont\":42,\"fNbins\":24,\"fXmin\":0,\"fXmax\":0.93,\"fXbins\":[0,0.06,0.12,0.154,0.188,0.222,0.256,0.29,0.324,0.358,0.392,0.426,0.46,0.494,0.528,0.562,0.596,0.63,0.664,0.698,0.732,0.766,0.8,0.865,0.93],\"fFirst\":0,\"fLast\":0,\"fBits2\":0,\"fTimeDisplay\":false,\"fTimeFormat\":\"\",\"fLabels\":null,\"fModLabs\":null},\"fYaxis\":{\"_typename\":\"TAxis\",\"fUniqueID\":0,\"fBits\":50331648,\"fName\":\"yaxis\",\"fTitle\":\"#tau_{2,1}^{1}(gen_sig)\",\"fNdivisions\":510,\"fAxisColor\":1,\"fLabelColor\":1,\"fLabelFont\":42,\"fLabelOffset\":0.005,\"fLabelSize\":0.035,\"fTickLength\":0.03,\"fTitleOffset\":0,\"fTitleSize\":0.035,\"fTitleColor\":1,\"fTitleFont\":42,\"fNbins\":12,\"fXmin\":0,\"fXmax\":0.93,\"fXbins\":[0,0.12,0.188,0.256,0.324,0.392,0.46,0.528,0.596,0.664,0.732,0.8,0.93],\"fFirst\":0,\"fLast\":0,\"fBits2\":0,\"fTimeDisplay\":false,\"fTimeFormat\":\"\",\"fLabels\":null,\"fModLabs\":null},\"fZaxis\":{\"_typename\":\"TAxis\",\"fUniqueID\":0,\"fBits\":50331648,\"fName\":\"zaxis\",\"fTitle\":\"\",\"fNdivisions\":510,\"fAxisColor\":1,\"fLabelColor\":1,\"fLabelFont\":42,\"fLabelOffset\":0.005,\"fLabelSize\":0.035,\"fTickLength\":0.03,\"fTitleOffset\":1,\"fTitleSize\":0.035,\"fTitleColor\":1,\"fTitleFont\":42,\"fNbins\":1,\"fXmin\":0,\"fXmax\":1,\"fXbins\":[],\"fFirst\":0,\"fLast\":0,\"fBits2\":0,\"fTimeDisplay\":false,\"fTimeFormat\":\"\",\"fLabels\":null,\"fModLabs\":null},\"fBarOffset\":0,\"fBarWidth\":1000,\"fEntries\":43107,\"fTsumw\":13901.1376293109,\"fTsumw2\":4887.05421222413,\"fTsumwx\":5365.7921764556,\"fTsumwx2\":2386.71922025455,\"fMaximum\":-1111,\"fMinimum\":-1111,\"fNormFactor\":0,\"fContour\":[0,33.016232988539,66.032465977078,99.048698965617,132.064931954156,165.081164942695,198.097397931234,231.113630919773,264.129863908312,297.146096896851,330.16232988539,363.178562873929,396.194795862468,429.211028851007,462.227261839546,495.243494828085,528.259727816624,561.275960805163,594.292193793702,627.308426782241],\"fSumw2\":[0,0,0,0,0,0,0,0,0,0,0,0,0,0,0,0,0,0,0,0,0,0,0,0,0,0,0,0.611598522983239,20.717463519631,25.7920424775972,18.6207569538403,6.69801732760163,2.91248869026912,0.331828039987536,0.32258305342612,0.106438310268282,0.115010742254715,0,0,0,0,0,0,0,0.0776838278224796,0,0,0,0,0,0,0,0,0,14.1732510515583,70.1252134521621,158.414529537052,142.18873620317,78.7067592920063,28.3000424019337,11.8786019264321,3.912580609298,2.10759011190198,0.713923098727148,0.853019360231158,0,0.252705106809104,0,0,0,0,0,0,0,0,0,0,0,0,0,1.21295193831169,5.92557464097889,41.4019049907823,142.994322717948,231.945051382899,189.628905917447,103.261427874216,44.8652310363677,15.0969341902538,7.23604349925326,2.50102843182516,1.09211276908038,0.417506706225249,0.235097033841714,0.213059765083762,0.109650522097317,0,0,0.192284948971075,0.124221577673165,0,0,0,0,0,0,0.03702521883579,0.391268050629542,3.79304931189435,16.5887430952927,67.8692465401135,162.126247958014,226.707842152193,174.509915053147,96.5211552629377,40.1715582123769,17.41729837919,6.95317877726772,4.4713896087399,1.34229839103183,1.38017373132451,0.131025318384219,0.236474618501603,0,0,0,0,0,0,0,0,0,0,0.21464465883675,0.63690099809648,2.19596389021233,7.0035635324589,23.3830674836835,73.1726407314186,158.514308046236,182.434382697003,132.776013034817,71.3125205774109,35.2748943255211,16.7968686838382,8.01194488655752,3.49271533023,0.330266853964546,0.47619639647139,0.489151172662395,0,0,0,0.113748393567943,0,0,0,0,0,0.506438442009114,0.363090316914067,1.46266867497793,0.923174886619346,4.43955643855286,11.5921904346479,23.4253639280932,76.5069403346519,127.967530134594,151.629377098739,101.295004909175,62.4907455001723,28.5740501128945,14.2542126151094,6.91434315175426,2.49321611805863,1.63818349284859,0.106699738938258,0.229825076408976,0.14083088424731,0,0,0,0,0,0,0.440995135550827,1.13021187821665,0.857595162296368,1.28650420085318,1.65185629659969,2.41343848028641,3.74903486912531,11.7535585811115,25.1268407928575,60.4445913916349,101.557421345337,114.627706267747,81.0565612551051,45.9962032342193,22.3604302213177,7.03253342287856,3.07686005104018,1.99695509133836,0.823689058345866,0.221760676085534,0,0,0,0,0,0,0,0.579552102251412,0.744217583497032,0.741380156514277,1.47171980475705,0.872479721569585,1.78284856375863,3.50684383039387,5.61308211514831,10.2525757465813,22.2372197287166,49.8526217980227,83.668703682174,88.9630953796907,50.8100604583476,30.788956146989,13.1764262296099,4.55429125216076,1.92623405728657,0.895405201107237,0.256588267312631,0,0,0,0,0.116129515245471,0.182235415172963,0.235421486680315,0.346321467911304,0.267850635051606,0.713430632398423,1.01440187748394,1.12048520185277,1.66394407115944,1.18319778446938,1.94890061343004,4.37125855672554,9.18786054384236,19.1601756090569,39.7305738693293,59.8036230017153,61.2021870595318,33.5182491879424,18.7233762186283,7.02730353891409,2.42298208005198,0.66701593614944,0,0,0,0,0,0,0.345654380349544,0.819404794082547,0.672348260251832,0.395995023841948,0.994445542266328,0.944137861637002,1.41661210110849,1.29002696723596,2.11575959565859,1.43533891959761,3.192259245927,3.63343499137748,6.52604786664498,13.2551863109145,26.8922539368869,33.3530188233944,33.0837557769707,16.1061206262889,6.45759254239678,1.80058949326953,0.0672955675948438,0,0,0,0,0,0.486987747718035,0.573534183626541,0.655674370346984,0.950301676519037,1.15814551587584,2.39156674740116,0.817442749241359,0.758816179686987,0.613487934636996,0.788304740131154,0.64296814807869,0.977154579628625,1.94702721043419,2.75927916328725,3.26295587642902,7.81342703525057,11.3434971159002,13.6710331678441,7.47611241469973,4.0275875122556,0,0,0,0,0,0,0.267919124895922,0.0645453298639303,1.1997107766419,0.540603718331113,0.853973336245375,0.858918007561342,0.635746686568726,0.23070783219109,0.189846159994148,0.285121041216995,0.14284233180021,0.376202863711543,0.363502720708582,0.651683932387372,0.250843616803271,0.463357996263026,1.30943290944219,1.36139293117214,1.42769172862853,2.14431571993548,0,0,0,0,0,0,0,0,0,0,0,0,0,0,0,0,0,0,0,0,0,0,0,0,0,0,0,0],\"fOption\":\"\",\"fFunctions\":{\"_typename\":\"TList\",\"name\":\"TList\",\"arr\":[{\"_typename\":\"TPaletteAxis\",\"fUniqueID\":0,\"fBits\":50331648,\"fLineColor\":1,\"fLineStyle\":1,\"fLineWidth\":1,\"fFillColor\":1178,\"fFillStyle\":1001,\"fX1\":0.935812500086613,\"fY1\":0,\"fX2\":0.98812500086613,\"fY2\":0.93,\"fX1NDC\":0.904999994039535,\"fY1NDC\":0.100000005960465,\"fX2NDC\":0.949999994039535,\"fY2NDC\":0.899999994039535,\"fBorderSize\":4,\"fInit\":1,\"fShadowColor\":1,\"fCornerRadius\":0,\"fOption\":\"br\",\"fName\":\"TPave\",\"fAxis\":{\"_typename\":\"TGaxis\",\"fUniqueID\":0,\"fBits\":50331648,\"fLineColor\":1,\"fLineStyle\":1,\"fLineWidth\":1,\"fX1\":0,\"fY1\":0,\"fX2\":0,\"fY2\":0,\"fTextAngle\":0,\"fTextSize\":0.04,\"fTextAlign\":11,\"fTextColor\":1,\"fTextFont\":42,\"fWmin\":0,\"fWmax\":0,\"fGridLength\":0,\"fTickSize\":0.03,\"fLabelOffset\":0.005,\"fLabelSize\":0.035,\"fTitleOffset\":1,\"fTitleSize\":0.035,\"fNdiv\":0,\"fLabelColor\":1,\"fLabelFont\":42,\"fNModLabs\":0,\"fChopt\":\"\",\"fName\":\"\",\"fTitle\":\"\",\"fTimeFormat\":\"\",\"fFunctionName\":\"\",\"fModLabs\":null},\"fName\":\"palette\"}],\"opt\":[\"br\"]},\"fBufferSize\":0,\"fBuffer\":[],\"fBinStatErrOpt\":0,\"fStatOverflows\":2,\"fScalefactor\":1,\"fTsumwy\":5115.46484738494,\"fTsumwy2\":2226.34975709807,\"fTsumwxy\":2272.04348811417,\"fArray\":[0,0,0,0,0,0,0,0,0,0,0,0,0,0,0,0,0,0,0,0,0,0,0,0,0,0,0,1.75372677343087,57.6780337100235,75.4805485156027,52.0873153556285,19.9025335093653,7.72240924510929,0.996885702583229,0.982899613439665,0.326248847152418,0.339132337376894,0,0,0,0,0,0,0,0.278718187103891,0,0,0,0,0,0,0,0,0,38.4889790988193,200.782392345389,451.797343677191,410.86274513661,226.005438185259,81.2985596824123,34.0240735299716,11.0461950458256,6.33940441667205,2.13788917161694,2.22243921971194,0,0.502697828530325,0,0,0,0,0,0,0,0,0,0,0,0,0,2.13759554522391,16.9335872486824,117.953162933394,405.147684857318,660.32465977078,543.297178174143,292.669287202954,125.076285478019,44.2118887057925,20.7400839227453,6.9998480639592,2.96740611435055,1.35369031507772,0.484868058178422,0.652777838225928,0.331135202141538,0,0,0.438503077493277,0.352450815963257,0,0,0,0,0,0,0.192419382692571,1.083097154988,10.7179036023407,45.9274271922472,194.248007776495,464.639175625815,645.170054998731,501.503081506661,276.818515483815,116.008442857474,50.6255382543119,21.0514927389553,12.6029929164424,4.15608064735906,3.94366047975226,0.361974195743591,0.683048441009368,0,0,0,0,0,0,0,0,0,0,0.655198981925773,1.76265429573094,6.84865507926825,20.466390637225,67.3519205228595,211.245537991519,448.881450744506,520.497666575358,379.003090304039,203.738990276411,100.659849284037,46.9663103338474,22.5145471808137,10.2509664763748,0.994282399483235,1.37186198864637,1.39692495322357,0,0,0,0.337266057539063,0,0,0,0,0,1.22082746610491,1.03628984986915,4.1409929966953,2.78545764447345,12.668264026615,31.2340918483339,68.5127256685445,215.659518808722,363.99878791612,428.120156010633,286.940214548449,175.734036763784,80.9683774575642,40.7131832971299,18.7846020428852,7.14608819818805,4.37665487165713,0.326649259815873,0.479400747192759,0.375274411927206,0,0,0,0,0,0,1.14655727489664,3.15142631542892,2.59217702446254,3.9450577803888,4.73212842455834,6.74453685420469,10.4538981934845,31.8197000766487,71.3186165053628,171.286150578957,286.455441773825,324.852568785095,231.555209160648,129.72345079401,63.4798548886207,20.1224943825882,9.18105250488369,5.319236093878,2.48993140447176,0.772289009874722,0,0,0,0,0,0,0,1.62392077193748,1.91329433197603,2.22981742524211,4.2516689830924,2.65136861903754,5.43975559373627,10.5946262799348,15.8837729821357,29.5106724809382,63.89853364779,141.130030873679,235.295040814876,250.02626818717,146.480825999152,86.5645087024428,37.9646900730309,12.8465642878922,5.42627051509401,2.73158125811984,0.869461389038177,0,0,0,0,0.340777809203403,0.426890401828108,0.685777225290231,1.00981812033381,0.733951501071657,2.06404351379794,3.33034946506778,3.32748218329165,4.76682481613562,3.71068512758449,6.00161369128408,11.9633569945034,26.1910170567256,53.6412578411275,111.020343150308,168.541353508081,171.988307160327,95.2265885544358,51.5466992320689,21.3733897706649,6.86627940611287,1.80237352586816,0,0,0,0,0,0,0.997643605973628,1.99335145719337,1.9465806082933,1.07295077137037,2.74798685461774,2.74183746655743,4.07892170375772,3.7466966925495,5.95448886243777,4.2431809740992,8.48520671323572,10.3572927272668,19.5941413635455,37.7811177651239,76.759334488831,94.0879666945288,91.5367152131216,44.0838744208204,19.1379926739416,5.06874762756173,0.259413892447656,0,0,0,0,0,1.39447724039741,1.67115435815638,1.80187623920543,2.70431904210144,3.36815489005023,5.97478378565273,2.23265782375728,2.09695895189342,1.73176540361066,2.29134207806046,1.9668766482031,2.78850443918984,5.25383420407605,7.8362147482426,9.41907899035911,21.368628955662,32.1019384145539,37.4576021289438,21.1858206249934,10.8948414595691,0,0,0,0,0,0,0.731524835868448,0.25405772939222,3.3304313139841,1.47327855719637,2.60261040979286,2.42030843122429,2.0991724174797,0.801735305685792,0.741355801828191,0.741504694945848,0.37794487931471,0.862235526568489,1.04294764096469,1.78243721666176,0.695300529780084,1.1756410155151,3.88188786213784,3.62588616242034,4.48909829443828,5.73159295224074,0,0,0,0,0,0,0,0,0,0,0,0,0,0,0,0,0,0,0,0,0,0,0,0,0,0,0,0]},{\"_typename\":\"TPaveText\",\"fUniqueID\":0,\"fBits\":50331657,\"fLineColor\":1,\"fLineStyle\":1,\"fLineWidth\":1,\"fFillColor\":0,\"fFillStyle\":0,\"fX1\":0.0581249939370897,\"fY1\":0.947332181579499,\"fX2\":0.87187500606291,\"fY2\":1.04043751411792,\"fX1NDC\":0.15,\"fY1NDC\":0.914909397326615,\"fX2NDC\":0.85,\"fY2NDC\":0.995000004768372,\"fBorderSize\":0,\"fInit\":1,\"fShadowColor\":1,\"fCornerRadius\":0,\"fOption\":\"blNDC\",\"fName\":\"title\",\"fTextAngle\":0,\"fTextSize\":0,\"fTextAlign\":22,\"fTextColor\":1,\"fTextFont\":42,\"fLabel\":\"\",\"fLongest\":42,\"fMargin\":0.05,\"fLines\":{\"_typename\":\"TList\",\"name\":\"TList\",\"arr\":[{\"_typename\":\"TLatex\",\"fUniqueID\":0,\"fBits\":50331648,\"fName\":\"\",\"fTitle\":\"Response Matrix #tau_{2,1}^{WTA} binning 6\",\"fTextAngle\":0,\"fTextSize\":0,\"fTextAlign\":0,\"fTextColor\":0,\"fTextFont\":0,\"fX\":0,\"fY\":0,\"fLineColor\":1,\"fLineStyle\":1,\"fLineWidth\":2,\"fLimitFactorSize\":3,\"fOriginSize\":0.0555050447583199}],\"opt\":[\"\"]}}],\"opt\":[\"\",\"colz\",\"blNDC\"]},\"fExecs\":{\"_typename\":\"TList\",\"name\":\"TList\",\"arr\":[],\"opt\":[]},\"fName\":\"c6_6\",\"fTitle\":\"c6_6\",\"fNumPaletteColor\":0,\"fNextPaletteColor\":0},{\"_typename\":\"TPad\",\"fUniqueID\":0,\"fBits\":50331657,\"fLineColor\":1,\"fLineStyle\":1,\"fLineWidth\":1,\"fFillColor\":0,\"fFillStyle\":1001,\"fLeftMargin\":0.1,\"fRightMargin\":0.1,\"fBottomMargin\":0.1,\"fTopMargin\":0.1,\"fXfile\":2,\"fYfile\":2,\"fAfile\":1,\"fXstat\":0.99,\"fYstat\":0.99,\"fAstat\":2,\"fFrameFillColor\":0,\"fFrameLineColor\":1,\"fFrameFillStyle\":1001,\"fFrameLineStyle\":1,\"fFrameLineWidth\":1,\"fFrameBorderSize\":1,\"fFrameBorderMode\":0,\"fX1\":-0.1162500086613,\"fY1\":-0.1162500086613,\"fX2\":1.0462500086613,\"fY2\":1.0462500086613,\"fXtoAbsPixelk\":49.4347186864695,\"fXtoPixelk\":37.4747189537963,\"fXtoPixel\":322.362719670675,\"fYtoAbsPixelk\":1008.51738155672,\"fYtoPixelk\":296.664048458524,\"fYtoPixel\":-283.549816967851,\"fUtoAbsPixelk\":11.9600497326732,\"fUtoPixelk\":5e-5,\"fUtoPixel\":374.74666720132,\"fVtoAbsPixelk\":1041.48005023514,\"fVtoPixelk\":329.626667136947,\"fVtoPixel\":-329.626667136947,\"fAbsPixeltoXk\":-0.153351072161731,\"fPixeltoXk\":-0.1162500086613,\"fPixeltoX\":0.00310209567974113,\"fAbsPixeltoYk\":3.55675536080866,\"fPixeltoYk\":-0.1162500086613,\"fPixeltoY\":-0.00352671714160683,\"fXlowNDC\":0.00999999977648258,\"fYlowNDC\":0.00999999977648264,\"fXUpNDC\":0,\"fYUpNDC\":0,\"fWNDC\":0.313333333780368,\"fHNDC\":0.313333333780368,\"fAbsXlowNDC\":0.00999999977648258,\"fAbsYlowNDC\":0.00999999977648264,\"fAbsWNDC\":0.313333333780368,\"fAbsHNDC\":0.313333333780368,\"fUxmin\":0,\"fUymin\":0,\"fUxmax\":0.93,\"fUymax\":0.93,\"fTheta\":30,\"fPhi\":30,\"fAspectRatio\":0,\"fNumber\":7,\"fTickx\":0,\"fTicky\":0,\"fLogx\":0,\"fLogy\":0,\"fLogz\":0,\"fPadPaint\":0,\"fCrosshair\":0,\"fCrosshairPos\":0,\"fBorderSize\":2,\"fBorderMode\":0,\"fModified\":false,\"fGridx\":false,\"fGridy\":false,\"fAbsCoord\":false,\"fEditable\":true,\"fFixedAspectRatio\":false,\"fPrimitives\":{\"_typename\":\"TList\",\"name\":\"TList\",\"arr\":[{\"_typename\":\"TFrame\",\"fUniqueID\":0,\"fBits\":50331656,\"fLineColor\":1,\"fLineStyle\":1,\"fLineWidth\":1,\"fFillColor\":0,\"fFillStyle\":1001,\"fX1\":0,\"fY1\":0,\"fX2\":0.93,\"fY2\":0.93,\"fBorderSize\":1,\"fBorderMode\":0},{\"_typename\":\"TH2D\",\"fUniqueID\":0,\"fBits\":50332168,\"fName\":\"response\",\"fTitle\":\"Response Matrix #tau_{2,1}^{WTA} binning 7\",\"fLineColor\":602,\"fLineStyle\":1,\"fLineWidth\":1,\"fFillColor\":0,\"fFillStyle\":1001,\"fMarkerColor\":1,\"fMarkerStyle\":1,\"fMarkerSize\":1,\"fNcells\":144,\"fXaxis\":{\"_typename\":\"TAxis\",\"fUniqueID\":0,\"fBits\":50331648,\"fName\":\"xaxis\",\"fTitle\":\"#tau_{2,1}^{1}(det_sig)\",\"fNdivisions\":510,\"fAxisColor\":1,\"fLabelColor\":1,\"fLabelFont\":42,\"fLabelOffset\":0.005,\"fLabelSize\":0.035,\"fTickLength\":0.03,\"fTitleOffset\":1,\"fTitleSize\":0.035,\"fTitleColor\":1,\"fTitleFont\":42,\"fNbins\":14,\"fXmin\":0,\"fXmax\":0.93,\"fXbins\":[0,0.06,0.12,0.185,0.25,0.315,0.38,0.445,0.51,0.575,0.64,0.705,0.77,0.85,0.93],\"fFirst\":0,\"fLast\":0,\"fBits2\":0,\"fTimeDisplay\":false,\"fTimeFormat\":\"\",\"fLabels\":null,\"fModLabs\":null},\"fYaxis\":{\"_typename\":\"TAxis\",\"fUniqueID\":0,\"fBits\":50331648,\"fName\":\"yaxis\",\"fTitle\":\"#tau_{2,1}^{1}(gen_sig)\",\"fNdivisions\":510,\"fAxisColor\":1,\"fLabelColor\":1,\"fLabelFont\":42,\"fLabelOffset\":0.005,\"fLabelSize\":0.035,\"fTickLength\":0.03,\"fTitleOffset\":0,\"fTitleSize\":0.035,\"fTitleColor\":1,\"fTitleFont\":42,\"fNbins\":7,\"fXmin\":0,\"fXmax\":0.93,\"fXbins\":[0,0.12,0.25,0.38,0.51,0.64,0.77,0.93],\"fFirst\":0,\"fLast\":0,\"fBits2\":0,\"fTimeDisplay\":false,\"fTimeFormat\":\"\",\"fLabels\":null,\"fModLabs\":null},\"fZaxis\":{\"_typename\":\"TAxis\",\"fUniqueID\":0,\"fBits\":50331648,\"fName\":\"zaxis\",\"fTitle\":\"\",\"fNdivisions\":510,\"fAxisColor\":1,\"fLabelColor\":1,\"fLabelFont\":42,\"fLabelOffset\":0.005,\"fLabelSize\":0.035,\"fTickLength\":0.03,\"fTitleOffset\":1,\"fTitleSize\":0.035,\"fTitleColor\":1,\"fTitleFont\":42,\"fNbins\":1,\"fXmin\":0,\"fXmax\":1,\"fXbins\":[],\"fFirst\":0,\"fLast\":0,\"fBits2\":0,\"fTimeDisplay\":false,\"fTimeFormat\":\"\",\"fLabels\":null,\"fModLabs\":null},\"fBarOffset\":0,\"fBarWidth\":1000,\"fEntries\":43107,\"fTsumw\":13901.1376293109,\"fTsumw2\":4887.05421222413,\"fTsumwx\":5365.7921764556,\"fTsumwx2\":2386.71922025455,\"fMaximum\":-1111,\"fMinimum\":-1111,\"fNormFactor\":0,\"fContour\":[0,83.6217140613496,167.243428122699,250.865142184049,334.486856245398,418.108570306748,501.730284368098,585.351998429447,668.973712490797,752.595426552146,836.217140613496,919.838854674845,1003.4605687362,1087.08228279754,1170.70399685889,1254.32571092024,1337.94742498159,1421.56913904294,1505.19085310429,1588.81256716564],\"fSumw2\":[0,0,0,0,0,0,0,0,0,0,0,0,0,0,0,0,0,0.611598522983239,20.717463519631,43.0095720422125,10.6351038799649,0.916911105298985,0.337578567768468,0,0,0,0.0776838278224796,0,0,0,0,0,0,0,15.38620298987,255.982707342343,550.706480431394,315.200599206412,71.13808015874,12.1270689533039,2.23732741383243,0.710520617669424,0.215922559746317,0,0.31650652664424,0,0,0,0,0,0.03702521883579,4.92013427920543,87.0664765669066,464.977075248975,584.401312172845,273.748149831473,65.2466878985577,16.4776486709954,2.37618586833423,0.967261750287804,0,0.113748393567943,0,0,0,0,0,1.62567844450056,4.59174606452164,19.6154496711596,105.735564623985,356.561840338297,371.695958691657,178.314866376999,44.9427007423568,8.94293571136643,1.57764658395347,0.159580490619178,0,0,0,0,0.116129515245471,1.4934208234409,1.94127725597449,3.63085431483288,8.0170333024353,19.6956032068554,89.9086964150803,239.097788969262,215.320125710068,82.5656297985298,17.4812533347269,2.32212717558634,0,0,0,0,0,0.48409311943119,2.49910195626742,3.38663578184117,4.73003675348592,3.8738477848557,6.28895783042756,15.6440544316641,51.3747507302029,102.505319911952,71.9102715138593,14.2070382254762,0.12982569936825,0,0,0,0,0.387594931025503,1.4566567879377,2.04188480821783,3.06109585448903,1.370794279774,0.631771874499586,1.2094001051432,2.45527797408823,3.44810676994681,9.69688068006253,7.94666400624283,0.30120928677784,0,0,0,0,0,0,0,0,0,0,0,0,0,0,0,0,0],\"fOption\":\"\",\"fFunctions\":{\"_typename\":\"TList\",\"name\":\"TList\",\"arr\":[{\"_typename\":\"TPaletteAxis\",\"fUniqueID\":0,\"fBits\":50331648,\"fLineColor\":1,\"fLineStyle\":1,\"fLineWidth\":1,\"fFillColor\":1178,\"fFillStyle\":1001,\"fX1\":0.935812500086613,\"fY1\":0,\"fX2\":0.98812500086613,\"fY2\":0.93,\"fX1NDC\":0.904999994039535,\"fY1NDC\":0.100000005960465,\"fX2NDC\":0.949999994039535,\"fY2NDC\":0.899999994039535,\"fBorderSize\":4,\"fInit\":1,\"fShadowColor\":1,\"fCornerRadius\":0,\"fOption\":\"br\",\"fName\":\"TPave\",\"fAxis\":{\"_typename\":\"TGaxis\",\"fUniqueID\":0,\"fBits\":50331648,\"fLineColor\":1,\"fLineStyle\":1,\"fLineWidth\":1,\"fX1\":0,\"fY1\":0,\"fX2\":0,\"fY2\":0,\"fTextAngle\":0,\"fTextSize\":0.04,\"fTextAlign\":11,\"fTextColor\":1,\"fTextFont\":42,\"fWmin\":0,\"fWmax\":0,\"fGridLength\":0,\"fTickSize\":0.03,\"fLabelOffset\":0.005,\"fLabelSize\":0.035,\"fTitleOffset\":1,\"fTitleSize\":0.035,\"fNdiv\":0,\"fLabelColor\":1,\"fLabelFont\":42,\"fNModLabs\":0,\"fChopt\":\"\",\"fName\":\"\",\"fTitle\":\"\",\"fTimeFormat\":\"\",\"fFunctionName\":\"\",\"fModLabs\":null},\"fName\":\"palette\"}],\"opt\":[\"br\"]},\"fBufferSize\":0,\"fBuffer\":[],\"fBinStatErrOpt\":0,\"fStatOverflows\":2,\"fScalefactor\":1,\"fTsumwy\":5115.46484738494,\"fTsumwy2\":2226.34975709807,\"fTsumwxy\":2272.04348811417,\"fArray\":[0,0,0,0,0,0,0,0,0,0,0,0,0,0,0,0,0,1.75372677343087,57.6780337100235,123.707089702674,30.4255766884872,2.69914774136423,1.00615899373271,0,0,0,0.278718187103891,0,0,0,0,0,0,0,40.6265746440432,730.816991471246,1574.72330693136,899.503468293445,200.765007584346,34.5808537868103,6.29357565869992,1.65483585124647,0.657129124859431,0,0.790953893456533,0,0,0,0,0,0.192419382692571,13.9005306432953,249.145582455232,1325.99182103673,1672.43428122699,786.12100697026,187.210937763124,46.8809014637555,7.18606663995861,2.76703119382025,0,0.337266057539063,0,0,0,0,0,4.35628025550376,13.4708849837892,54.5795354847693,301.175685661447,1009.98063914471,1051.90073591781,504.59411806664,126.864998667471,24.723943096291,4.24129704443485,0.51220361396924,0,0,0,0,0.340777809203403,3.96027895085148,5.53140446041484,10.8347840615073,23.0681373656667,56.8152982827616,253.031666279228,673.570442757247,609.41311108839,234.554003003604,49.572477649288,6.98997107695065,0,0,0,0,0,1.36971717273381,6.93271592300838,9.54415581569137,13.0178032217706,11.3278548571061,18.6784207584585,44.1001663076536,145.130720196389,290.623206430371,200.576950815061,40.4050909157194,0.509474148732829,0,0,0,0,1.07746674736456,4.02559611477457,5.99943955805538,8.51561568084855,4.10734883607673,1.75736874327567,3.27254992787711,6.95889234502827,9.18514870242011,26.6586592662523,22.2056211561476,0.945977078249644,0,0,0,0,0,0,0,0,0,0,0,0,0,0,0,0,0]},{\"_typename\":\"TPaveText\",\"fUniqueID\":0,\"fBits\":50331657,\"fLineColor\":1,\"fLineStyle\":1,\"fLineWidth\":1,\"fFillColor\":0,\"fFillStyle\":0,\"fX1\":0.0581249939370897,\"fY1\":0.947332181579499,\"fX2\":0.87187500606291,\"fY2\":1.04043751411792,\"fX1NDC\":0.15,\"fY1NDC\":0.914909397326615,\"fX2NDC\":0.85,\"fY2NDC\":0.995000004768372,\"fBorderSize\":0,\"fInit\":1,\"fShadowColor\":1,\"fCornerRadius\":0,\"fOption\":\"blNDC\",\"fName\":\"title\",\"fTextAngle\":0,\"fTextSize\":0,\"fTextAlign\":22,\"fTextColor\":1,\"fTextFont\":42,\"fLabel\":\"\",\"fLongest\":42,\"fMargin\":0.05,\"fLines\":{\"_typename\":\"TList\",\"name\":\"TList\",\"arr\":[{\"_typename\":\"TLatex\",\"fUniqueID\":0,\"fBits\":50331648,\"fName\":\"\",\"fTitle\":\"Response Matrix #tau_{2,1}^{WTA} binning 7\",\"fTextAngle\":0,\"fTextSize\":0,\"fTextAlign\":0,\"fTextColor\":0,\"fTextFont\":0,\"fX\":0,\"fY\":0,\"fLineColor\":1,\"fLineStyle\":1,\"fLineWidth\":2,\"fLimitFactorSize\":3,\"fOriginSize\":0.0555050447583199}],\"opt\":[\"\"]}}],\"opt\":[\"\",\"colz\",\"blNDC\"]},\"fExecs\":{\"_typename\":\"TList\",\"name\":\"TList\",\"arr\":[],\"opt\":[]},\"fName\":\"c6_7\",\"fTitle\":\"c6_7\",\"fNumPaletteColor\":0,\"fNextPaletteColor\":0},{\"_typename\":\"TPad\",\"fUniqueID\":0,\"fBits\":50331657,\"fLineColor\":1,\"fLineStyle\":1,\"fLineWidth\":1,\"fFillColor\":0,\"fFillStyle\":1001,\"fLeftMargin\":0.1,\"fRightMargin\":0.1,\"fBottomMargin\":0.1,\"fTopMargin\":0.1,\"fXfile\":2,\"fYfile\":2,\"fAfile\":1,\"fXstat\":0.99,\"fYstat\":0.99,\"fAstat\":2,\"fFrameFillColor\":0,\"fFrameLineColor\":1,\"fFrameFillStyle\":1001,\"fFrameLineStyle\":1,\"fFrameLineWidth\":1,\"fFrameBorderSize\":1,\"fFrameBorderMode\":0,\"fX1\":-0.1162500086613,\"fY1\":-0.1162500086613,\"fX2\":1.0462500086613,\"fY2\":1.0462500086613,\"fXtoAbsPixelk\":448.101385353136,\"fXtoPixelk\":37.4747189537963,\"fXtoPixel\":322.362719670675,\"fYtoAbsPixelk\":1008.51738155672,\"fYtoPixelk\":296.664048458524,\"fYtoPixel\":-283.549816967851,\"fUtoAbsPixelk\":410.62671639934,\"fUtoPixelk\":5e-5,\"fUtoPixel\":374.74666720132,\"fVtoAbsPixelk\":1041.48005023514,\"fVtoPixelk\":329.626667136947,\"fVtoPixel\":-329.626667136947,\"fAbsPixeltoXk\":-1.39005321648519,\"fPixeltoXk\":-0.1162500086613,\"fPixeltoX\":0.00310209567974113,\"fAbsPixeltoYk\":3.55675536080866,\"fPixeltoYk\":-0.1162500086613,\"fPixeltoY\":-0.00352671714160683,\"fXlowNDC\":0.343333333109816,\"fYlowNDC\":0.00999999977648264,\"fXUpNDC\":0,\"fYUpNDC\":0,\"fWNDC\":0.313333333780368,\"fHNDC\":0.313333333780368,\"fAbsXlowNDC\":0.343333333109816,\"fAbsYlowNDC\":0.00999999977648264,\"fAbsWNDC\":0.313333333780368,\"fAbsHNDC\":0.313333333780368,\"fUxmin\":0,\"fUymin\":0,\"fUxmax\":0.93,\"fUymax\":0.93,\"fTheta\":30,\"fPhi\":30,\"fAspectRatio\":0,\"fNumber\":8,\"fTickx\":0,\"fTicky\":0,\"fLogx\":0,\"fLogy\":0,\"fLogz\":0,\"fPadPaint\":0,\"fCrosshair\":0,\"fCrosshairPos\":0,\"fBorderSize\":2,\"fBorderMode\":0,\"fModified\":false,\"fGridx\":false,\"fGridy\":false,\"fAbsCoord\":false,\"fEditable\":true,\"fFixedAspectRatio\":false,\"fPrimitives\":{\"_typename\":\"TList\",\"name\":\"TList\",\"arr\":[{\"_typename\":\"TFrame\",\"fUniqueID\":0,\"fBits\":50331656,\"fLineColor\":1,\"fLineStyle\":1,\"fLineWidth\":1,\"fFillColor\":0,\"fFillStyle\":1001,\"fX1\":0,\"fY1\":0,\"fX2\":0.93,\"fY2\":0.93,\"fBorderSize\":1,\"fBorderMode\":0},{\"_typename\":\"TH2D\",\"fUniqueID\":0,\"fBits\":50332168,\"fName\":\"response\",\"fTitle\":\"Response Matrix #tau_{2,1}^{WTA} binning 8\",\"fLineColor\":602,\"fLineStyle\":1,\"fLineWidth\":1,\"fFillColor\":0,\"fFillStyle\":1001,\"fMarkerColor\":1,\"fMarkerStyle\":1,\"fMarkerSize\":1,\"fNcells\":264,\"fXaxis\":{\"_typename\":\"TAxis\",\"fUniqueID\":0,\"fBits\":50331648,\"fName\":\"xaxis\",\"fTitle\":\"#tau_{2,1}^{1}(det_sig)\",\"fNdivisions\":510,\"fAxisColor\":1,\"fLabelColor\":1,\"fLabelFont\":42,\"fLabelOffset\":0.005,\"fLabelSize\":0.035,\"fTickLength\":0.03,\"fTitleOffset\":1,\"fTitleSize\":0.035,\"fTitleColor\":1,\"fTitleFont\":42,\"fNbins\":20,\"fXmin\":0,\"fXmax\":0.93,\"fXbins\":[0,0.06,0.12,0.160625,0.20125,0.241875,0.2825,0.323125,0.36375,0.404375,0.445,0.485625,0.52625,0.566875,0.6075,0.648125,0.68875,0.729375,0.77,0.85,0.93],\"fFirst\":0,\"fLast\":0,\"fBits2\":0,\"fTimeDisplay\":false,\"fTimeFormat\":\"\",\"fLabels\":null,\"fModLabs\":null},\"fYaxis\":{\"_typename\":\"TAxis\",\"fUniqueID\":0,\"fBits\":50331648,\"fName\":\"yaxis\",\"fTitle\":\"#tau_{2,1}^{1}(gen_sig)\",\"fNdivisions\":510,\"fAxisColor\":1,\"fLabelColor\":1,\"fLabelFont\":42,\"fLabelOffset\":0.005,\"fLabelSize\":0.035,\"fTickLength\":0.03,\"fTitleOffset\":0,\"fTitleSize\":0.035,\"fTitleColor\":1,\"fTitleFont\":42,\"fNbins\":10,\"fXmin\":0,\"fXmax\":0.93,\"fXbins\":[0,0.12,0.20125,0.2825,0.36375,0.445,0.52625,0.6075,0.68875,0.77,0.93],\"fFirst\":0,\"fLast\":0,\"fBits2\":0,\"fTimeDisplay\":false,\"fTimeFormat\":\"\",\"fLabels\":null,\"fModLabs\":null},\"fZaxis\":{\"_typename\":\"TAxis\",\"fUniqueID\":0,\"fBits\":50331648,\"fName\":\"zaxis\",\"fTitle\":\"\",\"fNdivisions\":510,\"fAxisColor\":1,\"fLabelColor\":1,\"fLabelFont\":42,\"fLabelOffset\":0.005,\"fLabelSize\":0.035,\"fTickLength\":0.03,\"fTitleOffset\":1,\"fTitleSize\":0.035,\"fTitleColor\":1,\"fTitleFont\":42,\"fNbins\":1,\"fXmin\":0,\"fXmax\":1,\"fXbins\":[],\"fFirst\":0,\"fLast\":0,\"fBits2\":0,\"fTimeDisplay\":false,\"fTimeFormat\":\"\",\"fLabels\":null,\"fModLabs\":null},\"fBarOffset\":0,\"fBarWidth\":1000,\"fEntries\":43107,\"fTsumw\":13901.1376293109,\"fTsumw2\":4887.05421222413,\"fTsumwx\":5365.7921764556,\"fTsumwx2\":2386.71922025455,\"fMaximum\":-1111,\"fMinimum\":-1111,\"fNormFactor\":0,\"fContour\":[0,44.6409117443941,89.2818234887883,133.922735233182,178.563646977577,223.204558721971,267.845470466365,312.486382210759,357.127293955153,401.768205699547,446.409117443941,491.050029188336,535.69094093273,580.331852677124,624.972764421518,669.613676165912,714.254587910306,758.8954996547,803.536411399095,848.177323143489],\"fSumw2\":[0,0,0,0,0,0,0,0,0,0,0,0,0,0,0,0,0,0,0,0,0,0,0,0.611598522983239,20.717463519631,30.7478745005562,18.0717269891849,3.66001329278508,1.7569967948481,0.441104965347661,0.221449052522997,0,0,0,0,0,0,0.0776838278224796,0,0,0,0,0,0,0,0,14.1824828475468,99.617440771482,222.650624143867,197.563611563394,79.6092724184421,27.2105826932604,8.28445632200673,2.63410297266773,0.981984278420929,0.374835228015086,0.252705106809104,0.235097033841714,0.109650522097317,0,0,0,0,0,0,0,0,0,1.24074536115899,5.79612422453694,50.5953654457093,212.713666345126,312.212366284423,235.561826197903,104.398823124755,34.073613826408,11.6315532821719,5.08446824881795,1.82046810800489,0.842348442052311,0.565360823516642,0,0,0.192284948971075,0.124221577673165,0,0,0,0,0,0,0.4979677895678,3.38547742750966,16.2966116419035,76.2160305965728,218.865604712744,283.469742991694,195.749986408827,86.2117017089997,26.7820126225231,14.1625946730367,4.37642367241602,2.08114779101803,0.576429070190586,0.352286107079235,0,0,0.113748393567943,0,0,0,0,0,0.614383361907607,1.25811989870943,2.45641946339396,6.98636111319718,24.6942941863084,78.3973463478406,189.512224434943,212.739627196019,138.723836115943,70.7459963390396,29.4112315822726,10.4571861414783,4.05764482259778,1.93717157272159,0.296631135690829,0.229825076408976,0.14083088424731,0,0,0,0,0,0.440995135550827,1.89077943314605,1.53549463641197,2.60160700963661,3.91431369478553,7.61131297774237,26.6295572392009,70.1428585441286,145.376661246568,158.103362049627,101.642813173134,51.2139864156914,18.175405414528,5.29739023135736,1.98322794914709,1.02157319842879,0.221760676085534,0,0,0,0,0,0.110542569886366,0.595551682346463,1.08978352117924,1.66164501458725,1.49563425481269,2.52597976468594,5.51079508448311,8.91739923578143,22.747872546438,61.0712863834084,111.010827869348,113.734219722492,64.9929361118296,29.4805055705246,9.32799465662824,3.08349011930316,1.26922704839028,0,0,0,0,0.116129515245471,0.182235415172963,0.563739518452496,0.793986021319093,0.318335073382293,0.940928183586362,1.80545130268027,1.47901544536023,2.76707406719653,3.57833657279752,8.27963101520525,17.6737380816209,43.9103228671882,75.1956282161668,69.7096114516371,34.4205696992412,11.4180897259948,5.27746881859648,0,0,0,0,0,0.181914696241711,0.633035105670664,0.780998528268213,1.58672675435117,1.81188267842794,2.43957404568546,1.43138471241698,0.872423112197866,1.26346493324793,2.53093235638142,3.20581539026821,6.6437903380106,10.5943020408493,22.7635239934092,35.2041370048896,27.6717149505951,9.77945846436211,0.12982569936825,0,0,0,0,0,0.387594931025503,1.4566567879377,1.21342760717587,1.17618034877667,1.91148896325085,1.32537268005538,0.847305343222084,0.542182081971735,0.0895897925278513,1.00622251338569,1.18454011657898,1.55237949036477,1.34919234152278,4.57739137866368,7.13993968872486,7.94666400624283,0.30120928677784,0,0,0,0,0,0,0,0,0,0,0,0,0,0,0,0,0,0,0,0,0,0,0],\"fOption\":\"\",\"fFunctions\":{\"_typename\":\"TList\",\"name\":\"TList\",\"arr\":[{\"_typename\":\"TPaletteAxis\",\"fUniqueID\":0,\"fBits\":50331648,\"fLineColor\":1,\"fLineStyle\":1,\"fLineWidth\":1,\"fFillColor\":1178,\"fFillStyle\":1001,\"fX1\":0.935812500086613,\"fY1\":0,\"fX2\":0.98812500086613,\"fY2\":0.93,\"fX1NDC\":0.904999994039535,\"fY1NDC\":0.100000005960465,\"fX2NDC\":0.949999994039535,\"fY2NDC\":0.899999994039535,\"fBorderSize\":4,\"fInit\":1,\"fShadowColor\":1,\"fCornerRadius\":0,\"fOption\":\"br\",\"fName\":\"TPave\",\"fAxis\":{\"_typename\":\"TGaxis\",\"fUniqueID\":0,\"fBits\":50331648,\"fLineColor\":1,\"fLineStyle\":1,\"fLineWidth\":1,\"fX1\":0,\"fY1\":0,\"fX2\":0,\"fY2\":0,\"fTextAngle\":0,\"fTextSize\":0.04,\"fTextAlign\":11,\"fTextColor\":1,\"fTextFont\":42,\"fWmin\":0,\"fWmax\":0,\"fGridLength\":0,\"fTickSize\":0.03,\"fLabelOffset\":0.005,\"fLabelSize\":0.035,\"fTitleOffset\":1,\"fTitleSize\":0.035,\"fNdiv\":0,\"fLabelColor\":1,\"fLabelFont\":42,\"fNModLabs\":0,\"fChopt\":\"\",\"fName\":\"\",\"fTitle\":\"\",\"fTimeFormat\":\"\",\"fFunctionName\":\"\",\"fModLabs\":null},\"fName\":\"palette\"}],\"opt\":[\"br\"]},\"fBufferSize\":0,\"fBuffer\":[],\"fBinStatErrOpt\":0,\"fStatOverflows\":2,\"fScalefactor\":1,\"fTsumwy\":5115.46484738494,\"fTsumwy2\":2226.34975709807,\"fTsumwxy\":2272.04348811417,\"fArray\":[0,0,0,0,0,0,0,0,0,0,0,0,0,0,0,0,0,0,0,0,0,0,0,1.75372677343087,57.6780337100235,89.4738783536316,51.1812715109501,10.7005254840912,4.4897468648494,1.32716972820646,0.665381184529312,0,0,0,0,0,0,0.278718187103891,0,0,0,0,0,0,0,0,38.5850613343703,285.360303770442,637.165385105401,567.655832366107,229.009863646207,78.4176491451074,23.4427013488259,7.5899983388066,2.86527063039162,1.05391658196397,0.502697828530325,0.484868058178422,0.331135202141538,0,0,0,0,0,0,0,0,0,2.23393269236544,16.469887244545,143.946989249578,600.511530540948,892.818234887883,668.644576503846,297.313324743278,98.4066461665735,33.0694596592805,15.2471304652936,5.08980674917516,2.58137655234695,1.6748994071789,0,0,0.438503077493277,0.352450815963257,0,0,0,0,0,0,1.40974641480387,10.3325419790938,46.5478661267358,219.656858972071,625.022497451321,809.133698665699,559.490966929056,249.217993920515,79.4426237466676,39.4715113680078,13.5056591201365,6.17263172338229,1.68834345784957,1.02703756331349,0,0,0.337266057539063,0,0,0,0,0,1.54937718821481,3.47310151428972,7.07657338691291,20.1034897704409,70.4662247685581,224.168044946149,536.953939042968,603.125567848571,389.474591574004,199.606891483735,82.4727399954333,30.0373293989348,11.6835367877416,5.16939417224608,0.942950585122713,0.479400747192759,0.375274411927206,0,0,0,0,0,1.14655727489664,5.5193581397478,4.86649764029264,7.61767717609444,10.8940217165545,21.8984920297003,74.0058506136674,200.638746144446,411.98720823473,446.968311223804,290.466019298244,143.757516064027,51.0355470347945,15.4444803555791,5.84864850345659,2.93959806622049,0.772289009874722,0,0,0,0,0,0.332479427764134,1.64716897872177,2.93371397492851,4.82411919093462,4.57373431299089,7.53046158699134,16.6617723878916,25.4676507192456,64.86240383178,171.597984010534,313.449813703138,320.614597319098,184.826583825224,83.6761843184283,26.166446291766,8.7811890046738,3.64175643813796,0,0,0,0,0.340777809203403,0.426890401828108,1.49598154680304,2.16060128085685,0.976135627316332,2.89630597327676,5.34380403395987,4.34911685406664,8.02071265655237,10.4711461577641,24.1093572314883,49.3878534737147,123.809169779461,213.353763836771,196.240223813932,96.8209390727459,33.5082201038472,15.562176179604,0,0,0,0,0,0.426514590889586,1.93901286828814,2.24322267613027,4.32765738153858,5.10608819557537,6.40217402906083,4.25505804738242,2.60430629042125,3.53774230779696,6.99922653119548,9.24620970336142,18.8279946230885,29.7613964190425,63.4241229583271,97.4281755770179,76.7381905301638,27.5557695670953,0.509474148732829,0,0,0,0,0,1.07746674736456,4.02559611477457,3.42814117451566,3.59246128839886,5.13121268798938,3.80777233147807,2.66281659259869,1.45805320320491,0.299315540070761,2.63542045218911,3.23647869690252,4.63965745957329,3.63555609099048,12.6459409719767,19.2821965699458,22.2056211561476,0.945977078249644,0,0,0,0,0,0,0,0,0,0,0,0,0,0,0,0,0,0,0,0,0,0,0]},{\"_typename\":\"TPaveText\",\"fUniqueID\":0,\"fBits\":50331657,\"fLineColor\":1,\"fLineStyle\":1,\"fLineWidth\":1,\"fFillColor\":0,\"fFillStyle\":0,\"fX1\":0.0581249939370897,\"fY1\":0.947332181579499,\"fX2\":0.87187500606291,\"fY2\":1.04043751411792,\"fX1NDC\":0.15,\"fY1NDC\":0.914909397326615,\"fX2NDC\":0.85,\"fY2NDC\":0.995000004768372,\"fBorderSize\":0,\"fInit\":1,\"fShadowColor\":1,\"fCornerRadius\":0,\"fOption\":\"blNDC\",\"fName\":\"title\",\"fTextAngle\":0,\"fTextSize\":0,\"fTextAlign\":22,\"fTextColor\":1,\"fTextFont\":42,\"fLabel\":\"\",\"fLongest\":42,\"fMargin\":0.05,\"fLines\":{\"_typename\":\"TList\",\"name\":\"TList\",\"arr\":[{\"_typename\":\"TLatex\",\"fUniqueID\":0,\"fBits\":50331648,\"fName\":\"\",\"fTitle\":\"Response Matrix #tau_{2,1}^{WTA} binning 8\",\"fTextAngle\":0,\"fTextSize\":0,\"fTextAlign\":0,\"fTextColor\":0,\"fTextFont\":0,\"fX\":0,\"fY\":0,\"fLineColor\":1,\"fLineStyle\":1,\"fLineWidth\":2,\"fLimitFactorSize\":3,\"fOriginSize\":0.0555050447583199}],\"opt\":[\"\"]}}],\"opt\":[\"\",\"colz\",\"blNDC\"]},\"fExecs\":{\"_typename\":\"TList\",\"name\":\"TList\",\"arr\":[],\"opt\":[]},\"fName\":\"c6_8\",\"fTitle\":\"c6_8\",\"fNumPaletteColor\":0,\"fNextPaletteColor\":0},{\"_typename\":\"TPad\",\"fUniqueID\":0,\"fBits\":50331657,\"fLineColor\":1,\"fLineStyle\":1,\"fLineWidth\":1,\"fFillColor\":0,\"fFillStyle\":1001,\"fLeftMargin\":0.1,\"fRightMargin\":0.1,\"fBottomMargin\":0.1,\"fTopMargin\":0.1,\"fXfile\":2,\"fYfile\":2,\"fAfile\":1,\"fXstat\":0.99,\"fYstat\":0.99,\"fAstat\":2,\"fFrameFillColor\":0,\"fFrameLineColor\":1,\"fFrameFillStyle\":1001,\"fFrameLineStyle\":1,\"fFrameLineWidth\":1,\"fFrameBorderSize\":1,\"fFrameBorderMode\":0,\"fX1\":-0.1162500086613,\"fY1\":-0.1162500086613,\"fX2\":1.0462500086613,\"fY2\":1.0462500086613,\"fXtoAbsPixelk\":846.768052019803,\"fXtoPixelk\":37.4747189537963,\"fXtoPixel\":322.362719670675,\"fYtoAbsPixelk\":1008.51738155672,\"fYtoPixelk\":296.664048458524,\"fYtoPixel\":-283.549816967851,\"fUtoAbsPixelk\":809.293383066006,\"fUtoPixelk\":5e-5,\"fUtoPixel\":374.74666720132,\"fVtoAbsPixelk\":1041.48005023514,\"fVtoPixelk\":329.626667136947,\"fVtoPixel\":-329.626667136947,\"fAbsPixeltoXk\":-2.62675536080865,\"fPixeltoXk\":-0.1162500086613,\"fPixeltoX\":0.00310209567974112,\"fAbsPixeltoYk\":3.55675536080866,\"fPixeltoYk\":-0.1162500086613,\"fPixeltoY\":-0.00352671714160683,\"fXlowNDC\":0.676666666443149,\"fYlowNDC\":0.00999999977648264,\"fXUpNDC\":0,\"fYUpNDC\":0,\"fWNDC\":0.313333333780368,\"fHNDC\":0.313333333780368,\"fAbsXlowNDC\":0.676666666443149,\"fAbsYlowNDC\":0.00999999977648264,\"fAbsWNDC\":0.313333333780368,\"fAbsHNDC\":0.313333333780368,\"fUxmin\":0,\"fUymin\":0,\"fUxmax\":0.93,\"fUymax\":0.93,\"fTheta\":30,\"fPhi\":30,\"fAspectRatio\":0,\"fNumber\":9,\"fTickx\":0,\"fTicky\":0,\"fLogx\":0,\"fLogy\":0,\"fLogz\":0,\"fPadPaint\":0,\"fCrosshair\":0,\"fCrosshairPos\":0,\"fBorderSize\":2,\"fBorderMode\":0,\"fModified\":false,\"fGridx\":false,\"fGridy\":false,\"fAbsCoord\":false,\"fEditable\":true,\"fFixedAspectRatio\":false,\"fPrimitives\":{\"_typename\":\"TList\",\"name\":\"TList\",\"arr\":[{\"_typename\":\"TFrame\",\"fUniqueID\":0,\"fBits\":50331656,\"fLineColor\":1,\"fLineStyle\":1,\"fLineWidth\":1,\"fFillColor\":0,\"fFillStyle\":1001,\"fX1\":0,\"fY1\":0,\"fX2\":0.93,\"fY2\":0.93,\"fBorderSize\":1,\"fBorderMode\":0},{\"_typename\":\"TH2D\",\"fUniqueID\":0,\"fBits\":50332168,\"fName\":\"response\",\"fTitle\":\"Response Matrix #tau_{2,1}^{WTA} binning 9\",\"fLineColor\":602,\"fLineStyle\":1,\"fLineWidth\":1,\"fFillColor\":0,\"fFillStyle\":1001,\"fMarkerColor\":1,\"fMarkerStyle\":1,\"fMarkerSize\":1,\"fNcells\":364,\"fXaxis\":{\"_typename\":\"TAxis\",\"fUniqueID\":0,\"fBits\":50331648,\"fName\":\"xaxis\",\"fTitle\":\"#tau_{2,1}^{1}(det_sig)\",\"fNdivisions\":510,\"fAxisColor\":1,\"fLabelColor\":1,\"fLabelFont\":42,\"fLabelOffset\":0.005,\"fLabelSize\":0.035,\"fTickLength\":0.03,\"fTitleOffset\":1,\"fTitleSize\":0.035,\"fTitleColor\":1,\"fTitleFont\":42,\"fNbins\":24,\"fXmin\":0,\"fXmax\":0.93,\"fXbins\":[0,0.06,0.12,0.1525,0.185,0.2175,0.25,0.2825,0.315,0.3475,0.38,0.4125,0.445,0.4775,0.51,0.5425,0.575,0.6075,0.64,0.6725,0.705,0.7375,0.77,0.85,0.93],\"fFirst\":0,\"fLast\":0,\"fBits2\":0,\"fTimeDisplay\":false,\"fTimeFormat\":\"\",\"fLabels\":null,\"fModLabs\":null},\"fYaxis\":{\"_typename\":\"TAxis\",\"fUniqueID\":0,\"fBits\":50331648,\"fName\":\"yaxis\",\"fTitle\":\"#tau_{2,1}^{1}(gen_sig)\",\"fNdivisions\":510,\"fAxisColor\":1,\"fLabelColor\":1,\"fLabelFont\":42,\"fLabelOffset\":0.005,\"fLabelSize\":0.035,\"fTickLength\":0.03,\"fTitleOffset\":0,\"fTitleSize\":0.035,\"fTitleColor\":1,\"fTitleFont\":42,\"fNbins\":12,\"fXmin\":0,\"fXmax\":0.93,\"fXbins\":[0,0.12,0.185,0.25,0.315,0.38,0.445,0.51,0.575,0.64,0.705,0.77,0.93],\"fFirst\":0,\"fLast\":0,\"fBits2\":0,\"fTimeDisplay\":false,\"fTimeFormat\":\"\",\"fLabels\":null,\"fModLabs\":null},\"fZaxis\":{\"_typename\":\"TAxis\",\"fUniqueID\":0,\"fBits\":50331648,\"fName\":\"zaxis\",\"fTitle\":\"\",\"fNdivisions\":510,\"fAxisColor\":1,\"fLabelColor\":1,\"fLabelFont\":42,\"fLabelOffset\":0.005,\"fLabelSize\":0.035,\"fTickLength\":0.03,\"fTitleOffset\":1,\"fTitleSize\":0.035,\"fTitleColor\":1,\"fTitleFont\":42,\"fNbins\":1,\"fXmin\":0,\"fXmax\":1,\"fXbins\":[],\"fFirst\":0,\"fLast\":0,\"fBits2\":0,\"fTimeDisplay\":false,\"fTimeFormat\":\"\",\"fLabels\":null,\"fModLabs\":null},\"fBarOffset\":0,\"fBarWidth\":1000,\"fEntries\":43107,\"fTsumw\":13901.1376293109,\"fTsumw2\":4887.05421222413,\"fTsumwx\":5365.7921764556,\"fTsumwx2\":2386.71922025455,\"fMaximum\":-1111,\"fMinimum\":-1111,\"fNormFactor\":0,\"fContour\":[0,31.013338303617,62.026676607234,93.0400149108509,124.053353214468,155.066691518085,186.080029821702,217.093368125319,248.106706428936,279.120044732553,310.13338303617,341.146721339787,372.160059643404,403.173397947021,434.186736250638,465.200074554255,496.213412857872,527.226751161489,558.240089465106,589.253427768723],\"fSumw2\":[0,0,0,0,0,0,0,0,0,0,0,0,0,0,0,0,0,0,0,0,0,0,0,0,0,0,0,0.611598522983239,20.717463519631,24.691922639783,18.3176494024295,7.86313130682936,2.77197257313558,0.591935655196795,0.32497545010219,0.222567825513752,0.115010742254715,0,0,0,0,0,0,0,0.0776838278224796,0,0,0,0,0,0,0,0,0,14.0717366963626,63.5785515954041,144.279557787782,130.282423593048,76.4353362486045,29.3842944286392,12.5680982013808,4.1880337865108,2.02531678295395,1.14932221427231,0.633754967528979,0.374835228015086,0,0.252705106809104,0,0,0,0,0,0,0,0,0,0,0,0,1.31446629350739,6.57267241691611,41.5519255422417,130.076083410385,213.912637179359,175.785071679508,97.4631348968839,47.8712368176001,17.0534927716751,7.15801064466042,3.18598112684215,1.43058788413027,0.431904301687075,0.115930749583844,0.341884761276476,0.215922559746317,0,0,0,0.192284948971075,0.124221577673165,0,0,0,0,0,0.03702521883579,0.391268050629542,3.76104627747772,15.0809824508902,63.1523188805876,154.62404088429,219.381002983842,167.659800671331,93.893168420512,43.5668700703739,18.2836404887826,7.61626542763548,3.90285809514225,2.51866716155303,1.04464980787513,0.603240452131974,0.131025318384219,0.236474618501603,0,0,0,0,0,0,0,0,0,0.21464465883675,0.553175292261412,2.75385468312906,6.07932055229953,22.7706566718729,68.2013747089707,147.288383654626,175.559959426378,137.097184351271,74.8004549210449,33.7078659363333,20.0196984394467,8.8122368113588,4.10209489020848,1.40422658833783,0.237693509480215,0.363302365231749,0.367484766554453,0,0,0.113748393567943,0,0,0,0,0,0.506438442009114,0,1.19396438221898,1.33943589011444,4.19014149123758,10.3963571809669,26.8157417939642,63.9687133432019,131.396003242864,142.812433216532,103.860806912308,59.4757362981419,33.9698548676328,14.873321438461,6.95006873306774,3.26973969589475,1.73500870431504,0.879433729917992,0.229825076408976,0,0.14083088424731,0,0,0,0,0,0.115314974810627,1.00392502768082,0.742759670113847,1.31558612207437,2.22191039850986,2.80704060044519,4.82755841940933,10.1235510674099,26.6847288854123,55.6686749934889,101.91518694558,106.444228535628,83.1151426918885,46.3565473790161,23.8400807634879,10.8828115499064,4.4558193455555,1.8726739315779,1.14569478399251,0.202126723551989,0.018749606371868,0,0,0,0,0,0.325680160740201,0.644438841793726,0.511450650602347,0.62991735046754,1.36660487328399,0.987344180465545,1.30650594007026,3.39411211834527,6.06569806468712,10.1029639744804,25.3777252578733,49.9831743596813,84.7961843934121,92.9220045152944,60.9498909583248,32.3058066335946,13.8125975234426,6.5919527826106,3.36564440240877,1.28390867940491,0.501047124170886,0,0,0,0,0.116129515245471,0.182235415172963,0.341066405734013,0.689430426202293,0.110478828702312,0.365352345879434,0.911552915203913,1.28186099679596,2.03455424722381,1.26684657016045,2.26009459752747,3.56703244943156,10.9807643480941,20.0262947944846,41.3533052660708,60.8881116035223,61.1763165146264,42.5115501462479,19.6495293462287,10.0217639904432,2.80993626247,1.82108005141545,0,0,0,0,0,0,0.34356189431606,0.613045206356145,0.642164347115741,0.313907687301226,0.664958380900648,1.04992362371964,0.753132745388744,1.03330787167738,1.8443446317986,2.33024575406973,2.53381935291899,5.25579210275601,7.17762979534926,14.1875324906375,29.9496205845913,42.4726544285636,35.890645947536,25.833439910192,8.35242664092578,5.28320994633147,0.0672955675948438,0,0,0,0,0,0.14053122511513,0.721319365182543,0.522573037612991,1.10411586083522,1.30365385280408,1.72330955375031,1.20367083062722,0.639441499872697,0.356753781507017,0.593405227877711,0.831487495561121,1.55309688738613,1.65753564617272,3.3508419469084,3.88675570806567,8.75953638379546,15.3824831520565,21.966193720082,15.7582112426594,8.92382827914473,0.0625301317734067,0,0,0,0,0,0.387594931025503,0.46127526755646,0.995381520381244,1.21342760717587,0.828457201041953,1.66690874077529,1.39418711371374,0.729845327506961,0.640948952267036,0.542182081971735,0.0895897925278513,0.404794639924877,0.804605465218326,0.981362524821471,1.47391544926676,0.718393599117723,2.72971317082909,4.010611711745,5.68626896831753,7.94666400624283,0.30120928677784,0,0,0,0,0,0,0,0,0,0,0,0,0,0,0,0,0,0,0,0,0,0,0,0,0,0,0],\"fOption\":\"\",\"fFunctions\":{\"_typename\":\"TList\",\"name\":\"TList\",\"arr\":[{\"_typename\":\"TPaletteAxis\",\"fUniqueID\":0,\"fBits\":50331648,\"fLineColor\":1,\"fLineStyle\":1,\"fLineWidth\":1,\"fFillColor\":1178,\"fFillStyle\":1001,\"fX1\":0.935812500086613,\"fY1\":0,\"fX2\":0.98812500086613,\"fY2\":0.93,\"fX1NDC\":0.904999994039535,\"fY1NDC\":0.100000005960465,\"fX2NDC\":0.949999994039535,\"fY2NDC\":0.899999994039535,\"fBorderSize\":4,\"fInit\":1,\"fShadowColor\":1,\"fCornerRadius\":0,\"fOption\":\"br\",\"fName\":\"TPave\",\"fAxis\":{\"_typename\":\"TGaxis\",\"fUniqueID\":0,\"fBits\":50331648,\"fLineColor\":1,\"fLineStyle\":1,\"fLineWidth\":1,\"fX1\":0,\"fY1\":0,\"fX2\":0,\"fY2\":0,\"fTextAngle\":0,\"fTextSize\":0.04,\"fTextAlign\":11,\"fTextColor\":1,\"fTextFont\":42,\"fWmin\":0,\"fWmax\":0,\"fGridLength\":0,\"fTickSize\":0.03,\"fLabelOffset\":0.005,\"fLabelSize\":0.035,\"fTitleOffset\":1,\"fTitleSize\":0.035,\"fNdiv\":0,\"fLabelColor\":1,\"fLabelFont\":42,\"fNModLabs\":0,\"fChopt\":\"\",\"fName\":\"\",\"fTitle\":\"\",\"fTimeFormat\":\"\",\"fFunctionName\":\"\",\"fModLabs\":null},\"fName\":\"palette\"}],\"opt\":[\"br\"]},\"fBufferSize\":0,\"fBuffer\":[],\"fBinStatErrOpt\":0,\"fStatOverflows\":2,\"fScalefactor\":1,\"fTsumwy\":5115.46484738494,\"fTsumwy2\":2226.34975709807,\"fTsumwxy\":2272.04348811417,\"fArray\":[0,0,0,0,0,0,0,0,0,0,0,0,0,0,0,0,0,0,0,0,0,0,0,0,0,0,0,1.75372677343087,57.6780337100235,72.2481065918963,51.4589831107774,23.0732201372493,7.35235655123789,1.71275582236117,0.986391919003055,0.66702665635582,0.339132337376894,0,0,0,0,0,0,0,0.278718187103891,0,0,0,0,0,0,0,0,0,38.1703659239572,182.5046113939,411.062097142168,375.263378118411,221.21479481611,83.2313511329765,35.8938283899277,12.6686698023187,5.84207086843852,3.50065706630882,1.72412800693121,1.05391658196397,0,0.502697828530325,0,0,0,0,0,0,0,0,0,0,0,0,2.45620872008601,18.6450196091556,118.605263326021,370.191619370235,608.053514626595,502.32064688756,278.057641882979,132.337953506919,49.9163134066703,20.507812448182,8.84825626538823,3.92874978899414,1.31090928774181,0.340486049029683,0.811651973686458,0.657129124859431,0,0,0,0.438503077493277,0.352450815963257,0,0,0,0,0,0.192419382692571,1.083097154988,10.5329742708109,41.2139645609751,182.220806485906,443.147954792864,620.26676607234,481.755710416962,269.974700413883,124.647404516708,53.5236126030916,22.8470574737626,11.2085822109405,7.40821260048298,3.03290509350897,1.80481574342509,0.361974195743591,0.683048441009368,0,0,0,0,0,0,0,0,0,0.655198981925773,1.62926023557064,8.16819094974724,17.5426204586038,65.7641522154484,196.812947956071,417.316239027614,503.387631368534,391.202681087756,216.747308762702,96.7172376427969,56.4380604356235,25.5475959810659,10.8921877886977,4.33000993432354,0.689266766466385,1.03586491836205,1.04811783444882,0,0,0.337266057539063,0,0,0,0,0,1.22082746610491,0,3.17369104679634,3.78799254059961,11.8545545802005,28.5874341855568,77.6700424063567,181.01094009824,370.818401530141,404.309408018925,291.860235645272,168.774529503786,95.1091401316833,42.7358692724654,19.8378291624706,9.51644748468732,4.73285537309594,2.44368755245999,0.479400747192759,0,0.375274411927206,0,0,0,0,0,0.339580586622126,2.79587220277672,2.50640100353876,4.00280039285452,6.55587673046633,7.58166998854563,14.0941334061415,28.4005697507094,75.5982891059828,159.254540489665,288.50378817405,302.762182594695,234.952078922414,131.797029740078,66.9111545254963,30.5995674948173,12.3014174913687,5.24598267936631,3.1597940355711,0.602102261670995,0.136929202042034,0,0,0,0,0,0.806976688274512,1.71563492747146,1.42966674392516,1.9326684921372,3.85245624814974,3.17977981834532,3.77194892593201,9.4121887514153,17.3884438613658,28.9322491214134,71.5458150500794,141.90868972404,240.219501306891,261.222038962315,172.914899899358,92.1380686628687,39.9259737859846,19.2935381921877,8.79586319431353,3.66102787027791,1.62414915748921,0,0,0,0,0.340777809203403,0.426890401828108,1.01077693327741,1.83457460957501,0.334494614777465,1.12187096715245,2.68067702785975,3.90906438768881,5.9749353006306,3.74844590450157,6.74615939548074,10.4333267784298,29.1438347266789,56.2601327730052,115.868769715035,171.997275366742,172.36286715942,119.715141041894,55.6193499835384,28.4235981296666,8.69198845502995,5.36582191946144,0,0,0,0,0,0,0.951899906587988,1.54681109029977,1.78883718147908,0.969576502755789,2.15170444655356,3.10746995354243,2.11930789431674,3.19482887858622,5.01471402352135,6.91172222583333,7.44059056784922,14.8063988953724,20.4568204668358,41.716761877533,83.4537063607994,122.074125955751,102.055471490032,71.9918190297755,24.2652498197222,15.4104593235501,0.259413892447656,0,0,0,0,0,0.417817266145826,2.03813817294559,1.55892947828395,2.94503703570651,3.47783783067551,4.24084350857089,3.55018186534053,1.9381940102293,1.18011794476924,1.71112734694943,2.61498061782651,4.38715707699775,4.44978986844762,9.15668629027336,10.8035656677828,24.8895799250595,41.6040290595291,61.9496340297595,42.3702479358044,24.9946315921693,0.250060256285174,0,0,0,0,0,1.07746674736456,1.33232971532267,2.6932663994519,3.42814117451566,2.57129838353972,4.45388437782493,4.06173130302362,2.09021806587073,2.017130770206,1.45805320320491,0.299315540070761,1.1003446523985,2.1722052754786,2.59934922121452,4.35954312381375,2.06005178494601,7.1250969174741,11.6788737058953,14.979785560357,22.2056211561476,0.945977078249644,0,0,0,0,0,0,0,0,0,0,0,0,0,0,0,0,0,0,0,0,0,0,0,0,0,0,0]},{\"_typename\":\"TPaveText\",\"fUniqueID\":0,\"fBits\":50331657,\"fLineColor\":1,\"fLineStyle\":1,\"fLineWidth\":1,\"fFillColor\":0,\"fFillStyle\":0,\"fX1\":0.0581249939370897,\"fY1\":0.947332181579499,\"fX2\":0.87187500606291,\"fY2\":1.04043751411792,\"fX1NDC\":0.15,\"fY1NDC\":0.914909397326615,\"fX2NDC\":0.85,\"fY2NDC\":0.995000004768372,\"fBorderSize\":0,\"fInit\":1,\"fShadowColor\":1,\"fCornerRadius\":0,\"fOption\":\"blNDC\",\"fName\":\"title\",\"fTextAngle\":0,\"fTextSize\":0,\"fTextAlign\":22,\"fTextColor\":1,\"fTextFont\":42,\"fLabel\":\"\",\"fLongest\":42,\"fMargin\":0.05,\"fLines\":{\"_typename\":\"TList\",\"name\":\"TList\",\"arr\":[{\"_typename\":\"TLatex\",\"fUniqueID\":0,\"fBits\":50331648,\"fName\":\"\",\"fTitle\":\"Response Matrix #tau_{2,1}^{WTA} binning 9\",\"fTextAngle\":0,\"fTextSize\":0,\"fTextAlign\":0,\"fTextColor\":0,\"fTextFont\":0,\"fX\":0,\"fY\":0,\"fLineColor\":1,\"fLineStyle\":1,\"fLineWidth\":2,\"fLimitFactorSize\":3,\"fOriginSize\":0.0555050447583199}],\"opt\":[\"\"]}}],\"opt\":[\"\",\"colz\",\"blNDC\"]},\"fExecs\":{\"_typename\":\"TList\",\"name\":\"TList\",\"arr\":[],\"opt\":[]},\"fName\":\"c6_9\",\"fTitle\":\"c6_9\",\"fNumPaletteColor\":0,\"fNextPaletteColor\":0}],\"opt\":[\"\",\"\",\"\",\"\",\"\",\"\",\"\",\"\",\"\"]},\"fExecs\":null,\"fName\":\"c6\",\"fTitle\":\"c6\",\"fNumPaletteColor\":0,\"fNextPaletteColor\":0,\"fDISPLAY\":\"$DISPLAY\",\"fDoubleBuffer\":0,\"fRetained\":true,\"fXsizeUser\":0,\"fYsizeUser\":0,\"fXsizeReal\":20,\"fYsizeReal\":18,\"fWindowTopX\":0,\"fWindowTopY\":0,\"fWindowWidth\":0,\"fWindowHeight\":0,\"fCw\":1196,\"fCh\":1052,\"fCatt\":{\"_typename\":\"TAttCanvas\",\"fXBetween\":2,\"fYBetween\":2,\"fTitleFromTop\":1.2,\"fXdate\":0.2,\"fYdate\":0.3,\"fAdate\":1},\"kMoveOpaque\":true,\"kResizeOpaque\":true,\"fHighLightColor\":2,\"fBatch\":true,\"kShowEventStatus\":false,\"kAutoExec\":true,\"kMenuBar\":true});\n",
       "       Core.draw(\"root_plot_11\", obj, \"\");\n",
       "     }\n",
       " );\n",
       "</script>\n"
      ],
      "text/plain": [
       "<IPython.core.display.HTML object>"
      ]
     },
     "metadata": {},
     "output_type": "display_data"
    }
   ],
   "source": [
    "c6 = ROOT.TCanvas('c6', 'c6',1200, 1080)\n",
    "c6.Divide(3,3)\n",
    "for i in xrange(len(h_responses)):\n",
    "    c6.cd(i+1)\n",
    "    h_responses[i].Draw(\"colz\")\n",
    "    \n",
    "c6.Draw()\n",
    "c6.SaveAs(\"Tau21_responses_WTAkT_Wsel_powheg.png\")\n",
    "#c6.SaveAs(\"Tau21_responses_WTAkT_Wsel_powheg.pdf\")"
   ]
  },
  {
   "cell_type": "markdown",
   "metadata": {},
   "source": [
    "#### Fill histograms for sig and bkg. MC separately in this case (as one should!)"
   ]
  },
  {
   "cell_type": "code",
   "execution_count": 116,
   "metadata": {},
   "outputs": [
    {
     "name": "stderr",
     "output_type": "stream",
     "text": [
      "Warning in <TROOT::Append>: Replacing existing TH1: histMgenMC_bkg (Potential memory leak).\n",
      "Warning in <TROOT::Append>: Replacing existing TH1: histMgenMC_bkg (Potential memory leak).\n",
      "Warning in <TROOT::Append>: Replacing existing TH1: histMdetMC_bkg (Potential memory leak).\n",
      "Warning in <TROOT::Append>: Replacing existing TH1: histMdetMC_bkg (Potential memory leak).\n",
      "Warning in <TROOT::Append>: Replacing existing TH1: histMgenMC_sig (Potential memory leak).\n",
      "Warning in <TROOT::Append>: Replacing existing TH1: histMgenMC_sig (Potential memory leak).\n",
      "Warning in <TROOT::Append>: Replacing existing TH1: histMdetMC_sig (Potential memory leak).\n",
      "Warning in <TROOT::Append>: Replacing existing TH1: histMdetMC_sig (Potential memory leak).\n",
      "Warning in <TROOT::Append>: Replacing existing TH1: histMdetData (Potential memory leak).\n",
      "Warning in <TROOT::Append>: Replacing existing TH1: histMdetData (Potential memory leak).\n"
     ]
    }
   ],
   "source": [
    "histMgenMC_bkg = ROOT.TH1D(\"histMgenMC_bkg\", \"histMgenMC_bkg; #tau_{2}^{1}; Events/(0.02)\",  gen_bins.shape[0]-1, (gen_bins))\n",
    "fill_hist(histMgenMC_bkg, MC_bkg_gen_tau21, weights=weights_MC_bkg)\n",
    "\n",
    "histMdetMC_bkg = ROOT.TH1D(\"histMdetMC_bkg\", \"histMdetMC_bkg; #tau_{2}^{1}; Events/(0.02)\", det_bins.shape[0]-1, (det_bins))\n",
    "fill_hist(histMdetMC_bkg, MC_bkg_reco_tau21, weights=weights_MC_bkg)\n",
    "\n",
    "histMgenMC_sig = ROOT.TH1D(\"histMgenMC_sig\", \"histMgenMC_sig; #tau_{2}^{1}; Events/(0.02)\",  gen_bins.shape[0]-1, (gen_bins))\n",
    "fill_hist(histMgenMC_sig, MC_sig_gen_tau21, weights=weights_MC_sig)\n",
    "\n",
    "histMdetMC_sig = ROOT.TH1D(\"histMdetMC_sig\", \"histMdetMC_sig; #tau_{2}^{1}; Events/(0.02)\", det_bins.shape[0]-1, (det_bins))\n",
    "fill_hist(histMdetMC_sig, MC_sig_reco_tau21, weights=weights_MC_sig)\n",
    "\n",
    "#histMgenData = ROOT.TH1D(\"histMgenData\", \"histMgenData; #tau_{2}^{1}; Events/(0.02)\", gen_bins.shape[0]-1, (gen_bins))\n",
    "#fill_hist(histMgenData, TTbartruth_nSub_basis[:,4]/TTbartruth_nSub_basis[:,1])\n",
    "\n",
    "histMdetData = ROOT.TH1D(\"histMdetData\", \"histMdetData; #tau_{2}^{1}; Events/(0.02)\", det_bins.shape[0]-1, (det_bins))\n",
    "fill_hist(histMdetData, data_tau21)"
   ]
  },
  {
   "cell_type": "markdown",
   "metadata": {
    "collapsed": true
   },
   "source": [
    "Set the X and Y axis labels"
   ]
  },
  {
   "cell_type": "code",
   "execution_count": 117,
   "metadata": {},
   "outputs": [],
   "source": [
    "histMgenMC_bkg.SetTitle(\";#tau_{2,1}^{1}(gen_bkg)\")\n",
    "\n",
    "histMdetMC_bkg.SetTitle(\";#tau_{2,1}^{1}(det_bkg)\")\n",
    "\n",
    "histMgenMC_sig.SetTitle(\";#tau_{2,1}^{1}(gen_sig)\")\n",
    "\n",
    "histMdetMC_sig.SetTitle(\";#tau_{2,1}^{1}(det_sig)\")\n",
    "\n",
    "histMdetData.SetTitle(\";#tau_{2,1}^{1}(data)\")\n"
   ]
  },
  {
   "cell_type": "markdown",
   "metadata": {
    "collapsed": true
   },
   "source": [
    "Draw the variables at reco and gen level and for \"data\""
   ]
  },
  {
   "cell_type": "code",
   "execution_count": 118,
   "metadata": {
    "scrolled": true
   },
   "outputs": [
    {
     "data": {
      "image/png": "[encoded data removed]",
      "text/plain": [
       "<IPython.core.display.Image object>"
      ]
     },
     "metadata": {},
     "output_type": "display_data"
    }
   ],
   "source": [
    "c1 = ROOT.TCanvas(\"chistMgenMC_sig1\", \"chistMgenMC_sig1\")\n",
    "histMgenMC_sig.Draw(\"e\")\n",
    "histMdetMC_sig.Draw(\"e same\")\n",
    "c1.Draw()"
   ]
  },
  {
   "cell_type": "code",
   "execution_count": 119,
   "metadata": {
    "scrolled": false
   },
   "outputs": [
    {
     "data": {
      "image/png": "[encoded data removed]",
      "text/plain": [
       "<IPython.core.display.Image object>"
      ]
     },
     "metadata": {},
     "output_type": "display_data"
    }
   ],
   "source": [
    "c1 = ROOT.TCanvas(\"chistMgenMC_bkg1\", \"chistMgenMC_bkg1\")\n",
    "#histMgenMC_bkg.Draw(\"e\")\n",
    "histMdetMC_bkg.Draw(\"e \")#same\")\n",
    "c1.Draw()"
   ]
  },
  {
   "cell_type": "code",
   "execution_count": 120,
   "metadata": {
    "scrolled": true
   },
   "outputs": [
    {
     "data": {
      "image/png": "[encoded data removed]",
      "text/plain": [
       "<IPython.core.display.Image object>"
      ]
     },
     "metadata": {},
     "output_type": "display_data"
    }
   ],
   "source": [
    "c1 = ROOT.TCanvas(\"chistMgenMC_sig1\", \"chistMgenMC_sig1\")\n",
    "#histMgenData.Draw(\"e\")\n",
    "histMdetData.Draw(\"e \")\n",
    "c1.Draw()"
   ]
  },
  {
   "cell_type": "markdown",
   "metadata": {},
   "source": [
    "### Fill response matrix"
   ]
  },
  {
   "cell_type": "code",
   "execution_count": 121,
   "metadata": {},
   "outputs": [
    {
     "name": "stderr",
     "output_type": "stream",
     "text": [
      "Warning in <TROOT::Append>: Replacing existing TH1: response (Potential memory leak).\n"
     ]
    }
   ],
   "source": [
    "response = ROOT.TH2D('response', 'response', det_bins.shape[0]-1, det_bins, gen_bins.shape[0]-1, gen_bins)\n",
    "hist2Dfill = np.zeros((MC_sig_reco_tau21.shape[0], 2))\n",
    "hist2Dfill[:,0] = MC_sig_reco_tau21.flatten()\n",
    "hist2Dfill[:,1] = MC_sig_gen_tau21.flatten()\n",
    "fill_hist(response, hist2Dfill, weights_MC_sig)\n",
    "response.SetTitle(\"Nominal Response Matrix;#tau_{2,1}^{1}(det_sig);#tau_{2,1}^{1}(gen_sig)\")"
   ]
  },
  {
   "cell_type": "code",
   "execution_count": 122,
   "metadata": {},
   "outputs": [
    {
     "data": {
      "image/png": "[encoded data removed]",
      "text/plain": [
       "<IPython.core.display.Image object>"
      ]
     },
     "metadata": {},
     "output_type": "display_data"
    }
   ],
   "source": [
    "c1 = ROOT.TCanvas(\"cresponse1\", \"cresponse1\")\n",
    "response.Draw(\"colz\")\n",
    "c1.Draw()"
   ]
  },
  {
   "cell_type": "markdown",
   "metadata": {},
   "source": [
    "### Purity and Stability calculation"
   ]
  },
  {
   "cell_type": "raw",
   "metadata": {
    "collapsed": true
   },
   "source": [
    "#### Normalise the distributions, draw them and the response matrix."
   ]
  },
  {
   "cell_type": "raw",
   "metadata": {},
   "source": [
    "norm_genMC_bkg = histMgenMC_bkg.Integral()\n",
    "print norm_genMC_bkg\n",
    "\n",
    "norm_recoMC_bkg = histMdetMC_bkg.Integral()\n",
    "print norm_recoMC_bkg\n",
    "\n",
    "norm_genMC_sig = histMgenMC_sig.Integral()\n",
    "print norm_genMC_sig\n",
    "\n",
    "norm_recoMC_sig = histMdetMC_sig.Integral()\n",
    "print norm_recoMC_sig\n",
    "\n",
    "#norm_genData = histMgenData.Integral()\n",
    "#print norm_genData\n",
    "\n",
    "norm_detData = histMdetData.Integral()\n",
    "print norm_detData"
   ]
  },
  {
   "cell_type": "code",
   "execution_count": 123,
   "metadata": {},
   "outputs": [],
   "source": [
    "hMC_gen_bkg = ROOT.TH1D(histMgenMC_bkg)\n",
    "#hMC_gen_bkg.Scale(1./norm_genMC_bkg)\n",
    "\n",
    "hMC_reco_bkg = ROOT.TH1D(histMdetMC_bkg)\n",
    "#hMC_reco_bkg.Scale(1./norm_recoMC_bkg)\n",
    "\n",
    "hMC_gen_sig = ROOT.TH1D(histMgenMC_sig)\n",
    "#hMC_gen_sig.Scale(1./norm_genMC_sig)\n",
    "\n",
    "hMC_reco_sig = ROOT.TH1D(histMdetMC_sig)\n",
    "#hMC_reco_sig.Scale(1./norm_recoMC_sig)\n",
    "\n",
    "hMC_data = ROOT.TH1D(histMdetData)\n",
    "#histMgenData.Scale(1./norm_genData)\n",
    "#histMdetData.Scale(1./norm_detData)\n",
    "\n",
    "'''\n",
    "histMgenMC_bkg.Scale(1./norm_genMC_bkg)\n",
    "histMdetMC_bkg.Scale(1./norm_recoMC_bkg)\n",
    "histMgenMC_sig.Scale(1./norm_genMC_sig)\n",
    "histMdetMC_sig.Scale(1./norm_recoMC_sig)\n",
    "\n",
    "#histMgenData.Scale(1./norm_genData)\n",
    "histMdetData.Scale(1./norm_detData)\n",
    "''';"
   ]
  },
  {
   "cell_type": "code",
   "execution_count": 124,
   "metadata": {
    "scrolled": true
   },
   "outputs": [
    {
     "name": "stdout",
     "output_type": "stream",
     "text": [
      "0 -0.0555555555556 0.0\n",
      "1 0.0 1.13855366366\n",
      "2 0.05 31.8686623473\n",
      "3 0.1 320.820579608\n",
      "4 0.15 973.637842811\n",
      "5 0.2 1536.56931639\n",
      "6 0.25 1762.90423671\n",
      "7 0.3 1778.91804168\n",
      "8 0.35 1627.35501531\n",
      "9 0.4 1398.61559374\n",
      "10 0.45 1175.93516176\n",
      "11 0.5 1033.44350862\n",
      "12 0.55 833.107352791\n",
      "13 0.6 629.565747628\n",
      "14 0.65 413.954269312\n",
      "15 0.7 260.065199272\n",
      "16 0.75 98.2748507601\n",
      "17 0.8 24.9636969043\n",
      "18 0.9 0.0\n",
      "==========\n",
      "0 -0.111111111111 0.0\n",
      "1 0.0 66.6598241858\n",
      "2 0.1 1988.14774258\n",
      "3 0.2 3425.54497507\n",
      "4 0.3 3067.65753957\n",
      "5 0.4 2356.93771239\n",
      "6 0.5 1650.17646724\n",
      "7 0.6 964.956120006\n",
      "8 0.7 342.196296693\n",
      "9 0.8 38.8609515774\n"
     ]
    }
   ],
   "source": [
    "for i in xrange(0, histMdetMC_sig.GetNbinsX()+1):\n",
    "    print i, hMC_reco_sig.GetBinLowEdge(i), hMC_reco_sig.GetBinContent(i)   \n",
    "print \"==========\"\n",
    "for i in xrange(0, hMC_gen_sig.GetNbinsX()+1):\n",
    "    print i, hMC_gen_sig.GetBinLowEdge(i), hMC_gen_sig.GetBinContent(i)"
   ]
  },
  {
   "cell_type": "code",
   "execution_count": 125,
   "metadata": {
    "scrolled": false
   },
   "outputs": [
    {
     "name": "stderr",
     "output_type": "stream",
     "text": [
      "Warning in <TCanvas::Constructor>: Deleting canvas with same name: cresponse1\n"
     ]
    },
    {
     "data": {
      "image/png": "[encoded data removed]",
      "text/plain": [
       "<IPython.core.display.Image object>"
      ]
     },
     "metadata": {},
     "output_type": "display_data"
    }
   ],
   "source": [
    "c1 = ROOT.TCanvas(\"cresponse1\", \"cresponse1\")\n",
    "response.Draw(\"colz\")\n",
    "c1.Draw()"
   ]
  },
  {
   "cell_type": "code",
   "execution_count": 126,
   "metadata": {},
   "outputs": [
    {
     "name": "stderr",
     "output_type": "stream",
     "text": [
      "Warning in <TROOT::Append>: Replacing existing TH1: purity (Potential memory leak).\n",
      "Warning in <TROOT::Append>: Replacing existing TH1: stability (Potential memory leak).\n",
      "Warning in <TROOT::Append>: Replacing existing TH1: efficiency (Potential memory leak).\n"
     ]
    }
   ],
   "source": [
    "purity = ROOT.TH1D(\"purity\", \"Purity and stability study; #tau_{2}^{1}; \",  gen_bins.shape[0]-1, (gen_bins))\n",
    "stability = ROOT.TH1D(\"stability\", \"Purity and stability study; #tau_{2}^{1}; \",  gen_bins.shape[0]-1, (gen_bins))\n",
    "efficiency = ROOT.TH1D(\"efficiency\", \"Purity and stability study; #tau_{2}^{1}; \",  gen_bins.shape[0]-1, (gen_bins))"
   ]
  },
  {
   "cell_type": "markdown",
   "metadata": {},
   "source": [
    "### With python"
   ]
  },
  {
   "cell_type": "code",
   "execution_count": 127,
   "metadata": {},
   "outputs": [
    {
     "name": "stdout",
     "output_type": "stream",
     "text": [
      "Setting contents for P, S, eff. histos, in bin 1\n",
      "50.0 100.0\n",
      "Setting contents for P, S, eff. histos, in bin 2\n",
      "3281.0 4023.0\n",
      "Setting contents for P, S, eff. histos, in bin 3\n",
      "6454.0 10261.0\n",
      "Setting contents for P, S, eff. histos, in bin 4\n",
      "5801.0 10617.0\n",
      "Setting contents for P, S, eff. histos, in bin 5\n",
      "4215.0 7962.0\n",
      "Setting contents for P, S, eff. histos, in bin 6\n",
      "2972.0 5746.0\n",
      "Setting contents for P, S, eff. histos, in bin 7\n",
      "1701.0 3214.0\n",
      "Setting contents for P, S, eff. histos, in bin 8\n",
      "515.0 1109.0\n",
      "Setting contents for P, S, eff. histos, in bin 9\n",
      "17.0 75.0\n",
      "\n",
      "\n",
      "+++++++++Pure and Stable! :)+++++++++++++\n",
      "\n",
      "\n",
      "[  50. 3281. 6454. 5801. 4215. 2972. 1701.  515.   17.    0.] \n",
      "\n",
      "[  100.  4023. 10261. 10617.  7962.  5746.  3214.  1109.    75.     0.] \n",
      "\n",
      "Purity array: [0.5        0.81556053 0.62898353 0.54638787 0.5293896  0.51722938\n",
      " 0.52924704 0.46438233 0.22666667] \n",
      "\n",
      "\n",
      "[  50. 3281. 6454. 5801. 4215. 2972. 1701.  515.   17.    0.] \n",
      "\n",
      "[  214.  6202. 10664.  9525.  7274.  5086.  2983.  1038.   121.     0.] \n",
      "\n",
      "Stability array: [0.23364486 0.5290229  0.6052138  0.60902887 0.57946109 0.58434919\n",
      " 0.57023131 0.49614644 0.14049587] \n",
      "\n",
      "\n",
      "+++++Efficiency+++++\n",
      "\n",
      "Efficiency array: [0.0011599  0.07611293 0.14972046 0.13457211 0.09777994 0.06894472\n",
      " 0.03945995 0.01194702 0.00039437]\n"
     ]
    },
    {
     "name": "stderr",
     "output_type": "stream",
     "text": [
      "/shome/kdatta/.local/lib/python2.7/site-packages/ipykernel_launcher.py:54: RuntimeWarning: invalid value encountered in divide\n",
      "/shome/kdatta/.local/lib/python2.7/site-packages/ipykernel_launcher.py:59: RuntimeWarning: invalid value encountered in divide\n"
     ]
    }
   ],
   "source": [
    "gen_arr = MC_sig_gen_tau21[:]\n",
    "#print gen_arr[0:20]\n",
    "#print gen_bins[0:-1]\n",
    "gen_bin_index = np.digitize(gen_arr, gen_bins)\n",
    "#print gen_bin_index[0:20]\n",
    "\n",
    "det_arr = MC_sig_reco_tau21[0:]\n",
    "#print det_arr[0:20]\n",
    "#print det_bins[0:-1]\n",
    "det_bin_index = np.digitize(det_arr, gen_bins)\n",
    "det_bin_index2 = np.digitize(det_arr, det_bins)\n",
    "#print det_bin_index[0:20]\n",
    "\n",
    "ndet_pergenbin = [0.] #N_recgen array = number of events generated in and reconstructed in gen bin i\n",
    "ndet_genanywhere = [0.] # number of events reconstructed in gen _bin i but generated anywhere\n",
    "ngen_detanywhere = [0.] # number of events generated in gen _bin i but reconstructed anywhere\n",
    "\n",
    "###purity = # of evts generated and reconstructed in gen bin i / # of evts reconstructed in gen bin i but generated anywhere\n",
    "###stability = # of evts generated and reconstructed in gen bin / # of evts reconstructed in gen bin i but generated anywhere\n",
    "for i in xrange(0, gen_bins.shape[0]-1):\n",
    "    \n",
    "    #print i+1\n",
    "    \n",
    "    for k in xrange(0, gen_bin_index.shape[0]):\n",
    "        \n",
    "        if gen_bin_index[k]==i+1: \n",
    "            ngen_detanywhere[i]+=1\n",
    "            if det_bin_index[k]==i+1: ndet_pergenbin[i]+=1\n",
    "            \n",
    "    ngen_detanywhere.append(0.)\n",
    "    ndet_pergenbin.append(0.)\n",
    "    \n",
    "    for k in xrange(0, det_bin_index.shape[0]):\n",
    "        \n",
    "        if det_bin_index[k]==i+1: \n",
    "            ndet_genanywhere[i]+=1\n",
    "            \n",
    "    ndet_genanywhere.append(0.)\n",
    "    \n",
    "    print \"Setting contents for P, S, eff. histos, in bin %d\"%(i+1)\n",
    "    print ndet_pergenbin[i], ndet_genanywhere[i]\n",
    "    purity.SetBinContent(i+1, ndet_pergenbin[i]/ndet_genanywhere[i])\n",
    "    stability.SetBinContent(i+1, ndet_pergenbin[i]/ngen_detanywhere[i])\n",
    "    efficiency.SetBinContent(i+1, ndet_pergenbin[i]/43107.)\n",
    "    \n",
    "    \n",
    "ndet_pergenbin = np.array(ndet_pergenbin)\n",
    "ndet_genanywhere = np.array(ndet_genanywhere)\n",
    "ngen_detanywhere = np.array(ngen_detanywhere)\n",
    "\n",
    "print \"\\n\\n+++++++++Pure and Stable! :)+++++++++++++\\n\\n\"\n",
    "print ndet_pergenbin,\"\\n\"\n",
    "print ndet_genanywhere,\"\\n\"\n",
    "purity_arr = ndet_pergenbin/ndet_genanywhere\n",
    "print \"Purity array:\", purity_arr[:-1], \"\\n\\n\"\n",
    "\n",
    "print ndet_pergenbin,\"\\n\"\n",
    "print ngen_detanywhere,\"\\n\"\n",
    "stability_arr = ndet_pergenbin/ngen_detanywhere\n",
    "print \"Stability array:\", stability_arr[:-1], \"\\n\\n\"\n",
    "\n",
    "print \"+++++Efficiency+++++\\n\"\n",
    "efficiency_arr = ndet_pergenbin/np.sum(ngen_detanywhere)\n",
    "print \"Efficiency array:\", efficiency_arr[:-1]"
   ]
  },
  {
   "cell_type": "code",
   "execution_count": 128,
   "metadata": {},
   "outputs": [],
   "source": [
    "ROOT.gStyle.SetOptStat(0)"
   ]
  },
  {
   "cell_type": "code",
   "execution_count": 129,
   "metadata": {},
   "outputs": [
    {
     "name": "stderr",
     "output_type": "stream",
     "text": [
      "Warning in <TCanvas::Constructor>: Deleting canvas with same name: pse_ttbar\n"
     ]
    },
    {
     "data": {
      "image/png": "[encoded data removed]",
      "text/plain": [
       "<IPython.core.display.Image object>"
      ]
     },
     "metadata": {},
     "output_type": "display_data"
    }
   ],
   "source": [
    "cpse = ROOT.TCanvas(\"pse_ttbar\", \"pse_ttbar\")\n",
    "\n",
    "purity.SetLineColor(ROOT.kRed)\n",
    "purity.SetLineWidth(2)\n",
    "purity.SetLineStyle(2)\n",
    "purity.SetMinimum(0.)\n",
    "purity.SetMaximum(1.05)\n",
    "\n",
    "stability.SetLineColor(9)\n",
    "stability.SetLineWidth(2)\n",
    "stability.SetLineStyle(1)\n",
    "stability.SetMinimum(0.)\n",
    "stability.SetMaximum(1.05)\n",
    "stability.SetTitle(\"t#bar{t} 2016, W-selection (WTA, k_{T})\")\n",
    "stability.Draw(\"hist\")\n",
    "purity.Draw(\"hist same\")\n",
    "#efficiency.Draw(\"same\")\n",
    "\n",
    "leg0 = ROOT.TLegend(0.6, 0.7, 0.8, 0.8)\n",
    "leg0.AddEntry( stability, \"Stability \")\n",
    "leg0.AddEntry( purity, \"Purity \")\n",
    "#leg0.AddEntry( histMgenData, \"'Truth' (MC: MG5+Pythia8)\", 'p')\n",
    "leg0.SetLineColor(0)\n",
    "leg0.SetBorderSize(0)\n",
    "leg0.SetFillStyle(0)\n",
    "\n",
    "#hs.Add(histMdetMC, \"E\")\n",
    "#hs.Add(histMdetData, \"E\")\n",
    "#hs.Draw(\"nostack\")\n",
    "leg0.Draw()\n",
    "\n",
    "ROOT.gStyle.SetOptStat(0)\n",
    "cpse.Draw()"
   ]
  },
  {
   "cell_type": "code",
   "execution_count": 130,
   "metadata": {
    "scrolled": true
   },
   "outputs": [
    {
     "data": {
      "image/png": "[encoded data removed]",
      "text/plain": [
       "<Figure size 432x288 with 1 Axes>"
      ]
     },
     "metadata": {
      "needs_background": "light"
     },
     "output_type": "display_data"
    }
   ],
   "source": [
    "plt.hist2d(x=det_bin_index, y=gen_bin_index);"
   ]
  },
  {
   "cell_type": "code",
   "execution_count": 131,
   "metadata": {
    "scrolled": true
   },
   "outputs": [
    {
     "data": {
      "image/png": "[encoded data removed]",
      "text/plain": [
       "<Figure size 432x288 with 1 Axes>"
      ]
     },
     "metadata": {
      "needs_background": "light"
     },
     "output_type": "display_data"
    },
    {
     "data": {
      "image/png": "[encoded data removed]",
      "text/plain": [
       "<Figure size 432x288 with 1 Axes>"
      ]
     },
     "metadata": {
      "needs_background": "light"
     },
     "output_type": "display_data"
    }
   ],
   "source": [
    "plt.hist2d(x=det_bin_index2, y=gen_bin_index);\n",
    "plt.show()\n",
    "plt.hist2d(x=MC_sig_reco_tau21, y=MC_sig_gen_tau21, bins=[det_bins, gen_bins]);\n",
    "plt.show()"
   ]
  },
  {
   "cell_type": "code",
   "execution_count": 132,
   "metadata": {
    "scrolled": true
   },
   "outputs": [
    {
     "data": {
      "image/png": "[encoded data removed]",
      "text/plain": [
       "<Figure size 432x288 with 1 Axes>"
      ]
     },
     "metadata": {
      "needs_background": "light"
     },
     "output_type": "display_data"
    },
    {
     "data": {
      "image/png": "[encoded data removed]",
      "text/plain": [
       "<Figure size 432x288 with 1 Axes>"
      ]
     },
     "metadata": {
      "needs_background": "light"
     },
     "output_type": "display_data"
    }
   ],
   "source": [
    "plt.hist(gen_bin_index, histtype='step', color='r', bins=gen_bins.shape[0]-1)\n",
    "plt.hist(det_bin_index, histtype='step', color='b', bins=gen_bins.shape[0]-1)\n",
    "plt.show()\n",
    "\n",
    "plt.hist(MC_sig_gen_tau21, histtype='step', color='r', bins=gen_bins, weights=weights_MC_sig)\n",
    "plt.hist(MC_sig_reco_tau21, histtype='step', color='b', bins=gen_bins, weights=weights_MC_sig)\n",
    "plt.show()"
   ]
  },
  {
   "cell_type": "markdown",
   "metadata": {},
   "source": [
    "### with root"
   ]
  },
  {
   "cell_type": "code",
   "execution_count": 199,
   "metadata": {},
   "outputs": [
    {
     "name": "stdout",
     "output_type": "stream",
     "text": [
      "Adding content (equal to 0.0) of bin i=0, j=1 to Diagonal 1\n",
      "Adding content (equal to 0.0) of bin i=0, j=2 to Diagonal 1\n",
      "Filling row index k=0 with elements (i,j)=(0,2)\n",
      "Filling row index k=0 with elements (i,j)=(0,3)\n",
      "Filling row index k=1 with elements (i,j)=(0,4)\n",
      "Filling row index k=1 with elements (i,j)=(0,5)\n",
      "Filling row index k=2 with elements (i,j)=(0,6)\n",
      "Filling row index k=2 with elements (i,j)=(0,7)\n",
      "Filling row index k=3 with elements (i,j)=(0,8)\n",
      "Filling row index k=3 with elements (i,j)=(0,9)\n",
      "Filling row index k=4 with elements (i,j)=(0,10)\n",
      "Filling row index k=4 with elements (i,j)=(0,11)\n",
      "Filling row index k=5 with elements (i,j)=(0,12)\n",
      "Filling row index k=5 with elements (i,j)=(0,13)\n",
      "Filling row index k=6 with elements (i,j)=(0,14)\n",
      "Filling row index k=6 with elements (i,j)=(0,15)\n",
      "Filling row index k=7 with elements (i,j)=(0,16)\n",
      "Filling row index k=7 with elements (i,j)=(0,17)\n",
      "Filling row index k=8 with elements (i,j)=(0,18)\n",
      "Filling row index k=8 with elements (i,j)=(0,19)\n",
      "0.0 0.0\n",
      "Filling row index k=0 with elements (i,j)=(1,2)\n",
      "Filling row index k=0 with elements (i,j)=(1,3)\n",
      "Adding content (equal to 0.0) of bin i=1, j=3 to Diagonal 3\n",
      "Adding content (equal to 0.0) of bin i=1, j=4 to Diagonal 3\n",
      "Filling row index k=1 with elements (i,j)=(1,4)\n",
      "Filling row index k=1 with elements (i,j)=(1,5)\n",
      "Filling row index k=2 with elements (i,j)=(1,6)\n",
      "Filling row index k=2 with elements (i,j)=(1,7)\n",
      "Filling row index k=3 with elements (i,j)=(1,8)\n",
      "Filling row index k=3 with elements (i,j)=(1,9)\n",
      "Filling row index k=4 with elements (i,j)=(1,10)\n",
      "Filling row index k=4 with elements (i,j)=(1,11)\n",
      "Filling row index k=5 with elements (i,j)=(1,12)\n",
      "Filling row index k=5 with elements (i,j)=(1,13)\n",
      "Filling row index k=6 with elements (i,j)=(1,14)\n",
      "Filling row index k=6 with elements (i,j)=(1,15)\n",
      "Filling row index k=7 with elements (i,j)=(1,16)\n",
      "Filling row index k=7 with elements (i,j)=(1,17)\n",
      "Filling row index k=8 with elements (i,j)=(1,18)\n",
      "Filling row index k=8 with elements (i,j)=(1,19)\n",
      "1.13855366366 0.0\n",
      "Filling row index k=0 with elements (i,j)=(2,2)\n",
      "Filling row index k=0 with elements (i,j)=(2,3)\n",
      "Filling row index k=1 with elements (i,j)=(2,4)\n",
      "Filling row index k=1 with elements (i,j)=(2,5)\n",
      "Adding content (equal to 0.0) of bin i=2, j=5 to Diagonal 5\n",
      "Adding content (equal to 0.0) of bin i=2, j=6 to Diagonal 5\n",
      "Filling row index k=2 with elements (i,j)=(2,6)\n",
      "Filling row index k=2 with elements (i,j)=(2,7)\n",
      "Filling row index k=3 with elements (i,j)=(2,8)\n",
      "Filling row index k=3 with elements (i,j)=(2,9)\n",
      "Filling row index k=4 with elements (i,j)=(2,10)\n",
      "Filling row index k=4 with elements (i,j)=(2,11)\n",
      "Filling row index k=5 with elements (i,j)=(2,12)\n",
      "Filling row index k=5 with elements (i,j)=(2,13)\n",
      "Filling row index k=6 with elements (i,j)=(2,14)\n",
      "Filling row index k=6 with elements (i,j)=(2,15)\n",
      "Filling row index k=7 with elements (i,j)=(2,16)\n",
      "Filling row index k=7 with elements (i,j)=(2,17)\n",
      "Filling row index k=8 with elements (i,j)=(2,18)\n",
      "Filling row index k=8 with elements (i,j)=(2,19)\n",
      "31.8686623473 0.0\n",
      "Filling row index k=0 with elements (i,j)=(3,2)\n",
      "Filling row index k=0 with elements (i,j)=(3,3)\n",
      "Filling row index k=1 with elements (i,j)=(3,4)\n",
      "Filling row index k=1 with elements (i,j)=(3,5)\n",
      "Filling row index k=2 with elements (i,j)=(3,6)\n",
      "Filling row index k=2 with elements (i,j)=(3,7)\n",
      "Adding content (equal to 0.767668211032) of bin i=3, j=7 to Diagonal 7\n",
      "Adding content (equal to 0.0) of bin i=3, j=8 to Diagonal 7\n",
      "Filling row index k=3 with elements (i,j)=(3,8)\n",
      "Filling row index k=3 with elements (i,j)=(3,9)\n",
      "Filling row index k=4 with elements (i,j)=(3,10)\n",
      "Filling row index k=4 with elements (i,j)=(3,11)\n",
      "Filling row index k=5 with elements (i,j)=(3,12)\n",
      "Filling row index k=5 with elements (i,j)=(3,13)\n",
      "Filling row index k=6 with elements (i,j)=(3,14)\n",
      "Filling row index k=6 with elements (i,j)=(3,15)\n",
      "Filling row index k=7 with elements (i,j)=(3,16)\n",
      "Filling row index k=7 with elements (i,j)=(3,17)\n",
      "Filling row index k=8 with elements (i,j)=(3,18)\n",
      "Filling row index k=8 with elements (i,j)=(3,19)\n",
      "320.820579608 0.767668211032\n",
      "Filling row index k=0 with elements (i,j)=(4,2)\n",
      "Filling row index k=0 with elements (i,j)=(4,3)\n",
      "Filling row index k=1 with elements (i,j)=(4,4)\n",
      "Filling row index k=1 with elements (i,j)=(4,5)\n",
      "Filling row index k=2 with elements (i,j)=(4,6)\n",
      "Filling row index k=2 with elements (i,j)=(4,7)\n",
      "Filling row index k=3 with elements (i,j)=(4,8)\n",
      "Filling row index k=3 with elements (i,j)=(4,9)\n",
      "Adding content (equal to 0.731524835868) of bin i=4, j=9 to Diagonal 9\n",
      "Adding content (equal to 0.0) of bin i=4, j=10 to Diagonal 9\n",
      "Filling row index k=4 with elements (i,j)=(4,10)\n",
      "Filling row index k=4 with elements (i,j)=(4,11)\n",
      "Filling row index k=5 with elements (i,j)=(4,12)\n",
      "Filling row index k=5 with elements (i,j)=(4,13)\n",
      "Filling row index k=6 with elements (i,j)=(4,14)\n",
      "Filling row index k=6 with elements (i,j)=(4,15)\n",
      "Filling row index k=7 with elements (i,j)=(4,16)\n",
      "Filling row index k=7 with elements (i,j)=(4,17)\n",
      "Filling row index k=8 with elements (i,j)=(4,18)\n",
      "Filling row index k=8 with elements (i,j)=(4,19)\n",
      "973.637842811 0.731524835868\n",
      "Filling row index k=0 with elements (i,j)=(5,2)\n",
      "Filling row index k=0 with elements (i,j)=(5,3)\n",
      "Filling row index k=1 with elements (i,j)=(5,4)\n",
      "Filling row index k=1 with elements (i,j)=(5,5)\n",
      "Filling row index k=2 with elements (i,j)=(5,6)\n",
      "Filling row index k=2 with elements (i,j)=(5,7)\n",
      "Filling row index k=3 with elements (i,j)=(5,8)\n",
      "Filling row index k=3 with elements (i,j)=(5,9)\n",
      "Filling row index k=4 with elements (i,j)=(5,10)\n",
      "Filling row index k=4 with elements (i,j)=(5,11)\n",
      "Adding content (equal to 0.0) of bin i=5, j=11 to Diagonal 11\n",
      "Adding content (equal to 0.0) of bin i=5, j=12 to Diagonal 11\n",
      "Filling row index k=5 with elements (i,j)=(5,12)\n",
      "Filling row index k=5 with elements (i,j)=(5,13)\n",
      "Filling row index k=6 with elements (i,j)=(5,14)\n",
      "Filling row index k=6 with elements (i,j)=(5,15)\n",
      "Filling row index k=7 with elements (i,j)=(5,16)\n",
      "Filling row index k=7 with elements (i,j)=(5,17)\n",
      "Filling row index k=8 with elements (i,j)=(5,18)\n",
      "Filling row index k=8 with elements (i,j)=(5,19)\n",
      "1536.56931639 0.0\n",
      "Filling row index k=0 with elements (i,j)=(6,2)\n",
      "Filling row index k=0 with elements (i,j)=(6,3)\n",
      "Filling row index k=1 with elements (i,j)=(6,4)\n",
      "Filling row index k=1 with elements (i,j)=(6,5)\n",
      "Filling row index k=2 with elements (i,j)=(6,6)\n",
      "Filling row index k=2 with elements (i,j)=(6,7)\n",
      "Filling row index k=3 with elements (i,j)=(6,8)\n",
      "Filling row index k=3 with elements (i,j)=(6,9)\n",
      "Filling row index k=4 with elements (i,j)=(6,10)\n",
      "Filling row index k=4 with elements (i,j)=(6,11)\n",
      "Filling row index k=5 with elements (i,j)=(6,12)\n",
      "Filling row index k=5 with elements (i,j)=(6,13)\n",
      "Adding content (equal to 0.0) of bin i=6, j=13 to Diagonal 13\n",
      "Adding content (equal to 0.0) of bin i=6, j=14 to Diagonal 13\n",
      "Filling row index k=6 with elements (i,j)=(6,14)\n",
      "Filling row index k=6 with elements (i,j)=(6,15)\n",
      "Filling row index k=7 with elements (i,j)=(6,16)\n",
      "Filling row index k=7 with elements (i,j)=(6,17)\n",
      "Filling row index k=8 with elements (i,j)=(6,18)\n",
      "Filling row index k=8 with elements (i,j)=(6,19)\n",
      "1762.90423671 0.0\n",
      "Filling row index k=0 with elements (i,j)=(7,2)\n",
      "Filling row index k=0 with elements (i,j)=(7,3)\n",
      "Filling row index k=1 with elements (i,j)=(7,4)\n",
      "Filling row index k=1 with elements (i,j)=(7,5)\n",
      "Filling row index k=2 with elements (i,j)=(7,6)\n",
      "Filling row index k=2 with elements (i,j)=(7,7)\n",
      "Filling row index k=3 with elements (i,j)=(7,8)\n",
      "Filling row index k=3 with elements (i,j)=(7,9)\n",
      "Filling row index k=4 with elements (i,j)=(7,10)\n",
      "Filling row index k=4 with elements (i,j)=(7,11)\n",
      "Filling row index k=5 with elements (i,j)=(7,12)\n",
      "Filling row index k=5 with elements (i,j)=(7,13)\n",
      "Filling row index k=6 with elements (i,j)=(7,14)\n",
      "Filling row index k=6 with elements (i,j)=(7,15)\n",
      "Adding content (equal to 0.0) of bin i=7, j=15 to Diagonal 15\n",
      "Adding content (equal to 0.0) of bin i=7, j=16 to Diagonal 15\n",
      "Filling row index k=7 with elements (i,j)=(7,16)\n",
      "Filling row index k=7 with elements (i,j)=(7,17)\n",
      "Filling row index k=8 with elements (i,j)=(7,18)\n",
      "Filling row index k=8 with elements (i,j)=(7,19)\n",
      "1778.91804168 0.0\n",
      "Filling row index k=0 with elements (i,j)=(8,2)\n",
      "Filling row index k=0 with elements (i,j)=(8,3)\n",
      "Filling row index k=1 with elements (i,j)=(8,4)\n",
      "Filling row index k=1 with elements (i,j)=(8,5)\n",
      "Filling row index k=2 with elements (i,j)=(8,6)\n",
      "Filling row index k=2 with elements (i,j)=(8,7)\n",
      "Filling row index k=3 with elements (i,j)=(8,8)\n",
      "Filling row index k=3 with elements (i,j)=(8,9)\n",
      "Filling row index k=4 with elements (i,j)=(8,10)\n",
      "Filling row index k=4 with elements (i,j)=(8,11)\n",
      "Filling row index k=5 with elements (i,j)=(8,12)\n",
      "Filling row index k=5 with elements (i,j)=(8,13)\n",
      "Filling row index k=6 with elements (i,j)=(8,14)\n",
      "Filling row index k=6 with elements (i,j)=(8,15)\n",
      "Filling row index k=7 with elements (i,j)=(8,16)\n",
      "Filling row index k=7 with elements (i,j)=(8,17)\n",
      "Adding content (equal to 0.0) of bin i=8, j=17 to Diagonal 17\n",
      "Adding content (equal to 0.0) of bin i=8, j=18 to Diagonal 17\n",
      "Filling row index k=8 with elements (i,j)=(8,18)\n",
      "Filling row index k=8 with elements (i,j)=(8,19)\n",
      "1627.35501531 0.0\n",
      "Filling row index k=0 with elements (i,j)=(9,2)\n",
      "Filling row index k=0 with elements (i,j)=(9,3)\n",
      "Filling row index k=1 with elements (i,j)=(9,4)\n",
      "Filling row index k=1 with elements (i,j)=(9,5)\n",
      "Filling row index k=2 with elements (i,j)=(9,6)\n",
      "Filling row index k=2 with elements (i,j)=(9,7)\n",
      "Filling row index k=3 with elements (i,j)=(9,8)\n",
      "Filling row index k=3 with elements (i,j)=(9,9)\n",
      "Filling row index k=4 with elements (i,j)=(9,10)\n",
      "Filling row index k=4 with elements (i,j)=(9,11)\n",
      "Filling row index k=5 with elements (i,j)=(9,12)\n",
      "Filling row index k=5 with elements (i,j)=(9,13)\n",
      "Filling row index k=6 with elements (i,j)=(9,14)\n",
      "Filling row index k=6 with elements (i,j)=(9,15)\n",
      "Filling row index k=7 with elements (i,j)=(9,16)\n",
      "Filling row index k=7 with elements (i,j)=(9,17)\n",
      "Filling row index k=8 with elements (i,j)=(9,18)\n",
      "Filling row index k=8 with elements (i,j)=(9,19)\n",
      "1398.61559374 0.0\n"
     ]
    }
   ],
   "source": [
    "ps_bindex = 0 \n",
    "\n",
    "l = 1\n",
    "\n",
    "tot_col = [] #np.array([0. for i in xrange(0, purity.GetNbinsX()+1)]) #\n",
    "#tot_col_err = [] #0 \n",
    "\n",
    "tot_row = np.array([0. for i in xrange(1, purity.GetNbinsX()+1)])\n",
    "#tot_row_err = np.zeros_like([0. for i in xrange(1, purity.GetNbinsX()+1)])\n",
    "\n",
    "diag = [] #np.zeros_like([0. for i in xrange(1, purity.GetNbinsX()+1)])\n",
    "#diag_error = [] # np.zeros_like([0. for i in xrange(1, purity.GetNbinsX()+1)])\n",
    "\n",
    "for i in range(0, response.GetNbinsY()+1):    \n",
    "    \n",
    "    k = 0\n",
    "    col = 0.\n",
    "    d_jj = 0.\n",
    "    for j in range(1, response.GetNbinsX()+1):\n",
    "    \n",
    "        r_ij = response.GetBinContent(i,j)\n",
    "        #r_ij_err = response.GetBinError(i,j)\n",
    "        #print (i,j), r_ij\n",
    "        \n",
    "        if (j)%2==0 and j < (response.GetNbinsX()+1):\n",
    "            #since 2 reco bins per 1 gen bin\n",
    "            print \"Filling row index k={} with elements (i,j)=({},{})\".format(k,i,j)\n",
    "            tot_row[k] += r_ij\n",
    "            print \"Filling row index k={} with elements (i,j)=({},{})\".format(k,i,j+1)\n",
    "            tot_row[k] +=  response.GetBinContent(i,j+1)\n",
    "            \n",
    "            #tot_col_err[k] += response.GetBinError(i,j)\n",
    "            #tot_col_err[k] +=  response.GetBinError(i,j+1)\n",
    "            \n",
    "            k +=1\n",
    "        \n",
    "        col += r_ij\n",
    "        \n",
    "        if l==j:\n",
    "            print \"Adding content (equal to {}) of bin i={}, j={} to Diagonal\".format(r_ij, i,j), l\n",
    "            d_jj += r_ij\n",
    " \n",
    "            print \"Adding content (equal to {}) of bin i={}, j={} to Diagonal\".format( response.GetBinContent(i,j+1), i,j+1), l\n",
    "            d_jj += response.GetBinContent(i,j+1)\n",
    "\n",
    "            diag.append(d_jj)\n",
    "    l = l+2\n",
    "    print col, d_jj"
   ]
  },
  {
   "cell_type": "code",
   "execution_count": 200,
   "metadata": {},
   "outputs": [
    {
     "name": "stdout",
     "output_type": "stream",
     "text": [
      "[0.0, 0.0, 0.0, 0.7676682110315105, 0.7315248358684481, 0.0, 0.0, 0.0, 0.0]\n",
      "[5380.97252295 3781.47252118  156.25428107   46.46869287    0.\n",
      "    0.            0.            0.            0.        ]\n",
      "[0.         0.         0.         0.01652012        inf        nan\n",
      "        nan        nan        nan]\n"
     ]
    },
    {
     "name": "stderr",
     "output_type": "stream",
     "text": [
      "/shome/kdatta/.local/lib/python2.7/site-packages/ipykernel_launcher.py:3: RuntimeWarning: divide by zero encountered in divide\n",
      "  This is separate from the ipykernel package so we can avoid doing imports until\n",
      "/shome/kdatta/.local/lib/python2.7/site-packages/ipykernel_launcher.py:3: RuntimeWarning: invalid value encountered in divide\n",
      "  This is separate from the ipykernel package so we can avoid doing imports until\n"
     ]
    }
   ],
   "source": [
    "print diag\n",
    "print tot_row\n",
    "print diag/tot_row"
   ]
  },
  {
   "cell_type": "code",
   "execution_count": 121,
   "metadata": {},
   "outputs": [
    {
     "ename": "SyntaxError",
     "evalue": "invalid syntax (<ipython-input-121-dc72c7765764>, line 9)",
     "output_type": "error",
     "traceback": [
      "\u001b[0;36m  File \u001b[0;32m\"<ipython-input-121-dc72c7765764>\"\u001b[0;36m, line \u001b[0;32m9\u001b[0m\n\u001b[0;31m    if i==0 and j==0: purity_reco_binning[0] = dval/\u001b[0m\n\u001b[0m                                                    ^\u001b[0m\n\u001b[0;31mSyntaxError\u001b[0m\u001b[0;31m:\u001b[0m invalid syntax\n"
     ]
    }
   ],
   "source": [
    "purity_reco_binning = [0] \n",
    "diag = 0\n",
    "for i in range(1, response.GetNbinsX()+1):\n",
    "    for j in range(1, response.GetNbinsY()+1):\n",
    "        dval = response.GetBinContent(i,j)\n",
    "        if i==j:\n",
    "            diag = diag+dval\n",
    "            print i, j, \n",
    "            if i==0 and j==0: purity_reco_binning[0] = dval/\n",
    "            else: purity_reco_binning.append()\n",
    "        j = j+2"
   ]
  },
  {
   "cell_type": "code",
   "execution_count": null,
   "metadata": {},
   "outputs": [],
   "source": []
  },
  {
   "cell_type": "markdown",
   "metadata": {},
   "source": [
    "### Unfolding "
   ]
  },
  {
   "cell_type": "code",
   "execution_count": 133,
   "metadata": {},
   "outputs": [
    {
     "name": "stdout",
     "output_type": "stream",
     "text": [
      "getting tunfolder:\n"
     ]
    },
    {
     "name": "stderr",
     "output_type": "stream",
     "text": [
      "Info in <TUnfold::SetConstraint>: fConstraint=0\n",
      "Info in <TUnfold::TUnfold>: underflow and overflow bin do not depend on the input data\n",
      "Info in <TUnfold::TUnfold>: 18 input bins and 9 output bins\n",
      "Info in <TUnfoldDensity::TUnfold>: *NOT* unfolding bin #0 (yaxis:#tau_{2,1}^{1}(gen_sig)[ufl])\n",
      "Info in <TUnfoldDensity::TUnfold>: *NOT* unfolding bin #10 (yaxis:#tau_{2,1}^{1}(gen_sig)[ofl])\n",
      "Info in <TUnfoldDensity::RegularizeOneDistribution>: regularizing yaxis regMode=3 densityMode=1 axisSteering=*[UOB]\n",
      "Info in <TUnfold::SetConstraint>: fConstraint=0\n",
      "Info in <TUnfold::TUnfold>: underflow and overflow bin do not depend on the input data\n",
      "Info in <TUnfold::TUnfold>: 18 input bins and 9 output bins\n",
      "Info in <TUnfoldDensity::TUnfold>: *NOT* unfolding bin #0 (yaxis:#tau_{2,1}^{1}(gen_sig)[ufl])\n",
      "Info in <TUnfoldDensity::TUnfold>: *NOT* unfolding bin #10 (yaxis:#tau_{2,1}^{1}(gen_sig)[ofl])\n",
      "Info in <TUnfoldDensity::RegularizeOneDistribution>: regularizing yaxis regMode=3 densityMode=1 axisSteering=*[UOB]\n"
     ]
    }
   ],
   "source": [
    "print 'getting tunfolder:'\n",
    "\n",
    "orientation = ROOT.TUnfoldDensity.kHistMapOutputHoriz\n",
    "regMode = ROOT.TUnfoldDensity.kRegModeCurvature\n",
    "con = ROOT.TUnfoldDensity.kEConstraintNone\n",
    "mode =  ROOT.TUnfoldDensity.kDensityModeBinWidth\n",
    "errmode = ROOT.TUnfoldSys.kSysErrModeMatrix\n",
    "#tunfolder_MC = ROOT.TUnfoldDensity(response, orientation, regMode, con, mode, \"signal\", \"*[UOb]\")\n",
    "#tunfolder_data = ROOT.TUnfoldDensity(response, orientation, regMode, con, mode, \"signal\", \"*[UOb]\")\n",
    "\n",
    "tunfolder_MC = ROOT.TUnfoldDensity(response,ROOT.TUnfold.kHistMapOutputVert,ROOT.TUnfold.kRegModeCurvature, ROOT.TUnfold.kEConstraintNone, ROOT.TUnfoldDensity.kDensityModeBinWidth)\n",
    "tunfolder_data = ROOT.TUnfoldDensity(response,ROOT.TUnfold.kHistMapOutputVert,ROOT.TUnfold.kRegModeCurvature, ROOT.TUnfold.kEConstraintNone, ROOT.TUnfoldDensity.kDensityModeBinWidth)"
   ]
  },
  {
   "cell_type": "markdown",
   "metadata": {
    "collapsed": true
   },
   "source": [
    "Set the input, a 1D reconstructed histogram from either MC_sig (closure) or Data (measurement) , binned in the detector level binning. Subtract background contributions from data, using reco-MC bkg."
   ]
  },
  {
   "cell_type": "code",
   "execution_count": 134,
   "metadata": {},
   "outputs": [
    {
     "name": "stdout",
     "output_type": "stream",
     "text": [
      "setting reco input\n"
     ]
    },
    {
     "name": "stderr",
     "output_type": "stream",
     "text": [
      "Warning in <TUnfoldDensity::SetInput>: 2/18 input bins have zero error, and are ignored.\n"
     ]
    }
   ],
   "source": [
    "print 'setting reco input'\n",
    "tunfolder_data.SetInput( histMdetData )\n",
    "tunfolder_data.SubtractBackground( histMdetMC_bkg, \"bkg_all\", 1. )"
   ]
  },
  {
   "cell_type": "code",
   "execution_count": 135,
   "metadata": {},
   "outputs": [
    {
     "name": "stdout",
     "output_type": "stream",
     "text": [
      "setting reco MC input\n"
     ]
    },
    {
     "data": {
      "text/plain": [
       "1"
      ]
     },
     "execution_count": 135,
     "metadata": {},
     "output_type": "execute_result"
    },
    {
     "name": "stderr",
     "output_type": "stream",
     "text": [
      "Warning in <TUnfoldDensity::SetInput>: One input bin has zero error, and is ignored.\n"
     ]
    }
   ],
   "source": [
    "print 'setting reco MC input'\n",
    "tunfolder_MC.SetInput( histMdetMC_sig )\n",
    "#tunfolder_MC.SubtractBackground( histMdetMC_bkg, \"bkg_all\", 1. )"
   ]
  },
  {
   "cell_type": "raw",
   "metadata": {},
   "source": [
    "Unfold nScan times with values for the regularization parameter between tauMin and tauMax using the empty TSplines to store the results."
   ]
  },
  {
   "cell_type": "raw",
   "metadata": {
    "scrolled": true
   },
   "source": [
    "print 'regularizing'\n",
    "nScan=50\n",
    "tauMin=-5.0\n",
    "tauMax=3.0\n",
    "iBest=0\n",
    "\n",
    "logTauX = ROOT.MakeNullPointer(ROOT.TSpline)\n",
    "logTauY = ROOT.MakeNullPointer(ROOT.TSpline)\n",
    "lCurve = ROOT.MakeNullPointer(ROOT.TGraph)\n",
    "\n",
    "print 'doing the unfolding'\n",
    "tunfolder.ScanLcurve(nScan,tauMin,tauMax,lCurve,logTauX,logTauY);\n",
    "print 'getting the results'\n",
    "unfolded = tunfolder.GetOutput(\"unfolded\")"
   ]
  },
  {
   "cell_type": "code",
   "execution_count": 136,
   "metadata": {},
   "outputs": [
    {
     "name": "stderr",
     "output_type": "stream",
     "text": [
      "Warning in <TROOT::Append>: Replacing existing TH1: unfolded_data (Potential memory leak).\n",
      "Warning in <TROOT::Append>: Replacing existing TH1: unfolded_MC (Potential memory leak).\n"
     ]
    }
   ],
   "source": [
    "unfolded_data = tunfolder_data.DoUnfold(0.)\n",
    "unfolded_data = tunfolder_data.GetOutput(\"unfolded_data\")\n",
    "\n",
    "unfolded_MC = tunfolder_MC.DoUnfold(0.)\n",
    "unfolded_MC = tunfolder_MC.GetOutput(\"unfolded_MC\")"
   ]
  },
  {
   "cell_type": "code",
   "execution_count": 137,
   "metadata": {},
   "outputs": [],
   "source": [
    "ROOT.gStyle.SetOptStat(0)"
   ]
  },
  {
   "cell_type": "code",
   "execution_count": 138,
   "metadata": {
    "scrolled": false
   },
   "outputs": [
    {
     "name": "stderr",
     "output_type": "stream",
     "text": [
      "Warning in <TCanvas::Constructor>: Deleting canvas with same name: c5\n"
     ]
    },
    {
     "data": {
      "image/png": "[encoded data removed]",
      "text/plain": [
       "<IPython.core.display.Image object>"
      ]
     },
     "metadata": {},
     "output_type": "display_data"
    }
   ],
   "source": [
    "c5 = ROOT.TCanvas('c5', 'c5')\n",
    "\n",
    "unfolded_MC.SetMarkerStyle(2)\n",
    "unfolded_MC.SetMarkerColor(7)\n",
    "unfolded_MC.SetLineColor(7)\n",
    "unfolded_MC.SetLineWidth(1)\n",
    "\n",
    "unfolded_data.SetMarkerStyle(22)\n",
    "unfolded_data.SetMarkerColor(1)\n",
    "unfolded_data.SetLineColor(1)\n",
    "unfolded_data.SetLineWidth(2)\n",
    "\n",
    "\n",
    "#unfolded_MC.SetFillColor(0)\n",
    "#histMgenData.SetMarkerStyle(4)\n",
    "#histMgenData.SetMarkerColor(2)\n",
    "#histMgenData.SetOption(\"E\")\n",
    "#histMgenData.SetLineColor(2)\n",
    "histMgenMC_sig.SetMarkerStyle(5)\n",
    "histMgenMC_sig.SetMarkerColor(2)\n",
    "histMgenMC_sig.SetLineColor(2)\n",
    "\n",
    "\n",
    "\n",
    "hs = ROOT.THStack(\"#tau_{2,1}\", \"#tau_{2,1}\")\n",
    "#hs.Add\n",
    "hs.SetMinimum(0)\n",
    "#hs.Add( histMgenData, \"E HIST\")\n",
    "hs.Add( unfolded_MC, \"E HIST\")\n",
    "hs.Add( unfolded_data, \"E \")\n",
    "hs.Add(histMgenMC_sig, \"E HIST\")\n",
    "#hs.Add(histMdetMC_sig, \"E\")\n",
    "#hs.Add(histMdetData, \"E\")\n",
    "\n",
    "leg0 = ROOT.TLegend(0.35, 0.75, 0.91, 0.86)\n",
    "leg0.AddEntry( unfolded_data, \"Data (2016)\", 'p')\n",
    "leg0.AddEntry( histMgenMC_sig, \"Generator-level (ttbar MC: Powheg+Pythia8)\", 'p')\n",
    "#leg0.AddEntry( histMgenData, \"'Truth' (MC: MG5+Pythia8)\", 'p')\n",
    "leg0.AddEntry( unfolded_MC, \"Unfolding_self-closure (ttbar MC: Powheg+Pythia8)\", 'p')\n",
    "leg0.SetLineColor(0)\n",
    "leg0.SetBorderSize(0)\n",
    "leg0.SetFillStyle(0)\n",
    "\n",
    "#hs.Add(histMdetMC, \"E\")\n",
    "#hs.Add(histMdetData, \"E\")\n",
    "hs.Draw(\"nostack\")\n",
    "leg0.Draw()\n",
    "\n",
    "c5.Draw()\n",
    "#c5.SaveAs(\"Tau21_unfolding_Escheme_bkgsub.png\")\n",
    "#c5.SaveAs(\"Tau21_unfolding_Escheme_bkgsub.pdf\")"
   ]
  },
  {
   "cell_type": "code",
   "execution_count": 139,
   "metadata": {},
   "outputs": [
    {
     "name": "stdout",
     "output_type": "stream",
     "text": [
      "Bin Content \tBin error \tBin Center \tBin Low-Edge \tRatio to Truth for bin \tRatio Error\n",
      "66.6598 \t13.6269 \t0.05 \t0.0 1.0000 0.2168\n",
      "1988.1477 \t44.9180 \t0.15 \t0.1 1.0000 0.0262\n",
      "3425.5450 \t68.2074 \t0.25 \t0.2 1.0000 0.0223\n",
      "3067.6575 \t75.0540 \t0.35 \t0.3 1.0000 0.0267\n",
      "2356.9377 \t72.8467 \t0.45 \t0.4 1.0000 0.0332\n",
      "1650.1765 \t64.9248 \t0.55 \t0.5 1.0000 0.0420\n",
      "964.9561 \t53.5355 \t0.65 \t0.6 1.0000 0.0587\n",
      "342.1963 \t39.7714 \t0.75 \t0.7 1.0000 0.1207\n",
      "38.8610 \t25.9267 \t0.9 \t0.8 1.0000 0.6739\n"
     ]
    }
   ],
   "source": [
    "ratio = ROOT.TH1D(\"\",\"; #tau_{2,1}^{(1)}\",  gen_bins.shape[0]-1, (gen_bins))\n",
    "ratio.GetXaxis().SetTitle(\"#tau_{2,1}^{(1)}\");\n",
    "#ratio.GetYaxis().SetTitleOffset(0.);\n",
    "ratio.GetYaxis().CenterTitle(ROOT.kTRUE);\n",
    "ratio.GetXaxis().CenterTitle(ROOT.kTRUE);\n",
    "ratio.GetYaxis().SetRangeUser(0.7,1.3)\n",
    "ratio.Add(unfolded_MC)\n",
    "ratio.GetYaxis().SetTitle(\"#frac{Unfolded Powheg}{Gen-level Powheg}\")\n",
    "ratio.Sumw2()\n",
    "ratio.SetStats(0)\n",
    "ratio.Divide(histMgenMC_sig);\n",
    "ratio.GetYaxis().SetLabelSize(0.09)\n",
    "ratio.GetXaxis().SetLabelSize(0.09)\n",
    "#ratio.SetMarkerStyle(1)\n",
    "ratio.SetMarkerColor(ROOT.kRed)\n",
    "ratio.SetLineColor(ROOT.kRed)\n",
    "ratio.GetYaxis().SetTitleSize(0.12)\n",
    "ratio.GetYaxis().SetTitleOffset(0.4)\n",
    "ratio.GetXaxis().SetTitleSize(0.12)\n",
    "ratio.GetXaxis().SetTitleOffset(0.85)\n",
    "\n",
    "print \"Bin Content\", \"\\t\", \"Bin error\", \"\\t\", \"Bin Center\", \"\\t\", \"Bin Low-Edge\", \"\\t\", \"Ratio to Truth for bin\", \"\\t\", \"Ratio Error\"\n",
    "for i in xrange(1,gen_bins.shape[0]):\n",
    "    print \"%0.4f\"%unfolded_MC.GetBinContent(i), \"\\t\", \"%0.4f\"%unfolded_MC.GetBinError(i), \"\\t\", unfolded_MC.GetBinCenter(i), \"\\t\", unfolded_MC.GetBinLowEdge(i), \"%0.4f\"%ratio.GetBinContent(i), \"%0.4f\"%ratio.GetBinError(i)"
   ]
  },
  {
   "cell_type": "code",
   "execution_count": 140,
   "metadata": {},
   "outputs": [
    {
     "name": "stderr",
     "output_type": "stream",
     "text": [
      "Warning in <TCanvas::Constructor>: Deleting canvas with same name: c6\n",
      "Info in <TCanvas::Print>: png file MC_SC_ratio_Escheme_bkgsub.png has been created\n",
      "Info in <TCanvas::Print>: pdf file MC_SC_ratio_Escheme_bkgsub.pdf has been created\n"
     ]
    },
    {
     "data": {
      "image/png": "[encoded data removed]",
      "text/plain": [
       "<IPython.core.display.Image object>"
      ]
     },
     "metadata": {},
     "output_type": "display_data"
    }
   ],
   "source": [
    "c6 = ROOT.TCanvas(\"c6\",\"c6\", 600,300)\n",
    "ratio.GetYaxis().SetLabelSize(0.05)\n",
    "ratio.GetXaxis().SetLabelSize(0.05)\n",
    "#ratio.SetMarkerStyle(1)\n",
    "ratio.SetMarkerStyle(5)\n",
    "ratio.SetMarkerColor(ROOT.kRed)\n",
    "ratio.SetLineColor(ROOT.kRed)\n",
    "ratio.GetYaxis().SetTitleSize(0.06)\n",
    "ratio.GetYaxis().SetTitleOffset(0.7)\n",
    "ratio.GetXaxis().SetTitleSize(0.05)\n",
    "ratio.GetXaxis().SetTitleOffset(0.8)\n",
    "#ratio.SetMinimum(0.7)\n",
    "#ratio.SetMaximum(1.3)\n",
    "#ratio.SetMarkerStyle(21);\n",
    "ratio.Draw(\"ep\")\n",
    "c6.Draw()\n",
    "c6.SaveAs(\"MC_SC_ratio_Escheme_bkgsub.png\")\n",
    "c6.SaveAs(\"MC_SC_ratio_Escheme_bkgsub.pdf\")"
   ]
  },
  {
   "cell_type": "code",
   "execution_count": 141,
   "metadata": {},
   "outputs": [
    {
     "name": "stderr",
     "output_type": "stream",
     "text": [
      "Error in <TUnfoldDensity::SubtractBackground>: Source bkg_all given twice, ignoring 2nd call.\n",
      "\n",
      "Warning in <TROOT::Append>: Replacing existing TH1: unfolded_data (Potential memory leak).\n",
      "Warning in <TROOT::Append>: Replacing existing TH1: unfolding stat error matrix (Potential memory leak).\n",
      "Warning in <TROOT::Append>: Replacing existing TH1: unfolding total error matrix (Potential memory leak).\n",
      "Warning in <TROOT::Append>: Replacing existing TH1: tau21(unfold,staterr) (Potential memory leak).\n",
      "Warning in <TROOT::Append>: Replacing existing TH1: tau21(unfold,totalerr) (Potential memory leak).\n",
      "Warning in <TROOT::Append>: Replacing existing TH1: Corr(total) (Potential memory leak).\n",
      "Warning in <TROOT::Append>: Replacing existing TH1: bkg_all (Potential memory leak).\n"
     ]
    }
   ],
   "source": [
    "# get unfolding output\n",
    "# includes the statistical and background errors\n",
    "# but not the other systematic uncertainties\n",
    "#tunfolder_data.SetInput( histMdetData )\n",
    "tunfolder_data.SubtractBackground( histMdetMC_bkg, \"bkg_all\", 1. )\n",
    "\n",
    "histUnfoldOutput= tunfolder_data.GetOutput(\"unfolded_data\")\n",
    "\n",
    "# retreive error matrix of statistical errors\n",
    "histEmatStat=tunfolder_data.GetEmatrixInput(\"unfolding stat error matrix\");\n",
    "# retreive full error matrix\n",
    "# This includes all systematic errors\n",
    "histEmatTotal=tunfolder_data.GetEmatrixTotal(\"unfolding total error matrix\");\n",
    "# create two copies of the unfolded data, one with statistical errors\n",
    "# the other with total errors\n",
    "histUnfoldStat=ROOT.TH1D(\"tau21(unfold,staterr)\",\";tau21(gen)\",  gen_bins.shape[0]-1, (gen_bins));\n",
    "histUnfoldTotal=ROOT.TH1D(\"tau21(unfold,totalerr)\",\";tau21(gen)\",  gen_bins.shape[0]-1, (gen_bins));\n",
    "\n",
    "for i in xrange(0, gen_bins.shape[0]): \n",
    "    c=histUnfoldOutput.GetBinContent(i);\n",
    "    # histogram with unfolded data and stat errors\n",
    "    histUnfoldStat.SetBinContent(i,c);\n",
    "    histUnfoldStat.SetBinError(i,np.sqrt(histEmatStat.GetBinContent(i,i)));\n",
    "    # histogram with unfolded data and total errors\n",
    "    histUnfoldTotal.SetBinContent(i,c);\n",
    "    histUnfoldTotal.SetBinError(i,np.sqrt(histEmatTotal.GetBinContent(i,i)));\n",
    "\n",
    "# create histogram with correlation matrix\n",
    "histCorr=ROOT.TH2D(\"Corr(total)\",\";tau21(gen);tau21(gen)\",  gen_bins.shape[0]-1, (gen_bins), gen_bins.shape[0]-1, (gen_bins));\n",
    "for i in xrange(0, gen_bins.shape[0]): \n",
    "    ei,ej = 0,0\n",
    "    ei=np.sqrt(histEmatTotal.GetBinContent(i,i));\n",
    "    if(ei<=0.0): continue\n",
    "    for j in xrange(0, gen_bins.shape[0]):\n",
    "        ej=np.sqrt(histEmatTotal.GetBinContent(j,j));\n",
    "        if(ej<=0.0): continue\n",
    "        histCorr.SetBinContent(i,j,histEmatTotal.GetBinContent(i,j)/ei/ej);\n",
    "\n",
    "# retreive bgr source 1\n",
    "#histdetNormBgr1=tunfolder_data.GetBackground(\"bgr1 normalized\", \"background1\");\n",
    "histMdetNormBgrTotal=tunfolder_data.GetBackground(\"bkg_all\");\n",
    "#========================\n"
   ]
  },
  {
   "cell_type": "code",
   "execution_count": 142,
   "metadata": {},
   "outputs": [
    {
     "data": {
      "image/png": "[encoded data removed]",
      "text/plain": [
       "<IPython.core.display.Image object>"
      ]
     },
     "metadata": {},
     "output_type": "display_data"
    }
   ],
   "source": [
    "# Step 7: plots\n",
    "output = ROOT.TCanvas();\n",
    "#output.Divide(3,2);\n",
    "#output.cd(1);\n",
    "# data, MC prediction, background\n",
    "histMdetData.SetMinimum(0.0);\n",
    "histMdetData.SetMaximum(histMdetData.GetMaximum()*1.5);\n",
    "histMdetData.Draw(\"E\");\n",
    "histMdetMC_sig.SetMinimum(0.0);\n",
    "histMdetMC_sig.SetLineColor(ROOT.kBlue);\n",
    "histMdetNormBgrTotal.SetLineColor(ROOT.kRed);\n",
    "#histdetNormBgr1.SetLineColor(ROOT.kCyan);\n",
    "histMdetMC_sig.Draw(\"SAME HIST\");\n",
    "#histdetNormBgr1.Draw(\"SAME HIST\");\n",
    "histMdetNormBgrTotal.Draw(\"SAME HIST\");\n",
    "output.Draw()"
   ]
  },
  {
   "cell_type": "code",
   "execution_count": 143,
   "metadata": {},
   "outputs": [
    {
     "data": {
      "image/png": "[encoded data removed]",
      "text/plain": [
       "<IPython.core.display.Image object>"
      ]
     },
     "metadata": {},
     "output_type": "display_data"
    }
   ],
   "source": [
    "#output.cd(2)\n",
    "# unfolded data, data truth, MC truth\n",
    "output = ROOT.TCanvas();\n",
    "histUnfoldTotal.SetMinimum(0.0);\n",
    "histUnfoldTotal.SetMaximum(5000);\n",
    "histUnfoldTotal.SetLineColor(ROOT.kBlue+3)\n",
    "histUnfoldTotal.SetLineWidth(1)\n",
    "# outer error: total error\n",
    "histUnfoldTotal.Draw(\"E\");\n",
    "# middle error: stat+bgr\n",
    "histUnfoldOutput.SetLineWidth(1)\n",
    "histUnfoldOutput.Draw(\"SAME E1\");\n",
    "# inner error: stat only\n",
    "histUnfoldStat.SetLineColor(ROOT.kGreen+2)\n",
    "histUnfoldStat.Draw(\"SAME E1\");\n",
    "\n",
    "histMdetMC_sig.Draw(\"SAME HIST\");\n",
    "histMgenMC_sig.Draw(\"SAME HIST\");\n",
    "#histBbbSignalGen.SetLineColor(ROOT.kBlue);\n",
    "#histBbbSignalGen.Draw(\"SAME HIST\");\n",
    "output.Draw()"
   ]
  },
  {
   "cell_type": "code",
   "execution_count": 144,
   "metadata": {},
   "outputs": [
    {
     "data": {
      "image/png": "[encoded data removed]",
      "text/plain": [
       "<IPython.core.display.Image object>"
      ]
     },
     "metadata": {},
     "output_type": "display_data"
    }
   ],
   "source": [
    "output.cd(3);\n",
    "# unfolding matrix\n",
    "response.SetLineColor(ROOT.kBlue);\n",
    "response.Draw(\"BOX\");\n",
    "\n",
    "output.Draw()"
   ]
  },
  {
   "cell_type": "code",
   "execution_count": 145,
   "metadata": {},
   "outputs": [
    {
     "data": {
      "image/png": "[encoded data removed]",
      "text/plain": [
       "<IPython.core.display.Image object>"
      ]
     },
     "metadata": {},
     "output_type": "display_data"
    }
   ],
   "source": [
    "# show tau as a function of chi**2\n",
    "output.cd(4);\n",
    "#logTauX.Draw();\n",
    "#bestLogTauLogChi2.SetMarkerColor(ROOT.kRed);\n",
    "#bestLogTauLogChi2.Draw(\"*\");\n",
    "# show the L curve\n",
    "output.cd(5);\n",
    "#lCurve.Draw(\"AL\");\n",
    "#bestLcurve.SetMarkerColor(ROOT.kRed);\n",
    "#bestLcurve.Draw(\"*\");\n",
    "# show correlation matrix\n",
    "output.cd(6);\n",
    "histCorr.Draw(\"BOX\");\n",
    "output.Draw()"
   ]
  },
  {
   "cell_type": "code",
   "execution_count": null,
   "metadata": {},
   "outputs": [],
   "source": []
  },
  {
   "cell_type": "code",
   "execution_count": null,
   "metadata": {},
   "outputs": [],
   "source": []
  }
 ],
 "metadata": {
  "kernelspec": {
   "display_name": "Python 2",
   "language": "python",
   "name": "python2"
  },
  "language_info": {
   "codemirror_mode": {
    "name": "ipython",
    "version": 2
   },
   "file_extension": ".py",
   "mimetype": "text/x-python",
   "name": "python",
   "nbconvert_exporter": "python",
   "pygments_lexer": "ipython2",
   "version": "2.7.15"
  }
 },
 "nbformat": 4,
 "nbformat_minor": 2
}
