{
 "cells": [
  {
   "cell_type": "markdown",
   "metadata": {},
   "source": [
    "# Mapping the phase space of a jet"
   ]
  },
  {
   "cell_type": "markdown",
   "metadata": {},
   "source": [
    "## 1-D Unfolding  of $\\tau_{21}^{(1.)}$ measured with $E$-scheme recombination+exclusive $k_T$ axes and with WTA $k_T$ axes, with a purity&stability study for each observables' binning\n"
   ]
  },
  {
   "cell_type": "markdown",
   "metadata": {},
   "source": [
    "#### Firstly , import the ROOT data analysis framework which will be used to read the data files and unfold the final result. "
   ]
  },
  {
   "cell_type": "code",
   "execution_count": 1,
   "metadata": {},
   "outputs": [
    {
     "name": "stdout",
     "output_type": "stream",
     "text": [
      "Welcome to JupyROOT 6.18/00\n"
     ]
    }
   ],
   "source": [
    "import ROOT\n",
    "import array as array\n",
    "import os\n",
    "import glob\n",
    "from ROOT import TH1D, TH2D, TTree,TFile\n",
    "from random import gauss\n",
    "import numpy as np\n",
    "import root_numpy as rtnpy\n",
    "from root_numpy import *\n",
    "import h5py\n",
    "from awkward import JaggedArray, Table\n",
    "import matplotlib.pyplot as plt\n",
    "import seaborn as sns\n",
    "ROOT.TH1.SetDefaultSumw2()\n",
    "\n"
   ]
  },
  {
   "cell_type": "code",
   "execution_count": 2,
   "metadata": {},
   "outputs": [],
   "source": [
    "%jsroot on"
   ]
  },
  {
   "cell_type": "code",
   "execution_count": 3,
   "metadata": {
    "scrolled": true
   },
   "outputs": [
    {
     "name": "stdout",
     "output_type": "stream",
     "text": [
      "2016 Single Muon dataset luminosity:35.92\n"
     ]
    }
   ],
   "source": [
    "lumi = 5.75+2.57+4.24+4.03+3.11+7.57+8.65 #B+C+D+E+F+G+H\n",
    "print \"2016 Single Muon dataset luminosity:%0.2f\"%(lumi)"
   ]
  },
  {
   "cell_type": "code",
   "execution_count": 4,
   "metadata": {},
   "outputs": [],
   "source": [
    "systs = ['Jmr', 'Jms', 'pileup', 'JesTotal', 'Lumi', 'lhaPDF', 'Jer']\n",
    "\n",
    "uncert_colors = [ 4 ,  4 , ROOT.kCyan +1 ,2 ,      ROOT.kYellow+3,    ROOT.kMagenta ,  2 , ROOT.kBlack ,ROOT.kBlack ,    ROOT.kCyan +3 , ROOT.kViolet+3 ,  ROOT.kAzure+2 , ROOT.kMagenta+1 ,ROOT.kViolet+3 ,  ROOT.kRed ,   ROOT.kCyan +3 , ROOT.kViolet+3 ,  ROOT.kAzure+2 , ROOT.kMagenta+1 ,   ROOT.kCyan +3 , ROOT.kViolet+3 ,  ROOT.kAzure+2 , ROOT.kMagenta+1 ,ROOT.kViolet+3 ,  ROOT.kRed ,   ROOT.kCyan +3 , ROOT.kViolet+3 ,  ROOT.kAzure+2 , ROOT.kMagenta+1 ]\n",
    "uncert_lines = [ 5,8,7,3,    5,    6,8,1, 2, 4, 5, 1, 7, 8, 1, 7,7,4,4,5,2,1,3, 2, 4, 5, 1, 7, 8, 1]"
   ]
  },
  {
   "cell_type": "markdown",
   "metadata": {},
   "source": [
    "#### Below the MC and Data events are read from ROOT trees which only contain events meeting the selection criteria set forth in this __[script](https://github.com/kaustuvdatta/jetObservables/blob/102X/python/nSubProducer_gen_reco.py)__ and thereafter in the nSubExtractor class"
   ]
  },
  {
   "cell_type": "code",
   "execution_count": 5,
   "metadata": {},
   "outputs": [],
   "source": [
    "from nSubExtractor_old import nSubExtractor_old as nSubExtractor"
   ]
  },
  {
   "cell_type": "markdown",
   "metadata": {},
   "source": [
    "### Loading datasets of $N$-subjettiness bases measured with E-scheme"
   ]
  },
  {
   "cell_type": "code",
   "execution_count": 6,
   "metadata": {},
   "outputs": [
    {
     "name": "stdout",
     "output_type": "stream",
     "text": [
      "(6270, 21) (6270, 2)\n"
     ]
    },
    {
     "name": "stderr",
     "output_type": "stream",
     "text": [
      "Warning in <TClass::Init>: no dictionary for class edm::ProcessHistory is available\n",
      "Warning in <TClass::Init>: no dictionary for class edm::ProcessConfiguration is available\n",
      "Warning in <TClass::Init>: no dictionary for class edm::ParameterSetBlob is available\n",
      "Warning in <TClass::Init>: no dictionary for class edm::Hash<1> is available\n",
      "Warning in <TClass::Init>: no dictionary for class pair<edm::Hash<1>,edm::ParameterSetBlob> is available\n"
     ]
    }
   ],
   "source": [
    "a = nSubExtractor(isMC=1, axisdef=\"\", sample=\"TTbar/2\")\n",
    "TTbarMG_dataset, TTbarMG_reco_nSub_basis, TTbarMG_gen_nSub_basis, TTbarMG_weights = a.sample_loader()\n",
    "\n",
    "print TTbarMG_reco_nSub_basis.shape, TTbarMG_weights.shape"
   ]
  },
  {
   "cell_type": "code",
   "execution_count": 7,
   "metadata": {},
   "outputs": [
    {
     "name": "stdout",
     "output_type": "stream",
     "text": [
      "(43107, 21) (43107, 2)\n"
     ]
    }
   ],
   "source": [
    "a = nSubExtractor(isMC=1, axisdef=\"\", sample=\"TTbar/1\")\n",
    "TTbar_dataset, TTbar_reco_nSub_basis, TTbar_gen_nSub_basis, TTbar_weights  = a.sample_loader()\n",
    "\n",
    "print TTbar_reco_nSub_basis.shape, TTbar_weights.shape"
   ]
  },
  {
   "cell_type": "code",
   "execution_count": 8,
   "metadata": {},
   "outputs": [
    {
     "name": "stdout",
     "output_type": "stream",
     "text": [
      "(900, 21) (900, 2)\n"
     ]
    }
   ],
   "source": [
    "a = nSubExtractor(isMC=1, axisdef=\"\", sample=\"ST/1\")\n",
    "ST1_dataset, ST1_reco_nSub_basis, ST1_gen_nSub_basis, ST1_weights  = a.sample_loader()\n",
    "print ST1_reco_nSub_basis.shape, ST1_weights.shape"
   ]
  },
  {
   "cell_type": "code",
   "execution_count": 9,
   "metadata": {},
   "outputs": [
    {
     "name": "stdout",
     "output_type": "stream",
     "text": [
      "(1988, 21) (1988, 2)\n"
     ]
    }
   ],
   "source": [
    "a = nSubExtractor(isMC=1, axisdef=\"\", sample=\"ST/2\")\n",
    "ST2_dataset, ST2_reco_nSub_basis, ST2_gen_nSub_basis, ST2_weights  = a.sample_loader()\n",
    "print ST2_reco_nSub_basis.shape, ST2_weights.shape"
   ]
  },
  {
   "cell_type": "code",
   "execution_count": 10,
   "metadata": {},
   "outputs": [
    {
     "name": "stdout",
     "output_type": "stream",
     "text": [
      "(594, 21) (594, 2)\n"
     ]
    }
   ],
   "source": [
    "a = nSubExtractor(isMC=1, axisdef=\"\", sample=\"ST/3\")\n",
    "ST3_dataset, ST3_reco_nSub_basis, ST3_gen_nSub_basis, ST3_weights  = a.sample_loader()\n",
    "print ST3_reco_nSub_basis.shape, ST3_weights.shape"
   ]
  },
  {
   "cell_type": "code",
   "execution_count": 11,
   "metadata": {},
   "outputs": [
    {
     "name": "stdout",
     "output_type": "stream",
     "text": [
      "(617, 21) (617, 2)\n"
     ]
    }
   ],
   "source": [
    "a = nSubExtractor(isMC=1, axisdef=\"\", sample=\"ST/4\")\n",
    "ST4_dataset, ST4_reco_nSub_basis, ST4_gen_nSub_basis, ST4_weights  = a.sample_loader()\n",
    "print ST4_reco_nSub_basis.shape, ST4_weights.shape"
   ]
  },
  {
   "cell_type": "code",
   "execution_count": 12,
   "metadata": {},
   "outputs": [
    {
     "name": "stdout",
     "output_type": "stream",
     "text": [
      "(69, 21) (69, 2)\n"
     ]
    }
   ],
   "source": [
    "a = nSubExtractor(isMC=1, axisdef=\"\", sample=\"ST/5\")\n",
    "ST5_dataset, ST5_reco_nSub_basis, ST5_gen_nSub_basis, ST5_weights  = a.sample_loader()\n",
    "print ST5_reco_nSub_basis.shape, ST5_weights.shape"
   ]
  },
  {
   "cell_type": "code",
   "execution_count": 13,
   "metadata": {},
   "outputs": [
    {
     "name": "stdout",
     "output_type": "stream",
     "text": [
      "(207, 21) (207, 3)\n"
     ]
    }
   ],
   "source": [
    "a = nSubExtractor(isMC=1, axisdef=\"\", sample=\"Wjets/2\")\n",
    "Wjets_dataset, Wjets_reco_nSub_basis, Wjets_gen_nSub_basis, Wjets_weights = a.sample_loader()\n",
    "print Wjets_reco_nSub_basis.shape, Wjets_weights.shape"
   ]
  },
  {
   "cell_type": "code",
   "execution_count": 14,
   "metadata": {},
   "outputs": [
    {
     "name": "stdout",
     "output_type": "stream",
     "text": [
      "(16482, 21)\n"
     ]
    }
   ],
   "source": [
    "a = nSubExtractor(isMC=0, axisdef=\"\", sample=\"Data\")\n",
    "data_dataset, data_nSub_basis,  = a.sample_loader()\n",
    "print data_nSub_basis.shape"
   ]
  },
  {
   "cell_type": "code",
   "execution_count": 15,
   "metadata": {
    "scrolled": true
   },
   "outputs": [],
   "source": [
    "weight_ST1 = (80.95*0.322*lumi*1000.)/(38811017.)*np.ones(ST1_weights.shape[0])*ST1_weights[:,0]*ST1_weights[:,1]*0.8\n",
    "weight_ST2 = (0.322*136.02*lumi*1000.)/(66960888.)*np.ones(ST2_weights.shape[0])*ST2_weights[:,0]*ST2_weights[:,1]*0.8\n",
    "weight_ST3 = (35.6*lumi*1000.)/(998276.)*np.ones(ST3_weights.shape[0])*ST3_weights[:,0]*ST3_weights[:,1]*0.8\n",
    "weight_ST4 = (35.6*lumi*1000.)/(992024.)*np.ones(ST4_weights.shape[0])*ST4_weights[:,0]*ST4_weights[:,1]*0.8\n",
    "weight_ST5 = (10.12*lumi*1000.)/(2989199.)*np.ones(ST5_weights.shape[0])*ST5_weights[:,0]*ST5_weights[:,1]*0.8\n",
    "weight_TTbar = (831.76*lumi*1000.)/76915549.*np.ones(TTbar_weights.shape[0])*TTbar_weights[:,0]*TTbar_weights[:,1]*0.8\n",
    "weight_Wjets = ((60781.5*lumi*1000.)*(Wjets_weights[:,2]/abs(Wjets_weights[:,2][0]))/158307515.0)*Wjets_weights[:,0]*Wjets_weights[:,1]*0.8 \n",
    "weight_data = 1.0*np.ones(data_nSub_basis.shape[0])\n",
    "\n",
    "#print lumi, weight_Wjets\n",
    "#print TTbar_weights[:,0]"
   ]
  },
  {
   "cell_type": "code",
   "execution_count": 16,
   "metadata": {},
   "outputs": [
    {
     "name": "stdout",
     "output_type": "stream",
     "text": [
      "4681\n"
     ]
    }
   ],
   "source": [
    "lenW = Wjets_reco_nSub_basis.shape[0]\n",
    "lenST = ST1_reco_nSub_basis.shape[0]+ST1_reco_nSub_basis.shape[0]+ST2_reco_nSub_basis.shape[0]+ST4_reco_nSub_basis.shape[0]+ST5_reco_nSub_basis.shape[0]\n",
    "lenbkg = lenW+lenST\n",
    "print lenbkg"
   ]
  },
  {
   "cell_type": "code",
   "execution_count": 17,
   "metadata": {},
   "outputs": [],
   "source": [
    "bkg_reco_nSub_basis = np.concatenate((Wjets_reco_nSub_basis, ST1_reco_nSub_basis, ST2_reco_nSub_basis, ST3_reco_nSub_basis, ST4_reco_nSub_basis, ST5_reco_nSub_basis))"
   ]
  },
  {
   "cell_type": "code",
   "execution_count": 18,
   "metadata": {},
   "outputs": [
    {
     "name": "stdout",
     "output_type": "stream",
     "text": [
      "4681\n"
     ]
    }
   ],
   "source": [
    "lenW = Wjets_gen_nSub_basis.shape[0]\n",
    "lenST = ST1_gen_nSub_basis.shape[0]+ST1_gen_nSub_basis.shape[0]+ST2_gen_nSub_basis.shape[0]+ST4_gen_nSub_basis.shape[0]+ST5_gen_nSub_basis.shape[0]\n",
    "lenbkg = lenW+lenST\n",
    "print lenbkg"
   ]
  },
  {
   "cell_type": "code",
   "execution_count": 19,
   "metadata": {},
   "outputs": [],
   "source": [
    "bkg_gen_nSub_basis = np.concatenate((Wjets_gen_nSub_basis, ST1_gen_nSub_basis, ST2_gen_nSub_basis, ST3_gen_nSub_basis, ST4_gen_nSub_basis, ST5_gen_nSub_basis))"
   ]
  },
  {
   "cell_type": "markdown",
   "metadata": {},
   "source": [
    "# Unfolding $\\tau_{1}^{(0.5)}$ with background subtraction"
   ]
  },
  {
   "cell_type": "code",
   "execution_count": 20,
   "metadata": {},
   "outputs": [],
   "source": [
    "Wjets_gen_tau1_0p5 = Wjets_gen_nSub_basis[:,0]\n",
    "\n",
    "ST1_gen_tau1_0p5 = ST1_gen_nSub_basis[:,0]\n",
    "\n",
    "ST2_gen_tau1_0p5 = ST2_gen_nSub_basis[:,0]\n",
    "\n",
    "ST3_gen_tau1_0p5 = ST3_gen_nSub_basis[:,0]\n",
    "\n",
    "ST4_gen_tau1_0p5 = ST4_gen_nSub_basis[:,0]\n",
    "\n",
    "ST5_gen_tau1_0p5 = ST5_gen_nSub_basis[:,0]\n",
    "\n",
    "TTbar_gen_tau1_0p5 = TTbar_gen_nSub_basis[:,0]"
   ]
  },
  {
   "cell_type": "code",
   "execution_count": 21,
   "metadata": {},
   "outputs": [],
   "source": [
    "Wjets_reco_tau1_0p5 = Wjets_reco_nSub_basis[:,0]\n",
    "\n",
    "ST1_reco_tau1_0p5 = ST1_reco_nSub_basis[:,0]\n",
    "\n",
    "ST2_reco_tau1_0p5 = ST2_reco_nSub_basis[:,0]\n",
    "\n",
    "ST3_reco_tau1_0p5 = ST3_reco_nSub_basis[:,0]\n",
    "\n",
    "ST4_reco_tau1_0p5 = ST4_reco_nSub_basis[:,0]\n",
    "\n",
    "ST5_reco_tau1_0p5 = ST5_reco_nSub_basis[:,0]\n",
    "\n",
    "TTbar_reco_tau1_0p5 = TTbar_reco_nSub_basis[:,0]"
   ]
  },
  {
   "cell_type": "code",
   "execution_count": 22,
   "metadata": {},
   "outputs": [],
   "source": [
    "MC_sig_reco_tau1_0p5 = TTbar_reco_tau1_0p5\n",
    "MC_sig_gen_tau1_0p5 = TTbar_gen_tau1_0p5\n",
    "\n",
    "MC_bkg_reco_tau1_0p5 = np.concatenate((ST1_reco_tau1_0p5,ST2_reco_tau1_0p5,ST3_reco_tau1_0p5,ST4_reco_tau1_0p5,ST5_reco_tau1_0p5,Wjets_reco_tau1_0p5))\n",
    "MC_bkg_gen_tau1_0p5 = np.concatenate((ST1_gen_tau1_0p5,ST2_gen_tau1_0p5,ST3_gen_tau1_0p5,ST4_gen_tau1_0p5,ST5_gen_tau1_0p5,Wjets_gen_tau1_0p5))\n",
    "\n",
    "data_tau1_0p5 = data_nSub_basis[:,0]\n",
    "weights_MC_sig = weight_TTbar\n",
    "weights_MC_bkg = np.concatenate((weight_ST1,weight_ST2,weight_ST3,weight_ST4,weight_ST5,weight_Wjets))"
   ]
  },
  {
   "cell_type": "markdown",
   "metadata": {
    "collapsed": true
   },
   "source": [
    "Get the response matrix and input 1D distributions for unfolding."
   ]
  },
  {
   "cell_type": "code",
   "execution_count": 23,
   "metadata": {},
   "outputs": [
    {
     "name": "stdout",
     "output_type": "stream",
     "text": [
      "0.031558502465486526\n",
      "0.201133131980896\n",
      "0.7815538644790649\n",
      "0.7673891186714172 \n",
      "\n",
      "0.08966122567653656\n",
      "0.23186787962913513\n",
      "0.7314139604568481\n",
      "0.7220256924629211 \n",
      "\n",
      "0.2213667929172516\n",
      "0.7536691427230835\n"
     ]
    }
   ],
   "source": [
    "print np.min(MC_sig_gen_tau1_0p5)\n",
    "print np.min(MC_sig_reco_tau1_0p5)\n",
    "print np.max(MC_sig_gen_tau1_0p5)\n",
    "print np.max(MC_sig_reco_tau1_0p5), \"\\n\"\n",
    "\n",
    "\n",
    "print np.min(MC_bkg_gen_tau1_0p5)\n",
    "print np.min(MC_bkg_reco_tau1_0p5)\n",
    "print np.max(MC_bkg_gen_tau1_0p5)\n",
    "print np.max(MC_bkg_reco_tau1_0p5), \"\\n\"\n",
    "\n",
    "\n",
    "print np.min(data_tau1_0p5)\n",
    "print np.max(data_tau1_0p5)"
   ]
  },
  {
   "cell_type": "markdown",
   "metadata": {
    "collapsed": true
   },
   "source": [
    "#### Set the axis ranges for the generator nd detector level distributions as well as the number of bins in each. Note that we want twice as many detector bins as generator level bins as recommended by the TUnfold documenation "
   ]
  },
  {
   "cell_type": "raw",
   "metadata": {},
   "source": [
    "gen_bins = np.array([x for x in np.linspace(num=8, start=0.29, stop=0.71)])\n",
    "gen_bins = np.concatenate((np.array([0.,]), gen_bins, np.array([0.8,])))\n",
    "print gen_bins, gen_bins.shape[0]\n",
    "\n",
    "det_bins = np.array([x for x in np.linspace(num=15, start=0.29, stop=0.71)])\n",
    "det_bins = np.concatenate((np.array([0.,0.145]), det_bins, np.array([0.76, 0.8]),))\n",
    "print det_bins, det_bins.shape[0]"
   ]
  },
  {
   "cell_type": "markdown",
   "metadata": {
    "collapsed": true
   },
   "source": [
    "### Get the response matrix and input 1D distributions for unfolding."
   ]
  },
  {
   "cell_type": "markdown",
   "metadata": {
    "collapsed": true
   },
   "source": [
    "#### Set the axis ranges for the generator nd detector level distributions as well as the number of bins in each. Note that we want twice as many detector bins as generator level bins as recommended by the TUnfold documenation "
   ]
  },
  {
   "cell_type": "code",
   "execution_count": 24,
   "metadata": {},
   "outputs": [
    {
     "name": "stdout",
     "output_type": "stream",
     "text": [
      "[0.   0.29 0.35 0.41 0.47 0.53 0.59 0.65 0.71 0.8 ] 10\n",
      "[0.    0.145 0.29  0.32  0.35  0.38  0.41  0.44  0.47  0.5   0.53  0.56\n",
      " 0.59  0.62  0.65  0.68  0.71  0.76  0.8  ] 19\n"
     ]
    }
   ],
   "source": [
    "gen_bins1 = np.array([x for x in np.linspace(num=8, start=0.29, stop=0.71)])\n",
    "gen_bins1 = np.concatenate((np.array([0.,]), gen_bins1, np.array([0.8,])))\n",
    "print gen_bins1, gen_bins1.shape[0]\n",
    "\n",
    "det_bins1 = np.array([x for x in np.linspace(num=15, start=0.29, stop=0.71)])\n",
    "det_bins1 = np.concatenate((np.array([0.,0.145]), det_bins1, np.array([0.76, 0.8]),))\n",
    "print det_bins1, det_bins1.shape[0]"
   ]
  },
  {
   "cell_type": "code",
   "execution_count": 25,
   "metadata": {},
   "outputs": [
    {
     "name": "stdout",
     "output_type": "stream",
     "text": [
      "[0.    0.29  0.332 0.374 0.416 0.458 0.5   0.542 0.584 0.626 0.668 0.71\n",
      " 0.8  ] 13\n",
      "[0.    0.145 0.29  0.311 0.332 0.353 0.374 0.395 0.416 0.437 0.458 0.479\n",
      " 0.5   0.521 0.542 0.563 0.584 0.605 0.626 0.647 0.668 0.689 0.71  0.76\n",
      " 0.8  ] 25\n"
     ]
    }
   ],
   "source": [
    "gen_bins2 = np.array([x for x in np.linspace(num=11, start=0.29, stop=0.71)])\n",
    "gen_bins2 = np.concatenate((np.array([0.,]), gen_bins2, np.array([0.8,])))\n",
    "print gen_bins2, gen_bins2.shape[0]\n",
    "\n",
    "det_bins2 = np.array([x for x in np.linspace(num=21, start=0.29, stop=0.71)])\n",
    "det_bins2 = np.concatenate((np.array([0.,0.145]), det_bins2, np.array([0.76, 0.8]),))\n",
    "print det_bins2, det_bins2.shape[0]"
   ]
  },
  {
   "cell_type": "code",
   "execution_count": 26,
   "metadata": {},
   "outputs": [
    {
     "name": "stdout",
     "output_type": "stream",
     "text": [
      "[0.    0.29  0.325 0.36  0.395 0.43  0.465 0.5   0.535 0.57  0.605 0.64\n",
      " 0.675 0.71  0.8  ] 15\n",
      "[0.     0.145  0.29   0.3075 0.325  0.3425 0.36   0.3775 0.395  0.4125\n",
      " 0.43   0.4475 0.465  0.4825 0.5    0.5175 0.535  0.5525 0.57   0.5875\n",
      " 0.605  0.6225 0.64   0.6575 0.675  0.6925 0.71   0.76   0.8   ] 29\n"
     ]
    }
   ],
   "source": [
    "gen_bins3 = np.array([x for x in np.linspace(num=13, start=0.29, stop=0.71)])\n",
    "gen_bins3 = np.concatenate((np.array([0.,]), gen_bins3, np.array([0.8,])))\n",
    "print gen_bins3, gen_bins3.shape[0]\n",
    "\n",
    "det_bins3 = np.array([x for x in np.linspace(num=25, start=0.29, stop=0.71)])\n",
    "det_bins3 = np.concatenate((np.array([0.,0.145]), det_bins3, np.array([0.76, 0.8]),))\n",
    "print det_bins3, det_bins3.shape[0]"
   ]
  },
  {
   "cell_type": "code",
   "execution_count": 27,
   "metadata": {},
   "outputs": [
    {
     "name": "stdout",
     "output_type": "stream",
     "text": [
      "[0.      0.25    0.30625 0.3625  0.41875 0.475   0.53125 0.5875  0.64375\n",
      " 0.7     0.8    ] 11\n",
      "[0.       0.145    0.25     0.278125 0.30625  0.334375 0.3625   0.390625\n",
      " 0.41875  0.446875 0.475    0.503125 0.53125  0.559375 0.5875   0.615625\n",
      " 0.64375  0.671875 0.7      0.75     0.8     ] 21\n"
     ]
    }
   ],
   "source": [
    "gen_bins4 = np.array([x for x in np.linspace(num=9, start=0.25, stop=0.7)])\n",
    "gen_bins4 = np.concatenate((np.array([0.,]), gen_bins4, np.array([0.8,])))\n",
    "print gen_bins4, gen_bins4.shape[0]\n",
    "\n",
    "det_bins4 = np.array([x for x in np.linspace(num=17, start=0.25, stop=0.7)])\n",
    "det_bins4 = np.concatenate((np.array([0.,0.145]), det_bins4, np.array([0.75, 0.8]),))\n",
    "print det_bins4, det_bins4.shape[0]"
   ]
  },
  {
   "cell_type": "code",
   "execution_count": 28,
   "metadata": {},
   "outputs": [
    {
     "name": "stdout",
     "output_type": "stream",
     "text": [
      "[0.    0.25  0.295 0.34  0.385 0.43  0.475 0.52  0.565 0.61  0.655 0.7\n",
      " 0.8  ] 13\n",
      "[0.     0.145  0.25   0.2725 0.295  0.3175 0.34   0.3625 0.385  0.4075\n",
      " 0.43   0.4525 0.475  0.4975 0.52   0.5425 0.565  0.5875 0.61   0.6325\n",
      " 0.655  0.6775 0.7    0.75   0.8   ] 25\n"
     ]
    }
   ],
   "source": [
    "gen_bins5 = np.array([x for x in np.linspace(num=11, start=0.25, stop=0.7)])\n",
    "gen_bins5 = np.concatenate((np.array([0.,]), gen_bins5, np.array([0.8,])))\n",
    "print gen_bins5, gen_bins5.shape[0]\n",
    "\n",
    "det_bins5 = np.array([x for x in np.linspace(num=21, start=0.25, stop=0.7)])\n",
    "det_bins5 = np.concatenate((np.array([0.,0.145]), det_bins5, np.array([0.75, 0.8]),))\n",
    "print det_bins5, det_bins5.shape[0]"
   ]
  },
  {
   "cell_type": "code",
   "execution_count": 29,
   "metadata": {},
   "outputs": [
    {
     "name": "stdout",
     "output_type": "stream",
     "text": [
      "[0.       0.25     0.278125 0.30625  0.334375 0.3625   0.390625 0.41875\n",
      " 0.446875 0.475    0.503125 0.53125  0.559375 0.5875   0.615625 0.64375\n",
      " 0.671875 0.7      0.8     ] 19\n",
      "[0.        0.145     0.25      0.2640625 0.278125  0.2921875 0.30625\n",
      " 0.3203125 0.334375  0.3484375 0.3625    0.3765625 0.390625  0.4046875\n",
      " 0.41875   0.4328125 0.446875  0.4609375 0.475     0.4890625 0.503125\n",
      " 0.5171875 0.53125   0.5453125 0.559375  0.5734375 0.5875    0.6015625\n",
      " 0.615625  0.6296875 0.64375   0.6578125 0.671875  0.6859375 0.7\n",
      " 0.75      0.8      ] 37\n"
     ]
    }
   ],
   "source": [
    "gen_bins6 = np.array([x for x in np.linspace(num=17, start=0.25, stop=0.7)])\n",
    "gen_bins6 = np.concatenate((np.array([0.,]), gen_bins6, np.array([0.8,])))\n",
    "print gen_bins6, gen_bins6.shape[0]\n",
    "\n",
    "det_bins6 = np.array([x for x in np.linspace(num=33, start=0.25, stop=0.7)])\n",
    "det_bins6 = np.concatenate((np.array([0.,0.145]), det_bins6, np.array([0.75, 0.8]),))\n",
    "print det_bins6, det_bins6.shape[0]"
   ]
  },
  {
   "cell_type": "code",
   "execution_count": 30,
   "metadata": {},
   "outputs": [],
   "source": [
    "det_bins_arr = [det_bins1, det_bins2, det_bins3, det_bins4, det_bins5, det_bins6]\n",
    "gen_bins_arr = [gen_bins1, gen_bins2, gen_bins3, gen_bins4, gen_bins5, gen_bins6]"
   ]
  },
  {
   "cell_type": "raw",
   "metadata": {},
   "source": [
    "gen_bins = np.array([x for x in np.linspace(num=11, start=0., stop=1.)])\n",
    "print gen_bins, gen_bins.shape[0]\n",
    "\n",
    "det_bins = np.array([x for x in np.linspace(num=21, start=0., stop=1.)])\n",
    "print det_bins, det_bins.shape[0]"
   ]
  },
  {
   "cell_type": "markdown",
   "metadata": {},
   "source": [
    "#### Fill histograms for sig and bkg. MC separately in this case (as one should!)"
   ]
  },
  {
   "cell_type": "code",
   "execution_count": 31,
   "metadata": {},
   "outputs": [],
   "source": [
    "def fill_hists(gen_bins, det_bins, MC_sig_reco_obs, MC_sig_gen_obs, MC_bkg_reco_obs, MC_bkg_gen_obs, data_obs):\n",
    "        \n",
    "    histMgenMC_bkg = ROOT.TH1D(\"histMgenMC_bkg\", \"histMgenMC_bkg; #tau_{1}^{(0.5)}; Events/(0.02)\",  gen_bins.shape[0]-1, (gen_bins))\n",
    "    fill_hist(histMgenMC_bkg, MC_bkg_gen_obs, weights=weights_MC_bkg)\n",
    "\n",
    "    histMdetMC_bkg = ROOT.TH1D(\"histMdetMC_bkg\", \"histMdetMC_bkg; #tau_{1}^{(0.5)}; Events/(0.02)\", det_bins.shape[0]-1, (det_bins))\n",
    "    fill_hist(histMdetMC_bkg, MC_bkg_reco_obs, weights=weights_MC_bkg)\n",
    "\n",
    "    histMgenMC_sig = ROOT.TH1D(\"histMgenMC_sig\", \"histMgenMC_sig; #tau_{1}^{(0.5)}; Events/(0.02)\",  gen_bins.shape[0]-1, (gen_bins))\n",
    "    fill_hist(histMgenMC_sig, MC_sig_gen_obs, weights=weights_MC_sig)\n",
    "\n",
    "    histMdetMC_sig = ROOT.TH1D(\"histMdetMC_sig\", \"histMdetMC_sig; #tau_{1}^{(0.5)}; Events/(0.02)\", det_bins.shape[0]-1, (det_bins))\n",
    "    fill_hist(histMdetMC_sig, MC_sig_reco_obs, weights=weights_MC_sig)\n",
    "\n",
    "    #histMgenData = ROOT.TH1D(\"histMgenData\", \"histMgenData; #tau_{1}^{(0.5)}; Events/(0.02)\", gen_bins.shape[0]-1, (gen_bins))\n",
    "    #fill_hist(histMgenData, TTbartruth_nSub_basis[:,4]/TTbartruth_nSub_basis[:,1])\n",
    "\n",
    "    histMdetData = ROOT.TH1D(\"histMdetData\", \"histMdetData; #tau_{1}^{(0.5)}; Events/(0.02)\", det_bins.shape[0]-1, (det_bins))\n",
    "    fill_hist(histMdetData, data_obs)\n",
    "\n",
    "    histMgenMC_bkg.SetTitle(\";#tau_{1}^{(0.5)}(gen_bkg)\")\n",
    "    histMdetMC_bkg.SetTitle(\";#tau_{1}^{(0.5)}(det_bkg)\")\n",
    "    histMgenMC_sig.SetTitle(\";#tau_{1}^{(0.5)}(gen_sig)\")\n",
    "    histMdetMC_sig.SetTitle(\";#tau_{1}^{(0.5)}(det_sig)\")\n",
    "    histMdetData.SetTitle(\";#tau_{1}^{(0.5)}(data)\")\n",
    "\n",
    "\n",
    "    ### Fill response matrix\n",
    "\n",
    "    response = ROOT.TH2D('response', 'response', det_bins.shape[0]-1, det_bins, gen_bins.shape[0]-1, gen_bins)\n",
    "    hist2Dfill = np.zeros((MC_sig_reco_obs.shape[0], 2))\n",
    "    hist2Dfill[:,0] = MC_sig_reco_obs.flatten()\n",
    "    hist2Dfill[:,1] = MC_sig_gen_obs.flatten()\n",
    "    fill_hist(response, hist2Dfill, weights_MC_sig)\n",
    "    response.SetTitle(\"Nominal Response Matrix;#tau_{1}^{(0.5)}(det_sig);#tau_{1}^{(0.5)}(gen_sig)\")\n",
    "\n",
    "    '''\n",
    "    ##### Normalise the distributions, draw them and the response matrix.\n",
    "\n",
    "    norm_genMC_bkg = histMgenMC_bkg.Integral()\n",
    "    print norm_genMC_bkg\n",
    "\n",
    "    norm_recoMC_bkg = histMdetMC_bkg.Integral()\n",
    "    print norm_recoMC_bkg\n",
    "\n",
    "    norm_genMC_sig = histMgenMC_sig.Integral()\n",
    "    print norm_genMC_sig\n",
    "\n",
    "    norm_recoMC_sig = histMdetMC_sig.Integral()\n",
    "    print norm_recoMC_sig\n",
    "\n",
    "    #norm_genData = histMgenData.Integral()\n",
    "    #print norm_genData\n",
    "\n",
    "    norm_detData = histMdetData.Integral()\n",
    "    print norm_detData\n",
    "\n",
    "    hMC_gen_bkg = ROOT.TH1D(histMgenMC_bkg)\n",
    "    #hMC_gen_bkg.Scale(1./norm_genMC_bkg)\n",
    "\n",
    "    hMC_reco_bkg = ROOT.TH1D(histMdetMC_bkg)\n",
    "    #hMC_reco_bkg.Scale(1./norm_recoMC_bkg)\n",
    "\n",
    "    hMC_gen_sig = ROOT.TH1D(histMgenMC_sig)\n",
    "    #hMC_gen_sig.Scale(1./norm_genMC_sig)\n",
    "\n",
    "    hMC_reco_sig = ROOT.TH1D(histMdetMC_sig)\n",
    "    #hMC_reco_sig.Scale(1./norm_recoMC_sig)\n",
    "\n",
    "    hMC_data = ROOT.TH1D(histMdetData)\n",
    "    #histMgenData.Scale(1./norm_genData)\n",
    "    #histMdetData.Scale(1./norm_detData)\n",
    "\n",
    "    histMgenMC_bkg.Scale(1./norm_genMC_bkg)\n",
    "    histMdetMC_bkg.Scale(1./norm_recoMC_bkg)\n",
    "    histMgenMC_sig.Scale(1./norm_genMC_sig)\n",
    "    histMdetMC_sig.Scale(1./norm_recoMC_sig)\n",
    "\n",
    "    #histMgenData.Scale(1./norm_genData)\n",
    "    histMdetData.Scale(1./norm_detData)\n",
    "    '''\n",
    "    \n",
    "    return histMgenMC_bkg, histMdetMC_bkg, histMgenMC_sig, histMdetMC_sig, histMdetData, response"
   ]
  },
  {
   "cell_type": "markdown",
   "metadata": {},
   "source": [
    "### Purity and Stability calculation"
   ]
  },
  {
   "cell_type": "markdown",
   "metadata": {},
   "source": [
    "We define purity as the fraction of reconstructed events that are generated in the same bin, \n",
    "and stability as the fraction of generated events that are reconstructed in the same\n",
    "bin, divided by the overall reconstruction efficiency per bin. "
   ]
  },
  {
   "cell_type": "code",
   "execution_count": 32,
   "metadata": {
    "scrolled": true
   },
   "outputs": [],
   "source": [
    "def purity_stability_calc(gen_bins, MC_sig_gen_obs, det_bins, MC_sig_reco_obs, verbose=True ):\n",
    "    \n",
    "    purity = ROOT.TH1D(\"purity\", \"Purity and stability study; #tau_{1}^{1}; \",  gen_bins.shape[0]-1, (gen_bins))\n",
    "    stability = ROOT.TH1D(\"stability\", \"Purity and stability study; #tau_{1}^{1}; \",  gen_bins.shape[0]-1, (gen_bins))\n",
    "    efficiency = ROOT.TH1D(\"efficiency\", \"Purity and stability study; #tau_{1}^{1}; \",  gen_bins.shape[0]-1, (gen_bins))\n",
    "\n",
    "    gen_arr = MC_sig_gen_obs[:]\n",
    "    gen_bin_index = np.digitize(gen_arr, gen_bins)\n",
    "    if verbose: print gen_bin_index\n",
    "    \n",
    "    det_arr = MC_sig_reco_obs[:]\n",
    "    det_bin_index = np.digitize(det_arr, gen_bins)\n",
    "    det_bin_index2 = np.digitize(det_arr, det_bins)\n",
    "    \n",
    "    ndet_pergenbin = [0.] #N_recgen array = number of events generated in and reconstructed in gen bin i\n",
    "    ndet_genanywhere = [0.] # number of events reconstructed in gen _bin i but generated anywhere\n",
    "    ngen_detanywhere = [0.] # number of events generated in gen _bin i but reconstructed anywhere\n",
    "\n",
    "    ### purity = # of evts generated and reconstructed in gen bin i / # of evts reconstructed in gen bin i but generated anywhere\n",
    "    ### stability = # of evts generated and reconstructed in gen bin / # of evts generated in gen bin i but reconstructed anywhere\n",
    "    print \"Setting contents for P, S, eff. histos\"\n",
    "\n",
    "    for i in xrange(0, gen_bins.shape[0]-1):\n",
    "\n",
    "        #print i+1\n",
    "        for k in xrange(0, gen_bin_index.shape[0]):\n",
    "\n",
    "            if gen_bin_index[k]==i+1: \n",
    "                ngen_detanywhere[i]+=1 #stability denominator\n",
    "                if det_bin_index[k]==i+1: ndet_pergenbin[i]+=1\n",
    "\n",
    "        ngen_detanywhere.append(0.)\n",
    "        ndet_pergenbin.append(0.)\n",
    "\n",
    "        for k in xrange(0, det_bin_index.shape[0]):\n",
    "\n",
    "            if det_bin_index[k]==i+1: \n",
    "                ndet_genanywhere[i]+=1 #purity denominator\n",
    "\n",
    "        ndet_genanywhere.append(0.)\n",
    "\n",
    "        if verbose: print \"Setting contents for P, S, eff. histos, in bin %d\"%(i+1)\n",
    "        purity.SetBinContent(i+1, ndet_pergenbin[i]/ndet_genanywhere[i])\n",
    "        stability.SetBinContent(i+1, ndet_pergenbin[i]/ngen_detanywhere[i])\n",
    "        efficiency.SetBinContent(i+1, ndet_pergenbin[i]/43107.)\n",
    "\n",
    "\n",
    "    ndet_pergenbin = np.array(ndet_pergenbin)\n",
    "    ndet_genanywhere = np.array(ndet_genanywhere)\n",
    "    ngen_detanywhere = np.array(ngen_detanywhere)\n",
    "\n",
    "    try:\n",
    "        if verbose:print \"\\n\\n+++++++++Pure and Stable! :)+++++++++++++\\n\\n\"\n",
    "        if verbose: print ndet_pergenbin,\"\\n\"\n",
    "        if verbose: print ndet_genanywhere,\"\\n\"\n",
    "        purity_arr = ndet_pergenbin/ndet_genanywhere\n",
    "        if verbose:print \"Purity array:\", purity_arr[:-1], \"\\n\"\n",
    "\n",
    "        if verbose: print ndet_pergenbin,\"\\n\"\n",
    "        if verbose: print ngen_detanywhere,\"\\n\"\n",
    "        stability_arr = ndet_pergenbin/ngen_detanywhere\n",
    "        if verbose:print \"Stability array:\", stability_arr[:-1], \"\\n\"\n",
    "\n",
    "        if verbose:print \"+++++Efficiency+++++\\n\"\n",
    "        efficiency_arr = ndet_pergenbin/np.sum(ngen_detanywhere)\n",
    "        if verbose:print \"Efficiency array:\", efficiency_arr[:-1]\n",
    "\n",
    "\n",
    "        purity.SetLineColor(ROOT.kRed)\n",
    "        purity.SetLineWidth(2)\n",
    "        purity.SetLineStyle(2)\n",
    "        purity.SetMinimum(0.)\n",
    "        purity.SetMaximum(1.05)\n",
    "\n",
    "        stability.SetLineColor(9)\n",
    "        stability.SetLineWidth(2)\n",
    "        stability.SetLineStyle(2)\n",
    "        stability.SetMinimum(0.)\n",
    "        stability.SetMaximum(1.05)\n",
    "        stability.SetTitle(\"t#bar{t} 2016, W-selection \")\n",
    "        \n",
    "\n",
    "        return purity, stability\n",
    "    except:\n",
    "        print \"didn't work, binning issues probably the cause\"\n",
    "        return -1,-1"
   ]
  },
  {
   "cell_type": "markdown",
   "metadata": {},
   "source": [
    "### Unfolding "
   ]
  },
  {
   "cell_type": "code",
   "execution_count": 33,
   "metadata": {},
   "outputs": [],
   "source": [
    "def doUnfolding(response, histMdetData, histMdetMC_sig, histMdetMC_bkg, histMgenMC_sig):\n",
    "\n",
    "    print 'getting tunfolder:'\n",
    "\n",
    "    orientation = ROOT.TUnfoldDensity.kHistMapOutputHoriz\n",
    "    regMode = ROOT.TUnfoldDensity.kRegModeCurvature\n",
    "    con = ROOT.TUnfoldDensity.kEConstraintNone\n",
    "    mode =  ROOT.TUnfoldDensity.kDensityModeBinWidth\n",
    "    errmode = ROOT.TUnfoldSys.kSysErrModeMatrix\n",
    "    #tunfolder_MC = ROOT.TUnfoldDensity(response, orientation, regMode, con, mode, \"signal\", \"*[UOb]\")\n",
    "    #tunfolder_data = ROOT.TUnfoldDensity(response, orientation, regMode, con, mode, \"signal\", \"*[UOb]\")\n",
    "\n",
    "    tunfolder_MC = ROOT.TUnfoldDensity(response,ROOT.TUnfold.kHistMapOutputVert,ROOT.TUnfold.kRegModeCurvature, ROOT.TUnfold.kEConstraintNone, ROOT.TUnfoldDensity.kDensityModeBinWidth)\n",
    "    tunfolder_data = ROOT.TUnfoldDensity(response,ROOT.TUnfold.kHistMapOutputVert,ROOT.TUnfold.kRegModeCurvature, ROOT.TUnfold.kEConstraintNone, ROOT.TUnfoldDensity.kDensityModeBinWidth)\n",
    "\n",
    "    print 'setting reco input'\n",
    "    tunfolder_data.SetInput( histMdetData )\n",
    "    tunfolder_data.SubtractBackground( histMdetMC_bkg, \"bkg_all\", 1. )\n",
    "\n",
    "    print 'setting reco MC input'\n",
    "    tunfolder_MC.SetInput( histMdetMC_sig )\n",
    "    #tunfolder_MC.SubtractBackground( histMdetMC_bkg, \"bkg_all\", 1. )\n",
    "\n",
    "    unfolded_data = tunfolder_data.DoUnfold(0.)\n",
    "    unfolded_data = tunfolder_data.GetOutput(\"unfolded_data\")\n",
    "\n",
    "    unfolded_MC = tunfolder_MC.DoUnfold(0.)\n",
    "    unfolded_MC = tunfolder_MC.GetOutput(\"closure_unfolded_MC\")\n",
    "\n",
    "\n",
    "    unfolded_MC.SetMarkerStyle(2)\n",
    "    unfolded_MC.SetMarkerColor(7)\n",
    "    unfolded_MC.SetLineColor(7)\n",
    "    unfolded_MC.SetLineWidth(1)\n",
    "    #unfolded_MC.Rebin(2)\n",
    "\n",
    "    unfolded_data.SetMarkerStyle(22)\n",
    "    unfolded_data.SetMarkerColor(1)\n",
    "    unfolded_data.SetLineColor(1)\n",
    "    unfolded_data.SetLineWidth(2)\n",
    "    #unfolded_data.Rebin(2)\n",
    "\n",
    "\n",
    "    histMgenMC_sig.SetMarkerStyle(5)\n",
    "    histMgenMC_sig.SetMarkerColor(2)\n",
    "    histMgenMC_sig.SetLineColor(2)\n",
    "    #histMgenMC_sig.Rebin(2)\n",
    "\n",
    "\n",
    "    hs = ROOT.THStack(\"#tau_{1}^{(0.5)}\", \"#tau_{1}^{(0.5)}\")\n",
    "    #hs.Add\n",
    "    #hs.SetMaximum(5500)\n",
    "    hs.Add( unfolded_MC, \"E\")\n",
    "    hs.Add( unfolded_data, \"E \")\n",
    "    #hs.Add(histMgenMC_sig, \"E HIST\")\n",
    "\n",
    "    leg0 = ROOT.TLegend(0.05, 0.72, 0.91, 0.85)\n",
    "    leg0.SetTextSize(9)\n",
    "    leg0.AddEntry( unfolded_data, \"Data (2016)\", 'p')\n",
    "    #leg0.AddEntry( histMgenMC_sig, \"Generator-level (ttbar MC: Powheg+Pythia8)\", 'p')\n",
    "    #leg0.AddEntry( histMgenData, \"'Truth' (MC: MG5+Pythia8)\", 'p')\n",
    "    leg0.AddEntry( unfolded_MC, \"MC self-closure (ttbar Powheg)\", 'p')\n",
    "    leg0.SetLineColor(0)\n",
    "    leg0.SetBorderSize(0)\n",
    "    leg0.SetFillStyle(0)\n",
    "\n",
    "    #hs.Draw(\"nostack\")\n",
    "    #leg0.Draw()\n",
    "    \n",
    "    return hs, leg0"
   ]
  },
  {
   "cell_type": "markdown",
   "metadata": {
    "collapsed": true
   },
   "source": [
    "Draw the variables at reco and gen level and for \"data\""
   ]
  },
  {
   "cell_type": "code",
   "execution_count": 34,
   "metadata": {},
   "outputs": [],
   "source": [
    "ROOT.gStyle.SetOptStat(0)"
   ]
  },
  {
   "cell_type": "code",
   "execution_count": 35,
   "metadata": {
    "scrolled": true
   },
   "outputs": [
    {
     "name": "stdout",
     "output_type": "stream",
     "text": [
      "Gen-level bins 0 [0.   0.29 0.35 0.41 0.47 0.53 0.59 0.65 0.71 0.8 ]\n",
      "Detector-level bins 0 [0.    0.145 0.29  0.32  0.35  0.38  0.41  0.44  0.47  0.5   0.53  0.56\n",
      " 0.59  0.62  0.65  0.68  0.71  0.76  0.8  ]\n",
      "Setting contents for P, S, eff. histos\n",
      "getting tunfolder:\n",
      "setting reco input\n",
      "setting reco MC input\n"
     ]
    },
    {
     "name": "stderr",
     "output_type": "stream",
     "text": [
      "/shome/kdatta/.local/lib/python2.7/site-packages/ipykernel_launcher.py:56: RuntimeWarning: invalid value encountered in divide\n",
      "/shome/kdatta/.local/lib/python2.7/site-packages/ipykernel_launcher.py:61: RuntimeWarning: invalid value encountered in divide\n"
     ]
    },
    {
     "name": "stdout",
     "output_type": "stream",
     "text": [
      "Gen-level bins 1 [0.    0.29  0.332 0.374 0.416 0.458 0.5   0.542 0.584 0.626 0.668 0.71\n",
      " 0.8  ]\n",
      "Detector-level bins 1 [0.    0.145 0.29  0.311 0.332 0.353 0.374 0.395 0.416 0.437 0.458 0.479\n",
      " 0.5   0.521 0.542 0.563 0.584 0.605 0.626 0.647 0.668 0.689 0.71  0.76\n",
      " 0.8  ]\n",
      "Setting contents for P, S, eff. histos\n",
      "getting tunfolder:\n",
      "setting reco input\n",
      "setting reco MC input\n",
      "Gen-level bins 2 [0.    0.29  0.325 0.36  0.395 0.43  0.465 0.5   0.535 0.57  0.605 0.64\n",
      " 0.675 0.71  0.8  ]\n",
      "Detector-level bins 2 [0.     0.145  0.29   0.3075 0.325  0.3425 0.36   0.3775 0.395  0.4125\n",
      " 0.43   0.4475 0.465  0.4825 0.5    0.5175 0.535  0.5525 0.57   0.5875\n",
      " 0.605  0.6225 0.64   0.6575 0.675  0.6925 0.71   0.76   0.8   ]\n",
      "Setting contents for P, S, eff. histos\n",
      "getting tunfolder:\n",
      "setting reco input\n",
      "setting reco MC input\n",
      "Gen-level bins 3 [0.      0.25    0.30625 0.3625  0.41875 0.475   0.53125 0.5875  0.64375\n",
      " 0.7     0.8    ]\n",
      "Detector-level bins 3 [0.       0.145    0.25     0.278125 0.30625  0.334375 0.3625   0.390625\n",
      " 0.41875  0.446875 0.475    0.503125 0.53125  0.559375 0.5875   0.615625\n",
      " 0.64375  0.671875 0.7      0.75     0.8     ]\n",
      "Setting contents for P, S, eff. histos\n",
      "getting tunfolder:\n",
      "setting reco input\n",
      "setting reco MC input\n",
      "Gen-level bins 4 [0.    0.25  0.295 0.34  0.385 0.43  0.475 0.52  0.565 0.61  0.655 0.7\n",
      " 0.8  ]\n",
      "Detector-level bins 4 [0.     0.145  0.25   0.2725 0.295  0.3175 0.34   0.3625 0.385  0.4075\n",
      " 0.43   0.4525 0.475  0.4975 0.52   0.5425 0.565  0.5875 0.61   0.6325\n",
      " 0.655  0.6775 0.7    0.75   0.8   ]\n",
      "Setting contents for P, S, eff. histos\n",
      "getting tunfolder:\n",
      "setting reco input\n",
      "setting reco MC input\n",
      "Gen-level bins 5 [0.       0.25     0.278125 0.30625  0.334375 0.3625   0.390625 0.41875\n",
      " 0.446875 0.475    0.503125 0.53125  0.559375 0.5875   0.615625 0.64375\n",
      " 0.671875 0.7      0.8     ]\n",
      "Detector-level bins 5 [0.        0.145     0.25      0.2640625 0.278125  0.2921875 0.30625\n",
      " 0.3203125 0.334375  0.3484375 0.3625    0.3765625 0.390625  0.4046875\n",
      " 0.41875   0.4328125 0.446875  0.4609375 0.475     0.4890625 0.503125\n",
      " 0.5171875 0.53125   0.5453125 0.559375  0.5734375 0.5875    0.6015625\n",
      " 0.615625  0.6296875 0.64375   0.6578125 0.671875  0.6859375 0.7\n",
      " 0.75      0.8      ]\n",
      "Setting contents for P, S, eff. histos\n",
      "getting tunfolder:\n",
      "setting reco input\n",
      "setting reco MC input\n"
     ]
    },
    {
     "name": "stderr",
     "output_type": "stream",
     "text": [
      "Info in <TUnfold::SetConstraint>: fConstraint=0\n",
      "Info in <TUnfold::TUnfold>: underflow and overflow bin do not depend on the input data\n",
      "Info in <TUnfold::TUnfold>: 18 input bins and 9 output bins\n",
      "Info in <TUnfoldDensity::TUnfold>: *NOT* unfolding bin #0 (yaxis:#tau_{1}^{(0.5)}(gen_sig)[ufl])\n",
      "Info in <TUnfoldDensity::TUnfold>: *NOT* unfolding bin #10 (yaxis:#tau_{1}^{(0.5)}(gen_sig)[ofl])\n",
      "Info in <TUnfoldDensity::RegularizeOneDistribution>: regularizing yaxis regMode=3 densityMode=1 axisSteering=*[UOB]\n",
      "Info in <TUnfold::SetConstraint>: fConstraint=0\n",
      "Info in <TUnfold::TUnfold>: underflow and overflow bin do not depend on the input data\n",
      "Info in <TUnfold::TUnfold>: 18 input bins and 9 output bins\n",
      "Info in <TUnfoldDensity::TUnfold>: *NOT* unfolding bin #0 (yaxis:#tau_{1}^{(0.5)}(gen_sig)[ufl])\n",
      "Info in <TUnfoldDensity::TUnfold>: *NOT* unfolding bin #10 (yaxis:#tau_{1}^{(0.5)}(gen_sig)[ofl])\n",
      "Info in <TUnfoldDensity::RegularizeOneDistribution>: regularizing yaxis regMode=3 densityMode=1 axisSteering=*[UOB]\n",
      "Warning in <TUnfoldDensity::SetInput>: 2/18 input bins have zero error, and are ignored.\n",
      "Warning in <TUnfoldDensity::SetInput>: One input bin has zero error, and is ignored.\n",
      "Warning in <TROOT::Append>: Replacing existing TH1: histMgenMC_bkg (Potential memory leak).\n",
      "Warning in <TROOT::Append>: Replacing existing TH1: histMdetMC_bkg (Potential memory leak).\n",
      "Warning in <TROOT::Append>: Replacing existing TH1: histMgenMC_sig (Potential memory leak).\n",
      "Warning in <TROOT::Append>: Replacing existing TH1: histMdetMC_sig (Potential memory leak).\n",
      "Warning in <TROOT::Append>: Replacing existing TH1: histMdetData (Potential memory leak).\n",
      "Warning in <TROOT::Append>: Replacing existing TH1: response (Potential memory leak).\n",
      "Warning in <TROOT::Append>: Replacing existing TH1: purity (Potential memory leak).\n",
      "Warning in <TROOT::Append>: Replacing existing TH1: stability (Potential memory leak).\n",
      "Info in <TUnfold::SetConstraint>: fConstraint=0\n",
      "Info in <TUnfold::TUnfold>: underflow and overflow bin do not depend on the input data\n",
      "Info in <TUnfold::TUnfold>: 24 input bins and 12 output bins\n",
      "Info in <TUnfoldDensity::TUnfold>: *NOT* unfolding bin #0 (yaxis:#tau_{1}^{(0.5)}(gen_sig)[ufl])\n",
      "Info in <TUnfoldDensity::TUnfold>: *NOT* unfolding bin #13 (yaxis:#tau_{1}^{(0.5)}(gen_sig)[ofl])\n",
      "Info in <TUnfoldDensity::RegularizeOneDistribution>: regularizing yaxis regMode=3 densityMode=1 axisSteering=*[UOB]\n",
      "Info in <TUnfold::SetConstraint>: fConstraint=0\n",
      "Info in <TUnfold::TUnfold>: underflow and overflow bin do not depend on the input data\n",
      "Info in <TUnfold::TUnfold>: 24 input bins and 12 output bins\n",
      "Info in <TUnfoldDensity::TUnfold>: *NOT* unfolding bin #0 (yaxis:#tau_{1}^{(0.5)}(gen_sig)[ufl])\n",
      "Info in <TUnfoldDensity::TUnfold>: *NOT* unfolding bin #13 (yaxis:#tau_{1}^{(0.5)}(gen_sig)[ofl])\n",
      "Info in <TUnfoldDensity::RegularizeOneDistribution>: regularizing yaxis regMode=3 densityMode=1 axisSteering=*[UOB]\n",
      "Warning in <TUnfoldDensity::SetInput>: 2/24 input bins have zero error, and are ignored.\n",
      "Warning in <TUnfoldDensity::SetInput>: One input bin has zero error, and is ignored.\n",
      "Warning in <TROOT::Append>: Replacing existing TH1: unfolded_data (Potential memory leak).\n",
      "Warning in <TROOT::Append>: Replacing existing TH1: closure_unfolded_MC (Potential memory leak).\n",
      "Warning in <TROOT::Append>: Replacing existing TH1: histMgenMC_bkg (Potential memory leak).\n",
      "Warning in <TROOT::Append>: Replacing existing TH1: histMdetMC_bkg (Potential memory leak).\n",
      "Warning in <TROOT::Append>: Replacing existing TH1: histMgenMC_sig (Potential memory leak).\n",
      "Warning in <TROOT::Append>: Replacing existing TH1: histMdetMC_sig (Potential memory leak).\n",
      "Warning in <TROOT::Append>: Replacing existing TH1: histMdetData (Potential memory leak).\n",
      "Warning in <TROOT::Append>: Replacing existing TH1: response (Potential memory leak).\n",
      "Warning in <TROOT::Append>: Replacing existing TH1: purity (Potential memory leak).\n",
      "Warning in <TROOT::Append>: Replacing existing TH1: stability (Potential memory leak).\n",
      "Info in <TUnfold::SetConstraint>: fConstraint=0\n",
      "Info in <TUnfold::TUnfold>: underflow and overflow bin do not depend on the input data\n",
      "Info in <TUnfold::TUnfold>: 28 input bins and 14 output bins\n",
      "Info in <TUnfoldDensity::TUnfold>: *NOT* unfolding bin #0 (yaxis:#tau_{1}^{(0.5)}(gen_sig)[ufl])\n",
      "Info in <TUnfoldDensity::TUnfold>: *NOT* unfolding bin #15 (yaxis:#tau_{1}^{(0.5)}(gen_sig)[ofl])\n",
      "Info in <TUnfoldDensity::RegularizeOneDistribution>: regularizing yaxis regMode=3 densityMode=1 axisSteering=*[UOB]\n",
      "Info in <TUnfold::SetConstraint>: fConstraint=0\n",
      "Info in <TUnfold::TUnfold>: underflow and overflow bin do not depend on the input data\n",
      "Info in <TUnfold::TUnfold>: 28 input bins and 14 output bins\n",
      "Info in <TUnfoldDensity::TUnfold>: *NOT* unfolding bin #0 (yaxis:#tau_{1}^{(0.5)}(gen_sig)[ufl])\n",
      "Info in <TUnfoldDensity::TUnfold>: *NOT* unfolding bin #15 (yaxis:#tau_{1}^{(0.5)}(gen_sig)[ofl])\n",
      "Info in <TUnfoldDensity::RegularizeOneDistribution>: regularizing yaxis regMode=3 densityMode=1 axisSteering=*[UOB]\n",
      "Warning in <TUnfoldDensity::SetInput>: 2/28 input bins have zero error, and are ignored.\n",
      "Warning in <TUnfoldDensity::SetInput>: One input bin has zero error, and is ignored.\n",
      "Warning in <TROOT::Append>: Replacing existing TH1: unfolded_data (Potential memory leak).\n",
      "Warning in <TROOT::Append>: Replacing existing TH1: closure_unfolded_MC (Potential memory leak).\n",
      "Warning in <TROOT::Append>: Replacing existing TH1: histMgenMC_bkg (Potential memory leak).\n",
      "Warning in <TROOT::Append>: Replacing existing TH1: histMdetMC_bkg (Potential memory leak).\n",
      "Warning in <TROOT::Append>: Replacing existing TH1: histMgenMC_sig (Potential memory leak).\n",
      "Warning in <TROOT::Append>: Replacing existing TH1: histMdetMC_sig (Potential memory leak).\n",
      "Warning in <TROOT::Append>: Replacing existing TH1: histMdetData (Potential memory leak).\n",
      "Warning in <TROOT::Append>: Replacing existing TH1: response (Potential memory leak).\n",
      "Warning in <TROOT::Append>: Replacing existing TH1: purity (Potential memory leak).\n",
      "Warning in <TROOT::Append>: Replacing existing TH1: stability (Potential memory leak).\n",
      "Info in <TUnfold::SetConstraint>: fConstraint=0\n",
      "Info in <TUnfold::TUnfold>: underflow and overflow bin do not depend on the input data\n",
      "Info in <TUnfold::TUnfold>: 20 input bins and 10 output bins\n",
      "Info in <TUnfoldDensity::TUnfold>: *NOT* unfolding bin #0 (yaxis:#tau_{1}^{(0.5)}(gen_sig)[ufl])\n",
      "Info in <TUnfoldDensity::TUnfold>: *NOT* unfolding bin #11 (yaxis:#tau_{1}^{(0.5)}(gen_sig)[ofl])\n",
      "Info in <TUnfoldDensity::RegularizeOneDistribution>: regularizing yaxis regMode=3 densityMode=1 axisSteering=*[UOB]\n",
      "Info in <TUnfold::SetConstraint>: fConstraint=0\n",
      "Info in <TUnfold::TUnfold>: underflow and overflow bin do not depend on the input data\n",
      "Info in <TUnfold::TUnfold>: 20 input bins and 10 output bins\n",
      "Info in <TUnfoldDensity::TUnfold>: *NOT* unfolding bin #0 (yaxis:#tau_{1}^{(0.5)}(gen_sig)[ufl])\n",
      "Info in <TUnfoldDensity::TUnfold>: *NOT* unfolding bin #11 (yaxis:#tau_{1}^{(0.5)}(gen_sig)[ofl])\n",
      "Info in <TUnfoldDensity::RegularizeOneDistribution>: regularizing yaxis regMode=3 densityMode=1 axisSteering=*[UOB]\n",
      "Warning in <TUnfoldDensity::SetInput>: One input bin has zero error, and is ignored.\n",
      "Warning in <TUnfoldDensity::SetInput>: One input bin has zero error, and is ignored.\n",
      "Warning in <TROOT::Append>: Replacing existing TH1: unfolded_data (Potential memory leak).\n",
      "Warning in <TROOT::Append>: Replacing existing TH1: closure_unfolded_MC (Potential memory leak).\n",
      "Warning in <TROOT::Append>: Replacing existing TH1: histMgenMC_bkg (Potential memory leak).\n",
      "Warning in <TROOT::Append>: Replacing existing TH1: histMdetMC_bkg (Potential memory leak).\n",
      "Warning in <TROOT::Append>: Replacing existing TH1: histMgenMC_sig (Potential memory leak).\n",
      "Warning in <TROOT::Append>: Replacing existing TH1: histMdetMC_sig (Potential memory leak).\n",
      "Warning in <TROOT::Append>: Replacing existing TH1: histMdetData (Potential memory leak).\n",
      "Warning in <TROOT::Append>: Replacing existing TH1: response (Potential memory leak).\n",
      "Warning in <TROOT::Append>: Replacing existing TH1: purity (Potential memory leak).\n",
      "Warning in <TROOT::Append>: Replacing existing TH1: stability (Potential memory leak).\n",
      "Info in <TUnfold::SetConstraint>: fConstraint=0\n",
      "Info in <TUnfold::TUnfold>: underflow and overflow bin do not depend on the input data\n",
      "Info in <TUnfold::TUnfold>: 24 input bins and 12 output bins\n",
      "Info in <TUnfoldDensity::TUnfold>: *NOT* unfolding bin #0 (yaxis:#tau_{1}^{(0.5)}(gen_sig)[ufl])\n",
      "Info in <TUnfoldDensity::TUnfold>: *NOT* unfolding bin #13 (yaxis:#tau_{1}^{(0.5)}(gen_sig)[ofl])\n",
      "Info in <TUnfoldDensity::RegularizeOneDistribution>: regularizing yaxis regMode=3 densityMode=1 axisSteering=*[UOB]\n",
      "Info in <TUnfold::SetConstraint>: fConstraint=0\n",
      "Info in <TUnfold::TUnfold>: underflow and overflow bin do not depend on the input data\n",
      "Info in <TUnfold::TUnfold>: 24 input bins and 12 output bins\n",
      "Info in <TUnfoldDensity::TUnfold>: *NOT* unfolding bin #0 (yaxis:#tau_{1}^{(0.5)}(gen_sig)[ufl])\n",
      "Info in <TUnfoldDensity::TUnfold>: *NOT* unfolding bin #13 (yaxis:#tau_{1}^{(0.5)}(gen_sig)[ofl])\n",
      "Info in <TUnfoldDensity::RegularizeOneDistribution>: regularizing yaxis regMode=3 densityMode=1 axisSteering=*[UOB]\n",
      "Warning in <TUnfoldDensity::SetInput>: One input bin has zero error, and is ignored.\n",
      "Warning in <TUnfoldDensity::SetInput>: One input bin has zero error, and is ignored.\n",
      "Warning in <TROOT::Append>: Replacing existing TH1: unfolded_data (Potential memory leak).\n",
      "Warning in <TROOT::Append>: Replacing existing TH1: closure_unfolded_MC (Potential memory leak).\n",
      "Warning in <TROOT::Append>: Replacing existing TH1: histMgenMC_bkg (Potential memory leak).\n",
      "Warning in <TROOT::Append>: Replacing existing TH1: histMdetMC_bkg (Potential memory leak).\n",
      "Warning in <TROOT::Append>: Replacing existing TH1: histMgenMC_sig (Potential memory leak).\n",
      "Warning in <TROOT::Append>: Replacing existing TH1: histMdetMC_sig (Potential memory leak).\n",
      "Warning in <TROOT::Append>: Replacing existing TH1: histMdetData (Potential memory leak).\n",
      "Warning in <TROOT::Append>: Replacing existing TH1: response (Potential memory leak).\n",
      "Warning in <TROOT::Append>: Replacing existing TH1: purity (Potential memory leak).\n",
      "Warning in <TROOT::Append>: Replacing existing TH1: stability (Potential memory leak).\n",
      "Info in <TUnfold::SetConstraint>: fConstraint=0\n",
      "Info in <TUnfold::TUnfold>: underflow and overflow bin do not depend on the input data\n",
      "Info in <TUnfold::TUnfold>: 36 input bins and 18 output bins\n",
      "Info in <TUnfoldDensity::TUnfold>: *NOT* unfolding bin #0 (yaxis:#tau_{1}^{(0.5)}(gen_sig)[ufl])\n",
      "Info in <TUnfoldDensity::TUnfold>: *NOT* unfolding bin #19 (yaxis:#tau_{1}^{(0.5)}(gen_sig)[ofl])\n",
      "Info in <TUnfoldDensity::RegularizeOneDistribution>: regularizing yaxis regMode=3 densityMode=1 axisSteering=*[UOB]\n",
      "Info in <TUnfold::SetConstraint>: fConstraint=0\n",
      "Info in <TUnfold::TUnfold>: underflow and overflow bin do not depend on the input data\n",
      "Info in <TUnfold::TUnfold>: 36 input bins and 18 output bins\n",
      "Info in <TUnfoldDensity::TUnfold>: *NOT* unfolding bin #0 (yaxis:#tau_{1}^{(0.5)}(gen_sig)[ufl])\n",
      "Info in <TUnfoldDensity::TUnfold>: *NOT* unfolding bin #19 (yaxis:#tau_{1}^{(0.5)}(gen_sig)[ofl])\n",
      "Info in <TUnfoldDensity::RegularizeOneDistribution>: regularizing yaxis regMode=3 densityMode=1 axisSteering=*[UOB]\n",
      "Warning in <TUnfoldDensity::SetInput>: One input bin has zero error, and is ignored.\n",
      "Warning in <TUnfoldDensity::SetInput>: One input bin has zero error, and is ignored.\n",
      "Warning in <TROOT::Append>: Replacing existing TH1: unfolded_data (Potential memory leak).\n",
      "Warning in <TROOT::Append>: Replacing existing TH1: closure_unfolded_MC (Potential memory leak).\n"
     ]
    }
   ],
   "source": [
    "purities = []\n",
    "stabilities = []\n",
    "h_unfoldings = [] \n",
    "h_responses = []\n",
    "\n",
    "h_purities = ROOT.THStack(\"purities\",\"purities\")\n",
    "h_stabilities = ROOT.THStack(\"stabilities\",\"stabilities\")\n",
    "legus = []\n",
    "\n",
    "leg_p = ROOT.TLegend(0.15, 0.15, 0.35, 0.6)\n",
    "leg_p.SetLineColor(0)\n",
    "leg_p.SetBorderSize(0)\n",
    "leg_p.SetFillStyle(0)\n",
    "\n",
    "leg_s = ROOT.TLegend(0.15, 0.5, 0.35, 0.9)\n",
    "leg_s.SetLineColor(0)\n",
    "leg_s.SetBorderSize(0)\n",
    "leg_s.SetFillStyle(0)\n",
    "\n",
    "for i in xrange(len(det_bins_arr)):\n",
    "    k=i\n",
    "    gen_bins = gen_bins_arr[i]\n",
    "    det_bins = det_bins_arr[i]\n",
    "    \n",
    "    histMgenMC_bkg, histMdetMC_bkg, histMgenMC_sig, histMdetMC_sig, histMdetData, response = fill_hists(gen_bins, det_bins,\n",
    "                                                                                              MC_sig_reco_tau1_0p5, MC_sig_gen_tau1_0p5,\n",
    "                                                                                              MC_bkg_reco_tau1_0p5, MC_bkg_gen_tau1_0p5,\n",
    "                                                                                              data_tau1_0p5);\n",
    "    response.SetTitle(\"Response Matrix #tau_{1}^{(0.5)} binning %d\"%(i+1))\n",
    "    h_responses.append(response)\n",
    "    print \"Gen-level bins %d\"%i, gen_bins\n",
    "    print \"Detector-level bins %d\"%i, det_bins\n",
    "    '''\n",
    "    c0 = ROOT.TCanvas(\"chistMgenMC_sig1\", \"chistMgenMC_sig1\")\n",
    "    histMgenMC_sig.Draw(\"e\")\n",
    "    histMdetMC_sig.SetLineColor(ROOT.kRed+i)\n",
    "    histMdetMC_sig.Draw(\"e same\")\n",
    "    c0.Update()\n",
    "    c0.Draw()\n",
    "    c0.Print()\n",
    "    \n",
    "    \n",
    "    c1 = ROOT.TCanvas(\"chistMgenMC_bkg1\", \"chistMgenMC_bkg1\")\n",
    "    histMgenMC_bkg.Draw(\"e\")\n",
    "    histMdetMC_bkg.SetLineColor(ROOT.kRed+i)\n",
    "    histMdetMC_bkg.Draw(\"e same\")\n",
    "    c1.Update()\n",
    "    c1.Draw()\n",
    "    c1.Print()\n",
    "    \n",
    "    c2 = ROOT.TCanvas(\"chistMgenMC_sig1\", \"chistMgenMC_sig1\")\n",
    "    histMdetData.Draw(\"e \")\n",
    "    c2.Update()\n",
    "    c2.Draw()\n",
    "    c2.Print()\n",
    "    \n",
    "    c3 = ROOT.TCanvas(\"cresponse1\", \"cresponse1\")\n",
    "    response.Draw(\"colz\")\n",
    "    c3.Update()\n",
    "    c3.Draw()\n",
    "    c3.Print()\n",
    "    '''\n",
    "    purity, stability = purity_stability_calc(gen_bins, MC_sig_gen_tau1_0p5, det_bins, MC_sig_reco_tau1_0p5, verbose=False );\n",
    "    \n",
    "    if k==9:\n",
    "        k=ROOT.kGreen+9\n",
    "    purity.SetTitle(\"purity %d\"%(i+1))\n",
    "    #purity.SetLineStyle(i)\n",
    "    purity.SetLineColor(k+1)\n",
    "    \n",
    "    stability.SetTitle(\"stability %d\"%(i+1))\n",
    "    #stability.SetLineStyle(i)\n",
    "    stability.SetLineColor(k+1)\n",
    "    \n",
    "    purities.append(purity)\n",
    "    stabilities.append(stability)\n",
    "    \n",
    "    h_purities.Add(purity)\n",
    "    h_stabilities.Add(stability)\n",
    "    \n",
    "    leg_s.AddEntry( stability, \"bins%d\"%(i+1))\n",
    "    leg_p.AddEntry( purity, \"bins%d\"%(i+1))\n",
    "    \n",
    "    hu, legu = doUnfolding(response, histMdetData, histMdetMC_sig, histMdetMC_bkg, histMgenMC_sig)\n",
    "    hu.SetTitle(\"#tau_{1}^{(0.5)} binning %d\"%(i+1))\n",
    "    h_unfoldings.append(hu)\n",
    "    legus.append(legu)"
   ]
  },
  {
   "cell_type": "code",
   "execution_count": 36,
   "metadata": {
    "scrolled": true
   },
   "outputs": [
    {
     "name": "stderr",
     "output_type": "stream",
     "text": [
      "Info in <TCanvas::Print>: png file Purities_tau1_0p5_Wsel_powheg.png has been created\n"
     ]
    }
   ],
   "source": [
    "cpse = ROOT.TCanvas(\"pse_ttbar\", \"pse_ttbar\", )\n",
    "#cpse.cd()\n",
    "h_purities.Draw(\"nostack\")\n",
    "leg_p.Draw()\n",
    "#cpse.Draw()\n",
    "cpse.SaveAs(\"Purities_tau1_0p5_Wsel_powheg.png\")\n",
    "#cpse.Print()\n",
    "#cpse.Delete()"
   ]
  },
  {
   "cell_type": "code",
   "execution_count": 37,
   "metadata": {},
   "outputs": [
    {
     "name": "stderr",
     "output_type": "stream",
     "text": [
      "Info in <TCanvas::Print>: png file Stabilities_tau1_0p5_Wsel_powheg.png has been created\n"
     ]
    }
   ],
   "source": [
    "cpse1 = ROOT.TCanvas(\"pse1_ttbar\", \"pse1_ttbar\", )\n",
    "h_stabilities.Draw(\"nostack\")\n",
    "leg_s.Draw()\n",
    "#cpse1.Draw()\n",
    "#cpse1.Draw()\n",
    "cpse1.SaveAs(\"Stabilities_tau1_0p5_Wsel_powheg.png\")\n",
    "#cpse1.Print()"
   ]
  },
  {
   "cell_type": "code",
   "execution_count": 38,
   "metadata": {
    "scrolled": false
   },
   "outputs": [
    {
     "name": "stderr",
     "output_type": "stream",
     "text": [
      "Info in <TCanvas::Print>: png file tau1_0p5_unfoldings_Wsel_powheg.png has been created\n"
     ]
    },
    {
     "data": {
      "text/html": [
       "\n",
       "<div id=\"root_plot_1\"\n",
       "     style=\"width: 1196px; height: 692px\">\n",
       "</div>\n",
       "\n",
       "<script>\n",
       " requirejs.config({\n",
       "     paths: {\n",
       "       'JSRootCore' : 'https://root.cern.ch/js/notebook//scripts/JSRootCore',\n",
       "     }\n",
       "   });\n",
       " require(['JSRootCore'],\n",
       "     function(Core) {\n",
       "       var obj = Core.JSONR_unref({\"_typename\":\"TCanvas\",\"fUniqueID\":0,\"fBits\":53673992,\"fLineColor\":1,\"fLineStyle\":1,\"fLineWidth\":1,\"fFillColor\":0,\"fFillStyle\":1001,\"fLeftMargin\":0.1,\"fRightMargin\":0.1,\"fBottomMargin\":0.1,\"fTopMargin\":0.1,\"fXfile\":2,\"fYfile\":2,\"fAfile\":1,\"fXstat\":0.99,\"fYstat\":0.99,\"fAstat\":2,\"fFrameFillColor\":0,\"fFrameLineColor\":1,\"fFrameFillStyle\":1001,\"fFrameLineStyle\":1,\"fFrameLineWidth\":1,\"fFrameBorderSize\":1,\"fFrameBorderMode\":0,\"fX1\":0,\"fY1\":0,\"fX2\":1,\"fY2\":1,\"fXtoAbsPixelk\":5e-5,\"fXtoPixelk\":5e-5,\"fXtoPixel\":1196,\"fYtoAbsPixelk\":692.00005,\"fYtoPixelk\":692.00005,\"fYtoPixel\":-692,\"fUtoAbsPixelk\":5e-5,\"fUtoPixelk\":5e-5,\"fUtoPixel\":1196,\"fVtoAbsPixelk\":692.00005,\"fVtoPixelk\":692,\"fVtoPixel\":-692,\"fAbsPixeltoXk\":0,\"fPixeltoXk\":0,\"fPixeltoX\":8.36120401337793e-4,\"fAbsPixeltoYk\":1,\"fPixeltoYk\":0,\"fPixeltoY\":-0.00144508670520231,\"fXlowNDC\":0,\"fYlowNDC\":0,\"fXUpNDC\":0,\"fYUpNDC\":0,\"fWNDC\":1,\"fHNDC\":1,\"fAbsXlowNDC\":0,\"fAbsYlowNDC\":0,\"fAbsWNDC\":1,\"fAbsHNDC\":1,\"fUxmin\":0,\"fUymin\":0,\"fUxmax\":1,\"fUymax\":1,\"fTheta\":30,\"fPhi\":30,\"fAspectRatio\":0,\"fNumber\":0,\"fTickx\":0,\"fTicky\":0,\"fLogx\":0,\"fLogy\":0,\"fLogz\":0,\"fPadPaint\":0,\"fCrosshair\":0,\"fCrosshairPos\":0,\"fBorderSize\":2,\"fBorderMode\":0,\"fModified\":false,\"fGridx\":false,\"fGridy\":false,\"fAbsCoord\":false,\"fEditable\":true,\"fFixedAspectRatio\":false,\"fPrimitives\":{\"_typename\":\"TList\",\"name\":\"TList\",\"arr\":[{\"_typename\":\"TPad\",\"fUniqueID\":0,\"fBits\":50331657,\"fLineColor\":1,\"fLineStyle\":1,\"fLineWidth\":1,\"fFillColor\":0,\"fFillStyle\":1001,\"fLeftMargin\":0.1,\"fRightMargin\":0.1,\"fBottomMargin\":0.1,\"fTopMargin\":0.1,\"fXfile\":2,\"fYfile\":2,\"fAfile\":1,\"fXstat\":0.99,\"fYstat\":0.99,\"fAstat\":2,\"fFrameFillColor\":0,\"fFrameLineColor\":1,\"fFrameFillStyle\":1001,\"fFrameLineStyle\":1,\"fFrameLineWidth\":1,\"fFrameBorderSize\":1,\"fFrameBorderMode\":0,\"fX1\":-0.100000007450581,\"fY1\":-475.218988643008,\"fX2\":0.900000007450581,\"fY2\":4276.97061453449,\"fXtoAbsPixelk\":49.4347186864695,\"fXtoPixelk\":37.4747189537963,\"fXtoPixel\":374.74666161716,\"fYtoAbsPixelk\":305.864048143911,\"fYtoPixelk\":298.944048298585,\"fYtoPixel\":-0.0698962011295284,\"fUtoAbsPixelk\":11.9600497326732,\"fUtoPixelk\":5e-5,\"fUtoPixel\":374.74666720132,\"fVtoAbsPixelk\":339.080050154674,\"fVtoPixelk\":332.160000309348,\"fVtoPixel\":-332.160000309348,\"fAbsPixeltoXk\":-0.131914900784285,\"fPixeltoXk\":-0.100000007450581,\"fPixeltoX\":0.00266846940192785,\"fAbsPixeltoYk\":4375.97456229557,\"fPixeltoYk\":-475.218988643008,\"fPixeltoY\":-14.3069291869932,\"fXlowNDC\":0.00999999977648258,\"fYlowNDC\":0.509999999776483,\"fXUpNDC\":0,\"fYUpNDC\":0,\"fWNDC\":0.313333333780368,\"fHNDC\":0.480000000447035,\"fAbsXlowNDC\":0.00999999977648258,\"fAbsYlowNDC\":0.509999999776483,\"fAbsWNDC\":0.313333333780368,\"fAbsHNDC\":0.480000000447035,\"fUxmin\":0,\"fUymin\":0,\"fUxmax\":0.8,\"fUymax\":3801.75162589148,\"fTheta\":30,\"fPhi\":30,\"fAspectRatio\":0,\"fNumber\":1,\"fTickx\":0,\"fTicky\":0,\"fLogx\":0,\"fLogy\":0,\"fLogz\":0,\"fPadPaint\":0,\"fCrosshair\":0,\"fCrosshairPos\":0,\"fBorderSize\":2,\"fBorderMode\":0,\"fModified\":false,\"fGridx\":false,\"fGridy\":false,\"fAbsCoord\":false,\"fEditable\":true,\"fFixedAspectRatio\":false,\"fPrimitives\":{\"_typename\":\"TList\",\"name\":\"TList\",\"arr\":[{\"_typename\":\"TFrame\",\"fUniqueID\":0,\"fBits\":50331656,\"fLineColor\":1,\"fLineStyle\":1,\"fLineWidth\":1,\"fFillColor\":0,\"fFillStyle\":1001,\"fX1\":0,\"fY1\":0,\"fX2\":0.8,\"fY2\":3801.75162589148,\"fBorderSize\":1,\"fBorderMode\":0},{\"_typename\":\"THStack\",\"fUniqueID\":0,\"fBits\":50331656,\"fName\":\"#tau_{1}^{(0.5)}\",\"fTitle\":\"#tau_{1}^{(0.5)} binning 1\",\"fHists\":{\"_typename\":\"TList\",\"name\":\"TList\",\"arr\":[{\"_typename\":\"TH1D\",\"fUniqueID\":0,\"fBits\":50332168,\"fName\":\"closure_unfolded_MC\",\"fTitle\":\"closure_unfolded_MC\",\"fLineColor\":7,\"fLineStyle\":1,\"fLineWidth\":1,\"fFillColor\":0,\"fFillStyle\":1001,\"fMarkerColor\":7,\"fMarkerStyle\":2,\"fMarkerSize\":1,\"fNcells\":11,\"fXaxis\":{\"_typename\":\"TAxis\",\"fUniqueID\":0,\"fBits\":50331648,\"fName\":\"xaxis\",\"fTitle\":\"#tau_{1}^{(0.5)}(gen_sig)\",\"fNdivisions\":510,\"fAxisColor\":1,\"fLabelColor\":1,\"fLabelFont\":42,\"fLabelOffset\":0.005,\"fLabelSize\":0.035,\"fTickLength\":0.03,\"fTitleOffset\":1,\"fTitleSize\":0.035,\"fTitleColor\":1,\"fTitleFont\":42,\"fNbins\":9,\"fXmin\":0,\"fXmax\":0.8,\"fXbins\":[0,0.29,0.35,0.41,0.47,0.53,0.59,0.65,0.71,0.8],\"fFirst\":0,\"fLast\":0,\"fBits2\":0,\"fTimeDisplay\":false,\"fTimeFormat\":\"\",\"fLabels\":null,\"fModLabs\":null},\"fYaxis\":{\"_typename\":\"TAxis\",\"fUniqueID\":0,\"fBits\":50331648,\"fName\":\"yaxis\",\"fTitle\":\"\",\"fNdivisions\":510,\"fAxisColor\":1,\"fLabelColor\":1,\"fLabelFont\":42,\"fLabelOffset\":0.005,\"fLabelSize\":0.035,\"fTickLength\":0.03,\"fTitleOffset\":0,\"fTitleSize\":0.035,\"fTitleColor\":1,\"fTitleFont\":42,\"fNbins\":1,\"fXmin\":0,\"fXmax\":1,\"fXbins\":[],\"fFirst\":0,\"fLast\":0,\"fBits2\":0,\"fTimeDisplay\":false,\"fTimeFormat\":\"\",\"fLabels\":null,\"fModLabs\":null},\"fZaxis\":{\"_typename\":\"TAxis\",\"fUniqueID\":0,\"fBits\":50331648,\"fName\":\"zaxis\",\"fTitle\":\"\",\"fNdivisions\":510,\"fAxisColor\":1,\"fLabelColor\":1,\"fLabelFont\":42,\"fLabelOffset\":0.005,\"fLabelSize\":0.035,\"fTickLength\":0.03,\"fTitleOffset\":1,\"fTitleSize\":0.035,\"fTitleColor\":1,\"fTitleFont\":42,\"fNbins\":1,\"fXmin\":0,\"fXmax\":1,\"fXbins\":[],\"fFirst\":0,\"fLast\":0,\"fBits2\":0,\"fTimeDisplay\":false,\"fTimeFormat\":\"\",\"fLabels\":null,\"fModLabs\":null},\"fBarOffset\":0,\"fBarWidth\":1000,\"fEntries\":20,\"fTsumw\":0,\"fTsumw2\":0,\"fTsumwx\":0,\"fTsumwx2\":0,\"fMaximum\":-1111,\"fMinimum\":-1111,\"fNormFactor\":0,\"fContour\":[],\"fSumw2\":[0,267.849138049662,382.653130937299,1060.35825052407,2187.59173355968,2917.02534044929,2940.74986214556,2124.47615101655,823.47211254332,108.349775725053,0],\"fOption\":\"\",\"fFunctions\":{\"_typename\":\"TList\",\"name\":\"TList\",\"arr\":[],\"opt\":[]},\"fBufferSize\":0,\"fBuffer\":[],\"fBinStatErrOpt\":0,\"fStatOverflows\":2,\"fArray\":[0,125.157514943161,321.518704664466,860.774655106606,1907.68328085202,2972.44287570641,3620.71583418236,2892.05747591198,1152.93482957583,47.8524583679052,0]},{\"_typename\":\"TH1D\",\"fUniqueID\":0,\"fBits\":50332168,\"fName\":\"unfolded_data\",\"fTitle\":\"unfolded_data\",\"fLineColor\":1,\"fLineStyle\":1,\"fLineWidth\":2,\"fFillColor\":0,\"fFillStyle\":1001,\"fMarkerColor\":1,\"fMarkerStyle\":22,\"fMarkerSize\":1,\"fNcells\":11,\"fXaxis\":{\"_typename\":\"TAxis\",\"fUniqueID\":0,\"fBits\":50331648,\"fName\":\"xaxis\",\"fTitle\":\"#tau_{1}^{(0.5)}(gen_sig)\",\"fNdivisions\":510,\"fAxisColor\":1,\"fLabelColor\":1,\"fLabelFont\":42,\"fLabelOffset\":0.005,\"fLabelSize\":0.035,\"fTickLength\":0.03,\"fTitleOffset\":1,\"fTitleSize\":0.035,\"fTitleColor\":1,\"fTitleFont\":42,\"fNbins\":9,\"fXmin\":0,\"fXmax\":0.8,\"fXbins\":[0,0.29,0.35,0.41,0.47,0.53,0.59,0.65,0.71,0.8],\"fFirst\":0,\"fLast\":0,\"fBits2\":0,\"fTimeDisplay\":false,\"fTimeFormat\":\"\",\"fLabels\":null,\"fModLabs\":null},\"fYaxis\":{\"_typename\":\"TAxis\",\"fUniqueID\":0,\"fBits\":50331648,\"fName\":\"yaxis\",\"fTitle\":\"\",\"fNdivisions\":510,\"fAxisColor\":1,\"fLabelColor\":1,\"fLabelFont\":42,\"fLabelOffset\":0.005,\"fLabelSize\":0.035,\"fTickLength\":0.03,\"fTitleOffset\":0,\"fTitleSize\":0.035,\"fTitleColor\":1,\"fTitleFont\":42,\"fNbins\":1,\"fXmin\":0,\"fXmax\":1,\"fXbins\":[],\"fFirst\":0,\"fLast\":0,\"fBits2\":0,\"fTimeDisplay\":false,\"fTimeFormat\":\"\",\"fLabels\":null,\"fModLabs\":null},\"fZaxis\":{\"_typename\":\"TAxis\",\"fUniqueID\":0,\"fBits\":50331648,\"fName\":\"zaxis\",\"fTitle\":\"\",\"fNdivisions\":510,\"fAxisColor\":1,\"fLabelColor\":1,\"fLabelFont\":42,\"fLabelOffset\":0.005,\"fLabelSize\":0.035,\"fTickLength\":0.03,\"fTitleOffset\":1,\"fTitleSize\":0.035,\"fTitleColor\":1,\"fTitleFont\":42,\"fNbins\":1,\"fXmin\":0,\"fXmax\":1,\"fXbins\":[],\"fFirst\":0,\"fLast\":0,\"fBits2\":0,\"fTimeDisplay\":false,\"fTimeFormat\":\"\",\"fLabels\":null,\"fModLabs\":null},\"fBarOffset\":0,\"fBarWidth\":1000,\"fEntries\":20,\"fTsumw\":0,\"fTsumw2\":0,\"fTsumwx\":0,\"fTsumwx2\":0,\"fMaximum\":-1111,\"fMinimum\":-1111,\"fNormFactor\":0,\"fContour\":[],\"fSumw2\":[0,7572.51661328315,9642.17791316309,15845.189351018,30120.6133823022,30438.6423665692,21299.4789389193,11757.200137664,4544.59157310279,682.959771065458,0],\"fOption\":\"\",\"fFunctions\":{\"_typename\":\"TList\",\"name\":\"TList\",\"arr\":[],\"opt\":[]},\"fBufferSize\":0,\"fBuffer\":[],\"fBinStatErrOpt\":0,\"fStatOverflows\":2,\"fArray\":[0,77.5124772332758,219.349236482505,1106.09608093072,1849.45244774627,3357.42796078597,3572.29520040859,2984.42011469683,1086.60769107866,141.51521679335,0]}],\"opt\":[\"E\",\"E \"]},\"fHistogram\":{\"_typename\":\"TH1F\",\"fUniqueID\":0,\"fBits\":50332160,\"fName\":\"#tau_{1}^{(0.5)}\",\"fTitle\":\"#tau_{1}^{(0.5)} binning 1\",\"fLineColor\":602,\"fLineStyle\":1,\"fLineWidth\":1,\"fFillColor\":0,\"fFillStyle\":1001,\"fMarkerColor\":1,\"fMarkerStyle\":1,\"fMarkerSize\":1,\"fNcells\":11,\"fXaxis\":{\"_typename\":\"TAxis\",\"fUniqueID\":0,\"fBits\":50331648,\"fName\":\"xaxis\",\"fTitle\":\"\",\"fNdivisions\":510,\"fAxisColor\":1,\"fLabelColor\":1,\"fLabelFont\":42,\"fLabelOffset\":0.005,\"fLabelSize\":0.035,\"fTickLength\":0.03,\"fTitleOffset\":1,\"fTitleSize\":0.035,\"fTitleColor\":1,\"fTitleFont\":42,\"fNbins\":9,\"fXmin\":0,\"fXmax\":0.8,\"fXbins\":[0,0.29,0.35,0.41,0.47,0.53,0.59,0.65,0.71,0.8],\"fFirst\":0,\"fLast\":0,\"fBits2\":0,\"fTimeDisplay\":false,\"fTimeFormat\":\"\",\"fLabels\":null,\"fModLabs\":null},\"fYaxis\":{\"_typename\":\"TAxis\",\"fUniqueID\":0,\"fBits\":50331648,\"fName\":\"yaxis\",\"fTitle\":\"\",\"fNdivisions\":510,\"fAxisColor\":1,\"fLabelColor\":1,\"fLabelFont\":42,\"fLabelOffset\":0.005,\"fLabelSize\":0.035,\"fTickLength\":0.03,\"fTitleOffset\":0,\"fTitleSize\":0.035,\"fTitleColor\":1,\"fTitleFont\":42,\"fNbins\":1,\"fXmin\":0,\"fXmax\":1,\"fXbins\":[],\"fFirst\":0,\"fLast\":0,\"fBits2\":0,\"fTimeDisplay\":false,\"fTimeFormat\":\"\",\"fLabels\":null,\"fModLabs\":null},\"fZaxis\":{\"_typename\":\"TAxis\",\"fUniqueID\":0,\"fBits\":50331648,\"fName\":\"zaxis\",\"fTitle\":\"\",\"fNdivisions\":510,\"fAxisColor\":1,\"fLabelColor\":1,\"fLabelFont\":42,\"fLabelOffset\":0.005,\"fLabelSize\":0.035,\"fTickLength\":0.03,\"fTitleOffset\":1,\"fTitleSize\":0.035,\"fTitleColor\":1,\"fTitleFont\":42,\"fNbins\":1,\"fXmin\":0,\"fXmax\":1,\"fXbins\":[],\"fFirst\":0,\"fLast\":0,\"fBits2\":0,\"fTimeDisplay\":false,\"fTimeFormat\":\"\",\"fLabels\":null,\"fModLabs\":null},\"fBarOffset\":0,\"fBarWidth\":1000,\"fEntries\":0,\"fTsumw\":0,\"fTsumw2\":0,\"fTsumwx\":0,\"fTsumwx2\":0,\"fMaximum\":3801.75162589148,\"fMinimum\":0,\"fNormFactor\":0,\"fContour\":[],\"fSumw2\":[0,0,0,0,0,0,0,0,0,0,0],\"fOption\":\"\",\"fFunctions\":{\"_typename\":\"TList\",\"name\":\"TList\",\"arr\":[],\"opt\":[]},\"fBufferSize\":0,\"fBuffer\":[],\"fBinStatErrOpt\":0,\"fStatOverflows\":2,\"fArray\":[0,0,0,0,0,0,0,0,0,0,0]},\"fMaximum\":-1111,\"fMinimum\":-1111},{\"_typename\":\"TLegend\",\"fUniqueID\":0,\"fBits\":50331656,\"fLineColor\":0,\"fLineStyle\":1,\"fLineWidth\":1,\"fFillColor\":0,\"fFillStyle\":0,\"fX1\":-0.0500000067055229,\"fY1\":2946.35752564479,\"fX2\":0.810000006109477,\"fY2\":3564.14217405787,\"fX1NDC\":0.05,\"fY1NDC\":0.72,\"fX2NDC\":0.91,\"fY2NDC\":0.85,\"fBorderSize\":0,\"fInit\":1,\"fShadowColor\":1,\"fCornerRadius\":0,\"fOption\":\"brNDC\",\"fName\":\"TPave\",\"fTextAngle\":0,\"fTextSize\":9,\"fTextAlign\":12,\"fTextColor\":1,\"fTextFont\":42,\"fPrimitives\":{\"_typename\":\"TList\",\"name\":\"TList\",\"arr\":[{\"_typename\":\"TLegendEntry\",\"fUniqueID\":0,\"fBits\":50331656,\"fTextAngle\":0,\"fTextSize\":0,\"fTextAlign\":0,\"fTextColor\":0,\"fTextFont\":42,\"fLineColor\":1,\"fLineStyle\":1,\"fLineWidth\":1,\"fFillColor\":0,\"fFillStyle\":0,\"fMarkerColor\":1,\"fMarkerStyle\":22,\"fMarkerSize\":1,\"fObject\":{\"$ref\":12},\"fLabel\":\"Data (2016)\",\"fOption\":\"p\"},{\"_typename\":\"TLegendEntry\",\"fUniqueID\":0,\"fBits\":50331656,\"fTextAngle\":0,\"fTextSize\":0,\"fTextAlign\":0,\"fTextColor\":0,\"fTextFont\":42,\"fLineColor\":1,\"fLineStyle\":1,\"fLineWidth\":1,\"fFillColor\":0,\"fFillStyle\":0,\"fMarkerColor\":7,\"fMarkerStyle\":2,\"fMarkerSize\":1,\"fObject\":{\"$ref\":7},\"fLabel\":\"MC self-closure (ttbar Powheg)\",\"fOption\":\"p\"}],\"opt\":[\"p\",\"p\"]},\"fEntrySeparation\":0.1,\"fMargin\":0.25,\"fNColumns\":1,\"fColumnSeparation\":0},{\"_typename\":\"TPaveText\",\"fUniqueID\":0,\"fBits\":50331657,\"fLineColor\":1,\"fLineStyle\":1,\"fLineWidth\":1,\"fFillColor\":0,\"fFillStyle\":0,\"fX1\":0.244568417445921,\"fY1\":3858.3384436178,\"fX2\":0.555431582554079,\"fY2\":4253.20968917881,\"fX1NDC\":0.344568419762032,\"fY1NDC\":0.911907519296625,\"fX2NDC\":0.655431580237968,\"fY2NDC\":0.995000004768372,\"fBorderSize\":0,\"fInit\":1,\"fShadowColor\":1,\"fCornerRadius\":0,\"fOption\":\"blNDC\",\"fName\":\"title\",\"fTextAngle\":0,\"fTextSize\":0,\"fTextAlign\":22,\"fTextColor\":1,\"fTextFont\":42,\"fLabel\":\"\",\"fLongest\":26,\"fMargin\":0.05,\"fLines\":{\"_typename\":\"TList\",\"name\":\"TList\",\"arr\":[{\"_typename\":\"TLatex\",\"fUniqueID\":0,\"fBits\":50331648,\"fName\":\"\",\"fTitle\":\"#tau_{1}^{(0.5)} binning 1\",\"fTextAngle\":0,\"fTextSize\":0,\"fTextAlign\":0,\"fTextColor\":0,\"fTextFont\":0,\"fX\":0,\"fY\":0,\"fLineColor\":1,\"fLineStyle\":1,\"fLineWidth\":2,\"fLimitFactorSize\":3,\"fOriginSize\":0.0577835515141487}],\"opt\":[\"\"]}}],\"opt\":[\"\",\"nostack\",\"\",\"blNDC\"]},\"fExecs\":{\"_typename\":\"TList\",\"name\":\"TList\",\"arr\":[],\"opt\":[]},\"fName\":\"c5_1\",\"fTitle\":\"c5_1\",\"fNumPaletteColor\":0,\"fNextPaletteColor\":0},{\"_typename\":\"TPad\",\"fUniqueID\":0,\"fBits\":50331657,\"fLineColor\":1,\"fLineStyle\":1,\"fLineWidth\":1,\"fFillColor\":0,\"fFillStyle\":1001,\"fLeftMargin\":0.1,\"fRightMargin\":0.1,\"fBottomMargin\":0.1,\"fTopMargin\":0.1,\"fXfile\":2,\"fYfile\":2,\"fAfile\":1,\"fXstat\":0.99,\"fYstat\":0.99,\"fAstat\":2,\"fFrameFillColor\":0,\"fFrameLineColor\":1,\"fFrameFillStyle\":1001,\"fFrameLineStyle\":1,\"fFrameLineWidth\":1,\"fFrameBorderSize\":1,\"fFrameBorderMode\":0,\"fX1\":-0.100000007450581,\"fY1\":-340.689822921489,\"fX2\":0.900000007450581,\"fY2\":3066.20820322644,\"fXtoAbsPixelk\":448.101385353136,\"fXtoPixelk\":37.4747189537963,\"fXtoPixel\":374.74666161716,\"fYtoAbsPixelk\":305.864048143911,\"fYtoPixelk\":298.944048298585,\"fYtoPixel\":-0.0974963141720184,\"fUtoAbsPixelk\":410.62671639934,\"fUtoPixelk\":5e-5,\"fUtoPixel\":374.74666720132,\"fVtoAbsPixelk\":339.080050154674,\"fVtoPixelk\":332.160000309348,\"fVtoPixel\":-332.160000309348,\"fAbsPixeltoXk\":-1.19574470235285,\"fPixeltoXk\":-0.100000007450581,\"fPixeltoX\":0.00266846940192785,\"fAbsPixeltoYk\":3137.18524378529,\"fPixeltoYk\":-340.689822921489,\"fPixeltoY\":-10.2567979978776,\"fXlowNDC\":0.343333333109816,\"fYlowNDC\":0.509999999776483,\"fXUpNDC\":0,\"fYUpNDC\":0,\"fWNDC\":0.313333333780368,\"fHNDC\":0.480000000447035,\"fAbsXlowNDC\":0.343333333109816,\"fAbsYlowNDC\":0.509999999776483,\"fAbsWNDC\":0.313333333780368,\"fAbsHNDC\":0.480000000447035,\"fUxmin\":0,\"fUymin\":0,\"fUxmax\":0.8,\"fUymax\":2725.51838030495,\"fTheta\":30,\"fPhi\":30,\"fAspectRatio\":0,\"fNumber\":2,\"fTickx\":0,\"fTicky\":0,\"fLogx\":0,\"fLogy\":0,\"fLogz\":0,\"fPadPaint\":0,\"fCrosshair\":0,\"fCrosshairPos\":0,\"fBorderSize\":2,\"fBorderMode\":0,\"fModified\":false,\"fGridx\":false,\"fGridy\":false,\"fAbsCoord\":false,\"fEditable\":true,\"fFixedAspectRatio\":false,\"fPrimitives\":{\"_typename\":\"TList\",\"name\":\"TList\",\"arr\":[{\"_typename\":\"TFrame\",\"fUniqueID\":0,\"fBits\":50331656,\"fLineColor\":1,\"fLineStyle\":1,\"fLineWidth\":1,\"fFillColor\":0,\"fFillStyle\":1001,\"fX1\":0,\"fY1\":0,\"fX2\":0.8,\"fY2\":2725.51838030495,\"fBorderSize\":1,\"fBorderMode\":0},{\"_typename\":\"THStack\",\"fUniqueID\":0,\"fBits\":50331656,\"fName\":\"#tau_{1}^{(0.5)}\",\"fTitle\":\"#tau_{1}^{(0.5)} binning 2\",\"fHists\":{\"_typename\":\"TList\",\"name\":\"TList\",\"arr\":[{\"_typename\":\"TH1D\",\"fUniqueID\":0,\"fBits\":50332168,\"fName\":\"closure_unfolded_MC\",\"fTitle\":\"closure_unfolded_MC\",\"fLineColor\":7,\"fLineStyle\":1,\"fLineWidth\":1,\"fFillColor\":0,\"fFillStyle\":1001,\"fMarkerColor\":7,\"fMarkerStyle\":2,\"fMarkerSize\":1,\"fNcells\":14,\"fXaxis\":{\"_typename\":\"TAxis\",\"fUniqueID\":0,\"fBits\":50331648,\"fName\":\"xaxis\",\"fTitle\":\"#tau_{1}^{(0.5)}(gen_sig)\",\"fNdivisions\":510,\"fAxisColor\":1,\"fLabelColor\":1,\"fLabelFont\":42,\"fLabelOffset\":0.005,\"fLabelSize\":0.035,\"fTickLength\":0.03,\"fTitleOffset\":1,\"fTitleSize\":0.035,\"fTitleColor\":1,\"fTitleFont\":42,\"fNbins\":12,\"fXmin\":0,\"fXmax\":0.8,\"fXbins\":[0,0.29,0.332,0.374,0.416,0.458,0.5,0.542,0.584,0.626,0.668,0.71,0.8],\"fFirst\":0,\"fLast\":0,\"fBits2\":0,\"fTimeDisplay\":false,\"fTimeFormat\":\"\",\"fLabels\":null,\"fModLabs\":null},\"fYaxis\":{\"_typename\":\"TAxis\",\"fUniqueID\":0,\"fBits\":50331648,\"fName\":\"yaxis\",\"fTitle\":\"\",\"fNdivisions\":510,\"fAxisColor\":1,\"fLabelColor\":1,\"fLabelFont\":42,\"fLabelOffset\":0.005,\"fLabelSize\":0.035,\"fTickLength\":0.03,\"fTitleOffset\":0,\"fTitleSize\":0.035,\"fTitleColor\":1,\"fTitleFont\":42,\"fNbins\":1,\"fXmin\":0,\"fXmax\":1,\"fXbins\":[],\"fFirst\":0,\"fLast\":0,\"fBits2\":0,\"fTimeDisplay\":false,\"fTimeFormat\":\"\",\"fLabels\":null,\"fModLabs\":null},\"fZaxis\":{\"_typename\":\"TAxis\",\"fUniqueID\":0,\"fBits\":50331648,\"fName\":\"zaxis\",\"fTitle\":\"\",\"fNdivisions\":510,\"fAxisColor\":1,\"fLabelColor\":1,\"fLabelFont\":42,\"fLabelOffset\":0.005,\"fLabelSize\":0.035,\"fTickLength\":0.03,\"fTitleOffset\":1,\"fTitleSize\":0.035,\"fTitleColor\":1,\"fTitleFont\":42,\"fNbins\":1,\"fXmin\":0,\"fXmax\":1,\"fXbins\":[],\"fFirst\":0,\"fLast\":0,\"fBits2\":0,\"fTimeDisplay\":false,\"fTimeFormat\":\"\",\"fLabels\":null,\"fModLabs\":null},\"fBarOffset\":0,\"fBarWidth\":1000,\"fEntries\":26,\"fTsumw\":0,\"fTsumw2\":0,\"fTsumwx\":0,\"fTsumwx2\":0,\"fMaximum\":-1111,\"fMinimum\":-1111,\"fNormFactor\":0,\"fContour\":[],\"fSumw2\":[0,302.650527572839,389.345231744043,921.57939428654,1885.86582407613,2900.58114566427,3494.53044088131,3864.27623580206,3577.81827784669,2721.4341803111,1646.53615658243,592.459242597981,113.403268080559,0],\"fOption\":\"\",\"fFunctions\":{\"_typename\":\"TList\",\"name\":\"TList\",\"arr\":[],\"opt\":[]},\"fBufferSize\":0,\"fBuffer\":[],\"fBinStatErrOpt\":0,\"fStatOverflows\":2,\"fArray\":[0,125.15751494316,176.617190395806,389.408553972019,767.14797399619,1276.753423522,1851.17422050186,2306.78109172346,2562.84416292923,2244.38931497773,1564.09321660234,588.918507379037,47.8524583679051,0]},{\"_typename\":\"TH1D\",\"fUniqueID\":0,\"fBits\":50332168,\"fName\":\"unfolded_data\",\"fTitle\":\"unfolded_data\",\"fLineColor\":1,\"fLineStyle\":1,\"fLineWidth\":2,\"fFillColor\":0,\"fFillStyle\":1001,\"fMarkerColor\":1,\"fMarkerStyle\":22,\"fMarkerSize\":1,\"fNcells\":14,\"fXaxis\":{\"_typename\":\"TAxis\",\"fUniqueID\":0,\"fBits\":50331648,\"fName\":\"xaxis\",\"fTitle\":\"#tau_{1}^{(0.5)}(gen_sig)\",\"fNdivisions\":510,\"fAxisColor\":1,\"fLabelColor\":1,\"fLabelFont\":42,\"fLabelOffset\":0.005,\"fLabelSize\":0.035,\"fTickLength\":0.03,\"fTitleOffset\":1,\"fTitleSize\":0.035,\"fTitleColor\":1,\"fTitleFont\":42,\"fNbins\":12,\"fXmin\":0,\"fXmax\":0.8,\"fXbins\":[0,0.29,0.332,0.374,0.416,0.458,0.5,0.542,0.584,0.626,0.668,0.71,0.8],\"fFirst\":0,\"fLast\":0,\"fBits2\":0,\"fTimeDisplay\":false,\"fTimeFormat\":\"\",\"fLabels\":null,\"fModLabs\":null},\"fYaxis\":{\"_typename\":\"TAxis\",\"fUniqueID\":0,\"fBits\":50331648,\"fName\":\"yaxis\",\"fTitle\":\"\",\"fNdivisions\":510,\"fAxisColor\":1,\"fLabelColor\":1,\"fLabelFont\":42,\"fLabelOffset\":0.005,\"fLabelSize\":0.035,\"fTickLength\":0.03,\"fTitleOffset\":0,\"fTitleSize\":0.035,\"fTitleColor\":1,\"fTitleFont\":42,\"fNbins\":1,\"fXmin\":0,\"fXmax\":1,\"fXbins\":[],\"fFirst\":0,\"fLast\":0,\"fBits2\":0,\"fTimeDisplay\":false,\"fTimeFormat\":\"\",\"fLabels\":null,\"fModLabs\":null},\"fZaxis\":{\"_typename\":\"TAxis\",\"fUniqueID\":0,\"fBits\":50331648,\"fName\":\"zaxis\",\"fTitle\":\"\",\"fNdivisions\":510,\"fAxisColor\":1,\"fLabelColor\":1,\"fLabelFont\":42,\"fLabelOffset\":0.005,\"fLabelSize\":0.035,\"fTickLength\":0.03,\"fTitleOffset\":1,\"fTitleSize\":0.035,\"fTitleColor\":1,\"fTitleFont\":42,\"fNbins\":1,\"fXmin\":0,\"fXmax\":1,\"fXbins\":[],\"fFirst\":0,\"fLast\":0,\"fBits2\":0,\"fTimeDisplay\":false,\"fTimeFormat\":\"\",\"fLabels\":null,\"fModLabs\":null},\"fBarOffset\":0,\"fBarWidth\":1000,\"fEntries\":26,\"fTsumw\":0,\"fTsumw2\":0,\"fTsumwx\":0,\"fTsumwx2\":0,\"fMaximum\":-1111,\"fMinimum\":-1111,\"fNormFactor\":0,\"fContour\":[],\"fSumw2\":[0,7937.38522763541,5717.32838660537,22492.4520594303,32789.6368665383,36364.0911258386,44802.7129356113,33925.3906727321,26711.7812706625,18579.9386722329,8517.42322402647,2501.23239227392,697.082813371207,0],\"fOption\":\"\",\"fFunctions\":{\"_typename\":\"TList\",\"name\":\"TList\",\"arr\":[],\"opt\":[]},\"fBufferSize\":0,\"fBuffer\":[],\"fBinStatErrOpt\":0,\"fStatOverflows\":2,\"fArray\":[0,50.3350235580341,150.807365662975,552.499000530752,703.429983730843,1413.89971449591,2114.31351105748,2351.47881357325,2595.73179076662,2216.7845858797,1565.52316368518,594.992053168196,137.434336704672,0]}],\"opt\":[\"E\",\"E \"]},\"fHistogram\":{\"_typename\":\"TH1F\",\"fUniqueID\":0,\"fBits\":50332160,\"fName\":\"#tau_{1}^{(0.5)}\",\"fTitle\":\"#tau_{1}^{(0.5)} binning 2\",\"fLineColor\":602,\"fLineStyle\":1,\"fLineWidth\":1,\"fFillColor\":0,\"fFillStyle\":1001,\"fMarkerColor\":1,\"fMarkerStyle\":1,\"fMarkerSize\":1,\"fNcells\":14,\"fXaxis\":{\"_typename\":\"TAxis\",\"fUniqueID\":0,\"fBits\":50331648,\"fName\":\"xaxis\",\"fTitle\":\"\",\"fNdivisions\":510,\"fAxisColor\":1,\"fLabelColor\":1,\"fLabelFont\":42,\"fLabelOffset\":0.005,\"fLabelSize\":0.035,\"fTickLength\":0.03,\"fTitleOffset\":1,\"fTitleSize\":0.035,\"fTitleColor\":1,\"fTitleFont\":42,\"fNbins\":12,\"fXmin\":0,\"fXmax\":0.8,\"fXbins\":[0,0.29,0.332,0.374,0.416,0.458,0.5,0.542,0.584,0.626,0.668,0.71,0.8],\"fFirst\":0,\"fLast\":0,\"fBits2\":0,\"fTimeDisplay\":false,\"fTimeFormat\":\"\",\"fLabels\":null,\"fModLabs\":null},\"fYaxis\":{\"_typename\":\"TAxis\",\"fUniqueID\":0,\"fBits\":50331648,\"fName\":\"yaxis\",\"fTitle\":\"\",\"fNdivisions\":510,\"fAxisColor\":1,\"fLabelColor\":1,\"fLabelFont\":42,\"fLabelOffset\":0.005,\"fLabelSize\":0.035,\"fTickLength\":0.03,\"fTitleOffset\":0,\"fTitleSize\":0.035,\"fTitleColor\":1,\"fTitleFont\":42,\"fNbins\":1,\"fXmin\":0,\"fXmax\":1,\"fXbins\":[],\"fFirst\":0,\"fLast\":0,\"fBits2\":0,\"fTimeDisplay\":false,\"fTimeFormat\":\"\",\"fLabels\":null,\"fModLabs\":null},\"fZaxis\":{\"_typename\":\"TAxis\",\"fUniqueID\":0,\"fBits\":50331648,\"fName\":\"zaxis\",\"fTitle\":\"\",\"fNdivisions\":510,\"fAxisColor\":1,\"fLabelColor\":1,\"fLabelFont\":42,\"fLabelOffset\":0.005,\"fLabelSize\":0.035,\"fTickLength\":0.03,\"fTitleOffset\":1,\"fTitleSize\":0.035,\"fTitleColor\":1,\"fTitleFont\":42,\"fNbins\":1,\"fXmin\":0,\"fXmax\":1,\"fXbins\":[],\"fFirst\":0,\"fLast\":0,\"fBits2\":0,\"fTimeDisplay\":false,\"fTimeFormat\":\"\",\"fLabels\":null,\"fModLabs\":null},\"fBarOffset\":0,\"fBarWidth\":1000,\"fEntries\":0,\"fTsumw\":0,\"fTsumw2\":0,\"fTsumwx\":0,\"fTsumwx2\":0,\"fMaximum\":2725.51838030495,\"fMinimum\":0,\"fNormFactor\":0,\"fContour\":[],\"fSumw2\":[0,0,0,0,0,0,0,0,0,0,0,0,0,0],\"fOption\":\"\",\"fFunctions\":{\"_typename\":\"TList\",\"name\":\"TList\",\"arr\":[],\"opt\":[]},\"fBufferSize\":0,\"fBuffer\":[],\"fBinStatErrOpt\":0,\"fStatOverflows\":2,\"fArray\":[0,0,0,0,0,0,0,0,0,0,0,0,0,0]},\"fMaximum\":-1111,\"fMinimum\":-1111},{\"_typename\":\"TLegend\",\"fUniqueID\":0,\"fBits\":50331656,\"fLineColor\":0,\"fLineStyle\":1,\"fLineWidth\":1,\"fFillColor\":0,\"fFillStyle\":0,\"fX1\":-0.0500000067055229,\"fY1\":2112.27675590502,\"fX2\":0.810000006109477,\"fY2\":2555.17349930425,\"fX1NDC\":0.05,\"fY1NDC\":0.72,\"fX2NDC\":0.91,\"fY2NDC\":0.85,\"fBorderSize\":0,\"fInit\":1,\"fShadowColor\":1,\"fCornerRadius\":0,\"fOption\":\"brNDC\",\"fName\":\"TPave\",\"fTextAngle\":0,\"fTextSize\":9,\"fTextAlign\":12,\"fTextColor\":1,\"fTextFont\":42,\"fPrimitives\":{\"_typename\":\"TList\",\"name\":\"TList\",\"arr\":[{\"_typename\":\"TLegendEntry\",\"fUniqueID\":0,\"fBits\":50331656,\"fTextAngle\":0,\"fTextSize\":0,\"fTextAlign\":0,\"fTextColor\":0,\"fTextFont\":42,\"fLineColor\":1,\"fLineStyle\":1,\"fLineWidth\":1,\"fFillColor\":0,\"fFillStyle\":0,\"fMarkerColor\":1,\"fMarkerStyle\":22,\"fMarkerSize\":1,\"fObject\":{\"$ref\":40},\"fLabel\":\"Data (2016)\",\"fOption\":\"p\"},{\"_typename\":\"TLegendEntry\",\"fUniqueID\":0,\"fBits\":50331656,\"fTextAngle\":0,\"fTextSize\":0,\"fTextAlign\":0,\"fTextColor\":0,\"fTextFont\":42,\"fLineColor\":1,\"fLineStyle\":1,\"fLineWidth\":1,\"fFillColor\":0,\"fFillStyle\":0,\"fMarkerColor\":7,\"fMarkerStyle\":2,\"fMarkerSize\":1,\"fObject\":{\"$ref\":35},\"fLabel\":\"MC self-closure (ttbar Powheg)\",\"fOption\":\"p\"}],\"opt\":[\"p\",\"p\"]},\"fEntrySeparation\":0.1,\"fMargin\":0.25,\"fNColumns\":1,\"fColumnSeparation\":0},{\"_typename\":\"TPaveText\",\"fUniqueID\":0,\"fBits\":50331657,\"fLineColor\":1,\"fLineStyle\":1,\"fLineWidth\":1,\"fFillColor\":0,\"fFillStyle\":0,\"fX1\":0.241899948043993,\"fY1\":2766.08610459964,\"fX2\":0.558100051956007,\"fY2\":3049.17372934106,\"fX1NDC\":0.341899950399867,\"fY1NDC\":0.911907519296625,\"fX2NDC\":0.658100049600133,\"fY2NDC\":0.995000004768372,\"fBorderSize\":0,\"fInit\":1,\"fShadowColor\":1,\"fCornerRadius\":0,\"fOption\":\"blNDC\",\"fName\":\"title\",\"fTextAngle\":0,\"fTextSize\":0,\"fTextAlign\":22,\"fTextColor\":1,\"fTextFont\":42,\"fLabel\":\"\",\"fLongest\":26,\"fMargin\":0.05,\"fLines\":{\"_typename\":\"TList\",\"name\":\"TList\",\"arr\":[{\"_typename\":\"TLatex\",\"fUniqueID\":0,\"fBits\":50331648,\"fName\":\"\",\"fTitle\":\"#tau_{1}^{(0.5)} binning 2\",\"fTextAngle\":0,\"fTextSize\":0,\"fTextAlign\":0,\"fTextColor\":0,\"fTextFont\":0,\"fX\":0,\"fY\":0,\"fLineColor\":1,\"fLineStyle\":1,\"fLineWidth\":2,\"fLimitFactorSize\":3,\"fOriginSize\":0.0570340901613235}],\"opt\":[\"\"]}}],\"opt\":[\"\",\"nostack\",\"\",\"blNDC\"]},\"fExecs\":{\"_typename\":\"TList\",\"name\":\"TList\",\"arr\":[],\"opt\":[]},\"fName\":\"c5_2\",\"fTitle\":\"c5_2\",\"fNumPaletteColor\":0,\"fNextPaletteColor\":0},{\"_typename\":\"TPad\",\"fUniqueID\":0,\"fBits\":50331657,\"fLineColor\":1,\"fLineStyle\":1,\"fLineWidth\":1,\"fFillColor\":0,\"fFillStyle\":1001,\"fLeftMargin\":0.1,\"fRightMargin\":0.1,\"fBottomMargin\":0.1,\"fTopMargin\":0.1,\"fXfile\":2,\"fYfile\":2,\"fAfile\":1,\"fXstat\":0.99,\"fYstat\":0.99,\"fAstat\":2,\"fFrameFillColor\":0,\"fFrameLineColor\":1,\"fFrameFillStyle\":1001,\"fFrameLineStyle\":1,\"fFrameLineWidth\":1,\"fFrameBorderSize\":1,\"fFrameBorderMode\":0,\"fX1\":-0.100000007450581,\"fY1\":-298.219107698022,\"fX2\":0.900000007450581,\"fY2\":2683.97179152976,\"fXtoAbsPixelk\":846.768052019803,\"fXtoPixelk\":37.4747189537963,\"fXtoPixel\":374.74666161716,\"fYtoAbsPixelk\":305.864048143911,\"fYtoPixelk\":298.944048298585,\"fYtoPixel\":-0.111381199773415,\"fUtoAbsPixelk\":809.293383066006,\"fUtoPixelk\":5e-5,\"fUtoPixel\":374.74666720132,\"fVtoAbsPixelk\":339.080050154674,\"fVtoPixelk\":332.160000309348,\"fVtoPixel\":-332.160000309348,\"fAbsPixeltoXk\":-2.25957450392142,\"fPixeltoXk\":-0.100000007450581,\"fPixeltoX\":0.00266846940192785,\"fAbsPixeltoYk\":2746.10076715045,\"fPixeltoYk\":-298.219107698022,\"fPixeltoY\":-8.97817586840799,\"fXlowNDC\":0.676666666443149,\"fYlowNDC\":0.509999999776483,\"fXUpNDC\":0,\"fYUpNDC\":0,\"fWNDC\":0.313333333780368,\"fHNDC\":0.480000000447035,\"fAbsXlowNDC\":0.676666666443149,\"fAbsYlowNDC\":0.509999999776483,\"fAbsWNDC\":0.313333333780368,\"fAbsHNDC\":0.480000000447035,\"fUxmin\":0,\"fUymin\":0,\"fUxmax\":0.8,\"fUymax\":2385.75268383174,\"fTheta\":30,\"fPhi\":30,\"fAspectRatio\":0,\"fNumber\":3,\"fTickx\":0,\"fTicky\":0,\"fLogx\":0,\"fLogy\":0,\"fLogz\":0,\"fPadPaint\":0,\"fCrosshair\":0,\"fCrosshairPos\":0,\"fBorderSize\":2,\"fBorderMode\":0,\"fModified\":false,\"fGridx\":false,\"fGridy\":false,\"fAbsCoord\":false,\"fEditable\":true,\"fFixedAspectRatio\":false,\"fPrimitives\":{\"_typename\":\"TList\",\"name\":\"TList\",\"arr\":[{\"_typename\":\"TFrame\",\"fUniqueID\":0,\"fBits\":50331656,\"fLineColor\":1,\"fLineStyle\":1,\"fLineWidth\":1,\"fFillColor\":0,\"fFillStyle\":1001,\"fX1\":0,\"fY1\":0,\"fX2\":0.8,\"fY2\":2385.75268383174,\"fBorderSize\":1,\"fBorderMode\":0},{\"_typename\":\"THStack\",\"fUniqueID\":0,\"fBits\":50331656,\"fName\":\"#tau_{1}^{(0.5)}\",\"fTitle\":\"#tau_{1}^{(0.5)} binning 3\",\"fHists\":{\"_typename\":\"TList\",\"name\":\"TList\",\"arr\":[{\"_typename\":\"TH1D\",\"fUniqueID\":0,\"fBits\":50332168,\"fName\":\"closure_unfolded_MC\",\"fTitle\":\"closure_unfolded_MC\",\"fLineColor\":7,\"fLineStyle\":1,\"fLineWidth\":1,\"fFillColor\":0,\"fFillStyle\":1001,\"fMarkerColor\":7,\"fMarkerStyle\":2,\"fMarkerSize\":1,\"fNcells\":16,\"fXaxis\":{\"_typename\":\"TAxis\",\"fUniqueID\":0,\"fBits\":50331648,\"fName\":\"xaxis\",\"fTitle\":\"#tau_{1}^{(0.5)}(gen_sig)\",\"fNdivisions\":510,\"fAxisColor\":1,\"fLabelColor\":1,\"fLabelFont\":42,\"fLabelOffset\":0.005,\"fLabelSize\":0.035,\"fTickLength\":0.03,\"fTitleOffset\":1,\"fTitleSize\":0.035,\"fTitleColor\":1,\"fTitleFont\":42,\"fNbins\":14,\"fXmin\":0,\"fXmax\":0.8,\"fXbins\":[0,0.29,0.325,0.36,0.395,0.43,0.465,0.5,0.535,0.57,0.605,0.64,0.675,0.71,0.8],\"fFirst\":0,\"fLast\":0,\"fBits2\":0,\"fTimeDisplay\":false,\"fTimeFormat\":\"\",\"fLabels\":null,\"fModLabs\":null},\"fYaxis\":{\"_typename\":\"TAxis\",\"fUniqueID\":0,\"fBits\":50331648,\"fName\":\"yaxis\",\"fTitle\":\"\",\"fNdivisions\":510,\"fAxisColor\":1,\"fLabelColor\":1,\"fLabelFont\":42,\"fLabelOffset\":0.005,\"fLabelSize\":0.035,\"fTickLength\":0.03,\"fTitleOffset\":0,\"fTitleSize\":0.035,\"fTitleColor\":1,\"fTitleFont\":42,\"fNbins\":1,\"fXmin\":0,\"fXmax\":1,\"fXbins\":[],\"fFirst\":0,\"fLast\":0,\"fBits2\":0,\"fTimeDisplay\":false,\"fTimeFormat\":\"\",\"fLabels\":null,\"fModLabs\":null},\"fZaxis\":{\"_typename\":\"TAxis\",\"fUniqueID\":0,\"fBits\":50331648,\"fName\":\"zaxis\",\"fTitle\":\"\",\"fNdivisions\":510,\"fAxisColor\":1,\"fLabelColor\":1,\"fLabelFont\":42,\"fLabelOffset\":0.005,\"fLabelSize\":0.035,\"fTickLength\":0.03,\"fTitleOffset\":1,\"fTitleSize\":0.035,\"fTitleColor\":1,\"fTitleFont\":42,\"fNbins\":1,\"fXmin\":0,\"fXmax\":1,\"fXbins\":[],\"fFirst\":0,\"fLast\":0,\"fBits2\":0,\"fTimeDisplay\":false,\"fTimeFormat\":\"\",\"fLabels\":null,\"fModLabs\":null},\"fBarOffset\":0,\"fBarWidth\":1000,\"fEntries\":30,\"fTsumw\":0,\"fTsumw2\":0,\"fTsumwx\":0,\"fTsumwx2\":0,\"fMaximum\":-1111,\"fMinimum\":-1111,\"fNormFactor\":0,\"fContour\":[],\"fSumw2\":[0,330.620895642381,419.30830432797,746.832008228839,1509.27788626363,2812.95592956077,4074.43967237212,4923.19608689447,4532.20194877648,4268.10718451213,3956.55440410123,2710.82293472869,1432.68452850492,498.57372511496,116.730803201749,0],\"fOption\":\"\",\"fFunctions\":{\"_typename\":\"TList\",\"name\":\"TList\",\"arr\":[],\"opt\":[]},\"fBufferSize\":0,\"fBuffer\":[],\"fBinStatErrOpt\":0,\"fStatOverflows\":2,\"fArray\":[0,125.15751494316,136.90446397852,278.33030744329,483.490154790989,803.874834417516,1180.00209933191,1578.49950242565,1893.95431647733,2138.05272630992,2032.04128400648,1679.48831831647,1100.95490617567,422.534742325918,47.8524583679053,0]},{\"_typename\":\"TH1D\",\"fUniqueID\":0,\"fBits\":50332168,\"fName\":\"unfolded_data\",\"fTitle\":\"unfolded_data\",\"fLineColor\":1,\"fLineStyle\":1,\"fLineWidth\":2,\"fFillColor\":0,\"fFillStyle\":1001,\"fMarkerColor\":1,\"fMarkerStyle\":22,\"fMarkerSize\":1,\"fNcells\":16,\"fXaxis\":{\"_typename\":\"TAxis\",\"fUniqueID\":0,\"fBits\":50331648,\"fName\":\"xaxis\",\"fTitle\":\"#tau_{1}^{(0.5)}(gen_sig)\",\"fNdivisions\":510,\"fAxisColor\":1,\"fLabelColor\":1,\"fLabelFont\":42,\"fLabelOffset\":0.005,\"fLabelSize\":0.035,\"fTickLength\":0.03,\"fTitleOffset\":1,\"fTitleSize\":0.035,\"fTitleColor\":1,\"fTitleFont\":42,\"fNbins\":14,\"fXmin\":0,\"fXmax\":0.8,\"fXbins\":[0,0.29,0.325,0.36,0.395,0.43,0.465,0.5,0.535,0.57,0.605,0.64,0.675,0.71,0.8],\"fFirst\":0,\"fLast\":0,\"fBits2\":0,\"fTimeDisplay\":false,\"fTimeFormat\":\"\",\"fLabels\":null,\"fModLabs\":null},\"fYaxis\":{\"_typename\":\"TAxis\",\"fUniqueID\":0,\"fBits\":50331648,\"fName\":\"yaxis\",\"fTitle\":\"\",\"fNdivisions\":510,\"fAxisColor\":1,\"fLabelColor\":1,\"fLabelFont\":42,\"fLabelOffset\":0.005,\"fLabelSize\":0.035,\"fTickLength\":0.03,\"fTitleOffset\":0,\"fTitleSize\":0.035,\"fTitleColor\":1,\"fTitleFont\":42,\"fNbins\":1,\"fXmin\":0,\"fXmax\":1,\"fXbins\":[],\"fFirst\":0,\"fLast\":0,\"fBits2\":0,\"fTimeDisplay\":false,\"fTimeFormat\":\"\",\"fLabels\":null,\"fModLabs\":null},\"fZaxis\":{\"_typename\":\"TAxis\",\"fUniqueID\":0,\"fBits\":50331648,\"fName\":\"zaxis\",\"fTitle\":\"\",\"fNdivisions\":510,\"fAxisColor\":1,\"fLabelColor\":1,\"fLabelFont\":42,\"fLabelOffset\":0.005,\"fLabelSize\":0.035,\"fTickLength\":0.03,\"fTitleOffset\":1,\"fTitleSize\":0.035,\"fTitleColor\":1,\"fTitleFont\":42,\"fNbins\":1,\"fXmin\":0,\"fXmax\":1,\"fXbins\":[],\"fFirst\":0,\"fLast\":0,\"fBits2\":0,\"fTimeDisplay\":false,\"fTimeFormat\":\"\",\"fLabels\":null,\"fModLabs\":null},\"fBarOffset\":0,\"fBarWidth\":1000,\"fEntries\":30,\"fTsumw\":0,\"fTsumw2\":0,\"fTsumwx\":0,\"fTsumwx2\":0,\"fMaximum\":-1111,\"fMinimum\":-1111,\"fNormFactor\":0,\"fContour\":[],\"fSumw2\":[0,7885.21115708819,3089.27944357414,16057.467036338,25276.3518527235,51178.9053631392,56394.6205960051,61541.529467573,41950.0907595717,31555.3186131081,25297.0749320842,15442.7930457805,7377.95706915544,2286.81689973104,723.673493286519,0],\"fOption\":\"\",\"fFunctions\":{\"_typename\":\"TList\",\"name\":\"TList\",\"arr\":[],\"opt\":[]},\"fBufferSize\":0,\"fBuffer\":[],\"fBinStatErrOpt\":0,\"fStatOverflows\":2,\"fArray\":[0,12.5187751414733,143.537689057476,302.139333451167,733.573690514884,541.74310067048,1322.04311953393,1951.01518865296,1829.6319921295,2272.14541317308,1927.38571200245,1734.72314872046,1027.51462979579,477.456037461883,119.407221590797,0]}],\"opt\":[\"E\",\"E \"]},\"fHistogram\":{\"_typename\":\"TH1F\",\"fUniqueID\":0,\"fBits\":50332160,\"fName\":\"#tau_{1}^{(0.5)}\",\"fTitle\":\"#tau_{1}^{(0.5)} binning 3\",\"fLineColor\":602,\"fLineStyle\":1,\"fLineWidth\":1,\"fFillColor\":0,\"fFillStyle\":1001,\"fMarkerColor\":1,\"fMarkerStyle\":1,\"fMarkerSize\":1,\"fNcells\":16,\"fXaxis\":{\"_typename\":\"TAxis\",\"fUniqueID\":0,\"fBits\":50331648,\"fName\":\"xaxis\",\"fTitle\":\"\",\"fNdivisions\":510,\"fAxisColor\":1,\"fLabelColor\":1,\"fLabelFont\":42,\"fLabelOffset\":0.005,\"fLabelSize\":0.035,\"fTickLength\":0.03,\"fTitleOffset\":1,\"fTitleSize\":0.035,\"fTitleColor\":1,\"fTitleFont\":42,\"fNbins\":14,\"fXmin\":0,\"fXmax\":0.8,\"fXbins\":[0,0.29,0.325,0.36,0.395,0.43,0.465,0.5,0.535,0.57,0.605,0.64,0.675,0.71,0.8],\"fFirst\":0,\"fLast\":0,\"fBits2\":0,\"fTimeDisplay\":false,\"fTimeFormat\":\"\",\"fLabels\":null,\"fModLabs\":null},\"fYaxis\":{\"_typename\":\"TAxis\",\"fUniqueID\":0,\"fBits\":50331648,\"fName\":\"yaxis\",\"fTitle\":\"\",\"fNdivisions\":510,\"fAxisColor\":1,\"fLabelColor\":1,\"fLabelFont\":42,\"fLabelOffset\":0.005,\"fLabelSize\":0.035,\"fTickLength\":0.03,\"fTitleOffset\":0,\"fTitleSize\":0.035,\"fTitleColor\":1,\"fTitleFont\":42,\"fNbins\":1,\"fXmin\":0,\"fXmax\":1,\"fXbins\":[],\"fFirst\":0,\"fLast\":0,\"fBits2\":0,\"fTimeDisplay\":false,\"fTimeFormat\":\"\",\"fLabels\":null,\"fModLabs\":null},\"fZaxis\":{\"_typename\":\"TAxis\",\"fUniqueID\":0,\"fBits\":50331648,\"fName\":\"zaxis\",\"fTitle\":\"\",\"fNdivisions\":510,\"fAxisColor\":1,\"fLabelColor\":1,\"fLabelFont\":42,\"fLabelOffset\":0.005,\"fLabelSize\":0.035,\"fTickLength\":0.03,\"fTitleOffset\":1,\"fTitleSize\":0.035,\"fTitleColor\":1,\"fTitleFont\":42,\"fNbins\":1,\"fXmin\":0,\"fXmax\":1,\"fXbins\":[],\"fFirst\":0,\"fLast\":0,\"fBits2\":0,\"fTimeDisplay\":false,\"fTimeFormat\":\"\",\"fLabels\":null,\"fModLabs\":null},\"fBarOffset\":0,\"fBarWidth\":1000,\"fEntries\":0,\"fTsumw\":0,\"fTsumw2\":0,\"fTsumwx\":0,\"fTsumwx2\":0,\"fMaximum\":2385.75268383174,\"fMinimum\":0,\"fNormFactor\":0,\"fContour\":[],\"fSumw2\":[0,0,0,0,0,0,0,0,0,0,0,0,0,0,0,0],\"fOption\":\"\",\"fFunctions\":{\"_typename\":\"TList\",\"name\":\"TList\",\"arr\":[],\"opt\":[]},\"fBufferSize\":0,\"fBuffer\":[],\"fBinStatErrOpt\":0,\"fStatOverflows\":2,\"fArray\":[0,0,0,0,0,0,0,0,0,0,0,0,0,0,0,0]},\"fMaximum\":-1111,\"fMinimum\":-1111},{\"_typename\":\"TLegend\",\"fUniqueID\":0,\"fBits\":50331656,\"fLineColor\":0,\"fLineStyle\":1,\"fLineWidth\":1,\"fFillColor\":0,\"fFillStyle\":0,\"fX1\":-0.0500000067055229,\"fY1\":1848.95833974598,\"fX2\":0.810000006109477,\"fY2\":2236.64315664559,\"fX1NDC\":0.05,\"fY1NDC\":0.72,\"fX2NDC\":0.91,\"fY2NDC\":0.85,\"fBorderSize\":0,\"fInit\":1,\"fShadowColor\":1,\"fCornerRadius\":0,\"fOption\":\"brNDC\",\"fName\":\"TPave\",\"fTextAngle\":0,\"fTextSize\":9,\"fTextAlign\":12,\"fTextColor\":1,\"fTextFont\":42,\"fPrimitives\":{\"_typename\":\"TList\",\"name\":\"TList\",\"arr\":[{\"_typename\":\"TLegendEntry\",\"fUniqueID\":0,\"fBits\":50331656,\"fTextAngle\":0,\"fTextSize\":0,\"fTextAlign\":0,\"fTextColor\":0,\"fTextFont\":42,\"fLineColor\":1,\"fLineStyle\":1,\"fLineWidth\":1,\"fFillColor\":0,\"fFillStyle\":0,\"fMarkerColor\":1,\"fMarkerStyle\":22,\"fMarkerSize\":1,\"fObject\":{\"$ref\":68},\"fLabel\":\"Data (2016)\",\"fOption\":\"p\"},{\"_typename\":\"TLegendEntry\",\"fUniqueID\":0,\"fBits\":50331656,\"fTextAngle\":0,\"fTextSize\":0,\"fTextAlign\":0,\"fTextColor\":0,\"fTextFont\":42,\"fLineColor\":1,\"fLineStyle\":1,\"fLineWidth\":1,\"fFillColor\":0,\"fFillStyle\":0,\"fMarkerColor\":7,\"fMarkerStyle\":2,\"fMarkerSize\":1,\"fObject\":{\"$ref\":63},\"fLabel\":\"MC self-closure (ttbar Powheg)\",\"fOption\":\"p\"}],\"opt\":[\"p\",\"p\"]},\"fEntrySeparation\":0.1,\"fMargin\":0.25,\"fNColumns\":1,\"fColumnSeparation\":0},{\"_typename\":\"TPaveText\",\"fUniqueID\":0,\"fBits\":50331657,\"fLineColor\":1,\"fLineStyle\":1,\"fLineWidth\":1,\"fFillColor\":0,\"fFillStyle\":0,\"fX1\":0.241899948043993,\"fY1\":2421.26319728575,\"fX2\":0.558100051956007,\"fY2\":2669.06085125381,\"fX1NDC\":0.341899950399867,\"fY1NDC\":0.911907519296625,\"fX2NDC\":0.658100049600133,\"fY2NDC\":0.995000004768372,\"fBorderSize\":0,\"fInit\":1,\"fShadowColor\":1,\"fCornerRadius\":0,\"fOption\":\"blNDC\",\"fName\":\"title\",\"fTextAngle\":0,\"fTextSize\":0,\"fTextAlign\":22,\"fTextColor\":1,\"fTextFont\":42,\"fLabel\":\"\",\"fLongest\":26,\"fMargin\":0.05,\"fLines\":{\"_typename\":\"TList\",\"name\":\"TList\",\"arr\":[{\"_typename\":\"TLatex\",\"fUniqueID\":0,\"fBits\":50331648,\"fName\":\"\",\"fTitle\":\"#tau_{1}^{(0.5)} binning 3\",\"fTextAngle\":0,\"fTextSize\":0,\"fTextAlign\":0,\"fTextColor\":0,\"fTextFont\":0,\"fX\":0,\"fY\":0,\"fLineColor\":1,\"fLineStyle\":1,\"fLineWidth\":2,\"fLimitFactorSize\":3,\"fOriginSize\":0.0570340901613235}],\"opt\":[\"\"]}}],\"opt\":[\"\",\"nostack\",\"\",\"blNDC\"]},\"fExecs\":{\"_typename\":\"TList\",\"name\":\"TList\",\"arr\":[],\"opt\":[]},\"fName\":\"c5_3\",\"fTitle\":\"c5_3\",\"fNumPaletteColor\":0,\"fNextPaletteColor\":0},{\"_typename\":\"TPad\",\"fUniqueID\":0,\"fBits\":50331657,\"fLineColor\":1,\"fLineStyle\":1,\"fLineWidth\":1,\"fFillColor\":0,\"fFillStyle\":1001,\"fLeftMargin\":0.1,\"fRightMargin\":0.1,\"fBottomMargin\":0.1,\"fTopMargin\":0.1,\"fXfile\":2,\"fYfile\":2,\"fAfile\":1,\"fXstat\":0.99,\"fYstat\":0.99,\"fAstat\":2,\"fFrameFillColor\":0,\"fFrameLineColor\":1,\"fFrameFillStyle\":1001,\"fFrameLineStyle\":1,\"fFrameLineWidth\":1,\"fFrameBorderSize\":1,\"fFrameBorderMode\":0,\"fX1\":-0.100000007450581,\"fY1\":-452.749983221314,\"fX2\":0.900000007450581,\"fY2\":4074.74957913181,\"fXtoAbsPixelk\":49.4347186864695,\"fXtoPixelk\":37.4747189537963,\"fXtoPixel\":374.74666161716,\"fYtoAbsPixelk\":651.864048143911,\"fYtoPixelk\":298.944048298585,\"fYtoPixel\":-0.0733649988773739,\"fUtoAbsPixelk\":11.9600497326732,\"fUtoPixelk\":5e-5,\"fUtoPixel\":374.74666720132,\"fVtoAbsPixelk\":685.080050154674,\"fVtoPixelk\":332.160000309348,\"fVtoPixel\":-332.160000309348,\"fAbsPixeltoXk\":-0.131914900784285,\"fPixeltoXk\":-0.100000007450581,\"fPixeltoX\":0.00266846940192785,\"fAbsPixeltoYk\":8885.21785754363,\"fPixeltoYk\":-452.749983221314,\"fPixeltoY\":-13.6304779568177,\"fXlowNDC\":0.00999999977648258,\"fYlowNDC\":0.00999999977648258,\"fXUpNDC\":0,\"fYUpNDC\":0,\"fWNDC\":0.313333333780368,\"fHNDC\":0.480000000447035,\"fAbsXlowNDC\":0.00999999977648258,\"fAbsYlowNDC\":0.00999999977648258,\"fAbsWNDC\":0.313333333780368,\"fAbsHNDC\":0.480000000447035,\"fUxmin\":0,\"fUymin\":0,\"fUxmax\":0.8,\"fUymax\":3621.9995959105,\"fTheta\":30,\"fPhi\":30,\"fAspectRatio\":0,\"fNumber\":4,\"fTickx\":0,\"fTicky\":0,\"fLogx\":0,\"fLogy\":0,\"fLogz\":0,\"fPadPaint\":0,\"fCrosshair\":0,\"fCrosshairPos\":0,\"fBorderSize\":2,\"fBorderMode\":0,\"fModified\":false,\"fGridx\":false,\"fGridy\":false,\"fAbsCoord\":false,\"fEditable\":true,\"fFixedAspectRatio\":false,\"fPrimitives\":{\"_typename\":\"TList\",\"name\":\"TList\",\"arr\":[{\"_typename\":\"TFrame\",\"fUniqueID\":0,\"fBits\":50331656,\"fLineColor\":1,\"fLineStyle\":1,\"fLineWidth\":1,\"fFillColor\":0,\"fFillStyle\":1001,\"fX1\":0,\"fY1\":0,\"fX2\":0.8,\"fY2\":3621.9995959105,\"fBorderSize\":1,\"fBorderMode\":0},{\"_typename\":\"THStack\",\"fUniqueID\":0,\"fBits\":50331656,\"fName\":\"#tau_{1}^{(0.5)}\",\"fTitle\":\"#tau_{1}^{(0.5)} binning 4\",\"fHists\":{\"_typename\":\"TList\",\"name\":\"TList\",\"arr\":[{\"_typename\":\"TH1D\",\"fUniqueID\":0,\"fBits\":50332168,\"fName\":\"closure_unfolded_MC\",\"fTitle\":\"closure_unfolded_MC\",\"fLineColor\":7,\"fLineStyle\":1,\"fLineWidth\":1,\"fFillColor\":0,\"fFillStyle\":1001,\"fMarkerColor\":7,\"fMarkerStyle\":2,\"fMarkerSize\":1,\"fNcells\":12,\"fXaxis\":{\"_typename\":\"TAxis\",\"fUniqueID\":0,\"fBits\":50331648,\"fName\":\"xaxis\",\"fTitle\":\"#tau_{1}^{(0.5)}(gen_sig)\",\"fNdivisions\":510,\"fAxisColor\":1,\"fLabelColor\":1,\"fLabelFont\":42,\"fLabelOffset\":0.005,\"fLabelSize\":0.035,\"fTickLength\":0.03,\"fTitleOffset\":1,\"fTitleSize\":0.035,\"fTitleColor\":1,\"fTitleFont\":42,\"fNbins\":10,\"fXmin\":0,\"fXmax\":0.8,\"fXbins\":[0,0.25,0.30625,0.3625,0.41875,0.475,0.53125,0.5875,0.64375,0.7,0.8],\"fFirst\":0,\"fLast\":0,\"fBits2\":0,\"fTimeDisplay\":false,\"fTimeFormat\":\"\",\"fLabels\":null,\"fModLabs\":null},\"fYaxis\":{\"_typename\":\"TAxis\",\"fUniqueID\":0,\"fBits\":50331648,\"fName\":\"yaxis\",\"fTitle\":\"\",\"fNdivisions\":510,\"fAxisColor\":1,\"fLabelColor\":1,\"fLabelFont\":42,\"fLabelOffset\":0.005,\"fLabelSize\":0.035,\"fTickLength\":0.03,\"fTitleOffset\":0,\"fTitleSize\":0.035,\"fTitleColor\":1,\"fTitleFont\":42,\"fNbins\":1,\"fXmin\":0,\"fXmax\":1,\"fXbins\":[],\"fFirst\":0,\"fLast\":0,\"fBits2\":0,\"fTimeDisplay\":false,\"fTimeFormat\":\"\",\"fLabels\":null,\"fModLabs\":null},\"fZaxis\":{\"_typename\":\"TAxis\",\"fUniqueID\":0,\"fBits\":50331648,\"fName\":\"zaxis\",\"fTitle\":\"\",\"fNdivisions\":510,\"fAxisColor\":1,\"fLabelColor\":1,\"fLabelFont\":42,\"fLabelOffset\":0.005,\"fLabelSize\":0.035,\"fTickLength\":0.03,\"fTitleOffset\":1,\"fTitleSize\":0.035,\"fTitleColor\":1,\"fTitleFont\":42,\"fNbins\":1,\"fXmin\":0,\"fXmax\":1,\"fXbins\":[],\"fFirst\":0,\"fLast\":0,\"fBits2\":0,\"fTimeDisplay\":false,\"fTimeFormat\":\"\",\"fLabels\":null,\"fModLabs\":null},\"fBarOffset\":0,\"fBarWidth\":1000,\"fEntries\":22,\"fTsumw\":0,\"fTsumw2\":0,\"fTsumwx\":0,\"fTsumwx2\":0,\"fMaximum\":-1111,\"fMinimum\":-1111,\"fNormFactor\":0,\"fContour\":[],\"fSumw2\":[0,359.132860906037,168.98489934845,445.216979060505,1214.17139105765,2358.7219481112,2970.23443974376,2972.66591307056,2174.20024460745,947.048641183737,137.385866198795,0],\"fOption\":\"\",\"fFunctions\":{\"_typename\":\"TList\",\"name\":\"TList\",\"arr\":[],\"opt\":[]},\"fBufferSize\":0,\"fBuffer\":[],\"fBinStatErrOpt\":0,\"fStatOverflows\":2,\"fArray\":[0,58.9053617997216,120.938300296601,386.87223130237,955.527879709231,1920.70008119606,2819.17550596857,3408.96164621536,2790.87591282024,1342.35834321191,96.8223667906837,0]},{\"_typename\":\"TH1D\",\"fUniqueID\":0,\"fBits\":50332168,\"fName\":\"unfolded_data\",\"fTitle\":\"unfolded_data\",\"fLineColor\":1,\"fLineStyle\":1,\"fLineWidth\":2,\"fFillColor\":0,\"fFillStyle\":1001,\"fMarkerColor\":1,\"fMarkerStyle\":22,\"fMarkerSize\":1,\"fNcells\":12,\"fXaxis\":{\"_typename\":\"TAxis\",\"fUniqueID\":0,\"fBits\":50331648,\"fName\":\"xaxis\",\"fTitle\":\"#tau_{1}^{(0.5)}(gen_sig)\",\"fNdivisions\":510,\"fAxisColor\":1,\"fLabelColor\":1,\"fLabelFont\":42,\"fLabelOffset\":0.005,\"fLabelSize\":0.035,\"fTickLength\":0.03,\"fTitleOffset\":1,\"fTitleSize\":0.035,\"fTitleColor\":1,\"fTitleFont\":42,\"fNbins\":10,\"fXmin\":0,\"fXmax\":0.8,\"fXbins\":[0,0.25,0.30625,0.3625,0.41875,0.475,0.53125,0.5875,0.64375,0.7,0.8],\"fFirst\":0,\"fLast\":0,\"fBits2\":0,\"fTimeDisplay\":false,\"fTimeFormat\":\"\",\"fLabels\":null,\"fModLabs\":null},\"fYaxis\":{\"_typename\":\"TAxis\",\"fUniqueID\":0,\"fBits\":50331648,\"fName\":\"yaxis\",\"fTitle\":\"\",\"fNdivisions\":510,\"fAxisColor\":1,\"fLabelColor\":1,\"fLabelFont\":42,\"fLabelOffset\":0.005,\"fLabelSize\":0.035,\"fTickLength\":0.03,\"fTitleOffset\":0,\"fTitleSize\":0.035,\"fTitleColor\":1,\"fTitleFont\":42,\"fNbins\":1,\"fXmin\":0,\"fXmax\":1,\"fXbins\":[],\"fFirst\":0,\"fLast\":0,\"fBits2\":0,\"fTimeDisplay\":false,\"fTimeFormat\":\"\",\"fLabels\":null,\"fModLabs\":null},\"fZaxis\":{\"_typename\":\"TAxis\",\"fUniqueID\":0,\"fBits\":50331648,\"fName\":\"zaxis\",\"fTitle\":\"\",\"fNdivisions\":510,\"fAxisColor\":1,\"fLabelColor\":1,\"fLabelFont\":42,\"fLabelOffset\":0.005,\"fLabelSize\":0.035,\"fTickLength\":0.03,\"fTitleOffset\":1,\"fTitleSize\":0.035,\"fTitleColor\":1,\"fTitleFont\":42,\"fNbins\":1,\"fXmin\":0,\"fXmax\":1,\"fXbins\":[],\"fFirst\":0,\"fLast\":0,\"fBits2\":0,\"fTimeDisplay\":false,\"fTimeFormat\":\"\",\"fLabels\":null,\"fModLabs\":null},\"fBarOffset\":0,\"fBarWidth\":1000,\"fEntries\":22,\"fTsumw\":0,\"fTsumw2\":0,\"fTsumwx\":0,\"fTsumwx2\":0,\"fMaximum\":-1111,\"fMinimum\":-1111,\"fNormFactor\":0,\"fContour\":[],\"fSumw2\":[0,21131.4959859709,2904.54100803275,10410.5247244032,20515.4578567312,32557.1990829535,31654.5882406064,22292.5199193557,13000.0962491271,5630.71902644831,694.52061697494,0],\"fOption\":\"\",\"fFunctions\":{\"_typename\":\"TList\",\"name\":\"TList\",\"arr\":[],\"opt\":[]},\"fBufferSize\":0,\"fBuffer\":[],\"fBinStatErrOpt\":0,\"fStatOverflows\":2,\"fArray\":[0,65.0495087117135,29.5394600382334,513.524772942871,960.336094661594,2062.40035029162,3040.98596957527,3449.52342467666,2749.61746501274,1345.39867480363,164.367102335385,0]}],\"opt\":[\"E\",\"E \"]},\"fHistogram\":{\"_typename\":\"TH1F\",\"fUniqueID\":0,\"fBits\":50332160,\"fName\":\"#tau_{1}^{(0.5)}\",\"fTitle\":\"#tau_{1}^{(0.5)} binning 4\",\"fLineColor\":602,\"fLineStyle\":1,\"fLineWidth\":1,\"fFillColor\":0,\"fFillStyle\":1001,\"fMarkerColor\":1,\"fMarkerStyle\":1,\"fMarkerSize\":1,\"fNcells\":12,\"fXaxis\":{\"_typename\":\"TAxis\",\"fUniqueID\":0,\"fBits\":50331648,\"fName\":\"xaxis\",\"fTitle\":\"\",\"fNdivisions\":510,\"fAxisColor\":1,\"fLabelColor\":1,\"fLabelFont\":42,\"fLabelOffset\":0.005,\"fLabelSize\":0.035,\"fTickLength\":0.03,\"fTitleOffset\":1,\"fTitleSize\":0.035,\"fTitleColor\":1,\"fTitleFont\":42,\"fNbins\":10,\"fXmin\":0,\"fXmax\":0.8,\"fXbins\":[0,0.25,0.30625,0.3625,0.41875,0.475,0.53125,0.5875,0.64375,0.7,0.8],\"fFirst\":0,\"fLast\":0,\"fBits2\":0,\"fTimeDisplay\":false,\"fTimeFormat\":\"\",\"fLabels\":null,\"fModLabs\":null},\"fYaxis\":{\"_typename\":\"TAxis\",\"fUniqueID\":0,\"fBits\":50331648,\"fName\":\"yaxis\",\"fTitle\":\"\",\"fNdivisions\":510,\"fAxisColor\":1,\"fLabelColor\":1,\"fLabelFont\":42,\"fLabelOffset\":0.005,\"fLabelSize\":0.035,\"fTickLength\":0.03,\"fTitleOffset\":0,\"fTitleSize\":0.035,\"fTitleColor\":1,\"fTitleFont\":42,\"fNbins\":1,\"fXmin\":0,\"fXmax\":1,\"fXbins\":[],\"fFirst\":0,\"fLast\":0,\"fBits2\":0,\"fTimeDisplay\":false,\"fTimeFormat\":\"\",\"fLabels\":null,\"fModLabs\":null},\"fZaxis\":{\"_typename\":\"TAxis\",\"fUniqueID\":0,\"fBits\":50331648,\"fName\":\"zaxis\",\"fTitle\":\"\",\"fNdivisions\":510,\"fAxisColor\":1,\"fLabelColor\":1,\"fLabelFont\":42,\"fLabelOffset\":0.005,\"fLabelSize\":0.035,\"fTickLength\":0.03,\"fTitleOffset\":1,\"fTitleSize\":0.035,\"fTitleColor\":1,\"fTitleFont\":42,\"fNbins\":1,\"fXmin\":0,\"fXmax\":1,\"fXbins\":[],\"fFirst\":0,\"fLast\":0,\"fBits2\":0,\"fTimeDisplay\":false,\"fTimeFormat\":\"\",\"fLabels\":null,\"fModLabs\":null},\"fBarOffset\":0,\"fBarWidth\":1000,\"fEntries\":0,\"fTsumw\":0,\"fTsumw2\":0,\"fTsumwx\":0,\"fTsumwx2\":0,\"fMaximum\":3621.9995959105,\"fMinimum\":0,\"fNormFactor\":0,\"fContour\":[],\"fSumw2\":[0,0,0,0,0,0,0,0,0,0,0,0],\"fOption\":\"\",\"fFunctions\":{\"_typename\":\"TList\",\"name\":\"TList\",\"arr\":[],\"opt\":[]},\"fBufferSize\":0,\"fBuffer\":[],\"fBinStatErrOpt\":0,\"fStatOverflows\":2,\"fArray\":[0,0,0,0,0,0,0,0,0,0,0,0]},\"fMaximum\":-1111,\"fMinimum\":-1111},{\"_typename\":\"TLegend\",\"fUniqueID\":0,\"fBits\":50331656,\"fLineColor\":0,\"fLineStyle\":1,\"fLineWidth\":1,\"fFillColor\":0,\"fFillStyle\":0,\"fX1\":-0.0500000067055229,\"fY1\":2807.04970167294,\"fX2\":0.810000006109477,\"fY2\":3395.62464477884,\"fX1NDC\":0.05,\"fY1NDC\":0.72,\"fX2NDC\":0.91,\"fY2NDC\":0.85,\"fBorderSize\":0,\"fInit\":1,\"fShadowColor\":1,\"fCornerRadius\":0,\"fOption\":\"brNDC\",\"fName\":\"TPave\",\"fTextAngle\":0,\"fTextSize\":9,\"fTextAlign\":12,\"fTextColor\":1,\"fTextFont\":42,\"fPrimitives\":{\"_typename\":\"TList\",\"name\":\"TList\",\"arr\":[{\"_typename\":\"TLegendEntry\",\"fUniqueID\":0,\"fBits\":50331656,\"fTextAngle\":0,\"fTextSize\":0,\"fTextAlign\":0,\"fTextColor\":0,\"fTextFont\":42,\"fLineColor\":1,\"fLineStyle\":1,\"fLineWidth\":1,\"fFillColor\":0,\"fFillStyle\":0,\"fMarkerColor\":1,\"fMarkerStyle\":22,\"fMarkerSize\":1,\"fObject\":{\"$ref\":96},\"fLabel\":\"Data (2016)\",\"fOption\":\"p\"},{\"_typename\":\"TLegendEntry\",\"fUniqueID\":0,\"fBits\":50331656,\"fTextAngle\":0,\"fTextSize\":0,\"fTextAlign\":0,\"fTextColor\":0,\"fTextFont\":42,\"fLineColor\":1,\"fLineStyle\":1,\"fLineWidth\":1,\"fFillColor\":0,\"fFillStyle\":0,\"fMarkerColor\":7,\"fMarkerStyle\":2,\"fMarkerSize\":1,\"fObject\":{\"$ref\":91},\"fLabel\":\"MC self-closure (ttbar Powheg)\",\"fOption\":\"p\"}],\"opt\":[\"p\",\"p\"]},\"fEntrySeparation\":0.1,\"fMargin\":0.25,\"fNColumns\":1,\"fColumnSeparation\":0},{\"_typename\":\"TPaveText\",\"fUniqueID\":0,\"fBits\":50331657,\"fLineColor\":1,\"fLineStyle\":1,\"fLineWidth\":1,\"fFillColor\":0,\"fFillStyle\":0,\"fX1\":0.241899948043993,\"fY1\":3675.91091130068,\"fX2\":0.558100051956007,\"fY2\":4052.11210290885,\"fX1NDC\":0.341899950399867,\"fY1NDC\":0.911907519296625,\"fX2NDC\":0.658100049600133,\"fY2NDC\":0.995000004768372,\"fBorderSize\":0,\"fInit\":1,\"fShadowColor\":1,\"fCornerRadius\":0,\"fOption\":\"blNDC\",\"fName\":\"title\",\"fTextAngle\":0,\"fTextSize\":0,\"fTextAlign\":22,\"fTextColor\":1,\"fTextFont\":42,\"fLabel\":\"\",\"fLongest\":26,\"fMargin\":0.05,\"fLines\":{\"_typename\":\"TList\",\"name\":\"TList\",\"arr\":[{\"_typename\":\"TLatex\",\"fUniqueID\":0,\"fBits\":50331648,\"fName\":\"\",\"fTitle\":\"#tau_{1}^{(0.5)} binning 4\",\"fTextAngle\":0,\"fTextSize\":0,\"fTextAlign\":0,\"fTextColor\":0,\"fTextFont\":0,\"fX\":0,\"fY\":0,\"fLineColor\":1,\"fLineStyle\":1,\"fLineWidth\":2,\"fLimitFactorSize\":3,\"fOriginSize\":0.0570340901613235}],\"opt\":[\"\"]}}],\"opt\":[\"\",\"nostack\",\"\",\"blNDC\"]},\"fExecs\":{\"_typename\":\"TList\",\"name\":\"TList\",\"arr\":[],\"opt\":[]},\"fName\":\"c5_4\",\"fTitle\":\"c5_4\",\"fNumPaletteColor\":0,\"fNextPaletteColor\":0},{\"_typename\":\"TPad\",\"fUniqueID\":0,\"fBits\":50331657,\"fLineColor\":1,\"fLineStyle\":1,\"fLineWidth\":1,\"fFillColor\":0,\"fFillStyle\":1001,\"fLeftMargin\":0.1,\"fRightMargin\":0.1,\"fBottomMargin\":0.1,\"fTopMargin\":0.1,\"fXfile\":2,\"fYfile\":2,\"fAfile\":1,\"fXstat\":0.99,\"fYstat\":0.99,\"fAstat\":2,\"fFrameFillColor\":0,\"fFrameLineColor\":1,\"fFrameFillStyle\":1001,\"fFrameLineStyle\":1,\"fFrameLineWidth\":1,\"fFrameBorderSize\":1,\"fFrameBorderMode\":0,\"fX1\":-0.100000007450581,\"fY1\":-354.543670558401,\"fX2\":0.900000007450581,\"fY2\":3165.1548714406,\"fXtoAbsPixelk\":448.101385353136,\"fXtoPixelk\":37.4747189537963,\"fXtoPixel\":374.74666161716,\"fYtoAbsPixelk\":651.621154650666,\"fYtoPixelk\":298.70115480534,\"fYtoPixel\":-0.0943717185849385,\"fUtoAbsPixelk\":410.62671639934,\"fUtoPixelk\":5e-5,\"fUtoPixel\":374.74666720132,\"fVtoAbsPixelk\":685.080050154674,\"fVtoPixelk\":332.160000309348,\"fVtoPixel\":-332.160000309348,\"fAbsPixeltoXk\":-1.19574470235285,\"fPixeltoXk\":-0.100000007450581,\"fPixeltoX\":0.00266846940192785,\"fAbsPixeltoYk\":6904.8345671927,\"fPixeltoYk\":-354.543670558401,\"fPixeltoY\":-10.5963949263037,\"fXlowNDC\":0.343333333109816,\"fYlowNDC\":0.00999999977648258,\"fXUpNDC\":0,\"fYUpNDC\":0,\"fWNDC\":0.313333333780368,\"fHNDC\":0.480000000447035,\"fAbsXlowNDC\":0.343333333109816,\"fAbsYlowNDC\":0.00999999977648258,\"fAbsWNDC\":0.313333333780368,\"fAbsHNDC\":0.480000000447035,\"fUxmin\":0,\"fUymin\":-2.57379537946167,\"fUxmax\":0.8,\"fUymax\":2813.18499626166,\"fTheta\":30,\"fPhi\":30,\"fAspectRatio\":0,\"fNumber\":5,\"fTickx\":0,\"fTicky\":0,\"fLogx\":0,\"fLogy\":0,\"fLogz\":0,\"fPadPaint\":0,\"fCrosshair\":0,\"fCrosshairPos\":0,\"fBorderSize\":2,\"fBorderMode\":0,\"fModified\":false,\"fGridx\":false,\"fGridy\":false,\"fAbsCoord\":false,\"fEditable\":true,\"fFixedAspectRatio\":false,\"fPrimitives\":{\"_typename\":\"TList\",\"name\":\"TList\",\"arr\":[{\"_typename\":\"TFrame\",\"fUniqueID\":0,\"fBits\":50331656,\"fLineColor\":1,\"fLineStyle\":1,\"fLineWidth\":1,\"fFillColor\":0,\"fFillStyle\":1001,\"fX1\":0,\"fY1\":-2.57379537946167,\"fX2\":0.8,\"fY2\":2813.18499626166,\"fBorderSize\":1,\"fBorderMode\":0},{\"_typename\":\"THStack\",\"fUniqueID\":0,\"fBits\":50331656,\"fName\":\"#tau_{1}^{(0.5)}\",\"fTitle\":\"#tau_{1}^{(0.5)} binning 5\",\"fHists\":{\"_typename\":\"TList\",\"name\":\"TList\",\"arr\":[{\"_typename\":\"TH1D\",\"fUniqueID\":0,\"fBits\":50332168,\"fName\":\"closure_unfolded_MC\",\"fTitle\":\"closure_unfolded_MC\",\"fLineColor\":7,\"fLineStyle\":1,\"fLineWidth\":1,\"fFillColor\":0,\"fFillStyle\":1001,\"fMarkerColor\":7,\"fMarkerStyle\":2,\"fMarkerSize\":1,\"fNcells\":14,\"fXaxis\":{\"_typename\":\"TAxis\",\"fUniqueID\":0,\"fBits\":50331648,\"fName\":\"xaxis\",\"fTitle\":\"#tau_{1}^{(0.5)}(gen_sig)\",\"fNdivisions\":510,\"fAxisColor\":1,\"fLabelColor\":1,\"fLabelFont\":42,\"fLabelOffset\":0.005,\"fLabelSize\":0.035,\"fTickLength\":0.03,\"fTitleOffset\":1,\"fTitleSize\":0.035,\"fTitleColor\":1,\"fTitleFont\":42,\"fNbins\":12,\"fXmin\":0,\"fXmax\":0.8,\"fXbins\":[0,0.25,0.295,0.34,0.385,0.43,0.475,0.52,0.565,0.61,0.655,0.7,0.8],\"fFirst\":0,\"fLast\":0,\"fBits2\":0,\"fTimeDisplay\":false,\"fTimeFormat\":\"\",\"fLabels\":null,\"fModLabs\":null},\"fYaxis\":{\"_typename\":\"TAxis\",\"fUniqueID\":0,\"fBits\":50331648,\"fName\":\"yaxis\",\"fTitle\":\"\",\"fNdivisions\":510,\"fAxisColor\":1,\"fLabelColor\":1,\"fLabelFont\":42,\"fLabelOffset\":0.005,\"fLabelSize\":0.035,\"fTickLength\":0.03,\"fTitleOffset\":0,\"fTitleSize\":0.035,\"fTitleColor\":1,\"fTitleFont\":42,\"fNbins\":1,\"fXmin\":0,\"fXmax\":1,\"fXbins\":[],\"fFirst\":0,\"fLast\":0,\"fBits2\":0,\"fTimeDisplay\":false,\"fTimeFormat\":\"\",\"fLabels\":null,\"fModLabs\":null},\"fZaxis\":{\"_typename\":\"TAxis\",\"fUniqueID\":0,\"fBits\":50331648,\"fName\":\"zaxis\",\"fTitle\":\"\",\"fNdivisions\":510,\"fAxisColor\":1,\"fLabelColor\":1,\"fLabelFont\":42,\"fLabelOffset\":0.005,\"fLabelSize\":0.035,\"fTickLength\":0.03,\"fTitleOffset\":1,\"fTitleSize\":0.035,\"fTitleColor\":1,\"fTitleFont\":42,\"fNbins\":1,\"fXmin\":0,\"fXmax\":1,\"fXbins\":[],\"fFirst\":0,\"fLast\":0,\"fBits2\":0,\"fTimeDisplay\":false,\"fTimeFormat\":\"\",\"fLabels\":null,\"fModLabs\":null},\"fBarOffset\":0,\"fBarWidth\":1000,\"fEntries\":26,\"fTsumw\":0,\"fTsumw2\":0,\"fTsumwx\":0,\"fTsumwx2\":0,\"fMaximum\":-1111,\"fMinimum\":-1111,\"fNormFactor\":0,\"fContour\":[],\"fSumw2\":[0,318.109800180161,173.029769096997,446.61471838664,1094.9466621493,1949.59265775946,2893.24326638255,3451.16624738277,3558.54761149722,3099.90901721363,1879.37730471233,768.98419646632,139.55709572573,0],\"fOption\":\"\",\"fFunctions\":{\"_typename\":\"TList\",\"name\":\"TList\",\"arr\":[],\"opt\":[]},\"fBufferSize\":0,\"fBuffer\":[],\"fBinStatErrOpt\":0,\"fStatOverflows\":2,\"fArray\":[0,58.9053617997214,84.5348400386674,216.481243085043,496.982854265274,970.852976384772,1615.1865787305,2201.26582707949,2679.22380596349,2600.15008176381,1948.64741846654,932.084274942758,96.8223667906834,0]},{\"_typename\":\"TH1D\",\"fUniqueID\":0,\"fBits\":50332168,\"fName\":\"unfolded_data\",\"fTitle\":\"unfolded_data\",\"fLineColor\":1,\"fLineStyle\":1,\"fLineWidth\":2,\"fFillColor\":0,\"fFillStyle\":1001,\"fMarkerColor\":1,\"fMarkerStyle\":22,\"fMarkerSize\":1,\"fNcells\":14,\"fXaxis\":{\"_typename\":\"TAxis\",\"fUniqueID\":0,\"fBits\":50331648,\"fName\":\"xaxis\",\"fTitle\":\"#tau_{1}^{(0.5)}(gen_sig)\",\"fNdivisions\":510,\"fAxisColor\":1,\"fLabelColor\":1,\"fLabelFont\":42,\"fLabelOffset\":0.005,\"fLabelSize\":0.035,\"fTickLength\":0.03,\"fTitleOffset\":1,\"fTitleSize\":0.035,\"fTitleColor\":1,\"fTitleFont\":42,\"fNbins\":12,\"fXmin\":0,\"fXmax\":0.8,\"fXbins\":[0,0.25,0.295,0.34,0.385,0.43,0.475,0.52,0.565,0.61,0.655,0.7,0.8],\"fFirst\":0,\"fLast\":0,\"fBits2\":0,\"fTimeDisplay\":false,\"fTimeFormat\":\"\",\"fLabels\":null,\"fModLabs\":null},\"fYaxis\":{\"_typename\":\"TAxis\",\"fUniqueID\":0,\"fBits\":50331648,\"fName\":\"yaxis\",\"fTitle\":\"\",\"fNdivisions\":510,\"fAxisColor\":1,\"fLabelColor\":1,\"fLabelFont\":42,\"fLabelOffset\":0.005,\"fLabelSize\":0.035,\"fTickLength\":0.03,\"fTitleOffset\":0,\"fTitleSize\":0.035,\"fTitleColor\":1,\"fTitleFont\":42,\"fNbins\":1,\"fXmin\":0,\"fXmax\":1,\"fXbins\":[],\"fFirst\":0,\"fLast\":0,\"fBits2\":0,\"fTimeDisplay\":false,\"fTimeFormat\":\"\",\"fLabels\":null,\"fModLabs\":null},\"fZaxis\":{\"_typename\":\"TAxis\",\"fUniqueID\":0,\"fBits\":50331648,\"fName\":\"zaxis\",\"fTitle\":\"\",\"fNdivisions\":510,\"fAxisColor\":1,\"fLabelColor\":1,\"fLabelFont\":42,\"fLabelOffset\":0.005,\"fLabelSize\":0.035,\"fTickLength\":0.03,\"fTitleOffset\":1,\"fTitleSize\":0.035,\"fTitleColor\":1,\"fTitleFont\":42,\"fNbins\":1,\"fXmin\":0,\"fXmax\":1,\"fXbins\":[],\"fFirst\":0,\"fLast\":0,\"fBits2\":0,\"fTimeDisplay\":false,\"fTimeFormat\":\"\",\"fLabels\":null,\"fModLabs\":null},\"fBarOffset\":0,\"fBarWidth\":1000,\"fEntries\":26,\"fTsumw\":0,\"fTsumw2\":0,\"fTsumwx\":0,\"fTsumwx2\":0,\"fMaximum\":-1111,\"fMinimum\":-1111,\"fNormFactor\":0,\"fContour\":[],\"fSumw2\":[0,23171.5103708535,3169.60435735078,6430.63337681276,21944.276886598,36743.4517452336,38769.7905696236,34608.4280748001,26081.2399005188,20487.5706761066,10432.3714383512,4390.2908150603,710.457164546818,0],\"fOption\":\"\",\"fFunctions\":{\"_typename\":\"TList\",\"name\":\"TList\",\"arr\":[],\"opt\":[]},\"fBufferSize\":0,\"fBuffer\":[],\"fBinStatErrOpt\":0,\"fStatOverflows\":2,\"fArray\":[0,76.5786546245095,-2.57379537946167,258.171579206922,575.993308941175,997.944581776979,1717.09268757528,2569.66746935052,2626.7889688795,2516.65865230012,2010.49526004096,910.533008764298,166.242732828798,0]}],\"opt\":[\"E\",\"E \"]},\"fHistogram\":{\"_typename\":\"TH1F\",\"fUniqueID\":0,\"fBits\":50332160,\"fName\":\"#tau_{1}^{(0.5)}\",\"fTitle\":\"#tau_{1}^{(0.5)} binning 5\",\"fLineColor\":602,\"fLineStyle\":1,\"fLineWidth\":1,\"fFillColor\":0,\"fFillStyle\":1001,\"fMarkerColor\":1,\"fMarkerStyle\":1,\"fMarkerSize\":1,\"fNcells\":14,\"fXaxis\":{\"_typename\":\"TAxis\",\"fUniqueID\":0,\"fBits\":50331648,\"fName\":\"xaxis\",\"fTitle\":\"\",\"fNdivisions\":510,\"fAxisColor\":1,\"fLabelColor\":1,\"fLabelFont\":42,\"fLabelOffset\":0.005,\"fLabelSize\":0.035,\"fTickLength\":0.03,\"fTitleOffset\":1,\"fTitleSize\":0.035,\"fTitleColor\":1,\"fTitleFont\":42,\"fNbins\":12,\"fXmin\":0,\"fXmax\":0.8,\"fXbins\":[0,0.25,0.295,0.34,0.385,0.43,0.475,0.52,0.565,0.61,0.655,0.7,0.8],\"fFirst\":0,\"fLast\":0,\"fBits2\":0,\"fTimeDisplay\":false,\"fTimeFormat\":\"\",\"fLabels\":null,\"fModLabs\":null},\"fYaxis\":{\"_typename\":\"TAxis\",\"fUniqueID\":0,\"fBits\":50331648,\"fName\":\"yaxis\",\"fTitle\":\"\",\"fNdivisions\":510,\"fAxisColor\":1,\"fLabelColor\":1,\"fLabelFont\":42,\"fLabelOffset\":0.005,\"fLabelSize\":0.035,\"fTickLength\":0.03,\"fTitleOffset\":0,\"fTitleSize\":0.035,\"fTitleColor\":1,\"fTitleFont\":42,\"fNbins\":1,\"fXmin\":0,\"fXmax\":1,\"fXbins\":[],\"fFirst\":0,\"fLast\":0,\"fBits2\":0,\"fTimeDisplay\":false,\"fTimeFormat\":\"\",\"fLabels\":null,\"fModLabs\":null},\"fZaxis\":{\"_typename\":\"TAxis\",\"fUniqueID\":0,\"fBits\":50331648,\"fName\":\"zaxis\",\"fTitle\":\"\",\"fNdivisions\":510,\"fAxisColor\":1,\"fLabelColor\":1,\"fLabelFont\":42,\"fLabelOffset\":0.005,\"fLabelSize\":0.035,\"fTickLength\":0.03,\"fTitleOffset\":1,\"fTitleSize\":0.035,\"fTitleColor\":1,\"fTitleFont\":42,\"fNbins\":1,\"fXmin\":0,\"fXmax\":1,\"fXbins\":[],\"fFirst\":0,\"fLast\":0,\"fBits2\":0,\"fTimeDisplay\":false,\"fTimeFormat\":\"\",\"fLabels\":null,\"fModLabs\":null},\"fBarOffset\":0,\"fBarWidth\":1000,\"fEntries\":0,\"fTsumw\":0,\"fTsumw2\":0,\"fTsumwx\":0,\"fTsumwx2\":0,\"fMaximum\":2813.18499626166,\"fMinimum\":-2.57379537946167,\"fNormFactor\":0,\"fContour\":[],\"fSumw2\":[0,0,0,0,0,0,0,0,0,0,0,0,0,0],\"fOption\":\"\",\"fFunctions\":{\"_typename\":\"TList\",\"name\":\"TList\",\"arr\":[],\"opt\":[]},\"fBufferSize\":0,\"fBuffer\":[],\"fBinStatErrOpt\":0,\"fStatOverflows\":2,\"fArray\":[0,0,0,0,0,0,0,0,0,0,0,0,0,0]},\"fMaximum\":-1111,\"fMinimum\":-1111},{\"_typename\":\"TLegend\",\"fUniqueID\":0,\"fBits\":50331656,\"fLineColor\":0,\"fLineStyle\":1,\"fLineWidth\":1,\"fFillColor\":0,\"fFillStyle\":0,\"fX1\":-0.0500000067055229,\"fY1\":2179.63927968088,\"fX2\":0.810000006109477,\"fY2\":2637.20009014075,\"fX1NDC\":0.05,\"fY1NDC\":0.72,\"fX2NDC\":0.91,\"fY2NDC\":0.85,\"fBorderSize\":0,\"fInit\":1,\"fShadowColor\":1,\"fCornerRadius\":0,\"fOption\":\"brNDC\",\"fName\":\"TPave\",\"fTextAngle\":0,\"fTextSize\":9,\"fTextAlign\":12,\"fTextColor\":1,\"fTextFont\":42,\"fPrimitives\":{\"_typename\":\"TList\",\"name\":\"TList\",\"arr\":[{\"_typename\":\"TLegendEntry\",\"fUniqueID\":0,\"fBits\":50331656,\"fTextAngle\":0,\"fTextSize\":0,\"fTextAlign\":0,\"fTextColor\":0,\"fTextFont\":42,\"fLineColor\":1,\"fLineStyle\":1,\"fLineWidth\":1,\"fFillColor\":0,\"fFillStyle\":0,\"fMarkerColor\":1,\"fMarkerStyle\":22,\"fMarkerSize\":1,\"fObject\":{\"$ref\":124},\"fLabel\":\"Data (2016)\",\"fOption\":\"p\"},{\"_typename\":\"TLegendEntry\",\"fUniqueID\":0,\"fBits\":50331656,\"fTextAngle\":0,\"fTextSize\":0,\"fTextAlign\":0,\"fTextColor\":0,\"fTextFont\":42,\"fLineColor\":1,\"fLineStyle\":1,\"fLineWidth\":1,\"fFillColor\":0,\"fFillStyle\":0,\"fMarkerColor\":7,\"fMarkerStyle\":2,\"fMarkerSize\":1,\"fObject\":{\"$ref\":119},\"fLabel\":\"MC self-closure (ttbar Powheg)\",\"fOption\":\"p\"}],\"opt\":[\"p\",\"p\"]},\"fEntrySeparation\":0.1,\"fMargin\":0.25,\"fNColumns\":1,\"fColumnSeparation\":0},{\"_typename\":\"TPaveText\",\"fUniqueID\":0,\"fBits\":50331657,\"fLineColor\":1,\"fLineStyle\":1,\"fLineWidth\":1,\"fFillColor\":0,\"fFillStyle\":0,\"fX1\":0.241899948043993,\"fY1\":2855.09589554785,\"fX2\":0.558100051956007,\"fY2\":3147.55639551384,\"fX1NDC\":0.341899950399867,\"fY1NDC\":0.911907519296625,\"fX2NDC\":0.658100049600133,\"fY2NDC\":0.995000004768372,\"fBorderSize\":0,\"fInit\":1,\"fShadowColor\":1,\"fCornerRadius\":0,\"fOption\":\"blNDC\",\"fName\":\"title\",\"fTextAngle\":0,\"fTextSize\":0,\"fTextAlign\":22,\"fTextColor\":1,\"fTextFont\":42,\"fLabel\":\"\",\"fLongest\":26,\"fMargin\":0.05,\"fLines\":{\"_typename\":\"TList\",\"name\":\"TList\",\"arr\":[{\"_typename\":\"TLatex\",\"fUniqueID\":0,\"fBits\":50331648,\"fName\":\"\",\"fTitle\":\"#tau_{1}^{(0.5)} binning 5\",\"fTextAngle\":0,\"fTextSize\":0,\"fTextAlign\":0,\"fTextColor\":0,\"fTextFont\":0,\"fX\":0,\"fY\":0,\"fLineColor\":1,\"fLineStyle\":1,\"fLineWidth\":2,\"fLimitFactorSize\":3,\"fOriginSize\":0.0570340901613235}],\"opt\":[\"\"]}}],\"opt\":[\"\",\"nostack\",\"\",\"blNDC\"]},\"fExecs\":{\"_typename\":\"TList\",\"name\":\"TList\",\"arr\":[],\"opt\":[]},\"fName\":\"c5_5\",\"fTitle\":\"c5_5\",\"fNumPaletteColor\":0,\"fNextPaletteColor\":0},{\"_typename\":\"TPad\",\"fUniqueID\":0,\"fBits\":50331657,\"fLineColor\":1,\"fLineStyle\":1,\"fLineWidth\":1,\"fFillColor\":0,\"fFillStyle\":1001,\"fLeftMargin\":0.1,\"fRightMargin\":0.1,\"fBottomMargin\":0.1,\"fTopMargin\":0.1,\"fXfile\":2,\"fYfile\":2,\"fAfile\":1,\"fXstat\":0.99,\"fYstat\":0.99,\"fAstat\":2,\"fFrameFillColor\":0,\"fFrameLineColor\":1,\"fFrameFillStyle\":1001,\"fFrameLineStyle\":1,\"fFrameLineWidth\":1,\"fFrameBorderSize\":1,\"fFrameBorderMode\":0,\"fX1\":-0.100000007450581,\"fY1\":-402.254853162623,\"fX2\":0.900000007450581,\"fY2\":2391.55382872069,\"fXtoAbsPixelk\":846.768052019803,\"fXtoPixelk\":37.4747189537963,\"fXtoPixel\":374.74666161716,\"fYtoAbsPixelk\":637.255382339244,\"fYtoPixelk\":284.335382493918,\"fYtoPixel\":-0.118891462562654,\"fUtoAbsPixelk\":809.293383066006,\"fUtoPixelk\":5e-5,\"fUtoPixel\":374.74666720132,\"fVtoAbsPixelk\":685.080050154674,\"fVtoPixelk\":332.160000309348,\"fVtoPixel\":-332.160000309348,\"fAbsPixeltoXk\":-2.25957450392142,\"fPixeltoXk\":-0.100000007450581,\"fPixeltoX\":0.00266846940192785,\"fAbsPixeltoYk\":5359.97554915617,\"fPixeltoYk\":-402.254853162623,\"fPixeltoY\":-8.41103287355904,\"fXlowNDC\":0.676666666443149,\"fYlowNDC\":0.00999999977648258,\"fXUpNDC\":0,\"fYUpNDC\":0,\"fWNDC\":0.313333333780368,\"fHNDC\":0.480000000447035,\"fAbsXlowNDC\":0.676666666443149,\"fAbsYlowNDC\":0.00999999977648258,\"fAbsWNDC\":0.313333333780368,\"fAbsHNDC\":0.480000000447035,\"fUxmin\":0,\"fUymin\":-122.873968321894,\"fUxmax\":0.8,\"fUymax\":2112.17294387996,\"fTheta\":30,\"fPhi\":30,\"fAspectRatio\":0,\"fNumber\":6,\"fTickx\":0,\"fTicky\":0,\"fLogx\":0,\"fLogy\":0,\"fLogz\":0,\"fPadPaint\":0,\"fCrosshair\":0,\"fCrosshairPos\":0,\"fBorderSize\":2,\"fBorderMode\":0,\"fModified\":false,\"fGridx\":false,\"fGridy\":false,\"fAbsCoord\":false,\"fEditable\":true,\"fFixedAspectRatio\":false,\"fPrimitives\":{\"_typename\":\"TList\",\"name\":\"TList\",\"arr\":[{\"_typename\":\"TFrame\",\"fUniqueID\":0,\"fBits\":50331656,\"fLineColor\":1,\"fLineStyle\":1,\"fLineWidth\":1,\"fFillColor\":0,\"fFillStyle\":1001,\"fX1\":0,\"fY1\":-122.873968321894,\"fX2\":0.8,\"fY2\":2112.17294387996,\"fBorderSize\":1,\"fBorderMode\":0},{\"_typename\":\"THStack\",\"fUniqueID\":0,\"fBits\":50331656,\"fName\":\"#tau_{1}^{(0.5)}\",\"fTitle\":\"#tau_{1}^{(0.5)} binning 6\",\"fHists\":{\"_typename\":\"TList\",\"name\":\"TList\",\"arr\":[{\"_typename\":\"TH1D\",\"fUniqueID\":0,\"fBits\":50332168,\"fName\":\"closure_unfolded_MC\",\"fTitle\":\"closure_unfolded_MC\",\"fLineColor\":7,\"fLineStyle\":1,\"fLineWidth\":1,\"fFillColor\":0,\"fFillStyle\":1001,\"fMarkerColor\":7,\"fMarkerStyle\":2,\"fMarkerSize\":1,\"fNcells\":20,\"fXaxis\":{\"_typename\":\"TAxis\",\"fUniqueID\":0,\"fBits\":50331648,\"fName\":\"xaxis\",\"fTitle\":\"#tau_{1}^{(0.5)}(gen_sig)\",\"fNdivisions\":510,\"fAxisColor\":1,\"fLabelColor\":1,\"fLabelFont\":42,\"fLabelOffset\":0.005,\"fLabelSize\":0.035,\"fTickLength\":0.03,\"fTitleOffset\":1,\"fTitleSize\":0.035,\"fTitleColor\":1,\"fTitleFont\":42,\"fNbins\":18,\"fXmin\":0,\"fXmax\":0.8,\"fXbins\":[0,0.25,0.278125,0.30625,0.334375,0.3625,0.390625,0.41875,0.446875,0.475,0.503125,0.53125,0.559375,0.5875,0.615625,0.64375,0.671875,0.7,0.8],\"fFirst\":0,\"fLast\":0,\"fBits2\":0,\"fTimeDisplay\":false,\"fTimeFormat\":\"\",\"fLabels\":null,\"fModLabs\":null},\"fYaxis\":{\"_typename\":\"TAxis\",\"fUniqueID\":0,\"fBits\":50331648,\"fName\":\"yaxis\",\"fTitle\":\"\",\"fNdivisions\":510,\"fAxisColor\":1,\"fLabelColor\":1,\"fLabelFont\":42,\"fLabelOffset\":0.005,\"fLabelSize\":0.035,\"fTickLength\":0.03,\"fTitleOffset\":0,\"fTitleSize\":0.035,\"fTitleColor\":1,\"fTitleFont\":42,\"fNbins\":1,\"fXmin\":0,\"fXmax\":1,\"fXbins\":[],\"fFirst\":0,\"fLast\":0,\"fBits2\":0,\"fTimeDisplay\":false,\"fTimeFormat\":\"\",\"fLabels\":null,\"fModLabs\":null},\"fZaxis\":{\"_typename\":\"TAxis\",\"fUniqueID\":0,\"fBits\":50331648,\"fName\":\"zaxis\",\"fTitle\":\"\",\"fNdivisions\":510,\"fAxisColor\":1,\"fLabelColor\":1,\"fLabelFont\":42,\"fLabelOffset\":0.005,\"fLabelSize\":0.035,\"fTickLength\":0.03,\"fTitleOffset\":1,\"fTitleSize\":0.035,\"fTitleColor\":1,\"fTitleFont\":42,\"fNbins\":1,\"fXmin\":0,\"fXmax\":1,\"fXbins\":[],\"fFirst\":0,\"fLast\":0,\"fBits2\":0,\"fTimeDisplay\":false,\"fTimeFormat\":\"\",\"fLabels\":null,\"fModLabs\":null},\"fBarOffset\":0,\"fBarWidth\":1000,\"fEntries\":38,\"fTsumw\":0,\"fTsumw2\":0,\"fTsumwx\":0,\"fTsumwx2\":0,\"fMaximum\":-1111,\"fMinimum\":-1111,\"fNormFactor\":0,\"fContour\":[],\"fSumw2\":[0,414.948260628047,479.789439783431,843.797835735974,1013.02366246283,1523.43520018429,2579.7263643237,4792.6321431132,6156.63419458542,7000.02959768915,7579.39566588556,6538.61478917348,6092.22956476275,5649.6348439006,4285.16807578974,3078.21577760382,1729.5531827809,682.323776118601,154.143316504523,0],\"fOption\":\"\",\"fFunctions\":{\"_typename\":\"TList\",\"name\":\"TList\",\"arr\":[],\"opt\":[]},\"fBufferSize\":0,\"fBuffer\":[],\"fBinStatErrOpt\":0,\"fStatOverflows\":2,\"fArray\":[0,58.9053617997205,39.8195510622433,81.1187492343577,135.993390320123,250.878840982246,379.056398472101,576.471481237133,825.111045522611,1095.58903567343,1303.8283549133,1515.34715105527,1696.7807218545,1712.18092436087,1549.26344811907,1241.61246470115,898.431928982112,443.9264142298,96.8223667906839,0]},{\"_typename\":\"TH1D\",\"fUniqueID\":0,\"fBits\":50332168,\"fName\":\"unfolded_data\",\"fTitle\":\"unfolded_data\",\"fLineColor\":1,\"fLineStyle\":1,\"fLineWidth\":2,\"fFillColor\":0,\"fFillStyle\":1001,\"fMarkerColor\":1,\"fMarkerStyle\":22,\"fMarkerSize\":1,\"fNcells\":20,\"fXaxis\":{\"_typename\":\"TAxis\",\"fUniqueID\":0,\"fBits\":50331648,\"fName\":\"xaxis\",\"fTitle\":\"#tau_{1}^{(0.5)}(gen_sig)\",\"fNdivisions\":510,\"fAxisColor\":1,\"fLabelColor\":1,\"fLabelFont\":42,\"fLabelOffset\":0.005,\"fLabelSize\":0.035,\"fTickLength\":0.03,\"fTitleOffset\":1,\"fTitleSize\":0.035,\"fTitleColor\":1,\"fTitleFont\":42,\"fNbins\":18,\"fXmin\":0,\"fXmax\":0.8,\"fXbins\":[0,0.25,0.278125,0.30625,0.334375,0.3625,0.390625,0.41875,0.446875,0.475,0.503125,0.53125,0.559375,0.5875,0.615625,0.64375,0.671875,0.7,0.8],\"fFirst\":0,\"fLast\":0,\"fBits2\":0,\"fTimeDisplay\":false,\"fTimeFormat\":\"\",\"fLabels\":null,\"fModLabs\":null},\"fYaxis\":{\"_typename\":\"TAxis\",\"fUniqueID\":0,\"fBits\":50331648,\"fName\":\"yaxis\",\"fTitle\":\"\",\"fNdivisions\":510,\"fAxisColor\":1,\"fLabelColor\":1,\"fLabelFont\":42,\"fLabelOffset\":0.005,\"fLabelSize\":0.035,\"fTickLength\":0.03,\"fTitleOffset\":0,\"fTitleSize\":0.035,\"fTitleColor\":1,\"fTitleFont\":42,\"fNbins\":1,\"fXmin\":0,\"fXmax\":1,\"fXbins\":[],\"fFirst\":0,\"fLast\":0,\"fBits2\":0,\"fTimeDisplay\":false,\"fTimeFormat\":\"\",\"fLabels\":null,\"fModLabs\":null},\"fZaxis\":{\"_typename\":\"TAxis\",\"fUniqueID\":0,\"fBits\":50331648,\"fName\":\"zaxis\",\"fTitle\":\"\",\"fNdivisions\":510,\"fAxisColor\":1,\"fLabelColor\":1,\"fLabelFont\":42,\"fLabelOffset\":0.005,\"fLabelSize\":0.035,\"fTickLength\":0.03,\"fTitleOffset\":1,\"fTitleSize\":0.035,\"fTitleColor\":1,\"fTitleFont\":42,\"fNbins\":1,\"fXmin\":0,\"fXmax\":1,\"fXbins\":[],\"fFirst\":0,\"fLast\":0,\"fBits2\":0,\"fTimeDisplay\":false,\"fTimeFormat\":\"\",\"fLabels\":null,\"fModLabs\":null},\"fBarOffset\":0,\"fBarWidth\":1000,\"fEntries\":38,\"fTsumw\":0,\"fTsumw2\":0,\"fTsumwx\":0,\"fTsumwx2\":0,\"fMaximum\":-1111,\"fMinimum\":-1111,\"fNormFactor\":0,\"fContour\":[],\"fSumw2\":[0,3100.57640635032,10455.1429115474,21267.745701338,20494.343469841,34095.1402444711,41634.2975233302,76704.4706537235,91949.0010233952,95214.9453214104,84872.9303895654,61691.6974985383,46180.4152729096,39483.4705691455,23537.090333951,15616.1608593579,9327.75755860067,2899.43965138709,658.968138122627,0],\"fOption\":\"\",\"fFunctions\":{\"_typename\":\"TList\",\"name\":\"TList\",\"arr\":[],\"opt\":[]},\"fBufferSize\":0,\"fBuffer\":[],\"fBinStatErrOpt\":0,\"fStatOverflows\":2,\"fArray\":[0,-40.6112884615414,127.259155700345,-122.873968321894,360.77746278755,-48.7394139895005,909.987463815805,94.7965960929952,1237.65325797239,793.444673081429,2011.59327988567,1148.92849880096,1916.06222721634,1765.40810558429,1309.26055861234,1496.38567178302,750.285178710003,520.422367219658,160.016034562419,0]}],\"opt\":[\"E\",\"E \"]},\"fHistogram\":{\"_typename\":\"TH1F\",\"fUniqueID\":0,\"fBits\":50332160,\"fName\":\"#tau_{1}^{(0.5)}\",\"fTitle\":\"#tau_{1}^{(0.5)} binning 6\",\"fLineColor\":602,\"fLineStyle\":1,\"fLineWidth\":1,\"fFillColor\":0,\"fFillStyle\":1001,\"fMarkerColor\":1,\"fMarkerStyle\":1,\"fMarkerSize\":1,\"fNcells\":20,\"fXaxis\":{\"_typename\":\"TAxis\",\"fUniqueID\":0,\"fBits\":50331648,\"fName\":\"xaxis\",\"fTitle\":\"\",\"fNdivisions\":510,\"fAxisColor\":1,\"fLabelColor\":1,\"fLabelFont\":42,\"fLabelOffset\":0.005,\"fLabelSize\":0.035,\"fTickLength\":0.03,\"fTitleOffset\":1,\"fTitleSize\":0.035,\"fTitleColor\":1,\"fTitleFont\":42,\"fNbins\":18,\"fXmin\":0,\"fXmax\":0.8,\"fXbins\":[0,0.25,0.278125,0.30625,0.334375,0.3625,0.390625,0.41875,0.446875,0.475,0.503125,0.53125,0.559375,0.5875,0.615625,0.64375,0.671875,0.7,0.8],\"fFirst\":0,\"fLast\":0,\"fBits2\":0,\"fTimeDisplay\":false,\"fTimeFormat\":\"\",\"fLabels\":null,\"fModLabs\":null},\"fYaxis\":{\"_typename\":\"TAxis\",\"fUniqueID\":0,\"fBits\":50331648,\"fName\":\"yaxis\",\"fTitle\":\"\",\"fNdivisions\":510,\"fAxisColor\":1,\"fLabelColor\":1,\"fLabelFont\":42,\"fLabelOffset\":0.005,\"fLabelSize\":0.035,\"fTickLength\":0.03,\"fTitleOffset\":0,\"fTitleSize\":0.035,\"fTitleColor\":1,\"fTitleFont\":42,\"fNbins\":1,\"fXmin\":0,\"fXmax\":1,\"fXbins\":[],\"fFirst\":0,\"fLast\":0,\"fBits2\":0,\"fTimeDisplay\":false,\"fTimeFormat\":\"\",\"fLabels\":null,\"fModLabs\":null},\"fZaxis\":{\"_typename\":\"TAxis\",\"fUniqueID\":0,\"fBits\":50331648,\"fName\":\"zaxis\",\"fTitle\":\"\",\"fNdivisions\":510,\"fAxisColor\":1,\"fLabelColor\":1,\"fLabelFont\":42,\"fLabelOffset\":0.005,\"fLabelSize\":0.035,\"fTickLength\":0.03,\"fTitleOffset\":1,\"fTitleSize\":0.035,\"fTitleColor\":1,\"fTitleFont\":42,\"fNbins\":1,\"fXmin\":0,\"fXmax\":1,\"fXbins\":[],\"fFirst\":0,\"fLast\":0,\"fBits2\":0,\"fTimeDisplay\":false,\"fTimeFormat\":\"\",\"fLabels\":null,\"fModLabs\":null},\"fBarOffset\":0,\"fBarWidth\":1000,\"fEntries\":0,\"fTsumw\":0,\"fTsumw2\":0,\"fTsumwx\":0,\"fTsumwx2\":0,\"fMaximum\":2112.17294387996,\"fMinimum\":-122.873968321894,\"fNormFactor\":0,\"fContour\":[],\"fSumw2\":[0,0,0,0,0,0,0,0,0,0,0,0,0,0,0,0,0,0,0,0],\"fOption\":\"\",\"fFunctions\":{\"_typename\":\"TList\",\"name\":\"TList\",\"arr\":[],\"opt\":[]},\"fBufferSize\":0,\"fBuffer\":[],\"fBinStatErrOpt\":0,\"fStatOverflows\":2,\"fArray\":[0,0,0,0,0,0,0,0,0,0,0,0,0,0,0,0,0,0,0,0]},\"fMaximum\":-1111,\"fMinimum\":-1111},{\"_typename\":\"TLegend\",\"fUniqueID\":0,\"fBits\":50331656,\"fLineColor\":0,\"fLineStyle\":1,\"fLineWidth\":1,\"fFillColor\":0,\"fFillStyle\":0,\"fX1\":-0.0500000067055229,\"fY1\":1609.28739779336,\"fX2\":0.810000006109477,\"fY2\":1972.48252643819,\"fX1NDC\":0.05,\"fY1NDC\":0.72,\"fX2NDC\":0.91,\"fY2NDC\":0.85,\"fBorderSize\":0,\"fInit\":1,\"fShadowColor\":1,\"fCornerRadius\":0,\"fOption\":\"brNDC\",\"fName\":\"TPave\",\"fTextAngle\":0,\"fTextSize\":9,\"fTextAlign\":12,\"fTextColor\":1,\"fTextFont\":42,\"fPrimitives\":{\"_typename\":\"TList\",\"name\":\"TList\",\"arr\":[{\"_typename\":\"TLegendEntry\",\"fUniqueID\":0,\"fBits\":50331656,\"fTextAngle\":0,\"fTextSize\":0,\"fTextAlign\":0,\"fTextColor\":0,\"fTextFont\":42,\"fLineColor\":1,\"fLineStyle\":1,\"fLineWidth\":1,\"fFillColor\":0,\"fFillStyle\":0,\"fMarkerColor\":1,\"fMarkerStyle\":22,\"fMarkerSize\":1,\"fObject\":{\"$ref\":152},\"fLabel\":\"Data (2016)\",\"fOption\":\"p\"},{\"_typename\":\"TLegendEntry\",\"fUniqueID\":0,\"fBits\":50331656,\"fTextAngle\":0,\"fTextSize\":0,\"fTextAlign\":0,\"fTextColor\":0,\"fTextFont\":42,\"fLineColor\":1,\"fLineStyle\":1,\"fLineWidth\":1,\"fFillColor\":0,\"fFillStyle\":0,\"fMarkerColor\":7,\"fMarkerStyle\":2,\"fMarkerSize\":1,\"fObject\":{\"$ref\":147},\"fLabel\":\"MC self-closure (ttbar Powheg)\",\"fOption\":\"p\"}],\"opt\":[\"p\",\"p\"]},\"fEntrySeparation\":0.1,\"fMargin\":0.25,\"fNColumns\":1,\"fColumnSeparation\":0},{\"_typename\":\"TPaveText\",\"fUniqueID\":0,\"fBits\":50331657,\"fLineColor\":1,\"fLineStyle\":1,\"fLineWidth\":1,\"fFillColor\":0,\"fFillStyle\":0,\"fX1\":0.241899948043993,\"fY1\":2145.44029132296,\"fX2\":0.558100051956007,\"fY2\":2377.58479863319,\"fX1NDC\":0.341899950399867,\"fY1NDC\":0.911907519296625,\"fX2NDC\":0.658100049600133,\"fY2NDC\":0.995000004768372,\"fBorderSize\":0,\"fInit\":1,\"fShadowColor\":1,\"fCornerRadius\":0,\"fOption\":\"blNDC\",\"fName\":\"title\",\"fTextAngle\":0,\"fTextSize\":0,\"fTextAlign\":22,\"fTextColor\":1,\"fTextFont\":42,\"fLabel\":\"\",\"fLongest\":26,\"fMargin\":0.05,\"fLines\":{\"_typename\":\"TList\",\"name\":\"TList\",\"arr\":[{\"_typename\":\"TLatex\",\"fUniqueID\":0,\"fBits\":50331648,\"fName\":\"\",\"fTitle\":\"#tau_{1}^{(0.5)} binning 6\",\"fTextAngle\":0,\"fTextSize\":0,\"fTextAlign\":0,\"fTextColor\":0,\"fTextFont\":0,\"fX\":0,\"fY\":0,\"fLineColor\":1,\"fLineStyle\":1,\"fLineWidth\":2,\"fLimitFactorSize\":3,\"fOriginSize\":0.0570340901613235}],\"opt\":[\"\"]}}],\"opt\":[\"\",\"nostack\",\"\",\"blNDC\"]},\"fExecs\":{\"_typename\":\"TList\",\"name\":\"TList\",\"arr\":[],\"opt\":[]},\"fName\":\"c5_6\",\"fTitle\":\"c5_6\",\"fNumPaletteColor\":0,\"fNextPaletteColor\":0}],\"opt\":[\"\",\"\",\"\",\"\",\"\",\"\"]},\"fExecs\":null,\"fName\":\"c5\",\"fTitle\":\"c5\",\"fNumPaletteColor\":0,\"fNextPaletteColor\":0,\"fDISPLAY\":\"$DISPLAY\",\"fDoubleBuffer\":0,\"fRetained\":true,\"fXsizeUser\":0,\"fYsizeUser\":0,\"fXsizeReal\":20,\"fYsizeReal\":12,\"fWindowTopX\":0,\"fWindowTopY\":0,\"fWindowWidth\":0,\"fWindowHeight\":0,\"fCw\":1196,\"fCh\":692,\"fCatt\":{\"_typename\":\"TAttCanvas\",\"fXBetween\":2,\"fYBetween\":2,\"fTitleFromTop\":1.2,\"fXdate\":0.2,\"fYdate\":0.3,\"fAdate\":1},\"kMoveOpaque\":true,\"kResizeOpaque\":true,\"fHighLightColor\":2,\"fBatch\":true,\"kShowEventStatus\":false,\"kAutoExec\":true,\"kMenuBar\":true});\n",
       "       Core.draw(\"root_plot_1\", obj, \"\");\n",
       "     }\n",
       " );\n",
       "</script>\n"
      ],
      "text/plain": [
       "<IPython.core.display.HTML object>"
      ]
     },
     "metadata": {},
     "output_type": "display_data"
    }
   ],
   "source": [
    "import time\n",
    "#hs = []\n",
    "c5 = ROOT.TCanvas('c5', 'c5', 1200, 720)\n",
    "c5.Divide(3,2)\n",
    "for i in xrange(len(h_unfoldings)):\n",
    "    c5.cd(i+1)\n",
    "    h_unfoldings[i].Draw(\"nostack\")\n",
    "    legus[i].Draw()\n",
    "    #time.sleep(1)\n",
    "\n",
    "c5.Draw()\n",
    "#time.sleep(2)\n",
    "c5.SaveAs(\"tau1_0p5_unfoldings_Wsel_powheg.png\")\n",
    "#time.sleep(5)\n",
    "#c5.SaveAs(\"tau1_0p5_unfoldings_Wsel_powheg.pdf\")"
   ]
  },
  {
   "cell_type": "code",
   "execution_count": 39,
   "metadata": {
    "scrolled": true
   },
   "outputs": [
    {
     "name": "stderr",
     "output_type": "stream",
     "text": [
      "Info in <TCanvas::Print>: png file tau1_0p5_responses_Wsel_powheg.png has been created\n"
     ]
    },
    {
     "data": {
      "text/html": [
       "\n",
       "<div id=\"root_plot_2\"\n",
       "     style=\"width: 1196px; height: 692px\">\n",
       "</div>\n",
       "\n",
       "<script>\n",
       " requirejs.config({\n",
       "     paths: {\n",
       "       'JSRootCore' : 'https://root.cern.ch/js/notebook//scripts/JSRootCore',\n",
       "     }\n",
       "   });\n",
       " require(['JSRootCore'],\n",
       "     function(Core) {\n",
       "       var obj = Core.JSONR_unref({\"_typename\":\"TCanvas\",\"fUniqueID\":0,\"fBits\":53673992,\"fLineColor\":1,\"fLineStyle\":1,\"fLineWidth\":1,\"fFillColor\":0,\"fFillStyle\":1001,\"fLeftMargin\":0.1,\"fRightMargin\":0.1,\"fBottomMargin\":0.1,\"fTopMargin\":0.1,\"fXfile\":2,\"fYfile\":2,\"fAfile\":1,\"fXstat\":0.99,\"fYstat\":0.99,\"fAstat\":2,\"fFrameFillColor\":0,\"fFrameLineColor\":1,\"fFrameFillStyle\":1001,\"fFrameLineStyle\":1,\"fFrameLineWidth\":1,\"fFrameBorderSize\":1,\"fFrameBorderMode\":0,\"fX1\":0,\"fY1\":0,\"fX2\":1,\"fY2\":1,\"fXtoAbsPixelk\":5e-5,\"fXtoPixelk\":5e-5,\"fXtoPixel\":1196,\"fYtoAbsPixelk\":692.00005,\"fYtoPixelk\":692.00005,\"fYtoPixel\":-692,\"fUtoAbsPixelk\":5e-5,\"fUtoPixelk\":5e-5,\"fUtoPixel\":1196,\"fVtoAbsPixelk\":692.00005,\"fVtoPixelk\":692,\"fVtoPixel\":-692,\"fAbsPixeltoXk\":0,\"fPixeltoXk\":0,\"fPixeltoX\":8.36120401337793e-4,\"fAbsPixeltoYk\":1,\"fPixeltoYk\":0,\"fPixeltoY\":-0.00144508670520231,\"fXlowNDC\":0,\"fYlowNDC\":0,\"fXUpNDC\":0,\"fYUpNDC\":0,\"fWNDC\":1,\"fHNDC\":1,\"fAbsXlowNDC\":0,\"fAbsYlowNDC\":0,\"fAbsWNDC\":1,\"fAbsHNDC\":1,\"fUxmin\":0,\"fUymin\":0,\"fUxmax\":1,\"fUymax\":1,\"fTheta\":30,\"fPhi\":30,\"fAspectRatio\":0,\"fNumber\":0,\"fTickx\":0,\"fTicky\":0,\"fLogx\":0,\"fLogy\":0,\"fLogz\":0,\"fPadPaint\":0,\"fCrosshair\":0,\"fCrosshairPos\":0,\"fBorderSize\":2,\"fBorderMode\":0,\"fModified\":false,\"fGridx\":false,\"fGridy\":false,\"fAbsCoord\":false,\"fEditable\":true,\"fFixedAspectRatio\":false,\"fPrimitives\":{\"_typename\":\"TList\",\"name\":\"TList\",\"arr\":[{\"_typename\":\"TPad\",\"fUniqueID\":0,\"fBits\":50331657,\"fLineColor\":1,\"fLineStyle\":1,\"fLineWidth\":1,\"fFillColor\":0,\"fFillStyle\":1001,\"fLeftMargin\":0.1,\"fRightMargin\":0.1,\"fBottomMargin\":0.1,\"fTopMargin\":0.1,\"fXfile\":2,\"fYfile\":2,\"fAfile\":1,\"fXstat\":0.99,\"fYstat\":0.99,\"fAstat\":2,\"fFrameFillColor\":0,\"fFrameLineColor\":1,\"fFrameFillStyle\":1001,\"fFrameLineStyle\":1,\"fFrameLineWidth\":1,\"fFrameBorderSize\":1,\"fFrameBorderMode\":0,\"fX1\":-0.100000007450581,\"fY1\":-0.100000007450581,\"fX2\":0.900000007450581,\"fY2\":0.900000007450581,\"fXtoAbsPixelk\":49.4347186864695,\"fXtoPixelk\":37.4747189537963,\"fXtoPixel\":374.74666161716,\"fYtoAbsPixelk\":305.864048143911,\"fYtoPixelk\":298.944048298585,\"fYtoPixel\":-332.159995359778,\"fUtoAbsPixelk\":11.9600497326732,\"fUtoPixelk\":5e-5,\"fUtoPixel\":374.74666720132,\"fVtoAbsPixelk\":339.080050154674,\"fVtoPixelk\":332.160000309348,\"fVtoPixel\":-332.160000309348,\"fAbsPixeltoXk\":-0.131914900784285,\"fPixeltoXk\":-0.100000007450581,\"fPixeltoX\":0.00266846940192785,\"fAbsPixeltoYk\":0.920833340609291,\"fPixeltoYk\":-0.100000007450581,\"fPixeltoY\":-0.00301059734456238,\"fXlowNDC\":0.00999999977648258,\"fYlowNDC\":0.509999999776483,\"fXUpNDC\":0,\"fYUpNDC\":0,\"fWNDC\":0.313333333780368,\"fHNDC\":0.480000000447035,\"fAbsXlowNDC\":0.00999999977648258,\"fAbsYlowNDC\":0.509999999776483,\"fAbsWNDC\":0.313333333780368,\"fAbsHNDC\":0.480000000447035,\"fUxmin\":0,\"fUymin\":0,\"fUxmax\":0.8,\"fUymax\":0.8,\"fTheta\":30,\"fPhi\":30,\"fAspectRatio\":0,\"fNumber\":1,\"fTickx\":0,\"fTicky\":0,\"fLogx\":0,\"fLogy\":0,\"fLogz\":0,\"fPadPaint\":0,\"fCrosshair\":0,\"fCrosshairPos\":0,\"fBorderSize\":2,\"fBorderMode\":0,\"fModified\":false,\"fGridx\":false,\"fGridy\":false,\"fAbsCoord\":false,\"fEditable\":true,\"fFixedAspectRatio\":false,\"fPrimitives\":{\"_typename\":\"TList\",\"name\":\"TList\",\"arr\":[{\"_typename\":\"TFrame\",\"fUniqueID\":0,\"fBits\":50331656,\"fLineColor\":1,\"fLineStyle\":1,\"fLineWidth\":1,\"fFillColor\":0,\"fFillStyle\":1001,\"fX1\":0,\"fY1\":0,\"fX2\":0.8,\"fY2\":0.8,\"fBorderSize\":1,\"fBorderMode\":0},{\"_typename\":\"TH2D\",\"fUniqueID\":0,\"fBits\":50332168,\"fName\":\"response\",\"fTitle\":\"Response Matrix #tau_{1}^{(0.5)} binning 1\",\"fLineColor\":602,\"fLineStyle\":1,\"fLineWidth\":1,\"fFillColor\":0,\"fFillStyle\":1001,\"fMarkerColor\":1,\"fMarkerStyle\":1,\"fMarkerSize\":1,\"fNcells\":220,\"fXaxis\":{\"_typename\":\"TAxis\",\"fUniqueID\":0,\"fBits\":50331648,\"fName\":\"xaxis\",\"fTitle\":\"#tau_{1}^{(0.5)}(det_sig)\",\"fNdivisions\":510,\"fAxisColor\":1,\"fLabelColor\":1,\"fLabelFont\":42,\"fLabelOffset\":0.005,\"fLabelSize\":0.035,\"fTickLength\":0.03,\"fTitleOffset\":1,\"fTitleSize\":0.035,\"fTitleColor\":1,\"fTitleFont\":42,\"fNbins\":18,\"fXmin\":0,\"fXmax\":0.8,\"fXbins\":[0,0.145,0.29,0.32,0.35,0.38,0.41,0.44,0.47,0.5,0.53,0.56,0.59,0.62,0.65,0.68,0.71,0.76,0.8],\"fFirst\":0,\"fLast\":0,\"fBits2\":0,\"fTimeDisplay\":false,\"fTimeFormat\":\"\",\"fLabels\":null,\"fModLabs\":null},\"fYaxis\":{\"_typename\":\"TAxis\",\"fUniqueID\":0,\"fBits\":50331648,\"fName\":\"yaxis\",\"fTitle\":\"#tau_{1}^{(0.5)}(gen_sig)\",\"fNdivisions\":510,\"fAxisColor\":1,\"fLabelColor\":1,\"fLabelFont\":42,\"fLabelOffset\":0.005,\"fLabelSize\":0.035,\"fTickLength\":0.03,\"fTitleOffset\":0,\"fTitleSize\":0.035,\"fTitleColor\":1,\"fTitleFont\":42,\"fNbins\":9,\"fXmin\":0,\"fXmax\":0.8,\"fXbins\":[0,0.29,0.35,0.41,0.47,0.53,0.59,0.65,0.71,0.8],\"fFirst\":0,\"fLast\":0,\"fBits2\":0,\"fTimeDisplay\":false,\"fTimeFormat\":\"\",\"fLabels\":null,\"fModLabs\":null},\"fZaxis\":{\"_typename\":\"TAxis\",\"fUniqueID\":0,\"fBits\":50331648,\"fName\":\"zaxis\",\"fTitle\":\"\",\"fNdivisions\":510,\"fAxisColor\":1,\"fLabelColor\":1,\"fLabelFont\":42,\"fLabelOffset\":0.005,\"fLabelSize\":0.035,\"fTickLength\":0.03,\"fTitleOffset\":1,\"fTitleSize\":0.035,\"fTitleColor\":1,\"fTitleFont\":42,\"fNbins\":1,\"fXmin\":0,\"fXmax\":1,\"fXbins\":[],\"fFirst\":0,\"fLast\":0,\"fBits2\":0,\"fTimeDisplay\":false,\"fTimeFormat\":\"\",\"fLabels\":null,\"fModLabs\":null},\"fBarOffset\":0,\"fBarWidth\":1000,\"fEntries\":43107,\"fTsumw\":13901.1376293109,\"fTsumw2\":4887.05421222413,\"fTsumwx\":7458.70529492438,\"fTsumwx2\":4099.83429261437,\"fMaximum\":-1111,\"fMinimum\":-1111,\"fNormFactor\":0,\"fContour\":[0,69.6519778857853,139.303955771571,208.955933657356,278.607911543141,348.259889428926,417.911867314712,487.563845200497,557.215823086282,626.867800972068,696.519778857853,766.171756743638,835.823734629423,905.475712515209,975.127690400994,1044.77966828678,1114.43164617256,1184.08362405835,1253.73560194414,1323.38757982992],\"fSumw2\":[0,0,0,0,0,0,0,0,0,0,0,0,0,0,0,0,0,0,0,0,0,0,9.89259867586115,6.56568123832909,2.72771842142464,0.9809345209795,1.377359330661,2.16527856330972,1.81958232635865,3.21352331225222,1.7951875337535,2.35547867918489,2.00837005246816,2.37946587200664,2.79367730912833,1.88288885624005,2.46441708397585,0.151686769921408,0,0,0,0,2.66033005776471,18.8683616751465,39.1146454464644,30.9621393196759,8.63288614314234,3.91067214065176,1.94157385943822,1.42293505993291,0.854208336936682,0.862671806525798,2.27964235509142,0.946131925300913,0.558365856456166,0.296227545832682,0.556813484144471,0,0,0,0,0,0.16294826056279,0.558802415064151,11.8726125125675,63.7586115127076,121.703562273677,71.2000841065196,19.7373956672384,5.28201788097334,2.13757606605286,1.90161500187048,0.982859554682022,0.982902802029266,0.435283055744547,0.321452263033412,0.197993681147475,0.300438097138569,0,0,0,0,0.126377952883809,0,1.55058805276584,7.78148816433479,49.8331649201253,176.927380870584,260.510504483231,138.540296497488,25.7516523215219,6.35948810112473,2.58270162087371,0.940474937006316,0.326113855751748,0.39218755605065,0,0,0,0,0,0,0,0,0.177381792553921,1.6506676106295,8.22641428587977,26.4582343110608,94.1102761266477,322.254861863163,416.332380166133,146.123389534673,23.1669717538135,3.87407494654796,0.887797015546126,0.28483456961019,0.213990377774765,0,0,0,0,0,0,0,0,0.404238807857136,1.062767954231,2.93667312071347,12.3226013339334,29.4786021333751,135.246225643822,452.64720479335,491.486028289678,137.259044276286,10.6011881252385,1.99378237041733,0.222900307556978,0,0,0,0,0,0,0,0,0.318385079806379,0,0.567368323623083,1.44264692680749,3.09320968630119,9.0271729304942,31.414850617833,130.518145799173,415.869754000119,350.914846617538,69.2794847129787,2.94323892144718,0,0,0,0,0,0,0,0,0,0,0.20949169691065,0.541033591596307,0.589650252191933,1.90366999025827,2.94907014756827,6.97747886586094,17.47733310613,73.1828277761374,210.344614649579,87.2631616022697,2.61318734136044,0,0,0,0,0,0,0,0,0,0,0.111372671043643,0.286724798406453,0.291881139548949,0.54232857166787,0.567618288297734,1.56507426165117,1.49849758993243,1.4106023670912,6.33537665115478,3.87342683123722,0.108126864493684,0,0,0,0,0,0,0,0,0,0,0,0,0,0,0,0,0,0,0,0,0],\"fOption\":\"\",\"fFunctions\":{\"_typename\":\"TList\",\"name\":\"TList\",\"arr\":[{\"_typename\":\"TPaletteAxis\",\"fUniqueID\":0,\"fBits\":50331648,\"fLineColor\":1,\"fLineStyle\":1,\"fLineWidth\":1,\"fFillColor\":1178,\"fFillStyle\":1001,\"fX1\":0.805000000074506,\"fY1\":0,\"fX2\":0.850000000745058,\"fY2\":0.8,\"fX1NDC\":0.904999994039535,\"fY1NDC\":0.100000005960465,\"fX2NDC\":0.949999994039535,\"fY2NDC\":0.899999994039535,\"fBorderSize\":4,\"fInit\":1,\"fShadowColor\":1,\"fCornerRadius\":0,\"fOption\":\"br\",\"fName\":\"TPave\",\"fAxis\":{\"_typename\":\"TGaxis\",\"fUniqueID\":0,\"fBits\":50331648,\"fLineColor\":1,\"fLineStyle\":1,\"fLineWidth\":1,\"fX1\":0,\"fY1\":0,\"fX2\":0,\"fY2\":0,\"fTextAngle\":0,\"fTextSize\":0.04,\"fTextAlign\":11,\"fTextColor\":1,\"fTextFont\":42,\"fWmin\":0,\"fWmax\":0,\"fGridLength\":0,\"fTickSize\":0.03,\"fLabelOffset\":0.005,\"fLabelSize\":0.035,\"fTitleOffset\":1,\"fTitleSize\":0.035,\"fNdiv\":0,\"fLabelColor\":1,\"fLabelFont\":42,\"fNModLabs\":0,\"fChopt\":\"\",\"fName\":\"\",\"fTitle\":\"\",\"fTimeFormat\":\"\",\"fFunctionName\":\"\",\"fModLabs\":null},\"fName\":\"palette\"}],\"opt\":[\"br\"]},\"fBufferSize\":0,\"fBuffer\":[],\"fBinStatErrOpt\":0,\"fStatOverflows\":2,\"fScalefactor\":1,\"fTsumwy\":7422.40311817973,\"fTsumwy2\":4077.05662669575,\"fTsumwxy\":4077.02844597261,\"fArray\":[0,0,0,0,0,0,0,0,0,0,0,0,0,0,0,0,0,0,0,0,0,0,27.2083200565293,18.5138741129499,7.9272881679521,2.59501099280207,3.97848716210523,6.11656939214632,5.29411574268823,8.68868297654871,5.18873521171922,6.88691713184124,5.51743465986757,7.02825154319996,7.8631987251216,4.97078427049814,6.99037493966418,0.389469857526109,0,0,0,0,7.46613985488524,52.7018910205674,110.283490929584,87.8876228225013,24.5063207882754,10.8533218270207,5.71467776765348,3.89581431410083,2.52932713721983,2.61538717563543,5.88941675071246,2.90778009335218,1.66775342596111,0.942309685492984,1.65745107150459,0,0,0,0,0,0.403668503307839,1.66001600664371,34.4777840064423,180.662729275295,345.130715432692,205.3479379908,55.7401351458178,15.4938619125005,6.21090612486098,5.87824088226008,3.23179019848079,3.03551628462967,1.30538476809543,0.976758441619393,0.444964808886585,0.774245324275938,0,0,0,0,0.355496769160859,0,4.76192070805896,22.3761741867748,141.448923805896,505.492745828968,741.090974526263,389.937978018164,73.1418117082545,17.3991227008506,7.0694831778662,2.72415949894347,0.809282509337595,1.07520741348541,0,0,0,0,0,0,0,0,0.421167178865971,4.79411436535298,23.1026587444249,73.992092380776,266.719417819502,918.353814067189,1184.77844669388,417.311357560291,67.5474896523013,11.0316620349402,2.81510742641205,0.921395776323145,0.654152006158679,0,0,0,0,0,0,0,0,1.25079202138152,3.05680831549375,8.86762272076128,35.7182763196727,84.5620063770767,382.788152291634,1282.12323262991,1393.03955771571,392.722505212947,30.486442179146,5.4329025867532,0.667535811877411,0,0,0,0,0,0,0,0,0.795063083578444,0,1.68160184572652,4.27186048046918,8.96019628754875,26.6562932229677,88.1839948503831,372.976901337979,1184.26698856655,999.790904709136,196.160724649464,8.31294687817085,0,0,0,0,0,0,0,0,0,0,0.646690205502191,1.64409369785884,1.78746189902806,5.36312377237639,8.30707314917429,19.7114517485522,49.1938087584711,206.122343117543,602.524394923885,249.922706470715,7.71168183272316,0,0,0,0,0,0,0,0,0,0,0.333725442607607,0.751687486037052,1.05188943015524,1.73262121762006,1.68205709426836,4.78721145064214,4.41487160819719,3.97186019314215,17.2235246772971,11.5741832719049,0.328826496033522,0,0,0,0,0,0,0,0,0,0,0,0,0,0,0,0,0,0,0,0,0]},{\"_typename\":\"TPaveText\",\"fUniqueID\":0,\"fBits\":50331657,\"fLineColor\":1,\"fLineStyle\":1,\"fLineWidth\":1,\"fFillColor\":0,\"fFillStyle\":0,\"fX1\":0.0524386205071154,\"fY1\":0.811907525434525,\"fX2\":0.747561379492885,\"fY2\":0.895000012144447,\"fX1NDC\":0.152438625686184,\"fY1NDC\":0.911907519296625,\"fX2NDC\":0.847561374313816,\"fY2NDC\":0.995000004768372,\"fBorderSize\":0,\"fInit\":1,\"fShadowColor\":1,\"fCornerRadius\":0,\"fOption\":\"blNDC\",\"fName\":\"title\",\"fTextAngle\":0,\"fTextSize\":0,\"fTextAlign\":22,\"fTextColor\":1,\"fTextFont\":42,\"fLabel\":\"\",\"fLongest\":42,\"fMargin\":0.05,\"fLines\":{\"_typename\":\"TList\",\"name\":\"TList\",\"arr\":[{\"_typename\":\"TLatex\",\"fUniqueID\":0,\"fBits\":50331648,\"fName\":\"\",\"fTitle\":\"Response Matrix #tau_{1}^{(0.5)} binning 1\",\"fTextAngle\":0,\"fTextSize\":0,\"fTextAlign\":0,\"fTextColor\":0,\"fTextFont\":0,\"fX\":0,\"fY\":0,\"fLineColor\":1,\"fLineStyle\":1,\"fLineWidth\":2,\"fLimitFactorSize\":3,\"fOriginSize\":0.0558631159365177}],\"opt\":[\"\"]}}],\"opt\":[\"\",\"colz\",\"blNDC\"]},\"fExecs\":{\"_typename\":\"TList\",\"name\":\"TList\",\"arr\":[],\"opt\":[]},\"fName\":\"c6_1\",\"fTitle\":\"c6_1\",\"fNumPaletteColor\":0,\"fNextPaletteColor\":0},{\"_typename\":\"TPad\",\"fUniqueID\":0,\"fBits\":50331657,\"fLineColor\":1,\"fLineStyle\":1,\"fLineWidth\":1,\"fFillColor\":0,\"fFillStyle\":1001,\"fLeftMargin\":0.1,\"fRightMargin\":0.1,\"fBottomMargin\":0.1,\"fTopMargin\":0.1,\"fXfile\":2,\"fYfile\":2,\"fAfile\":1,\"fXstat\":0.99,\"fYstat\":0.99,\"fAstat\":2,\"fFrameFillColor\":0,\"fFrameLineColor\":1,\"fFrameFillStyle\":1001,\"fFrameLineStyle\":1,\"fFrameLineWidth\":1,\"fFrameBorderSize\":1,\"fFrameBorderMode\":0,\"fX1\":-0.100000007450581,\"fY1\":-0.100000007450581,\"fX2\":0.900000007450581,\"fY2\":0.900000007450581,\"fXtoAbsPixelk\":448.101385353136,\"fXtoPixelk\":37.4747189537963,\"fXtoPixel\":374.74666161716,\"fYtoAbsPixelk\":305.864048143911,\"fYtoPixelk\":298.944048298585,\"fYtoPixel\":-332.159995359778,\"fUtoAbsPixelk\":410.62671639934,\"fUtoPixelk\":5e-5,\"fUtoPixel\":374.74666720132,\"fVtoAbsPixelk\":339.080050154674,\"fVtoPixelk\":332.160000309348,\"fVtoPixel\":-332.160000309348,\"fAbsPixeltoXk\":-1.19574470235285,\"fPixeltoXk\":-0.100000007450581,\"fPixeltoX\":0.00266846940192785,\"fAbsPixeltoYk\":0.920833340609291,\"fPixeltoYk\":-0.100000007450581,\"fPixeltoY\":-0.00301059734456238,\"fXlowNDC\":0.343333333109816,\"fYlowNDC\":0.509999999776483,\"fXUpNDC\":0,\"fYUpNDC\":0,\"fWNDC\":0.313333333780368,\"fHNDC\":0.480000000447035,\"fAbsXlowNDC\":0.343333333109816,\"fAbsYlowNDC\":0.509999999776483,\"fAbsWNDC\":0.313333333780368,\"fAbsHNDC\":0.480000000447035,\"fUxmin\":0,\"fUymin\":0,\"fUxmax\":0.8,\"fUymax\":0.8,\"fTheta\":30,\"fPhi\":30,\"fAspectRatio\":0,\"fNumber\":2,\"fTickx\":0,\"fTicky\":0,\"fLogx\":0,\"fLogy\":0,\"fLogz\":0,\"fPadPaint\":0,\"fCrosshair\":0,\"fCrosshairPos\":0,\"fBorderSize\":2,\"fBorderMode\":0,\"fModified\":false,\"fGridx\":false,\"fGridy\":false,\"fAbsCoord\":false,\"fEditable\":true,\"fFixedAspectRatio\":false,\"fPrimitives\":{\"_typename\":\"TList\",\"name\":\"TList\",\"arr\":[{\"_typename\":\"TFrame\",\"fUniqueID\":0,\"fBits\":50331656,\"fLineColor\":1,\"fLineStyle\":1,\"fLineWidth\":1,\"fFillColor\":0,\"fFillStyle\":1001,\"fX1\":0,\"fY1\":0,\"fX2\":0.8,\"fY2\":0.8,\"fBorderSize\":1,\"fBorderMode\":0},{\"_typename\":\"TH2D\",\"fUniqueID\":0,\"fBits\":50332168,\"fName\":\"response\",\"fTitle\":\"Response Matrix #tau_{1}^{(0.5)} binning 2\",\"fLineColor\":602,\"fLineStyle\":1,\"fLineWidth\":1,\"fFillColor\":0,\"fFillStyle\":1001,\"fMarkerColor\":1,\"fMarkerStyle\":1,\"fMarkerSize\":1,\"fNcells\":364,\"fXaxis\":{\"_typename\":\"TAxis\",\"fUniqueID\":0,\"fBits\":50331648,\"fName\":\"xaxis\",\"fTitle\":\"#tau_{1}^{(0.5)}(det_sig)\",\"fNdivisions\":510,\"fAxisColor\":1,\"fLabelColor\":1,\"fLabelFont\":42,\"fLabelOffset\":0.005,\"fLabelSize\":0.035,\"fTickLength\":0.03,\"fTitleOffset\":1,\"fTitleSize\":0.035,\"fTitleColor\":1,\"fTitleFont\":42,\"fNbins\":24,\"fXmin\":0,\"fXmax\":0.8,\"fXbins\":[0,0.145,0.29,0.311,0.332,0.353,0.374,0.395,0.416,0.437,0.458,0.479,0.5,0.521,0.542,0.563,0.584,0.605,0.626,0.647,0.668,0.689,0.71,0.76,0.8],\"fFirst\":0,\"fLast\":0,\"fBits2\":0,\"fTimeDisplay\":false,\"fTimeFormat\":\"\",\"fLabels\":null,\"fModLabs\":null},\"fYaxis\":{\"_typename\":\"TAxis\",\"fUniqueID\":0,\"fBits\":50331648,\"fName\":\"yaxis\",\"fTitle\":\"#tau_{1}^{(0.5)}(gen_sig)\",\"fNdivisions\":510,\"fAxisColor\":1,\"fLabelColor\":1,\"fLabelFont\":42,\"fLabelOffset\":0.005,\"fLabelSize\":0.035,\"fTickLength\":0.03,\"fTitleOffset\":0,\"fTitleSize\":0.035,\"fTitleColor\":1,\"fTitleFont\":42,\"fNbins\":12,\"fXmin\":0,\"fXmax\":0.8,\"fXbins\":[0,0.29,0.332,0.374,0.416,0.458,0.5,0.542,0.584,0.626,0.668,0.71,0.8],\"fFirst\":0,\"fLast\":0,\"fBits2\":0,\"fTimeDisplay\":false,\"fTimeFormat\":\"\",\"fLabels\":null,\"fModLabs\":null},\"fZaxis\":{\"_typename\":\"TAxis\",\"fUniqueID\":0,\"fBits\":50331648,\"fName\":\"zaxis\",\"fTitle\":\"\",\"fNdivisions\":510,\"fAxisColor\":1,\"fLabelColor\":1,\"fLabelFont\":42,\"fLabelOffset\":0.005,\"fLabelSize\":0.035,\"fTickLength\":0.03,\"fTitleOffset\":1,\"fTitleSize\":0.035,\"fTitleColor\":1,\"fTitleFont\":42,\"fNbins\":1,\"fXmin\":0,\"fXmax\":1,\"fXbins\":[],\"fFirst\":0,\"fLast\":0,\"fBits2\":0,\"fTimeDisplay\":false,\"fTimeFormat\":\"\",\"fLabels\":null,\"fModLabs\":null},\"fBarOffset\":0,\"fBarWidth\":1000,\"fEntries\":43107,\"fTsumw\":13901.1376293109,\"fTsumw2\":4887.05421222413,\"fTsumwx\":7458.70529492438,\"fTsumwx2\":4099.83429261437,\"fMaximum\":-1111,\"fMinimum\":-1111,\"fNormFactor\":0,\"fContour\":[0,42.4801446863791,84.9602893727583,127.440434059137,169.920578745517,212.400723431896,254.880868118275,297.361012804654,339.841157491033,382.321302177412,424.801446863792,467.281591550171,509.76173623655,552.241880922929,594.722025609308,637.202170295687,679.682314982066,722.162459668446,764.642604354825,807.122749041204],\"fSumw2\":[0,0,0,0,0,0,0,0,0,0,0,0,0,0,0,0,0,0,0,0,0,0,0,0,0,0,0,0,9.89259867586115,5.12361028343989,2.60961127872477,1.78340773292357,0.359817726099798,0.958463349798295,1.04036098127644,1.57206084021817,1.52010948576545,0.945914949531786,2.93672108553665,1.11145104054402,1.8711739306187,1.41539948808912,1.32821191249022,1.59352895507457,2.04980825080728,1.96260586891761,0.864042346664718,1.61178891602139,1.8714746775298,0.151686769921408,0,0,0,0,2.57847777494244,9.31284120739199,17.4677036078923,13.7520601016078,6.10498717580969,3.59594042801744,1.26635155265692,1.04894290534641,1.12032605073839,0.77576204860823,0.672570861273736,0.239536622816969,0.938828120959364,0.567125091296456,1.21597307099404,0.646508864976611,0.217085855150958,0.312490051655576,0.0981951721797925,0.447544857855294,0.201334928017264,0,0,0,0,0,0.244800543385058,0.829116181033459,7.93454085669802,23.5580404084165,40.8907333085275,33.453741588093,15.1612792276059,5.74789796136677,2.27325776840916,1.42573222833253,0.742187855880419,0.852757945799243,0.577613359341929,0.812701997824757,0.336956572054275,0.653382916162904,0.707399423132034,0.23841767438995,0.0774375010837696,0.105966071924802,0.197993681147475,0.135629237626649,0,0,0,0,0,0.221968876242467,0.709763795175769,3.5263750435455,18.024991965737,58.9638441185679,83.8216599956793,61.5905939722529,24.7937208582889,8.99609227159877,3.66726702162648,0.970263097979075,0.995294121516468,1.24432757925431,0.548595697074722,0.273961614823654,0.271191270144784,0.0594581430578923,0.331214947982445,0.126309213924995,0,0.16480885951192,0,0,0,0,0.126377952883809,0,0.128541398923449,1.04633703029201,3.21557210236851,11.5487549773623,41.115348690028,104.874312084919,142.912754790765,91.2946469328277,33.7817190591178,10.998159503786,3.323612828365,2.04726607431869,1.08344669534724,0.484895223656093,0.594699059016814,0.326113855751748,0.121425894623948,0.177388804999473,0,0,0,0,0,0,0,0,0,0.0964886443808622,1.29009032579339,3.27444844101443,8.48840911751019,21.2335378365941,63.4224713780663,168.754614115538,214.979029367213,119.83256199253,33.8983206112208,8.3474570242848,2.69059844339934,1.61522682571731,0.785264159156966,0.134201002594745,0.106603905560182,0,0.213990377774765,0,0,0,0,0,0,0,0,0.177381792553921,0.312223282810859,0.808453541640568,2.55777684531386,6.10407031110224,12.5195350421217,31.2429519732108,89.0176429045565,224.94590937915,267.954770335075,132.324832969145,31.0310627162015,9.46222245717251,2.53214380325647,0.306230066809285,0.342747101594197,0.195513728484634,0,0,0,0,0,0,0,0,0,0,0.234248075018705,0.504016802688032,0.647758269479833,1.20784089689165,3.11915005466494,7.33633877242763,13.38977412013,36.4054952025989,112.863644465594,278.530522101008,300.19586815077,118.458159824642,24.8652507144946,4.34109984873699,1.17857122380867,0.42847693925884,0.106770792311507,0,0,0,0,0,0,0,0,0,0,0.132099510514416,0,0.241420168611323,1.03242664405451,0.878889824836171,1.64051563118992,7.21229136322512,12.7048667603582,33.1819227853311,112.2854547454,259.466947519987,257.771463942699,85.9796983222836,11.6775186947507,1.80605057078256,0.480873479963672,0,0,0,0,0,0,0,0,0,0.186285569291962,0,0.198187952344566,0.454450490516002,0.396388151937016,0.715038631225322,1.34875081405864,1.98699620263458,2.78533194237826,5.07897374339561,8.63049833674612,29.9747732433705,88.2287265109838,198.440936069755,170.239908471719,39.1723401560228,2.51038035406194,0.144565535406791,0,0,0,0,0,0,0,0,0,0,0,0,0.11852191192154,0.209522513425327,0.315199865338018,0.576685444409615,0.893952379238472,0.963167047164257,3.06675114128876,2.84734975911253,4.48903976986792,11.4225630803678,45.9854931506408,90.4881173819004,42.2063620984376,2.46862180595365,0,0,0,0,0,0,0,0,0,0,0,0,0.111372671043643,0.177840855000263,0.108883943406191,0.291881139548949,0.194238094590049,0.555700420739527,1.17198024106829e-4,0.802129063065409,1.16240393301444,1.35026628146551,0.986403859085177,1.97199638597071,4.89624249384025,3.87342683123722,0.108126864493684,0,0,0,0,0,0,0,0,0,0,0,0,0,0,0,0,0,0,0,0,0,0,0,0,0,0,0],\"fOption\":\"\",\"fFunctions\":{\"_typename\":\"TList\",\"name\":\"TList\",\"arr\":[{\"_typename\":\"TPaletteAxis\",\"fUniqueID\":0,\"fBits\":50331648,\"fLineColor\":1,\"fLineStyle\":1,\"fLineWidth\":1,\"fFillColor\":1178,\"fFillStyle\":1001,\"fX1\":0.805000000074506,\"fY1\":0,\"fX2\":0.850000000745058,\"fY2\":0.8,\"fX1NDC\":0.904999994039535,\"fY1NDC\":0.100000005960465,\"fX2NDC\":0.949999994039535,\"fY2NDC\":0.899999994039535,\"fBorderSize\":4,\"fInit\":1,\"fShadowColor\":1,\"fCornerRadius\":0,\"fOption\":\"br\",\"fName\":\"TPave\",\"fAxis\":{\"_typename\":\"TGaxis\",\"fUniqueID\":0,\"fBits\":50331648,\"fLineColor\":1,\"fLineStyle\":1,\"fLineWidth\":1,\"fX1\":0,\"fY1\":0,\"fX2\":0,\"fY2\":0,\"fTextAngle\":0,\"fTextSize\":0.04,\"fTextAlign\":11,\"fTextColor\":1,\"fTextFont\":42,\"fWmin\":0,\"fWmax\":0,\"fGridLength\":0,\"fTickSize\":0.03,\"fLabelOffset\":0.005,\"fLabelSize\":0.035,\"fTitleOffset\":1,\"fTitleSize\":0.035,\"fNdiv\":0,\"fLabelColor\":1,\"fLabelFont\":42,\"fNModLabs\":0,\"fChopt\":\"\",\"fName\":\"\",\"fTitle\":\"\",\"fTimeFormat\":\"\",\"fFunctionName\":\"\",\"fModLabs\":null},\"fName\":\"palette\"}],\"opt\":[\"br\"]},\"fBufferSize\":0,\"fBuffer\":[],\"fBinStatErrOpt\":0,\"fStatOverflows\":2,\"fScalefactor\":1,\"fTsumwy\":7422.40311817973,\"fTsumwy2\":4077.05662669575,\"fTsumwxy\":4077.02844597261,\"fArray\":[0,0,0,0,0,0,0,0,0,0,0,0,0,0,0,0,0,0,0,0,0,0,0,0,0,0,0,0,27.2083200565293,14.5877371903991,7.29891133125854,5.2226880757333,1.03862398809436,2.51680349931727,2.8227365363427,4.43630214742692,4.40439465454612,3.0032203907777,7.78261073329658,3.14431236734069,5.45548840990866,4.26973600183679,3.41982105468166,4.75262428596083,5.97585058339859,5.46670456862238,2.30763532346399,4.37968891842066,5.27383496827767,0.389469857526109,0,0,0,0,7.18004147526335,25.9823499797345,48.7309839363198,39.2775803766211,17.673452947738,9.83071928902393,3.57892298290436,3.04842598626848,3.33515262395109,2.12828813271069,1.99165305024982,0.691168259018889,2.8193069576874,1.03821586590023,3.63524461914776,1.77394190706954,0.660733058200854,0.966772494123934,0.313361089128488,1.3275612136237,0.633314151120713,0,0,0,0,0,0.689766882929722,2.21970718449996,21.9351330061571,68.2132636670798,115.714165529589,93.4679667934704,43.4615082062265,16.6749422169667,6.61029519839467,4.41265373470157,2.09155670142564,2.39548951897198,1.94025267809241,2.21429509046843,0.998844597031683,2.08909673979245,2.17209737171492,0.690475048461134,0.278275944134181,0.325524303124671,0.444964808886585,0.368278749898292,0,0,0,0,0,0.675515582685117,2.20201800184275,10.2996943264076,50.697517562109,166.495293292104,240.186548935058,174.728869015113,70.8846491833318,25.5073308072678,10.4819306069924,2.88364334691137,2.80750592564498,3.89210908381352,1.7765859959355,0.892255721739168,0.736040219059783,0.243840404891995,0.995259335042645,0.355400075865207,0,0.405966574377645,0,0,0,0,0.355496769160859,0,0.35852670601149,3.1703437640297,9.28891582435581,33.9923037716016,116.054638049209,298.473435351935,408.98886215529,258.000481990796,94.3668497295003,31.0629433918833,9.47170597343925,5.48483589959891,3.00630978743221,1.39413305588317,1.70472110337002,0.809282509337595,0.348462185357247,0.421175503797968,0,0,0,0,0,0,0,0,0,0.310626213286745,3.69235184990525,10.3012512124288,23.9407212841202,59.9856079242839,181.129096323166,475.499524647892,617.370001879286,341.562215471365,97.3199450696367,23.6568749941492,8.05485588433721,4.66556987611945,2.33858878032635,0.366334550096963,0.326502535304371,0,0.654152006158679,0,0,0,0,0,0,0,0,0.421167178865971,0.789101892868866,2.29230776650956,7.46037580545457,17.2911945363552,34.8507586812934,89.064186165687,251.129347877524,639.986303295059,760.936270320826,376.202865445324,89.3638305469402,26.9220527852327,7.16640116087822,1.11398775559909,1.16841065771425,0.622529851324065,0,0,0,0,0,0,0,0,0,0,0.684458904695449,1.41952795926075,1.78712581476759,3.78472147063187,9.19499075459349,20.7910119139313,38.5601957609401,102.823138136715,317.617438075044,789.600682248971,849.602893727583,339.636882389784,70.0480985170969,12.7641797354141,3.07538100995292,1.12667850716871,0.326758002674008,0,0,0,0,0,0,0,0,0,0,0.363454963529756,0,0.69479361337275,2.84798386544139,2.77943326263075,4.63000938973408,20.6569851961659,36.7873490374667,94.5332995617439,318.851698560298,742.075997764802,736.615785943622,242.946490219592,33.8828725660237,5.35072995307352,1.37243108023063,0,0,0,0,0,0,0,0,0,0.431608120048688,0,0.629298571348483,1.34654266391697,1.25287045864621,2.26789725596392,3.91111643412287,5.68244134713085,7.70497935776564,14.6321710310105,24.8882770998091,83.9925312404227,248.165116662082,564.829919157742,482.924064328581,114.011601547027,7.04256357936448,0.380217747359051,0,0,0,0,0,0,0,0,0,0,0,0,0.344270114766792,0.647253330536588,0.962142062742397,1.48977577002395,2.43533082862223,2.7135495678414,8.56316144916981,7.78525964114907,12.978869201577,32.7403828985721,131.717581243244,259.001386474235,120.208080711192,7.33146408536411,0,0,0,0,0,0,0,0,0,0,0,0,0.333725442607607,0.421711815106315,0.329975670930738,1.05188943015524,0.621517409522564,1.73856478304962,0.0160613733358205,2.34996783803856,3.67469439065974,3.88214124022542,2.78030507550483,5.48444402369517,13.2644501071352,11.5741832719049,0.328826496033522,0,0,0,0,0,0,0,0,0,0,0,0,0,0,0,0,0,0,0,0,0,0,0,0,0,0,0]},{\"_typename\":\"TPaveText\",\"fUniqueID\":0,\"fBits\":50331657,\"fLineColor\":1,\"fLineStyle\":1,\"fLineWidth\":1,\"fFillColor\":0,\"fFillStyle\":0,\"fX1\":0.0499999947845933,\"fY1\":0.811907525434525,\"fX2\":0.750000005215407,\"fY2\":0.895000012144447,\"fX1NDC\":0.15,\"fY1NDC\":0.911907519296625,\"fX2NDC\":0.85,\"fY2NDC\":0.995000004768372,\"fBorderSize\":0,\"fInit\":1,\"fShadowColor\":1,\"fCornerRadius\":0,\"fOption\":\"blNDC\",\"fName\":\"title\",\"fTextAngle\":0,\"fTextSize\":0,\"fTextAlign\":22,\"fTextColor\":1,\"fTextFont\":42,\"fLabel\":\"\",\"fLongest\":42,\"fMargin\":0.05,\"fLines\":{\"_typename\":\"TList\",\"name\":\"TList\",\"arr\":[{\"_typename\":\"TLatex\",\"fUniqueID\":0,\"fBits\":50331648,\"fName\":\"\",\"fTitle\":\"Response Matrix #tau_{1}^{(0.5)} binning 2\",\"fTextAngle\":0,\"fTextSize\":0,\"fTextAlign\":0,\"fTextColor\":0,\"fTextFont\":0,\"fX\":0,\"fY\":0,\"fLineColor\":1,\"fLineStyle\":1,\"fLineWidth\":2,\"fLimitFactorSize\":3,\"fOriginSize\":0.0555221065878868}],\"opt\":[\"\"]}}],\"opt\":[\"\",\"colz\",\"blNDC\"]},\"fExecs\":{\"_typename\":\"TList\",\"name\":\"TList\",\"arr\":[],\"opt\":[]},\"fName\":\"c6_2\",\"fTitle\":\"c6_2\",\"fNumPaletteColor\":0,\"fNextPaletteColor\":0},{\"_typename\":\"TPad\",\"fUniqueID\":0,\"fBits\":50331657,\"fLineColor\":1,\"fLineStyle\":1,\"fLineWidth\":1,\"fFillColor\":0,\"fFillStyle\":1001,\"fLeftMargin\":0.1,\"fRightMargin\":0.1,\"fBottomMargin\":0.1,\"fTopMargin\":0.1,\"fXfile\":2,\"fYfile\":2,\"fAfile\":1,\"fXstat\":0.99,\"fYstat\":0.99,\"fAstat\":2,\"fFrameFillColor\":0,\"fFrameLineColor\":1,\"fFrameFillStyle\":1001,\"fFrameLineStyle\":1,\"fFrameLineWidth\":1,\"fFrameBorderSize\":1,\"fFrameBorderMode\":0,\"fX1\":-0.100000007450581,\"fY1\":-0.100000007450581,\"fX2\":0.900000007450581,\"fY2\":0.900000007450581,\"fXtoAbsPixelk\":846.768052019803,\"fXtoPixelk\":37.4747189537963,\"fXtoPixel\":374.74666161716,\"fYtoAbsPixelk\":305.864048143911,\"fYtoPixelk\":298.944048298585,\"fYtoPixel\":-332.159995359778,\"fUtoAbsPixelk\":809.293383066006,\"fUtoPixelk\":5e-5,\"fUtoPixel\":374.74666720132,\"fVtoAbsPixelk\":339.080050154674,\"fVtoPixelk\":332.160000309348,\"fVtoPixel\":-332.160000309348,\"fAbsPixeltoXk\":-2.25957450392142,\"fPixeltoXk\":-0.100000007450581,\"fPixeltoX\":0.00266846940192785,\"fAbsPixeltoYk\":0.920833340609291,\"fPixeltoYk\":-0.100000007450581,\"fPixeltoY\":-0.00301059734456238,\"fXlowNDC\":0.676666666443149,\"fYlowNDC\":0.509999999776483,\"fXUpNDC\":0,\"fYUpNDC\":0,\"fWNDC\":0.313333333780368,\"fHNDC\":0.480000000447035,\"fAbsXlowNDC\":0.676666666443149,\"fAbsYlowNDC\":0.509999999776483,\"fAbsWNDC\":0.313333333780368,\"fAbsHNDC\":0.480000000447035,\"fUxmin\":0,\"fUymin\":0,\"fUxmax\":0.8,\"fUymax\":0.8,\"fTheta\":30,\"fPhi\":30,\"fAspectRatio\":0,\"fNumber\":3,\"fTickx\":0,\"fTicky\":0,\"fLogx\":0,\"fLogy\":0,\"fLogz\":0,\"fPadPaint\":0,\"fCrosshair\":0,\"fCrosshairPos\":0,\"fBorderSize\":2,\"fBorderMode\":0,\"fModified\":false,\"fGridx\":false,\"fGridy\":false,\"fAbsCoord\":false,\"fEditable\":true,\"fFixedAspectRatio\":false,\"fPrimitives\":{\"_typename\":\"TList\",\"name\":\"TList\",\"arr\":[{\"_typename\":\"TFrame\",\"fUniqueID\":0,\"fBits\":50331656,\"fLineColor\":1,\"fLineStyle\":1,\"fLineWidth\":1,\"fFillColor\":0,\"fFillStyle\":1001,\"fX1\":0,\"fY1\":0,\"fX2\":0.8,\"fY2\":0.8,\"fBorderSize\":1,\"fBorderMode\":0},{\"_typename\":\"TH2D\",\"fUniqueID\":0,\"fBits\":50332168,\"fName\":\"response\",\"fTitle\":\"Response Matrix #tau_{1}^{(0.5)} binning 3\",\"fLineColor\":602,\"fLineStyle\":1,\"fLineWidth\":1,\"fFillColor\":0,\"fFillStyle\":1001,\"fMarkerColor\":1,\"fMarkerStyle\":1,\"fMarkerSize\":1,\"fNcells\":480,\"fXaxis\":{\"_typename\":\"TAxis\",\"fUniqueID\":0,\"fBits\":50331648,\"fName\":\"xaxis\",\"fTitle\":\"#tau_{1}^{(0.5)}(det_sig)\",\"fNdivisions\":510,\"fAxisColor\":1,\"fLabelColor\":1,\"fLabelFont\":42,\"fLabelOffset\":0.005,\"fLabelSize\":0.035,\"fTickLength\":0.03,\"fTitleOffset\":1,\"fTitleSize\":0.035,\"fTitleColor\":1,\"fTitleFont\":42,\"fNbins\":28,\"fXmin\":0,\"fXmax\":0.8,\"fXbins\":[0,0.145,0.29,0.3075,0.325,0.3425,0.36,0.3775,0.395,0.4125,0.43,0.4475,0.465,0.4825,0.5,0.5175,0.535,0.5525,0.57,0.5875,0.605,0.6225,0.64,0.6575,0.675,0.6925,0.71,0.76,0.8],\"fFirst\":0,\"fLast\":0,\"fBits2\":0,\"fTimeDisplay\":false,\"fTimeFormat\":\"\",\"fLabels\":null,\"fModLabs\":null},\"fYaxis\":{\"_typename\":\"TAxis\",\"fUniqueID\":0,\"fBits\":50331648,\"fName\":\"yaxis\",\"fTitle\":\"#tau_{1}^{(0.5)}(gen_sig)\",\"fNdivisions\":510,\"fAxisColor\":1,\"fLabelColor\":1,\"fLabelFont\":42,\"fLabelOffset\":0.005,\"fLabelSize\":0.035,\"fTickLength\":0.03,\"fTitleOffset\":0,\"fTitleSize\":0.035,\"fTitleColor\":1,\"fTitleFont\":42,\"fNbins\":14,\"fXmin\":0,\"fXmax\":0.8,\"fXbins\":[0,0.29,0.325,0.36,0.395,0.43,0.465,0.5,0.535,0.57,0.605,0.64,0.675,0.71,0.8],\"fFirst\":0,\"fLast\":0,\"fBits2\":0,\"fTimeDisplay\":false,\"fTimeFormat\":\"\",\"fLabels\":null,\"fModLabs\":null},\"fZaxis\":{\"_typename\":\"TAxis\",\"fUniqueID\":0,\"fBits\":50331648,\"fName\":\"zaxis\",\"fTitle\":\"\",\"fNdivisions\":510,\"fAxisColor\":1,\"fLabelColor\":1,\"fLabelFont\":42,\"fLabelOffset\":0.005,\"fLabelSize\":0.035,\"fTickLength\":0.03,\"fTitleOffset\":1,\"fTitleSize\":0.035,\"fTitleColor\":1,\"fTitleFont\":42,\"fNbins\":1,\"fXmin\":0,\"fXmax\":1,\"fXbins\":[],\"fFirst\":0,\"fLast\":0,\"fBits2\":0,\"fTimeDisplay\":false,\"fTimeFormat\":\"\",\"fLabels\":null,\"fModLabs\":null},\"fBarOffset\":0,\"fBarWidth\":1000,\"fEntries\":43107,\"fTsumw\":13901.1376293109,\"fTsumw2\":4887.05421222413,\"fTsumwx\":7458.70529492438,\"fTsumwx2\":4099.83429261437,\"fMaximum\":-1111,\"fMinimum\":-1111,\"fNormFactor\":0,\"fContour\":[0,33.3114063087714,66.6228126175428,99.9342189263143,133.245625235086,166.557031543857,199.868437852629,233.1798441614,266.491250470171,299.802656778943,333.114063087714,366.425469396486,399.736875705257,433.048282014028,466.3596883228,499.671094631571,532.982500940343,566.293907249114,599.605313557886,632.916719866657],\"fSumw2\":[0,0,0,0,0,0,0,0,0,0,0,0,0,0,0,0,0,0,0,0,0,0,0,0,0,0,0,0,0,0,0,0,9.89259867586115,4.85823868870801,2.21322463663071,1.72337589041893,0.844078238475054,0.473236299876479,0.722756616877136,1.04036098127644,0.960194539375704,1.35955646856151,1.30532573482777,0.948916820824116,2.40081279746296,1.00860802647157,1.31883378423928,1.22487550608495,1.29887300147724,1.16560114716959,1.302973861374,1.54769936706058,1.79761552332321,1.41577395133809,0.697365960380311,1.32356982922797,1.57769542861062,0.151686769921408,0,0,0,0,2.57847777494244,7.22469424171878,11.0584519817607,9.66325799681291,5.91115876157714,2.48032398264363,1.54052246596722,1.11638823222429,0.658954657866442,0.756031021309088,0.470440797607861,0.529021541570518,0.221273207349436,0.134689508597152,0.633602712106451,0.445118822819525,0.751294929847992,0.972535761741304,0.443778547058783,0.115037530763721,0.0890054463546066,0.223484605300969,0.0981951721797925,0.447544857855294,0,0,0,0,0,0,0.0818522828222675,1.043641240692,4.75003210818826,18.6240387397522,23.600664412555,23.5139088408669,11.0852058069316,4.64835750700955,3.42904267513106,0.870528865259522,0.96130627236648,0.822745802823056,0.550596224738438,0.454460615972933,0.464378923202214,0.248401951097695,0.803884743750346,0.129870826377589,0.340220062561672,0.66660541571906,0.23841767438995,0,0.105966071924802,0.113266444941254,0.0880684830760109,0.135629237626649,0,0,0,0,0.16294826056279,0.256136520144259,0.198183133812153,2.50308252776557,8.21330084864363,29.544844940302,52.3979119068808,38.3714984021121,18.4233330749039,10.0596314566984,3.64911430987929,1.88932767550842,1.08386416966791,0.609759653898179,0.566467014220889,0.481981155527729,0.152310529943747,0.217767046697794,0.359151478068303,0.26922028468402,0,0.120136543530569,0.203746715008765,0,0.197993681147475,0.16480885951192,0,0,0,0,0,0.132328994909155,0.188496754905357,0.824850927128895,2.14436488357099,9.0653698314941,21.944781938243,56.0782309910288,83.0276498466834,59.3330560641785,26.8576875350399,12.5174972367606,4.03992010903449,2.46979947826644,0.794622689278184,1.1033864442052,0.80666832824379,0.434703147267624,0,0.283908003264942,0.0594581430578923,1.41228042724835e-5,0.211078404451876,0,0,0,0,0,0,0,0.126377952883809,0,0,0.260150672789463,0.509848410987311,2.0115014090206,4.61965209134603,13.6630691918185,38.4211110544549,86.436082079547,121.808516234373,84.3046628649113,39.7841034104561,14.8382165085188,2.87740210561561,2.71814712381066,0.78249772337708,1.11729364120053,0.252786977769589,0.455604373012847,0.139808767331542,0.186290965615933,0.298814699623421,0,0,0,0,0,0,0,0,0,0,0.0964886443808622,0.249293292596962,0.871105312790474,2.4192879617133,5.877548210389,11.4846273498171,23.3956069287311,58.3592532823183,125.984793208915,164.075614459759,102.34409250418,37.1250496225219,12.5748238785034,3.96147533491707,1.880588306059,0.904143798275066,0.670960786675516,0.248504375076194,0.106603905560182,0,0.109650522097317,0.104339855677448,0,0,0,0,0,0,0,0,0,0.177381792553921,0.312223282810859,0.762744171867055,1.93222346660922,3.00452475705201,7.98132885792994,14.0325227009695,31.414830314315,74.1967339166696,171.252496182676,203.744302951334,105.178531370019,35.8049626144006,11.7189615823856,3.87259159807725,1.47988559074876,0.201676101712684,0.168100558193411,0.116129515245471,0.0793842132391635,0,0,0,0,0,0,0,0,0,0,0,0.234248075018705,0.304204615598795,0.632296865596622,1.1702456604369,1.41687967691331,4.67648772720155,7.58365655570431,13.6900910223513,31.6701932274282,88.0461623352973,203.837389284133,233.982392616914,119.275572413408,33.5511091570812,8.65971486682801,1.87694653317425,0.861045865706833,0.289550851710929,0.196213229056213,0,0,0,0,0,0,0,0,0,0,0,0,0.245521556862751,0,0.191784369493294,0.291984010226592,1.8787903341897,3.08133305618743,2.21434573675182,10.6292516752153,17.7702443089144,36.711255871687,98.462242989262,209.480860534474,205.983419446797,99.7374349187388,24.2086116659228,2.7640733208707,1.24051340689808,0.207381001136653,0.388783832234156,0,0,0,0,0,0,0,0,0,0.186285569291962,0.132099510514416,0,0.198187952344566,0.244958793605352,0.298305827634752,0.254604428646904,0.897512208267654,1.54978387607817,1.72562502741549,2.33732703321339,8.13204643000058,11.4907985544362,28.6431217659506,91.3850380719603,184.805347633031,174.638643042938,69.1776753560317,11.2115664685135,2.1211017946728,0.198860440041023,0,0,0,0,0,0,0,0,0,0,0,0,0,0.0957433033427075,0.216517063722475,0.110220496094908,0.240874516327141,0.796816564648272,1.0337709944051,1.55127667434241,2.08661321737784,2.75005659622334,4.6675248680533,11.5342098987588,21.9567045271302,63.5951528592602,134.748253695097,113.027219907251,26.3813981311022,2.12984257064976,0.312689702107152,0,0,0,0,0,0,0,0,0,0,0,0,0,0,0.328044425346867,0.0705233046994885,0,0.214979375335978,0.535270353119073,0.931492477724627,0.945999915306686,1.50974925475895,1.38160934751118,3.01804574440192,3.36508619602981,10.0622959598625,32.5074037883788,59.0851076771903,30.6911250099939,2.30049763925328,0,0,0,0,0,0,0,0,0,0,0,0,0,0.111372671043643,0,0.177840855000263,0.108883943406191,0.291881139548949,0.194238094590049,0.331891366024951,0.223809054714576,0.111260990343486,0.690985270746029,1.12283634519768,1.11609117978158,0.382406410150846,1.3291436108415,1.92155094295535,4.49528446444912,3.87342683123722,0.108126864493684,0,0,0,0,0,0,0,0,0,0,0,0,0,0,0,0,0,0,0,0,0,0,0,0,0,0,0,0,0,0,0],\"fOption\":\"\",\"fFunctions\":{\"_typename\":\"TList\",\"name\":\"TList\",\"arr\":[{\"_typename\":\"TPaletteAxis\",\"fUniqueID\":0,\"fBits\":50331648,\"fLineColor\":1,\"fLineStyle\":1,\"fLineWidth\":1,\"fFillColor\":1178,\"fFillStyle\":1001,\"fX1\":0.805000000074506,\"fY1\":0,\"fX2\":0.850000000745058,\"fY2\":0.8,\"fX1NDC\":0.904999994039535,\"fY1NDC\":0.100000005960465,\"fX2NDC\":0.949999994039535,\"fY2NDC\":0.899999994039535,\"fBorderSize\":4,\"fInit\":1,\"fShadowColor\":1,\"fCornerRadius\":0,\"fOption\":\"br\",\"fName\":\"TPave\",\"fAxis\":{\"_typename\":\"TGaxis\",\"fUniqueID\":0,\"fBits\":50331648,\"fLineColor\":1,\"fLineStyle\":1,\"fLineWidth\":1,\"fX1\":0,\"fY1\":0,\"fX2\":0,\"fY2\":0,\"fTextAngle\":0,\"fTextSize\":0.04,\"fTextAlign\":11,\"fTextColor\":1,\"fTextFont\":42,\"fWmin\":0,\"fWmax\":0,\"fGridLength\":0,\"fTickSize\":0.03,\"fLabelOffset\":0.005,\"fLabelSize\":0.035,\"fTitleOffset\":1,\"fTitleSize\":0.035,\"fNdiv\":0,\"fLabelColor\":1,\"fLabelFont\":42,\"fNModLabs\":0,\"fChopt\":\"\",\"fName\":\"\",\"fTitle\":\"\",\"fTimeFormat\":\"\",\"fFunctionName\":\"\",\"fModLabs\":null},\"fName\":\"palette\"}],\"opt\":[\"br\"]},\"fBufferSize\":0,\"fBuffer\":[],\"fBinStatErrOpt\":0,\"fStatOverflows\":2,\"fScalefactor\":1,\"fTsumwy\":7422.40311817973,\"fTsumwy2\":4077.05662669575,\"fTsumwxy\":4077.02844597261,\"fArray\":[0,0,0,0,0,0,0,0,0,0,0,0,0,0,0,0,0,0,0,0,0,0,0,0,0,0,0,0,0,0,0,0,27.2083200565293,13.8616683188808,6.23711054221642,5.12369351182714,2.23656146372431,1.17442312670279,2.03130712145111,2.8227365363427,2.7034372698384,3.9969038750138,3.76150028023482,2.84358454828867,6.32110195267162,2.82362090491543,3.9813360010516,3.47799406678887,3.89553523088802,3.03744725019996,3.82604866588474,4.57275542245736,5.29176531670498,3.48265200560006,1.92521532510767,3.7945083195317,4.33681797278151,0.389469857526109,0,0,0,0,7.18004147526335,19.8571613524713,30.6505105515415,27.7499553592339,16.9847300780055,7.21395615911987,4.12836211381807,3.10808479025808,1.88668289830075,2.28935475919985,1.36766065907138,1.59869603946017,0.66613512717832,0.367367217915223,1.8625819300135,1.33074830765339,1.63712572932973,2.75264553886985,1.32368607099651,0.341283023943167,0.298337805774941,0.668434688348992,0.313361089128488,1.3275612136237,0,0,0,0,0,0,0.286098379621884,2.86715491728605,13.4807268386026,52.137664294312,67.7699571680976,66.7692618152223,31.6193309636664,13.4577389589688,9.17334781345805,2.53954518482264,3.08974587862029,2.17779301243991,1.4767297438942,1.34234229168335,1.61281782407649,0.704165197651998,2.21251329757232,0.360375951441809,1.12180313258793,2.11360252665789,0.690475048461134,0,0.325524303124671,0.336550805884124,0.296763345236589,0.368278749898292,0,0,0,0,0.403668503307839,0.707368311564955,0.768804932744021,7.14136919055254,23.6642445470841,82.7999254485169,145.726468634574,111.560612660852,54.0263943972206,28.1236123519766,10.1433576070202,5.57401269906944,3.12375118438123,1.69440355810779,1.49916614319688,1.503849317938,0.622676807225489,0.80448958317036,1.03732267165659,0.733441648475569,0,0.346607189092449,0.633676019999388,0,0.444964808886585,0.405966574377645,0,0,0,0,0,0.363770525069246,0.615560426586117,2.56837707147309,6.47847745838926,25.3273735160566,63.5682537941359,158.651510171891,234.875930564765,170.863434802795,75.6992109886986,34.9678019028065,11.7299819368951,7.21529069009978,2.47637569266776,2.9851377740462,2.52304456232446,1.31555450625927,0,0.753497449748727,0.243840404891995,0.00375803196799648,0.648652145950196,0,0,0,0,0,0,0,0.355496769160859,0,0,0.721306630850246,1.6214021711616,5.97761259894435,14.1983213412067,38.508503702609,110.223662906875,246.996473296864,346.506669039197,238.761093670592,110.400325237627,40.7298482923288,8.82920955681786,7.03235341550804,2.38229159726901,3.13610225357031,0.71449758128334,1.33176710352022,0.373910105950003,0.431614371419596,0.769637689155215,0,0,0,0,0,0,0,0,0,0,0.310626213286745,0.70564607282959,2.6395305603925,7.39646976020635,16.5586107211016,32.1514943084222,66.5131221844926,165.588942776306,356.890081230042,471.661841508867,292.548760696811,105.50569522226,36.7343744591027,11.3172073649694,5.62659655452319,2.6649249201416,2.00050096261999,0.704422367803324,0.326502535304371,0,0.331135202141538,0.32301680401714,0,0,0,0,0,0,0,0,0,0.421167178865971,0.789101892868866,2.07851026939252,5.58968223470182,8.81900252540063,22.1201972274926,38.712119374077,90.0810613168611,208.349147064154,486.452856229721,579.319927022043,297.434660558729,102.758282796016,33.6515396058533,11.0795490073538,4.30479945038253,0.790639699942957,0.579543172149354,0.340777809203403,0.281752042120662,0,0,0,0,0,0,0,0,0,0,0,0.684458904695449,0.932685246146738,1.76457022331984,3.56929818068427,4.19201098696996,13.7578218192332,21.5327583905392,39.8584751152931,90.8718540654753,250.848388626993,577.930222579339,666.228126175428,337.327420945154,95.1813992876127,24.4715650895677,5.20776120666836,2.44511913806135,0.805830704090401,0.44295962463436,0,0,0,0,0,0,0,0,0,0,0,0,0.700640210231059,0,0.615446767639032,0.941190794583181,5.4833508057589,8.42002213165642,6.70913682791366,28.6100788047757,50.6539244828149,101.534722289659,278.688742125244,592.938844122809,590.236986356016,283.248714225796,69.8644744955203,8.36190415257624,3.31952111759867,0.64285641799784,1.07072787790281,0,0,0,0,0,0,0,0,0,0.431608120048688,0.363454963529756,0,0.629298571348483,0.69985245841478,0.93900706942451,0.713256289929195,2.85875253303498,4.17287495838552,4.99249269994791,7.21836527624464,22.8821729721325,34.0166150542702,81.9087500058992,260.187903219171,524.60843051543,497.005614022664,196.474725634643,32.7920094280245,5.9646733189278,0.628461205001824,0,0,0,0,0,0,0,0,0,0,0,0,0,0.309424147963128,0.657841587101961,0.331994722992563,0.692533886625304,2.45030610499097,3.02301613642379,4.40049398119194,6.0635248657355,7.79887960975031,13.5810713913394,32.426181138544,62.5648473383597,179.948649880634,381.668472967324,321.077556617696,77.104958897456,6.06490568365192,0.790247217885696,0,0,0,0,0,0,0,0,0,0,0,0,0,0,0.99152344530338,0.265562242608938,0,0.649086077832189,1.4241933940001,2.32089568650129,2.5212672801228,4.49265297369965,3.83007758105769,8.79281307539993,9.39098628960329,29.6611907166535,94.8340823888259,169.650553284623,86.7884232748491,6.92143461483747,0,0,0,0,0,0,0,0,0,0,0,0,0,0.333725442607607,0,0.421711815106315,0.329975670930738,1.05188943015524,0.621517409522564,0.983828079645955,0.754736703403668,0.349443724877379,2.016585486497,3.47577835858399,3.34113485752234,1.07373675067485,3.68645038908893,5.32662520111527,12.182309280235,11.5741832719049,0.328826496033522,0,0,0,0,0,0,0,0,0,0,0,0,0,0,0,0,0,0,0,0,0,0,0,0,0,0,0,0,0,0,0]},{\"_typename\":\"TPaveText\",\"fUniqueID\":0,\"fBits\":50331657,\"fLineColor\":1,\"fLineStyle\":1,\"fLineWidth\":1,\"fFillColor\":0,\"fFillStyle\":0,\"fX1\":0.0499999947845933,\"fY1\":0.811907525434525,\"fX2\":0.750000005215407,\"fY2\":0.895000012144447,\"fX1NDC\":0.15,\"fY1NDC\":0.911907519296625,\"fX2NDC\":0.85,\"fY2NDC\":0.995000004768372,\"fBorderSize\":0,\"fInit\":1,\"fShadowColor\":1,\"fCornerRadius\":0,\"fOption\":\"blNDC\",\"fName\":\"title\",\"fTextAngle\":0,\"fTextSize\":0,\"fTextAlign\":22,\"fTextColor\":1,\"fTextFont\":42,\"fLabel\":\"\",\"fLongest\":42,\"fMargin\":0.05,\"fLines\":{\"_typename\":\"TList\",\"name\":\"TList\",\"arr\":[{\"_typename\":\"TLatex\",\"fUniqueID\":0,\"fBits\":50331648,\"fName\":\"\",\"fTitle\":\"Response Matrix #tau_{1}^{(0.5)} binning 3\",\"fTextAngle\":0,\"fTextSize\":0,\"fTextAlign\":0,\"fTextColor\":0,\"fTextFont\":0,\"fX\":0,\"fY\":0,\"fLineColor\":1,\"fLineStyle\":1,\"fLineWidth\":2,\"fLimitFactorSize\":3,\"fOriginSize\":0.0555221065878868}],\"opt\":[\"\"]}}],\"opt\":[\"\",\"colz\",\"blNDC\"]},\"fExecs\":{\"_typename\":\"TList\",\"name\":\"TList\",\"arr\":[],\"opt\":[]},\"fName\":\"c6_3\",\"fTitle\":\"c6_3\",\"fNumPaletteColor\":0,\"fNextPaletteColor\":0},{\"_typename\":\"TPad\",\"fUniqueID\":0,\"fBits\":50331657,\"fLineColor\":1,\"fLineStyle\":1,\"fLineWidth\":1,\"fFillColor\":0,\"fFillStyle\":1001,\"fLeftMargin\":0.1,\"fRightMargin\":0.1,\"fBottomMargin\":0.1,\"fTopMargin\":0.1,\"fXfile\":2,\"fYfile\":2,\"fAfile\":1,\"fXstat\":0.99,\"fYstat\":0.99,\"fAstat\":2,\"fFrameFillColor\":0,\"fFrameLineColor\":1,\"fFrameFillStyle\":1001,\"fFrameLineStyle\":1,\"fFrameLineWidth\":1,\"fFrameBorderSize\":1,\"fFrameBorderMode\":0,\"fX1\":-0.100000007450581,\"fY1\":-0.100000007450581,\"fX2\":0.900000007450581,\"fY2\":0.900000007450581,\"fXtoAbsPixelk\":49.4347186864695,\"fXtoPixelk\":37.4747189537963,\"fXtoPixel\":374.74666161716,\"fYtoAbsPixelk\":651.864048143911,\"fYtoPixelk\":298.944048298585,\"fYtoPixel\":-332.159995359778,\"fUtoAbsPixelk\":11.9600497326732,\"fUtoPixelk\":5e-5,\"fUtoPixel\":374.74666720132,\"fVtoAbsPixelk\":685.080050154674,\"fVtoPixelk\":332.160000309348,\"fVtoPixel\":-332.160000309348,\"fAbsPixeltoXk\":-0.131914900784285,\"fPixeltoXk\":-0.100000007450581,\"fPixeltoX\":0.00266846940192785,\"fAbsPixeltoYk\":1.96250002182787,\"fPixeltoYk\":-0.100000007450581,\"fPixeltoY\":-0.00301059734456238,\"fXlowNDC\":0.00999999977648258,\"fYlowNDC\":0.00999999977648258,\"fXUpNDC\":0,\"fYUpNDC\":0,\"fWNDC\":0.313333333780368,\"fHNDC\":0.480000000447035,\"fAbsXlowNDC\":0.00999999977648258,\"fAbsYlowNDC\":0.00999999977648258,\"fAbsWNDC\":0.313333333780368,\"fAbsHNDC\":0.480000000447035,\"fUxmin\":0,\"fUymin\":0,\"fUxmax\":0.8,\"fUymax\":0.8,\"fTheta\":30,\"fPhi\":30,\"fAspectRatio\":0,\"fNumber\":4,\"fTickx\":0,\"fTicky\":0,\"fLogx\":0,\"fLogy\":0,\"fLogz\":0,\"fPadPaint\":0,\"fCrosshair\":0,\"fCrosshairPos\":0,\"fBorderSize\":2,\"fBorderMode\":0,\"fModified\":false,\"fGridx\":false,\"fGridy\":false,\"fAbsCoord\":false,\"fEditable\":true,\"fFixedAspectRatio\":false,\"fPrimitives\":{\"_typename\":\"TList\",\"name\":\"TList\",\"arr\":[{\"_typename\":\"TFrame\",\"fUniqueID\":0,\"fBits\":50331656,\"fLineColor\":1,\"fLineStyle\":1,\"fLineWidth\":1,\"fFillColor\":0,\"fFillStyle\":1001,\"fX1\":0,\"fY1\":0,\"fX2\":0.8,\"fY2\":0.8,\"fBorderSize\":1,\"fBorderMode\":0},{\"_typename\":\"TH2D\",\"fUniqueID\":0,\"fBits\":50332168,\"fName\":\"response\",\"fTitle\":\"Response Matrix #tau_{1}^{(0.5)} binning 4\",\"fLineColor\":602,\"fLineStyle\":1,\"fLineWidth\":1,\"fFillColor\":0,\"fFillStyle\":1001,\"fMarkerColor\":1,\"fMarkerStyle\":1,\"fMarkerSize\":1,\"fNcells\":264,\"fXaxis\":{\"_typename\":\"TAxis\",\"fUniqueID\":0,\"fBits\":50331648,\"fName\":\"xaxis\",\"fTitle\":\"#tau_{1}^{(0.5)}(det_sig)\",\"fNdivisions\":510,\"fAxisColor\":1,\"fLabelColor\":1,\"fLabelFont\":42,\"fLabelOffset\":0.005,\"fLabelSize\":0.035,\"fTickLength\":0.03,\"fTitleOffset\":1,\"fTitleSize\":0.035,\"fTitleColor\":1,\"fTitleFont\":42,\"fNbins\":20,\"fXmin\":0,\"fXmax\":0.8,\"fXbins\":[0,0.145,0.25,0.278125,0.30625,0.334375,0.3625,0.390625,0.41875,0.446875,0.475,0.503125,0.53125,0.559375,0.5875,0.615625,0.64375,0.671875,0.7,0.75,0.8],\"fFirst\":0,\"fLast\":0,\"fBits2\":0,\"fTimeDisplay\":false,\"fTimeFormat\":\"\",\"fLabels\":null,\"fModLabs\":null},\"fYaxis\":{\"_typename\":\"TAxis\",\"fUniqueID\":0,\"fBits\":50331648,\"fName\":\"yaxis\",\"fTitle\":\"#tau_{1}^{(0.5)}(gen_sig)\",\"fNdivisions\":510,\"fAxisColor\":1,\"fLabelColor\":1,\"fLabelFont\":42,\"fLabelOffset\":0.005,\"fLabelSize\":0.035,\"fTickLength\":0.03,\"fTitleOffset\":0,\"fTitleSize\":0.035,\"fTitleColor\":1,\"fTitleFont\":42,\"fNbins\":10,\"fXmin\":0,\"fXmax\":0.8,\"fXbins\":[0,0.25,0.30625,0.3625,0.41875,0.475,0.53125,0.5875,0.64375,0.7,0.8],\"fFirst\":0,\"fLast\":0,\"fBits2\":0,\"fTimeDisplay\":false,\"fTimeFormat\":\"\",\"fLabels\":null,\"fModLabs\":null},\"fZaxis\":{\"_typename\":\"TAxis\",\"fUniqueID\":0,\"fBits\":50331648,\"fName\":\"zaxis\",\"fTitle\":\"\",\"fNdivisions\":510,\"fAxisColor\":1,\"fLabelColor\":1,\"fLabelFont\":42,\"fLabelOffset\":0.005,\"fLabelSize\":0.035,\"fTickLength\":0.03,\"fTitleOffset\":1,\"fTitleSize\":0.035,\"fTitleColor\":1,\"fTitleFont\":42,\"fNbins\":1,\"fXmin\":0,\"fXmax\":1,\"fXbins\":[],\"fFirst\":0,\"fLast\":0,\"fBits2\":0,\"fTimeDisplay\":false,\"fTimeFormat\":\"\",\"fLabels\":null,\"fModLabs\":null},\"fBarOffset\":0,\"fBarWidth\":1000,\"fEntries\":43107,\"fTsumw\":13901.1376293109,\"fTsumw2\":4887.05421222413,\"fTsumwx\":7458.70529492438,\"fTsumwx2\":4099.83429261437,\"fMaximum\":-1111,\"fMinimum\":-1111,\"fNormFactor\":0,\"fContour\":[0,64.1530685202536,128.306137040507,192.459205560761,256.612274081014,320.765342601268,384.918411121521,449.071479641775,513.224548162028,577.377616682282,641.530685202536,705.683753722789,769.836822243043,833.989890763296,898.14295928355,962.296027803803,1026.44909632406,1090.60216484431,1154.75523336456,1218.90830188482],\"fSumw2\":[0,0,0,0,0,0,0,0,0,0,0,0,0,0,0,0,0,0,0,0,0,0,0,0,0.905746479287124,1.91469104092476,0.605317746587957,0.106699738938258,0.222770124890456,0.240181986644716,0.643246617008124,1.41805935512282,0.913438950329049,2.09736711766178,0.962096719731504,1.3237199651811,1.34560822940562,1.57816486526404,1.91425126019541,1.47015667631639,2.31522446289177,0.781144907338629,0,0,0,0,0.048099411054642,3.73362341182506,14.5668932324554,9.32404564951263,3.40328408584518,1.31488602191843,1.19151144340061,1.48184574423826,1.28025111514675,1.38514338043085,1.1637643826628,1.22694503279477,1.16234334269077,0.93811575594332,0.723558502109719,0.468720298519407,0.210682475202542,0,0,0,0,0,0,0,3.04786630406522,26.2778010074133,45.861268043432,36.1350811121658,11.2288152792169,3.5374079817651,2.00594218022953,0.964332359307611,0.771004512091954,1.22768759989745,1.6987889280452,1.06182182532469,0.808306207314037,0.175632673263562,0.670705532576236,0.135629237626649,0,0,0,0,0,0,0.551413775616204,1.48401724568612,13.5518580133163,78.6496907116409,128.359123148655,78.1002792987947,23.0858061801125,5.50636038788599,2.03774252469646,2.09289337992417,0.967840617630724,0.518108142199434,0.0594581430578923,0.331229070786717,0.32430289507247,0.16480885951192,0,0,0,0,0,0,0.126377952883809,0.128541398923449,2.22750108404777,10.403707465281,52.8084849307484,178.346882063626,254.180538873157,139.064725142446,28.2971073701369,6.55232240277213,2.61025942751232,1.22779979206277,0.232797667551455,0.591709570799536,0,0,0,0,0,0,0,0,0,0,0.543992787901813,2.39294977944604,8.50868553820377,25.1314837057042,91.4300792637854,301.517628043849,387.282480661032,141.934342388478,24.9811375597099,4.15449682463244,1.02815236324448,0.168100558193411,0.305164250581952,0.104339855677448,0,0,0,0,0,0,0,0,0,0.531238452798347,1.37202931736708,3.23119678134344,12.7207877336438,32.240134412185,127.909962982061,416.257654468222,454.044830038511,135.47071236927,14.8385427924304,2.06332906365684,0.510369702216059,0,0,0,0,0,0,0,0,0,0.186285569291962,0.132099510514416,0.198187952344566,0.543264621240104,1.70190042940015,4.15990528169517,9.36064676566276,31.5916957302702,125.467640760413,390.762774769213,339.45929629943,72.0466973788464,3.27110000209323,0.115930749583844,0,0,0,0,0,0,0,0,0,0,0,0.312260367065182,0.211616145026551,0.780385581228263,2.21309740788162,3.76932341620642,6.93536139394783,20.017624265891,79.5870552160556,224.398911723841,123.762420512136,9.0869590888399,0,0,0,0,0,0,0,0,0,0,0,0.111372671043643,0.404489631415487,0.253820781091653,0.217469038286772,0.649978379793751,1.12782928961439,1.71333913138622,2.26347468277641,3.23698353605657,8.91638722445381,14.6744332980558,0.164994078134965,0,0,0,0,0,0,0,0,0,0,0,0,0,0,0,0,0,0,0,0,0,0,0],\"fOption\":\"\",\"fFunctions\":{\"_typename\":\"TList\",\"name\":\"TList\",\"arr\":[{\"_typename\":\"TPaletteAxis\",\"fUniqueID\":0,\"fBits\":50331648,\"fLineColor\":1,\"fLineStyle\":1,\"fLineWidth\":1,\"fFillColor\":1178,\"fFillStyle\":1001,\"fX1\":0.805000000074506,\"fY1\":0,\"fX2\":0.850000000745058,\"fY2\":0.8,\"fX1NDC\":0.904999994039535,\"fY1NDC\":0.100000005960465,\"fX2NDC\":0.949999994039535,\"fY2NDC\":0.899999994039535,\"fBorderSize\":4,\"fInit\":1,\"fShadowColor\":1,\"fCornerRadius\":0,\"fOption\":\"br\",\"fName\":\"TPave\",\"fAxis\":{\"_typename\":\"TGaxis\",\"fUniqueID\":0,\"fBits\":50331648,\"fLineColor\":1,\"fLineStyle\":1,\"fLineWidth\":1,\"fX1\":0,\"fY1\":0,\"fX2\":0,\"fY2\":0,\"fTextAngle\":0,\"fTextSize\":0.04,\"fTextAlign\":11,\"fTextColor\":1,\"fTextFont\":42,\"fWmin\":0,\"fWmax\":0,\"fGridLength\":0,\"fTickSize\":0.03,\"fLabelOffset\":0.005,\"fLabelSize\":0.035,\"fTitleOffset\":1,\"fTitleSize\":0.035,\"fNdiv\":0,\"fLabelColor\":1,\"fLabelFont\":42,\"fNModLabs\":0,\"fChopt\":\"\",\"fName\":\"\",\"fTitle\":\"\",\"fTimeFormat\":\"\",\"fFunctionName\":\"\",\"fModLabs\":null},\"fName\":\"palette\"}],\"opt\":[\"br\"]},\"fBufferSize\":0,\"fBuffer\":[],\"fBinStatErrOpt\":0,\"fStatOverflows\":2,\"fScalefactor\":1,\"fTsumwy\":7422.40311817973,\"fTsumwy2\":4077.05662669575,\"fTsumwxy\":4077.02844597261,\"fArray\":[0,0,0,0,0,0,0,0,0,0,0,0,0,0,0,0,0,0,0,0,0,0,0,0,2.36728656471083,5.50873298476175,1.73118808733221,0.326649259815873,0.749377415742593,0.828627026051443,1.94906768245693,4.23260559910325,2.633075888569,5.74775436479388,2.77825649868083,4.04604655023315,3.56275262764827,4.56587294058175,5.47988152487037,3.82085683206075,6.5434227718279,2.0339071804806,0,0,0,0,0.27978626456034,9.77030305883759,40.0977892698356,25.8485548499022,9.53101126482009,3.417976187245,3.0439373356083,4.1666747469447,3.87338490561766,3.67054054007892,3.2079075442413,3.46516718186299,3.51906908732001,3.0060569442,2.22585435463656,1.1684896084304,0.645797152459432,0,0,0,0,0,0,0,9.0242363851094,73.5845752774908,131.568323368949,102.901765996128,31.5720673386864,10.4919784274759,5.93232209839082,2.76086730420975,2.53071496901096,3.65524824521368,4.20414135151566,3.31237010749658,2.37737449957308,0.591637033262669,1.99633014995808,0.368278749898292,0,0,0,0,0,0,1.47480733994204,4.49734613130632,39.3363628245497,219.075210417294,368.713466452516,222.821063086514,64.7500542688755,15.8637364190794,5.75458095368273,6.14107245368742,3.21264157706386,1.43834855368935,0.243840404891995,0.999017367010642,0.800364884751792,0.405966574377645,0,0,0,0,0,0,0.355496769160859,0.35852670601149,6.55677102533936,30.417301915933,150.975283611104,508.287370472675,720.078452066432,390.888503037986,81.7899148505858,18.1878415392667,7.11161516575986,3.48639851967739,0.678850920240109,1.52775459587918,0,0,0,0,0,0,0,0,0,0,1.46910894342399,6.68810603525666,24.4535765868167,71.3016177087067,259.920416854064,859.60163054991,1103.48358894741,403.015156638724,72.0989829725014,12.0964734860447,3.19062221607617,0.579543172149354,0.953665053465603,0.32301680401714,0,0,0,0,0,0,0,0,0,1.60716211684579,4.02014597502111,9.51841391172567,36.825266179666,91.6036716751244,364.004368046263,1179.48550099943,1283.06137040507,389.937011812417,41.7289933557192,5.7550044286446,1.41473730943376,0,0,0,0,0,0,0,0,0,0.431608120048688,0.363454963529756,0.629298571348483,1.63885952783929,5.0169457454697,11.6935345728755,27.6637494248396,88.7517251910854,361.268774581289,1112.57983273251,964.041815741393,207.138495611098,9.31733198786375,0.340486049029683,0,0,0,0,0,0,0,0,0,0,0,0.967265735065088,0.650421557495628,2.403002576979,6.18107117554479,10.6600865225273,20.0948542252986,56.0198726643224,226.033167437141,638.078840338432,356.380901526029,24.8888594530792,0,0,0,0,0,0,0,0,0,0,0,0.333725442607607,1.09480842590663,0.868326353518305,0.780297536789785,2.06072151954903,2.97156980565905,5.32734196456877,6.69700100887588,8.82933143066731,25.5763291169889,41.7156192143668,0.56729497118544,0,0,0,0,0,0,0,0,0,0,0,0,0,0,0,0,0,0,0,0,0,0,0]},{\"_typename\":\"TPaveText\",\"fUniqueID\":0,\"fBits\":50331657,\"fLineColor\":1,\"fLineStyle\":1,\"fLineWidth\":1,\"fFillColor\":0,\"fFillStyle\":0,\"fX1\":0.0499999947845933,\"fY1\":0.811907525434525,\"fX2\":0.750000005215407,\"fY2\":0.895000012144447,\"fX1NDC\":0.15,\"fY1NDC\":0.911907519296625,\"fX2NDC\":0.85,\"fY2NDC\":0.995000004768372,\"fBorderSize\":0,\"fInit\":1,\"fShadowColor\":1,\"fCornerRadius\":0,\"fOption\":\"blNDC\",\"fName\":\"title\",\"fTextAngle\":0,\"fTextSize\":0,\"fTextAlign\":22,\"fTextColor\":1,\"fTextFont\":42,\"fLabel\":\"\",\"fLongest\":42,\"fMargin\":0.05,\"fLines\":{\"_typename\":\"TList\",\"name\":\"TList\",\"arr\":[{\"_typename\":\"TLatex\",\"fUniqueID\":0,\"fBits\":50331648,\"fName\":\"\",\"fTitle\":\"Response Matrix #tau_{1}^{(0.5)} binning 4\",\"fTextAngle\":0,\"fTextSize\":0,\"fTextAlign\":0,\"fTextColor\":0,\"fTextFont\":0,\"fX\":0,\"fY\":0,\"fLineColor\":1,\"fLineStyle\":1,\"fLineWidth\":2,\"fLimitFactorSize\":3,\"fOriginSize\":0.0555221065878868}],\"opt\":[\"\"]}}],\"opt\":[\"\",\"colz\",\"blNDC\"]},\"fExecs\":{\"_typename\":\"TList\",\"name\":\"TList\",\"arr\":[],\"opt\":[]},\"fName\":\"c6_4\",\"fTitle\":\"c6_4\",\"fNumPaletteColor\":0,\"fNextPaletteColor\":0},{\"_typename\":\"TPad\",\"fUniqueID\":0,\"fBits\":50331657,\"fLineColor\":1,\"fLineStyle\":1,\"fLineWidth\":1,\"fFillColor\":0,\"fFillStyle\":1001,\"fLeftMargin\":0.1,\"fRightMargin\":0.1,\"fBottomMargin\":0.1,\"fTopMargin\":0.1,\"fXfile\":2,\"fYfile\":2,\"fAfile\":1,\"fXstat\":0.99,\"fYstat\":0.99,\"fAstat\":2,\"fFrameFillColor\":0,\"fFrameLineColor\":1,\"fFrameFillStyle\":1001,\"fFrameLineStyle\":1,\"fFrameLineWidth\":1,\"fFrameBorderSize\":1,\"fFrameBorderMode\":0,\"fX1\":-0.100000007450581,\"fY1\":-0.100000007450581,\"fX2\":0.900000007450581,\"fY2\":0.900000007450581,\"fXtoAbsPixelk\":448.101385353136,\"fXtoPixelk\":37.4747189537963,\"fXtoPixel\":374.74666161716,\"fYtoAbsPixelk\":651.864048143911,\"fYtoPixelk\":298.944048298585,\"fYtoPixel\":-332.159995359778,\"fUtoAbsPixelk\":410.62671639934,\"fUtoPixelk\":5e-5,\"fUtoPixel\":374.74666720132,\"fVtoAbsPixelk\":685.080050154674,\"fVtoPixelk\":332.160000309348,\"fVtoPixel\":-332.160000309348,\"fAbsPixeltoXk\":-1.19574470235285,\"fPixeltoXk\":-0.100000007450581,\"fPixeltoX\":0.00266846940192785,\"fAbsPixeltoYk\":1.96250002182787,\"fPixeltoYk\":-0.100000007450581,\"fPixeltoY\":-0.00301059734456238,\"fXlowNDC\":0.343333333109816,\"fYlowNDC\":0.00999999977648258,\"fXUpNDC\":0,\"fYUpNDC\":0,\"fWNDC\":0.313333333780368,\"fHNDC\":0.480000000447035,\"fAbsXlowNDC\":0.343333333109816,\"fAbsYlowNDC\":0.00999999977648258,\"fAbsWNDC\":0.313333333780368,\"fAbsHNDC\":0.480000000447035,\"fUxmin\":0,\"fUymin\":0,\"fUxmax\":0.8,\"fUymax\":0.8,\"fTheta\":30,\"fPhi\":30,\"fAspectRatio\":0,\"fNumber\":5,\"fTickx\":0,\"fTicky\":0,\"fLogx\":0,\"fLogy\":0,\"fLogz\":0,\"fPadPaint\":0,\"fCrosshair\":0,\"fCrosshairPos\":0,\"fBorderSize\":2,\"fBorderMode\":0,\"fModified\":false,\"fGridx\":false,\"fGridy\":false,\"fAbsCoord\":false,\"fEditable\":true,\"fFixedAspectRatio\":false,\"fPrimitives\":{\"_typename\":\"TList\",\"name\":\"TList\",\"arr\":[{\"_typename\":\"TFrame\",\"fUniqueID\":0,\"fBits\":50331656,\"fLineColor\":1,\"fLineStyle\":1,\"fLineWidth\":1,\"fFillColor\":0,\"fFillStyle\":1001,\"fX1\":0,\"fY1\":0,\"fX2\":0.8,\"fY2\":0.8,\"fBorderSize\":1,\"fBorderMode\":0},{\"_typename\":\"TH2D\",\"fUniqueID\":0,\"fBits\":50332168,\"fName\":\"response\",\"fTitle\":\"Response Matrix #tau_{1}^{(0.5)} binning 5\",\"fLineColor\":602,\"fLineStyle\":1,\"fLineWidth\":1,\"fFillColor\":0,\"fFillStyle\":1001,\"fMarkerColor\":1,\"fMarkerStyle\":1,\"fMarkerSize\":1,\"fNcells\":364,\"fXaxis\":{\"_typename\":\"TAxis\",\"fUniqueID\":0,\"fBits\":50331648,\"fName\":\"xaxis\",\"fTitle\":\"#tau_{1}^{(0.5)}(det_sig)\",\"fNdivisions\":510,\"fAxisColor\":1,\"fLabelColor\":1,\"fLabelFont\":42,\"fLabelOffset\":0.005,\"fLabelSize\":0.035,\"fTickLength\":0.03,\"fTitleOffset\":1,\"fTitleSize\":0.035,\"fTitleColor\":1,\"fTitleFont\":42,\"fNbins\":24,\"fXmin\":0,\"fXmax\":0.8,\"fXbins\":[0,0.145,0.25,0.2725,0.295,0.3175,0.34,0.3625,0.385,0.4075,0.43,0.4525,0.475,0.4975,0.52,0.5425,0.565,0.5875,0.61,0.6325,0.655,0.6775,0.7,0.75,0.8],\"fFirst\":0,\"fLast\":0,\"fBits2\":0,\"fTimeDisplay\":false,\"fTimeFormat\":\"\",\"fLabels\":null,\"fModLabs\":null},\"fYaxis\":{\"_typename\":\"TAxis\",\"fUniqueID\":0,\"fBits\":50331648,\"fName\":\"yaxis\",\"fTitle\":\"#tau_{1}^{(0.5)}(gen_sig)\",\"fNdivisions\":510,\"fAxisColor\":1,\"fLabelColor\":1,\"fLabelFont\":42,\"fLabelOffset\":0.005,\"fLabelSize\":0.035,\"fTickLength\":0.03,\"fTitleOffset\":0,\"fTitleSize\":0.035,\"fTitleColor\":1,\"fTitleFont\":42,\"fNbins\":12,\"fXmin\":0,\"fXmax\":0.8,\"fXbins\":[0,0.25,0.295,0.34,0.385,0.43,0.475,0.52,0.565,0.61,0.655,0.7,0.8],\"fFirst\":0,\"fLast\":0,\"fBits2\":0,\"fTimeDisplay\":false,\"fTimeFormat\":\"\",\"fLabels\":null,\"fModLabs\":null},\"fZaxis\":{\"_typename\":\"TAxis\",\"fUniqueID\":0,\"fBits\":50331648,\"fName\":\"zaxis\",\"fTitle\":\"\",\"fNdivisions\":510,\"fAxisColor\":1,\"fLabelColor\":1,\"fLabelFont\":42,\"fLabelOffset\":0.005,\"fLabelSize\":0.035,\"fTickLength\":0.03,\"fTitleOffset\":1,\"fTitleSize\":0.035,\"fTitleColor\":1,\"fTitleFont\":42,\"fNbins\":1,\"fXmin\":0,\"fXmax\":1,\"fXbins\":[],\"fFirst\":0,\"fLast\":0,\"fBits2\":0,\"fTimeDisplay\":false,\"fTimeFormat\":\"\",\"fLabels\":null,\"fModLabs\":null},\"fBarOffset\":0,\"fBarWidth\":1000,\"fEntries\":43107,\"fTsumw\":13901.1376293109,\"fTsumw2\":4887.05421222413,\"fTsumwx\":7458.70529492438,\"fTsumwx2\":4099.83429261437,\"fMaximum\":-1111,\"fMinimum\":-1111,\"fNormFactor\":0,\"fContour\":[0,46.6897491360931,93.3794982721862,140.069247408279,186.758996544372,233.448745680465,280.138494816558,326.828243952652,373.517993088745,420.207742224838,466.897491360931,513.587240497024,560.276989633117,606.96673876921,653.656487905303,700.346237041396,747.035986177489,793.725735313582,840.415484449675,887.105233585768],\"fSumw2\":[0,0,0,0,0,0,0,0,0,0,0,0,0,0,0,0,0,0,0,0,0,0,0,0,0,0,0,0,0.905746479287124,1.68648579050316,0.723486015601711,0.110036981407847,0.329469863828713,0,0.148101934268505,0.735326669384334,0.588912914650671,0.944458233296075,0.79812715750512,1.74457863210696,1.01961956585981,0.82178009443443,1.10809331760432,1.0347204219745,1.25216164832905,1.68865969442235,1.30206004212486,1.32649410956035,1.70842177023099,0.781144907338629,0,0,0,0,0.048099411054642,1.63889266622198,7.9689526767179,6.7309412553581,3.1420293776306,1.08649567909921,0.914594072959076,0.240522033962022,1.00671769199802,0.648059060195067,0.920199589041316,1.11793369357953,0.463179819115802,1.15479939152725,0.718335903906379,0.59002189976184,0.641649014242147,0.379000392257973,0.695514342802665,0.117764065568487,0.126542149981418,0,0,0,0,0,0,0.296115205352746,2.25847065955432,12.1340230428179,22.2798975103885,18.4544063724133,8.52527915635379,3.46492940672817,1.3153746559661,1.75088465877498,0.887910751056921,0.794484220783047,0.104931777780937,1.02405225642459,0.704267620746515,1.00169833994475,0.689213019676555,0.231162560910702,0.107458606032849,0.296227545832682,0.556813484144471,0,0,0,0,0,0,0,0.252429089591793,0.921941970432538,9.93213986693412,29.4442908561196,57.681715412023,43.2289153354232,17.9676335507816,6.96623977104021,1.95833965316834,1.58344296943135,0.852673416713036,0.819462061613409,0.987216162931289,0.347637873075383,0.825210162181949,0.686845250476302,0.120136543530569,0.0774375010837696,0.197993681147475,0.300438097138569,0,0,0,0,0,0,0,0.132488047213465,0.873685783697485,5.09862789768002,25.1809094389564,76.1245130265778,115.641754261113,76.3874098217968,25.05208724402,8.22099400597405,3.25027570760153,1.08994465498652,1.73651845738574,0.714771654815932,0,0.343366146322834,1.41228042724835e-5,0.337387618376871,0,0,0,0,0,0,0,0,0.126377952883809,0,0.356639317170325,1.15564597774486,3.45420358045207,14.223547583265,49.104350608755,137.320336423835,192.143826761853,120.6046619991,34.2031514171601,8.86425235709792,3.86735118462835,1.91320194484101,0.63310073304596,0.54859327323276,0.432703638507657,0.298814699623421,0,0,0,0,0,0,0,0,0,0,0,0.543992787901813,1.14562666382179,4.68766707450759,10.0342340228718,26.846634974957,75.8042765236632,211.133848248796,267.869987488322,129.508515492179,32.0234174667117,7.06112431243989,1.45224507719164,1.13674129302268,0.255240750074983,0.116129515245471,0.109650522097317,0.104339855677448,0,0,0,0,0,0,0,0,0,0,0.653724013391702,1.22016658387467,2.43397807589197,4.63996205903585,13.2968914873181,33.6551043612974,100.450774806232,280.704000434511,329.183204292286,142.043093221748,30.4079402701927,4.63418361581325,1.01592230218698,0.680104959357327,0,0,0,0,0,0,0,0,0,0,0,0,0,0.245521556862751,0.191784369493294,1.13930991699675,4.189925116622,4.85328704324849,16.4131390873726,38.6095482444316,116.511236232931,303.272177814871,302.090601832816,109.466495091019,13.3489337695951,2.43498306976104,0.767224205844861,0,0,0,0,0,0,0,0,0,0,0.186285569291962,0.132099510514416,0,0.538890049292625,0.417841059455649,0.371113330562838,2.32754312658765,2.41427589285998,4.29206291380407,11.0457087652591,28.0240451608299,102.92680690304,255.543931835732,220.479664927682,52.4526086393758,3.64645893934482,0.229197194525097,0,0,0,0,0,0,0,0,0,0,0,0,0,0.216517063722475,0.211616145026551,0.24467656063853,1.16915920221259,1.55653556304631,1.87347575837634,4.20628540036287,7.23944788106698,15.5999455984254,58.139319664386,144.523060426481,83.3771070019806,8.97369264389865,0,0,0,0,0,0,0,0,0,0,0,0,0,0.111372671043643,0.404489631415487,0.179407248105679,0.291881139548949,0.301889334439727,0.555700420739527,0.920219345952683,1.31939493569908,1.49764745560979,1.54342777467525,3.02581629265883,8.74389811603006,14.6744332980558,0.164994078134965,0,0,0,0,0,0,0,0,0,0,0,0,0,0,0,0,0,0,0,0,0,0,0,0,0,0,0],\"fOption\":\"\",\"fFunctions\":{\"_typename\":\"TList\",\"name\":\"TList\",\"arr\":[{\"_typename\":\"TPaletteAxis\",\"fUniqueID\":0,\"fBits\":50331648,\"fLineColor\":1,\"fLineStyle\":1,\"fLineWidth\":1,\"fFillColor\":1178,\"fFillStyle\":1001,\"fX1\":0.805000000074506,\"fY1\":0,\"fX2\":0.850000000745058,\"fY2\":0.8,\"fX1NDC\":0.904999994039535,\"fY1NDC\":0.100000005960465,\"fX2NDC\":0.949999994039535,\"fY2NDC\":0.899999994039535,\"fBorderSize\":4,\"fInit\":1,\"fShadowColor\":1,\"fCornerRadius\":0,\"fOption\":\"br\",\"fName\":\"TPave\",\"fAxis\":{\"_typename\":\"TGaxis\",\"fUniqueID\":0,\"fBits\":50331648,\"fLineColor\":1,\"fLineStyle\":1,\"fLineWidth\":1,\"fX1\":0,\"fY1\":0,\"fX2\":0,\"fY2\":0,\"fTextAngle\":0,\"fTextSize\":0.04,\"fTextAlign\":11,\"fTextColor\":1,\"fTextFont\":42,\"fWmin\":0,\"fWmax\":0,\"fGridLength\":0,\"fTickSize\":0.03,\"fLabelOffset\":0.005,\"fLabelSize\":0.035,\"fTitleOffset\":1,\"fTitleSize\":0.035,\"fNdiv\":0,\"fLabelColor\":1,\"fLabelFont\":42,\"fNModLabs\":0,\"fChopt\":\"\",\"fName\":\"\",\"fTitle\":\"\",\"fTimeFormat\":\"\",\"fFunctionName\":\"\",\"fModLabs\":null},\"fName\":\"palette\"}],\"opt\":[\"br\"]},\"fBufferSize\":0,\"fBuffer\":[],\"fBinStatErrOpt\":0,\"fStatOverflows\":2,\"fScalefactor\":1,\"fTsumwy\":7422.40311817973,\"fTsumwy2\":4077.05662669575,\"fTsumwxy\":4077.02844597261,\"fArray\":[0,0,0,0,0,0,0,0,0,0,0,0,0,0,0,0,0,0,0,0,0,0,0,0,0,0,0,0,2.36728656471083,4.83407785014884,2.0741249960246,0.331718225920504,1.07602667555847,0,0.525180074548862,2.25251463395951,1.86267268372659,2.70950881679478,2.29349998715088,4.7204264184057,2.84012818382713,2.58305223614001,3.21588391294143,2.77531929004186,3.57734435096826,4.83825693957213,3.49955304138915,3.50243958624911,4.99244015116214,2.0339071804806,0,0,0,0,0.27978626456034,4.05560506419227,22.5468325018222,18.5337524845966,8.76234817607398,2.92798070798053,2.31773955220835,0.680547152606421,2.41463715998012,1.96997100643846,2.83678569744354,2.93950663530198,1.3577348304013,3.19709839106992,2.15987386213851,1.74038521688545,2.06418373735224,1.2131661202538,1.83801014974097,0.343167693072187,0.355727634548425,0,0,0,0,0,0,0.936106693526903,6.20586894343726,33.8305169481043,62.5936518444918,52.9638587513348,23.6687030188245,9.44315300615454,3.98328246157151,5.09544119272766,2.2926069787703,2.17523138286964,0.333361719416293,3.10932162794162,1.40854346337314,2.81017084980808,2.02391162272863,0.679943028035215,0.32780879492907,0.942309685492984,1.65745107150459,0,0,0,0,0,0,0,0.702801966880543,2.66144530278905,27.9157459974324,84.4089865021011,162.195156919457,121.107647938592,51.9116007435622,20.0764505814606,5.92506793588704,4.67239258903945,2.38629554887161,2.45869737204602,2.89384659414042,1.16486553461217,2.51390974035699,2.14384973165794,0.346607189092449,0.278275944134181,0.444964808886585,0.774245324275938,0,0,0,0,0,0,0,0.376382119112413,2.72181426915435,15.0658208132417,71.8091283007018,217.344817848133,329.278812872323,217.342408926784,71.5587003994812,23.3244684656161,9.51959402406146,3.26317410374912,4.88986779586038,2.35283833812849,0,0.997337854640722,0.00375803196799648,1.0040522218154,0,0,0,0,0,0,0,0,0.355496769160859,0,1.03193284413699,3.40715557168424,10.8155348035887,40.1990797838901,140.758110547128,392.789045226163,542.703879273562,339.331747183014,97.0085706311726,25.4117839644524,10.5614284547923,5.49276364180304,1.78167741630737,1.63670791781033,1.13202701267397,0.769637689155215,0,0,0,0,0,0,0,0,0,0,0,1.46910894342399,3.16155965364974,13.5331112993987,28.6168318716292,76.8475391553989,214.693736738526,604.87468806532,763.1648886449,372.522105027186,91.7460120350779,21.0889231300933,4.46559161151062,3.21996371999177,0.866837368016824,0.340777809203403,0.331135202141538,0.32301680401714,0,0,0,0,0,0,0,0,0,0,1.95592294270834,3.45470076972111,7.2586146130027,13.0207845657162,38.7665863059022,95.7013317504172,284.134091953271,793.174025668364,933.794982721862,402.853036530498,86.960777793651,13.2733190923866,3.02530261882239,1.8503286371657,0,0,0,0,0,0,0,0,0,0,0,0,0,0.700640210231059,0.615446767639032,3.37008259436744,11.7702410011451,13.5036876348879,46.0515839560184,108.654935439736,330.402608930177,858.822066794254,863.292057857702,315.242465687735,38.8479394542912,6.74173716422754,2.13458827138079,0,0,0,0,0,0,0,0,0,0,0.431608120048688,0.363454963529756,0,1.63857517772639,1.28474574504657,1.24011394891479,6.5274149896749,7.25216878406524,12.3786894000106,31.9333773822305,80.7086062108881,292.213498003026,722.686481949671,627.759749362953,150.911942152198,10.6399554216457,0.677036854913807,0,0,0,0,0,0,0,0,0,0,0,0,0,0.657841587101961,0.650421557495628,0.696579820133459,3.19061797915636,4.23418149506483,5.4093429899592,12.2511211716261,19.464813402606,44.863641303446,163.801899118133,412.586513680926,239.724992189913,24.552308647195,0,0,0,0,0,0,0,0,0,0,0,0,0,0.333725442607607,1.09480842590663,0.595537913539676,1.05188943015524,0.950814258064713,1.73856478304962,2.34410883070692,4.11120291789434,4.53872320305781,4.57172983033056,8.25437024927005,24.9539773205481,41.7156192143668,0.56729497118544,0,0,0,0,0,0,0,0,0,0,0,0,0,0,0,0,0,0,0,0,0,0,0,0,0,0,0]},{\"_typename\":\"TPaveText\",\"fUniqueID\":0,\"fBits\":50331657,\"fLineColor\":1,\"fLineStyle\":1,\"fLineWidth\":1,\"fFillColor\":0,\"fFillStyle\":0,\"fX1\":0.0499999947845933,\"fY1\":0.811907525434525,\"fX2\":0.750000005215407,\"fY2\":0.895000012144447,\"fX1NDC\":0.15,\"fY1NDC\":0.911907519296625,\"fX2NDC\":0.85,\"fY2NDC\":0.995000004768372,\"fBorderSize\":0,\"fInit\":1,\"fShadowColor\":1,\"fCornerRadius\":0,\"fOption\":\"blNDC\",\"fName\":\"title\",\"fTextAngle\":0,\"fTextSize\":0,\"fTextAlign\":22,\"fTextColor\":1,\"fTextFont\":42,\"fLabel\":\"\",\"fLongest\":42,\"fMargin\":0.05,\"fLines\":{\"_typename\":\"TList\",\"name\":\"TList\",\"arr\":[{\"_typename\":\"TLatex\",\"fUniqueID\":0,\"fBits\":50331648,\"fName\":\"\",\"fTitle\":\"Response Matrix #tau_{1}^{(0.5)} binning 5\",\"fTextAngle\":0,\"fTextSize\":0,\"fTextAlign\":0,\"fTextColor\":0,\"fTextFont\":0,\"fX\":0,\"fY\":0,\"fLineColor\":1,\"fLineStyle\":1,\"fLineWidth\":2,\"fLimitFactorSize\":3,\"fOriginSize\":0.0555221065878868}],\"opt\":[\"\"]}}],\"opt\":[\"\",\"colz\",\"blNDC\"]},\"fExecs\":{\"_typename\":\"TList\",\"name\":\"TList\",\"arr\":[],\"opt\":[]},\"fName\":\"c6_5\",\"fTitle\":\"c6_5\",\"fNumPaletteColor\":0,\"fNextPaletteColor\":0},{\"_typename\":\"TPad\",\"fUniqueID\":0,\"fBits\":50331657,\"fLineColor\":1,\"fLineStyle\":1,\"fLineWidth\":1,\"fFillColor\":0,\"fFillStyle\":1001,\"fLeftMargin\":0.1,\"fRightMargin\":0.1,\"fBottomMargin\":0.1,\"fTopMargin\":0.1,\"fXfile\":2,\"fYfile\":2,\"fAfile\":1,\"fXstat\":0.99,\"fYstat\":0.99,\"fAstat\":2,\"fFrameFillColor\":0,\"fFrameLineColor\":1,\"fFrameFillStyle\":1001,\"fFrameLineStyle\":1,\"fFrameLineWidth\":1,\"fFrameBorderSize\":1,\"fFrameBorderMode\":0,\"fX1\":-0.100000007450581,\"fY1\":-0.100000007450581,\"fX2\":0.900000007450581,\"fY2\":0.900000007450581,\"fXtoAbsPixelk\":846.768052019803,\"fXtoPixelk\":37.4747189537963,\"fXtoPixel\":374.74666161716,\"fYtoAbsPixelk\":651.864048143911,\"fYtoPixelk\":298.944048298585,\"fYtoPixel\":-332.159995359778,\"fUtoAbsPixelk\":809.293383066006,\"fUtoPixelk\":5e-5,\"fUtoPixel\":374.74666720132,\"fVtoAbsPixelk\":685.080050154674,\"fVtoPixelk\":332.160000309348,\"fVtoPixel\":-332.160000309348,\"fAbsPixeltoXk\":-2.25957450392142,\"fPixeltoXk\":-0.100000007450581,\"fPixeltoX\":0.00266846940192785,\"fAbsPixeltoYk\":1.96250002182787,\"fPixeltoYk\":-0.100000007450581,\"fPixeltoY\":-0.00301059734456238,\"fXlowNDC\":0.676666666443149,\"fYlowNDC\":0.00999999977648258,\"fXUpNDC\":0,\"fYUpNDC\":0,\"fWNDC\":0.313333333780368,\"fHNDC\":0.480000000447035,\"fAbsXlowNDC\":0.676666666443149,\"fAbsYlowNDC\":0.00999999977648258,\"fAbsWNDC\":0.313333333780368,\"fAbsHNDC\":0.480000000447035,\"fUxmin\":0,\"fUymin\":0,\"fUxmax\":0.8,\"fUymax\":0.8,\"fTheta\":30,\"fPhi\":30,\"fAspectRatio\":0,\"fNumber\":6,\"fTickx\":0,\"fTicky\":0,\"fLogx\":0,\"fLogy\":0,\"fLogz\":0,\"fPadPaint\":0,\"fCrosshair\":0,\"fCrosshairPos\":0,\"fBorderSize\":2,\"fBorderMode\":0,\"fModified\":false,\"fGridx\":false,\"fGridy\":false,\"fAbsCoord\":false,\"fEditable\":true,\"fFixedAspectRatio\":false,\"fPrimitives\":{\"_typename\":\"TList\",\"name\":\"TList\",\"arr\":[{\"_typename\":\"TFrame\",\"fUniqueID\":0,\"fBits\":50331656,\"fLineColor\":1,\"fLineStyle\":1,\"fLineWidth\":1,\"fFillColor\":0,\"fFillStyle\":1001,\"fX1\":0,\"fY1\":0,\"fX2\":0.8,\"fY2\":0.8,\"fBorderSize\":1,\"fBorderMode\":0},{\"_typename\":\"TH2D\",\"fUniqueID\":0,\"fBits\":50332168,\"fName\":\"response\",\"fTitle\":\"Response Matrix #tau_{1}^{(0.5)} binning 6\",\"fLineColor\":602,\"fLineStyle\":1,\"fLineWidth\":1,\"fFillColor\":0,\"fFillStyle\":1001,\"fMarkerColor\":1,\"fMarkerStyle\":1,\"fMarkerSize\":1,\"fNcells\":760,\"fXaxis\":{\"_typename\":\"TAxis\",\"fUniqueID\":0,\"fBits\":50331648,\"fName\":\"xaxis\",\"fTitle\":\"#tau_{1}^{(0.5)}(det_sig)\",\"fNdivisions\":510,\"fAxisColor\":1,\"fLabelColor\":1,\"fLabelFont\":42,\"fLabelOffset\":0.005,\"fLabelSize\":0.035,\"fTickLength\":0.03,\"fTitleOffset\":1,\"fTitleSize\":0.035,\"fTitleColor\":1,\"fTitleFont\":42,\"fNbins\":36,\"fXmin\":0,\"fXmax\":0.8,\"fXbins\":[0,0.145,0.25,0.2640625,0.278125,0.2921875,0.30625,0.3203125,0.334375,0.3484375,0.3625,0.3765625,0.390625,0.4046875,0.41875,0.4328125,0.446875,0.4609375,0.475,0.4890625,0.503125,0.5171875,0.53125,0.5453125,0.559375,0.5734375,0.5875,0.6015625,0.615625,0.6296875,0.64375,0.6578125,0.671875,0.6859375,0.7,0.75,0.8],\"fFirst\":0,\"fLast\":0,\"fBits2\":0,\"fTimeDisplay\":false,\"fTimeFormat\":\"\",\"fLabels\":null,\"fModLabs\":null},\"fYaxis\":{\"_typename\":\"TAxis\",\"fUniqueID\":0,\"fBits\":50331648,\"fName\":\"yaxis\",\"fTitle\":\"#tau_{1}^{(0.5)}(gen_sig)\",\"fNdivisions\":510,\"fAxisColor\":1,\"fLabelColor\":1,\"fLabelFont\":42,\"fLabelOffset\":0.005,\"fLabelSize\":0.035,\"fTickLength\":0.03,\"fTitleOffset\":0,\"fTitleSize\":0.035,\"fTitleColor\":1,\"fTitleFont\":42,\"fNbins\":18,\"fXmin\":0,\"fXmax\":0.8,\"fXbins\":[0,0.25,0.278125,0.30625,0.334375,0.3625,0.390625,0.41875,0.446875,0.475,0.503125,0.53125,0.559375,0.5875,0.615625,0.64375,0.671875,0.7,0.8],\"fFirst\":0,\"fLast\":0,\"fBits2\":0,\"fTimeDisplay\":false,\"fTimeFormat\":\"\",\"fLabels\":null,\"fModLabs\":null},\"fZaxis\":{\"_typename\":\"TAxis\",\"fUniqueID\":0,\"fBits\":50331648,\"fName\":\"zaxis\",\"fTitle\":\"\",\"fNdivisions\":510,\"fAxisColor\":1,\"fLabelColor\":1,\"fLabelFont\":42,\"fLabelOffset\":0.005,\"fLabelSize\":0.035,\"fTickLength\":0.03,\"fTitleOffset\":1,\"fTitleSize\":0.035,\"fTitleColor\":1,\"fTitleFont\":42,\"fNbins\":1,\"fXmin\":0,\"fXmax\":1,\"fXbins\":[],\"fFirst\":0,\"fLast\":0,\"fBits2\":0,\"fTimeDisplay\":false,\"fTimeFormat\":\"\",\"fLabels\":null,\"fModLabs\":null},\"fBarOffset\":0,\"fBarWidth\":1000,\"fEntries\":43107,\"fTsumw\":13901.1376293109,\"fTsumw2\":4887.05421222413,\"fTsumwx\":7458.70529492438,\"fTsumwx2\":4099.83429261437,\"fMaximum\":-1111,\"fMinimum\":-1111,\"fNormFactor\":0,\"fContour\":[0,22.8894952535997,45.7789905071994,68.6684857607991,91.5579810143988,114.447476267998,137.336971521598,160.226466775198,183.115962028798,206.005457282397,228.894952535997,251.784447789597,274.673943043196,297.563438296796,320.452933550396,343.342428803995,366.231924057595,389.121419311195,412.010914564795,434.900409818394],\"fSumw2\":[0,0,0,0,0,0,0,0,0,0,0,0,0,0,0,0,0,0,0,0,0,0,0,0,0,0,0,0,0,0,0,0,0,0,0,0,0,0,0,0,0.905746479287124,1.06439933282054,0.850291708104223,0.384694259886219,0.220623486701737,0,0.106699738938258,0.222770124890456,0,0.111546909996113,0.128635076648603,0.643246617008124,0,0.588912914650671,0.829146440472146,0.654770285940708,0.258668664388341,1.03274167488256,1.06462544277923,0.563988066232536,0.398108653498968,0.746286636068375,0.57743332911273,0.719979434637579,0.625628794768043,0.392734581322667,1.18543028394137,1.24886039140079,0.665390868794623,0.942750208387889,0.527406467928496,1.07320792277919,1.24201654011257,0.781144907338629,0,0,0,0,0.048099411054642,0.581073987857015,1.81022954937507,2.83082477263401,1.79739627123032,0.749140114561899,0.450903353968386,0.53853689732584,0.122288159144479,0,0.23570673292116,0.240522033962022,0.412087221245702,0.114171340432955,0.225367817351283,0.404840155243428,0.189071373584142,0.11768576486704,0.302114051728863,0.328490444993564,0,0.566371158248057,0.278983163378919,0.407856115204351,0,0.334181185085983,0.205624452221024,0.330710254621988,0.165908666625998,0.352694299251286,0,0.126542149981418,0,0,0,0,0,0,0,0.202220337940475,1.14009953665251,3.78269663382521,6.15597555476588,4.59746109904668,3.52654108193567,1.99290304259107,0.74955598678379,0.498205693284149,0.580973595713121,0.428194395900762,0.110707792292127,0.786945452054389,0.355361134399636,0.242402493999724,0.443937092319453,0.830654189712707,0.134689374122239,0,0.835273937669238,0.381590711167797,0,0.377657265692016,0.376829961794404,0.206481620432808,0.191828498203505,0,0.226939580861733,0.116025999268121,0,0,0.084140325221124,0,0,0,0,0,0,0,0,0.463004716458808,2.27802955837654,6.67622236341765,11.2398702155603,8.46919165639264,6.00990670190477,3.65459547332995,1.99896518451035,0.78432826922923,0.876030874265157,0.347326706385427,0.500111535013315,0.345555397135766,0.43808247906297,0.279348374707781,0.202978363499987,0.104847114219818,0.0970188647721687,0.33971326747655,0,0.549222635167844,0.65488611148172,0.262349336121331,0.245429987519283,0,0.107458606032849,0,0.0981951721797925,0.250424841048453,0.314314619602981,0,0,0,0,0,0,0,0,0.0818522828222675,0.224979746407613,1.49261920061727,6.86908922781811,13.0124939907608,18.3696756943738,18.9578906131021,11.5236298412234,5.11605055532543,4.45240558039711,1.59888051158957,1.09108922877679,0.652042742572223,0.570261561458574,0.191365078260447,0.290640542839396,0.349613501753115,0.219525031346852,0.358172857081283,0.529801475339618,0.364809355018046,0.129870826377589,0.309073005443279,0.244969496240795,0.578559442136709,0.122288159144479,0,0.0774375010837696,0.105966071924802,0,0.135629237626649,0,0,0,0,0,0,0,0.252429089591793,0.166655691115256,0.0588804291778864,0.808629920277479,2.6878980077685,7.38720496861209,19.4370989593715,36.4560956555859,25.6040997634336,19.256697705698,9.31710635979776,4.53621721407362,2.51748895119665,1.07944509750819,1.1190748404343,0.619517584415744,0.489093433576725,0.453200569279636,0.166457816310634,0.397826929644968,0,0.140019571309836,0.13203657402857,0.241258250909889,0,0,0.120136543530569,0,0.126309213924995,0.197993681147475,0.16480885951192,0,0,0,0,0,0,0,0,0.132328994909155,1.59052304309635e-4,0.616347843926449,0.723356928888086,2.75339810804763,7.46423645281322,15.2922596438703,35.1658024206802,48.3325232588431,41.372033073388,22.8749226515353,12.1861337108632,7.30273842054453,3.21172020734883,0.556047755687119,0.802134937132332,0.293313584707769,0.662386295087207,0.866222338881366,0.393117899053263,0.434703147267624,0,0.144813317260975,0.0594581430578923,0,1.41228042724835e-5,0.211078404451876,0,0,0,0,0,0,0,0,0,0,0,0,0,0.128541398923449,0.812447269116415,0.521210653864059,3.15370275988968,5.08399181152042,12.9311690301205,27.5910458145273,52.7725357715028,70.5426331215556,54.7767246789669,29.6933419661844,15.9018874026214,6.91228174852764,3.85772070163814,1.08615199170588,0.846648094850027,0.442686342244734,0.304649757444503,0.299670062426747,0.128102273922631,0.378113300746483,0,0.139808767331542,0,0.121425894623948,0,0,0,0,0,0,0,0,0,0,0.126377952883809,0,0,0,0.293765939427358,0.60007722163994,0.713960932525009,1.45205196134586,5.2329095742964,7.05336051180426,18.6682247606727,36.3634884098941,73.2910634864627,96.4194087415433,77.9534185318677,38.2971374594291,16.3048367700677,7.04839790672515,3.13122905231102,2.13175891336635,1.06560061076702,0.940338996874055,0.245256765606381,0.476327451787279,0.092988900219913,0,0.292894871176115,0.177388804999473,0,0,0,0,0,0,0,0,0,0,0,0,0,0,0,0.366610995347892,0.4461860138332,1.43536695025406,2.26916835653797,3.57052759520979,6.76521445856446,11.0111769395945,24.3141892947778,45.5093047503388,95.5724870646699,116.365755758813,83.117838809585,37.1185467875154,16.1431441850016,5.46211998810969,2.08955114536478,1.5570702966033,0.811870628434157,0,0.691407064705791,0.0013904054784789,0,0,0,0.109650522097317,0.104339855677448,0,0,0,0,0,0,0,0,0,0,0,0.177381792553921,0,0.13953689335126,0.37185992200752,0.687253884425239,1.98173570203077,2.07449640838814,5.28059589915713,7.77176097046307,13.8348242482058,29.3178911488937,60.2614940714724,124.438894142581,142.607200921351,84.0044332986346,36.3246449167319,14.5377262711762,6.79678984656566,2.14338898914226,1.19923720705602,0.135069196826007,0.200285696234205,0.168100558193411,0,0.195513728484634,0,0,0,0,0,0,0,0,0,0,0,0,0,0,0,0.118317325434862,0.169990732838431,0.547376808908609,0.310932454569943,1.37409605886284,1.20203868014933,2.98156720718369,5.30035139134643,8.94867513744733,14.2019561538813,29.3672333431618,70.5949198295573,140.395262271315,161.019686170994,98.2414503212152,39.3666166613531,13.9095127577362,5.81040962112904,1.70643790738719,0.968565816871873,0.174646543400786,0.289546171999243,4.67971168554099e-6,0,0,0,0,0,0,0,0,0,0,0,0,0,0,0,0.115930749583844,0.126999644941211,0.252735794681904,0.260984259206628,0.246953479954236,0.408108562377022,2.22331361501292,2.21555552010071,3.52554534901539,5.56395777184095,9.17594642720181,18.7718633821402,36.8666170418381,77.9760889840755,154.55014008145,161.886622974493,83.6582888649194,32.0925011254851,9.88003198754385,2.28350708062751,1.00644297513492,0.59269337312189,0.287464714947395,0.222900307556978,0,0,0,0,0,0,0,0,0,0,0,0,0,0,0.132099510514416,0,0,0,0,0,0.723187009309484,0.541141727343389,1.03189984116442,1.59361052940398,2.98300255381622,4.59380448686211,8.85291066021337,15.0190253621346,30.9017276062339,74.1136279975352,146.664177627778,147.909054847141,75.1618779017966,22.9449207833923,6.03773905643474,2.07512801965299,0.446575851893716,0.364942730379828,0,0,0,0,0,0,0,0,0,0,0,0,0,0.186285569291962,0,0,0,0.198187952344566,0.244958793605352,0.298305827634752,0.119535231820897,0.318036460926381,0.909392186989072,0.6250027241377,0.756216381807358,1.02762334317708,3.29589445789058,4.42386525003159,6.21642543320341,14.2358597234403,30.8226453489473,65.3668969453481,123.373850639815,117.978646974426,51.8795198577801,12.0543104449785,2.10882220148551,0.35075921833418,0.115930749583844,0,0,0,0,0,0,0,0,0,0,0,0,0,0,0,0,0,0.0957433033427075,0.216517063722475,0,0.110220496094908,0.281197765604703,0.261564553296915,1.00759651393791,0.705814219785304,1.18092138095783,1.40575177791448,1.35962030747103,3.43634799431173,5.17932402495072,11.0906637671278,23.1699831229094,49.3264698371414,100.187491241664,81.6967985518032,30.0899815042448,4.96388146506168,0.548344103238771,0,0,0,0,0,0,0,0,0,0,0,0,0,0,0,0,0,0,0,0.101395648931643,0,0.0999562822138791,0.137666980112766,0.0773123952232116,0.422374278935199,0.898756204215464,0.283894053118639,0.893142736448447,1.24625035571662,0.842891879823862,2.9047445939886,2.47029474627788,4.62030750972686,11.5299094446582,30.984712485716,52.8990640974219,35.809493445407,8.53861498560113,0,0,0,0,0,0,0,0,0,0,0,0,0,0,0,0,0,0,0.111372671043643,0.11852191192154,0.285967719493947,0.179407248105679,0.0744135329859744,0.217467606562974,1.43172379750806e-6,0.387512712164338,0.262465667629413,0.828101260431624,0.299728029182764,0.67528811906073,1.03805101232549,0.987372682325864,1.27610200045054,0.485141182674096,2.75184235338248,2.01772914843541,6.8986580760184,14.6744332980558,0.164994078134965,0,0,0,0,0,0,0,0,0,0,0,0,0,0,0,0,0,0,0,0,0,0,0,0,0,0,0,0,0,0,0,0,0,0,0,0,0,0,0],\"fOption\":\"\",\"fFunctions\":{\"_typename\":\"TList\",\"name\":\"TList\",\"arr\":[{\"_typename\":\"TPaletteAxis\",\"fUniqueID\":0,\"fBits\":50331648,\"fLineColor\":1,\"fLineStyle\":1,\"fLineWidth\":1,\"fFillColor\":1178,\"fFillStyle\":1001,\"fX1\":0.805000000074506,\"fY1\":0,\"fX2\":0.850000000745058,\"fY2\":0.8,\"fX1NDC\":0.904999994039535,\"fY1NDC\":0.100000005960465,\"fX2NDC\":0.949999994039535,\"fY2NDC\":0.899999994039535,\"fBorderSize\":4,\"fInit\":1,\"fShadowColor\":1,\"fCornerRadius\":0,\"fOption\":\"br\",\"fName\":\"TPave\",\"fAxis\":{\"_typename\":\"TGaxis\",\"fUniqueID\":0,\"fBits\":50331648,\"fLineColor\":1,\"fLineStyle\":1,\"fLineWidth\":1,\"fX1\":0,\"fY1\":0,\"fX2\":0,\"fY2\":0,\"fTextAngle\":0,\"fTextSize\":0.04,\"fTextAlign\":11,\"fTextColor\":1,\"fTextFont\":42,\"fWmin\":0,\"fWmax\":0,\"fGridLength\":0,\"fTickSize\":0.03,\"fLabelOffset\":0.005,\"fLabelSize\":0.035,\"fTitleOffset\":1,\"fTitleSize\":0.035,\"fNdiv\":0,\"fLabelColor\":1,\"fLabelFont\":42,\"fNModLabs\":0,\"fChopt\":\"\",\"fName\":\"\",\"fTitle\":\"\",\"fTimeFormat\":\"\",\"fFunctionName\":\"\",\"fModLabs\":null},\"fName\":\"palette\"}],\"opt\":[\"br\"]},\"fBufferSize\":0,\"fBuffer\":[],\"fBinStatErrOpt\":0,\"fStatOverflows\":2,\"fScalefactor\":1,\"fTsumwy\":7422.40311817973,\"fTsumwy2\":4077.05662669575,\"fTsumwxy\":4077.02844597261,\"fArray\":[0,0,0,0,0,0,0,0,0,0,0,0,0,0,0,0,0,0,0,0,0,0,0,0,0,0,0,0,0,0,0,0,0,0,0,0,0,0,0,0,2.36728656471083,3.08062904464837,2.42810394011338,1.06692436784144,0.664263719490768,0,0.326649259815873,0.749377415742593,0,0.333986391932535,0.494640634118909,1.94906768245693,0,1.86267268372659,2.36993291537666,1.79735561031952,0.83572027824948,3.03881899692741,2.70893536786647,1.4921087750137,1.28614772366713,2.27989613643881,1.76615041379434,1.83106140394241,1.73169122370586,1.08231281703914,3.48356012354262,3.51239159523633,1.96748992963405,2.30790294397068,1.51295388809007,2.91402512650472,3.62939764532318,2.0339071804806,0,0,0,0,0.27978626456034,1.27190953825864,4.8790292788929,7.92797091642823,4.90450251593507,2.12143405370324,1.49976198735211,1.45356369289582,0.349697239257731,0,0.485496377866159,0.680547152606421,0.907016854880926,0.337892498337792,0.671362108406218,1.26473255887971,0.596181562986547,0.343053588914386,0.768659372566869,0.990734320698333,0,1.66479572717124,0.744329104745181,1.19232665232467,0,0.988566664445494,0.756487981573565,0.993415949295989,0.562705749699446,0.827863715010473,0,0.355727634548425,0,0,0,0,0,0,0,0.629683999503971,2.98968024218207,10.8996272230738,16.3656886143985,12.7704649795069,9.45689382933994,5.44500297969638,2.28274735297015,1.41384685375876,1.51863295562008,1.12364552301274,0.332727805108211,2.12761814612145,1.02980199407924,0.693599161372799,1.31887162237861,2.1918270688947,0.367000509702968,0,2.21717322354296,1.05604234994657,0,1.21484159817039,1.11190083682496,0.642607442228053,0.618394855952888,0,0.669732655641126,0.340625893419923,0,0,0.290069517911007,0,0,0,0,0,0,0,0,1.15881836220559,6.90855419529568,19.058425864965,31.8180635279371,24.4425096776167,17.3201223351707,10.7659859011874,5.49418975418214,2.11701597479045,2.49739473357917,1.00097403874718,1.57489646349409,1.01736319719245,1.13538816979681,0.751478488745249,0.636249795045516,0.323801041103666,0.424740906653549,1.00608609035212,0,1.01346462579511,1.79468781066158,0.72309588809191,0.698107746620773,0,0.32780879492907,0,0.313361089128488,0.701367177735032,0.969438669098377,0,0,0,0,0,0,0,0,0.286098379621884,0.670765447986249,4.17818666803492,18.5298992165537,37.626028244003,52.1796631121585,53.794414387675,32.8471759530835,14.9471921159071,12.0104645144097,4.70763547435377,3.20847245088082,2.12732323129507,1.65224750010649,0.616131123049989,0.757007897369001,1.01854125057969,0.763631770674063,1.18581487751872,1.46334727734283,1.03561296361716,0.360375951441809,1.07815975725186,0.813006715532037,1.69986846538628,0.349697239257731,0,0.278275944134181,0.325524303124671,0,0.368278749898292,0,0,0,0,0,0,0,0.702801966880543,0.408234847992251,0.242652898556532,2.34570386858954,7.6698108787461,21.3975073011191,53.9745223278591,99.5526002322948,74.48068592132,55.8921563382536,27.1295806487913,13.1119658601063,6.34588109489745,3.16786711863365,3.31506089926346,1.77505679139229,1.34703312136705,1.16261533731276,0.567183352089946,1.33107667424269,0,0.525657240376419,0.363368372355892,0.694436731434534,0,0,0.346607189092449,0,0.355400075865207,0.444964808886585,0.405966574377645,0,0,0,0,0,0,0,0,0.363770525069246,0.0126115940431666,1.89637777011708,2.34679678969719,7.92224785498728,21.1911674405013,44.3569204166385,99.2499231008969,139.090701092046,116.618669970799,65.9608466068175,34.764086251718,20.4722198036264,8.7999106472321,1.9737080811915,2.30728344189742,0.937649053105501,1.97890316484741,2.26390926250738,1.37142983042817,1.31555450625927,0,0.380543449898924,0.243840404891995,0,0.00375803196799648,0.648652145950196,0,0,0,0,0,0,0,0,0,0,0,0,0,0.35852670601149,2.53484083381369,1.55891739795885,8.84977153804302,14.9740462939108,36.465341664059,79.6775797515567,149.8432807808,201.14971018461,156.532102659399,85.1534499125989,45.965668007904,19.8297187630892,11.1467617928394,3.46667945925719,2.42560982972853,1.20202788446358,1.06959124770624,0.76293978801855,0.357913780012213,1.06419495551546,0,0.373910105950003,0,0.348462185357247,0,0,0,0,0,0,0,0,0,0,0.355496769160859,0,0,0,0.754785300829143,1.70822749273768,2.06322064917538,4.5302634348038,14.3222201037515,20.5101420917367,53.3123144760768,103.982065031188,207.059641249202,271.333258245231,217.672675790505,107.420440476488,46.3423463639733,20.8341272345158,8.46751917029475,6.0926846547798,2.48004040367458,2.79904372636049,0.703156094786829,1.36113368936289,0.304940814290106,0,0.758116906723967,0.421175503797968,0,0,0,0,0,0,0,0,0,0,0,0,0,0,0,1.04794176455802,1.3282076614989,4.14299444628054,6.61028848317434,10.0590776228465,18.8428305374586,31.7128529688584,70.4437596609504,128.961180695419,274.915462735476,334.302329084125,237.452679307404,106.069960585908,46.8731667054987,14.9739970707761,6.43113396191494,4.41827457097707,2.51831200091369,0,2.03246490182608,0.0372881412580314,0,0,0,0.331135202141538,0.32301680401714,0,0,0,0,0,0,0,0,0,0,0,0.421167178865971,0,0.373546373762697,0.843357553714523,2.01347377408639,5.7707367067094,5.98747207700956,14.7584621253802,21.0003052932882,39.5151712044066,83.883904459484,166.499934270825,353.424046774617,406.536902279477,237.264838014726,103.903154847722,41.6450943869297,19.6044800526797,5.96899182884846,3.6091696562826,0.367517614307133,0.753351558684926,0.579543172149354,0,0.622529851324065,0,0,0,0,0,0,0,0,0,0,0,0,0,0,0,0.343972855665766,0.566333116686073,1.62150129282118,0.965690024493069,4.02914206036876,3.27434207140233,8.75928170380824,15.5677939280904,25.819501859464,41.1515521627814,83.607951063227,199.717129422678,399.130609224011,457.789905071994,278.486411338895,111.177735900071,39.8517182991714,16.0067560772138,4.73936394972707,2.77933224226097,0.588867485564892,0.803667439962852,0.00216326412754915,0,0,0,0,0,0,0,0,0,0,0,0,0,0,0,0.340486049029683,0.356370095464267,0.710622244227457,0.7223324134794,0.850327823624698,1.36460195632988,6.58255798076678,5.91563256700049,9.50483847571716,15.1277791771618,26.6300387965959,54.0492487637621,103.355196689867,219.209790013558,439.075913891152,454.32130927495,242.447761404801,91.6307760312307,27.3201553356823,6.89014182804885,2.83207909011672,1.53039041300014,0.745038233428797,0.667535811877411,0,0,0,0,0,0,0,0,0,0,0,0,0,0,0.363454963529756,0,0,0,0,0,1.89199464144245,1.76948265784572,3.01737311845568,4.09305890311995,8.56085274092519,13.7464330644499,24.8246316975014,42.2074902966532,89.8082069150978,212.198750175053,416.699998686228,421.134422889777,217.698367960996,64.6915490066149,18.1712901723874,6.02430318074817,1.32984201705307,1.03194503120095,0,0,0,0,0,0,0,0,0,0,0,0,0,0.431608120048688,0,0,0,0.629298571348483,0.69985245841478,0.93900706942451,0.345738675622062,1.00972977055946,2.64577754153058,1.93732500976932,2.11134234624795,3.24512127321653,9.25762001327788,12.4619831836529,18.192531101672,41.0692863894666,86.9233818916442,187.822029264865,346.881302979323,334.770595794459,147.911817525945,35.0310847320173,6.12816752194089,0.827377417668849,0.340486049029683,0,0,0,0,0,0,0,0,0,0,0,0,0,0,0,0,0,0.309424147963128,0.657841587101961,0,0.331994722992563,0.749849781071739,0.965959149359141,2.82506547048517,1.99095577166274,3.41356798305869,4.06958515460245,3.7558242530758,9.75447704821788,14.364139093421,31.3332072462141,65.7660629050822,139.755999529463,282.765020410092,232.291644363139,87.6988330072226,14.1538743332628,1.47860302462487,0,0,0,0,0,0,0,0,0,0,0,0,0,0,0,0,0,0,0,0.318426834503065,0,0.316158634571126,0.371035011976991,0.278051065855198,1.08699886754169,2.27580565587358,0.90112772899257,2.63647297217137,3.94807995183357,2.19225738982085,8.13026893486643,7.19417353044461,13.3169314721515,33.3521405426004,89.6700350225996,152.333046181198,102.195148004347,23.4102564284543,0,0,0,0,0,0,0,0,0,0,0,0,0,0,0,0,0,0,0.333725442607607,0.344270114766792,0.750538311139837,0.595537913539676,0.27278843997863,0.779100990176607,0.00119654661317813,1.24223488362092,0.818486635928111,2.19774324424263,0.77382656141642,1.9947892603133,3.33255270425548,2.98151146970679,3.71548953916909,1.51587981674726,7.31345161392004,5.82972044057042,19.7466086764185,41.7156192143668,0.56729497118544,0,0,0,0,0,0,0,0,0,0,0,0,0,0,0,0,0,0,0,0,0,0,0,0,0,0,0,0,0,0,0,0,0,0,0,0,0,0,0]},{\"_typename\":\"TPaveText\",\"fUniqueID\":0,\"fBits\":50331657,\"fLineColor\":1,\"fLineStyle\":1,\"fLineWidth\":1,\"fFillColor\":0,\"fFillStyle\":0,\"fX1\":0.0499999947845933,\"fY1\":0.811907525434525,\"fX2\":0.750000005215407,\"fY2\":0.895000012144447,\"fX1NDC\":0.15,\"fY1NDC\":0.911907519296625,\"fX2NDC\":0.85,\"fY2NDC\":0.995000004768372,\"fBorderSize\":0,\"fInit\":1,\"fShadowColor\":1,\"fCornerRadius\":0,\"fOption\":\"blNDC\",\"fName\":\"title\",\"fTextAngle\":0,\"fTextSize\":0,\"fTextAlign\":22,\"fTextColor\":1,\"fTextFont\":42,\"fLabel\":\"\",\"fLongest\":42,\"fMargin\":0.05,\"fLines\":{\"_typename\":\"TList\",\"name\":\"TList\",\"arr\":[{\"_typename\":\"TLatex\",\"fUniqueID\":0,\"fBits\":50331648,\"fName\":\"\",\"fTitle\":\"Response Matrix #tau_{1}^{(0.5)} binning 6\",\"fTextAngle\":0,\"fTextSize\":0,\"fTextAlign\":0,\"fTextColor\":0,\"fTextFont\":0,\"fX\":0,\"fY\":0,\"fLineColor\":1,\"fLineStyle\":1,\"fLineWidth\":2,\"fLimitFactorSize\":3,\"fOriginSize\":0.0555221065878868}],\"opt\":[\"\"]}}],\"opt\":[\"\",\"colz\",\"blNDC\"]},\"fExecs\":{\"_typename\":\"TList\",\"name\":\"TList\",\"arr\":[],\"opt\":[]},\"fName\":\"c6_6\",\"fTitle\":\"c6_6\",\"fNumPaletteColor\":0,\"fNextPaletteColor\":0}],\"opt\":[\"\",\"\",\"\",\"\",\"\",\"\"]},\"fExecs\":null,\"fName\":\"c6\",\"fTitle\":\"c6\",\"fNumPaletteColor\":0,\"fNextPaletteColor\":0,\"fDISPLAY\":\"$DISPLAY\",\"fDoubleBuffer\":0,\"fRetained\":true,\"fXsizeUser\":0,\"fYsizeUser\":0,\"fXsizeReal\":20,\"fYsizeReal\":12,\"fWindowTopX\":0,\"fWindowTopY\":0,\"fWindowWidth\":0,\"fWindowHeight\":0,\"fCw\":1196,\"fCh\":692,\"fCatt\":{\"_typename\":\"TAttCanvas\",\"fXBetween\":2,\"fYBetween\":2,\"fTitleFromTop\":1.2,\"fXdate\":0.2,\"fYdate\":0.3,\"fAdate\":1},\"kMoveOpaque\":true,\"kResizeOpaque\":true,\"fHighLightColor\":2,\"fBatch\":true,\"kShowEventStatus\":false,\"kAutoExec\":true,\"kMenuBar\":true});\n",
       "       Core.draw(\"root_plot_2\", obj, \"\");\n",
       "     }\n",
       " );\n",
       "</script>\n"
      ],
      "text/plain": [
       "<IPython.core.display.HTML object>"
      ]
     },
     "metadata": {},
     "output_type": "display_data"
    }
   ],
   "source": [
    "c6 = ROOT.TCanvas('c6', 'c6',1200, 720)\n",
    "c6.Divide(3,2)\n",
    "for i in xrange(len(h_responses)):\n",
    "    c6.cd(i+1)\n",
    "    h_responses[i].Draw(\"colz\")\n",
    "    \n",
    "c6.Draw()\n",
    "c6.SaveAs(\"tau1_0p5_responses_Wsel_powheg.png\")\n",
    "#c6.SaveAs(\"tau1_0p5_responses_Wsel_powheg.pdf\")"
   ]
  },
  {
   "cell_type": "markdown",
   "metadata": {},
   "source": [
    "# Unfolding $\\tau_{1}^{(1)}$ with background subtraction"
   ]
  },
  {
   "cell_type": "code",
   "execution_count": 40,
   "metadata": {},
   "outputs": [],
   "source": [
    "Wjets_gen_tau1_1 = Wjets_gen_nSub_basis[:,1]\n",
    "\n",
    "ST1_gen_tau1_1 = ST1_gen_nSub_basis[:,1]\n",
    "\n",
    "ST2_gen_tau1_1 = ST2_gen_nSub_basis[:,1]\n",
    "\n",
    "ST3_gen_tau1_1 = ST3_gen_nSub_basis[:,1]\n",
    "\n",
    "ST4_gen_tau1_1 = ST4_gen_nSub_basis[:,1]\n",
    "\n",
    "ST5_gen_tau1_1 = ST5_gen_nSub_basis[:,1]\n",
    "\n",
    "TTbar_gen_tau1_1 = TTbar_gen_nSub_basis[:,1]"
   ]
  },
  {
   "cell_type": "code",
   "execution_count": 41,
   "metadata": {},
   "outputs": [],
   "source": [
    "Wjets_reco_tau1_1 = Wjets_reco_nSub_basis[:,1]\n",
    "\n",
    "ST1_reco_tau1_1 = ST1_reco_nSub_basis[:,1]\n",
    "\n",
    "ST2_reco_tau1_1 = ST2_reco_nSub_basis[:,1]\n",
    "\n",
    "ST3_reco_tau1_1 = ST3_reco_nSub_basis[:,1]\n",
    "\n",
    "ST4_reco_tau1_1 = ST4_reco_nSub_basis[:,1]\n",
    "\n",
    "ST5_reco_tau1_1 = ST5_reco_nSub_basis[:,1]\n",
    "\n",
    "TTbar_reco_tau1_1 = TTbar_reco_nSub_basis[:,1]"
   ]
  },
  {
   "cell_type": "code",
   "execution_count": 42,
   "metadata": {},
   "outputs": [],
   "source": [
    "MC_sig_reco_tau1_1 = TTbar_reco_tau1_1\n",
    "MC_sig_gen_tau1_1 = TTbar_gen_tau1_1\n",
    "\n",
    "MC_bkg_reco_tau1_1 = np.concatenate((ST1_reco_tau1_1,ST2_reco_tau1_1,ST3_reco_tau1_1,ST4_reco_tau1_1,ST5_reco_tau1_1,Wjets_reco_tau1_1))\n",
    "MC_bkg_gen_tau1_1 = np.concatenate((ST1_gen_tau1_1,ST2_gen_tau1_1,ST3_gen_tau1_1,ST4_gen_tau1_1,ST5_gen_tau1_1,Wjets_gen_tau1_1))\n",
    "\n",
    "data_tau1_1 = data_nSub_basis[:,1]\n",
    "weights_MC_sig = weight_TTbar\n",
    "weights_MC_bkg = np.concatenate((weight_ST1,weight_ST2,weight_ST3,weight_ST4,weight_ST5,weight_Wjets))"
   ]
  },
  {
   "cell_type": "markdown",
   "metadata": {
    "collapsed": true
   },
   "source": [
    "Get the response matrix and input 1D distributions for unfolding."
   ]
  },
  {
   "cell_type": "code",
   "execution_count": 43,
   "metadata": {},
   "outputs": [
    {
     "name": "stdout",
     "output_type": "stream",
     "text": [
      "0.002065862063318491\n",
      "0.06732578575611115\n",
      "0.6168755292892456\n",
      "0.5938224196434021 \n",
      "\n",
      "0.02840283326804638\n",
      "0.06435814499855042\n",
      "0.5480101108551025\n",
      "0.5360151529312134 \n",
      "\n",
      "0.06561585515737534\n",
      "0.5828447937965393\n"
     ]
    }
   ],
   "source": [
    "print np.min(MC_sig_gen_tau1_1)\n",
    "print np.min(MC_sig_reco_tau1_1)\n",
    "print np.max(MC_sig_gen_tau1_1)\n",
    "print np.max(MC_sig_reco_tau1_1), \"\\n\"\n",
    "\n",
    "\n",
    "print np.min(MC_bkg_gen_tau1_1)\n",
    "print np.min(MC_bkg_reco_tau1_1)\n",
    "print np.max(MC_bkg_gen_tau1_1)\n",
    "print np.max(MC_bkg_reco_tau1_1), \"\\n\"\n",
    "\n",
    "\n",
    "print np.min(data_tau1_1)\n",
    "print np.max(data_tau1_1)"
   ]
  },
  {
   "cell_type": "markdown",
   "metadata": {
    "collapsed": true
   },
   "source": [
    "#### Set the axis ranges for the generator nd detector level distributions as well as the number of bins in each. Note that we want twice as many detector bins as generator level bins as recommended by the TUnfold documenation "
   ]
  },
  {
   "cell_type": "code",
   "execution_count": 44,
   "metadata": {},
   "outputs": [
    {
     "name": "stdout",
     "output_type": "stream",
     "text": [
      "[0.    0.13  0.167 0.204 0.241 0.278 0.315 0.352 0.389 0.426 0.463 0.5\n",
      " 0.62 ] 13\n",
      "[0.     0.065  0.13   0.1485 0.167  0.1855 0.204  0.2225 0.241  0.2595\n",
      " 0.278  0.2965 0.315  0.3335 0.352  0.3705 0.389  0.4075 0.426  0.4445\n",
      " 0.463  0.4815 0.5    0.56   0.62  ] 25\n"
     ]
    }
   ],
   "source": [
    "gen_bins = np.array([x for x in np.linspace(num=11, start=0.13, stop=0.5)])\n",
    "gen_bins = np.concatenate((np.array([0.,]), gen_bins, np.array([0.62])))\n",
    "print gen_bins, gen_bins.shape[0]\n",
    "\n",
    "det_bins = np.array([x for x in np.linspace(num=21, start=0.13, stop=0.5)])\n",
    "det_bins = np.concatenate((np.array([0.,0.065]), det_bins, np.array([0.56, 0.62])))\n",
    "print det_bins, det_bins.shape[0]"
   ]
  },
  {
   "cell_type": "markdown",
   "metadata": {
    "collapsed": true
   },
   "source": [
    "### Get the response matrix and input 1D distributions for unfolding."
   ]
  },
  {
   "cell_type": "markdown",
   "metadata": {
    "collapsed": true
   },
   "source": [
    "#### Set the axis ranges for the generator nd detector level distributions as well as the number of bins in each. Note that we want twice as many detector bins as generator level bins as recommended by the TUnfold documenation "
   ]
  },
  {
   "cell_type": "code",
   "execution_count": 45,
   "metadata": {},
   "outputs": [
    {
     "name": "stdout",
     "output_type": "stream",
     "text": [
      "[0.      0.13    0.17625 0.2225  0.26875 0.315   0.36125 0.4075  0.45375\n",
      " 0.5     0.62   ] 11\n",
      "[0.       0.065    0.13     0.153125 0.17625  0.199375 0.2225   0.245625\n",
      " 0.26875  0.291875 0.315    0.338125 0.36125  0.384375 0.4075   0.430625\n",
      " 0.45375  0.476875 0.5      0.56     0.62    ] 21\n"
     ]
    }
   ],
   "source": [
    "gen_bins1 = np.array([x for x in np.linspace(num=9, start=0.13, stop=0.5)])\n",
    "gen_bins1 = np.concatenate((np.array([0.,]), gen_bins1, np.array([0.62])))\n",
    "print gen_bins1, gen_bins1.shape[0]\n",
    "\n",
    "det_bins1 = np.array([x for x in np.linspace(num=17, start=0.13, stop=0.5)])\n",
    "det_bins1 = np.concatenate((np.array([0.,0.065]), det_bins1, np.array([0.56, 0.62])))\n",
    "print det_bins1, det_bins1.shape[0]"
   ]
  },
  {
   "cell_type": "code",
   "execution_count": 46,
   "metadata": {},
   "outputs": [
    {
     "name": "stdout",
     "output_type": "stream",
     "text": [
      "[0.    0.13  0.167 0.204 0.241 0.278 0.315 0.352 0.389 0.426 0.463 0.5\n",
      " 0.62 ] 13\n",
      "[0.     0.065  0.13   0.1485 0.167  0.1855 0.204  0.2225 0.241  0.2595\n",
      " 0.278  0.2965 0.315  0.3335 0.352  0.3705 0.389  0.4075 0.426  0.4445\n",
      " 0.463  0.4815 0.5    0.56   0.62  ] 25\n"
     ]
    }
   ],
   "source": [
    "gen_bins2 = np.array([x for x in np.linspace(num=11, start=0.13, stop=0.5)])\n",
    "gen_bins2 = np.concatenate((np.array([0.,]), gen_bins2, np.array([0.62])))\n",
    "print gen_bins2, gen_bins2.shape[0]\n",
    "\n",
    "det_bins2 = np.array([x for x in np.linspace(num=21, start=0.13, stop=0.5)])\n",
    "det_bins2 = np.concatenate((np.array([0.,0.065]), det_bins2, np.array([0.56, 0.62])))\n",
    "print det_bins2, det_bins2.shape[0]"
   ]
  },
  {
   "cell_type": "code",
   "execution_count": 47,
   "metadata": {},
   "outputs": [
    {
     "name": "stdout",
     "output_type": "stream",
     "text": [
      "[0.       0.13     0.153125 0.17625  0.199375 0.2225   0.245625 0.26875\n",
      " 0.291875 0.315    0.338125 0.36125  0.384375 0.4075   0.430625 0.45375\n",
      " 0.476875 0.5      0.62    ] 19\n",
      "[0.        0.065     0.13      0.1415625 0.153125  0.1646875 0.17625\n",
      " 0.1878125 0.199375  0.2109375 0.2225    0.2340625 0.245625  0.2571875\n",
      " 0.26875   0.2803125 0.291875  0.3034375 0.315     0.3265625 0.338125\n",
      " 0.3496875 0.36125   0.3728125 0.384375  0.3959375 0.4075    0.4190625\n",
      " 0.430625  0.4421875 0.45375   0.4653125 0.476875  0.4884375 0.5\n",
      " 0.56      0.62     ] 37\n"
     ]
    }
   ],
   "source": [
    "gen_bins3 = np.array([x for x in np.linspace(num=17, start=0.13, stop=0.5)])\n",
    "gen_bins3 = np.concatenate((np.array([0.,]), gen_bins3, np.array([0.62])))\n",
    "print gen_bins3, gen_bins3.shape[0]\n",
    "\n",
    "det_bins3 = np.array([x for x in np.linspace(num=33, start=0.13, stop=0.5)])\n",
    "det_bins3 = np.concatenate((np.array([0.,0.065]), det_bins3, np.array([0.56, 0.62])))\n",
    "print det_bins3, det_bins3.shape[0]"
   ]
  },
  {
   "cell_type": "code",
   "execution_count": 48,
   "metadata": {},
   "outputs": [
    {
     "name": "stdout",
     "output_type": "stream",
     "text": [
      "[0.   0.1  0.15 0.2  0.25 0.3  0.35 0.4  0.45 0.5  0.62] 11\n",
      "[0.    0.05  0.1   0.125 0.15  0.175 0.2   0.225 0.25  0.275 0.3   0.325\n",
      " 0.35  0.375 0.4   0.425 0.45  0.475 0.5   0.56  0.62 ] 21\n"
     ]
    }
   ],
   "source": [
    "gen_bins4 = np.array([x for x in np.linspace(num=9, start=0.1, stop=0.5)])\n",
    "gen_bins4 = np.concatenate((np.array([0.,]), gen_bins4, np.array([0.62])))\n",
    "print gen_bins4, gen_bins4.shape[0]\n",
    "\n",
    "det_bins4 = np.array([x for x in np.linspace(num=17, start=0.1, stop=0.5)])\n",
    "det_bins4 = np.concatenate((np.array([0.,0.05]), det_bins4, np.array([0.56, 0.62])))\n",
    "print det_bins4, det_bins4.shape[0]"
   ]
  },
  {
   "cell_type": "code",
   "execution_count": 49,
   "metadata": {},
   "outputs": [
    {
     "name": "stdout",
     "output_type": "stream",
     "text": [
      "[0.   0.1  0.14 0.18 0.22 0.26 0.3  0.34 0.38 0.42 0.46 0.5  0.62] 13\n",
      "[0.   0.05 0.1  0.12 0.14 0.16 0.18 0.2  0.22 0.24 0.26 0.28 0.3  0.32\n",
      " 0.34 0.36 0.38 0.4  0.42 0.44 0.46 0.48 0.5  0.56 0.62] 25\n"
     ]
    }
   ],
   "source": [
    "gen_bins5 = np.array([x for x in np.linspace(num=11, start=0.1, stop=0.5)])\n",
    "gen_bins5 = np.concatenate((np.array([0.,]), gen_bins5, np.array([0.62])))\n",
    "print gen_bins5, gen_bins5.shape[0]\n",
    "\n",
    "det_bins5 = np.array([x for x in np.linspace(num=21, start=0.1, stop=0.5)])\n",
    "det_bins5 = np.concatenate((np.array([0.,0.05]), det_bins5, np.array([0.56, 0.62])))\n",
    "print det_bins5, det_bins5.shape[0]"
   ]
  },
  {
   "cell_type": "code",
   "execution_count": 50,
   "metadata": {},
   "outputs": [
    {
     "name": "stdout",
     "output_type": "stream",
     "text": [
      "[0.    0.1   0.125 0.15  0.175 0.2   0.225 0.25  0.275 0.3   0.325 0.35\n",
      " 0.375 0.4   0.425 0.45  0.475 0.5   0.62 ] 19\n",
      "[0.     0.05   0.1    0.1125 0.125  0.1375 0.15   0.1625 0.175  0.1875\n",
      " 0.2    0.2125 0.225  0.2375 0.25   0.2625 0.275  0.2875 0.3    0.3125\n",
      " 0.325  0.3375 0.35   0.3625 0.375  0.3875 0.4    0.4125 0.425  0.4375\n",
      " 0.45   0.4625 0.475  0.4875 0.5    0.56   0.62  ] 37\n"
     ]
    }
   ],
   "source": [
    "gen_bins6 = np.array([x for x in np.linspace(num=17, start=0.1, stop=0.5)])\n",
    "gen_bins6 = np.concatenate((np.array([0.,]), gen_bins6, np.array([0.62])))\n",
    "print gen_bins6, gen_bins6.shape[0]\n",
    "\n",
    "det_bins6 = np.array([x for x in np.linspace(num=33, start=0.1, stop=0.5)])\n",
    "det_bins6 = np.concatenate((np.array([0.,0.05]), det_bins6, np.array([0.56, 0.62])))\n",
    "print det_bins6, det_bins6.shape[0]"
   ]
  },
  {
   "cell_type": "code",
   "execution_count": 51,
   "metadata": {},
   "outputs": [],
   "source": [
    "det_bins_arr = [det_bins1, det_bins2, det_bins3, det_bins4, det_bins5, det_bins6]\n",
    "gen_bins_arr = [gen_bins1, gen_bins2, gen_bins3, gen_bins4, gen_bins5, gen_bins6]"
   ]
  },
  {
   "cell_type": "raw",
   "metadata": {},
   "source": [
    "gen_bins = np.array([x for x in np.linspace(num=11, start=0., stop=1.)])\n",
    "print gen_bins, gen_bins.shape[0]\n",
    "\n",
    "det_bins = np.array([x for x in np.linspace(num=21, start=0., stop=1.)])\n",
    "print det_bins, det_bins.shape[0]"
   ]
  },
  {
   "cell_type": "markdown",
   "metadata": {},
   "source": [
    "#### Fill histograms for sig and bkg. MC separately in this case (as one should!)"
   ]
  },
  {
   "cell_type": "code",
   "execution_count": 52,
   "metadata": {},
   "outputs": [],
   "source": [
    "def fill_hists(gen_bins, det_bins, MC_sig_reco_obs, MC_sig_gen_obs, MC_bkg_reco_obs, MC_bkg_gen_obs, data_obs):\n",
    "        \n",
    "    histMgenMC_bkg = ROOT.TH1D(\"histMgenMC_bkg\", \"histMgenMC_bkg; #tau_{1}^{(1)}; Events/(0.02)\",  gen_bins.shape[0]-1, (gen_bins))\n",
    "    fill_hist(histMgenMC_bkg, MC_bkg_gen_obs, weights=weights_MC_bkg)\n",
    "\n",
    "    histMdetMC_bkg = ROOT.TH1D(\"histMdetMC_bkg\", \"histMdetMC_bkg; #tau_{1}^{(1)}; Events/(0.02)\", det_bins.shape[0]-1, (det_bins))\n",
    "    fill_hist(histMdetMC_bkg, MC_bkg_reco_obs, weights=weights_MC_bkg)\n",
    "\n",
    "    histMgenMC_sig = ROOT.TH1D(\"histMgenMC_sig\", \"histMgenMC_sig; #tau_{1}^{(1)}; Events/(0.02)\",  gen_bins.shape[0]-1, (gen_bins))\n",
    "    fill_hist(histMgenMC_sig, MC_sig_gen_obs, weights=weights_MC_sig)\n",
    "\n",
    "    histMdetMC_sig = ROOT.TH1D(\"histMdetMC_sig\", \"histMdetMC_sig; #tau_{1}^{(1)}; Events/(0.02)\", det_bins.shape[0]-1, (det_bins))\n",
    "    fill_hist(histMdetMC_sig, MC_sig_reco_obs, weights=weights_MC_sig)\n",
    "\n",
    "    #histMgenData = ROOT.TH1D(\"histMgenData\", \"histMgenData; #tau_{1}^{(1)}; Events/(0.02)\", gen_bins.shape[0]-1, (gen_bins))\n",
    "    #fill_hist(histMgenData, TTbartruth_nSub_basis[:,4]/TTbartruth_nSub_basis[:,1])\n",
    "\n",
    "    histMdetData = ROOT.TH1D(\"histMdetData\", \"histMdetData; #tau_{1}^{(1)}; Events/(0.02)\", det_bins.shape[0]-1, (det_bins))\n",
    "    fill_hist(histMdetData, data_obs)\n",
    "\n",
    "    histMgenMC_bkg.SetTitle(\";#tau_{1}^{(1)}(gen_bkg)\")\n",
    "    histMdetMC_bkg.SetTitle(\";#tau_{1}^{(1)}(det_bkg)\")\n",
    "    histMgenMC_sig.SetTitle(\";#tau_{1}^{(1)}(gen_sig)\")\n",
    "    histMdetMC_sig.SetTitle(\";#tau_{1}^{(1)}(det_sig)\")\n",
    "    histMdetData.SetTitle(\";#tau_{1}^{(1)}(data)\")\n",
    "\n",
    "\n",
    "    ### Fill response matrix\n",
    "\n",
    "    response = ROOT.TH2D('response', 'response', det_bins.shape[0]-1, det_bins, gen_bins.shape[0]-1, gen_bins)\n",
    "    hist2Dfill = np.zeros((MC_sig_reco_obs.shape[0], 2))\n",
    "    hist2Dfill[:,0] = MC_sig_reco_obs.flatten()\n",
    "    hist2Dfill[:,1] = MC_sig_gen_obs.flatten()\n",
    "    fill_hist(response, hist2Dfill, weights_MC_sig)\n",
    "    response.SetTitle(\"Nominal Response Matrix;#tau_{1}^{(1)}(det_sig);#tau_{1}^{(1)}(gen_sig)\")\n",
    "\n",
    "    '''\n",
    "    ##### Normalise the distributions, draw them and the response matrix.\n",
    "\n",
    "    norm_genMC_bkg = histMgenMC_bkg.Integral()\n",
    "    print norm_genMC_bkg\n",
    "\n",
    "    norm_recoMC_bkg = histMdetMC_bkg.Integral()\n",
    "    print norm_recoMC_bkg\n",
    "\n",
    "    norm_genMC_sig = histMgenMC_sig.Integral()\n",
    "    print norm_genMC_sig\n",
    "\n",
    "    norm_recoMC_sig = histMdetMC_sig.Integral()\n",
    "    print norm_recoMC_sig\n",
    "\n",
    "    #norm_genData = histMgenData.Integral()\n",
    "    #print norm_genData\n",
    "\n",
    "    norm_detData = histMdetData.Integral()\n",
    "    print norm_detData\n",
    "\n",
    "    hMC_gen_bkg = ROOT.TH1D(histMgenMC_bkg)\n",
    "    #hMC_gen_bkg.Scale(1./norm_genMC_bkg)\n",
    "\n",
    "    hMC_reco_bkg = ROOT.TH1D(histMdetMC_bkg)\n",
    "    #hMC_reco_bkg.Scale(1./norm_recoMC_bkg)\n",
    "\n",
    "    hMC_gen_sig = ROOT.TH1D(histMgenMC_sig)\n",
    "    #hMC_gen_sig.Scale(1./norm_genMC_sig)\n",
    "\n",
    "    hMC_reco_sig = ROOT.TH1D(histMdetMC_sig)\n",
    "    #hMC_reco_sig.Scale(1./norm_recoMC_sig)\n",
    "\n",
    "    hMC_data = ROOT.TH1D(histMdetData)\n",
    "    #histMgenData.Scale(1./norm_genData)\n",
    "    #histMdetData.Scale(1./norm_detData)\n",
    "\n",
    "    histMgenMC_bkg.Scale(1./norm_genMC_bkg)\n",
    "    histMdetMC_bkg.Scale(1./norm_recoMC_bkg)\n",
    "    histMgenMC_sig.Scale(1./norm_genMC_sig)\n",
    "    histMdetMC_sig.Scale(1./norm_recoMC_sig)\n",
    "\n",
    "    #histMgenData.Scale(1./norm_genData)\n",
    "    histMdetData.Scale(1./norm_detData)\n",
    "    '''\n",
    "    \n",
    "    return histMgenMC_bkg, histMdetMC_bkg, histMgenMC_sig, histMdetMC_sig, histMdetData, response"
   ]
  },
  {
   "cell_type": "markdown",
   "metadata": {},
   "source": [
    "### Purity and Stability calculation"
   ]
  },
  {
   "cell_type": "markdown",
   "metadata": {},
   "source": [
    "We define purity as the fraction of reconstructed events that are generated in the same bin, \n",
    "and stability as the fraction of generated events that are reconstructed in the same\n",
    "bin, divided by the overall reconstruction efficiency per bin. "
   ]
  },
  {
   "cell_type": "code",
   "execution_count": 53,
   "metadata": {
    "scrolled": true
   },
   "outputs": [],
   "source": [
    "def purity_stability_calc(gen_bins, MC_sig_gen_obs, det_bins, MC_sig_reco_obs, verbose=True ):\n",
    "    \n",
    "    purity = ROOT.TH1D(\"purity\", \"Purity and stability study; #tau_{1}^{1}; \",  gen_bins.shape[0]-1, (gen_bins))\n",
    "    stability = ROOT.TH1D(\"stability\", \"Purity and stability study; #tau_{1}^{1}; \",  gen_bins.shape[0]-1, (gen_bins))\n",
    "    efficiency = ROOT.TH1D(\"efficiency\", \"Purity and stability study; #tau_{1}^{1}; \",  gen_bins.shape[0]-1, (gen_bins))\n",
    "\n",
    "    gen_arr = MC_sig_gen_obs[:]\n",
    "    gen_bin_index = np.digitize(gen_arr, gen_bins)\n",
    "    if verbose: print gen_bin_index\n",
    "    \n",
    "    det_arr = MC_sig_reco_obs[:]\n",
    "    det_bin_index = np.digitize(det_arr, gen_bins)\n",
    "    det_bin_index2 = np.digitize(det_arr, det_bins)\n",
    "    \n",
    "    ndet_pergenbin = [0.] #N_recgen array = number of events generated in and reconstructed in gen bin i\n",
    "    ndet_genanywhere = [0.] # number of events reconstructed in gen _bin i but generated anywhere\n",
    "    ngen_detanywhere = [0.] # number of events generated in gen _bin i but reconstructed anywhere\n",
    "\n",
    "    ### purity = # of evts generated and reconstructed in gen bin i / # of evts reconstructed in gen bin i but generated anywhere\n",
    "    ### stability = # of evts generated and reconstructed in gen bin / # of evts generated in gen bin i but reconstructed anywhere\n",
    "    print \"Setting contents for P, S, eff. histos\"\n",
    "\n",
    "    for i in xrange(0, gen_bins.shape[0]-1):\n",
    "\n",
    "        #print i+1\n",
    "        for k in xrange(0, gen_bin_index.shape[0]):\n",
    "\n",
    "            if gen_bin_index[k]==i+1: \n",
    "                ngen_detanywhere[i]+=1 #stability denominator\n",
    "                if det_bin_index[k]==i+1: ndet_pergenbin[i]+=1\n",
    "\n",
    "        ngen_detanywhere.append(0.)\n",
    "        ndet_pergenbin.append(0.)\n",
    "\n",
    "        for k in xrange(0, det_bin_index.shape[0]):\n",
    "\n",
    "            if det_bin_index[k]==i+1: \n",
    "                ndet_genanywhere[i]+=1 #purity denominator\n",
    "\n",
    "        ndet_genanywhere.append(0.)\n",
    "\n",
    "        if verbose: print \"Setting contents for P, S, eff. histos, in bin %d\"%(i+1)\n",
    "        purity.SetBinContent(i+1, ndet_pergenbin[i]/ndet_genanywhere[i])\n",
    "        stability.SetBinContent(i+1, ndet_pergenbin[i]/ngen_detanywhere[i])\n",
    "        efficiency.SetBinContent(i+1, ndet_pergenbin[i]/43107.)\n",
    "\n",
    "\n",
    "    ndet_pergenbin = np.array(ndet_pergenbin)\n",
    "    ndet_genanywhere = np.array(ndet_genanywhere)\n",
    "    ngen_detanywhere = np.array(ngen_detanywhere)\n",
    "\n",
    "    try:\n",
    "        if verbose:print \"\\n\\n+++++++++Pure and Stable! :)+++++++++++++\\n\\n\"\n",
    "        if verbose: print ndet_pergenbin,\"\\n\"\n",
    "        if verbose: print ndet_genanywhere,\"\\n\"\n",
    "        purity_arr = ndet_pergenbin/ndet_genanywhere\n",
    "        if verbose:print \"Purity array:\", purity_arr[:-1], \"\\n\"\n",
    "\n",
    "        if verbose: print ndet_pergenbin,\"\\n\"\n",
    "        if verbose: print ngen_detanywhere,\"\\n\"\n",
    "        stability_arr = ndet_pergenbin/ngen_detanywhere\n",
    "        if verbose:print \"Stability array:\", stability_arr[:-1], \"\\n\"\n",
    "\n",
    "        if verbose:print \"+++++Efficiency+++++\\n\"\n",
    "        efficiency_arr = ndet_pergenbin/np.sum(ngen_detanywhere)\n",
    "        if verbose:print \"Efficiency array:\", efficiency_arr[:-1]\n",
    "\n",
    "\n",
    "        purity.SetLineColor(ROOT.kRed)\n",
    "        purity.SetLineWidth(2)\n",
    "        purity.SetLineStyle(2)\n",
    "        purity.SetMinimum(0.)\n",
    "        purity.SetMaximum(1.05)\n",
    "\n",
    "        stability.SetLineColor(9)\n",
    "        stability.SetLineWidth(2)\n",
    "        stability.SetLineStyle(2)\n",
    "        stability.SetMinimum(0.)\n",
    "        stability.SetMaximum(1.05)\n",
    "        stability.SetTitle(\"t#bar{t} 2016, W-selection \")\n",
    "        \n",
    "\n",
    "        return purity, stability\n",
    "    except:\n",
    "        print \"didn't work, binning issues probably the cause\"\n",
    "        return -1,-1"
   ]
  },
  {
   "cell_type": "markdown",
   "metadata": {},
   "source": [
    "### Unfolding "
   ]
  },
  {
   "cell_type": "code",
   "execution_count": 65,
   "metadata": {},
   "outputs": [],
   "source": [
    "def doUnfolding(response, histMdetData, histMdetMC_sig, histMdetMC_bkg, histMgenMC_sig):\n",
    "\n",
    "    print 'getting tunfolder:'\n",
    "\n",
    "    orientation = ROOT.TUnfoldDensity.kHistMapOutputHoriz\n",
    "    regMode = ROOT.TUnfoldDensity.kRegModeCurvature\n",
    "    con = ROOT.TUnfoldDensity.kEConstraintNone\n",
    "    mode =  ROOT.TUnfoldDensity.kDensityModeBinWidth\n",
    "    errmode = ROOT.TUnfoldSys.kSysErrModeMatrix\n",
    "    #tunfolder_MC = ROOT.TUnfoldDensity(response, orientation, regMode, con, mode, \"signal\", \"*[UOb]\")\n",
    "    #tunfolder_data = ROOT.TUnfoldDensity(response, orientation, regMode, con, mode, \"signal\", \"*[UOb]\")\n",
    "\n",
    "    tunfolder_MC = ROOT.TUnfoldDensity(response,ROOT.TUnfold.kHistMapOutputVert,ROOT.TUnfold.kRegModeCurvature, ROOT.TUnfold.kEConstraintNone, ROOT.TUnfoldDensity.kDensityModeBinWidth)\n",
    "    tunfolder_data = ROOT.TUnfoldDensity(response,ROOT.TUnfold.kHistMapOutputVert,ROOT.TUnfold.kRegModeCurvature, ROOT.TUnfold.kEConstraintNone, ROOT.TUnfoldDensity.kDensityModeBinWidth)\n",
    "\n",
    "    print 'setting reco input'\n",
    "    tunfolder_data.SetInput( histMdetData )\n",
    "    tunfolder_data.SubtractBackground( histMdetMC_bkg, \"bkg_all\", 1. )\n",
    "\n",
    "    print 'setting reco MC input'\n",
    "    tunfolder_MC.SetInput( histMdetMC_sig )\n",
    "    #tunfolder_MC.SubtractBackground( histMdetMC_bkg, \"bkg_all\", 1. )\n",
    "\n",
    "    unfolded_data = tunfolder_data.DoUnfold(0.)\n",
    "    unfolded_data = tunfolder_data.GetOutput(\"unfolded_data\")\n",
    "\n",
    "    unfolded_MC = tunfolder_MC.DoUnfold(0.)\n",
    "    unfolded_MC = tunfolder_MC.GetOutput(\"closure_unfolded_MC\")\n",
    "\n",
    "\n",
    "    unfolded_MC.SetMarkerStyle(2)\n",
    "    unfolded_MC.SetMarkerColor(7)\n",
    "    unfolded_MC.SetLineColor(7)\n",
    "    unfolded_MC.SetLineWidth(1)\n",
    "    #unfolded_MC.Rebin(2)\n",
    "\n",
    "    unfolded_data.SetMarkerStyle(22)\n",
    "    unfolded_data.SetMarkerColor(1)\n",
    "    unfolded_data.SetLineColor(1)\n",
    "    unfolded_data.SetLineWidth(2)\n",
    "    #unfolded_data.Rebin(2)\n",
    "\n",
    "\n",
    "    histMgenMC_sig.SetMarkerStyle(5)\n",
    "    histMgenMC_sig.SetMarkerColor(2)\n",
    "    histMgenMC_sig.SetLineColor(2)\n",
    "    #histMgenMC_sig.Rebin(2)\n",
    "\n",
    "\n",
    "    hs = ROOT.THStack(\"#tau_{1}^{(1)}\", \"#tau_{1}^{(1)}\")\n",
    "    #hs.Add\n",
    "    #hs.SetMaximum(5500)\n",
    "    hs.Add( unfolded_MC, \"E\")\n",
    "    hs.Add( unfolded_data, \"E \")\n",
    "    #hs.Add(histMgenMC_sig, \"E HIST\")\n",
    "\n",
    "    leg0 = ROOT.TLegend(0.02, 0.7, 0.91, 0.85)\n",
    "    leg0.SetTextSize(6)\n",
    "    leg0.AddEntry( unfolded_data, \"Data (2016)\", 'p')\n",
    "    #leg0.AddEntry( histMgenMC_sig, \"Generator-level (ttbar MC: Powheg+Pythia8)\", 'p')\n",
    "    #leg0.AddEntry( histMgenData, \"'Truth' (MC: MG5+Pythia8)\", 'p')\n",
    "    leg0.AddEntry( unfolded_MC, \"MC self-closure (ttbar Powheg)\", 'p')\n",
    "    leg0.SetLineColor(0)\n",
    "    leg0.SetBorderSize(0)\n",
    "    leg0.SetFillStyle(0)\n",
    "\n",
    "    #hs.Draw(\"nostack\")\n",
    "    #leg0.Draw()\n",
    "    \n",
    "    return hs, leg0"
   ]
  },
  {
   "cell_type": "markdown",
   "metadata": {
    "collapsed": true
   },
   "source": [
    "Draw the variables at reco and gen level and for \"data\""
   ]
  },
  {
   "cell_type": "code",
   "execution_count": 66,
   "metadata": {},
   "outputs": [],
   "source": [
    "ROOT.gStyle.SetOptStat(0)"
   ]
  },
  {
   "cell_type": "code",
   "execution_count": 67,
   "metadata": {
    "scrolled": true
   },
   "outputs": [
    {
     "name": "stdout",
     "output_type": "stream",
     "text": [
      "Gen-level bins 0 [0.      0.13    0.17625 0.2225  0.26875 0.315   0.36125 0.4075  0.45375\n",
      " 0.5     0.62   ]\n",
      "Detector-level bins 0 [0.       0.065    0.13     0.153125 0.17625  0.199375 0.2225   0.245625\n",
      " 0.26875  0.291875 0.315    0.338125 0.36125  0.384375 0.4075   0.430625\n",
      " 0.45375  0.476875 0.5      0.56     0.62    ]\n",
      "Setting contents for P, S, eff. histos\n"
     ]
    },
    {
     "name": "stderr",
     "output_type": "stream",
     "text": [
      "/shome/kdatta/.local/lib/python2.7/site-packages/ipykernel_launcher.py:56: RuntimeWarning: invalid value encountered in divide\n",
      "/shome/kdatta/.local/lib/python2.7/site-packages/ipykernel_launcher.py:61: RuntimeWarning: invalid value encountered in divide\n"
     ]
    },
    {
     "name": "stdout",
     "output_type": "stream",
     "text": [
      "getting tunfolder:\n",
      "setting reco input\n",
      "setting reco MC input\n",
      "Gen-level bins 1 [0.    0.13  0.167 0.204 0.241 0.278 0.315 0.352 0.389 0.426 0.463 0.5\n",
      " 0.62 ]\n",
      "Detector-level bins 1 [0.     0.065  0.13   0.1485 0.167  0.1855 0.204  0.2225 0.241  0.2595\n",
      " 0.278  0.2965 0.315  0.3335 0.352  0.3705 0.389  0.4075 0.426  0.4445\n",
      " 0.463  0.4815 0.5    0.56   0.62  ]\n",
      "Setting contents for P, S, eff. histos\n",
      "getting tunfolder:\n",
      "setting reco input\n",
      "setting reco MC input\n",
      "Gen-level bins 2 [0.       0.13     0.153125 0.17625  0.199375 0.2225   0.245625 0.26875\n",
      " 0.291875 0.315    0.338125 0.36125  0.384375 0.4075   0.430625 0.45375\n",
      " 0.476875 0.5      0.62    ]\n",
      "Detector-level bins 2 [0.        0.065     0.13      0.1415625 0.153125  0.1646875 0.17625\n",
      " 0.1878125 0.199375  0.2109375 0.2225    0.2340625 0.245625  0.2571875\n",
      " 0.26875   0.2803125 0.291875  0.3034375 0.315     0.3265625 0.338125\n",
      " 0.3496875 0.36125   0.3728125 0.384375  0.3959375 0.4075    0.4190625\n",
      " 0.430625  0.4421875 0.45375   0.4653125 0.476875  0.4884375 0.5\n",
      " 0.56      0.62     ]\n",
      "Setting contents for P, S, eff. histos\n",
      "getting tunfolder:\n",
      "setting reco input\n",
      "setting reco MC input\n",
      "Gen-level bins 3 [0.   0.1  0.15 0.2  0.25 0.3  0.35 0.4  0.45 0.5  0.62]\n",
      "Detector-level bins 3 [0.    0.05  0.1   0.125 0.15  0.175 0.2   0.225 0.25  0.275 0.3   0.325\n",
      " 0.35  0.375 0.4   0.425 0.45  0.475 0.5   0.56  0.62 ]\n",
      "Setting contents for P, S, eff. histos\n",
      "getting tunfolder:\n",
      "setting reco input\n",
      "setting reco MC input\n",
      "Gen-level bins 4 [0.   0.1  0.14 0.18 0.22 0.26 0.3  0.34 0.38 0.42 0.46 0.5  0.62]\n",
      "Detector-level bins 4 [0.   0.05 0.1  0.12 0.14 0.16 0.18 0.2  0.22 0.24 0.26 0.28 0.3  0.32\n",
      " 0.34 0.36 0.38 0.4  0.42 0.44 0.46 0.48 0.5  0.56 0.62]\n",
      "Setting contents for P, S, eff. histos\n",
      "getting tunfolder:\n",
      "setting reco input\n",
      "setting reco MC input\n",
      "Gen-level bins 5 [0.    0.1   0.125 0.15  0.175 0.2   0.225 0.25  0.275 0.3   0.325 0.35\n",
      " 0.375 0.4   0.425 0.45  0.475 0.5   0.62 ]\n",
      "Detector-level bins 5 [0.     0.05   0.1    0.1125 0.125  0.1375 0.15   0.1625 0.175  0.1875\n",
      " 0.2    0.2125 0.225  0.2375 0.25   0.2625 0.275  0.2875 0.3    0.3125\n",
      " 0.325  0.3375 0.35   0.3625 0.375  0.3875 0.4    0.4125 0.425  0.4375\n",
      " 0.45   0.4625 0.475  0.4875 0.5    0.56   0.62  ]\n",
      "Setting contents for P, S, eff. histos\n",
      "getting tunfolder:\n",
      "setting reco input\n",
      "setting reco MC input\n"
     ]
    },
    {
     "name": "stderr",
     "output_type": "stream",
     "text": [
      "Warning in <TROOT::Append>: Replacing existing TH1: histMgenMC_bkg (Potential memory leak).\n",
      "Warning in <TROOT::Append>: Replacing existing TH1: histMdetMC_bkg (Potential memory leak).\n",
      "Warning in <TROOT::Append>: Replacing existing TH1: histMgenMC_sig (Potential memory leak).\n",
      "Warning in <TROOT::Append>: Replacing existing TH1: histMdetMC_sig (Potential memory leak).\n",
      "Warning in <TROOT::Append>: Replacing existing TH1: histMdetData (Potential memory leak).\n",
      "Warning in <TROOT::Append>: Replacing existing TH1: response (Potential memory leak).\n",
      "Warning in <TROOT::Append>: Replacing existing TH1: purity (Potential memory leak).\n",
      "Warning in <TROOT::Append>: Replacing existing TH1: stability (Potential memory leak).\n",
      "Info in <TUnfold::SetConstraint>: fConstraint=0\n",
      "Info in <TUnfold::TUnfold>: underflow and overflow bin do not depend on the input data\n",
      "Info in <TUnfold::TUnfold>: 20 input bins and 10 output bins\n",
      "Info in <TUnfoldDensity::TUnfold>: *NOT* unfolding bin #0 (yaxis:#tau_{1}^{(1)}(gen_sig)[ufl])\n",
      "Info in <TUnfoldDensity::TUnfold>: *NOT* unfolding bin #11 (yaxis:#tau_{1}^{(1)}(gen_sig)[ofl])\n",
      "Info in <TUnfoldDensity::RegularizeOneDistribution>: regularizing yaxis regMode=3 densityMode=1 axisSteering=*[UOB]\n",
      "Info in <TUnfold::SetConstraint>: fConstraint=0\n",
      "Info in <TUnfold::TUnfold>: underflow and overflow bin do not depend on the input data\n",
      "Info in <TUnfold::TUnfold>: 20 input bins and 10 output bins\n",
      "Info in <TUnfoldDensity::TUnfold>: *NOT* unfolding bin #0 (yaxis:#tau_{1}^{(1)}(gen_sig)[ufl])\n",
      "Info in <TUnfoldDensity::TUnfold>: *NOT* unfolding bin #11 (yaxis:#tau_{1}^{(1)}(gen_sig)[ofl])\n",
      "Info in <TUnfoldDensity::RegularizeOneDistribution>: regularizing yaxis regMode=3 densityMode=1 axisSteering=*[UOB]\n",
      "Warning in <TUnfoldDensity::SetInput>: One input bin has zero error, and is ignored.\n",
      "Warning in <TUnfoldDensity::SetInput>: One input bin has zero error, and is ignored.\n",
      "Warning in <TROOT::Append>: Replacing existing TH1: unfolded_data (Potential memory leak).\n",
      "Warning in <TROOT::Append>: Replacing existing TH1: closure_unfolded_MC (Potential memory leak).\n",
      "Warning in <TROOT::Append>: Replacing existing TH1: histMgenMC_bkg (Potential memory leak).\n",
      "Warning in <TROOT::Append>: Replacing existing TH1: histMdetMC_bkg (Potential memory leak).\n",
      "Warning in <TROOT::Append>: Replacing existing TH1: histMgenMC_sig (Potential memory leak).\n",
      "Warning in <TROOT::Append>: Replacing existing TH1: histMdetMC_sig (Potential memory leak).\n",
      "Warning in <TROOT::Append>: Replacing existing TH1: histMdetData (Potential memory leak).\n",
      "Warning in <TROOT::Append>: Replacing existing TH1: response (Potential memory leak).\n",
      "Warning in <TROOT::Append>: Replacing existing TH1: purity (Potential memory leak).\n",
      "Warning in <TROOT::Append>: Replacing existing TH1: stability (Potential memory leak).\n",
      "Info in <TUnfold::SetConstraint>: fConstraint=0\n",
      "Info in <TUnfold::TUnfold>: underflow and overflow bin do not depend on the input data\n",
      "Info in <TUnfold::TUnfold>: 24 input bins and 12 output bins\n",
      "Info in <TUnfoldDensity::TUnfold>: *NOT* unfolding bin #0 (yaxis:#tau_{1}^{(1)}(gen_sig)[ufl])\n",
      "Info in <TUnfoldDensity::TUnfold>: *NOT* unfolding bin #13 (yaxis:#tau_{1}^{(1)}(gen_sig)[ofl])\n",
      "Info in <TUnfoldDensity::RegularizeOneDistribution>: regularizing yaxis regMode=3 densityMode=1 axisSteering=*[UOB]\n",
      "Info in <TUnfold::SetConstraint>: fConstraint=0\n",
      "Info in <TUnfold::TUnfold>: underflow and overflow bin do not depend on the input data\n",
      "Info in <TUnfold::TUnfold>: 24 input bins and 12 output bins\n",
      "Info in <TUnfoldDensity::TUnfold>: *NOT* unfolding bin #0 (yaxis:#tau_{1}^{(1)}(gen_sig)[ufl])\n",
      "Info in <TUnfoldDensity::TUnfold>: *NOT* unfolding bin #13 (yaxis:#tau_{1}^{(1)}(gen_sig)[ofl])\n",
      "Info in <TUnfoldDensity::RegularizeOneDistribution>: regularizing yaxis regMode=3 densityMode=1 axisSteering=*[UOB]\n",
      "Warning in <TUnfoldDensity::SetInput>: One input bin has zero error, and is ignored.\n",
      "Warning in <TUnfoldDensity::SetInput>: One input bin has zero error, and is ignored.\n",
      "Warning in <TROOT::Append>: Replacing existing TH1: unfolded_data (Potential memory leak).\n",
      "Warning in <TROOT::Append>: Replacing existing TH1: closure_unfolded_MC (Potential memory leak).\n",
      "Warning in <TROOT::Append>: Replacing existing TH1: histMgenMC_bkg (Potential memory leak).\n",
      "Warning in <TROOT::Append>: Replacing existing TH1: histMdetMC_bkg (Potential memory leak).\n",
      "Warning in <TROOT::Append>: Replacing existing TH1: histMgenMC_sig (Potential memory leak).\n",
      "Warning in <TROOT::Append>: Replacing existing TH1: histMdetMC_sig (Potential memory leak).\n",
      "Warning in <TROOT::Append>: Replacing existing TH1: histMdetData (Potential memory leak).\n",
      "Warning in <TROOT::Append>: Replacing existing TH1: response (Potential memory leak).\n",
      "Warning in <TROOT::Append>: Replacing existing TH1: purity (Potential memory leak).\n",
      "Warning in <TROOT::Append>: Replacing existing TH1: stability (Potential memory leak).\n",
      "Info in <TUnfold::SetConstraint>: fConstraint=0\n",
      "Info in <TUnfold::TUnfold>: underflow and overflow bin do not depend on the input data\n",
      "Info in <TUnfold::TUnfold>: 36 input bins and 18 output bins\n",
      "Info in <TUnfoldDensity::TUnfold>: *NOT* unfolding bin #0 (yaxis:#tau_{1}^{(1)}(gen_sig)[ufl])\n",
      "Info in <TUnfoldDensity::TUnfold>: *NOT* unfolding bin #19 (yaxis:#tau_{1}^{(1)}(gen_sig)[ofl])\n",
      "Info in <TUnfoldDensity::RegularizeOneDistribution>: regularizing yaxis regMode=3 densityMode=1 axisSteering=*[UOB]\n",
      "Info in <TUnfold::SetConstraint>: fConstraint=0\n",
      "Info in <TUnfold::TUnfold>: underflow and overflow bin do not depend on the input data\n",
      "Info in <TUnfold::TUnfold>: 36 input bins and 18 output bins\n",
      "Info in <TUnfoldDensity::TUnfold>: *NOT* unfolding bin #0 (yaxis:#tau_{1}^{(1)}(gen_sig)[ufl])\n",
      "Info in <TUnfoldDensity::TUnfold>: *NOT* unfolding bin #19 (yaxis:#tau_{1}^{(1)}(gen_sig)[ofl])\n",
      "Info in <TUnfoldDensity::RegularizeOneDistribution>: regularizing yaxis regMode=3 densityMode=1 axisSteering=*[UOB]\n",
      "Warning in <TUnfoldDensity::SetInput>: One input bin has zero error, and is ignored.\n",
      "Warning in <TUnfoldDensity::SetInput>: One input bin has zero error, and is ignored.\n",
      "Warning in <TROOT::Append>: Replacing existing TH1: unfolded_data (Potential memory leak).\n",
      "Warning in <TROOT::Append>: Replacing existing TH1: closure_unfolded_MC (Potential memory leak).\n",
      "Warning in <TROOT::Append>: Replacing existing TH1: histMgenMC_bkg (Potential memory leak).\n",
      "Warning in <TROOT::Append>: Replacing existing TH1: histMdetMC_bkg (Potential memory leak).\n",
      "Warning in <TROOT::Append>: Replacing existing TH1: histMgenMC_sig (Potential memory leak).\n",
      "Warning in <TROOT::Append>: Replacing existing TH1: histMdetMC_sig (Potential memory leak).\n",
      "Warning in <TROOT::Append>: Replacing existing TH1: histMdetData (Potential memory leak).\n",
      "Warning in <TROOT::Append>: Replacing existing TH1: response (Potential memory leak).\n",
      "Warning in <TROOT::Append>: Replacing existing TH1: purity (Potential memory leak).\n",
      "Warning in <TROOT::Append>: Replacing existing TH1: stability (Potential memory leak).\n",
      "Info in <TUnfold::SetConstraint>: fConstraint=0\n",
      "Info in <TUnfold::TUnfold>: underflow and overflow bin do not depend on the input data\n",
      "Info in <TUnfold::TUnfold>: 20 input bins and 10 output bins\n",
      "Info in <TUnfoldDensity::TUnfold>: *NOT* unfolding bin #0 (yaxis:#tau_{1}^{(1)}(gen_sig)[ufl])\n",
      "Info in <TUnfoldDensity::TUnfold>: *NOT* unfolding bin #11 (yaxis:#tau_{1}^{(1)}(gen_sig)[ofl])\n",
      "Info in <TUnfoldDensity::RegularizeOneDistribution>: regularizing yaxis regMode=3 densityMode=1 axisSteering=*[UOB]\n",
      "Info in <TUnfold::SetConstraint>: fConstraint=0\n",
      "Info in <TUnfold::TUnfold>: underflow and overflow bin do not depend on the input data\n",
      "Info in <TUnfold::TUnfold>: 20 input bins and 10 output bins\n",
      "Info in <TUnfoldDensity::TUnfold>: *NOT* unfolding bin #0 (yaxis:#tau_{1}^{(1)}(gen_sig)[ufl])\n",
      "Info in <TUnfoldDensity::TUnfold>: *NOT* unfolding bin #11 (yaxis:#tau_{1}^{(1)}(gen_sig)[ofl])\n",
      "Info in <TUnfoldDensity::RegularizeOneDistribution>: regularizing yaxis regMode=3 densityMode=1 axisSteering=*[UOB]\n",
      "Warning in <TUnfoldDensity::SetInput>: One input bin has zero error, and is ignored.\n",
      "Warning in <TUnfoldDensity::SetInput>: One input bin has zero error, and is ignored.\n",
      "Warning in <TROOT::Append>: Replacing existing TH1: unfolded_data (Potential memory leak).\n",
      "Warning in <TROOT::Append>: Replacing existing TH1: closure_unfolded_MC (Potential memory leak).\n",
      "Warning in <TROOT::Append>: Replacing existing TH1: histMgenMC_bkg (Potential memory leak).\n",
      "Warning in <TROOT::Append>: Replacing existing TH1: histMdetMC_bkg (Potential memory leak).\n",
      "Warning in <TROOT::Append>: Replacing existing TH1: histMgenMC_sig (Potential memory leak).\n",
      "Warning in <TROOT::Append>: Replacing existing TH1: histMdetMC_sig (Potential memory leak).\n",
      "Warning in <TROOT::Append>: Replacing existing TH1: histMdetData (Potential memory leak).\n",
      "Warning in <TROOT::Append>: Replacing existing TH1: response (Potential memory leak).\n",
      "Warning in <TROOT::Append>: Replacing existing TH1: purity (Potential memory leak).\n",
      "Warning in <TROOT::Append>: Replacing existing TH1: stability (Potential memory leak).\n",
      "Info in <TUnfold::SetConstraint>: fConstraint=0\n",
      "Info in <TUnfold::TUnfold>: underflow and overflow bin do not depend on the input data\n",
      "Info in <TUnfold::TUnfold>: 24 input bins and 12 output bins\n",
      "Info in <TUnfoldDensity::TUnfold>: *NOT* unfolding bin #0 (yaxis:#tau_{1}^{(1)}(gen_sig)[ufl])\n",
      "Info in <TUnfoldDensity::TUnfold>: *NOT* unfolding bin #13 (yaxis:#tau_{1}^{(1)}(gen_sig)[ofl])\n",
      "Info in <TUnfoldDensity::RegularizeOneDistribution>: regularizing yaxis regMode=3 densityMode=1 axisSteering=*[UOB]\n",
      "Info in <TUnfold::SetConstraint>: fConstraint=0\n",
      "Info in <TUnfold::TUnfold>: underflow and overflow bin do not depend on the input data\n",
      "Info in <TUnfold::TUnfold>: 24 input bins and 12 output bins\n",
      "Info in <TUnfoldDensity::TUnfold>: *NOT* unfolding bin #0 (yaxis:#tau_{1}^{(1)}(gen_sig)[ufl])\n",
      "Info in <TUnfoldDensity::TUnfold>: *NOT* unfolding bin #13 (yaxis:#tau_{1}^{(1)}(gen_sig)[ofl])\n",
      "Info in <TUnfoldDensity::RegularizeOneDistribution>: regularizing yaxis regMode=3 densityMode=1 axisSteering=*[UOB]\n",
      "Warning in <TUnfoldDensity::SetInput>: One input bin has zero error, and is ignored.\n",
      "Warning in <TUnfoldDensity::SetInput>: One input bin has zero error, and is ignored.\n",
      "Warning in <TROOT::Append>: Replacing existing TH1: unfolded_data (Potential memory leak).\n",
      "Warning in <TROOT::Append>: Replacing existing TH1: closure_unfolded_MC (Potential memory leak).\n",
      "Warning in <TROOT::Append>: Replacing existing TH1: histMgenMC_bkg (Potential memory leak).\n",
      "Warning in <TROOT::Append>: Replacing existing TH1: histMdetMC_bkg (Potential memory leak).\n",
      "Warning in <TROOT::Append>: Replacing existing TH1: histMgenMC_sig (Potential memory leak).\n",
      "Warning in <TROOT::Append>: Replacing existing TH1: histMdetMC_sig (Potential memory leak).\n",
      "Warning in <TROOT::Append>: Replacing existing TH1: histMdetData (Potential memory leak).\n",
      "Warning in <TROOT::Append>: Replacing existing TH1: response (Potential memory leak).\n",
      "Warning in <TROOT::Append>: Replacing existing TH1: purity (Potential memory leak).\n",
      "Warning in <TROOT::Append>: Replacing existing TH1: stability (Potential memory leak).\n",
      "Info in <TUnfold::SetConstraint>: fConstraint=0\n",
      "Info in <TUnfold::TUnfold>: underflow and overflow bin do not depend on the input data\n",
      "Info in <TUnfold::TUnfold>: 36 input bins and 18 output bins\n",
      "Info in <TUnfoldDensity::TUnfold>: *NOT* unfolding bin #0 (yaxis:#tau_{1}^{(1)}(gen_sig)[ufl])\n",
      "Info in <TUnfoldDensity::TUnfold>: *NOT* unfolding bin #19 (yaxis:#tau_{1}^{(1)}(gen_sig)[ofl])\n",
      "Info in <TUnfoldDensity::RegularizeOneDistribution>: regularizing yaxis regMode=3 densityMode=1 axisSteering=*[UOB]\n",
      "Info in <TUnfold::SetConstraint>: fConstraint=0\n",
      "Info in <TUnfold::TUnfold>: underflow and overflow bin do not depend on the input data\n",
      "Info in <TUnfold::TUnfold>: 36 input bins and 18 output bins\n",
      "Info in <TUnfoldDensity::TUnfold>: *NOT* unfolding bin #0 (yaxis:#tau_{1}^{(1)}(gen_sig)[ufl])\n",
      "Info in <TUnfoldDensity::TUnfold>: *NOT* unfolding bin #19 (yaxis:#tau_{1}^{(1)}(gen_sig)[ofl])\n",
      "Info in <TUnfoldDensity::RegularizeOneDistribution>: regularizing yaxis regMode=3 densityMode=1 axisSteering=*[UOB]\n",
      "Warning in <TUnfoldDensity::SetInput>: One input bin has zero error, and is ignored.\n",
      "Warning in <TUnfoldDensity::SetInput>: One input bin has zero error, and is ignored.\n",
      "Warning in <TROOT::Append>: Replacing existing TH1: unfolded_data (Potential memory leak).\n",
      "Warning in <TROOT::Append>: Replacing existing TH1: closure_unfolded_MC (Potential memory leak).\n"
     ]
    }
   ],
   "source": [
    "purities = []\n",
    "stabilities = []\n",
    "h_unfoldings = [] \n",
    "h_responses = []\n",
    "\n",
    "h_purities = ROOT.THStack(\"purities\",\"purities\")\n",
    "h_stabilities = ROOT.THStack(\"stabilities\",\"stabilities\")\n",
    "legus = []\n",
    "\n",
    "leg_p = ROOT.TLegend(0.15, 0.15, 0.35, 0.6)\n",
    "leg_p.SetLineColor(0)\n",
    "leg_p.SetBorderSize(0)\n",
    "leg_p.SetFillStyle(0)\n",
    "\n",
    "leg_s = ROOT.TLegend(0.15, 0.5, 0.35, 0.9)\n",
    "leg_s.SetLineColor(0)\n",
    "leg_s.SetBorderSize(0)\n",
    "leg_s.SetFillStyle(0)\n",
    "\n",
    "for i in xrange(len(det_bins_arr)):\n",
    "    k=i\n",
    "    gen_bins = gen_bins_arr[i]\n",
    "    det_bins = det_bins_arr[i]\n",
    "    \n",
    "    histMgenMC_bkg, histMdetMC_bkg, histMgenMC_sig, histMdetMC_sig, histMdetData, response = fill_hists(gen_bins, det_bins,\n",
    "                                                                                              MC_sig_reco_tau1_1, MC_sig_gen_tau1_1,\n",
    "                                                                                              MC_bkg_reco_tau1_1, MC_bkg_gen_tau1_1,\n",
    "                                                                                              data_tau1_1);\n",
    "    response.SetTitle(\"Response Matrix #tau_{1}^{(1)} binning %d\"%(i+1))\n",
    "    h_responses.append(response)\n",
    "    print \"Gen-level bins %d\"%i, gen_bins\n",
    "    print \"Detector-level bins %d\"%i, det_bins\n",
    "    '''\n",
    "    c0 = ROOT.TCanvas(\"chistMgenMC_sig1\", \"chistMgenMC_sig1\")\n",
    "    histMgenMC_sig.Draw(\"e\")\n",
    "    histMdetMC_sig.SetLineColor(ROOT.kRed+i)\n",
    "    histMdetMC_sig.Draw(\"e same\")\n",
    "    c0.Update()\n",
    "    c0.Draw()\n",
    "    c0.Print()\n",
    "    \n",
    "    \n",
    "    c1 = ROOT.TCanvas(\"chistMgenMC_bkg1\", \"chistMgenMC_bkg1\")\n",
    "    histMgenMC_bkg.Draw(\"e\")\n",
    "    histMdetMC_bkg.SetLineColor(ROOT.kRed+i)\n",
    "    histMdetMC_bkg.Draw(\"e same\")\n",
    "    c1.Update()\n",
    "    c1.Draw()\n",
    "    c1.Print()\n",
    "    \n",
    "    c2 = ROOT.TCanvas(\"chistMgenMC_sig1\", \"chistMgenMC_sig1\")\n",
    "    histMdetData.Draw(\"e \")\n",
    "    c2.Update()\n",
    "    c2.Draw()\n",
    "    c2.Print()\n",
    "    \n",
    "    c3 = ROOT.TCanvas(\"cresponse1\", \"cresponse1\")\n",
    "    response.Draw(\"colz\")\n",
    "    c3.Update()\n",
    "    c3.Draw()\n",
    "    c3.Print()\n",
    "    '''\n",
    "    purity, stability = purity_stability_calc(gen_bins, MC_sig_gen_tau1_1, det_bins, MC_sig_reco_tau1_1, verbose=False );\n",
    "    \n",
    "    if k==9:\n",
    "        k=ROOT.kGreen+9\n",
    "    purity.SetTitle(\"purity %d\"%(i+1))\n",
    "    #purity.SetLineStyle(i)\n",
    "    purity.SetLineColor(k+1)\n",
    "    \n",
    "    stability.SetTitle(\"stability %d\"%(i+1))\n",
    "    #stability.SetLineStyle(i)\n",
    "    stability.SetLineColor(k+1)\n",
    "    \n",
    "    purities.append(purity)\n",
    "    stabilities.append(stability)\n",
    "    \n",
    "    h_purities.Add(purity)\n",
    "    h_stabilities.Add(stability)\n",
    "    \n",
    "    leg_s.AddEntry( stability, \"bins%d\"%(i+1))\n",
    "    leg_p.AddEntry( purity, \"bins%d\"%(i+1))\n",
    "    \n",
    "    hu, legu = doUnfolding(response, histMdetData, histMdetMC_sig, histMdetMC_bkg, histMgenMC_sig)\n",
    "    hu.SetTitle(\"#tau_{1}^{(1)} binning %d\"%(i+1))\n",
    "    h_unfoldings.append(hu)\n",
    "    legus.append(legu)"
   ]
  },
  {
   "cell_type": "code",
   "execution_count": 68,
   "metadata": {
    "scrolled": true
   },
   "outputs": [
    {
     "name": "stderr",
     "output_type": "stream",
     "text": [
      "Warning in <TCanvas::Constructor>: Deleting canvas with same name: pse_ttbar\n",
      "Info in <TCanvas::Print>: png file Purities_tau1_1_Wsel_powheg.png has been created\n"
     ]
    }
   ],
   "source": [
    "cpse = ROOT.TCanvas(\"pse_ttbar\", \"pse_ttbar\", )\n",
    "#cpse.cd()\n",
    "h_purities.Draw(\"nostack\")\n",
    "leg_p.Draw()\n",
    "#cpse.Draw()\n",
    "cpse.SaveAs(\"Purities_tau1_1_Wsel_powheg.png\")\n",
    "#cpse.Print()\n",
    "#cpse.Delete()"
   ]
  },
  {
   "cell_type": "code",
   "execution_count": 69,
   "metadata": {},
   "outputs": [
    {
     "name": "stderr",
     "output_type": "stream",
     "text": [
      "Warning in <TCanvas::Constructor>: Deleting canvas with same name: pse1_ttbar\n",
      "Info in <TCanvas::Print>: png file Stabilities_tau1_1_Wsel_powheg.png has been created\n"
     ]
    }
   ],
   "source": [
    "cpse1 = ROOT.TCanvas(\"pse1_ttbar\", \"pse1_ttbar\", )\n",
    "h_stabilities.Draw(\"nostack\")\n",
    "leg_s.Draw()\n",
    "#cpse1.Draw()\n",
    "#cpse1.Draw()\n",
    "cpse1.SaveAs(\"Stabilities_tau1_1_Wsel_powheg.png\")\n",
    "#cpse1.Print()"
   ]
  },
  {
   "cell_type": "code",
   "execution_count": 71,
   "metadata": {
    "scrolled": false
   },
   "outputs": [
    {
     "name": "stderr",
     "output_type": "stream",
     "text": [
      "Warning in <TCanvas::Constructor>: Deleting canvas with same name: c5\n",
      "Info in <TCanvas::Print>: png file tau1_1_unfoldings_Wsel_powheg.png has been created\n"
     ]
    },
    {
     "data": {
      "text/html": [
       "\n",
       "<div id=\"root_plot_6\"\n",
       "     style=\"width: 1196px; height: 692px\">\n",
       "</div>\n",
       "\n",
       "<script>\n",
       " requirejs.config({\n",
       "     paths: {\n",
       "       'JSRootCore' : 'https://root.cern.ch/js/notebook//scripts/JSRootCore',\n",
       "     }\n",
       "   });\n",
       " require(['JSRootCore'],\n",
       "     function(Core) {\n",
       "       var obj = Core.JSONR_unref({\"_typename\":\"TCanvas\",\"fUniqueID\":0,\"fBits\":53673992,\"fLineColor\":1,\"fLineStyle\":1,\"fLineWidth\":1,\"fFillColor\":0,\"fFillStyle\":1001,\"fLeftMargin\":0.1,\"fRightMargin\":0.1,\"fBottomMargin\":0.1,\"fTopMargin\":0.1,\"fXfile\":2,\"fYfile\":2,\"fAfile\":1,\"fXstat\":0.99,\"fYstat\":0.99,\"fAstat\":2,\"fFrameFillColor\":0,\"fFrameLineColor\":1,\"fFrameFillStyle\":1001,\"fFrameLineStyle\":1,\"fFrameLineWidth\":1,\"fFrameBorderSize\":1,\"fFrameBorderMode\":0,\"fX1\":0,\"fY1\":0,\"fX2\":1,\"fY2\":1,\"fXtoAbsPixelk\":5e-5,\"fXtoPixelk\":5e-5,\"fXtoPixel\":1196,\"fYtoAbsPixelk\":692.00005,\"fYtoPixelk\":692.00005,\"fYtoPixel\":-692,\"fUtoAbsPixelk\":5e-5,\"fUtoPixelk\":5e-5,\"fUtoPixel\":1196,\"fVtoAbsPixelk\":692.00005,\"fVtoPixelk\":692,\"fVtoPixel\":-692,\"fAbsPixeltoXk\":0,\"fPixeltoXk\":0,\"fPixeltoX\":8.36120401337793e-4,\"fAbsPixeltoYk\":1,\"fPixeltoYk\":0,\"fPixeltoY\":-0.00144508670520231,\"fXlowNDC\":0,\"fYlowNDC\":0,\"fXUpNDC\":0,\"fYUpNDC\":0,\"fWNDC\":1,\"fHNDC\":1,\"fAbsXlowNDC\":0,\"fAbsYlowNDC\":0,\"fAbsWNDC\":1,\"fAbsHNDC\":1,\"fUxmin\":0,\"fUymin\":0,\"fUxmax\":1,\"fUymax\":1,\"fTheta\":30,\"fPhi\":30,\"fAspectRatio\":0,\"fNumber\":0,\"fTickx\":0,\"fTicky\":0,\"fLogx\":0,\"fLogy\":0,\"fLogz\":0,\"fPadPaint\":0,\"fCrosshair\":0,\"fCrosshairPos\":0,\"fBorderSize\":2,\"fBorderMode\":0,\"fModified\":false,\"fGridx\":false,\"fGridy\":false,\"fAbsCoord\":false,\"fEditable\":true,\"fFixedAspectRatio\":false,\"fPrimitives\":{\"_typename\":\"TList\",\"name\":\"TList\",\"arr\":[{\"_typename\":\"TPad\",\"fUniqueID\":0,\"fBits\":50331657,\"fLineColor\":1,\"fLineStyle\":1,\"fLineWidth\":1,\"fFillColor\":0,\"fFillStyle\":1001,\"fLeftMargin\":0.1,\"fRightMargin\":0.1,\"fBottomMargin\":0.1,\"fTopMargin\":0.1,\"fXfile\":2,\"fYfile\":2,\"fAfile\":1,\"fXstat\":0.99,\"fYstat\":0.99,\"fAstat\":2,\"fFrameFillColor\":0,\"fFrameLineColor\":1,\"fFrameFillStyle\":1001,\"fFrameLineStyle\":1,\"fFrameLineWidth\":1,\"fFrameBorderSize\":1,\"fFrameBorderMode\":0,\"fX1\":-0.0775000057742003,\"fY1\":-384.270534428308,\"fX2\":0.6975000057742,\"fY2\":3458.43458081169,\"fXtoAbsPixelk\":49.4347186864695,\"fXtoPixelk\":37.4747189537963,\"fXtoPixel\":483.544079506012,\"fYtoAbsPixelk\":305.864048143911,\"fYtoPixelk\":298.944048298585,\"fYtoPixel\":-0.0864391074381473,\"fUtoAbsPixelk\":11.9600497326732,\"fUtoPixelk\":5e-5,\"fUtoPixel\":374.74666720132,\"fVtoAbsPixelk\":339.080050154674,\"fVtoPixelk\":332.160000309348,\"fVtoPixel\":-332.160000309348,\"fAbsPixeltoXk\":-0.102234048107821,\"fPixeltoXk\":-0.0775000057742003,\"fPixeltoX\":0.00206806378649408,\"fAbsPixeltoYk\":3538.49093551523,\"fPixeltoYk\":-384.270534428308,\"fPixeltoY\":-11.5688376434887,\"fXlowNDC\":0.00999999977648258,\"fYlowNDC\":0.509999999776483,\"fXUpNDC\":0,\"fYUpNDC\":0,\"fWNDC\":0.313333333780368,\"fHNDC\":0.480000000447035,\"fAbsXlowNDC\":0.00999999977648258,\"fAbsYlowNDC\":0.509999999776483,\"fAbsWNDC\":0.313333333780368,\"fAbsHNDC\":0.480000000447035,\"fUxmin\":0,\"fUymin\":0,\"fUxmax\":0.62,\"fUymax\":3074.16404638338,\"fTheta\":30,\"fPhi\":30,\"fAspectRatio\":0,\"fNumber\":1,\"fTickx\":0,\"fTicky\":0,\"fLogx\":0,\"fLogy\":0,\"fLogz\":0,\"fPadPaint\":0,\"fCrosshair\":0,\"fCrosshairPos\":0,\"fBorderSize\":2,\"fBorderMode\":0,\"fModified\":false,\"fGridx\":false,\"fGridy\":false,\"fAbsCoord\":false,\"fEditable\":true,\"fFixedAspectRatio\":false,\"fPrimitives\":{\"_typename\":\"TList\",\"name\":\"TList\",\"arr\":[{\"_typename\":\"TFrame\",\"fUniqueID\":0,\"fBits\":50331656,\"fLineColor\":1,\"fLineStyle\":1,\"fLineWidth\":1,\"fFillColor\":0,\"fFillStyle\":1001,\"fX1\":0,\"fY1\":0,\"fX2\":0.62,\"fY2\":3074.16404638338,\"fBorderSize\":1,\"fBorderMode\":0},{\"_typename\":\"THStack\",\"fUniqueID\":0,\"fBits\":50331656,\"fName\":\"#tau_{1}^{(1)}\",\"fTitle\":\"#tau_{1}^{(1)} binning 1\",\"fHists\":{\"_typename\":\"TList\",\"name\":\"TList\",\"arr\":[{\"_typename\":\"TH1D\",\"fUniqueID\":0,\"fBits\":50332168,\"fName\":\"closure_unfolded_MC\",\"fTitle\":\"closure_unfolded_MC\",\"fLineColor\":7,\"fLineStyle\":1,\"fLineWidth\":1,\"fFillColor\":0,\"fFillStyle\":1001,\"fMarkerColor\":7,\"fMarkerStyle\":2,\"fMarkerSize\":1,\"fNcells\":12,\"fXaxis\":{\"_typename\":\"TAxis\",\"fUniqueID\":0,\"fBits\":50331648,\"fName\":\"xaxis\",\"fTitle\":\"#tau_{1}^{(1)}(gen_sig)\",\"fNdivisions\":510,\"fAxisColor\":1,\"fLabelColor\":1,\"fLabelFont\":42,\"fLabelOffset\":0.005,\"fLabelSize\":0.035,\"fTickLength\":0.03,\"fTitleOffset\":1,\"fTitleSize\":0.035,\"fTitleColor\":1,\"fTitleFont\":42,\"fNbins\":10,\"fXmin\":0,\"fXmax\":0.62,\"fXbins\":[0,0.13,0.17625,0.2225,0.26875,0.315,0.36125,0.4075,0.45375,0.5,0.62],\"fFirst\":0,\"fLast\":0,\"fBits2\":0,\"fTimeDisplay\":false,\"fTimeFormat\":\"\",\"fLabels\":null,\"fModLabs\":null},\"fYaxis\":{\"_typename\":\"TAxis\",\"fUniqueID\":0,\"fBits\":50331648,\"fName\":\"yaxis\",\"fTitle\":\"\",\"fNdivisions\":510,\"fAxisColor\":1,\"fLabelColor\":1,\"fLabelFont\":42,\"fLabelOffset\":0.005,\"fLabelSize\":0.035,\"fTickLength\":0.03,\"fTitleOffset\":0,\"fTitleSize\":0.035,\"fTitleColor\":1,\"fTitleFont\":42,\"fNbins\":1,\"fXmin\":0,\"fXmax\":1,\"fXbins\":[],\"fFirst\":0,\"fLast\":0,\"fBits2\":0,\"fTimeDisplay\":false,\"fTimeFormat\":\"\",\"fLabels\":null,\"fModLabs\":null},\"fZaxis\":{\"_typename\":\"TAxis\",\"fUniqueID\":0,\"fBits\":50331648,\"fName\":\"zaxis\",\"fTitle\":\"\",\"fNdivisions\":510,\"fAxisColor\":1,\"fLabelColor\":1,\"fLabelFont\":42,\"fLabelOffset\":0.005,\"fLabelSize\":0.035,\"fTickLength\":0.03,\"fTitleOffset\":1,\"fTitleSize\":0.035,\"fTitleColor\":1,\"fTitleFont\":42,\"fNbins\":1,\"fXmin\":0,\"fXmax\":1,\"fXbins\":[],\"fFirst\":0,\"fLast\":0,\"fBits2\":0,\"fTimeDisplay\":false,\"fTimeFormat\":\"\",\"fLabels\":null,\"fModLabs\":null},\"fBarOffset\":0,\"fBarWidth\":1000,\"fEntries\":22,\"fTsumw\":0,\"fTsumw2\":0,\"fTsumwx\":0,\"fTsumwx2\":0,\"fMaximum\":-1111,\"fMinimum\":-1111,\"fNormFactor\":0,\"fContour\":[],\"fSumw2\":[0,235.031556356291,586.98523408024,1497.31019523818,2688.0889233711,3323.41627655711,3271.10412331031,2649.4488226702,1617.55637244879,663.281320131065,149.530295739139,0],\"fOption\":\"\",\"fFunctions\":{\"_typename\":\"TList\",\"name\":\"TList\",\"arr\":[],\"opt\":[]},\"fBufferSize\":0,\"fBuffer\":[],\"fBinStatErrOpt\":0,\"fStatOverflows\":2,\"fArray\":[0,251.310532142453,604.033370301216,1347.26720156054,2125.58925599133,2561.42615907426,2657.31688089369,2176.67412010479,1442.41671672543,635.936543945681,99.1668485713445,0]},{\"_typename\":\"TH1D\",\"fUniqueID\":0,\"fBits\":50332168,\"fName\":\"unfolded_data\",\"fTitle\":\"unfolded_data\",\"fLineColor\":1,\"fLineStyle\":1,\"fLineWidth\":2,\"fFillColor\":0,\"fFillStyle\":1001,\"fMarkerColor\":1,\"fMarkerStyle\":22,\"fMarkerSize\":1,\"fNcells\":12,\"fXaxis\":{\"_typename\":\"TAxis\",\"fUniqueID\":0,\"fBits\":50331648,\"fName\":\"xaxis\",\"fTitle\":\"#tau_{1}^{(1)}(gen_sig)\",\"fNdivisions\":510,\"fAxisColor\":1,\"fLabelColor\":1,\"fLabelFont\":42,\"fLabelOffset\":0.005,\"fLabelSize\":0.035,\"fTickLength\":0.03,\"fTitleOffset\":1,\"fTitleSize\":0.035,\"fTitleColor\":1,\"fTitleFont\":42,\"fNbins\":10,\"fXmin\":0,\"fXmax\":0.62,\"fXbins\":[0,0.13,0.17625,0.2225,0.26875,0.315,0.36125,0.4075,0.45375,0.5,0.62],\"fFirst\":0,\"fLast\":0,\"fBits2\":0,\"fTimeDisplay\":false,\"fTimeFormat\":\"\",\"fLabels\":null,\"fModLabs\":null},\"fYaxis\":{\"_typename\":\"TAxis\",\"fUniqueID\":0,\"fBits\":50331648,\"fName\":\"yaxis\",\"fTitle\":\"\",\"fNdivisions\":510,\"fAxisColor\":1,\"fLabelColor\":1,\"fLabelFont\":42,\"fLabelOffset\":0.005,\"fLabelSize\":0.035,\"fTickLength\":0.03,\"fTitleOffset\":0,\"fTitleSize\":0.035,\"fTitleColor\":1,\"fTitleFont\":42,\"fNbins\":1,\"fXmin\":0,\"fXmax\":1,\"fXbins\":[],\"fFirst\":0,\"fLast\":0,\"fBits2\":0,\"fTimeDisplay\":false,\"fTimeFormat\":\"\",\"fLabels\":null,\"fModLabs\":null},\"fZaxis\":{\"_typename\":\"TAxis\",\"fUniqueID\":0,\"fBits\":50331648,\"fName\":\"zaxis\",\"fTitle\":\"\",\"fNdivisions\":510,\"fAxisColor\":1,\"fLabelColor\":1,\"fLabelFont\":42,\"fLabelOffset\":0.005,\"fLabelSize\":0.035,\"fTickLength\":0.03,\"fTitleOffset\":1,\"fTitleSize\":0.035,\"fTitleColor\":1,\"fTitleFont\":42,\"fNbins\":1,\"fXmin\":0,\"fXmax\":1,\"fXbins\":[],\"fFirst\":0,\"fLast\":0,\"fBits2\":0,\"fTimeDisplay\":false,\"fTimeFormat\":\"\",\"fLabels\":null,\"fModLabs\":null},\"fBarOffset\":0,\"fBarWidth\":1000,\"fEntries\":22,\"fTsumw\":0,\"fTsumw2\":0,\"fTsumwx\":0,\"fTsumwx2\":0,\"fMaximum\":-1111,\"fMinimum\":-1111,\"fNormFactor\":0,\"fContour\":[],\"fSumw2\":[0,4462.7317217468,14105.3016731123,27155.0434939259,33638.1352817326,31802.1835804361,21650.8995726777,16208.72630803,9073.27305963579,3645.9867809824,737.276947296243,0],\"fOption\":\"\",\"fFunctions\":{\"_typename\":\"TList\",\"name\":\"TList\",\"arr\":[],\"opt\":[]},\"fBufferSize\":0,\"fBuffer\":[],\"fBinStatErrOpt\":0,\"fStatOverflows\":2,\"fArray\":[0,102.059229319413,711.630431690119,1449.04786756906,2172.22446767709,2927.77528226988,2540.05069613463,2274.96761398937,1396.45305335112,630.101990152939,200.608813508453,0]}],\"opt\":[\"E\",\"E \"]},\"fHistogram\":{\"_typename\":\"TH1F\",\"fUniqueID\":0,\"fBits\":50332160,\"fName\":\"#tau_{1}^{(1)}\",\"fTitle\":\"#tau_{1}^{(1)} binning 1\",\"fLineColor\":602,\"fLineStyle\":1,\"fLineWidth\":1,\"fFillColor\":0,\"fFillStyle\":1001,\"fMarkerColor\":1,\"fMarkerStyle\":1,\"fMarkerSize\":1,\"fNcells\":12,\"fXaxis\":{\"_typename\":\"TAxis\",\"fUniqueID\":0,\"fBits\":50331648,\"fName\":\"xaxis\",\"fTitle\":\"\",\"fNdivisions\":510,\"fAxisColor\":1,\"fLabelColor\":1,\"fLabelFont\":42,\"fLabelOffset\":0.005,\"fLabelSize\":0.035,\"fTickLength\":0.03,\"fTitleOffset\":1,\"fTitleSize\":0.035,\"fTitleColor\":1,\"fTitleFont\":42,\"fNbins\":10,\"fXmin\":0,\"fXmax\":0.62,\"fXbins\":[0,0.13,0.17625,0.2225,0.26875,0.315,0.36125,0.4075,0.45375,0.5,0.62],\"fFirst\":0,\"fLast\":0,\"fBits2\":0,\"fTimeDisplay\":false,\"fTimeFormat\":\"\",\"fLabels\":null,\"fModLabs\":null},\"fYaxis\":{\"_typename\":\"TAxis\",\"fUniqueID\":0,\"fBits\":50331648,\"fName\":\"yaxis\",\"fTitle\":\"\",\"fNdivisions\":510,\"fAxisColor\":1,\"fLabelColor\":1,\"fLabelFont\":42,\"fLabelOffset\":0.005,\"fLabelSize\":0.035,\"fTickLength\":0.03,\"fTitleOffset\":0,\"fTitleSize\":0.035,\"fTitleColor\":1,\"fTitleFont\":42,\"fNbins\":1,\"fXmin\":0,\"fXmax\":1,\"fXbins\":[],\"fFirst\":0,\"fLast\":0,\"fBits2\":0,\"fTimeDisplay\":false,\"fTimeFormat\":\"\",\"fLabels\":null,\"fModLabs\":null},\"fZaxis\":{\"_typename\":\"TAxis\",\"fUniqueID\":0,\"fBits\":50331648,\"fName\":\"zaxis\",\"fTitle\":\"\",\"fNdivisions\":510,\"fAxisColor\":1,\"fLabelColor\":1,\"fLabelFont\":42,\"fLabelOffset\":0.005,\"fLabelSize\":0.035,\"fTickLength\":0.03,\"fTitleOffset\":1,\"fTitleSize\":0.035,\"fTitleColor\":1,\"fTitleFont\":42,\"fNbins\":1,\"fXmin\":0,\"fXmax\":1,\"fXbins\":[],\"fFirst\":0,\"fLast\":0,\"fBits2\":0,\"fTimeDisplay\":false,\"fTimeFormat\":\"\",\"fLabels\":null,\"fModLabs\":null},\"fBarOffset\":0,\"fBarWidth\":1000,\"fEntries\":0,\"fTsumw\":0,\"fTsumw2\":0,\"fTsumwx\":0,\"fTsumwx2\":0,\"fMaximum\":3074.16404638338,\"fMinimum\":0,\"fNormFactor\":0,\"fContour\":[],\"fSumw2\":[0,0,0,0,0,0,0,0,0,0,0,0],\"fOption\":\"\",\"fFunctions\":{\"_typename\":\"TList\",\"name\":\"TList\",\"arr\":[],\"opt\":[]},\"fBufferSize\":0,\"fBuffer\":[],\"fBinStatErrOpt\":0,\"fStatOverflows\":2,\"fArray\":[0,0,0,0,0,0,0,0,0,0,0,0]},\"fMaximum\":-1111,\"fMinimum\":-1111},{\"_typename\":\"TLegend\",\"fUniqueID\":0,\"fBits\":50331656,\"fLineColor\":0,\"fLineStyle\":1,\"fLineWidth\":1,\"fFillColor\":0,\"fFillStyle\":0,\"fX1\":-0.0620000055432323,\"fY1\":2305.62304623969,\"fX2\":0.627750004734844,\"fY2\":2882.02881352569,\"fX1NDC\":0.02,\"fY1NDC\":0.7,\"fX2NDC\":0.91,\"fY2NDC\":0.85,\"fBorderSize\":0,\"fInit\":1,\"fShadowColor\":1,\"fCornerRadius\":0,\"fOption\":\"brNDC\",\"fName\":\"TPave\",\"fTextAngle\":0,\"fTextSize\":6,\"fTextAlign\":12,\"fTextColor\":1,\"fTextFont\":42,\"fPrimitives\":{\"_typename\":\"TList\",\"name\":\"TList\",\"arr\":[{\"_typename\":\"TLegendEntry\",\"fUniqueID\":0,\"fBits\":50331656,\"fTextAngle\":0,\"fTextSize\":0,\"fTextAlign\":0,\"fTextColor\":0,\"fTextFont\":42,\"fLineColor\":1,\"fLineStyle\":1,\"fLineWidth\":1,\"fFillColor\":0,\"fFillStyle\":0,\"fMarkerColor\":1,\"fMarkerStyle\":22,\"fMarkerSize\":1,\"fObject\":{\"$ref\":12},\"fLabel\":\"Data (2016)\",\"fOption\":\"p\"},{\"_typename\":\"TLegendEntry\",\"fUniqueID\":0,\"fBits\":50331656,\"fTextAngle\":0,\"fTextSize\":0,\"fTextAlign\":0,\"fTextColor\":0,\"fTextFont\":42,\"fLineColor\":1,\"fLineStyle\":1,\"fLineWidth\":1,\"fFillColor\":0,\"fFillStyle\":0,\"fMarkerColor\":7,\"fMarkerStyle\":2,\"fMarkerSize\":1,\"fObject\":{\"$ref\":7},\"fLabel\":\"MC self-closure (ttbar Powheg)\",\"fOption\":\"p\"}],\"opt\":[\"p\",\"p\"]},\"fEntrySeparation\":0.1,\"fMargin\":0.25,\"fNColumns\":1,\"fColumnSeparation\":0},{\"_typename\":\"TPaveText\",\"fUniqueID\":0,\"fBits\":50331657,\"fLineColor\":1,\"fLineStyle\":1,\"fLineWidth\":1,\"fFillColor\":0,\"fFillStyle\":0,\"fX1\":0.199880842453059,\"fY1\":3119.92115459865,\"fX2\":0.420119157546941,\"fY2\":3439.22107355893,\"fX1NDC\":0.357910766572854,\"fY1NDC\":0.911907519296625,\"fX2NDC\":0.642089233427146,\"fY2NDC\":0.995000004768372,\"fBorderSize\":0,\"fInit\":1,\"fShadowColor\":1,\"fCornerRadius\":0,\"fOption\":\"blNDC\",\"fName\":\"title\",\"fTextAngle\":0,\"fTextSize\":0,\"fTextAlign\":22,\"fTextColor\":1,\"fTextFont\":42,\"fLabel\":\"\",\"fLongest\":24,\"fMargin\":0.05,\"fLines\":{\"_typename\":\"TList\",\"name\":\"TList\",\"arr\":[{\"_typename\":\"TLatex\",\"fUniqueID\":0,\"fBits\":50331648,\"fName\":\"\",\"fTitle\":\"#tau_{1}^{(1)} binning 1\",\"fTextAngle\":0,\"fTextSize\":0,\"fTextAlign\":0,\"fTextColor\":0,\"fTextFont\":0,\"fX\":0,\"fY\":0,\"fLineColor\":1,\"fLineStyle\":1,\"fLineWidth\":2,\"fLimitFactorSize\":3,\"fOriginSize\":0.0581501014530659}],\"opt\":[\"\"]}}],\"opt\":[\"\",\"nostack\",\"\",\"blNDC\"]},\"fExecs\":{\"_typename\":\"TList\",\"name\":\"TList\",\"arr\":[],\"opt\":[]},\"fName\":\"c5_1\",\"fTitle\":\"c5_1\",\"fNumPaletteColor\":0,\"fNextPaletteColor\":0},{\"_typename\":\"TPad\",\"fUniqueID\":0,\"fBits\":50331657,\"fLineColor\":1,\"fLineStyle\":1,\"fLineWidth\":1,\"fFillColor\":0,\"fFillStyle\":1001,\"fLeftMargin\":0.1,\"fRightMargin\":0.1,\"fBottomMargin\":0.1,\"fTopMargin\":0.1,\"fXfile\":2,\"fYfile\":2,\"fAfile\":1,\"fXstat\":0.99,\"fYstat\":0.99,\"fAstat\":2,\"fFrameFillColor\":0,\"fFrameLineColor\":1,\"fFrameFillStyle\":1001,\"fFrameLineStyle\":1,\"fFrameLineWidth\":1,\"fFrameBorderSize\":1,\"fFrameBorderMode\":0,\"fX1\":-0.0775000057742003,\"fY1\":-310.086513759202,\"fX2\":0.6975000057742,\"fY2\":2790.77843900685,\"fXtoAbsPixelk\":448.101385353136,\"fXtoPixelk\":37.4747189537963,\"fXtoPixel\":483.544079506012,\"fYtoAbsPixelk\":305.864048143911,\"fYtoPixelk\":298.944048298585,\"fYtoPixel\":-0.107118499311959,\"fUtoAbsPixelk\":410.62671639934,\"fUtoPixelk\":5e-5,\"fUtoPixel\":374.74666720132,\"fVtoAbsPixelk\":339.080050154674,\"fVtoPixelk\":332.160000309348,\"fVtoPixel\":-332.160000309348,\"fAbsPixeltoXk\":-0.926702144323462,\"fPixeltoXk\":-0.0775000057742003,\"fPixeltoX\":0.00206806378649408,\"fAbsPixeltoYk\":2855.37979068536,\"fPixeltoYk\":-310.086513759202,\"fPixeltoY\":-9.33545565353489,\"fXlowNDC\":0.343333333109816,\"fYlowNDC\":0.509999999776483,\"fXUpNDC\":0,\"fYUpNDC\":0,\"fWNDC\":0.313333333780368,\"fHNDC\":0.480000000447035,\"fAbsXlowNDC\":0.343333333109816,\"fAbsYlowNDC\":0.509999999776483,\"fAbsWNDC\":0.313333333780368,\"fAbsHNDC\":0.480000000447035,\"fUxmin\":0,\"fUymin\":0,\"fUxmax\":0.62,\"fUymax\":2480.69192524765,\"fTheta\":30,\"fPhi\":30,\"fAspectRatio\":0,\"fNumber\":2,\"fTickx\":0,\"fTicky\":0,\"fLogx\":0,\"fLogy\":0,\"fLogz\":0,\"fPadPaint\":0,\"fCrosshair\":0,\"fCrosshairPos\":0,\"fBorderSize\":2,\"fBorderMode\":0,\"fModified\":false,\"fGridx\":false,\"fGridy\":false,\"fAbsCoord\":false,\"fEditable\":true,\"fFixedAspectRatio\":false,\"fPrimitives\":{\"_typename\":\"TList\",\"name\":\"TList\",\"arr\":[{\"_typename\":\"TFrame\",\"fUniqueID\":0,\"fBits\":50331656,\"fLineColor\":1,\"fLineStyle\":1,\"fLineWidth\":1,\"fFillColor\":0,\"fFillStyle\":1001,\"fX1\":0,\"fY1\":0,\"fX2\":0.62,\"fY2\":2480.69192524765,\"fBorderSize\":1,\"fBorderMode\":0},{\"_typename\":\"THStack\",\"fUniqueID\":0,\"fBits\":50331656,\"fName\":\"#tau_{1}^{(1)}\",\"fTitle\":\"#tau_{1}^{(1)} binning 2\",\"fHists\":{\"_typename\":\"TList\",\"name\":\"TList\",\"arr\":[{\"_typename\":\"TH1D\",\"fUniqueID\":0,\"fBits\":50332168,\"fName\":\"closure_unfolded_MC\",\"fTitle\":\"closure_unfolded_MC\",\"fLineColor\":7,\"fLineStyle\":1,\"fLineWidth\":1,\"fFillColor\":0,\"fFillStyle\":1001,\"fMarkerColor\":7,\"fMarkerStyle\":2,\"fMarkerSize\":1,\"fNcells\":14,\"fXaxis\":{\"_typename\":\"TAxis\",\"fUniqueID\":0,\"fBits\":50331648,\"fName\":\"xaxis\",\"fTitle\":\"#tau_{1}^{(1)}(gen_sig)\",\"fNdivisions\":510,\"fAxisColor\":1,\"fLabelColor\":1,\"fLabelFont\":42,\"fLabelOffset\":0.005,\"fLabelSize\":0.035,\"fTickLength\":0.03,\"fTitleOffset\":1,\"fTitleSize\":0.035,\"fTitleColor\":1,\"fTitleFont\":42,\"fNbins\":12,\"fXmin\":0,\"fXmax\":0.62,\"fXbins\":[0,0.13,0.167,0.204,0.241,0.278,0.315,0.352,0.389,0.426,0.463,0.5,0.62],\"fFirst\":0,\"fLast\":0,\"fBits2\":0,\"fTimeDisplay\":false,\"fTimeFormat\":\"\",\"fLabels\":null,\"fModLabs\":null},\"fYaxis\":{\"_typename\":\"TAxis\",\"fUniqueID\":0,\"fBits\":50331648,\"fName\":\"yaxis\",\"fTitle\":\"\",\"fNdivisions\":510,\"fAxisColor\":1,\"fLabelColor\":1,\"fLabelFont\":42,\"fLabelOffset\":0.005,\"fLabelSize\":0.035,\"fTickLength\":0.03,\"fTitleOffset\":0,\"fTitleSize\":0.035,\"fTitleColor\":1,\"fTitleFont\":42,\"fNbins\":1,\"fXmin\":0,\"fXmax\":1,\"fXbins\":[],\"fFirst\":0,\"fLast\":0,\"fBits2\":0,\"fTimeDisplay\":false,\"fTimeFormat\":\"\",\"fLabels\":null,\"fModLabs\":null},\"fZaxis\":{\"_typename\":\"TAxis\",\"fUniqueID\":0,\"fBits\":50331648,\"fName\":\"zaxis\",\"fTitle\":\"\",\"fNdivisions\":510,\"fAxisColor\":1,\"fLabelColor\":1,\"fLabelFont\":42,\"fLabelOffset\":0.005,\"fLabelSize\":0.035,\"fTickLength\":0.03,\"fTitleOffset\":1,\"fTitleSize\":0.035,\"fTitleColor\":1,\"fTitleFont\":42,\"fNbins\":1,\"fXmin\":0,\"fXmax\":1,\"fXbins\":[],\"fFirst\":0,\"fLast\":0,\"fBits2\":0,\"fTimeDisplay\":false,\"fTimeFormat\":\"\",\"fLabels\":null,\"fModLabs\":null},\"fBarOffset\":0,\"fBarWidth\":1000,\"fEntries\":26,\"fTsumw\":0,\"fTsumw2\":0,\"fTsumwx\":0,\"fTsumwx2\":0,\"fMaximum\":-1111,\"fMinimum\":-1111,\"fNormFactor\":0,\"fContour\":[],\"fSumw2\":[0,241.46763258988,528.254009272731,1339.8212530859,2569.87234254016,3639.96734073335,4139.42602648625,4364.79378648755,3931.72553527585,2791.09856347695,1677.1803772742,653.653489977835,157.051537895763,0],\"fOption\":\"\",\"fFunctions\":{\"_typename\":\"TList\",\"name\":\"TList\",\"arr\":[],\"opt\":[]},\"fBufferSize\":0,\"fBuffer\":[],\"fBinStatErrOpt\":0,\"fStatOverflows\":2,\"fArray\":[0,251.310532142453,430.160697667021,885.97963597489,1406.34155676148,1841.316543985,2074.51755253896,2153.31241519977,1913.20510902901,1441.28073305176,961.618893902287,442.927110486763,99.1668485713448,0]},{\"_typename\":\"TH1D\",\"fUniqueID\":0,\"fBits\":50332168,\"fName\":\"unfolded_data\",\"fTitle\":\"unfolded_data\",\"fLineColor\":1,\"fLineStyle\":1,\"fLineWidth\":2,\"fFillColor\":0,\"fFillStyle\":1001,\"fMarkerColor\":1,\"fMarkerStyle\":22,\"fMarkerSize\":1,\"fNcells\":14,\"fXaxis\":{\"_typename\":\"TAxis\",\"fUniqueID\":0,\"fBits\":50331648,\"fName\":\"xaxis\",\"fTitle\":\"#tau_{1}^{(1)}(gen_sig)\",\"fNdivisions\":510,\"fAxisColor\":1,\"fLabelColor\":1,\"fLabelFont\":42,\"fLabelOffset\":0.005,\"fLabelSize\":0.035,\"fTickLength\":0.03,\"fTitleOffset\":1,\"fTitleSize\":0.035,\"fTitleColor\":1,\"fTitleFont\":42,\"fNbins\":12,\"fXmin\":0,\"fXmax\":0.62,\"fXbins\":[0,0.13,0.167,0.204,0.241,0.278,0.315,0.352,0.389,0.426,0.463,0.5,0.62],\"fFirst\":0,\"fLast\":0,\"fBits2\":0,\"fTimeDisplay\":false,\"fTimeFormat\":\"\",\"fLabels\":null,\"fModLabs\":null},\"fYaxis\":{\"_typename\":\"TAxis\",\"fUniqueID\":0,\"fBits\":50331648,\"fName\":\"yaxis\",\"fTitle\":\"\",\"fNdivisions\":510,\"fAxisColor\":1,\"fLabelColor\":1,\"fLabelFont\":42,\"fLabelOffset\":0.005,\"fLabelSize\":0.035,\"fTickLength\":0.03,\"fTitleOffset\":0,\"fTitleSize\":0.035,\"fTitleColor\":1,\"fTitleFont\":42,\"fNbins\":1,\"fXmin\":0,\"fXmax\":1,\"fXbins\":[],\"fFirst\":0,\"fLast\":0,\"fBits2\":0,\"fTimeDisplay\":false,\"fTimeFormat\":\"\",\"fLabels\":null,\"fModLabs\":null},\"fZaxis\":{\"_typename\":\"TAxis\",\"fUniqueID\":0,\"fBits\":50331648,\"fName\":\"zaxis\",\"fTitle\":\"\",\"fNdivisions\":510,\"fAxisColor\":1,\"fLabelColor\":1,\"fLabelFont\":42,\"fLabelOffset\":0.005,\"fLabelSize\":0.035,\"fTickLength\":0.03,\"fTitleOffset\":1,\"fTitleSize\":0.035,\"fTitleColor\":1,\"fTitleFont\":42,\"fNbins\":1,\"fXmin\":0,\"fXmax\":1,\"fXbins\":[],\"fFirst\":0,\"fLast\":0,\"fBits2\":0,\"fTimeDisplay\":false,\"fTimeFormat\":\"\",\"fLabels\":null,\"fModLabs\":null},\"fBarOffset\":0,\"fBarWidth\":1000,\"fEntries\":26,\"fTsumw\":0,\"fTsumw2\":0,\"fTsumwx\":0,\"fTsumwx2\":0,\"fMaximum\":-1111,\"fMinimum\":-1111,\"fNormFactor\":0,\"fContour\":[],\"fSumw2\":[0,4583.6856029081,12731.2822655666,23252.1928760058,38528.833092431,45426.8416098424,38022.2205434436,31262.4484322314,26450.157979324,17289.7954024839,9060.00504815531,2660.02018642297,755.652894163861,0],\"fOption\":\"\",\"fFunctions\":{\"_typename\":\"TList\",\"name\":\"TList\",\"arr\":[],\"opt\":[]},\"fBufferSize\":0,\"fBuffer\":[],\"fBinStatErrOpt\":0,\"fStatOverflows\":2,\"fArray\":[0,102.402505082358,564.939425919934,844.945751400739,1582.1094470907,1904.90231900829,2362.5637383311,2116.4611467678,1804.74692404264,1564.85717640439,863.710651248111,468.009368582318,189.725157363648,0]}],\"opt\":[\"E\",\"E \"]},\"fHistogram\":{\"_typename\":\"TH1F\",\"fUniqueID\":0,\"fBits\":50332160,\"fName\":\"#tau_{1}^{(1)}\",\"fTitle\":\"#tau_{1}^{(1)} binning 2\",\"fLineColor\":602,\"fLineStyle\":1,\"fLineWidth\":1,\"fFillColor\":0,\"fFillStyle\":1001,\"fMarkerColor\":1,\"fMarkerStyle\":1,\"fMarkerSize\":1,\"fNcells\":14,\"fXaxis\":{\"_typename\":\"TAxis\",\"fUniqueID\":0,\"fBits\":50331648,\"fName\":\"xaxis\",\"fTitle\":\"\",\"fNdivisions\":510,\"fAxisColor\":1,\"fLabelColor\":1,\"fLabelFont\":42,\"fLabelOffset\":0.005,\"fLabelSize\":0.035,\"fTickLength\":0.03,\"fTitleOffset\":1,\"fTitleSize\":0.035,\"fTitleColor\":1,\"fTitleFont\":42,\"fNbins\":12,\"fXmin\":0,\"fXmax\":0.62,\"fXbins\":[0,0.13,0.167,0.204,0.241,0.278,0.315,0.352,0.389,0.426,0.463,0.5,0.62],\"fFirst\":0,\"fLast\":0,\"fBits2\":0,\"fTimeDisplay\":false,\"fTimeFormat\":\"\",\"fLabels\":null,\"fModLabs\":null},\"fYaxis\":{\"_typename\":\"TAxis\",\"fUniqueID\":0,\"fBits\":50331648,\"fName\":\"yaxis\",\"fTitle\":\"\",\"fNdivisions\":510,\"fAxisColor\":1,\"fLabelColor\":1,\"fLabelFont\":42,\"fLabelOffset\":0.005,\"fLabelSize\":0.035,\"fTickLength\":0.03,\"fTitleOffset\":0,\"fTitleSize\":0.035,\"fTitleColor\":1,\"fTitleFont\":42,\"fNbins\":1,\"fXmin\":0,\"fXmax\":1,\"fXbins\":[],\"fFirst\":0,\"fLast\":0,\"fBits2\":0,\"fTimeDisplay\":false,\"fTimeFormat\":\"\",\"fLabels\":null,\"fModLabs\":null},\"fZaxis\":{\"_typename\":\"TAxis\",\"fUniqueID\":0,\"fBits\":50331648,\"fName\":\"zaxis\",\"fTitle\":\"\",\"fNdivisions\":510,\"fAxisColor\":1,\"fLabelColor\":1,\"fLabelFont\":42,\"fLabelOffset\":0.005,\"fLabelSize\":0.035,\"fTickLength\":0.03,\"fTitleOffset\":1,\"fTitleSize\":0.035,\"fTitleColor\":1,\"fTitleFont\":42,\"fNbins\":1,\"fXmin\":0,\"fXmax\":1,\"fXbins\":[],\"fFirst\":0,\"fLast\":0,\"fBits2\":0,\"fTimeDisplay\":false,\"fTimeFormat\":\"\",\"fLabels\":null,\"fModLabs\":null},\"fBarOffset\":0,\"fBarWidth\":1000,\"fEntries\":0,\"fTsumw\":0,\"fTsumw2\":0,\"fTsumwx\":0,\"fTsumwx2\":0,\"fMaximum\":2480.69192524765,\"fMinimum\":0,\"fNormFactor\":0,\"fContour\":[],\"fSumw2\":[0,0,0,0,0,0,0,0,0,0,0,0,0,0],\"fOption\":\"\",\"fFunctions\":{\"_typename\":\"TList\",\"name\":\"TList\",\"arr\":[],\"opt\":[]},\"fBufferSize\":0,\"fBuffer\":[],\"fBinStatErrOpt\":0,\"fStatOverflows\":2,\"fArray\":[0,0,0,0,0,0,0,0,0,0,0,0,0,0]},\"fMaximum\":-1111,\"fMinimum\":-1111},{\"_typename\":\"TPaveText\",\"fUniqueID\":0,\"fBits\":50331657,\"fLineColor\":1,\"fLineStyle\":1,\"fLineWidth\":1,\"fFillColor\":0,\"fFillStyle\":0,\"fX1\":0.197812778666565,\"fY1\":2517.61555299154,\"fX2\":0.422187221333435,\"fY2\":2775.2741290291,\"fX1NDC\":0.35524229721069,\"fY1NDC\":0.911907519296625,\"fX2NDC\":0.64475770278931,\"fY2NDC\":0.995000004768372,\"fBorderSize\":0,\"fInit\":1,\"fShadowColor\":1,\"fCornerRadius\":0,\"fOption\":\"blNDC\",\"fName\":\"title\",\"fTextAngle\":0,\"fTextSize\":0,\"fTextAlign\":22,\"fTextColor\":1,\"fTextFont\":42,\"fLabel\":\"\",\"fLongest\":24,\"fMargin\":0.05,\"fLines\":{\"_typename\":\"TList\",\"name\":\"TList\",\"arr\":[{\"_typename\":\"TLatex\",\"fUniqueID\":0,\"fBits\":50331648,\"fName\":\"\",\"fTitle\":\"#tau_{1}^{(1)} binning 2\",\"fTextAngle\":0,\"fTextSize\":0,\"fTextAlign\":0,\"fTextColor\":0,\"fTextFont\":0,\"fX\":0,\"fY\":0,\"fLineColor\":1,\"fLineStyle\":1,\"fLineWidth\":2,\"fLimitFactorSize\":3,\"fOriginSize\":0.0573155991733074}],\"opt\":[\"\"]}}],\"opt\":[\"\",\"nostack\",\"blNDC\"]},\"fExecs\":{\"_typename\":\"TList\",\"name\":\"TList\",\"arr\":[],\"opt\":[]},\"fName\":\"c5_2\",\"fTitle\":\"c5_2\",\"fNumPaletteColor\":0,\"fNextPaletteColor\":0},{\"_typename\":\"TPad\",\"fUniqueID\":0,\"fBits\":50331657,\"fLineColor\":1,\"fLineStyle\":1,\"fLineWidth\":1,\"fFillColor\":0,\"fFillStyle\":1001,\"fLeftMargin\":0.1,\"fRightMargin\":0.1,\"fBottomMargin\":0.1,\"fTopMargin\":0.1,\"fXfile\":2,\"fYfile\":2,\"fAfile\":1,\"fXstat\":0.99,\"fYstat\":0.99,\"fAstat\":2,\"fFrameFillColor\":0,\"fFrameLineColor\":1,\"fFrameFillStyle\":1001,\"fFrameLineStyle\":1,\"fFrameLineWidth\":1,\"fFrameBorderSize\":1,\"fFrameBorderMode\":0,\"fX1\":-0.0775000057742003,\"fY1\":-209.705611633879,\"fX2\":0.6975000057742,\"fY2\":1887.35037971063,\"fXtoAbsPixelk\":846.768052019803,\"fXtoPixelk\":37.4747189537963,\"fXtoPixel\":483.544079506012,\"fYtoAbsPixelk\":305.864048143911,\"fYtoPixelk\":298.944048298585,\"fYtoPixel\":-0.15839348194818,\"fUtoAbsPixelk\":809.293383066006,\"fUtoPixelk\":5e-5,\"fUtoPixel\":374.74666720132,\"fVtoAbsPixelk\":339.080050154674,\"fVtoPixelk\":332.160000309348,\"fVtoPixel\":-332.160000309348,\"fAbsPixeltoXk\":-1.7511702405391,\"fPixeltoXk\":-0.0775000057742003,\"fPixeltoX\":0.00206806378649408,\"fAbsPixeltoYk\":1931.03904517976,\"fPixeltoYk\":-209.705611633879,\"fPixeltoY\":-6.31339110486353,\"fXlowNDC\":0.676666666443149,\"fYlowNDC\":0.509999999776483,\"fXUpNDC\":0,\"fYUpNDC\":0,\"fWNDC\":0.313333333780368,\"fHNDC\":0.480000000447035,\"fAbsXlowNDC\":0.676666666443149,\"fAbsYlowNDC\":0.509999999776483,\"fAbsWNDC\":0.313333333780368,\"fAbsHNDC\":0.480000000447035,\"fUxmin\":0,\"fUymin\":0,\"fUxmax\":0.62,\"fUymax\":1677.64476807675,\"fTheta\":30,\"fPhi\":30,\"fAspectRatio\":0,\"fNumber\":3,\"fTickx\":0,\"fTicky\":0,\"fLogx\":0,\"fLogy\":0,\"fLogz\":0,\"fPadPaint\":0,\"fCrosshair\":0,\"fCrosshairPos\":0,\"fBorderSize\":2,\"fBorderMode\":0,\"fModified\":false,\"fGridx\":false,\"fGridy\":false,\"fAbsCoord\":false,\"fEditable\":true,\"fFixedAspectRatio\":false,\"fPrimitives\":{\"_typename\":\"TList\",\"name\":\"TList\",\"arr\":[{\"_typename\":\"TFrame\",\"fUniqueID\":0,\"fBits\":50331656,\"fLineColor\":1,\"fLineStyle\":1,\"fLineWidth\":1,\"fFillColor\":0,\"fFillStyle\":1001,\"fX1\":0,\"fY1\":0,\"fX2\":0.62,\"fY2\":1677.64476807675,\"fBorderSize\":1,\"fBorderMode\":0},{\"_typename\":\"THStack\",\"fUniqueID\":0,\"fBits\":50331656,\"fName\":\"#tau_{1}^{(1)}\",\"fTitle\":\"#tau_{1}^{(1)} binning 3\",\"fHists\":{\"_typename\":\"TList\",\"name\":\"TList\",\"arr\":[{\"_typename\":\"TH1D\",\"fUniqueID\":0,\"fBits\":50332168,\"fName\":\"closure_unfolded_MC\",\"fTitle\":\"closure_unfolded_MC\",\"fLineColor\":7,\"fLineStyle\":1,\"fLineWidth\":1,\"fFillColor\":0,\"fFillStyle\":1001,\"fMarkerColor\":7,\"fMarkerStyle\":2,\"fMarkerSize\":1,\"fNcells\":20,\"fXaxis\":{\"_typename\":\"TAxis\",\"fUniqueID\":0,\"fBits\":50331648,\"fName\":\"xaxis\",\"fTitle\":\"#tau_{1}^{(1)}(gen_sig)\",\"fNdivisions\":510,\"fAxisColor\":1,\"fLabelColor\":1,\"fLabelFont\":42,\"fLabelOffset\":0.005,\"fLabelSize\":0.035,\"fTickLength\":0.03,\"fTitleOffset\":1,\"fTitleSize\":0.035,\"fTitleColor\":1,\"fTitleFont\":42,\"fNbins\":18,\"fXmin\":0,\"fXmax\":0.62,\"fXbins\":[0,0.13,0.153125,0.17625,0.199375,0.2225,0.245625,0.26875,0.291875,0.315,0.338125,0.36125,0.384375,0.4075,0.430625,0.45375,0.476875,0.5,0.62],\"fFirst\":0,\"fLast\":0,\"fBits2\":0,\"fTimeDisplay\":false,\"fTimeFormat\":\"\",\"fLabels\":null,\"fModLabs\":null},\"fYaxis\":{\"_typename\":\"TAxis\",\"fUniqueID\":0,\"fBits\":50331648,\"fName\":\"yaxis\",\"fTitle\":\"\",\"fNdivisions\":510,\"fAxisColor\":1,\"fLabelColor\":1,\"fLabelFont\":42,\"fLabelOffset\":0.005,\"fLabelSize\":0.035,\"fTickLength\":0.03,\"fTitleOffset\":0,\"fTitleSize\":0.035,\"fTitleColor\":1,\"fTitleFont\":42,\"fNbins\":1,\"fXmin\":0,\"fXmax\":1,\"fXbins\":[],\"fFirst\":0,\"fLast\":0,\"fBits2\":0,\"fTimeDisplay\":false,\"fTimeFormat\":\"\",\"fLabels\":null,\"fModLabs\":null},\"fZaxis\":{\"_typename\":\"TAxis\",\"fUniqueID\":0,\"fBits\":50331648,\"fName\":\"zaxis\",\"fTitle\":\"\",\"fNdivisions\":510,\"fAxisColor\":1,\"fLabelColor\":1,\"fLabelFont\":42,\"fLabelOffset\":0.005,\"fLabelSize\":0.035,\"fTickLength\":0.03,\"fTitleOffset\":1,\"fTitleSize\":0.035,\"fTitleColor\":1,\"fTitleFont\":42,\"fNbins\":1,\"fXmin\":0,\"fXmax\":1,\"fXbins\":[],\"fFirst\":0,\"fLast\":0,\"fBits2\":0,\"fTimeDisplay\":false,\"fTimeFormat\":\"\",\"fLabels\":null,\"fModLabs\":null},\"fBarOffset\":0,\"fBarWidth\":1000,\"fEntries\":38,\"fTsumw\":0,\"fTsumw2\":0,\"fTsumwx\":0,\"fTsumwx2\":0,\"fMaximum\":-1111,\"fMinimum\":-1111,\"fNormFactor\":0,\"fContour\":[],\"fSumw2\":[0,271.771540290036,482.998750775434,1176.77367247252,2450.33572099072,3961.54560903639,5796.02017306298,9374.55204239796,10873.1056416179,10199.748854369,11553.9277837673,12219.0996563786,11327.021892671,9807.32392417011,7865.5088901465,4967.63500002827,2426.42473223576,921.815029536958,212.694955845375,0],\"fOption\":\"\",\"fFunctions\":{\"_typename\":\"TList\",\"name\":\"TList\",\"arr\":[],\"opt\":[]},\"fBufferSize\":0,\"fBuffer\":[],\"fBinStatErrOpt\":0,\"fStatOverflows\":2,\"fArray\":[0,251.310532142453,236.497665186536,367.53570511468,571.488278363795,775.778923196748,974.453792362959,1151.13546362838,1254.01973061956,1307.4064284547,1368.33544513763,1288.98143575603,1206.93691193682,969.737208167991,816.54538149253,625.871335232908,418.896464346965,217.040079598717,99.1668485713439,0]},{\"_typename\":\"TH1D\",\"fUniqueID\":0,\"fBits\":50332168,\"fName\":\"unfolded_data\",\"fTitle\":\"unfolded_data\",\"fLineColor\":1,\"fLineStyle\":1,\"fLineWidth\":2,\"fFillColor\":0,\"fFillStyle\":1001,\"fMarkerColor\":1,\"fMarkerStyle\":22,\"fMarkerSize\":1,\"fNcells\":20,\"fXaxis\":{\"_typename\":\"TAxis\",\"fUniqueID\":0,\"fBits\":50331648,\"fName\":\"xaxis\",\"fTitle\":\"#tau_{1}^{(1)}(gen_sig)\",\"fNdivisions\":510,\"fAxisColor\":1,\"fLabelColor\":1,\"fLabelFont\":42,\"fLabelOffset\":0.005,\"fLabelSize\":0.035,\"fTickLength\":0.03,\"fTitleOffset\":1,\"fTitleSize\":0.035,\"fTitleColor\":1,\"fTitleFont\":42,\"fNbins\":18,\"fXmin\":0,\"fXmax\":0.62,\"fXbins\":[0,0.13,0.153125,0.17625,0.199375,0.2225,0.245625,0.26875,0.291875,0.315,0.338125,0.36125,0.384375,0.4075,0.430625,0.45375,0.476875,0.5,0.62],\"fFirst\":0,\"fLast\":0,\"fBits2\":0,\"fTimeDisplay\":false,\"fTimeFormat\":\"\",\"fLabels\":null,\"fModLabs\":null},\"fYaxis\":{\"_typename\":\"TAxis\",\"fUniqueID\":0,\"fBits\":50331648,\"fName\":\"yaxis\",\"fTitle\":\"\",\"fNdivisions\":510,\"fAxisColor\":1,\"fLabelColor\":1,\"fLabelFont\":42,\"fLabelOffset\":0.005,\"fLabelSize\":0.035,\"fTickLength\":0.03,\"fTitleOffset\":0,\"fTitleSize\":0.035,\"fTitleColor\":1,\"fTitleFont\":42,\"fNbins\":1,\"fXmin\":0,\"fXmax\":1,\"fXbins\":[],\"fFirst\":0,\"fLast\":0,\"fBits2\":0,\"fTimeDisplay\":false,\"fTimeFormat\":\"\",\"fLabels\":null,\"fModLabs\":null},\"fZaxis\":{\"_typename\":\"TAxis\",\"fUniqueID\":0,\"fBits\":50331648,\"fName\":\"zaxis\",\"fTitle\":\"\",\"fNdivisions\":510,\"fAxisColor\":1,\"fLabelColor\":1,\"fLabelFont\":42,\"fLabelOffset\":0.005,\"fLabelSize\":0.035,\"fTickLength\":0.03,\"fTitleOffset\":1,\"fTitleSize\":0.035,\"fTitleColor\":1,\"fTitleFont\":42,\"fNbins\":1,\"fXmin\":0,\"fXmax\":1,\"fXbins\":[],\"fFirst\":0,\"fLast\":0,\"fBits2\":0,\"fTimeDisplay\":false,\"fTimeFormat\":\"\",\"fLabels\":null,\"fModLabs\":null},\"fBarOffset\":0,\"fBarWidth\":1000,\"fEntries\":38,\"fTsumw\":0,\"fTsumw2\":0,\"fTsumwx\":0,\"fTsumwx2\":0,\"fMaximum\":-1111,\"fMinimum\":-1111,\"fNormFactor\":0,\"fContour\":[],\"fSumw2\":[0,5231.71714495931,11676.3795517007,24554.6896170944,40909.9572735151,65114.2091083921,64796.3926917659,102222.107526297,108075.378167073,95770.0966274647,88702.2108164806,78726.1230016315,75339.4256861831,56760.6072715618,44734.1723235554,23896.8927513011,9225.52128926711,3464.20087093772,1009.69090171927,0],\"fOption\":\"\",\"fFunctions\":{\"_typename\":\"TList\",\"name\":\"TList\",\"arr\":[],\"opt\":[]},\"fBufferSize\":0,\"fBuffer\":[],\"fBinStatErrOpt\":0,\"fStatOverflows\":2,\"fArray\":[0,105.301564114389,404.69360006938,312.768019863177,766.569942394041,505.829033188213,1427.93245845895,845.897404493211,1597.75692197785,1540.339258185,1160.04915430945,1477.23143082157,987.309808292365,1128.32472976075,812.091909575256,532.512974422933,472.730741174139,181.010466761558,195.801364803512,0]}],\"opt\":[\"E\",\"E \"]},\"fHistogram\":{\"_typename\":\"TH1F\",\"fUniqueID\":0,\"fBits\":50332160,\"fName\":\"#tau_{1}^{(1)}\",\"fTitle\":\"#tau_{1}^{(1)} binning 3\",\"fLineColor\":602,\"fLineStyle\":1,\"fLineWidth\":1,\"fFillColor\":0,\"fFillStyle\":1001,\"fMarkerColor\":1,\"fMarkerStyle\":1,\"fMarkerSize\":1,\"fNcells\":20,\"fXaxis\":{\"_typename\":\"TAxis\",\"fUniqueID\":0,\"fBits\":50331648,\"fName\":\"xaxis\",\"fTitle\":\"\",\"fNdivisions\":510,\"fAxisColor\":1,\"fLabelColor\":1,\"fLabelFont\":42,\"fLabelOffset\":0.005,\"fLabelSize\":0.035,\"fTickLength\":0.03,\"fTitleOffset\":1,\"fTitleSize\":0.035,\"fTitleColor\":1,\"fTitleFont\":42,\"fNbins\":18,\"fXmin\":0,\"fXmax\":0.62,\"fXbins\":[0,0.13,0.153125,0.17625,0.199375,0.2225,0.245625,0.26875,0.291875,0.315,0.338125,0.36125,0.384375,0.4075,0.430625,0.45375,0.476875,0.5,0.62],\"fFirst\":0,\"fLast\":0,\"fBits2\":0,\"fTimeDisplay\":false,\"fTimeFormat\":\"\",\"fLabels\":null,\"fModLabs\":null},\"fYaxis\":{\"_typename\":\"TAxis\",\"fUniqueID\":0,\"fBits\":50331648,\"fName\":\"yaxis\",\"fTitle\":\"\",\"fNdivisions\":510,\"fAxisColor\":1,\"fLabelColor\":1,\"fLabelFont\":42,\"fLabelOffset\":0.005,\"fLabelSize\":0.035,\"fTickLength\":0.03,\"fTitleOffset\":0,\"fTitleSize\":0.035,\"fTitleColor\":1,\"fTitleFont\":42,\"fNbins\":1,\"fXmin\":0,\"fXmax\":1,\"fXbins\":[],\"fFirst\":0,\"fLast\":0,\"fBits2\":0,\"fTimeDisplay\":false,\"fTimeFormat\":\"\",\"fLabels\":null,\"fModLabs\":null},\"fZaxis\":{\"_typename\":\"TAxis\",\"fUniqueID\":0,\"fBits\":50331648,\"fName\":\"zaxis\",\"fTitle\":\"\",\"fNdivisions\":510,\"fAxisColor\":1,\"fLabelColor\":1,\"fLabelFont\":42,\"fLabelOffset\":0.005,\"fLabelSize\":0.035,\"fTickLength\":0.03,\"fTitleOffset\":1,\"fTitleSize\":0.035,\"fTitleColor\":1,\"fTitleFont\":42,\"fNbins\":1,\"fXmin\":0,\"fXmax\":1,\"fXbins\":[],\"fFirst\":0,\"fLast\":0,\"fBits2\":0,\"fTimeDisplay\":false,\"fTimeFormat\":\"\",\"fLabels\":null,\"fModLabs\":null},\"fBarOffset\":0,\"fBarWidth\":1000,\"fEntries\":0,\"fTsumw\":0,\"fTsumw2\":0,\"fTsumwx\":0,\"fTsumwx2\":0,\"fMaximum\":1677.64476807675,\"fMinimum\":0,\"fNormFactor\":0,\"fContour\":[],\"fSumw2\":[0,0,0,0,0,0,0,0,0,0,0,0,0,0,0,0,0,0,0,0],\"fOption\":\"\",\"fFunctions\":{\"_typename\":\"TList\",\"name\":\"TList\",\"arr\":[],\"opt\":[]},\"fBufferSize\":0,\"fBuffer\":[],\"fBinStatErrOpt\":0,\"fStatOverflows\":2,\"fArray\":[0,0,0,0,0,0,0,0,0,0,0,0,0,0,0,0,0,0,0,0]},\"fMaximum\":-1111,\"fMinimum\":-1111},{\"_typename\":\"TPaveText\",\"fUniqueID\":0,\"fBits\":50331657,\"fLineColor\":1,\"fLineStyle\":1,\"fLineWidth\":1,\"fFillColor\":0,\"fFillStyle\":0,\"fX1\":0.197812778666565,\"fY1\":1702.61551525921,\"fX2\":0.422187221333435,\"fY2\":1876.86510975345,\"fX1NDC\":0.35524229721069,\"fY1NDC\":0.911907519296625,\"fX2NDC\":0.64475770278931,\"fY2NDC\":0.995000004768372,\"fBorderSize\":0,\"fInit\":1,\"fShadowColor\":1,\"fCornerRadius\":0,\"fOption\":\"blNDC\",\"fName\":\"title\",\"fTextAngle\":0,\"fTextSize\":0,\"fTextAlign\":22,\"fTextColor\":1,\"fTextFont\":42,\"fLabel\":\"\",\"fLongest\":24,\"fMargin\":0.05,\"fLines\":{\"_typename\":\"TList\",\"name\":\"TList\",\"arr\":[{\"_typename\":\"TLatex\",\"fUniqueID\":0,\"fBits\":50331648,\"fName\":\"\",\"fTitle\":\"#tau_{1}^{(1)} binning 3\",\"fTextAngle\":0,\"fTextSize\":0,\"fTextAlign\":0,\"fTextColor\":0,\"fTextFont\":0,\"fX\":0,\"fY\":0,\"fLineColor\":1,\"fLineStyle\":1,\"fLineWidth\":2,\"fLimitFactorSize\":3,\"fOriginSize\":0.0573155991733074}],\"opt\":[\"\"]}}],\"opt\":[\"\",\"nostack\",\"blNDC\"]},\"fExecs\":{\"_typename\":\"TList\",\"name\":\"TList\",\"arr\":[],\"opt\":[]},\"fName\":\"c5_3\",\"fTitle\":\"c5_3\",\"fNumPaletteColor\":0,\"fNextPaletteColor\":0},{\"_typename\":\"TPad\",\"fUniqueID\":0,\"fBits\":50331657,\"fLineColor\":1,\"fLineStyle\":1,\"fLineWidth\":1,\"fFillColor\":0,\"fFillStyle\":1001,\"fLeftMargin\":0.1,\"fRightMargin\":0.1,\"fBottomMargin\":0.1,\"fTopMargin\":0.1,\"fXfile\":2,\"fYfile\":2,\"fAfile\":1,\"fXstat\":0.99,\"fYstat\":0.99,\"fAstat\":2,\"fFrameFillColor\":0,\"fFrameLineColor\":1,\"fFrameFillStyle\":1001,\"fFrameLineStyle\":1,\"fFrameLineWidth\":1,\"fFrameBorderSize\":1,\"fFrameBorderMode\":0,\"fX1\":-0.0775000057742003,\"fY1\":-451.97436273282,\"fX2\":0.6975000057742,\"fY2\":3615.66805992132,\"fXtoAbsPixelk\":49.4347186864695,\"fXtoPixelk\":37.4747189537963,\"fXtoPixel\":483.544079506012,\"fYtoAbsPixelk\":648.172232587172,\"fYtoPixelk\":295.252232741846,\"fYtoPixel\":-0.0816590953175803,\"fUtoAbsPixelk\":11.9600497326732,\"fUtoPixelk\":5e-5,\"fUtoPixel\":374.74666720132,\"fVtoAbsPixelk\":685.080050154674,\"fVtoPixelk\":332.160000309348,\"fVtoPixel\":-332.160000309348,\"fAbsPixeltoXk\":-0.102234048107821,\"fPixeltoXk\":-0.0775000057742003,\"fPixeltoX\":0.00206806378649408,\"fAbsPixeltoYk\":7937.53812807215,\"fPixeltoYk\":-451.97436273282,\"fPixeltoY\":-12.2460332937917,\"fXlowNDC\":0.00999999977648258,\"fYlowNDC\":0.00999999977648258,\"fXUpNDC\":0,\"fYUpNDC\":0,\"fWNDC\":0.313333333780368,\"fHNDC\":0.480000000447035,\"fAbsXlowNDC\":0.00999999977648258,\"fAbsYlowNDC\":0.00999999977648258,\"fAbsWNDC\":0.313333333780368,\"fAbsHNDC\":0.480000000447035,\"fUxmin\":0,\"fUymin\":-45.2100962223664,\"fUxmax\":0.62,\"fUymax\":3208.90379341087,\"fTheta\":30,\"fPhi\":30,\"fAspectRatio\":0,\"fNumber\":4,\"fTickx\":0,\"fTicky\":0,\"fLogx\":0,\"fLogy\":0,\"fLogz\":0,\"fPadPaint\":0,\"fCrosshair\":0,\"fCrosshairPos\":0,\"fBorderSize\":2,\"fBorderMode\":0,\"fModified\":false,\"fGridx\":false,\"fGridy\":false,\"fAbsCoord\":false,\"fEditable\":true,\"fFixedAspectRatio\":false,\"fPrimitives\":{\"_typename\":\"TList\",\"name\":\"TList\",\"arr\":[{\"_typename\":\"TFrame\",\"fUniqueID\":0,\"fBits\":50331656,\"fLineColor\":1,\"fLineStyle\":1,\"fLineWidth\":1,\"fFillColor\":0,\"fFillStyle\":1001,\"fX1\":0,\"fY1\":-45.2100962223664,\"fX2\":0.62,\"fY2\":3208.90379341087,\"fBorderSize\":1,\"fBorderMode\":0},{\"_typename\":\"THStack\",\"fUniqueID\":0,\"fBits\":50331656,\"fName\":\"#tau_{1}^{(1)}\",\"fTitle\":\"#tau_{1}^{(1)} binning 4\",\"fHists\":{\"_typename\":\"TList\",\"name\":\"TList\",\"arr\":[{\"_typename\":\"TH1D\",\"fUniqueID\":0,\"fBits\":50332168,\"fName\":\"closure_unfolded_MC\",\"fTitle\":\"closure_unfolded_MC\",\"fLineColor\":7,\"fLineStyle\":1,\"fLineWidth\":1,\"fFillColor\":0,\"fFillStyle\":1001,\"fMarkerColor\":7,\"fMarkerStyle\":2,\"fMarkerSize\":1,\"fNcells\":12,\"fXaxis\":{\"_typename\":\"TAxis\",\"fUniqueID\":0,\"fBits\":50331648,\"fName\":\"xaxis\",\"fTitle\":\"#tau_{1}^{(1)}(gen_sig)\",\"fNdivisions\":510,\"fAxisColor\":1,\"fLabelColor\":1,\"fLabelFont\":42,\"fLabelOffset\":0.005,\"fLabelSize\":0.035,\"fTickLength\":0.03,\"fTitleOffset\":1,\"fTitleSize\":0.035,\"fTitleColor\":1,\"fTitleFont\":42,\"fNbins\":10,\"fXmin\":0,\"fXmax\":0.62,\"fXbins\":[0,0.1,0.15,0.2,0.25,0.3,0.35,0.4,0.45,0.5,0.62],\"fFirst\":0,\"fLast\":0,\"fBits2\":0,\"fTimeDisplay\":false,\"fTimeFormat\":\"\",\"fLabels\":null,\"fModLabs\":null},\"fYaxis\":{\"_typename\":\"TAxis\",\"fUniqueID\":0,\"fBits\":50331648,\"fName\":\"yaxis\",\"fTitle\":\"\",\"fNdivisions\":510,\"fAxisColor\":1,\"fLabelColor\":1,\"fLabelFont\":42,\"fLabelOffset\":0.005,\"fLabelSize\":0.035,\"fTickLength\":0.03,\"fTitleOffset\":0,\"fTitleSize\":0.035,\"fTitleColor\":1,\"fTitleFont\":42,\"fNbins\":1,\"fXmin\":0,\"fXmax\":1,\"fXbins\":[],\"fFirst\":0,\"fLast\":0,\"fBits2\":0,\"fTimeDisplay\":false,\"fTimeFormat\":\"\",\"fLabels\":null,\"fModLabs\":null},\"fZaxis\":{\"_typename\":\"TAxis\",\"fUniqueID\":0,\"fBits\":50331648,\"fName\":\"zaxis\",\"fTitle\":\"\",\"fNdivisions\":510,\"fAxisColor\":1,\"fLabelColor\":1,\"fLabelFont\":42,\"fLabelOffset\":0.005,\"fLabelSize\":0.035,\"fTickLength\":0.03,\"fTitleOffset\":1,\"fTitleSize\":0.035,\"fTitleColor\":1,\"fTitleFont\":42,\"fNbins\":1,\"fXmin\":0,\"fXmax\":1,\"fXbins\":[],\"fFirst\":0,\"fLast\":0,\"fBits2\":0,\"fTimeDisplay\":false,\"fTimeFormat\":\"\",\"fLabels\":null,\"fModLabs\":null},\"fBarOffset\":0,\"fBarWidth\":1000,\"fEntries\":22,\"fTsumw\":0,\"fTsumw2\":0,\"fTsumwx\":0,\"fTsumwx2\":0,\"fMaximum\":-1111,\"fMinimum\":-1111,\"fNormFactor\":0,\"fContour\":[],\"fSumw2\":[0,186.9585996103,303.745937306164,921.68310898058,2089.22815150196,2957.46567639905,3289.6099796984,2867.04317439707,1742.27599536139,709.381273478875,149.031247318315,0],\"fOption\":\"\",\"fFunctions\":{\"_typename\":\"TList\",\"name\":\"TList\",\"arr\":[],\"opt\":[]},\"fBufferSize\":0,\"fBuffer\":[],\"fBinStatErrOpt\":0,\"fStatOverflows\":2,\"fArray\":[0,95.0276627497139,354.755093466043,996.626352611871,1936.78585393122,2647.669210915,2892.50705573685,2497.42971328628,1653.33821897303,727.83161906937,99.1668485713445,0]},{\"_typename\":\"TH1D\",\"fUniqueID\":0,\"fBits\":50332168,\"fName\":\"unfolded_data\",\"fTitle\":\"unfolded_data\",\"fLineColor\":1,\"fLineStyle\":1,\"fLineWidth\":2,\"fFillColor\":0,\"fFillStyle\":1001,\"fMarkerColor\":1,\"fMarkerStyle\":22,\"fMarkerSize\":1,\"fNcells\":12,\"fXaxis\":{\"_typename\":\"TAxis\",\"fUniqueID\":0,\"fBits\":50331648,\"fName\":\"xaxis\",\"fTitle\":\"#tau_{1}^{(1)}(gen_sig)\",\"fNdivisions\":510,\"fAxisColor\":1,\"fLabelColor\":1,\"fLabelFont\":42,\"fLabelOffset\":0.005,\"fLabelSize\":0.035,\"fTickLength\":0.03,\"fTitleOffset\":1,\"fTitleSize\":0.035,\"fTitleColor\":1,\"fTitleFont\":42,\"fNbins\":10,\"fXmin\":0,\"fXmax\":0.62,\"fXbins\":[0,0.1,0.15,0.2,0.25,0.3,0.35,0.4,0.45,0.5,0.62],\"fFirst\":0,\"fLast\":0,\"fBits2\":0,\"fTimeDisplay\":false,\"fTimeFormat\":\"\",\"fLabels\":null,\"fModLabs\":null},\"fYaxis\":{\"_typename\":\"TAxis\",\"fUniqueID\":0,\"fBits\":50331648,\"fName\":\"yaxis\",\"fTitle\":\"\",\"fNdivisions\":510,\"fAxisColor\":1,\"fLabelColor\":1,\"fLabelFont\":42,\"fLabelOffset\":0.005,\"fLabelSize\":0.035,\"fTickLength\":0.03,\"fTitleOffset\":0,\"fTitleSize\":0.035,\"fTitleColor\":1,\"fTitleFont\":42,\"fNbins\":1,\"fXmin\":0,\"fXmax\":1,\"fXbins\":[],\"fFirst\":0,\"fLast\":0,\"fBits2\":0,\"fTimeDisplay\":false,\"fTimeFormat\":\"\",\"fLabels\":null,\"fModLabs\":null},\"fZaxis\":{\"_typename\":\"TAxis\",\"fUniqueID\":0,\"fBits\":50331648,\"fName\":\"zaxis\",\"fTitle\":\"\",\"fNdivisions\":510,\"fAxisColor\":1,\"fLabelColor\":1,\"fLabelFont\":42,\"fLabelOffset\":0.005,\"fLabelSize\":0.035,\"fTickLength\":0.03,\"fTitleOffset\":1,\"fTitleSize\":0.035,\"fTitleColor\":1,\"fTitleFont\":42,\"fNbins\":1,\"fXmin\":0,\"fXmax\":1,\"fXbins\":[],\"fFirst\":0,\"fLast\":0,\"fBits2\":0,\"fTimeDisplay\":false,\"fTimeFormat\":\"\",\"fLabels\":null,\"fModLabs\":null},\"fBarOffset\":0,\"fBarWidth\":1000,\"fEntries\":22,\"fTsumw\":0,\"fTsumw2\":0,\"fTsumwx\":0,\"fTsumwx2\":0,\"fMaximum\":-1111,\"fMinimum\":-1111,\"fNormFactor\":0,\"fContour\":[],\"fSumw2\":[0,6540.48724128493,7081.06428426342,14661.1934781677,28349.8661878624,32781.4177656961,25039.1904134272,18309.4184338461,9466.78155371411,3820.68559853693,743.284578436514,0],\"fOption\":\"\",\"fFunctions\":{\"_typename\":\"TList\",\"name\":\"TList\",\"arr\":[],\"opt\":[]},\"fBufferSize\":0,\"fBuffer\":[],\"fBinStatErrOpt\":0,\"fStatOverflows\":2,\"fArray\":[0,-45.2100962223664,332.208034261298,1123.49297298348,1978.77307686768,3056.0988508675,2824.07826935826,2531.64182760328,1601.61297397986,740.733239142554,203.228889731463,0]}],\"opt\":[\"E\",\"E \"]},\"fHistogram\":{\"_typename\":\"TH1F\",\"fUniqueID\":0,\"fBits\":50332160,\"fName\":\"#tau_{1}^{(1)}\",\"fTitle\":\"#tau_{1}^{(1)} binning 4\",\"fLineColor\":602,\"fLineStyle\":1,\"fLineWidth\":1,\"fFillColor\":0,\"fFillStyle\":1001,\"fMarkerColor\":1,\"fMarkerStyle\":1,\"fMarkerSize\":1,\"fNcells\":12,\"fXaxis\":{\"_typename\":\"TAxis\",\"fUniqueID\":0,\"fBits\":50331648,\"fName\":\"xaxis\",\"fTitle\":\"\",\"fNdivisions\":510,\"fAxisColor\":1,\"fLabelColor\":1,\"fLabelFont\":42,\"fLabelOffset\":0.005,\"fLabelSize\":0.035,\"fTickLength\":0.03,\"fTitleOffset\":1,\"fTitleSize\":0.035,\"fTitleColor\":1,\"fTitleFont\":42,\"fNbins\":10,\"fXmin\":0,\"fXmax\":0.62,\"fXbins\":[0,0.1,0.15,0.2,0.25,0.3,0.35,0.4,0.45,0.5,0.62],\"fFirst\":0,\"fLast\":0,\"fBits2\":0,\"fTimeDisplay\":false,\"fTimeFormat\":\"\",\"fLabels\":null,\"fModLabs\":null},\"fYaxis\":{\"_typename\":\"TAxis\",\"fUniqueID\":0,\"fBits\":50331648,\"fName\":\"yaxis\",\"fTitle\":\"\",\"fNdivisions\":510,\"fAxisColor\":1,\"fLabelColor\":1,\"fLabelFont\":42,\"fLabelOffset\":0.005,\"fLabelSize\":0.035,\"fTickLength\":0.03,\"fTitleOffset\":0,\"fTitleSize\":0.035,\"fTitleColor\":1,\"fTitleFont\":42,\"fNbins\":1,\"fXmin\":0,\"fXmax\":1,\"fXbins\":[],\"fFirst\":0,\"fLast\":0,\"fBits2\":0,\"fTimeDisplay\":false,\"fTimeFormat\":\"\",\"fLabels\":null,\"fModLabs\":null},\"fZaxis\":{\"_typename\":\"TAxis\",\"fUniqueID\":0,\"fBits\":50331648,\"fName\":\"zaxis\",\"fTitle\":\"\",\"fNdivisions\":510,\"fAxisColor\":1,\"fLabelColor\":1,\"fLabelFont\":42,\"fLabelOffset\":0.005,\"fLabelSize\":0.035,\"fTickLength\":0.03,\"fTitleOffset\":1,\"fTitleSize\":0.035,\"fTitleColor\":1,\"fTitleFont\":42,\"fNbins\":1,\"fXmin\":0,\"fXmax\":1,\"fXbins\":[],\"fFirst\":0,\"fLast\":0,\"fBits2\":0,\"fTimeDisplay\":false,\"fTimeFormat\":\"\",\"fLabels\":null,\"fModLabs\":null},\"fBarOffset\":0,\"fBarWidth\":1000,\"fEntries\":0,\"fTsumw\":0,\"fTsumw2\":0,\"fTsumwx\":0,\"fTsumwx2\":0,\"fMaximum\":3208.90379341087,\"fMinimum\":-45.2100962223664,\"fNormFactor\":0,\"fContour\":[],\"fSumw2\":[0,0,0,0,0,0,0,0,0,0,0,0],\"fOption\":\"\",\"fFunctions\":{\"_typename\":\"TList\",\"name\":\"TList\",\"arr\":[],\"opt\":[]},\"fBufferSize\":0,\"fBuffer\":[],\"fBinStatErrOpt\":0,\"fStatOverflows\":2,\"fArray\":[0,0,0,0,0,0,0,0,0,0,0,0]},\"fMaximum\":-1111,\"fMinimum\":-1111},{\"_typename\":\"TPaveText\",\"fUniqueID\":0,\"fBits\":50331657,\"fLineColor\":1,\"fLineStyle\":1,\"fLineWidth\":1,\"fFillColor\":0,\"fFillStyle\":0,\"fX1\":0.197812778666565,\"fY1\":3257.33934829543,\"fX2\":0.422187221333435,\"fY2\":3595.32986720408,\"fX1NDC\":0.35524229721069,\"fY1NDC\":0.911907519296624,\"fX2NDC\":0.64475770278931,\"fY2NDC\":0.995000004768372,\"fBorderSize\":0,\"fInit\":1,\"fShadowColor\":1,\"fCornerRadius\":0,\"fOption\":\"blNDC\",\"fName\":\"title\",\"fTextAngle\":0,\"fTextSize\":0,\"fTextAlign\":22,\"fTextColor\":1,\"fTextFont\":42,\"fLabel\":\"\",\"fLongest\":24,\"fMargin\":0.05,\"fLines\":{\"_typename\":\"TList\",\"name\":\"TList\",\"arr\":[{\"_typename\":\"TLatex\",\"fUniqueID\":0,\"fBits\":50331648,\"fName\":\"\",\"fTitle\":\"#tau_{1}^{(1)} binning 4\",\"fTextAngle\":0,\"fTextSize\":0,\"fTextAlign\":0,\"fTextColor\":0,\"fTextFont\":0,\"fX\":0,\"fY\":0,\"fLineColor\":1,\"fLineStyle\":1,\"fLineWidth\":2,\"fLimitFactorSize\":3,\"fOriginSize\":0.0573155991733074}],\"opt\":[\"\"]}}],\"opt\":[\"\",\"nostack\",\"blNDC\"]},\"fExecs\":{\"_typename\":\"TList\",\"name\":\"TList\",\"arr\":[],\"opt\":[]},\"fName\":\"c5_4\",\"fTitle\":\"c5_4\",\"fNumPaletteColor\":0,\"fNextPaletteColor\":0},{\"_typename\":\"TPad\",\"fUniqueID\":0,\"fBits\":50331657,\"fLineColor\":1,\"fLineStyle\":1,\"fLineWidth\":1,\"fFillColor\":0,\"fFillStyle\":1001,\"fLeftMargin\":0.1,\"fRightMargin\":0.1,\"fBottomMargin\":0.1,\"fTopMargin\":0.1,\"fXfile\":2,\"fYfile\":2,\"fAfile\":1,\"fXstat\":0.99,\"fYstat\":0.99,\"fAstat\":2,\"fFrameFillColor\":0,\"fFrameLineColor\":1,\"fFrameFillStyle\":1001,\"fFrameLineStyle\":1,\"fFrameLineWidth\":1,\"fFrameBorderSize\":1,\"fFrameBorderMode\":0,\"fX1\":-0.0775000057742003,\"fY1\":-372.711795295405,\"fX2\":0.6975000057742,\"fY2\":3020.83752048758,\"fXtoAbsPixelk\":448.101385353136,\"fXtoPixelk\":37.4747189537963,\"fXtoPixel\":483.544079506012,\"fYtoAbsPixelk\":648.599086266853,\"fYtoPixelk\":295.679086421527,\"fYtoPixel\":-0.0978798212138873,\"fUtoAbsPixelk\":410.62671639934,\"fUtoPixelk\":5e-5,\"fUtoPixel\":374.74666720132,\"fVtoAbsPixelk\":685.080050154674,\"fVtoPixelk\":332.160000309348,\"fVtoPixel\":-332.160000309348,\"fAbsPixeltoXk\":-0.926702144323462,\"fPixeltoXk\":-0.0775000057742003,\"fPixeltoX\":0.00206806378649408,\"fAbsPixeltoYk\":6626.48366356874,\"fPixeltoYk\":-372.711795295405,\"fPixeltoY\":-10.2166104064984,\"fXlowNDC\":0.343333333109816,\"fYlowNDC\":0.00999999977648258,\"fXUpNDC\":0,\"fYUpNDC\":0,\"fWNDC\":0.313333333780368,\"fHNDC\":0.480000000447035,\"fAbsXlowNDC\":0.343333333109816,\"fAbsYlowNDC\":0.00999999977648258,\"fAbsWNDC\":0.313333333780368,\"fAbsHNDC\":0.480000000447035,\"fUxmin\":0,\"fUymin\":-33.3568434899757,\"fUxmax\":0.62,\"fUymax\":2681.48256868215,\"fTheta\":30,\"fPhi\":30,\"fAspectRatio\":0,\"fNumber\":5,\"fTickx\":0,\"fTicky\":0,\"fLogx\":0,\"fLogy\":0,\"fLogz\":0,\"fPadPaint\":0,\"fCrosshair\":0,\"fCrosshairPos\":0,\"fBorderSize\":2,\"fBorderMode\":0,\"fModified\":false,\"fGridx\":false,\"fGridy\":false,\"fAbsCoord\":false,\"fEditable\":true,\"fFixedAspectRatio\":false,\"fPrimitives\":{\"_typename\":\"TList\",\"name\":\"TList\",\"arr\":[{\"_typename\":\"TFrame\",\"fUniqueID\":0,\"fBits\":50331656,\"fLineColor\":1,\"fLineStyle\":1,\"fLineWidth\":1,\"fFillColor\":0,\"fFillStyle\":1001,\"fX1\":0,\"fY1\":-33.3568434899757,\"fX2\":0.62,\"fY2\":2681.48256868215,\"fBorderSize\":1,\"fBorderMode\":0},{\"_typename\":\"THStack\",\"fUniqueID\":0,\"fBits\":50331656,\"fName\":\"#tau_{1}^{(1)}\",\"fTitle\":\"#tau_{1}^{(1)} binning 5\",\"fHists\":{\"_typename\":\"TList\",\"name\":\"TList\",\"arr\":[{\"_typename\":\"TH1D\",\"fUniqueID\":0,\"fBits\":50332168,\"fName\":\"closure_unfolded_MC\",\"fTitle\":\"closure_unfolded_MC\",\"fLineColor\":7,\"fLineStyle\":1,\"fLineWidth\":1,\"fFillColor\":0,\"fFillStyle\":1001,\"fMarkerColor\":7,\"fMarkerStyle\":2,\"fMarkerSize\":1,\"fNcells\":14,\"fXaxis\":{\"_typename\":\"TAxis\",\"fUniqueID\":0,\"fBits\":50331648,\"fName\":\"xaxis\",\"fTitle\":\"#tau_{1}^{(1)}(gen_sig)\",\"fNdivisions\":510,\"fAxisColor\":1,\"fLabelColor\":1,\"fLabelFont\":42,\"fLabelOffset\":0.005,\"fLabelSize\":0.035,\"fTickLength\":0.03,\"fTitleOffset\":1,\"fTitleSize\":0.035,\"fTitleColor\":1,\"fTitleFont\":42,\"fNbins\":12,\"fXmin\":0,\"fXmax\":0.62,\"fXbins\":[0,0.1,0.14,0.18,0.22,0.26,0.3,0.34,0.38,0.42,0.46,0.5,0.62],\"fFirst\":0,\"fLast\":0,\"fBits2\":0,\"fTimeDisplay\":false,\"fTimeFormat\":\"\",\"fLabels\":null,\"fModLabs\":null},\"fYaxis\":{\"_typename\":\"TAxis\",\"fUniqueID\":0,\"fBits\":50331648,\"fName\":\"yaxis\",\"fTitle\":\"\",\"fNdivisions\":510,\"fAxisColor\":1,\"fLabelColor\":1,\"fLabelFont\":42,\"fLabelOffset\":0.005,\"fLabelSize\":0.035,\"fTickLength\":0.03,\"fTitleOffset\":0,\"fTitleSize\":0.035,\"fTitleColor\":1,\"fTitleFont\":42,\"fNbins\":1,\"fXmin\":0,\"fXmax\":1,\"fXbins\":[],\"fFirst\":0,\"fLast\":0,\"fBits2\":0,\"fTimeDisplay\":false,\"fTimeFormat\":\"\",\"fLabels\":null,\"fModLabs\":null},\"fZaxis\":{\"_typename\":\"TAxis\",\"fUniqueID\":0,\"fBits\":50331648,\"fName\":\"zaxis\",\"fTitle\":\"\",\"fNdivisions\":510,\"fAxisColor\":1,\"fLabelColor\":1,\"fLabelFont\":42,\"fLabelOffset\":0.005,\"fLabelSize\":0.035,\"fTickLength\":0.03,\"fTitleOffset\":1,\"fTitleSize\":0.035,\"fTitleColor\":1,\"fTitleFont\":42,\"fNbins\":1,\"fXmin\":0,\"fXmax\":1,\"fXbins\":[],\"fFirst\":0,\"fLast\":0,\"fBits2\":0,\"fTimeDisplay\":false,\"fTimeFormat\":\"\",\"fLabels\":null,\"fModLabs\":null},\"fBarOffset\":0,\"fBarWidth\":1000,\"fEntries\":26,\"fTsumw\":0,\"fTsumw2\":0,\"fTsumwx\":0,\"fTsumwx2\":0,\"fMaximum\":-1111,\"fMinimum\":-1111,\"fNormFactor\":0,\"fContour\":[],\"fSumw2\":[0,177.988218739015,259.163743613024,729.745851206061,1635.27935440502,2782.38712310608,3598.47123192519,4117.96296831621,3893.74205540492,2699.67266434945,1608.26307903476,638.950572282427,154.534158748973,0],\"fOption\":\"\",\"fFunctions\":{\"_typename\":\"TList\",\"name\":\"TList\",\"arr\":[],\"opt\":[]},\"fBufferSize\":0,\"fBuffer\":[],\"fBinStatErrOpt\":0,\"fStatOverflows\":2,\"fArray\":[0,95.0276627497139,242.867446567264,589.963127514909,1182.85063062319,1764.40774517778,2155.747561041,2324.09421852067,2176.28697901497,1653.02289214004,1119.47470547871,498.227811911137,99.1668485713447,0]},{\"_typename\":\"TH1D\",\"fUniqueID\":0,\"fBits\":50332168,\"fName\":\"unfolded_data\",\"fTitle\":\"unfolded_data\",\"fLineColor\":1,\"fLineStyle\":1,\"fLineWidth\":2,\"fFillColor\":0,\"fFillStyle\":1001,\"fMarkerColor\":1,\"fMarkerStyle\":22,\"fMarkerSize\":1,\"fNcells\":14,\"fXaxis\":{\"_typename\":\"TAxis\",\"fUniqueID\":0,\"fBits\":50331648,\"fName\":\"xaxis\",\"fTitle\":\"#tau_{1}^{(1)}(gen_sig)\",\"fNdivisions\":510,\"fAxisColor\":1,\"fLabelColor\":1,\"fLabelFont\":42,\"fLabelOffset\":0.005,\"fLabelSize\":0.035,\"fTickLength\":0.03,\"fTitleOffset\":1,\"fTitleSize\":0.035,\"fTitleColor\":1,\"fTitleFont\":42,\"fNbins\":12,\"fXmin\":0,\"fXmax\":0.62,\"fXbins\":[0,0.1,0.14,0.18,0.22,0.26,0.3,0.34,0.38,0.42,0.46,0.5,0.62],\"fFirst\":0,\"fLast\":0,\"fBits2\":0,\"fTimeDisplay\":false,\"fTimeFormat\":\"\",\"fLabels\":null,\"fModLabs\":null},\"fYaxis\":{\"_typename\":\"TAxis\",\"fUniqueID\":0,\"fBits\":50331648,\"fName\":\"yaxis\",\"fTitle\":\"\",\"fNdivisions\":510,\"fAxisColor\":1,\"fLabelColor\":1,\"fLabelFont\":42,\"fLabelOffset\":0.005,\"fLabelSize\":0.035,\"fTickLength\":0.03,\"fTitleOffset\":0,\"fTitleSize\":0.035,\"fTitleColor\":1,\"fTitleFont\":42,\"fNbins\":1,\"fXmin\":0,\"fXmax\":1,\"fXbins\":[],\"fFirst\":0,\"fLast\":0,\"fBits2\":0,\"fTimeDisplay\":false,\"fTimeFormat\":\"\",\"fLabels\":null,\"fModLabs\":null},\"fZaxis\":{\"_typename\":\"TAxis\",\"fUniqueID\":0,\"fBits\":50331648,\"fName\":\"zaxis\",\"fTitle\":\"\",\"fNdivisions\":510,\"fAxisColor\":1,\"fLabelColor\":1,\"fLabelFont\":42,\"fLabelOffset\":0.005,\"fLabelSize\":0.035,\"fTickLength\":0.03,\"fTitleOffset\":1,\"fTitleSize\":0.035,\"fTitleColor\":1,\"fTitleFont\":42,\"fNbins\":1,\"fXmin\":0,\"fXmax\":1,\"fXbins\":[],\"fFirst\":0,\"fLast\":0,\"fBits2\":0,\"fTimeDisplay\":false,\"fTimeFormat\":\"\",\"fLabels\":null,\"fModLabs\":null},\"fBarOffset\":0,\"fBarWidth\":1000,\"fEntries\":26,\"fTsumw\":0,\"fTsumw2\":0,\"fTsumwx\":0,\"fTsumwx2\":0,\"fMaximum\":-1111,\"fMinimum\":-1111,\"fNormFactor\":0,\"fContour\":[],\"fSumw2\":[0,5182.22668200761,3964.95866852292,14751.2444263273,29794.4196772363,34241.691007937,37112.1419456793,34449.4657601316,27676.0215418042,16049.2389363249,7004.67452866835,3337.65267076044,780.363332355954,0],\"fOption\":\"\",\"fFunctions\":{\"_typename\":\"TList\",\"name\":\"TList\",\"arr\":[],\"opt\":[]},\"fBufferSize\":0,\"fBuffer\":[],\"fBinStatErrOpt\":0,\"fStatOverflows\":2,\"fArray\":[0,-33.3568434899757,260.50734541965,641.147020218887,1232.78317610272,1810.87076464035,2553.79292255443,2204.35255033365,2226.00682950052,1702.32200123082,1094.48538281549,486.674769889893,203.17234278209,0]}],\"opt\":[\"E\",\"E \"]},\"fHistogram\":{\"_typename\":\"TH1F\",\"fUniqueID\":0,\"fBits\":50332160,\"fName\":\"#tau_{1}^{(1)}\",\"fTitle\":\"#tau_{1}^{(1)} binning 5\",\"fLineColor\":602,\"fLineStyle\":1,\"fLineWidth\":1,\"fFillColor\":0,\"fFillStyle\":1001,\"fMarkerColor\":1,\"fMarkerStyle\":1,\"fMarkerSize\":1,\"fNcells\":14,\"fXaxis\":{\"_typename\":\"TAxis\",\"fUniqueID\":0,\"fBits\":50331648,\"fName\":\"xaxis\",\"fTitle\":\"\",\"fNdivisions\":510,\"fAxisColor\":1,\"fLabelColor\":1,\"fLabelFont\":42,\"fLabelOffset\":0.005,\"fLabelSize\":0.035,\"fTickLength\":0.03,\"fTitleOffset\":1,\"fTitleSize\":0.035,\"fTitleColor\":1,\"fTitleFont\":42,\"fNbins\":12,\"fXmin\":0,\"fXmax\":0.62,\"fXbins\":[0,0.1,0.14,0.18,0.22,0.26,0.3,0.34,0.38,0.42,0.46,0.5,0.62],\"fFirst\":0,\"fLast\":0,\"fBits2\":0,\"fTimeDisplay\":false,\"fTimeFormat\":\"\",\"fLabels\":null,\"fModLabs\":null},\"fYaxis\":{\"_typename\":\"TAxis\",\"fUniqueID\":0,\"fBits\":50331648,\"fName\":\"yaxis\",\"fTitle\":\"\",\"fNdivisions\":510,\"fAxisColor\":1,\"fLabelColor\":1,\"fLabelFont\":42,\"fLabelOffset\":0.005,\"fLabelSize\":0.035,\"fTickLength\":0.03,\"fTitleOffset\":0,\"fTitleSize\":0.035,\"fTitleColor\":1,\"fTitleFont\":42,\"fNbins\":1,\"fXmin\":0,\"fXmax\":1,\"fXbins\":[],\"fFirst\":0,\"fLast\":0,\"fBits2\":0,\"fTimeDisplay\":false,\"fTimeFormat\":\"\",\"fLabels\":null,\"fModLabs\":null},\"fZaxis\":{\"_typename\":\"TAxis\",\"fUniqueID\":0,\"fBits\":50331648,\"fName\":\"zaxis\",\"fTitle\":\"\",\"fNdivisions\":510,\"fAxisColor\":1,\"fLabelColor\":1,\"fLabelFont\":42,\"fLabelOffset\":0.005,\"fLabelSize\":0.035,\"fTickLength\":0.03,\"fTitleOffset\":1,\"fTitleSize\":0.035,\"fTitleColor\":1,\"fTitleFont\":42,\"fNbins\":1,\"fXmin\":0,\"fXmax\":1,\"fXbins\":[],\"fFirst\":0,\"fLast\":0,\"fBits2\":0,\"fTimeDisplay\":false,\"fTimeFormat\":\"\",\"fLabels\":null,\"fModLabs\":null},\"fBarOffset\":0,\"fBarWidth\":1000,\"fEntries\":0,\"fTsumw\":0,\"fTsumw2\":0,\"fTsumwx\":0,\"fTsumwx2\":0,\"fMaximum\":2681.48256868215,\"fMinimum\":-33.3568434899757,\"fNormFactor\":0,\"fContour\":[],\"fSumw2\":[0,0,0,0,0,0,0,0,0,0,0,0,0,0],\"fOption\":\"\",\"fFunctions\":{\"_typename\":\"TList\",\"name\":\"TList\",\"arr\":[],\"opt\":[]},\"fBufferSize\":0,\"fBuffer\":[],\"fBinStatErrOpt\":0,\"fStatOverflows\":2,\"fArray\":[0,0,0,0,0,0,0,0,0,0,0,0,0,0]},\"fMaximum\":-1111,\"fMinimum\":-1111},{\"_typename\":\"TPaveText\",\"fUniqueID\":0,\"fBits\":50331657,\"fLineColor\":1,\"fLineStyle\":1,\"fLineWidth\":1,\"fFillColor\":0,\"fFillStyle\":0,\"fX1\":0.197812778666565,\"fY1\":2721.89134287102,\"fX2\":0.422187221333435,\"fY2\":3003.86979009037,\"fX1NDC\":0.35524229721069,\"fY1NDC\":0.911907519296625,\"fX2NDC\":0.64475770278931,\"fY2NDC\":0.995000004768372,\"fBorderSize\":0,\"fInit\":1,\"fShadowColor\":1,\"fCornerRadius\":0,\"fOption\":\"blNDC\",\"fName\":\"title\",\"fTextAngle\":0,\"fTextSize\":0,\"fTextAlign\":22,\"fTextColor\":1,\"fTextFont\":42,\"fLabel\":\"\",\"fLongest\":24,\"fMargin\":0.05,\"fLines\":{\"_typename\":\"TList\",\"name\":\"TList\",\"arr\":[{\"_typename\":\"TLatex\",\"fUniqueID\":0,\"fBits\":50331648,\"fName\":\"\",\"fTitle\":\"#tau_{1}^{(1)} binning 5\",\"fTextAngle\":0,\"fTextSize\":0,\"fTextAlign\":0,\"fTextColor\":0,\"fTextFont\":0,\"fX\":0,\"fY\":0,\"fLineColor\":1,\"fLineStyle\":1,\"fLineWidth\":2,\"fLimitFactorSize\":3,\"fOriginSize\":0.0573155991733074}],\"opt\":[\"\"]}}],\"opt\":[\"\",\"nostack\",\"blNDC\"]},\"fExecs\":{\"_typename\":\"TList\",\"name\":\"TList\",\"arr\":[],\"opt\":[]},\"fName\":\"c5_5\",\"fTitle\":\"c5_5\",\"fNumPaletteColor\":0,\"fNextPaletteColor\":0},{\"_typename\":\"TPad\",\"fUniqueID\":0,\"fBits\":50331657,\"fLineColor\":1,\"fLineStyle\":1,\"fLineWidth\":1,\"fFillColor\":0,\"fFillStyle\":1001,\"fLeftMargin\":0.1,\"fRightMargin\":0.1,\"fBottomMargin\":0.1,\"fTopMargin\":0.1,\"fXfile\":2,\"fYfile\":2,\"fAfile\":1,\"fXstat\":0.99,\"fYstat\":0.99,\"fAstat\":2,\"fFrameFillColor\":0,\"fFrameLineColor\":1,\"fFrameFillStyle\":1001,\"fFrameLineStyle\":1,\"fFrameLineWidth\":1,\"fFrameBorderSize\":1,\"fFrameBorderMode\":0,\"fX1\":-0.0775000057742003,\"fY1\":-226.096449623393,\"fX2\":0.6975000057742,\"fY2\":1994.63779911451,\"fXtoAbsPixelk\":846.768052019803,\"fXtoPixelk\":37.4747189537963,\"fXtoPixel\":483.544079506012,\"fYtoAbsPixelk\":651.262317654925,\"fYtoPixelk\":298.342317809599,\"fYtoPixel\":-0.149572151867393,\"fUtoAbsPixelk\":809.293383066006,\"fUtoPixelk\":5e-5,\"fUtoPixel\":374.74666720132,\"fVtoAbsPixelk\":685.080050154674,\"fVtoPixelk\":332.160000309348,\"fVtoPixel\":-332.160000309348,\"fAbsPixeltoXk\":-1.7511702405391,\"fPixeltoXk\":-0.0775000057742003,\"fPixeltoX\":0.00206806378649408,\"fAbsPixeltoYk\":4354.16793516695,\"fPixeltoYk\":-226.096449623393,\"fPixeltoY\":-6.68573653260383,\"fXlowNDC\":0.676666666443149,\"fYlowNDC\":0.00999999977648258,\"fXUpNDC\":0,\"fYUpNDC\":0,\"fWNDC\":0.313333333780368,\"fHNDC\":0.480000000447035,\"fAbsXlowNDC\":0.676666666443149,\"fAbsYlowNDC\":0.00999999977648258,\"fAbsWNDC\":0.313333333780368,\"fAbsHNDC\":0.480000000447035,\"fUxmin\":0,\"fUymin\":-4.02301151299409,\"fUxmax\":0.62,\"fUymax\":1772.56436100412,\"fTheta\":30,\"fPhi\":30,\"fAspectRatio\":0,\"fNumber\":6,\"fTickx\":0,\"fTicky\":0,\"fLogx\":0,\"fLogy\":0,\"fLogz\":0,\"fPadPaint\":0,\"fCrosshair\":0,\"fCrosshairPos\":0,\"fBorderSize\":2,\"fBorderMode\":0,\"fModified\":false,\"fGridx\":false,\"fGridy\":false,\"fAbsCoord\":false,\"fEditable\":true,\"fFixedAspectRatio\":false,\"fPrimitives\":{\"_typename\":\"TList\",\"name\":\"TList\",\"arr\":[{\"_typename\":\"TFrame\",\"fUniqueID\":0,\"fBits\":50331656,\"fLineColor\":1,\"fLineStyle\":1,\"fLineWidth\":1,\"fFillColor\":0,\"fFillStyle\":1001,\"fX1\":0,\"fY1\":-4.02301151299409,\"fX2\":0.62,\"fY2\":1772.56436100412,\"fBorderSize\":1,\"fBorderMode\":0},{\"_typename\":\"THStack\",\"fUniqueID\":0,\"fBits\":50331656,\"fName\":\"#tau_{1}^{(1)}\",\"fTitle\":\"#tau_{1}^{(1)} binning 6\",\"fHists\":{\"_typename\":\"TList\",\"name\":\"TList\",\"arr\":[{\"_typename\":\"TH1D\",\"fUniqueID\":0,\"fBits\":50332168,\"fName\":\"closure_unfolded_MC\",\"fTitle\":\"closure_unfolded_MC\",\"fLineColor\":7,\"fLineStyle\":1,\"fLineWidth\":1,\"fFillColor\":0,\"fFillStyle\":1001,\"fMarkerColor\":7,\"fMarkerStyle\":2,\"fMarkerSize\":1,\"fNcells\":20,\"fXaxis\":{\"_typename\":\"TAxis\",\"fUniqueID\":0,\"fBits\":50331648,\"fName\":\"xaxis\",\"fTitle\":\"#tau_{1}^{(1)}(gen_sig)\",\"fNdivisions\":510,\"fAxisColor\":1,\"fLabelColor\":1,\"fLabelFont\":42,\"fLabelOffset\":0.005,\"fLabelSize\":0.035,\"fTickLength\":0.03,\"fTitleOffset\":1,\"fTitleSize\":0.035,\"fTitleColor\":1,\"fTitleFont\":42,\"fNbins\":18,\"fXmin\":0,\"fXmax\":0.62,\"fXbins\":[0,0.1,0.125,0.15,0.175,0.2,0.225,0.25,0.275,0.3,0.325,0.35,0.375,0.4,0.425,0.45,0.475,0.5,0.62],\"fFirst\":0,\"fLast\":0,\"fBits2\":0,\"fTimeDisplay\":false,\"fTimeFormat\":\"\",\"fLabels\":null,\"fModLabs\":null},\"fYaxis\":{\"_typename\":\"TAxis\",\"fUniqueID\":0,\"fBits\":50331648,\"fName\":\"yaxis\",\"fTitle\":\"\",\"fNdivisions\":510,\"fAxisColor\":1,\"fLabelColor\":1,\"fLabelFont\":42,\"fLabelOffset\":0.005,\"fLabelSize\":0.035,\"fTickLength\":0.03,\"fTitleOffset\":0,\"fTitleSize\":0.035,\"fTitleColor\":1,\"fTitleFont\":42,\"fNbins\":1,\"fXmin\":0,\"fXmax\":1,\"fXbins\":[],\"fFirst\":0,\"fLast\":0,\"fBits2\":0,\"fTimeDisplay\":false,\"fTimeFormat\":\"\",\"fLabels\":null,\"fModLabs\":null},\"fZaxis\":{\"_typename\":\"TAxis\",\"fUniqueID\":0,\"fBits\":50331648,\"fName\":\"zaxis\",\"fTitle\":\"\",\"fNdivisions\":510,\"fAxisColor\":1,\"fLabelColor\":1,\"fLabelFont\":42,\"fLabelOffset\":0.005,\"fLabelSize\":0.035,\"fTickLength\":0.03,\"fTitleOffset\":1,\"fTitleSize\":0.035,\"fTitleColor\":1,\"fTitleFont\":42,\"fNbins\":1,\"fXmin\":0,\"fXmax\":1,\"fXbins\":[],\"fFirst\":0,\"fLast\":0,\"fBits2\":0,\"fTimeDisplay\":false,\"fTimeFormat\":\"\",\"fLabels\":null,\"fModLabs\":null},\"fBarOffset\":0,\"fBarWidth\":1000,\"fEntries\":38,\"fTsumw\":0,\"fTsumw2\":0,\"fTsumwx\":0,\"fTsumwx2\":0,\"fMaximum\":-1111,\"fMinimum\":-1111,\"fNormFactor\":0,\"fContour\":[],\"fSumw2\":[0,203.61616275748,340.374487871501,641.324955985199,1094.47307665977,2248.27844643489,3789.37357006902,5352.19735427823,7128.37513730018,7774.55280075084,9196.65784613234,10417.3365167998,9708.35292174309,7947.05643638857,5936.46587675877,3711.99655666574,2257.11421600687,864.158058045182,195.954184048881,0],\"fOption\":\"\",\"fFunctions\":{\"_typename\":\"TList\",\"name\":\"TList\",\"arr\":[],\"opt\":[]},\"fBufferSize\":0,\"fBuffer\":[],\"fBinStatErrOpt\":0,\"fStatOverflows\":2,\"fArray\":[0,95.0276627497134,120.319964929426,234.435128536617,382.001914504506,614.624438107369,851.663844189461,1085.12200974176,1279.56606434205,1368.10314657296,1453.1214935688,1439.38556216804,1356.07965676894,1141.35005651734,937.872639647651,715.465579325388,483.266037607715,244.565581461657,99.1668485713446,0]},{\"_typename\":\"TH1D\",\"fUniqueID\":0,\"fBits\":50332168,\"fName\":\"unfolded_data\",\"fTitle\":\"unfolded_data\",\"fLineColor\":1,\"fLineStyle\":1,\"fLineWidth\":2,\"fFillColor\":0,\"fFillStyle\":1001,\"fMarkerColor\":1,\"fMarkerStyle\":22,\"fMarkerSize\":1,\"fNcells\":20,\"fXaxis\":{\"_typename\":\"TAxis\",\"fUniqueID\":0,\"fBits\":50331648,\"fName\":\"xaxis\",\"fTitle\":\"#tau_{1}^{(1)}(gen_sig)\",\"fNdivisions\":510,\"fAxisColor\":1,\"fLabelColor\":1,\"fLabelFont\":42,\"fLabelOffset\":0.005,\"fLabelSize\":0.035,\"fTickLength\":0.03,\"fTitleOffset\":1,\"fTitleSize\":0.035,\"fTitleColor\":1,\"fTitleFont\":42,\"fNbins\":18,\"fXmin\":0,\"fXmax\":0.62,\"fXbins\":[0,0.1,0.125,0.15,0.175,0.2,0.225,0.25,0.275,0.3,0.325,0.35,0.375,0.4,0.425,0.45,0.475,0.5,0.62],\"fFirst\":0,\"fLast\":0,\"fBits2\":0,\"fTimeDisplay\":false,\"fTimeFormat\":\"\",\"fLabels\":null,\"fModLabs\":null},\"fYaxis\":{\"_typename\":\"TAxis\",\"fUniqueID\":0,\"fBits\":50331648,\"fName\":\"yaxis\",\"fTitle\":\"\",\"fNdivisions\":510,\"fAxisColor\":1,\"fLabelColor\":1,\"fLabelFont\":42,\"fLabelOffset\":0.005,\"fLabelSize\":0.035,\"fTickLength\":0.03,\"fTitleOffset\":0,\"fTitleSize\":0.035,\"fTitleColor\":1,\"fTitleFont\":42,\"fNbins\":1,\"fXmin\":0,\"fXmax\":1,\"fXbins\":[],\"fFirst\":0,\"fLast\":0,\"fBits2\":0,\"fTimeDisplay\":false,\"fTimeFormat\":\"\",\"fLabels\":null,\"fModLabs\":null},\"fZaxis\":{\"_typename\":\"TAxis\",\"fUniqueID\":0,\"fBits\":50331648,\"fName\":\"zaxis\",\"fTitle\":\"\",\"fNdivisions\":510,\"fAxisColor\":1,\"fLabelColor\":1,\"fLabelFont\":42,\"fLabelOffset\":0.005,\"fLabelSize\":0.035,\"fTickLength\":0.03,\"fTitleOffset\":1,\"fTitleSize\":0.035,\"fTitleColor\":1,\"fTitleFont\":42,\"fNbins\":1,\"fXmin\":0,\"fXmax\":1,\"fXbins\":[],\"fFirst\":0,\"fLast\":0,\"fBits2\":0,\"fTimeDisplay\":false,\"fTimeFormat\":\"\",\"fLabels\":null,\"fModLabs\":null},\"fBarOffset\":0,\"fBarWidth\":1000,\"fEntries\":38,\"fTsumw\":0,\"fTsumw2\":0,\"fTsumwx\":0,\"fTsumwx2\":0,\"fMaximum\":-1111,\"fMinimum\":-1111,\"fNormFactor\":0,\"fContour\":[],\"fSumw2\":[0,6745.2815439057,5602.73050749929,15137.5467544798,22626.0867406107,39594.0728270623,59034.6821845363,57805.1618305644,79225.38610945,76725.5833959512,69148.6268530584,74523.3441816764,64615.3643898405,47529.5965279524,37414.5574754481,17212.6419868965,9320.16458500998,3719.96502542736,960.953059421784,0],\"fOption\":\"\",\"fFunctions\":{\"_typename\":\"TList\",\"name\":\"TList\",\"arr\":[],\"opt\":[]},\"fBufferSize\":0,\"fBuffer\":[],\"fBinStatErrOpt\":0,\"fStatOverflows\":2,\"fArray\":[0,-4.02301151299409,57.5058281180863,345.004344222425,373.055247273447,703.872843571057,881.642966245594,1119.29987137301,1377.41898560468,1688.15653428963,1423.62564393069,1350.13038127718,1450.35669570426,986.68225990558,1196.45869679754,568.119272023464,463.638889412295,263.628880719922,188.563782627189,0]}],\"opt\":[\"E\",\"E \"]},\"fHistogram\":{\"_typename\":\"TH1F\",\"fUniqueID\":0,\"fBits\":50332160,\"fName\":\"#tau_{1}^{(1)}\",\"fTitle\":\"#tau_{1}^{(1)} binning 6\",\"fLineColor\":602,\"fLineStyle\":1,\"fLineWidth\":1,\"fFillColor\":0,\"fFillStyle\":1001,\"fMarkerColor\":1,\"fMarkerStyle\":1,\"fMarkerSize\":1,\"fNcells\":20,\"fXaxis\":{\"_typename\":\"TAxis\",\"fUniqueID\":0,\"fBits\":50331648,\"fName\":\"xaxis\",\"fTitle\":\"\",\"fNdivisions\":510,\"fAxisColor\":1,\"fLabelColor\":1,\"fLabelFont\":42,\"fLabelOffset\":0.005,\"fLabelSize\":0.035,\"fTickLength\":0.03,\"fTitleOffset\":1,\"fTitleSize\":0.035,\"fTitleColor\":1,\"fTitleFont\":42,\"fNbins\":18,\"fXmin\":0,\"fXmax\":0.62,\"fXbins\":[0,0.1,0.125,0.15,0.175,0.2,0.225,0.25,0.275,0.3,0.325,0.35,0.375,0.4,0.425,0.45,0.475,0.5,0.62],\"fFirst\":0,\"fLast\":0,\"fBits2\":0,\"fTimeDisplay\":false,\"fTimeFormat\":\"\",\"fLabels\":null,\"fModLabs\":null},\"fYaxis\":{\"_typename\":\"TAxis\",\"fUniqueID\":0,\"fBits\":50331648,\"fName\":\"yaxis\",\"fTitle\":\"\",\"fNdivisions\":510,\"fAxisColor\":1,\"fLabelColor\":1,\"fLabelFont\":42,\"fLabelOffset\":0.005,\"fLabelSize\":0.035,\"fTickLength\":0.03,\"fTitleOffset\":0,\"fTitleSize\":0.035,\"fTitleColor\":1,\"fTitleFont\":42,\"fNbins\":1,\"fXmin\":0,\"fXmax\":1,\"fXbins\":[],\"fFirst\":0,\"fLast\":0,\"fBits2\":0,\"fTimeDisplay\":false,\"fTimeFormat\":\"\",\"fLabels\":null,\"fModLabs\":null},\"fZaxis\":{\"_typename\":\"TAxis\",\"fUniqueID\":0,\"fBits\":50331648,\"fName\":\"zaxis\",\"fTitle\":\"\",\"fNdivisions\":510,\"fAxisColor\":1,\"fLabelColor\":1,\"fLabelFont\":42,\"fLabelOffset\":0.005,\"fLabelSize\":0.035,\"fTickLength\":0.03,\"fTitleOffset\":1,\"fTitleSize\":0.035,\"fTitleColor\":1,\"fTitleFont\":42,\"fNbins\":1,\"fXmin\":0,\"fXmax\":1,\"fXbins\":[],\"fFirst\":0,\"fLast\":0,\"fBits2\":0,\"fTimeDisplay\":false,\"fTimeFormat\":\"\",\"fLabels\":null,\"fModLabs\":null},\"fBarOffset\":0,\"fBarWidth\":1000,\"fEntries\":0,\"fTsumw\":0,\"fTsumw2\":0,\"fTsumwx\":0,\"fTsumwx2\":0,\"fMaximum\":1772.56436100412,\"fMinimum\":-4.02301151299409,\"fNormFactor\":0,\"fContour\":[],\"fSumw2\":[0,0,0,0,0,0,0,0,0,0,0,0,0,0,0,0,0,0,0,0],\"fOption\":\"\",\"fFunctions\":{\"_typename\":\"TList\",\"name\":\"TList\",\"arr\":[],\"opt\":[]},\"fBufferSize\":0,\"fBuffer\":[],\"fBinStatErrOpt\":0,\"fStatOverflows\":2,\"fArray\":[0,0,0,0,0,0,0,0,0,0,0,0,0,0,0,0,0,0,0,0]},\"fMaximum\":-1111,\"fMinimum\":-1111},{\"_typename\":\"TPaveText\",\"fUniqueID\":0,\"fBits\":50331657,\"fLineColor\":1,\"fLineStyle\":1,\"fLineWidth\":1,\"fFillColor\":0,\"fFillStyle\":0,\"fX1\":0.197812778666565,\"fY1\":1799.00781016025,\"fX2\":0.422187221333435,\"fY2\":1983.53413846011,\"fX1NDC\":0.35524229721069,\"fY1NDC\":0.911907519296625,\"fX2NDC\":0.64475770278931,\"fY2NDC\":0.995000004768372,\"fBorderSize\":0,\"fInit\":1,\"fShadowColor\":1,\"fCornerRadius\":0,\"fOption\":\"blNDC\",\"fName\":\"title\",\"fTextAngle\":0,\"fTextSize\":0,\"fTextAlign\":22,\"fTextColor\":1,\"fTextFont\":42,\"fLabel\":\"\",\"fLongest\":24,\"fMargin\":0.05,\"fLines\":{\"_typename\":\"TList\",\"name\":\"TList\",\"arr\":[{\"_typename\":\"TLatex\",\"fUniqueID\":0,\"fBits\":50331648,\"fName\":\"\",\"fTitle\":\"#tau_{1}^{(1)} binning 6\",\"fTextAngle\":0,\"fTextSize\":0,\"fTextAlign\":0,\"fTextColor\":0,\"fTextFont\":0,\"fX\":0,\"fY\":0,\"fLineColor\":1,\"fLineStyle\":1,\"fLineWidth\":2,\"fLimitFactorSize\":3,\"fOriginSize\":0.0573155991733074}],\"opt\":[\"\"]}}],\"opt\":[\"\",\"nostack\",\"blNDC\"]},\"fExecs\":{\"_typename\":\"TList\",\"name\":\"TList\",\"arr\":[],\"opt\":[]},\"fName\":\"c5_6\",\"fTitle\":\"c5_6\",\"fNumPaletteColor\":0,\"fNextPaletteColor\":0}],\"opt\":[\"\",\"\",\"\",\"\",\"\",\"\"]},\"fExecs\":null,\"fName\":\"c5\",\"fTitle\":\"c5\",\"fNumPaletteColor\":0,\"fNextPaletteColor\":0,\"fDISPLAY\":\"$DISPLAY\",\"fDoubleBuffer\":0,\"fRetained\":true,\"fXsizeUser\":0,\"fYsizeUser\":0,\"fXsizeReal\":20,\"fYsizeReal\":12,\"fWindowTopX\":0,\"fWindowTopY\":0,\"fWindowWidth\":0,\"fWindowHeight\":0,\"fCw\":1196,\"fCh\":692,\"fCatt\":{\"_typename\":\"TAttCanvas\",\"fXBetween\":2,\"fYBetween\":2,\"fTitleFromTop\":1.2,\"fXdate\":0.2,\"fYdate\":0.3,\"fAdate\":1},\"kMoveOpaque\":true,\"kResizeOpaque\":true,\"fHighLightColor\":2,\"fBatch\":true,\"kShowEventStatus\":false,\"kAutoExec\":true,\"kMenuBar\":true});\n",
       "       Core.draw(\"root_plot_6\", obj, \"\");\n",
       "     }\n",
       " );\n",
       "</script>\n"
      ],
      "text/plain": [
       "<IPython.core.display.HTML object>"
      ]
     },
     "metadata": {},
     "output_type": "display_data"
    }
   ],
   "source": [
    "import time\n",
    "#hs = []\n",
    "c5 = ROOT.TCanvas('c5', 'c5', 1200, 720)\n",
    "c5.Divide(3,2)\n",
    "for i in xrange(len(h_unfoldings)):\n",
    "    c5.cd(i+1)\n",
    "    h_unfoldings[i].Draw(\"nostack\")\n",
    "    if i==0: legus[i].Draw()\n",
    "    #time.sleep(1)\n",
    "\n",
    "c5.Draw()\n",
    "#time.sleep(2)\n",
    "c5.SaveAs(\"tau1_1_unfoldings_Wsel_powheg.png\")\n",
    "#time.sleep(5)\n",
    "#c5.SaveAs(\"tau1_1_unfoldings_Wsel_powheg.pdf\")"
   ]
  },
  {
   "cell_type": "code",
   "execution_count": 72,
   "metadata": {
    "scrolled": true
   },
   "outputs": [
    {
     "name": "stderr",
     "output_type": "stream",
     "text": [
      "Warning in <TCanvas::Constructor>: Deleting canvas with same name: c6\n",
      "Info in <TCanvas::Print>: png file tau1_1_responses_Wsel_powheg.png has been created\n"
     ]
    },
    {
     "data": {
      "text/html": [
       "\n",
       "<div id=\"root_plot_7\"\n",
       "     style=\"width: 1196px; height: 692px\">\n",
       "</div>\n",
       "\n",
       "<script>\n",
       " requirejs.config({\n",
       "     paths: {\n",
       "       'JSRootCore' : 'https://root.cern.ch/js/notebook//scripts/JSRootCore',\n",
       "     }\n",
       "   });\n",
       " require(['JSRootCore'],\n",
       "     function(Core) {\n",
       "       var obj = Core.JSONR_unref({\"_typename\":\"TCanvas\",\"fUniqueID\":0,\"fBits\":53673992,\"fLineColor\":1,\"fLineStyle\":1,\"fLineWidth\":1,\"fFillColor\":0,\"fFillStyle\":1001,\"fLeftMargin\":0.1,\"fRightMargin\":0.1,\"fBottomMargin\":0.1,\"fTopMargin\":0.1,\"fXfile\":2,\"fYfile\":2,\"fAfile\":1,\"fXstat\":0.99,\"fYstat\":0.99,\"fAstat\":2,\"fFrameFillColor\":0,\"fFrameLineColor\":1,\"fFrameFillStyle\":1001,\"fFrameLineStyle\":1,\"fFrameLineWidth\":1,\"fFrameBorderSize\":1,\"fFrameBorderMode\":0,\"fX1\":0,\"fY1\":0,\"fX2\":1,\"fY2\":1,\"fXtoAbsPixelk\":5e-5,\"fXtoPixelk\":5e-5,\"fXtoPixel\":1196,\"fYtoAbsPixelk\":692.00005,\"fYtoPixelk\":692.00005,\"fYtoPixel\":-692,\"fUtoAbsPixelk\":5e-5,\"fUtoPixelk\":5e-5,\"fUtoPixel\":1196,\"fVtoAbsPixelk\":692.00005,\"fVtoPixelk\":692,\"fVtoPixel\":-692,\"fAbsPixeltoXk\":0,\"fPixeltoXk\":0,\"fPixeltoX\":8.36120401337793e-4,\"fAbsPixeltoYk\":1,\"fPixeltoYk\":0,\"fPixeltoY\":-0.00144508670520231,\"fXlowNDC\":0,\"fYlowNDC\":0,\"fXUpNDC\":0,\"fYUpNDC\":0,\"fWNDC\":1,\"fHNDC\":1,\"fAbsXlowNDC\":0,\"fAbsYlowNDC\":0,\"fAbsWNDC\":1,\"fAbsHNDC\":1,\"fUxmin\":0,\"fUymin\":0,\"fUxmax\":1,\"fUymax\":1,\"fTheta\":30,\"fPhi\":30,\"fAspectRatio\":0,\"fNumber\":0,\"fTickx\":0,\"fTicky\":0,\"fLogx\":0,\"fLogy\":0,\"fLogz\":0,\"fPadPaint\":0,\"fCrosshair\":0,\"fCrosshairPos\":0,\"fBorderSize\":2,\"fBorderMode\":0,\"fModified\":false,\"fGridx\":false,\"fGridy\":false,\"fAbsCoord\":false,\"fEditable\":true,\"fFixedAspectRatio\":false,\"fPrimitives\":{\"_typename\":\"TList\",\"name\":\"TList\",\"arr\":[{\"_typename\":\"TPad\",\"fUniqueID\":0,\"fBits\":50331657,\"fLineColor\":1,\"fLineStyle\":1,\"fLineWidth\":1,\"fFillColor\":0,\"fFillStyle\":1001,\"fLeftMargin\":0.1,\"fRightMargin\":0.1,\"fBottomMargin\":0.1,\"fTopMargin\":0.1,\"fXfile\":2,\"fYfile\":2,\"fAfile\":1,\"fXstat\":0.99,\"fYstat\":0.99,\"fAstat\":2,\"fFrameFillColor\":0,\"fFrameLineColor\":1,\"fFrameFillStyle\":1001,\"fFrameLineStyle\":1,\"fFrameLineWidth\":1,\"fFrameBorderSize\":1,\"fFrameBorderMode\":0,\"fX1\":-0.0775000057742003,\"fY1\":-0.0775000057742003,\"fX2\":0.6975000057742,\"fY2\":0.6975000057742,\"fXtoAbsPixelk\":49.4347186864695,\"fXtoPixelk\":37.4747189537963,\"fXtoPixel\":483.544079506012,\"fYtoAbsPixelk\":305.864048143911,\"fYtoPixelk\":298.944048298585,\"fYtoPixel\":-428.593542399714,\"fUtoAbsPixelk\":11.9600497326732,\"fUtoPixelk\":5e-5,\"fUtoPixel\":374.74666720132,\"fVtoAbsPixelk\":339.080050154674,\"fVtoPixelk\":332.160000309348,\"fVtoPixel\":-332.160000309348,\"fAbsPixeltoXk\":-0.102234048107821,\"fPixeltoXk\":-0.0775000057742003,\"fPixeltoX\":0.00206806378649408,\"fAbsPixeltoYk\":0.713645838972201,\"fPixeltoYk\":-0.0775000057742003,\"fPixeltoY\":-0.00233321294203584,\"fXlowNDC\":0.00999999977648258,\"fYlowNDC\":0.509999999776483,\"fXUpNDC\":0,\"fYUpNDC\":0,\"fWNDC\":0.313333333780368,\"fHNDC\":0.480000000447035,\"fAbsXlowNDC\":0.00999999977648258,\"fAbsYlowNDC\":0.509999999776483,\"fAbsWNDC\":0.313333333780368,\"fAbsHNDC\":0.480000000447035,\"fUxmin\":0,\"fUymin\":0,\"fUxmax\":0.62,\"fUymax\":0.62,\"fTheta\":30,\"fPhi\":30,\"fAspectRatio\":0,\"fNumber\":1,\"fTickx\":0,\"fTicky\":0,\"fLogx\":0,\"fLogy\":0,\"fLogz\":0,\"fPadPaint\":0,\"fCrosshair\":0,\"fCrosshairPos\":0,\"fBorderSize\":2,\"fBorderMode\":0,\"fModified\":false,\"fGridx\":false,\"fGridy\":false,\"fAbsCoord\":false,\"fEditable\":true,\"fFixedAspectRatio\":false,\"fPrimitives\":{\"_typename\":\"TList\",\"name\":\"TList\",\"arr\":[{\"_typename\":\"TFrame\",\"fUniqueID\":0,\"fBits\":50331656,\"fLineColor\":1,\"fLineStyle\":1,\"fLineWidth\":1,\"fFillColor\":0,\"fFillStyle\":1001,\"fX1\":0,\"fY1\":0,\"fX2\":0.62,\"fY2\":0.62,\"fBorderSize\":1,\"fBorderMode\":0},{\"_typename\":\"TH2D\",\"fUniqueID\":0,\"fBits\":50332168,\"fName\":\"response\",\"fTitle\":\"Response Matrix #tau_{1}^{(1)} binning 1\",\"fLineColor\":602,\"fLineStyle\":1,\"fLineWidth\":1,\"fFillColor\":0,\"fFillStyle\":1001,\"fMarkerColor\":1,\"fMarkerStyle\":1,\"fMarkerSize\":1,\"fNcells\":264,\"fXaxis\":{\"_typename\":\"TAxis\",\"fUniqueID\":0,\"fBits\":50331648,\"fName\":\"xaxis\",\"fTitle\":\"#tau_{1}^{(1)}(det_sig)\",\"fNdivisions\":510,\"fAxisColor\":1,\"fLabelColor\":1,\"fLabelFont\":42,\"fLabelOffset\":0.005,\"fLabelSize\":0.035,\"fTickLength\":0.03,\"fTitleOffset\":1,\"fTitleSize\":0.035,\"fTitleColor\":1,\"fTitleFont\":42,\"fNbins\":20,\"fXmin\":0,\"fXmax\":0.62,\"fXbins\":[0,0.065,0.13,0.153125,0.17625,0.199375,0.2225,0.245625,0.26875,0.291875,0.315,0.338125,0.36125,0.384375,0.4075,0.430625,0.45375,0.476875,0.5,0.56,0.62],\"fFirst\":0,\"fLast\":0,\"fBits2\":0,\"fTimeDisplay\":false,\"fTimeFormat\":\"\",\"fLabels\":null,\"fModLabs\":null},\"fYaxis\":{\"_typename\":\"TAxis\",\"fUniqueID\":0,\"fBits\":50331648,\"fName\":\"yaxis\",\"fTitle\":\"#tau_{1}^{(1)}(gen_sig)\",\"fNdivisions\":510,\"fAxisColor\":1,\"fLabelColor\":1,\"fLabelFont\":42,\"fLabelOffset\":0.005,\"fLabelSize\":0.035,\"fTickLength\":0.03,\"fTitleOffset\":0,\"fTitleSize\":0.035,\"fTitleColor\":1,\"fTitleFont\":42,\"fNbins\":10,\"fXmin\":0,\"fXmax\":0.62,\"fXbins\":[0,0.13,0.17625,0.2225,0.26875,0.315,0.36125,0.4075,0.45375,0.5,0.62],\"fFirst\":0,\"fLast\":0,\"fBits2\":0,\"fTimeDisplay\":false,\"fTimeFormat\":\"\",\"fLabels\":null,\"fModLabs\":null},\"fZaxis\":{\"_typename\":\"TAxis\",\"fUniqueID\":0,\"fBits\":50331648,\"fName\":\"zaxis\",\"fTitle\":\"\",\"fNdivisions\":510,\"fAxisColor\":1,\"fLabelColor\":1,\"fLabelFont\":42,\"fLabelOffset\":0.005,\"fLabelSize\":0.035,\"fTickLength\":0.03,\"fTitleOffset\":1,\"fTitleSize\":0.035,\"fTitleColor\":1,\"fTitleFont\":42,\"fNbins\":1,\"fXmin\":0,\"fXmax\":1,\"fXbins\":[],\"fFirst\":0,\"fLast\":0,\"fBits2\":0,\"fTimeDisplay\":false,\"fTimeFormat\":\"\",\"fLabels\":null,\"fModLabs\":null},\"fBarOffset\":0,\"fBarWidth\":1000,\"fEntries\":43107,\"fTsumw\":13901.1376293109,\"fTsumw2\":4887.05421222413,\"fTsumwx\":4398.01334473652,\"fTsumwx2\":1487.39692517914,\"fMaximum\":-1111,\"fMinimum\":-1111,\"fNormFactor\":0,\"fContour\":[0,45.0843662599203,90.1687325198406,135.253098779761,180.337465039681,225.421831299602,270.506197559522,315.590563819442,360.674930079363,405.759296339283,450.843662599203,495.928028859123,541.012395119044,586.096761378964,631.181127638884,676.265493898805,721.349860158725,766.434226418645,811.518592678566,856.602958938486],\"fSumw2\":[0,0,0,0,0,0,0,0,0,0,0,0,0,0,0,0,0,0,0,0,0,0,0,0,39.3014731361743,17.3430940360481,3.58842221389367,1.91090251530723,1.34366975716186,2.85863399613762,2.21905272641839,2.70998699713223,1.81207862563137,2.62403133029111,2.33903483100629,1.93891549315735,2.26678962721002,1.9531068839215,1.39730570240468,1.68932721068557,1.58989488465567,0.781144907338629,0,0,0,0,6.07236624708317,43.3764051800362,85.1278002065847,50.8806955189919,12.9388083082881,4.78418006887401,1.81270307787007,1.24970880808781,0.909918570888172,1.03560425593108,0.80597449051992,0.841871777169431,0.836446540846934,0.730404170024233,0.300922106384739,0.204161244104595,0.447544857855294,0.534957846791388,0,0,0,0,1.59052304309635e-4,2.44506051523614,25.5586728387915,118.439796332204,183.587592364018,99.4502961718662,28.5971801120119,6.6165022915247,2.00792358225021,1.58606275945656,0.996744705563898,0.993154700647968,0.644110638376757,0.0594581430578923,0.120136543530569,0.458813513000819,0,0,0.16480885951192,0,0,0,0.126377952883809,0.425375213293371,1.89653948300042,12.2918683074776,64.0898803730219,207.774073093547,275.566755277633,139.054078723781,30.5766983406147,8.61871796101083,3.61112218893416,0.765909471702043,0.933819054494623,0.750288500459174,0.292908993980387,0.177388804999473,0.109650522097317,0,0,0,0,0,0,0,0.0183163492641447,2.68481718596932,8.21194567076391,29.023014692784,99.3551170691535,272.345076113632,310.920926357395,137.494224556995,29.9695428209389,8.79936648546593,2.48971798135998,0.476771385789038,0.144970495727052,0.195513728484634,0,0.104339855677448,0,0,0,0,0,0,0.295699117988783,0.657723781931321,1.72870715130357,4.0861016626059,13.455867071728,32.2967033262164,109.878741512392,300.70541314827,319.510083347996,121.524192351346,24.1172102307497,3.67153137709547,1.64510932974867,0.554881789547112,0.312342744301684,0.106770792311507,0,0,0,0,0,0,0,0.377621067377167,0.304337140694593,0.9854550901967,2.96987723819781,5.55925563264685,14.6925973768695,33.3291343408133,109.604193954757,251.972265094106,244.514442724132,83.0327525582767,13.4834510417977,2.05577352074788,0.959646484234408,0,0,0,0,0,0,0,0.186285569291962,0,0.316768793066109,0.419997434666293,0.750466887467427,2.51817205658048,2.173611069564,6.0660983291835,10.1972572736748,25.9219143667508,78.6124358743587,180.396929875351,153.341992321251,42.0229514109593,4.52863996025693,0.685371979514698,0,0,0,0,0,0,0,0,0,0.215144042499585,0.357709444674091,0.386928065692688,1.25508166141046,2.49594093863327,2.24541939565968,4.29848806609422,7.81089564900844,10.3888502214148,45.5141948191484,86.3277583155253,54.1333414085952,6.95839885280523,0,0,0,0,0,0,0,0,0,0.229894582965183,0.356491024193435,0.183297476392165,0.300037744306768,0.961836808422785,1.04248208297964,1.34551393869946,2.06609399532991,1.54685286369106,2.271424915808,2.36385907179322,7.90502433765582,13.8225589336756,0.164994078134965,0,0,0,0,0,0,0,0,0,0,0,0,0,0,0,0,0,0,0,0,0,0,0],\"fOption\":\"\",\"fFunctions\":{\"_typename\":\"TList\",\"name\":\"TList\",\"arr\":[{\"_typename\":\"TPaletteAxis\",\"fUniqueID\":0,\"fBits\":50331648,\"fLineColor\":1,\"fLineStyle\":1,\"fLineWidth\":1,\"fFillColor\":1178,\"fFillStyle\":1001,\"fX1\":0.623875000057742,\"fY1\":0,\"fX2\":0.65875000057742,\"fY2\":0.62,\"fX1NDC\":0.904999994039535,\"fY1NDC\":0.100000005960465,\"fX2NDC\":0.949999994039535,\"fY2NDC\":0.899999994039535,\"fBorderSize\":4,\"fInit\":1,\"fShadowColor\":1,\"fCornerRadius\":0,\"fOption\":\"br\",\"fName\":\"TPave\",\"fAxis\":{\"_typename\":\"TGaxis\",\"fUniqueID\":0,\"fBits\":50331648,\"fLineColor\":1,\"fLineStyle\":1,\"fLineWidth\":1,\"fX1\":0,\"fY1\":0,\"fX2\":0,\"fY2\":0,\"fTextAngle\":0,\"fTextSize\":0.04,\"fTextAlign\":11,\"fTextColor\":1,\"fTextFont\":42,\"fWmin\":0,\"fWmax\":0,\"fGridLength\":0,\"fTickSize\":0.03,\"fLabelOffset\":0.005,\"fLabelSize\":0.035,\"fTitleOffset\":1,\"fTitleSize\":0.035,\"fNdiv\":0,\"fLabelColor\":1,\"fLabelFont\":42,\"fNModLabs\":0,\"fChopt\":\"\",\"fName\":\"\",\"fTitle\":\"\",\"fTimeFormat\":\"\",\"fFunctionName\":\"\",\"fModLabs\":null},\"fName\":\"palette\"}],\"opt\":[\"br\"]},\"fBufferSize\":0,\"fBuffer\":[],\"fBinStatErrOpt\":0,\"fStatOverflows\":2,\"fScalefactor\":1,\"fTsumwy\":4366.33766031701,\"fTsumwy2\":1479.29816527986,\"fTsumwxy\":1473.98910850671,\"fArray\":[0,0,0,0,0,0,0,0,0,0,0,0,0,0,0,0,0,0,0,0,0,0,0,0,109.569185702656,48.6696723070797,10.5050729677529,5.08801737242852,4.20901685693835,7.83708106871507,6.7025313070271,7.11821795555262,5.01548052074725,7.79991318703552,6.21193327465444,5.3417733019591,6.50931828388213,6.04878314158552,3.45685264892653,4.54783519763738,4.64593986739447,2.0339071804806,0,0,0,0,16.6042483098623,123.509347516989,238.324754017362,145.021275321955,37.9980134341257,13.876786445652,5.33035896674221,3.65767961387183,2.53238699385074,3.18292393184159,2.31440361392004,2.54303695364851,2.68750915397839,2.09093107915018,0.946710632483173,0.638885392253159,1.3275612136237,1.44655770990559,0,0,0,0,0.0126115940431666,7.23114129990922,73.7392368332791,338.230936141549,526.840192624951,279.699155634094,81.5171636568616,18.9219564642123,5.92247388094651,4.68008726959312,3.20353820376579,3.12739409261683,1.79238528918684,0.243840404891995,0.346607189092449,1.35251440717265,0,0,0.405966574377645,0,0,0,0.355496769160859,1.1175652256679,5.66508395120995,35.9901263997159,181.785691568577,589.917262944094,786.489418311601,394.556434705617,87.1226547143257,24.0009942326142,10.0384436031558,2.20172162544568,2.55417136008224,2.28000493542593,0.761874938691963,0.421175503797968,0.331135202141538,0,0,0,0,0,0,0,0.135337907713045,7.60501710060403,23.4750174688704,81.4910861645621,279.380951907721,774.48811169596,882.56252836063,391.858578521027,85.5878524089332,25.0086712724778,6.84003482243681,1.51265707282287,0.534767715160783,0.622529851324065,0,0.32301680401714,0,0,0,0,0,0,0.765140034531737,1.93367077095504,5.30766021732258,12.2111554433677,37.5734799801337,92.7667291521199,313.5664234545,854.207759122645,901.687325198406,349.794844052265,69.4297863182873,10.5689578768893,4.74478175766553,1.64867207807252,0.783737433837763,0.326758002674008,0,0,0,0,0,0,0,1.06409517376082,0.950935621703215,2.80147505177443,8.44942713456775,15.527026190458,43.2747260106811,92.9482245184117,312.294660455085,718.559904842977,697.222533507577,236.025907604449,38.8103597690287,5.99531226331521,2.74953196100436,0,0,0,0,0,0,0,0.431608120048688,0,0.973654260602404,1.28779169824417,2.31791151220671,6.94662511941044,6.50331873282582,16.8147343116463,28.6467444408876,72.4008270674391,224.431567565096,511.808029553095,433.708938143119,121.295986743275,12.9753196557601,1.87365980177644,0,0,0,0,0,0,0,0,0,0.655692892042129,1.03299143811779,1.19867204001622,3.54204700416863,7.20680224907176,6.62643093000294,11.8921065602716,21.6565286738729,30.0346634830238,129.733526346899,248.014781992302,154.604660831343,19.7376395045495,0,0,0,0,0,0,0,0,0,0.677995557374399,1.01610055374878,0.602764110909367,1.06764524605505,2.63642534051874,2.83710891709275,4.0369720516913,6.02619911944718,4.62504200876525,6.28921497516236,7.16247663573043,21.7295877673349,39.8920213163285,0.56729497118544,0,0,0,0,0,0,0,0,0,0,0,0,0,0,0,0,0,0,0,0,0,0,0]},{\"_typename\":\"TPaveText\",\"fUniqueID\":0,\"fBits\":50331657,\"fLineColor\":1,\"fLineStyle\":1,\"fLineWidth\":1,\"fFillColor\":0,\"fFillStyle\":0,\"fX1\":0.0509802498254848,\"fY1\":0.629228332211757,\"fX2\":0.569019750174515,\"fY2\":0.693625009411946,\"fX1NDC\":0.165780972497006,\"fY1NDC\":0.911907519296624,\"fX2NDC\":0.834219027502993,\"fY2NDC\":0.995000004768372,\"fBorderSize\":0,\"fInit\":1,\"fShadowColor\":1,\"fCornerRadius\":0,\"fOption\":\"blNDC\",\"fName\":\"title\",\"fTextAngle\":0,\"fTextSize\":0,\"fTextAlign\":22,\"fTextColor\":1,\"fTextFont\":42,\"fLabel\":\"\",\"fLongest\":40,\"fMargin\":0.05,\"fLines\":{\"_typename\":\"TList\",\"name\":\"TList\",\"arr\":[{\"_typename\":\"TLatex\",\"fUniqueID\":0,\"fBits\":50331648,\"fName\":\"\",\"fTitle\":\"Response Matrix #tau_{1}^{(1)} binning 1\",\"fTextAngle\":0,\"fTextSize\":0,\"fTextAlign\":0,\"fTextColor\":0,\"fTextFont\":0,\"fX\":0,\"fY\":0,\"fLineColor\":1,\"fLineStyle\":1,\"fLineWidth\":2,\"fLimitFactorSize\":3,\"fOriginSize\":0.0559338182210922}],\"opt\":[\"\"]}}],\"opt\":[\"\",\"colz\",\"blNDC\"]},\"fExecs\":{\"_typename\":\"TList\",\"name\":\"TList\",\"arr\":[],\"opt\":[]},\"fName\":\"c6_1\",\"fTitle\":\"c6_1\",\"fNumPaletteColor\":0,\"fNextPaletteColor\":0},{\"_typename\":\"TPad\",\"fUniqueID\":0,\"fBits\":50331657,\"fLineColor\":1,\"fLineStyle\":1,\"fLineWidth\":1,\"fFillColor\":0,\"fFillStyle\":1001,\"fLeftMargin\":0.1,\"fRightMargin\":0.1,\"fBottomMargin\":0.1,\"fTopMargin\":0.1,\"fXfile\":2,\"fYfile\":2,\"fAfile\":1,\"fXstat\":0.99,\"fYstat\":0.99,\"fAstat\":2,\"fFrameFillColor\":0,\"fFrameLineColor\":1,\"fFrameFillStyle\":1001,\"fFrameLineStyle\":1,\"fFrameLineWidth\":1,\"fFrameBorderSize\":1,\"fFrameBorderMode\":0,\"fX1\":-0.0775000057742003,\"fY1\":-0.0775000057742003,\"fX2\":0.6975000057742,\"fY2\":0.6975000057742,\"fXtoAbsPixelk\":448.101385353136,\"fXtoPixelk\":37.4747189537963,\"fXtoPixel\":483.544079506012,\"fYtoAbsPixelk\":305.864048143911,\"fYtoPixelk\":298.944048298585,\"fYtoPixel\":-428.593542399714,\"fUtoAbsPixelk\":410.62671639934,\"fUtoPixelk\":5e-5,\"fUtoPixel\":374.74666720132,\"fVtoAbsPixelk\":339.080050154674,\"fVtoPixelk\":332.160000309348,\"fVtoPixel\":-332.160000309348,\"fAbsPixeltoXk\":-0.926702144323462,\"fPixeltoXk\":-0.0775000057742003,\"fPixeltoX\":0.00206806378649408,\"fAbsPixeltoYk\":0.713645838972201,\"fPixeltoYk\":-0.0775000057742003,\"fPixeltoY\":-0.00233321294203584,\"fXlowNDC\":0.343333333109816,\"fYlowNDC\":0.509999999776483,\"fXUpNDC\":0,\"fYUpNDC\":0,\"fWNDC\":0.313333333780368,\"fHNDC\":0.480000000447035,\"fAbsXlowNDC\":0.343333333109816,\"fAbsYlowNDC\":0.509999999776483,\"fAbsWNDC\":0.313333333780368,\"fAbsHNDC\":0.480000000447035,\"fUxmin\":0,\"fUymin\":0,\"fUxmax\":0.62,\"fUymax\":0.62,\"fTheta\":30,\"fPhi\":30,\"fAspectRatio\":0,\"fNumber\":2,\"fTickx\":0,\"fTicky\":0,\"fLogx\":0,\"fLogy\":0,\"fLogz\":0,\"fPadPaint\":0,\"fCrosshair\":0,\"fCrosshairPos\":0,\"fBorderSize\":2,\"fBorderMode\":0,\"fModified\":false,\"fGridx\":false,\"fGridy\":false,\"fAbsCoord\":false,\"fEditable\":true,\"fFixedAspectRatio\":false,\"fPrimitives\":{\"_typename\":\"TList\",\"name\":\"TList\",\"arr\":[{\"_typename\":\"TFrame\",\"fUniqueID\":0,\"fBits\":50331656,\"fLineColor\":1,\"fLineStyle\":1,\"fLineWidth\":1,\"fFillColor\":0,\"fFillStyle\":1001,\"fX1\":0,\"fY1\":0,\"fX2\":0.62,\"fY2\":0.62,\"fBorderSize\":1,\"fBorderMode\":0},{\"_typename\":\"TH2D\",\"fUniqueID\":0,\"fBits\":50332168,\"fName\":\"response\",\"fTitle\":\"Response Matrix #tau_{1}^{(1)} binning 2\",\"fLineColor\":602,\"fLineStyle\":1,\"fLineWidth\":1,\"fFillColor\":0,\"fFillStyle\":1001,\"fMarkerColor\":1,\"fMarkerStyle\":1,\"fMarkerSize\":1,\"fNcells\":364,\"fXaxis\":{\"_typename\":\"TAxis\",\"fUniqueID\":0,\"fBits\":50331648,\"fName\":\"xaxis\",\"fTitle\":\"#tau_{1}^{(1)}(det_sig)\",\"fNdivisions\":510,\"fAxisColor\":1,\"fLabelColor\":1,\"fLabelFont\":42,\"fLabelOffset\":0.005,\"fLabelSize\":0.035,\"fTickLength\":0.03,\"fTitleOffset\":1,\"fTitleSize\":0.035,\"fTitleColor\":1,\"fTitleFont\":42,\"fNbins\":24,\"fXmin\":0,\"fXmax\":0.62,\"fXbins\":[0,0.065,0.13,0.1485,0.167,0.1855,0.204,0.2225,0.241,0.2595,0.278,0.2965,0.315,0.3335,0.352,0.3705,0.389,0.4075,0.426,0.4445,0.463,0.4815,0.5,0.56,0.62],\"fFirst\":0,\"fLast\":0,\"fBits2\":0,\"fTimeDisplay\":false,\"fTimeFormat\":\"\",\"fLabels\":null,\"fModLabs\":null},\"fYaxis\":{\"_typename\":\"TAxis\",\"fUniqueID\":0,\"fBits\":50331648,\"fName\":\"yaxis\",\"fTitle\":\"#tau_{1}^{(1)}(gen_sig)\",\"fNdivisions\":510,\"fAxisColor\":1,\"fLabelColor\":1,\"fLabelFont\":42,\"fLabelOffset\":0.005,\"fLabelSize\":0.035,\"fTickLength\":0.03,\"fTitleOffset\":0,\"fTitleSize\":0.035,\"fTitleColor\":1,\"fTitleFont\":42,\"fNbins\":12,\"fXmin\":0,\"fXmax\":0.62,\"fXbins\":[0,0.13,0.167,0.204,0.241,0.278,0.315,0.352,0.389,0.426,0.463,0.5,0.62],\"fFirst\":0,\"fLast\":0,\"fBits2\":0,\"fTimeDisplay\":false,\"fTimeFormat\":\"\",\"fLabels\":null,\"fModLabs\":null},\"fZaxis\":{\"_typename\":\"TAxis\",\"fUniqueID\":0,\"fBits\":50331648,\"fName\":\"zaxis\",\"fTitle\":\"\",\"fNdivisions\":510,\"fAxisColor\":1,\"fLabelColor\":1,\"fLabelFont\":42,\"fLabelOffset\":0.005,\"fLabelSize\":0.035,\"fTickLength\":0.03,\"fTitleOffset\":1,\"fTitleSize\":0.035,\"fTitleColor\":1,\"fTitleFont\":42,\"fNbins\":1,\"fXmin\":0,\"fXmax\":1,\"fXbins\":[],\"fFirst\":0,\"fLast\":0,\"fBits2\":0,\"fTimeDisplay\":false,\"fTimeFormat\":\"\",\"fLabels\":null,\"fModLabs\":null},\"fBarOffset\":0,\"fBarWidth\":1000,\"fEntries\":43107,\"fTsumw\":13901.1376293109,\"fTsumw2\":4887.05421222413,\"fTsumwx\":4398.01334473652,\"fTsumwx2\":1487.39692517914,\"fMaximum\":-1111,\"fMinimum\":-1111,\"fNormFactor\":0,\"fContour\":[0,32.9686165098573,65.9372330197146,98.9058495295719,131.874466039429,164.843082549286,197.811699059144,230.780315569001,263.748932078858,296.717548588716,329.686165098573,362.65478160843,395.623398118287,428.592014628145,461.560631138002,494.529247647859,527.497864157717,560.466480667574,593.435097177431,626.403713687288],\"fSumw2\":[0,0,0,0,0,0,0,0,0,0,0,0,0,0,0,0,0,0,0,0,0,0,0,0,0,0,0,0,39.3014731361743,15.8143883087253,4.50034025788709,1.1276877212126,1.83140999377335,0.912262240812506,2.56136344784782,1.72252361877719,1.62375020901674,2.5038988818899,1.18821618778796,2.25831169296869,1.32871096295065,2.58622323607166,0.956667697544526,2.03885769212924,1.65356138395768,1.13165057230544,0.798332320299274,1.68775089726955,1.35833950783549,0.781144907338629,0,0,0,0,5.98288541805417,29.8489217762272,50.1894037161666,40.0623570665487,11.9608361056779,3.71525360822174,2.40717658432581,1.1049142892463,0.63440729763202,0.58160805571209,0.725443204011443,0.844974565122878,0.654081180443645,0.248601278364192,0.668349413342374,0.536379420542576,0.597003960012626,0.223484605300969,0.0981951721797925,0.19803237365289,0.355478556127206,0.336964165643913,0,0,0,0,0.0896398813333123,1.87182681331594,16.5204376604174,69.4555671417396,108.679096494852,70.8662338844266,24.0866562238821,8.75579946100757,3.22173408201476,1.5752734249829,0.796440573808408,0.849125473751984,0.619550664692915,0.498475607751623,0.552812623879613,0.378987350585159,0.133400210011607,0.120136543530569,0.0774375010837696,0.244014761949642,0,0.197993681147475,0.16480885951192,0,0,0,0,0.231493009729218,2.361755742887,9.8590995125801,39.0142302865426,120.166122907134,163.254768020888,104.755203274609,36.5277103694026,9.7761535006958,3.07173896428811,1.69920474017802,1.19523816935753,0.84740975520122,0.323285036839499,0.522926618007458,0.469376079180222,1.41228042724835e-5,0.40108971666711,0,0,0,0,0,0,0,0.126377952883809,0,0.494112032053558,1.39264935852308,6.80976316321762,20.9510661455695,60.8970958730101,169.078822835889,207.082906605638,122.918806213283,36.6070260982304,11.6097472094679,3.77122245810514,1.80713770729075,0.796714320764159,0.733910556012947,0.539149240530168,0,0.106603905560182,0.177388804999473,0.109650522097317,0.104339855677448,0,0,0,0,0,0,0,0.478021003528434,2.02352935737599,5.02179706020517,13.7648590105615,31.4796706377732,80.2331767696745,199.289982076815,227.416778904533,118.62300974084,35.2374264740483,12.4587254475112,3.63107859105402,1.31401598625828,0.277992709595714,0.0556496546014963,0.0893208411255556,0.195513728484634,0,0,0,0,0,0,0,0,0,0.429913000749147,0.741959896749049,1.18807708328798,2.4686865842999,8.53282135276715,14.3750415354618,31.6888426185296,90.7207472291158,210.707679343823,233.769925441418,118.147236731097,32.631757654256,10.0308168116092,2.05981039845479,0.836964114347885,0.359972557233785,0.0787797170678558,0,0.106770792311507,0,0,0,0,0,0,0,0.115930749583844,0.245521556862751,0.398033690346952,0.54675891024922,2.37308333761527,3.16786970019292,8.96809309100403,16.1311117061544,35.0086135134915,103.852025753976,185.648764251465,195.697001827477,90.4441504492206,20.8460308481556,5.34186747324597,0.915303483817362,0.664811091482595,0.594355784224333,0,0,0,0,0,0,0,0.186285569291962,0.132099510514416,0,0.336191107608566,0.54801691752278,0.35274974472931,0.698440630066901,2.51730175614818,2.99974825587378,6.28248339781666,10.727449418712,31.9987714063375,72.3674811925725,155.067144074605,140.968122015234,63.9952795965792,13.7276738081071,2.31458613210885,0.68256422747799,0.115930749583844,0,0,0,0,0,0,0,0,0.0931304566588413,0,0.287832643529529,0,1.42735718208849,1.35266435487174,1.46810099382002,2.25637964035878,2.38299448368233,5.21349107535514,10.6741832673121,19.1273621238842,57.409758316931,108.203234100082,91.2667608604206,31.1255554247631,5.10886727066884,0.873241681190456,0,0,0,0,0,0,0,0,0,0,0,0.211616145026551,0.144720278424651,0,1.02010460591603,1.13682368501519,1.63241128812588,1.75556215304324,2.34799897654111,4.01687712433818,4.47641469343581,10.5890681357467,31.0081355766761,53.7969382219286,35.999293330061,6.65459840154563,0,0,0,0,0,0,0,0,0,0,0.229894582965183,0.356491024193435,0.108883943406191,0.291881139548949,0.082570137743793,0.880692238226421,0.898422824427308,0.72929142255532,1.39976998897945,1.50775035124331,1.20063977494293,1.52167569058662,1.70317420736441,2.31581761916827,7.34585389688586,13.8225589336756,0.164994078134965,0,0,0,0,0,0,0,0,0,0,0,0,0,0,0,0,0,0,0,0,0,0,0,0,0,0,0],\"fOption\":\"\",\"fFunctions\":{\"_typename\":\"TList\",\"name\":\"TList\",\"arr\":[{\"_typename\":\"TPaletteAxis\",\"fUniqueID\":0,\"fBits\":50331648,\"fLineColor\":1,\"fLineStyle\":1,\"fLineWidth\":1,\"fFillColor\":1178,\"fFillStyle\":1001,\"fX1\":0.623875000057742,\"fY1\":0,\"fX2\":0.65875000057742,\"fY2\":0.62,\"fX1NDC\":0.904999994039535,\"fY1NDC\":0.100000005960465,\"fX2NDC\":0.949999994039535,\"fY2NDC\":0.899999994039535,\"fBorderSize\":4,\"fInit\":1,\"fShadowColor\":1,\"fCornerRadius\":0,\"fOption\":\"br\",\"fName\":\"TPave\",\"fAxis\":{\"_typename\":\"TGaxis\",\"fUniqueID\":0,\"fBits\":50331648,\"fLineColor\":1,\"fLineStyle\":1,\"fLineWidth\":1,\"fX1\":0,\"fY1\":0,\"fX2\":0,\"fY2\":0,\"fTextAngle\":0,\"fTextSize\":0.04,\"fTextAlign\":11,\"fTextColor\":1,\"fTextFont\":42,\"fWmin\":0,\"fWmax\":0,\"fGridLength\":0,\"fTickSize\":0.03,\"fLabelOffset\":0.005,\"fLabelSize\":0.035,\"fTitleOffset\":1,\"fTitleSize\":0.035,\"fNdiv\":0,\"fLabelColor\":1,\"fLabelFont\":42,\"fNModLabs\":0,\"fChopt\":\"\",\"fName\":\"\",\"fTitle\":\"\",\"fTimeFormat\":\"\",\"fFunctionName\":\"\",\"fModLabs\":null},\"fName\":\"palette\"}],\"opt\":[\"br\"]},\"fBufferSize\":0,\"fBuffer\":[],\"fBinStatErrOpt\":0,\"fStatOverflows\":2,\"fScalefactor\":1,\"fTsumwy\":4366.33766031701,\"fTsumwy2\":1479.29816527986,\"fTsumwxy\":1473.98910850671,\"fArray\":[0,0,0,0,0,0,0,0,0,0,0,0,0,0,0,0,0,0,0,0,0,0,0,0,0,0,0,0,109.569185702656,44.393588394887,13.0360190718672,3.17069627646195,4.94462858075843,2.926847180225,7.07388764234609,5.12483330153239,4.74399687327533,6.47214957431466,3.25844346057356,6.67816676903993,3.97404418945579,6.44556370300997,2.93244845520003,5.83271493082547,5.10570496232717,3.34054323994319,1.80557301203644,4.47713046521468,3.97045917602243,2.0339071804806,0,0,0,0,16.3051148462896,84.2693305607143,142.817067550795,112.266695840185,34.2489058484598,10.4841013253272,6.74060250699984,3.31710688124419,1.91224630188393,1.50617183569178,2.10288103710889,2.5682470442861,1.81369109470237,0.705101296420423,2.11194097567489,1.62932738169587,1.72569114429693,0.668434688348992,0.313361089128488,0.628948596364496,1.02413692038388,1.00159290101901,0,0,0,0,0.311745057615871,5.8670576110766,47.1755164698093,195.204614050119,312.579986045603,204.872955628105,67.3649343500002,24.7119906116204,9.14684374603203,4.77024236714841,2.32709223655688,2.59076340951944,1.89399877186685,1.78348289482988,1.65151589080474,1.18735988535651,0.365239934853251,0.346607189092449,0.278275944134181,0.698482497485213,0,0.444964808886585,0.405966574377645,0,0,0,0,0.749545496224877,7.00389780778907,27.7858340747781,111.298601700373,344.951362527843,459.840838787958,298.484056181896,103.363330446338,28.3957067502443,8.80440955694613,4.70459873274841,3.50829483928943,2.41666981111838,0.984120690275053,1.44473840541438,1.51614663916275,0.00375803196799648,1.08564628110703,0,0,0,0,0,0,0,0.355496769160859,0,1.40309379502665,4.29671720531178,19.8320091179883,58.2079342781705,175.894112564469,481.315905427715,591.038947254757,347.56740807321,105.098107624844,33.1381688314403,10.6923717122336,5.12413214032879,2.40236152363621,1.91067561730105,1.63727200414915,0,0.326502535304371,0.421175503797968,0.331135202141538,0.32301680401714,0,0,0,0,0,0,0,1.16918125070557,5.82318593963453,14.361142688438,38.7142478812576,88.7694855560726,226.124561083026,564.536345203172,645.61883619455,337.5342747633,101.391316751871,34.5567595283504,10.2534406686645,3.62439369359597,0.8830837698289,0.235901790161703,0.29886592499908,0.622529851324065,0,0,0,0,0,0,0,0,0,1.1314921639924,2.30547240993959,3.59501112686851,7.44703242021271,24.2822820130714,40.4788435410054,91.5023539900536,259.151943571984,599.051483346339,659.372330197146,333.892182269896,92.9660228256665,28.5185836372354,5.59652469417285,2.38620472064292,1.02721702171884,0.280677247150274,0,0.326758002674008,0,0,0,0,0,0,0,0.340486049029683,0.700640210231059,1.2494560406182,1.65298594452867,6.93035211503447,8.72553737415124,24.04288612954,47.1712350683311,97.6611179888366,293.943815991814,528.396184577533,562.667384672407,257.876221784097,60.4155795575455,15.5530995375403,2.54281795805478,1.80760072064467,1.52770730906657,0,0,0,0,0,0,0,0.431608120048688,0.363454963529756,0,1.003970283866,1.478389745891,1.06003651725587,2.31095391868404,6.88497704418662,9.18126107090292,17.3755718590381,32.0849640830823,92.2025718878227,205.892871925906,440.655722472295,400.656880027267,180.716496730214,39.9192231925233,6.7044591418016,2.01683401841519,0.340486049029683,0,0,0,0,0,0,0,0,0.305172830800583,0,0.923822311000317,0,4.42878088650984,3.74572360424559,4.36864152503179,6.45047153693568,6.73614776566116,13.8937405619595,30.1321717473964,54.7293811810944,161.68250153866,306.053135858609,259.18545896402,91.7351206890495,14.9370770595973,2.31154584171341,0,0,0,0,0,0,0,0,0,0,0,0.650421557495628,0.380421185562333,0,2.85661131995539,3.16652630010166,4.88634270789131,5.51417362258799,6.52951451693442,11.2252803542675,12.8612882494428,30.2344870360121,89.3802687307434,154.59505492271,101.687452567478,18.9592674155829,0,0,0,0,0,0,0,0,0,0,0.677995557374399,1.01610055374878,0.329975670930738,1.05188943015524,0.288544255878444,2.35156648038558,2.47035857024352,2.07005570755724,4.23519422566055,4.40953044490309,3.60649745264675,4.39152826962244,4.7936585731506,6.93196250871299,20.0826745828602,39.8920213163285,0.56729497118544,0,0,0,0,0,0,0,0,0,0,0,0,0,0,0,0,0,0,0,0,0,0,0,0,0,0,0]},{\"_typename\":\"TPaveText\",\"fUniqueID\":0,\"fBits\":50331657,\"fLineColor\":1,\"fLineStyle\":1,\"fLineWidth\":1,\"fFillColor\":0,\"fFillStyle\":0,\"fX1\":0.0489121860389908,\"fY1\":0.629228332211757,\"fX2\":0.571087813961009,\"fY2\":0.693625009411946,\"fX1NDC\":0.163112503134842,\"fY1NDC\":0.911907519296624,\"fX2NDC\":0.836887496865158,\"fY2NDC\":0.995000004768372,\"fBorderSize\":0,\"fInit\":1,\"fShadowColor\":1,\"fCornerRadius\":0,\"fOption\":\"blNDC\",\"fName\":\"title\",\"fTextAngle\":0,\"fTextSize\":0,\"fTextAlign\":22,\"fTextColor\":1,\"fTextFont\":42,\"fLabel\":\"\",\"fLongest\":40,\"fMargin\":0.05,\"fLines\":{\"_typename\":\"TList\",\"name\":\"TList\",\"arr\":[{\"_typename\":\"TLatex\",\"fUniqueID\":0,\"fBits\":50331648,\"fName\":\"\",\"fTitle\":\"Response Matrix #tau_{1}^{(1)} binning 2\",\"fTextAngle\":0,\"fTextSize\":0,\"fTextAlign\":0,\"fTextColor\":0,\"fTextFont\":0,\"fX\":0,\"fY\":0,\"fLineColor\":1,\"fLineStyle\":1,\"fLineWidth\":2,\"fLimitFactorSize\":3,\"fOriginSize\":0.0556159242987633}],\"opt\":[\"\"]}}],\"opt\":[\"\",\"colz\",\"blNDC\"]},\"fExecs\":{\"_typename\":\"TList\",\"name\":\"TList\",\"arr\":[],\"opt\":[]},\"fName\":\"c6_2\",\"fTitle\":\"c6_2\",\"fNumPaletteColor\":0,\"fNextPaletteColor\":0},{\"_typename\":\"TPad\",\"fUniqueID\":0,\"fBits\":50331657,\"fLineColor\":1,\"fLineStyle\":1,\"fLineWidth\":1,\"fFillColor\":0,\"fFillStyle\":1001,\"fLeftMargin\":0.1,\"fRightMargin\":0.1,\"fBottomMargin\":0.1,\"fTopMargin\":0.1,\"fXfile\":2,\"fYfile\":2,\"fAfile\":1,\"fXstat\":0.99,\"fYstat\":0.99,\"fAstat\":2,\"fFrameFillColor\":0,\"fFrameLineColor\":1,\"fFrameFillStyle\":1001,\"fFrameLineStyle\":1,\"fFrameLineWidth\":1,\"fFrameBorderSize\":1,\"fFrameBorderMode\":0,\"fX1\":-0.0775000057742003,\"fY1\":-0.0775000057742003,\"fX2\":0.6975000057742,\"fY2\":0.6975000057742,\"fXtoAbsPixelk\":846.768052019803,\"fXtoPixelk\":37.4747189537963,\"fXtoPixel\":483.544079506012,\"fYtoAbsPixelk\":305.864048143911,\"fYtoPixelk\":298.944048298585,\"fYtoPixel\":-428.593542399714,\"fUtoAbsPixelk\":809.293383066006,\"fUtoPixelk\":5e-5,\"fUtoPixel\":374.74666720132,\"fVtoAbsPixelk\":339.080050154674,\"fVtoPixelk\":332.160000309348,\"fVtoPixel\":-332.160000309348,\"fAbsPixeltoXk\":-1.7511702405391,\"fPixeltoXk\":-0.0775000057742003,\"fPixeltoX\":0.00206806378649408,\"fAbsPixeltoYk\":0.713645838972201,\"fPixeltoYk\":-0.0775000057742003,\"fPixeltoY\":-0.00233321294203584,\"fXlowNDC\":0.676666666443149,\"fYlowNDC\":0.509999999776483,\"fXUpNDC\":0,\"fYUpNDC\":0,\"fWNDC\":0.313333333780368,\"fHNDC\":0.480000000447035,\"fAbsXlowNDC\":0.676666666443149,\"fAbsYlowNDC\":0.509999999776483,\"fAbsWNDC\":0.313333333780368,\"fAbsHNDC\":0.480000000447035,\"fUxmin\":0,\"fUymin\":0,\"fUxmax\":0.62,\"fUymax\":0.62,\"fTheta\":30,\"fPhi\":30,\"fAspectRatio\":0,\"fNumber\":3,\"fTickx\":0,\"fTicky\":0,\"fLogx\":0,\"fLogy\":0,\"fLogz\":0,\"fPadPaint\":0,\"fCrosshair\":0,\"fCrosshairPos\":0,\"fBorderSize\":2,\"fBorderMode\":0,\"fModified\":false,\"fGridx\":false,\"fGridy\":false,\"fAbsCoord\":false,\"fEditable\":true,\"fFixedAspectRatio\":false,\"fPrimitives\":{\"_typename\":\"TList\",\"name\":\"TList\",\"arr\":[{\"_typename\":\"TFrame\",\"fUniqueID\":0,\"fBits\":50331656,\"fLineColor\":1,\"fLineStyle\":1,\"fLineWidth\":1,\"fFillColor\":0,\"fFillStyle\":1001,\"fX1\":0,\"fY1\":0,\"fX2\":0.62,\"fY2\":0.62,\"fBorderSize\":1,\"fBorderMode\":0},{\"_typename\":\"TH2D\",\"fUniqueID\":0,\"fBits\":50332168,\"fName\":\"response\",\"fTitle\":\"Response Matrix #tau_{1}^{(1)} binning 3\",\"fLineColor\":602,\"fLineStyle\":1,\"fLineWidth\":1,\"fFillColor\":0,\"fFillStyle\":1001,\"fMarkerColor\":1,\"fMarkerStyle\":1,\"fMarkerSize\":1,\"fNcells\":760,\"fXaxis\":{\"_typename\":\"TAxis\",\"fUniqueID\":0,\"fBits\":50331648,\"fName\":\"xaxis\",\"fTitle\":\"#tau_{1}^{(1)}(det_sig)\",\"fNdivisions\":510,\"fAxisColor\":1,\"fLabelColor\":1,\"fLabelFont\":42,\"fLabelOffset\":0.005,\"fLabelSize\":0.035,\"fTickLength\":0.03,\"fTitleOffset\":1,\"fTitleSize\":0.035,\"fTitleColor\":1,\"fTitleFont\":42,\"fNbins\":36,\"fXmin\":0,\"fXmax\":0.62,\"fXbins\":[0,0.065,0.13,0.1415625,0.153125,0.1646875,0.17625,0.1878125,0.199375,0.2109375,0.2225,0.2340625,0.245625,0.2571875,0.26875,0.2803125,0.291875,0.3034375,0.315,0.3265625,0.338125,0.3496875,0.36125,0.3728125,0.384375,0.3959375,0.4075,0.4190625,0.430625,0.4421875,0.45375,0.4653125,0.476875,0.4884375,0.5,0.56,0.62],\"fFirst\":0,\"fLast\":0,\"fBits2\":0,\"fTimeDisplay\":false,\"fTimeFormat\":\"\",\"fLabels\":null,\"fModLabs\":null},\"fYaxis\":{\"_typename\":\"TAxis\",\"fUniqueID\":0,\"fBits\":50331648,\"fName\":\"yaxis\",\"fTitle\":\"#tau_{1}^{(1)}(gen_sig)\",\"fNdivisions\":510,\"fAxisColor\":1,\"fLabelColor\":1,\"fLabelFont\":42,\"fLabelOffset\":0.005,\"fLabelSize\":0.035,\"fTickLength\":0.03,\"fTitleOffset\":0,\"fTitleSize\":0.035,\"fTitleColor\":1,\"fTitleFont\":42,\"fNbins\":18,\"fXmin\":0,\"fXmax\":0.62,\"fXbins\":[0,0.13,0.153125,0.17625,0.199375,0.2225,0.245625,0.26875,0.291875,0.315,0.338125,0.36125,0.384375,0.4075,0.430625,0.45375,0.476875,0.5,0.62],\"fFirst\":0,\"fLast\":0,\"fBits2\":0,\"fTimeDisplay\":false,\"fTimeFormat\":\"\",\"fLabels\":null,\"fModLabs\":null},\"fZaxis\":{\"_typename\":\"TAxis\",\"fUniqueID\":0,\"fBits\":50331648,\"fName\":\"zaxis\",\"fTitle\":\"\",\"fNdivisions\":510,\"fAxisColor\":1,\"fLabelColor\":1,\"fLabelFont\":42,\"fLabelOffset\":0.005,\"fLabelSize\":0.035,\"fTickLength\":0.03,\"fTitleOffset\":1,\"fTitleSize\":0.035,\"fTitleColor\":1,\"fTitleFont\":42,\"fNbins\":1,\"fXmin\":0,\"fXmax\":1,\"fXbins\":[],\"fFirst\":0,\"fLast\":0,\"fBits2\":0,\"fTimeDisplay\":false,\"fTimeFormat\":\"\",\"fLabels\":null,\"fModLabs\":null},\"fBarOffset\":0,\"fBarWidth\":1000,\"fEntries\":43107,\"fTsumw\":13901.1376293109,\"fTsumw2\":4887.05421222413,\"fTsumwx\":4398.01334473652,\"fTsumwx2\":1487.39692517914,\"fMaximum\":-1111,\"fMinimum\":-1111,\"fNormFactor\":0,\"fContour\":[0,15.9129218115941,31.8258436231883,47.7387654347824,63.6516872463765,79.5646090579707,95.4775308695648,111.390452681159,127.303374492753,143.216296304347,159.129218115941,175.042139927535,190.95506173913,206.867983550724,222.780905362318,238.693827173912,254.606748985506,270.5196707971,286.432592608694,302.345514420289],\"fSumw2\":[0,0,0,0,0,0,0,0,0,0,0,0,0,0,0,0,0,0,0,0,0,0,0,0,0,0,0,0,0,0,0,0,0,0,0,0,0,0,0,0,39.3014731361743,10.7136029128927,6.62949112315542,2.57861741701514,1.00980479687853,0.868948033139977,1.04195448216725,0.766728671749776,0.576941085412079,1.54621158722991,1.31242240890771,1.35847236441314,0.860580362005247,1.27626643385934,1.43372056327289,0.88342328392123,0.928655341710138,1.29239504633226,1.33163628395884,0.962991325628231,1.37604350537806,1.31687946963186,0.622036023525487,1.32033674640028,0.946452880809742,0.996682668326746,0.956424215594754,0.535065715438403,0.862239986966282,0.55517271539112,1.13415449529445,0.827588041044561,0.762306843611113,0.781144907338629,0,0,0,0,5.54272424184575,14.4891983493178,21.7779722598485,16.0145113057027,11.096943333172,4.94774057185028,1.84837120483832,1.14761834138143,0.456395322055965,0.640005175469101,0.806030361169079,0.127597420239411,0.585741159432821,0.100059626666519,0.268372547425294,0.20825246042205,0.151964514417485,0.213199215171558,0.113318965225922,0.137255946264471,0,0.248601278364192,0.36987813836488,0.431726182869994,0.0776838278224796,0.129746289555119,0.116129515245471,0.107458606032849,0.116025999268121,0.0981951721797925,0.105966071924802,0.289186318534928,0,0.336964165643913,0,0,0,0,0.529642005237419,1.15986808045961,5.94936649041034,20.7481685504726,37.2681770172373,29.2899007321285,14.7946830101748,7.53296229679251,3.80183234805818,1.92478503585186,1.41335949638397,0.501355836718288,0.59800866147955,0.450614787265257,0.430661846730737,0.3263913526168,0.223310243431837,0.583909162389823,0.125176913143778,0.653982218190987,0.014736326064462,0,0.223392360440359,0.176215240652546,0.150821289501915,0.351128155212036,0.133400210011607,0,0.0774375010837696,0,0,0.158358539320366,0,0.197993681147475,0,0,0,0,1.59052304309635e-4,0.220110382866708,1.69224994019195,4.49746377902816,14.9264740445026,33.9882955298428,51.5854291531359,43.4916222289557,21.3705961213057,11.8685616344559,6.60606758204797,2.95066790065973,1.75407510639397,0.567847811288786,0.812345915894874,0.49347103517212,0.197422565116949,0.421140048486225,0.165355591280182,0.333057306998106,0.273797645856403,0.339812462208347,0.128784888161399,0.13203657402857,0.228166061083245,0,0,0.120136543530569,0,0,0.244014761949642,0,0,0,0.16480885951192,0,0,0,0,0,0.532700192177482,1.35651707453577,4.77821794072492,10.9157738376977,21.9502978115278,47.866014761375,70.8593592523811,54.3632926260207,26.6123743293417,14.0466319365574,9.84580516840077,3.48209939754497,1.75420916679608,0.806405722930064,0.510624259031075,0.521696505170028,0.477870614520122,0.0766016133451594,0.313288139364229,0.113318894391976,0.411238455886245,0,0.283908003264942,0,0.0594581430578923,0,0,0.214798751051177,0,0,0,0,0,0,0,0,0,0,0.425375213293371,0.366259152613221,1.0309543805674,2.00196807929989,6.17596742865109,14.0500679729326,33.750797206292,59.8730250298579,88.2185245113716,69.4287720847189,35.2439226420065,15.1884352317146,8.93307955730366,3.29904459417042,1.09321728613565,1.51163967566463,0.783253891276332,0.201383123299739,0.82598003590207,0.199955885325166,0,0.124672496690941,0.291767241871059,0.189757598155982,0.333340999488534,1.41228042724835e-5,0.186290965615933,0,0,0,0,0,0,0,0,0,0.126377952883809,0,0,0.240095776425637,0.259230173394164,2.09762655315558,2.01630624637105,5.38536759966366,10.9036475941335,18.7067252320626,40.9757983202554,74.2383885738974,96.6556719770098,74.927531431296,40.0050325034667,16.9332837649473,9.25115269536133,4.77795423646895,1.54587015760091,2.03879206793166,0.544966961800692,0.314493258720138,0.251460327656738,0.382310119106616,0.135069196826007,0.092988900219913,0.134201002594745,0,0.106603905560182,0,0.177388804999473,0,0.109650522097317,0,0,0,0,0,0,0,0,0,0.0183163492641447,0.604011979058863,1.42925084567145,2.57062760995808,3.73463787289195,6.98767202182425,13.9113035973997,25.974487811599,49.807337602213,87.4851660030022,106.610442785717,70.4126236328992,38.651010888639,17.7749432440964,7.24475633087949,2.99762253036499,1.18556165936106,1.37624751076097,0.677131786360576,0.417415752536991,0.342180360945205,0.21783197167488,0.110270254347932,0,0.0893208411255556,0,0.116129515245471,0,0,0.104339855677448,0,0,0,0,0,0,0,0,0,0.109948312183306,0.541606049055703,0.288048933073009,1.61863125484088,3.36244772760998,4.76159134595005,8.36086252311294,15.2124291322286,24.2676213680722,53.9818459568408,97.3210065479213,104.536285287935,76.1440389288982,36.3304860531203,17.7511882105232,8.03517042068962,4.90862057327334,1.83736661507104,1.210508931533,0.519612936344788,0.0343657872847775,0.114303372481449,0,0.0556496546014963,0,0.0793842132391635,0,0,0,0,0,0,0,0,0,0,0,0.177381792553921,0.324486425122891,0.217306607224586,0.401470519234561,0.689309865647064,0.99982328229032,1.39720982846987,4.61427359737536,4.25005441895777,9.07207809126659,14.2645921006975,27.3015538314781,56.6834321990841,97.442505666035,111.96013405053,77.8960751106441,41.1020070942003,17.4761794059091,8.21980939862706,3.61533874606707,1.4108223935761,0.577733012406056,0.328092667257645,0.406838115184517,0,0.214387790391299,0,0,0,0,0,0,0,0,0,0,0,0,0.118317325434862,0.115930749583844,0,0.0894444007117935,0.548482365710155,0.586781561961539,1.10228698988417,1.60420988343884,2.98732917195601,3.20419400190648,5.75583913234583,9.62066669241384,16.2730887894158,30.7901876247122,60.5125858069927,95.0068674422811,105.505133700871,62.5126282007769,33.3155753460329,14.231091497094,4.85995759401259,2.20311522560394,0.562590471827823,1.06923708991538,0.169034124648778,0.224364483910342,0.116129515245471,0.196213229056213,0.116129515245471,0.106770792311507,0,0,0,0,0,0,0,0,0,0,0.245521556862751,0,0.191784369493294,0.230325560757168,0.22705551643272,1.19979236858948,1.18136818181861,1.25528540080215,2.70784589892449,4.08857986351901,6.33110042760351,11.1165427852032,15.5744849262142,33.5143029656508,53.9958002068843,87.0418832008558,94.1724052728464,61.1417698495413,32.5000633756281,11.5757511981567,3.31025125193746,1.76450693048258,0.51718735800596,0.50188696407734,0.251922925796917,0.0912561656028681,0.282013039922649,0,0,0,0,0,0,0,0,0,0,0.132099510514416,0,0,0.112552771201299,0,0.528074013006811,0.257147549800091,0.331569137989623,0.132674111354231,1.46345022156598,1.58778654610451,2.68513053964251,2.55822062892967,4.07988600046615,7.16720008105734,14.9268907011647,26.1577386309157,44.6002379894887,75.9821601420328,74.890449356929,46.2345863693762,21.9121637388062,8.72875146800249,2.47300528530662,1.11769863734514,0.184264993528482,0.586377278708891,0,0,0,0,0,0,0,0,0,0.186285569291962,0,0,0,0.198187952344566,0.118580840721543,0,0.314130002958452,0.0981453160824058,0.338297225335414,0.234197380723047,1.47856591693082,0.235771093046284,0.821265186926961,1.48497562522854,2.72849827832277,2.8531804323575,4.62078450165327,7.55720581084672,12.7693135850275,22.0714595489706,41.2560109962935,61.1129994655954,63.6451612165182,37.7873505499113,18.0224501873357,5.40364215663157,1.51905834307138,0.416832287254919,0.262224507923057,0.115930749583844,0,0,0,0,0,0,0,0,0,0,0,0,0,0.105867431707841,0,0,0.314024346049607,0.396342113374538,0.409066645552075,0.634527504294303,0.482047285296448,0.858756760874903,0.993867664757289,0.713447111832642,2.00984522783139,2.53794696812733,3.05744800274917,4.94354453754252,10.341420791552,19.4654186757211,36.1733505175163,49.7998059081885,47.7323856758153,26.0799093201619,9.02034159109448,2.771652575011,1.07793059006796,0.569441229930854,0,0,0,0,0,0,0,0,0,0,0,0,0,0.113748393567943,0,0.110220496094908,0.247488948579183,0.2759248271744,0.111003238518288,0.461891075792731,0.263402709385743,0.742350577240149,0.640135701831689,0.786840989003312,0.70263481296058,1.5752391655301,1.2512859250231,3.3006099239798,2.96273564264479,2.82599867462762,5.73586477291537,13.3498538915269,24.9935152638111,32.5122018313474,32.3351241488632,16.5272060055289,4.42645863098502,0.672128327013079,0,0,0,0,0,0,0,0,0,0,0,0,0,0,0.101395648931643,0,0,0,0,0.137666980112766,0.392120896119219,0.450583291534153,0.662871368027279,0.304958744731857,0.450984848963927,0.766171976448869,0.705790999092151,0.338970204902473,1.20857987748138,0.699056742200641,1.1279300316712,2.28886697730256,4.8819586865078,7.49496332351488,13.9854690117998,16.4628049080516,16.7168718640297,6.28627052579215,0,0,0,0,0,0,0,0,0,0,0,0,0,0.111372671043643,0.11852191192154,0.178650169193172,0.177840855000263,0.108883943406191,0.0744135329859744,0.217469038286772,0.0825687060199955,0.650143580109411,0.311693228313374,0.817272136976116,0.225209946003528,0.504087593806618,0.841426344892846,0.999094251639977,1.06699974368993,0.833279818727546,0.71357304496351,0.886630312426482,1.38479460338152,0.853003025160346,1.51085604663287,2.61069813130504,5.29432620635078,13.8225589336756,0.164994078134965,0,0,0,0,0,0,0,0,0,0,0,0,0,0,0,0,0,0,0,0,0,0,0,0,0,0,0,0,0,0,0,0,0,0,0,0,0,0,0],\"fOption\":\"\",\"fFunctions\":{\"_typename\":\"TList\",\"name\":\"TList\",\"arr\":[{\"_typename\":\"TPaletteAxis\",\"fUniqueID\":0,\"fBits\":50331648,\"fLineColor\":1,\"fLineStyle\":1,\"fLineWidth\":1,\"fFillColor\":1178,\"fFillStyle\":1001,\"fX1\":0.623875000057742,\"fY1\":0,\"fX2\":0.65875000057742,\"fY2\":0.62,\"fX1NDC\":0.904999994039535,\"fY1NDC\":0.100000005960465,\"fX2NDC\":0.949999994039535,\"fY2NDC\":0.899999994039535,\"fBorderSize\":4,\"fInit\":1,\"fShadowColor\":1,\"fCornerRadius\":0,\"fOption\":\"br\",\"fName\":\"TPave\",\"fAxis\":{\"_typename\":\"TGaxis\",\"fUniqueID\":0,\"fBits\":50331648,\"fLineColor\":1,\"fLineStyle\":1,\"fLineWidth\":1,\"fX1\":0,\"fY1\":0,\"fX2\":0,\"fY2\":0,\"fTextAngle\":0,\"fTextSize\":0.04,\"fTextAlign\":11,\"fTextColor\":1,\"fTextFont\":42,\"fWmin\":0,\"fWmax\":0,\"fGridLength\":0,\"fTickSize\":0.03,\"fLabelOffset\":0.005,\"fLabelSize\":0.035,\"fTitleOffset\":1,\"fTitleSize\":0.035,\"fNdiv\":0,\"fLabelColor\":1,\"fLabelFont\":42,\"fNModLabs\":0,\"fChopt\":\"\",\"fName\":\"\",\"fTitle\":\"\",\"fTimeFormat\":\"\",\"fFunctionName\":\"\",\"fModLabs\":null},\"fName\":\"palette\"}],\"opt\":[\"br\"]},\"fBufferSize\":0,\"fBuffer\":[],\"fBinStatErrOpt\":0,\"fStatOverflows\":2,\"fScalefactor\":1,\"fTsumwy\":4366.33766031701,\"fTsumwy2\":1479.29816527986,\"fTsumwxy\":1473.98910850671,\"fArray\":[0,0,0,0,0,0,0,0,0,0,0,0,0,0,0,0,0,0,0,0,0,0,0,0,0,0,0,0,0,0,0,0,0,0,0,0,0,0,0,0,109.569185702656,30.4498521681835,18.2198201388963,7.51288104038408,2.99219192736883,2.27084405990311,2.81717331252541,2.36478704937724,1.8442298075611,4.07810085271496,3.75898021600011,4.10322024341256,2.59931106361453,3.55898835182607,3.55922960372655,2.46404069633075,2.5514398244165,3.92004902614171,3.87986416089381,2.85229777146021,3.35963550319423,3.41257745963161,1.92919584232749,3.76004438715313,2.749273896729,2.98790909123227,3.06087405035325,1.4536919484492,2.00316070047733,1.54842318407197,2.99941201356541,2.39481231961528,2.2511275477792,2.0339071804806,0,0,0,0,15.1607100295335,40.8211636356354,62.1440071651956,46.6751880697836,31.3904309906765,13.9654903069458,4.79978113033729,3.20158782732009,1.45627112156095,1.7775637442424,2.3556240037409,0.357207811,1.6770381358956,0.316322030005055,0.722087508454817,0.645368057761519,0.389826261836584,0.644773720800818,0.336628824116298,0.380977330540506,0,0.705101296420423,1.0511212762608,1.3051644787811,0.278718187103891,0.36020312263377,0.340777809203403,0.32780879492907,0.340625893419923,0.313361089128488,0.325524303124671,0.929618329128495,0,1.00159290101901,0,0,0,0,1.44353828032877,3.54094935750437,17.0032273586541,58.3714420806979,101.887692876204,83.3555814637468,42.9004224209255,22.1256834228705,11.2144710623741,5.81509173336031,3.92850696430842,1.58201740980604,1.71409561004057,1.49264252509026,1.1266275503217,0.790725470645495,0.706467203607138,1.84771789182616,0.353803495098308,1.81203301311935,0.121393270260184,0,0.786814380967281,0.591786069819102,0.511840418274296,1.02471021245975,0.365239934853251,0,0.278275944134181,0,0,0.397942884495207,0,0.444964808886585,0,0,0,0,0.0126115940431666,0.66060740184996,5.04388711111846,13.0502408271041,43.0697034665111,96.5213251748883,148.407933692773,124.77248786341,61.5167405652602,33.0823329058145,18.0560799347012,8.60431353747298,4.84897165973,1.73391811274641,2.23177826987284,1.5414844387122,0.63704381617489,1.28785532068559,0.549418710570935,0.988268169415171,0.871256424020875,1.15120915199063,0.358866114534932,0.363368372355892,0.675519467082219,0,0,0.346607189092449,0,0,0.698482497485213,0,0,0,0.405966574377645,0,0,0,0,0,1.52664678694081,4.24432375226322,13.3749687874007,30.5079189190902,62.7937583547972,138.809908732267,201.741055464014,151.991551067466,76.5691917261123,39.5206630713317,28.5432153883269,9.92198329847908,5.03427678311392,2.37422023352952,1.3697253925299,1.65819580412981,1.18461743420678,0.383636604896364,0.960377005433384,0.336628718905527,1.28069010718574,0,0.753497449748727,0,0.243840404891995,0,0,0.654031909687437,0,0,0,0,0,0,0,0,0,0,1.1175652256679,1.00327881248686,3.18650388032704,6.03137463408434,17.8027315759021,40.6961913593676,95.6682420988133,169.566990429288,248.704717720234,198.274903432939,98.5019654000627,42.8887879092671,25.6737142712559,9.40149181653188,3.38754468826368,3.97718740548979,2.01156799309256,0.755130269994309,2.20018236926857,0.447164271074027,0,0.35308992720119,0.759364897917364,0.614932602210589,0.993796968828268,0.00375803196799648,0.431614371419596,0,0,0,0,0,0,0,0,0,0.355496769160859,0,0,0.691843117909979,0.783458140486072,6.16720493863876,5.98881525109065,14.9566646955256,30.4645934148705,54.2694938676669,117.376060926905,213.020357558373,276.692191920225,213.724896554203,112.269035970891,48.9129738471487,25.4206443623814,13.598590939235,4.41364789479682,5.64830244106162,1.43482852283134,0.970969827043608,0.783587527328044,1.07419892065656,0.367517614307133,0.304940814290106,0.366334550096963,0,0.326502535304371,0,0.421175503797968,0,0.331135202141538,0,0,0,0,0,0,0,0,0,0.135337907713045,1.52443037164357,4.11767046900585,7.39593489062139,10.5848846335145,19.8143127010981,39.6455694046798,72.4873285048683,140.295647792797,249.47319884172,303.558190522891,200.364391106657,109.05963758902,51.574680163865,20.9537203036366,9.04447059449802,3.73723752611684,4.19158285858656,2.14329915346255,1.1161329105461,0.85022269495885,0.65711948659329,0.332069652856041,0,0.29886592499908,0,0.340777809203403,0,0,0.32301680401714,0,0,0,0,0,0,0,0,0,0.331584547564125,1.63133171239049,0.863078227171181,4.63111971756338,9.25523264805191,12.7759714107323,24.2140293890557,42.3839462210002,69.280389683111,152.176332648238,275.995530832463,297.142968832487,216.72873384777,102.601444205755,50.8195612946104,21.9865829937079,13.7222142272845,4.95157503314414,3.44218694873993,1.43149226819193,0.185380115667181,0.33808781770636,0,0.235901790161703,0,0.281752042120662,0,0,0,0,0,0,0,0,0,0,0,0.421167178865971,0.96514425570555,0.628040466219809,1.25124643965997,2.03185060964854,2.7943754597542,4.06435460417953,13.3863029513136,12.4149773194932,25.9186379898667,41.0370621497151,78.6580438181539,160.945501743071,277.532196890494,318.258436231883,219.994051200206,117.617351225663,49.2379332763066,22.1619145859724,10.5514471285867,4.0566791889752,1.68499203711316,0.80602071719663,1.26879040774978,0,0.648927261846055,0,0,0,0,0,0,0,0,0,0,0,0,0.343972855665766,0.340486049029683,0,0.379660064116954,1.64490310389712,2.00020734156106,3.3522180378729,4.39592381381557,7.37627589551126,9.17499670069802,16.6360323118401,26.9141435479396,47.0487343453349,85.9156547882518,172.501471212016,267.19089340523,296.885029367308,181.262752304325,97.1322438856615,40.5510916752136,14.2705683255117,6.38437255740632,1.6935725651732,2.89524724793573,0.580744101980023,0.658967007023061,0.340777809203403,0.44295962463436,0.340777809203403,0.326758002674008,0,0,0,0,0,0,0,0,0,0,0.700640210231059,0,0.615446767639032,0.678710968431098,0.67362725859787,3.27494889183695,3.24374903482044,3.40112155773014,7.37761694656289,11.8624314231871,18.6390041765683,30.037448314253,43.7579581154407,94.4458926798168,154.061375258457,245.590469737267,268.423961043909,174.797829371373,92.8047872975457,33.1956190669117,10.0024655863635,4.9142189839163,1.45763810698334,1.22248217125913,0.709257219558337,0.304241872921986,0.743969875228807,0,0,0,0,0,0,0,0,0,0,0.363454963529756,0,0,0.335488854064183,0,1.44913682474546,0.804258678880786,1.12647052902957,0.500592792042986,4.24769489412194,4.65810177008021,8.11518864084547,7.39173242199264,11.7610856667253,21.477336023809,42.3100564930015,74.8909273260661,129.654546735734,214.264202467678,215.355714370979,130.320564649197,62.5072583019767,25.0886242029427,7.34987847518633,3.45681343971924,0.606759432778499,1.70132021285357,0,0,0,0,0,0,0,0,0,0.431608120048688,0,0,0,0.629298571348483,0.344355689253921,0,0.962418940153026,0.346780227326678,1.00626533274949,0.683890597611482,3.80329483763025,0.769192753172296,2.38572014294885,3.97990470675797,7.65221257264692,8.21364029740732,12.9284331167118,21.457837060435,35.3434257198998,64.0211455647338,117.609349907192,173.835743567405,181.353795781593,105.715791971719,50.6541326642636,15.5238618911185,4.54097704356665,1.28886260982385,0.722955755983308,0.340486049029683,0,0,0,0,0,0,0,0,0,0,0,0,0,0.325372758091149,0,0,0.964865952130537,1.27157351720254,1.18786616696617,1.76527640624716,1.58312943045751,2.21266226991329,2.96995476232817,2.18544567357957,5.31922535318896,6.7495608071118,8.85000347999247,14.1474947080692,28.6535773851002,55.0561369301376,101.562353273958,140.845237923394,136.493775583742,75.0079355333705,26.2232122752197,8.25551502438715,2.70798626556579,1.53317375274675,0,0,0,0,0,0,0,0,0,0,0,0,0,0.337266057539063,0,0.331994722992563,0.70099671512523,0.865500554864372,0.333171485151848,1.15793477488043,0.763444563310435,2.09617869217205,1.97616578497908,2.04904383776888,2.04551391596629,4.47143799807369,3.29676390502255,8.73586352362903,8.32611630803813,8.53899081006187,16.2735695538203,37.8394211152084,71.4663772924739,93.0657339053526,92.6475016267792,46.8016000004061,12.6876939974615,2.08818320588964,0,0,0,0,0,0,0,0,0,0,0,0,0,0,0.318426834503065,0,0,0,0,0.371035011976991,1.24963265400077,1.32595788040795,1.80849989151268,0.937357901089679,1.59451527517809,2.29066880056512,1.83323585661026,1.12991152636202,3.46463731584377,2.29627849715193,2.92582462198969,6.2042733219823,14.2234546172346,21.6260762875295,40.6754701726413,47.4095301997498,47.7058366337257,17.6494562986599,0,0,0,0,0,0,0,0,0,0,0,0,0,0.333725442607607,0.344270114766792,0.59438873864246,0.421711815106315,0.329975670930738,0.27278843997863,0.780297536789785,0.287347709265265,1.5695411901892,1.06688415032955,2.18302640163245,0.654082515460301,1.41844650057484,2.61852555111646,2.89468161042558,3.13151750902161,2.40840224395511,2.21663976481014,2.6213214811615,3.66789349400086,2.57702615614115,4.58545047958928,7.33577770549281,14.3938100618421,39.8920213163285,0.56729497118544,0,0,0,0,0,0,0,0,0,0,0,0,0,0,0,0,0,0,0,0,0,0,0,0,0,0,0,0,0,0,0,0,0,0,0,0,0,0,0]},{\"_typename\":\"TPaveText\",\"fUniqueID\":0,\"fBits\":50331657,\"fLineColor\":1,\"fLineStyle\":1,\"fLineWidth\":1,\"fFillColor\":0,\"fFillStyle\":0,\"fX1\":0.0489121860389908,\"fY1\":0.629228332211757,\"fX2\":0.571087813961009,\"fY2\":0.693625009411946,\"fX1NDC\":0.163112503134842,\"fY1NDC\":0.911907519296624,\"fX2NDC\":0.836887496865158,\"fY2NDC\":0.995000004768372,\"fBorderSize\":0,\"fInit\":1,\"fShadowColor\":1,\"fCornerRadius\":0,\"fOption\":\"blNDC\",\"fName\":\"title\",\"fTextAngle\":0,\"fTextSize\":0,\"fTextAlign\":22,\"fTextColor\":1,\"fTextFont\":42,\"fLabel\":\"\",\"fLongest\":40,\"fMargin\":0.05,\"fLines\":{\"_typename\":\"TList\",\"name\":\"TList\",\"arr\":[{\"_typename\":\"TLatex\",\"fUniqueID\":0,\"fBits\":50331648,\"fName\":\"\",\"fTitle\":\"Response Matrix #tau_{1}^{(1)} binning 3\",\"fTextAngle\":0,\"fTextSize\":0,\"fTextAlign\":0,\"fTextColor\":0,\"fTextFont\":0,\"fX\":0,\"fY\":0,\"fLineColor\":1,\"fLineStyle\":1,\"fLineWidth\":2,\"fLimitFactorSize\":3,\"fOriginSize\":0.0556159242987633}],\"opt\":[\"\"]}}],\"opt\":[\"\",\"colz\",\"blNDC\"]},\"fExecs\":{\"_typename\":\"TList\",\"name\":\"TList\",\"arr\":[],\"opt\":[]},\"fName\":\"c6_3\",\"fTitle\":\"c6_3\",\"fNumPaletteColor\":0,\"fNextPaletteColor\":0},{\"_typename\":\"TPad\",\"fUniqueID\":0,\"fBits\":50331657,\"fLineColor\":1,\"fLineStyle\":1,\"fLineWidth\":1,\"fFillColor\":0,\"fFillStyle\":1001,\"fLeftMargin\":0.1,\"fRightMargin\":0.1,\"fBottomMargin\":0.1,\"fTopMargin\":0.1,\"fXfile\":2,\"fYfile\":2,\"fAfile\":1,\"fXstat\":0.99,\"fYstat\":0.99,\"fAstat\":2,\"fFrameFillColor\":0,\"fFrameLineColor\":1,\"fFrameFillStyle\":1001,\"fFrameLineStyle\":1,\"fFrameLineWidth\":1,\"fFrameBorderSize\":1,\"fFrameBorderMode\":0,\"fX1\":-0.0775000057742003,\"fY1\":-0.0775000057742003,\"fX2\":0.6975000057742,\"fY2\":0.6975000057742,\"fXtoAbsPixelk\":49.4347186864695,\"fXtoPixelk\":37.4747189537963,\"fXtoPixel\":483.544079506012,\"fYtoAbsPixelk\":651.864048143911,\"fYtoPixelk\":298.944048298585,\"fYtoPixel\":-428.593542399714,\"fUtoAbsPixelk\":11.9600497326732,\"fUtoPixelk\":5e-5,\"fUtoPixel\":374.74666720132,\"fVtoAbsPixelk\":685.080050154674,\"fVtoPixelk\":332.160000309348,\"fVtoPixel\":-332.160000309348,\"fAbsPixeltoXk\":-0.102234048107821,\"fPixeltoXk\":-0.0775000057742003,\"fPixeltoX\":0.00206806378649408,\"fAbsPixeltoYk\":1.5209375169166,\"fPixeltoYk\":-0.0775000057742003,\"fPixeltoY\":-0.00233321294203584,\"fXlowNDC\":0.00999999977648258,\"fYlowNDC\":0.00999999977648258,\"fXUpNDC\":0,\"fYUpNDC\":0,\"fWNDC\":0.313333333780368,\"fHNDC\":0.480000000447035,\"fAbsXlowNDC\":0.00999999977648258,\"fAbsYlowNDC\":0.00999999977648258,\"fAbsWNDC\":0.313333333780368,\"fAbsHNDC\":0.480000000447035,\"fUxmin\":0,\"fUymin\":0,\"fUxmax\":0.62,\"fUymax\":0.62,\"fTheta\":30,\"fPhi\":30,\"fAspectRatio\":0,\"fNumber\":4,\"fTickx\":0,\"fTicky\":0,\"fLogx\":0,\"fLogy\":0,\"fLogz\":0,\"fPadPaint\":0,\"fCrosshair\":0,\"fCrosshairPos\":0,\"fBorderSize\":2,\"fBorderMode\":0,\"fModified\":false,\"fGridx\":false,\"fGridy\":false,\"fAbsCoord\":false,\"fEditable\":true,\"fFixedAspectRatio\":false,\"fPrimitives\":{\"_typename\":\"TList\",\"name\":\"TList\",\"arr\":[{\"_typename\":\"TFrame\",\"fUniqueID\":0,\"fBits\":50331656,\"fLineColor\":1,\"fLineStyle\":1,\"fLineWidth\":1,\"fFillColor\":0,\"fFillStyle\":1001,\"fX1\":0,\"fY1\":0,\"fX2\":0.62,\"fY2\":0.62,\"fBorderSize\":1,\"fBorderMode\":0},{\"_typename\":\"TH2D\",\"fUniqueID\":0,\"fBits\":50332168,\"fName\":\"response\",\"fTitle\":\"Response Matrix #tau_{1}^{(1)} binning 4\",\"fLineColor\":602,\"fLineStyle\":1,\"fLineWidth\":1,\"fFillColor\":0,\"fFillStyle\":1001,\"fMarkerColor\":1,\"fMarkerStyle\":1,\"fMarkerSize\":1,\"fNcells\":264,\"fXaxis\":{\"_typename\":\"TAxis\",\"fUniqueID\":0,\"fBits\":50331648,\"fName\":\"xaxis\",\"fTitle\":\"#tau_{1}^{(1)}(det_sig)\",\"fNdivisions\":510,\"fAxisColor\":1,\"fLabelColor\":1,\"fLabelFont\":42,\"fLabelOffset\":0.005,\"fLabelSize\":0.035,\"fTickLength\":0.03,\"fTitleOffset\":1,\"fTitleSize\":0.035,\"fTitleColor\":1,\"fTitleFont\":42,\"fNbins\":20,\"fXmin\":0,\"fXmax\":0.62,\"fXbins\":[0,0.05,0.1,0.125,0.15,0.175,0.2,0.225,0.25,0.275,0.3,0.325,0.35,0.375,0.4,0.425,0.45,0.475,0.5,0.56,0.62],\"fFirst\":0,\"fLast\":0,\"fBits2\":0,\"fTimeDisplay\":false,\"fTimeFormat\":\"\",\"fLabels\":null,\"fModLabs\":null},\"fYaxis\":{\"_typename\":\"TAxis\",\"fUniqueID\":0,\"fBits\":50331648,\"fName\":\"yaxis\",\"fTitle\":\"#tau_{1}^{(1)}(gen_sig)\",\"fNdivisions\":510,\"fAxisColor\":1,\"fLabelColor\":1,\"fLabelFont\":42,\"fLabelOffset\":0.005,\"fLabelSize\":0.035,\"fTickLength\":0.03,\"fTitleOffset\":0,\"fTitleSize\":0.035,\"fTitleColor\":1,\"fTitleFont\":42,\"fNbins\":10,\"fXmin\":0,\"fXmax\":0.62,\"fXbins\":[0,0.1,0.15,0.2,0.25,0.3,0.35,0.4,0.45,0.5,0.62],\"fFirst\":0,\"fLast\":0,\"fBits2\":0,\"fTimeDisplay\":false,\"fTimeFormat\":\"\",\"fLabels\":null,\"fModLabs\":null},\"fZaxis\":{\"_typename\":\"TAxis\",\"fUniqueID\":0,\"fBits\":50331648,\"fName\":\"zaxis\",\"fTitle\":\"\",\"fNdivisions\":510,\"fAxisColor\":1,\"fLabelColor\":1,\"fLabelFont\":42,\"fLabelOffset\":0.005,\"fLabelSize\":0.035,\"fTickLength\":0.03,\"fTitleOffset\":1,\"fTitleSize\":0.035,\"fTitleColor\":1,\"fTitleFont\":42,\"fNbins\":1,\"fXmin\":0,\"fXmax\":1,\"fXbins\":[],\"fFirst\":0,\"fLast\":0,\"fBits2\":0,\"fTimeDisplay\":false,\"fTimeFormat\":\"\",\"fLabels\":null,\"fModLabs\":null},\"fBarOffset\":0,\"fBarWidth\":1000,\"fEntries\":43107,\"fTsumw\":13901.1376293109,\"fTsumw2\":4887.05421222413,\"fTsumwx\":4398.01334473652,\"fTsumwx2\":1487.39692517914,\"fMaximum\":-1111,\"fMinimum\":-1111,\"fNormFactor\":0,\"fContour\":[0,50.901144693103,101.802289386206,152.703434079309,203.604578772412,254.505723465515,305.406868158618,356.308012851721,407.209157544824,458.110302237927,509.01144693103,559.912591624133,610.813736317236,661.714881010339,712.616025703442,763.517170396545,814.418315089648,865.319459782751,916.220604475854,967.121749168956],\"fSumw2\":[0,0,0,0,0,0,0,0,0,0,0,0,0,0,0,0,0,0,0,0,0,0,0,0,6.81963500987013,6.83327689416437,0.887533574117663,0.532300434953397,0.445692974441624,1.12898390561745,1.59843854856733,1.33116086908789,1.83604925538625,1.10293829319756,1.4682790129591,1.11188863340148,1.36113736880557,1.92973828532997,1.3443024396957,1.57156314511708,1.58989488465567,0.781144907338629,0,0,0,0,1.56008281190359,21.390992137348,50.6959603507099,29.1061337394379,7.25277301996312,2.32317547119597,2.52166950836638,1.57461411936218,1.34561655961623,1.6256369196884,1.10349795685906,2.19511314908179,1.36885990950505,0.475648621624289,0.665038814328388,0.215959237748279,0.289186318534928,0.201334928017264,0,0,0,0,0,0.623217008791049,8.36077485431466,80.8030772523565,144.54327514939,80.656916339886,20.5253514986838,5.21994533027835,2.3658618636244,1.40973011951716,1.63574488669434,0.757131322290611,0.850586253853844,0.622257464898914,0.120136543530569,0.427418334958214,0.158358539320366,0.333622918774124,0.16480885951192,0,0,0,0,0,0.704177972460361,5.74783939046585,43.8876403670999,190.706114468793,264.049564494067,133.128334313824,29.2985311757629,6.50295331246152,2.14683776930239,1.640454460862,0.865895917115144,0.841716176014958,0.292908993980387,0.39218755605065,0,0,0,0,0,0,0,0.126377952883809,0,0.517642299083945,5.87684738463524,23.050981316885,89.5007807163708,284.642414254694,347.124732766082,145.008507464343,26.5243465948439,5.47591860836665,1.86908240985507,0.945768160316522,0.2235218437203,0.116129515245471,0.109650522097317,0.104339855677448,0,0,0,0,0,0,0,0.295699117988783,0.851276160796833,3.02456419885234,12.0030010120378,31.9089787061939,110.763251420715,325.98413512783,359.797146740947,142.003800591041,26.345906730237,4.74955888391824,0.892613768949382,0.518136487540804,0,0,0,0,0,0,0,0,0,0,0.361452306446595,0.634867824613168,2.20147786582988,4.89779628128286,14.6823765866739,35.0656179794075,122.029933792702,299.828126340803,281.874800171747,96.2116891699269,14.8977117386289,2.1224229290547,0.934761931589925,0.106770792311507,0,0,0,0,0,0,0,0.186285569291962,0.132099510514416,0.316768793066109,0.651950369478512,1.09555409639704,3.38664877821136,4.50072610701364,10.5615903855214,26.7900282508431,90.6403326437032,208.995532524676,182.608966259306,46.3911672643576,4.71447158812637,0.384033032856582,0,0,0,0,0,0,0,0,0,0.113748393567943,0.101395648931643,0.642790374745854,0.558996338781784,2.20621469382403,2.8940670648797,4.1447117197721,7.79765488392175,14.3700042927952,49.3323450315236,104.235046432295,61.9074432801028,7.25973779946335,0,0,0,0,0,0,0,0,0,0,0.229894582965183,0.356491024193435,0.40076508295514,0.732713717853204,1.12897148254432,1.0176646231922,2.29572326124445,1.43374489298258,2.1487282750962,2.72472388756682,8.10338801164392,13.8225589336756,0.164994078134965,0,0,0,0,0,0,0,0,0,0,0,0,0,0,0,0,0,0,0,0,0,0,0],\"fOption\":\"\",\"fFunctions\":{\"_typename\":\"TList\",\"name\":\"TList\",\"arr\":[{\"_typename\":\"TPaletteAxis\",\"fUniqueID\":0,\"fBits\":50331648,\"fLineColor\":1,\"fLineStyle\":1,\"fLineWidth\":1,\"fFillColor\":1178,\"fFillStyle\":1001,\"fX1\":0.623875000057742,\"fY1\":0,\"fX2\":0.65875000057742,\"fY2\":0.62,\"fX1NDC\":0.904999994039535,\"fY1NDC\":0.100000005960465,\"fX2NDC\":0.949999994039535,\"fY2NDC\":0.899999994039535,\"fBorderSize\":4,\"fInit\":1,\"fShadowColor\":1,\"fCornerRadius\":0,\"fOption\":\"br\",\"fName\":\"TPave\",\"fAxis\":{\"_typename\":\"TGaxis\",\"fUniqueID\":0,\"fBits\":50331648,\"fLineColor\":1,\"fLineStyle\":1,\"fLineWidth\":1,\"fX1\":0,\"fY1\":0,\"fX2\":0,\"fY2\":0,\"fTextAngle\":0,\"fTextSize\":0.04,\"fTextAlign\":11,\"fTextColor\":1,\"fTextFont\":42,\"fWmin\":0,\"fWmax\":0,\"fGridLength\":0,\"fTickSize\":0.03,\"fLabelOffset\":0.005,\"fLabelSize\":0.035,\"fTitleOffset\":1,\"fTitleSize\":0.035,\"fNdiv\":0,\"fLabelColor\":1,\"fLabelFont\":42,\"fNModLabs\":0,\"fChopt\":\"\",\"fName\":\"\",\"fTitle\":\"\",\"fTimeFormat\":\"\",\"fFunctionName\":\"\",\"fModLabs\":null},\"fName\":\"palette\"}],\"opt\":[\"br\"]},\"fBufferSize\":0,\"fBuffer\":[],\"fBinStatErrOpt\":0,\"fStatOverflows\":2,\"fScalefactor\":1,\"fTsumwy\":4366.33766031701,\"fTsumwy2\":1479.29816527986,\"fTsumwxy\":1473.98910850671,\"fArray\":[0,0,0,0,0,0,0,0,0,0,0,0,0,0,0,0,0,0,0,0,0,0,0,0,18.7712094321976,18.9958597579765,2.66819682440399,1.44408531679306,1.45665472463101,3.30477267183938,4.52877346962511,3.91228515783105,5.01515723883429,3.32524096357205,4.51654683167189,2.89737170568706,3.89364168723505,5.84107318747057,3.57227922750497,4.2046675045652,4.64593986739447,2.0339071804806,0,0,0,0,4.38530069799822,59.099641635814,142.990506866534,83.9995831748154,19.529698116607,6.62458498392024,7.20460085104523,4.78348089612019,3.45352230041948,4.55129722581874,2.97061571120211,5.62527429065644,4.14767659937258,1.37542475846549,1.79442409480386,0.656528782200675,0.929618329128495,0.633314151120713,0,0,0,0,0,1.7617901060976,24.1379665963399,227.59836484574,412.671529719914,231.975872685539,56.979989085456,15.0759997149785,7.06050594607391,4.10823069079881,4.88933826572248,2.50272496080662,2.7151237416807,1.88287330123499,0.346607189092449,1.30228274474406,0.397942884495207,0.813243558784877,0.405966574377645,0,0,0,0,0,1.93173484851222,17.3007838493869,124.783146376438,544.662158057359,749.158826674616,379.153055120405,83.782475860484,18.581681942685,6.02483118140347,4.55186026953817,2.44695294392253,2.57126445429424,0.761874938691963,1.07520741348541,0,0,0,0,0,0,0,0.355496769160859,0,1.6106391661091,17.044544521259,64.9300782273718,254.071617446737,811.31311014933,981.987558918727,413.723560840296,76.3967542375077,16.5643952676418,5.43977613826717,2.57154894213796,0.665200475096043,0.340777809203403,0.331135202141538,0.32301680401714,0,0,0,0,0,0,0,0.765140034531737,2.55409192220023,8.89514111369044,33.4222754608598,89.6634201959436,318.25403950369,926.253978887577,1018.02289386206,401.32423454522,75.7611128508776,13.3789745384001,2.62210651080463,1.58964631098978,0,0,0,0,0,0,0,0,0,0,1.04112625926074,1.93748051425141,6.44876859043689,14.0015058947679,40.756681186456,99.8859747691546,345.427631018218,854.301218879602,806.75254357697,274.910673801231,43.0733263492629,6.03839887803801,2.52762556595191,0.326758002674008,0,0,0,0,0,0,0,0.431608120048688,0.363454963529756,0.973654260602404,1.96657083922335,3.48883948649312,9.12041577807891,12.9666449971636,31.1543629171399,75.2394666060912,257.638670927205,592.746512604007,517.838014122634,134.537940247374,13.8015343955852,1.0705287078555,0,0,0,0,0,0,0,0,0,0.337266057539063,0.318426834503065,1.94755319661811,1.61485230823788,6.27045078627299,8.34167432093655,12.1365292856312,21.075490365232,41.0139438100595,139.197157702639,297.512063206988,177.525440596243,20.5407705984705,0,0,0,0,0,0,0,0,0,0,0.677995557374399,1.01610055374878,1.38186510108597,1.85808544606764,3.2523838604399,2.98498718296632,6.70732086511616,4.32843898509233,6.32622692915507,7.81501168129282,22.3591161214911,39.8920213163285,0.56729497118544,0,0,0,0,0,0,0,0,0,0,0,0,0,0,0,0,0,0,0,0,0,0,0]},{\"_typename\":\"TPaveText\",\"fUniqueID\":0,\"fBits\":50331657,\"fLineColor\":1,\"fLineStyle\":1,\"fLineWidth\":1,\"fFillColor\":0,\"fFillStyle\":0,\"fX1\":0.0489121860389908,\"fY1\":0.629228332211757,\"fX2\":0.571087813961009,\"fY2\":0.693625009411946,\"fX1NDC\":0.163112503134842,\"fY1NDC\":0.911907519296624,\"fX2NDC\":0.836887496865158,\"fY2NDC\":0.995000004768372,\"fBorderSize\":0,\"fInit\":1,\"fShadowColor\":1,\"fCornerRadius\":0,\"fOption\":\"blNDC\",\"fName\":\"title\",\"fTextAngle\":0,\"fTextSize\":0,\"fTextAlign\":22,\"fTextColor\":1,\"fTextFont\":42,\"fLabel\":\"\",\"fLongest\":40,\"fMargin\":0.05,\"fLines\":{\"_typename\":\"TList\",\"name\":\"TList\",\"arr\":[{\"_typename\":\"TLatex\",\"fUniqueID\":0,\"fBits\":50331648,\"fName\":\"\",\"fTitle\":\"Response Matrix #tau_{1}^{(1)} binning 4\",\"fTextAngle\":0,\"fTextSize\":0,\"fTextAlign\":0,\"fTextColor\":0,\"fTextFont\":0,\"fX\":0,\"fY\":0,\"fLineColor\":1,\"fLineStyle\":1,\"fLineWidth\":2,\"fLimitFactorSize\":3,\"fOriginSize\":0.0556159242987633}],\"opt\":[\"\"]}}],\"opt\":[\"\",\"colz\",\"blNDC\"]},\"fExecs\":{\"_typename\":\"TList\",\"name\":\"TList\",\"arr\":[],\"opt\":[]},\"fName\":\"c6_4\",\"fTitle\":\"c6_4\",\"fNumPaletteColor\":0,\"fNextPaletteColor\":0},{\"_typename\":\"TPad\",\"fUniqueID\":0,\"fBits\":50331657,\"fLineColor\":1,\"fLineStyle\":1,\"fLineWidth\":1,\"fFillColor\":0,\"fFillStyle\":1001,\"fLeftMargin\":0.1,\"fRightMargin\":0.1,\"fBottomMargin\":0.1,\"fTopMargin\":0.1,\"fXfile\":2,\"fYfile\":2,\"fAfile\":1,\"fXstat\":0.99,\"fYstat\":0.99,\"fAstat\":2,\"fFrameFillColor\":0,\"fFrameLineColor\":1,\"fFrameFillStyle\":1001,\"fFrameLineStyle\":1,\"fFrameLineWidth\":1,\"fFrameBorderSize\":1,\"fFrameBorderMode\":0,\"fX1\":-0.0775000057742003,\"fY1\":-0.0775000057742003,\"fX2\":0.6975000057742,\"fY2\":0.6975000057742,\"fXtoAbsPixelk\":448.101385353136,\"fXtoPixelk\":37.4747189537963,\"fXtoPixel\":483.544079506012,\"fYtoAbsPixelk\":651.864048143911,\"fYtoPixelk\":298.944048298585,\"fYtoPixel\":-428.593542399714,\"fUtoAbsPixelk\":410.62671639934,\"fUtoPixelk\":5e-5,\"fUtoPixel\":374.74666720132,\"fVtoAbsPixelk\":685.080050154674,\"fVtoPixelk\":332.160000309348,\"fVtoPixel\":-332.160000309348,\"fAbsPixeltoXk\":-0.926702144323462,\"fPixeltoXk\":-0.0775000057742003,\"fPixeltoX\":0.00206806378649408,\"fAbsPixeltoYk\":1.5209375169166,\"fPixeltoYk\":-0.0775000057742003,\"fPixeltoY\":-0.00233321294203584,\"fXlowNDC\":0.343333333109816,\"fYlowNDC\":0.00999999977648258,\"fXUpNDC\":0,\"fYUpNDC\":0,\"fWNDC\":0.313333333780368,\"fHNDC\":0.480000000447035,\"fAbsXlowNDC\":0.343333333109816,\"fAbsYlowNDC\":0.00999999977648258,\"fAbsWNDC\":0.313333333780368,\"fAbsHNDC\":0.480000000447035,\"fUxmin\":0,\"fUymin\":0,\"fUxmax\":0.62,\"fUymax\":0.62,\"fTheta\":30,\"fPhi\":30,\"fAspectRatio\":0,\"fNumber\":5,\"fTickx\":0,\"fTicky\":0,\"fLogx\":0,\"fLogy\":0,\"fLogz\":0,\"fPadPaint\":0,\"fCrosshair\":0,\"fCrosshairPos\":0,\"fBorderSize\":2,\"fBorderMode\":0,\"fModified\":false,\"fGridx\":false,\"fGridy\":false,\"fAbsCoord\":false,\"fEditable\":true,\"fFixedAspectRatio\":false,\"fPrimitives\":{\"_typename\":\"TList\",\"name\":\"TList\",\"arr\":[{\"_typename\":\"TFrame\",\"fUniqueID\":0,\"fBits\":50331656,\"fLineColor\":1,\"fLineStyle\":1,\"fLineWidth\":1,\"fFillColor\":0,\"fFillStyle\":1001,\"fX1\":0,\"fY1\":0,\"fX2\":0.62,\"fY2\":0.62,\"fBorderSize\":1,\"fBorderMode\":0},{\"_typename\":\"TH2D\",\"fUniqueID\":0,\"fBits\":50332168,\"fName\":\"response\",\"fTitle\":\"Response Matrix #tau_{1}^{(1)} binning 5\",\"fLineColor\":602,\"fLineStyle\":1,\"fLineWidth\":1,\"fFillColor\":0,\"fFillStyle\":1001,\"fMarkerColor\":1,\"fMarkerStyle\":1,\"fMarkerSize\":1,\"fNcells\":364,\"fXaxis\":{\"_typename\":\"TAxis\",\"fUniqueID\":0,\"fBits\":50331648,\"fName\":\"xaxis\",\"fTitle\":\"#tau_{1}^{(1)}(det_sig)\",\"fNdivisions\":510,\"fAxisColor\":1,\"fLabelColor\":1,\"fLabelFont\":42,\"fLabelOffset\":0.005,\"fLabelSize\":0.035,\"fTickLength\":0.03,\"fTitleOffset\":1,\"fTitleSize\":0.035,\"fTitleColor\":1,\"fTitleFont\":42,\"fNbins\":24,\"fXmin\":0,\"fXmax\":0.62,\"fXbins\":[0,0.05,0.1,0.12,0.14,0.16,0.18,0.2,0.22,0.24,0.26,0.28,0.3,0.32,0.34,0.36,0.38,0.4,0.42,0.44,0.46,0.48,0.5,0.56,0.62],\"fFirst\":0,\"fLast\":0,\"fBits2\":0,\"fTimeDisplay\":false,\"fTimeFormat\":\"\",\"fLabels\":null,\"fModLabs\":null},\"fYaxis\":{\"_typename\":\"TAxis\",\"fUniqueID\":0,\"fBits\":50331648,\"fName\":\"yaxis\",\"fTitle\":\"#tau_{1}^{(1)}(gen_sig)\",\"fNdivisions\":510,\"fAxisColor\":1,\"fLabelColor\":1,\"fLabelFont\":42,\"fLabelOffset\":0.005,\"fLabelSize\":0.035,\"fTickLength\":0.03,\"fTitleOffset\":0,\"fTitleSize\":0.035,\"fTitleColor\":1,\"fTitleFont\":42,\"fNbins\":12,\"fXmin\":0,\"fXmax\":0.62,\"fXbins\":[0,0.1,0.14,0.18,0.22,0.26,0.3,0.34,0.38,0.42,0.46,0.5,0.62],\"fFirst\":0,\"fLast\":0,\"fBits2\":0,\"fTimeDisplay\":false,\"fTimeFormat\":\"\",\"fLabels\":null,\"fModLabs\":null},\"fZaxis\":{\"_typename\":\"TAxis\",\"fUniqueID\":0,\"fBits\":50331648,\"fName\":\"zaxis\",\"fTitle\":\"\",\"fNdivisions\":510,\"fAxisColor\":1,\"fLabelColor\":1,\"fLabelFont\":42,\"fLabelOffset\":0.005,\"fLabelSize\":0.035,\"fTickLength\":0.03,\"fTitleOffset\":1,\"fTitleSize\":0.035,\"fTitleColor\":1,\"fTitleFont\":42,\"fNbins\":1,\"fXmin\":0,\"fXmax\":1,\"fXbins\":[],\"fFirst\":0,\"fLast\":0,\"fBits2\":0,\"fTimeDisplay\":false,\"fTimeFormat\":\"\",\"fLabels\":null,\"fModLabs\":null},\"fBarOffset\":0,\"fBarWidth\":1000,\"fEntries\":43107,\"fTsumw\":13901.1376293109,\"fTsumw2\":4887.05421222413,\"fTsumwx\":4398.01334473652,\"fTsumwx2\":1487.39692517914,\"fMaximum\":-1111,\"fMinimum\":-1111,\"fNormFactor\":0,\"fContour\":[0,37.0535327915146,74.1070655830292,111.160598374544,148.214131166058,185.267663957573,222.321196749088,259.374729540602,296.428262332117,333.481795123631,370.535327915146,407.588860706661,444.642393498175,481.69592628969,518.749459081204,555.802991872719,592.856524664234,629.910057455748,666.963590247263,704.017123038777],\"fSumw2\":[0,0,0,0,0,0,0,0,0,0,0,0,0,0,0,0,0,0,0,0,0,0,0,0,0,0,0,0,6.81963500987013,6.54997494581839,0.950572301173779,0.641016746247143,0.111546909996113,0.445692974441624,0.651507517663084,1.25368991372625,1.32714983644405,1.05007164384783,1.61221366697771,0.709740388681113,1.30246915333824,0.715380103619354,1.02068065266688,1.29597301005813,1.59163783287734,1.05509313886484,0.737661043868749,1.60491515410622,1.44619158508127,0.781144907338629,0,0,0,0,1.56008281190359,12.587331401106,31.2671513450474,21.4217839126627,5.18830370919969,2.39719198153599,0.717162184638043,1.67123133799148,0.91583423095279,1.07770060476323,0.614833911817866,1.14906423820911,0.746973202198863,1.7609106736514,1.08519666963558,1.01816188162409,0,0.543855398201167,0.35095623295092,0.117764065568487,0.176206626949211,0,0,0,0,0,0,0.515619796020261,7.3180451497962,40.8307474133658,79.5991633591066,47.5824299233911,17.0018287303478,4.74559992596005,2.32282748272187,1.23177542047312,1.11815628051182,0.852079775999965,1.21194845528804,0.418320583573049,0.217767046697794,0.758564773668851,0.621447296630731,0.133400210011607,0.175632673263562,0.105966071924802,0.271338230906082,0.534957846791388,0,0,0,0,0,0,0.130466320202825,3.62463201965539,27.0393712471672,100.038694681541,150.324833087932,87.207283045424,28.5765036675544,8.42836733937993,3.07871266321315,1.13783353751313,1.01952966507975,0.966676056830244,0.703836656097,0.573679154206943,0.25809908031814,0.179594686588461,0,0.458813513000819,0,0,0.16480885951192,0,0,0,0,0.126377952883809,0,0.531827666660764,2.74157375190464,12.2942659200063,55.2985612341096,155.666450601005,220.18137119634,121.825571652853,35.9878391683058,9.47968802314747,3.04145578971062,1.87032468674623,0.374589689412533,0.562602170373996,0.397092616427471,0.333340999488534,0.292908993980387,0.177388804999473,0.109650522097317,0,0,0,0,0,0,0,0,0.133643323058244,0.277546522658309,3.99056148197077,9.62977442033371,25.8743977286107,80.7078050328134,209.421830259694,254.408352989747,126.968111717742,33.3556543534549,7.53052172688857,2.64951471887132,1.52729180801908,0.742509005748678,0.244471256942676,0.0893208411255556,0.116129515245471,0,0.104339855677448,0,0,0,0,0,0,0,0,0.421543987497591,0.607113965853164,2.0927330302679,4.96656595412757,15.6449660503989,29.3605935844847,94.3374429201161,230.242078250334,259.881856534001,129.7257759823,38.0984955564862,8.94781544082912,2.17965486228154,0.395296637733274,0.425394930563263,0.158163930307019,0,0,0,0,0,0,0,0,0,0,0.118317325434862,0.361452306446595,0.534017414349791,1.81948684575538,3.98375515454011,6.80317548797412,16.5649117154389,39.1104558806192,105.318998364917,235.171609848184,224.933578970136,100.62434128297,24.49473798288,3.90630983738693,1.36583157025796,0.573559605591412,0.594355784224333,0.106770792311507,0,0,0,0,0,0,0,0.186285569291962,0.132099510514416,0,0.118580840721543,0.660569688724079,0.461727914250338,1.22220492608257,3.67026727782804,5.83794631205349,11.2417518262377,30.6166146964699,85.8440440636449,182.581569123189,168.957101017308,71.8512273118587,12.7070455568386,1.97720096080056,0.820311877744873,0.115930749583844,0,0,0,0,0,0,0,0,0,0,0.198187952344566,0.219615825275784,0.187752050074643,1.20158202726468,2.21625147097153,2.03647607697595,3.28911228536523,4.28888203446303,10.1796204572886,22.4164814230775,64.4674949257339,131.429107766896,113.428430179615,33.3533337538417,5.08362888801811,0.569441229930854,0,0,0,0,0,0,0,0,0,0,0,0,0.211616145026551,0.370495433248465,0.137666980112766,1.71367094381256,1.34157474365734,1.64075787171395,3.19021151162035,4.19107374384777,3.77792342033403,11.8954159656228,34.0763879073836,63.7783805630551,41.1855763465151,6.95839885280523,0,0,0,0,0,0,0,0,0,0,0,0.229894582965183,0.356491024193435,0.108883943406191,0.291881139548949,0.481966922024618,0.56244002414196,1.04248208297964,1.34551393869946,1.74267011698849,1.15670369706897,1.53340087715055,1.77022203240673,2.28733231228944,7.66292614837383,13.8225589336756,0.164994078134965,0,0,0,0,0,0,0,0,0,0,0,0,0,0,0,0,0,0,0,0,0,0,0,0,0,0,0],\"fOption\":\"\",\"fFunctions\":{\"_typename\":\"TList\",\"name\":\"TList\",\"arr\":[{\"_typename\":\"TPaletteAxis\",\"fUniqueID\":0,\"fBits\":50331648,\"fLineColor\":1,\"fLineStyle\":1,\"fLineWidth\":1,\"fFillColor\":1178,\"fFillStyle\":1001,\"fX1\":0.623875000057742,\"fY1\":0,\"fX2\":0.65875000057742,\"fY2\":0.62,\"fX1NDC\":0.904999994039535,\"fY1NDC\":0.100000005960465,\"fX2NDC\":0.949999994039535,\"fY2NDC\":0.899999994039535,\"fBorderSize\":4,\"fInit\":1,\"fShadowColor\":1,\"fCornerRadius\":0,\"fOption\":\"br\",\"fName\":\"TPave\",\"fAxis\":{\"_typename\":\"TGaxis\",\"fUniqueID\":0,\"fBits\":50331648,\"fLineColor\":1,\"fLineStyle\":1,\"fLineWidth\":1,\"fX1\":0,\"fY1\":0,\"fX2\":0,\"fY2\":0,\"fTextAngle\":0,\"fTextSize\":0.04,\"fTextAlign\":11,\"fTextColor\":1,\"fTextFont\":42,\"fWmin\":0,\"fWmax\":0,\"fGridLength\":0,\"fTickSize\":0.03,\"fLabelOffset\":0.005,\"fLabelSize\":0.035,\"fTitleOffset\":1,\"fTitleSize\":0.035,\"fNdiv\":0,\"fLabelColor\":1,\"fLabelFont\":42,\"fNModLabs\":0,\"fChopt\":\"\",\"fName\":\"\",\"fTitle\":\"\",\"fTimeFormat\":\"\",\"fFunctionName\":\"\",\"fModLabs\":null},\"fName\":\"palette\"}],\"opt\":[\"br\"]},\"fBufferSize\":0,\"fBuffer\":[],\"fBinStatErrOpt\":0,\"fStatOverflows\":2,\"fScalefactor\":1,\"fTsumwy\":4366.33766031701,\"fTsumwy2\":1479.29816527986,\"fTsumwxy\":1473.98910850671,\"fArray\":[0,0,0,0,0,0,0,0,0,0,0,0,0,0,0,0,0,0,0,0,0,0,0,0,0,0,0,0,18.7712094321976,18.2436488035548,2.75676670553121,1.77373999815501,0.333986391932535,1.45665472463101,2.12023896268165,3.50855290286806,3.70692101233624,3.07666182014998,4.34861384009391,2.04431165320213,4.04306142893501,2.29533084629977,2.62092528212558,3.62917197760356,4.69605894877892,3.19882878765756,1.85065632591337,4.25155803769321,4.26685768689214,2.0339071804806,0,0,0,0,4.38530069799822,33.8057241150144,89.3129988243998,60.7973903598507,14.7886382709276,6.21440942262872,2.24619284431714,4.60662640770386,2.85151700291626,3.05925869905817,1.55385257255093,3.18249746624321,2.09670554006766,4.29757975889518,3.13784736918034,3.12537778985733,0,1.64354600607396,0.825321915358209,0.343167693072187,0.593493811150832,0,0,0,0,0,0,1.4188627422692,20.3994994945633,116.22340675571,222.985974789761,136.966477886504,48.8055512447065,13.9334672130808,6.78730720079149,3.63975447713472,3.11997137072823,2.27824160211842,3.61827019398275,1.2263093232217,0.80448958317036,2.41048246013738,1.88203479341036,0.365239934853251,0.591637033262669,0.325524303124671,0.73406740247287,1.44655770990559,0,0,0,0,0,0,0.361201218440393,10.8688718057975,76.333897231504,285.890987033994,430.169593361432,248.256885180469,81.2766676129482,24.5475633969119,8.86857057466211,3.3164723282445,2.99882499295727,3.03013506442382,2.17730202283707,1.68760726833458,0.717122954707468,0.590447593984445,0,1.35251440717265,0,0,0.405966574377645,0,0,0,0,0.355496769160859,0,1.4438357474246,8.37375529175064,35.4608240218349,155.821015568148,443.197375230191,623.740265646746,346.904586983379,102.459934587638,26.9489092707231,8.15031921601366,5.17701395566164,1.10883442228209,1.49957140839155,1.25802444496516,0.993796968828268,0.761874938691963,0.421175503797968,0.331135202141538,0,0,0,0,0,0,0,0,0.365572596153273,0.918796048199117,11.5288061668406,27.3704694901071,73.9967258995713,230.313960629393,595.373689404108,719.316634319885,361.119439381871,97.0986371629229,21.8584479195453,8.46515119529684,4.42562761094052,1.93453847499181,0.698404202953004,0.29886592499908,0.340777809203403,0,0.32301680401714,0,0,0,0,0,0,0,0,1.11910385589076,1.85615524517544,6.17181874292408,14.0356050491283,44.6509750245255,83.3198941349268,270.998154350468,653.347777908186,741.070655830292,366.210590683101,105.73753219392,26.4729119664688,5.99239216112144,1.26116491779272,1.28705716746232,0.562429289270936,0,0,0,0,0,0,0,0,0,0,0.343972855665766,1.04112625926074,1.62634059855698,5.64290183384581,10.9818629521779,18.1627104976818,46.1353240988359,109.673068297123,298.510210391959,662.148123491211,644.216755446333,288.921717173917,70.1145769578476,11.5386603415382,3.86964039543095,1.50552211185024,1.52770730906657,0.326758002674008,0,0,0,0,0,0,0,0.431608120048688,0.363454963529756,0,0.344355689253921,1.81387859995519,1.47728275422278,3.60181396362325,10.4643936532347,17.3211694684506,31.9676993066811,87.8372213552625,244.501978397831,520.61787731467,482.32237655232,204.100410595994,37.0973340931686,6.0400765957601,2.3794746670065,0.340486049029683,0,0,0,0,0,0,0,0,0,0,0.629298571348483,0.662638815630212,0.606922170992166,3.75748255376858,5.99006107851522,5.83045211276947,9.29397565813015,11.9608228077463,28.2271654743345,64.4177545127137,181.450934285867,370.133349593379,321.746722524517,98.558755603103,14.6751959631491,1.53317375274675,0,0,0,0,0,0,0,0,0,0,0,0,0.650421557495628,1.05171951830358,0.371035011976991,4.86984018373485,3.81453783975444,5.11640610367529,8.93987822901966,11.5267564480651,11.1895070784299,33.2098372939797,97.5325812837458,183.194290620994,117.023361237415,19.7376395045495,0,0,0,0,0,0,0,0,0,0,0,0.677995557374399,1.01610055374878,0.329975670930738,1.05188943015524,1.15911622655485,1.76585336984234,2.83710891709275,4.0369720516913,5.00372678940878,3.43087457399351,4.57949948818251,5.0495791179138,6.72912817034662,21.0397123665949,39.8920213163285,0.56729497118544,0,0,0,0,0,0,0,0,0,0,0,0,0,0,0,0,0,0,0,0,0,0,0,0,0,0,0]},{\"_typename\":\"TPaveText\",\"fUniqueID\":0,\"fBits\":50331657,\"fLineColor\":1,\"fLineStyle\":1,\"fLineWidth\":1,\"fFillColor\":0,\"fFillStyle\":0,\"fX1\":0.0489121860389908,\"fY1\":0.629228332211757,\"fX2\":0.571087813961009,\"fY2\":0.693625009411946,\"fX1NDC\":0.163112503134842,\"fY1NDC\":0.911907519296624,\"fX2NDC\":0.836887496865158,\"fY2NDC\":0.995000004768372,\"fBorderSize\":0,\"fInit\":1,\"fShadowColor\":1,\"fCornerRadius\":0,\"fOption\":\"blNDC\",\"fName\":\"title\",\"fTextAngle\":0,\"fTextSize\":0,\"fTextAlign\":22,\"fTextColor\":1,\"fTextFont\":42,\"fLabel\":\"\",\"fLongest\":40,\"fMargin\":0.05,\"fLines\":{\"_typename\":\"TList\",\"name\":\"TList\",\"arr\":[{\"_typename\":\"TLatex\",\"fUniqueID\":0,\"fBits\":50331648,\"fName\":\"\",\"fTitle\":\"Response Matrix #tau_{1}^{(1)} binning 5\",\"fTextAngle\":0,\"fTextSize\":0,\"fTextAlign\":0,\"fTextColor\":0,\"fTextFont\":0,\"fX\":0,\"fY\":0,\"fLineColor\":1,\"fLineStyle\":1,\"fLineWidth\":2,\"fLimitFactorSize\":3,\"fOriginSize\":0.0556159242987633}],\"opt\":[\"\"]}}],\"opt\":[\"\",\"colz\",\"blNDC\"]},\"fExecs\":{\"_typename\":\"TList\",\"name\":\"TList\",\"arr\":[],\"opt\":[]},\"fName\":\"c6_5\",\"fTitle\":\"c6_5\",\"fNumPaletteColor\":0,\"fNextPaletteColor\":0},{\"_typename\":\"TPad\",\"fUniqueID\":0,\"fBits\":50331657,\"fLineColor\":1,\"fLineStyle\":1,\"fLineWidth\":1,\"fFillColor\":0,\"fFillStyle\":1001,\"fLeftMargin\":0.1,\"fRightMargin\":0.1,\"fBottomMargin\":0.1,\"fTopMargin\":0.1,\"fXfile\":2,\"fYfile\":2,\"fAfile\":1,\"fXstat\":0.99,\"fYstat\":0.99,\"fAstat\":2,\"fFrameFillColor\":0,\"fFrameLineColor\":1,\"fFrameFillStyle\":1001,\"fFrameLineStyle\":1,\"fFrameLineWidth\":1,\"fFrameBorderSize\":1,\"fFrameBorderMode\":0,\"fX1\":-0.0775000057742003,\"fY1\":-0.0775000057742003,\"fX2\":0.6975000057742,\"fY2\":0.6975000057742,\"fXtoAbsPixelk\":846.768052019803,\"fXtoPixelk\":37.4747189537963,\"fXtoPixel\":483.544079506012,\"fYtoAbsPixelk\":651.864048143911,\"fYtoPixelk\":298.944048298585,\"fYtoPixel\":-428.593542399714,\"fUtoAbsPixelk\":809.293383066006,\"fUtoPixelk\":5e-5,\"fUtoPixel\":374.74666720132,\"fVtoAbsPixelk\":685.080050154674,\"fVtoPixelk\":332.160000309348,\"fVtoPixel\":-332.160000309348,\"fAbsPixeltoXk\":-1.7511702405391,\"fPixeltoXk\":-0.0775000057742003,\"fPixeltoX\":0.00206806378649408,\"fAbsPixeltoYk\":1.5209375169166,\"fPixeltoYk\":-0.0775000057742003,\"fPixeltoY\":-0.00233321294203584,\"fXlowNDC\":0.676666666443149,\"fYlowNDC\":0.00999999977648258,\"fXUpNDC\":0,\"fYUpNDC\":0,\"fWNDC\":0.313333333780368,\"fHNDC\":0.480000000447035,\"fAbsXlowNDC\":0.676666666443149,\"fAbsYlowNDC\":0.00999999977648258,\"fAbsWNDC\":0.313333333780368,\"fAbsHNDC\":0.480000000447035,\"fUxmin\":0,\"fUymin\":0,\"fUxmax\":0.62,\"fUymax\":0.62,\"fTheta\":30,\"fPhi\":30,\"fAspectRatio\":0,\"fNumber\":6,\"fTickx\":0,\"fTicky\":0,\"fLogx\":0,\"fLogy\":0,\"fLogz\":0,\"fPadPaint\":0,\"fCrosshair\":0,\"fCrosshairPos\":0,\"fBorderSize\":2,\"fBorderMode\":0,\"fModified\":false,\"fGridx\":false,\"fGridy\":false,\"fAbsCoord\":false,\"fEditable\":true,\"fFixedAspectRatio\":false,\"fPrimitives\":{\"_typename\":\"TList\",\"name\":\"TList\",\"arr\":[{\"_typename\":\"TFrame\",\"fUniqueID\":0,\"fBits\":50331656,\"fLineColor\":1,\"fLineStyle\":1,\"fLineWidth\":1,\"fFillColor\":0,\"fFillStyle\":1001,\"fX1\":0,\"fY1\":0,\"fX2\":0.62,\"fY2\":0.62,\"fBorderSize\":1,\"fBorderMode\":0},{\"_typename\":\"TH2D\",\"fUniqueID\":0,\"fBits\":50332168,\"fName\":\"response\",\"fTitle\":\"Response Matrix #tau_{1}^{(1)} binning 6\",\"fLineColor\":602,\"fLineStyle\":1,\"fLineWidth\":1,\"fFillColor\":0,\"fFillStyle\":1001,\"fMarkerColor\":1,\"fMarkerStyle\":1,\"fMarkerSize\":1,\"fNcells\":760,\"fXaxis\":{\"_typename\":\"TAxis\",\"fUniqueID\":0,\"fBits\":50331648,\"fName\":\"xaxis\",\"fTitle\":\"#tau_{1}^{(1)}(det_sig)\",\"fNdivisions\":510,\"fAxisColor\":1,\"fLabelColor\":1,\"fLabelFont\":42,\"fLabelOffset\":0.005,\"fLabelSize\":0.035,\"fTickLength\":0.03,\"fTitleOffset\":1,\"fTitleSize\":0.035,\"fTitleColor\":1,\"fTitleFont\":42,\"fNbins\":36,\"fXmin\":0,\"fXmax\":0.62,\"fXbins\":[0,0.05,0.1,0.1125,0.125,0.1375,0.15,0.1625,0.175,0.1875,0.2,0.2125,0.225,0.2375,0.25,0.2625,0.275,0.2875,0.3,0.3125,0.325,0.3375,0.35,0.3625,0.375,0.3875,0.4,0.4125,0.425,0.4375,0.45,0.4625,0.475,0.4875,0.5,0.56,0.62],\"fFirst\":0,\"fLast\":0,\"fBits2\":0,\"fTimeDisplay\":false,\"fTimeFormat\":\"\",\"fLabels\":null,\"fModLabs\":null},\"fYaxis\":{\"_typename\":\"TAxis\",\"fUniqueID\":0,\"fBits\":50331648,\"fName\":\"yaxis\",\"fTitle\":\"#tau_{1}^{(1)}(gen_sig)\",\"fNdivisions\":510,\"fAxisColor\":1,\"fLabelColor\":1,\"fLabelFont\":42,\"fLabelOffset\":0.005,\"fLabelSize\":0.035,\"fTickLength\":0.03,\"fTitleOffset\":0,\"fTitleSize\":0.035,\"fTitleColor\":1,\"fTitleFont\":42,\"fNbins\":18,\"fXmin\":0,\"fXmax\":0.62,\"fXbins\":[0,0.1,0.125,0.15,0.175,0.2,0.225,0.25,0.275,0.3,0.325,0.35,0.375,0.4,0.425,0.45,0.475,0.5,0.62],\"fFirst\":0,\"fLast\":0,\"fBits2\":0,\"fTimeDisplay\":false,\"fTimeFormat\":\"\",\"fLabels\":null,\"fModLabs\":null},\"fZaxis\":{\"_typename\":\"TAxis\",\"fUniqueID\":0,\"fBits\":50331648,\"fName\":\"zaxis\",\"fTitle\":\"\",\"fNdivisions\":510,\"fAxisColor\":1,\"fLabelColor\":1,\"fLabelFont\":42,\"fLabelOffset\":0.005,\"fLabelSize\":0.035,\"fTickLength\":0.03,\"fTitleOffset\":1,\"fTitleSize\":0.035,\"fTitleColor\":1,\"fTitleFont\":42,\"fNbins\":1,\"fXmin\":0,\"fXmax\":1,\"fXbins\":[],\"fFirst\":0,\"fLast\":0,\"fBits2\":0,\"fTimeDisplay\":false,\"fTimeFormat\":\"\",\"fLabels\":null,\"fModLabs\":null},\"fBarOffset\":0,\"fBarWidth\":1000,\"fEntries\":43107,\"fTsumw\":13901.1376293109,\"fTsumw2\":4887.05421222413,\"fTsumwx\":4398.01334473652,\"fTsumwx2\":1487.39692517914,\"fMaximum\":-1111,\"fMinimum\":-1111,\"fNormFactor\":0,\"fContour\":[0,17.902948639531,35.8058972790621,53.7088459185931,71.6117945581241,89.5147431976551,107.417691837186,125.320640476717,143.223589116248,161.126537755779,179.02948639531,196.932435034841,214.835383674372,232.738332313903,250.641280953434,268.544229592965,286.447178232496,304.350126872027,322.253075511558,340.156024151089],\"fSumw2\":[0,0,0,0,0,0,0,0,0,0,0,0,0,0,0,0,0,0,0,0,0,0,0,0,0,0,0,0,0,0,0,0,0,0,0,0,0,0,0,0,6.81963500987013,5.04261058946143,1.79066630470294,0.582171926898261,0.305361647219401,0.420753524957284,0.111546909996113,0,0.445692974441624,0.400924690961165,0.72805921465629,0.77621352577188,0.822225022795448,0.631400992557669,0.69975987653022,1.26616450860616,0.569884746780091,0.553293212610269,0.54964508058729,0.901555033881978,0.56672397907712,0.409091627206458,0.702797006195025,0.0651643587474408,1.29597301005813,1.10343552392341,0.826302761406562,0.593837180278881,0.750465259416815,0.115367624667718,1.45619552044936,0.664413608060789,0.925481276594885,0.781144907338629,0,0,0,0,1.56008281190359,4.48590455613528,11.3992309338599,9.69587006724562,5.16068566454934,1.76300915940863,0.709520610066311,0.579801393424888,0.296390111762534,0.188509380377169,0.0871894039534138,0.931491337603118,0.235347538712444,0.449584174180301,0.42047820830463,0.696876639601569,0.134689374122239,0.397004437750917,0.348737908806844,0.422365035137055,0.403983561490922,1.21967116589601,0.247397061399053,0.414626864814131,0.375856967502807,0,0.229772816823699,0.20662397534462,0.234930233682799,0,0.117764065568487,0,0,0,0,0,0,0,0,0.0938329926638634,5.41202365468893,12.5605633485479,23.2788412703671,16.7414287725218,9.89217519744113,4.14342642163681,2.23315509313888,1.31661861359737,0.730858073268021,0.687180760255635,0.667649871795187,0.0950507272638294,0.609501009613421,0.229565992876583,0.284484553015839,0.412576714987568,0.467317858143074,0.139893413966613,0.137255946264471,0,0.728044921786727,0.221728808855253,0.356647268332859,0,0.245875804800589,0.107458606032849,0.116025999268121,0.0981951721797925,0,0.289186318534928,0,0.201334928017264,0,0,0,0,0,0.16294826056279,0.460109695923949,1.04897085160116,6.09483862111263,22.8813925914405,38.2377993538592,33.8821675134578,13.5287251749392,7.4823220659899,3.01392457870691,1.82143022912706,1.04544674389666,0.840024514582027,0.112869714572768,0.505286857486499,0.208592599187399,0.436990422391642,0.354177083522346,0.483349770225062,0.653982218190987,0.014736326064462,0,0.297559276705668,0.306110105093526,0.0859976642673473,0.398530700956296,0,0,0.0774375010837696,0.105966071924802,0.158358539320366,0,0.333622918774124,0,0,0,0,0,0,1.59052304309635e-4,0,1.21696538160086,3.97907220129757,15.7048131057592,37.7155171870334,59.4168652739596,47.6890303932179,22.4716393019711,12.3956436639066,5.26283086175347,3.15654594952561,1.11050515159794,0.799206661512171,0.852775745438327,0.197422565116949,0.421140048486225,0.165355591280182,0.333057306998106,0.273797645856403,0.468597350369746,0.13203657402857,0.11488029802608,0.13772909967527,0,0,0.120136543530569,0,0.244014761949642,0,0,0,0.16480885951192,0,0,0,0,0,0,0,0.410412033033003,1.25807415609064,3.41065371967161,11.4159276671887,24.8282196192533,55.8039767718308,82.2539057565134,59.1319427953261,27.4888962041682,18.1314385735944,7.11809134623073,2.6034012650679,1.25873236092462,0.942825351184957,0.581000962245738,0.52707227695628,0.189026861451827,0.313288139364229,0.232243808462393,0.292313541815829,0.139094686003967,0.144813317260975,0.0594581430578923,0,1.41228042724835e-5,0.214798751051177,0,0,0,0,0,0,0,0,0,0,0,0,0.293765939427358,0.29342249036722,0.785689024336383,2.43569402075132,5.20779905990655,15.914107343433,36.7341245970154,72.8363731349657,104.592352359608,69.9108780759453,37.9679263180534,17.2107619517012,8.22563559806919,2.40986729269439,2.56925970633643,1.01491734280375,0.415821288090531,0.894966627710209,0.199955885325166,0.132394068784923,0.302093620510425,0.114346118051575,0.523098597644516,0,0.292894871176115,0,0.177388804999473,0,0,0,0,0,0,0,0,0,0.126377952883809,0,0,0.240095776425637,0.259230173394164,1.25800960089604,3.01019774202102,5.62690909061983,11.9081496967775,19.9160768230679,48.5846323837482,91.2080247716994,112.272803937453,82.4216860269192,37.7542650420738,18.5088248569591,8.74448065731154,2.28440286034853,2.17382638281596,0.877186519157786,0.515405515901201,0.379481878008171,0.389277042009992,0.181497322065306,0,0.134201002594745,0,0,0,0,0.109650522097317,0.104339855677448,0,0,0,0,0,0,0,0,0,0,0.0183163492641447,0.482006825887308,1.12663321583087,2.29665678339063,3.21926574609706,7.91546285347195,13.0846086560828,26.7921399493853,54.3694455961567,105.134758330014,121.814023367076,81.5653483442261,36.1898536058465,16.4930654837614,5.57305186791791,2.94399913739975,1.13932743590791,0.799626806800187,0.300696683036724,0.524677034073798,0.239593804177419,0,0.0893208411255556,0,0.116129515245471,0,0,0,0,0,0,0,0,0,0,0,0,0,0.177381792553921,0.249485205534566,0.291024477720996,0.698906063118174,1.60118381213953,2.39549663540224,6.45564464675923,8.24862648513859,14.7952176491946,28.3221703728436,58.0667693444121,105.895235273785,126.059387265115,85.3927753278738,40.4481300651428,16.0322814690708,9.62357365136559,4.00490523802026,1.38263553149438,0.541040381624234,0.459381574120958,0,0.0556496546014963,0,0.158163930307019,0,0,0,0,0,0,0,0,0,0,0,0,0,0.118317325434862,0.184949531771631,0.12581694576964,0.144406021541674,0.580068302052957,1.05162458164179,2.10023514823455,3.14620130310329,5.71893326875735,8.14585404796683,16.2284576554924,28.8070335733791,65.2224790155498,111.57195801927,122.384283328661,81.8702149081862,34.4777305624181,14.3949120922964,6.56345386842594,2.50840765465198,1.24072927352107,0.184622814741283,0.652341299606602,0.359972557233785,0,0,0,0,0,0,0,0,0,0,0,0,0,0,0,0.115930749583844,0.245521556862751,0,0.405116462473712,0.662967083424253,0.898928979353349,1.57913051171897,2.22786740583959,3.60868558937123,7.69321275010861,9.8582311113627,17.2172928237362,33.1263412661063,66.7921771910795,107.329426875429,106.597270475345,72.1603608641235,27.0155460580547,13.4161762313844,2.87702536831413,1.51366371918779,0.57277384607131,0.0933197134163682,0.573554925879727,0.196217908767898,0.39814255516812,0.106770792311507,0,0,0,0,0,0,0,0,0,0,0,0,0,0,0.229751362139456,0.286569767812964,0.35301203523931,0.452309382328817,0.638488981395482,0.935005418756804,2.44547282843731,3.81092782561977,4.17916621868881,7.28008576538615,14.8313295701302,28.1073778350483,57.7940511549816,88.5790018195397,94.1198914300298,56.2313015236207,23.6871860466077,9.13149509856618,3.67977907480364,1.27128329623012,0.184264993528482,0.257471777196728,0.0829296904571792,0,0,0,0,0,0,0,0,0,0,0.186285569291962,0,0.132099510514416,0,0.105057495685725,0.118580840721543,0.261447149709816,0.0968837379862124,0.0472474038469494,0.287274250359505,0.83069632252327,0.823012356004131,0.984079123963871,1.64039550142221,3.72528509125328,4.82637370389164,7.61719411896688,13.2941617661034,25.4344403889907,48.9900152880853,78.3434068878426,72.9909088042311,43.3185761704469,17.4190415130935,5.68587627289372,1.42974219823378,0.98761307728047,0.14638010878139,0.115930749583844,0,0,0,0,0,0,0,0,0,0,0,0,0,0.0931304566588413,0,0.105867431707841,0.187752050074643,0,0.761032442190588,0.962272350031511,0.77066774965245,0.840795821955542,1.03545565967202,0.881820438454297,1.1281111519222,2.2664697421356,3.61220262363719,5.8780988524085,10.3377781142186,20.6179305355794,37.043286297023,63.612858072492,58.2584905032731,29.9362333205638,9.33931547266631,2.89535495925888,0.685123442805633,0.268102283272738,0,0,0,0,0,0,0,0,0,0,0,0,0,0,0.113748393567943,0,0,0.205963799437616,0.292106296883587,0.258453059805676,0.162876298863342,0.226794041951017,0.899888286528837,0.517737879711153,1.29884855031209,1.13053415174637,1.57996422650744,2.54534904792489,3.68909696085529,4.23404747688017,7.92021884189032,12.3742790263547,30.6105364839056,42.1648982109835,36.6229276843484,17.4886031800215,5.24161272507943,0.863033128741875,0,0,0,0,0,0,0,0,0,0,0,0,0,0,0,0,0.101395648931643,0,0.144720278424651,0,0.137666980112766,0.525189663322312,0.554342702021865,0.403607423452716,0.673873211403737,0.692019109287096,0.742194232231194,0.804637653633374,0.758571221508186,1.17135703732053,1.04438093670414,1.95687211537713,4.39065740588623,8.11992225192793,17.3272982850354,20.9987157069978,18.1785116680041,6.39670467072147,0,0,0,0,0,0,0,0,0,0,0,0,0,0,0,0.111372671043643,0.11852191192154,0.356491024193435,0,0.183297476392165,0.217467606562974,0.082570137743793,0.650143580109411,0.311693228313374,0.817278254230943,0.366034712996012,0.65162991019619,0.99770821729992,1.29801504394453,0.590627435674186,0.84311745730839,0.948681549305612,1.20004672579058,1.05660800925172,1.66811587831511,2.58537533067264,5.51801268097128,13.8225589336756,0.164994078134965,0,0,0,0,0,0,0,0,0,0,0,0,0,0,0,0,0,0,0,0,0,0,0,0,0,0,0,0,0,0,0,0,0,0,0,0,0,0,0],\"fOption\":\"\",\"fFunctions\":{\"_typename\":\"TList\",\"name\":\"TList\",\"arr\":[{\"_typename\":\"TPaletteAxis\",\"fUniqueID\":0,\"fBits\":50331648,\"fLineColor\":1,\"fLineStyle\":1,\"fLineWidth\":1,\"fFillColor\":1178,\"fFillStyle\":1001,\"fX1\":0.623875000057742,\"fY1\":0,\"fX2\":0.65875000057742,\"fY2\":0.62,\"fX1NDC\":0.904999994039535,\"fY1NDC\":0.100000005960465,\"fX2NDC\":0.949999994039535,\"fY2NDC\":0.899999994039535,\"fBorderSize\":4,\"fInit\":1,\"fShadowColor\":1,\"fCornerRadius\":0,\"fOption\":\"br\",\"fName\":\"TPave\",\"fAxis\":{\"_typename\":\"TGaxis\",\"fUniqueID\":0,\"fBits\":50331648,\"fLineColor\":1,\"fLineStyle\":1,\"fLineWidth\":1,\"fX1\":0,\"fY1\":0,\"fX2\":0,\"fY2\":0,\"fTextAngle\":0,\"fTextSize\":0.04,\"fTextAlign\":11,\"fTextColor\":1,\"fTextFont\":42,\"fWmin\":0,\"fWmax\":0,\"fGridLength\":0,\"fTickSize\":0.03,\"fLabelOffset\":0.005,\"fLabelSize\":0.035,\"fTitleOffset\":1,\"fTitleSize\":0.035,\"fNdiv\":0,\"fLabelColor\":1,\"fLabelFont\":42,\"fNModLabs\":0,\"fChopt\":\"\",\"fName\":\"\",\"fTitle\":\"\",\"fTimeFormat\":\"\",\"fFunctionName\":\"\",\"fModLabs\":null},\"fName\":\"palette\"}],\"opt\":[\"br\"]},\"fBufferSize\":0,\"fBuffer\":[],\"fBinStatErrOpt\":0,\"fStatOverflows\":2,\"fScalefactor\":1,\"fTsumwy\":4366.33766031701,\"fTsumwy2\":1479.29816527986,\"fTsumwxy\":1473.98910850671,\"fArray\":[0,0,0,0,0,0,0,0,0,0,0,0,0,0,0,0,0,0,0,0,0,0,0,0,0,0,0,0,0,0,0,0,0,0,0,0,0,0,0,0,18.7712094321976,14.0641313037194,4.93172845425705,1.7128394061277,0.955357418276285,1.11009892486052,0.333986391932535,0,1.45665472463101,1.26043239826686,2.04434027357252,2.32401919371033,2.20475427591478,1.86757440994334,2.04471074788771,3.34102267172332,1.67413456711097,1.48679703799596,1.83844392557609,2.67429013008685,1.84225670158505,1.043628066336,1.85374363935106,0.264469709631487,3.62917197760356,3.29943332941912,2.54163985805145,1.70287936102756,1.86939986647741,0.403017730722556,3.80164977384264,1.9908637672181,2.65507610017637,2.0339071804806,0,0,0,0,4.38530069799822,12.6519719066279,30.871057173561,27.6328731960406,14.3033916619047,5.10895932405254,1.87078437998913,1.51119743827977,0.768560169028859,0.434176669544978,0.295278519288847,2.50869896411061,0.686072206276169,1.48945910957377,1.27592688143718,1.66535882923083,0.367000509702968,1.09105521007158,1.01569458018078,1.11773204232872,1.0978830583534,2.81871937000127,0.751760878954803,1.28757258311187,1.16987864362056,0,0.674443826628313,0.641293384516581,0.484696021938286,0,0.343167693072187,0,0,0,0,0,0,0,0,0.306321714319869,15.2702908413053,35.5964418132618,65.4578001953269,49.063390662484,27.9564488082897,11.4328294082814,5.81711110101696,3.82593411905303,2.06919567603338,2.18872902120476,1.82110065945369,0.308302979654478,1.70979192545476,0.673158799952615,0.748004161533073,1.10788647436021,1.33666096120617,0.374023279979486,0.380977330540506,0,2.05479404170037,0.659066212305858,1.03115916033429,0,0.700980931837173,0.32780879492907,0.340625893419923,0.313361089128488,0,0.929618329128495,0,0.633314151120713,0,0,0,0,0,0.403668503307839,1.3455100087466,3.2072547251855,17.154937210752,65.2213316787629,105.40684936946,95.5721970517995,39.1106511259599,21.8055961599575,8.83923622255207,5.25706899869522,2.85555449008336,2.56777045805257,0.335960882503853,1.39863471995915,0.645564443889894,1.06182893448151,1.12150261945681,1.53961837261703,1.81203301311935,0.121393270260184,0,1.0591504165287,0.953664990522437,0.297068093887314,1.09288205342569,0,0,0.278275944134181,0.325524303124671,0.397942884495207,0,0.813243558784877,0,0,0,0,0,0,0.0126115940431666,0,3.77577466040231,11.4647683985595,45.5054153989572,106.567369558416,171.421311983739,136.837316132465,64.4937241705639,34.0348272558727,14.8325383408047,8.784124842833,3.38814353158903,2.43950588904678,2.57680089317809,0.63704381617489,1.28785532068559,0.549418710570935,0.988268169415171,0.871256424020875,1.51007526652557,0.363368372355892,0.338939962273674,0.492923153921981,0,0,0.346607189092449,0,0.698482497485213,0,0,0,0.405966574377645,0,0,0,0,0,0,0,1.17694954768307,3.92596153410394,10.1528047247303,31.4661268838968,70.8097844356585,161.519116936722,233.330797699824,167.235545752373,77.8976013199054,51.8468914355554,19.8659979970587,7.5116825415002,4.02431915435292,2.71316764389788,1.76969102278621,1.46564658212284,0.71893534946107,0.960377005433384,0.681483636327936,0.935835189763333,0.372953999849803,0.380543449898924,0.243840404891995,0,0.00375803196799648,0.654031909687437,0,0,0,0,0,0,0,0,0,0,0,0,0.754785300829143,0.765040060200448,2.45697753035218,7.29377124206987,15.2134638148132,45.4701894557889,104.342053965023,207.676054563126,296.34962503921,199.715189283897,107.724976403894,49.1671691715808,23.07930499305,7.13854590988264,6.96027736611823,2.62482164335434,1.21542760646522,2.46283535670282,0.447164271074027,0.363859957655309,0.774303796654088,0.338151028464465,1.60872957103886,0,0.758116906723967,0,0.421175503797968,0,0,0,0,0,0,0,0,0,0.355496769160859,0,0,0.691843117909979,0.783458140486072,3.60388224866599,8.93397180528364,15.6959782661177,33.5033870134737,57.9741166123583,136.637728493162,261.709128468927,321.248628317087,233.35034619835,106.653497629073,52.5992681611513,24.737929965524,6.95572617498497,6.24544227413427,2.43890204114071,1.67472080843492,1.06587806097367,1.08380275495148,0.602444464428038,0,0.366334550096963,0,0,0,0,0.331135202141538,0.32301680401714,0,0,0,0,0,0,0,0,0,0,0.135337907713045,1.17513801104639,3.33155245626294,6.46569518626747,9.26501776151292,21.9125680405596,37.5472043006564,75.3840000674993,152.971353295815,298.178396767028,343.805318324274,231.248390517726,105.137972195894,46.6415498392282,16.5540359491603,8.68518425789498,3.76558816017117,2.51560413860966,0.774491183732369,1.27741898839852,0.6916854893114,0,0.29886592499908,0,0.340777809203403,0,0,0,0,0,0,0,0,0,0,0,0,0,0.421167178865971,0.705130921326822,0.760532803935213,2.12617304108864,4.60685454570166,7.11467983619627,17.2108454945883,24.2505851113961,41.3719583129182,80.9954914435273,166.986290866418,299.974042927231,358.05897279062,242.179568922196,115.902064636421,46.0061825696718,25.7102600269588,10.8243239093549,4.1818742083081,1.64235001279069,1.29381292985083,0,0.235901790161703,0,0.562429289270936,0,0,0,0,0,0,0,0,0,0,0,0,0,0.343972855665766,0.591597881942853,0.496830314995339,0.464144860545795,1.69796866635435,3.16359770391772,5.93315242615751,8.71482676053176,15.3260500110975,22.9877607355038,47.2844964582412,81.1116020472455,187.10936112248,317.281751618265,342.659508685178,231.211003858661,98.3967880899285,41.9579704567516,18.7969442764631,7.02724952809841,3.41556206766016,0.615241561292016,1.77096315935091,1.02721702171884,0,0,0,0,0,0,0,0,0,0,0,0,0,0,0,0.340486049029683,0.700640210231059,0,1.25964886277773,1.99158814115877,2.67411580292227,4.59362722291311,6.41445011926551,10.2193366476601,20.8839855899007,28.8699669419764,47.8350013556505,92.8386860914194,188.373836775648,304.18327811824,305.246029966709,206.886707433827,76.4868530558602,37.7116098054069,8.69682743843566,4.48107741561999,1.70356224093688,0.328354059744438,1.50335884772269,0.445122888761909,1.08474768443221,0.326758002674008,0,0,0,0,0,0,0,0,0,0,0,0,0,0,0.677831651473676,0.755375362423011,1.02768928393284,1.24800886039088,1.74541969219838,2.76515293219473,6.88820601670043,11.1886261586015,11.9923803129263,21.0676730000033,43.1474351511468,79.4694167839877,165.402494010665,254.884393547656,268.494589539626,160.783512736504,67.7187238208855,26.1292783377466,10.7594083549594,3.59992653779239,0.606759432778499,0.709779836785652,0.287975155972141,0,0,0,0,0,0,0,0,0,0,0.431608120048688,0,0.363454963529756,0,0.3241257405479,0.344355689253921,0.723014383467993,0.311261526672045,0.249961760115078,0.914274775966804,1.97009782055111,2.34836407145379,3.16177404176324,4.38402885453575,10.6435318752612,14.57244092801,21.9426770150834,37.2263658512739,72.4219815464432,138.392702992183,222.79926130971,207.225506922524,123.731888465616,48.8101174257742,16.8205001753575,4.06060717302231,2.97565363520774,0.382596535244885,0.340486049029683,0,0,0,0,0,0,0,0,0,0,0,0,0,0.305172830800583,0,0.325372758091149,0.606922170992166,0,2.32460295041124,2.66770560371954,2.13424828235447,2.61386429124718,2.80697780961742,2.63639606540491,3.30199404846374,6.25951487027467,9.81090886945916,17.3391933639802,29.4847930245993,57.66587660102,105.055867770751,179.613900468851,165.682107762392,86.0325804365453,27.6242524624491,8.61640105664826,1.82688316848433,0.730042658825814,0,0,0,0,0,0,0,0,0,0,0,0,0,0,0.337266057539063,0,0,0.64141887095569,0.925713140100087,0.840237937443639,0.403579358817249,0.673066716702009,2.49531846015865,1.63145324554712,3.63322808064552,2.94180740387481,4.65327941520759,6.63045892027434,10.0440663786494,11.8958177800996,22.3487800744882,35.1368392718136,86.3163052744417,118.23746302274,106.104528828108,50.2559106733056,14.6690551134638,2.4504435833391,0,0,0,0,0,0,0,0,0,0,0,0,0,0,0,0,0.318426834503065,0,0.380421185562333,0,0.371035011976991,1.45399065325752,1.64807495615482,1.09892173222772,1.97807126251618,2.28851232230965,2.25293014423917,2.14595091582583,2.25501415048242,3.60007583033172,3.16927012513997,5.16358936132859,12.5804237950556,23.7214742681894,49.4485970879505,60.931777423263,51.6686973862109,18.0903270151314,0,0,0,0,0,0,0,0,0,0,0,0,0,0,0,0.333725442607607,0.344270114766792,1.01610055374878,0,0.602764110909367,0.779100990176607,0.288544255878444,1.5695411901892,1.06688415032955,2.18549971011035,1.0268836189096,1.95810356405672,2.98308539181433,3.72423547330183,1.75332342526655,2.57511555982578,2.88642911668624,3.43979781246882,2.82808103436822,4.9869306469246,7.2979840701625,15.0611320513286,39.8920213163285,0.56729497118544,0,0,0,0,0,0,0,0,0,0,0,0,0,0,0,0,0,0,0,0,0,0,0,0,0,0,0,0,0,0,0,0,0,0,0,0,0,0,0]},{\"_typename\":\"TPaveText\",\"fUniqueID\":0,\"fBits\":50331657,\"fLineColor\":1,\"fLineStyle\":1,\"fLineWidth\":1,\"fFillColor\":0,\"fFillStyle\":0,\"fX1\":0.0489121860389908,\"fY1\":0.629228332211757,\"fX2\":0.571087813961009,\"fY2\":0.693625009411946,\"fX1NDC\":0.163112503134842,\"fY1NDC\":0.911907519296624,\"fX2NDC\":0.836887496865158,\"fY2NDC\":0.995000004768372,\"fBorderSize\":0,\"fInit\":1,\"fShadowColor\":1,\"fCornerRadius\":0,\"fOption\":\"blNDC\",\"fName\":\"title\",\"fTextAngle\":0,\"fTextSize\":0,\"fTextAlign\":22,\"fTextColor\":1,\"fTextFont\":42,\"fLabel\":\"\",\"fLongest\":40,\"fMargin\":0.05,\"fLines\":{\"_typename\":\"TList\",\"name\":\"TList\",\"arr\":[{\"_typename\":\"TLatex\",\"fUniqueID\":0,\"fBits\":50331648,\"fName\":\"\",\"fTitle\":\"Response Matrix #tau_{1}^{(1)} binning 6\",\"fTextAngle\":0,\"fTextSize\":0,\"fTextAlign\":0,\"fTextColor\":0,\"fTextFont\":0,\"fX\":0,\"fY\":0,\"fLineColor\":1,\"fLineStyle\":1,\"fLineWidth\":2,\"fLimitFactorSize\":3,\"fOriginSize\":0.0556159242987633}],\"opt\":[\"\"]}}],\"opt\":[\"\",\"colz\",\"blNDC\"]},\"fExecs\":{\"_typename\":\"TList\",\"name\":\"TList\",\"arr\":[],\"opt\":[]},\"fName\":\"c6_6\",\"fTitle\":\"c6_6\",\"fNumPaletteColor\":0,\"fNextPaletteColor\":0}],\"opt\":[\"\",\"\",\"\",\"\",\"\",\"\"]},\"fExecs\":null,\"fName\":\"c6\",\"fTitle\":\"c6\",\"fNumPaletteColor\":0,\"fNextPaletteColor\":0,\"fDISPLAY\":\"$DISPLAY\",\"fDoubleBuffer\":0,\"fRetained\":true,\"fXsizeUser\":0,\"fYsizeUser\":0,\"fXsizeReal\":20,\"fYsizeReal\":12,\"fWindowTopX\":0,\"fWindowTopY\":0,\"fWindowWidth\":0,\"fWindowHeight\":0,\"fCw\":1196,\"fCh\":692,\"fCatt\":{\"_typename\":\"TAttCanvas\",\"fXBetween\":2,\"fYBetween\":2,\"fTitleFromTop\":1.2,\"fXdate\":0.2,\"fYdate\":0.3,\"fAdate\":1},\"kMoveOpaque\":true,\"kResizeOpaque\":true,\"fHighLightColor\":2,\"fBatch\":true,\"kShowEventStatus\":false,\"kAutoExec\":true,\"kMenuBar\":true});\n",
       "       Core.draw(\"root_plot_7\", obj, \"\");\n",
       "     }\n",
       " );\n",
       "</script>\n"
      ],
      "text/plain": [
       "<IPython.core.display.HTML object>"
      ]
     },
     "metadata": {},
     "output_type": "display_data"
    }
   ],
   "source": [
    "c6 = ROOT.TCanvas('c6', 'c6',1200, 720)\n",
    "c6.Divide(3,2)\n",
    "for i in xrange(len(h_responses)):\n",
    "    c6.cd(i+1)\n",
    "    h_responses[i].Draw(\"colz\")\n",
    "    \n",
    "c6.Draw()\n",
    "c6.SaveAs(\"tau1_1_responses_Wsel_powheg.png\")\n",
    "#c6.SaveAs(\"tau1_1_responses_Wsel_powheg.pdf\")"
   ]
  },
  {
   "cell_type": "markdown",
   "metadata": {},
   "source": [
    "# Unfolding $\\tau_{1}^{(2)}$ with background subtraction"
   ]
  },
  {
   "cell_type": "code",
   "execution_count": 73,
   "metadata": {},
   "outputs": [],
   "source": [
    "Wjets_gen_tau1_2 = Wjets_gen_nSub_basis[:,2]\n",
    "\n",
    "ST1_gen_tau1_2 = ST1_gen_nSub_basis[:,2]\n",
    "\n",
    "ST2_gen_tau1_2 = ST2_gen_nSub_basis[:,2]\n",
    "\n",
    "ST3_gen_tau1_2 = ST3_gen_nSub_basis[:,2]\n",
    "\n",
    "ST4_gen_tau1_2 = ST4_gen_nSub_basis[:,2]\n",
    "\n",
    "ST5_gen_tau1_2 = ST5_gen_nSub_basis[:,2]\n",
    "\n",
    "TTbar_gen_tau1_2 = TTbar_gen_nSub_basis[:,2]"
   ]
  },
  {
   "cell_type": "code",
   "execution_count": 74,
   "metadata": {},
   "outputs": [],
   "source": [
    "Wjets_reco_tau1_2 = Wjets_reco_nSub_basis[:,2]\n",
    "\n",
    "ST1_reco_tau1_2 = ST1_reco_nSub_basis[:,2]\n",
    "\n",
    "ST2_reco_tau1_2 = ST2_reco_nSub_basis[:,2]\n",
    "\n",
    "ST3_reco_tau1_2 = ST3_reco_nSub_basis[:,2]\n",
    "\n",
    "ST4_reco_tau1_2 = ST4_reco_nSub_basis[:,2]\n",
    "\n",
    "ST5_reco_tau1_2 = ST5_reco_nSub_basis[:,2]\n",
    "\n",
    "TTbar_reco_tau1_2 = TTbar_reco_nSub_basis[:,2]"
   ]
  },
  {
   "cell_type": "code",
   "execution_count": 75,
   "metadata": {},
   "outputs": [],
   "source": [
    "MC_sig_reco_tau1_2 = TTbar_reco_tau1_2\n",
    "MC_sig_gen_tau1_2 = TTbar_gen_tau1_2\n",
    "\n",
    "MC_bkg_reco_tau1_2 = np.concatenate((ST1_reco_tau1_2,ST2_reco_tau1_2,ST3_reco_tau1_2,ST4_reco_tau1_2,ST5_reco_tau1_2,Wjets_reco_tau1_2))\n",
    "MC_bkg_gen_tau1_2 = np.concatenate((ST1_gen_tau1_2,ST2_gen_tau1_2,ST3_gen_tau1_2,ST4_gen_tau1_2,ST5_gen_tau1_2,Wjets_gen_tau1_2))\n",
    "\n",
    "data_tau1_2 = data_nSub_basis[:,2]\n",
    "weights_MC_sig = weight_TTbar\n",
    "weights_MC_bkg = np.concatenate((weight_ST1,weight_ST2,weight_ST3,weight_ST4,weight_ST5,weight_Wjets))"
   ]
  },
  {
   "cell_type": "markdown",
   "metadata": {
    "collapsed": true
   },
   "source": [
    "Get the response matrix and input 1D distributions for unfolding."
   ]
  },
  {
   "cell_type": "code",
   "execution_count": 76,
   "metadata": {},
   "outputs": [
    {
     "name": "stdout",
     "output_type": "stream",
     "text": [
      "0.0007243925356306136\n",
      "0.009972157888114452\n",
      "0.3995612561702728\n",
      "0.3651953935623169 \n",
      "\n",
      "0.005161082837730646\n",
      "0.008174494840204716\n",
      "0.32965120673179626\n",
      "0.31853029131889343 \n",
      "\n",
      "0.010740995407104492\n",
      "0.3654438257217407\n"
     ]
    }
   ],
   "source": [
    "print np.min(MC_sig_gen_tau1_2)\n",
    "print np.min(MC_sig_reco_tau1_2)\n",
    "print np.max(MC_sig_gen_tau1_2)\n",
    "print np.max(MC_sig_reco_tau1_2), \"\\n\"\n",
    "\n",
    "\n",
    "print np.min(MC_bkg_gen_tau1_2)\n",
    "print np.min(MC_bkg_reco_tau1_2)\n",
    "print np.max(MC_bkg_gen_tau1_2)\n",
    "print np.max(MC_bkg_reco_tau1_2), \"\\n\"\n",
    "\n",
    "\n",
    "print np.min(data_tau1_2)\n",
    "print np.max(data_tau1_2)"
   ]
  },
  {
   "cell_type": "markdown",
   "metadata": {
    "collapsed": true
   },
   "source": [
    "#### Set the axis ranges for the generator nd detector level distributions as well as the number of bins in each. Note that we want twice as many detector bins as generator level bins as recommended by the TUnfold documenation "
   ]
  },
  {
   "cell_type": "raw",
   "metadata": {},
   "source": [
    "gen_bins = np.array([x for x in np.linspace(num=9, start=0., stop=0.26)])\n",
    "gen_bins = np.concatenate((gen_bins, np.array([0.33, 0.4])))\n",
    "print gen_bins, gen_bins.shape[0]\n",
    "\n",
    "det_bins = np.array([x for x in np.linspace(num=17, start=0., stop=0.26)])\n",
    "det_bins = np.concatenate((det_bins, np.array([0.295, 0.33, 0.365, 0.4])))\n",
    "print det_bins, det_bins.shape[0]"
   ]
  },
  {
   "cell_type": "markdown",
   "metadata": {
    "collapsed": true
   },
   "source": [
    "### Get the response matrix and input 1D distributions for unfolding."
   ]
  },
  {
   "cell_type": "markdown",
   "metadata": {
    "collapsed": true
   },
   "source": [
    "#### Set the axis ranges for the generator nd detector level distributions as well as the number of bins in each. Note that we want twice as many detector bins as generator level bins as recommended by the TUnfold documenation "
   ]
  },
  {
   "cell_type": "code",
   "execution_count": 119,
   "metadata": {},
   "outputs": [
    {
     "name": "stdout",
     "output_type": "stream",
     "text": [
      "[0.     0.0325 0.065  0.0975 0.13   0.1625 0.195  0.2275 0.26   0.33\n",
      " 0.4   ] 11\n",
      "[0.      0.01625 0.0325  0.04875 0.065   0.08125 0.0975  0.11375 0.13\n",
      " 0.14625 0.1625  0.17875 0.195   0.21125 0.2275  0.24375 0.26    0.295\n",
      " 0.33    0.365   0.4    ] 21\n"
     ]
    }
   ],
   "source": [
    "gen_bins1 = np.array([x for x in np.linspace(num=9, start=0., stop=0.26)])\n",
    "gen_bins1 = np.concatenate(( gen_bins1, np.array([0.33, 0.4])))\n",
    "print gen_bins1, gen_bins1.shape[0]\n",
    "\n",
    "det_bins1 = np.array([x for x in np.linspace(num=17, start=0., stop=0.26)])\n",
    "det_bins1 = np.concatenate((det_bins1, np.array([0.295, 0.33, 0.365, 0.4])))\n",
    "print det_bins1, det_bins1.shape[0]"
   ]
  },
  {
   "cell_type": "code",
   "execution_count": 120,
   "metadata": {},
   "outputs": [
    {
     "name": "stdout",
     "output_type": "stream",
     "text": [
      "[0.    0.026 0.052 0.078 0.104 0.13  0.156 0.182 0.208 0.234 0.26  0.33\n",
      " 0.4  ] 13\n",
      "[0.    0.013 0.026 0.039 0.052 0.065 0.078 0.091 0.104 0.117 0.13  0.143\n",
      " 0.156 0.169 0.182 0.195 0.208 0.221 0.234 0.247 0.26  0.295 0.33  0.365\n",
      " 0.4  ] 25\n"
     ]
    }
   ],
   "source": [
    "gen_bins2 = np.array([x for x in np.linspace(num=11, start=0., stop=0.26)])\n",
    "gen_bins2 = np.concatenate(( gen_bins2, np.array([0.33, 0.4])))\n",
    "print gen_bins2, gen_bins2.shape[0]\n",
    "\n",
    "det_bins2 = np.array([x for x in np.linspace(num=21, start=0., stop=0.26)])\n",
    "det_bins2 = np.concatenate((det_bins2, np.array([0.295, 0.33, 0.365, 0.4])))\n",
    "print det_bins2, det_bins2.shape[0]"
   ]
  },
  {
   "cell_type": "code",
   "execution_count": 121,
   "metadata": {},
   "outputs": [
    {
     "name": "stdout",
     "output_type": "stream",
     "text": [
      "[0.   0.02 0.04 0.06 0.08 0.1  0.12 0.14 0.16 0.18 0.2  0.22 0.24 0.26\n",
      " 0.33 0.4 ] 16\n",
      "[0.    0.01  0.02  0.03  0.04  0.05  0.06  0.07  0.08  0.09  0.1   0.11\n",
      " 0.12  0.13  0.14  0.15  0.16  0.17  0.18  0.19  0.2   0.21  0.22  0.23\n",
      " 0.24  0.25  0.26  0.295 0.33  0.365 0.4  ] 31\n"
     ]
    }
   ],
   "source": [
    "gen_bins3 = np.array([x for x in np.linspace(num=14, start=0., stop=0.26)])\n",
    "gen_bins3 = np.concatenate(( gen_bins3, np.array([0.33, 0.4])))\n",
    "print gen_bins3, gen_bins3.shape[0]\n",
    "\n",
    "det_bins3 = np.array([x for x in np.linspace(num=27, start=0., stop=0.26)])\n",
    "det_bins3 = np.concatenate((det_bins3, np.array([0.295, 0.33, 0.365, 0.4])))\n",
    "print det_bins3, det_bins3.shape[0]"
   ]
  },
  {
   "cell_type": "code",
   "execution_count": 122,
   "metadata": {},
   "outputs": [
    {
     "name": "stdout",
     "output_type": "stream",
     "text": [
      "[0.    0.045 0.09  0.135 0.18  0.225 0.27  0.33  0.4  ] 9\n",
      "[0.     0.0225 0.045  0.0675 0.09   0.1125 0.135  0.1575 0.18   0.2025\n",
      " 0.225  0.2475 0.27   0.3    0.33   0.365  0.4   ] 17\n"
     ]
    }
   ],
   "source": [
    "gen_bins4 = np.array([x for x in np.linspace(num=7, start=0., stop=0.27)])\n",
    "gen_bins4 = np.concatenate(( gen_bins4, np.array([0.33, 0.4])))\n",
    "print gen_bins4, gen_bins4.shape[0]\n",
    "\n",
    "det_bins4 = np.array([x for x in np.linspace(num=13, start=0., stop=0.27)])\n",
    "det_bins4 = np.concatenate((det_bins4, np.array([0.3, 0.33, 0.365, 0.4])))\n",
    "print det_bins4, det_bins4.shape[0]"
   ]
  },
  {
   "cell_type": "code",
   "execution_count": 123,
   "metadata": {},
   "outputs": [
    {
     "name": "stdout",
     "output_type": "stream",
     "text": [
      "[0.      0.03375 0.0675  0.10125 0.135   0.16875 0.2025  0.23625 0.27\n",
      " 0.33    0.4    ] 11\n",
      "[0.       0.016875 0.03375  0.050625 0.0675   0.084375 0.10125  0.118125\n",
      " 0.135    0.151875 0.16875  0.185625 0.2025   0.219375 0.23625  0.253125\n",
      " 0.27     0.3      0.33     0.365    0.4     ] 21\n"
     ]
    }
   ],
   "source": [
    "gen_bins5 = np.array([x for x in np.linspace(num=9, start=0., stop=0.27)])\n",
    "gen_bins5 = np.concatenate(( gen_bins5, np.array([0.33, 0.4])))\n",
    "print gen_bins5, gen_bins5.shape[0]\n",
    "\n",
    "det_bins5 = np.array([x for x in np.linspace(num=17, start=0., stop=0.27)])\n",
    "det_bins5 = np.concatenate((det_bins5, np.array([0.3, 0.33, 0.365, 0.4])))\n",
    "print det_bins5, det_bins5.shape[0]"
   ]
  },
  {
   "cell_type": "code",
   "execution_count": 124,
   "metadata": {},
   "outputs": [
    {
     "name": "stdout",
     "output_type": "stream",
     "text": [
      "[0.    0.027 0.054 0.081 0.108 0.135 0.162 0.189 0.216 0.243 0.27  0.33\n",
      " 0.4  ] 13\n",
      "[0.     0.0135 0.027  0.0405 0.054  0.0675 0.081  0.0945 0.108  0.1215\n",
      " 0.135  0.1485 0.162  0.1755 0.189  0.2025 0.216  0.2295 0.243  0.2565\n",
      " 0.27   0.3    0.33   0.365  0.4   ] 25\n"
     ]
    }
   ],
   "source": [
    "gen_bins6 = np.array([x for x in np.linspace(num=11, start=0., stop=0.27)])\n",
    "gen_bins6 = np.concatenate(( gen_bins6, np.array([0.33, 0.4])))\n",
    "print gen_bins6, gen_bins6.shape[0]\n",
    "\n",
    "det_bins6 = np.array([x for x in np.linspace(num=21, start=0., stop=0.27)])\n",
    "det_bins6 = np.concatenate((det_bins6, np.array([0.3, 0.33, 0.365, 0.4])))\n",
    "print det_bins6, det_bins6.shape[0]"
   ]
  },
  {
   "cell_type": "code",
   "execution_count": 139,
   "metadata": {},
   "outputs": [
    {
     "name": "stdout",
     "output_type": "stream",
     "text": [
      "[0.    0.05  0.085 0.12  0.155 0.19  0.225 0.26  0.33  0.4  ] 10\n",
      "[0.     0.025  0.05   0.0675 0.085  0.1025 0.12   0.1375 0.155  0.1725\n",
      " 0.19   0.2075 0.225  0.2425 0.26   0.295  0.33   0.365  0.4   ] 19\n"
     ]
    }
   ],
   "source": [
    "gen_bins7 = np.array([x for x in np.linspace(num=7, start=0.05, stop=0.26)])\n",
    "gen_bins7 = np.concatenate((np.array([0.]), gen_bins7, np.array([0.33, 0.4])))\n",
    "print gen_bins7, gen_bins7.shape[0]\n",
    "\n",
    "det_bins7 = np.array([x for x in np.linspace(num=13, start=0.05, stop=0.26)])\n",
    "det_bins7 = np.concatenate((np.array([0., 0.025]), det_bins7, np.array([0.295, 0.33, 0.365, 0.4])))\n",
    "print det_bins7, det_bins7.shape[0]"
   ]
  },
  {
   "cell_type": "code",
   "execution_count": 140,
   "metadata": {},
   "outputs": [
    {
     "name": "stdout",
     "output_type": "stream",
     "text": [
      "[0.      0.05    0.07625 0.1025  0.12875 0.155   0.18125 0.2075  0.23375\n",
      " 0.26    0.33    0.4    ] 12\n",
      "[0.       0.025    0.05     0.063125 0.07625  0.089375 0.1025   0.115625\n",
      " 0.12875  0.141875 0.155    0.168125 0.18125  0.194375 0.2075   0.220625\n",
      " 0.23375  0.246875 0.26     0.295    0.33     0.365    0.4     ] 23\n"
     ]
    }
   ],
   "source": [
    "gen_bins8 = np.array([x for x in np.linspace(num=9, start=0.05, stop=0.26)])\n",
    "gen_bins8 = np.concatenate(( np.array([0.]), gen_bins8, np.array([0.33, 0.4])))\n",
    "print gen_bins8, gen_bins8.shape[0]\n",
    "\n",
    "det_bins8 = np.array([x for x in np.linspace(num=17, start=0.05, stop=0.26)])\n",
    "det_bins8 = np.concatenate((np.array([0., 0.025]), det_bins8, np.array([0.295, 0.33, 0.365, 0.4])))\n",
    "print det_bins8, det_bins8.shape[0]"
   ]
  },
  {
   "cell_type": "code",
   "execution_count": 141,
   "metadata": {},
   "outputs": [
    {
     "name": "stdout",
     "output_type": "stream",
     "text": [
      "[0.    0.05  0.071 0.092 0.113 0.134 0.155 0.176 0.197 0.218 0.239 0.26\n",
      " 0.33  0.4  ] 14\n",
      "[0.     0.025  0.05   0.0605 0.071  0.0815 0.092  0.1025 0.113  0.1235\n",
      " 0.134  0.1445 0.155  0.1655 0.176  0.1865 0.197  0.2075 0.218  0.2285\n",
      " 0.239  0.2495 0.26   0.295  0.33   0.365  0.4   ] 27\n"
     ]
    }
   ],
   "source": [
    "gen_bins9 = np.array([x for x in np.linspace(num=11, start=0.05, stop=0.26)])\n",
    "gen_bins9 = np.concatenate((np.array([0.]), gen_bins9, np.array([0.33, 0.4])))\n",
    "print gen_bins9, gen_bins9.shape[0]\n",
    "\n",
    "det_bins9 = np.array([x for x in np.linspace(num=21, start=0.05, stop=0.26)])\n",
    "det_bins9 = np.concatenate((np.array([0., 0.025]), det_bins9, np.array([0.295, 0.33, 0.365, 0.4])))\n",
    "print det_bins9, det_bins9.shape[0]"
   ]
  },
  {
   "cell_type": "code",
   "execution_count": 142,
   "metadata": {},
   "outputs": [],
   "source": [
    "det_bins_arr = [det_bins1, det_bins2, det_bins3, det_bins4, det_bins5, det_bins6, det_bins7, det_bins8, det_bins9]\n",
    "gen_bins_arr = [gen_bins1, gen_bins2, gen_bins3, gen_bins4, gen_bins5, gen_bins6, gen_bins7, gen_bins8, gen_bins9 ]"
   ]
  },
  {
   "cell_type": "raw",
   "metadata": {},
   "source": [
    "gen_bins = np.array([x for x in np.linspace(num=11, start=0., stop=1.)])\n",
    "print gen_bins, gen_bins.shape[0]\n",
    "\n",
    "det_bins = np.array([x for x in np.linspace(num=21, start=0., stop=1.)])\n",
    "print det_bins, det_bins.shape[0]"
   ]
  },
  {
   "cell_type": "markdown",
   "metadata": {},
   "source": [
    "#### Fill histograms for sig and bkg. MC separately in this case (as one should!)"
   ]
  },
  {
   "cell_type": "code",
   "execution_count": 143,
   "metadata": {},
   "outputs": [],
   "source": [
    "def fill_hists(gen_bins, det_bins, MC_sig_reco_obs, MC_sig_gen_obs, MC_bkg_reco_obs, MC_bkg_gen_obs, data_obs):\n",
    "        \n",
    "    histMgenMC_bkg = ROOT.TH1D(\"histMgenMC_bkg\", \"histMgenMC_bkg; #tau_{1}^{(2)}; Events/(0.02)\",  gen_bins.shape[0]-1, (gen_bins))\n",
    "    fill_hist(histMgenMC_bkg, MC_bkg_gen_obs, weights=weights_MC_bkg)\n",
    "\n",
    "    histMdetMC_bkg = ROOT.TH1D(\"histMdetMC_bkg\", \"histMdetMC_bkg; #tau_{1}^{(2)}; Events/(0.02)\", det_bins.shape[0]-1, (det_bins))\n",
    "    fill_hist(histMdetMC_bkg, MC_bkg_reco_obs, weights=weights_MC_bkg)\n",
    "\n",
    "    histMgenMC_sig = ROOT.TH1D(\"histMgenMC_sig\", \"histMgenMC_sig; #tau_{1}^{(2)}; Events/(0.02)\",  gen_bins.shape[0]-1, (gen_bins))\n",
    "    fill_hist(histMgenMC_sig, MC_sig_gen_obs, weights=weights_MC_sig)\n",
    "\n",
    "    histMdetMC_sig = ROOT.TH1D(\"histMdetMC_sig\", \"histMdetMC_sig; #tau_{1}^{(2)}; Events/(0.02)\", det_bins.shape[0]-1, (det_bins))\n",
    "    fill_hist(histMdetMC_sig, MC_sig_reco_obs, weights=weights_MC_sig)\n",
    "\n",
    "    #histMgenData = ROOT.TH1D(\"histMgenData\", \"histMgenData; #tau_{1}^{(2)}; Events/(0.02)\", gen_bins.shape[0]-1, (gen_bins))\n",
    "    #fill_hist(histMgenData, TTbartruth_nSub_basis[:,4]/TTbartruth_nSub_basis[:,1])\n",
    "\n",
    "    histMdetData = ROOT.TH1D(\"histMdetData\", \"histMdetData; #tau_{1}^{(2)}; Events/(0.02)\", det_bins.shape[0]-1, (det_bins))\n",
    "    fill_hist(histMdetData, data_obs)\n",
    "\n",
    "    histMgenMC_bkg.SetTitle(\";#tau_{1}^{(2)}(gen_bkg)\")\n",
    "    histMdetMC_bkg.SetTitle(\";#tau_{1}^{(2)}(det_bkg)\")\n",
    "    histMgenMC_sig.SetTitle(\";#tau_{1}^{(2)}(gen_sig)\")\n",
    "    histMdetMC_sig.SetTitle(\";#tau_{1}^{(2)}(det_sig)\")\n",
    "    histMdetData.SetTitle(\";#tau_{1}^{(2)}(data)\")\n",
    "\n",
    "\n",
    "    ### Fill response matrix\n",
    "\n",
    "    response = ROOT.TH2D('response', 'response', det_bins.shape[0]-1, det_bins, gen_bins.shape[0]-1, gen_bins)\n",
    "    hist2Dfill = np.zeros((MC_sig_reco_obs.shape[0], 2))\n",
    "    hist2Dfill[:,0] = MC_sig_reco_obs.flatten()\n",
    "    hist2Dfill[:,1] = MC_sig_gen_obs.flatten()\n",
    "    fill_hist(response, hist2Dfill, weights_MC_sig)\n",
    "    response.SetTitle(\"Nominal Response Matrix;#tau_{1}^{(2)}(det_sig);#tau_{1}^{(2)}(gen_sig)\")\n",
    "\n",
    "    '''\n",
    "    ##### Normalise the distributions, draw them and the response matrix.\n",
    "\n",
    "    norm_genMC_bkg = histMgenMC_bkg.Integral()\n",
    "    print norm_genMC_bkg\n",
    "\n",
    "    norm_recoMC_bkg = histMdetMC_bkg.Integral()\n",
    "    print norm_recoMC_bkg\n",
    "\n",
    "    norm_genMC_sig = histMgenMC_sig.Integral()\n",
    "    print norm_genMC_sig\n",
    "\n",
    "    norm_recoMC_sig = histMdetMC_sig.Integral()\n",
    "    print norm_recoMC_sig\n",
    "\n",
    "    #norm_genData = histMgenData.Integral()\n",
    "    #print norm_genData\n",
    "\n",
    "    norm_detData = histMdetData.Integral()\n",
    "    print norm_detData\n",
    "\n",
    "    hMC_gen_bkg = ROOT.TH1D(histMgenMC_bkg)\n",
    "    #hMC_gen_bkg.Scale(1./norm_genMC_bkg)\n",
    "\n",
    "    hMC_reco_bkg = ROOT.TH1D(histMdetMC_bkg)\n",
    "    #hMC_reco_bkg.Scale(1./norm_recoMC_bkg)\n",
    "\n",
    "    hMC_gen_sig = ROOT.TH1D(histMgenMC_sig)\n",
    "    #hMC_gen_sig.Scale(1./norm_genMC_sig)\n",
    "\n",
    "    hMC_reco_sig = ROOT.TH1D(histMdetMC_sig)\n",
    "    #hMC_reco_sig.Scale(1./norm_recoMC_sig)\n",
    "\n",
    "    hMC_data = ROOT.TH1D(histMdetData)\n",
    "    #histMgenData.Scale(1./norm_genData)\n",
    "    #histMdetData.Scale(1./norm_detData)\n",
    "\n",
    "    histMgenMC_bkg.Scale(1./norm_genMC_bkg)\n",
    "    histMdetMC_bkg.Scale(1./norm_recoMC_bkg)\n",
    "    histMgenMC_sig.Scale(1./norm_genMC_sig)\n",
    "    histMdetMC_sig.Scale(1./norm_recoMC_sig)\n",
    "\n",
    "    #histMgenData.Scale(1./norm_genData)\n",
    "    histMdetData.Scale(1./norm_detData)\n",
    "    '''\n",
    "    \n",
    "    return histMgenMC_bkg, histMdetMC_bkg, histMgenMC_sig, histMdetMC_sig, histMdetData, response"
   ]
  },
  {
   "cell_type": "markdown",
   "metadata": {},
   "source": [
    "### Purity and Stability calculation"
   ]
  },
  {
   "cell_type": "markdown",
   "metadata": {},
   "source": [
    "We define purity as the fraction of reconstructed events that are generated in the same bin, \n",
    "and stability as the fraction of generated events that are reconstructed in the same\n",
    "bin, divided by the overall reconstruction efficiency per bin. "
   ]
  },
  {
   "cell_type": "code",
   "execution_count": 144,
   "metadata": {
    "scrolled": true
   },
   "outputs": [],
   "source": [
    "def purity_stability_calc(gen_bins, MC_sig_gen_obs, det_bins, MC_sig_reco_obs, verbose=True ):\n",
    "    \n",
    "    purity = ROOT.TH1D(\"purity\", \"Purity and stability study; #tau_{1}^{2}; \",  gen_bins.shape[0]-1, (gen_bins))\n",
    "    stability = ROOT.TH1D(\"stability\", \"Purity and stability study; #tau_{1}^{2}; \",  gen_bins.shape[0]-1, (gen_bins))\n",
    "    efficiency = ROOT.TH1D(\"efficiency\", \"Purity and stability study; #tau_{1}^{2}; \",  gen_bins.shape[0]-1, (gen_bins))\n",
    "\n",
    "    gen_arr = MC_sig_gen_obs[:]\n",
    "    gen_bin_index = np.digitize(gen_arr, gen_bins)\n",
    "    if verbose: print gen_bin_index\n",
    "    \n",
    "    det_arr = MC_sig_reco_obs[:]\n",
    "    det_bin_index = np.digitize(det_arr, gen_bins)\n",
    "    det_bin_index2 = np.digitize(det_arr, det_bins)\n",
    "    \n",
    "    ndet_pergenbin = [0.] #N_recgen array = number of events generated in and reconstructed in gen bin i\n",
    "    ndet_genanywhere = [0.] # number of events reconstructed in gen _bin i but generated anywhere\n",
    "    ngen_detanywhere = [0.] # number of events generated in gen _bin i but reconstructed anywhere\n",
    "\n",
    "    ### purity = # of evts generated and reconstructed in gen bin i / # of evts reconstructed in gen bin i but generated anywhere\n",
    "    ### stability = # of evts generated and reconstructed in gen bin / # of evts generated in gen bin i but reconstructed anywhere\n",
    "    print \"Setting contents for P, S, eff. histos\"\n",
    "\n",
    "    for i in xrange(0, gen_bins.shape[0]-1):\n",
    "\n",
    "        #print i+1\n",
    "        for k in xrange(0, gen_bin_index.shape[0]):\n",
    "\n",
    "            if gen_bin_index[k]==i+1: \n",
    "                ngen_detanywhere[i]+=1 #stability denominator\n",
    "                if det_bin_index[k]==i+1: ndet_pergenbin[i]+=1\n",
    "\n",
    "        ngen_detanywhere.append(0.)\n",
    "        ndet_pergenbin.append(0.)\n",
    "\n",
    "        for k in xrange(0, det_bin_index.shape[0]):\n",
    "\n",
    "            if det_bin_index[k]==i+1: \n",
    "                ndet_genanywhere[i]+=1 #purity denominator\n",
    "\n",
    "        ndet_genanywhere.append(0.)\n",
    "\n",
    "        if verbose: print \"Setting contents for P, S, eff. histos, in bin %d\"%(i+1)\n",
    "        purity.SetBinContent(i+1, ndet_pergenbin[i]/ndet_genanywhere[i])\n",
    "        stability.SetBinContent(i+1, ndet_pergenbin[i]/ngen_detanywhere[i])\n",
    "        efficiency.SetBinContent(i+1, ndet_pergenbin[i]/43107.)\n",
    "\n",
    "\n",
    "    ndet_pergenbin = np.array(ndet_pergenbin)\n",
    "    ndet_genanywhere = np.array(ndet_genanywhere)\n",
    "    ngen_detanywhere = np.array(ngen_detanywhere)\n",
    "\n",
    "    try:\n",
    "        if verbose:print \"\\n\\n+++++++++Pure and Stable! :)+++++++++++++\\n\\n\"\n",
    "        if verbose: print ndet_pergenbin,\"\\n\"\n",
    "        if verbose: print ndet_genanywhere,\"\\n\"\n",
    "        purity_arr = ndet_pergenbin/ndet_genanywhere\n",
    "        if verbose:print \"Purity array:\", purity_arr[:-1], \"\\n\"\n",
    "\n",
    "        if verbose: print ndet_pergenbin,\"\\n\"\n",
    "        if verbose: print ngen_detanywhere,\"\\n\"\n",
    "        stability_arr = ndet_pergenbin/ngen_detanywhere\n",
    "        if verbose:print \"Stability array:\", stability_arr[:-1], \"\\n\"\n",
    "\n",
    "        if verbose:print \"+++++Efficiency+++++\\n\"\n",
    "        efficiency_arr = ndet_pergenbin/np.sum(ngen_detanywhere)\n",
    "        if verbose:print \"Efficiency array:\", efficiency_arr[:-1]\n",
    "\n",
    "\n",
    "        purity.SetLineColor(ROOT.kRed)\n",
    "        purity.SetLineWidth(2)\n",
    "        purity.SetLineStyle(2)\n",
    "        purity.SetMinimum(0.)\n",
    "        purity.SetMaximum(1.05)\n",
    "\n",
    "        stability.SetLineColor(9)\n",
    "        stability.SetLineWidth(2)\n",
    "        stability.SetLineStyle(2)\n",
    "        stability.SetMinimum(0.)\n",
    "        stability.SetMaximum(1.05)\n",
    "        stability.SetTitle(\"t#bar{t} 2016, W-selection \")\n",
    "        \n",
    "\n",
    "        return purity, stability\n",
    "    except:\n",
    "        print \"didn't work, binning issues probably the cause\"\n",
    "        return -1,-1"
   ]
  },
  {
   "cell_type": "markdown",
   "metadata": {},
   "source": [
    "### Unfolding "
   ]
  },
  {
   "cell_type": "code",
   "execution_count": 145,
   "metadata": {},
   "outputs": [],
   "source": [
    "def doUnfolding(response, histMdetData, histMdetMC_sig, histMdetMC_bkg, histMgenMC_sig):\n",
    "\n",
    "    print 'getting tunfolder:'\n",
    "\n",
    "    orientation = ROOT.TUnfoldDensity.kHistMapOutputHoriz\n",
    "    regMode = ROOT.TUnfoldDensity.kRegModeCurvature\n",
    "    con = ROOT.TUnfoldDensity.kEConstraintNone\n",
    "    mode =  ROOT.TUnfoldDensity.kDensityModeBinWidth\n",
    "    errmode = ROOT.TUnfoldSys.kSysErrModeMatrix\n",
    "    #tunfolder_MC = ROOT.TUnfoldDensity(response, orientation, regMode, con, mode, \"signal\", \"*[UOb]\")\n",
    "    #tunfolder_data = ROOT.TUnfoldDensity(response, orientation, regMode, con, mode, \"signal\", \"*[UOb]\")\n",
    "\n",
    "    tunfolder_MC = ROOT.TUnfoldDensity(response,ROOT.TUnfold.kHistMapOutputVert,ROOT.TUnfold.kRegModeCurvature, ROOT.TUnfold.kEConstraintNone, ROOT.TUnfoldDensity.kDensityModeBinWidth)\n",
    "    tunfolder_data = ROOT.TUnfoldDensity(response,ROOT.TUnfold.kHistMapOutputVert,ROOT.TUnfold.kRegModeCurvature, ROOT.TUnfold.kEConstraintNone, ROOT.TUnfoldDensity.kDensityModeBinWidth)\n",
    "\n",
    "    print 'setting reco input'\n",
    "    tunfolder_data.SetInput( histMdetData )\n",
    "    tunfolder_data.SubtractBackground( histMdetMC_bkg, \"bkg_all\", 1. )\n",
    "\n",
    "    print 'setting reco MC input'\n",
    "    tunfolder_MC.SetInput( histMdetMC_sig )\n",
    "    #tunfolder_MC.SubtractBackground( histMdetMC_bkg, \"bkg_all\", 1. )\n",
    "\n",
    "    unfolded_data = tunfolder_data.DoUnfold(0.)\n",
    "    unfolded_data = tunfolder_data.GetOutput(\"unfolded_data\")\n",
    "\n",
    "    unfolded_MC = tunfolder_MC.DoUnfold(0.)\n",
    "    unfolded_MC = tunfolder_MC.GetOutput(\"closure_unfolded_MC\")\n",
    "\n",
    "\n",
    "    unfolded_MC.SetMarkerStyle(2)\n",
    "    unfolded_MC.SetMarkerColor(7)\n",
    "    unfolded_MC.SetLineColor(7)\n",
    "    unfolded_MC.SetLineWidth(1)\n",
    "    #unfolded_MC.Rebin(2)\n",
    "\n",
    "    unfolded_data.SetMarkerStyle(22)\n",
    "    unfolded_data.SetMarkerColor(1)\n",
    "    unfolded_data.SetLineColor(1)\n",
    "    unfolded_data.SetLineWidth(2)\n",
    "    #unfolded_data.Rebin(2)\n",
    "\n",
    "\n",
    "    histMgenMC_sig.SetMarkerStyle(5)\n",
    "    histMgenMC_sig.SetMarkerColor(2)\n",
    "    histMgenMC_sig.SetLineColor(2)\n",
    "    #histMgenMC_sig.Rebin(2)\n",
    "\n",
    "\n",
    "    hs = ROOT.THStack(\"#tau_{1}^{(2)}\", \"#tau_{1}^{(2)}\")\n",
    "    #hs.Add\n",
    "    #hs.SetMaximum(5500)\n",
    "    hs.Add( unfolded_MC, \"E\")\n",
    "    hs.Add( unfolded_data, \"E \")\n",
    "    #hs.Add(histMgenMC_sig, \"E HIST\")\n",
    "\n",
    "    leg0 = ROOT.TLegend(0.02, 0.7, 0.91, 0.85)\n",
    "    leg0.SetTextSize(6)\n",
    "    leg0.AddEntry( unfolded_data, \"Data (2016)\", 'p')\n",
    "    #leg0.AddEntry( histMgenMC_sig, \"Generator-level (ttbar MC: Powheg+Pythia8)\", 'p')\n",
    "    #leg0.AddEntry( histMgenData, \"'Truth' (MC: MG5+Pythia8)\", 'p')\n",
    "    leg0.AddEntry( unfolded_MC, \"MC self-closure (ttbar Powheg)\", 'p')\n",
    "    leg0.SetLineColor(0)\n",
    "    leg0.SetBorderSize(0)\n",
    "    leg0.SetFillStyle(0)\n",
    "\n",
    "    #hs.Draw(\"nostack\")\n",
    "    #leg0.Draw()\n",
    "    \n",
    "    return hs, leg0"
   ]
  },
  {
   "cell_type": "markdown",
   "metadata": {
    "collapsed": true
   },
   "source": [
    "Draw the variables at reco and gen level and for \"data\""
   ]
  },
  {
   "cell_type": "code",
   "execution_count": 146,
   "metadata": {},
   "outputs": [],
   "source": [
    "ROOT.gStyle.SetOptStat(0)"
   ]
  },
  {
   "cell_type": "code",
   "execution_count": 152,
   "metadata": {
    "scrolled": true
   },
   "outputs": [
    {
     "name": "stdout",
     "output_type": "stream",
     "text": [
      "Gen-level bins 0 [0.     0.0325 0.065  0.0975 0.13   0.1625 0.195  0.2275 0.26   0.33\n",
      " 0.4   ]\n",
      "Detector-level bins 0 [0.      0.01625 0.0325  0.04875 0.065   0.08125 0.0975  0.11375 0.13\n",
      " 0.14625 0.1625  0.17875 0.195   0.21125 0.2275  0.24375 0.26    0.295\n",
      " 0.33    0.365   0.4    ]\n",
      "Setting contents for P, S, eff. histos\n"
     ]
    },
    {
     "name": "stderr",
     "output_type": "stream",
     "text": [
      "/shome/kdatta/.local/lib/python2.7/site-packages/ipykernel_launcher.py:56: RuntimeWarning: invalid value encountered in divide\n",
      "/shome/kdatta/.local/lib/python2.7/site-packages/ipykernel_launcher.py:61: RuntimeWarning: invalid value encountered in divide\n"
     ]
    },
    {
     "name": "stdout",
     "output_type": "stream",
     "text": [
      "getting tunfolder:\n",
      "setting reco input\n",
      "setting reco MC input\n",
      "Gen-level bins 1 [0.    0.026 0.052 0.078 0.104 0.13  0.156 0.182 0.208 0.234 0.26  0.33\n",
      " 0.4  ]\n",
      "Detector-level bins 1 [0.    0.013 0.026 0.039 0.052 0.065 0.078 0.091 0.104 0.117 0.13  0.143\n",
      " 0.156 0.169 0.182 0.195 0.208 0.221 0.234 0.247 0.26  0.295 0.33  0.365\n",
      " 0.4  ]\n",
      "Setting contents for P, S, eff. histos\n",
      "getting tunfolder:\n",
      "setting reco input\n",
      "setting reco MC input\n",
      "Gen-level bins 2 [0.   0.02 0.04 0.06 0.08 0.1  0.12 0.14 0.16 0.18 0.2  0.22 0.24 0.26\n",
      " 0.33 0.4 ]\n",
      "Detector-level bins 2 [0.    0.01  0.02  0.03  0.04  0.05  0.06  0.07  0.08  0.09  0.1   0.11\n",
      " 0.12  0.13  0.14  0.15  0.16  0.17  0.18  0.19  0.2   0.21  0.22  0.23\n",
      " 0.24  0.25  0.26  0.295 0.33  0.365 0.4  ]\n",
      "Setting contents for P, S, eff. histos\n",
      "getting tunfolder:\n",
      "setting reco input\n",
      "setting reco MC input\n",
      "Gen-level bins 3 [0.    0.045 0.09  0.135 0.18  0.225 0.27  0.33  0.4  ]\n",
      "Detector-level bins 3 [0.     0.0225 0.045  0.0675 0.09   0.1125 0.135  0.1575 0.18   0.2025\n",
      " 0.225  0.2475 0.27   0.3    0.33   0.365  0.4   ]\n",
      "Setting contents for P, S, eff. histos\n",
      "getting tunfolder:\n",
      "setting reco input\n",
      "setting reco MC input\n",
      "Gen-level bins 4 [0.      0.03375 0.0675  0.10125 0.135   0.16875 0.2025  0.23625 0.27\n",
      " 0.33    0.4    ]\n",
      "Detector-level bins 4 [0.       0.016875 0.03375  0.050625 0.0675   0.084375 0.10125  0.118125\n",
      " 0.135    0.151875 0.16875  0.185625 0.2025   0.219375 0.23625  0.253125\n",
      " 0.27     0.3      0.33     0.365    0.4     ]\n",
      "Setting contents for P, S, eff. histos\n",
      "getting tunfolder:\n",
      "setting reco input\n",
      "setting reco MC input\n",
      "Gen-level bins 5 [0.    0.027 0.054 0.081 0.108 0.135 0.162 0.189 0.216 0.243 0.27  0.33\n",
      " 0.4  ]\n",
      "Detector-level bins 5 [0.     0.0135 0.027  0.0405 0.054  0.0675 0.081  0.0945 0.108  0.1215\n",
      " 0.135  0.1485 0.162  0.1755 0.189  0.2025 0.216  0.2295 0.243  0.2565\n",
      " 0.27   0.3    0.33   0.365  0.4   ]\n",
      "Setting contents for P, S, eff. histos\n",
      "getting tunfolder:\n",
      "setting reco input\n",
      "setting reco MC input\n",
      "Gen-level bins 6 [0.    0.05  0.085 0.12  0.155 0.19  0.225 0.26  0.33  0.4  ]\n",
      "Detector-level bins 6 [0.     0.025  0.05   0.0675 0.085  0.1025 0.12   0.1375 0.155  0.1725\n",
      " 0.19   0.2075 0.225  0.2425 0.26   0.295  0.33   0.365  0.4   ]\n",
      "Setting contents for P, S, eff. histos\n",
      "getting tunfolder:\n",
      "setting reco input\n",
      "setting reco MC input\n",
      "Gen-level bins 7 [0.      0.05    0.07625 0.1025  0.12875 0.155   0.18125 0.2075  0.23375\n",
      " 0.26    0.33    0.4    ]\n",
      "Detector-level bins 7 [0.       0.025    0.05     0.063125 0.07625  0.089375 0.1025   0.115625\n",
      " 0.12875  0.141875 0.155    0.168125 0.18125  0.194375 0.2075   0.220625\n",
      " 0.23375  0.246875 0.26     0.295    0.33     0.365    0.4     ]\n",
      "Setting contents for P, S, eff. histos\n",
      "getting tunfolder:\n",
      "setting reco input\n",
      "setting reco MC input\n",
      "Gen-level bins 8 [0.    0.05  0.071 0.092 0.113 0.134 0.155 0.176 0.197 0.218 0.239 0.26\n",
      " 0.33  0.4  ]\n",
      "Detector-level bins 8 [0.     0.025  0.05   0.0605 0.071  0.0815 0.092  0.1025 0.113  0.1235\n",
      " 0.134  0.1445 0.155  0.1655 0.176  0.1865 0.197  0.2075 0.218  0.2285\n",
      " 0.239  0.2495 0.26   0.295  0.33   0.365  0.4   ]\n",
      "Setting contents for P, S, eff. histos\n",
      "getting tunfolder:\n",
      "setting reco input\n",
      "setting reco MC input\n"
     ]
    },
    {
     "name": "stderr",
     "output_type": "stream",
     "text": [
      "Warning in <TROOT::Append>: Replacing existing TH1: histMgenMC_bkg (Potential memory leak).\n",
      "Warning in <TROOT::Append>: Replacing existing TH1: histMdetMC_bkg (Potential memory leak).\n",
      "Warning in <TROOT::Append>: Replacing existing TH1: histMgenMC_sig (Potential memory leak).\n",
      "Warning in <TROOT::Append>: Replacing existing TH1: histMdetMC_sig (Potential memory leak).\n",
      "Warning in <TROOT::Append>: Replacing existing TH1: histMdetData (Potential memory leak).\n",
      "Warning in <TROOT::Append>: Replacing existing TH1: response (Potential memory leak).\n",
      "Warning in <TROOT::Append>: Replacing existing TH1: purity (Potential memory leak).\n",
      "Warning in <TROOT::Append>: Replacing existing TH1: stability (Potential memory leak).\n",
      "Info in <TUnfold::SetConstraint>: fConstraint=0\n",
      "Info in <TUnfold::TUnfold>: underflow and overflow bin do not depend on the input data\n",
      "Info in <TUnfold::TUnfold>: 20 input bins and 10 output bins\n",
      "Info in <TUnfoldDensity::TUnfold>: *NOT* unfolding bin #0 (yaxis:#tau_{1}^{(2)}(gen_sig)[ufl])\n",
      "Info in <TUnfoldDensity::TUnfold>: *NOT* unfolding bin #11 (yaxis:#tau_{1}^{(2)}(gen_sig)[ofl])\n",
      "Info in <TUnfoldDensity::RegularizeOneDistribution>: regularizing yaxis regMode=3 densityMode=1 axisSteering=*[UOB]\n",
      "Info in <TUnfold::SetConstraint>: fConstraint=0\n",
      "Info in <TUnfold::TUnfold>: underflow and overflow bin do not depend on the input data\n",
      "Info in <TUnfold::TUnfold>: 20 input bins and 10 output bins\n",
      "Info in <TUnfoldDensity::TUnfold>: *NOT* unfolding bin #0 (yaxis:#tau_{1}^{(2)}(gen_sig)[ufl])\n",
      "Info in <TUnfoldDensity::TUnfold>: *NOT* unfolding bin #11 (yaxis:#tau_{1}^{(2)}(gen_sig)[ofl])\n",
      "Info in <TUnfoldDensity::RegularizeOneDistribution>: regularizing yaxis regMode=3 densityMode=1 axisSteering=*[UOB]\n",
      "Warning in <TROOT::Append>: Replacing existing TH1: unfolded_data (Potential memory leak).\n",
      "Warning in <TROOT::Append>: Replacing existing TH1: closure_unfolded_MC (Potential memory leak).\n",
      "Warning in <TROOT::Append>: Replacing existing TH1: histMgenMC_bkg (Potential memory leak).\n",
      "Warning in <TROOT::Append>: Replacing existing TH1: histMdetMC_bkg (Potential memory leak).\n",
      "Warning in <TROOT::Append>: Replacing existing TH1: histMgenMC_sig (Potential memory leak).\n",
      "Warning in <TROOT::Append>: Replacing existing TH1: histMdetMC_sig (Potential memory leak).\n",
      "Warning in <TROOT::Append>: Replacing existing TH1: histMdetData (Potential memory leak).\n",
      "Warning in <TROOT::Append>: Replacing existing TH1: response (Potential memory leak).\n",
      "Warning in <TROOT::Append>: Replacing existing TH1: purity (Potential memory leak).\n",
      "Warning in <TROOT::Append>: Replacing existing TH1: stability (Potential memory leak).\n",
      "Info in <TUnfold::SetConstraint>: fConstraint=0\n",
      "Info in <TUnfold::TUnfold>: underflow and overflow bin do not depend on the input data\n",
      "Info in <TUnfold::TUnfold>: 24 input bins and 12 output bins\n",
      "Info in <TUnfoldDensity::TUnfold>: *NOT* unfolding bin #0 (yaxis:#tau_{1}^{(2)}(gen_sig)[ufl])\n",
      "Info in <TUnfoldDensity::TUnfold>: *NOT* unfolding bin #13 (yaxis:#tau_{1}^{(2)}(gen_sig)[ofl])\n",
      "Info in <TUnfoldDensity::RegularizeOneDistribution>: regularizing yaxis regMode=3 densityMode=1 axisSteering=*[UOB]\n",
      "Info in <TUnfold::SetConstraint>: fConstraint=0\n",
      "Info in <TUnfold::TUnfold>: underflow and overflow bin do not depend on the input data\n",
      "Info in <TUnfold::TUnfold>: 24 input bins and 12 output bins\n",
      "Info in <TUnfoldDensity::TUnfold>: *NOT* unfolding bin #0 (yaxis:#tau_{1}^{(2)}(gen_sig)[ufl])\n",
      "Info in <TUnfoldDensity::TUnfold>: *NOT* unfolding bin #13 (yaxis:#tau_{1}^{(2)}(gen_sig)[ofl])\n",
      "Info in <TUnfoldDensity::RegularizeOneDistribution>: regularizing yaxis regMode=3 densityMode=1 axisSteering=*[UOB]\n",
      "Warning in <TROOT::Append>: Replacing existing TH1: unfolded_data (Potential memory leak).\n",
      "Warning in <TROOT::Append>: Replacing existing TH1: closure_unfolded_MC (Potential memory leak).\n",
      "Warning in <TROOT::Append>: Replacing existing TH1: histMgenMC_bkg (Potential memory leak).\n",
      "Warning in <TROOT::Append>: Replacing existing TH1: histMdetMC_bkg (Potential memory leak).\n",
      "Warning in <TROOT::Append>: Replacing existing TH1: histMgenMC_sig (Potential memory leak).\n",
      "Warning in <TROOT::Append>: Replacing existing TH1: histMdetMC_sig (Potential memory leak).\n",
      "Warning in <TROOT::Append>: Replacing existing TH1: histMdetData (Potential memory leak).\n",
      "Warning in <TROOT::Append>: Replacing existing TH1: response (Potential memory leak).\n",
      "Warning in <TROOT::Append>: Replacing existing TH1: purity (Potential memory leak).\n",
      "Warning in <TROOT::Append>: Replacing existing TH1: stability (Potential memory leak).\n",
      "Info in <TUnfold::SetConstraint>: fConstraint=0\n",
      "Info in <TUnfold::TUnfold>: underflow and overflow bin do not depend on the input data\n",
      "Info in <TUnfold::TUnfold>: 30 input bins and 15 output bins\n",
      "Info in <TUnfoldDensity::TUnfold>: *NOT* unfolding bin #0 (yaxis:#tau_{1}^{(2)}(gen_sig)[ufl])\n",
      "Info in <TUnfoldDensity::TUnfold>: *NOT* unfolding bin #16 (yaxis:#tau_{1}^{(2)}(gen_sig)[ofl])\n",
      "Info in <TUnfoldDensity::RegularizeOneDistribution>: regularizing yaxis regMode=3 densityMode=1 axisSteering=*[UOB]\n",
      "Info in <TUnfold::SetConstraint>: fConstraint=0\n",
      "Info in <TUnfold::TUnfold>: underflow and overflow bin do not depend on the input data\n",
      "Info in <TUnfold::TUnfold>: 30 input bins and 15 output bins\n",
      "Info in <TUnfoldDensity::TUnfold>: *NOT* unfolding bin #0 (yaxis:#tau_{1}^{(2)}(gen_sig)[ufl])\n",
      "Info in <TUnfoldDensity::TUnfold>: *NOT* unfolding bin #16 (yaxis:#tau_{1}^{(2)}(gen_sig)[ofl])\n",
      "Info in <TUnfoldDensity::RegularizeOneDistribution>: regularizing yaxis regMode=3 densityMode=1 axisSteering=*[UOB]\n",
      "Warning in <TUnfoldDensity::SetInput>: One input bin has zero error, and is ignored.\n",
      "Warning in <TROOT::Append>: Replacing existing TH1: unfolded_data (Potential memory leak).\n",
      "Warning in <TROOT::Append>: Replacing existing TH1: closure_unfolded_MC (Potential memory leak).\n",
      "Warning in <TROOT::Append>: Replacing existing TH1: histMgenMC_bkg (Potential memory leak).\n",
      "Warning in <TROOT::Append>: Replacing existing TH1: histMdetMC_bkg (Potential memory leak).\n",
      "Warning in <TROOT::Append>: Replacing existing TH1: histMgenMC_sig (Potential memory leak).\n",
      "Warning in <TROOT::Append>: Replacing existing TH1: histMdetMC_sig (Potential memory leak).\n",
      "Warning in <TROOT::Append>: Replacing existing TH1: histMdetData (Potential memory leak).\n",
      "Warning in <TROOT::Append>: Replacing existing TH1: response (Potential memory leak).\n",
      "Warning in <TROOT::Append>: Replacing existing TH1: purity (Potential memory leak).\n",
      "Warning in <TROOT::Append>: Replacing existing TH1: stability (Potential memory leak).\n",
      "Info in <TUnfold::SetConstraint>: fConstraint=0\n",
      "Info in <TUnfold::TUnfold>: underflow and overflow bin do not depend on the input data\n",
      "Info in <TUnfold::TUnfold>: 16 input bins and 8 output bins\n",
      "Info in <TUnfoldDensity::TUnfold>: *NOT* unfolding bin #0 (yaxis:#tau_{1}^{(2)}(gen_sig)[ufl])\n",
      "Info in <TUnfoldDensity::TUnfold>: *NOT* unfolding bin #9 (yaxis:#tau_{1}^{(2)}(gen_sig)[ofl])\n",
      "Info in <TUnfoldDensity::RegularizeOneDistribution>: regularizing yaxis regMode=3 densityMode=1 axisSteering=*[UOB]\n",
      "Info in <TUnfold::SetConstraint>: fConstraint=0\n",
      "Info in <TUnfold::TUnfold>: underflow and overflow bin do not depend on the input data\n",
      "Info in <TUnfold::TUnfold>: 16 input bins and 8 output bins\n",
      "Info in <TUnfoldDensity::TUnfold>: *NOT* unfolding bin #0 (yaxis:#tau_{1}^{(2)}(gen_sig)[ufl])\n",
      "Info in <TUnfoldDensity::TUnfold>: *NOT* unfolding bin #9 (yaxis:#tau_{1}^{(2)}(gen_sig)[ofl])\n",
      "Info in <TUnfoldDensity::RegularizeOneDistribution>: regularizing yaxis regMode=3 densityMode=1 axisSteering=*[UOB]\n",
      "Warning in <TROOT::Append>: Replacing existing TH1: unfolded_data (Potential memory leak).\n",
      "Warning in <TROOT::Append>: Replacing existing TH1: closure_unfolded_MC (Potential memory leak).\n",
      "Warning in <TROOT::Append>: Replacing existing TH1: histMgenMC_bkg (Potential memory leak).\n",
      "Warning in <TROOT::Append>: Replacing existing TH1: histMdetMC_bkg (Potential memory leak).\n",
      "Warning in <TROOT::Append>: Replacing existing TH1: histMgenMC_sig (Potential memory leak).\n",
      "Warning in <TROOT::Append>: Replacing existing TH1: histMdetMC_sig (Potential memory leak).\n",
      "Warning in <TROOT::Append>: Replacing existing TH1: histMdetData (Potential memory leak).\n",
      "Warning in <TROOT::Append>: Replacing existing TH1: response (Potential memory leak).\n",
      "Warning in <TROOT::Append>: Replacing existing TH1: purity (Potential memory leak).\n",
      "Warning in <TROOT::Append>: Replacing existing TH1: stability (Potential memory leak).\n",
      "Info in <TUnfold::SetConstraint>: fConstraint=0\n",
      "Info in <TUnfold::TUnfold>: underflow and overflow bin do not depend on the input data\n",
      "Info in <TUnfold::TUnfold>: 20 input bins and 10 output bins\n",
      "Info in <TUnfoldDensity::TUnfold>: *NOT* unfolding bin #0 (yaxis:#tau_{1}^{(2)}(gen_sig)[ufl])\n",
      "Info in <TUnfoldDensity::TUnfold>: *NOT* unfolding bin #11 (yaxis:#tau_{1}^{(2)}(gen_sig)[ofl])\n",
      "Info in <TUnfoldDensity::RegularizeOneDistribution>: regularizing yaxis regMode=3 densityMode=1 axisSteering=*[UOB]\n",
      "Info in <TUnfold::SetConstraint>: fConstraint=0\n",
      "Info in <TUnfold::TUnfold>: underflow and overflow bin do not depend on the input data\n",
      "Info in <TUnfold::TUnfold>: 20 input bins and 10 output bins\n",
      "Info in <TUnfoldDensity::TUnfold>: *NOT* unfolding bin #0 (yaxis:#tau_{1}^{(2)}(gen_sig)[ufl])\n",
      "Info in <TUnfoldDensity::TUnfold>: *NOT* unfolding bin #11 (yaxis:#tau_{1}^{(2)}(gen_sig)[ofl])\n",
      "Info in <TUnfoldDensity::RegularizeOneDistribution>: regularizing yaxis regMode=3 densityMode=1 axisSteering=*[UOB]\n",
      "Warning in <TROOT::Append>: Replacing existing TH1: unfolded_data (Potential memory leak).\n",
      "Warning in <TROOT::Append>: Replacing existing TH1: closure_unfolded_MC (Potential memory leak).\n",
      "Warning in <TROOT::Append>: Replacing existing TH1: histMgenMC_bkg (Potential memory leak).\n",
      "Warning in <TROOT::Append>: Replacing existing TH1: histMdetMC_bkg (Potential memory leak).\n",
      "Warning in <TROOT::Append>: Replacing existing TH1: histMgenMC_sig (Potential memory leak).\n",
      "Warning in <TROOT::Append>: Replacing existing TH1: histMdetMC_sig (Potential memory leak).\n",
      "Warning in <TROOT::Append>: Replacing existing TH1: histMdetData (Potential memory leak).\n",
      "Warning in <TROOT::Append>: Replacing existing TH1: response (Potential memory leak).\n",
      "Warning in <TROOT::Append>: Replacing existing TH1: purity (Potential memory leak).\n",
      "Warning in <TROOT::Append>: Replacing existing TH1: stability (Potential memory leak).\n",
      "Info in <TUnfold::SetConstraint>: fConstraint=0\n",
      "Info in <TUnfold::TUnfold>: underflow and overflow bin do not depend on the input data\n",
      "Info in <TUnfold::TUnfold>: 24 input bins and 12 output bins\n",
      "Info in <TUnfoldDensity::TUnfold>: *NOT* unfolding bin #0 (yaxis:#tau_{1}^{(2)}(gen_sig)[ufl])\n",
      "Info in <TUnfoldDensity::TUnfold>: *NOT* unfolding bin #13 (yaxis:#tau_{1}^{(2)}(gen_sig)[ofl])\n",
      "Info in <TUnfoldDensity::RegularizeOneDistribution>: regularizing yaxis regMode=3 densityMode=1 axisSteering=*[UOB]\n",
      "Info in <TUnfold::SetConstraint>: fConstraint=0\n",
      "Info in <TUnfold::TUnfold>: underflow and overflow bin do not depend on the input data\n",
      "Info in <TUnfold::TUnfold>: 24 input bins and 12 output bins\n",
      "Info in <TUnfoldDensity::TUnfold>: *NOT* unfolding bin #0 (yaxis:#tau_{1}^{(2)}(gen_sig)[ufl])\n",
      "Info in <TUnfoldDensity::TUnfold>: *NOT* unfolding bin #13 (yaxis:#tau_{1}^{(2)}(gen_sig)[ofl])\n",
      "Info in <TUnfoldDensity::RegularizeOneDistribution>: regularizing yaxis regMode=3 densityMode=1 axisSteering=*[UOB]\n",
      "Warning in <TROOT::Append>: Replacing existing TH1: unfolded_data (Potential memory leak).\n",
      "Warning in <TROOT::Append>: Replacing existing TH1: closure_unfolded_MC (Potential memory leak).\n",
      "Warning in <TROOT::Append>: Replacing existing TH1: histMgenMC_bkg (Potential memory leak).\n",
      "Warning in <TROOT::Append>: Replacing existing TH1: histMdetMC_bkg (Potential memory leak).\n",
      "Warning in <TROOT::Append>: Replacing existing TH1: histMgenMC_sig (Potential memory leak).\n",
      "Warning in <TROOT::Append>: Replacing existing TH1: histMdetMC_sig (Potential memory leak).\n",
      "Warning in <TROOT::Append>: Replacing existing TH1: histMdetData (Potential memory leak).\n",
      "Warning in <TROOT::Append>: Replacing existing TH1: response (Potential memory leak).\n",
      "Warning in <TROOT::Append>: Replacing existing TH1: purity (Potential memory leak).\n",
      "Warning in <TROOT::Append>: Replacing existing TH1: stability (Potential memory leak).\n",
      "Info in <TUnfold::SetConstraint>: fConstraint=0\n",
      "Info in <TUnfold::TUnfold>: underflow and overflow bin do not depend on the input data\n",
      "Info in <TUnfold::TUnfold>: 18 input bins and 9 output bins\n",
      "Info in <TUnfoldDensity::TUnfold>: *NOT* unfolding bin #0 (yaxis:#tau_{1}^{(2)}(gen_sig)[ufl])\n",
      "Info in <TUnfoldDensity::TUnfold>: *NOT* unfolding bin #10 (yaxis:#tau_{1}^{(2)}(gen_sig)[ofl])\n",
      "Info in <TUnfoldDensity::RegularizeOneDistribution>: regularizing yaxis regMode=3 densityMode=1 axisSteering=*[UOB]\n",
      "Info in <TUnfold::SetConstraint>: fConstraint=0\n",
      "Info in <TUnfold::TUnfold>: underflow and overflow bin do not depend on the input data\n",
      "Info in <TUnfold::TUnfold>: 18 input bins and 9 output bins\n",
      "Info in <TUnfoldDensity::TUnfold>: *NOT* unfolding bin #0 (yaxis:#tau_{1}^{(2)}(gen_sig)[ufl])\n",
      "Info in <TUnfoldDensity::TUnfold>: *NOT* unfolding bin #10 (yaxis:#tau_{1}^{(2)}(gen_sig)[ofl])\n",
      "Info in <TUnfoldDensity::RegularizeOneDistribution>: regularizing yaxis regMode=3 densityMode=1 axisSteering=*[UOB]\n",
      "Warning in <TROOT::Append>: Replacing existing TH1: unfolded_data (Potential memory leak).\n",
      "Warning in <TROOT::Append>: Replacing existing TH1: closure_unfolded_MC (Potential memory leak).\n",
      "Warning in <TROOT::Append>: Replacing existing TH1: histMgenMC_bkg (Potential memory leak).\n",
      "Warning in <TROOT::Append>: Replacing existing TH1: histMdetMC_bkg (Potential memory leak).\n",
      "Warning in <TROOT::Append>: Replacing existing TH1: histMgenMC_sig (Potential memory leak).\n",
      "Warning in <TROOT::Append>: Replacing existing TH1: histMdetMC_sig (Potential memory leak).\n",
      "Warning in <TROOT::Append>: Replacing existing TH1: histMdetData (Potential memory leak).\n",
      "Warning in <TROOT::Append>: Replacing existing TH1: response (Potential memory leak).\n",
      "Warning in <TROOT::Append>: Replacing existing TH1: purity (Potential memory leak).\n",
      "Warning in <TROOT::Append>: Replacing existing TH1: stability (Potential memory leak).\n",
      "Info in <TUnfold::SetConstraint>: fConstraint=0\n",
      "Info in <TUnfold::TUnfold>: underflow and overflow bin do not depend on the input data\n",
      "Info in <TUnfold::TUnfold>: 22 input bins and 11 output bins\n",
      "Info in <TUnfoldDensity::TUnfold>: *NOT* unfolding bin #0 (yaxis:#tau_{1}^{(2)}(gen_sig)[ufl])\n",
      "Info in <TUnfoldDensity::TUnfold>: *NOT* unfolding bin #12 (yaxis:#tau_{1}^{(2)}(gen_sig)[ofl])\n",
      "Info in <TUnfoldDensity::RegularizeOneDistribution>: regularizing yaxis regMode=3 densityMode=1 axisSteering=*[UOB]\n",
      "Info in <TUnfold::SetConstraint>: fConstraint=0\n",
      "Info in <TUnfold::TUnfold>: underflow and overflow bin do not depend on the input data\n",
      "Info in <TUnfold::TUnfold>: 22 input bins and 11 output bins\n",
      "Info in <TUnfoldDensity::TUnfold>: *NOT* unfolding bin #0 (yaxis:#tau_{1}^{(2)}(gen_sig)[ufl])\n",
      "Info in <TUnfoldDensity::TUnfold>: *NOT* unfolding bin #12 (yaxis:#tau_{1}^{(2)}(gen_sig)[ofl])\n",
      "Info in <TUnfoldDensity::RegularizeOneDistribution>: regularizing yaxis regMode=3 densityMode=1 axisSteering=*[UOB]\n",
      "Warning in <TROOT::Append>: Replacing existing TH1: unfolded_data (Potential memory leak).\n",
      "Warning in <TROOT::Append>: Replacing existing TH1: closure_unfolded_MC (Potential memory leak).\n",
      "Warning in <TROOT::Append>: Replacing existing TH1: histMgenMC_bkg (Potential memory leak).\n",
      "Warning in <TROOT::Append>: Replacing existing TH1: histMdetMC_bkg (Potential memory leak).\n",
      "Warning in <TROOT::Append>: Replacing existing TH1: histMgenMC_sig (Potential memory leak).\n",
      "Warning in <TROOT::Append>: Replacing existing TH1: histMdetMC_sig (Potential memory leak).\n",
      "Warning in <TROOT::Append>: Replacing existing TH1: histMdetData (Potential memory leak).\n",
      "Warning in <TROOT::Append>: Replacing existing TH1: response (Potential memory leak).\n",
      "Warning in <TROOT::Append>: Replacing existing TH1: purity (Potential memory leak).\n",
      "Warning in <TROOT::Append>: Replacing existing TH1: stability (Potential memory leak).\n",
      "Info in <TUnfold::SetConstraint>: fConstraint=0\n",
      "Info in <TUnfold::TUnfold>: underflow and overflow bin do not depend on the input data\n",
      "Info in <TUnfold::TUnfold>: 26 input bins and 13 output bins\n",
      "Info in <TUnfoldDensity::TUnfold>: *NOT* unfolding bin #0 (yaxis:#tau_{1}^{(2)}(gen_sig)[ufl])\n",
      "Info in <TUnfoldDensity::TUnfold>: *NOT* unfolding bin #14 (yaxis:#tau_{1}^{(2)}(gen_sig)[ofl])\n",
      "Info in <TUnfoldDensity::RegularizeOneDistribution>: regularizing yaxis regMode=3 densityMode=1 axisSteering=*[UOB]\n",
      "Info in <TUnfold::SetConstraint>: fConstraint=0\n",
      "Info in <TUnfold::TUnfold>: underflow and overflow bin do not depend on the input data\n",
      "Info in <TUnfold::TUnfold>: 26 input bins and 13 output bins\n",
      "Info in <TUnfoldDensity::TUnfold>: *NOT* unfolding bin #0 (yaxis:#tau_{1}^{(2)}(gen_sig)[ufl])\n",
      "Info in <TUnfoldDensity::TUnfold>: *NOT* unfolding bin #14 (yaxis:#tau_{1}^{(2)}(gen_sig)[ofl])\n",
      "Info in <TUnfoldDensity::RegularizeOneDistribution>: regularizing yaxis regMode=3 densityMode=1 axisSteering=*[UOB]\n",
      "Warning in <TROOT::Append>: Replacing existing TH1: unfolded_data (Potential memory leak).\n",
      "Warning in <TROOT::Append>: Replacing existing TH1: closure_unfolded_MC (Potential memory leak).\n"
     ]
    }
   ],
   "source": [
    "purities = []\n",
    "stabilities = []\n",
    "h_unfoldings = [] \n",
    "h_responses = []\n",
    "\n",
    "h_purities = ROOT.THStack(\"purities\",\"purities\")\n",
    "h_stabilities = ROOT.THStack(\"stabilities\",\"stabilities\")\n",
    "legus = []\n",
    "\n",
    "leg_p = ROOT.TLegend(0.12, 0.12, 0.32, 0.5)\n",
    "leg_p.SetLineColor(0)\n",
    "leg_p.SetBorderSize(0)\n",
    "leg_p.SetFillStyle(0)\n",
    "\n",
    "leg_s = ROOT.TLegend(0.8, 0.5, 0.95, 0.9)\n",
    "leg_s.SetLineColor(0)\n",
    "leg_s.SetBorderSize(0)\n",
    "leg_s.SetFillStyle(0)\n",
    "\n",
    "for i in xrange(len(det_bins_arr)):\n",
    "    k=i\n",
    "    gen_bins = gen_bins_arr[i]\n",
    "    det_bins = det_bins_arr[i]\n",
    "    \n",
    "    histMgenMC_bkg, histMdetMC_bkg, histMgenMC_sig, histMdetMC_sig, histMdetData, response = fill_hists(gen_bins, det_bins,\n",
    "                                                                                              MC_sig_reco_tau1_2, MC_sig_gen_tau1_2,\n",
    "                                                                                              MC_bkg_reco_tau1_2, MC_bkg_gen_tau1_2,\n",
    "                                                                                              data_tau1_2);\n",
    "    response.SetTitle(\"Response Matrix #tau_{1}^{(2)} binning %d\"%(i+1))\n",
    "    h_responses.append(response)\n",
    "    print \"Gen-level bins %d\"%i, gen_bins\n",
    "    print \"Detector-level bins %d\"%i, det_bins\n",
    "    '''\n",
    "    c0 = ROOT.TCanvas(\"chistMgenMC_sig1\", \"chistMgenMC_sig1\")\n",
    "    histMgenMC_sig.Draw(\"e\")\n",
    "    histMdetMC_sig.SetLineColor(ROOT.kRed+i)\n",
    "    histMdetMC_sig.Draw(\"e same\")\n",
    "    c0.Update()\n",
    "    c0.Draw()\n",
    "    c0.Print()\n",
    "    \n",
    "    \n",
    "    c1 = ROOT.TCanvas(\"chistMgenMC_bkg1\", \"chistMgenMC_bkg1\")\n",
    "    histMgenMC_bkg.Draw(\"e\")\n",
    "    histMdetMC_bkg.SetLineColor(ROOT.kRed+i)\n",
    "    histMdetMC_bkg.Draw(\"e same\")\n",
    "    c1.Update()\n",
    "    c1.Draw()\n",
    "    c1.Print()\n",
    "    \n",
    "    c2 = ROOT.TCanvas(\"chistMgenMC_sig1\", \"chistMgenMC_sig1\")\n",
    "    histMdetData.Draw(\"e \")\n",
    "    c2.Update()\n",
    "    c2.Draw()\n",
    "    c2.Print()\n",
    "    \n",
    "    c3 = ROOT.TCanvas(\"cresponse1\", \"cresponse1\")\n",
    "    response.Draw(\"colz\")\n",
    "    c3.Update()\n",
    "    c3.Draw()\n",
    "    c3.Print()\n",
    "    '''\n",
    "    purity, stability = purity_stability_calc(gen_bins, MC_sig_gen_tau1_2, det_bins, MC_sig_reco_tau1_2, verbose=False );\n",
    "    \n",
    "    if k==9:\n",
    "        k=ROOT.kGreen+9\n",
    "    purity.SetTitle(\"purity %d\"%(i+1))\n",
    "    #purity.SetLineStyle(i)\n",
    "    purity.SetLineColor(k+1)\n",
    "    \n",
    "    stability.SetTitle(\"stability %d\"%(i+1))\n",
    "    #stability.SetLineStyle(i)\n",
    "    stability.SetLineColor(k+1)\n",
    "    \n",
    "    purities.append(purity)\n",
    "    stabilities.append(stability)\n",
    "    \n",
    "    h_purities.Add(purity)\n",
    "    h_stabilities.Add(stability)\n",
    "    \n",
    "    leg_s.AddEntry( stability, \"bins%d\"%(i+1))\n",
    "    leg_p.AddEntry( purity, \"bins%d\"%(i+1))\n",
    "    \n",
    "    hu, legu = doUnfolding(response, histMdetData, histMdetMC_sig, histMdetMC_bkg, histMgenMC_sig)\n",
    "    hu.SetTitle(\"#tau_{1}^{(2)} binning %d\"%(i+1))\n",
    "    h_unfoldings.append(hu)\n",
    "    legus.append(legu)"
   ]
  },
  {
   "cell_type": "code",
   "execution_count": 153,
   "metadata": {
    "scrolled": true
   },
   "outputs": [
    {
     "name": "stderr",
     "output_type": "stream",
     "text": [
      "Warning in <TCanvas::Constructor>: Deleting canvas with same name: pse_ttbar\n",
      "Info in <TCanvas::Print>: png file Purities_tau1_2_Wsel_powheg.png has been created\n"
     ]
    }
   ],
   "source": [
    "cpse = ROOT.TCanvas(\"pse_ttbar\", \"pse_ttbar\", )\n",
    "#cpse.cd()\n",
    "h_purities.Draw(\"nostack\")\n",
    "leg_p.Draw()\n",
    "#cpse.Draw()\n",
    "cpse.SaveAs(\"Purities_tau1_2_Wsel_powheg.png\")\n",
    "#cpse.Print()\n",
    "#cpse.Delete()"
   ]
  },
  {
   "cell_type": "code",
   "execution_count": 154,
   "metadata": {},
   "outputs": [
    {
     "name": "stderr",
     "output_type": "stream",
     "text": [
      "Warning in <TCanvas::Constructor>: Deleting canvas with same name: pse1_ttbar\n",
      "Info in <TCanvas::Print>: png file Stabilities_tau1_2_Wsel_powheg.png has been created\n"
     ]
    }
   ],
   "source": [
    "cpse1 = ROOT.TCanvas(\"pse1_ttbar\", \"pse1_ttbar\", )\n",
    "h_stabilities.Draw(\"nostack\")\n",
    "leg_s.Draw()\n",
    "#cpse1.Draw()\n",
    "#cpse1.Draw()\n",
    "cpse1.SaveAs(\"Stabilities_tau1_2_Wsel_powheg.png\")\n",
    "#cpse1.Print()"
   ]
  },
  {
   "cell_type": "code",
   "execution_count": 155,
   "metadata": {
    "scrolled": false
   },
   "outputs": [
    {
     "name": "stderr",
     "output_type": "stream",
     "text": [
      "Warning in <TCanvas::Constructor>: Deleting canvas with same name: c5\n",
      "Info in <TCanvas::Print>: png file tau1_2_unfoldings_Wsel_powheg.png has been created\n"
     ]
    },
    {
     "data": {
      "text/html": [
       "\n",
       "<div id=\"root_plot_13\"\n",
       "     style=\"width: 1196px; height: 1052px\">\n",
       "</div>\n",
       "\n",
       "<script>\n",
       " requirejs.config({\n",
       "     paths: {\n",
       "       'JSRootCore' : 'https://root.cern.ch/js/notebook//scripts/JSRootCore',\n",
       "     }\n",
       "   });\n",
       " require(['JSRootCore'],\n",
       "     function(Core) {\n",
       "       var obj = Core.JSONR_unref({\"_typename\":\"TCanvas\",\"fUniqueID\":0,\"fBits\":53673992,\"fLineColor\":1,\"fLineStyle\":1,\"fLineWidth\":1,\"fFillColor\":0,\"fFillStyle\":1001,\"fLeftMargin\":0.1,\"fRightMargin\":0.1,\"fBottomMargin\":0.1,\"fTopMargin\":0.1,\"fXfile\":2,\"fYfile\":2,\"fAfile\":1,\"fXstat\":0.99,\"fYstat\":0.99,\"fAstat\":2,\"fFrameFillColor\":0,\"fFrameLineColor\":1,\"fFrameFillStyle\":1001,\"fFrameLineStyle\":1,\"fFrameLineWidth\":1,\"fFrameBorderSize\":1,\"fFrameBorderMode\":0,\"fX1\":0,\"fY1\":0,\"fX2\":1,\"fY2\":1,\"fXtoAbsPixelk\":5e-5,\"fXtoPixelk\":5e-5,\"fXtoPixel\":1196,\"fYtoAbsPixelk\":1052.00005,\"fYtoPixelk\":1052.00005,\"fYtoPixel\":-1052,\"fUtoAbsPixelk\":5e-5,\"fUtoPixelk\":5e-5,\"fUtoPixel\":1196,\"fVtoAbsPixelk\":1052.00005,\"fVtoPixelk\":1052,\"fVtoPixel\":-1052,\"fAbsPixeltoXk\":0,\"fPixeltoXk\":0,\"fPixeltoX\":8.36120401337793e-4,\"fAbsPixeltoYk\":1,\"fPixeltoYk\":0,\"fPixeltoY\":-9.50570342205323e-4,\"fXlowNDC\":0,\"fYlowNDC\":0,\"fXUpNDC\":0,\"fYUpNDC\":0,\"fWNDC\":1,\"fHNDC\":1,\"fAbsXlowNDC\":0,\"fAbsYlowNDC\":0,\"fAbsWNDC\":1,\"fAbsHNDC\":1,\"fUxmin\":0,\"fUymin\":0,\"fUxmax\":1,\"fUymax\":1,\"fTheta\":30,\"fPhi\":30,\"fAspectRatio\":0,\"fNumber\":0,\"fTickx\":0,\"fTicky\":0,\"fLogx\":0,\"fLogy\":0,\"fLogz\":0,\"fPadPaint\":0,\"fCrosshair\":0,\"fCrosshairPos\":0,\"fBorderSize\":2,\"fBorderMode\":0,\"fModified\":false,\"fGridx\":false,\"fGridy\":false,\"fAbsCoord\":false,\"fEditable\":true,\"fFixedAspectRatio\":false,\"fPrimitives\":{\"_typename\":\"TList\",\"name\":\"TList\",\"arr\":[{\"_typename\":\"TPad\",\"fUniqueID\":0,\"fBits\":50331657,\"fLineColor\":1,\"fLineStyle\":1,\"fLineWidth\":1,\"fFillColor\":0,\"fFillStyle\":1001,\"fLeftMargin\":0.1,\"fRightMargin\":0.1,\"fBottomMargin\":0.1,\"fTopMargin\":0.1,\"fXfile\":2,\"fYfile\":2,\"fAfile\":1,\"fXstat\":0.99,\"fYstat\":0.99,\"fAstat\":2,\"fFrameFillColor\":0,\"fFrameLineColor\":1,\"fFrameFillStyle\":1001,\"fFrameLineStyle\":1,\"fFrameLineWidth\":1,\"fFrameBorderSize\":1,\"fFrameBorderMode\":0,\"fX1\":-0.0500000037252905,\"fY1\":-435.1205655117,\"fX2\":0.450000003725291,\"fY2\":3916.08483025323,\"fXtoAbsPixelk\":49.4347186864695,\"fXtoPixelk\":37.4747189537963,\"fXtoPixel\":749.493323234319,\"fYtoAbsPixelk\":307.184048223384,\"fYtoPixelk\":296.664048458524,\"fYtoPixel\":-0.0757552533506636,\"fUtoAbsPixelk\":11.9600497326732,\"fUtoPixelk\":5e-5,\"fUtoPixel\":374.74666720132,\"fVtoAbsPixelk\":340.146716901807,\"fVtoPixelk\":329.626667136947,\"fVtoPixel\":-329.626667136947,\"fAbsPixeltoXk\":-0.0659574503921423,\"fPixeltoXk\":-0.0500000037252905,\"fPixeltoX\":0.00133423470096392,\"fAbsPixeltoYk\":4054.95308426281,\"fPixeltoYk\":-435.1205655117,\"fPixeltoY\":-13.2004046685858,\"fXlowNDC\":0.00999999977648258,\"fYlowNDC\":0.676666666443149,\"fXUpNDC\":0,\"fYUpNDC\":0,\"fWNDC\":0.313333333780368,\"fHNDC\":0.313333333780368,\"fAbsXlowNDC\":0.00999999977648258,\"fAbsYlowNDC\":0.676666666443149,\"fAbsWNDC\":0.313333333780368,\"fAbsHNDC\":0.313333333780368,\"fUxmin\":0,\"fUymin\":0,\"fUxmax\":0.4,\"fUymax\":3480.96426474153,\"fTheta\":30,\"fPhi\":30,\"fAspectRatio\":0,\"fNumber\":1,\"fTickx\":0,\"fTicky\":0,\"fLogx\":0,\"fLogy\":0,\"fLogz\":0,\"fPadPaint\":0,\"fCrosshair\":0,\"fCrosshairPos\":0,\"fBorderSize\":2,\"fBorderMode\":0,\"fModified\":false,\"fGridx\":false,\"fGridy\":false,\"fAbsCoord\":false,\"fEditable\":true,\"fFixedAspectRatio\":false,\"fPrimitives\":{\"_typename\":\"TList\",\"name\":\"TList\",\"arr\":[{\"_typename\":\"TFrame\",\"fUniqueID\":0,\"fBits\":50331656,\"fLineColor\":1,\"fLineStyle\":1,\"fLineWidth\":1,\"fFillColor\":0,\"fFillStyle\":1001,\"fX1\":0,\"fY1\":0,\"fX2\":0.4,\"fY2\":3480.96426474153,\"fBorderSize\":1,\"fBorderMode\":0},{\"_typename\":\"THStack\",\"fUniqueID\":0,\"fBits\":50331656,\"fName\":\"#tau_{1}^{(2)}\",\"fTitle\":\"#tau_{1}^{(2)} binning 1\",\"fHists\":{\"_typename\":\"TList\",\"name\":\"TList\",\"arr\":[{\"_typename\":\"TH1D\",\"fUniqueID\":0,\"fBits\":50332168,\"fName\":\"closure_unfolded_MC\",\"fTitle\":\"closure_unfolded_MC\",\"fLineColor\":7,\"fLineStyle\":1,\"fLineWidth\":1,\"fFillColor\":0,\"fFillStyle\":1001,\"fMarkerColor\":7,\"fMarkerStyle\":2,\"fMarkerSize\":1,\"fNcells\":12,\"fXaxis\":{\"_typename\":\"TAxis\",\"fUniqueID\":0,\"fBits\":50331648,\"fName\":\"xaxis\",\"fTitle\":\"#tau_{1}^{(2)}(gen_sig)\",\"fNdivisions\":510,\"fAxisColor\":1,\"fLabelColor\":1,\"fLabelFont\":42,\"fLabelOffset\":0.005,\"fLabelSize\":0.035,\"fTickLength\":0.03,\"fTitleOffset\":1,\"fTitleSize\":0.035,\"fTitleColor\":1,\"fTitleFont\":42,\"fNbins\":10,\"fXmin\":0,\"fXmax\":0.4,\"fXbins\":[0,0.0325,0.065,0.0975,0.13,0.1625,0.195,0.2275,0.26,0.33,0.4],\"fFirst\":0,\"fLast\":0,\"fBits2\":0,\"fTimeDisplay\":false,\"fTimeFormat\":\"\",\"fLabels\":null,\"fModLabs\":null},\"fYaxis\":{\"_typename\":\"TAxis\",\"fUniqueID\":0,\"fBits\":50331648,\"fName\":\"yaxis\",\"fTitle\":\"\",\"fNdivisions\":510,\"fAxisColor\":1,\"fLabelColor\":1,\"fLabelFont\":42,\"fLabelOffset\":0.005,\"fLabelSize\":0.035,\"fTickLength\":0.03,\"fTitleOffset\":0,\"fTitleSize\":0.035,\"fTitleColor\":1,\"fTitleFont\":42,\"fNbins\":1,\"fXmin\":0,\"fXmax\":1,\"fXbins\":[],\"fFirst\":0,\"fLast\":0,\"fBits2\":0,\"fTimeDisplay\":false,\"fTimeFormat\":\"\",\"fLabels\":null,\"fModLabs\":null},\"fZaxis\":{\"_typename\":\"TAxis\",\"fUniqueID\":0,\"fBits\":50331648,\"fName\":\"zaxis\",\"fTitle\":\"\",\"fNdivisions\":510,\"fAxisColor\":1,\"fLabelColor\":1,\"fLabelFont\":42,\"fLabelOffset\":0.005,\"fLabelSize\":0.035,\"fTickLength\":0.03,\"fTitleOffset\":1,\"fTitleSize\":0.035,\"fTitleColor\":1,\"fTitleFont\":42,\"fNbins\":1,\"fXmin\":0,\"fXmax\":1,\"fXbins\":[],\"fFirst\":0,\"fLast\":0,\"fBits2\":0,\"fTimeDisplay\":false,\"fTimeFormat\":\"\",\"fLabels\":null,\"fModLabs\":null},\"fBarOffset\":0,\"fBarWidth\":1000,\"fEntries\":22,\"fTsumw\":0,\"fTsumw2\":0,\"fTsumwx\":0,\"fTsumwx2\":0,\"fMaximum\":-1111,\"fMinimum\":-1111,\"fNormFactor\":0,\"fContour\":[],\"fSumw2\":[0,148.187145014796,704.409361775546,1726.44658883974,2949.76499135388,3612.15253806025,3317.53684197635,2357.28654669157,1072.14217231993,391.628908027399,92.6056037513658,0],\"fOption\":\"\",\"fFunctions\":{\"_typename\":\"TList\",\"name\":\"TList\",\"arr\":[],\"opt\":[]},\"fBufferSize\":0,\"fBuffer\":[],\"fBinStatErrOpt\":0,\"fStatOverflows\":2,\"fArray\":[0,205.611102906876,1171.97436958775,2360.82262880136,2959.56225156647,2863.59554889057,2115.96040127889,1341.33897749845,641.947097976386,225.150495004175,15.1747557998108,0]},{\"_typename\":\"TH1D\",\"fUniqueID\":0,\"fBits\":50332168,\"fName\":\"unfolded_data\",\"fTitle\":\"unfolded_data\",\"fLineColor\":1,\"fLineStyle\":1,\"fLineWidth\":2,\"fFillColor\":0,\"fFillStyle\":1001,\"fMarkerColor\":1,\"fMarkerStyle\":22,\"fMarkerSize\":1,\"fNcells\":12,\"fXaxis\":{\"_typename\":\"TAxis\",\"fUniqueID\":0,\"fBits\":50331648,\"fName\":\"xaxis\",\"fTitle\":\"#tau_{1}^{(2)}(gen_sig)\",\"fNdivisions\":510,\"fAxisColor\":1,\"fLabelColor\":1,\"fLabelFont\":42,\"fLabelOffset\":0.005,\"fLabelSize\":0.035,\"fTickLength\":0.03,\"fTitleOffset\":1,\"fTitleSize\":0.035,\"fTitleColor\":1,\"fTitleFont\":42,\"fNbins\":10,\"fXmin\":0,\"fXmax\":0.4,\"fXbins\":[0,0.0325,0.065,0.0975,0.13,0.1625,0.195,0.2275,0.26,0.33,0.4],\"fFirst\":0,\"fLast\":0,\"fBits2\":0,\"fTimeDisplay\":false,\"fTimeFormat\":\"\",\"fLabels\":null,\"fModLabs\":null},\"fYaxis\":{\"_typename\":\"TAxis\",\"fUniqueID\":0,\"fBits\":50331648,\"fName\":\"yaxis\",\"fTitle\":\"\",\"fNdivisions\":510,\"fAxisColor\":1,\"fLabelColor\":1,\"fLabelFont\":42,\"fLabelOffset\":0.005,\"fLabelSize\":0.035,\"fTickLength\":0.03,\"fTitleOffset\":0,\"fTitleSize\":0.035,\"fTitleColor\":1,\"fTitleFont\":42,\"fNbins\":1,\"fXmin\":0,\"fXmax\":1,\"fXbins\":[],\"fFirst\":0,\"fLast\":0,\"fBits2\":0,\"fTimeDisplay\":false,\"fTimeFormat\":\"\",\"fLabels\":null,\"fModLabs\":null},\"fZaxis\":{\"_typename\":\"TAxis\",\"fUniqueID\":0,\"fBits\":50331648,\"fName\":\"zaxis\",\"fTitle\":\"\",\"fNdivisions\":510,\"fAxisColor\":1,\"fLabelColor\":1,\"fLabelFont\":42,\"fLabelOffset\":0.005,\"fLabelSize\":0.035,\"fTickLength\":0.03,\"fTitleOffset\":1,\"fTitleSize\":0.035,\"fTitleColor\":1,\"fTitleFont\":42,\"fNbins\":1,\"fXmin\":0,\"fXmax\":1,\"fXbins\":[],\"fFirst\":0,\"fLast\":0,\"fBits2\":0,\"fTimeDisplay\":false,\"fTimeFormat\":\"\",\"fLabels\":null,\"fModLabs\":null},\"fBarOffset\":0,\"fBarWidth\":1000,\"fEntries\":22,\"fTsumw\":0,\"fTsumw2\":0,\"fTsumwx\":0,\"fTsumwx2\":0,\"fMaximum\":-1111,\"fMinimum\":-1111,\"fNormFactor\":0,\"fContour\":[],\"fSumw2\":[0,2661.141795971,10885.8515269913,24751.3530884121,29001.9707665562,28767.6156184662,22122.2387345609,13021.8332912979,5222.53259387776,1559.83129220078,500.412662598044,0],\"fOption\":\"\",\"fFunctions\":{\"_typename\":\"TList\",\"name\":\"TList\",\"arr\":[],\"opt\":[]},\"fBufferSize\":0,\"fBuffer\":[],\"fBinStatErrOpt\":0,\"fStatOverflows\":2,\"fArray\":[0,114.319095777886,1216.83544167394,2450.85195206102,3315.2040616586,2741.69958098534,2159.8976806126,1417.23782460472,585.999630191004,322.669828991423,29.8035676352769,0]}],\"opt\":[\"E\",\"E \"]},\"fHistogram\":{\"_typename\":\"TH1F\",\"fUniqueID\":0,\"fBits\":50332160,\"fName\":\"#tau_{1}^{(2)}\",\"fTitle\":\"#tau_{1}^{(2)} binning 1\",\"fLineColor\":602,\"fLineStyle\":1,\"fLineWidth\":1,\"fFillColor\":0,\"fFillStyle\":1001,\"fMarkerColor\":1,\"fMarkerStyle\":1,\"fMarkerSize\":1,\"fNcells\":12,\"fXaxis\":{\"_typename\":\"TAxis\",\"fUniqueID\":0,\"fBits\":50331648,\"fName\":\"xaxis\",\"fTitle\":\"\",\"fNdivisions\":510,\"fAxisColor\":1,\"fLabelColor\":1,\"fLabelFont\":42,\"fLabelOffset\":0.005,\"fLabelSize\":0.035,\"fTickLength\":0.03,\"fTitleOffset\":1,\"fTitleSize\":0.035,\"fTitleColor\":1,\"fTitleFont\":42,\"fNbins\":10,\"fXmin\":0,\"fXmax\":0.4,\"fXbins\":[0,0.0325,0.065,0.0975,0.13,0.1625,0.195,0.2275,0.26,0.33,0.4],\"fFirst\":0,\"fLast\":0,\"fBits2\":0,\"fTimeDisplay\":false,\"fTimeFormat\":\"\",\"fLabels\":null,\"fModLabs\":null},\"fYaxis\":{\"_typename\":\"TAxis\",\"fUniqueID\":0,\"fBits\":50331648,\"fName\":\"yaxis\",\"fTitle\":\"\",\"fNdivisions\":510,\"fAxisColor\":1,\"fLabelColor\":1,\"fLabelFont\":42,\"fLabelOffset\":0.005,\"fLabelSize\":0.035,\"fTickLength\":0.03,\"fTitleOffset\":0,\"fTitleSize\":0.035,\"fTitleColor\":1,\"fTitleFont\":42,\"fNbins\":1,\"fXmin\":0,\"fXmax\":1,\"fXbins\":[],\"fFirst\":0,\"fLast\":0,\"fBits2\":0,\"fTimeDisplay\":false,\"fTimeFormat\":\"\",\"fLabels\":null,\"fModLabs\":null},\"fZaxis\":{\"_typename\":\"TAxis\",\"fUniqueID\":0,\"fBits\":50331648,\"fName\":\"zaxis\",\"fTitle\":\"\",\"fNdivisions\":510,\"fAxisColor\":1,\"fLabelColor\":1,\"fLabelFont\":42,\"fLabelOffset\":0.005,\"fLabelSize\":0.035,\"fTickLength\":0.03,\"fTitleOffset\":1,\"fTitleSize\":0.035,\"fTitleColor\":1,\"fTitleFont\":42,\"fNbins\":1,\"fXmin\":0,\"fXmax\":1,\"fXbins\":[],\"fFirst\":0,\"fLast\":0,\"fBits2\":0,\"fTimeDisplay\":false,\"fTimeFormat\":\"\",\"fLabels\":null,\"fModLabs\":null},\"fBarOffset\":0,\"fBarWidth\":1000,\"fEntries\":0,\"fTsumw\":0,\"fTsumw2\":0,\"fTsumwx\":0,\"fTsumwx2\":0,\"fMaximum\":3480.96426474153,\"fMinimum\":0,\"fNormFactor\":0,\"fContour\":[],\"fSumw2\":[0,0,0,0,0,0,0,0,0,0,0,0],\"fOption\":\"\",\"fFunctions\":{\"_typename\":\"TList\",\"name\":\"TList\",\"arr\":[],\"opt\":[]},\"fBufferSize\":0,\"fBuffer\":[],\"fBinStatErrOpt\":0,\"fStatOverflows\":2,\"fArray\":[0,0,0,0,0,0,0,0,0,0,0,0]},\"fMaximum\":-1111,\"fMinimum\":-1111},{\"_typename\":\"TLegend\",\"fUniqueID\":0,\"fBits\":50331656,\"fLineColor\":0,\"fLineStyle\":1,\"fLineWidth\":1,\"fFillColor\":0,\"fFillStyle\":0,\"fX1\":-0.0400000035762789,\"fY1\":2610.72321152375,\"fX2\":0.405000003054738,\"fY2\":3263.40402088849,\"fX1NDC\":0.02,\"fY1NDC\":0.7,\"fX2NDC\":0.91,\"fY2NDC\":0.85,\"fBorderSize\":0,\"fInit\":1,\"fShadowColor\":1,\"fCornerRadius\":0,\"fOption\":\"brNDC\",\"fName\":\"TPave\",\"fTextAngle\":0,\"fTextSize\":6,\"fTextAlign\":12,\"fTextColor\":1,\"fTextFont\":42,\"fPrimitives\":{\"_typename\":\"TList\",\"name\":\"TList\",\"arr\":[{\"_typename\":\"TLegendEntry\",\"fUniqueID\":0,\"fBits\":50331656,\"fTextAngle\":0,\"fTextSize\":0,\"fTextAlign\":0,\"fTextColor\":0,\"fTextFont\":42,\"fLineColor\":1,\"fLineStyle\":1,\"fLineWidth\":1,\"fFillColor\":0,\"fFillStyle\":0,\"fMarkerColor\":1,\"fMarkerStyle\":22,\"fMarkerSize\":1,\"fObject\":{\"$ref\":12},\"fLabel\":\"Data (2016)\",\"fOption\":\"p\"},{\"_typename\":\"TLegendEntry\",\"fUniqueID\":0,\"fBits\":50331656,\"fTextAngle\":0,\"fTextSize\":0,\"fTextAlign\":0,\"fTextColor\":0,\"fTextFont\":42,\"fLineColor\":1,\"fLineStyle\":1,\"fLineWidth\":1,\"fFillColor\":0,\"fFillStyle\":0,\"fMarkerColor\":7,\"fMarkerStyle\":2,\"fMarkerSize\":1,\"fObject\":{\"$ref\":7},\"fLabel\":\"MC self-closure (ttbar Powheg)\",\"fOption\":\"p\"}],\"opt\":[\"p\",\"p\"]},\"fEntrySeparation\":0.1,\"fMargin\":0.25,\"fNColumns\":1,\"fColumnSeparation\":0},{\"_typename\":\"TPaveText\",\"fUniqueID\":0,\"fBits\":50331657,\"fLineColor\":1,\"fLineStyle\":1,\"fLineWidth\":1,\"fFillColor\":0,\"fFillStyle\":0,\"fX1\":0.12895538222778,\"fY1\":3529.99765516961,\"fX2\":0.27104461777222,\"fY2\":3894.32882402257,\"fX1NDC\":0.357910766572854,\"fY1NDC\":0.911268915170171,\"fX2NDC\":0.642089233427146,\"fY2NDC\":0.995000004768372,\"fBorderSize\":0,\"fInit\":1,\"fShadowColor\":1,\"fCornerRadius\":0,\"fOption\":\"blNDC\",\"fName\":\"title\",\"fTextAngle\":0,\"fTextSize\":0,\"fTextAlign\":22,\"fTextColor\":1,\"fTextFont\":42,\"fLabel\":\"\",\"fLongest\":24,\"fMargin\":0.05,\"fLines\":{\"_typename\":\"TList\",\"name\":\"TList\",\"arr\":[{\"_typename\":\"TLatex\",\"fUniqueID\":0,\"fBits\":50331648,\"fName\":\"\",\"fTitle\":\"#tau_{1}^{(2)} binning 1\",\"fTextAngle\":0,\"fTextSize\":0,\"fTextAlign\":0,\"fTextColor\":0,\"fTextFont\":0,\"fX\":0,\"fY\":0,\"fLineColor\":1,\"fLineStyle\":1,\"fLineWidth\":2,\"fLimitFactorSize\":3,\"fOriginSize\":0.0585970133543015}],\"opt\":[\"\"]}}],\"opt\":[\"\",\"nostack\",\"\",\"blNDC\"]},\"fExecs\":{\"_typename\":\"TList\",\"name\":\"TList\",\"arr\":[],\"opt\":[]},\"fName\":\"c5_1\",\"fTitle\":\"c5_1\",\"fNumPaletteColor\":0,\"fNextPaletteColor\":0},{\"_typename\":\"TPad\",\"fUniqueID\":0,\"fBits\":50331657,\"fLineColor\":1,\"fLineStyle\":1,\"fLineWidth\":1,\"fFillColor\":0,\"fFillStyle\":1001,\"fLeftMargin\":0.1,\"fRightMargin\":0.1,\"fBottomMargin\":0.1,\"fTopMargin\":0.1,\"fXfile\":2,\"fYfile\":2,\"fAfile\":1,\"fXstat\":0.99,\"fYstat\":0.99,\"fAstat\":2,\"fFrameFillColor\":0,\"fFrameLineColor\":1,\"fFrameFillStyle\":1001,\"fFrameLineStyle\":1,\"fFrameLineWidth\":1,\"fFrameBorderSize\":1,\"fFrameBorderMode\":0,\"fX1\":-0.0500000037252905,\"fY1\":-403.832147881894,\"fX2\":0.450000003725291,\"fY2\":3423.85762877875,\"fXtoAbsPixelk\":448.101385353136,\"fXtoPixelk\":37.4747189537963,\"fXtoPixel\":749.493323234319,\"fYtoAbsPixelk\":305.370166879199,\"fYtoPixelk\":294.850167114339,\"fYtoPixel\":-0.0861163485993163,\"fUtoAbsPixelk\":410.62671639934,\"fUtoPixelk\":5e-5,\"fUtoPixel\":374.74666720132,\"fVtoAbsPixelk\":340.146716901807,\"fVtoPixelk\":329.626667136947,\"fVtoPixel\":-329.626667136947,\"fAbsPixeltoXk\":-0.597872351176427,\"fPixeltoXk\":-0.0500000037252905,\"fPixeltoX\":0.00133423470096392,\"fAbsPixeltoYk\":3546.01793789505,\"fPixeltoYk\":-403.832147881894,\"fPixeltoY\":-11.6121969436119,\"fXlowNDC\":0.343333333109816,\"fYlowNDC\":0.676666666443149,\"fXUpNDC\":0,\"fYUpNDC\":0,\"fWNDC\":0.313333333780368,\"fHNDC\":0.313333333780368,\"fAbsXlowNDC\":0.343333333109816,\"fAbsYlowNDC\":0.676666666443149,\"fAbsWNDC\":0.313333333780368,\"fAbsHNDC\":0.313333333780368,\"fUxmin\":0,\"fUymin\":-21.0631474010196,\"fUxmax\":0.4,\"fUymax\":3041.08862829787,\"fTheta\":30,\"fPhi\":30,\"fAspectRatio\":0,\"fNumber\":2,\"fTickx\":0,\"fTicky\":0,\"fLogx\":0,\"fLogy\":0,\"fLogz\":0,\"fPadPaint\":0,\"fCrosshair\":0,\"fCrosshairPos\":0,\"fBorderSize\":2,\"fBorderMode\":0,\"fModified\":false,\"fGridx\":false,\"fGridy\":false,\"fAbsCoord\":false,\"fEditable\":true,\"fFixedAspectRatio\":false,\"fPrimitives\":{\"_typename\":\"TList\",\"name\":\"TList\",\"arr\":[{\"_typename\":\"TFrame\",\"fUniqueID\":0,\"fBits\":50331656,\"fLineColor\":1,\"fLineStyle\":1,\"fLineWidth\":1,\"fFillColor\":0,\"fFillStyle\":1001,\"fX1\":0,\"fY1\":-21.0631474010196,\"fX2\":0.4,\"fY2\":3041.08862829787,\"fBorderSize\":1,\"fBorderMode\":0},{\"_typename\":\"THStack\",\"fUniqueID\":0,\"fBits\":50331656,\"fName\":\"#tau_{1}^{(2)}\",\"fTitle\":\"#tau_{1}^{(2)} binning 2\",\"fHists\":{\"_typename\":\"TList\",\"name\":\"TList\",\"arr\":[{\"_typename\":\"TH1D\",\"fUniqueID\":0,\"fBits\":50332168,\"fName\":\"closure_unfolded_MC\",\"fTitle\":\"closure_unfolded_MC\",\"fLineColor\":7,\"fLineStyle\":1,\"fLineWidth\":1,\"fFillColor\":0,\"fFillStyle\":1001,\"fMarkerColor\":7,\"fMarkerStyle\":2,\"fMarkerSize\":1,\"fNcells\":14,\"fXaxis\":{\"_typename\":\"TAxis\",\"fUniqueID\":0,\"fBits\":50331648,\"fName\":\"xaxis\",\"fTitle\":\"#tau_{1}^{(2)}(gen_sig)\",\"fNdivisions\":510,\"fAxisColor\":1,\"fLabelColor\":1,\"fLabelFont\":42,\"fLabelOffset\":0.005,\"fLabelSize\":0.035,\"fTickLength\":0.03,\"fTitleOffset\":1,\"fTitleSize\":0.035,\"fTitleColor\":1,\"fTitleFont\":42,\"fNbins\":12,\"fXmin\":0,\"fXmax\":0.4,\"fXbins\":[0,0.026,0.052,0.078,0.104,0.13,0.156,0.182,0.208,0.234,0.26,0.33,0.4],\"fFirst\":0,\"fLast\":0,\"fBits2\":0,\"fTimeDisplay\":false,\"fTimeFormat\":\"\",\"fLabels\":null,\"fModLabs\":null},\"fYaxis\":{\"_typename\":\"TAxis\",\"fUniqueID\":0,\"fBits\":50331648,\"fName\":\"yaxis\",\"fTitle\":\"\",\"fNdivisions\":510,\"fAxisColor\":1,\"fLabelColor\":1,\"fLabelFont\":42,\"fLabelOffset\":0.005,\"fLabelSize\":0.035,\"fTickLength\":0.03,\"fTitleOffset\":0,\"fTitleSize\":0.035,\"fTitleColor\":1,\"fTitleFont\":42,\"fNbins\":1,\"fXmin\":0,\"fXmax\":1,\"fXbins\":[],\"fFirst\":0,\"fLast\":0,\"fBits2\":0,\"fTimeDisplay\":false,\"fTimeFormat\":\"\",\"fLabels\":null,\"fModLabs\":null},\"fZaxis\":{\"_typename\":\"TAxis\",\"fUniqueID\":0,\"fBits\":50331648,\"fName\":\"zaxis\",\"fTitle\":\"\",\"fNdivisions\":510,\"fAxisColor\":1,\"fLabelColor\":1,\"fLabelFont\":42,\"fLabelOffset\":0.005,\"fLabelSize\":0.035,\"fTickLength\":0.03,\"fTitleOffset\":1,\"fTitleSize\":0.035,\"fTitleColor\":1,\"fTitleFont\":42,\"fNbins\":1,\"fXmin\":0,\"fXmax\":1,\"fXbins\":[],\"fFirst\":0,\"fLast\":0,\"fBits2\":0,\"fTimeDisplay\":false,\"fTimeFormat\":\"\",\"fLabels\":null,\"fModLabs\":null},\"fBarOffset\":0,\"fBarWidth\":1000,\"fEntries\":26,\"fTsumw\":0,\"fTsumw2\":0,\"fTsumwx\":0,\"fTsumwx2\":0,\"fMaximum\":-1111,\"fMinimum\":-1111,\"fNormFactor\":0,\"fContour\":[],\"fSumw2\":[0,110.162494703348,463.571501607116,1118.80266535162,2253.11107632475,3711.00060662463,4711.39997527835,4658.67985120399,4208.2151660943,3356.78479155206,1649.05011906362,484.464186610705,93.6607418142264,0],\"fOption\":\"\",\"fFunctions\":{\"_typename\":\"TList\",\"name\":\"TList\",\"arr\":[],\"opt\":[]},\"fBufferSize\":0,\"fBuffer\":[],\"fBinStatErrOpt\":0,\"fStatOverflows\":2,\"fArray\":[0,106.845159417958,667.217059325688,1430.38849917641,2112.46333433983,2381.05630060258,2343.17819579786,1860.79474053248,1414.2533173471,885.46286529353,459.152906673321,225.150495004176,15.1747557998105,0]},{\"_typename\":\"TH1D\",\"fUniqueID\":0,\"fBits\":50332168,\"fName\":\"unfolded_data\",\"fTitle\":\"unfolded_data\",\"fLineColor\":1,\"fLineStyle\":1,\"fLineWidth\":2,\"fFillColor\":0,\"fFillStyle\":1001,\"fMarkerColor\":1,\"fMarkerStyle\":22,\"fMarkerSize\":1,\"fNcells\":14,\"fXaxis\":{\"_typename\":\"TAxis\",\"fUniqueID\":0,\"fBits\":50331648,\"fName\":\"xaxis\",\"fTitle\":\"#tau_{1}^{(2)}(gen_sig)\",\"fNdivisions\":510,\"fAxisColor\":1,\"fLabelColor\":1,\"fLabelFont\":42,\"fLabelOffset\":0.005,\"fLabelSize\":0.035,\"fTickLength\":0.03,\"fTitleOffset\":1,\"fTitleSize\":0.035,\"fTitleColor\":1,\"fTitleFont\":42,\"fNbins\":12,\"fXmin\":0,\"fXmax\":0.4,\"fXbins\":[0,0.026,0.052,0.078,0.104,0.13,0.156,0.182,0.208,0.234,0.26,0.33,0.4],\"fFirst\":0,\"fLast\":0,\"fBits2\":0,\"fTimeDisplay\":false,\"fTimeFormat\":\"\",\"fLabels\":null,\"fModLabs\":null},\"fYaxis\":{\"_typename\":\"TAxis\",\"fUniqueID\":0,\"fBits\":50331648,\"fName\":\"yaxis\",\"fTitle\":\"\",\"fNdivisions\":510,\"fAxisColor\":1,\"fLabelColor\":1,\"fLabelFont\":42,\"fLabelOffset\":0.005,\"fLabelSize\":0.035,\"fTickLength\":0.03,\"fTitleOffset\":0,\"fTitleSize\":0.035,\"fTitleColor\":1,\"fTitleFont\":42,\"fNbins\":1,\"fXmin\":0,\"fXmax\":1,\"fXbins\":[],\"fFirst\":0,\"fLast\":0,\"fBits2\":0,\"fTimeDisplay\":false,\"fTimeFormat\":\"\",\"fLabels\":null,\"fModLabs\":null},\"fZaxis\":{\"_typename\":\"TAxis\",\"fUniqueID\":0,\"fBits\":50331648,\"fName\":\"zaxis\",\"fTitle\":\"\",\"fNdivisions\":510,\"fAxisColor\":1,\"fLabelColor\":1,\"fLabelFont\":42,\"fLabelOffset\":0.005,\"fLabelSize\":0.035,\"fTickLength\":0.03,\"fTitleOffset\":1,\"fTitleSize\":0.035,\"fTitleColor\":1,\"fTitleFont\":42,\"fNbins\":1,\"fXmin\":0,\"fXmax\":1,\"fXbins\":[],\"fFirst\":0,\"fLast\":0,\"fBits2\":0,\"fTimeDisplay\":false,\"fTimeFormat\":\"\",\"fLabels\":null,\"fModLabs\":null},\"fBarOffset\":0,\"fBarWidth\":1000,\"fEntries\":26,\"fTsumw\":0,\"fTsumw2\":0,\"fTsumwx\":0,\"fTsumwx2\":0,\"fMaximum\":-1111,\"fMinimum\":-1111,\"fNormFactor\":0,\"fContour\":[],\"fSumw2\":[0,2953.32328567833,6736.01854695423,20755.8719760833,25986.8364839019,36081.8323941672,39473.7231250705,30652.5850561748,25585.4155663975,19191.9766962923,10457.7344150648,2126.2589310151,515.876279102711,0],\"fOption\":\"\",\"fFunctions\":{\"_typename\":\"TList\",\"name\":\"TList\",\"arr\":[],\"opt\":[]},\"fBufferSize\":0,\"fBuffer\":[],\"fBinStatErrOpt\":0,\"fStatOverflows\":2,\"fArray\":[0,-21.0631474010196,723.785895331064,1407.25564849111,2225.44476102257,2896.27488409321,1975.53108723728,2126.93757203291,1288.63748202868,1001.68927109408,413.613398733466,329.114613246307,27.7809324054064,0]}],\"opt\":[\"E\",\"E \"]},\"fHistogram\":{\"_typename\":\"TH1F\",\"fUniqueID\":0,\"fBits\":50332160,\"fName\":\"#tau_{1}^{(2)}\",\"fTitle\":\"#tau_{1}^{(2)} binning 2\",\"fLineColor\":602,\"fLineStyle\":1,\"fLineWidth\":1,\"fFillColor\":0,\"fFillStyle\":1001,\"fMarkerColor\":1,\"fMarkerStyle\":1,\"fMarkerSize\":1,\"fNcells\":14,\"fXaxis\":{\"_typename\":\"TAxis\",\"fUniqueID\":0,\"fBits\":50331648,\"fName\":\"xaxis\",\"fTitle\":\"\",\"fNdivisions\":510,\"fAxisColor\":1,\"fLabelColor\":1,\"fLabelFont\":42,\"fLabelOffset\":0.005,\"fLabelSize\":0.035,\"fTickLength\":0.03,\"fTitleOffset\":1,\"fTitleSize\":0.035,\"fTitleColor\":1,\"fTitleFont\":42,\"fNbins\":12,\"fXmin\":0,\"fXmax\":0.4,\"fXbins\":[0,0.026,0.052,0.078,0.104,0.13,0.156,0.182,0.208,0.234,0.26,0.33,0.4],\"fFirst\":0,\"fLast\":0,\"fBits2\":0,\"fTimeDisplay\":false,\"fTimeFormat\":\"\",\"fLabels\":null,\"fModLabs\":null},\"fYaxis\":{\"_typename\":\"TAxis\",\"fUniqueID\":0,\"fBits\":50331648,\"fName\":\"yaxis\",\"fTitle\":\"\",\"fNdivisions\":510,\"fAxisColor\":1,\"fLabelColor\":1,\"fLabelFont\":42,\"fLabelOffset\":0.005,\"fLabelSize\":0.035,\"fTickLength\":0.03,\"fTitleOffset\":0,\"fTitleSize\":0.035,\"fTitleColor\":1,\"fTitleFont\":42,\"fNbins\":1,\"fXmin\":0,\"fXmax\":1,\"fXbins\":[],\"fFirst\":0,\"fLast\":0,\"fBits2\":0,\"fTimeDisplay\":false,\"fTimeFormat\":\"\",\"fLabels\":null,\"fModLabs\":null},\"fZaxis\":{\"_typename\":\"TAxis\",\"fUniqueID\":0,\"fBits\":50331648,\"fName\":\"zaxis\",\"fTitle\":\"\",\"fNdivisions\":510,\"fAxisColor\":1,\"fLabelColor\":1,\"fLabelFont\":42,\"fLabelOffset\":0.005,\"fLabelSize\":0.035,\"fTickLength\":0.03,\"fTitleOffset\":1,\"fTitleSize\":0.035,\"fTitleColor\":1,\"fTitleFont\":42,\"fNbins\":1,\"fXmin\":0,\"fXmax\":1,\"fXbins\":[],\"fFirst\":0,\"fLast\":0,\"fBits2\":0,\"fTimeDisplay\":false,\"fTimeFormat\":\"\",\"fLabels\":null,\"fModLabs\":null},\"fBarOffset\":0,\"fBarWidth\":1000,\"fEntries\":0,\"fTsumw\":0,\"fTsumw2\":0,\"fTsumwx\":0,\"fTsumwx2\":0,\"fMaximum\":3041.08862829787,\"fMinimum\":-21.0631474010196,\"fNormFactor\":0,\"fContour\":[],\"fSumw2\":[0,0,0,0,0,0,0,0,0,0,0,0,0,0],\"fOption\":\"\",\"fFunctions\":{\"_typename\":\"TList\",\"name\":\"TList\",\"arr\":[],\"opt\":[]},\"fBufferSize\":0,\"fBuffer\":[],\"fBinStatErrOpt\":0,\"fStatOverflows\":2,\"fArray\":[0,0,0,0,0,0,0,0,0,0,0,0,0,0]},\"fMaximum\":-1111,\"fMinimum\":-1111},{\"_typename\":\"TPaveText\",\"fUniqueID\":0,\"fBits\":50331657,\"fLineColor\":1,\"fLineStyle\":1,\"fLineWidth\":1,\"fFillColor\":0,\"fFillStyle\":0,\"fX1\":0.127621147526816,\"fY1\":3084.2225625036,\"fX2\":0.272378852473184,\"fY2\":3404.71919814729,\"fX1NDC\":0.35524229721069,\"fY1NDC\":0.911268915170171,\"fX2NDC\":0.64475770278931,\"fY2NDC\":0.995000004768372,\"fBorderSize\":0,\"fInit\":1,\"fShadowColor\":1,\"fCornerRadius\":0,\"fOption\":\"blNDC\",\"fName\":\"title\",\"fTextAngle\":0,\"fTextSize\":0,\"fTextAlign\":22,\"fTextColor\":1,\"fTextFont\":42,\"fLabel\":\"\",\"fLongest\":24,\"fMargin\":0.05,\"fLines\":{\"_typename\":\"TList\",\"name\":\"TList\",\"arr\":[{\"_typename\":\"TLatex\",\"fUniqueID\":0,\"fBits\":50331648,\"fName\":\"\",\"fTitle\":\"#tau_{1}^{(2)} binning 2\",\"fTextAngle\":0,\"fTextSize\":0,\"fTextAlign\":0,\"fTextColor\":0,\"fTextFont\":0,\"fX\":0,\"fY\":0,\"fLineColor\":1,\"fLineStyle\":1,\"fLineWidth\":2,\"fLimitFactorSize\":3,\"fOriginSize\":0.057756096124649}],\"opt\":[\"\"]}}],\"opt\":[\"\",\"nostack\",\"blNDC\"]},\"fExecs\":{\"_typename\":\"TList\",\"name\":\"TList\",\"arr\":[],\"opt\":[]},\"fName\":\"c5_2\",\"fTitle\":\"c5_2\",\"fNumPaletteColor\":0,\"fNextPaletteColor\":0},{\"_typename\":\"TPad\",\"fUniqueID\":0,\"fBits\":50331657,\"fLineColor\":1,\"fLineStyle\":1,\"fLineWidth\":1,\"fFillColor\":0,\"fFillStyle\":1001,\"fLeftMargin\":0.1,\"fRightMargin\":0.1,\"fBottomMargin\":0.1,\"fTopMargin\":0.1,\"fXfile\":2,\"fYfile\":2,\"fAfile\":1,\"fXstat\":0.99,\"fYstat\":0.99,\"fAstat\":2,\"fFrameFillColor\":0,\"fFrameLineColor\":1,\"fFrameFillStyle\":1001,\"fFrameLineStyle\":1,\"fFrameLineWidth\":1,\"fFrameBorderSize\":1,\"fFrameBorderMode\":0,\"fX1\":-0.0500000037252905,\"fY1\":-296.145218396935,\"fX2\":0.450000003725291,\"fY2\":2592.4817052965,\"fXtoAbsPixelk\":846.768052019803,\"fXtoPixelk\":37.4747189537963,\"fXtoPixel\":749.493323234319,\"fYtoAbsPixelk\":306.35302740593,\"fYtoPixelk\":295.833027641071,\"fYtoPixel\":-0.114111886319844,\"fUtoAbsPixelk\":809.293383066006,\"fUtoPixelk\":5e-5,\"fUtoPixel\":374.74666720132,\"fVtoAbsPixelk\":340.146716901807,\"fVtoPixelk\":329.626667136947,\"fVtoPixel\":-329.626667136947,\"fAbsPixeltoXk\":-1.12978725196071,\"fPixeltoXk\":-0.0500000037252905,\"fPixeltoX\":0.00133423470096392,\"fAbsPixeltoYk\":2684.6719240733,\"fPixeltoYk\":-296.145218396935,\"fPixeltoY\":-8.76332897694022,\"fXlowNDC\":0.676666666443149,\"fYlowNDC\":0.676666666443149,\"fXUpNDC\":0,\"fYUpNDC\":0,\"fWNDC\":0.313333333780368,\"fHNDC\":0.313333333780368,\"fAbsXlowNDC\":0.676666666443149,\"fAbsYlowNDC\":0.676666666443149,\"fAbsWNDC\":0.313333333780368,\"fAbsHNDC\":0.313333333780368,\"fUxmin\":0,\"fUymin\":-7.28250881003188,\"fUxmax\":0.4,\"fUymax\":2303.6189957096,\"fTheta\":30,\"fPhi\":30,\"fAspectRatio\":0,\"fNumber\":3,\"fTickx\":0,\"fTicky\":0,\"fLogx\":0,\"fLogy\":0,\"fLogz\":0,\"fPadPaint\":0,\"fCrosshair\":0,\"fCrosshairPos\":0,\"fBorderSize\":2,\"fBorderMode\":0,\"fModified\":false,\"fGridx\":false,\"fGridy\":false,\"fAbsCoord\":false,\"fEditable\":true,\"fFixedAspectRatio\":false,\"fPrimitives\":{\"_typename\":\"TList\",\"name\":\"TList\",\"arr\":[{\"_typename\":\"TFrame\",\"fUniqueID\":0,\"fBits\":50331656,\"fLineColor\":1,\"fLineStyle\":1,\"fLineWidth\":1,\"fFillColor\":0,\"fFillStyle\":1001,\"fX1\":0,\"fY1\":-7.28250881003188,\"fX2\":0.4,\"fY2\":2303.6189957096,\"fBorderSize\":1,\"fBorderMode\":0},{\"_typename\":\"THStack\",\"fUniqueID\":0,\"fBits\":50331656,\"fName\":\"#tau_{1}^{(2)}\",\"fTitle\":\"#tau_{1}^{(2)} binning 3\",\"fHists\":{\"_typename\":\"TList\",\"name\":\"TList\",\"arr\":[{\"_typename\":\"TH1D\",\"fUniqueID\":0,\"fBits\":50332168,\"fName\":\"closure_unfolded_MC\",\"fTitle\":\"closure_unfolded_MC\",\"fLineColor\":7,\"fLineStyle\":1,\"fLineWidth\":1,\"fFillColor\":0,\"fFillStyle\":1001,\"fMarkerColor\":7,\"fMarkerStyle\":2,\"fMarkerSize\":1,\"fNcells\":17,\"fXaxis\":{\"_typename\":\"TAxis\",\"fUniqueID\":0,\"fBits\":50331648,\"fName\":\"xaxis\",\"fTitle\":\"#tau_{1}^{(2)}(gen_sig)\",\"fNdivisions\":510,\"fAxisColor\":1,\"fLabelColor\":1,\"fLabelFont\":42,\"fLabelOffset\":0.005,\"fLabelSize\":0.035,\"fTickLength\":0.03,\"fTitleOffset\":1,\"fTitleSize\":0.035,\"fTitleColor\":1,\"fTitleFont\":42,\"fNbins\":15,\"fXmin\":0,\"fXmax\":0.4,\"fXbins\":[0,0.02,0.04,0.06,0.08,0.1,0.12,0.14,0.16,0.18,0.2,0.22,0.24,0.26,0.33,0.4],\"fFirst\":0,\"fLast\":0,\"fBits2\":0,\"fTimeDisplay\":false,\"fTimeFormat\":\"\",\"fLabels\":null,\"fModLabs\":null},\"fYaxis\":{\"_typename\":\"TAxis\",\"fUniqueID\":0,\"fBits\":50331648,\"fName\":\"yaxis\",\"fTitle\":\"\",\"fNdivisions\":510,\"fAxisColor\":1,\"fLabelColor\":1,\"fLabelFont\":42,\"fLabelOffset\":0.005,\"fLabelSize\":0.035,\"fTickLength\":0.03,\"fTitleOffset\":0,\"fTitleSize\":0.035,\"fTitleColor\":1,\"fTitleFont\":42,\"fNbins\":1,\"fXmin\":0,\"fXmax\":1,\"fXbins\":[],\"fFirst\":0,\"fLast\":0,\"fBits2\":0,\"fTimeDisplay\":false,\"fTimeFormat\":\"\",\"fLabels\":null,\"fModLabs\":null},\"fZaxis\":{\"_typename\":\"TAxis\",\"fUniqueID\":0,\"fBits\":50331648,\"fName\":\"zaxis\",\"fTitle\":\"\",\"fNdivisions\":510,\"fAxisColor\":1,\"fLabelColor\":1,\"fLabelFont\":42,\"fLabelOffset\":0.005,\"fLabelSize\":0.035,\"fTickLength\":0.03,\"fTitleOffset\":1,\"fTitleSize\":0.035,\"fTitleColor\":1,\"fTitleFont\":42,\"fNbins\":1,\"fXmin\":0,\"fXmax\":1,\"fXbins\":[],\"fFirst\":0,\"fLast\":0,\"fBits2\":0,\"fTimeDisplay\":false,\"fTimeFormat\":\"\",\"fLabels\":null,\"fModLabs\":null},\"fBarOffset\":0,\"fBarWidth\":1000,\"fEntries\":32,\"fTsumw\":0,\"fTsumw2\":0,\"fTsumwx\":0,\"fTsumwx2\":0,\"fMaximum\":-1111,\"fMinimum\":-1111,\"fNormFactor\":0,\"fContour\":[],\"fSumw2\":[0,53.2339170753074,226.984021846677,631.794592256572,1386.40606152674,2693.59952171065,4653.49871586416,6744.09936132487,8845.95270614678,9609.2263955203,8702.97311320071,6964.81364949766,5732.42943897296,3109.89185471619,691.774668683454,95.7217339829899,0],\"fOption\":\"\",\"fFunctions\":{\"_typename\":\"TList\",\"name\":\"TList\",\"arr\":[],\"opt\":[]},\"fBufferSize\":0,\"fBuffer\":[],\"fBinStatErrOpt\":0,\"fStatOverflows\":2,\"fArray\":[0,47.4597044192475,321.74253260917,749.011587348266,1222.02003968935,1620.19677803636,1817.81960374845,1848.46841453276,1739.20230885287,1412.42341455373,1159.38710608736,851.026458190868,566.451457105234,305.602973333059,225.150495004174,15.1747557998109,0]},{\"_typename\":\"TH1D\",\"fUniqueID\":0,\"fBits\":50332168,\"fName\":\"unfolded_data\",\"fTitle\":\"unfolded_data\",\"fLineColor\":1,\"fLineStyle\":1,\"fLineWidth\":2,\"fFillColor\":0,\"fFillStyle\":1001,\"fMarkerColor\":1,\"fMarkerStyle\":22,\"fMarkerSize\":1,\"fNcells\":17,\"fXaxis\":{\"_typename\":\"TAxis\",\"fUniqueID\":0,\"fBits\":50331648,\"fName\":\"xaxis\",\"fTitle\":\"#tau_{1}^{(2)}(gen_sig)\",\"fNdivisions\":510,\"fAxisColor\":1,\"fLabelColor\":1,\"fLabelFont\":42,\"fLabelOffset\":0.005,\"fLabelSize\":0.035,\"fTickLength\":0.03,\"fTitleOffset\":1,\"fTitleSize\":0.035,\"fTitleColor\":1,\"fTitleFont\":42,\"fNbins\":15,\"fXmin\":0,\"fXmax\":0.4,\"fXbins\":[0,0.02,0.04,0.06,0.08,0.1,0.12,0.14,0.16,0.18,0.2,0.22,0.24,0.26,0.33,0.4],\"fFirst\":0,\"fLast\":0,\"fBits2\":0,\"fTimeDisplay\":false,\"fTimeFormat\":\"\",\"fLabels\":null,\"fModLabs\":null},\"fYaxis\":{\"_typename\":\"TAxis\",\"fUniqueID\":0,\"fBits\":50331648,\"fName\":\"yaxis\",\"fTitle\":\"\",\"fNdivisions\":510,\"fAxisColor\":1,\"fLabelColor\":1,\"fLabelFont\":42,\"fLabelOffset\":0.005,\"fLabelSize\":0.035,\"fTickLength\":0.03,\"fTitleOffset\":0,\"fTitleSize\":0.035,\"fTitleColor\":1,\"fTitleFont\":42,\"fNbins\":1,\"fXmin\":0,\"fXmax\":1,\"fXbins\":[],\"fFirst\":0,\"fLast\":0,\"fBits2\":0,\"fTimeDisplay\":false,\"fTimeFormat\":\"\",\"fLabels\":null,\"fModLabs\":null},\"fZaxis\":{\"_typename\":\"TAxis\",\"fUniqueID\":0,\"fBits\":50331648,\"fName\":\"zaxis\",\"fTitle\":\"\",\"fNdivisions\":510,\"fAxisColor\":1,\"fLabelColor\":1,\"fLabelFont\":42,\"fLabelOffset\":0.005,\"fLabelSize\":0.035,\"fTickLength\":0.03,\"fTitleOffset\":1,\"fTitleSize\":0.035,\"fTitleColor\":1,\"fTitleFont\":42,\"fNbins\":1,\"fXmin\":0,\"fXmax\":1,\"fXbins\":[],\"fFirst\":0,\"fLast\":0,\"fBits2\":0,\"fTimeDisplay\":false,\"fTimeFormat\":\"\",\"fLabels\":null,\"fModLabs\":null},\"fBarOffset\":0,\"fBarWidth\":1000,\"fEntries\":32,\"fTsumw\":0,\"fTsumw2\":0,\"fTsumwx\":0,\"fTsumwx2\":0,\"fMaximum\":-1111,\"fMinimum\":-1111,\"fNormFactor\":0,\"fContour\":[],\"fSumw2\":[0,2353.5095389669,3203.98035413536,10490.6555072466,23947.8113648528,33237.8519958996,48500.2852443244,67846.8715236934,65289.4907464044,60116.24296576,51403.5831087962,35637.3390314531,36345.4987868304,25012.0299488937,3916.64307587572,573.099611315845,0],\"fOption\":\"\",\"fFunctions\":{\"_typename\":\"TList\",\"name\":\"TList\",\"arr\":[],\"opt\":[]},\"fBufferSize\":0,\"fBuffer\":[],\"fBinStatErrOpt\":0,\"fStatOverflows\":2,\"fArray\":[0,-7.28250881003188,295.870968246233,787.801959323785,1239.46528533296,1618.1978983552,2193.92285305676,1986.18432441478,1407.97551335162,1792.31040240146,876.053274952661,1056.10960815448,430.086298372572,429.175692653192,280.447407832194,35.0335653320678,0]}],\"opt\":[\"E\",\"E \"]},\"fHistogram\":{\"_typename\":\"TH1F\",\"fUniqueID\":0,\"fBits\":50332160,\"fName\":\"#tau_{1}^{(2)}\",\"fTitle\":\"#tau_{1}^{(2)} binning 3\",\"fLineColor\":602,\"fLineStyle\":1,\"fLineWidth\":1,\"fFillColor\":0,\"fFillStyle\":1001,\"fMarkerColor\":1,\"fMarkerStyle\":1,\"fMarkerSize\":1,\"fNcells\":17,\"fXaxis\":{\"_typename\":\"TAxis\",\"fUniqueID\":0,\"fBits\":50331648,\"fName\":\"xaxis\",\"fTitle\":\"\",\"fNdivisions\":510,\"fAxisColor\":1,\"fLabelColor\":1,\"fLabelFont\":42,\"fLabelOffset\":0.005,\"fLabelSize\":0.035,\"fTickLength\":0.03,\"fTitleOffset\":1,\"fTitleSize\":0.035,\"fTitleColor\":1,\"fTitleFont\":42,\"fNbins\":15,\"fXmin\":0,\"fXmax\":0.4,\"fXbins\":[0,0.02,0.04,0.06,0.08,0.1,0.12,0.14,0.16,0.18,0.2,0.22,0.24,0.26,0.33,0.4],\"fFirst\":0,\"fLast\":0,\"fBits2\":0,\"fTimeDisplay\":false,\"fTimeFormat\":\"\",\"fLabels\":null,\"fModLabs\":null},\"fYaxis\":{\"_typename\":\"TAxis\",\"fUniqueID\":0,\"fBits\":50331648,\"fName\":\"yaxis\",\"fTitle\":\"\",\"fNdivisions\":510,\"fAxisColor\":1,\"fLabelColor\":1,\"fLabelFont\":42,\"fLabelOffset\":0.005,\"fLabelSize\":0.035,\"fTickLength\":0.03,\"fTitleOffset\":0,\"fTitleSize\":0.035,\"fTitleColor\":1,\"fTitleFont\":42,\"fNbins\":1,\"fXmin\":0,\"fXmax\":1,\"fXbins\":[],\"fFirst\":0,\"fLast\":0,\"fBits2\":0,\"fTimeDisplay\":false,\"fTimeFormat\":\"\",\"fLabels\":null,\"fModLabs\":null},\"fZaxis\":{\"_typename\":\"TAxis\",\"fUniqueID\":0,\"fBits\":50331648,\"fName\":\"zaxis\",\"fTitle\":\"\",\"fNdivisions\":510,\"fAxisColor\":1,\"fLabelColor\":1,\"fLabelFont\":42,\"fLabelOffset\":0.005,\"fLabelSize\":0.035,\"fTickLength\":0.03,\"fTitleOffset\":1,\"fTitleSize\":0.035,\"fTitleColor\":1,\"fTitleFont\":42,\"fNbins\":1,\"fXmin\":0,\"fXmax\":1,\"fXbins\":[],\"fFirst\":0,\"fLast\":0,\"fBits2\":0,\"fTimeDisplay\":false,\"fTimeFormat\":\"\",\"fLabels\":null,\"fModLabs\":null},\"fBarOffset\":0,\"fBarWidth\":1000,\"fEntries\":0,\"fTsumw\":0,\"fTsumw2\":0,\"fTsumwx\":0,\"fTsumwx2\":0,\"fMaximum\":2303.6189957096,\"fMinimum\":-7.28250881003188,\"fNormFactor\":0,\"fContour\":[],\"fSumw2\":[0,0,0,0,0,0,0,0,0,0,0,0,0,0,0,0,0],\"fOption\":\"\",\"fFunctions\":{\"_typename\":\"TList\",\"name\":\"TList\",\"arr\":[],\"opt\":[]},\"fBufferSize\":0,\"fBuffer\":[],\"fBinStatErrOpt\":0,\"fStatOverflows\":2,\"fArray\":[0,0,0,0,0,0,0,0,0,0,0,0,0,0,0,0,0]},\"fMaximum\":-1111,\"fMinimum\":-1111},{\"_typename\":\"TPaveText\",\"fUniqueID\":0,\"fBits\":50331657,\"fLineColor\":1,\"fLineStyle\":1,\"fLineWidth\":1,\"fFillColor\":0,\"fFillStyle\":0,\"fX1\":0.127621147526816,\"fY1\":2336.17070468853,\"fX2\":0.272378852473184,\"fY2\":2578.03858445208,\"fX1NDC\":0.35524229721069,\"fY1NDC\":0.911268915170171,\"fX2NDC\":0.64475770278931,\"fY2NDC\":0.995000004768372,\"fBorderSize\":0,\"fInit\":1,\"fShadowColor\":1,\"fCornerRadius\":0,\"fOption\":\"blNDC\",\"fName\":\"title\",\"fTextAngle\":0,\"fTextSize\":0,\"fTextAlign\":22,\"fTextColor\":1,\"fTextFont\":42,\"fLabel\":\"\",\"fLongest\":24,\"fMargin\":0.05,\"fLines\":{\"_typename\":\"TList\",\"name\":\"TList\",\"arr\":[{\"_typename\":\"TLatex\",\"fUniqueID\":0,\"fBits\":50331648,\"fName\":\"\",\"fTitle\":\"#tau_{1}^{(2)} binning 3\",\"fTextAngle\":0,\"fTextSize\":0,\"fTextAlign\":0,\"fTextColor\":0,\"fTextFont\":0,\"fX\":0,\"fY\":0,\"fLineColor\":1,\"fLineStyle\":1,\"fLineWidth\":2,\"fLimitFactorSize\":3,\"fOriginSize\":0.057756096124649}],\"opt\":[\"\"]}}],\"opt\":[\"\",\"nostack\",\"blNDC\"]},\"fExecs\":{\"_typename\":\"TList\",\"name\":\"TList\",\"arr\":[],\"opt\":[]},\"fName\":\"c5_3\",\"fTitle\":\"c5_3\",\"fNumPaletteColor\":0,\"fNextPaletteColor\":0},{\"_typename\":\"TPad\",\"fUniqueID\":0,\"fBits\":50331657,\"fLineColor\":1,\"fLineStyle\":1,\"fLineWidth\":1,\"fFillColor\":0,\"fFillStyle\":1001,\"fLeftMargin\":0.1,\"fRightMargin\":0.1,\"fBottomMargin\":0.1,\"fTopMargin\":0.1,\"fXfile\":2,\"fYfile\":2,\"fAfile\":1,\"fXstat\":0.99,\"fYstat\":0.99,\"fAstat\":2,\"fFrameFillColor\":0,\"fFrameLineColor\":1,\"fFrameFillStyle\":1001,\"fFrameLineStyle\":1,\"fFrameLineWidth\":1,\"fFrameBorderSize\":1,\"fFrameBorderMode\":0,\"fX1\":-0.0500000037252905,\"fY1\":-590.663839589216,\"fX2\":0.450000003725291,\"fY2\":5315.97420423987,\"fXtoAbsPixelk\":49.4347186864695,\"fXtoPixelk\":37.4747189537963,\"fXtoPixel\":749.493323234319,\"fYtoAbsPixelk\":657.850714890051,\"fYtoPixelk\":296.664048458524,\"fYtoPixel\":-0.055806139582452,\"fUtoAbsPixelk\":11.9600497326732,\"fUtoPixelk\":5e-5,\"fUtoPixel\":374.74666720132,\"fVtoAbsPixelk\":690.813383568473,\"fVtoPixelk\":329.626667136947,\"fVtoPixel\":-329.626667136947,\"fAbsPixeltoXk\":-0.0659574503921423,\"fPixeltoXk\":-0.0500000037252905,\"fPixeltoX\":0.00133423470096392,\"fAbsPixeltoYk\":11788.1414090307,\"fPixeltoYk\":-590.663839589216,\"fPixeltoY\":-17.9191753359418,\"fXlowNDC\":0.00999999977648258,\"fYlowNDC\":0.343333333109816,\"fXUpNDC\":0,\"fYUpNDC\":0,\"fWNDC\":0.313333333780368,\"fHNDC\":0.313333333780368,\"fAbsXlowNDC\":0.00999999977648258,\"fAbsYlowNDC\":0.343333333109816,\"fAbsWNDC\":0.313333333780368,\"fAbsHNDC\":0.313333333780368,\"fUxmin\":0,\"fUymin\":0,\"fUxmax\":0.4,\"fUymax\":4725.31036465065,\"fTheta\":30,\"fPhi\":30,\"fAspectRatio\":0,\"fNumber\":4,\"fTickx\":0,\"fTicky\":0,\"fLogx\":0,\"fLogy\":0,\"fLogz\":0,\"fPadPaint\":0,\"fCrosshair\":0,\"fCrosshairPos\":0,\"fBorderSize\":2,\"fBorderMode\":0,\"fModified\":false,\"fGridx\":false,\"fGridy\":false,\"fAbsCoord\":false,\"fEditable\":true,\"fFixedAspectRatio\":false,\"fPrimitives\":{\"_typename\":\"TList\",\"name\":\"TList\",\"arr\":[{\"_typename\":\"TFrame\",\"fUniqueID\":0,\"fBits\":50331656,\"fLineColor\":1,\"fLineStyle\":1,\"fLineWidth\":1,\"fFillColor\":0,\"fFillStyle\":1001,\"fX1\":0,\"fY1\":0,\"fX2\":0.4,\"fY2\":4725.31036465065,\"fBorderSize\":1,\"fBorderMode\":0},{\"_typename\":\"THStack\",\"fUniqueID\":0,\"fBits\":50331656,\"fName\":\"#tau_{1}^{(2)}\",\"fTitle\":\"#tau_{1}^{(2)} binning 4\",\"fHists\":{\"_typename\":\"TList\",\"name\":\"TList\",\"arr\":[{\"_typename\":\"TH1D\",\"fUniqueID\":0,\"fBits\":50332168,\"fName\":\"closure_unfolded_MC\",\"fTitle\":\"closure_unfolded_MC\",\"fLineColor\":7,\"fLineStyle\":1,\"fLineWidth\":1,\"fFillColor\":0,\"fFillStyle\":1001,\"fMarkerColor\":7,\"fMarkerStyle\":2,\"fMarkerSize\":1,\"fNcells\":10,\"fXaxis\":{\"_typename\":\"TAxis\",\"fUniqueID\":0,\"fBits\":50331648,\"fName\":\"xaxis\",\"fTitle\":\"#tau_{1}^{(2)}(gen_sig)\",\"fNdivisions\":510,\"fAxisColor\":1,\"fLabelColor\":1,\"fLabelFont\":42,\"fLabelOffset\":0.005,\"fLabelSize\":0.035,\"fTickLength\":0.03,\"fTitleOffset\":1,\"fTitleSize\":0.035,\"fTitleColor\":1,\"fTitleFont\":42,\"fNbins\":8,\"fXmin\":0,\"fXmax\":0.4,\"fXbins\":[0,0.045,0.09,0.135,0.18,0.225,0.27,0.33,0.4],\"fFirst\":0,\"fLast\":0,\"fBits2\":0,\"fTimeDisplay\":false,\"fTimeFormat\":\"\",\"fLabels\":null,\"fModLabs\":null},\"fYaxis\":{\"_typename\":\"TAxis\",\"fUniqueID\":0,\"fBits\":50331648,\"fName\":\"yaxis\",\"fTitle\":\"\",\"fNdivisions\":510,\"fAxisColor\":1,\"fLabelColor\":1,\"fLabelFont\":42,\"fLabelOffset\":0.005,\"fLabelSize\":0.035,\"fTickLength\":0.03,\"fTitleOffset\":0,\"fTitleSize\":0.035,\"fTitleColor\":1,\"fTitleFont\":42,\"fNbins\":1,\"fXmin\":0,\"fXmax\":1,\"fXbins\":[],\"fFirst\":0,\"fLast\":0,\"fBits2\":0,\"fTimeDisplay\":false,\"fTimeFormat\":\"\",\"fLabels\":null,\"fModLabs\":null},\"fZaxis\":{\"_typename\":\"TAxis\",\"fUniqueID\":0,\"fBits\":50331648,\"fName\":\"zaxis\",\"fTitle\":\"\",\"fNdivisions\":510,\"fAxisColor\":1,\"fLabelColor\":1,\"fLabelFont\":42,\"fLabelOffset\":0.005,\"fLabelSize\":0.035,\"fTickLength\":0.03,\"fTitleOffset\":1,\"fTitleSize\":0.035,\"fTitleColor\":1,\"fTitleFont\":42,\"fNbins\":1,\"fXmin\":0,\"fXmax\":1,\"fXbins\":[],\"fFirst\":0,\"fLast\":0,\"fBits2\":0,\"fTimeDisplay\":false,\"fTimeFormat\":\"\",\"fLabels\":null,\"fModLabs\":null},\"fBarOffset\":0,\"fBarWidth\":1000,\"fEntries\":18,\"fTsumw\":0,\"fTsumw2\":0,\"fTsumwx\":0,\"fTsumwx2\":0,\"fMaximum\":-1111,\"fMinimum\":-1111,\"fNormFactor\":0,\"fContour\":[],\"fSumw2\":[0,305.684077827439,1435.95892326347,2774.24683534893,2985.83883212178,2047.08344039186,836.960224940169,276.889078440744,97.9105947022037,0],\"fOption\":\"\",\"fFunctions\":{\"_typename\":\"TList\",\"name\":\"TList\",\"arr\":[],\"opt\":[]},\"fBufferSize\":0,\"fBuffer\":[],\"fBinStatErrOpt\":0,\"fStatOverflows\":2,\"fArray\":[0,520.935934168557,2565.81245772529,4073.85115101846,3617.74484087793,2169.17253730776,793.109848569514,145.336103843427,15.1747557998107,0]},{\"_typename\":\"TH1D\",\"fUniqueID\":0,\"fBits\":50332168,\"fName\":\"unfolded_data\",\"fTitle\":\"unfolded_data\",\"fLineColor\":1,\"fLineStyle\":1,\"fLineWidth\":2,\"fFillColor\":0,\"fFillStyle\":1001,\"fMarkerColor\":1,\"fMarkerStyle\":22,\"fMarkerSize\":1,\"fNcells\":10,\"fXaxis\":{\"_typename\":\"TAxis\",\"fUniqueID\":0,\"fBits\":50331648,\"fName\":\"xaxis\",\"fTitle\":\"#tau_{1}^{(2)}(gen_sig)\",\"fNdivisions\":510,\"fAxisColor\":1,\"fLabelColor\":1,\"fLabelFont\":42,\"fLabelOffset\":0.005,\"fLabelSize\":0.035,\"fTickLength\":0.03,\"fTitleOffset\":1,\"fTitleSize\":0.035,\"fTitleColor\":1,\"fTitleFont\":42,\"fNbins\":8,\"fXmin\":0,\"fXmax\":0.4,\"fXbins\":[0,0.045,0.09,0.135,0.18,0.225,0.27,0.33,0.4],\"fFirst\":0,\"fLast\":0,\"fBits2\":0,\"fTimeDisplay\":false,\"fTimeFormat\":\"\",\"fLabels\":null,\"fModLabs\":null},\"fYaxis\":{\"_typename\":\"TAxis\",\"fUniqueID\":0,\"fBits\":50331648,\"fName\":\"yaxis\",\"fTitle\":\"\",\"fNdivisions\":510,\"fAxisColor\":1,\"fLabelColor\":1,\"fLabelFont\":42,\"fLabelOffset\":0.005,\"fLabelSize\":0.035,\"fTickLength\":0.03,\"fTitleOffset\":0,\"fTitleSize\":0.035,\"fTitleColor\":1,\"fTitleFont\":42,\"fNbins\":1,\"fXmin\":0,\"fXmax\":1,\"fXbins\":[],\"fFirst\":0,\"fLast\":0,\"fBits2\":0,\"fTimeDisplay\":false,\"fTimeFormat\":\"\",\"fLabels\":null,\"fModLabs\":null},\"fZaxis\":{\"_typename\":\"TAxis\",\"fUniqueID\":0,\"fBits\":50331648,\"fName\":\"zaxis\",\"fTitle\":\"\",\"fNdivisions\":510,\"fAxisColor\":1,\"fLabelColor\":1,\"fLabelFont\":42,\"fLabelOffset\":0.005,\"fLabelSize\":0.035,\"fTickLength\":0.03,\"fTitleOffset\":1,\"fTitleSize\":0.035,\"fTitleColor\":1,\"fTitleFont\":42,\"fNbins\":1,\"fXmin\":0,\"fXmax\":1,\"fXbins\":[],\"fFirst\":0,\"fLast\":0,\"fBits2\":0,\"fTimeDisplay\":false,\"fTimeFormat\":\"\",\"fLabels\":null,\"fModLabs\":null},\"fBarOffset\":0,\"fBarWidth\":1000,\"fEntries\":18,\"fTsumw\":0,\"fTsumw2\":0,\"fTsumwx\":0,\"fTsumwx2\":0,\"fMaximum\":-1111,\"fMinimum\":-1111,\"fNormFactor\":0,\"fContour\":[],\"fSumw2\":[0,4755.52295389568,24385.8179208604,27918.3340255567,20719.9552840316,12837.5140686673,4022.99928691954,1285.64225393038,546.107590534031,0],\"fOption\":\"\",\"fFunctions\":{\"_typename\":\"TList\",\"name\":\"TList\",\"arr\":[],\"opt\":[]},\"fBufferSize\":0,\"fBuffer\":[],\"fBinStatErrOpt\":0,\"fStatOverflows\":2,\"fArray\":[0,470.215679851669,2598.34307091405,4500.29558538157,3604.28609079328,2191.98751677432,805.709596223187,249.388801102323,19.1889177159595,0]}],\"opt\":[\"E\",\"E \"]},\"fHistogram\":{\"_typename\":\"TH1F\",\"fUniqueID\":0,\"fBits\":50332160,\"fName\":\"#tau_{1}^{(2)}\",\"fTitle\":\"#tau_{1}^{(2)} binning 4\",\"fLineColor\":602,\"fLineStyle\":1,\"fLineWidth\":1,\"fFillColor\":0,\"fFillStyle\":1001,\"fMarkerColor\":1,\"fMarkerStyle\":1,\"fMarkerSize\":1,\"fNcells\":10,\"fXaxis\":{\"_typename\":\"TAxis\",\"fUniqueID\":0,\"fBits\":50331648,\"fName\":\"xaxis\",\"fTitle\":\"\",\"fNdivisions\":510,\"fAxisColor\":1,\"fLabelColor\":1,\"fLabelFont\":42,\"fLabelOffset\":0.005,\"fLabelSize\":0.035,\"fTickLength\":0.03,\"fTitleOffset\":1,\"fTitleSize\":0.035,\"fTitleColor\":1,\"fTitleFont\":42,\"fNbins\":8,\"fXmin\":0,\"fXmax\":0.4,\"fXbins\":[0,0.045,0.09,0.135,0.18,0.225,0.27,0.33,0.4],\"fFirst\":0,\"fLast\":0,\"fBits2\":0,\"fTimeDisplay\":false,\"fTimeFormat\":\"\",\"fLabels\":null,\"fModLabs\":null},\"fYaxis\":{\"_typename\":\"TAxis\",\"fUniqueID\":0,\"fBits\":50331648,\"fName\":\"yaxis\",\"fTitle\":\"\",\"fNdivisions\":510,\"fAxisColor\":1,\"fLabelColor\":1,\"fLabelFont\":42,\"fLabelOffset\":0.005,\"fLabelSize\":0.035,\"fTickLength\":0.03,\"fTitleOffset\":0,\"fTitleSize\":0.035,\"fTitleColor\":1,\"fTitleFont\":42,\"fNbins\":1,\"fXmin\":0,\"fXmax\":1,\"fXbins\":[],\"fFirst\":0,\"fLast\":0,\"fBits2\":0,\"fTimeDisplay\":false,\"fTimeFormat\":\"\",\"fLabels\":null,\"fModLabs\":null},\"fZaxis\":{\"_typename\":\"TAxis\",\"fUniqueID\":0,\"fBits\":50331648,\"fName\":\"zaxis\",\"fTitle\":\"\",\"fNdivisions\":510,\"fAxisColor\":1,\"fLabelColor\":1,\"fLabelFont\":42,\"fLabelOffset\":0.005,\"fLabelSize\":0.035,\"fTickLength\":0.03,\"fTitleOffset\":1,\"fTitleSize\":0.035,\"fTitleColor\":1,\"fTitleFont\":42,\"fNbins\":1,\"fXmin\":0,\"fXmax\":1,\"fXbins\":[],\"fFirst\":0,\"fLast\":0,\"fBits2\":0,\"fTimeDisplay\":false,\"fTimeFormat\":\"\",\"fLabels\":null,\"fModLabs\":null},\"fBarOffset\":0,\"fBarWidth\":1000,\"fEntries\":0,\"fTsumw\":0,\"fTsumw2\":0,\"fTsumwx\":0,\"fTsumwx2\":0,\"fMaximum\":4725.31036465065,\"fMinimum\":0,\"fNormFactor\":0,\"fContour\":[],\"fSumw2\":[0,0,0,0,0,0,0,0,0,0],\"fOption\":\"\",\"fFunctions\":{\"_typename\":\"TList\",\"name\":\"TList\",\"arr\":[],\"opt\":[]},\"fBufferSize\":0,\"fBuffer\":[],\"fBinStatErrOpt\":0,\"fStatOverflows\":2,\"fArray\":[0,0,0,0,0,0,0,0,0,0]},\"fMaximum\":-1111,\"fMinimum\":-1111},{\"_typename\":\"TPaveText\",\"fUniqueID\":0,\"fBits\":50331657,\"fLineColor\":1,\"fLineStyle\":1,\"fLineWidth\":1,\"fFillColor\":0,\"fFillStyle\":0,\"fX1\":0.127621147526816,\"fY1\":4791.87180291377,\"fX2\":0.272378852473184,\"fY2\":5286.44104218577,\"fX1NDC\":0.35524229721069,\"fY1NDC\":0.911268915170171,\"fX2NDC\":0.64475770278931,\"fY2NDC\":0.995000004768372,\"fBorderSize\":0,\"fInit\":1,\"fShadowColor\":1,\"fCornerRadius\":0,\"fOption\":\"blNDC\",\"fName\":\"title\",\"fTextAngle\":0,\"fTextSize\":0,\"fTextAlign\":22,\"fTextColor\":1,\"fTextFont\":42,\"fLabel\":\"\",\"fLongest\":24,\"fMargin\":0.05,\"fLines\":{\"_typename\":\"TList\",\"name\":\"TList\",\"arr\":[{\"_typename\":\"TLatex\",\"fUniqueID\":0,\"fBits\":50331648,\"fName\":\"\",\"fTitle\":\"#tau_{1}^{(2)} binning 4\",\"fTextAngle\":0,\"fTextSize\":0,\"fTextAlign\":0,\"fTextColor\":0,\"fTextFont\":0,\"fX\":0,\"fY\":0,\"fLineColor\":1,\"fLineStyle\":1,\"fLineWidth\":2,\"fLimitFactorSize\":3,\"fOriginSize\":0.057756096124649}],\"opt\":[\"\"]}}],\"opt\":[\"\",\"nostack\",\"blNDC\"]},\"fExecs\":{\"_typename\":\"TList\",\"name\":\"TList\",\"arr\":[],\"opt\":[]},\"fName\":\"c5_4\",\"fTitle\":\"c5_4\",\"fNumPaletteColor\":0,\"fNextPaletteColor\":0},{\"_typename\":\"TPad\",\"fUniqueID\":0,\"fBits\":50331657,\"fLineColor\":1,\"fLineStyle\":1,\"fLineWidth\":1,\"fFillColor\":0,\"fFillStyle\":1001,\"fLeftMargin\":0.1,\"fRightMargin\":0.1,\"fBottomMargin\":0.1,\"fTopMargin\":0.1,\"fXfile\":2,\"fYfile\":2,\"fAfile\":1,\"fXstat\":0.99,\"fYstat\":0.99,\"fAstat\":2,\"fFrameFillColor\":0,\"fFrameLineColor\":1,\"fFrameFillStyle\":1001,\"fFrameLineStyle\":1,\"fFrameLineWidth\":1,\"fFrameBorderSize\":1,\"fFrameBorderMode\":0,\"fX1\":-0.0500000037252905,\"fY1\":-466.001745751487,\"fX2\":0.450000003725291,\"fY2\":4194.0154340047,\"fXtoAbsPixelk\":448.101385353136,\"fXtoPixelk\":37.4747189537963,\"fXtoPixel\":749.493323234319,\"fYtoAbsPixelk\":657.850714890051,\"fYtoPixelk\":296.664048458524,\"fYtoPixel\":-0.0707350755205141,\"fUtoAbsPixelk\":410.62671639934,\"fUtoPixelk\":5e-5,\"fUtoPixel\":374.74666720132,\"fVtoAbsPixelk\":690.813383568473,\"fVtoPixelk\":329.626667136947,\"fVtoPixel\":-329.626667136947,\"fAbsPixeltoXk\":-0.597872351176427,\"fPixeltoXk\":-0.0500000037252905,\"fPixeltoX\":0.00133423470096392,\"fAbsPixeltoYk\":9300.20446078785,\"fPixeltoYk\":-466.001745751487,\"fPixeltoY\":-14.1372578263522,\"fXlowNDC\":0.343333333109816,\"fYlowNDC\":0.343333333109816,\"fXUpNDC\":0,\"fYUpNDC\":0,\"fWNDC\":0.313333333780368,\"fHNDC\":0.313333333780368,\"fAbsXlowNDC\":0.343333333109816,\"fAbsYlowNDC\":0.343333333109816,\"fAbsWNDC\":0.313333333780368,\"fAbsHNDC\":0.313333333780368,\"fUxmin\":0,\"fUymin\":0,\"fUxmax\":0.4,\"fUymax\":3728.01368825322,\"fTheta\":30,\"fPhi\":30,\"fAspectRatio\":0,\"fNumber\":5,\"fTickx\":0,\"fTicky\":0,\"fLogx\":0,\"fLogy\":0,\"fLogz\":0,\"fPadPaint\":0,\"fCrosshair\":0,\"fCrosshairPos\":0,\"fBorderSize\":2,\"fBorderMode\":0,\"fModified\":false,\"fGridx\":false,\"fGridy\":false,\"fAbsCoord\":false,\"fEditable\":true,\"fFixedAspectRatio\":false,\"fPrimitives\":{\"_typename\":\"TList\",\"name\":\"TList\",\"arr\":[{\"_typename\":\"TFrame\",\"fUniqueID\":0,\"fBits\":50331656,\"fLineColor\":1,\"fLineStyle\":1,\"fLineWidth\":1,\"fFillColor\":0,\"fFillStyle\":1001,\"fX1\":0,\"fY1\":0,\"fX2\":0.4,\"fY2\":3728.01368825322,\"fBorderSize\":1,\"fBorderMode\":0},{\"_typename\":\"THStack\",\"fUniqueID\":0,\"fBits\":50331656,\"fName\":\"#tau_{1}^{(2)}\",\"fTitle\":\"#tau_{1}^{(2)} binning 5\",\"fHists\":{\"_typename\":\"TList\",\"name\":\"TList\",\"arr\":[{\"_typename\":\"TH1D\",\"fUniqueID\":0,\"fBits\":50332168,\"fName\":\"closure_unfolded_MC\",\"fTitle\":\"closure_unfolded_MC\",\"fLineColor\":7,\"fLineStyle\":1,\"fLineWidth\":1,\"fFillColor\":0,\"fFillStyle\":1001,\"fMarkerColor\":7,\"fMarkerStyle\":2,\"fMarkerSize\":1,\"fNcells\":12,\"fXaxis\":{\"_typename\":\"TAxis\",\"fUniqueID\":0,\"fBits\":50331648,\"fName\":\"xaxis\",\"fTitle\":\"#tau_{1}^{(2)}(gen_sig)\",\"fNdivisions\":510,\"fAxisColor\":1,\"fLabelColor\":1,\"fLabelFont\":42,\"fLabelOffset\":0.005,\"fLabelSize\":0.035,\"fTickLength\":0.03,\"fTitleOffset\":1,\"fTitleSize\":0.035,\"fTitleColor\":1,\"fTitleFont\":42,\"fNbins\":10,\"fXmin\":0,\"fXmax\":0.4,\"fXbins\":[0,0.03375,0.0675,0.10125,0.135,0.16875,0.2025,0.23625,0.27,0.33,0.4],\"fFirst\":0,\"fLast\":0,\"fBits2\":0,\"fTimeDisplay\":false,\"fTimeFormat\":\"\",\"fLabels\":null,\"fModLabs\":null},\"fYaxis\":{\"_typename\":\"TAxis\",\"fUniqueID\":0,\"fBits\":50331648,\"fName\":\"yaxis\",\"fTitle\":\"\",\"fNdivisions\":510,\"fAxisColor\":1,\"fLabelColor\":1,\"fLabelFont\":42,\"fLabelOffset\":0.005,\"fLabelSize\":0.035,\"fTickLength\":0.03,\"fTitleOffset\":0,\"fTitleSize\":0.035,\"fTitleColor\":1,\"fTitleFont\":42,\"fNbins\":1,\"fXmin\":0,\"fXmax\":1,\"fXbins\":[],\"fFirst\":0,\"fLast\":0,\"fBits2\":0,\"fTimeDisplay\":false,\"fTimeFormat\":\"\",\"fLabels\":null,\"fModLabs\":null},\"fZaxis\":{\"_typename\":\"TAxis\",\"fUniqueID\":0,\"fBits\":50331648,\"fName\":\"zaxis\",\"fTitle\":\"\",\"fNdivisions\":510,\"fAxisColor\":1,\"fLabelColor\":1,\"fLabelFont\":42,\"fLabelOffset\":0.005,\"fLabelSize\":0.035,\"fTickLength\":0.03,\"fTitleOffset\":1,\"fTitleSize\":0.035,\"fTitleColor\":1,\"fTitleFont\":42,\"fNbins\":1,\"fXmin\":0,\"fXmax\":1,\"fXbins\":[],\"fFirst\":0,\"fLast\":0,\"fBits2\":0,\"fTimeDisplay\":false,\"fTimeFormat\":\"\",\"fLabels\":null,\"fModLabs\":null},\"fBarOffset\":0,\"fBarWidth\":1000,\"fEntries\":22,\"fTsumw\":0,\"fTsumw2\":0,\"fTsumwx\":0,\"fTsumwx2\":0,\"fMaximum\":-1111,\"fMinimum\":-1111,\"fNormFactor\":0,\"fContour\":[],\"fSumw2\":[0,159.581631169637,772.627445482419,1846.3761522642,3027.43551377591,3524.82847959422,3020.4004942384,2126.99877880093,948.238637425062,319.18574981013,99.5047762372742,0],\"fOption\":\"\",\"fFunctions\":{\"_typename\":\"TList\",\"name\":\"TList\",\"arr\":[],\"opt\":[]},\"fBufferSize\":0,\"fBuffer\":[],\"fBinStatErrOpt\":0,\"fStatOverflows\":2,\"fArray\":[0,228.244605147519,1299.47144327187,2540.04173780514,3092.84175668778,2867.45718932197,2039.32714501862,1201.67026927573,471.57262313886,145.336103843428,15.1747557998107,0]},{\"_typename\":\"TH1D\",\"fUniqueID\":0,\"fBits\":50332168,\"fName\":\"unfolded_data\",\"fTitle\":\"unfolded_data\",\"fLineColor\":1,\"fLineStyle\":1,\"fLineWidth\":2,\"fFillColor\":0,\"fFillStyle\":1001,\"fMarkerColor\":1,\"fMarkerStyle\":22,\"fMarkerSize\":1,\"fNcells\":12,\"fXaxis\":{\"_typename\":\"TAxis\",\"fUniqueID\":0,\"fBits\":50331648,\"fName\":\"xaxis\",\"fTitle\":\"#tau_{1}^{(2)}(gen_sig)\",\"fNdivisions\":510,\"fAxisColor\":1,\"fLabelColor\":1,\"fLabelFont\":42,\"fLabelOffset\":0.005,\"fLabelSize\":0.035,\"fTickLength\":0.03,\"fTitleOffset\":1,\"fTitleSize\":0.035,\"fTitleColor\":1,\"fTitleFont\":42,\"fNbins\":10,\"fXmin\":0,\"fXmax\":0.4,\"fXbins\":[0,0.03375,0.0675,0.10125,0.135,0.16875,0.2025,0.23625,0.27,0.33,0.4],\"fFirst\":0,\"fLast\":0,\"fBits2\":0,\"fTimeDisplay\":false,\"fTimeFormat\":\"\",\"fLabels\":null,\"fModLabs\":null},\"fYaxis\":{\"_typename\":\"TAxis\",\"fUniqueID\":0,\"fBits\":50331648,\"fName\":\"yaxis\",\"fTitle\":\"\",\"fNdivisions\":510,\"fAxisColor\":1,\"fLabelColor\":1,\"fLabelFont\":42,\"fLabelOffset\":0.005,\"fLabelSize\":0.035,\"fTickLength\":0.03,\"fTitleOffset\":0,\"fTitleSize\":0.035,\"fTitleColor\":1,\"fTitleFont\":42,\"fNbins\":1,\"fXmin\":0,\"fXmax\":1,\"fXbins\":[],\"fFirst\":0,\"fLast\":0,\"fBits2\":0,\"fTimeDisplay\":false,\"fTimeFormat\":\"\",\"fLabels\":null,\"fModLabs\":null},\"fZaxis\":{\"_typename\":\"TAxis\",\"fUniqueID\":0,\"fBits\":50331648,\"fName\":\"zaxis\",\"fTitle\":\"\",\"fNdivisions\":510,\"fAxisColor\":1,\"fLabelColor\":1,\"fLabelFont\":42,\"fLabelOffset\":0.005,\"fLabelSize\":0.035,\"fTickLength\":0.03,\"fTitleOffset\":1,\"fTitleSize\":0.035,\"fTitleColor\":1,\"fTitleFont\":42,\"fNbins\":1,\"fXmin\":0,\"fXmax\":1,\"fXbins\":[],\"fFirst\":0,\"fLast\":0,\"fBits2\":0,\"fTimeDisplay\":false,\"fTimeFormat\":\"\",\"fLabels\":null,\"fModLabs\":null},\"fBarOffset\":0,\"fBarWidth\":1000,\"fEntries\":22,\"fTsumw\":0,\"fTsumw2\":0,\"fTsumwx\":0,\"fTsumwx2\":0,\"fMaximum\":-1111,\"fMinimum\":-1111,\"fNormFactor\":0,\"fContour\":[],\"fSumw2\":[0,2963.59209377499,11515.3435705317,24884.4780332658,31066.0944383046,24522.3527713233,19832.7282922465,12401.1579373729,7844.43370712743,1573.96015369197,561.191606781034,0],\"fOption\":\"\",\"fFunctions\":{\"_typename\":\"TList\",\"name\":\"TList\",\"arr\":[],\"opt\":[]},\"fBufferSize\":0,\"fBuffer\":[],\"fBinStatErrOpt\":0,\"fStatOverflows\":2,\"fArray\":[0,112.722595036906,1372.05675757246,2601.52943414182,3550.48922690782,2658.85404014404,2182.6883299321,1165.67073427157,460.769553037502,254.763720159958,17.9020321786981,0]}],\"opt\":[\"E\",\"E \"]},\"fHistogram\":{\"_typename\":\"TH1F\",\"fUniqueID\":0,\"fBits\":50332160,\"fName\":\"#tau_{1}^{(2)}\",\"fTitle\":\"#tau_{1}^{(2)} binning 5\",\"fLineColor\":602,\"fLineStyle\":1,\"fLineWidth\":1,\"fFillColor\":0,\"fFillStyle\":1001,\"fMarkerColor\":1,\"fMarkerStyle\":1,\"fMarkerSize\":1,\"fNcells\":12,\"fXaxis\":{\"_typename\":\"TAxis\",\"fUniqueID\":0,\"fBits\":50331648,\"fName\":\"xaxis\",\"fTitle\":\"\",\"fNdivisions\":510,\"fAxisColor\":1,\"fLabelColor\":1,\"fLabelFont\":42,\"fLabelOffset\":0.005,\"fLabelSize\":0.035,\"fTickLength\":0.03,\"fTitleOffset\":1,\"fTitleSize\":0.035,\"fTitleColor\":1,\"fTitleFont\":42,\"fNbins\":10,\"fXmin\":0,\"fXmax\":0.4,\"fXbins\":[0,0.03375,0.0675,0.10125,0.135,0.16875,0.2025,0.23625,0.27,0.33,0.4],\"fFirst\":0,\"fLast\":0,\"fBits2\":0,\"fTimeDisplay\":false,\"fTimeFormat\":\"\",\"fLabels\":null,\"fModLabs\":null},\"fYaxis\":{\"_typename\":\"TAxis\",\"fUniqueID\":0,\"fBits\":50331648,\"fName\":\"yaxis\",\"fTitle\":\"\",\"fNdivisions\":510,\"fAxisColor\":1,\"fLabelColor\":1,\"fLabelFont\":42,\"fLabelOffset\":0.005,\"fLabelSize\":0.035,\"fTickLength\":0.03,\"fTitleOffset\":0,\"fTitleSize\":0.035,\"fTitleColor\":1,\"fTitleFont\":42,\"fNbins\":1,\"fXmin\":0,\"fXmax\":1,\"fXbins\":[],\"fFirst\":0,\"fLast\":0,\"fBits2\":0,\"fTimeDisplay\":false,\"fTimeFormat\":\"\",\"fLabels\":null,\"fModLabs\":null},\"fZaxis\":{\"_typename\":\"TAxis\",\"fUniqueID\":0,\"fBits\":50331648,\"fName\":\"zaxis\",\"fTitle\":\"\",\"fNdivisions\":510,\"fAxisColor\":1,\"fLabelColor\":1,\"fLabelFont\":42,\"fLabelOffset\":0.005,\"fLabelSize\":0.035,\"fTickLength\":0.03,\"fTitleOffset\":1,\"fTitleSize\":0.035,\"fTitleColor\":1,\"fTitleFont\":42,\"fNbins\":1,\"fXmin\":0,\"fXmax\":1,\"fXbins\":[],\"fFirst\":0,\"fLast\":0,\"fBits2\":0,\"fTimeDisplay\":false,\"fTimeFormat\":\"\",\"fLabels\":null,\"fModLabs\":null},\"fBarOffset\":0,\"fBarWidth\":1000,\"fEntries\":0,\"fTsumw\":0,\"fTsumw2\":0,\"fTsumwx\":0,\"fTsumwx2\":0,\"fMaximum\":3728.01368825322,\"fMinimum\":0,\"fNormFactor\":0,\"fContour\":[],\"fSumw2\":[0,0,0,0,0,0,0,0,0,0,0,0],\"fOption\":\"\",\"fFunctions\":{\"_typename\":\"TList\",\"name\":\"TList\",\"arr\":[],\"opt\":[]},\"fBufferSize\":0,\"fBuffer\":[],\"fBinStatErrOpt\":0,\"fStatOverflows\":2,\"fArray\":[0,0,0,0,0,0,0,0,0,0,0,0]},\"fMaximum\":-1111,\"fMinimum\":-1111},{\"_typename\":\"TPaveText\",\"fUniqueID\":0,\"fBits\":50331657,\"fLineColor\":1,\"fLineStyle\":1,\"fLineWidth\":1,\"fFillColor\":0,\"fFillStyle\":0,\"fX1\":0.127621147526816,\"fY1\":3780.5270543193,\"fX2\":0.272378852473184,\"fY2\":4170.71537032662,\"fX1NDC\":0.35524229721069,\"fY1NDC\":0.911268915170171,\"fX2NDC\":0.64475770278931,\"fY2NDC\":0.995000004768372,\"fBorderSize\":0,\"fInit\":1,\"fShadowColor\":1,\"fCornerRadius\":0,\"fOption\":\"blNDC\",\"fName\":\"title\",\"fTextAngle\":0,\"fTextSize\":0,\"fTextAlign\":22,\"fTextColor\":1,\"fTextFont\":42,\"fLabel\":\"\",\"fLongest\":24,\"fMargin\":0.05,\"fLines\":{\"_typename\":\"TList\",\"name\":\"TList\",\"arr\":[{\"_typename\":\"TLatex\",\"fUniqueID\":0,\"fBits\":50331648,\"fName\":\"\",\"fTitle\":\"#tau_{1}^{(2)} binning 5\",\"fTextAngle\":0,\"fTextSize\":0,\"fTextAlign\":0,\"fTextColor\":0,\"fTextFont\":0,\"fX\":0,\"fY\":0,\"fLineColor\":1,\"fLineStyle\":1,\"fLineWidth\":2,\"fLimitFactorSize\":3,\"fOriginSize\":0.057756096124649}],\"opt\":[\"\"]}}],\"opt\":[\"\",\"nostack\",\"blNDC\"]},\"fExecs\":{\"_typename\":\"TList\",\"name\":\"TList\",\"arr\":[],\"opt\":[]},\"fName\":\"c5_5\",\"fTitle\":\"c5_5\",\"fNumPaletteColor\":0,\"fNextPaletteColor\":0},{\"_typename\":\"TPad\",\"fUniqueID\":0,\"fBits\":50331657,\"fLineColor\":1,\"fLineStyle\":1,\"fLineWidth\":1,\"fFillColor\":0,\"fFillStyle\":1001,\"fLeftMargin\":0.1,\"fRightMargin\":0.1,\"fBottomMargin\":0.1,\"fTopMargin\":0.1,\"fXfile\":2,\"fYfile\":2,\"fAfile\":1,\"fXstat\":0.99,\"fYstat\":0.99,\"fAstat\":2,\"fFrameFillColor\":0,\"fFrameLineColor\":1,\"fFrameFillStyle\":1001,\"fFrameLineStyle\":1,\"fFrameLineWidth\":1,\"fFrameBorderSize\":1,\"fFrameBorderMode\":0,\"fX1\":-0.0500000037252905,\"fY1\":-369.81227789807,\"fX2\":0.450000003725291,\"fY2\":3328.31028065734,\"fXtoAbsPixelk\":846.768052019803,\"fXtoPixelk\":37.4747189537963,\"fXtoPixel\":749.493323234319,\"fYtoAbsPixelk\":657.850714890051,\"fYtoPixelk\":296.664048458524,\"fYtoPixel\":-0.089133516241741,\"fUtoAbsPixelk\":809.293383066006,\"fUtoPixelk\":5e-5,\"fUtoPixel\":374.74666720132,\"fVtoAbsPixelk\":690.813383568473,\"fVtoPixelk\":329.626667136947,\"fVtoPixel\":-329.626667136947,\"fAbsPixeltoXk\":-1.12978725196071,\"fPixeltoXk\":-0.0500000037252905,\"fPixeltoX\":0.00133423470096392,\"fAbsPixeltoYk\":7380.50839491039,\"fPixeltoYk\":-369.81227789807,\"fPixeltoY\":-11.2191243223018,\"fXlowNDC\":0.676666666443149,\"fYlowNDC\":0.343333333109816,\"fXUpNDC\":0,\"fYUpNDC\":0,\"fWNDC\":0.313333333780368,\"fHNDC\":0.313333333780368,\"fAbsXlowNDC\":0.676666666443149,\"fAbsYlowNDC\":0.343333333109816,\"fAbsWNDC\":0.313333333780368,\"fAbsHNDC\":0.313333333780368,\"fUxmin\":0,\"fUymin\":0,\"fUxmax\":0.4,\"fUymax\":2958.49800275927,\"fTheta\":30,\"fPhi\":30,\"fAspectRatio\":0,\"fNumber\":6,\"fTickx\":0,\"fTicky\":0,\"fLogx\":0,\"fLogy\":0,\"fLogz\":0,\"fPadPaint\":0,\"fCrosshair\":0,\"fCrosshairPos\":0,\"fBorderSize\":2,\"fBorderMode\":0,\"fModified\":false,\"fGridx\":false,\"fGridy\":false,\"fAbsCoord\":false,\"fEditable\":true,\"fFixedAspectRatio\":false,\"fPrimitives\":{\"_typename\":\"TList\",\"name\":\"TList\",\"arr\":[{\"_typename\":\"TFrame\",\"fUniqueID\":0,\"fBits\":50331656,\"fLineColor\":1,\"fLineStyle\":1,\"fLineWidth\":1,\"fFillColor\":0,\"fFillStyle\":1001,\"fX1\":0,\"fY1\":0,\"fX2\":0.4,\"fY2\":2958.49800275927,\"fBorderSize\":1,\"fBorderMode\":0},{\"_typename\":\"THStack\",\"fUniqueID\":0,\"fBits\":50331656,\"fName\":\"#tau_{1}^{(2)}\",\"fTitle\":\"#tau_{1}^{(2)} binning 6\",\"fHists\":{\"_typename\":\"TList\",\"name\":\"TList\",\"arr\":[{\"_typename\":\"TH1D\",\"fUniqueID\":0,\"fBits\":50332168,\"fName\":\"closure_unfolded_MC\",\"fTitle\":\"closure_unfolded_MC\",\"fLineColor\":7,\"fLineStyle\":1,\"fLineWidth\":1,\"fFillColor\":0,\"fFillStyle\":1001,\"fMarkerColor\":7,\"fMarkerStyle\":2,\"fMarkerSize\":1,\"fNcells\":14,\"fXaxis\":{\"_typename\":\"TAxis\",\"fUniqueID\":0,\"fBits\":50331648,\"fName\":\"xaxis\",\"fTitle\":\"#tau_{1}^{(2)}(gen_sig)\",\"fNdivisions\":510,\"fAxisColor\":1,\"fLabelColor\":1,\"fLabelFont\":42,\"fLabelOffset\":0.005,\"fLabelSize\":0.035,\"fTickLength\":0.03,\"fTitleOffset\":1,\"fTitleSize\":0.035,\"fTitleColor\":1,\"fTitleFont\":42,\"fNbins\":12,\"fXmin\":0,\"fXmax\":0.4,\"fXbins\":[0,0.027,0.054,0.081,0.108,0.135,0.162,0.189,0.216,0.243,0.27,0.33,0.4],\"fFirst\":0,\"fLast\":0,\"fBits2\":0,\"fTimeDisplay\":false,\"fTimeFormat\":\"\",\"fLabels\":null,\"fModLabs\":null},\"fYaxis\":{\"_typename\":\"TAxis\",\"fUniqueID\":0,\"fBits\":50331648,\"fName\":\"yaxis\",\"fTitle\":\"\",\"fNdivisions\":510,\"fAxisColor\":1,\"fLabelColor\":1,\"fLabelFont\":42,\"fLabelOffset\":0.005,\"fLabelSize\":0.035,\"fTickLength\":0.03,\"fTitleOffset\":0,\"fTitleSize\":0.035,\"fTitleColor\":1,\"fTitleFont\":42,\"fNbins\":1,\"fXmin\":0,\"fXmax\":1,\"fXbins\":[],\"fFirst\":0,\"fLast\":0,\"fBits2\":0,\"fTimeDisplay\":false,\"fTimeFormat\":\"\",\"fLabels\":null,\"fModLabs\":null},\"fZaxis\":{\"_typename\":\"TAxis\",\"fUniqueID\":0,\"fBits\":50331648,\"fName\":\"zaxis\",\"fTitle\":\"\",\"fNdivisions\":510,\"fAxisColor\":1,\"fLabelColor\":1,\"fLabelFont\":42,\"fLabelOffset\":0.005,\"fLabelSize\":0.035,\"fTickLength\":0.03,\"fTitleOffset\":1,\"fTitleSize\":0.035,\"fTitleColor\":1,\"fTitleFont\":42,\"fNbins\":1,\"fXmin\":0,\"fXmax\":1,\"fXbins\":[],\"fFirst\":0,\"fLast\":0,\"fBits2\":0,\"fTimeDisplay\":false,\"fTimeFormat\":\"\",\"fLabels\":null,\"fModLabs\":null},\"fBarOffset\":0,\"fBarWidth\":1000,\"fEntries\":26,\"fTsumw\":0,\"fTsumw2\":0,\"fTsumwx\":0,\"fTsumwx2\":0,\"fMaximum\":-1111,\"fMinimum\":-1111,\"fNormFactor\":0,\"fContour\":[],\"fSumw2\":[0,115.006679061706,498.505611830251,1199.38053442129,2320.35726681916,3635.59336453359,4434.34868992983,4264.60445407503,3516.10971106502,2350.23049489543,1107.06823199626,362.328770450581,100.794646297482,0],\"fOption\":\"\",\"fFunctions\":{\"_typename\":\"TList\",\"name\":\"TList\",\"arr\":[],\"opt\":[]},\"fBufferSize\":0,\"fBuffer\":[],\"fBinStatErrOpt\":0,\"fStatOverflows\":2,\"fArray\":[0,117.425938049145,739.66217146586,1551.19758133257,2274.00662095606,2478.30723110868,2365.22796116391,1807.71143549623,1307.67771510287,772.480925026616,326.92918996556,145.336103843427,15.1747557998108,0]},{\"_typename\":\"TH1D\",\"fUniqueID\":0,\"fBits\":50332168,\"fName\":\"unfolded_data\",\"fTitle\":\"unfolded_data\",\"fLineColor\":1,\"fLineStyle\":1,\"fLineWidth\":2,\"fFillColor\":0,\"fFillStyle\":1001,\"fMarkerColor\":1,\"fMarkerStyle\":22,\"fMarkerSize\":1,\"fNcells\":14,\"fXaxis\":{\"_typename\":\"TAxis\",\"fUniqueID\":0,\"fBits\":50331648,\"fName\":\"xaxis\",\"fTitle\":\"#tau_{1}^{(2)}(gen_sig)\",\"fNdivisions\":510,\"fAxisColor\":1,\"fLabelColor\":1,\"fLabelFont\":42,\"fLabelOffset\":0.005,\"fLabelSize\":0.035,\"fTickLength\":0.03,\"fTitleOffset\":1,\"fTitleSize\":0.035,\"fTitleColor\":1,\"fTitleFont\":42,\"fNbins\":12,\"fXmin\":0,\"fXmax\":0.4,\"fXbins\":[0,0.027,0.054,0.081,0.108,0.135,0.162,0.189,0.216,0.243,0.27,0.33,0.4],\"fFirst\":0,\"fLast\":0,\"fBits2\":0,\"fTimeDisplay\":false,\"fTimeFormat\":\"\",\"fLabels\":null,\"fModLabs\":null},\"fYaxis\":{\"_typename\":\"TAxis\",\"fUniqueID\":0,\"fBits\":50331648,\"fName\":\"yaxis\",\"fTitle\":\"\",\"fNdivisions\":510,\"fAxisColor\":1,\"fLabelColor\":1,\"fLabelFont\":42,\"fLabelOffset\":0.005,\"fLabelSize\":0.035,\"fTickLength\":0.03,\"fTitleOffset\":0,\"fTitleSize\":0.035,\"fTitleColor\":1,\"fTitleFont\":42,\"fNbins\":1,\"fXmin\":0,\"fXmax\":1,\"fXbins\":[],\"fFirst\":0,\"fLast\":0,\"fBits2\":0,\"fTimeDisplay\":false,\"fTimeFormat\":\"\",\"fLabels\":null,\"fModLabs\":null},\"fZaxis\":{\"_typename\":\"TAxis\",\"fUniqueID\":0,\"fBits\":50331648,\"fName\":\"zaxis\",\"fTitle\":\"\",\"fNdivisions\":510,\"fAxisColor\":1,\"fLabelColor\":1,\"fLabelFont\":42,\"fLabelOffset\":0.005,\"fLabelSize\":0.035,\"fTickLength\":0.03,\"fTitleOffset\":1,\"fTitleSize\":0.035,\"fTitleColor\":1,\"fTitleFont\":42,\"fNbins\":1,\"fXmin\":0,\"fXmax\":1,\"fXbins\":[],\"fFirst\":0,\"fLast\":0,\"fBits2\":0,\"fTimeDisplay\":false,\"fTimeFormat\":\"\",\"fLabels\":null,\"fModLabs\":null},\"fBarOffset\":0,\"fBarWidth\":1000,\"fEntries\":26,\"fTsumw\":0,\"fTsumw2\":0,\"fTsumwx\":0,\"fTsumwx2\":0,\"fMaximum\":-1111,\"fMinimum\":-1111,\"fNormFactor\":0,\"fContour\":[],\"fSumw2\":[0,3384.17099722531,7259.8455284124,21089.6785381902,25013.7492859038,38252.5324887198,33959.2892772501,28001.9182436874,18721.946981456,13159.3257533528,11013.3729648224,1948.12145530125,577.038172928544,0],\"fOption\":\"\",\"fFunctions\":{\"_typename\":\"TList\",\"name\":\"TList\",\"arr\":[],\"opt\":[]},\"fBufferSize\":0,\"fBuffer\":[],\"fBinStatErrOpt\":0,\"fStatOverflows\":2,\"fArray\":[0,61.4531826955876,716.341812659618,1632.61528021657,2408.19429065074,2817.61714548502,2140.22590832326,1970.45730284427,1293.65817115102,769.309762825162,278.125673799082,265.335455839793,19.3813381571225,0]}],\"opt\":[\"E\",\"E \"]},\"fHistogram\":{\"_typename\":\"TH1F\",\"fUniqueID\":0,\"fBits\":50332160,\"fName\":\"#tau_{1}^{(2)}\",\"fTitle\":\"#tau_{1}^{(2)} binning 6\",\"fLineColor\":602,\"fLineStyle\":1,\"fLineWidth\":1,\"fFillColor\":0,\"fFillStyle\":1001,\"fMarkerColor\":1,\"fMarkerStyle\":1,\"fMarkerSize\":1,\"fNcells\":14,\"fXaxis\":{\"_typename\":\"TAxis\",\"fUniqueID\":0,\"fBits\":50331648,\"fName\":\"xaxis\",\"fTitle\":\"\",\"fNdivisions\":510,\"fAxisColor\":1,\"fLabelColor\":1,\"fLabelFont\":42,\"fLabelOffset\":0.005,\"fLabelSize\":0.035,\"fTickLength\":0.03,\"fTitleOffset\":1,\"fTitleSize\":0.035,\"fTitleColor\":1,\"fTitleFont\":42,\"fNbins\":12,\"fXmin\":0,\"fXmax\":0.4,\"fXbins\":[0,0.027,0.054,0.081,0.108,0.135,0.162,0.189,0.216,0.243,0.27,0.33,0.4],\"fFirst\":0,\"fLast\":0,\"fBits2\":0,\"fTimeDisplay\":false,\"fTimeFormat\":\"\",\"fLabels\":null,\"fModLabs\":null},\"fYaxis\":{\"_typename\":\"TAxis\",\"fUniqueID\":0,\"fBits\":50331648,\"fName\":\"yaxis\",\"fTitle\":\"\",\"fNdivisions\":510,\"fAxisColor\":1,\"fLabelColor\":1,\"fLabelFont\":42,\"fLabelOffset\":0.005,\"fLabelSize\":0.035,\"fTickLength\":0.03,\"fTitleOffset\":0,\"fTitleSize\":0.035,\"fTitleColor\":1,\"fTitleFont\":42,\"fNbins\":1,\"fXmin\":0,\"fXmax\":1,\"fXbins\":[],\"fFirst\":0,\"fLast\":0,\"fBits2\":0,\"fTimeDisplay\":false,\"fTimeFormat\":\"\",\"fLabels\":null,\"fModLabs\":null},\"fZaxis\":{\"_typename\":\"TAxis\",\"fUniqueID\":0,\"fBits\":50331648,\"fName\":\"zaxis\",\"fTitle\":\"\",\"fNdivisions\":510,\"fAxisColor\":1,\"fLabelColor\":1,\"fLabelFont\":42,\"fLabelOffset\":0.005,\"fLabelSize\":0.035,\"fTickLength\":0.03,\"fTitleOffset\":1,\"fTitleSize\":0.035,\"fTitleColor\":1,\"fTitleFont\":42,\"fNbins\":1,\"fXmin\":0,\"fXmax\":1,\"fXbins\":[],\"fFirst\":0,\"fLast\":0,\"fBits2\":0,\"fTimeDisplay\":false,\"fTimeFormat\":\"\",\"fLabels\":null,\"fModLabs\":null},\"fBarOffset\":0,\"fBarWidth\":1000,\"fEntries\":0,\"fTsumw\":0,\"fTsumw2\":0,\"fTsumwx\":0,\"fTsumwx2\":0,\"fMaximum\":2958.49800275927,\"fMinimum\":0,\"fNormFactor\":0,\"fContour\":[],\"fSumw2\":[0,0,0,0,0,0,0,0,0,0,0,0,0,0],\"fOption\":\"\",\"fFunctions\":{\"_typename\":\"TList\",\"name\":\"TList\",\"arr\":[],\"opt\":[]},\"fBufferSize\":0,\"fBuffer\":[],\"fBinStatErrOpt\":0,\"fStatOverflows\":2,\"fArray\":[0,0,0,0,0,0,0,0,0,0,0,0,0,0]},\"fMaximum\":-1111,\"fMinimum\":-1111},{\"_typename\":\"TPaveText\",\"fUniqueID\":0,\"fBits\":50331657,\"fLineColor\":1,\"fLineStyle\":1,\"fLineWidth\":1,\"fFillColor\":0,\"fFillStyle\":0,\"fX1\":0.127621147526816,\"fY1\":3000.17185420305,\"fX2\":0.272378852473184,\"fY2\":3309.81968549858,\"fX1NDC\":0.35524229721069,\"fY1NDC\":0.911268915170171,\"fX2NDC\":0.64475770278931,\"fY2NDC\":0.995000004768372,\"fBorderSize\":0,\"fInit\":1,\"fShadowColor\":1,\"fCornerRadius\":0,\"fOption\":\"blNDC\",\"fName\":\"title\",\"fTextAngle\":0,\"fTextSize\":0,\"fTextAlign\":22,\"fTextColor\":1,\"fTextFont\":42,\"fLabel\":\"\",\"fLongest\":24,\"fMargin\":0.05,\"fLines\":{\"_typename\":\"TList\",\"name\":\"TList\",\"arr\":[{\"_typename\":\"TLatex\",\"fUniqueID\":0,\"fBits\":50331648,\"fName\":\"\",\"fTitle\":\"#tau_{1}^{(2)} binning 6\",\"fTextAngle\":0,\"fTextSize\":0,\"fTextAlign\":0,\"fTextColor\":0,\"fTextFont\":0,\"fX\":0,\"fY\":0,\"fLineColor\":1,\"fLineStyle\":1,\"fLineWidth\":2,\"fLimitFactorSize\":3,\"fOriginSize\":0.057756096124649}],\"opt\":[\"\"]}}],\"opt\":[\"\",\"nostack\",\"blNDC\"]},\"fExecs\":{\"_typename\":\"TList\",\"name\":\"TList\",\"arr\":[],\"opt\":[]},\"fName\":\"c5_6\",\"fTitle\":\"c5_6\",\"fNumPaletteColor\":0,\"fNextPaletteColor\":0},{\"_typename\":\"TPad\",\"fUniqueID\":0,\"fBits\":50331657,\"fLineColor\":1,\"fLineStyle\":1,\"fLineWidth\":1,\"fFillColor\":0,\"fFillStyle\":1001,\"fLeftMargin\":0.1,\"fRightMargin\":0.1,\"fBottomMargin\":0.1,\"fTopMargin\":0.1,\"fXfile\":2,\"fYfile\":2,\"fAfile\":1,\"fXstat\":0.99,\"fYstat\":0.99,\"fAstat\":2,\"fFrameFillColor\":0,\"fFrameLineColor\":1,\"fFrameFillStyle\":1001,\"fFrameLineStyle\":1,\"fFrameLineWidth\":1,\"fFrameBorderSize\":1,\"fFrameBorderMode\":0,\"fX1\":-0.0500000037252905,\"fY1\":-444.417941181967,\"fX2\":0.450000003725291,\"fY2\":3999.76120574397,\"fXtoAbsPixelk\":49.4347186864695,\"fXtoPixelk\":37.4747189537963,\"fXtoPixel\":749.493323234319,\"fYtoAbsPixelk\":1008.51738155672,\"fYtoPixelk\":296.664048458524,\"fYtoPixel\":-0.0741704274826435,\"fUtoAbsPixelk\":11.9600497326732,\"fUtoPixelk\":5e-5,\"fUtoPixel\":374.74666720132,\"fVtoAbsPixelk\":1041.48005023514,\"fVtoPixelk\":329.626667136947,\"fVtoPixel\":-329.626667136947,\"fAbsPixeltoXk\":-0.0659574503921423,\"fPixeltoXk\":-0.0500000037252905,\"fPixeltoX\":0.00133423470096392,\"fAbsPixeltoYk\":13597.2970061783,\"fPixeltoYk\":-444.417941181967,\"fPixeltoY\":-13.4824624036852,\"fXlowNDC\":0.00999999977648258,\"fYlowNDC\":0.00999999977648264,\"fXUpNDC\":0,\"fYUpNDC\":0,\"fWNDC\":0.313333333780368,\"fHNDC\":0.313333333780368,\"fAbsXlowNDC\":0.00999999977648258,\"fAbsYlowNDC\":0.00999999977648264,\"fAbsWNDC\":0.313333333780368,\"fAbsHNDC\":0.313333333780368,\"fUxmin\":0,\"fUymin\":0,\"fUxmax\":0.4,\"fUymax\":3555.34326456201,\"fTheta\":30,\"fPhi\":30,\"fAspectRatio\":0,\"fNumber\":7,\"fTickx\":0,\"fTicky\":0,\"fLogx\":0,\"fLogy\":0,\"fLogz\":0,\"fPadPaint\":0,\"fCrosshair\":0,\"fCrosshairPos\":0,\"fBorderSize\":2,\"fBorderMode\":0,\"fModified\":false,\"fGridx\":false,\"fGridy\":false,\"fAbsCoord\":false,\"fEditable\":true,\"fFixedAspectRatio\":false,\"fPrimitives\":{\"_typename\":\"TList\",\"name\":\"TList\",\"arr\":[{\"_typename\":\"TFrame\",\"fUniqueID\":0,\"fBits\":50331656,\"fLineColor\":1,\"fLineStyle\":1,\"fLineWidth\":1,\"fFillColor\":0,\"fFillStyle\":1001,\"fX1\":0,\"fY1\":0,\"fX2\":0.4,\"fY2\":3555.34326456201,\"fBorderSize\":1,\"fBorderMode\":0},{\"_typename\":\"THStack\",\"fUniqueID\":0,\"fBits\":50331656,\"fName\":\"#tau_{1}^{(2)}\",\"fTitle\":\"#tau_{1}^{(2)} binning 7\",\"fHists\":{\"_typename\":\"TList\",\"name\":\"TList\",\"arr\":[{\"_typename\":\"TH1D\",\"fUniqueID\":0,\"fBits\":50332168,\"fName\":\"closure_unfolded_MC\",\"fTitle\":\"closure_unfolded_MC\",\"fLineColor\":7,\"fLineStyle\":1,\"fLineWidth\":1,\"fFillColor\":0,\"fFillStyle\":1001,\"fMarkerColor\":7,\"fMarkerStyle\":2,\"fMarkerSize\":1,\"fNcells\":11,\"fXaxis\":{\"_typename\":\"TAxis\",\"fUniqueID\":0,\"fBits\":50331648,\"fName\":\"xaxis\",\"fTitle\":\"#tau_{1}^{(2)}(gen_sig)\",\"fNdivisions\":510,\"fAxisColor\":1,\"fLabelColor\":1,\"fLabelFont\":42,\"fLabelOffset\":0.005,\"fLabelSize\":0.035,\"fTickLength\":0.03,\"fTitleOffset\":1,\"fTitleSize\":0.035,\"fTitleColor\":1,\"fTitleFont\":42,\"fNbins\":9,\"fXmin\":0,\"fXmax\":0.4,\"fXbins\":[0,0.05,0.085,0.12,0.155,0.19,0.225,0.26,0.33,0.4],\"fFirst\":0,\"fLast\":0,\"fBits2\":0,\"fTimeDisplay\":false,\"fTimeFormat\":\"\",\"fLabels\":null,\"fModLabs\":null},\"fYaxis\":{\"_typename\":\"TAxis\",\"fUniqueID\":0,\"fBits\":50331648,\"fName\":\"yaxis\",\"fTitle\":\"\",\"fNdivisions\":510,\"fAxisColor\":1,\"fLabelColor\":1,\"fLabelFont\":42,\"fLabelOffset\":0.005,\"fLabelSize\":0.035,\"fTickLength\":0.03,\"fTitleOffset\":0,\"fTitleSize\":0.035,\"fTitleColor\":1,\"fTitleFont\":42,\"fNbins\":1,\"fXmin\":0,\"fXmax\":1,\"fXbins\":[],\"fFirst\":0,\"fLast\":0,\"fBits2\":0,\"fTimeDisplay\":false,\"fTimeFormat\":\"\",\"fLabels\":null,\"fModLabs\":null},\"fZaxis\":{\"_typename\":\"TAxis\",\"fUniqueID\":0,\"fBits\":50331648,\"fName\":\"zaxis\",\"fTitle\":\"\",\"fNdivisions\":510,\"fAxisColor\":1,\"fLabelColor\":1,\"fLabelFont\":42,\"fLabelOffset\":0.005,\"fLabelSize\":0.035,\"fTickLength\":0.03,\"fTitleOffset\":1,\"fTitleSize\":0.035,\"fTitleColor\":1,\"fTitleFont\":42,\"fNbins\":1,\"fXmin\":0,\"fXmax\":1,\"fXbins\":[],\"fFirst\":0,\"fLast\":0,\"fBits2\":0,\"fTimeDisplay\":false,\"fTimeFormat\":\"\",\"fLabels\":null,\"fModLabs\":null},\"fBarOffset\":0,\"fBarWidth\":1000,\"fEntries\":20,\"fTsumw\":0,\"fTsumw2\":0,\"fTsumwx\":0,\"fTsumwx2\":0,\"fMaximum\":-1111,\"fMinimum\":-1111,\"fNormFactor\":0,\"fContour\":[],\"fSumw2\":[0,393.128961357611,1247.41979333035,2440.06233982065,3300.90871840306,3116.98930451606,2186.0183217822,1021.56132773841,377.120133511325,92.4031583790956,0],\"fOption\":\"\",\"fFunctions\":{\"_typename\":\"TList\",\"name\":\"TList\",\"arr\":[],\"opt\":[]},\"fBufferSize\":0,\"fBuffer\":[],\"fBinStatErrOpt\":0,\"fStatOverflows\":2,\"fArray\":[0,696.159511597265,1997.89847748316,3084.19225677041,3181.89692262821,2433.88796363228,1553.48178898665,713.29545740877,225.150495004174,15.1747557998109,0]},{\"_typename\":\"TH1D\",\"fUniqueID\":0,\"fBits\":50332168,\"fName\":\"unfolded_data\",\"fTitle\":\"unfolded_data\",\"fLineColor\":1,\"fLineStyle\":1,\"fLineWidth\":2,\"fFillColor\":0,\"fFillStyle\":1001,\"fMarkerColor\":1,\"fMarkerStyle\":22,\"fMarkerSize\":1,\"fNcells\":11,\"fXaxis\":{\"_typename\":\"TAxis\",\"fUniqueID\":0,\"fBits\":50331648,\"fName\":\"xaxis\",\"fTitle\":\"#tau_{1}^{(2)}(gen_sig)\",\"fNdivisions\":510,\"fAxisColor\":1,\"fLabelColor\":1,\"fLabelFont\":42,\"fLabelOffset\":0.005,\"fLabelSize\":0.035,\"fTickLength\":0.03,\"fTitleOffset\":1,\"fTitleSize\":0.035,\"fTitleColor\":1,\"fTitleFont\":42,\"fNbins\":9,\"fXmin\":0,\"fXmax\":0.4,\"fXbins\":[0,0.05,0.085,0.12,0.155,0.19,0.225,0.26,0.33,0.4],\"fFirst\":0,\"fLast\":0,\"fBits2\":0,\"fTimeDisplay\":false,\"fTimeFormat\":\"\",\"fLabels\":null,\"fModLabs\":null},\"fYaxis\":{\"_typename\":\"TAxis\",\"fUniqueID\":0,\"fBits\":50331648,\"fName\":\"yaxis\",\"fTitle\":\"\",\"fNdivisions\":510,\"fAxisColor\":1,\"fLabelColor\":1,\"fLabelFont\":42,\"fLabelOffset\":0.005,\"fLabelSize\":0.035,\"fTickLength\":0.03,\"fTitleOffset\":0,\"fTitleSize\":0.035,\"fTitleColor\":1,\"fTitleFont\":42,\"fNbins\":1,\"fXmin\":0,\"fXmax\":1,\"fXbins\":[],\"fFirst\":0,\"fLast\":0,\"fBits2\":0,\"fTimeDisplay\":false,\"fTimeFormat\":\"\",\"fLabels\":null,\"fModLabs\":null},\"fZaxis\":{\"_typename\":\"TAxis\",\"fUniqueID\":0,\"fBits\":50331648,\"fName\":\"zaxis\",\"fTitle\":\"\",\"fNdivisions\":510,\"fAxisColor\":1,\"fLabelColor\":1,\"fLabelFont\":42,\"fLabelOffset\":0.005,\"fLabelSize\":0.035,\"fTickLength\":0.03,\"fTitleOffset\":1,\"fTitleSize\":0.035,\"fTitleColor\":1,\"fTitleFont\":42,\"fNbins\":1,\"fXmin\":0,\"fXmax\":1,\"fXbins\":[],\"fFirst\":0,\"fLast\":0,\"fBits2\":0,\"fTimeDisplay\":false,\"fTimeFormat\":\"\",\"fLabels\":null,\"fModLabs\":null},\"fBarOffset\":0,\"fBarWidth\":1000,\"fEntries\":20,\"fTsumw\":0,\"fTsumw2\":0,\"fTsumwx\":0,\"fTsumwx2\":0,\"fMaximum\":-1111,\"fMinimum\":-1111,\"fNormFactor\":0,\"fContour\":[],\"fSumw2\":[0,5849.32990817025,21910.318599699,25165.6041655345,30152.9687213671,20726.9106337984,12531.2894924362,4953.63405358056,1496.20495672675,498.56404887803,0],\"fOption\":\"\",\"fFunctions\":{\"_typename\":\"TList\",\"name\":\"TList\",\"arr\":[],\"opt\":[]},\"fBufferSize\":0,\"fBuffer\":[],\"fBinStatErrOpt\":0,\"fStatOverflows\":2,\"fArray\":[0,620.908307348541,2077.55398811094,3386.04120434477,3231.97274804886,2440.10872733209,1578.25139738473,684.363095700359,314.770550301614,30.8408202184775,0]}],\"opt\":[\"E\",\"E \"]},\"fHistogram\":{\"_typename\":\"TH1F\",\"fUniqueID\":0,\"fBits\":50332160,\"fName\":\"#tau_{1}^{(2)}\",\"fTitle\":\"#tau_{1}^{(2)} binning 7\",\"fLineColor\":602,\"fLineStyle\":1,\"fLineWidth\":1,\"fFillColor\":0,\"fFillStyle\":1001,\"fMarkerColor\":1,\"fMarkerStyle\":1,\"fMarkerSize\":1,\"fNcells\":11,\"fXaxis\":{\"_typename\":\"TAxis\",\"fUniqueID\":0,\"fBits\":50331648,\"fName\":\"xaxis\",\"fTitle\":\"\",\"fNdivisions\":510,\"fAxisColor\":1,\"fLabelColor\":1,\"fLabelFont\":42,\"fLabelOffset\":0.005,\"fLabelSize\":0.035,\"fTickLength\":0.03,\"fTitleOffset\":1,\"fTitleSize\":0.035,\"fTitleColor\":1,\"fTitleFont\":42,\"fNbins\":9,\"fXmin\":0,\"fXmax\":0.4,\"fXbins\":[0,0.05,0.085,0.12,0.155,0.19,0.225,0.26,0.33,0.4],\"fFirst\":0,\"fLast\":0,\"fBits2\":0,\"fTimeDisplay\":false,\"fTimeFormat\":\"\",\"fLabels\":null,\"fModLabs\":null},\"fYaxis\":{\"_typename\":\"TAxis\",\"fUniqueID\":0,\"fBits\":50331648,\"fName\":\"yaxis\",\"fTitle\":\"\",\"fNdivisions\":510,\"fAxisColor\":1,\"fLabelColor\":1,\"fLabelFont\":42,\"fLabelOffset\":0.005,\"fLabelSize\":0.035,\"fTickLength\":0.03,\"fTitleOffset\":0,\"fTitleSize\":0.035,\"fTitleColor\":1,\"fTitleFont\":42,\"fNbins\":1,\"fXmin\":0,\"fXmax\":1,\"fXbins\":[],\"fFirst\":0,\"fLast\":0,\"fBits2\":0,\"fTimeDisplay\":false,\"fTimeFormat\":\"\",\"fLabels\":null,\"fModLabs\":null},\"fZaxis\":{\"_typename\":\"TAxis\",\"fUniqueID\":0,\"fBits\":50331648,\"fName\":\"zaxis\",\"fTitle\":\"\",\"fNdivisions\":510,\"fAxisColor\":1,\"fLabelColor\":1,\"fLabelFont\":42,\"fLabelOffset\":0.005,\"fLabelSize\":0.035,\"fTickLength\":0.03,\"fTitleOffset\":1,\"fTitleSize\":0.035,\"fTitleColor\":1,\"fTitleFont\":42,\"fNbins\":1,\"fXmin\":0,\"fXmax\":1,\"fXbins\":[],\"fFirst\":0,\"fLast\":0,\"fBits2\":0,\"fTimeDisplay\":false,\"fTimeFormat\":\"\",\"fLabels\":null,\"fModLabs\":null},\"fBarOffset\":0,\"fBarWidth\":1000,\"fEntries\":0,\"fTsumw\":0,\"fTsumw2\":0,\"fTsumwx\":0,\"fTsumwx2\":0,\"fMaximum\":3555.34326456201,\"fMinimum\":0,\"fNormFactor\":0,\"fContour\":[],\"fSumw2\":[0,0,0,0,0,0,0,0,0,0,0],\"fOption\":\"\",\"fFunctions\":{\"_typename\":\"TList\",\"name\":\"TList\",\"arr\":[],\"opt\":[]},\"fBufferSize\":0,\"fBuffer\":[],\"fBinStatErrOpt\":0,\"fStatOverflows\":2,\"fArray\":[0,0,0,0,0,0,0,0,0,0,0]},\"fMaximum\":-1111,\"fMinimum\":-1111},{\"_typename\":\"TPaveText\",\"fUniqueID\":0,\"fBits\":50331657,\"fLineColor\":1,\"fLineStyle\":1,\"fLineWidth\":1,\"fFillColor\":0,\"fFillStyle\":0,\"fX1\":0.127621147526816,\"fY1\":3605.42436885913,\"fX2\":0.272378852473184,\"fY2\":3977.54033120084,\"fX1NDC\":0.35524229721069,\"fY1NDC\":0.911268915170171,\"fX2NDC\":0.64475770278931,\"fY2NDC\":0.995000004768372,\"fBorderSize\":0,\"fInit\":1,\"fShadowColor\":1,\"fCornerRadius\":0,\"fOption\":\"blNDC\",\"fName\":\"title\",\"fTextAngle\":0,\"fTextSize\":0,\"fTextAlign\":22,\"fTextColor\":1,\"fTextFont\":42,\"fLabel\":\"\",\"fLongest\":24,\"fMargin\":0.05,\"fLines\":{\"_typename\":\"TList\",\"name\":\"TList\",\"arr\":[{\"_typename\":\"TLatex\",\"fUniqueID\":0,\"fBits\":50331648,\"fName\":\"\",\"fTitle\":\"#tau_{1}^{(2)} binning 7\",\"fTextAngle\":0,\"fTextSize\":0,\"fTextAlign\":0,\"fTextColor\":0,\"fTextFont\":0,\"fX\":0,\"fY\":0,\"fLineColor\":1,\"fLineStyle\":1,\"fLineWidth\":2,\"fLimitFactorSize\":3,\"fOriginSize\":0.057756096124649}],\"opt\":[\"\"]}}],\"opt\":[\"\",\"nostack\",\"blNDC\"]},\"fExecs\":{\"_typename\":\"TList\",\"name\":\"TList\",\"arr\":[],\"opt\":[]},\"fName\":\"c5_7\",\"fTitle\":\"c5_7\",\"fNumPaletteColor\":0,\"fNextPaletteColor\":0},{\"_typename\":\"TPad\",\"fUniqueID\":0,\"fBits\":50331657,\"fLineColor\":1,\"fLineStyle\":1,\"fLineWidth\":1,\"fFillColor\":0,\"fFillStyle\":1001,\"fLeftMargin\":0.1,\"fRightMargin\":0.1,\"fBottomMargin\":0.1,\"fTopMargin\":0.1,\"fXfile\":2,\"fYfile\":2,\"fAfile\":1,\"fXstat\":0.99,\"fYstat\":0.99,\"fAstat\":2,\"fFrameFillColor\":0,\"fFrameLineColor\":1,\"fFrameFillStyle\":1001,\"fFrameLineStyle\":1,\"fFrameLineWidth\":1,\"fFrameBorderSize\":1,\"fFrameBorderMode\":0,\"fX1\":-0.0500000037252905,\"fY1\":-375.218735590573,\"fX2\":0.450000003725291,\"fY2\":3376.96839666737,\"fXtoAbsPixelk\":448.101385353136,\"fXtoPixelk\":37.4747189537963,\"fXtoPixel\":749.493323234319,\"fYtoAbsPixelk\":1008.51738155672,\"fYtoPixelk\":296.664048458524,\"fYtoPixel\":-0.0878492078135211,\"fUtoAbsPixelk\":410.62671639934,\"fUtoPixelk\":5e-5,\"fUtoPixel\":374.74666720132,\"fVtoAbsPixelk\":1041.48005023514,\"fVtoPixelk\":329.626667136947,\"fVtoPixel\":-329.626667136947,\"fAbsPixeltoXk\":-0.597872351176427,\"fPixeltoXk\":-0.0500000037252905,\"fPixeltoX\":0.00133423470096392,\"fAbsPixeltoYk\":11480.0959127317,\"fPixeltoYk\":-375.218735590573,\"fPixeltoY\":-11.3831419188516,\"fXlowNDC\":0.343333333109816,\"fYlowNDC\":0.00999999977648264,\"fXUpNDC\":0,\"fYUpNDC\":0,\"fWNDC\":0.313333333780368,\"fHNDC\":0.313333333780368,\"fAbsXlowNDC\":0.343333333109816,\"fAbsYlowNDC\":0.00999999977648264,\"fAbsWNDC\":0.313333333780368,\"fAbsHNDC\":0.313333333780368,\"fUxmin\":0,\"fUymin\":0,\"fUxmax\":0.4,\"fUymax\":3001.74966107679,\"fTheta\":30,\"fPhi\":30,\"fAspectRatio\":0,\"fNumber\":8,\"fTickx\":0,\"fTicky\":0,\"fLogx\":0,\"fLogy\":0,\"fLogz\":0,\"fPadPaint\":0,\"fCrosshair\":0,\"fCrosshairPos\":0,\"fBorderSize\":2,\"fBorderMode\":0,\"fModified\":false,\"fGridx\":false,\"fGridy\":false,\"fAbsCoord\":false,\"fEditable\":true,\"fFixedAspectRatio\":false,\"fPrimitives\":{\"_typename\":\"TList\",\"name\":\"TList\",\"arr\":[{\"_typename\":\"TFrame\",\"fUniqueID\":0,\"fBits\":50331656,\"fLineColor\":1,\"fLineStyle\":1,\"fLineWidth\":1,\"fFillColor\":0,\"fFillStyle\":1001,\"fX1\":0,\"fY1\":0,\"fX2\":0.4,\"fY2\":3001.74966107679,\"fBorderSize\":1,\"fBorderMode\":0},{\"_typename\":\"THStack\",\"fUniqueID\":0,\"fBits\":50331656,\"fName\":\"#tau_{1}^{(2)}\",\"fTitle\":\"#tau_{1}^{(2)} binning 8\",\"fHists\":{\"_typename\":\"TList\",\"name\":\"TList\",\"arr\":[{\"_typename\":\"TH1D\",\"fUniqueID\":0,\"fBits\":50332168,\"fName\":\"closure_unfolded_MC\",\"fTitle\":\"closure_unfolded_MC\",\"fLineColor\":7,\"fLineStyle\":1,\"fLineWidth\":1,\"fFillColor\":0,\"fFillStyle\":1001,\"fMarkerColor\":7,\"fMarkerStyle\":2,\"fMarkerSize\":1,\"fNcells\":13,\"fXaxis\":{\"_typename\":\"TAxis\",\"fUniqueID\":0,\"fBits\":50331648,\"fName\":\"xaxis\",\"fTitle\":\"#tau_{1}^{(2)}(gen_sig)\",\"fNdivisions\":510,\"fAxisColor\":1,\"fLabelColor\":1,\"fLabelFont\":42,\"fLabelOffset\":0.005,\"fLabelSize\":0.035,\"fTickLength\":0.03,\"fTitleOffset\":1,\"fTitleSize\":0.035,\"fTitleColor\":1,\"fTitleFont\":42,\"fNbins\":11,\"fXmin\":0,\"fXmax\":0.4,\"fXbins\":[0,0.05,0.07625,0.1025,0.12875,0.155,0.18125,0.2075,0.23375,0.26,0.33,0.4],\"fFirst\":0,\"fLast\":0,\"fBits2\":0,\"fTimeDisplay\":false,\"fTimeFormat\":\"\",\"fLabels\":null,\"fModLabs\":null},\"fYaxis\":{\"_typename\":\"TAxis\",\"fUniqueID\":0,\"fBits\":50331648,\"fName\":\"yaxis\",\"fTitle\":\"\",\"fNdivisions\":510,\"fAxisColor\":1,\"fLabelColor\":1,\"fLabelFont\":42,\"fLabelOffset\":0.005,\"fLabelSize\":0.035,\"fTickLength\":0.03,\"fTitleOffset\":0,\"fTitleSize\":0.035,\"fTitleColor\":1,\"fTitleFont\":42,\"fNbins\":1,\"fXmin\":0,\"fXmax\":1,\"fXbins\":[],\"fFirst\":0,\"fLast\":0,\"fBits2\":0,\"fTimeDisplay\":false,\"fTimeFormat\":\"\",\"fLabels\":null,\"fModLabs\":null},\"fZaxis\":{\"_typename\":\"TAxis\",\"fUniqueID\":0,\"fBits\":50331648,\"fName\":\"zaxis\",\"fTitle\":\"\",\"fNdivisions\":510,\"fAxisColor\":1,\"fLabelColor\":1,\"fLabelFont\":42,\"fLabelOffset\":0.005,\"fLabelSize\":0.035,\"fTickLength\":0.03,\"fTitleOffset\":1,\"fTitleSize\":0.035,\"fTitleColor\":1,\"fTitleFont\":42,\"fNbins\":1,\"fXmin\":0,\"fXmax\":1,\"fXbins\":[],\"fFirst\":0,\"fLast\":0,\"fBits2\":0,\"fTimeDisplay\":false,\"fTimeFormat\":\"\",\"fLabels\":null,\"fModLabs\":null},\"fBarOffset\":0,\"fBarWidth\":1000,\"fEntries\":24,\"fTsumw\":0,\"fTsumw2\":0,\"fTsumwx\":0,\"fTsumwx2\":0,\"fMaximum\":-1111,\"fMinimum\":-1111,\"fNormFactor\":0,\"fContour\":[],\"fSumw2\":[0,395.942169652806,1029.66641461741,2150.47139156454,3592.27090615447,4612.78233052795,4616.76620756457,4157.4202717725,3274.1272522693,1577.05493602626,477.428028718513,93.5998729440443,0],\"fOption\":\"\",\"fFunctions\":{\"_typename\":\"TList\",\"name\":\"TList\",\"arr\":[],\"opt\":[]},\"fBufferSize\":0,\"fBuffer\":[],\"fBinStatErrOpt\":0,\"fStatOverflows\":2,\"fArray\":[0,696.159511597265,1387.33985102337,2100.66865442246,2399.65939554564,2376.31975589033,1898.98157201631,1436.31098276038,902.484928517691,462.887726733316,225.150495004175,15.1747557998107,0]},{\"_typename\":\"TH1D\",\"fUniqueID\":0,\"fBits\":50332168,\"fName\":\"unfolded_data\",\"fTitle\":\"unfolded_data\",\"fLineColor\":1,\"fLineStyle\":1,\"fLineWidth\":2,\"fFillColor\":0,\"fFillStyle\":1001,\"fMarkerColor\":1,\"fMarkerStyle\":22,\"fMarkerSize\":1,\"fNcells\":13,\"fXaxis\":{\"_typename\":\"TAxis\",\"fUniqueID\":0,\"fBits\":50331648,\"fName\":\"xaxis\",\"fTitle\":\"#tau_{1}^{(2)}(gen_sig)\",\"fNdivisions\":510,\"fAxisColor\":1,\"fLabelColor\":1,\"fLabelFont\":42,\"fLabelOffset\":0.005,\"fLabelSize\":0.035,\"fTickLength\":0.03,\"fTitleOffset\":1,\"fTitleSize\":0.035,\"fTitleColor\":1,\"fTitleFont\":42,\"fNbins\":11,\"fXmin\":0,\"fXmax\":0.4,\"fXbins\":[0,0.05,0.07625,0.1025,0.12875,0.155,0.18125,0.2075,0.23375,0.26,0.33,0.4],\"fFirst\":0,\"fLast\":0,\"fBits2\":0,\"fTimeDisplay\":false,\"fTimeFormat\":\"\",\"fLabels\":null,\"fModLabs\":null},\"fYaxis\":{\"_typename\":\"TAxis\",\"fUniqueID\":0,\"fBits\":50331648,\"fName\":\"yaxis\",\"fTitle\":\"\",\"fNdivisions\":510,\"fAxisColor\":1,\"fLabelColor\":1,\"fLabelFont\":42,\"fLabelOffset\":0.005,\"fLabelSize\":0.035,\"fTickLength\":0.03,\"fTitleOffset\":0,\"fTitleSize\":0.035,\"fTitleColor\":1,\"fTitleFont\":42,\"fNbins\":1,\"fXmin\":0,\"fXmax\":1,\"fXbins\":[],\"fFirst\":0,\"fLast\":0,\"fBits2\":0,\"fTimeDisplay\":false,\"fTimeFormat\":\"\",\"fLabels\":null,\"fModLabs\":null},\"fZaxis\":{\"_typename\":\"TAxis\",\"fUniqueID\":0,\"fBits\":50331648,\"fName\":\"zaxis\",\"fTitle\":\"\",\"fNdivisions\":510,\"fAxisColor\":1,\"fLabelColor\":1,\"fLabelFont\":42,\"fLabelOffset\":0.005,\"fLabelSize\":0.035,\"fTickLength\":0.03,\"fTitleOffset\":1,\"fTitleSize\":0.035,\"fTitleColor\":1,\"fTitleFont\":42,\"fNbins\":1,\"fXmin\":0,\"fXmax\":1,\"fXbins\":[],\"fFirst\":0,\"fLast\":0,\"fBits2\":0,\"fTimeDisplay\":false,\"fTimeFormat\":\"\",\"fLabels\":null,\"fModLabs\":null},\"fBarOffset\":0,\"fBarWidth\":1000,\"fEntries\":24,\"fTsumw\":0,\"fTsumw2\":0,\"fTsumwx\":0,\"fTsumwx2\":0,\"fMaximum\":-1111,\"fMinimum\":-1111,\"fNormFactor\":0,\"fContour\":[],\"fSumw2\":[0,5915.78129631415,18880.1473101309,25242.7813859502,35828.995979252,38412.2054589567,31251.1615082897,25777.7717352157,17718.0481513104,9030.00395410408,2021.54550822559,513.253721154741,0],\"fOption\":\"\",\"fFunctions\":{\"_typename\":\"TList\",\"name\":\"TList\",\"arr\":[],\"opt\":[]},\"fBufferSize\":0,\"fBuffer\":[],\"fBinStatErrOpt\":0,\"fStatOverflows\":2,\"fArray\":[0,632.353075171989,1423.22294096227,2201.35750499082,2858.80920102552,2101.26803958701,2098.36223760019,1305.45628606924,1045.70626473151,404.314768684244,324.619916838903,27.2959237700283,0]}],\"opt\":[\"E\",\"E \"]},\"fHistogram\":{\"_typename\":\"TH1F\",\"fUniqueID\":0,\"fBits\":50332160,\"fName\":\"#tau_{1}^{(2)}\",\"fTitle\":\"#tau_{1}^{(2)} binning 8\",\"fLineColor\":602,\"fLineStyle\":1,\"fLineWidth\":1,\"fFillColor\":0,\"fFillStyle\":1001,\"fMarkerColor\":1,\"fMarkerStyle\":1,\"fMarkerSize\":1,\"fNcells\":13,\"fXaxis\":{\"_typename\":\"TAxis\",\"fUniqueID\":0,\"fBits\":50331648,\"fName\":\"xaxis\",\"fTitle\":\"\",\"fNdivisions\":510,\"fAxisColor\":1,\"fLabelColor\":1,\"fLabelFont\":42,\"fLabelOffset\":0.005,\"fLabelSize\":0.035,\"fTickLength\":0.03,\"fTitleOffset\":1,\"fTitleSize\":0.035,\"fTitleColor\":1,\"fTitleFont\":42,\"fNbins\":11,\"fXmin\":0,\"fXmax\":0.4,\"fXbins\":[0,0.05,0.07625,0.1025,0.12875,0.155,0.18125,0.2075,0.23375,0.26,0.33,0.4],\"fFirst\":0,\"fLast\":0,\"fBits2\":0,\"fTimeDisplay\":false,\"fTimeFormat\":\"\",\"fLabels\":null,\"fModLabs\":null},\"fYaxis\":{\"_typename\":\"TAxis\",\"fUniqueID\":0,\"fBits\":50331648,\"fName\":\"yaxis\",\"fTitle\":\"\",\"fNdivisions\":510,\"fAxisColor\":1,\"fLabelColor\":1,\"fLabelFont\":42,\"fLabelOffset\":0.005,\"fLabelSize\":0.035,\"fTickLength\":0.03,\"fTitleOffset\":0,\"fTitleSize\":0.035,\"fTitleColor\":1,\"fTitleFont\":42,\"fNbins\":1,\"fXmin\":0,\"fXmax\":1,\"fXbins\":[],\"fFirst\":0,\"fLast\":0,\"fBits2\":0,\"fTimeDisplay\":false,\"fTimeFormat\":\"\",\"fLabels\":null,\"fModLabs\":null},\"fZaxis\":{\"_typename\":\"TAxis\",\"fUniqueID\":0,\"fBits\":50331648,\"fName\":\"zaxis\",\"fTitle\":\"\",\"fNdivisions\":510,\"fAxisColor\":1,\"fLabelColor\":1,\"fLabelFont\":42,\"fLabelOffset\":0.005,\"fLabelSize\":0.035,\"fTickLength\":0.03,\"fTitleOffset\":1,\"fTitleSize\":0.035,\"fTitleColor\":1,\"fTitleFont\":42,\"fNbins\":1,\"fXmin\":0,\"fXmax\":1,\"fXbins\":[],\"fFirst\":0,\"fLast\":0,\"fBits2\":0,\"fTimeDisplay\":false,\"fTimeFormat\":\"\",\"fLabels\":null,\"fModLabs\":null},\"fBarOffset\":0,\"fBarWidth\":1000,\"fEntries\":0,\"fTsumw\":0,\"fTsumw2\":0,\"fTsumwx\":0,\"fTsumwx2\":0,\"fMaximum\":3001.74966107679,\"fMinimum\":0,\"fNormFactor\":0,\"fContour\":[],\"fSumw2\":[0,0,0,0,0,0,0,0,0,0,0,0,0],\"fOption\":\"\",\"fFunctions\":{\"_typename\":\"TList\",\"name\":\"TList\",\"arr\":[],\"opt\":[]},\"fBufferSize\":0,\"fBuffer\":[],\"fBinStatErrOpt\":0,\"fStatOverflows\":2,\"fArray\":[0,0,0,0,0,0,0,0,0,0,0,0,0]},\"fMaximum\":-1111,\"fMinimum\":-1111},{\"_typename\":\"TPaveText\",\"fUniqueID\":0,\"fBits\":50331657,\"fLineColor\":1,\"fLineStyle\":1,\"fLineWidth\":1,\"fFillColor\":0,\"fFillStyle\":0,\"fX1\":0.127621147526816,\"fY1\":3044.03276193759,\"fX2\":0.272378852473184,\"fY2\":3358.2074788979,\"fX1NDC\":0.35524229721069,\"fY1NDC\":0.911268915170171,\"fX2NDC\":0.64475770278931,\"fY2NDC\":0.995000004768372,\"fBorderSize\":0,\"fInit\":1,\"fShadowColor\":1,\"fCornerRadius\":0,\"fOption\":\"blNDC\",\"fName\":\"title\",\"fTextAngle\":0,\"fTextSize\":0,\"fTextAlign\":22,\"fTextColor\":1,\"fTextFont\":42,\"fLabel\":\"\",\"fLongest\":24,\"fMargin\":0.05,\"fLines\":{\"_typename\":\"TList\",\"name\":\"TList\",\"arr\":[{\"_typename\":\"TLatex\",\"fUniqueID\":0,\"fBits\":50331648,\"fName\":\"\",\"fTitle\":\"#tau_{1}^{(2)} binning 8\",\"fTextAngle\":0,\"fTextSize\":0,\"fTextAlign\":0,\"fTextColor\":0,\"fTextFont\":0,\"fX\":0,\"fY\":0,\"fLineColor\":1,\"fLineStyle\":1,\"fLineWidth\":2,\"fLimitFactorSize\":3,\"fOriginSize\":0.057756096124649}],\"opt\":[\"\"]}}],\"opt\":[\"\",\"nostack\",\"blNDC\"]},\"fExecs\":{\"_typename\":\"TList\",\"name\":\"TList\",\"arr\":[],\"opt\":[]},\"fName\":\"c5_8\",\"fTitle\":\"c5_8\",\"fNumPaletteColor\":0,\"fNextPaletteColor\":0},{\"_typename\":\"TPad\",\"fUniqueID\":0,\"fBits\":50331657,\"fLineColor\":1,\"fLineStyle\":1,\"fLineWidth\":1,\"fFillColor\":0,\"fFillStyle\":1001,\"fLeftMargin\":0.1,\"fRightMargin\":0.1,\"fBottomMargin\":0.1,\"fTopMargin\":0.1,\"fXfile\":2,\"fYfile\":2,\"fAfile\":1,\"fXstat\":0.99,\"fYstat\":0.99,\"fAstat\":2,\"fFrameFillColor\":0,\"fFrameLineColor\":1,\"fFrameFillStyle\":1001,\"fFrameLineStyle\":1,\"fFrameLineWidth\":1,\"fFrameBorderSize\":1,\"fFrameBorderMode\":0,\"fX1\":-0.0500000037252905,\"fY1\":-303.404532454065,\"fX2\":0.450000003725291,\"fY2\":2730.6406112434,\"fXtoAbsPixelk\":846.768052019803,\"fXtoPixelk\":37.4747189537963,\"fXtoPixel\":749.493323234319,\"fYtoAbsPixelk\":1008.51738155672,\"fYtoPixelk\":296.664048458524,\"fYtoPixel\":-0.108642637642249,\"fUtoAbsPixelk\":809.293383066006,\"fUtoPixelk\":5e-5,\"fUtoPixel\":374.74666720132,\"fVtoAbsPixelk\":1041.48005023514,\"fVtoPixelk\":329.626667136947,\"fVtoPixel\":-329.626667136947,\"fAbsPixeltoXk\":-1.12978725196071,\"fPixeltoXk\":-0.0500000037252905,\"fPixeltoX\":0.00133423470096392,\"fAbsPixeltoYk\":9282.88702707756,\"fPixeltoYk\":-303.404532454065,\"fPixeltoY\":-9.20448933956224,\"fXlowNDC\":0.676666666443149,\"fYlowNDC\":0.00999999977648264,\"fXUpNDC\":0,\"fYUpNDC\":0,\"fWNDC\":0.313333333780368,\"fHNDC\":0.313333333780368,\"fAbsXlowNDC\":0.676666666443149,\"fAbsYlowNDC\":0.00999999977648264,\"fAbsWNDC\":0.313333333780368,\"fAbsHNDC\":0.313333333780368,\"fUxmin\":0,\"fUymin\":0,\"fUxmax\":0.4,\"fUymax\":2427.23607878933,\"fTheta\":30,\"fPhi\":30,\"fAspectRatio\":0,\"fNumber\":9,\"fTickx\":0,\"fTicky\":0,\"fLogx\":0,\"fLogy\":0,\"fLogz\":0,\"fPadPaint\":0,\"fCrosshair\":0,\"fCrosshairPos\":0,\"fBorderSize\":2,\"fBorderMode\":0,\"fModified\":false,\"fGridx\":false,\"fGridy\":false,\"fAbsCoord\":false,\"fEditable\":true,\"fFixedAspectRatio\":false,\"fPrimitives\":{\"_typename\":\"TList\",\"name\":\"TList\",\"arr\":[{\"_typename\":\"TFrame\",\"fUniqueID\":0,\"fBits\":50331656,\"fLineColor\":1,\"fLineStyle\":1,\"fLineWidth\":1,\"fFillColor\":0,\"fFillStyle\":1001,\"fX1\":0,\"fY1\":0,\"fX2\":0.4,\"fY2\":2427.23607878933,\"fBorderSize\":1,\"fBorderMode\":0},{\"_typename\":\"THStack\",\"fUniqueID\":0,\"fBits\":50331656,\"fName\":\"#tau_{1}^{(2)}\",\"fTitle\":\"#tau_{1}^{(2)} binning 9\",\"fHists\":{\"_typename\":\"TList\",\"name\":\"TList\",\"arr\":[{\"_typename\":\"TH1D\",\"fUniqueID\":0,\"fBits\":50332168,\"fName\":\"closure_unfolded_MC\",\"fTitle\":\"closure_unfolded_MC\",\"fLineColor\":7,\"fLineStyle\":1,\"fLineWidth\":1,\"fFillColor\":0,\"fFillStyle\":1001,\"fMarkerColor\":7,\"fMarkerStyle\":2,\"fMarkerSize\":1,\"fNcells\":15,\"fXaxis\":{\"_typename\":\"TAxis\",\"fUniqueID\":0,\"fBits\":50331648,\"fName\":\"xaxis\",\"fTitle\":\"#tau_{1}^{(2)}(gen_sig)\",\"fNdivisions\":510,\"fAxisColor\":1,\"fLabelColor\":1,\"fLabelFont\":42,\"fLabelOffset\":0.005,\"fLabelSize\":0.035,\"fTickLength\":0.03,\"fTitleOffset\":1,\"fTitleSize\":0.035,\"fTitleColor\":1,\"fTitleFont\":42,\"fNbins\":13,\"fXmin\":0,\"fXmax\":0.4,\"fXbins\":[0,0.05,0.071,0.092,0.113,0.134,0.155,0.176,0.197,0.218,0.239,0.26,0.33,0.4],\"fFirst\":0,\"fLast\":0,\"fBits2\":0,\"fTimeDisplay\":false,\"fTimeFormat\":\"\",\"fLabels\":null,\"fModLabs\":null},\"fYaxis\":{\"_typename\":\"TAxis\",\"fUniqueID\":0,\"fBits\":50331648,\"fName\":\"yaxis\",\"fTitle\":\"\",\"fNdivisions\":510,\"fAxisColor\":1,\"fLabelColor\":1,\"fLabelFont\":42,\"fLabelOffset\":0.005,\"fLabelSize\":0.035,\"fTickLength\":0.03,\"fTitleOffset\":0,\"fTitleSize\":0.035,\"fTitleColor\":1,\"fTitleFont\":42,\"fNbins\":1,\"fXmin\":0,\"fXmax\":1,\"fXbins\":[],\"fFirst\":0,\"fLast\":0,\"fBits2\":0,\"fTimeDisplay\":false,\"fTimeFormat\":\"\",\"fLabels\":null,\"fModLabs\":null},\"fZaxis\":{\"_typename\":\"TAxis\",\"fUniqueID\":0,\"fBits\":50331648,\"fName\":\"zaxis\",\"fTitle\":\"\",\"fNdivisions\":510,\"fAxisColor\":1,\"fLabelColor\":1,\"fLabelFont\":42,\"fLabelOffset\":0.005,\"fLabelSize\":0.035,\"fTickLength\":0.03,\"fTitleOffset\":1,\"fTitleSize\":0.035,\"fTitleColor\":1,\"fTitleFont\":42,\"fNbins\":1,\"fXmin\":0,\"fXmax\":1,\"fXbins\":[],\"fFirst\":0,\"fLast\":0,\"fBits2\":0,\"fTimeDisplay\":false,\"fTimeFormat\":\"\",\"fLabels\":null,\"fModLabs\":null},\"fBarOffset\":0,\"fBarWidth\":1000,\"fEntries\":28,\"fTsumw\":0,\"fTsumw2\":0,\"fTsumwx\":0,\"fTsumwx2\":0,\"fMaximum\":-1111,\"fMinimum\":-1111,\"fNormFactor\":0,\"fContour\":[],\"fSumw2\":[0,403.599389211182,977.945910658865,2049.80547837035,3484.69936840795,5242.23753125287,7010.46203693089,8071.83665479966,8018.87016580299,6837.19990669809,5316.8443694345,2665.37706767109,615.995353700426,94.7451432712828,0],\"fOption\":\"\",\"fFunctions\":{\"_typename\":\"TList\",\"name\":\"TList\",\"arr\":[],\"opt\":[]},\"fBufferSize\":0,\"fBuffer\":[],\"fBinStatErrOpt\":0,\"fStatOverflows\":2,\"fArray\":[0,696.159511597265,1042.50825603582,1514.19457679224,1887.39531196233,1921.88870056033,1898.00081153107,1557.81174663304,1268.8381795816,931.336552770563,612.829897540627,329.848833501865,225.150495004175,15.1747557998108,0]},{\"_typename\":\"TH1D\",\"fUniqueID\":0,\"fBits\":50332168,\"fName\":\"unfolded_data\",\"fTitle\":\"unfolded_data\",\"fLineColor\":1,\"fLineStyle\":1,\"fLineWidth\":2,\"fFillColor\":0,\"fFillStyle\":1001,\"fMarkerColor\":1,\"fMarkerStyle\":22,\"fMarkerSize\":1,\"fNcells\":15,\"fXaxis\":{\"_typename\":\"TAxis\",\"fUniqueID\":0,\"fBits\":50331648,\"fName\":\"xaxis\",\"fTitle\":\"#tau_{1}^{(2)}(gen_sig)\",\"fNdivisions\":510,\"fAxisColor\":1,\"fLabelColor\":1,\"fLabelFont\":42,\"fLabelOffset\":0.005,\"fLabelSize\":0.035,\"fTickLength\":0.03,\"fTitleOffset\":1,\"fTitleSize\":0.035,\"fTitleColor\":1,\"fTitleFont\":42,\"fNbins\":13,\"fXmin\":0,\"fXmax\":0.4,\"fXbins\":[0,0.05,0.071,0.092,0.113,0.134,0.155,0.176,0.197,0.218,0.239,0.26,0.33,0.4],\"fFirst\":0,\"fLast\":0,\"fBits2\":0,\"fTimeDisplay\":false,\"fTimeFormat\":\"\",\"fLabels\":null,\"fModLabs\":null},\"fYaxis\":{\"_typename\":\"TAxis\",\"fUniqueID\":0,\"fBits\":50331648,\"fName\":\"yaxis\",\"fTitle\":\"\",\"fNdivisions\":510,\"fAxisColor\":1,\"fLabelColor\":1,\"fLabelFont\":42,\"fLabelOffset\":0.005,\"fLabelSize\":0.035,\"fTickLength\":0.03,\"fTitleOffset\":0,\"fTitleSize\":0.035,\"fTitleColor\":1,\"fTitleFont\":42,\"fNbins\":1,\"fXmin\":0,\"fXmax\":1,\"fXbins\":[],\"fFirst\":0,\"fLast\":0,\"fBits2\":0,\"fTimeDisplay\":false,\"fTimeFormat\":\"\",\"fLabels\":null,\"fModLabs\":null},\"fZaxis\":{\"_typename\":\"TAxis\",\"fUniqueID\":0,\"fBits\":50331648,\"fName\":\"zaxis\",\"fTitle\":\"\",\"fNdivisions\":510,\"fAxisColor\":1,\"fLabelColor\":1,\"fLabelFont\":42,\"fLabelOffset\":0.005,\"fLabelSize\":0.035,\"fTickLength\":0.03,\"fTitleOffset\":1,\"fTitleSize\":0.035,\"fTitleColor\":1,\"fTitleFont\":42,\"fNbins\":1,\"fXmin\":0,\"fXmax\":1,\"fXbins\":[],\"fFirst\":0,\"fLast\":0,\"fBits2\":0,\"fTimeDisplay\":false,\"fTimeFormat\":\"\",\"fLabels\":null,\"fModLabs\":null},\"fBarOffset\":0,\"fBarWidth\":1000,\"fEntries\":28,\"fTsumw\":0,\"fTsumw2\":0,\"fTsumwx\":0,\"fTsumwx2\":0,\"fMaximum\":-1111,\"fMinimum\":-1111,\"fNormFactor\":0,\"fContour\":[],\"fSumw2\":[0,6012.3062137645,16355.4741090668,29649.152882339,32038.0016389493,55779.2406411123,55298.2293353408,53629.736341833,50281.9043925493,36328.9077245955,34039.6383711721,21747.3830003115,3303.60685920146,551.151216162037,0],\"fOption\":\"\",\"fFunctions\":{\"_typename\":\"TList\",\"name\":\"TList\",\"arr\":[],\"opt\":[]},\"fBufferSize\":0,\"fBuffer\":[],\"fBinStatErrOpt\":0,\"fStatOverflows\":2,\"fArray\":[0,608.467756038477,1233.24943097363,1291.95096872563,2311.65340837079,1997.58886506877,1767.59182730299,1774.70297190239,1118.93203115345,1003.86348953898,595.931280844691,379.548498992535,295.479806990439,32.4029411892186,0]}],\"opt\":[\"E\",\"E \"]},\"fHistogram\":{\"_typename\":\"TH1F\",\"fUniqueID\":0,\"fBits\":50332160,\"fName\":\"#tau_{1}^{(2)}\",\"fTitle\":\"#tau_{1}^{(2)} binning 9\",\"fLineColor\":602,\"fLineStyle\":1,\"fLineWidth\":1,\"fFillColor\":0,\"fFillStyle\":1001,\"fMarkerColor\":1,\"fMarkerStyle\":1,\"fMarkerSize\":1,\"fNcells\":15,\"fXaxis\":{\"_typename\":\"TAxis\",\"fUniqueID\":0,\"fBits\":50331648,\"fName\":\"xaxis\",\"fTitle\":\"\",\"fNdivisions\":510,\"fAxisColor\":1,\"fLabelColor\":1,\"fLabelFont\":42,\"fLabelOffset\":0.005,\"fLabelSize\":0.035,\"fTickLength\":0.03,\"fTitleOffset\":1,\"fTitleSize\":0.035,\"fTitleColor\":1,\"fTitleFont\":42,\"fNbins\":13,\"fXmin\":0,\"fXmax\":0.4,\"fXbins\":[0,0.05,0.071,0.092,0.113,0.134,0.155,0.176,0.197,0.218,0.239,0.26,0.33,0.4],\"fFirst\":0,\"fLast\":0,\"fBits2\":0,\"fTimeDisplay\":false,\"fTimeFormat\":\"\",\"fLabels\":null,\"fModLabs\":null},\"fYaxis\":{\"_typename\":\"TAxis\",\"fUniqueID\":0,\"fBits\":50331648,\"fName\":\"yaxis\",\"fTitle\":\"\",\"fNdivisions\":510,\"fAxisColor\":1,\"fLabelColor\":1,\"fLabelFont\":42,\"fLabelOffset\":0.005,\"fLabelSize\":0.035,\"fTickLength\":0.03,\"fTitleOffset\":0,\"fTitleSize\":0.035,\"fTitleColor\":1,\"fTitleFont\":42,\"fNbins\":1,\"fXmin\":0,\"fXmax\":1,\"fXbins\":[],\"fFirst\":0,\"fLast\":0,\"fBits2\":0,\"fTimeDisplay\":false,\"fTimeFormat\":\"\",\"fLabels\":null,\"fModLabs\":null},\"fZaxis\":{\"_typename\":\"TAxis\",\"fUniqueID\":0,\"fBits\":50331648,\"fName\":\"zaxis\",\"fTitle\":\"\",\"fNdivisions\":510,\"fAxisColor\":1,\"fLabelColor\":1,\"fLabelFont\":42,\"fLabelOffset\":0.005,\"fLabelSize\":0.035,\"fTickLength\":0.03,\"fTitleOffset\":1,\"fTitleSize\":0.035,\"fTitleColor\":1,\"fTitleFont\":42,\"fNbins\":1,\"fXmin\":0,\"fXmax\":1,\"fXbins\":[],\"fFirst\":0,\"fLast\":0,\"fBits2\":0,\"fTimeDisplay\":false,\"fTimeFormat\":\"\",\"fLabels\":null,\"fModLabs\":null},\"fBarOffset\":0,\"fBarWidth\":1000,\"fEntries\":0,\"fTsumw\":0,\"fTsumw2\":0,\"fTsumwx\":0,\"fTsumwx2\":0,\"fMaximum\":2427.23607878933,\"fMinimum\":0,\"fNormFactor\":0,\"fContour\":[],\"fSumw2\":[0,0,0,0,0,0,0,0,0,0,0,0,0,0,0],\"fOption\":\"\",\"fFunctions\":{\"_typename\":\"TList\",\"name\":\"TList\",\"arr\":[],\"opt\":[]},\"fBufferSize\":0,\"fBuffer\":[],\"fBinStatErrOpt\":0,\"fStatOverflows\":2,\"fArray\":[0,0,0,0,0,0,0,0,0,0,0,0,0,0,0]},\"fMaximum\":-1111,\"fMinimum\":-1111},{\"_typename\":\"TPaveText\",\"fUniqueID\":0,\"fBits\":50331657,\"fLineColor\":1,\"fLineStyle\":1,\"fLineWidth\":1,\"fFillColor\":0,\"fFillStyle\":0,\"fX1\":0.127621147526816,\"fY1\":2461.42649422045,\"fX2\":0.272378852473184,\"fY2\":2715.47039999236,\"fX1NDC\":0.35524229721069,\"fY1NDC\":0.911268915170171,\"fX2NDC\":0.64475770278931,\"fY2NDC\":0.995000004768372,\"fBorderSize\":0,\"fInit\":1,\"fShadowColor\":1,\"fCornerRadius\":0,\"fOption\":\"blNDC\",\"fName\":\"title\",\"fTextAngle\":0,\"fTextSize\":0,\"fTextAlign\":22,\"fTextColor\":1,\"fTextFont\":42,\"fLabel\":\"\",\"fLongest\":24,\"fMargin\":0.05,\"fLines\":{\"_typename\":\"TList\",\"name\":\"TList\",\"arr\":[{\"_typename\":\"TLatex\",\"fUniqueID\":0,\"fBits\":50331648,\"fName\":\"\",\"fTitle\":\"#tau_{1}^{(2)} binning 9\",\"fTextAngle\":0,\"fTextSize\":0,\"fTextAlign\":0,\"fTextColor\":0,\"fTextFont\":0,\"fX\":0,\"fY\":0,\"fLineColor\":1,\"fLineStyle\":1,\"fLineWidth\":2,\"fLimitFactorSize\":3,\"fOriginSize\":0.057756096124649}],\"opt\":[\"\"]}}],\"opt\":[\"\",\"nostack\",\"blNDC\"]},\"fExecs\":{\"_typename\":\"TList\",\"name\":\"TList\",\"arr\":[],\"opt\":[]},\"fName\":\"c5_9\",\"fTitle\":\"c5_9\",\"fNumPaletteColor\":0,\"fNextPaletteColor\":0}],\"opt\":[\"\",\"\",\"\",\"\",\"\",\"\",\"\",\"\",\"\"]},\"fExecs\":null,\"fName\":\"c5\",\"fTitle\":\"c5\",\"fNumPaletteColor\":0,\"fNextPaletteColor\":0,\"fDISPLAY\":\"$DISPLAY\",\"fDoubleBuffer\":0,\"fRetained\":true,\"fXsizeUser\":0,\"fYsizeUser\":0,\"fXsizeReal\":20,\"fYsizeReal\":18,\"fWindowTopX\":0,\"fWindowTopY\":0,\"fWindowWidth\":0,\"fWindowHeight\":0,\"fCw\":1196,\"fCh\":1052,\"fCatt\":{\"_typename\":\"TAttCanvas\",\"fXBetween\":2,\"fYBetween\":2,\"fTitleFromTop\":1.2,\"fXdate\":0.2,\"fYdate\":0.3,\"fAdate\":1},\"kMoveOpaque\":true,\"kResizeOpaque\":true,\"fHighLightColor\":2,\"fBatch\":true,\"kShowEventStatus\":false,\"kAutoExec\":true,\"kMenuBar\":true});\n",
       "       Core.draw(\"root_plot_13\", obj, \"\");\n",
       "     }\n",
       " );\n",
       "</script>\n"
      ],
      "text/plain": [
       "<IPython.core.display.HTML object>"
      ]
     },
     "metadata": {},
     "output_type": "display_data"
    }
   ],
   "source": [
    "import time\n",
    "#hs = []\n",
    "c5 = ROOT.TCanvas('c5', 'c5', 1200, 1080)\n",
    "c5.Divide(3,3)\n",
    "for i in xrange(len(h_unfoldings)):\n",
    "    c5.cd(i+1)\n",
    "    h_unfoldings[i].Draw(\"nostack\")\n",
    "    if i==0: legus[i].Draw()\n",
    "    #time.sleep(1)\n",
    "\n",
    "c5.Draw()\n",
    "#time.sleep(2)\n",
    "c5.SaveAs(\"tau1_2_unfoldings_Wsel_powheg.png\")\n",
    "#time.sleep(5)\n",
    "#c5.SaveAs(\"tau1_2_unfoldings_Wsel_powheg.pdf\")"
   ]
  },
  {
   "cell_type": "code",
   "execution_count": 156,
   "metadata": {
    "scrolled": true
   },
   "outputs": [
    {
     "name": "stderr",
     "output_type": "stream",
     "text": [
      "Warning in <TCanvas::Constructor>: Deleting canvas with same name: c6\n",
      "Info in <TCanvas::Print>: png file tau1_2_responses_Wsel_powheg.png has been created\n"
     ]
    },
    {
     "data": {
      "text/html": [
       "\n",
       "<div id=\"root_plot_14\"\n",
       "     style=\"width: 1196px; height: 1052px\">\n",
       "</div>\n",
       "\n",
       "<script>\n",
       " requirejs.config({\n",
       "     paths: {\n",
       "       'JSRootCore' : 'https://root.cern.ch/js/notebook//scripts/JSRootCore',\n",
       "     }\n",
       "   });\n",
       " require(['JSRootCore'],\n",
       "     function(Core) {\n",
       "       var obj = Core.JSONR_unref({\"_typename\":\"TCanvas\",\"fUniqueID\":0,\"fBits\":53673992,\"fLineColor\":1,\"fLineStyle\":1,\"fLineWidth\":1,\"fFillColor\":0,\"fFillStyle\":1001,\"fLeftMargin\":0.1,\"fRightMargin\":0.1,\"fBottomMargin\":0.1,\"fTopMargin\":0.1,\"fXfile\":2,\"fYfile\":2,\"fAfile\":1,\"fXstat\":0.99,\"fYstat\":0.99,\"fAstat\":2,\"fFrameFillColor\":0,\"fFrameLineColor\":1,\"fFrameFillStyle\":1001,\"fFrameLineStyle\":1,\"fFrameLineWidth\":1,\"fFrameBorderSize\":1,\"fFrameBorderMode\":0,\"fX1\":0,\"fY1\":0,\"fX2\":1,\"fY2\":1,\"fXtoAbsPixelk\":5e-5,\"fXtoPixelk\":5e-5,\"fXtoPixel\":1196,\"fYtoAbsPixelk\":1052.00005,\"fYtoPixelk\":1052.00005,\"fYtoPixel\":-1052,\"fUtoAbsPixelk\":5e-5,\"fUtoPixelk\":5e-5,\"fUtoPixel\":1196,\"fVtoAbsPixelk\":1052.00005,\"fVtoPixelk\":1052,\"fVtoPixel\":-1052,\"fAbsPixeltoXk\":0,\"fPixeltoXk\":0,\"fPixeltoX\":8.36120401337793e-4,\"fAbsPixeltoYk\":1,\"fPixeltoYk\":0,\"fPixeltoY\":-9.50570342205323e-4,\"fXlowNDC\":0,\"fYlowNDC\":0,\"fXUpNDC\":0,\"fYUpNDC\":0,\"fWNDC\":1,\"fHNDC\":1,\"fAbsXlowNDC\":0,\"fAbsYlowNDC\":0,\"fAbsWNDC\":1,\"fAbsHNDC\":1,\"fUxmin\":0,\"fUymin\":0,\"fUxmax\":1,\"fUymax\":1,\"fTheta\":30,\"fPhi\":30,\"fAspectRatio\":0,\"fNumber\":0,\"fTickx\":0,\"fTicky\":0,\"fLogx\":0,\"fLogy\":0,\"fLogz\":0,\"fPadPaint\":0,\"fCrosshair\":0,\"fCrosshairPos\":0,\"fBorderSize\":2,\"fBorderMode\":0,\"fModified\":false,\"fGridx\":false,\"fGridy\":false,\"fAbsCoord\":false,\"fEditable\":true,\"fFixedAspectRatio\":false,\"fPrimitives\":{\"_typename\":\"TList\",\"name\":\"TList\",\"arr\":[{\"_typename\":\"TPad\",\"fUniqueID\":0,\"fBits\":50331657,\"fLineColor\":1,\"fLineStyle\":1,\"fLineWidth\":1,\"fFillColor\":0,\"fFillStyle\":1001,\"fLeftMargin\":0.1,\"fRightMargin\":0.1,\"fBottomMargin\":0.1,\"fTopMargin\":0.1,\"fXfile\":2,\"fYfile\":2,\"fAfile\":1,\"fXstat\":0.99,\"fYstat\":0.99,\"fAstat\":2,\"fFrameFillColor\":0,\"fFrameLineColor\":1,\"fFrameFillStyle\":1001,\"fFrameLineStyle\":1,\"fFrameLineWidth\":1,\"fFrameBorderSize\":1,\"fFrameBorderMode\":0,\"fX1\":-0.0500000037252905,\"fY1\":-0.0500000037252905,\"fX2\":0.450000003725291,\"fY2\":0.450000003725291,\"fXtoAbsPixelk\":49.4347186864695,\"fXtoPixelk\":37.4747189537963,\"fXtoPixel\":749.493323234319,\"fYtoAbsPixelk\":307.184048223384,\"fYtoPixelk\":296.664048458524,\"fYtoPixel\":-659.253324450254,\"fUtoAbsPixelk\":11.9600497326732,\"fUtoPixelk\":5e-5,\"fUtoPixel\":374.74666720132,\"fVtoAbsPixelk\":340.146716901807,\"fVtoPixelk\":329.626667136947,\"fVtoPixel\":-329.626667136947,\"fAbsPixeltoXk\":-0.0659574503921423,\"fPixeltoXk\":-0.0500000037252905,\"fPixeltoX\":0.00133423470096392,\"fAbsPixeltoYk\":0.465957450392142,\"fPixeltoYk\":-0.0500000037252905,\"fPixeltoY\":-0.00151686758778788,\"fXlowNDC\":0.00999999977648258,\"fYlowNDC\":0.676666666443149,\"fXUpNDC\":0,\"fYUpNDC\":0,\"fWNDC\":0.313333333780368,\"fHNDC\":0.313333333780368,\"fAbsXlowNDC\":0.00999999977648258,\"fAbsYlowNDC\":0.676666666443149,\"fAbsWNDC\":0.313333333780368,\"fAbsHNDC\":0.313333333780368,\"fUxmin\":0,\"fUymin\":0,\"fUxmax\":0.4,\"fUymax\":0.4,\"fTheta\":30,\"fPhi\":30,\"fAspectRatio\":0,\"fNumber\":1,\"fTickx\":0,\"fTicky\":0,\"fLogx\":0,\"fLogy\":0,\"fLogz\":0,\"fPadPaint\":0,\"fCrosshair\":0,\"fCrosshairPos\":0,\"fBorderSize\":2,\"fBorderMode\":0,\"fModified\":false,\"fGridx\":false,\"fGridy\":false,\"fAbsCoord\":false,\"fEditable\":true,\"fFixedAspectRatio\":false,\"fPrimitives\":{\"_typename\":\"TList\",\"name\":\"TList\",\"arr\":[{\"_typename\":\"TFrame\",\"fUniqueID\":0,\"fBits\":50331656,\"fLineColor\":1,\"fLineStyle\":1,\"fLineWidth\":1,\"fFillColor\":0,\"fFillStyle\":1001,\"fX1\":0,\"fY1\":0,\"fX2\":0.4,\"fY2\":0.4,\"fBorderSize\":1,\"fBorderMode\":0},{\"_typename\":\"TH2D\",\"fUniqueID\":0,\"fBits\":50332168,\"fName\":\"response\",\"fTitle\":\"Response Matrix #tau_{1}^{(2)} binning 1\",\"fLineColor\":602,\"fLineStyle\":1,\"fLineWidth\":1,\"fFillColor\":0,\"fFillStyle\":1001,\"fMarkerColor\":1,\"fMarkerStyle\":1,\"fMarkerSize\":1,\"fNcells\":264,\"fXaxis\":{\"_typename\":\"TAxis\",\"fUniqueID\":0,\"fBits\":50331648,\"fName\":\"xaxis\",\"fTitle\":\"#tau_{1}^{(2)}(det_sig)\",\"fNdivisions\":510,\"fAxisColor\":1,\"fLabelColor\":1,\"fLabelFont\":42,\"fLabelOffset\":0.005,\"fLabelSize\":0.035,\"fTickLength\":0.03,\"fTitleOffset\":1,\"fTitleSize\":0.035,\"fTitleColor\":1,\"fTitleFont\":42,\"fNbins\":20,\"fXmin\":0,\"fXmax\":0.4,\"fXbins\":[0,0.01625,0.0325,0.04875,0.065,0.08125,0.0975,0.11375,0.13,0.14625,0.1625,0.17875,0.195,0.21125,0.2275,0.24375,0.26,0.295,0.33,0.365,0.4],\"fFirst\":0,\"fLast\":0,\"fBits2\":0,\"fTimeDisplay\":false,\"fTimeFormat\":\"\",\"fLabels\":null,\"fModLabs\":null},\"fYaxis\":{\"_typename\":\"TAxis\",\"fUniqueID\":0,\"fBits\":50331648,\"fName\":\"yaxis\",\"fTitle\":\"#tau_{1}^{(2)}(gen_sig)\",\"fNdivisions\":510,\"fAxisColor\":1,\"fLabelColor\":1,\"fLabelFont\":42,\"fLabelOffset\":0.005,\"fLabelSize\":0.035,\"fTickLength\":0.03,\"fTitleOffset\":0,\"fTitleSize\":0.035,\"fTitleColor\":1,\"fTitleFont\":42,\"fNbins\":10,\"fXmin\":0,\"fXmax\":0.4,\"fXbins\":[0,0.0325,0.065,0.0975,0.13,0.1625,0.195,0.2275,0.26,0.33,0.4],\"fFirst\":0,\"fLast\":0,\"fBits2\":0,\"fTimeDisplay\":false,\"fTimeFormat\":\"\",\"fLabels\":null,\"fModLabs\":null},\"fZaxis\":{\"_typename\":\"TAxis\",\"fUniqueID\":0,\"fBits\":50331648,\"fName\":\"zaxis\",\"fTitle\":\"\",\"fNdivisions\":510,\"fAxisColor\":1,\"fLabelColor\":1,\"fLabelFont\":42,\"fLabelOffset\":0.005,\"fLabelSize\":0.035,\"fTickLength\":0.03,\"fTitleOffset\":1,\"fTitleSize\":0.035,\"fTitleColor\":1,\"fTitleFont\":42,\"fNbins\":1,\"fXmin\":0,\"fXmax\":1,\"fXbins\":[],\"fFirst\":0,\"fLast\":0,\"fBits2\":0,\"fTimeDisplay\":false,\"fTimeFormat\":\"\",\"fLabels\":null,\"fModLabs\":null},\"fBarOffset\":0,\"fBarWidth\":1000,\"fEntries\":43107,\"fTsumw\":13901.1376293109,\"fTsumw2\":4887.05421222413,\"fTsumwx\":1913.6301788747,\"fTsumwx2\":303.310865733678,\"fMaximum\":-1111,\"fMinimum\":-1111,\"fNormFactor\":0,\"fContour\":[0,55.1360680911169,110.272136182234,165.408204273351,220.544272364468,275.680340455585,330.816408546702,385.952476637819,441.088544728936,496.224612820052,551.360680911169,606.496749002286,661.632817093403,716.76888518452,771.904953275637,827.041021366754,882.177089457871,937.313157548988,992.449225640105,1047.58529373122],\"fSumw2\":[0,0,0,0,0,0,0,0,0,0,0,0,0,0,0,0,0,0,0,0,0,0,0,2.79662822621059,37.1242343830895,18.7766796203694,0.466348665695314,0,0.651538372070586,0.300030796216694,1.38542529279978,1.9247524099011,0.8536569185744,1.40544691159428,2.08287028046653,0.736801294692357,1.01499209149704,1.37848882922722,1.44173336408196,1.06986474976485,0.192284948971075,0,0,0,0,0,4.73984664999015,110.222566594622,190.441221667925,79.6844732806298,6.27899105545451,2.02039498471559,2.60093732935825,1.52662144325037,2.16198416314694,3.00063169925387,2.03106206670036,1.68448350732049,1.59688533428064,1.29627964787251,0.556464153035673,0.838867116214917,0.178736181986497,0,0,0,0,0,0,0.234889966913702,35.9567800223649,252.939778885634,350.75541171625,151.860182355083,22.6252672016532,5.0851648631904,2.55480853625241,1.23234489844858,1.46600031809176,0.741529084832549,0.721435926878624,0.472720451534941,1.00049429112235,0.320649734650005,0,0.16480885951192,0,0,0,0,0,0.106452453367393,0.972778627560568,9.73429271459401,89.2285358482012,346.246405220792,389.275972494919,166.452901530286,30.0288606808664,5.64020513532055,2.8165252650869,1.88736027629728,1.2538523784056,0.2235218437203,0.225780037342788,0.363679770615406,0,0,0,0,0,0,0,0.126377952883809,0.144226872854398,1.20624778927299,5.95243786753798,30.922727369962,129.01989595391,328.739483588186,337.325892927609,135.969093136337,30.7117368637115,6.07229739122584,1.5140621465912,0.329407583647822,0.678728776365784,0.439424989923553,0,0,0,0,0,0,0,0.00933682471566692,0.186285569291962,0.341036263074897,1.87762731264792,3.08519463612476,11.4018196892573,33.7407858494953,112.05273143823,240.920151232919,216.771141492318,94.9306201276271,19.3712973366232,2.70516815588701,0.800076280105686,0.902212319121854,0,0,0,0,0,0,0,0,0.112552771201299,0.23888626801959,0.710393801801277,1.88168246650535,2.44390180815305,5.72731726511651,12.8915631303243,26.577828568784,80.1479011193312,151.308950742347,133.112051472575,44.8204179508872,9.1208546443208,2.72138676978935,0.115930749583844,0,0,0,0,0,0,0,0,0,0.583072018709902,1.26162152112868,1.52773035110246,3.10163120826492,1.92766434718044,3.6469963563713,7.93638518516984,14.2783877701178,45.4821116689198,78.2416438055232,49.7157641997583,17.5662967499091,0.697773862023701,0.16812416670036,0,0,0,0,0,0,0,0,0.247512916401791,0.837269327437125,1.21642056323861,3.18901380557206,3.02410203180208,2.79282290665351,3.79542316293863,3.52447659318425,4.10866445100933,5.47042055268939,13.5684144421909,29.9424312722111,6.13593923541884,0.540170113537258,0,0,0,0,0,0,0,0,0,0,0,0.348419462772343,0.143323900765873,0.280308604637537,0.374576268406016,0.60204938793056,0.92093906709913,0.51025886702761,0.709245944992495,0.295670020685462,0.689780294743112,0.312468268428937,0.108126864493684,0,0,0,0,0,0,0,0,0,0,0,0,0,0,0,0,0,0,0,0,0,0,0],\"fOption\":\"\",\"fFunctions\":{\"_typename\":\"TList\",\"name\":\"TList\",\"arr\":[{\"_typename\":\"TPaletteAxis\",\"fUniqueID\":0,\"fBits\":50331648,\"fLineColor\":1,\"fLineStyle\":1,\"fLineWidth\":1,\"fFillColor\":1178,\"fFillStyle\":1001,\"fX1\":0.402500000037253,\"fY1\":0,\"fX2\":0.425000000372529,\"fY2\":0.4,\"fX1NDC\":0.904999994039535,\"fY1NDC\":0.100000005960465,\"fX2NDC\":0.949999994039535,\"fY2NDC\":0.899999994039535,\"fBorderSize\":4,\"fInit\":1,\"fShadowColor\":1,\"fCornerRadius\":0,\"fOption\":\"br\",\"fName\":\"TPave\",\"fAxis\":{\"_typename\":\"TGaxis\",\"fUniqueID\":0,\"fBits\":50331648,\"fLineColor\":1,\"fLineStyle\":1,\"fLineWidth\":1,\"fX1\":0,\"fY1\":0,\"fX2\":0,\"fY2\":0,\"fTextAngle\":0,\"fTextSize\":0.04,\"fTextAlign\":11,\"fTextColor\":1,\"fTextFont\":42,\"fWmin\":0,\"fWmax\":0,\"fGridLength\":0,\"fTickSize\":0.03,\"fLabelOffset\":0.005,\"fLabelSize\":0.035,\"fTitleOffset\":1,\"fTitleSize\":0.035,\"fNdiv\":0,\"fLabelColor\":1,\"fLabelFont\":42,\"fNModLabs\":0,\"fChopt\":\"\",\"fName\":\"\",\"fTitle\":\"\",\"fTimeFormat\":\"\",\"fFunctionName\":\"\",\"fModLabs\":null},\"fName\":\"palette\"}],\"opt\":[\"br\"]},\"fBufferSize\":0,\"fBuffer\":[],\"fBinStatErrOpt\":0,\"fStatOverflows\":2,\"fScalefactor\":1,\"fTsumwy\":1894.9487792467,\"fTsumwy2\":302.409349465379,\"fTsumwxy\":298.948633703811,\"fArray\":[0,0,0,0,0,0,0,0,0,0,0,0,0,0,0,0,0,0,0,0,0,0,0,7.3110360722791,103.820399180458,53.0692345455062,1.38377128026383,0,1.96010451255151,1.09356464134216,3.46472268656913,5.36045604938523,2.24829858426096,4.15950605740446,5.41081709662437,2.11555683684763,3.17730893824177,3.86924240970341,3.78662224530696,2.94195869263795,0.438503077493277,0,0,0,0,0,13.3683802214599,311.012994878873,543.133038535339,231.126724551438,17.6248332447781,5.85641824224323,7.56834667025881,4.22988098074933,5.89408618762583,8.44601786195999,5.72254627979977,5.27520654057713,4.68975347809255,3.56010601413706,1.48838944173015,2.40174558964342,0.575900869047114,0,0,0,0,0,0,0.791398404798532,101.278262579657,717.671442361665,1001.70263951786,433.077902567734,65.5399361372044,14.4232580444615,7.8423184999334,3.54069923637997,4.58696242373154,2.27223232518498,2.19806917890165,1.52490791276253,2.98847569289136,0.978157343819689,0,0.405966574377645,0,0,0,0,0,0.326270521756705,2.78572645119781,28.1001278431701,253.973569469696,977.641902802155,1102.72136182234,470.586267840848,87.8049609844007,16.9273855401992,7.59188842586259,5.37944946405534,3.53343703913586,0.665200475096043,0.671913011344941,0.852789875217564,0,0,0,0,0,0,0,0.355496769160859,0.379772132803867,3.38736524141078,15.4999388756259,88.3037483036391,365.718722078398,932.401567021521,959.089886175215,386.491092928506,86.3692362352781,17.318513854667,4.1748350533479,0.99249323330774,1.78764346930493,1.32523751836543,0,0,0,0,0,0,0,0.0966272462386615,0.431608120048688,1.14470588643689,5.46457533905695,9.09817230872604,32.579160202047,98.3351698860084,319.075104185228,686.792503206954,623.409957625477,271.550775046972,55.2370207221722,7.93298295226124,2.34401155816189,2.46802699310519,0,0,0,0,0,0,0,0,0.335488854064183,0.691833599485397,1.87942598644304,5.4340796615008,7.09502912511019,16.1409760141424,37.2371998914464,77.2233916043338,227.694951404858,425.31124318858,377.478502823122,129.823763107396,26.9109245353344,7.74168165359644,0.340486049029683,0,0,0,0,0,0,0,0,0,1.70436155294859,3.462486910461,4.57253435016097,8.33619980242744,6.20818707269778,9.62780736402674,22.0168907561077,42.0889008522606,128.202286446827,222.863630751846,139.810847754681,50.957152458667,1.68578243274659,0.410029470526644,0,0,0,0,0,0,0,0,0.702697318714917,2.36703405331552,3.28696955706128,9.3800966981152,8.74825241993451,8.43527776398971,10.889236470439,10.2625949750546,11.4147348196595,15.7100335853056,38.7552099488485,86.4059018703105,17.0719441703889,1.72051135303729,0,0,0,0,0,0,0,0,0,0,0,1.00911615825277,0.434078860495949,0.748297915357989,1.0571981209383,1.72977344067507,2.40594797859963,1.42585500431921,1.86838891222336,0.914594502420968,2.01788149655786,1.2347969139361,0.328826496033522,0,0,0,0,0,0,0,0,0,0,0,0,0,0,0,0,0,0,0,0,0,0,0]},{\"_typename\":\"TPaveText\",\"fUniqueID\":0,\"fBits\":50331657,\"fLineColor\":1,\"fLineStyle\":1,\"fLineWidth\":1,\"fFillColor\":0,\"fFillStyle\":0,\"fX1\":0.0328904837583774,\"fY1\":0.405634460649278,\"fX2\":0.367109516241623,\"fY2\":0.447500006072223,\"fX1NDC\":0.165780972497007,\"fY1NDC\":0.911268915170171,\"fX2NDC\":0.834219027502993,\"fY2NDC\":0.995000004768372,\"fBorderSize\":0,\"fInit\":1,\"fShadowColor\":1,\"fCornerRadius\":0,\"fOption\":\"blNDC\",\"fName\":\"title\",\"fTextAngle\":0,\"fTextSize\":0,\"fTextAlign\":22,\"fTextColor\":1,\"fTextFont\":42,\"fLabel\":\"\",\"fLongest\":40,\"fMargin\":0.05,\"fLines\":{\"_typename\":\"TList\",\"name\":\"TList\",\"arr\":[{\"_typename\":\"TLatex\",\"fUniqueID\":0,\"fBits\":50331648,\"fName\":\"\",\"fTitle\":\"Response Matrix #tau_{1}^{(2)} binning 1\",\"fTextAngle\":0,\"fTextSize\":0,\"fTextAlign\":0,\"fTextColor\":0,\"fTextFont\":0,\"fX\":0,\"fY\":0,\"fLineColor\":1,\"fLineStyle\":1,\"fLineWidth\":2,\"fLimitFactorSize\":3,\"fOriginSize\":0.0563636943697929}],\"opt\":[\"\"]}}],\"opt\":[\"\",\"colz\",\"blNDC\"]},\"fExecs\":{\"_typename\":\"TList\",\"name\":\"TList\",\"arr\":[],\"opt\":[]},\"fName\":\"c6_1\",\"fTitle\":\"c6_1\",\"fNumPaletteColor\":0,\"fNextPaletteColor\":0},{\"_typename\":\"TPad\",\"fUniqueID\":0,\"fBits\":50331657,\"fLineColor\":1,\"fLineStyle\":1,\"fLineWidth\":1,\"fFillColor\":0,\"fFillStyle\":1001,\"fLeftMargin\":0.1,\"fRightMargin\":0.1,\"fBottomMargin\":0.1,\"fTopMargin\":0.1,\"fXfile\":2,\"fYfile\":2,\"fAfile\":1,\"fXstat\":0.99,\"fYstat\":0.99,\"fAstat\":2,\"fFrameFillColor\":0,\"fFrameLineColor\":1,\"fFrameFillStyle\":1001,\"fFrameLineStyle\":1,\"fFrameLineWidth\":1,\"fFrameBorderSize\":1,\"fFrameBorderMode\":0,\"fX1\":-0.0500000037252905,\"fY1\":-0.0500000037252905,\"fX2\":0.450000003725291,\"fY2\":0.450000003725291,\"fXtoAbsPixelk\":448.101385353136,\"fXtoPixelk\":37.4747189537963,\"fXtoPixel\":749.493323234319,\"fYtoAbsPixelk\":307.184048223384,\"fYtoPixelk\":296.664048458524,\"fYtoPixel\":-659.253324450254,\"fUtoAbsPixelk\":410.62671639934,\"fUtoPixelk\":5e-5,\"fUtoPixel\":374.74666720132,\"fVtoAbsPixelk\":340.146716901807,\"fVtoPixelk\":329.626667136947,\"fVtoPixel\":-329.626667136947,\"fAbsPixeltoXk\":-0.597872351176427,\"fPixeltoXk\":-0.0500000037252905,\"fPixeltoX\":0.00133423470096392,\"fAbsPixeltoYk\":0.465957450392142,\"fPixeltoYk\":-0.0500000037252905,\"fPixeltoY\":-0.00151686758778788,\"fXlowNDC\":0.343333333109816,\"fYlowNDC\":0.676666666443149,\"fXUpNDC\":0,\"fYUpNDC\":0,\"fWNDC\":0.313333333780368,\"fHNDC\":0.313333333780368,\"fAbsXlowNDC\":0.343333333109816,\"fAbsYlowNDC\":0.676666666443149,\"fAbsWNDC\":0.313333333780368,\"fAbsHNDC\":0.313333333780368,\"fUxmin\":0,\"fUymin\":0,\"fUxmax\":0.4,\"fUymax\":0.4,\"fTheta\":30,\"fPhi\":30,\"fAspectRatio\":0,\"fNumber\":2,\"fTickx\":0,\"fTicky\":0,\"fLogx\":0,\"fLogy\":0,\"fLogz\":0,\"fPadPaint\":0,\"fCrosshair\":0,\"fCrosshairPos\":0,\"fBorderSize\":2,\"fBorderMode\":0,\"fModified\":false,\"fGridx\":false,\"fGridy\":false,\"fAbsCoord\":false,\"fEditable\":true,\"fFixedAspectRatio\":false,\"fPrimitives\":{\"_typename\":\"TList\",\"name\":\"TList\",\"arr\":[{\"_typename\":\"TFrame\",\"fUniqueID\":0,\"fBits\":50331656,\"fLineColor\":1,\"fLineStyle\":1,\"fLineWidth\":1,\"fFillColor\":0,\"fFillStyle\":1001,\"fX1\":0,\"fY1\":0,\"fX2\":0.4,\"fY2\":0.4,\"fBorderSize\":1,\"fBorderMode\":0},{\"_typename\":\"TH2D\",\"fUniqueID\":0,\"fBits\":50332168,\"fName\":\"response\",\"fTitle\":\"Response Matrix #tau_{1}^{(2)} binning 2\",\"fLineColor\":602,\"fLineStyle\":1,\"fLineWidth\":1,\"fFillColor\":0,\"fFillStyle\":1001,\"fMarkerColor\":1,\"fMarkerStyle\":1,\"fMarkerSize\":1,\"fNcells\":364,\"fXaxis\":{\"_typename\":\"TAxis\",\"fUniqueID\":0,\"fBits\":50331648,\"fName\":\"xaxis\",\"fTitle\":\"#tau_{1}^{(2)}(det_sig)\",\"fNdivisions\":510,\"fAxisColor\":1,\"fLabelColor\":1,\"fLabelFont\":42,\"fLabelOffset\":0.005,\"fLabelSize\":0.035,\"fTickLength\":0.03,\"fTitleOffset\":1,\"fTitleSize\":0.035,\"fTitleColor\":1,\"fTitleFont\":42,\"fNbins\":24,\"fXmin\":0,\"fXmax\":0.4,\"fXbins\":[0,0.013,0.026,0.039,0.052,0.065,0.078,0.091,0.104,0.117,0.13,0.143,0.156,0.169,0.182,0.195,0.208,0.221,0.234,0.247,0.26,0.295,0.33,0.365,0.4],\"fFirst\":0,\"fLast\":0,\"fBits2\":0,\"fTimeDisplay\":false,\"fTimeFormat\":\"\",\"fLabels\":null,\"fModLabs\":null},\"fYaxis\":{\"_typename\":\"TAxis\",\"fUniqueID\":0,\"fBits\":50331648,\"fName\":\"yaxis\",\"fTitle\":\"#tau_{1}^{(2)}(gen_sig)\",\"fNdivisions\":510,\"fAxisColor\":1,\"fLabelColor\":1,\"fLabelFont\":42,\"fLabelOffset\":0.005,\"fLabelSize\":0.035,\"fTickLength\":0.03,\"fTitleOffset\":0,\"fTitleSize\":0.035,\"fTitleColor\":1,\"fTitleFont\":42,\"fNbins\":12,\"fXmin\":0,\"fXmax\":0.4,\"fXbins\":[0,0.026,0.052,0.078,0.104,0.13,0.156,0.182,0.208,0.234,0.26,0.33,0.4],\"fFirst\":0,\"fLast\":0,\"fBits2\":0,\"fTimeDisplay\":false,\"fTimeFormat\":\"\",\"fLabels\":null,\"fModLabs\":null},\"fZaxis\":{\"_typename\":\"TAxis\",\"fUniqueID\":0,\"fBits\":50331648,\"fName\":\"zaxis\",\"fTitle\":\"\",\"fNdivisions\":510,\"fAxisColor\":1,\"fLabelColor\":1,\"fLabelFont\":42,\"fLabelOffset\":0.005,\"fLabelSize\":0.035,\"fTickLength\":0.03,\"fTitleOffset\":1,\"fTitleSize\":0.035,\"fTitleColor\":1,\"fTitleFont\":42,\"fNbins\":1,\"fXmin\":0,\"fXmax\":1,\"fXbins\":[],\"fFirst\":0,\"fLast\":0,\"fBits2\":0,\"fTimeDisplay\":false,\"fTimeFormat\":\"\",\"fLabels\":null,\"fModLabs\":null},\"fBarOffset\":0,\"fBarWidth\":1000,\"fEntries\":43107,\"fTsumw\":13901.1376293109,\"fTsumw2\":4887.05421222413,\"fTsumwx\":1913.6301788747,\"fTsumwx2\":303.310865733678,\"fMaximum\":-1111,\"fMinimum\":-1111,\"fNormFactor\":0,\"fContour\":[0,39.6603936843986,79.3207873687972,118.981181053196,158.641574737594,198.301968421993,237.962362106392,277.62275579079,317.283149475189,356.943543159588,396.603936843986,436.264330528385,475.924724212783,515.585117897182,555.245511581581,594.905905265979,634.566298950378,674.226692634776,713.887086319175,753.547480003574],\"fSumw2\":[0,0,0,0,0,0,0,0,0,0,0,0,0,0,0,0,0,0,0,0,0,0,0,0,0,0,0,0.955183983932173,12.8368138476308,13.4400525981101,0.668281728715255,5.965571625603e-4,0,0,0.474545777368545,0.160100785338359,0.907443929136487,0.947582153180214,0.694513061354088,0.340518756395615,0.947811523197833,0.993019895911518,0.393769441476623,0.229254928328565,1.01845277535929,0.758236000105376,0.811828498202871,1.06986474976485,0.192284948971075,0,0,0,0,0,3.04884552220357,52.9009338463224,106.759378424518,50.5996033126144,6.19967660199819,1.22697507279617,0.326014629377072,1.22834976155652,1.50568413172045,1.30737805568906,1.39261350062087,1.34156895462441,1.41505180154903,1.6916515141963,1.05088126656723,1.06259759477442,0.699410621543238,0.974395884141217,1.18636901891476,0.115930749583844,0.0431069443598478,0,0,0,0,0,0,0.266522180352007,20.0992461534596,134.491957282849,210.260945662444,97.8679171027339,20.4652333899908,3.94065120326999,2.96941237309387,0.691473687499998,1.84117012065991,1.27778639477072,1.22140465186461,1.12530476279314,0.810744295425741,0.965147563101946,0.223602864176502,0.498234613004741,0.332600758389457,0.811004849707085,0.135629237626649,0,0,0,0,0,0,0,0.106465846212647,4.8233762403316,48.0628889007987,215.022726940884,278.611452626879,147.10589257282,33.3756037011916,7.90738792340347,2.39137459285972,1.74959880418282,1.06700779008346,0.806592038853479,0.352684798892682,0.238808863105547,0.733965020547209,0.113194784326458,0.438686871942582,0.418872217189927,0,0.16480885951192,0,0,0,0,0,0,0.341743202841247,0.499426150853307,2.43166516171314,18.6525040023291,87.699435999335,247.046765448588,280.045751773012,146.966491428043,39.2307316899364,8.62503221726955,2.20953458500097,2.08123721649106,1.32944232738442,1.32340962388746,0.372003220075633,0.0893208411255556,0.225780037342788,0.177388804999473,0,0,0,0,0,0,0,0,0.126377952883809,0,0.831383460576915,3.10759478221549,10.0883814576482,33.8624379864505,109.339959826702,232.952080917292,257.731262196749,123.868193684748,37.5398006447352,10.357078799867,2.99378575866347,1.31088738881565,0.206458443800228,0.442376733098173,0.270641941164103,0.207165959432611,0,0,0,0,0,0,0,0,0.00933682471566692,0.144226872854398,0,0.793785264287162,2.38415097290052,4.3197461076871,14.453504839034,37.5576339213468,97.7341810369259,186.839425661879,175.273915404874,95.5352292962834,27.0368579563658,6.20019465965862,1.57920594904768,0.206603461968108,0.531221147101932,0.417809539870304,0,0,0,0,0,0,0,0,0,0.186285569291962,0.287574886367669,0.683540794027023,0.939760987960678,1.68609127823548,3.85824958204441,6.0868734029207,14.3176357798394,35.743600822233,70.7395985818663,139.597770893589,133.885408048867,61.9979270362791,20.18953710882,3.7037467077784,1.19947397871439,1.78285175278256,0,0,0,0,0,0,0,0,0,0.112552771201299,0,0.132099510514416,0.907538206050016,1.11117454023892,1.26385415647013,2.59116219955549,3.46606507046442,5.53527181506961,12.1476145217345,21.255286088748,52.2858424087121,90.4762163807609,70.2195054594664,37.1762809108546,10.0056569165298,2.37251074203483,0.262310858365234,0.16812416670036,0,0,0,0,0,0,0,0,0,0.206878850226784,0.393144878321296,0.693532029726343,1.10989071952277,1.41507417847845,1.54591446984164,2.07441024970188,2.10155423011006,4.18166984049448,5.19117357141425,16.1418470781772,33.601029451582,43.866755006832,31.7632065480506,16.8489828346235,0.551393753242311,0,0,0,0,0,0,0,0,0,0,0,0.419431870032922,0.665350373805994,1.21642056323861,1.95845707165091,2.82565746015324,2.49749892804397,2.5154487259111,3.00429972120707,2.79603076723297,3.84250578474646,2.49561750340369,6.29893174030228,11.2388902433885,29.9424312722111,6.13593923541884,0.540170113537258,0,0,0,0,0,0,0,0,0,0,0,0,0,0.348419462772343,0.140928043852042,0.132884079412459,0.14982038213891,0.374576268406016,0.60204938793056,0.578351454843244,0.460022942250569,0.392823537032926,0.709245944992495,0.295670020685462,0.689780294743112,0.312468268428937,0.108126864493684,0,0,0,0,0,0,0,0,0,0,0,0,0,0,0,0,0,0,0,0,0,0,0,0,0,0,0],\"fOption\":\"\",\"fFunctions\":{\"_typename\":\"TList\",\"name\":\"TList\",\"arr\":[{\"_typename\":\"TPaletteAxis\",\"fUniqueID\":0,\"fBits\":50331648,\"fLineColor\":1,\"fLineStyle\":1,\"fLineWidth\":1,\"fFillColor\":1178,\"fFillStyle\":1001,\"fX1\":0.402500000037253,\"fY1\":0,\"fX2\":0.425000000372529,\"fY2\":0.4,\"fX1NDC\":0.904999994039535,\"fY1NDC\":0.100000005960465,\"fX2NDC\":0.949999994039535,\"fY2NDC\":0.899999994039535,\"fBorderSize\":4,\"fInit\":1,\"fShadowColor\":1,\"fCornerRadius\":0,\"fOption\":\"br\",\"fName\":\"TPave\",\"fAxis\":{\"_typename\":\"TGaxis\",\"fUniqueID\":0,\"fBits\":50331648,\"fLineColor\":1,\"fLineStyle\":1,\"fLineWidth\":1,\"fX1\":0,\"fY1\":0,\"fX2\":0,\"fY2\":0,\"fTextAngle\":0,\"fTextSize\":0.04,\"fTextAlign\":11,\"fTextColor\":1,\"fTextFont\":42,\"fWmin\":0,\"fWmax\":0,\"fGridLength\":0,\"fTickSize\":0.03,\"fLabelOffset\":0.005,\"fLabelSize\":0.035,\"fTitleOffset\":1,\"fTitleSize\":0.035,\"fNdiv\":0,\"fLabelColor\":1,\"fLabelFont\":42,\"fNModLabs\":0,\"fChopt\":\"\",\"fName\":\"\",\"fTitle\":\"\",\"fTimeFormat\":\"\",\"fFunctionName\":\"\",\"fModLabs\":null},\"fName\":\"palette\"}],\"opt\":[\"br\"]},\"fBufferSize\":0,\"fBuffer\":[],\"fBinStatErrOpt\":0,\"fStatOverflows\":2,\"fScalefactor\":1,\"fTsumwy\":1894.9487792467,\"fTsumwy2\":302.409349465379,\"fTsumwxy\":298.948633703811,\"fArray\":[0,0,0,0,0,0,0,0,0,0,0,0,0,0,0,0,0,0,0,0,0,0,0,0,0,0,0,2.33532718945346,37.3181840951341,37.022255506741,1.82542480378153,0.024424519699685,0,0,1.52110780395518,0.564854600870689,2.29730884064145,2.75638223062168,2.03195166441623,0.996659126941701,2.825311228075,2.76789938408769,1.06473209970433,0.729210740257953,2.99717812251227,2.1216195855818,2.26486610535161,2.94195869263795,0.438503077493277,0,0,0,0,0,7.8788742975982,147.712923093538,303.851577713037,142.768173230529,18.4688893574927,3.50710600415419,1.11951526061779,3.28653256099455,4.63135113362362,3.59459097823075,3.50970640691019,3.9979548581973,3.99919646077176,4.14282363803923,3.34758950424331,3.21566053066018,2.04452406286605,2.58181648432076,3.0101455816855,0.340486049029683,0.207622119148822,0,0,0,0,0,0,0.724251444450018,56.7859043161924,383.588451544372,598.495434613041,282.739409617312,58.9534723990456,11.7393054101248,8.364207816571,1.97752645145618,5.01975355065752,3.92043256320846,3.56068800776608,3.26034285517188,2.69169831757523,2.76160957822784,0.672426252317183,1.40933501071255,0.997947792463398,2.35802288585032,0.368278749898292,0,0,0,0,0,0,0,0.329930145405915,13.6918642452982,136.892232511869,613.281722589521,787.178144162761,418.625323190388,94.4226867330493,22.9424920063999,6.89223439145692,5.15808077178607,3.31106349852036,2.47543541596401,1.03591963429633,0.688729516794325,2.36484054295321,0.340181368736101,1.31347867023993,1.1130083700027,0,0.405966574377645,0,0,0,0,0,0,1.01218017610839,1.41076635025066,7.46301747134402,53.2284519622847,247.275530063106,701.860119280255,793.207873687972,414.737665424895,113.337420332377,25.4314246096844,6.62624906374058,5.50206517425118,3.88200454081804,3.63775921106144,1.05181881428599,0.29886592499908,0.671913011344941,0.421175503797968,0,0,0,0,0,0,0,0,0.355496769160859,0,2.32815003174384,7.16699915046401,28.8227199014332,97.0223521732585,310.619417889261,660.208742387034,734.523193301159,352.342165463383,105.306765348372,28.7356689672156,8.76200131108715,3.68313107604365,0.641364253983754,1.13044202731752,0.885903846978147,0.643681899958628,0,0,0,0,0,0,0,0,0.0966272462386615,0.379772132803867,0,2.36359273443577,7.05795006607465,11.4054870989195,40.3819316943319,106.64100095267,276.919818593188,532.563853303226,504.698052027511,275.569144804365,77.5659335424621,17.2859943559913,4.49687118988196,0.642724761919168,1.43699516022025,1.28899086823109,0,0,0,0,0,0,0,0,0,0.431608120048688,0.913488722914746,1.84046539878267,2.87423203962282,4.74994784547247,11.7693011698421,18.2576358466926,41.2397936008682,101.020852100858,202.767796316045,396.350566999181,379.633059887312,174.338116694297,58.4140412970788,11.4473756396157,3.45499755587141,4.75003811260206,0,0,0,0,0,0,0,0,0,0.335488854064183,0,0.363454963529756,2.66111328578947,3.14725618698463,3.39747776591853,6.62664352954753,10.1821567768204,16.284875764893,33.5196392142542,60.5787233711462,147.325663299648,255.958089743325,200.352516431449,107.75359454819,28.9578164612978,6.885243041863,0.723082584274568,0.410029470526644,0,0,0,0,0,0,0,0,0,0.642438888339646,1.08575803179262,1.9603795070201,3.46222487551803,4.12256379191209,4.19351771834366,6.32560812201325,5.97098652556672,11.5003563479639,15.4671342463213,44.9457751147743,94.6115522514394,125.132356905178,89.504923748561,48.9241447010792,1.3031858975017,0,0,0,0,0,0,0,0,0,0,0,1.28668639582692,1.78304497620352,3.28696955706128,5.8932449640518,8.1545219127335,7.44986673487397,7.25072300606827,8.7045067347509,8.19852157032746,10.608866930873,7.0926395157453,18.6802080392778,31.5623372726446,86.4059018703105,17.0719441703889,1.72051135303729,0,0,0,0,0,0,0,0,0,0,0,0,0,1.00911615825277,0.385131369101281,0.410179027253081,0.387066379499576,1.0571981209383,1.72977344067507,1.39510568024024,1.35353068449858,1.08316661818002,1.86838891222336,0.914594502420968,2.01788149655786,1.2347969139361,0.328826496033522,0,0,0,0,0,0,0,0,0,0,0,0,0,0,0,0,0,0,0,0,0,0,0,0,0,0,0]},{\"_typename\":\"TPaveText\",\"fUniqueID\":0,\"fBits\":50331657,\"fLineColor\":1,\"fLineStyle\":1,\"fLineWidth\":1,\"fFillColor\":0,\"fFillStyle\":0,\"fX1\":0.0315562490574134,\"fY1\":0.405634460649278,\"fX2\":0.368443750942587,\"fY2\":0.447500006072223,\"fX1NDC\":0.163112503134842,\"fY1NDC\":0.911268915170171,\"fX2NDC\":0.836887496865158,\"fY2NDC\":0.995000004768372,\"fBorderSize\":0,\"fInit\":1,\"fShadowColor\":1,\"fCornerRadius\":0,\"fOption\":\"blNDC\",\"fName\":\"title\",\"fTextAngle\":0,\"fTextSize\":0,\"fTextAlign\":22,\"fTextColor\":1,\"fTextFont\":42,\"fLabel\":\"\",\"fLongest\":40,\"fMargin\":0.05,\"fLines\":{\"_typename\":\"TList\",\"name\":\"TList\",\"arr\":[{\"_typename\":\"TLatex\",\"fUniqueID\":0,\"fBits\":50331648,\"fName\":\"\",\"fTitle\":\"Response Matrix #tau_{1}^{(2)} binning 2\",\"fTextAngle\":0,\"fTextSize\":0,\"fTextAlign\":0,\"fTextColor\":0,\"fTextFont\":0,\"fX\":0,\"fY\":0,\"fLineColor\":1,\"fLineStyle\":1,\"fLineWidth\":2,\"fLimitFactorSize\":3,\"fOriginSize\":0.0560433566570282}],\"opt\":[\"\"]}}],\"opt\":[\"\",\"colz\",\"blNDC\"]},\"fExecs\":{\"_typename\":\"TList\",\"name\":\"TList\",\"arr\":[],\"opt\":[]},\"fName\":\"c6_2\",\"fTitle\":\"c6_2\",\"fNumPaletteColor\":0,\"fNextPaletteColor\":0},{\"_typename\":\"TPad\",\"fUniqueID\":0,\"fBits\":50331657,\"fLineColor\":1,\"fLineStyle\":1,\"fLineWidth\":1,\"fFillColor\":0,\"fFillStyle\":1001,\"fLeftMargin\":0.1,\"fRightMargin\":0.1,\"fBottomMargin\":0.1,\"fTopMargin\":0.1,\"fXfile\":2,\"fYfile\":2,\"fAfile\":1,\"fXstat\":0.99,\"fYstat\":0.99,\"fAstat\":2,\"fFrameFillColor\":0,\"fFrameLineColor\":1,\"fFrameFillStyle\":1001,\"fFrameLineStyle\":1,\"fFrameLineWidth\":1,\"fFrameBorderSize\":1,\"fFrameBorderMode\":0,\"fX1\":-0.0500000037252905,\"fY1\":-0.0500000037252905,\"fX2\":0.450000003725291,\"fY2\":0.450000003725291,\"fXtoAbsPixelk\":846.768052019803,\"fXtoPixelk\":37.4747189537963,\"fXtoPixel\":749.493323234319,\"fYtoAbsPixelk\":307.184048223384,\"fYtoPixelk\":296.664048458524,\"fYtoPixel\":-659.253324450254,\"fUtoAbsPixelk\":809.293383066006,\"fUtoPixelk\":5e-5,\"fUtoPixel\":374.74666720132,\"fVtoAbsPixelk\":340.146716901807,\"fVtoPixelk\":329.626667136947,\"fVtoPixel\":-329.626667136947,\"fAbsPixeltoXk\":-1.12978725196071,\"fPixeltoXk\":-0.0500000037252905,\"fPixeltoX\":0.00133423470096392,\"fAbsPixeltoYk\":0.465957450392142,\"fPixeltoYk\":-0.0500000037252905,\"fPixeltoY\":-0.00151686758778788,\"fXlowNDC\":0.676666666443149,\"fYlowNDC\":0.676666666443149,\"fXUpNDC\":0,\"fYUpNDC\":0,\"fWNDC\":0.313333333780368,\"fHNDC\":0.313333333780368,\"fAbsXlowNDC\":0.676666666443149,\"fAbsYlowNDC\":0.676666666443149,\"fAbsWNDC\":0.313333333780368,\"fAbsHNDC\":0.313333333780368,\"fUxmin\":0,\"fUymin\":0,\"fUxmax\":0.4,\"fUymax\":0.4,\"fTheta\":30,\"fPhi\":30,\"fAspectRatio\":0,\"fNumber\":3,\"fTickx\":0,\"fTicky\":0,\"fLogx\":0,\"fLogy\":0,\"fLogz\":0,\"fPadPaint\":0,\"fCrosshair\":0,\"fCrosshairPos\":0,\"fBorderSize\":2,\"fBorderMode\":0,\"fModified\":false,\"fGridx\":false,\"fGridy\":false,\"fAbsCoord\":false,\"fEditable\":true,\"fFixedAspectRatio\":false,\"fPrimitives\":{\"_typename\":\"TList\",\"name\":\"TList\",\"arr\":[{\"_typename\":\"TFrame\",\"fUniqueID\":0,\"fBits\":50331656,\"fLineColor\":1,\"fLineStyle\":1,\"fLineWidth\":1,\"fFillColor\":0,\"fFillStyle\":1001,\"fX1\":0,\"fY1\":0,\"fX2\":0.4,\"fY2\":0.4,\"fBorderSize\":1,\"fBorderMode\":0},{\"_typename\":\"TH2D\",\"fUniqueID\":0,\"fBits\":50332168,\"fName\":\"response\",\"fTitle\":\"Response Matrix #tau_{1}^{(2)} binning 3\",\"fLineColor\":602,\"fLineStyle\":1,\"fLineWidth\":1,\"fFillColor\":0,\"fFillStyle\":1001,\"fMarkerColor\":1,\"fMarkerStyle\":1,\"fMarkerSize\":1,\"fNcells\":544,\"fXaxis\":{\"_typename\":\"TAxis\",\"fUniqueID\":0,\"fBits\":50331648,\"fName\":\"xaxis\",\"fTitle\":\"#tau_{1}^{(2)}(det_sig)\",\"fNdivisions\":510,\"fAxisColor\":1,\"fLabelColor\":1,\"fLabelFont\":42,\"fLabelOffset\":0.005,\"fLabelSize\":0.035,\"fTickLength\":0.03,\"fTitleOffset\":1,\"fTitleSize\":0.035,\"fTitleColor\":1,\"fTitleFont\":42,\"fNbins\":30,\"fXmin\":0,\"fXmax\":0.4,\"fXbins\":[0,0.01,0.02,0.03,0.04,0.05,0.06,0.07,0.08,0.09,0.1,0.11,0.12,0.13,0.14,0.15,0.16,0.17,0.18,0.19,0.2,0.21,0.22,0.23,0.24,0.25,0.26,0.295,0.33,0.365,0.4],\"fFirst\":0,\"fLast\":0,\"fBits2\":0,\"fTimeDisplay\":false,\"fTimeFormat\":\"\",\"fLabels\":null,\"fModLabs\":null},\"fYaxis\":{\"_typename\":\"TAxis\",\"fUniqueID\":0,\"fBits\":50331648,\"fName\":\"yaxis\",\"fTitle\":\"#tau_{1}^{(2)}(gen_sig)\",\"fNdivisions\":510,\"fAxisColor\":1,\"fLabelColor\":1,\"fLabelFont\":42,\"fLabelOffset\":0.005,\"fLabelSize\":0.035,\"fTickLength\":0.03,\"fTitleOffset\":0,\"fTitleSize\":0.035,\"fTitleColor\":1,\"fTitleFont\":42,\"fNbins\":15,\"fXmin\":0,\"fXmax\":0.4,\"fXbins\":[0,0.02,0.04,0.06,0.08,0.1,0.12,0.14,0.16,0.18,0.2,0.22,0.24,0.26,0.33,0.4],\"fFirst\":0,\"fLast\":0,\"fBits2\":0,\"fTimeDisplay\":false,\"fTimeFormat\":\"\",\"fLabels\":null,\"fModLabs\":null},\"fZaxis\":{\"_typename\":\"TAxis\",\"fUniqueID\":0,\"fBits\":50331648,\"fName\":\"zaxis\",\"fTitle\":\"\",\"fNdivisions\":510,\"fAxisColor\":1,\"fLabelColor\":1,\"fLabelFont\":42,\"fLabelOffset\":0.005,\"fLabelSize\":0.035,\"fTickLength\":0.03,\"fTitleOffset\":1,\"fTitleSize\":0.035,\"fTitleColor\":1,\"fTitleFont\":42,\"fNbins\":1,\"fXmin\":0,\"fXmax\":1,\"fXbins\":[],\"fFirst\":0,\"fLast\":0,\"fBits2\":0,\"fTimeDisplay\":false,\"fTimeFormat\":\"\",\"fLabels\":null,\"fModLabs\":null},\"fBarOffset\":0,\"fBarWidth\":1000,\"fEntries\":43107,\"fTsumw\":13901.1376293109,\"fTsumw2\":4887.05421222413,\"fTsumwx\":1913.6301788747,\"fTsumwx2\":303.310865733678,\"fMaximum\":-1111,\"fMinimum\":-1111,\"fNormFactor\":0,\"fContour\":[0,27.466669537811,54.933339075622,82.4000086134329,109.866678151244,137.333347689055,164.800017226866,192.266686764677,219.733356302488,247.200025840299,274.66669537811,302.133364915921,329.600034453732,357.066703991543,384.533373529354,412.000043067165,439.466712604976,466.933382142787,494.400051680598,521.866721218409],\"fSumw2\":[0,0,0,0,0,0,0,0,0,0,0,0,0,0,0,0,0,0,0,0,0,0,0,0,0,0,0,0,0,0,0,0,0,0.123922805801029,5.57384725143532,4.36751233574985,0,0.106699738938258,0,5.965571625603e-4,0,0,0.202393891100923,0.0895897925278513,0.181924470152963,0.415702697889929,0.595419802591579,0.103105517411655,0.320987675403085,0.274983391322437,0.369524302675522,0.202881300459992,0.591102004170374,0.248521502550321,2.50399093070926e-4,0.390824299276844,0.732618078584564,0.567026678481194,0.450882889803844,0.749867306675815,0.192284948971075,0,0,0,0,0,0.767562910842519,20.4146756789797,51.159591394293,27.0480546017899,3.12277014808401,0.95449733943404,0,0.372790683380889,0.496417452240027,0.0651940391322731,0.571084230065065,0.73035956070888,0.938738200191075,0.902848673826169,0.501410636291862,0.555554648282723,1.22858171864618,1.21897239666336,0.124215825321518,0.653958949451262,0.622695983203133,0.537146084159259,0.294863864647559,0.826333069405792,0.541177587266066,0.435928192672877,0.0431069443598478,0,0,0,0,0,0,0.241076272128741,8.10604974916492,68.1973447663203,101.542541235298,54.9139650226284,13.7402857246983,2.93082717490107,0.244519096165112,0.761803463077687,1.03405508662098,0.892343509145734,0.544351950030452,0.7037668834334,1.22934411729756,1.01763465825497,1.08662090523974,0.430385118890573,1.09438353548039,0.569142463042906,0.599832508669378,0.454426004621762,0.505958853739819,0.37777256548301,0.162907728847872,0.201904390789611,0.135629237626649,0,0,0,0,0,0,0,0,1.89362845714021,24.8996164001713,112.961536815095,152.309756789827,87.6076288748031,29.5885585283094,7.46667583780314,2.55793926010053,2.04252328864393,0.459147705387007,0.364254575139397,1.00722388211282,0.948687903348008,0.33074867947748,0.852938756910014,0.509238011683563,0.796963243355354,0.314045549032136,1.4742898182348e-5,0.240858816044456,0.320187243372716,0.234405586209665,0.609100458917474,0,0,0,0,0,0,0,0,0,1.33928452538527e-5,1.28121059053283,7.90622005774612,44.3515830155253,144.84199606836,194.359480888397,113.852329483598,40.7426571604774,11.0616659456463,3.96959293299531,1.77206309626546,0.923700751501481,0.713998757930662,0.418043236879046,0.453452719497383,0.542913324696506,0.102048324387237,0.139094686003967,0.394658901828148,0.339306118719061,0.193546354961264,0.358335301307776,0.232581251573995,0,0.16480885951192,0,0,0,0,0,0,0,0.214130255189048,0.506051365472799,1.40122191492622,4.18170742364132,17.2513080448588,69.2341794095584,164.560489660011,189.118590969419,120.934793536994,47.5277709704815,13.4176852756946,3.66726915957898,3.33261798975579,0.806254050397422,1.02123142178852,0.418904514086861,0.674243250674082,0.662924960747702,0.352148335532463,0.2235218437203,0,0.109650522097317,0.363679770615406,0,0,0,0,0,0,0,0,0,0.126377952883809,0.111915111899661,0.311670481219795,0.776171208764698,4.16230268974534,11.1554951222801,28.9993882491832,79.8930052183369,164.241642153001,182.717594052346,110.906524238564,43.9013419488036,14.4346666370091,5.10580787089704,2.28675832850388,1.38016912129071,0.767670358780279,1.09822928474428,0,0,0.228899899034195,0.116129515245471,0,0,0,0,0,0,0,0,0,0,0,0,0.134213882760364,0.404299170862638,0.740666037665687,3.08970735513129,7.43857756938373,17.1245729577968,36.0475097208164,79.7836812194497,148.700438091408,161.863945341264,91.6027894400819,42.2961514693911,15.2469665786708,4.90809406118542,1.75404127341632,0.991186826498933,0.206458443800228,0.0927532817332462,0.120723552330732,0.449828877331589,0.323295474678082,0,0,0,0,0,0,0,0,0,0.00933682471566692,0,0.144226872854398,0.0534613767072276,0.619590994505392,1.3862149305436,1.07882637486259,3.83965831262495,7.78710835483249,15.7668284874723,33.8549842499617,77.551062424974,115.566644333322,115.25647259173,70.4279088747292,33.3296991303058,10.9960063903224,3.69821695696939,1.46198990869981,0.229227272859337,0.219716469050815,0.239017480821889,0.301680024624834,0,0,0,0,0,0,0,0,0,0,0.186285569291962,0.118317325434862,0.169258062331407,0.177381792553921,0.658332463142072,0.743969747380775,1.98650958736804,2.74338726125218,4.91028933733683,8.00322170198407,14.8878453587544,33.4087045183273,56.655565459741,94.7030403887682,92.1288791589327,57.5958826052296,22.4693341093092,9.57011947803067,2.40272128957427,0.913037916810878,0.420012132348374,0.716666489454177,0,0,0,0,0,0,0,0,0,0,0.112552771201299,0,0.115703926901703,0.522554083687216,0.162348190139799,1.00867975036132,0.104144335347662,1.02770022211328,2.37740944794153,2.50778024776788,4.69915939629448,6.83400408422949,12.6428495679686,22.1748111323192,49.0731611579742,67.0065786239644,70.233869198349,36.348938686759,14.3130157612833,5.46160433007853,1.13438817909274,1.82197765263644,0.115930749583844,0,0,0,0,0,0,0,0,0,0,0,0,0,0.35824417949956,0.689189785040565,0.77457823214993,1.04992242919616,1.10668673365892,1.45291760588465,1.22519556305467,1.74469083487955,2.63398049739897,3.69706306631325,8.69852170789897,17.842053797594,32.8507469795229,44.0758117859417,42.3669755497531,25.266830309679,9.5851677370634,3.74092051045255,0.291727138879907,0.16812416670036,0,0,0,0,0,0,0,0,0,0,0,0.0931304566588413,0.236754878237225,0.487756739350076,0.34849488570772,0.410491821963704,0.83787928074943,1.16963214640351,0.809334790231498,1.04794267449193,1.5664725034285,2.15787265469552,2.21344513145336,2.32007746965388,7.09174633822385,11.1685659770551,19.9146819264989,21.9097193341991,18.4930991778343,14.7247806768977,0.406046723143794,0,0,0,0,0,0,0,0,0,0,0,0,0,0.31803622110128,0.425500460119877,0.624736664018161,0.932929461838207,1.42620512113776,2.27572691084421,2.03123927653423,1.66213072237455,1.90666322284922,2.437250334107,1.93888164155307,2.4110971018437,3.35070412770196,1.92709462396296,2.69722632259296,6.56811632599841,8.84100221454014,29.9424312722111,6.13593923541884,0.540170113537258,0,0,0,0,0,0,0,0,0,0,0,0,0,0,0,0,0.348419462772343,0,0.143323900765873,0.130488222498628,0.14982038213891,0.265238289260437,0.109337979145579,0.60204938793056,0.578351454843244,0.342587612255886,0.357844501716196,0.152414365311413,0.709245944992495,0.295670020685462,0.689780294743112,0.312468268428937,0.108126864493684,0,0,0,0,0,0,0,0,0,0,0,0,0,0,0,0,0,0,0,0,0,0,0,0,0,0,0,0,0,0,0,0,0],\"fOption\":\"\",\"fFunctions\":{\"_typename\":\"TList\",\"name\":\"TList\",\"arr\":[{\"_typename\":\"TPaletteAxis\",\"fUniqueID\":0,\"fBits\":50331648,\"fLineColor\":1,\"fLineStyle\":1,\"fLineWidth\":1,\"fFillColor\":1178,\"fFillStyle\":1001,\"fX1\":0.402500000037253,\"fY1\":0,\"fX2\":0.425000000372529,\"fY2\":0.4,\"fX1NDC\":0.904999994039535,\"fY1NDC\":0.100000005960465,\"fX2NDC\":0.949999994039535,\"fY2NDC\":0.899999994039535,\"fBorderSize\":4,\"fInit\":1,\"fShadowColor\":1,\"fCornerRadius\":0,\"fOption\":\"br\",\"fName\":\"TPave\",\"fAxis\":{\"_typename\":\"TGaxis\",\"fUniqueID\":0,\"fBits\":50331648,\"fLineColor\":1,\"fLineStyle\":1,\"fLineWidth\":1,\"fX1\":0,\"fY1\":0,\"fX2\":0,\"fY2\":0,\"fTextAngle\":0,\"fTextSize\":0.04,\"fTextAlign\":11,\"fTextColor\":1,\"fTextFont\":42,\"fWmin\":0,\"fWmax\":0,\"fGridLength\":0,\"fTickSize\":0.03,\"fLabelOffset\":0.005,\"fLabelSize\":0.035,\"fTitleOffset\":1,\"fTitleSize\":0.035,\"fNdiv\":0,\"fLabelColor\":1,\"fLabelFont\":42,\"fNModLabs\":0,\"fChopt\":\"\",\"fName\":\"\",\"fTitle\":\"\",\"fTimeFormat\":\"\",\"fFunctionName\":\"\",\"fModLabs\":null},\"fName\":\"palette\"}],\"opt\":[\"br\"]},\"fBufferSize\":0,\"fBuffer\":[],\"fBinStatErrOpt\":0,\"fStatOverflows\":2,\"fScalefactor\":1,\"fTsumwy\":1894.9487792467,\"fTsumwy2\":302.409349465379,\"fTsumwxy\":298.948633703811,\"fArray\":[0,0,0,0,0,0,0,0,0,0,0,0,0,0,0,0,0,0,0,0,0,0,0,0,0,0,0,0,0,0,0,0,0,0.352026711772031,15.3391856580041,12.8399278893023,0,0.326649259815873,0,0.024424519699685,0,0,0.623393348837738,0.299315540070761,0.599325635338891,0.911160681116599,1.72387208279692,0.321100478684873,0.975509020325085,0.740660367036153,1.12789358247976,0.635208468867909,1.50671441193054,0.720733722881548,0.0158240036991567,1.23919953281104,1.90067567654417,1.6814095184484,1.22665523726927,1.89033599402144,0.438503077493277,0,0,0,0,0,2.1399007577945,56.0421477795583,143.582172796382,75.3603705218131,8.82606251631486,2.56102524114143,0,1.05571976549024,1.57070479896946,0.255331234149434,1.37339098821596,2.25924643634794,2.55277076927053,2.50247161565301,1.40929604897187,1.65547667332379,3.57860311586632,2.99518745052428,0.352442655366115,1.97098655535988,1.92014104015918,1.6173192254404,0.939900207476893,1.98017153454184,1.64196201424287,1.39210874764619,0.207622119148822,0,0,0,0,0,0,0.490995185443545,23.1291319201121,194.93520123983,289.608036304058,158.651205712266,40.2457170975579,7.73985716545679,0.743209846463269,2.36669292225883,3.04200083740279,2.62027720309093,1.62746657651685,1.84892916621574,3.08577090507747,3.01514134955198,2.96668135392681,1.3717077192636,3.05171700212113,1.72505529991022,1.72071828013856,1.34430547642122,1.41399362706979,0.862640901252995,0.403618295977613,0.633237210983194,0.368278749898292,0,0,0,0,0,0,0,0,5.72426889873288,70.8168284979253,316.978106014254,436.035584299222,252.871213369285,84.1230546309014,21.2113740421709,7.63744494065644,5.81327334338823,1.33224891841932,1.04125451430221,2.91897458790231,2.80748134242965,1.19347629973042,2.41941596111012,1.58851540809007,2.45391087597219,0.967841703016071,0.00383964818471016,0.693048729782321,0.979511285673082,0.68458670333491,1.72478567486713,0,0,0,0,0,0,0,0,0,0.0036596236492094,3.70218316828463,22.4841307693704,125.509776650257,416.126430374657,549.33339075622,324.199341926793,115.986234533229,31.365449790659,11.7054183088099,4.87407566042159,2.91039896589036,2.01370983980672,1.08459362152055,1.33891449309812,1.76080436470383,0.319450034257687,0.372953999849803,1.20893059701193,1.15590994594128,0.623644894846262,1.03001514412977,0.6813939985831,0,0.405966574377645,0,0,0,0,0,0,0,0.654413481183928,1.42037660863407,3.916376229512,11.894221222386,49.4197846493943,196.202068265407,464.345712188132,538.51326517039,344.071174814359,134.367405231089,38.9545275200627,11.0236555670918,9.55557422186652,2.63075711474068,2.97083202486983,1.18316299776709,2.00996711429534,1.81356848214765,1.02363529265349,0.665200475096043,0,0.331135202141538,0.852789875217564,0,0,0,0,0,0,0,0,0,0.355496769160859,0.334537160715608,0.788933336316557,2.50259626015449,10.5574615276627,31.5798047618214,82.1967733099918,226.5475539607,463.983244048169,515.975723192723,314.328398983452,127.483912983833,41.223736216905,14.1073420278233,6.7618311618245,3.84689863828825,2.12493046600992,2.95002707497518,0,0,0.478434843039462,0.340777809203403,0,0,0,0,0,0,0,0,0,0,0,0,0.366352129460665,1.09798809465517,1.9087560331136,9.25260471228106,20.7446112266983,47.7401767190602,101.0900317613,227.710303574052,423.610597693881,455.187388160739,264.213168210199,118.679982017769,42.9492918239606,13.2213266623299,5.14147791435879,2.70121234532216,0.641364253983754,0.304554234469406,0.34745294980865,1.30920862626547,0.984459709162031,0,0,0,0,0,0,0,0,0,0.0966272462386615,0,0.379772132803867,0.231217163522148,1.7208971874814,4.09238921459632,2.91259359932262,10.8940978284767,21.5310464967398,44.7868934485354,97.119825864348,219.853271925739,328.388938834927,331.602373652948,203.490604939803,96.0628233316354,31.3269188238203,10.814367922234,4.15451090223459,0.675691338558653,0.662828869715934,0.677510771032865,0.948213059027684,0,0,0,0,0,0,0,0,0,0,0.431608120048688,0.343972855665766,0.570223962298606,0.421167178865971,1.96950384544429,2.28176557769185,5.88067313473876,8.31823438697413,14.275704219378,22.9855772502383,43.1216312333536,95.264053921972,163.532951316583,268.833505166143,263.238407263509,163.44732869024,63.6009966662,27.7804895819199,7.28266831084957,2.65793163839322,1.28595675943923,1.86275500740846,0,0,0,0,0,0,0,0,0,0,0.335488854064183,0,0.34015279934421,1.44189228905262,0.402924546459754,2.97576256505758,0.322714014798958,2.90025656466777,6.5207611485946,7.62451671885269,13.3731973498895,19.2663370676504,35.6114199354088,63.4398925078412,139.321343343653,189.020874087714,195.972987558866,104.601538429756,42.1920006007116,16.1792312489878,3.66191013112851,5.18077037934098,0.340486049029683,0,0,0,0,0,0,0,0,0,0,0,0,0,1.03532560197849,2.02917863291084,2.13378340268097,2.95594276002022,2.91731876206501,3.73513673956082,3.90699315967422,4.60712592248604,7.71082933138057,10.9072085139116,24.6794847098121,50.4727741290007,92.2254673508989,125.997680136521,119.654798180191,71.6815532870869,27.7931458417435,10.8069116636227,0.790769509158653,0.410029470526644,0,0,0,0,0,0,0,0,0,0,0,0.305172830800583,0.687988860717417,1.31708867902283,1.04531412761491,1.41459824186369,2.43359669465043,3.17887737413808,2.62791494231905,3.04085117412887,4.34715283187913,5.68792476485336,6.41657380232004,7.13106321452639,19.7131080651298,31.3940432984769,56.5423461615972,63.481955204964,51.2334013352992,42.7089888051721,0.895012923587934,0,0,0,0,0,0,0,0,0,0,0,0,0,0.968259561323855,1.2898216427968,1.55840082131106,2.54021890366,4.28082698969445,6.66465470464719,5.64962171029054,5.23970756546421,5.49781566743682,7.06307750930035,5.51761784696574,7.11425182761529,9.23267803226432,5.41271749704835,7.85309747793583,19.2282559192691,24.8411139334144,86.4059018703105,17.0719441703889,1.72051135303729,0,0,0,0,0,0,0,0,0,0,0,0,0,0,0,0,1.00911615825277,0,0.434078860495949,0.361231535858413,0.387066379499576,0.726535182063112,0.330662938875192,1.72977344067507,1.39510568024024,1.01084229835939,1.03545217990395,0.390402824415261,1.86838891222336,0.914594502420968,2.01788149655786,1.2347969139361,0.328826496033522,0,0,0,0,0,0,0,0,0,0,0,0,0,0,0,0,0,0,0,0,0,0,0,0,0,0,0,0,0,0,0,0,0]},{\"_typename\":\"TPaveText\",\"fUniqueID\":0,\"fBits\":50331657,\"fLineColor\":1,\"fLineStyle\":1,\"fLineWidth\":1,\"fFillColor\":0,\"fFillStyle\":0,\"fX1\":0.0315562490574134,\"fY1\":0.405634460649278,\"fX2\":0.368443750942587,\"fY2\":0.447500006072223,\"fX1NDC\":0.163112503134842,\"fY1NDC\":0.911268915170171,\"fX2NDC\":0.836887496865158,\"fY2NDC\":0.995000004768372,\"fBorderSize\":0,\"fInit\":1,\"fShadowColor\":1,\"fCornerRadius\":0,\"fOption\":\"blNDC\",\"fName\":\"title\",\"fTextAngle\":0,\"fTextSize\":0,\"fTextAlign\":22,\"fTextColor\":1,\"fTextFont\":42,\"fLabel\":\"\",\"fLongest\":40,\"fMargin\":0.05,\"fLines\":{\"_typename\":\"TList\",\"name\":\"TList\",\"arr\":[{\"_typename\":\"TLatex\",\"fUniqueID\":0,\"fBits\":50331648,\"fName\":\"\",\"fTitle\":\"Response Matrix #tau_{1}^{(2)} binning 3\",\"fTextAngle\":0,\"fTextSize\":0,\"fTextAlign\":0,\"fTextColor\":0,\"fTextFont\":0,\"fX\":0,\"fY\":0,\"fLineColor\":1,\"fLineStyle\":1,\"fLineWidth\":2,\"fLimitFactorSize\":3,\"fOriginSize\":0.0560433566570282}],\"opt\":[\"\"]}}],\"opt\":[\"\",\"colz\",\"blNDC\"]},\"fExecs\":{\"_typename\":\"TList\",\"name\":\"TList\",\"arr\":[],\"opt\":[]},\"fName\":\"c6_3\",\"fTitle\":\"c6_3\",\"fNumPaletteColor\":0,\"fNextPaletteColor\":0},{\"_typename\":\"TPad\",\"fUniqueID\":0,\"fBits\":50331657,\"fLineColor\":1,\"fLineStyle\":1,\"fLineWidth\":1,\"fFillColor\":0,\"fFillStyle\":1001,\"fLeftMargin\":0.1,\"fRightMargin\":0.1,\"fBottomMargin\":0.1,\"fTopMargin\":0.1,\"fXfile\":2,\"fYfile\":2,\"fAfile\":1,\"fXstat\":0.99,\"fYstat\":0.99,\"fAstat\":2,\"fFrameFillColor\":0,\"fFrameLineColor\":1,\"fFrameFillStyle\":1001,\"fFrameLineStyle\":1,\"fFrameLineWidth\":1,\"fFrameBorderSize\":1,\"fFrameBorderMode\":0,\"fX1\":-0.0500000037252905,\"fY1\":-0.0500000037252905,\"fX2\":0.450000003725291,\"fY2\":0.450000003725291,\"fXtoAbsPixelk\":49.4347186864695,\"fXtoPixelk\":37.4747189537963,\"fXtoPixel\":749.493323234319,\"fYtoAbsPixelk\":657.850714890051,\"fYtoPixelk\":296.664048458524,\"fYtoPixel\":-659.253324450254,\"fUtoAbsPixelk\":11.9600497326732,\"fUtoPixelk\":5e-5,\"fUtoPixel\":374.74666720132,\"fVtoAbsPixelk\":690.813383568473,\"fVtoPixelk\":329.626667136947,\"fVtoPixel\":-329.626667136947,\"fAbsPixeltoXk\":-0.0659574503921423,\"fPixeltoXk\":-0.0500000037252905,\"fPixeltoX\":0.00133423470096392,\"fAbsPixeltoYk\":0.997872351176427,\"fPixeltoYk\":-0.0500000037252905,\"fPixeltoY\":-0.00151686758778788,\"fXlowNDC\":0.00999999977648258,\"fYlowNDC\":0.343333333109816,\"fXUpNDC\":0,\"fYUpNDC\":0,\"fWNDC\":0.313333333780368,\"fHNDC\":0.313333333780368,\"fAbsXlowNDC\":0.00999999977648258,\"fAbsYlowNDC\":0.343333333109816,\"fAbsWNDC\":0.313333333780368,\"fAbsHNDC\":0.313333333780368,\"fUxmin\":0,\"fUymin\":0,\"fUxmax\":0.4,\"fUymax\":0.4,\"fTheta\":30,\"fPhi\":30,\"fAspectRatio\":0,\"fNumber\":4,\"fTickx\":0,\"fTicky\":0,\"fLogx\":0,\"fLogy\":0,\"fLogz\":0,\"fPadPaint\":0,\"fCrosshair\":0,\"fCrosshairPos\":0,\"fBorderSize\":2,\"fBorderMode\":0,\"fModified\":false,\"fGridx\":false,\"fGridy\":false,\"fAbsCoord\":false,\"fEditable\":true,\"fFixedAspectRatio\":false,\"fPrimitives\":{\"_typename\":\"TList\",\"name\":\"TList\",\"arr\":[{\"_typename\":\"TFrame\",\"fUniqueID\":0,\"fBits\":50331656,\"fLineColor\":1,\"fLineStyle\":1,\"fLineWidth\":1,\"fFillColor\":0,\"fFillStyle\":1001,\"fX1\":0,\"fY1\":0,\"fX2\":0.4,\"fY2\":0.4,\"fBorderSize\":1,\"fBorderMode\":0},{\"_typename\":\"TH2D\",\"fUniqueID\":0,\"fBits\":50332168,\"fName\":\"response\",\"fTitle\":\"Response Matrix #tau_{1}^{(2)} binning 4\",\"fLineColor\":602,\"fLineStyle\":1,\"fLineWidth\":1,\"fFillColor\":0,\"fFillStyle\":1001,\"fMarkerColor\":1,\"fMarkerStyle\":1,\"fMarkerSize\":1,\"fNcells\":180,\"fXaxis\":{\"_typename\":\"TAxis\",\"fUniqueID\":0,\"fBits\":50331648,\"fName\":\"xaxis\",\"fTitle\":\"#tau_{1}^{(2)}(det_sig)\",\"fNdivisions\":510,\"fAxisColor\":1,\"fLabelColor\":1,\"fLabelFont\":42,\"fLabelOffset\":0.005,\"fLabelSize\":0.035,\"fTickLength\":0.03,\"fTitleOffset\":1,\"fTitleSize\":0.035,\"fTitleColor\":1,\"fTitleFont\":42,\"fNbins\":16,\"fXmin\":0,\"fXmax\":0.4,\"fXbins\":[0,0.0225,0.045,0.0675,0.09,0.1125,0.135,0.1575,0.18,0.2025,0.225,0.2475,0.27,0.3,0.33,0.365,0.4],\"fFirst\":0,\"fLast\":0,\"fBits2\":0,\"fTimeDisplay\":false,\"fTimeFormat\":\"\",\"fLabels\":null,\"fModLabs\":null},\"fYaxis\":{\"_typename\":\"TAxis\",\"fUniqueID\":0,\"fBits\":50331648,\"fName\":\"yaxis\",\"fTitle\":\"#tau_{1}^{(2)}(gen_sig)\",\"fNdivisions\":510,\"fAxisColor\":1,\"fLabelColor\":1,\"fLabelFont\":42,\"fLabelOffset\":0.005,\"fLabelSize\":0.035,\"fTickLength\":0.03,\"fTitleOffset\":0,\"fTitleSize\":0.035,\"fTitleColor\":1,\"fTitleFont\":42,\"fNbins\":8,\"fXmin\":0,\"fXmax\":0.4,\"fXbins\":[0,0.045,0.09,0.135,0.18,0.225,0.27,0.33,0.4],\"fFirst\":0,\"fLast\":0,\"fBits2\":0,\"fTimeDisplay\":false,\"fTimeFormat\":\"\",\"fLabels\":null,\"fModLabs\":null},\"fZaxis\":{\"_typename\":\"TAxis\",\"fUniqueID\":0,\"fBits\":50331648,\"fName\":\"zaxis\",\"fTitle\":\"\",\"fNdivisions\":510,\"fAxisColor\":1,\"fLabelColor\":1,\"fLabelFont\":42,\"fLabelOffset\":0.005,\"fLabelSize\":0.035,\"fTickLength\":0.03,\"fTitleOffset\":1,\"fTitleSize\":0.035,\"fTitleColor\":1,\"fTitleFont\":42,\"fNbins\":1,\"fXmin\":0,\"fXmax\":1,\"fXbins\":[],\"fFirst\":0,\"fLast\":0,\"fBits2\":0,\"fTimeDisplay\":false,\"fTimeFormat\":\"\",\"fLabels\":null,\"fModLabs\":null},\"fBarOffset\":0,\"fBarWidth\":1000,\"fEntries\":43107,\"fTsumw\":13901.1376293109,\"fTsumw2\":4887.05421222413,\"fTsumwx\":1913.6301788747,\"fTsumwx2\":303.310865733678,\"fMaximum\":-1111,\"fMinimum\":-1111,\"fNormFactor\":0,\"fContour\":[0,84.0644924576066,168.128984915213,252.19347737282,336.257969830427,420.322462288033,504.38695474564,588.451447203247,672.515939660853,756.58043211846,840.644924576067,924.709417033673,1008.77390949128,1092.83840194889,1176.90289440649,1260.9673868641,1345.03187932171,1429.09637177931,1513.16086423692,1597.22535669453],\"fSumw2\":[0,0,0,0,0,0,0,0,0,0,0,0,0,0,0,0,0,0,0,10.1390623838911,111.643331004849,41.2674333822289,0.663750620389079,1.17183096114223,3.56689289583671,2.5411715897444,2.9567224137257,2.84491882384812,2.30718811320635,2.28112435600519,2.35529277438616,1.02098519105124,0.0431069443598478,0,0,0,0,0,11.5802987927965,268.418914735302,437.89509328417,148.892804288481,15.5068347640942,4.50814605120676,3.89292056113448,3.19705428296456,1.97797950324159,1.47902439833533,0.884791948777709,0.491394910892827,0.135629237626649,0,0,0,0,0,0.106452453367393,2.61669486827817,85.1581564991794,544.301856795667,593.151550214316,180.853103521048,20.5911890187675,4.37403748786613,3.08854764375159,0.630818922687076,0.850757874901303,0.177388804999473,0,0.16480885951192,0,0,0,0,0,0.414155533214238,2.98310990408168,24.0831795661066,156.09725492214,503.266085877933,437.246298579745,129.594544737932,14.6376724543659,1.49256510993147,1.02081870726667,0.406019880302281,0,0,0,0,0,0,0,0.417155665928123,0.984897865474246,3.16031671862335,8.14897441148454,28.6417951958541,119.147841509328,299.161683208822,238.516457802221,55.5852936951992,5.67675448143822,1.57484118478866,0.115930749583844,0,0,0,0,0,0,0,0.0931304566588413,2.27205419403548,3.44551345657632,4.58672947495984,6.48325047614512,15.5090878526587,59.6901717754897,114.838884113422,60.9890362947259,10.2748728813316,0.696992367331976,0.16812416670036,0,0,0,0,0,0,0,0.61412765142505,1.15902327973122,3.77704835348258,3.47855959794899,3.37361522784329,3.372098595335,3.16336385405574,10.7334474484892,16.5615275456237,3.83550715482296,0.540170113537258,0,0,0,0,0,0,0,0,0.0744135329859744,0.41493397363841,0.282704461551369,0.514113161757276,1.24641513410076,0.64729529460528,0.748813532809257,0.415014236478289,0.530868491133522,0.312468268428937,0.108126864493684,0,0,0,0,0,0,0,0,0,0,0,0,0,0,0,0,0,0,0],\"fOption\":\"\",\"fFunctions\":{\"_typename\":\"TList\",\"name\":\"TList\",\"arr\":[{\"_typename\":\"TPaletteAxis\",\"fUniqueID\":0,\"fBits\":50331648,\"fLineColor\":1,\"fLineStyle\":1,\"fLineWidth\":1,\"fFillColor\":1178,\"fFillStyle\":1001,\"fX1\":0.402500000037253,\"fY1\":0,\"fX2\":0.425000000372529,\"fY2\":0.4,\"fX1NDC\":0.904999994039535,\"fY1NDC\":0.100000005960465,\"fX2NDC\":0.949999994039535,\"fY2NDC\":0.899999994039535,\"fBorderSize\":4,\"fInit\":1,\"fShadowColor\":1,\"fCornerRadius\":0,\"fOption\":\"br\",\"fName\":\"TPave\",\"fAxis\":{\"_typename\":\"TGaxis\",\"fUniqueID\":0,\"fBits\":50331648,\"fLineColor\":1,\"fLineStyle\":1,\"fLineWidth\":1,\"fX1\":0,\"fY1\":0,\"fX2\":0,\"fY2\":0,\"fTextAngle\":0,\"fTextSize\":0.04,\"fTextAlign\":11,\"fTextColor\":1,\"fTextFont\":42,\"fWmin\":0,\"fWmax\":0,\"fGridLength\":0,\"fTickSize\":0.03,\"fLabelOffset\":0.005,\"fLabelSize\":0.035,\"fTitleOffset\":1,\"fTitleSize\":0.035,\"fNdiv\":0,\"fLabelColor\":1,\"fLabelFont\":42,\"fNModLabs\":0,\"fChopt\":\"\",\"fName\":\"\",\"fTitle\":\"\",\"fTimeFormat\":\"\",\"fFunctionName\":\"\",\"fModLabs\":null},\"fName\":\"palette\"}],\"opt\":[\"br\"]},\"fBufferSize\":0,\"fBuffer\":[],\"fBinStatErrOpt\":0,\"fStatOverflows\":2,\"fScalefactor\":1,\"fTsumwy\":1894.9487792467,\"fTsumwy2\":302.409349465379,\"fTsumwxy\":298.948633703811,\"fArray\":[0,0,0,0,0,0,0,0,0,0,0,0,0,0,0,0,0,0,0,28.7832729624009,312.282856706418,118.30024582075,1.80997542002333,3.71762613966502,9.95540594523583,7.08832580082425,8.70039007818801,7.61333716464444,6.94465671793217,6.53625978712873,6.55029937634947,2.44566012984855,0.207622119148822,0,0,0,0,0,33.0349942477713,765.441621115969,1253.90558745981,421.187254070903,44.4570972542609,12.2658835948154,11.3090532517849,9.53826991052628,6.09628520229523,4.17076819035741,2.6556614236497,1.38170325324712,0.368278749898292,0,0,0,0,0,0.326270521756705,7.43972020000725,240.67143870619,1541.13829692317,1681.28984915213,517.768679279133,58.9678757069254,12.4979317297148,8.77085199584195,1.73608867241791,2.41700605300447,0.421175503797968,0,0.405966574377645,0,0,0,0,0,1.19824827766405,7.95351550109197,68.355183580797,443.395542257127,1425.86685345565,1248.38449663078,372.447526626537,41.6775348795528,4.21036789333386,2.98434191234328,1.27122986304482,0,0,0,0,0,0,0,1.11106982977864,2.7734362295614,9.33162869211242,23.9555413684855,82.5008788549462,341.718845269111,850.458041990409,674.693392995949,160.98710210309,16.9497878239848,4.35232610129696,0.340486049029683,0,0,0,0,0,0,0,0.305172830800583,6.10155402715384,9.71767091698218,13.3644266711667,18.1565934926445,44.0125796879735,168.389864743439,327.575380333444,174.525295235141,28.8934539540507,1.65782720619187,0.410029470526644,0,0,0,0,0,0,0,1.8995089895438,3.37745821640654,10.6970486304334,10.621174474485,9.90227547087828,9.41044203417769,9.68394884385542,30.025588015967,47.1557838929463,10.8423639216959,1.72051135303729,0,0,0,0,0,0,0,0,0.27278843997863,1.12145908737542,0.797245406752657,1.430744494701,3.39199072982903,1.79603932000219,2.06730494429911,1.11431590412382,1.61924406277926,1.2347969139361,0.328826496033522,0,0,0,0,0,0,0,0,0,0,0,0,0,0,0,0,0,0,0]},{\"_typename\":\"TPaveText\",\"fUniqueID\":0,\"fBits\":50331657,\"fLineColor\":1,\"fLineStyle\":1,\"fLineWidth\":1,\"fFillColor\":0,\"fFillStyle\":0,\"fX1\":0.0315562490574134,\"fY1\":0.405634460649278,\"fX2\":0.368443750942587,\"fY2\":0.447500006072223,\"fX1NDC\":0.163112503134842,\"fY1NDC\":0.911268915170171,\"fX2NDC\":0.836887496865158,\"fY2NDC\":0.995000004768372,\"fBorderSize\":0,\"fInit\":1,\"fShadowColor\":1,\"fCornerRadius\":0,\"fOption\":\"blNDC\",\"fName\":\"title\",\"fTextAngle\":0,\"fTextSize\":0,\"fTextAlign\":22,\"fTextColor\":1,\"fTextFont\":42,\"fLabel\":\"\",\"fLongest\":40,\"fMargin\":0.05,\"fLines\":{\"_typename\":\"TList\",\"name\":\"TList\",\"arr\":[{\"_typename\":\"TLatex\",\"fUniqueID\":0,\"fBits\":50331648,\"fName\":\"\",\"fTitle\":\"Response Matrix #tau_{1}^{(2)} binning 4\",\"fTextAngle\":0,\"fTextSize\":0,\"fTextAlign\":0,\"fTextColor\":0,\"fTextFont\":0,\"fX\":0,\"fY\":0,\"fLineColor\":1,\"fLineStyle\":1,\"fLineWidth\":2,\"fLimitFactorSize\":3,\"fOriginSize\":0.0560433566570282}],\"opt\":[\"\"]}}],\"opt\":[\"\",\"colz\",\"blNDC\"]},\"fExecs\":{\"_typename\":\"TList\",\"name\":\"TList\",\"arr\":[],\"opt\":[]},\"fName\":\"c6_4\",\"fTitle\":\"c6_4\",\"fNumPaletteColor\":0,\"fNextPaletteColor\":0},{\"_typename\":\"TPad\",\"fUniqueID\":0,\"fBits\":50331657,\"fLineColor\":1,\"fLineStyle\":1,\"fLineWidth\":1,\"fFillColor\":0,\"fFillStyle\":1001,\"fLeftMargin\":0.1,\"fRightMargin\":0.1,\"fBottomMargin\":0.1,\"fTopMargin\":0.1,\"fXfile\":2,\"fYfile\":2,\"fAfile\":1,\"fXstat\":0.99,\"fYstat\":0.99,\"fAstat\":2,\"fFrameFillColor\":0,\"fFrameLineColor\":1,\"fFrameFillStyle\":1001,\"fFrameLineStyle\":1,\"fFrameLineWidth\":1,\"fFrameBorderSize\":1,\"fFrameBorderMode\":0,\"fX1\":-0.0500000037252905,\"fY1\":-0.0500000037252905,\"fX2\":0.450000003725291,\"fY2\":0.450000003725291,\"fXtoAbsPixelk\":448.101385353136,\"fXtoPixelk\":37.4747189537963,\"fXtoPixel\":749.493323234319,\"fYtoAbsPixelk\":657.850714890051,\"fYtoPixelk\":296.664048458524,\"fYtoPixel\":-659.253324450254,\"fUtoAbsPixelk\":410.62671639934,\"fUtoPixelk\":5e-5,\"fUtoPixel\":374.74666720132,\"fVtoAbsPixelk\":690.813383568473,\"fVtoPixelk\":329.626667136947,\"fVtoPixel\":-329.626667136947,\"fAbsPixeltoXk\":-0.597872351176427,\"fPixeltoXk\":-0.0500000037252905,\"fPixeltoX\":0.00133423470096392,\"fAbsPixeltoYk\":0.997872351176427,\"fPixeltoYk\":-0.0500000037252905,\"fPixeltoY\":-0.00151686758778788,\"fXlowNDC\":0.343333333109816,\"fYlowNDC\":0.343333333109816,\"fXUpNDC\":0,\"fYUpNDC\":0,\"fWNDC\":0.313333333780368,\"fHNDC\":0.313333333780368,\"fAbsXlowNDC\":0.343333333109816,\"fAbsYlowNDC\":0.343333333109816,\"fAbsWNDC\":0.313333333780368,\"fAbsHNDC\":0.313333333780368,\"fUxmin\":0,\"fUymin\":0,\"fUxmax\":0.4,\"fUymax\":0.4,\"fTheta\":30,\"fPhi\":30,\"fAspectRatio\":0,\"fNumber\":5,\"fTickx\":0,\"fTicky\":0,\"fLogx\":0,\"fLogy\":0,\"fLogz\":0,\"fPadPaint\":0,\"fCrosshair\":0,\"fCrosshairPos\":0,\"fBorderSize\":2,\"fBorderMode\":0,\"fModified\":false,\"fGridx\":false,\"fGridy\":false,\"fAbsCoord\":false,\"fEditable\":true,\"fFixedAspectRatio\":false,\"fPrimitives\":{\"_typename\":\"TList\",\"name\":\"TList\",\"arr\":[{\"_typename\":\"TFrame\",\"fUniqueID\":0,\"fBits\":50331656,\"fLineColor\":1,\"fLineStyle\":1,\"fLineWidth\":1,\"fFillColor\":0,\"fFillStyle\":1001,\"fX1\":0,\"fY1\":0,\"fX2\":0.4,\"fY2\":0.4,\"fBorderSize\":1,\"fBorderMode\":0},{\"_typename\":\"TH2D\",\"fUniqueID\":0,\"fBits\":50332168,\"fName\":\"response\",\"fTitle\":\"Response Matrix #tau_{1}^{(2)} binning 5\",\"fLineColor\":602,\"fLineStyle\":1,\"fLineWidth\":1,\"fFillColor\":0,\"fFillStyle\":1001,\"fMarkerColor\":1,\"fMarkerStyle\":1,\"fMarkerSize\":1,\"fNcells\":264,\"fXaxis\":{\"_typename\":\"TAxis\",\"fUniqueID\":0,\"fBits\":50331648,\"fName\":\"xaxis\",\"fTitle\":\"#tau_{1}^{(2)}(det_sig)\",\"fNdivisions\":510,\"fAxisColor\":1,\"fLabelColor\":1,\"fLabelFont\":42,\"fLabelOffset\":0.005,\"fLabelSize\":0.035,\"fTickLength\":0.03,\"fTitleOffset\":1,\"fTitleSize\":0.035,\"fTitleColor\":1,\"fTitleFont\":42,\"fNbins\":20,\"fXmin\":0,\"fXmax\":0.4,\"fXbins\":[0,0.016875,0.03375,0.050625,0.0675,0.084375,0.10125,0.118125,0.135,0.151875,0.16875,0.185625,0.2025,0.219375,0.23625,0.253125,0.27,0.3,0.33,0.365,0.4],\"fFirst\":0,\"fLast\":0,\"fBits2\":0,\"fTimeDisplay\":false,\"fTimeFormat\":\"\",\"fLabels\":null,\"fModLabs\":null},\"fYaxis\":{\"_typename\":\"TAxis\",\"fUniqueID\":0,\"fBits\":50331648,\"fName\":\"yaxis\",\"fTitle\":\"#tau_{1}^{(2)}(gen_sig)\",\"fNdivisions\":510,\"fAxisColor\":1,\"fLabelColor\":1,\"fLabelFont\":42,\"fLabelOffset\":0.005,\"fLabelSize\":0.035,\"fTickLength\":0.03,\"fTitleOffset\":0,\"fTitleSize\":0.035,\"fTitleColor\":1,\"fTitleFont\":42,\"fNbins\":10,\"fXmin\":0,\"fXmax\":0.4,\"fXbins\":[0,0.03375,0.0675,0.10125,0.135,0.16875,0.2025,0.23625,0.27,0.33,0.4],\"fFirst\":0,\"fLast\":0,\"fBits2\":0,\"fTimeDisplay\":false,\"fTimeFormat\":\"\",\"fLabels\":null,\"fModLabs\":null},\"fZaxis\":{\"_typename\":\"TAxis\",\"fUniqueID\":0,\"fBits\":50331648,\"fName\":\"zaxis\",\"fTitle\":\"\",\"fNdivisions\":510,\"fAxisColor\":1,\"fLabelColor\":1,\"fLabelFont\":42,\"fLabelOffset\":0.005,\"fLabelSize\":0.035,\"fTickLength\":0.03,\"fTitleOffset\":1,\"fTitleSize\":0.035,\"fTitleColor\":1,\"fTitleFont\":42,\"fNbins\":1,\"fXmin\":0,\"fXmax\":1,\"fXbins\":[],\"fFirst\":0,\"fLast\":0,\"fBits2\":0,\"fTimeDisplay\":false,\"fTimeFormat\":\"\",\"fLabels\":null,\"fModLabs\":null},\"fBarOffset\":0,\"fBarWidth\":1000,\"fEntries\":43107,\"fTsumw\":13901.1376293109,\"fTsumw2\":4887.05421222413,\"fTsumwx\":1913.6301788747,\"fTsumwx2\":303.310865733678,\"fMaximum\":-1111,\"fMinimum\":-1111,\"fNormFactor\":0,\"fContour\":[0,58.0150999808631,116.030199961726,174.045299942589,232.060399923452,290.075499904315,348.090599885179,406.105699866042,464.120799846905,522.135899827768,580.150999808631,638.166099789494,696.181199770357,754.19629975122,812.211399732083,870.226499712946,928.241599693809,986.256699674673,1044.27179965554,1102.2868996364],\"fSumw2\":[0,0,0,0,0,0,0,0,0,0,0,0,0,0,0,0,0,0,0,0,0,0,0,3.09786665812973,42.8738495329859,19.7615934008504,0.495682642136651,0.137677349608161,0.65379103334076,0.531382410063392,1.77545320640333,1.62191579385404,1.12543436372097,1.73083880656842,1.52723208670903,0.969151728262662,1.59826149383296,1.69285491675899,0.959734804566593,0.905054441467398,0,0,0,0,0,0,5.93559178971489,124.3332398247,208.856208940053,90.5646443213266,7.01297842142247,2.45589917606795,3.16978731406763,1.65913589226858,2.66583616988617,2.24106240225123,2.25238014158854,1.76920205061178,0.981668075322643,1.0885273118474,0.598221594563832,0.607325660476671,0.178736181986497,0,0,0,0,0,0,0.175135871968081,38.5357158894561,277.211778530235,380.783565135203,160.230314092872,22.0908057305567,4.58074974505211,2.63292104914454,1.54403724372835,1.14754996487965,0.631762410966238,0.733979763445392,0.76437522085235,0.69021044809601,0,0,0.16480885951192,0,0,0,0,0,0.336280544308979,1.37102252640949,9.74203543205205,99.6995509751741,363.32069989123,410.928407303656,163.945375934644,28.7252559966912,6.1033665081479,2.25617165117054,2.34722560053569,0.486349338127208,0.31822074015975,0.225780037342788,0.177388804999473,0,0,0,0,0,0,0,0.135714777599476,0.278440755614762,1.19392179111866,7.56955615069483,31.5228477071487,135.143091525518,336.737148508205,332.201494227135,129.763697308937,28.3664373110805,5.99651673585262,0.619875872821461,0.213476834063979,0.668784496332223,0.406019880302281,0,0,0,0,0,0,0,0,0.304602894726824,0.622592885929021,1.76124172595833,3.75941992693538,10.1487082412183,34.5307896375647,112.901854305455,222.360154084732,220.465195096248,85.1758375427509,17.0761224853776,1.63882889287929,1.17262838432232,0.724881650548352,0,0,0,0,0,0,0,0,0.112552771201299,0.255281350233704,0.797714889577799,1.57345056710203,2.80567397356789,5.99156028332643,9.60155643886109,24.054886522886,72.5877755482439,141.634329470486,111.982170347678,41.7465489605983,7.11365875547847,1.44335522906743,0.406876393772026,0.16812416670036,0,0,0,0,0,0,0,0.0931304566588413,0.50796432042138,1.3604093503734,2.15342663272472,2.30579206944494,2.71258515814148,3.33401694637679,5.72237346674335,14.9133324423889,35.2126670323099,51.5119360047514,35.7709401759705,9.68147718650444,0.406046723143794,0,0,0,0,0,0,0,0,0,0.181895975743132,0.432231675681918,1.15902327973122,2.80214431903778,2.78025140366495,2.38842514977087,2.65840230680126,2.97635020387343,1.29200287890794,4.24199219346574,8.7585646216328,16.5615275456237,3.83550715482296,0.540170113537258,0,0,0,0,0,0,0,0,0,0,0.0744135329859744,0.274005929786369,0.273812123264501,0.263833956026398,0.400099587869788,1.04086394942254,0.590599740067188,0.343705495466008,0.667354776559558,0.415014236478289,0.530868491133522,0.312468268428937,0.108126864493684,0,0,0,0,0,0,0,0,0,0,0,0,0,0,0,0,0,0,0,0,0,0,0],\"fOption\":\"\",\"fFunctions\":{\"_typename\":\"TList\",\"name\":\"TList\",\"arr\":[{\"_typename\":\"TPaletteAxis\",\"fUniqueID\":0,\"fBits\":50331648,\"fLineColor\":1,\"fLineStyle\":1,\"fLineWidth\":1,\"fFillColor\":1178,\"fFillStyle\":1001,\"fX1\":0.402500000037253,\"fY1\":0,\"fX2\":0.425000000372529,\"fY2\":0.4,\"fX1NDC\":0.904999994039535,\"fY1NDC\":0.100000005960465,\"fX2NDC\":0.949999994039535,\"fY2NDC\":0.899999994039535,\"fBorderSize\":4,\"fInit\":1,\"fShadowColor\":1,\"fCornerRadius\":0,\"fOption\":\"br\",\"fName\":\"TPave\",\"fAxis\":{\"_typename\":\"TGaxis\",\"fUniqueID\":0,\"fBits\":50331648,\"fLineColor\":1,\"fLineStyle\":1,\"fLineWidth\":1,\"fX1\":0,\"fY1\":0,\"fX2\":0,\"fY2\":0,\"fTextAngle\":0,\"fTextSize\":0.04,\"fTextAlign\":11,\"fTextColor\":1,\"fTextFont\":42,\"fWmin\":0,\"fWmax\":0,\"fGridLength\":0,\"fTickSize\":0.03,\"fLabelOffset\":0.005,\"fLabelSize\":0.035,\"fTitleOffset\":1,\"fTitleSize\":0.035,\"fNdiv\":0,\"fLabelColor\":1,\"fLabelFont\":42,\"fNModLabs\":0,\"fChopt\":\"\",\"fName\":\"\",\"fTitle\":\"\",\"fTimeFormat\":\"\",\"fFunctionName\":\"\",\"fModLabs\":null},\"fName\":\"palette\"}],\"opt\":[\"br\"]},\"fBufferSize\":0,\"fBuffer\":[],\"fBinStatErrOpt\":0,\"fStatOverflows\":2,\"fScalefactor\":1,\"fTsumwy\":1894.9487792467,\"fTsumwy2\":302.409349465379,\"fTsumwxy\":298.948633703811,\"fArray\":[0,0,0,0,0,0,0,0,0,0,0,0,0,0,0,0,0,0,0,0,0,0,0,8.15525019819006,120.481240288633,55.8036281588798,1.43102969387061,0.371048985456316,2.11776556756666,1.4056191869825,4.76370592421586,4.38606530807545,3.33167790727175,5.14960437910839,3.5744229799073,2.98072757254533,4.69020305528923,4.43011769938899,3.06732416131898,2.10517408081887,0,0,0,0,0,0,16.1285030794383,351.965335215772,596.046850157065,259.006890433496,19.830066632737,7.37551867038695,9.22774064421093,4.4025771366836,7.51074477029263,6.28186265026119,6.65697759622106,5.15944046761213,2.93837744101684,2.92237747743017,1.72009072792502,1.72218930227681,0.575900869047114,0,0,0,0,0,0,0.59448230334726,110.122401423123,789.075973073932,1085.93843023406,453.244817174837,63.024700466797,13.0847047740812,7.89259501575081,4.53892348090504,3.65699103414381,1.93595111805905,2.36868019113792,2.31004516811124,1.84707577247557,0,0,0.405966574377645,0,0,0,0,0,1.00391353714949,3.87634751960306,28.4800864785502,280.58899672902,1033.37917125188,1160.30199961726,468.402014948252,82.8357174474641,18.0727045489546,5.97216253918331,6.66828294453261,1.38996984275046,0.777300768038542,0.671913011344941,0.421175503797968,0,0,0,0,0,0,0,0.452124015399521,0.746124262264532,3.4270674557068,21.3539998110379,88.0733339772836,384.159168159569,953.901414823262,945.379298695153,369.477643856501,77.7787108871212,16.8978553533096,1.91655944661245,0.652007184278057,1.97065153141036,1.27122986304482,0,0,0,0,0,0,0,0,0.775580975714453,1.88954501953897,5.28873464223085,11.0681681379889,29.6780121753886,100.231018194756,320.260808092651,639.311908222371,631.491296942321,239.678984278406,49.5513609095097,5.03619782558973,3.20041684391366,1.8651127582527,0,0,0,0,0,0,0,0,0.335488854064183,0.714427668621318,2.33213810533577,4.50244474080308,7.94701664945632,16.85654437721,27.9561257632133,68.2971330863786,205.416903761989,399.32745353076,320.573186294037,120.893112491473,21.197791948028,3.80717220219557,1.10330033163362,0.410029470526644,0,0,0,0,0,0,0,0.305172830800583,1.42447835113186,3.77329994848401,5.95223773073451,6.70357522786389,8.26692341799549,9.20702617924601,16.3739111511709,42.4828833188345,98.5085098501812,147.781305144063,102.32479196987,27.5734950948994,0.895012923587934,0,0,0,0,0,0,0,0,0,0.599287685216545,1.30022130432726,3.37745821640654,8.12029594234282,8.19534215108639,7.1154083607391,7.78945212162829,8.17296581659827,3.89640625257231,12.769614845066,24.2809919797636,47.1557838929463,10.8423639216959,1.72051135303729,0,0,0,0,0,0,0,0,0,0,0.27278843997863,0.736327718274144,0.795310396354362,0.724725340416487,1.09308553378409,2.75133274715262,1.71488480142077,1.00722230531105,1.78189514024588,1.11431590412382,1.61924406277926,1.2347969139361,0.328826496033522,0,0,0,0,0,0,0,0,0,0,0,0,0,0,0,0,0,0,0,0,0,0,0]},{\"_typename\":\"TPaveText\",\"fUniqueID\":0,\"fBits\":50331657,\"fLineColor\":1,\"fLineStyle\":1,\"fLineWidth\":1,\"fFillColor\":0,\"fFillStyle\":0,\"fX1\":0.0315562490574134,\"fY1\":0.405634460649278,\"fX2\":0.368443750942587,\"fY2\":0.447500006072223,\"fX1NDC\":0.163112503134842,\"fY1NDC\":0.911268915170171,\"fX2NDC\":0.836887496865158,\"fY2NDC\":0.995000004768372,\"fBorderSize\":0,\"fInit\":1,\"fShadowColor\":1,\"fCornerRadius\":0,\"fOption\":\"blNDC\",\"fName\":\"title\",\"fTextAngle\":0,\"fTextSize\":0,\"fTextAlign\":22,\"fTextColor\":1,\"fTextFont\":42,\"fLabel\":\"\",\"fLongest\":40,\"fMargin\":0.05,\"fLines\":{\"_typename\":\"TList\",\"name\":\"TList\",\"arr\":[{\"_typename\":\"TLatex\",\"fUniqueID\":0,\"fBits\":50331648,\"fName\":\"\",\"fTitle\":\"Response Matrix #tau_{1}^{(2)} binning 5\",\"fTextAngle\":0,\"fTextSize\":0,\"fTextAlign\":0,\"fTextColor\":0,\"fTextFont\":0,\"fX\":0,\"fY\":0,\"fLineColor\":1,\"fLineStyle\":1,\"fLineWidth\":2,\"fLimitFactorSize\":3,\"fOriginSize\":0.0560433566570282}],\"opt\":[\"\"]}}],\"opt\":[\"\",\"colz\",\"blNDC\"]},\"fExecs\":{\"_typename\":\"TList\",\"name\":\"TList\",\"arr\":[],\"opt\":[]},\"fName\":\"c6_5\",\"fTitle\":\"c6_5\",\"fNumPaletteColor\":0,\"fNextPaletteColor\":0},{\"_typename\":\"TPad\",\"fUniqueID\":0,\"fBits\":50331657,\"fLineColor\":1,\"fLineStyle\":1,\"fLineWidth\":1,\"fFillColor\":0,\"fFillStyle\":1001,\"fLeftMargin\":0.1,\"fRightMargin\":0.1,\"fBottomMargin\":0.1,\"fTopMargin\":0.1,\"fXfile\":2,\"fYfile\":2,\"fAfile\":1,\"fXstat\":0.99,\"fYstat\":0.99,\"fAstat\":2,\"fFrameFillColor\":0,\"fFrameLineColor\":1,\"fFrameFillStyle\":1001,\"fFrameLineStyle\":1,\"fFrameLineWidth\":1,\"fFrameBorderSize\":1,\"fFrameBorderMode\":0,\"fX1\":-0.0500000037252905,\"fY1\":-0.0500000037252905,\"fX2\":0.450000003725291,\"fY2\":0.450000003725291,\"fXtoAbsPixelk\":846.768052019803,\"fXtoPixelk\":37.4747189537963,\"fXtoPixel\":749.493323234319,\"fYtoAbsPixelk\":657.850714890051,\"fYtoPixelk\":296.664048458524,\"fYtoPixel\":-659.253324450254,\"fUtoAbsPixelk\":809.293383066006,\"fUtoPixelk\":5e-5,\"fUtoPixel\":374.74666720132,\"fVtoAbsPixelk\":690.813383568473,\"fVtoPixelk\":329.626667136947,\"fVtoPixel\":-329.626667136947,\"fAbsPixeltoXk\":-1.12978725196071,\"fPixeltoXk\":-0.0500000037252905,\"fPixeltoX\":0.00133423470096392,\"fAbsPixeltoYk\":0.997872351176427,\"fPixeltoYk\":-0.0500000037252905,\"fPixeltoY\":-0.00151686758778788,\"fXlowNDC\":0.676666666443149,\"fYlowNDC\":0.343333333109816,\"fXUpNDC\":0,\"fYUpNDC\":0,\"fWNDC\":0.313333333780368,\"fHNDC\":0.313333333780368,\"fAbsXlowNDC\":0.676666666443149,\"fAbsYlowNDC\":0.343333333109816,\"fAbsWNDC\":0.313333333780368,\"fAbsHNDC\":0.313333333780368,\"fUxmin\":0,\"fUymin\":0,\"fUxmax\":0.4,\"fUymax\":0.4,\"fTheta\":30,\"fPhi\":30,\"fAspectRatio\":0,\"fNumber\":6,\"fTickx\":0,\"fTicky\":0,\"fLogx\":0,\"fLogy\":0,\"fLogz\":0,\"fPadPaint\":0,\"fCrosshair\":0,\"fCrosshairPos\":0,\"fBorderSize\":2,\"fBorderMode\":0,\"fModified\":false,\"fGridx\":false,\"fGridy\":false,\"fAbsCoord\":false,\"fEditable\":true,\"fFixedAspectRatio\":false,\"fPrimitives\":{\"_typename\":\"TList\",\"name\":\"TList\",\"arr\":[{\"_typename\":\"TFrame\",\"fUniqueID\":0,\"fBits\":50331656,\"fLineColor\":1,\"fLineStyle\":1,\"fLineWidth\":1,\"fFillColor\":0,\"fFillStyle\":1001,\"fX1\":0,\"fY1\":0,\"fX2\":0.4,\"fY2\":0.4,\"fBorderSize\":1,\"fBorderMode\":0},{\"_typename\":\"TH2D\",\"fUniqueID\":0,\"fBits\":50332168,\"fName\":\"response\",\"fTitle\":\"Response Matrix #tau_{1}^{(2)} binning 6\",\"fLineColor\":602,\"fLineStyle\":1,\"fLineWidth\":1,\"fFillColor\":0,\"fFillStyle\":1001,\"fMarkerColor\":1,\"fMarkerStyle\":1,\"fMarkerSize\":1,\"fNcells\":364,\"fXaxis\":{\"_typename\":\"TAxis\",\"fUniqueID\":0,\"fBits\":50331648,\"fName\":\"xaxis\",\"fTitle\":\"#tau_{1}^{(2)}(det_sig)\",\"fNdivisions\":510,\"fAxisColor\":1,\"fLabelColor\":1,\"fLabelFont\":42,\"fLabelOffset\":0.005,\"fLabelSize\":0.035,\"fTickLength\":0.03,\"fTitleOffset\":1,\"fTitleSize\":0.035,\"fTitleColor\":1,\"fTitleFont\":42,\"fNbins\":24,\"fXmin\":0,\"fXmax\":0.4,\"fXbins\":[0,0.0135,0.027,0.0405,0.054,0.0675,0.081,0.0945,0.108,0.1215,0.135,0.1485,0.162,0.1755,0.189,0.2025,0.216,0.2295,0.243,0.2565,0.27,0.3,0.33,0.365,0.4],\"fFirst\":0,\"fLast\":0,\"fBits2\":0,\"fTimeDisplay\":false,\"fTimeFormat\":\"\",\"fLabels\":null,\"fModLabs\":null},\"fYaxis\":{\"_typename\":\"TAxis\",\"fUniqueID\":0,\"fBits\":50331648,\"fName\":\"yaxis\",\"fTitle\":\"#tau_{1}^{(2)}(gen_sig)\",\"fNdivisions\":510,\"fAxisColor\":1,\"fLabelColor\":1,\"fLabelFont\":42,\"fLabelOffset\":0.005,\"fLabelSize\":0.035,\"fTickLength\":0.03,\"fTitleOffset\":0,\"fTitleSize\":0.035,\"fTitleColor\":1,\"fTitleFont\":42,\"fNbins\":12,\"fXmin\":0,\"fXmax\":0.4,\"fXbins\":[0,0.027,0.054,0.081,0.108,0.135,0.162,0.189,0.216,0.243,0.27,0.33,0.4],\"fFirst\":0,\"fLast\":0,\"fBits2\":0,\"fTimeDisplay\":false,\"fTimeFormat\":\"\",\"fLabels\":null,\"fModLabs\":null},\"fZaxis\":{\"_typename\":\"TAxis\",\"fUniqueID\":0,\"fBits\":50331648,\"fName\":\"zaxis\",\"fTitle\":\"\",\"fNdivisions\":510,\"fAxisColor\":1,\"fLabelColor\":1,\"fLabelFont\":42,\"fLabelOffset\":0.005,\"fLabelSize\":0.035,\"fTickLength\":0.03,\"fTitleOffset\":1,\"fTitleSize\":0.035,\"fTitleColor\":1,\"fTitleFont\":42,\"fNbins\":1,\"fXmin\":0,\"fXmax\":1,\"fXbins\":[],\"fFirst\":0,\"fLast\":0,\"fBits2\":0,\"fTimeDisplay\":false,\"fTimeFormat\":\"\",\"fLabels\":null,\"fModLabs\":null},\"fBarOffset\":0,\"fBarWidth\":1000,\"fEntries\":43107,\"fTsumw\":13901.1376293109,\"fTsumw2\":4887.05421222413,\"fTsumwx\":1913.6301788747,\"fTsumwx2\":303.310865733678,\"fMaximum\":-1111,\"fMinimum\":-1111,\"fNormFactor\":0,\"fContour\":[0,42.9374454804008,85.8748909608017,128.812336441202,171.749781921603,214.687227402004,257.624672882405,300.562118362806,343.499563843207,386.437009323607,429.374454804008,472.311900284409,515.24934576481,558.186791245211,601.124236725612,644.061682206012,686.999127686413,729.936573166814,772.874018647215,815.811464127616],\"fSumw2\":[0,0,0,0,0,0,0,0,0,0,0,0,0,0,0,0,0,0,0,0,0,0,0,0,0,0,0,1.06197171136694,15.5206980897152,13.7598559454105,0.690686672526183,5.965571625603e-4,0,0.206957847135349,0.357177722761047,0.685773631305946,0.883231666062135,0.863610616607826,0.691092306454729,0.658074899069737,0.522752961099874,1.1001138261936,0.440859274470406,0.738911495285219,1.15058045182924,1.24183543176534,0.362111591350976,0.905054441467398,0,0,0,0,0,0,3.23063992455302,60.0302179720578,119.57523621982,52.905979300359,7.08829733957527,1.74930172808906,0.689743707675188,1.45948145251741,2.19882939462613,0.530323251786602,1.46369340404552,2.29737690042772,1.85341845550388,1.10761411413774,1.62850002604092,0.744319495150269,1.06316814424798,0.605338816440842,0.368523871662139,0.115930749583844,0.0431069443598478,0,0,0,0,0,0,0.429470440914798,21.6911080523705,150.230979592427,227.673977479355,106.410183125113,19.5595264387977,4.76677395501047,2.11060581949324,1.40437166098709,1.70337690536369,1.34395456913788,1.54103688747106,1.1515856334635,1.06385012593321,0.110441000885453,0.489667219769469,0.448827727594047,0.547406816405482,0.491394910892827,0.135629237626649,0,0,0,0,0,0,0,0.416776316713512,5.47636102488521,55.7114190989059,237.783180273909,303.488546280428,146.63536865398,35.5005073453348,8.73942538303363,1.75356228660705,1.68904710502065,0.852102352609745,0.435097200574895,0.48693504028395,0.744255298548673,0.339320241523334,0.438686871942582,0.29594148771325,0,0,0.16480885951192,0,0,0,0,0,0,0.234065401019591,0.517544399411113,2.82307355636017,22.5553833754958,88.987678203348,261.808278926242,299.175473301764,141.313039740332,39.1812504834755,8.69174149822561,3.29601260032205,1.5755887083537,1.66092732955822,0.316566518891312,0.2235218437203,0.228899899034195,0.116129515245471,0.177388804999473,0,0,0,0,0,0,0,0,0.126377952883809,0.278440755614762,0.802421881396683,2.48891102239907,12.7003492531445,36.3665980629424,113.168374678161,240.453274352698,256.843427423071,120.242903705854,37.2462869814137,8.63070302323284,2.91411818046897,0.59126790121438,0.329407583647822,0.214992286562607,0.453792209769616,0.220469370922918,0,0,0,0,0,0,0,0,0.00933682471566692,0,0.171983288628768,1.15864422543357,1.82164633817853,5.96124147932409,13.3599915670811,35.7937794900287,93.8724183973008,181.404892930211,174.871622323833,88.9426509880212,24.3873957554171,6.46055914869237,1.15912284434356,0.575433477947026,0.360634978371733,0.560717658071442,0,0,0,0,0,0,0,0,0,0.417155665928123,0.289621917030857,0.67765118369157,1.19242716755068,1.59814520747118,2.34295055118855,7.75975203676352,15.4286790580294,31.9614748965224,68.9414221411657,133.866181419603,118.506835386182,57.0850931588787,13.9663873517865,3.14249563865749,1.09275821571723,0.77813152899077,0.115930749583844,0,0,0,0,0,0,0,0,0,0,0.0931304566588413,1.12170125968212,1.59650811764021,1.68449680960785,2.43737836792785,2.57310327311813,4.19470288692051,7.99574269852456,19.7344690832303,49.6158286094228,76.9835341500382,68.608637607143,26.2217558148317,7.62139042501706,1.70679198438423,0.290945644188182,0.16812416670036,0,0,0,0,0,0,0,0,0,0.113748393567943,0.483602073945656,0.70537399966144,1.36891256079392,1.47204335309409,1.26692021050997,1.90628256478973,2.76959779207363,3.02760751544446,4.86689284988695,11.9482442289904,22.9796763254284,30.4582153230798,21.9031849825654,8.98962340405314,0.406046723143794,0,0,0,0,0,0,0,0,0,0,0.111372671043643,0.333765495045679,0.452480586736129,0.875532178330814,2.52087412599337,2.18323101191868,2.02086078294886,2.04235797148365,1.8618992869303,2.319064642116,1.5050597051549,1.43247923930746,4.95389020376176,7.05841610753979,16.5615275456237,3.83550715482296,0.540170113537258,0,0,0,0,0,0,0,0,0,0,0,0,0.0744135329859744,0.274005929786369,0.143323900765873,0.280308604637537,0.265238289260437,0.248874872496839,0.667405866480266,0.716045695198164,0.51025886702761,0.567318311899724,0.181495220909533,0.415014236478289,0.530868491133522,0.312468268428937,0.108126864493684,0,0,0,0,0,0,0,0,0,0,0,0,0,0,0,0,0,0,0,0,0,0,0,0,0,0,0],\"fOption\":\"\",\"fFunctions\":{\"_typename\":\"TList\",\"name\":\"TList\",\"arr\":[{\"_typename\":\"TPaletteAxis\",\"fUniqueID\":0,\"fBits\":50331648,\"fLineColor\":1,\"fLineStyle\":1,\"fLineWidth\":1,\"fFillColor\":1178,\"fFillStyle\":1001,\"fX1\":0.402500000037253,\"fY1\":0,\"fX2\":0.425000000372529,\"fY2\":0.4,\"fX1NDC\":0.904999994039535,\"fY1NDC\":0.100000005960465,\"fX2NDC\":0.949999994039535,\"fY2NDC\":0.899999994039535,\"fBorderSize\":4,\"fInit\":1,\"fShadowColor\":1,\"fCornerRadius\":0,\"fOption\":\"br\",\"fName\":\"TPave\",\"fAxis\":{\"_typename\":\"TGaxis\",\"fUniqueID\":0,\"fBits\":50331648,\"fLineColor\":1,\"fLineStyle\":1,\"fLineWidth\":1,\"fX1\":0,\"fY1\":0,\"fX2\":0,\"fY2\":0,\"fTextAngle\":0,\"fTextSize\":0.04,\"fTextAlign\":11,\"fTextColor\":1,\"fTextFont\":42,\"fWmin\":0,\"fWmax\":0,\"fGridLength\":0,\"fTickSize\":0.03,\"fLabelOffset\":0.005,\"fLabelSize\":0.035,\"fTitleOffset\":1,\"fTitleSize\":0.035,\"fNdiv\":0,\"fLabelColor\":1,\"fLabelFont\":42,\"fNModLabs\":0,\"fChopt\":\"\",\"fName\":\"\",\"fTitle\":\"\",\"fTimeFormat\":\"\",\"fFunctionName\":\"\",\"fModLabs\":null},\"fName\":\"palette\"}],\"opt\":[\"br\"]},\"fBufferSize\":0,\"fBuffer\":[],\"fBinStatErrOpt\":0,\"fStatOverflows\":2,\"fScalefactor\":1,\"fTsumwy\":1894.9487792467,\"fTsumwy2\":302.409349465379,\"fTsumwxy\":298.948633703811,\"fArray\":[0,0,0,0,0,0,0,0,0,0,0,0,0,0,0,0,0,0,0,0,0,0,0,0,0,0,0,2.6621111049615,44.0924066885038,38.4432155369656,1.85423013037694,0.024424519699685,0,0.642383220968006,1.17804012305793,1.80821042284183,2.48176057829577,2.45115143351651,1.84510556333963,2.05025420604139,1.60899101937779,2.92088012705415,1.35160424537354,2.27284246521982,3.19465173940047,3.09238707067137,1.3461137726606,2.10517408081887,0,0,0,0,0,0,8.65887343367365,168.111771524082,339.816666426184,151.673094854792,20.8053899596836,4.70381161129173,2.17166905420093,4.04726384637581,6.39868159667216,1.44818913762058,3.95050899980433,6.61932078048022,4.80854894724652,3.23617163421366,4.74445277634833,2.26126378185134,2.87976322470697,1.73543720853477,1.04318449991951,0.340486049029683,0.207622119148822,0,0,0,0,0,0,1.12791994775786,62.0651534051536,427.707353823108,648.487146725252,305.993364405527,55.6471462568487,13.5107687545988,6.23904271411828,3.7173830849336,4.88244788269334,3.80808618132891,4.52328427971612,3.62009376808085,3.27893548431868,0.453411743000751,1.3965179122217,1.33887250467376,1.65067045609178,1.38170325324712,0.368278749898292,0,0,0,0,0,0,0,1.29128451573514,15.9599892985763,156.72271937987,678.624216475086,858.748909608017,416.136186463997,100.166374297122,25.0919031345241,5.29099524744207,4.9516203847942,2.5679647859722,1.30856888256791,1.39380429772591,2.11022138853556,1.15966797790928,1.31347867023993,0.762749573561134,0,0,0.405966574377645,0,0,0,0,0,0,0.68403721668117,1.43644914882178,8.3924220851444,63.1718437878726,253.532069821661,742.718712625618,845.804397257261,402.853882967173,112.868965869149,25.9248230330094,9.25360975178126,4.1469954146945,4.64347141993776,0.969962078735171,0.665200475096043,0.478434843039462,0.340777809203403,0.421175503797968,0,0,0,0,0,0,0,0,0.355496769160859,0.746124262264532,2.1843658428153,6.77681202678422,35.3876648882461,102.101999735868,322.978903961094,682.28896086528,728.885916298961,340.873198327898,105.307541581199,23.6838808962448,8.51291945731544,1.51723687284629,0.99249323330774,0.650002056816444,1.32064947459391,0.663794613220543,0,0,0,0,0,0,0,0,0.0966272462386615,0,0.57548727828894,3.39699374237329,5.20650965123014,16.9387363424521,38.4405063998709,102.913999801172,267.999424286588,518.548448834003,502.139958937691,255.8318505599,69.1463235281277,18.7351809682897,3.38267318768321,1.68452828923881,1.02825443945173,1.64593200361559,0,0,0,0,0,0,0,0,0,1.11106982977864,0.917079351967585,1.83433017945049,3.5856851072065,4.53089840848905,7.02956856429916,22.9555015171639,43.3041797201154,91.9583888602025,195.509678562834,379.95952773942,335.645107193151,163.695525100288,40.6660829629934,9.3807048877881,3.12262840399976,2.13127266469427,0.340486049029683,0,0,0,0,0,0,0,0,0,0,0.305172830800583,3.31968099314887,4.51693503949166,4.34853611782917,6.53449766029712,7.86274466260936,11.8242872641794,23.4840574183742,55.3789019938061,137.466605456949,218.870457353631,195.052491289332,75.5622082353311,21.8371935811126,4.94431137659052,0.762814282603936,0.410029470526644,0,0,0,0,0,0,0,0,0,0.337266057539063,1.50849757901311,1.68196004089134,3.98565526496304,4.2802623871373,3.97750668576427,5.0509726958054,7.94107079845457,8.41548432410338,14.5633817991925,33.4889285226926,65.7621122573389,85.7834018976649,64.1259774711413,25.1316992602716,0.895012923587934,0,0,0,0,0,0,0,0,0,0,0.333725442607607,0.990253542938063,1.32228065739941,2.63070756300526,7.23474873199374,6.32565391352636,6.30667752761303,5.97181146606007,5.3816069366034,6.24851633430008,4.49940414655224,4.32045830582958,14.1907124866531,19.8608876206651,47.1557838929463,10.8423639216959,1.72051135303729,0,0,0,0,0,0,0,0,0,0,0,0,0.27278843997863,0.736327718274144,0.434078860495949,0.748297915357989,0.726535182063112,0.704209312637889,1.8088785574666,1.9532964880454,1.42585500431921,1.49165607174781,0.575648872551297,1.11431590412382,1.61924406277926,1.2347969139361,0.328826496033522,0,0,0,0,0,0,0,0,0,0,0,0,0,0,0,0,0,0,0,0,0,0,0,0,0,0,0]},{\"_typename\":\"TPaveText\",\"fUniqueID\":0,\"fBits\":50331657,\"fLineColor\":1,\"fLineStyle\":1,\"fLineWidth\":1,\"fFillColor\":0,\"fFillStyle\":0,\"fX1\":0.0315562490574134,\"fY1\":0.405634460649278,\"fX2\":0.368443750942587,\"fY2\":0.447500006072223,\"fX1NDC\":0.163112503134842,\"fY1NDC\":0.911268915170171,\"fX2NDC\":0.836887496865158,\"fY2NDC\":0.995000004768372,\"fBorderSize\":0,\"fInit\":1,\"fShadowColor\":1,\"fCornerRadius\":0,\"fOption\":\"blNDC\",\"fName\":\"title\",\"fTextAngle\":0,\"fTextSize\":0,\"fTextAlign\":22,\"fTextColor\":1,\"fTextFont\":42,\"fLabel\":\"\",\"fLongest\":40,\"fMargin\":0.05,\"fLines\":{\"_typename\":\"TList\",\"name\":\"TList\",\"arr\":[{\"_typename\":\"TLatex\",\"fUniqueID\":0,\"fBits\":50331648,\"fName\":\"\",\"fTitle\":\"Response Matrix #tau_{1}^{(2)} binning 6\",\"fTextAngle\":0,\"fTextSize\":0,\"fTextAlign\":0,\"fTextColor\":0,\"fTextFont\":0,\"fX\":0,\"fY\":0,\"fLineColor\":1,\"fLineStyle\":1,\"fLineWidth\":2,\"fLimitFactorSize\":3,\"fOriginSize\":0.0560433566570282}],\"opt\":[\"\"]}}],\"opt\":[\"\",\"colz\",\"blNDC\"]},\"fExecs\":{\"_typename\":\"TList\",\"name\":\"TList\",\"arr\":[],\"opt\":[]},\"fName\":\"c6_6\",\"fTitle\":\"c6_6\",\"fNumPaletteColor\":0,\"fNextPaletteColor\":0},{\"_typename\":\"TPad\",\"fUniqueID\":0,\"fBits\":50331657,\"fLineColor\":1,\"fLineStyle\":1,\"fLineWidth\":1,\"fFillColor\":0,\"fFillStyle\":1001,\"fLeftMargin\":0.1,\"fRightMargin\":0.1,\"fBottomMargin\":0.1,\"fTopMargin\":0.1,\"fXfile\":2,\"fYfile\":2,\"fAfile\":1,\"fXstat\":0.99,\"fYstat\":0.99,\"fAstat\":2,\"fFrameFillColor\":0,\"fFrameLineColor\":1,\"fFrameFillStyle\":1001,\"fFrameLineStyle\":1,\"fFrameLineWidth\":1,\"fFrameBorderSize\":1,\"fFrameBorderMode\":0,\"fX1\":-0.0500000037252905,\"fY1\":-0.0500000037252905,\"fX2\":0.450000003725291,\"fY2\":0.450000003725291,\"fXtoAbsPixelk\":49.4347186864695,\"fXtoPixelk\":37.4747189537963,\"fXtoPixel\":749.493323234319,\"fYtoAbsPixelk\":1008.51738155672,\"fYtoPixelk\":296.664048458524,\"fYtoPixel\":-659.253324450254,\"fUtoAbsPixelk\":11.9600497326732,\"fUtoPixelk\":5e-5,\"fUtoPixel\":374.74666720132,\"fVtoAbsPixelk\":1041.48005023514,\"fVtoPixelk\":329.626667136947,\"fVtoPixel\":-329.626667136947,\"fAbsPixeltoXk\":-0.0659574503921423,\"fPixeltoXk\":-0.0500000037252905,\"fPixeltoX\":0.00133423470096392,\"fAbsPixeltoYk\":1.52978725196071,\"fPixeltoYk\":-0.0500000037252905,\"fPixeltoY\":-0.00151686758778788,\"fXlowNDC\":0.00999999977648258,\"fYlowNDC\":0.00999999977648264,\"fXUpNDC\":0,\"fYUpNDC\":0,\"fWNDC\":0.313333333780368,\"fHNDC\":0.313333333780368,\"fAbsXlowNDC\":0.00999999977648258,\"fAbsYlowNDC\":0.00999999977648264,\"fAbsWNDC\":0.313333333780368,\"fAbsHNDC\":0.313333333780368,\"fUxmin\":0,\"fUymin\":0,\"fUxmax\":0.4,\"fUymax\":0.4,\"fTheta\":30,\"fPhi\":30,\"fAspectRatio\":0,\"fNumber\":7,\"fTickx\":0,\"fTicky\":0,\"fLogx\":0,\"fLogy\":0,\"fLogz\":0,\"fPadPaint\":0,\"fCrosshair\":0,\"fCrosshairPos\":0,\"fBorderSize\":2,\"fBorderMode\":0,\"fModified\":false,\"fGridx\":false,\"fGridy\":false,\"fAbsCoord\":false,\"fEditable\":true,\"fFixedAspectRatio\":false,\"fPrimitives\":{\"_typename\":\"TList\",\"name\":\"TList\",\"arr\":[{\"_typename\":\"TFrame\",\"fUniqueID\":0,\"fBits\":50331656,\"fLineColor\":1,\"fLineStyle\":1,\"fLineWidth\":1,\"fFillColor\":0,\"fFillStyle\":1001,\"fX1\":0,\"fY1\":0,\"fX2\":0.4,\"fY2\":0.4,\"fBorderSize\":1,\"fBorderMode\":0},{\"_typename\":\"TH2D\",\"fUniqueID\":0,\"fBits\":50332168,\"fName\":\"response\",\"fTitle\":\"Response Matrix #tau_{1}^{(2)} binning 7\",\"fLineColor\":602,\"fLineStyle\":1,\"fLineWidth\":1,\"fFillColor\":0,\"fFillStyle\":1001,\"fMarkerColor\":1,\"fMarkerStyle\":1,\"fMarkerSize\":1,\"fNcells\":220,\"fXaxis\":{\"_typename\":\"TAxis\",\"fUniqueID\":0,\"fBits\":50331648,\"fName\":\"xaxis\",\"fTitle\":\"#tau_{1}^{(2)}(det_sig)\",\"fNdivisions\":510,\"fAxisColor\":1,\"fLabelColor\":1,\"fLabelFont\":42,\"fLabelOffset\":0.005,\"fLabelSize\":0.035,\"fTickLength\":0.03,\"fTitleOffset\":1,\"fTitleSize\":0.035,\"fTitleColor\":1,\"fTitleFont\":42,\"fNbins\":18,\"fXmin\":0,\"fXmax\":0.4,\"fXbins\":[0,0.025,0.05,0.0675,0.085,0.1025,0.12,0.1375,0.155,0.1725,0.19,0.2075,0.225,0.2425,0.26,0.295,0.33,0.365,0.4],\"fFirst\":0,\"fLast\":0,\"fBits2\":0,\"fTimeDisplay\":false,\"fTimeFormat\":\"\",\"fLabels\":null,\"fModLabs\":null},\"fYaxis\":{\"_typename\":\"TAxis\",\"fUniqueID\":0,\"fBits\":50331648,\"fName\":\"yaxis\",\"fTitle\":\"#tau_{1}^{(2)}(gen_sig)\",\"fNdivisions\":510,\"fAxisColor\":1,\"fLabelColor\":1,\"fLabelFont\":42,\"fLabelOffset\":0.005,\"fLabelSize\":0.035,\"fTickLength\":0.03,\"fTitleOffset\":0,\"fTitleSize\":0.035,\"fTitleColor\":1,\"fTitleFont\":42,\"fNbins\":9,\"fXmin\":0,\"fXmax\":0.4,\"fXbins\":[0,0.05,0.085,0.12,0.155,0.19,0.225,0.26,0.33,0.4],\"fFirst\":0,\"fLast\":0,\"fBits2\":0,\"fTimeDisplay\":false,\"fTimeFormat\":\"\",\"fLabels\":null,\"fModLabs\":null},\"fZaxis\":{\"_typename\":\"TAxis\",\"fUniqueID\":0,\"fBits\":50331648,\"fName\":\"zaxis\",\"fTitle\":\"\",\"fNdivisions\":510,\"fAxisColor\":1,\"fLabelColor\":1,\"fLabelFont\":42,\"fLabelOffset\":0.005,\"fLabelSize\":0.035,\"fTickLength\":0.03,\"fTitleOffset\":1,\"fTitleSize\":0.035,\"fTitleColor\":1,\"fTitleFont\":42,\"fNbins\":1,\"fXmin\":0,\"fXmax\":1,\"fXbins\":[],\"fFirst\":0,\"fLast\":0,\"fBits2\":0,\"fTimeDisplay\":false,\"fTimeFormat\":\"\",\"fLabels\":null,\"fModLabs\":null},\"fBarOffset\":0,\"fBarWidth\":1000,\"fEntries\":43107,\"fTsumw\":13901.1376293109,\"fTsumw2\":4887.05421222413,\"fTsumwx\":1913.6301788747,\"fTsumwx2\":303.310865733678,\"fMaximum\":-1111,\"fMinimum\":-1111,\"fNormFactor\":0,\"fContour\":[0,62.0352707188677,124.070541437735,186.105812156603,248.141082875471,310.176353594338,372.211624313206,434.246895032074,496.282165750941,558.317436469809,620.352707188677,682.387977907544,744.423248626412,806.45851934528,868.493790064147,930.529060783015,992.564331501883,1054.59960222075,1116.63487293962,1178.67014365849],\"fSumw2\":[0,0,0,0,0,0,0,0,0,0,0,0,0,0,0,0,0,0,0,0,0,15.5483326943326,154.76417974745,48.8257390831081,2.9132925609069,1.21127757795568,1.94737607477683,3.50567685732303,2.00716891315004,2.16364052870318,3.38709162877284,2.41639610583184,2.0863145302459,2.41130171842334,2.10295038838228,1.18579549934869,0.235391893330923,0,0,0,0,0,17.6874669136465,204.546428313957,321.33214252311,122.095946064193,15.9662033489923,4.3034965341124,2.72568262386976,2.86897558543332,1.97977529876784,1.64516674052418,1.20544933496528,0.71134738732308,0.667773491104566,1.04358610128108,0.135629237626649,0,0,0,0,0,0.214130255189048,4.07399550113028,66.9414575723099,365.160649190533,437.191486154328,174.210978624946,25.2592820240486,5.87771087214784,1.99970280980648,1.4742733435875,1.40424700396361,0.59949306826722,0.548337394039899,0.363679770615406,0,0.16480885951192,0,0,0,0,0.126377952883809,0.246128994660025,2.75534650693587,23.7838184352559,124.090666126546,383.27681242693,399.59612851397,151.319843513154,28.7377566794729,5.70912761958554,1.85826290330337,0.419935277864206,0.615671355443769,0.207165959432611,0,0,0,0,0,0,0.00933682471566692,0.144226872854398,0.52674642377183,3.20113963060142,8.93769641697851,33.9711140219578,126.688545065989,285.72525842632,265.947860519656,104.852069584307,17.8471000637984,2.48534350043373,0.979263216273171,0.928968864775457,0,0,0,0,0,0,0,0.417155665928123,0.421721427545274,1.386572538689,2.06179376747554,4.81112405616593,10.9180828798091,31.4609085159322,84.7685682307296,189.630045961964,159.546891403748,49.2101947782014,8.61095452984724,2.64382499093452,0.115930749583844,0,0,0,0,0,0,0,0.0931304566588413,0.749092659813496,1.70291475519988,2.15661258559129,3.53058140111164,4.26702048531912,6.65645981226785,16.2212358784685,49.9612279528516,89.6421144539099,57.5676054745288,17.8493610136012,0.697773862023701,0.16812416670036,0,0,0,0,0,0,0,0.419431870032922,0.948841475206395,1.97938437438838,3.56851602545161,3.18716060990121,3.93708403994399,3.81445426998474,4.66126174009863,4.61054746851178,14.647858879598,29.9424312722111,6.13593923541884,0.540170113537258,0,0,0,0,0,0,0,0,0,0.348419462772343,9.71596047315409e-5,0.273714963659769,0.415058671399346,0.711387367076139,0.783902639521459,0.64729529460528,0.709245944992495,0.295670020685462,0.689780294743112,0.312468268428937,0.108126864493684,0,0,0,0,0,0,0,0,0,0,0,0,0,0,0,0,0,0,0,0,0],\"fOption\":\"\",\"fFunctions\":{\"_typename\":\"TList\",\"name\":\"TList\",\"arr\":[{\"_typename\":\"TPaletteAxis\",\"fUniqueID\":0,\"fBits\":50331648,\"fLineColor\":1,\"fLineStyle\":1,\"fLineWidth\":1,\"fFillColor\":1178,\"fFillStyle\":1001,\"fX1\":0.402500000037253,\"fY1\":0,\"fX2\":0.425000000372529,\"fY2\":0.4,\"fX1NDC\":0.904999994039535,\"fY1NDC\":0.100000005960465,\"fX2NDC\":0.949999994039535,\"fY2NDC\":0.899999994039535,\"fBorderSize\":4,\"fInit\":1,\"fShadowColor\":1,\"fCornerRadius\":0,\"fOption\":\"br\",\"fName\":\"TPave\",\"fAxis\":{\"_typename\":\"TGaxis\",\"fUniqueID\":0,\"fBits\":50331648,\"fLineColor\":1,\"fLineStyle\":1,\"fLineWidth\":1,\"fX1\":0,\"fY1\":0,\"fX2\":0,\"fY2\":0,\"fTextAngle\":0,\"fTextSize\":0.04,\"fTextAlign\":11,\"fTextColor\":1,\"fTextFont\":42,\"fWmin\":0,\"fWmax\":0,\"fGridLength\":0,\"fTickSize\":0.03,\"fLabelOffset\":0.005,\"fLabelSize\":0.035,\"fTitleOffset\":1,\"fTitleSize\":0.035,\"fNdiv\":0,\"fLabelColor\":1,\"fLabelFont\":42,\"fNModLabs\":0,\"fChopt\":\"\",\"fName\":\"\",\"fTitle\":\"\",\"fTimeFormat\":\"\",\"fFunctionName\":\"\",\"fModLabs\":null},\"fName\":\"palette\"}],\"opt\":[\"br\"]},\"fBufferSize\":0,\"fBuffer\":[],\"fBinStatErrOpt\":0,\"fStatOverflows\":2,\"fScalefactor\":1,\"fTsumwy\":1894.9487792467,\"fTsumwy2\":302.409349465379,\"fTsumwxy\":298.948633703811,\"fArray\":[0,0,0,0,0,0,0,0,0,0,0,0,0,0,0,0,0,0,0,0,0,43.6561200382158,435.496196095179,138.868147672598,8.34273993102745,3.74115085088224,5.42055738856708,9.97955839212503,5.6383905764314,6.44737422387934,9.2529567456921,6.79863938708675,6.29314286116703,6.69730032670244,5.59866716940169,3.28244474166764,0.646125196642099,0,0,0,0,0,51.1133221088148,583.753991523054,918.247909982883,348.53877052619,46.0946734300881,12.2724354530172,7.35854663779934,8.17180971461074,5.93392452937424,5.36791491366891,3.57834620167391,2.05861550187979,2.0005213257761,3.03941688443342,0.368278749898292,0,0,0,0,0,0.654413481183928,11.7322534953113,189.426329485454,1037.44037311737,1240.70541437735,494.460996948782,73.6904019310499,16.9217085757283,6.18893947798731,4.26938106215775,3.91613753345699,1.88253696260507,1.64461387238147,0.852789875217564,0,0.405966574377645,0,0,0,0,0.355496769160859,0.700889290176273,8.02294564483912,65.6747165217714,351.840572946002,1085.09241092879,1134.4657064832,430.324917032706,80.5540437478323,16.0187120740389,5.20434135225647,1.29337143826181,1.70511649922101,0.643681899958628,0,0,0,0,0,0,0.0966272462386615,0.379772132803867,1.58913296266127,9.30421664079922,24.9211047473551,95.5781064802711,360.657642396874,815.074239110534,762.759711906654,299.487198686956,51.4366784699282,7.13995772119484,2.76731633744921,2.69625879255105,0,0,0,0,0,0,0,1.11106982977864,1.28053431549734,4.17636311009711,5.892670057246,13.6258888892047,31.9468359535309,89.9671881476865,241.748811969486,537.70156495132,450.361710053075,142.175512216918,25.7101642064144,7.44298923736689,0.340486049029683,0,0,0,0,0,0,0,0.305172830800583,2.11895894600747,4.80269826225611,6.20170939037793,9.90041340921833,11.9737293591667,18.7460618146207,46.7858942878974,140.375339202976,254.940700312019,163.339798996295,51.7091686938575,1.68578243274659,0.410029470526644,0,0,0,0,0,0,0,1.28668639582692,2.52979562960479,5.75822924844436,10.4184858257716,9.57811902399069,11.1810889522869,11.0465807607463,12.9468068460921,13.5699410254662,41.6364039022085,86.4059018703105,17.0719441703889,1.72051135303729,0,0,0,0,0,0,0,0,0,1.00911615825277,0.00985695717407461,0.785453439180287,1.11360156156269,2.06043637955026,2.03576366291666,1.79603932000219,1.86838891222336,0.914594502420968,2.01788149655786,1.2347969139361,0.328826496033522,0,0,0,0,0,0,0,0,0,0,0,0,0,0,0,0,0,0,0,0,0]},{\"_typename\":\"TPaveText\",\"fUniqueID\":0,\"fBits\":50331657,\"fLineColor\":1,\"fLineStyle\":1,\"fLineWidth\":1,\"fFillColor\":0,\"fFillStyle\":0,\"fX1\":0.0315562490574134,\"fY1\":0.405634460649278,\"fX2\":0.368443750942587,\"fY2\":0.447500006072223,\"fX1NDC\":0.163112503134842,\"fY1NDC\":0.911268915170171,\"fX2NDC\":0.836887496865158,\"fY2NDC\":0.995000004768372,\"fBorderSize\":0,\"fInit\":1,\"fShadowColor\":1,\"fCornerRadius\":0,\"fOption\":\"blNDC\",\"fName\":\"title\",\"fTextAngle\":0,\"fTextSize\":0,\"fTextAlign\":22,\"fTextColor\":1,\"fTextFont\":42,\"fLabel\":\"\",\"fLongest\":40,\"fMargin\":0.05,\"fLines\":{\"_typename\":\"TList\",\"name\":\"TList\",\"arr\":[{\"_typename\":\"TLatex\",\"fUniqueID\":0,\"fBits\":50331648,\"fName\":\"\",\"fTitle\":\"Response Matrix #tau_{1}^{(2)} binning 7\",\"fTextAngle\":0,\"fTextSize\":0,\"fTextAlign\":0,\"fTextColor\":0,\"fTextFont\":0,\"fX\":0,\"fY\":0,\"fLineColor\":1,\"fLineStyle\":1,\"fLineWidth\":2,\"fLimitFactorSize\":3,\"fOriginSize\":0.0560433566570282}],\"opt\":[\"\"]}}],\"opt\":[\"\",\"colz\",\"blNDC\"]},\"fExecs\":{\"_typename\":\"TList\",\"name\":\"TList\",\"arr\":[],\"opt\":[]},\"fName\":\"c6_7\",\"fTitle\":\"c6_7\",\"fNumPaletteColor\":0,\"fNextPaletteColor\":0},{\"_typename\":\"TPad\",\"fUniqueID\":0,\"fBits\":50331657,\"fLineColor\":1,\"fLineStyle\":1,\"fLineWidth\":1,\"fFillColor\":0,\"fFillStyle\":1001,\"fLeftMargin\":0.1,\"fRightMargin\":0.1,\"fBottomMargin\":0.1,\"fTopMargin\":0.1,\"fXfile\":2,\"fYfile\":2,\"fAfile\":1,\"fXstat\":0.99,\"fYstat\":0.99,\"fAstat\":2,\"fFrameFillColor\":0,\"fFrameLineColor\":1,\"fFrameFillStyle\":1001,\"fFrameLineStyle\":1,\"fFrameLineWidth\":1,\"fFrameBorderSize\":1,\"fFrameBorderMode\":0,\"fX1\":-0.0500000037252905,\"fY1\":-0.0500000037252905,\"fX2\":0.450000003725291,\"fY2\":0.450000003725291,\"fXtoAbsPixelk\":448.101385353136,\"fXtoPixelk\":37.4747189537963,\"fXtoPixel\":749.493323234319,\"fYtoAbsPixelk\":1008.51738155672,\"fYtoPixelk\":296.664048458524,\"fYtoPixel\":-659.253324450254,\"fUtoAbsPixelk\":410.62671639934,\"fUtoPixelk\":5e-5,\"fUtoPixel\":374.74666720132,\"fVtoAbsPixelk\":1041.48005023514,\"fVtoPixelk\":329.626667136947,\"fVtoPixel\":-329.626667136947,\"fAbsPixeltoXk\":-0.597872351176427,\"fPixeltoXk\":-0.0500000037252905,\"fPixeltoX\":0.00133423470096392,\"fAbsPixeltoYk\":1.52978725196071,\"fPixeltoYk\":-0.0500000037252905,\"fPixeltoY\":-0.00151686758778788,\"fXlowNDC\":0.343333333109816,\"fYlowNDC\":0.00999999977648264,\"fXUpNDC\":0,\"fYUpNDC\":0,\"fWNDC\":0.313333333780368,\"fHNDC\":0.313333333780368,\"fAbsXlowNDC\":0.343333333109816,\"fAbsYlowNDC\":0.00999999977648264,\"fAbsWNDC\":0.313333333780368,\"fAbsHNDC\":0.313333333780368,\"fUxmin\":0,\"fUymin\":0,\"fUxmax\":0.4,\"fUymax\":0.4,\"fTheta\":30,\"fPhi\":30,\"fAspectRatio\":0,\"fNumber\":8,\"fTickx\":0,\"fTicky\":0,\"fLogx\":0,\"fLogy\":0,\"fLogz\":0,\"fPadPaint\":0,\"fCrosshair\":0,\"fCrosshairPos\":0,\"fBorderSize\":2,\"fBorderMode\":0,\"fModified\":false,\"fGridx\":false,\"fGridy\":false,\"fAbsCoord\":false,\"fEditable\":true,\"fFixedAspectRatio\":false,\"fPrimitives\":{\"_typename\":\"TList\",\"name\":\"TList\",\"arr\":[{\"_typename\":\"TFrame\",\"fUniqueID\":0,\"fBits\":50331656,\"fLineColor\":1,\"fLineStyle\":1,\"fLineWidth\":1,\"fFillColor\":0,\"fFillStyle\":1001,\"fX1\":0,\"fY1\":0,\"fX2\":0.4,\"fY2\":0.4,\"fBorderSize\":1,\"fBorderMode\":0},{\"_typename\":\"TH2D\",\"fUniqueID\":0,\"fBits\":50332168,\"fName\":\"response\",\"fTitle\":\"Response Matrix #tau_{1}^{(2)} binning 8\",\"fLineColor\":602,\"fLineStyle\":1,\"fLineWidth\":1,\"fFillColor\":0,\"fFillStyle\":1001,\"fMarkerColor\":1,\"fMarkerStyle\":1,\"fMarkerSize\":1,\"fNcells\":312,\"fXaxis\":{\"_typename\":\"TAxis\",\"fUniqueID\":0,\"fBits\":50331648,\"fName\":\"xaxis\",\"fTitle\":\"#tau_{1}^{(2)}(det_sig)\",\"fNdivisions\":510,\"fAxisColor\":1,\"fLabelColor\":1,\"fLabelFont\":42,\"fLabelOffset\":0.005,\"fLabelSize\":0.035,\"fTickLength\":0.03,\"fTitleOffset\":1,\"fTitleSize\":0.035,\"fTitleColor\":1,\"fTitleFont\":42,\"fNbins\":22,\"fXmin\":0,\"fXmax\":0.4,\"fXbins\":[0,0.025,0.05,0.063125,0.07625,0.089375,0.1025,0.115625,0.12875,0.141875,0.155,0.168125,0.18125,0.194375,0.2075,0.220625,0.23375,0.246875,0.26,0.295,0.33,0.365,0.4],\"fFirst\":0,\"fLast\":0,\"fBits2\":0,\"fTimeDisplay\":false,\"fTimeFormat\":\"\",\"fLabels\":null,\"fModLabs\":null},\"fYaxis\":{\"_typename\":\"TAxis\",\"fUniqueID\":0,\"fBits\":50331648,\"fName\":\"yaxis\",\"fTitle\":\"#tau_{1}^{(2)}(gen_sig)\",\"fNdivisions\":510,\"fAxisColor\":1,\"fLabelColor\":1,\"fLabelFont\":42,\"fLabelOffset\":0.005,\"fLabelSize\":0.035,\"fTickLength\":0.03,\"fTitleOffset\":0,\"fTitleSize\":0.035,\"fTitleColor\":1,\"fTitleFont\":42,\"fNbins\":11,\"fXmin\":0,\"fXmax\":0.4,\"fXbins\":[0,0.05,0.07625,0.1025,0.12875,0.155,0.18125,0.2075,0.23375,0.26,0.33,0.4],\"fFirst\":0,\"fLast\":0,\"fBits2\":0,\"fTimeDisplay\":false,\"fTimeFormat\":\"\",\"fLabels\":null,\"fModLabs\":null},\"fZaxis\":{\"_typename\":\"TAxis\",\"fUniqueID\":0,\"fBits\":50331648,\"fName\":\"zaxis\",\"fTitle\":\"\",\"fNdivisions\":510,\"fAxisColor\":1,\"fLabelColor\":1,\"fLabelFont\":42,\"fLabelOffset\":0.005,\"fLabelSize\":0.035,\"fTickLength\":0.03,\"fTitleOffset\":1,\"fTitleSize\":0.035,\"fTitleColor\":1,\"fTitleFont\":42,\"fNbins\":1,\"fXmin\":0,\"fXmax\":1,\"fXbins\":[],\"fFirst\":0,\"fLast\":0,\"fBits2\":0,\"fTimeDisplay\":false,\"fTimeFormat\":\"\",\"fLabels\":null,\"fModLabs\":null},\"fBarOffset\":0,\"fBarWidth\":1000,\"fEntries\":43107,\"fTsumw\":13901.1376293109,\"fTsumw2\":4887.05421222413,\"fTsumwx\":1913.6301788747,\"fTsumwx2\":303.310865733678,\"fMaximum\":-1111,\"fMinimum\":-1111,\"fNormFactor\":0,\"fContour\":[0,40.4061871821897,80.8123743643794,121.218561546569,161.624748728759,202.030935910949,242.437123093138,282.843310275328,323.249497457518,363.655684639707,404.061871821897,444.468059004087,484.874246186276,525.280433368466,565.686620550656,606.092807732846,646.498994915035,686.905182097225,727.311369279415,767.717556461604],\"fSumw2\":[0,0,0,0,0,0,0,0,0,0,0,0,0,0,0,0,0,0,0,0,0,0,0,0,0,15.5483326943326,154.76417974745,45.6637290882636,5.45629742818009,0.925213014555278,0.905069690971769,1.15888184876598,2.34910943768758,2.19915118965067,1.75307936914568,1.43159186611911,2.4958098413234,2.34029864484081,1.69942791102454,1.3960345177562,1.71786339690252,1.48847120527516,1.99819751711764,1.18579549934869,0.235391893330923,0,0,0,0,0,17.6874535208012,131.705690834897,203.690293324485,95.4286903947182,18.9574767712359,4.02012174416007,2.83228584225044,0.665941152377188,1.8877705838819,1.77666543103452,1.25742206032168,1.03925681323164,0.975014783681704,0.8771941440552,0.223602864176502,0.742395291976171,0.211174863765509,0.811004849707085,0.135629237626649,0,0,0,0,0,0.106465846212647,4.74768696728571,44.9043764998164,213.117293629892,279.64340015096,148.87409019349,32.3507198033265,7.34715972741482,2.19583984137615,1.75838678998667,0.79581373173692,0.88390276443576,0.234162886971142,0.326762282152293,0.733965020547209,0.113194784326458,0.56011276656653,0.418872217189927,0,0.16480885951192,0,0,0,0,0.107677801821656,0.733491551872899,2.22554737298875,15.3264438431512,87.9665869057759,252.380078370486,285.215664652413,146.87782094429,38.4966073467551,8.17060671715142,2.73306745015603,2.17697767977453,1.44796423930596,1.32339741673144,0.372003220075633,0.0893208411255556,0.225780037342788,0.177388804999473,0,0,0,0,0,0,0.126377952883809,0,0.842026548349227,2.47425971241976,9.1726485942384,33.6112392982159,110.588846545333,236.408334138715,262.86821619326,128.915229359463,36.2640938892124,10.1912190235486,2.99254884246775,1.3121365653712,0.206458443800228,0.442376733098173,0.270641941164103,0.207165959432611,0,0,0,0,0,0,0.00933682471566692,0,0.144226872854398,0.788768698580588,2.32407108400766,4.54474588814666,14.8352459585786,36.2092125836523,100.410602132128,190.194746761722,182.544969529919,96.1565629330144,27.5282502986944,6.36343192570038,1.59131345852929,0.206603461968108,0.531221147101932,0.417809539870304,0,0,0,0,0,0,0,0.186285569291962,0.169052974446129,0.695007912697307,0.90817275124528,1.55000941633257,3.89760899046171,6.22810099167986,13.6687324343852,35.2363280619065,71.8792344525828,142.183808388364,136.964912115962,63.7139598415988,20.0914888107405,3.86209876091964,1.19947397871439,1.66759283694914,0,0,0,0,0,0,0,0.112552771201299,0,0.132099510514416,1.01459299930127,1.11117454023892,1.26385415647013,2.50366940608301,3.72026132510843,5.33909919700976,12.3826659812241,20.976937160876,54.6494178403174,91.4210530221894,73.1528475003423,36.6014289800746,10.4537298259046,2.37515521394217,0.262310858365234,0.16812416670036,0,0,0,0,0,0,0,0.0931304566588413,0.371824075063232,0.82860122655235,1.10989071952277,1.3108831847527,1.5858719961853,1.73570437559599,2.42252566042977,4.07474731631284,5.25951734103408,16.1719537810454,32.8655985259372,45.5527033333182,32.0717890195079,16.9615972785496,0.551393753242311,0,0,0,0,0,0,0,0,0,0.419431870032922,0.665350373805994,0.978555370450158,1.93084350829675,2.92199262249347,2.54003348661441,2.64205776114303,2.68536047645695,3.07124719561555,3.88622860111399,2.49561750340369,6.29893174030228,11.2388902433885,29.9424312722111,6.13593923541884,0.540170113537258,0,0,0,0,0,0,0,0,0,0,0,0.348419462772343,9.71596047315409e-5,0.273714963659769,0.14982038213891,0.374576268406016,0.60204938793056,0.578351454843244,0.460022942250569,0.392823537032926,0.709245944992495,0.295670020685462,0.689780294743112,0.312468268428937,0.108126864493684,0,0,0,0,0,0,0,0,0,0,0,0,0,0,0,0,0,0,0,0,0,0,0,0,0],\"fOption\":\"\",\"fFunctions\":{\"_typename\":\"TList\",\"name\":\"TList\",\"arr\":[{\"_typename\":\"TPaletteAxis\",\"fUniqueID\":0,\"fBits\":50331648,\"fLineColor\":1,\"fLineStyle\":1,\"fLineWidth\":1,\"fFillColor\":1178,\"fFillStyle\":1001,\"fX1\":0.402500000037253,\"fY1\":0,\"fX2\":0.425000000372529,\"fY2\":0.4,\"fX1NDC\":0.904999994039535,\"fY1NDC\":0.100000005960465,\"fX2NDC\":0.949999994039535,\"fY2NDC\":0.899999994039535,\"fBorderSize\":4,\"fInit\":1,\"fShadowColor\":1,\"fCornerRadius\":0,\"fOption\":\"br\",\"fName\":\"TPave\",\"fAxis\":{\"_typename\":\"TGaxis\",\"fUniqueID\":0,\"fBits\":50331648,\"fLineColor\":1,\"fLineStyle\":1,\"fLineWidth\":1,\"fX1\":0,\"fY1\":0,\"fX2\":0,\"fY2\":0,\"fTextAngle\":0,\"fTextSize\":0.04,\"fTextAlign\":11,\"fTextColor\":1,\"fTextFont\":42,\"fWmin\":0,\"fWmax\":0,\"fGridLength\":0,\"fTickSize\":0.03,\"fLabelOffset\":0.005,\"fLabelSize\":0.035,\"fTitleOffset\":1,\"fTitleSize\":0.035,\"fNdiv\":0,\"fLabelColor\":1,\"fLabelFont\":42,\"fNModLabs\":0,\"fChopt\":\"\",\"fName\":\"\",\"fTitle\":\"\",\"fTimeFormat\":\"\",\"fFunctionName\":\"\",\"fModLabs\":null},\"fName\":\"palette\"}],\"opt\":[\"br\"]},\"fBufferSize\":0,\"fBuffer\":[],\"fBinStatErrOpt\":0,\"fStatOverflows\":2,\"fScalefactor\":1,\"fTsumwy\":1894.9487792467,\"fTsumwy2\":302.409349465379,\"fTsumwxy\":298.948633703811,\"fArray\":[0,0,0,0,0,0,0,0,0,0,0,0,0,0,0,0,0,0,0,0,0,0,0,0,0,43.6561200382158,435.496196095179,130.037393043905,15.3829812255881,2.56776216315292,2.96390202186241,3.17426093940439,6.67499907724037,6.26096819066421,4.92827814981453,4.28229622945066,7.19143913538586,5.89607664403964,5.12915834778202,4.26764362824324,5.04170218537831,4.00475285661249,5.27501168703711,3.28244474166764,0.646125196642099,0,0,0,0,0,51.1096624851656,374.218771498367,582.077470460407,275.277104521448,54.5360493692878,11.5089138459761,8.00534341293752,1.93419872304098,5.07739618952186,4.99147400154875,3.75047053714398,2.96700354726805,3.26472055076136,2.46504016131715,0.672426252317183,2.10801822400262,0.649485607106152,2.35802288585032,0.368278749898292,0,0,0,0,0,0.329930145405915,13.3766919490417,127.944936170799,608.244102163364,793.481640159482,419.460983257856,92.0165654272672,21.6412870459931,6.27006434134587,5.17134928596468,2.41473483163306,2.7534834794032,0.691649519529533,0.985298933705014,2.36484054295321,0.340181368736101,1.66194085559718,1.1130083700027,0,0.405966574377645,0,0,0,0,0.328142959427222,2.09480356693183,6.69920197444543,44.2499982445757,247.228801020174,716.344021525905,808.123743643794,415.387603750334,111.06223431558,23.7950233441406,8.20855560945525,5.83295234385806,4.22627465558483,3.63426533699151,1.05181881428599,0.29886592499908,0.671913011344941,0.421175503797968,0,0,0,0,0,0,0.355496769160859,0,2.34135244318139,5.59963451557372,26.1676215299652,96.4765042794071,314.002125822664,671.465043084054,747.205130470397,367.340373893186,101.225965370359,28.3902587634173,8.72706139485069,3.72179552587708,0.641364253983754,1.13044202731752,0.885903846978147,0.643681899958628,0,0,0,0,0,0,0.0966272462386615,0,0.379772132803867,2.29228537764745,6.86529496201744,11.9307754645877,40.7767354130575,103.569659608918,284.86579571808,541.8299006566,524.275596705925,277.153014786166,79.225435190719,17.8378412244768,4.51412673868995,0.642724761919168,1.43699516022025,1.28899086823109,0,0,0,0,0,0,0,0.431608120048688,0.569218608147954,1.85754322566471,2.8215696450221,4.31957587872784,11.7993615943932,18.9253379066839,39.7225562964852,98.9389937143615,207.705740631114,403.773472484305,388.670148415309,178.772568515434,58.3027765740562,11.8349735172521,3.45499755587141,4.41054007750699,0,0,0,0,0,0,0,0.335488854064183,0,0.363454963529756,2.98830557367422,3.14725618698463,3.39747776591853,6.3255076214777,10.8942698471114,15.6241133245217,34.2427602355891,59.767243906442,153.866432318059,258.197900178011,208.835082820259,106.201881700364,30.2754808461151,6.88916032076655,0.723082584274568,0.410029470526644,0,0,0,0,0,0,0,0.305172830800583,1.05550647502455,2.32789712132723,3.46222487551803,3.79977749461037,4.2628607924531,5.31076090542771,6.95297657909214,11.1728786391157,15.7349317415724,44.9506812701321,92.4736701024253,130.048486141102,90.4669904099424,49.2597254572708,1.3031858975017,0,0,0,0,0,0,0,0,0,1.28668639582692,1.78304497620352,2.59836363040383,5.85092681322068,8.47417528399275,7.50531580708995,7.60654464008161,7.9205182113825,8.77341007846982,10.8179669460991,7.0926395157453,18.6802080392778,31.5623372726446,86.4059018703105,17.0719441703889,1.72051135303729,0,0,0,0,0,0,0,0,0,0,0,1.00911615825277,0.00985695717407461,0.785453439180287,0.387066379499576,1.0571981209383,1.72977344067507,1.39510568024024,1.35353068449858,1.08316661818002,1.86838891222336,0.914594502420968,2.01788149655786,1.2347969139361,0.328826496033522,0,0,0,0,0,0,0,0,0,0,0,0,0,0,0,0,0,0,0,0,0,0,0,0,0]},{\"_typename\":\"TPaveText\",\"fUniqueID\":0,\"fBits\":50331657,\"fLineColor\":1,\"fLineStyle\":1,\"fLineWidth\":1,\"fFillColor\":0,\"fFillStyle\":0,\"fX1\":0.0315562490574134,\"fY1\":0.405634460649278,\"fX2\":0.368443750942587,\"fY2\":0.447500006072223,\"fX1NDC\":0.163112503134842,\"fY1NDC\":0.911268915170171,\"fX2NDC\":0.836887496865158,\"fY2NDC\":0.995000004768372,\"fBorderSize\":0,\"fInit\":1,\"fShadowColor\":1,\"fCornerRadius\":0,\"fOption\":\"blNDC\",\"fName\":\"title\",\"fTextAngle\":0,\"fTextSize\":0,\"fTextAlign\":22,\"fTextColor\":1,\"fTextFont\":42,\"fLabel\":\"\",\"fLongest\":40,\"fMargin\":0.05,\"fLines\":{\"_typename\":\"TList\",\"name\":\"TList\",\"arr\":[{\"_typename\":\"TLatex\",\"fUniqueID\":0,\"fBits\":50331648,\"fName\":\"\",\"fTitle\":\"Response Matrix #tau_{1}^{(2)} binning 8\",\"fTextAngle\":0,\"fTextSize\":0,\"fTextAlign\":0,\"fTextColor\":0,\"fTextFont\":0,\"fX\":0,\"fY\":0,\"fLineColor\":1,\"fLineStyle\":1,\"fLineWidth\":2,\"fLimitFactorSize\":3,\"fOriginSize\":0.0560433566570282}],\"opt\":[\"\"]}}],\"opt\":[\"\",\"colz\",\"blNDC\"]},\"fExecs\":{\"_typename\":\"TList\",\"name\":\"TList\",\"arr\":[],\"opt\":[]},\"fName\":\"c6_8\",\"fTitle\":\"c6_8\",\"fNumPaletteColor\":0,\"fNextPaletteColor\":0},{\"_typename\":\"TPad\",\"fUniqueID\":0,\"fBits\":50331657,\"fLineColor\":1,\"fLineStyle\":1,\"fLineWidth\":1,\"fFillColor\":0,\"fFillStyle\":1001,\"fLeftMargin\":0.1,\"fRightMargin\":0.1,\"fBottomMargin\":0.1,\"fTopMargin\":0.1,\"fXfile\":2,\"fYfile\":2,\"fAfile\":1,\"fXstat\":0.99,\"fYstat\":0.99,\"fAstat\":2,\"fFrameFillColor\":0,\"fFrameLineColor\":1,\"fFrameFillStyle\":1001,\"fFrameLineStyle\":1,\"fFrameLineWidth\":1,\"fFrameBorderSize\":1,\"fFrameBorderMode\":0,\"fX1\":-0.0500000037252905,\"fY1\":-0.0500000037252905,\"fX2\":0.450000003725291,\"fY2\":0.450000003725291,\"fXtoAbsPixelk\":846.768052019803,\"fXtoPixelk\":37.4747189537963,\"fXtoPixel\":749.493323234319,\"fYtoAbsPixelk\":1008.51738155672,\"fYtoPixelk\":296.664048458524,\"fYtoPixel\":-659.253324450254,\"fUtoAbsPixelk\":809.293383066006,\"fUtoPixelk\":5e-5,\"fUtoPixel\":374.74666720132,\"fVtoAbsPixelk\":1041.48005023514,\"fVtoPixelk\":329.626667136947,\"fVtoPixel\":-329.626667136947,\"fAbsPixeltoXk\":-1.12978725196071,\"fPixeltoXk\":-0.0500000037252905,\"fPixeltoX\":0.00133423470096392,\"fAbsPixeltoYk\":1.52978725196071,\"fPixeltoYk\":-0.0500000037252905,\"fPixeltoY\":-0.00151686758778788,\"fXlowNDC\":0.676666666443149,\"fYlowNDC\":0.00999999977648264,\"fXUpNDC\":0,\"fYUpNDC\":0,\"fWNDC\":0.313333333780368,\"fHNDC\":0.313333333780368,\"fAbsXlowNDC\":0.676666666443149,\"fAbsYlowNDC\":0.00999999977648264,\"fAbsWNDC\":0.313333333780368,\"fAbsHNDC\":0.313333333780368,\"fUxmin\":0,\"fUymin\":0,\"fUxmax\":0.4,\"fUymax\":0.4,\"fTheta\":30,\"fPhi\":30,\"fAspectRatio\":0,\"fNumber\":9,\"fTickx\":0,\"fTicky\":0,\"fLogx\":0,\"fLogy\":0,\"fLogz\":0,\"fPadPaint\":0,\"fCrosshair\":0,\"fCrosshairPos\":0,\"fBorderSize\":2,\"fBorderMode\":0,\"fModified\":false,\"fGridx\":false,\"fGridy\":false,\"fAbsCoord\":false,\"fEditable\":true,\"fFixedAspectRatio\":false,\"fPrimitives\":{\"_typename\":\"TList\",\"name\":\"TList\",\"arr\":[{\"_typename\":\"TFrame\",\"fUniqueID\":0,\"fBits\":50331656,\"fLineColor\":1,\"fLineStyle\":1,\"fLineWidth\":1,\"fFillColor\":0,\"fFillStyle\":1001,\"fX1\":0,\"fY1\":0,\"fX2\":0.4,\"fY2\":0.4,\"fBorderSize\":1,\"fBorderMode\":0},{\"_typename\":\"TH2D\",\"fUniqueID\":0,\"fBits\":50332168,\"fName\":\"response\",\"fTitle\":\"Response Matrix #tau_{1}^{(2)} binning 9\",\"fLineColor\":602,\"fLineStyle\":1,\"fLineWidth\":1,\"fFillColor\":0,\"fFillStyle\":1001,\"fMarkerColor\":1,\"fMarkerStyle\":1,\"fMarkerSize\":1,\"fNcells\":420,\"fXaxis\":{\"_typename\":\"TAxis\",\"fUniqueID\":0,\"fBits\":50331648,\"fName\":\"xaxis\",\"fTitle\":\"#tau_{1}^{(2)}(det_sig)\",\"fNdivisions\":510,\"fAxisColor\":1,\"fLabelColor\":1,\"fLabelFont\":42,\"fLabelOffset\":0.005,\"fLabelSize\":0.035,\"fTickLength\":0.03,\"fTitleOffset\":1,\"fTitleSize\":0.035,\"fTitleColor\":1,\"fTitleFont\":42,\"fNbins\":26,\"fXmin\":0,\"fXmax\":0.4,\"fXbins\":[0,0.025,0.05,0.0605,0.071,0.0815,0.092,0.1025,0.113,0.1235,0.134,0.1445,0.155,0.1655,0.176,0.1865,0.197,0.2075,0.218,0.2285,0.239,0.2495,0.26,0.295,0.33,0.365,0.4],\"fFirst\":0,\"fLast\":0,\"fBits2\":0,\"fTimeDisplay\":false,\"fTimeFormat\":\"\",\"fLabels\":null,\"fModLabs\":null},\"fYaxis\":{\"_typename\":\"TAxis\",\"fUniqueID\":0,\"fBits\":50331648,\"fName\":\"yaxis\",\"fTitle\":\"#tau_{1}^{(2)}(gen_sig)\",\"fNdivisions\":510,\"fAxisColor\":1,\"fLabelColor\":1,\"fLabelFont\":42,\"fLabelOffset\":0.005,\"fLabelSize\":0.035,\"fTickLength\":0.03,\"fTitleOffset\":0,\"fTitleSize\":0.035,\"fTitleColor\":1,\"fTitleFont\":42,\"fNbins\":13,\"fXmin\":0,\"fXmax\":0.4,\"fXbins\":[0,0.05,0.071,0.092,0.113,0.134,0.155,0.176,0.197,0.218,0.239,0.26,0.33,0.4],\"fFirst\":0,\"fLast\":0,\"fBits2\":0,\"fTimeDisplay\":false,\"fTimeFormat\":\"\",\"fLabels\":null,\"fModLabs\":null},\"fZaxis\":{\"_typename\":\"TAxis\",\"fUniqueID\":0,\"fBits\":50331648,\"fName\":\"zaxis\",\"fTitle\":\"\",\"fNdivisions\":510,\"fAxisColor\":1,\"fLabelColor\":1,\"fLabelFont\":42,\"fLabelOffset\":0.005,\"fLabelSize\":0.035,\"fTickLength\":0.03,\"fTitleOffset\":1,\"fTitleSize\":0.035,\"fTitleColor\":1,\"fTitleFont\":42,\"fNbins\":1,\"fXmin\":0,\"fXmax\":1,\"fXbins\":[],\"fFirst\":0,\"fLast\":0,\"fBits2\":0,\"fTimeDisplay\":false,\"fTimeFormat\":\"\",\"fLabels\":null,\"fModLabs\":null},\"fBarOffset\":0,\"fBarWidth\":1000,\"fEntries\":43107,\"fTsumw\":13901.1376293109,\"fTsumw2\":4887.05421222413,\"fTsumwx\":1913.6301788747,\"fTsumwx2\":303.310865733678,\"fMaximum\":-1111,\"fMinimum\":-1111,\"fNormFactor\":0,\"fContour\":[0,31.0638201613018,62.1276403226036,93.1914604839054,124.255280645207,155.319100806509,186.382920967811,217.446741129113,248.510561290415,279.574381451716,310.638201613018,341.70202177432,372.765841935622,403.829662096924,434.893482258225,465.957302419527,497.021122580829,528.084942742131,559.148762903433,590.212583064735],\"fSumw2\":[0,0,0,0,0,0,0,0,0,0,0,0,0,0,0,0,0,0,0,0,0,0,0,0,0,0,0,0,0,15.5483326943326,154.76417974745,42.2172278269934,8.23639717989873,1.01712523796816,0.771078622741005,0.708480354369406,0.752566297575391,1.78901115555343,2.18972512750119,1.45561085509977,1.27330840952012,0.891511939780823,2.19262891702454,1.57143665388988,2.21041692071322,1.1011338318994,1.25848853467253,1.26953979689091,1.28928011800051,1.51781563796596,1.2654425495216,1.18579549934869,0.235391893330923,0,0,0,0,0,17.6874535208012,93.3502042355751,137.759966666447,81.5630239953062,17.7917897932924,3.48246714744277,1.42013102868549,1.72947867571185,1.13313934421161,0.702050639267747,1.35141024895766,1.4078596614157,0.835184869157042,0.504857674500688,0.885742698225869,0.27072239988189,0.791211222686035,0.202127179512818,0.225077135022862,0.375350553706431,0.211174863765509,0.811004849707085,0.135629237626649,0,0,0,0,0,1.33928452538527e-5,5.11899339914463,40.3954433475503,134.063818975573,188.779313944355,106.764360239283,34.4871432711791,10.7150683602583,3.14195692823452,0.825167354860408,1.06309516886449,0.885367852423662,0.562899483490358,0.694515348563075,0.576954744681936,0.494469770185101,0.187667596148327,0.144579880148674,0.29432327160236,0.229206660790306,0.295150321685982,0.232581251573995,0,0.16480885951192,0,0,0,0,0.214130255189048,0.383901076352869,2.39712760157646,13.4229021180986,65.8561420918976,173.35467374241,220.889538435455,122.026572569591,43.4807581075471,14.7095554512484,3.92198475348577,1.93314183592597,1.79385101318782,0.45368287996719,0.5021582729372,0.583837289461357,0.253974984030046,0.509238456992024,0.267703898253864,1.41228042724835e-5,0.374612966977865,0.186290965615933,0,0,0,0,0,0,0,0.234065401019591,0.445313804278039,1.58954429237029,8.49968977414698,26.3725249574807,76.2564524134896,172.364767483921,206.828366006857,112.453197245538,45.5640081306316,14.0406478179006,4.24056109758293,2.63260243834891,1.02582019266506,1.13533619843248,1.1826916296552,0.092988900219913,0.134201002594745,0.228899899034195,0.116129515245471,0.177388804999473,0,0,0,0,0,0,0.126377952883809,0,0.134213882760364,0.928196895275746,2.62110586334622,5.62712985710462,14.8436680346968,37.1913870881423,89.5580990340155,163.977474509315,185.98626609358,104.080795782905,40.2982154419147,14.6622207032127,5.04899049632308,2.06189649918878,0.997016214875363,0.317127415710816,0.20868403131709,0.120723552330732,0.270641941164103,0.207165959432611,0,0,0,0,0,0,0.00933682471566692,0,0.144226872854398,0.0534613767072276,0.821248925475933,2.13134175297033,3.01551448211178,7.36945343583549,17.6005963008116,36.9931662814101,79.1294103313652,131.732251130524,134.423410374079,81.8115359372645,34.7105681407573,11.0521634735914,3.68860361253451,0.990279992994822,0.524654473986487,0,0.418204416989375,0.417809539870304,0,0,0,0,0,0,0,0.186285569291962,0.118317325434862,0.169258062331407,0.284169519988684,0.90817275124528,0.647200658784493,2.66732769707315,3.7473992565049,7.56506128868791,16.8962047319918,33.8937326603217,67.4920619905707,99.1282933955999,110.099703900963,61.9780795327374,23.8217632775047,8.49460516543403,2.24426814284716,0.927097131019184,0.420012132348374,0.716666489454177,0,0,0,0,0,0,0,0.112552771201299,0,0.238885766620991,0.399372243967928,0.289347835081009,1.12751806945761,0.623768693150219,1.46739509713478,3.01779104905169,3.67617283050519,8.80543607198336,12.6087117218344,23.8446832046854,53.1780818720906,78.3402232208611,75.9181019972958,41.5575454460722,15.1809425509595,4.80106950311248,1.27145519826598,1.60142408004749,0.115930749583844,0,0,0,0,0,0,0,0,0,0,0.753259567795013,0.673662658189963,0.64076870758593,0.785621228404935,1.32584932956573,1.66660375627229,1.3061190448413,3.23678297232044,4.1080317280563,7.96670135114273,20.1609843311599,36.9704281295319,48.5835136465449,45.8181072056995,28.0949127790035,9.59379692144502,3.83706690966462,0.290945644188182,0.16812416670036,0,0,0,0,0,0,0,0,0.206878850226784,0.123006484669283,0.593624171057917,0.752641971235717,0.645115886098152,1.13391287479357,1.01668416319839,1.14793665977109,1.41368086283822,1.73892984070494,3.03107512588014,2.32024887038593,6.91089004544653,11.7970154190198,21.5301376919764,25.2211936344759,21.0720968590845,14.8491878502746,0.40682821783552,0,0,0,0,0,0,0,0,0,0.111372671043643,0.308059198989279,0.665350373805994,0.423027994751662,1.64616633374969,2.08379851664873,1.6783986560903,2.02804107657359,2.25613900201752,1.97098006225028,2.37858475256491,2.30495402642364,2.88531257567466,2.56975925301457,2.58419321806081,6.50614116206572,9.37426187939271,29.9424312722111,6.13593923541884,0.540170113537258,0,0,0,0,0,0,0,0,0,0,0,0,0,0.348419462772343,9.71596047315409e-5,0.143226741161142,0.280308604637537,0.114013573887488,0.260562694518527,0.60204938793056,0.441793159767018,0.479145907332112,0.248012127811302,0.262246739216308,0.709245944992495,0.295670020685462,0.689780294743112,0.312468268428937,0.108126864493684,0,0,0,0,0,0,0,0,0,0,0,0,0,0,0,0,0,0,0,0,0,0,0,0,0,0,0,0,0],\"fOption\":\"\",\"fFunctions\":{\"_typename\":\"TList\",\"name\":\"TList\",\"arr\":[{\"_typename\":\"TPaletteAxis\",\"fUniqueID\":0,\"fBits\":50331648,\"fLineColor\":1,\"fLineStyle\":1,\"fLineWidth\":1,\"fFillColor\":1178,\"fFillStyle\":1001,\"fX1\":0.402500000037253,\"fY1\":0,\"fX2\":0.425000000372529,\"fY2\":0.4,\"fX1NDC\":0.904999994039535,\"fY1NDC\":0.100000005960465,\"fX2NDC\":0.949999994039535,\"fY2NDC\":0.899999994039535,\"fBorderSize\":4,\"fInit\":1,\"fShadowColor\":1,\"fCornerRadius\":0,\"fOption\":\"br\",\"fName\":\"TPave\",\"fAxis\":{\"_typename\":\"TGaxis\",\"fUniqueID\":0,\"fBits\":50331648,\"fLineColor\":1,\"fLineStyle\":1,\"fLineWidth\":1,\"fX1\":0,\"fY1\":0,\"fX2\":0,\"fY2\":0,\"fTextAngle\":0,\"fTextSize\":0.04,\"fTextAlign\":11,\"fTextColor\":1,\"fTextFont\":42,\"fWmin\":0,\"fWmax\":0,\"fGridLength\":0,\"fTickSize\":0.03,\"fLabelOffset\":0.005,\"fLabelSize\":0.035,\"fTitleOffset\":1,\"fTitleSize\":0.035,\"fNdiv\":0,\"fLabelColor\":1,\"fLabelFont\":42,\"fNModLabs\":0,\"fChopt\":\"\",\"fName\":\"\",\"fTitle\":\"\",\"fTimeFormat\":\"\",\"fFunctionName\":\"\",\"fModLabs\":null},\"fName\":\"palette\"}],\"opt\":[\"br\"]},\"fBufferSize\":0,\"fBuffer\":[],\"fBinStatErrOpt\":0,\"fStatOverflows\":2,\"fScalefactor\":1,\"fTsumwy\":1894.9487792467,\"fTsumwy2\":302.409349465379,\"fTsumwxy\":298.948633703811,\"fArray\":[0,0,0,0,0,0,0,0,0,0,0,0,0,0,0,0,0,0,0,0,0,0,0,0,0,0,0,0,0,43.6561200382158,435.496196095179,120.207361863063,23.2141471031197,3.0569378292425,2.13641554601265,2.33717611307038,2.28357612361249,4.8187041754654,6.41051534541349,3.98344881361369,3.54226189901844,2.6533184265651,6.32373373970267,4.70678829931877,5.52917874622401,3.28595114484765,3.73373164781134,3.88097978924076,3.55588629780079,3.81390026526241,3.60461235715586,3.28244474166764,0.646125196642099,0,0,0,0,0,51.1096624851656,265.040655117121,390.536366830989,237.005409126429,51.4516662267876,10.1454750825461,4.19444321082083,5.05923516336244,3.14619259479614,1.82593056630309,3.62313618645103,3.93904042470285,2.46026452806583,1.42030108197219,2.5785881081394,1.05648324994971,2.17181171561455,0.637845903090717,0.670764373670709,1.0591968169878,0.649485607106152,2.35802288585032,0.368278749898292,0,0,0,0,0,0.0036596236492094,14.7210258827378,113.346935352858,382.307475034655,542.570271704468,303.271992096623,98.261547104206,30.692519148255,9.14461899112495,2.38282775043307,2.97196070188043,2.60999682651114,1.63093419590604,1.99776454104444,1.96851778371872,1.5628744846838,0.612344933855212,0.502950838205886,0.932454558480128,0.677049230188028,0.937495435797598,0.6813939985831,0,0.405966574377645,0,0,0,0,0.654413481183928,1.07087655266851,6.54746534512109,38.799832618072,186.072949568314,490.062205527337,621.276403226036,347.631057674593,122.431401875743,41.1489234391385,11.6852838287664,5.85280747708655,5.07481830354253,1.47458462275038,1.38184828210333,1.71535766793743,0.711893962123477,1.42467423716943,0.887561247313484,0.00375803196799648,1.05558062194112,0.431614371419596,0,0,0,0,0,0,0,0.68403721668117,1.15450593246983,4.42135461467468,24.9844754592343,74.157475063333,218.97162618481,492.236562004734,581.655401519228,319.972692204344,132.720379346581,39.8014430232148,12.6957680354965,7.37246614841243,2.6346079434485,3.25607047276905,3.25817187046124,0.304940814290106,0.366334550096963,0.478434843039462,0.340777809203403,0.421175503797968,0,0,0,0,0,0,0.355496769160859,0,0.366352129460665,2.64175461008512,5.74692642857463,16.4306960658034,42.1497425478535,104.160966577617,257.136286562529,464.026926052902,527.475094673566,296.652775870812,113.305115560075,41.7916648209322,13.6438201357379,5.87343753909129,2.9447730847852,0.776903121838085,0.64504028349909,0.34745294980865,0.885903846978147,0.643681899958628,0,0,0,0,0,0,0.0966272462386615,0,0.379772132803867,0.231217163522148,2.41684883485243,6.18273042578228,8.01968542461036,19.946111757891,49.5143385102583,105.103743679392,224.636292195834,376.054848403169,385.332524420769,233.90963384092,97.5157978455394,31.3698012398461,10.2254708115819,3.04586200981066,1.44063427166739,0,1.10081555032018,1.28899086823109,0,0,0,0,0,0,0,0.431608120048688,0.343972855665766,0.570223962298606,0.747951094374007,2.8215696450221,1.97821172086965,7.93915874519197,11.0044213636197,22.2516835288129,48.492773258995,94.7946128965261,193.988318401755,284.928193863557,317.062940904536,176.281241827753,68.0164421119458,24.6598128972448,6.58580815099435,2.79052246553471,1.28595675943923,1.86275500740846,0,0,0,0,0,0,0,0.335488854064183,0,0.691125504435772,1.09091958396105,0.759294641924021,3.1655297371327,1.93270634917473,4.23627059397055,8.57124324072777,10.9196988815982,24.4501174454443,36.3024384828346,66.930888305581,151.830959476427,221.41537088335,212.536513819054,118.796596158739,44.0832334286414,14.3835646446007,4.04665260267055,4.51745408720148,0.340486049029683,0,0,0,0,0,0,0,0,0,0,2.26933625817258,1.82560576541202,2.03221471429554,1.96196067889314,3.73522959942107,4.40125096486368,4.17569696270496,8.90212079770365,12.0417102079792,22.9018653376018,56.1622997301919,103.931072719784,138.903018098336,130.539408077212,79.257941811864,27.6428127006702,10.9735093623891,0.762814282603936,0.410029470526644,0,0,0,0,0,0,0,0,0.642438888339646,0.350722803178354,1.64246143711398,2.13287936519054,1.92403292184209,3.38226370071833,2.77730145050452,3.62726790040201,3.66682406331178,5.07597320808775,8.38734095251385,7.13561283581357,19.3913358535807,33.134638447934,60.592592913235,73.0322699133308,58.8242012980778,43.2057073985453,0.922968150142651,0,0,0,0,0,0,0,0,0,0.333725442607607,0.952960953219313,1.78304497620352,1.12029702716397,4.76192794261968,5.93016980377964,5.11107095405396,5.94618466890688,6.65416212706854,5.72239374234531,6.82832232611845,6.6547258725847,7.82511410868737,7.37568082447417,7.5206827360384,19.1415776302981,26.2900964742687,86.4059018703105,17.0719441703889,1.72051135303729,0,0,0,0,0,0,0,0,0,0,0,0,0,1.00911615825277,0.00985695717407461,0.424221903321875,0.748297915357989,0.337658960916911,0.719539160021392,1.72977344067507,0.939375013579419,1.46657296502021,0.704042503061385,0.721812501257828,1.86838891222336,0.914594502420968,2.01788149655786,1.2347969139361,0.328826496033522,0,0,0,0,0,0,0,0,0,0,0,0,0,0,0,0,0,0,0,0,0,0,0,0,0,0,0,0,0]},{\"_typename\":\"TPaveText\",\"fUniqueID\":0,\"fBits\":50331657,\"fLineColor\":1,\"fLineStyle\":1,\"fLineWidth\":1,\"fFillColor\":0,\"fFillStyle\":0,\"fX1\":0.0315562490574134,\"fY1\":0.405634460649278,\"fX2\":0.368443750942587,\"fY2\":0.447500006072223,\"fX1NDC\":0.163112503134842,\"fY1NDC\":0.911268915170171,\"fX2NDC\":0.836887496865158,\"fY2NDC\":0.995000004768372,\"fBorderSize\":0,\"fInit\":1,\"fShadowColor\":1,\"fCornerRadius\":0,\"fOption\":\"blNDC\",\"fName\":\"title\",\"fTextAngle\":0,\"fTextSize\":0,\"fTextAlign\":22,\"fTextColor\":1,\"fTextFont\":42,\"fLabel\":\"\",\"fLongest\":40,\"fMargin\":0.05,\"fLines\":{\"_typename\":\"TList\",\"name\":\"TList\",\"arr\":[{\"_typename\":\"TLatex\",\"fUniqueID\":0,\"fBits\":50331648,\"fName\":\"\",\"fTitle\":\"Response Matrix #tau_{1}^{(2)} binning 9\",\"fTextAngle\":0,\"fTextSize\":0,\"fTextAlign\":0,\"fTextColor\":0,\"fTextFont\":0,\"fX\":0,\"fY\":0,\"fLineColor\":1,\"fLineStyle\":1,\"fLineWidth\":2,\"fLimitFactorSize\":3,\"fOriginSize\":0.0560433566570282}],\"opt\":[\"\"]}}],\"opt\":[\"\",\"colz\",\"blNDC\"]},\"fExecs\":{\"_typename\":\"TList\",\"name\":\"TList\",\"arr\":[],\"opt\":[]},\"fName\":\"c6_9\",\"fTitle\":\"c6_9\",\"fNumPaletteColor\":0,\"fNextPaletteColor\":0}],\"opt\":[\"\",\"\",\"\",\"\",\"\",\"\",\"\",\"\",\"\"]},\"fExecs\":null,\"fName\":\"c6\",\"fTitle\":\"c6\",\"fNumPaletteColor\":0,\"fNextPaletteColor\":0,\"fDISPLAY\":\"$DISPLAY\",\"fDoubleBuffer\":0,\"fRetained\":true,\"fXsizeUser\":0,\"fYsizeUser\":0,\"fXsizeReal\":20,\"fYsizeReal\":18,\"fWindowTopX\":0,\"fWindowTopY\":0,\"fWindowWidth\":0,\"fWindowHeight\":0,\"fCw\":1196,\"fCh\":1052,\"fCatt\":{\"_typename\":\"TAttCanvas\",\"fXBetween\":2,\"fYBetween\":2,\"fTitleFromTop\":1.2,\"fXdate\":0.2,\"fYdate\":0.3,\"fAdate\":1},\"kMoveOpaque\":true,\"kResizeOpaque\":true,\"fHighLightColor\":2,\"fBatch\":true,\"kShowEventStatus\":false,\"kAutoExec\":true,\"kMenuBar\":true});\n",
       "       Core.draw(\"root_plot_14\", obj, \"\");\n",
       "     }\n",
       " );\n",
       "</script>\n"
      ],
      "text/plain": [
       "<IPython.core.display.HTML object>"
      ]
     },
     "metadata": {},
     "output_type": "display_data"
    }
   ],
   "source": [
    "c6 = ROOT.TCanvas('c6', 'c6',1200, 1080)\n",
    "c6.Divide(3,3)\n",
    "for i in xrange(len(h_responses)):\n",
    "    c6.cd(i+1)\n",
    "    h_responses[i].Draw(\"colz\")\n",
    "    \n",
    "c6.Draw()\n",
    "c6.SaveAs(\"tau1_2_responses_Wsel_powheg.png\")\n",
    "#c6.SaveAs(\"tau1_2_responses_Wsel_powheg.pdf\")"
   ]
  },
  {
   "cell_type": "code",
   "execution_count": null,
   "metadata": {},
   "outputs": [],
   "source": []
  },
  {
   "cell_type": "code",
   "execution_count": null,
   "metadata": {},
   "outputs": [],
   "source": []
  }
 ],
 "metadata": {
  "kernelspec": {
   "display_name": "Python 2",
   "language": "python",
   "name": "python2"
  },
  "language_info": {
   "codemirror_mode": {
    "name": "ipython",
    "version": 2
   },
   "file_extension": ".py",
   "mimetype": "text/x-python",
   "name": "python",
   "nbconvert_exporter": "python",
   "pygments_lexer": "ipython2",
   "version": "2.7.15"
  }
 },
 "nbformat": 4,
 "nbformat_minor": 2
}
