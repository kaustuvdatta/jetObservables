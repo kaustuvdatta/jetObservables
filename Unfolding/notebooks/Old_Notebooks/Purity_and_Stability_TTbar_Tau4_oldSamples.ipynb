{
 "cells": [
  {
   "cell_type": "markdown",
   "metadata": {},
   "source": [
    "# Mapping the phase space of a jet"
   ]
  },
  {
   "cell_type": "markdown",
   "metadata": {},
   "source": [
    "## Unfolding the $N$-subjettiness basis in semileptonic $t\\bar{t}$ events at $\\sqrt{s} = 13$ TeV"
   ]
  },
  {
   "cell_type": "markdown",
   "metadata": {},
   "source": [
    "#### Firstly , import the ROOT data analysis framework which will be used to read the data files and unfold the final result. "
   ]
  },
  {
   "cell_type": "code",
   "execution_count": 2,
   "metadata": {},
   "outputs": [
    {
     "name": "stdout",
     "output_type": "stream",
     "text": [
      "Welcome to JupyROOT 6.18/00\n"
     ]
    }
   ],
   "source": [
    "import ROOT\n",
    "import array as array\n",
    "import os\n",
    "import glob\n",
    "import ROOT\n",
    "from ROOT import TH1D, TH2D, TTree,TFile\n",
    "from random import gauss\n",
    "import numpy as np\n",
    "import root_numpy as rtnpy\n",
    "import h5py\n",
    "from awkward import JaggedArray, Table\n",
    "import matplotlib.pyplot as plt\n",
    "import seaborn as sns"
   ]
  },
  {
   "cell_type": "code",
   "execution_count": 3,
   "metadata": {
    "scrolled": true
   },
   "outputs": [
    {
     "name": "stdout",
     "output_type": "stream",
     "text": [
      "2016 Single Muon dataset luminosity:35.92\n"
     ]
    }
   ],
   "source": [
    "lumi = 5.75+2.57+4.24+4.03+3.11+7.57+8.65 #B+C+D+E+F+G+H\n",
    "print \"2016 Single Muon dataset luminosity:%0.2f\"%(lumi)"
   ]
  },
  {
   "cell_type": "code",
   "execution_count": 4,
   "metadata": {},
   "outputs": [],
   "source": [
    "systs = ['Jmr', 'Jms', 'pileup', 'JesTotal', 'Lumi', 'lhaPDF', 'Jer']\n",
    "\n",
    "uncert_colors = [ 4 ,  4 , ROOT.kCyan +1 ,2 ,      ROOT.kYellow+3,    ROOT.kMagenta ,  2 , ROOT.kBlack ,ROOT.kBlack ,    ROOT.kCyan +3 , ROOT.kViolet+3 ,  ROOT.kAzure+2 , ROOT.kMagenta+1 ,ROOT.kViolet+3 ,  ROOT.kRed ,   ROOT.kCyan +3 , ROOT.kViolet+3 ,  ROOT.kAzure+2 , ROOT.kMagenta+1 ,   ROOT.kCyan +3 , ROOT.kViolet+3 ,  ROOT.kAzure+2 , ROOT.kMagenta+1 ,ROOT.kViolet+3 ,  ROOT.kRed ,   ROOT.kCyan +3 , ROOT.kViolet+3 ,  ROOT.kAzure+2 , ROOT.kMagenta+1 ]\n",
    "uncert_lines = [ 5,8,7,3,    5,    6,8,1, 2, 4, 5, 1, 7, 8, 1, 7,7,4,4,5,2,1,3, 2, 4, 5, 1, 7, 8, 1]"
   ]
  },
  {
   "cell_type": "markdown",
   "metadata": {},
   "source": [
    "# $\\tau_{2}^{(0.5)}$ unfolding with background subtraction + purity&stability study [w/ E-scheme recombination+excl. $k_T$ axes]\n"
   ]
  },
  {
   "cell_type": "markdown",
   "metadata": {},
   "source": [
    "#### Below the MC and Data events are read from ROOT trees which only contain events meeting the selection criteria set forth in this __[script](https://github.com/kaustuvdatta/jetObservables/blob/102X/python/nSubProducer_gen_reco.py)__ and thereafter in the nSubExtractor class"
   ]
  },
  {
   "cell_type": "code",
   "execution_count": 5,
   "metadata": {},
   "outputs": [],
   "source": [
    "from nSubExtractor_old import nSubExtractor_old as nSubExtractor"
   ]
  },
  {
   "cell_type": "markdown",
   "metadata": {},
   "source": [
    "### Loading datasets of $N$-subjettiness bases measured with (default: \" \" ) $E$-scheme recombination and excl. lT axes (please specifiy  \"WTA_kT\" or \"OP_kT\" in the axisdef option of the nSubExtractor)"
   ]
  },
  {
   "cell_type": "code",
   "execution_count": 6,
   "metadata": {},
   "outputs": [
    {
     "name": "stdout",
     "output_type": "stream",
     "text": [
      "(6270, 21) (6270, 2)\n"
     ]
    },
    {
     "name": "stderr",
     "output_type": "stream",
     "text": [
      "Warning in <TClass::Init>: no dictionary for class edm::ProcessHistory is available\n",
      "Warning in <TClass::Init>: no dictionary for class edm::ProcessConfiguration is available\n",
      "Warning in <TClass::Init>: no dictionary for class edm::ParameterSetBlob is available\n",
      "Warning in <TClass::Init>: no dictionary for class edm::Hash<1> is available\n",
      "Warning in <TClass::Init>: no dictionary for class pair<edm::Hash<1>,edm::ParameterSetBlob> is available\n"
     ]
    }
   ],
   "source": [
    "a = nSubExtractor(isMC=1, axisdef=\"\", sample=\"TTbar/2\")\n",
    "TTbarMG_dataset, TTbarMG_reco_nSub_basis, TTbarMG_gen_nSub_basis, TTbarMG_weights = a.sample_loader()\n",
    "\n",
    "print TTbarMG_reco_nSub_basis.shape, TTbarMG_weights.shape"
   ]
  },
  {
   "cell_type": "code",
   "execution_count": 7,
   "metadata": {},
   "outputs": [
    {
     "name": "stdout",
     "output_type": "stream",
     "text": [
      "(43107, 21) (43107, 2)\n"
     ]
    }
   ],
   "source": [
    "a = nSubExtractor(isMC=1, axisdef=\"\", sample=\"TTbar/1\")\n",
    "TTbar_dataset, TTbar_reco_nSub_basis, TTbar_gen_nSub_basis, TTbar_weights  = a.sample_loader()\n",
    "\n",
    "print TTbar_reco_nSub_basis.shape, TTbar_weights.shape"
   ]
  },
  {
   "cell_type": "code",
   "execution_count": 8,
   "metadata": {},
   "outputs": [
    {
     "name": "stdout",
     "output_type": "stream",
     "text": [
      "(900, 21) (900, 2)\n"
     ]
    }
   ],
   "source": [
    "a = nSubExtractor(isMC=1, axisdef=\"\", sample=\"ST/1\")\n",
    "ST1_dataset, ST1_reco_nSub_basis, ST1_gen_nSub_basis, ST1_weights  = a.sample_loader()\n",
    "print ST1_reco_nSub_basis.shape, ST1_weights.shape"
   ]
  },
  {
   "cell_type": "code",
   "execution_count": 9,
   "metadata": {},
   "outputs": [
    {
     "name": "stdout",
     "output_type": "stream",
     "text": [
      "(1988, 21) (1988, 2)\n"
     ]
    }
   ],
   "source": [
    "a = nSubExtractor(isMC=1, axisdef=\"\", sample=\"ST/2\")\n",
    "ST2_dataset, ST2_reco_nSub_basis, ST2_gen_nSub_basis, ST2_weights  = a.sample_loader()\n",
    "print ST2_reco_nSub_basis.shape, ST2_weights.shape"
   ]
  },
  {
   "cell_type": "code",
   "execution_count": 10,
   "metadata": {},
   "outputs": [
    {
     "name": "stdout",
     "output_type": "stream",
     "text": [
      "(594, 21) (594, 2)\n"
     ]
    }
   ],
   "source": [
    "a = nSubExtractor(isMC=1, axisdef=\"\", sample=\"ST/3\")\n",
    "ST3_dataset, ST3_reco_nSub_basis, ST3_gen_nSub_basis, ST3_weights  = a.sample_loader()\n",
    "print ST3_reco_nSub_basis.shape, ST3_weights.shape"
   ]
  },
  {
   "cell_type": "code",
   "execution_count": 11,
   "metadata": {},
   "outputs": [
    {
     "name": "stdout",
     "output_type": "stream",
     "text": [
      "(617, 21) (617, 2)\n"
     ]
    }
   ],
   "source": [
    "a = nSubExtractor(isMC=1, axisdef=\"\", sample=\"ST/4\")\n",
    "ST4_dataset, ST4_reco_nSub_basis, ST4_gen_nSub_basis, ST4_weights  = a.sample_loader()\n",
    "print ST4_reco_nSub_basis.shape, ST4_weights.shape"
   ]
  },
  {
   "cell_type": "code",
   "execution_count": 12,
   "metadata": {},
   "outputs": [
    {
     "name": "stdout",
     "output_type": "stream",
     "text": [
      "(69, 21) (69, 2)\n"
     ]
    }
   ],
   "source": [
    "a = nSubExtractor(isMC=1, axisdef=\"\", sample=\"ST/5\")\n",
    "ST5_dataset, ST5_reco_nSub_basis, ST5_gen_nSub_basis, ST5_weights  = a.sample_loader()\n",
    "print ST5_reco_nSub_basis.shape, ST5_weights.shape"
   ]
  },
  {
   "cell_type": "code",
   "execution_count": 13,
   "metadata": {},
   "outputs": [
    {
     "name": "stdout",
     "output_type": "stream",
     "text": [
      "(207, 21) (207, 3)\n"
     ]
    }
   ],
   "source": [
    "a = nSubExtractor(isMC=1, axisdef=\"\", sample=\"Wjets/2\")\n",
    "Wjets_dataset, Wjets_reco_nSub_basis, Wjets_gen_nSub_basis, Wjets_weights = a.sample_loader()\n",
    "print Wjets_reco_nSub_basis.shape, Wjets_weights.shape"
   ]
  },
  {
   "cell_type": "code",
   "execution_count": 14,
   "metadata": {},
   "outputs": [
    {
     "name": "stdout",
     "output_type": "stream",
     "text": [
      "(16482, 21)\n"
     ]
    }
   ],
   "source": [
    "a = nSubExtractor(isMC=0, axisdef=\"\", sample=\"Data\")\n",
    "data_dataset, data_nSub_basis,  = a.sample_loader()\n",
    "print data_nSub_basis.shape"
   ]
  },
  {
   "cell_type": "code",
   "execution_count": 15,
   "metadata": {
    "scrolled": true
   },
   "outputs": [],
   "source": [
    "weight_ST1 = (80.95*0.322*lumi*1000.)/(38811017.)*np.ones(ST1_weights.shape[0])*ST1_weights[:,0]*ST1_weights[:,1]*0.8\n",
    "weight_ST2 = (0.322*136.02*lumi*1000.)/(66960888.)*np.ones(ST2_weights.shape[0])*ST2_weights[:,0]*ST2_weights[:,1]*0.8\n",
    "weight_ST3 = (35.6*lumi*1000.)/(998276.)*np.ones(ST3_weights.shape[0])*ST3_weights[:,0]*ST3_weights[:,1]*0.8\n",
    "weight_ST4 = (35.6*lumi*1000.)/(992024.)*np.ones(ST4_weights.shape[0])*ST4_weights[:,0]*ST4_weights[:,1]*0.8\n",
    "weight_ST5 = (10.12*lumi*1000.)/(2989199.)*np.ones(ST5_weights.shape[0])*ST5_weights[:,0]*ST5_weights[:,1]*0.8\n",
    "weight_TTbar = (831.76*lumi*1000.)/76915549.*np.ones(TTbar_weights.shape[0])*TTbar_weights[:,0]*TTbar_weights[:,1]*0.8\n",
    "weight_Wjets = ((60781.5*lumi*1000.)*(Wjets_weights[:,2]/abs(Wjets_weights[:,2][0]))/158307515.0)*Wjets_weights[:,0]*Wjets_weights[:,1]*0.8 \n",
    "weight_data = 1.0*np.ones(data_nSub_basis.shape[0])\n",
    "\n",
    "#print lumi, weight_Wjets\n",
    "#print TTbar_weights[:,0]"
   ]
  },
  {
   "cell_type": "code",
   "execution_count": 16,
   "metadata": {},
   "outputs": [
    {
     "name": "stdout",
     "output_type": "stream",
     "text": [
      "4681\n"
     ]
    }
   ],
   "source": [
    "lenW = Wjets_reco_nSub_basis.shape[0]\n",
    "lenST = ST1_reco_nSub_basis.shape[0]+ST1_reco_nSub_basis.shape[0]+ST2_reco_nSub_basis.shape[0]+ST4_reco_nSub_basis.shape[0]+ST5_reco_nSub_basis.shape[0]\n",
    "lenbkg = lenW+lenST\n",
    "print lenbkg"
   ]
  },
  {
   "cell_type": "code",
   "execution_count": 17,
   "metadata": {},
   "outputs": [],
   "source": [
    "bkg_reco_nSub_basis = np.concatenate((Wjets_reco_nSub_basis, ST1_reco_nSub_basis, ST2_reco_nSub_basis, ST3_reco_nSub_basis, ST4_reco_nSub_basis, ST5_reco_nSub_basis))"
   ]
  },
  {
   "cell_type": "code",
   "execution_count": 18,
   "metadata": {},
   "outputs": [
    {
     "name": "stdout",
     "output_type": "stream",
     "text": [
      "4681\n"
     ]
    }
   ],
   "source": [
    "lenW = Wjets_gen_nSub_basis.shape[0]\n",
    "lenST = ST1_gen_nSub_basis.shape[0]+ST1_gen_nSub_basis.shape[0]+ST2_gen_nSub_basis.shape[0]+ST4_gen_nSub_basis.shape[0]+ST5_gen_nSub_basis.shape[0]\n",
    "lenbkg = lenW+lenST\n",
    "print lenbkg"
   ]
  },
  {
   "cell_type": "code",
   "execution_count": 19,
   "metadata": {},
   "outputs": [],
   "source": [
    "bkg_gen_nSub_basis = np.concatenate((Wjets_gen_nSub_basis, ST1_gen_nSub_basis, ST2_gen_nSub_basis, ST3_gen_nSub_basis, ST4_gen_nSub_basis, ST5_gen_nSub_basis))"
   ]
  },
  {
   "cell_type": "markdown",
   "metadata": {},
   "source": [
    "# Unfolding $\\tau_{4}^{(0.5)}$ with background subtraction"
   ]
  },
  {
   "cell_type": "code",
   "execution_count": 22,
   "metadata": {},
   "outputs": [],
   "source": [
    "Wjets_gen_tau4_0p5 = Wjets_gen_nSub_basis[:,9]\n",
    "\n",
    "ST1_gen_tau4_0p5 = ST1_gen_nSub_basis[:,9]\n",
    "\n",
    "ST2_gen_tau4_0p5 = ST2_gen_nSub_basis[:,9]\n",
    "\n",
    "ST3_gen_tau4_0p5 = ST3_gen_nSub_basis[:,9]\n",
    "\n",
    "ST4_gen_tau4_0p5 = ST4_gen_nSub_basis[:,9]\n",
    "\n",
    "ST5_gen_tau4_0p5 = ST5_gen_nSub_basis[:,9]\n",
    "\n",
    "TTbar_gen_tau4_0p5 = TTbar_gen_nSub_basis[:,9]"
   ]
  },
  {
   "cell_type": "code",
   "execution_count": 23,
   "metadata": {},
   "outputs": [],
   "source": [
    "Wjets_reco_tau4_0p5 = Wjets_reco_nSub_basis[:,9]\n",
    "\n",
    "ST1_reco_tau4_0p5 = ST1_reco_nSub_basis[:,9]\n",
    "\n",
    "ST2_reco_tau4_0p5 = ST2_reco_nSub_basis[:,9]\n",
    "\n",
    "ST3_reco_tau4_0p5 = ST3_reco_nSub_basis[:,9]\n",
    "\n",
    "ST4_reco_tau4_0p5 = ST4_reco_nSub_basis[:,9]\n",
    "\n",
    "ST5_reco_tau4_0p5 = ST5_reco_nSub_basis[:,9]\n",
    "\n",
    "TTbar_reco_tau4_0p5 = TTbar_reco_nSub_basis[:,9]"
   ]
  },
  {
   "cell_type": "code",
   "execution_count": 24,
   "metadata": {},
   "outputs": [],
   "source": [
    "MC_sig_reco_tau4_0p5 = TTbar_reco_tau4_0p5\n",
    "MC_sig_gen_tau4_0p5 = TTbar_gen_tau4_0p5\n",
    "\n",
    "MC_bkg_reco_tau4_0p5 = np.concatenate((ST1_reco_tau4_0p5,ST2_reco_tau4_0p5,ST3_reco_tau4_0p5,ST4_reco_tau4_0p5,ST5_reco_tau4_0p5,Wjets_reco_tau4_0p5))\n",
    "MC_bkg_gen_tau4_0p5 = np.concatenate((ST1_gen_tau4_0p5,ST2_gen_tau4_0p5,ST3_gen_tau4_0p5,ST4_gen_tau4_0p5,ST5_gen_tau4_0p5,Wjets_gen_tau4_0p5))\n",
    "\n",
    "data_tau4_0p5 = data_nSub_basis[:,9]\n",
    "weights_MC_sig = weight_TTbar\n",
    "weights_MC_bkg = np.concatenate((weight_ST1,weight_ST2,weight_ST3,weight_ST4,weight_ST5,weight_Wjets))"
   ]
  },
  {
   "cell_type": "markdown",
   "metadata": {
    "collapsed": true
   },
   "source": [
    "Get the response matrix and input 1D distributions for unfolding."
   ]
  },
  {
   "cell_type": "code",
   "execution_count": 25,
   "metadata": {},
   "outputs": [
    {
     "name": "stdout",
     "output_type": "stream",
     "text": [
      "0.000360047270078212\n",
      "0.023307064548134804\n",
      "0.4474501311779022\n",
      "0.4498719871044159 \n",
      "\n",
      "0.06922851502895355\n",
      "0.05703458562493324\n",
      "0.45129579305648804\n",
      "0.44006502628326416 \n",
      "\n",
      "0.025227857753634453\n",
      "0.48981860280036926\n"
     ]
    }
   ],
   "source": [
    "print np.min(MC_sig_gen_tau4_0p5)\n",
    "print np.min(MC_sig_reco_tau4_0p5)\n",
    "print np.max(MC_sig_gen_tau4_0p5)\n",
    "print np.max(MC_sig_reco_tau4_0p5), \"\\n\"\n",
    "\n",
    "\n",
    "print np.min(MC_bkg_gen_tau4_0p5)\n",
    "print np.min(MC_bkg_reco_tau4_0p5)\n",
    "print np.max(MC_bkg_gen_tau4_0p5)\n",
    "print np.max(MC_bkg_reco_tau4_0p5), \"\\n\"\n",
    "\n",
    "\n",
    "print np.min(data_tau4_0p5)\n",
    "print np.max(data_tau4_0p5)"
   ]
  },
  {
   "cell_type": "markdown",
   "metadata": {
    "collapsed": true
   },
   "source": [
    "#### Set the axis ranges for the generator nd detector level distributions as well as the number of bins in each. Note that we want twice as many detector bins as generator level bins as recommended by the TUnfold documenation "
   ]
  },
  {
   "cell_type": "code",
   "execution_count": 52,
   "metadata": {},
   "outputs": [
    {
     "name": "stdout",
     "output_type": "stream",
     "text": [
      "[0.     0.11   0.1475 0.185  0.2225 0.26   0.2975 0.335  0.3725 0.41\n",
      " 0.5   ] 11\n",
      "[0.      0.055   0.11    0.12875 0.1475  0.16625 0.185   0.20375 0.2225\n",
      " 0.24125 0.26    0.27875 0.2975  0.31625 0.335   0.35375 0.3725  0.39125\n",
      " 0.41    0.455   0.5    ] 21\n"
     ]
    }
   ],
   "source": [
    "gen_bins = np.array([x for x in np.linspace(num=9, start=0.11, stop=0.41)])\n",
    "gen_bins = np.concatenate((np.array([0.,]), gen_bins, np.array([0.5,])))\n",
    "print gen_bins, gen_bins.shape[0]\n",
    "\n",
    "det_bins = np.array([x for x in np.linspace(num=17, start=0.11, stop=0.41)])\n",
    "det_bins = np.concatenate((np.array([0.,0.055,]), det_bins, np.array([0.455, 0.5]),))\n",
    "print det_bins, det_bins.shape[0]"
   ]
  },
  {
   "cell_type": "code",
   "execution_count": 53,
   "metadata": {},
   "outputs": [],
   "source": [
    "ROOT.TH1.SetDefaultSumw2()\n",
    "from root_numpy import *"
   ]
  },
  {
   "cell_type": "markdown",
   "metadata": {},
   "source": [
    "#### Fill histograms for sig and bkg. MC separately in this case (as one should!)"
   ]
  },
  {
   "cell_type": "code",
   "execution_count": 54,
   "metadata": {},
   "outputs": [
    {
     "name": "stderr",
     "output_type": "stream",
     "text": [
      "Warning in <TROOT::Append>: Replacing existing TH1: histMgenMC_bkg (Potential memory leak).\n",
      "Warning in <TROOT::Append>: Replacing existing TH1: histMgenMC_bkg (Potential memory leak).\n",
      "Warning in <TROOT::Append>: Replacing existing TH1: histMdetMC_bkg (Potential memory leak).\n",
      "Warning in <TROOT::Append>: Replacing existing TH1: histMdetMC_bkg (Potential memory leak).\n",
      "Warning in <TROOT::Append>: Replacing existing TH1: histMgenMC_sig (Potential memory leak).\n",
      "Warning in <TROOT::Append>: Replacing existing TH1: histMgenMC_sig (Potential memory leak).\n",
      "Warning in <TROOT::Append>: Replacing existing TH1: histMdetMC_sig (Potential memory leak).\n",
      "Warning in <TROOT::Append>: Replacing existing TH1: histMdetMC_sig (Potential memory leak).\n",
      "Warning in <TROOT::Append>: Replacing existing TH1: histMdetData (Potential memory leak).\n",
      "Warning in <TROOT::Append>: Replacing existing TH1: histMdetData (Potential memory leak).\n"
     ]
    }
   ],
   "source": [
    "histMgenMC_bkg = ROOT.TH1D(\"histMgenMC_bkg\", \"histMgenMC_bkg; #tau_{4}^{(0.5)}; Events/(0.02)\",  gen_bins.shape[0]-1, (gen_bins))\n",
    "fill_hist(histMgenMC_bkg, MC_bkg_gen_tau4_0p5, weights=weights_MC_bkg)\n",
    "\n",
    "histMdetMC_bkg = ROOT.TH1D(\"histMdetMC_bkg\", \"histMdetMC_bkg; #tau_{4}^{(0.5)}; Events/(0.02)\", det_bins.shape[0]-1, (det_bins))\n",
    "fill_hist(histMdetMC_bkg, MC_bkg_reco_tau4_0p5, weights=weights_MC_bkg)\n",
    "\n",
    "histMgenMC_sig = ROOT.TH1D(\"histMgenMC_sig\", \"histMgenMC_sig; #tau_{4}^{(0.5)}; Events/(0.02)\",  gen_bins.shape[0]-1, (gen_bins))\n",
    "fill_hist(histMgenMC_sig, MC_sig_gen_tau4_0p5, weights=weights_MC_sig)\n",
    "\n",
    "histMdetMC_sig = ROOT.TH1D(\"histMdetMC_sig\", \"histMdetMC_sig; #tau_{4}^{(0.5)}; Events/(0.02)\", det_bins.shape[0]-1, (det_bins))\n",
    "fill_hist(histMdetMC_sig, MC_sig_reco_tau4_0p5, weights=weights_MC_sig)\n",
    "\n",
    "#histMgenData = ROOT.TH1D(\"histMgenData\", \"histMgenData; #tau_{4}^{(0.5)}; Events/(0.02)\", gen_bins.shape[0]-1, (gen_bins))\n",
    "#fill_hist(histMgenData, TTbartruth_nSub_basis[:,4]/TTbartruth_nSub_basis[:,1])\n",
    "\n",
    "histMdetData = ROOT.TH1D(\"histMdetData\", \"histMdetData; #tau_{4}^{(0.5)}; Events/(0.02)\", det_bins.shape[0]-1, (det_bins))\n",
    "fill_hist(histMdetData, data_tau4_0p5)"
   ]
  },
  {
   "cell_type": "markdown",
   "metadata": {
    "collapsed": true
   },
   "source": [
    "Set the X and Y axis labels"
   ]
  },
  {
   "cell_type": "code",
   "execution_count": 55,
   "metadata": {},
   "outputs": [],
   "source": [
    "histMgenMC_bkg.SetTitle(\";#tau_{4}^{(0.5)}(gen_bkg)\")\n",
    "\n",
    "histMdetMC_bkg.SetTitle(\";#tau_{4}^{(0.5)}(det_bkg)\")\n",
    "\n",
    "histMgenMC_sig.SetTitle(\";#tau_{4}^{(0.5)}(gen_sig)\")\n",
    "\n",
    "histMdetMC_sig.SetTitle(\";#tau_{4}^{(0.5)}(det_sig)\")\n",
    "\n",
    "histMdetData.SetTitle(\";#tau_{4}^{(0.5)}(data)\")\n"
   ]
  },
  {
   "cell_type": "markdown",
   "metadata": {
    "collapsed": true
   },
   "source": [
    "Draw the variables at reco and gen level and for \"data\""
   ]
  },
  {
   "cell_type": "code",
   "execution_count": 56,
   "metadata": {
    "scrolled": true
   },
   "outputs": [
    {
     "data": {
      "image/png": "[encoded data removed]",
      "text/plain": [
       "<IPython.core.display.Image object>"
      ]
     },
     "metadata": {},
     "output_type": "display_data"
    }
   ],
   "source": [
    "c1 = ROOT.TCanvas(\"chistMgenMC_sig1\", \"chistMgenMC_sig1\")\n",
    "histMgenMC_sig.Draw(\"e\")\n",
    "histMdetMC_sig.Draw(\"e same\")\n",
    "c1.Draw()"
   ]
  },
  {
   "cell_type": "code",
   "execution_count": 57,
   "metadata": {
    "scrolled": true
   },
   "outputs": [
    {
     "data": {
      "image/png": "[encoded data removed]",
      "text/plain": [
       "<IPython.core.display.Image object>"
      ]
     },
     "metadata": {},
     "output_type": "display_data"
    }
   ],
   "source": [
    "c1 = ROOT.TCanvas(\"chistMgenMC_bkg1\", \"chistMgenMC_bkg1\")\n",
    "histMgenMC_bkg.Draw(\"e\")\n",
    "histMdetMC_bkg.SetLineColor(ROOT.kRed)\n",
    "histMdetMC_bkg.Draw(\"e same\")\n",
    "c1.Draw()"
   ]
  },
  {
   "cell_type": "code",
   "execution_count": 58,
   "metadata": {
    "scrolled": true
   },
   "outputs": [
    {
     "data": {
      "image/png": "[encoded data removed]",
      "text/plain": [
       "<IPython.core.display.Image object>"
      ]
     },
     "metadata": {},
     "output_type": "display_data"
    }
   ],
   "source": [
    "c1 = ROOT.TCanvas(\"chistMgenMC_sig1\", \"chistMgenMC_sig1\")\n",
    "#histMgenData.Draw(\"e\")\n",
    "histMdetData.Draw(\"e \")\n",
    "c1.Draw()"
   ]
  },
  {
   "cell_type": "markdown",
   "metadata": {},
   "source": [
    "### Fill response matrix"
   ]
  },
  {
   "cell_type": "code",
   "execution_count": 59,
   "metadata": {},
   "outputs": [
    {
     "name": "stderr",
     "output_type": "stream",
     "text": [
      "Warning in <TROOT::Append>: Replacing existing TH1: response (Potential memory leak).\n"
     ]
    }
   ],
   "source": [
    "response = ROOT.TH2D('response', 'response', det_bins.shape[0]-1, det_bins, gen_bins.shape[0]-1, gen_bins)\n",
    "hist2Dfill = np.zeros((MC_sig_reco_tau4_0p5.shape[0], 2))\n",
    "hist2Dfill[:,0] = MC_sig_reco_tau4_0p5.flatten()\n",
    "hist2Dfill[:,1] = MC_sig_gen_tau4_0p5.flatten()\n",
    "fill_hist(response, hist2Dfill, weights_MC_sig)\n",
    "response.SetTitle(\"Nominal Response Matrix;#tau_{4}^{(0.5)}(det_sig);#tau_{4}^{(0.5)}(gen_sig)\")"
   ]
  },
  {
   "cell_type": "code",
   "execution_count": 60,
   "metadata": {
    "scrolled": true
   },
   "outputs": [
    {
     "data": {
      "image/png": "[encoded data removed]",
      "text/plain": [
       "<IPython.core.display.Image object>"
      ]
     },
     "metadata": {},
     "output_type": "display_data"
    }
   ],
   "source": [
    "c1 = ROOT.TCanvas(\"cresponse1\", \"cresponse1\")\n",
    "response.Draw(\"colz\")\n",
    "c1.Draw()"
   ]
  },
  {
   "cell_type": "markdown",
   "metadata": {},
   "source": [
    "### Purity and Stability calculation"
   ]
  },
  {
   "cell_type": "raw",
   "metadata": {
    "collapsed": true
   },
   "source": [
    "#### Normalise the distributions, draw them and the response matrix."
   ]
  },
  {
   "cell_type": "raw",
   "metadata": {},
   "source": [
    "norm_genMC_bkg = histMgenMC_bkg.Integral()\n",
    "print norm_genMC_bkg\n",
    "\n",
    "norm_recoMC_bkg = histMdetMC_bkg.Integral()\n",
    "print norm_recoMC_bkg\n",
    "\n",
    "norm_genMC_sig = histMgenMC_sig.Integral()\n",
    "print norm_genMC_sig\n",
    "\n",
    "norm_recoMC_sig = histMdetMC_sig.Integral()\n",
    "print norm_recoMC_sig\n",
    "\n",
    "#norm_genData = histMgenData.Integral()\n",
    "#print norm_genData\n",
    "\n",
    "norm_detData = histMdetData.Integral()\n",
    "print norm_detData"
   ]
  },
  {
   "cell_type": "code",
   "execution_count": 61,
   "metadata": {},
   "outputs": [],
   "source": [
    "hMC_gen_bkg = ROOT.TH1D(histMgenMC_bkg)\n",
    "#hMC_gen_bkg.Scale(1./norm_genMC_bkg)\n",
    "\n",
    "hMC_reco_bkg = ROOT.TH1D(histMdetMC_bkg)\n",
    "#hMC_reco_bkg.Scale(1./norm_recoMC_bkg)\n",
    "\n",
    "hMC_gen_sig = ROOT.TH1D(histMgenMC_sig)\n",
    "#hMC_gen_sig.Scale(1./norm_genMC_sig)\n",
    "\n",
    "hMC_reco_sig = ROOT.TH1D(histMdetMC_sig)\n",
    "#hMC_reco_sig.Scale(1./norm_recoMC_sig)\n",
    "\n",
    "hMC_data = ROOT.TH1D(histMdetData)\n",
    "#histMgenData.Scale(1./norm_genData)\n",
    "#histMdetData.Scale(1./norm_detData)\n",
    "\n",
    "'''\n",
    "histMgenMC_bkg.Scale(1./norm_genMC_bkg)\n",
    "histMdetMC_bkg.Scale(1./norm_recoMC_bkg)\n",
    "histMgenMC_sig.Scale(1./norm_genMC_sig)\n",
    "histMdetMC_sig.Scale(1./norm_recoMC_sig)\n",
    "\n",
    "#histMgenData.Scale(1./norm_genData)\n",
    "histMdetData.Scale(1./norm_detData)\n",
    "''';"
   ]
  },
  {
   "cell_type": "code",
   "execution_count": 62,
   "metadata": {
    "scrolled": true
   },
   "outputs": [
    {
     "name": "stdout",
     "output_type": "stream",
     "text": [
      "0 -0.025 0.0\n",
      "1 0.0 1.67218312645\n",
      "2 0.055 67.543597946\n",
      "3 0.11 145.442583428\n",
      "4 0.12875 364.773790938\n",
      "5 0.1475 675.746730955\n",
      "6 0.16625 1099.98008896\n",
      "7 0.185 1541.51774985\n",
      "8 0.20375 1883.12373697\n",
      "9 0.2225 1887.54061178\n",
      "10 0.24125 1835.368198\n",
      "11 0.26 1468.92765834\n",
      "12 0.27875 1115.38183059\n",
      "13 0.2975 798.7101206\n",
      "14 0.31625 493.412751578\n",
      "15 0.335 279.587833922\n",
      "16 0.35375 145.896495475\n",
      "17 0.3725 60.9296367244\n",
      "18 0.39125 25.9509748647\n",
      "19 0.41 9.63105527849\n",
      "20 0.455 0.0\n",
      "==========\n",
      "0 -0.05 0.0\n",
      "1 0.0 107.447098269\n",
      "2 0.11 820.455009352\n",
      "3 0.1475 2607.34159666\n",
      "4 0.185 3948.72670297\n",
      "5 0.2225 3329.54749809\n",
      "6 0.26 1908.93071604\n",
      "7 0.2975 854.858424085\n",
      "8 0.335 260.69331265\n",
      "9 0.3725 55.5666467482\n",
      "10 0.41 7.57062445275\n"
     ]
    }
   ],
   "source": [
    "for i in xrange(0, histMdetMC_sig.GetNbinsX()+1):\n",
    "    print i, hMC_reco_sig.GetBinLowEdge(i), hMC_reco_sig.GetBinContent(i)   \n",
    "print \"==========\"\n",
    "for i in xrange(0, hMC_gen_sig.GetNbinsX()+1):\n",
    "    print i, hMC_gen_sig.GetBinLowEdge(i), hMC_gen_sig.GetBinContent(i)"
   ]
  },
  {
   "cell_type": "code",
   "execution_count": 63,
   "metadata": {},
   "outputs": [
    {
     "name": "stderr",
     "output_type": "stream",
     "text": [
      "Warning in <TROOT::Append>: Replacing existing TH1: purity (Potential memory leak).\n",
      "Warning in <TROOT::Append>: Replacing existing TH1: stability (Potential memory leak).\n",
      "Warning in <TROOT::Append>: Replacing existing TH1: efficiency (Potential memory leak).\n"
     ]
    }
   ],
   "source": [
    "purity = ROOT.TH1D(\"purity\", \"Purity and stability study; #tau_{4}^{(0.5)}; \",  gen_bins.shape[0]-1, (gen_bins))\n",
    "stability = ROOT.TH1D(\"stability\", \"Purity and stability study; #tau_{4}^{(0.5)}; \",  gen_bins.shape[0]-1, (gen_bins))\n",
    "efficiency = ROOT.TH1D(\"efficiency\", \"Purity and stability study; #tau_{4}^{(0.5)}; \",  gen_bins.shape[0]-1, (gen_bins))"
   ]
  },
  {
   "cell_type": "markdown",
   "metadata": {},
   "source": [
    "### With python"
   ]
  },
  {
   "cell_type": "markdown",
   "metadata": {},
   "source": [
    "We define purity as the fraction of reconstructed events that are generated in the same bin, \n",
    "and stability as the fraction of generated events that are reconstructed in the same\n",
    "bin, divided by the overall reconstruction efficiency per bin. "
   ]
  },
  {
   "cell_type": "code",
   "execution_count": 64,
   "metadata": {
    "scrolled": true
   },
   "outputs": [
    {
     "name": "stdout",
     "output_type": "stream",
     "text": [
      "[4 5 5 ... 5 1 6]\n",
      "Setting contents for P, S, eff. histos, in bin 1\n",
      "Setting contents for P, S, eff. histos, in bin 2\n",
      "Setting contents for P, S, eff. histos, in bin 3\n",
      "Setting contents for P, S, eff. histos, in bin 4\n",
      "Setting contents for P, S, eff. histos, in bin 5\n",
      "Setting contents for P, S, eff. histos, in bin 6\n",
      "Setting contents for P, S, eff. histos, in bin 7\n",
      "Setting contents for P, S, eff. histos, in bin 8\n",
      "Setting contents for P, S, eff. histos, in bin 9\n",
      "Setting contents for P, S, eff. histos, in bin 10\n",
      "\n",
      "\n",
      "+++++++++Pure and Stable! :)+++++++++++++\n",
      "\n",
      "\n",
      "[  85.  849. 3072. 5271. 4809. 2900. 1381.  432.   92.    9.    0.] \n",
      "\n",
      "[  208.  1582.  5529. 10657. 11568.  7997.  3970.  1294.   271.    31.\n",
      "     0.] \n",
      "\n",
      "Purity array: [0.40865385 0.53666245 0.55561584 0.49460449 0.41571577 0.36263599\n",
      " 0.34785894 0.33384853 0.33948339 0.29032258] \n",
      "\n",
      "\n",
      "[  85.  849. 3072. 5271. 4809. 2900. 1381.  432.   92.    9.    0.] \n",
      "\n",
      "[  323.  2535.  8197. 12285. 10313.  5854.  2611.   790.   176.    23.\n",
      "     0.] \n",
      "\n",
      "Stability array: [0.26315789 0.33491124 0.37477126 0.42905983 0.46630466 0.49538777\n",
      " 0.52891612 0.54683544 0.52272727 0.39130435] \n",
      "\n",
      "\n",
      "+++++Efficiency+++++\n",
      "\n",
      "Efficiency array: [0.00197184 0.01969518 0.07126453 0.12227712 0.11155961 0.06727446\n",
      " 0.03203656 0.01002157 0.00213422 0.00020878]\n"
     ]
    },
    {
     "name": "stderr",
     "output_type": "stream",
     "text": [
      "/shome/kdatta/.local/lib/python2.7/site-packages/ipykernel_launcher.py:54: RuntimeWarning: invalid value encountered in divide\n",
      "/shome/kdatta/.local/lib/python2.7/site-packages/ipykernel_launcher.py:59: RuntimeWarning: invalid value encountered in divide\n"
     ]
    }
   ],
   "source": [
    "gen_arr = MC_sig_gen_tau4_0p5[:]\n",
    "#print gen_arr[0:20]\n",
    "#print gen_bins[0:-1]\n",
    "gen_bin_index = np.digitize(gen_arr, gen_bins)\n",
    "print gen_bin_index\n",
    "#print gen_bin_index[0:20]\n",
    "\n",
    "det_arr = MC_sig_reco_tau4_0p5[0:]\n",
    "#print det_arr[0:20]\n",
    "#print det_bins[0:-1]\n",
    "det_bin_index = np.digitize(det_arr, gen_bins)\n",
    "det_bin_index2 = np.digitize(det_arr, det_bins)\n",
    "#print det_bin_index[0:20]\n",
    "\n",
    "ndet_pergenbin = [0.] #N_recgen array = number of events generated in and reconstructed in gen bin i\n",
    "ndet_genanywhere = [0.] # number of events reconstructed in gen _bin i but generated anywhere\n",
    "ngen_detanywhere = [0.] # number of events generated in gen _bin i but reconstructed anywhere\n",
    "\n",
    "### purity = # of evts generated and reconstructed in gen bin i / # of evts reconstructed in gen bin i but generated anywhere\n",
    "### stability = # of evts generated and reconstructed in gen bin / # of evts generated in gen bin i but reconstructed anywhere\n",
    "for i in xrange(0, gen_bins.shape[0]-1):\n",
    "    \n",
    "    #print i+1\n",
    "    \n",
    "    for k in xrange(0, gen_bin_index.shape[0]):\n",
    "        \n",
    "        if gen_bin_index[k]==i+1: \n",
    "            ngen_detanywhere[i]+=1 #stability denominator\n",
    "            if det_bin_index[k]==i+1: ndet_pergenbin[i]+=1\n",
    "            \n",
    "    ngen_detanywhere.append(0.)\n",
    "    ndet_pergenbin.append(0.)\n",
    "    \n",
    "    for k in xrange(0, det_bin_index.shape[0]):\n",
    "        \n",
    "        if det_bin_index[k]==i+1: \n",
    "            ndet_genanywhere[i]+=1 #purity denominator\n",
    "            \n",
    "    ndet_genanywhere.append(0.)\n",
    "    \n",
    "    print \"Setting contents for P, S, eff. histos, in bin %d\"%(i+1)\n",
    "    purity.SetBinContent(i+1, ndet_pergenbin[i]/ndet_genanywhere[i])\n",
    "    stability.SetBinContent(i+1, ndet_pergenbin[i]/ngen_detanywhere[i])\n",
    "    efficiency.SetBinContent(i+1, ndet_pergenbin[i]/43107.)\n",
    "    \n",
    "    \n",
    "ndet_pergenbin = np.array(ndet_pergenbin)\n",
    "ndet_genanywhere = np.array(ndet_genanywhere)\n",
    "ngen_detanywhere = np.array(ngen_detanywhere)\n",
    "\n",
    "print \"\\n\\n+++++++++Pure and Stable! :)+++++++++++++\\n\\n\"\n",
    "print ndet_pergenbin,\"\\n\"\n",
    "print ndet_genanywhere,\"\\n\"\n",
    "purity_arr = ndet_pergenbin/ndet_genanywhere\n",
    "print \"Purity array:\", purity_arr[:-1], \"\\n\\n\"\n",
    "\n",
    "print ndet_pergenbin,\"\\n\"\n",
    "print ngen_detanywhere,\"\\n\"\n",
    "stability_arr = ndet_pergenbin/ngen_detanywhere\n",
    "print \"Stability array:\", stability_arr[:-1], \"\\n\\n\"\n",
    "\n",
    "print \"+++++Efficiency+++++\\n\"\n",
    "efficiency_arr = ndet_pergenbin/np.sum(ngen_detanywhere)\n",
    "print \"Efficiency array:\", efficiency_arr[:-1]"
   ]
  },
  {
   "cell_type": "code",
   "execution_count": 65,
   "metadata": {},
   "outputs": [],
   "source": [
    "ROOT.gStyle.SetOptStat(0)"
   ]
  },
  {
   "cell_type": "code",
   "execution_count": 66,
   "metadata": {
    "scrolled": false
   },
   "outputs": [
    {
     "name": "stderr",
     "output_type": "stream",
     "text": [
      "Warning in <TCanvas::Constructor>: Deleting canvas with same name: pse_ttbar\n"
     ]
    },
    {
     "data": {
      "image/png": "[encoded data removed]",
      "text/plain": [
       "<IPython.core.display.Image object>"
      ]
     },
     "metadata": {},
     "output_type": "display_data"
    }
   ],
   "source": [
    "cpse = ROOT.TCanvas(\"pse_ttbar\", \"pse_ttbar\")\n",
    "\n",
    "purity.SetLineColor(ROOT.kRed)\n",
    "purity.SetLineWidth(2)\n",
    "purity.SetLineStyle(2)\n",
    "purity.SetMinimum(0.)\n",
    "purity.SetMaximum(1.05)\n",
    "\n",
    "stability.SetLineColor(9)\n",
    "stability.SetLineWidth(2)\n",
    "stability.SetLineStyle(1)\n",
    "stability.SetMinimum(0.)\n",
    "stability.SetMaximum(1.05)\n",
    "stability.SetTitle(\"t#bar{t} 2016, W-selection \")\n",
    "stability.Draw(\"hist\")\n",
    "purity.Draw(\"hist same\")\n",
    "#efficiency.Draw(\"same\")\n",
    "\n",
    "leg0 = ROOT.TLegend(0.6, 0.7, 0.8, 0.8)\n",
    "leg0.AddEntry( stability, \"Stability \")\n",
    "leg0.AddEntry( purity, \"Purity \")\n",
    "#leg0.AddEntry( histMgenData, \"'Truth' (MC: MG5+Pythia8)\", 'p')\n",
    "leg0.SetLineColor(0)\n",
    "leg0.SetBorderSize(0)\n",
    "leg0.SetFillStyle(0)\n",
    "\n",
    "#hs.Add(histMdetMC, \"E\")\n",
    "#hs.Add(histMdetData, \"E\")\n",
    "#hs.Draw(\"nostack\")\n",
    "leg0.Draw()\n",
    "\n",
    "ROOT.gStyle.SetOptStat(0)\n",
    "cpse.Draw()"
   ]
  },
  {
   "cell_type": "code",
   "execution_count": 67,
   "metadata": {
    "scrolled": true
   },
   "outputs": [
    {
     "data": {
      "text/plain": [
       "(array([[8.500e+01, 9.000e+01, 2.300e+01, 1.000e+01, 0.000e+00, 0.000e+00,\n",
       "         0.000e+00, 0.000e+00, 0.000e+00, 0.000e+00],\n",
       "        [1.160e+02, 8.490e+02, 5.210e+02, 8.700e+01, 9.000e+00, 0.000e+00,\n",
       "         0.000e+00, 0.000e+00, 0.000e+00, 0.000e+00],\n",
       "        [5.000e+01, 1.121e+03, 3.072e+03, 1.164e+03, 1.140e+02, 7.000e+00,\n",
       "         1.000e+00, 0.000e+00, 0.000e+00, 0.000e+00],\n",
       "        [2.300e+01, 4.080e+02, 3.501e+03, 5.271e+03, 1.340e+03, 1.050e+02,\n",
       "         9.000e+00, 0.000e+00, 0.000e+00, 0.000e+00],\n",
       "        [1.800e+01, 5.900e+01, 9.760e+02, 4.669e+03, 4.809e+03, 9.500e+02,\n",
       "         8.400e+01, 3.000e+00, 0.000e+00, 0.000e+00],\n",
       "        [1.500e+01, 4.000e+00, 1.000e+02, 1.003e+03, 3.430e+03, 2.900e+03,\n",
       "         5.190e+02, 2.600e+01, 0.000e+00, 0.000e+00],\n",
       "        [1.200e+01, 2.000e+00, 3.000e+00, 7.600e+01, 5.750e+02, 1.706e+03,\n",
       "         1.381e+03, 2.040e+02, 1.100e+01, 0.000e+00],\n",
       "        [4.000e+00, 2.000e+00, 1.000e+00, 4.000e+00, 3.500e+01, 1.810e+02,\n",
       "         5.730e+02, 4.320e+02, 5.800e+01, 4.000e+00],\n",
       "        [0.000e+00, 0.000e+00, 0.000e+00, 1.000e+00, 0.000e+00, 5.000e+00,\n",
       "         4.300e+01, 1.200e+02, 9.200e+01, 1.000e+01],\n",
       "        [0.000e+00, 0.000e+00, 0.000e+00, 0.000e+00, 1.000e+00, 0.000e+00,\n",
       "         1.000e+00, 5.000e+00, 1.500e+01, 9.000e+00]]),\n",
       " array([ 1. ,  1.9,  2.8,  3.7,  4.6,  5.5,  6.4,  7.3,  8.2,  9.1, 10. ]),\n",
       " array([ 1. ,  1.9,  2.8,  3.7,  4.6,  5.5,  6.4,  7.3,  8.2,  9.1, 10. ]),\n",
       " <matplotlib.image.AxesImage at 0x7fe461815650>)"
      ]
     },
     "execution_count": 67,
     "metadata": {},
     "output_type": "execute_result"
    },
    {
     "data": {
      "image/png": "[encoded data removed]",
      "text/plain": [
       "<Figure size 432x288 with 1 Axes>"
      ]
     },
     "metadata": {
      "needs_background": "light"
     },
     "output_type": "display_data"
    }
   ],
   "source": [
    "plt.hist2d(x=det_bin_index, y=gen_bin_index)"
   ]
  },
  {
   "cell_type": "code",
   "execution_count": 68,
   "metadata": {
    "scrolled": true
   },
   "outputs": [
    {
     "data": {
      "image/png": "[encoded data removed]",
      "text/plain": [
       "<Figure size 432x288 with 1 Axes>"
      ]
     },
     "metadata": {
      "needs_background": "light"
     },
     "output_type": "display_data"
    },
    {
     "data": {
      "image/png": "[encoded data removed]",
      "text/plain": [
       "<Figure size 432x288 with 1 Axes>"
      ]
     },
     "metadata": {
      "needs_background": "light"
     },
     "output_type": "display_data"
    }
   ],
   "source": [
    "plt.hist2d(x=det_bin_index2, y=gen_bin_index)\n",
    "plt.show()\n",
    "plt.hist2d(x=MC_sig_reco_tau4_0p5, y=MC_sig_gen_tau4_0p5, bins=[det_bins, gen_bins])\n",
    "plt.show()"
   ]
  },
  {
   "cell_type": "code",
   "execution_count": 69,
   "metadata": {
    "scrolled": true
   },
   "outputs": [
    {
     "data": {
      "image/png": "[encoded data removed]",
      "text/plain": [
       "<Figure size 432x288 with 1 Axes>"
      ]
     },
     "metadata": {
      "needs_background": "light"
     },
     "output_type": "display_data"
    },
    {
     "data": {
      "image/png": "[encoded data removed]",
      "text/plain": [
       "<Figure size 432x288 with 1 Axes>"
      ]
     },
     "metadata": {
      "needs_background": "light"
     },
     "output_type": "display_data"
    }
   ],
   "source": [
    "plt.hist(gen_bin_index, histtype='step', color='r')\n",
    "plt.hist(det_bin_index, histtype='step', color='b')\n",
    "plt.show()\n",
    "\n",
    "plt.hist(MC_sig_gen_tau4_0p5, histtype='step', color='r', bins=gen_bins)\n",
    "plt.hist(MC_sig_reco_tau4_0p5, histtype='step', color='b', bins=gen_bins)\n",
    "plt.show()"
   ]
  },
  {
   "cell_type": "markdown",
   "metadata": {},
   "source": [
    "### with root"
   ]
  },
  {
   "cell_type": "code",
   "execution_count": 70,
   "metadata": {},
   "outputs": [
    {
     "name": "stdout",
     "output_type": "stream",
     "text": [
      "Adding content (equal to 0.0) of bin i=0, j=1 to Diagonal 1\n",
      "Adding content (equal to 0.0) of bin i=0, j=2 to Diagonal 1\n",
      "Filling row index k=0 with elements (i,j)=(0,2)\n",
      "Filling row index k=0 with elements (i,j)=(0,3)\n",
      "Filling row index k=1 with elements (i,j)=(0,4)\n",
      "Filling row index k=1 with elements (i,j)=(0,5)\n",
      "Filling row index k=2 with elements (i,j)=(0,6)\n",
      "Filling row index k=2 with elements (i,j)=(0,7)\n",
      "Filling row index k=3 with elements (i,j)=(0,8)\n",
      "Filling row index k=3 with elements (i,j)=(0,9)\n",
      "Filling row index k=4 with elements (i,j)=(0,10)\n",
      "Filling row index k=4 with elements (i,j)=(0,11)\n",
      "Filling row index k=5 with elements (i,j)=(0,12)\n",
      "Filling row index k=5 with elements (i,j)=(0,13)\n",
      "Filling row index k=6 with elements (i,j)=(0,14)\n",
      "Filling row index k=6 with elements (i,j)=(0,15)\n",
      "Filling row index k=7 with elements (i,j)=(0,16)\n",
      "Filling row index k=7 with elements (i,j)=(0,17)\n",
      "Filling row index k=8 with elements (i,j)=(0,18)\n",
      "Filling row index k=8 with elements (i,j)=(0,19)\n",
      "Filling row index k=9 with elements (i,j)=(0,20)\n",
      "Filling row index k=9 with elements (i,j)=(0,21)\n",
      "0.0 0.0\n",
      "Filling row index k=0 with elements (i,j)=(1,2)\n",
      "Filling row index k=0 with elements (i,j)=(1,3)\n",
      "Adding content (equal to 0.0) of bin i=1, j=3 to Diagonal 3\n",
      "Adding content (equal to 0.0) of bin i=1, j=4 to Diagonal 3\n",
      "Filling row index k=1 with elements (i,j)=(1,4)\n",
      "Filling row index k=1 with elements (i,j)=(1,5)\n",
      "Filling row index k=2 with elements (i,j)=(1,6)\n",
      "Filling row index k=2 with elements (i,j)=(1,7)\n",
      "Filling row index k=3 with elements (i,j)=(1,8)\n",
      "Filling row index k=3 with elements (i,j)=(1,9)\n",
      "Filling row index k=4 with elements (i,j)=(1,10)\n",
      "Filling row index k=4 with elements (i,j)=(1,11)\n",
      "Filling row index k=5 with elements (i,j)=(1,12)\n",
      "Filling row index k=5 with elements (i,j)=(1,13)\n",
      "Filling row index k=6 with elements (i,j)=(1,14)\n",
      "Filling row index k=6 with elements (i,j)=(1,15)\n",
      "Filling row index k=7 with elements (i,j)=(1,16)\n",
      "Filling row index k=7 with elements (i,j)=(1,17)\n",
      "Filling row index k=8 with elements (i,j)=(1,18)\n",
      "Filling row index k=8 with elements (i,j)=(1,19)\n",
      "Filling row index k=9 with elements (i,j)=(1,20)\n",
      "Filling row index k=9 with elements (i,j)=(1,21)\n",
      "1.67218312645 0.0\n",
      "Filling row index k=0 with elements (i,j)=(2,2)\n",
      "Filling row index k=0 with elements (i,j)=(2,3)\n",
      "Filling row index k=1 with elements (i,j)=(2,4)\n",
      "Filling row index k=1 with elements (i,j)=(2,5)\n",
      "Adding content (equal to 0.0) of bin i=2, j=5 to Diagonal 5\n",
      "Adding content (equal to 0.0) of bin i=2, j=6 to Diagonal 5\n",
      "Filling row index k=2 with elements (i,j)=(2,6)\n",
      "Filling row index k=2 with elements (i,j)=(2,7)\n",
      "Filling row index k=3 with elements (i,j)=(2,8)\n",
      "Filling row index k=3 with elements (i,j)=(2,9)\n",
      "Filling row index k=4 with elements (i,j)=(2,10)\n",
      "Filling row index k=4 with elements (i,j)=(2,11)\n",
      "Filling row index k=5 with elements (i,j)=(2,12)\n",
      "Filling row index k=5 with elements (i,j)=(2,13)\n",
      "Filling row index k=6 with elements (i,j)=(2,14)\n",
      "Filling row index k=6 with elements (i,j)=(2,15)\n",
      "Filling row index k=7 with elements (i,j)=(2,16)\n",
      "Filling row index k=7 with elements (i,j)=(2,17)\n",
      "Filling row index k=8 with elements (i,j)=(2,18)\n",
      "Filling row index k=8 with elements (i,j)=(2,19)\n",
      "Filling row index k=9 with elements (i,j)=(2,20)\n",
      "Filling row index k=9 with elements (i,j)=(2,21)\n",
      "67.543597946 0.0\n",
      "Filling row index k=0 with elements (i,j)=(3,2)\n",
      "Filling row index k=0 with elements (i,j)=(3,3)\n",
      "Filling row index k=1 with elements (i,j)=(3,4)\n",
      "Filling row index k=1 with elements (i,j)=(3,5)\n",
      "Filling row index k=2 with elements (i,j)=(3,6)\n",
      "Filling row index k=2 with elements (i,j)=(3,7)\n",
      "Adding content (equal to 0.0) of bin i=3, j=7 to Diagonal 7\n",
      "Adding content (equal to 0.0) of bin i=3, j=8 to Diagonal 7\n",
      "Filling row index k=3 with elements (i,j)=(3,8)\n",
      "Filling row index k=3 with elements (i,j)=(3,9)\n",
      "Filling row index k=4 with elements (i,j)=(3,10)\n",
      "Filling row index k=4 with elements (i,j)=(3,11)\n",
      "Filling row index k=5 with elements (i,j)=(3,12)\n",
      "Filling row index k=5 with elements (i,j)=(3,13)\n",
      "Filling row index k=6 with elements (i,j)=(3,14)\n",
      "Filling row index k=6 with elements (i,j)=(3,15)\n",
      "Filling row index k=7 with elements (i,j)=(3,16)\n",
      "Filling row index k=7 with elements (i,j)=(3,17)\n",
      "Filling row index k=8 with elements (i,j)=(3,18)\n",
      "Filling row index k=8 with elements (i,j)=(3,19)\n",
      "Filling row index k=9 with elements (i,j)=(3,20)\n",
      "Filling row index k=9 with elements (i,j)=(3,21)\n",
      "145.442583428 0.0\n",
      "Filling row index k=0 with elements (i,j)=(4,2)\n",
      "Filling row index k=0 with elements (i,j)=(4,3)\n",
      "Filling row index k=1 with elements (i,j)=(4,4)\n",
      "Filling row index k=1 with elements (i,j)=(4,5)\n",
      "Filling row index k=2 with elements (i,j)=(4,6)\n",
      "Filling row index k=2 with elements (i,j)=(4,7)\n",
      "Filling row index k=3 with elements (i,j)=(4,8)\n",
      "Filling row index k=3 with elements (i,j)=(4,9)\n",
      "Adding content (equal to 0.0) of bin i=4, j=9 to Diagonal 9\n",
      "Adding content (equal to 0.0) of bin i=4, j=10 to Diagonal 9\n",
      "Filling row index k=4 with elements (i,j)=(4,10)\n",
      "Filling row index k=4 with elements (i,j)=(4,11)\n",
      "Filling row index k=5 with elements (i,j)=(4,12)\n",
      "Filling row index k=5 with elements (i,j)=(4,13)\n",
      "Filling row index k=6 with elements (i,j)=(4,14)\n",
      "Filling row index k=6 with elements (i,j)=(4,15)\n",
      "Filling row index k=7 with elements (i,j)=(4,16)\n",
      "Filling row index k=7 with elements (i,j)=(4,17)\n",
      "Filling row index k=8 with elements (i,j)=(4,18)\n",
      "Filling row index k=8 with elements (i,j)=(4,19)\n",
      "Filling row index k=9 with elements (i,j)=(4,20)\n",
      "Filling row index k=9 with elements (i,j)=(4,21)\n",
      "364.773790938 0.0\n",
      "Filling row index k=0 with elements (i,j)=(5,2)\n",
      "Filling row index k=0 with elements (i,j)=(5,3)\n",
      "Filling row index k=1 with elements (i,j)=(5,4)\n",
      "Filling row index k=1 with elements (i,j)=(5,5)\n",
      "Filling row index k=2 with elements (i,j)=(5,6)\n",
      "Filling row index k=2 with elements (i,j)=(5,7)\n",
      "Filling row index k=3 with elements (i,j)=(5,8)\n",
      "Filling row index k=3 with elements (i,j)=(5,9)\n",
      "Filling row index k=4 with elements (i,j)=(5,10)\n",
      "Filling row index k=4 with elements (i,j)=(5,11)\n",
      "Adding content (equal to 0.0) of bin i=5, j=11 to Diagonal 11\n",
      "Adding content (equal to 0.0) of bin i=5, j=12 to Diagonal 11\n",
      "Filling row index k=5 with elements (i,j)=(5,12)\n",
      "Filling row index k=5 with elements (i,j)=(5,13)\n",
      "Filling row index k=6 with elements (i,j)=(5,14)\n",
      "Filling row index k=6 with elements (i,j)=(5,15)\n",
      "Filling row index k=7 with elements (i,j)=(5,16)\n",
      "Filling row index k=7 with elements (i,j)=(5,17)\n",
      "Filling row index k=8 with elements (i,j)=(5,18)\n",
      "Filling row index k=8 with elements (i,j)=(5,19)\n",
      "Filling row index k=9 with elements (i,j)=(5,20)\n",
      "Filling row index k=9 with elements (i,j)=(5,21)\n",
      "675.746730955 0.0\n",
      "Filling row index k=0 with elements (i,j)=(6,2)\n",
      "Filling row index k=0 with elements (i,j)=(6,3)\n",
      "Filling row index k=1 with elements (i,j)=(6,4)\n",
      "Filling row index k=1 with elements (i,j)=(6,5)\n",
      "Filling row index k=2 with elements (i,j)=(6,6)\n",
      "Filling row index k=2 with elements (i,j)=(6,7)\n",
      "Filling row index k=3 with elements (i,j)=(6,8)\n",
      "Filling row index k=3 with elements (i,j)=(6,9)\n",
      "Filling row index k=4 with elements (i,j)=(6,10)\n",
      "Filling row index k=4 with elements (i,j)=(6,11)\n",
      "Filling row index k=5 with elements (i,j)=(6,12)\n",
      "Filling row index k=5 with elements (i,j)=(6,13)\n",
      "Adding content (equal to 0.0) of bin i=6, j=13 to Diagonal 13\n",
      "Adding content (equal to 0.0) of bin i=6, j=14 to Diagonal 13\n",
      "Filling row index k=6 with elements (i,j)=(6,14)\n",
      "Filling row index k=6 with elements (i,j)=(6,15)\n",
      "Filling row index k=7 with elements (i,j)=(6,16)\n",
      "Filling row index k=7 with elements (i,j)=(6,17)\n",
      "Filling row index k=8 with elements (i,j)=(6,18)\n",
      "Filling row index k=8 with elements (i,j)=(6,19)\n",
      "Filling row index k=9 with elements (i,j)=(6,20)\n",
      "Filling row index k=9 with elements (i,j)=(6,21)\n",
      "1099.98008896 0.0\n",
      "Filling row index k=0 with elements (i,j)=(7,2)\n",
      "Filling row index k=0 with elements (i,j)=(7,3)\n",
      "Filling row index k=1 with elements (i,j)=(7,4)\n",
      "Filling row index k=1 with elements (i,j)=(7,5)\n",
      "Filling row index k=2 with elements (i,j)=(7,6)\n",
      "Filling row index k=2 with elements (i,j)=(7,7)\n",
      "Filling row index k=3 with elements (i,j)=(7,8)\n",
      "Filling row index k=3 with elements (i,j)=(7,9)\n",
      "Filling row index k=4 with elements (i,j)=(7,10)\n",
      "Filling row index k=4 with elements (i,j)=(7,11)\n",
      "Filling row index k=5 with elements (i,j)=(7,12)\n",
      "Filling row index k=5 with elements (i,j)=(7,13)\n",
      "Filling row index k=6 with elements (i,j)=(7,14)\n",
      "Filling row index k=6 with elements (i,j)=(7,15)\n",
      "Adding content (equal to 0.0) of bin i=7, j=15 to Diagonal 15\n",
      "Adding content (equal to 0.0) of bin i=7, j=16 to Diagonal 15\n",
      "Filling row index k=7 with elements (i,j)=(7,16)\n",
      "Filling row index k=7 with elements (i,j)=(7,17)\n",
      "Filling row index k=8 with elements (i,j)=(7,18)\n",
      "Filling row index k=8 with elements (i,j)=(7,19)\n",
      "Filling row index k=9 with elements (i,j)=(7,20)\n",
      "Filling row index k=9 with elements (i,j)=(7,21)\n",
      "1541.51774985 0.0\n",
      "Filling row index k=0 with elements (i,j)=(8,2)\n",
      "Filling row index k=0 with elements (i,j)=(8,3)\n",
      "Filling row index k=1 with elements (i,j)=(8,4)\n",
      "Filling row index k=1 with elements (i,j)=(8,5)\n",
      "Filling row index k=2 with elements (i,j)=(8,6)\n",
      "Filling row index k=2 with elements (i,j)=(8,7)\n",
      "Filling row index k=3 with elements (i,j)=(8,8)\n",
      "Filling row index k=3 with elements (i,j)=(8,9)\n",
      "Filling row index k=4 with elements (i,j)=(8,10)\n",
      "Filling row index k=4 with elements (i,j)=(8,11)\n",
      "Filling row index k=5 with elements (i,j)=(8,12)\n",
      "Filling row index k=5 with elements (i,j)=(8,13)\n",
      "Filling row index k=6 with elements (i,j)=(8,14)\n",
      "Filling row index k=6 with elements (i,j)=(8,15)\n",
      "Filling row index k=7 with elements (i,j)=(8,16)\n",
      "Filling row index k=7 with elements (i,j)=(8,17)\n",
      "Adding content (equal to 0.0) of bin i=8, j=17 to Diagonal 17\n",
      "Adding content (equal to 0.0) of bin i=8, j=18 to Diagonal 17\n",
      "Filling row index k=8 with elements (i,j)=(8,18)\n",
      "Filling row index k=8 with elements (i,j)=(8,19)\n",
      "Filling row index k=9 with elements (i,j)=(8,20)\n",
      "Filling row index k=9 with elements (i,j)=(8,21)\n",
      "1883.12373697 0.0\n",
      "Filling row index k=0 with elements (i,j)=(9,2)\n",
      "Filling row index k=0 with elements (i,j)=(9,3)\n",
      "Filling row index k=1 with elements (i,j)=(9,4)\n",
      "Filling row index k=1 with elements (i,j)=(9,5)\n",
      "Filling row index k=2 with elements (i,j)=(9,6)\n",
      "Filling row index k=2 with elements (i,j)=(9,7)\n",
      "Filling row index k=3 with elements (i,j)=(9,8)\n",
      "Filling row index k=3 with elements (i,j)=(9,9)\n",
      "Filling row index k=4 with elements (i,j)=(9,10)\n",
      "Filling row index k=4 with elements (i,j)=(9,11)\n",
      "Filling row index k=5 with elements (i,j)=(9,12)\n",
      "Filling row index k=5 with elements (i,j)=(9,13)\n",
      "Filling row index k=6 with elements (i,j)=(9,14)\n",
      "Filling row index k=6 with elements (i,j)=(9,15)\n",
      "Filling row index k=7 with elements (i,j)=(9,16)\n",
      "Filling row index k=7 with elements (i,j)=(9,17)\n",
      "Filling row index k=8 with elements (i,j)=(9,18)\n",
      "Filling row index k=8 with elements (i,j)=(9,19)\n",
      "Adding content (equal to 0.0) of bin i=9, j=19 to Diagonal 19\n",
      "Adding content (equal to 0.0) of bin i=9, j=20 to Diagonal 19\n",
      "Filling row index k=9 with elements (i,j)=(9,20)\n",
      "Filling row index k=9 with elements (i,j)=(9,21)\n",
      "1887.54061178 0.0\n",
      "Filling row index k=0 with elements (i,j)=(10,2)\n",
      "Filling row index k=0 with elements (i,j)=(10,3)\n",
      "Filling row index k=1 with elements (i,j)=(10,4)\n",
      "Filling row index k=1 with elements (i,j)=(10,5)\n",
      "Filling row index k=2 with elements (i,j)=(10,6)\n",
      "Filling row index k=2 with elements (i,j)=(10,7)\n",
      "Filling row index k=3 with elements (i,j)=(10,8)\n",
      "Filling row index k=3 with elements (i,j)=(10,9)\n",
      "Filling row index k=4 with elements (i,j)=(10,10)\n",
      "Filling row index k=4 with elements (i,j)=(10,11)\n",
      "Filling row index k=5 with elements (i,j)=(10,12)\n",
      "Filling row index k=5 with elements (i,j)=(10,13)\n",
      "Filling row index k=6 with elements (i,j)=(10,14)\n",
      "Filling row index k=6 with elements (i,j)=(10,15)\n",
      "Filling row index k=7 with elements (i,j)=(10,16)\n",
      "Filling row index k=7 with elements (i,j)=(10,17)\n",
      "Filling row index k=8 with elements (i,j)=(10,18)\n",
      "Filling row index k=8 with elements (i,j)=(10,19)\n",
      "Filling row index k=9 with elements (i,j)=(10,20)\n",
      "Filling row index k=9 with elements (i,j)=(10,21)\n",
      "1835.368198 0.0\n"
     ]
    }
   ],
   "source": [
    "ps_bindex = 0 \n",
    "\n",
    "l = 1\n",
    "\n",
    "tot_col = [] #np.array([0. for i in xrange(0, purity.GetNbinsX()+1)]) #\n",
    "#tot_col_err = [] #0 \n",
    "\n",
    "tot_row = np.array([0. for i in xrange(1, purity.GetNbinsX()+1)])\n",
    "#tot_row_err = np.zeros_like([0. for i in xrange(1, purity.GetNbinsX()+1)])\n",
    "\n",
    "diag = [] #np.zeros_like([0. for i in xrange(1, purity.GetNbinsX()+1)])\n",
    "#diag_error = [] # np.zeros_like([0. for i in xrange(1, purity.GetNbinsX()+1)])\n",
    "\n",
    "for i in range(0, response.GetNbinsY()+1):    \n",
    "    \n",
    "    k = 0\n",
    "    col = 0.\n",
    "    d_jj = 0.\n",
    "    for j in range(1, response.GetNbinsX()+1):\n",
    "    \n",
    "        r_ij = response.GetBinContent(i,j)\n",
    "        #r_ij_err = response.GetBinError(i,j)\n",
    "        #print (i,j), r_ij\n",
    "        \n",
    "        if (j)%2==0 and j < (response.GetNbinsX()+1):\n",
    "            #since 2 reco bins per 1 gen bin\n",
    "            print \"Filling row index k={} with elements (i,j)=({},{})\".format(k,i,j)\n",
    "            tot_row[k] += r_ij\n",
    "            print \"Filling row index k={} with elements (i,j)=({},{})\".format(k,i,j+1)\n",
    "            tot_row[k] +=  response.GetBinContent(i,j+1)\n",
    "            \n",
    "            #tot_col_err[k] += response.GetBinError(i,j)\n",
    "            #tot_col_err[k] +=  response.GetBinError(i,j+1)\n",
    "            \n",
    "            k +=1\n",
    "        \n",
    "        col += r_ij\n",
    "        \n",
    "        if l==j:\n",
    "            print \"Adding content (equal to {}) of bin i={}, j={} to Diagonal\".format(r_ij, i,j), l\n",
    "            d_jj += r_ij\n",
    " \n",
    "            print \"Adding content (equal to {}) of bin i={}, j={} to Diagonal\".format( response.GetBinContent(i,j+1), i,j+1), l\n",
    "            d_jj += response.GetBinContent(i,j+1)\n",
    "\n",
    "            diag.append(d_jj)\n",
    "    l = l+2\n",
    "    print col, d_jj"
   ]
  },
  {
   "cell_type": "code",
   "execution_count": 71,
   "metadata": {},
   "outputs": [
    {
     "name": "stdout",
     "output_type": "stream",
     "text": [
      "[0.0, 0.0, 0.0, 0.0, 0.0, 0.0, 0.0, 0.0, 0.0, 0.0]\n",
      "[3.39088549e+03 5.64098894e+03 3.71218412e+02 1.16916608e+00\n",
      " 0.00000000e+00 0.00000000e+00 0.00000000e+00 0.00000000e+00\n",
      " 0.00000000e+00 0.00000000e+00]\n",
      "[ 0.  0.  0.  0. nan nan nan nan nan nan]\n"
     ]
    },
    {
     "name": "stderr",
     "output_type": "stream",
     "text": [
      "/shome/kdatta/.local/lib/python2.7/site-packages/ipykernel_launcher.py:3: RuntimeWarning: invalid value encountered in divide\n",
      "  This is separate from the ipykernel package so we can avoid doing imports until\n"
     ]
    }
   ],
   "source": [
    "print diag\n",
    "print tot_row\n",
    "print diag/tot_row"
   ]
  },
  {
   "cell_type": "code",
   "execution_count": 72,
   "metadata": {},
   "outputs": [
    {
     "ename": "SyntaxError",
     "evalue": "invalid syntax (<ipython-input-72-dc72c7765764>, line 9)",
     "output_type": "error",
     "traceback": [
      "\u001b[0;36m  File \u001b[0;32m\"<ipython-input-72-dc72c7765764>\"\u001b[0;36m, line \u001b[0;32m9\u001b[0m\n\u001b[0;31m    if i==0 and j==0: purity_reco_binning[0] = dval/\u001b[0m\n\u001b[0m                                                    ^\u001b[0m\n\u001b[0;31mSyntaxError\u001b[0m\u001b[0;31m:\u001b[0m invalid syntax\n"
     ]
    }
   ],
   "source": [
    "purity_reco_binning = [0] \n",
    "diag = 0\n",
    "for i in range(1, response.GetNbinsX()+1):\n",
    "    for j in range(1, response.GetNbinsY()+1):\n",
    "        dval = response.GetBinContent(i,j)\n",
    "        if i==j:\n",
    "            diag = diag+dval\n",
    "            print i, j, \n",
    "            if i==0 and j==0: purity_reco_binning[0] = dval/\n",
    "            else: purity_reco_binning.append()\n",
    "        j = j+2"
   ]
  },
  {
   "cell_type": "code",
   "execution_count": null,
   "metadata": {},
   "outputs": [],
   "source": []
  },
  {
   "cell_type": "markdown",
   "metadata": {},
   "source": [
    "### Unfolding "
   ]
  },
  {
   "cell_type": "code",
   "execution_count": 73,
   "metadata": {},
   "outputs": [
    {
     "name": "stdout",
     "output_type": "stream",
     "text": [
      "getting tunfolder:\n"
     ]
    },
    {
     "name": "stderr",
     "output_type": "stream",
     "text": [
      "Info in <TUnfold::SetConstraint>: fConstraint=0\n",
      "Info in <TUnfold::TUnfold>: underflow and overflow bin do not depend on the input data\n",
      "Info in <TUnfold::TUnfold>: 20 input bins and 10 output bins\n",
      "Info in <TUnfoldDensity::TUnfold>: *NOT* unfolding bin #0 (yaxis:#tau_{4}^{(0.5)}(gen_sig)[ufl])\n",
      "Info in <TUnfoldDensity::TUnfold>: *NOT* unfolding bin #11 (yaxis:#tau_{4}^{(0.5)}(gen_sig)[ofl])\n",
      "Info in <TUnfoldDensity::RegularizeOneDistribution>: regularizing yaxis regMode=3 densityMode=1 axisSteering=*[UOB]\n",
      "Info in <TUnfold::SetConstraint>: fConstraint=0\n",
      "Info in <TUnfold::TUnfold>: underflow and overflow bin do not depend on the input data\n",
      "Info in <TUnfold::TUnfold>: 20 input bins and 10 output bins\n",
      "Info in <TUnfoldDensity::TUnfold>: *NOT* unfolding bin #0 (yaxis:#tau_{4}^{(0.5)}(gen_sig)[ufl])\n",
      "Info in <TUnfoldDensity::TUnfold>: *NOT* unfolding bin #11 (yaxis:#tau_{4}^{(0.5)}(gen_sig)[ofl])\n",
      "Info in <TUnfoldDensity::RegularizeOneDistribution>: regularizing yaxis regMode=3 densityMode=1 axisSteering=*[UOB]\n"
     ]
    }
   ],
   "source": [
    "print 'getting tunfolder:'\n",
    "\n",
    "orientation = ROOT.TUnfoldDensity.kHistMapOutputHoriz\n",
    "regMode = ROOT.TUnfoldDensity.kRegModeCurvature\n",
    "con = ROOT.TUnfoldDensity.kEConstraintNone\n",
    "mode =  ROOT.TUnfoldDensity.kDensityModeBinWidth\n",
    "errmode = ROOT.TUnfoldSys.kSysErrModeMatrix\n",
    "#tunfolder_MC = ROOT.TUnfoldDensity(response, orientation, regMode, con, mode, \"signal\", \"*[UOb]\")\n",
    "#tunfolder_data = ROOT.TUnfoldDensity(response, orientation, regMode, con, mode, \"signal\", \"*[UOb]\")\n",
    "\n",
    "tunfolder_MC = ROOT.TUnfoldDensity(response,ROOT.TUnfold.kHistMapOutputVert,ROOT.TUnfold.kRegModeCurvature, ROOT.TUnfold.kEConstraintNone, ROOT.TUnfoldDensity.kDensityModeBinWidth)\n",
    "tunfolder_data = ROOT.TUnfoldDensity(response,ROOT.TUnfold.kHistMapOutputVert,ROOT.TUnfold.kRegModeCurvature, ROOT.TUnfold.kEConstraintNone, ROOT.TUnfoldDensity.kDensityModeBinWidth)"
   ]
  },
  {
   "cell_type": "markdown",
   "metadata": {
    "collapsed": true
   },
   "source": [
    "Set the input, a 1D reconstructed histogram from either MC_sig (closure) or Data (measurement) , binned in the detector level binning. Subtract background contributions from data, using reco-MC bkg."
   ]
  },
  {
   "cell_type": "code",
   "execution_count": 74,
   "metadata": {},
   "outputs": [
    {
     "name": "stdout",
     "output_type": "stream",
     "text": [
      "setting reco input\n"
     ]
    }
   ],
   "source": [
    "print 'setting reco input'\n",
    "tunfolder_data.SetInput( histMdetData )\n",
    "tunfolder_data.SubtractBackground( histMdetMC_bkg, \"bkg_all\", 1. )"
   ]
  },
  {
   "cell_type": "code",
   "execution_count": 75,
   "metadata": {},
   "outputs": [
    {
     "name": "stdout",
     "output_type": "stream",
     "text": [
      "setting reco MC input\n"
     ]
    },
    {
     "data": {
      "text/plain": [
       "1"
      ]
     },
     "execution_count": 75,
     "metadata": {},
     "output_type": "execute_result"
    },
    {
     "name": "stderr",
     "output_type": "stream",
     "text": [
      "Warning in <TUnfoldDensity::SetInput>: One input bin has zero error, and is ignored.\n"
     ]
    }
   ],
   "source": [
    "print 'setting reco MC input'\n",
    "tunfolder_MC.SetInput( histMdetMC_sig )\n",
    "#tunfolder_MC.SubtractBackground( histMdetMC_bkg, \"bkg_all\", 1. )"
   ]
  },
  {
   "cell_type": "raw",
   "metadata": {},
   "source": [
    "Unfold nScan times with values for the regularization parameter between tauMin and tauMax using the empty TSplines to store the results."
   ]
  },
  {
   "cell_type": "raw",
   "metadata": {
    "scrolled": true
   },
   "source": [
    "print 'regularizing'\n",
    "nScan=50\n",
    "tauMin=-5.0\n",
    "tauMax=3.0\n",
    "iBest=0\n",
    "\n",
    "logTauX = ROOT.MakeNullPointer(ROOT.TSpline)\n",
    "logTauY = ROOT.MakeNullPointer(ROOT.TSpline)\n",
    "lCurve = ROOT.MakeNullPointer(ROOT.TGraph)\n",
    "\n",
    "print 'doing the unfolding'\n",
    "tunfolder.ScanLcurve(nScan,tauMin,tauMax,lCurve,logTauX,logTauY);\n",
    "print 'getting the results'\n",
    "unfolded = tunfolder.GetOutput(\"unfolded\")"
   ]
  },
  {
   "cell_type": "code",
   "execution_count": 76,
   "metadata": {},
   "outputs": [
    {
     "name": "stderr",
     "output_type": "stream",
     "text": [
      "Warning in <TROOT::Append>: Replacing existing TH1: unfolded_data (Potential memory leak).\n",
      "Warning in <TROOT::Append>: Replacing existing TH1: unfolded_MC (Potential memory leak).\n"
     ]
    }
   ],
   "source": [
    "unfolded_data = tunfolder_data.DoUnfold(0.)\n",
    "unfolded_data = tunfolder_data.GetOutput(\"unfolded_data\")\n",
    "\n",
    "unfolded_MC = tunfolder_MC.DoUnfold(0.)\n",
    "unfolded_MC = tunfolder_MC.GetOutput(\"unfolded_MC\")"
   ]
  },
  {
   "cell_type": "code",
   "execution_count": 77,
   "metadata": {},
   "outputs": [],
   "source": [
    "ROOT.gStyle.SetOptStat(0)"
   ]
  },
  {
   "cell_type": "code",
   "execution_count": 78,
   "metadata": {
    "scrolled": false
   },
   "outputs": [
    {
     "name": "stderr",
     "output_type": "stream",
     "text": [
      "Warning in <TCanvas::Constructor>: Deleting canvas with same name: c5\n",
      "Info in <TCanvas::Print>: png file tau4_0p5_unfolding_Escheme_bkgsub.png has been created\n",
      "Info in <TCanvas::Print>: pdf file tau4_0p5_unfolding_Escheme_bkgsub.pdf has been created\n"
     ]
    },
    {
     "data": {
      "image/png": "[encoded data removed]",
      "text/plain": [
       "<IPython.core.display.Image object>"
      ]
     },
     "metadata": {},
     "output_type": "display_data"
    }
   ],
   "source": [
    "c5 = ROOT.TCanvas('c5', 'c5')\n",
    "\n",
    "unfolded_MC.SetMarkerStyle(2)\n",
    "unfolded_MC.SetMarkerColor(7)\n",
    "unfolded_MC.SetLineColor(7)\n",
    "unfolded_MC.SetLineWidth(1)\n",
    "\n",
    "unfolded_data.SetMarkerStyle(22)\n",
    "unfolded_data.SetMarkerColor(1)\n",
    "unfolded_data.SetLineColor(1)\n",
    "unfolded_data.SetLineWidth(2)\n",
    "\n",
    "\n",
    "#unfolded_MC.SetFillColor(0)\n",
    "#histMgenData.SetMarkerStyle(4)\n",
    "#histMgenData.SetMarkerColor(2)\n",
    "#histMgenData.SetOption(\"E\")\n",
    "#histMgenData.SetLineColor(2)\n",
    "histMgenMC_sig.SetMarkerStyle(5)\n",
    "histMgenMC_sig.SetMarkerColor(2)\n",
    "histMgenMC_sig.SetLineColor(2)\n",
    "\n",
    "\n",
    "\n",
    "hs = ROOT.THStack(\"#tau_{4}\", \"#tau_{4}\")\n",
    "#hs.Add\n",
    "hs.SetMaximum(6500)\n",
    "#hs.Add( histMgenData, \"E HIST\")\n",
    "hs.Add( unfolded_MC, \"E HIST\")\n",
    "hs.Add( unfolded_data, \"E \")\n",
    "hs.Add(histMgenMC_sig, \"E HIST\")\n",
    "#hs.Add(histMdetMC_sig, \"E\")\n",
    "#hs.Add(histMdetData, \"E\")\n",
    "\n",
    "leg0 = ROOT.TLegend(0.05, 0.72, 0.91, 0.85)\n",
    "leg0.AddEntry( unfolded_data, \"Data (2016)\", 'p')\n",
    "leg0.AddEntry( histMgenMC_sig, \"Generator-level (ttbar MC: Powheg+Pythia8)\", 'p')\n",
    "#leg0.AddEntry( histMgenData, \"'Truth' (MC: MG5+Pythia8)\", 'p')\n",
    "leg0.AddEntry( unfolded_MC, \"Unfolding_self-closure (ttbar MC: Powheg+Pythia8)\", 'p')\n",
    "leg0.SetLineColor(0)\n",
    "leg0.SetBorderSize(0)\n",
    "leg0.SetFillStyle(0)\n",
    "\n",
    "#hs.Add(histMdetMC, \"E\")\n",
    "#hs.Add(histMdetData, \"E\")\n",
    "hs.Draw(\"nostack\")\n",
    "leg0.Draw()\n",
    "\n",
    "c5.Draw()\n",
    "c5.SaveAs(\"tau4_0p5_unfolding_Escheme_bkgsub.png\")\n",
    "c5.SaveAs(\"tau4_0p5_unfolding_Escheme_bkgsub.pdf\")"
   ]
  },
  {
   "cell_type": "code",
   "execution_count": 79,
   "metadata": {},
   "outputs": [
    {
     "name": "stdout",
     "output_type": "stream",
     "text": [
      "Bin Content \tBin error \tBin Center \tBin Low-Edge \tRatio to Truth for bin \tRatio Error\n",
      "107.4471 \t22.4407 \t0.055 \t0.0 1.0000 0.2166\n",
      "820.4550 \t65.6313 \t0.12875 \t0.11 1.0000 0.0826\n",
      "2607.3416 \t133.1082 \t0.16625 \t0.1475 1.0000 0.0523\n",
      "3948.7267 \t177.6482 \t0.20375 \t0.185 1.0000 0.0460\n",
      "3329.5475 \t171.2859 \t0.24125 \t0.2225 1.0000 0.0525\n",
      "1908.9307 \t136.2075 \t0.27875 \t0.26 1.0000 0.0726\n",
      "854.8584 \t92.3146 \t0.31625 \t0.2975 1.0000 0.1099\n",
      "260.6933 \t51.3972 \t0.35375 \t0.335 1.0000 0.2006\n",
      "55.5666 \t23.0599 \t0.39125 \t0.3725 1.0000 0.4227\n",
      "7.5706 \t6.9079 \t0.455 \t0.41 1.0000 0.9379\n"
     ]
    }
   ],
   "source": [
    "ratio = ROOT.TH1D(\"\",\"; #tau_{4}^{(1)}\",  gen_bins.shape[0]-1, (gen_bins))\n",
    "ratio.GetXaxis().SetTitle(\"#tau_{4}^{(1)}\");\n",
    "#ratio.GetYaxis().SetTitleOffset(0.);\n",
    "ratio.GetYaxis().CenterTitle(ROOT.kTRUE);\n",
    "ratio.GetXaxis().CenterTitle(ROOT.kTRUE);\n",
    "ratio.GetYaxis().SetRangeUser(0.7,1.3)\n",
    "ratio.Add(unfolded_MC)\n",
    "ratio.GetYaxis().SetTitle(\"#frac{Unfolded Powheg}{Gen-level Powheg}\")\n",
    "ratio.Sumw2()\n",
    "ratio.SetStats(0)\n",
    "ratio.Divide(histMgenMC_sig);\n",
    "ratio.GetYaxis().SetLabelSize(0.09)\n",
    "ratio.GetXaxis().SetLabelSize(0.09)\n",
    "#ratio.SetMarkerStyle(1)\n",
    "ratio.SetMarkerColor(ROOT.kRed)\n",
    "ratio.SetLineColor(ROOT.kRed)\n",
    "ratio.GetYaxis().SetTitleSize(0.12)\n",
    "ratio.GetYaxis().SetTitleOffset(0.4)\n",
    "ratio.GetXaxis().SetTitleSize(0.12)\n",
    "ratio.GetXaxis().SetTitleOffset(0.85)\n",
    "\n",
    "print \"Bin Content\", \"\\t\", \"Bin error\", \"\\t\", \"Bin Center\", \"\\t\", \"Bin Low-Edge\", \"\\t\", \"Ratio to Truth for bin\", \"\\t\", \"Ratio Error\"\n",
    "for i in xrange(1,gen_bins.shape[0]):\n",
    "    print \"%0.4f\"%unfolded_MC.GetBinContent(i), \"\\t\", \"%0.4f\"%unfolded_MC.GetBinError(i), \"\\t\", unfolded_MC.GetBinCenter(i), \"\\t\", unfolded_MC.GetBinLowEdge(i), \"%0.4f\"%ratio.GetBinContent(i), \"%0.4f\"%ratio.GetBinError(i)"
   ]
  },
  {
   "cell_type": "code",
   "execution_count": 80,
   "metadata": {},
   "outputs": [
    {
     "name": "stderr",
     "output_type": "stream",
     "text": [
      "Info in <TCanvas::Print>: png file tau_4_0p5_MC_SC_ratio_Escheme_bkgsub.png has been created\n",
      "Info in <TCanvas::Print>: pdf file tau_4_0p5_MC_SC_ratio_Escheme_bkgsub.pdf has been created\n"
     ]
    },
    {
     "data": {
      "image/png": "[encoded data removed]",
      "text/plain": [
       "<IPython.core.display.Image object>"
      ]
     },
     "metadata": {},
     "output_type": "display_data"
    }
   ],
   "source": [
    "c6 = ROOT.TCanvas(\"c6\",\"c6\", 600,300)\n",
    "ratio.GetYaxis().SetLabelSize(0.05)\n",
    "ratio.GetXaxis().SetLabelSize(0.05)\n",
    "#ratio.SetMarkerStyle(1)\n",
    "ratio.SetMarkerStyle(5)\n",
    "ratio.SetMarkerColor(ROOT.kRed)\n",
    "ratio.SetLineColor(ROOT.kRed)\n",
    "ratio.GetYaxis().SetTitleSize(0.06)\n",
    "ratio.GetYaxis().SetTitleOffset(0.7)\n",
    "ratio.GetXaxis().SetTitleSize(0.05)\n",
    "ratio.GetXaxis().SetTitleOffset(0.8)\n",
    "#ratio.SetMinimum(0.7)\n",
    "#ratio.SetMaximum(1.3)\n",
    "#ratio.SetMarkerStyle(21);\n",
    "ratio.Draw(\"ep\")\n",
    "c6.Draw()\n",
    "c6.SaveAs(\"tau_4_0p5_MC_SC_ratio_Escheme_bkgsub.png\")\n",
    "c6.SaveAs(\"tau_4_0p5_MC_SC_ratio_Escheme_bkgsub.pdf\")"
   ]
  },
  {
   "cell_type": "code",
   "execution_count": 81,
   "metadata": {},
   "outputs": [
    {
     "name": "stderr",
     "output_type": "stream",
     "text": [
      "Error in <TUnfoldDensity::SubtractBackground>: Source bkg_all given twice, ignoring 2nd call.\n",
      "\n",
      "Warning in <TROOT::Append>: Replacing existing TH1: unfolded_data (Potential memory leak).\n"
     ]
    }
   ],
   "source": [
    "# get unfolding output\n",
    "# includes the statistical and background errors\n",
    "# but not the other systematic uncertainties\n",
    "#tunfolder_data.SetInput( histMdetData )\n",
    "tunfolder_data.SubtractBackground( histMdetMC_bkg, \"bkg_all\", 1. )\n",
    "\n",
    "histUnfoldOutput= tunfolder_data.GetOutput(\"unfolded_data\")\n",
    "\n",
    "# retreive error matrix of statistical errors\n",
    "histEmatStat=tunfolder_data.GetEmatrixInput(\"unfolding stat error matrix\");\n",
    "# retreive full error matrix\n",
    "# This includes all systematic errors\n",
    "histEmatTotal=tunfolder_data.GetEmatrixTotal(\"unfolding total error matrix\");\n",
    "# create two copies of the unfolded data, one with statistical errors\n",
    "# the other with total errors\n",
    "histUnfoldStat=ROOT.TH1D(\"tau4_0p5(unfold,staterr)\",\";tau4_0p5(gen)\",  gen_bins.shape[0]-1, (gen_bins));\n",
    "histUnfoldTotal=ROOT.TH1D(\"tau4_0p5(unfold,totalerr)\",\";tau4_0p5(gen)\",  gen_bins.shape[0]-1, (gen_bins));\n",
    "\n",
    "for i in xrange(0, gen_bins.shape[0]): \n",
    "    c=histUnfoldOutput.GetBinContent(i);\n",
    "    # histogram with unfolded data and stat errors\n",
    "    histUnfoldStat.SetBinContent(i,c);\n",
    "    histUnfoldStat.SetBinError(i,np.sqrt(histEmatStat.GetBinContent(i,i)));\n",
    "    # histogram with unfolded data and total errors\n",
    "    histUnfoldTotal.SetBinContent(i,c);\n",
    "    histUnfoldTotal.SetBinError(i,np.sqrt(histEmatTotal.GetBinContent(i,i)));\n",
    "\n",
    "# create histogram with correlation matrix\n",
    "histCorr=ROOT.TH2D(\"Corr(total)\",\";tau4_0p5(gen);tau4_0p5(gen)\",  gen_bins.shape[0]-1, (gen_bins), gen_bins.shape[0]-1, (gen_bins));\n",
    "for i in xrange(0, gen_bins.shape[0]): \n",
    "    ei,ej = 0,0\n",
    "    ei=np.sqrt(histEmatTotal.GetBinContent(i,i));\n",
    "    if(ei<=0.0): continue\n",
    "    for j in xrange(0, gen_bins.shape[0]):\n",
    "        ej=np.sqrt(histEmatTotal.GetBinContent(j,j));\n",
    "        if(ej<=0.0): continue\n",
    "        histCorr.SetBinContent(i,j,histEmatTotal.GetBinContent(i,j)/ei/ej);\n",
    "\n",
    "# retreive bgr source 1\n",
    "#histdetNormBgr1=tunfolder_data.GetBackground(\"bgr1 normalized\", \"background1\");\n",
    "histMdetNormBgrTotal=tunfolder_data.GetBackground(\"bkg_all\");\n",
    "#========================\n"
   ]
  },
  {
   "cell_type": "code",
   "execution_count": 82,
   "metadata": {},
   "outputs": [
    {
     "data": {
      "image/png": "[encoded data removed]",
      "text/plain": [
       "<IPython.core.display.Image object>"
      ]
     },
     "metadata": {},
     "output_type": "display_data"
    }
   ],
   "source": [
    "# Step 7: plots\n",
    "output = ROOT.TCanvas();\n",
    "#output.Divide(3,2);\n",
    "#output.cd(1);\n",
    "# data, MC prediction, background\n",
    "#histMdetData.SetMinimum(0.0);\n",
    "histMdetData.SetMaximum(histMdetData.GetMaximum()*1.5);\n",
    "histMdetData.Draw(\"E\");\n",
    "#histMdetMC_sig.SetMinimum(0.0);\n",
    "histMdetMC_sig.SetLineColor(ROOT.kBlue);\n",
    "histMdetNormBgrTotal.SetLineColor(ROOT.kRed);\n",
    "#histdetNormBgr1.SetLineColor(ROOT.kCyan);\n",
    "histMdetMC_sig.Draw(\"SAME HIST\");\n",
    "#histdetNormBgr1.Draw(\"SAME HIST\");\n",
    "histMdetNormBgrTotal.Draw(\"SAME HIST\");\n",
    "output.Draw()"
   ]
  },
  {
   "cell_type": "code",
   "execution_count": 83,
   "metadata": {},
   "outputs": [
    {
     "data": {
      "image/png": "[encoded data removed]",
      "text/plain": [
       "<IPython.core.display.Image object>"
      ]
     },
     "metadata": {},
     "output_type": "display_data"
    }
   ],
   "source": [
    "#output.cd(2)\n",
    "# unfolded data, data truth, MC truth\n",
    "output = ROOT.TCanvas();\n",
    "histUnfoldTotal.SetMinimum(0.0);\n",
    "histUnfoldTotal.SetMaximum(5000);\n",
    "histUnfoldTotal.SetLineColor(ROOT.kBlue+3)\n",
    "histUnfoldTotal.SetLineWidth(1)\n",
    "# outer error: total error\n",
    "histUnfoldTotal.Draw(\"E\");\n",
    "# middle error: stat+bgr\n",
    "histUnfoldOutput.SetLineWidth(1)\n",
    "histUnfoldOutput.Draw(\"SAME E1\");\n",
    "# inner error: stat only\n",
    "histUnfoldStat.SetLineColor(ROOT.kGreen+2)\n",
    "histUnfoldStat.Draw(\"SAME E1\");\n",
    "\n",
    "histMdetMC_sig.Draw(\"SAME HIST\");\n",
    "histMgenMC_sig.Draw(\"SAME HIST\");\n",
    "#histBbbSignalGen.SetLineColor(ROOT.kBlue);\n",
    "#histBbbSignalGen.Draw(\"SAME HIST\");\n",
    "output.Draw()"
   ]
  },
  {
   "cell_type": "code",
   "execution_count": 84,
   "metadata": {
    "scrolled": true
   },
   "outputs": [
    {
     "data": {
      "image/png": "[encoded data removed]",
      "text/plain": [
       "<IPython.core.display.Image object>"
      ]
     },
     "metadata": {},
     "output_type": "display_data"
    }
   ],
   "source": [
    "output.cd(3);\n",
    "# unfolding matrix\n",
    "response.SetLineColor(ROOT.kBlue);\n",
    "response.Draw(\"BOX\");\n",
    "\n",
    "output.Draw()"
   ]
  },
  {
   "cell_type": "code",
   "execution_count": 85,
   "metadata": {
    "scrolled": true
   },
   "outputs": [
    {
     "data": {
      "image/png": "[encoded data removed]",
      "text/plain": [
       "<IPython.core.display.Image object>"
      ]
     },
     "metadata": {},
     "output_type": "display_data"
    }
   ],
   "source": [
    "# show tau as a function of chi**2\n",
    "output.cd(4);\n",
    "#logTauX.Draw();\n",
    "#bestLogTauLogChi2.SetMarkerColor(ROOT.kRed);\n",
    "#bestLogTauLogChi2.Draw(\"*\");\n",
    "# show the L curve\n",
    "output.cd(5);\n",
    "#lCurve.Draw(\"AL\");\n",
    "#bestLcurve.SetMarkerColor(ROOT.kRed);\n",
    "#bestLcurve.Draw(\"*\");\n",
    "# show correlation matrix\n",
    "output.cd(6);\n",
    "histCorr.Draw(\"BOX\");\n",
    "output.Draw()"
   ]
  },
  {
   "cell_type": "code",
   "execution_count": null,
   "metadata": {},
   "outputs": [],
   "source": []
  },
  {
   "cell_type": "code",
   "execution_count": null,
   "metadata": {},
   "outputs": [],
   "source": []
  },
  {
   "cell_type": "markdown",
   "metadata": {},
   "source": [
    "# $\\tau_{4}^{(1)}$ unfolding with background subtraction + purity&stability study [w/ E-scheme recombination+excl. $k_T$ axes]\n"
   ]
  },
  {
   "cell_type": "code",
   "execution_count": 86,
   "metadata": {},
   "outputs": [],
   "source": [
    "Wjets_gen_tau4_1 = Wjets_gen_nSub_basis[:,10]\n",
    "\n",
    "ST1_gen_tau4_1 = ST1_gen_nSub_basis[:,10]\n",
    "\n",
    "ST2_gen_tau4_1 = ST2_gen_nSub_basis[:,10]\n",
    "\n",
    "ST3_gen_tau4_1 = ST3_gen_nSub_basis[:,10]\n",
    "\n",
    "ST4_gen_tau4_1 = ST4_gen_nSub_basis[:,10]\n",
    "\n",
    "ST5_gen_tau4_1 = ST5_gen_nSub_basis[:,10]\n",
    "\n",
    "TTbar_gen_tau4_1 = TTbar_gen_nSub_basis[:,10]"
   ]
  },
  {
   "cell_type": "code",
   "execution_count": 87,
   "metadata": {},
   "outputs": [],
   "source": [
    "Wjets_reco_tau4_1 = Wjets_reco_nSub_basis[:,10]\n",
    "\n",
    "ST1_reco_tau4_1 = ST1_reco_nSub_basis[:,10]\n",
    "\n",
    "ST2_reco_tau4_1 = ST2_reco_nSub_basis[:,10]\n",
    "\n",
    "ST3_reco_tau4_1 = ST3_reco_nSub_basis[:,10]\n",
    "\n",
    "ST4_reco_tau4_1 = ST4_reco_nSub_basis[:,10]\n",
    "\n",
    "ST5_reco_tau4_1 = ST5_reco_nSub_basis[:,10]\n",
    "\n",
    "TTbar_reco_tau4_1 = TTbar_reco_nSub_basis[:,10]"
   ]
  },
  {
   "cell_type": "markdown",
   "metadata": {},
   "source": [
    "# Unfolding $\\tau_{4}^{(1)}$ with background subtraction"
   ]
  },
  {
   "cell_type": "code",
   "execution_count": 88,
   "metadata": {},
   "outputs": [],
   "source": [
    "MC_sig_reco_tau4_1 = TTbar_reco_tau4_1\n",
    "MC_sig_gen_tau4_1 = TTbar_gen_tau4_1\n",
    "\n",
    "MC_bkg_reco_tau4_1 = np.concatenate((ST1_reco_tau4_1,ST2_reco_tau4_1,ST3_reco_tau4_1,ST4_reco_tau4_1,ST5_reco_tau4_1,Wjets_reco_tau4_1))\n",
    "MC_bkg_gen_tau4_1 = np.concatenate((ST1_gen_tau4_1,ST2_gen_tau4_1,ST3_gen_tau4_1,ST4_gen_tau4_1,ST5_gen_tau4_1,Wjets_gen_tau4_1))\n",
    "\n",
    "data_tau4_1 = data_nSub_basis[:,10]\n",
    "weights_MC_sig = weight_TTbar\n",
    "weights_MC_bkg = np.concatenate((weight_ST1,weight_ST2,weight_ST3,weight_ST4,weight_ST5,weight_Wjets))"
   ]
  },
  {
   "cell_type": "markdown",
   "metadata": {
    "collapsed": true
   },
   "source": [
    "Get the response matrix and input 1D distributions for unfolding."
   ]
  },
  {
   "cell_type": "code",
   "execution_count": 89,
   "metadata": {},
   "outputs": [
    {
     "name": "stdout",
     "output_type": "stream",
     "text": [
      "8.213092951336876e-05\n",
      "0.004312112927436829\n",
      "0.22934702038764954\n",
      "0.2325347363948822 \n",
      "\n",
      "0.0067474800162017345\n",
      "0.007606447208672762\n",
      "0.22254718840122223\n",
      "0.21426723897457123 \n",
      "\n",
      "0.0052561163902282715\n",
      "0.25678831338882446\n"
     ]
    }
   ],
   "source": [
    "print np.min(MC_sig_gen_tau4_1)\n",
    "print np.min(MC_sig_reco_tau4_1)\n",
    "print np.max(MC_sig_gen_tau4_1)\n",
    "print np.max(MC_sig_reco_tau4_1), \"\\n\"\n",
    "\n",
    "\n",
    "print np.min(MC_bkg_gen_tau4_1)\n",
    "print np.min(MC_bkg_reco_tau4_1)\n",
    "print np.max(MC_bkg_gen_tau4_1)\n",
    "print np.max(MC_bkg_reco_tau4_1), \"\\n\"\n",
    "\n",
    "\n",
    "print np.min(data_tau4_1)\n",
    "print np.max(data_tau4_1)"
   ]
  },
  {
   "cell_type": "markdown",
   "metadata": {
    "collapsed": true
   },
   "source": [
    "#### Set the axis ranges for the generator nd detector level distributions as well as the number of bins in each. Note that we want twice as many detector bins as generator level bins as recommended by the TUnfold documenation "
   ]
  },
  {
   "cell_type": "code",
   "execution_count": 150,
   "metadata": {},
   "outputs": [
    {
     "name": "stdout",
     "output_type": "stream",
     "text": [
      "[0.     0.0275 0.055  0.0825 0.11   0.1375 0.165  0.1925 0.22   0.26  ] 10\n",
      "[0.      0.01375 0.0275  0.04125 0.055   0.06875 0.0825  0.09625 0.11\n",
      " 0.12375 0.1375  0.15125 0.165   0.17875 0.1925  0.20625 0.22    0.24\n",
      " 0.26   ] 19\n"
     ]
    }
   ],
   "source": [
    "gen_bins = np.array([x for x in np.linspace(num=9, start=0., stop=0.22)])\n",
    "gen_bins = np.concatenate((gen_bins, np.array([ 0.26])))\n",
    "print gen_bins, gen_bins.shape[0]\n",
    "\n",
    "det_bins = np.array([x for x in np.linspace(num=17, start=0., stop=0.22)])\n",
    "det_bins = np.concatenate((det_bins, np.array([0.24, 0.26])))\n",
    "print det_bins, det_bins.shape[0]"
   ]
  },
  {
   "cell_type": "code",
   "execution_count": 151,
   "metadata": {},
   "outputs": [],
   "source": [
    "ROOT.TH1.SetDefaultSumw2()\n",
    "from root_numpy import *"
   ]
  },
  {
   "cell_type": "markdown",
   "metadata": {},
   "source": [
    "#### Fill histograms for sig and bkg. MC separately in this case (as one should!)"
   ]
  },
  {
   "cell_type": "code",
   "execution_count": 152,
   "metadata": {},
   "outputs": [
    {
     "name": "stderr",
     "output_type": "stream",
     "text": [
      "Warning in <TROOT::Append>: Replacing existing TH1: histMgenMC_bkg (Potential memory leak).\n",
      "Warning in <TROOT::Append>: Replacing existing TH1: histMgenMC_bkg (Potential memory leak).\n",
      "Warning in <TROOT::Append>: Replacing existing TH1: histMdetMC_bkg (Potential memory leak).\n",
      "Warning in <TROOT::Append>: Replacing existing TH1: histMdetMC_bkg (Potential memory leak).\n",
      "Warning in <TROOT::Append>: Replacing existing TH1: histMgenMC_sig (Potential memory leak).\n",
      "Warning in <TROOT::Append>: Replacing existing TH1: histMgenMC_sig (Potential memory leak).\n",
      "Warning in <TROOT::Append>: Replacing existing TH1: histMdetMC_sig (Potential memory leak).\n",
      "Warning in <TROOT::Append>: Replacing existing TH1: histMdetMC_sig (Potential memory leak).\n",
      "Warning in <TROOT::Append>: Replacing existing TH1: histMdetData (Potential memory leak).\n",
      "Warning in <TROOT::Append>: Replacing existing TH1: histMdetData (Potential memory leak).\n"
     ]
    }
   ],
   "source": [
    "histMgenMC_bkg = ROOT.TH1D(\"histMgenMC_bkg\", \"histMgenMC_bkg; #tau_{4}^{(1)}; Events/(0.02)\",  gen_bins.shape[0]-1, (gen_bins))\n",
    "fill_hist(histMgenMC_bkg, MC_bkg_gen_tau4_1, weights=weights_MC_bkg)\n",
    "\n",
    "histMdetMC_bkg = ROOT.TH1D(\"histMdetMC_bkg\", \"histMdetMC_bkg; #tau_{4}^{(1)}; Events/(0.02)\", det_bins.shape[0]-1, (det_bins))\n",
    "fill_hist(histMdetMC_bkg, MC_bkg_reco_tau4_1, weights=weights_MC_bkg)\n",
    "\n",
    "histMgenMC_sig = ROOT.TH1D(\"histMgenMC_sig\", \"histMgenMC_sig; #tau_{4}^{(1)}; Events/(0.02)\",  gen_bins.shape[0]-1, (gen_bins))\n",
    "fill_hist(histMgenMC_sig, MC_sig_gen_tau4_1, weights=weights_MC_sig)\n",
    "\n",
    "histMdetMC_sig = ROOT.TH1D(\"histMdetMC_sig\", \"histMdetMC_sig; #tau_{4}^{(1)}; Events/(0.02)\", det_bins.shape[0]-1, (det_bins))\n",
    "fill_hist(histMdetMC_sig, MC_sig_reco_tau4_1, weights=weights_MC_sig)\n",
    "\n",
    "#histMgenData = ROOT.TH1D(\"histMgenData\", \"histMgenData; #tau_{4}^{(1)}; Events/(0.02)\", gen_bins.shape[0]-1, (gen_bins))\n",
    "#fill_hist(histMgenData, TTbartruth_nSub_basis[:,4]/TTbartruth_nSub_basis[:,1])\n",
    "\n",
    "histMdetData = ROOT.TH1D(\"histMdetData\", \"histMdetData; #tau_{4}^{(1)}; Events/(0.02)\", det_bins.shape[0]-1, (det_bins))\n",
    "fill_hist(histMdetData, data_tau4_1)"
   ]
  },
  {
   "cell_type": "markdown",
   "metadata": {
    "collapsed": true
   },
   "source": [
    "Set the X and Y axis labels"
   ]
  },
  {
   "cell_type": "code",
   "execution_count": 153,
   "metadata": {},
   "outputs": [],
   "source": [
    "histMgenMC_bkg.SetTitle(\";#tau_{4}^{(1)}(gen_bkg)\")\n",
    "\n",
    "histMdetMC_bkg.SetTitle(\";#tau_{4}^{(1)}(det_bkg)\")\n",
    "\n",
    "histMgenMC_sig.SetTitle(\";#tau_{4}^{(1)}(gen_sig)\")\n",
    "\n",
    "histMdetMC_sig.SetTitle(\";#tau_{4}^{(1)}(det_sig)\")\n",
    "\n",
    "histMdetData.SetTitle(\";#tau_{4}^{(1)}(data)\")\n"
   ]
  },
  {
   "cell_type": "markdown",
   "metadata": {
    "collapsed": true
   },
   "source": [
    "Draw the variables at reco and gen level and for \"data\""
   ]
  },
  {
   "cell_type": "code",
   "execution_count": 154,
   "metadata": {
    "scrolled": true
   },
   "outputs": [
    {
     "data": {
      "image/png": "[encoded data removed]",
      "text/plain": [
       "<IPython.core.display.Image object>"
      ]
     },
     "metadata": {},
     "output_type": "display_data"
    }
   ],
   "source": [
    "c1 = ROOT.TCanvas(\"chistMgenMC_sig1\", \"chistMgenMC_sig1\")\n",
    "histMgenMC_sig.Draw(\"e\")\n",
    "histMdetMC_sig.Draw(\"e same\")\n",
    "c1.Draw()"
   ]
  },
  {
   "cell_type": "code",
   "execution_count": 155,
   "metadata": {
    "scrolled": false
   },
   "outputs": [
    {
     "data": {
      "image/png": "[encoded data removed]",
      "text/plain": [
       "<IPython.core.display.Image object>"
      ]
     },
     "metadata": {},
     "output_type": "display_data"
    }
   ],
   "source": [
    "c1 = ROOT.TCanvas(\"chistMgenMC_bkg1\", \"chistMgenMC_bkg1\")\n",
    "histMgenMC_bkg.Draw(\"e\")\n",
    "histMdetMC_bkg.Draw(\"e same\")\n",
    "c1.Draw()"
   ]
  },
  {
   "cell_type": "code",
   "execution_count": 156,
   "metadata": {
    "scrolled": true
   },
   "outputs": [
    {
     "data": {
      "image/png": "[encoded data removed]",
      "text/plain": [
       "<IPython.core.display.Image object>"
      ]
     },
     "metadata": {},
     "output_type": "display_data"
    }
   ],
   "source": [
    "c1 = ROOT.TCanvas(\"chistMgenMC_sig1\", \"chistMgenMC_sig1\")\n",
    "#histMgenData.Draw(\"e\")\n",
    "histMdetData.Draw(\"e \")\n",
    "c1.Draw()"
   ]
  },
  {
   "cell_type": "markdown",
   "metadata": {},
   "source": [
    "### Fill response matrix"
   ]
  },
  {
   "cell_type": "code",
   "execution_count": 157,
   "metadata": {},
   "outputs": [
    {
     "name": "stderr",
     "output_type": "stream",
     "text": [
      "Warning in <TROOT::Append>: Replacing existing TH1: response (Potential memory leak).\n"
     ]
    }
   ],
   "source": [
    "response = ROOT.TH2D('response', 'response', det_bins.shape[0]-1, det_bins, gen_bins.shape[0]-1, gen_bins)\n",
    "hist2Dfill = np.zeros((MC_sig_reco_tau4_1.shape[0], 2))\n",
    "hist2Dfill[:,0] = MC_sig_reco_tau4_1.flatten()\n",
    "hist2Dfill[:,1] = MC_sig_gen_tau4_1.flatten()\n",
    "fill_hist(response, hist2Dfill, weights_MC_sig)\n",
    "response.SetTitle(\"Nominal Response Matrix;#tau_{4}^{(1)}(det_sig);#tau_{4}^{(1)}(gen_sig)\")"
   ]
  },
  {
   "cell_type": "code",
   "execution_count": 158,
   "metadata": {},
   "outputs": [
    {
     "data": {
      "image/png": "[encoded data removed]",
      "text/plain": [
       "<IPython.core.display.Image object>"
      ]
     },
     "metadata": {},
     "output_type": "display_data"
    }
   ],
   "source": [
    "c1 = ROOT.TCanvas(\"cresponse1\", \"cresponse1\")\n",
    "response.Draw(\"colz\")\n",
    "c1.Draw()"
   ]
  },
  {
   "cell_type": "markdown",
   "metadata": {},
   "source": [
    "### Purity and Stability calculation"
   ]
  },
  {
   "cell_type": "raw",
   "metadata": {
    "collapsed": true
   },
   "source": [
    "#### Normalise the distributions, draw them and the response matrix."
   ]
  },
  {
   "cell_type": "raw",
   "metadata": {},
   "source": [
    "norm_genMC_bkg = histMgenMC_bkg.Integral()\n",
    "print norm_genMC_bkg\n",
    "\n",
    "norm_recoMC_bkg = histMdetMC_bkg.Integral()\n",
    "print norm_recoMC_bkg\n",
    "\n",
    "norm_genMC_sig = histMgenMC_sig.Integral()\n",
    "print norm_genMC_sig\n",
    "\n",
    "norm_recoMC_sig = histMdetMC_sig.Integral()\n",
    "print norm_recoMC_sig\n",
    "\n",
    "#norm_genData = histMgenData.Integral()\n",
    "#print norm_genData\n",
    "\n",
    "norm_detData = histMdetData.Integral()\n",
    "print norm_detData"
   ]
  },
  {
   "cell_type": "code",
   "execution_count": 159,
   "metadata": {},
   "outputs": [],
   "source": [
    "hMC_gen_bkg = ROOT.TH1D(histMgenMC_bkg)\n",
    "#hMC_gen_bkg.Scale(1./norm_genMC_bkg)\n",
    "\n",
    "hMC_reco_bkg = ROOT.TH1D(histMdetMC_bkg)\n",
    "#hMC_reco_bkg.Scale(1./norm_recoMC_bkg)\n",
    "\n",
    "hMC_gen_sig = ROOT.TH1D(histMgenMC_sig)\n",
    "#hMC_gen_sig.Scale(1./norm_genMC_sig)\n",
    "\n",
    "hMC_reco_sig = ROOT.TH1D(histMdetMC_sig)\n",
    "#hMC_reco_sig.Scale(1./norm_recoMC_sig)\n",
    "\n",
    "hMC_data = ROOT.TH1D(histMdetData)\n",
    "#histMgenData.Scale(1./norm_genData)\n",
    "#histMdetData.Scale(1./norm_detData)\n",
    "\n",
    "'''\n",
    "histMgenMC_bkg.Scale(1./norm_genMC_bkg)\n",
    "histMdetMC_bkg.Scale(1./norm_recoMC_bkg)\n",
    "histMgenMC_sig.Scale(1./norm_genMC_sig)\n",
    "histMdetMC_sig.Scale(1./norm_recoMC_sig)\n",
    "\n",
    "#histMgenData.Scale(1./norm_genData)\n",
    "histMdetData.Scale(1./norm_detData)\n",
    "''';"
   ]
  },
  {
   "cell_type": "code",
   "execution_count": 160,
   "metadata": {
    "scrolled": true
   },
   "outputs": [
    {
     "name": "stdout",
     "output_type": "stream",
     "text": [
      "0 -0.0144444444444 0.0\n",
      "1 0.0 7.05334893869\n",
      "2 0.01375 203.599382486\n",
      "3 0.0275 1031.39512583\n",
      "4 0.04125 2129.23248953\n",
      "5 0.055 2795.33059734\n",
      "6 0.06875 2668.26111749\n",
      "7 0.0825 2021.70877773\n",
      "8 0.09625 1357.27115607\n",
      "9 0.11 820.842338918\n",
      "10 0.12375 458.057909999\n",
      "11 0.1375 231.930303507\n",
      "12 0.15125 104.90997192\n",
      "13 0.165 47.9729468758\n",
      "14 0.17875 17.0500809509\n",
      "15 0.1925 3.97782486929\n",
      "16 0.20625 1.48545871043\n",
      "17 0.22 1.05879814989\n",
      "18 0.24 0.0\n",
      "==========\n",
      "0 -0.0288888888889 0.0\n",
      "1 0.0 446.514877036\n",
      "2 0.0275 4597.78119375\n",
      "3 0.055 5277.36765919\n",
      "4 0.0825 2451.52085551\n",
      "5 0.11 864.477091291\n",
      "6 0.1375 213.434431433\n",
      "7 0.165 43.7850532325\n",
      "8 0.1925 5.57638533104\n",
      "9 0.22 0.680082543972\n"
     ]
    }
   ],
   "source": [
    "for i in xrange(0, histMdetMC_sig.GetNbinsX()+1):\n",
    "    print i, hMC_reco_sig.GetBinLowEdge(i), hMC_reco_sig.GetBinContent(i)   \n",
    "print \"==========\"\n",
    "for i in xrange(0, hMC_gen_sig.GetNbinsX()+1):\n",
    "    print i, hMC_gen_sig.GetBinLowEdge(i), hMC_gen_sig.GetBinContent(i)"
   ]
  },
  {
   "cell_type": "code",
   "execution_count": 161,
   "metadata": {},
   "outputs": [
    {
     "name": "stderr",
     "output_type": "stream",
     "text": [
      "Warning in <TROOT::Append>: Replacing existing TH1: purity (Potential memory leak).\n",
      "Warning in <TROOT::Append>: Replacing existing TH1: stability (Potential memory leak).\n",
      "Warning in <TROOT::Append>: Replacing existing TH1: efficiency (Potential memory leak).\n"
     ]
    }
   ],
   "source": [
    "purity = ROOT.TH1D(\"purity\", \"Purity and stability study; #tau_{4}^{(1)}; \",  gen_bins.shape[0]-1, (gen_bins))\n",
    "stability = ROOT.TH1D(\"stability\", \"Purity and stability study; #tau_{4}^{(1)}; \",  gen_bins.shape[0]-1, (gen_bins))\n",
    "efficiency = ROOT.TH1D(\"efficiency\", \"Purity and stability study; #tau_{4}^{(1)}; \",  gen_bins.shape[0]-1, (gen_bins))"
   ]
  },
  {
   "cell_type": "markdown",
   "metadata": {},
   "source": [
    "### With python"
   ]
  },
  {
   "cell_type": "markdown",
   "metadata": {},
   "source": [
    "We define purity as the fraction of reconstructed events that are generated in the same bin, \n",
    "and stability as the fraction of generated events that are reconstructed in the same\n",
    "bin, divided by the overall reconstruction efficiency per bin. "
   ]
  },
  {
   "cell_type": "code",
   "execution_count": 162,
   "metadata": {},
   "outputs": [
    {
     "name": "stdout",
     "output_type": "stream",
     "text": [
      "[2 3 3 ... 3 1 4]\n",
      "Setting contents for P, S, eff. histos, in bin 1\n",
      "Setting contents for P, S, eff. histos, in bin 2\n",
      "Setting contents for P, S, eff. histos, in bin 3\n",
      "Setting contents for P, S, eff. histos, in bin 4\n",
      "Setting contents for P, S, eff. histos, in bin 5\n",
      "Setting contents for P, S, eff. histos, in bin 6\n",
      "Setting contents for P, S, eff. histos, in bin 7\n",
      "Setting contents for P, S, eff. histos, in bin 8\n",
      "Setting contents for P, S, eff. histos, in bin 9\n",
      "\n",
      "\n",
      "+++++++++Pure and Stable! :)+++++++++++++\n",
      "\n",
      "\n",
      "[4.070e+02 7.745e+03 9.789e+03 4.512e+03 1.511e+03 3.540e+02 5.900e+01\n",
      " 7.000e+00 2.000e+00 0.000e+00] \n",
      "\n",
      "[6.5100e+02 9.8440e+03 1.6980e+04 1.0462e+04 3.9300e+03 1.0160e+03\n",
      " 2.0300e+02 1.8000e+01 3.0000e+00 0.0000e+00] \n",
      "\n",
      "Purity array: [0.62519201 0.78677367 0.57650177 0.43127509 0.38447837 0.3484252\n",
      " 0.29064039 0.38888889 0.66666667] \n",
      "\n",
      "\n",
      "[4.070e+02 7.745e+03 9.789e+03 4.512e+03 1.511e+03 3.540e+02 5.900e+01\n",
      " 7.000e+00 2.000e+00 0.000e+00] \n",
      "\n",
      "[1.3840e+03 1.4384e+04 1.6345e+04 7.5460e+03 2.6440e+03 6.5000e+02\n",
      " 1.3400e+02 1.8000e+01 2.0000e+00 0.0000e+00] \n",
      "\n",
      "Stability array: [0.29407514 0.53844549 0.59889875 0.59793268 0.5714826  0.54461538\n",
      " 0.44029851 0.38888889 1.        ] \n",
      "\n",
      "\n",
      "+++++Efficiency+++++\n",
      "\n",
      "Efficiency array: [9.44162201e-03 1.79669195e-01 2.27086088e-01 1.04669775e-01\n",
      " 3.50523117e-02 8.21212332e-03 1.36868722e-03 1.62386619e-04\n",
      " 4.63961770e-05]\n"
     ]
    },
    {
     "name": "stderr",
     "output_type": "stream",
     "text": [
      "/shome/kdatta/.local/lib/python2.7/site-packages/ipykernel_launcher.py:54: RuntimeWarning: invalid value encountered in divide\n",
      "/shome/kdatta/.local/lib/python2.7/site-packages/ipykernel_launcher.py:59: RuntimeWarning: invalid value encountered in divide\n"
     ]
    }
   ],
   "source": [
    "gen_arr = MC_sig_gen_tau4_1[:]\n",
    "#print gen_arr[0:20]\n",
    "#print gen_bins[0:-1]\n",
    "gen_bin_index = np.digitize(gen_arr, gen_bins)\n",
    "print gen_bin_index\n",
    "#print gen_bin_index[0:20]\n",
    "\n",
    "det_arr = MC_sig_reco_tau4_1[0:]\n",
    "#print det_arr[0:20]\n",
    "#print det_bins[0:-1]\n",
    "det_bin_index = np.digitize(det_arr, gen_bins)\n",
    "det_bin_index2 = np.digitize(det_arr, det_bins)\n",
    "#print det_bin_index[0:20]\n",
    "\n",
    "ndet_pergenbin = [0.] #N_recgen array = number of events generated in and reconstructed in gen bin i\n",
    "ndet_genanywhere = [0.] # number of events reconstructed in gen _bin i but generated anywhere\n",
    "ngen_detanywhere = [0.] # number of events generated in gen _bin i but reconstructed anywhere\n",
    "\n",
    "### purity = # of evts generated and reconstructed in gen bin i / # of evts reconstructed in gen bin i but generated anywhere\n",
    "### stability = # of evts generated and reconstructed in gen bin / # of evts generated in gen bin i but reconstructed anywhere\n",
    "for i in xrange(0, gen_bins.shape[0]-1):\n",
    "    \n",
    "    #print i+1\n",
    "    \n",
    "    for k in xrange(0, gen_bin_index.shape[0]):\n",
    "        \n",
    "        if gen_bin_index[k]==i+1: \n",
    "            ngen_detanywhere[i]+=1 #stability denominator\n",
    "            if det_bin_index[k]==i+1: ndet_pergenbin[i]+=1\n",
    "            \n",
    "    ngen_detanywhere.append(0.)\n",
    "    ndet_pergenbin.append(0.)\n",
    "    \n",
    "    for k in xrange(0, det_bin_index.shape[0]):\n",
    "        \n",
    "        if det_bin_index[k]==i+1: \n",
    "            ndet_genanywhere[i]+=1 #purity denominator\n",
    "            \n",
    "    ndet_genanywhere.append(0.)\n",
    "    \n",
    "    print \"Setting contents for P, S, eff. histos, in bin %d\"%(i+1)\n",
    "    purity.SetBinContent(i+1, ndet_pergenbin[i]/ndet_genanywhere[i])\n",
    "    stability.SetBinContent(i+1, ndet_pergenbin[i]/ngen_detanywhere[i])\n",
    "    efficiency.SetBinContent(i+1, ndet_pergenbin[i]/43107.)\n",
    "    \n",
    "    \n",
    "ndet_pergenbin = np.array(ndet_pergenbin)\n",
    "ndet_genanywhere = np.array(ndet_genanywhere)\n",
    "ngen_detanywhere = np.array(ngen_detanywhere)\n",
    "\n",
    "print \"\\n\\n+++++++++Pure and Stable! :)+++++++++++++\\n\\n\"\n",
    "print ndet_pergenbin,\"\\n\"\n",
    "print ndet_genanywhere,\"\\n\"\n",
    "purity_arr = ndet_pergenbin/ndet_genanywhere\n",
    "print \"Purity array:\", purity_arr[:-1], \"\\n\\n\"\n",
    "\n",
    "print ndet_pergenbin,\"\\n\"\n",
    "print ngen_detanywhere,\"\\n\"\n",
    "stability_arr = ndet_pergenbin/ngen_detanywhere\n",
    "print \"Stability array:\", stability_arr[:-1], \"\\n\\n\"\n",
    "\n",
    "print \"+++++Efficiency+++++\\n\"\n",
    "efficiency_arr = ndet_pergenbin/np.sum(ngen_detanywhere)\n",
    "print \"Efficiency array:\", efficiency_arr[:-1]"
   ]
  },
  {
   "cell_type": "code",
   "execution_count": 163,
   "metadata": {},
   "outputs": [],
   "source": [
    "ROOT.gStyle.SetOptStat(0)"
   ]
  },
  {
   "cell_type": "code",
   "execution_count": 164,
   "metadata": {},
   "outputs": [
    {
     "name": "stderr",
     "output_type": "stream",
     "text": [
      "Warning in <TCanvas::Constructor>: Deleting canvas with same name: pse_ttbar\n"
     ]
    },
    {
     "data": {
      "image/png": "[encoded data removed]",
      "text/plain": [
       "<IPython.core.display.Image object>"
      ]
     },
     "metadata": {},
     "output_type": "display_data"
    }
   ],
   "source": [
    "cpse = ROOT.TCanvas(\"pse_ttbar\", \"pse_ttbar\")\n",
    "\n",
    "purity.SetLineColor(ROOT.kRed)\n",
    "purity.SetLineWidth(2)\n",
    "purity.SetLineStyle(2)\n",
    "purity.SetMinimum(0.)\n",
    "purity.SetMaximum(1.05)\n",
    "\n",
    "stability.SetLineColor(9)\n",
    "stability.SetLineWidth(2)\n",
    "stability.SetLineStyle(1)\n",
    "stability.SetMinimum(0.)\n",
    "stability.SetMaximum(1.05)\n",
    "stability.SetTitle(\"t#bar{t} 2016, W-selection \")\n",
    "stability.Draw(\"hist\")\n",
    "purity.Draw(\"hist same\")\n",
    "#efficiency.Draw(\"same\")\n",
    "\n",
    "leg0 = ROOT.TLegend(0.6, 0.7, 0.8, 0.8)\n",
    "leg0.AddEntry( stability, \"Stability \")\n",
    "leg0.AddEntry( purity, \"Purity \")\n",
    "#leg0.AddEntry( histMgenData, \"'Truth' (MC: MG5+Pythia8)\", 'p')\n",
    "leg0.SetLineColor(0)\n",
    "leg0.SetBorderSize(0)\n",
    "leg0.SetFillStyle(0)\n",
    "\n",
    "#hs.Add(histMdetMC, \"E\")\n",
    "#hs.Add(histMdetData, \"E\")\n",
    "#hs.Draw(\"nostack\")\n",
    "leg0.Draw()\n",
    "\n",
    "ROOT.gStyle.SetOptStat(0)\n",
    "cpse.Draw()"
   ]
  },
  {
   "cell_type": "code",
   "execution_count": 165,
   "metadata": {
    "scrolled": true
   },
   "outputs": [
    {
     "data": {
      "text/plain": [
       "(array([[4.070e+02, 2.350e+02, 9.000e+00, 0.000e+00, 0.000e+00, 0.000e+00,\n",
       "         0.000e+00, 0.000e+00, 0.000e+00, 0.000e+00],\n",
       "        [8.480e+02, 7.745e+03, 1.221e+03, 2.800e+01, 0.000e+00, 2.000e+00,\n",
       "         0.000e+00, 0.000e+00, 0.000e+00, 0.000e+00],\n",
       "        [8.700e+01, 6.007e+03, 9.789e+03, 1.049e+03, 0.000e+00, 4.800e+01,\n",
       "         0.000e+00, 0.000e+00, 0.000e+00, 0.000e+00],\n",
       "        [2.600e+01, 3.870e+02, 4.953e+03, 4.512e+03, 0.000e+00, 5.700e+02,\n",
       "         1.400e+01, 0.000e+00, 0.000e+00, 0.000e+00],\n",
       "        [0.000e+00, 0.000e+00, 0.000e+00, 0.000e+00, 0.000e+00, 0.000e+00,\n",
       "         0.000e+00, 0.000e+00, 0.000e+00, 0.000e+00],\n",
       "        [1.300e+01, 8.000e+00, 3.580e+02, 1.844e+03, 0.000e+00, 1.511e+03,\n",
       "         1.850e+02, 1.100e+01, 0.000e+00, 0.000e+00],\n",
       "        [3.000e+00, 2.000e+00, 1.400e+01, 1.090e+02, 0.000e+00, 4.740e+02,\n",
       "         3.540e+02, 5.700e+01, 3.000e+00, 0.000e+00],\n",
       "        [0.000e+00, 0.000e+00, 1.000e+00, 3.000e+00, 0.000e+00, 3.900e+01,\n",
       "         9.300e+01, 5.900e+01, 8.000e+00, 0.000e+00],\n",
       "        [0.000e+00, 0.000e+00, 0.000e+00, 1.000e+00, 0.000e+00, 0.000e+00,\n",
       "         4.000e+00, 6.000e+00, 7.000e+00, 0.000e+00],\n",
       "        [0.000e+00, 0.000e+00, 0.000e+00, 0.000e+00, 0.000e+00, 0.000e+00,\n",
       "         0.000e+00, 1.000e+00, 0.000e+00, 2.000e+00]]),\n",
       " array([1. , 1.8, 2.6, 3.4, 4.2, 5. , 5.8, 6.6, 7.4, 8.2, 9. ]),\n",
       " array([1. , 1.8, 2.6, 3.4, 4.2, 5. , 5.8, 6.6, 7.4, 8.2, 9. ]),\n",
       " <matplotlib.image.AxesImage at 0x7fe46169cb10>)"
      ]
     },
     "execution_count": 165,
     "metadata": {},
     "output_type": "execute_result"
    },
    {
     "data": {
      "image/png": "[encoded data removed]",
      "text/plain": [
       "<Figure size 432x288 with 1 Axes>"
      ]
     },
     "metadata": {
      "needs_background": "light"
     },
     "output_type": "display_data"
    }
   ],
   "source": [
    "plt.hist2d(x=det_bin_index, y=gen_bin_index)"
   ]
  },
  {
   "cell_type": "code",
   "execution_count": 166,
   "metadata": {
    "scrolled": true
   },
   "outputs": [
    {
     "data": {
      "image/png": "[encoded data removed]",
      "text/plain": [
       "<Figure size 432x288 with 1 Axes>"
      ]
     },
     "metadata": {
      "needs_background": "light"
     },
     "output_type": "display_data"
    },
    {
     "data": {
      "image/png": "[encoded data removed]",
      "text/plain": [
       "<Figure size 432x288 with 1 Axes>"
      ]
     },
     "metadata": {
      "needs_background": "light"
     },
     "output_type": "display_data"
    }
   ],
   "source": [
    "plt.hist2d(x=det_bin_index2, y=gen_bin_index)\n",
    "plt.show()\n",
    "plt.hist2d(x=MC_sig_reco_tau4_1, y=MC_sig_gen_tau4_1, bins=[det_bins, gen_bins])\n",
    "plt.show()"
   ]
  },
  {
   "cell_type": "code",
   "execution_count": 167,
   "metadata": {
    "scrolled": true
   },
   "outputs": [
    {
     "data": {
      "image/png": "[encoded data removed]",
      "text/plain": [
       "<Figure size 432x288 with 1 Axes>"
      ]
     },
     "metadata": {
      "needs_background": "light"
     },
     "output_type": "display_data"
    },
    {
     "data": {
      "image/png": "[encoded data removed]",
      "text/plain": [
       "<Figure size 432x288 with 1 Axes>"
      ]
     },
     "metadata": {
      "needs_background": "light"
     },
     "output_type": "display_data"
    }
   ],
   "source": [
    "plt.hist(gen_bin_index, histtype='step', color='r')\n",
    "plt.hist(det_bin_index, histtype='step', color='b')\n",
    "plt.show()\n",
    "\n",
    "plt.hist(MC_sig_gen_tau4_1, histtype='step', color='r', bins=gen_bins)\n",
    "plt.hist(MC_sig_reco_tau4_1, histtype='step', color='b', bins=gen_bins)\n",
    "plt.show()"
   ]
  },
  {
   "cell_type": "markdown",
   "metadata": {},
   "source": [
    "### with root"
   ]
  },
  {
   "cell_type": "code",
   "execution_count": 168,
   "metadata": {},
   "outputs": [
    {
     "name": "stdout",
     "output_type": "stream",
     "text": [
      "Adding content (equal to 0.0) of bin i=0, j=1 to Diagonal 1\n",
      "Adding content (equal to 0.0) of bin i=0, j=2 to Diagonal 1\n",
      "Filling row index k=0 with elements (i,j)=(0,2)\n",
      "Filling row index k=0 with elements (i,j)=(0,3)\n",
      "Filling row index k=1 with elements (i,j)=(0,4)\n",
      "Filling row index k=1 with elements (i,j)=(0,5)\n",
      "Filling row index k=2 with elements (i,j)=(0,6)\n",
      "Filling row index k=2 with elements (i,j)=(0,7)\n",
      "Filling row index k=3 with elements (i,j)=(0,8)\n",
      "Filling row index k=3 with elements (i,j)=(0,9)\n",
      "Filling row index k=4 with elements (i,j)=(0,10)\n",
      "Filling row index k=4 with elements (i,j)=(0,11)\n",
      "Filling row index k=5 with elements (i,j)=(0,12)\n",
      "Filling row index k=5 with elements (i,j)=(0,13)\n",
      "Filling row index k=6 with elements (i,j)=(0,14)\n",
      "Filling row index k=6 with elements (i,j)=(0,15)\n",
      "Filling row index k=7 with elements (i,j)=(0,16)\n",
      "Filling row index k=7 with elements (i,j)=(0,17)\n",
      "Filling row index k=8 with elements (i,j)=(0,18)\n",
      "Filling row index k=8 with elements (i,j)=(0,19)\n",
      "0.0 0.0\n",
      "Filling row index k=0 with elements (i,j)=(1,2)\n",
      "Filling row index k=0 with elements (i,j)=(1,3)\n",
      "Adding content (equal to 0.0) of bin i=1, j=3 to Diagonal 3\n",
      "Adding content (equal to 0.0) of bin i=1, j=4 to Diagonal 3\n",
      "Filling row index k=1 with elements (i,j)=(1,4)\n",
      "Filling row index k=1 with elements (i,j)=(1,5)\n",
      "Filling row index k=2 with elements (i,j)=(1,6)\n",
      "Filling row index k=2 with elements (i,j)=(1,7)\n",
      "Filling row index k=3 with elements (i,j)=(1,8)\n",
      "Filling row index k=3 with elements (i,j)=(1,9)\n",
      "Filling row index k=4 with elements (i,j)=(1,10)\n",
      "Filling row index k=4 with elements (i,j)=(1,11)\n",
      "Filling row index k=5 with elements (i,j)=(1,12)\n",
      "Filling row index k=5 with elements (i,j)=(1,13)\n",
      "Filling row index k=6 with elements (i,j)=(1,14)\n",
      "Filling row index k=6 with elements (i,j)=(1,15)\n",
      "Filling row index k=7 with elements (i,j)=(1,16)\n",
      "Filling row index k=7 with elements (i,j)=(1,17)\n",
      "Filling row index k=8 with elements (i,j)=(1,18)\n",
      "Filling row index k=8 with elements (i,j)=(1,19)\n",
      "7.05334893869 0.0\n",
      "Filling row index k=0 with elements (i,j)=(2,2)\n",
      "Filling row index k=0 with elements (i,j)=(2,3)\n",
      "Filling row index k=1 with elements (i,j)=(2,4)\n",
      "Filling row index k=1 with elements (i,j)=(2,5)\n",
      "Adding content (equal to 0.0) of bin i=2, j=5 to Diagonal 5\n",
      "Adding content (equal to 0.0) of bin i=2, j=6 to Diagonal 5\n",
      "Filling row index k=2 with elements (i,j)=(2,6)\n",
      "Filling row index k=2 with elements (i,j)=(2,7)\n",
      "Filling row index k=3 with elements (i,j)=(2,8)\n",
      "Filling row index k=3 with elements (i,j)=(2,9)\n",
      "Filling row index k=4 with elements (i,j)=(2,10)\n",
      "Filling row index k=4 with elements (i,j)=(2,11)\n",
      "Filling row index k=5 with elements (i,j)=(2,12)\n",
      "Filling row index k=5 with elements (i,j)=(2,13)\n",
      "Filling row index k=6 with elements (i,j)=(2,14)\n",
      "Filling row index k=6 with elements (i,j)=(2,15)\n",
      "Filling row index k=7 with elements (i,j)=(2,16)\n",
      "Filling row index k=7 with elements (i,j)=(2,17)\n",
      "Filling row index k=8 with elements (i,j)=(2,18)\n",
      "Filling row index k=8 with elements (i,j)=(2,19)\n",
      "203.599382486 0.0\n",
      "Filling row index k=0 with elements (i,j)=(3,2)\n",
      "Filling row index k=0 with elements (i,j)=(3,3)\n",
      "Filling row index k=1 with elements (i,j)=(3,4)\n",
      "Filling row index k=1 with elements (i,j)=(3,5)\n",
      "Filling row index k=2 with elements (i,j)=(3,6)\n",
      "Filling row index k=2 with elements (i,j)=(3,7)\n",
      "Adding content (equal to 0.0) of bin i=3, j=7 to Diagonal 7\n",
      "Adding content (equal to 0.0) of bin i=3, j=8 to Diagonal 7\n",
      "Filling row index k=3 with elements (i,j)=(3,8)\n",
      "Filling row index k=3 with elements (i,j)=(3,9)\n",
      "Filling row index k=4 with elements (i,j)=(3,10)\n",
      "Filling row index k=4 with elements (i,j)=(3,11)\n",
      "Filling row index k=5 with elements (i,j)=(3,12)\n",
      "Filling row index k=5 with elements (i,j)=(3,13)\n",
      "Filling row index k=6 with elements (i,j)=(3,14)\n",
      "Filling row index k=6 with elements (i,j)=(3,15)\n",
      "Filling row index k=7 with elements (i,j)=(3,16)\n",
      "Filling row index k=7 with elements (i,j)=(3,17)\n",
      "Filling row index k=8 with elements (i,j)=(3,18)\n",
      "Filling row index k=8 with elements (i,j)=(3,19)\n",
      "1031.39512583 0.0\n",
      "Filling row index k=0 with elements (i,j)=(4,2)\n",
      "Filling row index k=0 with elements (i,j)=(4,3)\n",
      "Filling row index k=1 with elements (i,j)=(4,4)\n",
      "Filling row index k=1 with elements (i,j)=(4,5)\n",
      "Filling row index k=2 with elements (i,j)=(4,6)\n",
      "Filling row index k=2 with elements (i,j)=(4,7)\n",
      "Filling row index k=3 with elements (i,j)=(4,8)\n",
      "Filling row index k=3 with elements (i,j)=(4,9)\n",
      "Adding content (equal to 0.0) of bin i=4, j=9 to Diagonal 9\n",
      "Adding content (equal to 0.0) of bin i=4, j=10 to Diagonal 9\n",
      "Filling row index k=4 with elements (i,j)=(4,10)\n",
      "Filling row index k=4 with elements (i,j)=(4,11)\n",
      "Filling row index k=5 with elements (i,j)=(4,12)\n",
      "Filling row index k=5 with elements (i,j)=(4,13)\n",
      "Filling row index k=6 with elements (i,j)=(4,14)\n",
      "Filling row index k=6 with elements (i,j)=(4,15)\n",
      "Filling row index k=7 with elements (i,j)=(4,16)\n",
      "Filling row index k=7 with elements (i,j)=(4,17)\n",
      "Filling row index k=8 with elements (i,j)=(4,18)\n",
      "Filling row index k=8 with elements (i,j)=(4,19)\n",
      "2129.23248953 0.0\n",
      "Filling row index k=0 with elements (i,j)=(5,2)\n",
      "Filling row index k=0 with elements (i,j)=(5,3)\n",
      "Filling row index k=1 with elements (i,j)=(5,4)\n",
      "Filling row index k=1 with elements (i,j)=(5,5)\n",
      "Filling row index k=2 with elements (i,j)=(5,6)\n",
      "Filling row index k=2 with elements (i,j)=(5,7)\n",
      "Filling row index k=3 with elements (i,j)=(5,8)\n",
      "Filling row index k=3 with elements (i,j)=(5,9)\n",
      "Filling row index k=4 with elements (i,j)=(5,10)\n",
      "Filling row index k=4 with elements (i,j)=(5,11)\n",
      "Adding content (equal to 0.0) of bin i=5, j=11 to Diagonal 11\n",
      "Adding content (equal to 0.0) of bin i=5, j=12 to Diagonal 11\n",
      "Filling row index k=5 with elements (i,j)=(5,12)\n",
      "Filling row index k=5 with elements (i,j)=(5,13)\n",
      "Filling row index k=6 with elements (i,j)=(5,14)\n",
      "Filling row index k=6 with elements (i,j)=(5,15)\n",
      "Filling row index k=7 with elements (i,j)=(5,16)\n",
      "Filling row index k=7 with elements (i,j)=(5,17)\n",
      "Filling row index k=8 with elements (i,j)=(5,18)\n",
      "Filling row index k=8 with elements (i,j)=(5,19)\n",
      "2795.33059734 0.0\n",
      "Filling row index k=0 with elements (i,j)=(6,2)\n",
      "Filling row index k=0 with elements (i,j)=(6,3)\n",
      "Filling row index k=1 with elements (i,j)=(6,4)\n",
      "Filling row index k=1 with elements (i,j)=(6,5)\n",
      "Filling row index k=2 with elements (i,j)=(6,6)\n",
      "Filling row index k=2 with elements (i,j)=(6,7)\n",
      "Filling row index k=3 with elements (i,j)=(6,8)\n",
      "Filling row index k=3 with elements (i,j)=(6,9)\n",
      "Filling row index k=4 with elements (i,j)=(6,10)\n",
      "Filling row index k=4 with elements (i,j)=(6,11)\n",
      "Filling row index k=5 with elements (i,j)=(6,12)\n",
      "Filling row index k=5 with elements (i,j)=(6,13)\n",
      "Adding content (equal to 0.0) of bin i=6, j=13 to Diagonal 13\n",
      "Adding content (equal to 0.0) of bin i=6, j=14 to Diagonal 13\n",
      "Filling row index k=6 with elements (i,j)=(6,14)\n",
      "Filling row index k=6 with elements (i,j)=(6,15)\n",
      "Filling row index k=7 with elements (i,j)=(6,16)\n",
      "Filling row index k=7 with elements (i,j)=(6,17)\n",
      "Filling row index k=8 with elements (i,j)=(6,18)\n",
      "Filling row index k=8 with elements (i,j)=(6,19)\n",
      "2668.26111749 0.0\n",
      "Filling row index k=0 with elements (i,j)=(7,2)\n",
      "Filling row index k=0 with elements (i,j)=(7,3)\n",
      "Filling row index k=1 with elements (i,j)=(7,4)\n",
      "Filling row index k=1 with elements (i,j)=(7,5)\n",
      "Filling row index k=2 with elements (i,j)=(7,6)\n",
      "Filling row index k=2 with elements (i,j)=(7,7)\n",
      "Filling row index k=3 with elements (i,j)=(7,8)\n",
      "Filling row index k=3 with elements (i,j)=(7,9)\n",
      "Filling row index k=4 with elements (i,j)=(7,10)\n",
      "Filling row index k=4 with elements (i,j)=(7,11)\n",
      "Filling row index k=5 with elements (i,j)=(7,12)\n",
      "Filling row index k=5 with elements (i,j)=(7,13)\n",
      "Filling row index k=6 with elements (i,j)=(7,14)\n",
      "Filling row index k=6 with elements (i,j)=(7,15)\n",
      "Adding content (equal to 0.0) of bin i=7, j=15 to Diagonal 15\n",
      "Adding content (equal to 0.0) of bin i=7, j=16 to Diagonal 15\n",
      "Filling row index k=7 with elements (i,j)=(7,16)\n",
      "Filling row index k=7 with elements (i,j)=(7,17)\n",
      "Filling row index k=8 with elements (i,j)=(7,18)\n",
      "Filling row index k=8 with elements (i,j)=(7,19)\n",
      "2021.70877773 0.0\n",
      "Filling row index k=0 with elements (i,j)=(8,2)\n",
      "Filling row index k=0 with elements (i,j)=(8,3)\n",
      "Filling row index k=1 with elements (i,j)=(8,4)\n",
      "Filling row index k=1 with elements (i,j)=(8,5)\n",
      "Filling row index k=2 with elements (i,j)=(8,6)\n",
      "Filling row index k=2 with elements (i,j)=(8,7)\n",
      "Filling row index k=3 with elements (i,j)=(8,8)\n",
      "Filling row index k=3 with elements (i,j)=(8,9)\n",
      "Filling row index k=4 with elements (i,j)=(8,10)\n",
      "Filling row index k=4 with elements (i,j)=(8,11)\n",
      "Filling row index k=5 with elements (i,j)=(8,12)\n",
      "Filling row index k=5 with elements (i,j)=(8,13)\n",
      "Filling row index k=6 with elements (i,j)=(8,14)\n",
      "Filling row index k=6 with elements (i,j)=(8,15)\n",
      "Filling row index k=7 with elements (i,j)=(8,16)\n",
      "Filling row index k=7 with elements (i,j)=(8,17)\n",
      "Adding content (equal to 0.0) of bin i=8, j=17 to Diagonal 17\n",
      "Adding content (equal to 0.0) of bin i=8, j=18 to Diagonal 17\n",
      "Filling row index k=8 with elements (i,j)=(8,18)\n",
      "Filling row index k=8 with elements (i,j)=(8,19)\n",
      "1357.27115607 0.0\n",
      "Filling row index k=0 with elements (i,j)=(9,2)\n",
      "Filling row index k=0 with elements (i,j)=(9,3)\n",
      "Filling row index k=1 with elements (i,j)=(9,4)\n",
      "Filling row index k=1 with elements (i,j)=(9,5)\n",
      "Filling row index k=2 with elements (i,j)=(9,6)\n",
      "Filling row index k=2 with elements (i,j)=(9,7)\n",
      "Filling row index k=3 with elements (i,j)=(9,8)\n",
      "Filling row index k=3 with elements (i,j)=(9,9)\n",
      "Filling row index k=4 with elements (i,j)=(9,10)\n",
      "Filling row index k=4 with elements (i,j)=(9,11)\n",
      "Filling row index k=5 with elements (i,j)=(9,12)\n",
      "Filling row index k=5 with elements (i,j)=(9,13)\n",
      "Filling row index k=6 with elements (i,j)=(9,14)\n",
      "Filling row index k=6 with elements (i,j)=(9,15)\n",
      "Filling row index k=7 with elements (i,j)=(9,16)\n",
      "Filling row index k=7 with elements (i,j)=(9,17)\n",
      "Filling row index k=8 with elements (i,j)=(9,18)\n",
      "Filling row index k=8 with elements (i,j)=(9,19)\n",
      "820.842338918 0.0\n"
     ]
    }
   ],
   "source": [
    "ps_bindex = 0 \n",
    "\n",
    "l = 1\n",
    "\n",
    "tot_col = [] #np.array([0. for i in xrange(0, purity.GetNbinsX()+1)]) #\n",
    "#tot_col_err = [] #0 \n",
    "\n",
    "tot_row = np.array([0. for i in xrange(1, purity.GetNbinsX()+1)])\n",
    "#tot_row_err = np.zeros_like([0. for i in xrange(1, purity.GetNbinsX()+1)])\n",
    "\n",
    "diag = [] #np.zeros_like([0. for i in xrange(1, purity.GetNbinsX()+1)])\n",
    "#diag_error = [] # np.zeros_like([0. for i in xrange(1, purity.GetNbinsX()+1)])\n",
    "\n",
    "for i in range(0, response.GetNbinsY()+1):    \n",
    "    \n",
    "    k = 0\n",
    "    col = 0.\n",
    "    d_jj = 0.\n",
    "    for j in range(1, response.GetNbinsX()+1):\n",
    "    \n",
    "        r_ij = response.GetBinContent(i,j)\n",
    "        #r_ij_err = response.GetBinError(i,j)\n",
    "        #print (i,j), r_ij\n",
    "        \n",
    "        if (j)%2==0 and j < (response.GetNbinsX()+1):\n",
    "            #since 2 reco bins per 1 gen bin\n",
    "            print \"Filling row index k={} with elements (i,j)=({},{})\".format(k,i,j)\n",
    "            tot_row[k] += r_ij\n",
    "            print \"Filling row index k={} with elements (i,j)=({},{})\".format(k,i,j+1)\n",
    "            tot_row[k] +=  response.GetBinContent(i,j+1)\n",
    "            \n",
    "            #tot_col_err[k] += response.GetBinError(i,j)\n",
    "            #tot_col_err[k] +=  response.GetBinError(i,j+1)\n",
    "            \n",
    "            k +=1\n",
    "        \n",
    "        col += r_ij\n",
    "        \n",
    "        if l==j:\n",
    "            print \"Adding content (equal to {}) of bin i={}, j={} to Diagonal\".format(r_ij, i,j), l\n",
    "            d_jj += r_ij\n",
    " \n",
    "            print \"Adding content (equal to {}) of bin i={}, j={} to Diagonal\".format( response.GetBinContent(i,j+1), i,j+1), l\n",
    "            d_jj += response.GetBinContent(i,j+1)\n",
    "\n",
    "            diag.append(d_jj)\n",
    "    l = l+2\n",
    "    print col, d_jj"
   ]
  },
  {
   "cell_type": "code",
   "execution_count": 169,
   "metadata": {},
   "outputs": [
    {
     "name": "stdout",
     "output_type": "stream",
     "text": [
      "[0.0, 0.0, 0.0, 0.0, 0.0, 0.0, 0.0, 0.0, 0.0]\n",
      "[9856.06743635 2714.16568889   21.98392309    0.            0.\n",
      "    0.            0.            0.            0.        ]\n",
      "[ 0.  0.  0. nan nan nan nan nan nan]\n"
     ]
    },
    {
     "name": "stderr",
     "output_type": "stream",
     "text": [
      "/shome/kdatta/.local/lib/python2.7/site-packages/ipykernel_launcher.py:3: RuntimeWarning: invalid value encountered in divide\n",
      "  This is separate from the ipykernel package so we can avoid doing imports until\n"
     ]
    }
   ],
   "source": [
    "print diag\n",
    "print tot_row\n",
    "print diag/tot_row"
   ]
  },
  {
   "cell_type": "code",
   "execution_count": 170,
   "metadata": {},
   "outputs": [
    {
     "ename": "SyntaxError",
     "evalue": "invalid syntax (<ipython-input-170-dc72c7765764>, line 9)",
     "output_type": "error",
     "traceback": [
      "\u001b[0;36m  File \u001b[0;32m\"<ipython-input-170-dc72c7765764>\"\u001b[0;36m, line \u001b[0;32m9\u001b[0m\n\u001b[0;31m    if i==0 and j==0: purity_reco_binning[0] = dval/\u001b[0m\n\u001b[0m                                                    ^\u001b[0m\n\u001b[0;31mSyntaxError\u001b[0m\u001b[0;31m:\u001b[0m invalid syntax\n"
     ]
    }
   ],
   "source": [
    "purity_reco_binning = [0] \n",
    "diag = 0\n",
    "for i in range(1, response.GetNbinsX()+1):\n",
    "    for j in range(1, response.GetNbinsY()+1):\n",
    "        dval = response.GetBinContent(i,j)\n",
    "        if i==j:\n",
    "            diag = diag+dval\n",
    "            print i, j, \n",
    "            if i==0 and j==0: purity_reco_binning[0] = dval/\n",
    "            else: purity_reco_binning.append()\n",
    "        j = j+2"
   ]
  },
  {
   "cell_type": "code",
   "execution_count": null,
   "metadata": {},
   "outputs": [],
   "source": []
  },
  {
   "cell_type": "markdown",
   "metadata": {},
   "source": [
    "### Unfolding "
   ]
  },
  {
   "cell_type": "code",
   "execution_count": 171,
   "metadata": {},
   "outputs": [
    {
     "name": "stdout",
     "output_type": "stream",
     "text": [
      "getting tunfolder:\n"
     ]
    },
    {
     "name": "stderr",
     "output_type": "stream",
     "text": [
      "Info in <TUnfold::SetConstraint>: fConstraint=0\n",
      "Info in <TUnfold::TUnfold>: underflow and overflow bin do not depend on the input data\n",
      "Info in <TUnfold::TUnfold>: 18 input bins and 9 output bins\n",
      "Info in <TUnfoldDensity::TUnfold>: *NOT* unfolding bin #0 (yaxis:#tau_{4}^{(1)}(gen_sig)[ufl])\n",
      "Info in <TUnfoldDensity::TUnfold>: *NOT* unfolding bin #10 (yaxis:#tau_{4}^{(1)}(gen_sig)[ofl])\n",
      "Info in <TUnfoldDensity::RegularizeOneDistribution>: regularizing yaxis regMode=3 densityMode=1 axisSteering=*[UOB]\n",
      "Info in <TUnfold::SetConstraint>: fConstraint=0\n",
      "Info in <TUnfold::TUnfold>: underflow and overflow bin do not depend on the input data\n",
      "Info in <TUnfold::TUnfold>: 18 input bins and 9 output bins\n",
      "Info in <TUnfoldDensity::TUnfold>: *NOT* unfolding bin #0 (yaxis:#tau_{4}^{(1)}(gen_sig)[ufl])\n",
      "Info in <TUnfoldDensity::TUnfold>: *NOT* unfolding bin #10 (yaxis:#tau_{4}^{(1)}(gen_sig)[ofl])\n",
      "Info in <TUnfoldDensity::RegularizeOneDistribution>: regularizing yaxis regMode=3 densityMode=1 axisSteering=*[UOB]\n"
     ]
    }
   ],
   "source": [
    "print 'getting tunfolder:'\n",
    "\n",
    "orientation = ROOT.TUnfoldDensity.kHistMapOutputHoriz\n",
    "regMode = ROOT.TUnfoldDensity.kRegModeCurvature\n",
    "con = ROOT.TUnfoldDensity.kEConstraintNone\n",
    "mode =  ROOT.TUnfoldDensity.kDensityModeBinWidth\n",
    "errmode = ROOT.TUnfoldSys.kSysErrModeMatrix\n",
    "#tunfolder_MC = ROOT.TUnfoldDensity(response, orientation, regMode, con, mode, \"signal\", \"*[UOb]\")\n",
    "#tunfolder_data = ROOT.TUnfoldDensity(response, orientation, regMode, con, mode, \"signal\", \"*[UOb]\")\n",
    "\n",
    "tunfolder_MC = ROOT.TUnfoldDensity(response,ROOT.TUnfold.kHistMapOutputVert,ROOT.TUnfold.kRegModeCurvature, ROOT.TUnfold.kEConstraintNone, ROOT.TUnfoldDensity.kDensityModeBinWidth)\n",
    "tunfolder_data = ROOT.TUnfoldDensity(response,ROOT.TUnfold.kHistMapOutputVert,ROOT.TUnfold.kRegModeCurvature, ROOT.TUnfold.kEConstraintNone, ROOT.TUnfoldDensity.kDensityModeBinWidth)"
   ]
  },
  {
   "cell_type": "markdown",
   "metadata": {
    "collapsed": true
   },
   "source": [
    "Set the input, a 1D reconstructed histogram from either MC_sig (closure) or Data (measurement) , binned in the detector level binning. Subtract background contributions from data, using reco-MC bkg."
   ]
  },
  {
   "cell_type": "code",
   "execution_count": 172,
   "metadata": {},
   "outputs": [
    {
     "name": "stdout",
     "output_type": "stream",
     "text": [
      "setting reco input\n"
     ]
    }
   ],
   "source": [
    "print 'setting reco input'\n",
    "tunfolder_data.SetInput( histMdetData )\n",
    "tunfolder_data.SubtractBackground( histMdetMC_bkg, \"bkg_all\", 1. )"
   ]
  },
  {
   "cell_type": "code",
   "execution_count": 173,
   "metadata": {},
   "outputs": [
    {
     "name": "stdout",
     "output_type": "stream",
     "text": [
      "setting reco MC input\n"
     ]
    },
    {
     "data": {
      "text/plain": [
       "1"
      ]
     },
     "execution_count": 173,
     "metadata": {},
     "output_type": "execute_result"
    },
    {
     "name": "stderr",
     "output_type": "stream",
     "text": [
      "Warning in <TUnfoldDensity::SetInput>: One input bin has zero error, and is ignored.\n"
     ]
    }
   ],
   "source": [
    "print 'setting reco MC input'\n",
    "tunfolder_MC.SetInput( histMdetMC_sig )\n",
    "#tunfolder_MC.SubtractBackground( histMdetMC_bkg, \"bkg_all\", 1. )"
   ]
  },
  {
   "cell_type": "raw",
   "metadata": {},
   "source": [
    "Unfold nScan times with values for the regularization parameter between tauMin and tauMax using the empty TSplines to store the results."
   ]
  },
  {
   "cell_type": "raw",
   "metadata": {
    "scrolled": true
   },
   "source": [
    "print 'regularizing'\n",
    "nScan=50\n",
    "tauMin=-5.0\n",
    "tauMax=3.0\n",
    "iBest=0\n",
    "\n",
    "logTauX = ROOT.MakeNullPointer(ROOT.TSpline)\n",
    "logTauY = ROOT.MakeNullPointer(ROOT.TSpline)\n",
    "lCurve = ROOT.MakeNullPointer(ROOT.TGraph)\n",
    "\n",
    "print 'doing the unfolding'\n",
    "tunfolder.ScanLcurve(nScan,tauMin,tauMax,lCurve,logTauX,logTauY);\n",
    "print 'getting the results'\n",
    "unfolded = tunfolder.GetOutput(\"unfolded\")"
   ]
  },
  {
   "cell_type": "code",
   "execution_count": 174,
   "metadata": {},
   "outputs": [
    {
     "name": "stderr",
     "output_type": "stream",
     "text": [
      "Warning in <TROOT::Append>: Replacing existing TH1: unfolded_data (Potential memory leak).\n",
      "Warning in <TROOT::Append>: Replacing existing TH1: unfolded_MC (Potential memory leak).\n"
     ]
    }
   ],
   "source": [
    "unfolded_data = tunfolder_data.DoUnfold(0.)\n",
    "unfolded_data = tunfolder_data.GetOutput(\"unfolded_data\")\n",
    "\n",
    "unfolded_MC = tunfolder_MC.DoUnfold(0.)\n",
    "unfolded_MC = tunfolder_MC.GetOutput(\"unfolded_MC\")"
   ]
  },
  {
   "cell_type": "code",
   "execution_count": 175,
   "metadata": {},
   "outputs": [],
   "source": [
    "ROOT.gStyle.SetOptStat(0)"
   ]
  },
  {
   "cell_type": "code",
   "execution_count": 176,
   "metadata": {
    "scrolled": false
   },
   "outputs": [
    {
     "name": "stderr",
     "output_type": "stream",
     "text": [
      "Warning in <TCanvas::Constructor>: Deleting canvas with same name: c5\n",
      "Info in <TCanvas::Print>: png file tau4_1_unfolding_Escheme_bkgsub.png has been created\n",
      "Info in <TCanvas::Print>: pdf file tau4_1_unfolding_Escheme_bkgsub.pdf has been created\n"
     ]
    },
    {
     "data": {
      "image/png": "[encoded data removed]",
      "text/plain": [
       "<IPython.core.display.Image object>"
      ]
     },
     "metadata": {},
     "output_type": "display_data"
    }
   ],
   "source": [
    "c5 = ROOT.TCanvas('c5', 'c5')\n",
    "\n",
    "unfolded_MC.SetMarkerStyle(2)\n",
    "unfolded_MC.SetMarkerColor(7)\n",
    "unfolded_MC.SetLineColor(7)\n",
    "unfolded_MC.SetLineWidth(1)\n",
    "\n",
    "unfolded_data.SetMarkerStyle(22)\n",
    "unfolded_data.SetMarkerColor(1)\n",
    "unfolded_data.SetLineColor(1)\n",
    "unfolded_data.SetLineWidth(2)\n",
    "\n",
    "\n",
    "#unfolded_MC.SetFillColor(0)\n",
    "#histMgenData.SetMarkerStyle(4)\n",
    "#histMgenData.SetMarkerColor(2)\n",
    "#histMgenData.SetOption(\"E\")\n",
    "#histMgenData.SetLineColor(2)\n",
    "histMgenMC_sig.SetMarkerStyle(5)\n",
    "histMgenMC_sig.SetMarkerColor(2)\n",
    "histMgenMC_sig.SetLineColor(2)\n",
    "\n",
    "\n",
    "\n",
    "hs = ROOT.THStack(\"#tau_{4}^{(1)}\", \"#tau_{4}^{(1)}\")\n",
    "#hs.Add\n",
    "#hs.SetMinimum(0)\n",
    "hs.SetMaximum(8000)\n",
    "#hs.Add( histMgenData, \"E HIST\")\n",
    "hs.Add( unfolded_MC, \"E HIST\")\n",
    "hs.Add( unfolded_data, \"E \")\n",
    "hs.Add(histMgenMC_sig, \"E HIST\")\n",
    "#hs.Add(histMdetMC_sig, \"E\")\n",
    "#hs.Add(histMdetData, \"E\")\n",
    "\n",
    "leg0 = ROOT.TLegend(0.02, 0.7, 0.91, 0.85)\n",
    "leg0.AddEntry( unfolded_data, \"Data (2016)\", 'p')\n",
    "leg0.AddEntry( histMgenMC_sig, \"Generator-level (ttbar MC: Powheg+Pythia8)\", 'p')\n",
    "#leg0.AddEntry( histMgenData, \"'Truth' (MC: MG5+Pythia8)\", 'p')\n",
    "leg0.AddEntry( unfolded_MC, \"Unfolding_self-closure (ttbar MC: Powheg+Pythia8)\", 'p')\n",
    "leg0.SetLineColor(0)\n",
    "leg0.SetBorderSize(0)\n",
    "leg0.SetFillStyle(0)\n",
    "\n",
    "#hs.Add(histMdetMC, \"E\")\n",
    "#hs.Add(histMdetData, \"E\")\n",
    "hs.Draw(\"nostack\")\n",
    "leg0.Draw()\n",
    "\n",
    "c5.Draw()\n",
    "c5.SaveAs(\"tau4_1_unfolding_Escheme_bkgsub.png\")\n",
    "c5.SaveAs(\"tau4_1_unfolding_Escheme_bkgsub.pdf\")"
   ]
  },
  {
   "cell_type": "code",
   "execution_count": 177,
   "metadata": {},
   "outputs": [
    {
     "name": "stdout",
     "output_type": "stream",
     "text": [
      "Bin Content \tBin error \tBin Center \tBin Low-Edge \tRatio to Truth for bin \tRatio Error\n",
      "446.5149 \t27.9085 \t0.01375 \t0.0 1.0000 0.0685\n",
      "4597.7812 \t72.9752 \t0.04125 \t0.0275 1.0000 0.0181\n",
      "5277.3677 \t94.4921 \t0.06875 \t0.055 1.0000 0.0197\n",
      "2451.5209 \t84.8156 \t0.09625 \t0.0825 1.0000 0.0366\n",
      "864.4771 \t60.8278 \t0.12375 \t0.11 1.0000 0.0732\n",
      "213.4344 \t34.5425 \t0.15125 \t0.1375 1.0000 0.1670\n",
      "43.7851 \t14.8026 \t0.17875 \t0.165 1.0000 0.3498\n",
      "5.5764 \t3.3370 \t0.20625 \t0.1925 1.0000 0.6474\n",
      "0.6801 \t0.6258 \t0.24 \t0.22 1.0000 1.1609\n"
     ]
    }
   ],
   "source": [
    "ratio = ROOT.TH1D(\"\",\"; #tau_{4}^{(1)}\",  gen_bins.shape[0]-1, (gen_bins))\n",
    "ratio.GetXaxis().SetTitle(\"#tau_{4}^{(1)}\");\n",
    "#ratio.GetYaxis().SetTitleOffset(0.);\n",
    "ratio.GetYaxis().CenterTitle(ROOT.kTRUE);\n",
    "ratio.GetXaxis().CenterTitle(ROOT.kTRUE);\n",
    "ratio.GetYaxis().SetRangeUser(0.7,1.3)\n",
    "ratio.Add(unfolded_MC)\n",
    "ratio.GetYaxis().SetTitle(\"#frac{Unfolded Powheg}{Gen-level Powheg}\")\n",
    "ratio.Sumw2()\n",
    "ratio.SetStats(0)\n",
    "ratio.Divide(histMgenMC_sig);\n",
    "ratio.GetYaxis().SetLabelSize(0.09)\n",
    "ratio.GetXaxis().SetLabelSize(0.09)\n",
    "#ratio.SetMarkerStyle(1)\n",
    "ratio.SetMarkerColor(ROOT.kRed)\n",
    "ratio.SetLineColor(ROOT.kRed)\n",
    "ratio.GetYaxis().SetTitleSize(0.12)\n",
    "ratio.GetYaxis().SetTitleOffset(0.4)\n",
    "ratio.GetXaxis().SetTitleSize(0.12)\n",
    "ratio.GetXaxis().SetTitleOffset(0.85)\n",
    "\n",
    "print \"Bin Content\", \"\\t\", \"Bin error\", \"\\t\", \"Bin Center\", \"\\t\", \"Bin Low-Edge\", \"\\t\", \"Ratio to Truth for bin\", \"\\t\", \"Ratio Error\"\n",
    "for i in xrange(1,gen_bins.shape[0]):\n",
    "    print \"%0.4f\"%unfolded_MC.GetBinContent(i), \"\\t\", \"%0.4f\"%unfolded_MC.GetBinError(i), \"\\t\", unfolded_MC.GetBinCenter(i), \"\\t\", unfolded_MC.GetBinLowEdge(i), \"%0.4f\"%ratio.GetBinContent(i), \"%0.4f\"%ratio.GetBinError(i)"
   ]
  },
  {
   "cell_type": "code",
   "execution_count": 178,
   "metadata": {},
   "outputs": [
    {
     "name": "stderr",
     "output_type": "stream",
     "text": [
      "Warning in <TCanvas::Constructor>: Deleting canvas with same name: c6\n",
      "Info in <TCanvas::Print>: png file tau_4_1_MC_SC_ratio_Escheme_bkgsub.png has been created\n",
      "Info in <TCanvas::Print>: pdf file tau_4_1_MC_SC_ratio_Escheme_bkgsub.pdf has been created\n"
     ]
    },
    {
     "data": {
      "image/png": "[encoded data removed]",
      "text/plain": [
       "<IPython.core.display.Image object>"
      ]
     },
     "metadata": {},
     "output_type": "display_data"
    }
   ],
   "source": [
    "c6 = ROOT.TCanvas(\"c6\",\"c6\", 600,300)\n",
    "ratio.GetYaxis().SetLabelSize(0.05)\n",
    "ratio.GetXaxis().SetLabelSize(0.05)\n",
    "#ratio.SetMarkerStyle(1)\n",
    "ratio.SetMarkerStyle(5)\n",
    "ratio.SetMarkerColor(ROOT.kRed)\n",
    "ratio.SetLineColor(ROOT.kRed)\n",
    "ratio.GetYaxis().SetTitleSize(0.06)\n",
    "ratio.GetYaxis().SetTitleOffset(0.7)\n",
    "ratio.GetXaxis().SetTitleSize(0.05)\n",
    "ratio.GetXaxis().SetTitleOffset(0.8)\n",
    "#ratio.SetMinimum(0.7)\n",
    "#ratio.SetMaximum(1.3)\n",
    "#ratio.SetMarkerStyle(21);\n",
    "ratio.Draw(\"ep\")\n",
    "c6.Draw()\n",
    "c6.SaveAs(\"tau_4_1_MC_SC_ratio_Escheme_bkgsub.png\")\n",
    "c6.SaveAs(\"tau_4_1_MC_SC_ratio_Escheme_bkgsub.pdf\")"
   ]
  },
  {
   "cell_type": "code",
   "execution_count": 179,
   "metadata": {},
   "outputs": [
    {
     "name": "stderr",
     "output_type": "stream",
     "text": [
      "Error in <TUnfoldDensity::SubtractBackground>: Source bkg_all given twice, ignoring 2nd call.\n",
      "\n",
      "Warning in <TROOT::Append>: Replacing existing TH1: unfolded_data (Potential memory leak).\n",
      "Warning in <TROOT::Append>: Replacing existing TH1: unfolding stat error matrix (Potential memory leak).\n",
      "Warning in <TROOT::Append>: Replacing existing TH1: unfolding total error matrix (Potential memory leak).\n",
      "Warning in <TROOT::Append>: Replacing existing TH1: Corr(total) (Potential memory leak).\n",
      "Warning in <TROOT::Append>: Replacing existing TH1: bkg_all (Potential memory leak).\n"
     ]
    }
   ],
   "source": [
    "# get unfolding output\n",
    "# includes the statistical and background errors\n",
    "# but not the other systematic uncertainties\n",
    "#tunfolder_data.SetInput( histMdetData )\n",
    "tunfolder_data.SubtractBackground( histMdetMC_bkg, \"bkg_all\", 1. )\n",
    "\n",
    "histUnfoldOutput= tunfolder_data.GetOutput(\"unfolded_data\")\n",
    "\n",
    "# retreive error matrix of statistical errors\n",
    "histEmatStat=tunfolder_data.GetEmatrixInput(\"unfolding stat error matrix\");\n",
    "# retreive full error matrix\n",
    "# This includes all systematic errors\n",
    "histEmatTotal=tunfolder_data.GetEmatrixTotal(\"unfolding total error matrix\");\n",
    "# create two copies of the unfolded data, one with statistical errors\n",
    "# the other with total errors\n",
    "histUnfoldStat=ROOT.TH1D(\"tau4_1(unfold,staterr)\",\";tau4_1(gen)\",  gen_bins.shape[0]-1, (gen_bins));\n",
    "histUnfoldTotal=ROOT.TH1D(\"tau4_1(unfold,totalerr)\",\";tau4_1(gen)\",  gen_bins.shape[0]-1, (gen_bins));\n",
    "\n",
    "for i in xrange(0, gen_bins.shape[0]): \n",
    "    c=histUnfoldOutput.GetBinContent(i);\n",
    "    # histogram with unfolded data and stat errors\n",
    "    histUnfoldStat.SetBinContent(i,c);\n",
    "    histUnfoldStat.SetBinError(i,np.sqrt(histEmatStat.GetBinContent(i,i)));\n",
    "    # histogram with unfolded data and total errors\n",
    "    histUnfoldTotal.SetBinContent(i,c);\n",
    "    histUnfoldTotal.SetBinError(i,np.sqrt(histEmatTotal.GetBinContent(i,i)));\n",
    "\n",
    "# create histogram with correlation matrix\n",
    "histCorr=ROOT.TH2D(\"Corr(total)\",\";tau4_1(gen);tau4_1(gen)\",  gen_bins.shape[0]-1, (gen_bins), gen_bins.shape[0]-1, (gen_bins));\n",
    "for i in xrange(0, gen_bins.shape[0]): \n",
    "    ei,ej = 0,0\n",
    "    ei=np.sqrt(histEmatTotal.GetBinContent(i,i));\n",
    "    if(ei<=0.0): continue\n",
    "    for j in xrange(0, gen_bins.shape[0]):\n",
    "        ej=np.sqrt(histEmatTotal.GetBinContent(j,j));\n",
    "        if(ej<=0.0): continue\n",
    "        histCorr.SetBinContent(i,j,histEmatTotal.GetBinContent(i,j)/ei/ej);\n",
    "\n",
    "# retreive bgr source 1\n",
    "#histdetNormBgr1=tunfolder_data.GetBackground(\"bgr1 normalized\", \"background1\");\n",
    "histMdetNormBgrTotal=tunfolder_data.GetBackground(\"bkg_all\");\n",
    "#========================\n"
   ]
  },
  {
   "cell_type": "code",
   "execution_count": 180,
   "metadata": {},
   "outputs": [
    {
     "data": {
      "image/png": "[encoded data removed]",
      "text/plain": [
       "<IPython.core.display.Image object>"
      ]
     },
     "metadata": {},
     "output_type": "display_data"
    }
   ],
   "source": [
    "# Step 7: plots\n",
    "output = ROOT.TCanvas();\n",
    "#output.Divide(3,2);\n",
    "#output.cd(1);\n",
    "# data, MC prediction, background\n",
    "#histMdetData.SetMinimum(0.0);\n",
    "histMdetData.SetMaximum(histMdetData.GetMaximum()*1.5);\n",
    "histMdetData.Draw(\"E\");\n",
    "#histMdetMC_sig.SetMinimum(0.0);\n",
    "histMdetMC_sig.SetLineColor(ROOT.kBlue);\n",
    "histMdetNormBgrTotal.SetLineColor(ROOT.kRed);\n",
    "#histdetNormBgr1.SetLineColor(ROOT.kCyan);\n",
    "histMdetMC_sig.Draw(\"SAME HIST\");\n",
    "#histdetNormBgr1.Draw(\"SAME HIST\");\n",
    "histMdetNormBgrTotal.Draw(\"SAME HIST\");\n",
    "output.Draw()"
   ]
  },
  {
   "cell_type": "code",
   "execution_count": 182,
   "metadata": {},
   "outputs": [
    {
     "data": {
      "image/png": "[encoded data removed]",
      "text/plain": [
       "<IPython.core.display.Image object>"
      ]
     },
     "metadata": {},
     "output_type": "display_data"
    }
   ],
   "source": [
    "#output.cd(2)\n",
    "# unfolded data, data truth, MC truth\n",
    "output = ROOT.TCanvas();\n",
    "histUnfoldTotal.SetMinimum(0.0);\n",
    "histUnfoldTotal.SetMaximum(8000);\n",
    "histUnfoldTotal.SetLineColor(ROOT.kBlue+3)\n",
    "histUnfoldTotal.SetLineWidth(1)\n",
    "# outer error: total error\n",
    "histUnfoldTotal.Draw(\"E\");\n",
    "# middle error: stat+bgr\n",
    "histUnfoldOutput.SetLineWidth(1)\n",
    "histUnfoldOutput.Draw(\"SAME E1\");\n",
    "# inner error: stat only\n",
    "histUnfoldStat.SetLineColor(ROOT.kGreen+2)\n",
    "histUnfoldStat.Draw(\"SAME E1\");\n",
    "\n",
    "histMdetMC_sig.Draw(\"SAME HIST\");\n",
    "histMgenMC_sig.Draw(\"SAME HIST\");\n",
    "#histBbbSignalGen.SetLineColor(ROOT.kBlue);\n",
    "#histBbbSignalGen.Draw(\"SAME HIST\");\n",
    "output.Draw()"
   ]
  },
  {
   "cell_type": "code",
   "execution_count": 183,
   "metadata": {
    "scrolled": true
   },
   "outputs": [
    {
     "data": {
      "image/png": "[encoded data removed]",
      "text/plain": [
       "<IPython.core.display.Image object>"
      ]
     },
     "metadata": {},
     "output_type": "display_data"
    }
   ],
   "source": [
    "output.cd(3);\n",
    "# unfolding matrix\n",
    "response.SetLineColor(ROOT.kBlue);\n",
    "response.Draw(\"BOX\");\n",
    "\n",
    "output.Draw()"
   ]
  },
  {
   "cell_type": "code",
   "execution_count": 184,
   "metadata": {
    "scrolled": true
   },
   "outputs": [
    {
     "data": {
      "image/png": "[encoded data removed]",
      "text/plain": [
       "<IPython.core.display.Image object>"
      ]
     },
     "metadata": {},
     "output_type": "display_data"
    }
   ],
   "source": [
    "# show tau as a function of chi**2\n",
    "output.cd(4);\n",
    "#logTauX.Draw();\n",
    "#bestLogTauLogChi2.SetMarkerColor(ROOT.kRed);\n",
    "#bestLogTauLogChi2.Draw(\"*\");\n",
    "# show the L curve\n",
    "output.cd(5);\n",
    "#lCurve.Draw(\"AL\");\n",
    "#bestLcurve.SetMarkerColor(ROOT.kRed);\n",
    "#bestLcurve.Draw(\"*\");\n",
    "# show correlation matrix\n",
    "output.cd(6);\n",
    "histCorr.Draw(\"BOX\");\n",
    "output.Draw()"
   ]
  },
  {
   "cell_type": "code",
   "execution_count": null,
   "metadata": {},
   "outputs": [],
   "source": []
  },
  {
   "cell_type": "markdown",
   "metadata": {},
   "source": [
    "# $\\tau_{4}^{(2)}$ unfolding with background subtraction + purity&stability study [w/ E-scheme recombination+excl. $k_T$ axes]\n"
   ]
  },
  {
   "cell_type": "code",
   "execution_count": 20,
   "metadata": {},
   "outputs": [],
   "source": [
    "Wjets_gen_tau4_2 = Wjets_gen_nSub_basis[:,11]\n",
    "\n",
    "ST1_gen_tau4_2 = ST1_gen_nSub_basis[:,11]\n",
    "\n",
    "ST2_gen_tau4_2 = ST2_gen_nSub_basis[:,11]\n",
    "\n",
    "ST3_gen_tau4_2 = ST3_gen_nSub_basis[:,11]\n",
    "\n",
    "ST4_gen_tau4_2 = ST4_gen_nSub_basis[:,11]\n",
    "\n",
    "ST5_gen_tau4_2 = ST5_gen_nSub_basis[:,11]\n",
    "\n",
    "TTbar_gen_tau4_2 = TTbar_gen_nSub_basis[:,11]"
   ]
  },
  {
   "cell_type": "code",
   "execution_count": 21,
   "metadata": {},
   "outputs": [],
   "source": [
    "Wjets_reco_tau4_2 = Wjets_reco_nSub_basis[:,11]\n",
    "\n",
    "ST1_reco_tau4_2 = ST1_reco_nSub_basis[:,11]\n",
    "\n",
    "ST2_reco_tau4_2 = ST2_reco_nSub_basis[:,11]\n",
    "\n",
    "ST3_reco_tau4_2 = ST3_reco_nSub_basis[:,11]\n",
    "\n",
    "ST4_reco_tau4_2 = ST4_reco_nSub_basis[:,11]\n",
    "\n",
    "ST5_reco_tau4_2 = ST5_reco_nSub_basis[:,11]\n",
    "\n",
    "TTbar_reco_tau4_2 = TTbar_reco_nSub_basis[:,11]"
   ]
  },
  {
   "cell_type": "markdown",
   "metadata": {},
   "source": [
    "# Unfolding $\\tau_{4}^{(2)}$ with background subtraction"
   ]
  },
  {
   "cell_type": "code",
   "execution_count": 22,
   "metadata": {},
   "outputs": [],
   "source": [
    "MC_sig_reco_tau4_2 = TTbar_reco_tau4_2\n",
    "MC_sig_gen_tau4_2 = TTbar_gen_tau4_2\n",
    "\n",
    "MC_bkg_reco_tau4_2 = np.concatenate((ST1_reco_tau4_2,ST2_reco_tau4_2,ST3_reco_tau4_2,ST4_reco_tau4_2,ST5_reco_tau4_2,Wjets_reco_tau4_2))\n",
    "MC_bkg_gen_tau4_2 = np.concatenate((ST1_gen_tau4_2,ST2_gen_tau4_2,ST3_gen_tau4_2,ST4_gen_tau4_2,ST5_gen_tau4_2,Wjets_gen_tau4_2))\n",
    "\n",
    "data_tau4_2 = data_nSub_basis[:,11]\n",
    "weights_MC_sig = weight_TTbar\n",
    "weights_MC_bkg = np.concatenate((weight_ST1,weight_ST2,weight_ST3,weight_ST4,weight_ST5,weight_Wjets))"
   ]
  },
  {
   "cell_type": "markdown",
   "metadata": {
    "collapsed": true
   },
   "source": [
    "Get the response matrix and input 1D distributions for unfolding."
   ]
  },
  {
   "cell_type": "code",
   "execution_count": 23,
   "metadata": {},
   "outputs": [
    {
     "name": "stdout",
     "output_type": "stream",
     "text": [
      "4.965249900124036e-06\n",
      "0.0003161522326990962\n",
      "0.08010974526405334\n",
      "0.08668656647205353 \n",
      "\n",
      "0.00040877447463572025\n",
      "0.0007921340875327587\n",
      "0.0676879957318306\n",
      "0.0668683722615242 \n",
      "\n",
      "0.0007059933268465102\n",
      "0.1088307648897171\n"
     ]
    }
   ],
   "source": [
    "print np.min(MC_sig_gen_tau4_2)\n",
    "print np.min(MC_sig_reco_tau4_2)\n",
    "print np.max(MC_sig_gen_tau4_2)\n",
    "print np.max(MC_sig_reco_tau4_2), \"\\n\"\n",
    "\n",
    "\n",
    "print np.min(MC_bkg_gen_tau4_2)\n",
    "print np.min(MC_bkg_reco_tau4_2)\n",
    "print np.max(MC_bkg_gen_tau4_2)\n",
    "print np.max(MC_bkg_reco_tau4_2), \"\\n\"\n",
    "\n",
    "\n",
    "print np.min(data_tau4_2)\n",
    "print np.max(data_tau4_2)"
   ]
  },
  {
   "cell_type": "markdown",
   "metadata": {
    "collapsed": true
   },
   "source": [
    "#### Set the axis ranges for the generator nd detector level distributions as well as the number of bins in each. Note that we want twice as many detector bins as generator level bins as recommended by the TUnfold documenation "
   ]
  },
  {
   "cell_type": "code",
   "execution_count": 72,
   "metadata": {},
   "outputs": [
    {
     "name": "stdout",
     "output_type": "stream",
     "text": [
      "[0.     0.0075 0.015  0.0225 0.03   0.04   0.055  0.075  0.11  ] 9\n",
      "[0.      0.00375 0.0075  0.01125 0.015   0.01875 0.0225  0.02625 0.03\n",
      " 0.035   0.04    0.0475  0.055   0.0625  0.075   0.0925  0.11   ] 17\n"
     ]
    }
   ],
   "source": [
    "gen_bins = np.array([x for x in np.linspace(num=5, start=0., stop=0.03)])\n",
    "gen_bins = np.concatenate((gen_bins, np.array([0.04, 0.055, 0.075,  0.11])))\n",
    "print gen_bins, gen_bins.shape[0]\n",
    "\n",
    "det_bins = np.array([x for x in np.linspace(num=9, start=0., stop=0.03)])\n",
    "det_bins = np.concatenate((det_bins, np.array([0.035, 0.04, 0.0475, 0.055, 0.0625, 0.075, 0.0925, 0.11])))\n",
    "print det_bins, det_bins.shape[0]"
   ]
  },
  {
   "cell_type": "code",
   "execution_count": 73,
   "metadata": {},
   "outputs": [],
   "source": [
    "ROOT.TH1.SetDefaultSumw2()\n",
    "from root_numpy import *"
   ]
  },
  {
   "cell_type": "markdown",
   "metadata": {},
   "source": [
    "#### Fill histograms for sig and bkg. MC separately in this case (as one should!)"
   ]
  },
  {
   "cell_type": "code",
   "execution_count": 74,
   "metadata": {},
   "outputs": [
    {
     "name": "stderr",
     "output_type": "stream",
     "text": [
      "Warning in <TROOT::Append>: Replacing existing TH1: histMgenMC_bkg (Potential memory leak).\n",
      "Warning in <TROOT::Append>: Replacing existing TH1: histMdetMC_bkg (Potential memory leak).\n",
      "Warning in <TROOT::Append>: Replacing existing TH1: histMgenMC_sig (Potential memory leak).\n",
      "Warning in <TROOT::Append>: Replacing existing TH1: histMdetMC_sig (Potential memory leak).\n",
      "Warning in <TROOT::Append>: Replacing existing TH1: histMdetData (Potential memory leak).\n"
     ]
    }
   ],
   "source": [
    "histMgenMC_bkg = ROOT.TH1D(\"histMgenMC_bkg\", \"histMgenMC_bkg; #tau_{4}^{(2)}; Events/(0.02)\",  gen_bins.shape[0]-1, (gen_bins))\n",
    "fill_hist(histMgenMC_bkg, MC_bkg_gen_tau4_2, weights=weights_MC_bkg)\n",
    "\n",
    "histMdetMC_bkg = ROOT.TH1D(\"histMdetMC_bkg\", \"histMdetMC_bkg; #tau_{4}^{(2)}; Events/(0.02)\", det_bins.shape[0]-1, (det_bins))\n",
    "fill_hist(histMdetMC_bkg, MC_bkg_reco_tau4_2, weights=weights_MC_bkg)\n",
    "\n",
    "histMgenMC_sig = ROOT.TH1D(\"histMgenMC_sig\", \"histMgenMC_sig; #tau_{4}^{(2)}; Events/(0.02)\",  gen_bins.shape[0]-1, (gen_bins))\n",
    "fill_hist(histMgenMC_sig, MC_sig_gen_tau4_2, weights=weights_MC_sig)\n",
    "\n",
    "histMdetMC_sig = ROOT.TH1D(\"histMdetMC_sig\", \"histMdetMC_sig; #tau_{4}^{(2)}; Events/(0.02)\", det_bins.shape[0]-1, (det_bins))\n",
    "fill_hist(histMdetMC_sig, MC_sig_reco_tau4_2, weights=weights_MC_sig)\n",
    "\n",
    "#histMgenData = ROOT.TH1D(\"histMgenData\", \"histMgenData; #tau_{4}^{(2)}; Events/(0.02)\", gen_bins.shape[0]-1, (gen_bins))\n",
    "#fill_hist(histMgenData, TTbartruth_nSub_basis[:,4]/TTbartruth_nSub_basis[:,2])\n",
    "\n",
    "histMdetData = ROOT.TH1D(\"histMdetData\", \"histMdetData; #tau_{4}^{(2)}; Events/(0.02)\", det_bins.shape[0]-1, (det_bins))\n",
    "fill_hist(histMdetData, data_tau4_2)"
   ]
  },
  {
   "cell_type": "markdown",
   "metadata": {
    "collapsed": true
   },
   "source": [
    "Set the X and Y axis labels"
   ]
  },
  {
   "cell_type": "code",
   "execution_count": 75,
   "metadata": {},
   "outputs": [],
   "source": [
    "histMgenMC_bkg.SetTitle(\";#tau_{4}^{(2)}(gen_bkg)\")\n",
    "\n",
    "histMdetMC_bkg.SetTitle(\";#tau_{4}^{(2)}(det_bkg)\")\n",
    "\n",
    "histMgenMC_sig.SetTitle(\";#tau_{4}^{(2)}(gen_sig)\")\n",
    "\n",
    "histMdetMC_sig.SetTitle(\";#tau_{4}^{(2)}(det_sig)\")\n",
    "\n",
    "histMdetData.SetTitle(\";#tau_{4}^{(2)}(data)\")\n"
   ]
  },
  {
   "cell_type": "markdown",
   "metadata": {
    "collapsed": true
   },
   "source": [
    "Draw the variables at reco and gen level and for \"data\""
   ]
  },
  {
   "cell_type": "code",
   "execution_count": 76,
   "metadata": {
    "scrolled": false
   },
   "outputs": [
    {
     "name": "stderr",
     "output_type": "stream",
     "text": [
      "Warning in <TCanvas::Constructor>: Deleting canvas with same name: chistMgenMC_sig1\n"
     ]
    },
    {
     "data": {
      "image/png": "[encoded data removed]",
      "text/plain": [
       "<IPython.core.display.Image object>"
      ]
     },
     "metadata": {},
     "output_type": "display_data"
    }
   ],
   "source": [
    "c1 = ROOT.TCanvas(\"chistMgenMC_sig1\", \"chistMgenMC_sig1\")\n",
    "histMgenMC_sig.Draw(\"e\")\n",
    "histMdetMC_sig.Draw(\"e same\")\n",
    "c1.Draw()"
   ]
  },
  {
   "cell_type": "code",
   "execution_count": 77,
   "metadata": {
    "scrolled": true
   },
   "outputs": [
    {
     "data": {
      "image/png": "[encoded data removed]",
      "text/plain": [
       "<IPython.core.display.Image object>"
      ]
     },
     "metadata": {},
     "output_type": "display_data"
    }
   ],
   "source": [
    "c1 = ROOT.TCanvas(\"chistMgenMC_bkg1\", \"chistMgenMC_bkg1\")\n",
    "histMgenMC_bkg.Draw(\"e\")\n",
    "histMdetMC_bkg.Draw(\"e same\")\n",
    "c1.Draw()"
   ]
  },
  {
   "cell_type": "code",
   "execution_count": 78,
   "metadata": {
    "scrolled": false
   },
   "outputs": [
    {
     "data": {
      "image/png": "[encoded data removed]",
      "text/plain": [
       "<IPython.core.display.Image object>"
      ]
     },
     "metadata": {},
     "output_type": "display_data"
    }
   ],
   "source": [
    "c1 = ROOT.TCanvas(\"chistMgenMC_sig1\", \"chistMgenMC_sig1\")\n",
    "#histMgenData.Draw(\"e\")\n",
    "histMdetData.Draw(\"e \")\n",
    "c1.Draw()"
   ]
  },
  {
   "cell_type": "markdown",
   "metadata": {},
   "source": [
    "### Fill response matrix"
   ]
  },
  {
   "cell_type": "code",
   "execution_count": 79,
   "metadata": {},
   "outputs": [
    {
     "name": "stderr",
     "output_type": "stream",
     "text": [
      "Warning in <TROOT::Append>: Replacing existing TH1: response (Potential memory leak).\n"
     ]
    }
   ],
   "source": [
    "response = ROOT.TH2D('response', 'response', det_bins.shape[0]-1, det_bins, gen_bins.shape[0]-1, gen_bins)\n",
    "hist2Dfill = np.zeros((MC_sig_reco_tau4_2.shape[0], 2))\n",
    "hist2Dfill[:,0] = MC_sig_reco_tau4_2.flatten()\n",
    "hist2Dfill[:,1] = MC_sig_gen_tau4_2.flatten()\n",
    "fill_hist(response, hist2Dfill, weights_MC_sig)\n",
    "response.SetTitle(\"Nominal Response Matrix;#tau_{4}^{(2)}(det_sig);#tau_{4}^{(2)}(gen_sig)\")"
   ]
  },
  {
   "cell_type": "code",
   "execution_count": 80,
   "metadata": {},
   "outputs": [
    {
     "data": {
      "image/png": "[encoded data removed]",
      "text/plain": [
       "<IPython.core.display.Image object>"
      ]
     },
     "metadata": {},
     "output_type": "display_data"
    }
   ],
   "source": [
    "c1 = ROOT.TCanvas(\"cresponse1\", \"cresponse1\")\n",
    "response.Draw(\"colz\")\n",
    "c1.Draw()"
   ]
  },
  {
   "cell_type": "markdown",
   "metadata": {},
   "source": [
    "### Purity and Stability calculation"
   ]
  },
  {
   "cell_type": "raw",
   "metadata": {
    "collapsed": true
   },
   "source": [
    "#### Normalise the distributions, draw them and the response matrix."
   ]
  },
  {
   "cell_type": "raw",
   "metadata": {},
   "source": [
    "norm_genMC_bkg = histMgenMC_bkg.Integral()\n",
    "print norm_genMC_bkg\n",
    "\n",
    "norm_recoMC_bkg = histMdetMC_bkg.Integral()\n",
    "print norm_recoMC_bkg\n",
    "\n",
    "norm_genMC_sig = histMgenMC_sig.Integral()\n",
    "print norm_genMC_sig\n",
    "\n",
    "norm_recoMC_sig = histMdetMC_sig.Integral()\n",
    "print norm_recoMC_sig\n",
    "\n",
    "#norm_genData = histMgenData.Integral()\n",
    "#print norm_genData\n",
    "\n",
    "norm_detData = histMdetData.Integral()\n",
    "print norm_detData"
   ]
  },
  {
   "cell_type": "code",
   "execution_count": 81,
   "metadata": {},
   "outputs": [],
   "source": [
    "hMC_gen_bkg = ROOT.TH1D(histMgenMC_bkg)\n",
    "#hMC_gen_bkg.Scale(1./norm_genMC_bkg)\n",
    "\n",
    "hMC_reco_bkg = ROOT.TH1D(histMdetMC_bkg)\n",
    "#hMC_reco_bkg.Scale(1./norm_recoMC_bkg)\n",
    "\n",
    "hMC_gen_sig = ROOT.TH1D(histMgenMC_sig)\n",
    "#hMC_gen_sig.Scale(1./norm_genMC_sig)\n",
    "\n",
    "hMC_reco_sig = ROOT.TH1D(histMdetMC_sig)\n",
    "#hMC_reco_sig.Scale(1./norm_recoMC_sig)\n",
    "\n",
    "hMC_data = ROOT.TH1D(histMdetData)\n",
    "#histMgenData.Scale(1./norm_genData)\n",
    "#histMdetData.Scale(1./norm_detData)\n",
    "\n",
    "'''\n",
    "histMgenMC_bkg.Scale(1./norm_genMC_bkg)\n",
    "histMdetMC_bkg.Scale(1./norm_recoMC_bkg)\n",
    "histMgenMC_sig.Scale(1./norm_genMC_sig)\n",
    "histMdetMC_sig.Scale(1./norm_recoMC_sig)\n",
    "\n",
    "#histMgenData.Scale(1./norm_genData)\n",
    "histMdetData.Scale(1./norm_detData)\n",
    "''';"
   ]
  },
  {
   "cell_type": "code",
   "execution_count": 82,
   "metadata": {},
   "outputs": [
    {
     "name": "stdout",
     "output_type": "stream",
     "text": [
      "0 -0.006875 0.0\n",
      "1 0.0 196.470304012\n",
      "2 0.00375 1494.29146488\n",
      "3 0.0075 2764.10836769\n",
      "4 0.01125 2920.17541278\n",
      "5 0.015 2316.45681883\n",
      "6 0.01875 1597.99846414\n",
      "7 0.0225 1054.54632003\n",
      "8 0.02625 651.832575905\n",
      "9 0.03 466.8199815\n",
      "10 0.035 233.574596469\n",
      "11 0.04 139.835908831\n",
      "12 0.0475 52.1306186174\n",
      "13 0.055 8.8632281129\n",
      "14 0.0625 3.67787783443\n",
      "15 0.075 0.355689677515\n",
      "16 0.0925 0.0\n",
      "==========\n",
      "0 -0.01375 0.0\n",
      "1 0.0 2733.18209157\n",
      "2 0.0075 5777.66640369\n",
      "3 0.015 3322.00521821\n",
      "4 0.0225 1357.23428723\n",
      "5 0.03 551.017809249\n",
      "6 0.04 143.767898871\n",
      "7 0.055 15.3747379314\n",
      "8 0.075 0.889182559198\n"
     ]
    }
   ],
   "source": [
    "for i in xrange(0, histMdetMC_sig.GetNbinsX()+1):\n",
    "    print i, hMC_reco_sig.GetBinLowEdge(i), hMC_reco_sig.GetBinContent(i)   \n",
    "print \"==========\"\n",
    "for i in xrange(0, hMC_gen_sig.GetNbinsX()+1):\n",
    "    print i, hMC_gen_sig.GetBinLowEdge(i), hMC_gen_sig.GetBinContent(i)"
   ]
  },
  {
   "cell_type": "code",
   "execution_count": 83,
   "metadata": {
    "scrolled": false
   },
   "outputs": [
    {
     "name": "stderr",
     "output_type": "stream",
     "text": [
      "Warning in <TCanvas::Constructor>: Deleting canvas with same name: cresponse1\n"
     ]
    },
    {
     "data": {
      "image/png": "[encoded data removed]",
      "text/plain": [
       "<IPython.core.display.Image object>"
      ]
     },
     "metadata": {},
     "output_type": "display_data"
    }
   ],
   "source": [
    "c1 = ROOT.TCanvas(\"cresponse1\", \"cresponse1\")\n",
    "response.Draw(\"colz\")\n",
    "c1.Draw()"
   ]
  },
  {
   "cell_type": "code",
   "execution_count": 84,
   "metadata": {},
   "outputs": [],
   "source": [
    "purity = ROOT.TH1D(\"purity\", \"Purity and stability study; #tau_{4}^{(2)}; \",  gen_bins.shape[0]-1, (gen_bins))\n",
    "stability = ROOT.TH1D(\"stability\", \"Purity and stability study; #tau_{4}^{(2)}; \",  gen_bins.shape[0]-1, (gen_bins))\n",
    "efficiency = ROOT.TH1D(\"efficiency\", \"Purity and stability study; #tau_{4}^{(2)}; \",  gen_bins.shape[0]-1, (gen_bins))"
   ]
  },
  {
   "cell_type": "markdown",
   "metadata": {},
   "source": [
    "### With python"
   ]
  },
  {
   "cell_type": "markdown",
   "metadata": {},
   "source": [
    "We define purity as the fraction of reconstructed events that are generated in the same bin, \n",
    "and stability as the fraction of generated events that are reconstructed in the same\n",
    "bin, divided by the overall reconstruction efficiency per bin. "
   ]
  },
  {
   "cell_type": "code",
   "execution_count": 85,
   "metadata": {},
   "outputs": [
    {
     "name": "stdout",
     "output_type": "stream",
     "text": [
      "[2 2 3 ... 2 1 4]\n",
      "Setting contents for P, S, eff. histos, in bin 1\n",
      "Setting contents for P, S, eff. histos, in bin 2\n",
      "Setting contents for P, S, eff. histos, in bin 3\n",
      "Setting contents for P, S, eff. histos, in bin 4\n",
      "Setting contents for P, S, eff. histos, in bin 5\n",
      "Setting contents for P, S, eff. histos, in bin 6\n",
      "Setting contents for P, S, eff. histos, in bin 7\n",
      "Setting contents for P, S, eff. histos, in bin 8\n",
      "\n",
      "\n",
      "+++++++++Pure and Stable! :)+++++++++++++\n",
      "\n",
      "\n",
      "[3.8180e+03 1.0954e+04 5.2810e+03 1.8250e+03 7.3500e+02 2.1200e+02\n",
      " 1.0000e+01 1.0000e+00 0.0000e+00] \n",
      "\n",
      "[5.2540e+03 1.7688e+04 1.2110e+04 5.2830e+03 2.1420e+03 5.8900e+02\n",
      " 4.0000e+01 1.0000e+00 0.0000e+00] \n",
      "\n",
      "Purity array: [0.72668443 0.61928991 0.43608588 0.34544766 0.34313725 0.35993209\n",
      " 0.25       1.        ] \n",
      "\n",
      "\n",
      "[3.8180e+03 1.0954e+04 5.2810e+03 1.8250e+03 7.3500e+02 2.1200e+02\n",
      " 1.0000e+01 1.0000e+00 0.0000e+00] \n",
      "\n",
      "[8.4900e+03 1.8010e+04 1.0249e+04 4.1710e+03 1.6930e+03 4.4600e+02\n",
      " 4.5000e+01 3.0000e+00 0.0000e+00] \n",
      "\n",
      "Stability array: [0.44970554 0.60821766 0.51526978 0.43754495 0.43414058 0.47533632\n",
      " 0.22222222 0.33333333] \n",
      "\n",
      "\n",
      "+++++Efficiency+++++\n",
      "\n",
      "Efficiency array: [8.85703018e-02 2.54111861e-01 1.22509105e-01 4.23365115e-02\n",
      " 1.70505950e-02 4.91799476e-03 2.31980885e-04 2.31980885e-05]\n"
     ]
    },
    {
     "name": "stderr",
     "output_type": "stream",
     "text": [
      "/shome/kdatta/.local/lib/python2.7/site-packages/ipykernel_launcher.py:54: RuntimeWarning: invalid value encountered in divide\n",
      "/shome/kdatta/.local/lib/python2.7/site-packages/ipykernel_launcher.py:59: RuntimeWarning: invalid value encountered in divide\n"
     ]
    }
   ],
   "source": [
    "gen_arr = MC_sig_gen_tau4_2[:]\n",
    "#print gen_arr[0:20]\n",
    "#print gen_bins[0:-1]\n",
    "gen_bin_index = np.digitize(gen_arr, gen_bins)\n",
    "print gen_bin_index\n",
    "#print gen_bin_index[0:20]\n",
    "\n",
    "det_arr = MC_sig_reco_tau4_2[0:]\n",
    "#print det_arr[0:20]\n",
    "#print det_bins[0:-1]\n",
    "det_bin_index = np.digitize(det_arr, gen_bins)\n",
    "det_bin_index2 = np.digitize(det_arr, det_bins)\n",
    "#print det_bin_index[0:20]\n",
    "\n",
    "ndet_pergenbin = [0.] #N_recgen array = number of events generated in and reconstructed in gen bin i\n",
    "ndet_genanywhere = [0.] # number of events reconstructed in gen _bin i but generated anywhere\n",
    "ngen_detanywhere = [0.] # number of events generated in gen _bin i but reconstructed anywhere\n",
    "\n",
    "### purity = # of evts generated and reconstructed in gen bin i / # of evts reconstructed in gen bin i but generated anywhere\n",
    "### stability = # of evts generated and reconstructed in gen bin / # of evts generated in gen bin i but reconstructed anywhere\n",
    "for i in xrange(0, gen_bins.shape[0]-1):\n",
    "    \n",
    "    #print i+1\n",
    "    \n",
    "    for k in xrange(0, gen_bin_index.shape[0]):\n",
    "        \n",
    "        if gen_bin_index[k]==i+1: \n",
    "            ngen_detanywhere[i]+=1 #stability denominator\n",
    "            if det_bin_index[k]==i+1: ndet_pergenbin[i]+=1\n",
    "            \n",
    "    ngen_detanywhere.append(0.)\n",
    "    ndet_pergenbin.append(0.)\n",
    "    \n",
    "    for k in xrange(0, det_bin_index.shape[0]):\n",
    "        \n",
    "        if det_bin_index[k]==i+1: \n",
    "            ndet_genanywhere[i]+=1 #purity denominator\n",
    "            \n",
    "    ndet_genanywhere.append(0.)\n",
    "    \n",
    "    print \"Setting contents for P, S, eff. histos, in bin %d\"%(i+1)\n",
    "    purity.SetBinContent(i+1, ndet_pergenbin[i]/ndet_genanywhere[i])\n",
    "    stability.SetBinContent(i+1, ndet_pergenbin[i]/ngen_detanywhere[i])\n",
    "    efficiency.SetBinContent(i+1, ndet_pergenbin[i]/43107.)\n",
    "    \n",
    "    \n",
    "ndet_pergenbin = np.array(ndet_pergenbin)\n",
    "ndet_genanywhere = np.array(ndet_genanywhere)\n",
    "ngen_detanywhere = np.array(ngen_detanywhere)\n",
    "\n",
    "print \"\\n\\n+++++++++Pure and Stable! :)+++++++++++++\\n\\n\"\n",
    "print ndet_pergenbin,\"\\n\"\n",
    "print ndet_genanywhere,\"\\n\"\n",
    "purity_arr = ndet_pergenbin/ndet_genanywhere\n",
    "print \"Purity array:\", purity_arr[:-1], \"\\n\\n\"\n",
    "\n",
    "print ndet_pergenbin,\"\\n\"\n",
    "print ngen_detanywhere,\"\\n\"\n",
    "stability_arr = ndet_pergenbin/ngen_detanywhere\n",
    "print \"Stability array:\", stability_arr[:-1], \"\\n\\n\"\n",
    "\n",
    "print \"+++++Efficiency+++++\\n\"\n",
    "efficiency_arr = ndet_pergenbin/np.sum(ngen_detanywhere)\n",
    "print \"Efficiency array:\", efficiency_arr[:-1]"
   ]
  },
  {
   "cell_type": "code",
   "execution_count": 86,
   "metadata": {},
   "outputs": [],
   "source": [
    "ROOT.gStyle.SetOptStat(0)"
   ]
  },
  {
   "cell_type": "code",
   "execution_count": 87,
   "metadata": {},
   "outputs": [
    {
     "data": {
      "image/png": "[encoded data removed]",
      "text/plain": [
       "<IPython.core.display.Image object>"
      ]
     },
     "metadata": {},
     "output_type": "display_data"
    }
   ],
   "source": [
    "cpse = ROOT.TCanvas(\"pse_ttbar\", \"pse_ttbar\")\n",
    "\n",
    "purity.SetLineColor(ROOT.kRed)\n",
    "purity.SetLineWidth(2)\n",
    "purity.SetLineStyle(2)\n",
    "purity.SetMinimum(0.)\n",
    "purity.SetMaximum(1.05)\n",
    "\n",
    "stability.SetLineColor(9)\n",
    "stability.SetLineWidth(2)\n",
    "stability.SetLineStyle(1)\n",
    "stability.SetMinimum(0.)\n",
    "stability.SetMaximum(1.05)\n",
    "stability.SetTitle(\"t#bar{t} 2016, W-selection \")\n",
    "stability.Draw(\"hist\")\n",
    "purity.Draw(\"hist same\")\n",
    "#efficiency.Draw(\"same\")\n",
    "\n",
    "leg0 = ROOT.TLegend(0.6, 0.7, 0.8, 0.8)\n",
    "leg0.AddEntry( stability, \"Stability \")\n",
    "leg0.AddEntry( purity, \"Purity \")\n",
    "#leg0.AddEntry( histMgenData, \"'Truth' (MC: MG5+Pythia8)\", 'p')\n",
    "leg0.SetLineColor(0)\n",
    "leg0.SetBorderSize(0)\n",
    "leg0.SetFillStyle(0)\n",
    "\n",
    "#hs.Add(histMdetMC, \"E\")\n",
    "#hs.Add(histMdetData, \"E\")\n",
    "#hs.Draw(\"nostack\")\n",
    "leg0.Draw()\n",
    "\n",
    "ROOT.gStyle.SetOptStat(0)\n",
    "cpse.Draw()"
   ]
  },
  {
   "cell_type": "code",
   "execution_count": 88,
   "metadata": {
    "scrolled": true
   },
   "outputs": [
    {
     "data": {
      "text/plain": [
       "(array([[3.8180e+03, 1.3490e+03, 8.4000e+01, 0.0000e+00, 3.0000e+00,\n",
       "         0.0000e+00, 0.0000e+00, 0.0000e+00, 0.0000e+00, 0.0000e+00],\n",
       "        [4.2330e+03, 1.0954e+04, 2.2490e+03, 0.0000e+00, 2.2700e+02,\n",
       "         2.1000e+01, 0.0000e+00, 4.0000e+00, 0.0000e+00, 0.0000e+00],\n",
       "        [3.9300e+02, 5.0170e+03, 5.2810e+03, 0.0000e+00, 1.2480e+03,\n",
       "         1.6000e+02, 0.0000e+00, 1.1000e+01, 0.0000e+00, 0.0000e+00],\n",
       "        [0.0000e+00, 0.0000e+00, 0.0000e+00, 0.0000e+00, 0.0000e+00,\n",
       "         0.0000e+00, 0.0000e+00, 0.0000e+00, 0.0000e+00, 0.0000e+00],\n",
       "        [3.7000e+01, 6.3000e+02, 2.2080e+03, 0.0000e+00, 1.8250e+03,\n",
       "         5.3700e+02, 0.0000e+00, 4.6000e+01, 0.0000e+00, 0.0000e+00],\n",
       "        [9.0000e+00, 5.5000e+01, 3.9900e+02, 0.0000e+00, 7.7700e+02,\n",
       "         7.3500e+02, 0.0000e+00, 1.5600e+02, 1.1000e+01, 0.0000e+00],\n",
       "        [0.0000e+00, 0.0000e+00, 0.0000e+00, 0.0000e+00, 0.0000e+00,\n",
       "         0.0000e+00, 0.0000e+00, 0.0000e+00, 0.0000e+00, 0.0000e+00],\n",
       "        [0.0000e+00, 5.0000e+00, 2.6000e+01, 0.0000e+00, 8.6000e+01,\n",
       "         2.3500e+02, 0.0000e+00, 2.1200e+02, 2.4000e+01, 1.0000e+00],\n",
       "        [0.0000e+00, 0.0000e+00, 2.0000e+00, 0.0000e+00, 5.0000e+00,\n",
       "         5.0000e+00, 0.0000e+00, 1.7000e+01, 1.0000e+01, 1.0000e+00],\n",
       "        [0.0000e+00, 0.0000e+00, 0.0000e+00, 0.0000e+00, 0.0000e+00,\n",
       "         0.0000e+00, 0.0000e+00, 0.0000e+00, 0.0000e+00, 1.0000e+00]]),\n",
       " array([1. , 1.7, 2.4, 3.1, 3.8, 4.5, 5.2, 5.9, 6.6, 7.3, 8. ]),\n",
       " array([1. , 1.7, 2.4, 3.1, 3.8, 4.5, 5.2, 5.9, 6.6, 7.3, 8. ]),\n",
       " <matplotlib.image.AxesImage at 0x7fbfa6b45250>)"
      ]
     },
     "execution_count": 88,
     "metadata": {},
     "output_type": "execute_result"
    },
    {
     "data": {
      "image/png": "[encoded data removed]",
      "text/plain": [
       "<Figure size 432x288 with 1 Axes>"
      ]
     },
     "metadata": {
      "needs_background": "light"
     },
     "output_type": "display_data"
    }
   ],
   "source": [
    "plt.hist2d(x=det_bin_index, y=gen_bin_index)"
   ]
  },
  {
   "cell_type": "code",
   "execution_count": 89,
   "metadata": {
    "scrolled": true
   },
   "outputs": [
    {
     "data": {
      "image/png": "[encoded data removed]",
      "text/plain": [
       "<Figure size 432x288 with 1 Axes>"
      ]
     },
     "metadata": {
      "needs_background": "light"
     },
     "output_type": "display_data"
    },
    {
     "data": {
      "image/png": "[encoded data removed]",
      "text/plain": [
       "<Figure size 432x288 with 1 Axes>"
      ]
     },
     "metadata": {
      "needs_background": "light"
     },
     "output_type": "display_data"
    }
   ],
   "source": [
    "plt.hist2d(x=det_bin_index2, y=gen_bin_index)\n",
    "plt.show()\n",
    "plt.hist2d(x=MC_sig_reco_tau4_2, y=MC_sig_gen_tau4_2, bins=[det_bins, gen_bins])\n",
    "plt.show()"
   ]
  },
  {
   "cell_type": "code",
   "execution_count": 90,
   "metadata": {
    "scrolled": true
   },
   "outputs": [
    {
     "data": {
      "image/png": "[encoded data removed]",
      "text/plain": [
       "<Figure size 432x288 with 1 Axes>"
      ]
     },
     "metadata": {
      "needs_background": "light"
     },
     "output_type": "display_data"
    },
    {
     "data": {
      "image/png": "[encoded data removed]",
      "text/plain": [
       "<Figure size 432x288 with 1 Axes>"
      ]
     },
     "metadata": {
      "needs_background": "light"
     },
     "output_type": "display_data"
    }
   ],
   "source": [
    "plt.hist(gen_bin_index, histtype='step', color='r')\n",
    "plt.hist(det_bin_index, histtype='step', color='b')\n",
    "plt.show()\n",
    "\n",
    "plt.hist(MC_sig_gen_tau4_2, histtype='step', color='r', bins=gen_bins)\n",
    "plt.hist(MC_sig_reco_tau4_2, histtype='step', color='b', bins=gen_bins)\n",
    "plt.show()"
   ]
  },
  {
   "cell_type": "markdown",
   "metadata": {},
   "source": [
    "### with root"
   ]
  },
  {
   "cell_type": "code",
   "execution_count": 91,
   "metadata": {},
   "outputs": [
    {
     "name": "stdout",
     "output_type": "stream",
     "text": [
      "Adding content (equal to 0.0) of bin i=0, j=1 to Diagonal 1\n",
      "Adding content (equal to 0.0) of bin i=0, j=2 to Diagonal 1\n",
      "Filling row index k=0 with elements (i,j)=(0,2)\n",
      "Filling row index k=0 with elements (i,j)=(0,3)\n",
      "Filling row index k=1 with elements (i,j)=(0,4)\n",
      "Filling row index k=1 with elements (i,j)=(0,5)\n",
      "Filling row index k=2 with elements (i,j)=(0,6)\n",
      "Filling row index k=2 with elements (i,j)=(0,7)\n",
      "Filling row index k=3 with elements (i,j)=(0,8)\n",
      "Filling row index k=3 with elements (i,j)=(0,9)\n",
      "Filling row index k=4 with elements (i,j)=(0,10)\n",
      "Filling row index k=4 with elements (i,j)=(0,11)\n",
      "Filling row index k=5 with elements (i,j)=(0,12)\n",
      "Filling row index k=5 with elements (i,j)=(0,13)\n",
      "Filling row index k=6 with elements (i,j)=(0,14)\n",
      "Filling row index k=6 with elements (i,j)=(0,15)\n",
      "Filling row index k=7 with elements (i,j)=(0,16)\n",
      "Filling row index k=7 with elements (i,j)=(0,17)\n",
      "0.0 0.0\n",
      "Filling row index k=0 with elements (i,j)=(1,2)\n",
      "Filling row index k=0 with elements (i,j)=(1,3)\n",
      "Adding content (equal to 0.747414821628) of bin i=1, j=3 to Diagonal 3\n",
      "Adding content (equal to 0.0) of bin i=1, j=4 to Diagonal 3\n",
      "Filling row index k=1 with elements (i,j)=(1,4)\n",
      "Filling row index k=1 with elements (i,j)=(1,5)\n",
      "Filling row index k=2 with elements (i,j)=(1,6)\n",
      "Filling row index k=2 with elements (i,j)=(1,7)\n",
      "Filling row index k=3 with elements (i,j)=(1,8)\n",
      "Filling row index k=3 with elements (i,j)=(1,9)\n",
      "Filling row index k=4 with elements (i,j)=(1,10)\n",
      "Filling row index k=4 with elements (i,j)=(1,11)\n",
      "Filling row index k=5 with elements (i,j)=(1,12)\n",
      "Filling row index k=5 with elements (i,j)=(1,13)\n",
      "Filling row index k=6 with elements (i,j)=(1,14)\n",
      "Filling row index k=6 with elements (i,j)=(1,15)\n",
      "Filling row index k=7 with elements (i,j)=(1,16)\n",
      "Filling row index k=7 with elements (i,j)=(1,17)\n",
      "196.470304012 0.747414821628\n",
      "Filling row index k=0 with elements (i,j)=(2,2)\n",
      "Filling row index k=0 with elements (i,j)=(2,3)\n",
      "Filling row index k=1 with elements (i,j)=(2,4)\n",
      "Filling row index k=1 with elements (i,j)=(2,5)\n",
      "Adding content (equal to 0.0) of bin i=2, j=5 to Diagonal 5\n",
      "Adding content (equal to 0.0) of bin i=2, j=6 to Diagonal 5\n",
      "Filling row index k=2 with elements (i,j)=(2,6)\n",
      "Filling row index k=2 with elements (i,j)=(2,7)\n",
      "Filling row index k=3 with elements (i,j)=(2,8)\n",
      "Filling row index k=3 with elements (i,j)=(2,9)\n",
      "Filling row index k=4 with elements (i,j)=(2,10)\n",
      "Filling row index k=4 with elements (i,j)=(2,11)\n",
      "Filling row index k=5 with elements (i,j)=(2,12)\n",
      "Filling row index k=5 with elements (i,j)=(2,13)\n",
      "Filling row index k=6 with elements (i,j)=(2,14)\n",
      "Filling row index k=6 with elements (i,j)=(2,15)\n",
      "Filling row index k=7 with elements (i,j)=(2,16)\n",
      "Filling row index k=7 with elements (i,j)=(2,17)\n",
      "1494.29146488 0.0\n",
      "Filling row index k=0 with elements (i,j)=(3,2)\n",
      "Filling row index k=0 with elements (i,j)=(3,3)\n",
      "Filling row index k=1 with elements (i,j)=(3,4)\n",
      "Filling row index k=1 with elements (i,j)=(3,5)\n",
      "Filling row index k=2 with elements (i,j)=(3,6)\n",
      "Filling row index k=2 with elements (i,j)=(3,7)\n",
      "Adding content (equal to 0.0) of bin i=3, j=7 to Diagonal 7\n",
      "Adding content (equal to 0.0) of bin i=3, j=8 to Diagonal 7\n",
      "Filling row index k=3 with elements (i,j)=(3,8)\n",
      "Filling row index k=3 with elements (i,j)=(3,9)\n",
      "Filling row index k=4 with elements (i,j)=(3,10)\n",
      "Filling row index k=4 with elements (i,j)=(3,11)\n",
      "Filling row index k=5 with elements (i,j)=(3,12)\n",
      "Filling row index k=5 with elements (i,j)=(3,13)\n",
      "Filling row index k=6 with elements (i,j)=(3,14)\n",
      "Filling row index k=6 with elements (i,j)=(3,15)\n",
      "Filling row index k=7 with elements (i,j)=(3,16)\n",
      "Filling row index k=7 with elements (i,j)=(3,17)\n",
      "2764.10836769 0.0\n",
      "Filling row index k=0 with elements (i,j)=(4,2)\n",
      "Filling row index k=0 with elements (i,j)=(4,3)\n",
      "Filling row index k=1 with elements (i,j)=(4,4)\n",
      "Filling row index k=1 with elements (i,j)=(4,5)\n",
      "Filling row index k=2 with elements (i,j)=(4,6)\n",
      "Filling row index k=2 with elements (i,j)=(4,7)\n",
      "Filling row index k=3 with elements (i,j)=(4,8)\n",
      "Filling row index k=3 with elements (i,j)=(4,9)\n",
      "Adding content (equal to 0.0) of bin i=4, j=9 to Diagonal 9\n",
      "Adding content (equal to 0.0) of bin i=4, j=10 to Diagonal 9\n",
      "Filling row index k=4 with elements (i,j)=(4,10)\n",
      "Filling row index k=4 with elements (i,j)=(4,11)\n",
      "Filling row index k=5 with elements (i,j)=(4,12)\n",
      "Filling row index k=5 with elements (i,j)=(4,13)\n",
      "Filling row index k=6 with elements (i,j)=(4,14)\n",
      "Filling row index k=6 with elements (i,j)=(4,15)\n",
      "Filling row index k=7 with elements (i,j)=(4,16)\n",
      "Filling row index k=7 with elements (i,j)=(4,17)\n",
      "2920.17541278 0.0\n",
      "Filling row index k=0 with elements (i,j)=(5,2)\n",
      "Filling row index k=0 with elements (i,j)=(5,3)\n",
      "Filling row index k=1 with elements (i,j)=(5,4)\n",
      "Filling row index k=1 with elements (i,j)=(5,5)\n",
      "Filling row index k=2 with elements (i,j)=(5,6)\n",
      "Filling row index k=2 with elements (i,j)=(5,7)\n",
      "Filling row index k=3 with elements (i,j)=(5,8)\n",
      "Filling row index k=3 with elements (i,j)=(5,9)\n",
      "Filling row index k=4 with elements (i,j)=(5,10)\n",
      "Filling row index k=4 with elements (i,j)=(5,11)\n",
      "Adding content (equal to 0.0) of bin i=5, j=11 to Diagonal 11\n",
      "Adding content (equal to 0.0) of bin i=5, j=12 to Diagonal 11\n",
      "Filling row index k=5 with elements (i,j)=(5,12)\n",
      "Filling row index k=5 with elements (i,j)=(5,13)\n",
      "Filling row index k=6 with elements (i,j)=(5,14)\n",
      "Filling row index k=6 with elements (i,j)=(5,15)\n",
      "Filling row index k=7 with elements (i,j)=(5,16)\n",
      "Filling row index k=7 with elements (i,j)=(5,17)\n",
      "2316.45681883 0.0\n",
      "Filling row index k=0 with elements (i,j)=(6,2)\n",
      "Filling row index k=0 with elements (i,j)=(6,3)\n",
      "Filling row index k=1 with elements (i,j)=(6,4)\n",
      "Filling row index k=1 with elements (i,j)=(6,5)\n",
      "Filling row index k=2 with elements (i,j)=(6,6)\n",
      "Filling row index k=2 with elements (i,j)=(6,7)\n",
      "Filling row index k=3 with elements (i,j)=(6,8)\n",
      "Filling row index k=3 with elements (i,j)=(6,9)\n",
      "Filling row index k=4 with elements (i,j)=(6,10)\n",
      "Filling row index k=4 with elements (i,j)=(6,11)\n",
      "Filling row index k=5 with elements (i,j)=(6,12)\n",
      "Filling row index k=5 with elements (i,j)=(6,13)\n",
      "Adding content (equal to 0.0) of bin i=6, j=13 to Diagonal 13\n",
      "Adding content (equal to 0.0) of bin i=6, j=14 to Diagonal 13\n",
      "Filling row index k=6 with elements (i,j)=(6,14)\n",
      "Filling row index k=6 with elements (i,j)=(6,15)\n",
      "Filling row index k=7 with elements (i,j)=(6,16)\n",
      "Filling row index k=7 with elements (i,j)=(6,17)\n",
      "1597.99846414 0.0\n",
      "Filling row index k=0 with elements (i,j)=(7,2)\n",
      "Filling row index k=0 with elements (i,j)=(7,3)\n",
      "Filling row index k=1 with elements (i,j)=(7,4)\n",
      "Filling row index k=1 with elements (i,j)=(7,5)\n",
      "Filling row index k=2 with elements (i,j)=(7,6)\n",
      "Filling row index k=2 with elements (i,j)=(7,7)\n",
      "Filling row index k=3 with elements (i,j)=(7,8)\n",
      "Filling row index k=3 with elements (i,j)=(7,9)\n",
      "Filling row index k=4 with elements (i,j)=(7,10)\n",
      "Filling row index k=4 with elements (i,j)=(7,11)\n",
      "Filling row index k=5 with elements (i,j)=(7,12)\n",
      "Filling row index k=5 with elements (i,j)=(7,13)\n",
      "Filling row index k=6 with elements (i,j)=(7,14)\n",
      "Filling row index k=6 with elements (i,j)=(7,15)\n",
      "Adding content (equal to 0.0) of bin i=7, j=15 to Diagonal 15\n",
      "Adding content (equal to 0.0) of bin i=7, j=16 to Diagonal 15\n",
      "Filling row index k=7 with elements (i,j)=(7,16)\n",
      "Filling row index k=7 with elements (i,j)=(7,17)\n",
      "1054.54632003 0.0\n",
      "Filling row index k=0 with elements (i,j)=(8,2)\n",
      "Filling row index k=0 with elements (i,j)=(8,3)\n",
      "Filling row index k=1 with elements (i,j)=(8,4)\n",
      "Filling row index k=1 with elements (i,j)=(8,5)\n",
      "Filling row index k=2 with elements (i,j)=(8,6)\n",
      "Filling row index k=2 with elements (i,j)=(8,7)\n",
      "Filling row index k=3 with elements (i,j)=(8,8)\n",
      "Filling row index k=3 with elements (i,j)=(8,9)\n",
      "Filling row index k=4 with elements (i,j)=(8,10)\n",
      "Filling row index k=4 with elements (i,j)=(8,11)\n",
      "Filling row index k=5 with elements (i,j)=(8,12)\n",
      "Filling row index k=5 with elements (i,j)=(8,13)\n",
      "Filling row index k=6 with elements (i,j)=(8,14)\n",
      "Filling row index k=6 with elements (i,j)=(8,15)\n",
      "Filling row index k=7 with elements (i,j)=(8,16)\n",
      "Filling row index k=7 with elements (i,j)=(8,17)\n",
      "651.832575905 0.0\n"
     ]
    }
   ],
   "source": [
    "ps_bindex = 0 \n",
    "\n",
    "l = 1\n",
    "\n",
    "tot_col = [] #np.array([0. for i in xrange(0, purity.GetNbinsX()+1)]) #\n",
    "#tot_col_err = [] #0 \n",
    "\n",
    "tot_row = np.array([0. for i in xrange(1, purity.GetNbinsX()+1)])\n",
    "#tot_row_err = np.zeros_like([0. for i in xrange(1, purity.GetNbinsX()+1)])\n",
    "\n",
    "diag = [] #np.zeros_like([0. for i in xrange(1, purity.GetNbinsX()+1)])\n",
    "#diag_error = [] # np.zeros_like([0. for i in xrange(1, purity.GetNbinsX()+1)])\n",
    "\n",
    "for i in range(0, response.GetNbinsY()+1):    \n",
    "    \n",
    "    k = 0\n",
    "    col = 0.\n",
    "    d_jj = 0.\n",
    "    for j in range(1, response.GetNbinsX()+1):\n",
    "    \n",
    "        r_ij = response.GetBinContent(i,j)\n",
    "        #r_ij_err = response.GetBinError(i,j)\n",
    "        #print (i,j), r_ij\n",
    "        \n",
    "        if (j)%2==0 and j < (response.GetNbinsX()+1):\n",
    "            #since 2 reco bins per 1 gen bin\n",
    "            print \"Filling row index k={} with elements (i,j)=({},{})\".format(k,i,j)\n",
    "            tot_row[k] += r_ij\n",
    "            print \"Filling row index k={} with elements (i,j)=({},{})\".format(k,i,j+1)\n",
    "            tot_row[k] +=  response.GetBinContent(i,j+1)\n",
    "            \n",
    "            #tot_col_err[k] += response.GetBinError(i,j)\n",
    "            #tot_col_err[k] +=  response.GetBinError(i,j+1)\n",
    "            \n",
    "            k +=1\n",
    "        \n",
    "        col += r_ij\n",
    "        \n",
    "        if l==j:\n",
    "            print \"Adding content (equal to {}) of bin i={}, j={} to Diagonal\".format(r_ij, i,j), l\n",
    "            d_jj += r_ij\n",
    " \n",
    "            print \"Adding content (equal to {}) of bin i={}, j={} to Diagonal\".format( response.GetBinContent(i,j+1), i,j+1), l\n",
    "            d_jj += response.GetBinContent(i,j+1)\n",
    "\n",
    "            diag.append(d_jj)\n",
    "    l = l+2\n",
    "    print col, d_jj"
   ]
  },
  {
   "cell_type": "code",
   "execution_count": 92,
   "metadata": {},
   "outputs": [
    {
     "name": "stderr",
     "output_type": "stream",
     "text": [
      "/shome/kdatta/.local/lib/python2.7/site-packages/ipykernel_launcher.py:3: RuntimeWarning: invalid value encountered in divide\n",
      "  This is separate from the ipykernel package so we can avoid doing imports until\n"
     ]
    },
    {
     "name": "stdout",
     "output_type": "stream",
     "text": [
      "[0.0, 0.747414821628389, 0.0, 0.0, 0.0, 0.0, 0.0, 0.0]\n",
      "[8944.10934432 1301.75572098   19.47314054    0.            0.\n",
      "    0.            0.            0.        ]\n",
      "[0.         0.00057416 0.                nan        nan        nan\n",
      "        nan        nan]\n"
     ]
    }
   ],
   "source": [
    "print diag\n",
    "print tot_row\n",
    "print diag/tot_row"
   ]
  },
  {
   "cell_type": "code",
   "execution_count": 93,
   "metadata": {},
   "outputs": [
    {
     "ename": "SyntaxError",
     "evalue": "invalid syntax (<ipython-input-93-dc72c7765764>, line 9)",
     "output_type": "error",
     "traceback": [
      "\u001b[0;36m  File \u001b[0;32m\"<ipython-input-93-dc72c7765764>\"\u001b[0;36m, line \u001b[0;32m9\u001b[0m\n\u001b[0;31m    if i==0 and j==0: purity_reco_binning[0] = dval/\u001b[0m\n\u001b[0m                                                    ^\u001b[0m\n\u001b[0;31mSyntaxError\u001b[0m\u001b[0;31m:\u001b[0m invalid syntax\n"
     ]
    }
   ],
   "source": [
    "purity_reco_binning = [0] \n",
    "diag = 0\n",
    "for i in range(1, response.GetNbinsX()+1):\n",
    "    for j in range(1, response.GetNbinsY()+1):\n",
    "        dval = response.GetBinContent(i,j)\n",
    "        if i==j:\n",
    "            diag = diag+dval\n",
    "            print i, j, \n",
    "            if i==0 and j==0: purity_reco_binning[0] = dval/\n",
    "            else: purity_reco_binning.append()\n",
    "        j = j+2"
   ]
  },
  {
   "cell_type": "code",
   "execution_count": null,
   "metadata": {},
   "outputs": [],
   "source": []
  },
  {
   "cell_type": "markdown",
   "metadata": {},
   "source": [
    "### Unfolding "
   ]
  },
  {
   "cell_type": "code",
   "execution_count": 94,
   "metadata": {},
   "outputs": [
    {
     "name": "stdout",
     "output_type": "stream",
     "text": [
      "getting tunfolder:\n"
     ]
    },
    {
     "name": "stderr",
     "output_type": "stream",
     "text": [
      "Info in <TUnfold::SetConstraint>: fConstraint=0\n",
      "Info in <TUnfold::TUnfold>: underflow and overflow bin do not depend on the input data\n",
      "Info in <TUnfold::TUnfold>: 16 input bins and 8 output bins\n",
      "Info in <TUnfoldDensity::TUnfold>: *NOT* unfolding bin #0 (yaxis:#tau_{4}^{(2)}(gen_sig)[ufl])\n",
      "Info in <TUnfoldDensity::TUnfold>: *NOT* unfolding bin #9 (yaxis:#tau_{4}^{(2)}(gen_sig)[ofl])\n",
      "Info in <TUnfoldDensity::RegularizeOneDistribution>: regularizing yaxis regMode=3 densityMode=1 axisSteering=*[UOB]\n",
      "Info in <TUnfold::SetConstraint>: fConstraint=0\n",
      "Info in <TUnfold::TUnfold>: underflow and overflow bin do not depend on the input data\n",
      "Info in <TUnfold::TUnfold>: 16 input bins and 8 output bins\n",
      "Info in <TUnfoldDensity::TUnfold>: *NOT* unfolding bin #0 (yaxis:#tau_{4}^{(2)}(gen_sig)[ufl])\n",
      "Info in <TUnfoldDensity::TUnfold>: *NOT* unfolding bin #9 (yaxis:#tau_{4}^{(2)}(gen_sig)[ofl])\n",
      "Info in <TUnfoldDensity::RegularizeOneDistribution>: regularizing yaxis regMode=3 densityMode=1 axisSteering=*[UOB]\n"
     ]
    }
   ],
   "source": [
    "print 'getting tunfolder:'\n",
    "\n",
    "orientation = ROOT.TUnfoldDensity.kHistMapOutputHoriz\n",
    "regMode = ROOT.TUnfoldDensity.kRegModeCurvature\n",
    "con = ROOT.TUnfoldDensity.kEConstraintNone\n",
    "mode =  ROOT.TUnfoldDensity.kDensityModeBinWidth\n",
    "errmode = ROOT.TUnfoldSys.kSysErrModeMatrix\n",
    "#tunfolder_MC = ROOT.TUnfoldDensity(response, orientation, regMode, con, mode, \"signal\", \"*[UOb]\")\n",
    "#tunfolder_data = ROOT.TUnfoldDensity(response, orientation, regMode, con, mode, \"signal\", \"*[UOb]\")\n",
    "\n",
    "tunfolder_MC = ROOT.TUnfoldDensity(response,ROOT.TUnfold.kHistMapOutputVert,ROOT.TUnfold.kRegModeCurvature, ROOT.TUnfold.kEConstraintNone, ROOT.TUnfoldDensity.kDensityModeBinWidth)\n",
    "tunfolder_data = ROOT.TUnfoldDensity(response,ROOT.TUnfold.kHistMapOutputVert,ROOT.TUnfold.kRegModeCurvature, ROOT.TUnfold.kEConstraintNone, ROOT.TUnfoldDensity.kDensityModeBinWidth)"
   ]
  },
  {
   "cell_type": "markdown",
   "metadata": {
    "collapsed": true
   },
   "source": [
    "Set the input, a 1D reconstructed histogram from either MC_sig (closure) or Data (measurement) , binned in the detector level binning. Subtract background contributions from data, using reco-MC bkg."
   ]
  },
  {
   "cell_type": "code",
   "execution_count": 95,
   "metadata": {},
   "outputs": [
    {
     "name": "stdout",
     "output_type": "stream",
     "text": [
      "setting reco input\n"
     ]
    }
   ],
   "source": [
    "print 'setting reco input'\n",
    "tunfolder_data.SetInput( histMdetData )\n",
    "tunfolder_data.SubtractBackground( histMdetMC_bkg, \"bkg_all\", 1. )"
   ]
  },
  {
   "cell_type": "code",
   "execution_count": 96,
   "metadata": {},
   "outputs": [
    {
     "name": "stdout",
     "output_type": "stream",
     "text": [
      "setting reco MC input\n"
     ]
    },
    {
     "data": {
      "text/plain": [
       "1"
      ]
     },
     "execution_count": 96,
     "metadata": {},
     "output_type": "execute_result"
    },
    {
     "name": "stderr",
     "output_type": "stream",
     "text": [
      "Warning in <TUnfoldDensity::SetInput>: One input bin has zero error, and is ignored.\n"
     ]
    }
   ],
   "source": [
    "print 'setting reco MC input'\n",
    "tunfolder_MC.SetInput( histMdetMC_sig )\n",
    "#tunfolder_MC.SubtractBackground( histMdetMC_bkg, \"bkg_all\", 1. )"
   ]
  },
  {
   "cell_type": "raw",
   "metadata": {},
   "source": [
    "##### Unfold nScan times with values for the regularization parameter between tauMin and tauMax using the empty TSplines to store the results."
   ]
  },
  {
   "cell_type": "raw",
   "metadata": {
    "scrolled": true
   },
   "source": [
    "print 'regularizing'\n",
    "nScan=5\n",
    "tauMin=-5.0\n",
    "tauMax=3.0\n",
    "iBest=0\n",
    "\n",
    "logTauX = ROOT.MakeNullPointer(ROOT.TSpline)\n",
    "logTauY = ROOT.MakeNullPointer(ROOT.TSpline)\n",
    "lCurve = ROOT.MakeNullPointer(ROOT.TGraph)\n",
    "\n",
    "print 'doing the unfolding'\n",
    "tunfolder_data.ScanLcurve(nScan,tauMin,tauMax,lCurve,logTauX,logTauY);\n",
    "print 'getting the results'\n",
    "unfolded_data = tunfolder_data.GetOutput(\"unfolded\")"
   ]
  },
  {
   "cell_type": "code",
   "execution_count": 97,
   "metadata": {},
   "outputs": [],
   "source": [
    "unfolded_data = tunfolder_data.DoUnfold(0.)\n",
    "unfolded_data = tunfolder_data.GetOutput(\"unfolded_data\")\n",
    "\n",
    "unfolded_MC = tunfolder_MC.DoUnfold(0.)\n",
    "unfolded_MC = tunfolder_MC.GetOutput(\"unfolded_MC\")"
   ]
  },
  {
   "cell_type": "code",
   "execution_count": 98,
   "metadata": {},
   "outputs": [],
   "source": [
    "ROOT.gStyle.SetOptStat(0)"
   ]
  },
  {
   "cell_type": "code",
   "execution_count": 99,
   "metadata": {
    "scrolled": false
   },
   "outputs": [
    {
     "name": "stderr",
     "output_type": "stream",
     "text": [
      "Info in <TCanvas::Print>: png file tau4_2_unfolding_Escheme_bkgsub.png has been created\n",
      "Info in <TCanvas::Print>: pdf file tau4_2_unfolding_Escheme_bkgsub.pdf has been created\n"
     ]
    },
    {
     "data": {
      "image/png": "[encoded data removed]",
      "text/plain": [
       "<IPython.core.display.Image object>"
      ]
     },
     "metadata": {},
     "output_type": "display_data"
    }
   ],
   "source": [
    "c5 = ROOT.TCanvas('c5', 'c5')\n",
    "\n",
    "unfolded_MC.SetMarkerStyle(2)\n",
    "unfolded_MC.SetMarkerColor(7)\n",
    "unfolded_MC.SetLineColor(7)\n",
    "unfolded_MC.SetLineWidth(1)\n",
    "\n",
    "unfolded_data.SetMarkerStyle(22)\n",
    "unfolded_data.SetMarkerColor(1)\n",
    "unfolded_data.SetLineColor(1)\n",
    "unfolded_data.SetLineWidth(2)\n",
    "\n",
    "\n",
    "#unfolded_MC.SetFillColor(0)\n",
    "#histMgenData.SetMarkerStyle(4)\n",
    "#histMgenData.SetMarkerColor(2)\n",
    "#histMgenData.SetOption(\"E\")\n",
    "#histMgenData.SetLineColor(2)\n",
    "histMgenMC_sig.SetMarkerStyle(5)\n",
    "histMgenMC_sig.SetMarkerColor(2)\n",
    "histMgenMC_sig.SetLineColor(2)\n",
    "\n",
    "\n",
    "\n",
    "hs = ROOT.THStack(\"#tau_{4}^{(2)}\", \"#tau_{4}^{(2)}\")\n",
    "#hs.Add\n",
    "#hs.SetMinimum(0)\n",
    "hs.SetMaximum(9500)\n",
    "#hs.Add( histMgenData, \"E HIST\")\n",
    "hs.Add( unfolded_MC, \"E HIST\")\n",
    "hs.Add( unfolded_data, \"E \")\n",
    "hs.Add(histMgenMC_sig, \"E HIST\")\n",
    "#hs.Add(histMdetMC_sig, \"E\")\n",
    "#hs.Add(histMdetData, \"E\")\n",
    "\n",
    "leg0 = ROOT.TLegend(0.02, 0.72, 0.91, 0.85)\n",
    "leg0.AddEntry( unfolded_data, \"Data (2016)\", 'p')\n",
    "leg0.AddEntry( histMgenMC_sig, \"Generator-level (ttbar MC: Powheg+Pythia8)\", 'p')\n",
    "#leg0.AddEntry( histMgenData, \"'Truth' (MC: MG5+Pythia8)\", 'p')\n",
    "leg0.AddEntry( unfolded_MC, \"Unfolding_self-closure (ttbar MC: Powheg+Pythia8)\", 'p')\n",
    "leg0.SetLineColor(0)\n",
    "leg0.SetBorderSize(0)\n",
    "leg0.SetFillStyle(0)\n",
    "\n",
    "#hs.Add(histMdetMC, \"E\")\n",
    "#hs.Add(histMdetData, \"E\")\n",
    "hs.Draw(\"nostack\")\n",
    "leg0.Draw()\n",
    "\n",
    "c5.Draw()\n",
    "c5.SaveAs(\"tau4_2_unfolding_Escheme_bkgsub.png\")\n",
    "c5.SaveAs(\"tau4_2_unfolding_Escheme_bkgsub.pdf\")"
   ]
  },
  {
   "cell_type": "code",
   "execution_count": 100,
   "metadata": {},
   "outputs": [
    {
     "name": "stdout",
     "output_type": "stream",
     "text": [
      "Bin Content \tBin error \tBin Center \tBin Low-Edge \tRatio to Truth for bin \tRatio Error\n",
      "2733.1821 \t61.4804 \t0.00375 \t0.0 1.0000 0.0252\n",
      "5777.6664 \t127.2213 \t0.01125 \t0.0075 1.0000 0.0234\n",
      "3322.0052 \t160.2298 \t0.01875 \t0.015 1.0000 0.0493\n",
      "1357.2343 \t143.0063 \t0.02625 \t0.0225 1.0000 0.1066\n",
      "551.0178 \t86.0148 \t0.035 \t0.03 1.0000 0.1581\n",
      "143.7679 \t35.6320 \t0.0475 \t0.04 1.0000 0.2528\n",
      "15.3747 \t11.2772 \t0.065 \t0.055 1.0000 0.7488\n",
      "0.8892 \t0.8827 \t0.0925 \t0.075 1.0000 1.1549\n"
     ]
    }
   ],
   "source": [
    "ratio = ROOT.TH1D(\"\",\"; #tau_{4}^{(2)}\",  gen_bins.shape[0]-1, (gen_bins))\n",
    "ratio.GetXaxis().SetTitle(\"#tau_{4}^{(2)}\");\n",
    "#ratio.GetYaxis().SetTitleOffset(0.);\n",
    "ratio.GetYaxis().CenterTitle(ROOT.kTRUE);\n",
    "ratio.GetXaxis().CenterTitle(ROOT.kTRUE);\n",
    "ratio.GetYaxis().SetRangeUser(0.7,1.3)\n",
    "ratio.Add(unfolded_MC)\n",
    "ratio.GetYaxis().SetTitle(\"#frac{Unfolded Powheg}{Gen-level Powheg}\")\n",
    "ratio.Sumw2()\n",
    "ratio.SetStats(0)\n",
    "ratio.Divide(histMgenMC_sig);\n",
    "ratio.GetYaxis().SetLabelSize(0.09)\n",
    "ratio.GetXaxis().SetLabelSize(0.09)\n",
    "#ratio.SetMarkerStyle(1)\n",
    "ratio.SetMarkerColor(ROOT.kRed)\n",
    "ratio.SetLineColor(ROOT.kRed)\n",
    "ratio.GetYaxis().SetTitleSize(0.12)\n",
    "ratio.GetYaxis().SetTitleOffset(0.4)\n",
    "ratio.GetXaxis().SetTitleSize(0.12)\n",
    "ratio.GetXaxis().SetTitleOffset(0.85)\n",
    "\n",
    "print \"Bin Content\", \"\\t\", \"Bin error\", \"\\t\", \"Bin Center\", \"\\t\", \"Bin Low-Edge\", \"\\t\", \"Ratio to Truth for bin\", \"\\t\", \"Ratio Error\"\n",
    "for i in xrange(1,gen_bins.shape[0]):\n",
    "    print \"%0.4f\"%unfolded_MC.GetBinContent(i), \"\\t\", \"%0.4f\"%unfolded_MC.GetBinError(i), \"\\t\", unfolded_MC.GetBinCenter(i), \"\\t\", unfolded_MC.GetBinLowEdge(i), \"%0.4f\"%ratio.GetBinContent(i), \"%0.4f\"%ratio.GetBinError(i)"
   ]
  },
  {
   "cell_type": "code",
   "execution_count": 101,
   "metadata": {},
   "outputs": [
    {
     "name": "stderr",
     "output_type": "stream",
     "text": [
      "Info in <TCanvas::Print>: png file tau_4_2_MC_SC_ratio_Escheme_bkgsub.png has been created\n",
      "Info in <TCanvas::Print>: pdf file tau_4_2_MC_SC_ratio_Escheme_bkgsub.pdf has been created\n"
     ]
    },
    {
     "data": {
      "image/png": "[encoded data removed]",
      "text/plain": [
       "<IPython.core.display.Image object>"
      ]
     },
     "metadata": {},
     "output_type": "display_data"
    }
   ],
   "source": [
    "c6 = ROOT.TCanvas(\"c6\",\"c6\", 600,300)\n",
    "ratio.GetYaxis().SetLabelSize(0.05)\n",
    "ratio.GetXaxis().SetLabelSize(0.05)\n",
    "#ratio.SetMarkerStyle(1)\n",
    "ratio.SetMarkerStyle(5)\n",
    "ratio.SetMarkerColor(ROOT.kRed)\n",
    "ratio.SetLineColor(ROOT.kRed)\n",
    "ratio.GetYaxis().SetTitleSize(0.06)\n",
    "ratio.GetYaxis().SetTitleOffset(0.7)\n",
    "ratio.GetXaxis().SetTitleSize(0.05)\n",
    "ratio.GetXaxis().SetTitleOffset(0.8)\n",
    "#ratio.SetMinimum(0.7)\n",
    "#ratio.SetMaximum(1.3)\n",
    "#ratio.SetMarkerStyle(21);\n",
    "ratio.Draw(\"ep\")\n",
    "c6.Draw()\n",
    "c6.SaveAs(\"tau_4_2_MC_SC_ratio_Escheme_bkgsub.png\")\n",
    "c6.SaveAs(\"tau_4_2_MC_SC_ratio_Escheme_bkgsub.pdf\")"
   ]
  },
  {
   "cell_type": "code",
   "execution_count": 102,
   "metadata": {},
   "outputs": [
    {
     "name": "stderr",
     "output_type": "stream",
     "text": [
      "Error in <TUnfoldDensity::SubtractBackground>: Source bkg_all given twice, ignoring 2nd call.\n",
      "\n",
      "Warning in <TROOT::Append>: Replacing existing TH1: unfolded_data (Potential memory leak).\n"
     ]
    }
   ],
   "source": [
    "# get unfolding output\n",
    "# includes the statistical and background errors\n",
    "# but not the other systematic uncertainties\n",
    "#tunfolder_data.SetInput( histMdetData )\n",
    "tunfolder_data.SubtractBackground( histMdetMC_bkg, \"bkg_all\", 1. )\n",
    "\n",
    "histUnfoldOutput= tunfolder_data.GetOutput(\"unfolded_data\")\n",
    "\n",
    "# retreive error matrix of statistical errors\n",
    "histEmatStat=tunfolder_data.GetEmatrixInput(\"unfolding stat error matrix\");\n",
    "# retreive full error matrix\n",
    "# This includes all systematic errors\n",
    "histEmatTotal=tunfolder_data.GetEmatrixTotal(\"unfolding total error matrix\");\n",
    "# create two copies of the unfolded data, one with statistical errors\n",
    "# the other with total errors\n",
    "histUnfoldStat=ROOT.TH1D(\"tau4_2(unfold,staterr)\",\";tau4_2(gen)\",  gen_bins.shape[0]-1, (gen_bins));\n",
    "histUnfoldTotal=ROOT.TH1D(\"tau4_2(unfold,totalerr)\",\";tau4_2(gen)\",  gen_bins.shape[0]-1, (gen_bins));\n",
    "\n",
    "for i in xrange(0, gen_bins.shape[0]): \n",
    "    c=histUnfoldOutput.GetBinContent(i);\n",
    "    # histogram with unfolded data and stat errors\n",
    "    histUnfoldStat.SetBinContent(i,c);\n",
    "    histUnfoldStat.SetBinError(i,np.sqrt(histEmatStat.GetBinContent(i,i)));\n",
    "    # histogram with unfolded data and total errors\n",
    "    histUnfoldTotal.SetBinContent(i,c);\n",
    "    histUnfoldTotal.SetBinError(i,np.sqrt(histEmatTotal.GetBinContent(i,i)));\n",
    "\n",
    "# create histogram with correlation matrix\n",
    "histCorr=ROOT.TH2D(\"Corr(total)\",\";tau4_2(gen);tau4_2(gen)\",  gen_bins.shape[0]-1, (gen_bins), gen_bins.shape[0]-1, (gen_bins));\n",
    "for i in xrange(0, gen_bins.shape[0]): \n",
    "    ei,ej = 0,0\n",
    "    ei=np.sqrt(histEmatTotal.GetBinContent(i,i));\n",
    "    if(ei<=0.0): continue\n",
    "    for j in xrange(0, gen_bins.shape[0]):\n",
    "        ej=np.sqrt(histEmatTotal.GetBinContent(j,j));\n",
    "        if(ej<=0.0): continue\n",
    "        histCorr.SetBinContent(i,j,histEmatTotal.GetBinContent(i,j)/ei/ej);\n",
    "\n",
    "# retreive bgr source 1\n",
    "#histdetNormBgr1=tunfolder_data.GetBackground(\"bgr1 normalized\", \"background1\");\n",
    "histMdetNormBgrTotal=tunfolder_data.GetBackground(\"bkg_all\");\n",
    "#========================\n"
   ]
  },
  {
   "cell_type": "code",
   "execution_count": 103,
   "metadata": {},
   "outputs": [
    {
     "data": {
      "image/png": "[encoded data removed]",
      "text/plain": [
       "<IPython.core.display.Image object>"
      ]
     },
     "metadata": {},
     "output_type": "display_data"
    }
   ],
   "source": [
    "# Step 7: plots\n",
    "output = ROOT.TCanvas();\n",
    "#output.Divide(3,2);\n",
    "#output.cd(1);\n",
    "# data, MC prediction, background\n",
    "#histMdetData.SetMinimum(0.0);\n",
    "histMdetData.SetMaximum(histMdetData.GetMaximum()*1.5);\n",
    "histMdetData.Draw(\"E\");\n",
    "#histMdetMC_sig.SetMinimum(0.0);\n",
    "histMdetMC_sig.SetLineColor(ROOT.kBlue);\n",
    "histMdetNormBgrTotal.SetLineColor(ROOT.kRed);\n",
    "#histdetNormBgr1.SetLineColor(ROOT.kCyan);\n",
    "histMdetMC_sig.Draw(\"SAME HIST\");\n",
    "#histdetNormBgr1.Draw(\"SAME HIST\");\n",
    "histMdetNormBgrTotal.Draw(\"SAME HIST\");\n",
    "output.Draw()"
   ]
  },
  {
   "cell_type": "code",
   "execution_count": 104,
   "metadata": {},
   "outputs": [
    {
     "data": {
      "image/png": "[encoded data removed]",
      "text/plain": [
       "<IPython.core.display.Image object>"
      ]
     },
     "metadata": {},
     "output_type": "display_data"
    }
   ],
   "source": [
    "#output.cd(2)\n",
    "# unfolded data, data truth, MC truth\n",
    "output = ROOT.TCanvas();\n",
    "histUnfoldTotal.SetMinimum(0.0);\n",
    "histUnfoldTotal.SetMaximum(7000);\n",
    "histUnfoldTotal.SetLineColor(ROOT.kBlue+3)\n",
    "histUnfoldTotal.SetLineWidth(1)\n",
    "# outer error: total error\n",
    "histUnfoldTotal.Draw(\"E\");\n",
    "# middle error: stat+bgr\n",
    "histUnfoldOutput.SetLineWidth(1)\n",
    "histUnfoldOutput.Draw(\"SAME E1\");\n",
    "# inner error: stat only\n",
    "histUnfoldStat.SetLineColor(ROOT.kGreen+2)\n",
    "histUnfoldStat.Draw(\"SAME E1\");\n",
    "\n",
    "histMdetMC_sig.Draw(\"SAME HIST\");\n",
    "histMgenMC_sig.Draw(\"SAME HIST\");\n",
    "#histBbbSignalGen.SetLineColor(ROOT.kBlue);\n",
    "#histBbbSignalGen.Draw(\"SAME HIST\");\n",
    "output.Draw()"
   ]
  },
  {
   "cell_type": "code",
   "execution_count": 105,
   "metadata": {
    "scrolled": true
   },
   "outputs": [
    {
     "data": {
      "image/png": "[encoded data removed]",
      "text/plain": [
       "<IPython.core.display.Image object>"
      ]
     },
     "metadata": {},
     "output_type": "display_data"
    }
   ],
   "source": [
    "output.cd(3);\n",
    "# unfolding matrix\n",
    "response.SetLineColor(ROOT.kBlue);\n",
    "response.Draw(\"BOX\");\n",
    "\n",
    "output.Draw()"
   ]
  },
  {
   "cell_type": "code",
   "execution_count": 106,
   "metadata": {
    "scrolled": true
   },
   "outputs": [
    {
     "data": {
      "image/png": "[encoded data removed]",
      "text/plain": [
       "<IPython.core.display.Image object>"
      ]
     },
     "metadata": {},
     "output_type": "display_data"
    }
   ],
   "source": [
    "# show tau as a function of chi**2\n",
    "output.cd(4);\n",
    "#logTauX.Draw();\n",
    "#bestLogTauLogChi2.SetMarkerColor(ROOT.kRed);\n",
    "#bestLogTauLogChi2.Draw(\"*\");\n",
    "# show the L curve\n",
    "output.cd(5);\n",
    "#lCurve.Draw(\"AL\");\n",
    "#bestLcurve.SetMarkerColor(ROOT.kRed);\n",
    "#bestLcurve.Draw(\"*\");\n",
    "# show correlation matrix\n",
    "output.cd(6);\n",
    "histCorr.Draw(\"BOX\");\n",
    "output.Draw()"
   ]
  },
  {
   "cell_type": "code",
   "execution_count": null,
   "metadata": {},
   "outputs": [],
   "source": []
  },
  {
   "cell_type": "code",
   "execution_count": null,
   "metadata": {},
   "outputs": [],
   "source": []
  },
  {
   "cell_type": "code",
   "execution_count": null,
   "metadata": {},
   "outputs": [],
   "source": []
  },
  {
   "cell_type": "code",
   "execution_count": null,
   "metadata": {},
   "outputs": [],
   "source": []
  }
 ],
 "metadata": {
  "kernelspec": {
   "display_name": "Python 2",
   "language": "python",
   "name": "python2"
  },
  "language_info": {
   "codemirror_mode": {
    "name": "ipython",
    "version": 2
   },
   "file_extension": ".py",
   "mimetype": "text/x-python",
   "name": "python",
   "nbconvert_exporter": "python",
   "pygments_lexer": "ipython2",
   "version": "2.7.15"
  }
 },
 "nbformat": 4,
 "nbformat_minor": 2
}
