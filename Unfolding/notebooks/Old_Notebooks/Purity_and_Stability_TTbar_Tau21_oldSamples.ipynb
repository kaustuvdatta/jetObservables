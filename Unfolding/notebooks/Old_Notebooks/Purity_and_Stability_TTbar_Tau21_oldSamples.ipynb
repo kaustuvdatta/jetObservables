{
 "cells": [
  {
   "cell_type": "markdown",
   "metadata": {},
   "source": [
    "# Mapping the phase space of a jet"
   ]
  },
  {
   "cell_type": "markdown",
   "metadata": {},
   "source": [
    "## 1-D Unfolding  of $\\tau_{21}^{(1.)}$ measured with $E$-scheme recombination+exclusive $k_T$ axes and with WTA $k_T$ axes, with a purity&stability study for each observables' binning\n"
   ]
  },
  {
   "cell_type": "markdown",
   "metadata": {},
   "source": [
    "#### Firstly , import the ROOT data analysis framework which will be used to read the data files and unfold the final result. "
   ]
  },
  {
   "cell_type": "code",
   "execution_count": 1,
   "metadata": {},
   "outputs": [
    {
     "name": "stdout",
     "output_type": "stream",
     "text": [
      "Welcome to JupyROOT 6.18/00\n"
     ]
    }
   ],
   "source": [
    "import ROOT\n",
    "import array as array\n",
    "import os\n",
    "import glob\n",
    "from ROOT import TH1D, TH2D, TTree,TFile\n",
    "from random import gauss\n",
    "import numpy as np\n",
    "import root_numpy as rtnpy\n",
    "from root_numpy import *\n",
    "import h5py\n",
    "from awkward import JaggedArray, Table\n",
    "import matplotlib.pyplot as plt\n",
    "import seaborn as sns\n",
    "ROOT.TH1.SetDefaultSumw2()\n",
    "\n"
   ]
  },
  {
   "cell_type": "code",
   "execution_count": 2,
   "metadata": {},
   "outputs": [],
   "source": [
    "%jsroot on"
   ]
  },
  {
   "cell_type": "code",
   "execution_count": 3,
   "metadata": {
    "scrolled": true
   },
   "outputs": [
    {
     "name": "stdout",
     "output_type": "stream",
     "text": [
      "2016 Single Muon dataset luminosity:35.92\n"
     ]
    }
   ],
   "source": [
    "lumi = 5.75+2.57+4.24+4.03+3.11+7.57+8.65 #B+C+D+E+F+G+H\n",
    "print \"2016 Single Muon dataset luminosity:%0.2f\"%(lumi)"
   ]
  },
  {
   "cell_type": "code",
   "execution_count": 4,
   "metadata": {},
   "outputs": [],
   "source": [
    "systs = ['Jmr', 'Jms', 'pileup', 'JesTotal', 'Lumi', 'lhaPDF', 'Jer']\n",
    "\n",
    "uncert_colors = [ 4 ,  4 , ROOT.kCyan +1 ,2 ,      ROOT.kYellow+3,    ROOT.kMagenta ,  2 , ROOT.kBlack ,ROOT.kBlack ,    ROOT.kCyan +3 , ROOT.kViolet+3 ,  ROOT.kAzure+2 , ROOT.kMagenta+1 ,ROOT.kViolet+3 ,  ROOT.kRed ,   ROOT.kCyan +3 , ROOT.kViolet+3 ,  ROOT.kAzure+2 , ROOT.kMagenta+1 ,   ROOT.kCyan +3 , ROOT.kViolet+3 ,  ROOT.kAzure+2 , ROOT.kMagenta+1 ,ROOT.kViolet+3 ,  ROOT.kRed ,   ROOT.kCyan +3 , ROOT.kViolet+3 ,  ROOT.kAzure+2 , ROOT.kMagenta+1 ]\n",
    "uncert_lines = [ 5,8,7,3,    5,    6,8,1, 2, 4, 5, 1, 7, 8, 1, 7,7,4,4,5,2,1,3, 2, 4, 5, 1, 7, 8, 1]"
   ]
  },
  {
   "cell_type": "markdown",
   "metadata": {},
   "source": [
    "#### Below the MC and Data events are read from ROOT trees which only contain events meeting the selection criteria set forth in this __[script](https://github.com/kaustuvdatta/jetObservables/blob/102X/python/nSubProducer_gen_reco.py)__ and thereafter in the nSubExtractor class"
   ]
  },
  {
   "cell_type": "code",
   "execution_count": 5,
   "metadata": {},
   "outputs": [],
   "source": [
    "from nSubExtractor_old import nSubExtractor_old as nSubExtractor"
   ]
  },
  {
   "cell_type": "markdown",
   "metadata": {},
   "source": [
    "### Loading datasets of $N$-subjettiness bases measured with (default: \" \" ) $E$-scheme recombination and excl. lT axes (please specifiy  \"WTA_kT\" or \"OP_kT\" in the axisdef option of the nSubExtractor)"
   ]
  },
  {
   "cell_type": "code",
   "execution_count": 6,
   "metadata": {},
   "outputs": [
    {
     "name": "stdout",
     "output_type": "stream",
     "text": [
      "(6270, 21) (6270, 2)\n"
     ]
    },
    {
     "name": "stderr",
     "output_type": "stream",
     "text": [
      "Warning in <TClass::Init>: no dictionary for class edm::ProcessHistory is available\n",
      "Warning in <TClass::Init>: no dictionary for class edm::ProcessConfiguration is available\n",
      "Warning in <TClass::Init>: no dictionary for class edm::ParameterSetBlob is available\n",
      "Warning in <TClass::Init>: no dictionary for class edm::Hash<1> is available\n",
      "Warning in <TClass::Init>: no dictionary for class pair<edm::Hash<1>,edm::ParameterSetBlob> is available\n"
     ]
    }
   ],
   "source": [
    "a = nSubExtractor(isMC=1, axisdef=\"\", sample=\"TTbar/2\")\n",
    "TTbarMG_dataset, TTbarMG_reco_nSub_basis, TTbarMG_gen_nSub_basis, TTbarMG_weights = a.sample_loader()\n",
    "\n",
    "print TTbarMG_reco_nSub_basis.shape, TTbarMG_weights.shape"
   ]
  },
  {
   "cell_type": "code",
   "execution_count": null,
   "metadata": {},
   "outputs": [],
   "source": [
    "a = nSubExtractor(isMC=1, axisdef=\"\", sample=\"TTbar/1\")\n",
    "TTbar_dataset, TTbar_reco_nSub_basis, TTbar_gen_nSub_basis, TTbar_weights  = a.sample_loader()\n",
    "\n",
    "print TTbar_reco_nSub_basis.shape, TTbar_weights.shape"
   ]
  },
  {
   "cell_type": "code",
   "execution_count": null,
   "metadata": {},
   "outputs": [],
   "source": [
    "a = nSubExtractor(isMC=1, axisdef=\"\", sample=\"ST/1\")\n",
    "ST1_dataset, ST1_reco_nSub_basis, ST1_gen_nSub_basis, ST1_weights  = a.sample_loader()\n",
    "print ST1_reco_nSub_basis.shape, ST1_weights.shape"
   ]
  },
  {
   "cell_type": "code",
   "execution_count": null,
   "metadata": {},
   "outputs": [],
   "source": [
    "a = nSubExtractor(isMC=1, axisdef=\"\", sample=\"ST/2\")\n",
    "ST2_dataset, ST2_reco_nSub_basis, ST2_gen_nSub_basis, ST2_weights  = a.sample_loader()\n",
    "print ST2_reco_nSub_basis.shape, ST2_weights.shape"
   ]
  },
  {
   "cell_type": "code",
   "execution_count": null,
   "metadata": {},
   "outputs": [],
   "source": [
    "a = nSubExtractor(isMC=1, axisdef=\"\", sample=\"ST/3\")\n",
    "ST3_dataset, ST3_reco_nSub_basis, ST3_gen_nSub_basis, ST3_weights  = a.sample_loader()\n",
    "print ST3_reco_nSub_basis.shape, ST3_weights.shape"
   ]
  },
  {
   "cell_type": "code",
   "execution_count": null,
   "metadata": {},
   "outputs": [],
   "source": [
    "a = nSubExtractor(isMC=1, axisdef=\"\", sample=\"ST/4\")\n",
    "ST4_dataset, ST4_reco_nSub_basis, ST4_gen_nSub_basis, ST4_weights  = a.sample_loader()\n",
    "print ST4_reco_nSub_basis.shape, ST4_weights.shape"
   ]
  },
  {
   "cell_type": "code",
   "execution_count": null,
   "metadata": {},
   "outputs": [],
   "source": [
    "a = nSubExtractor(isMC=1, axisdef=\"\", sample=\"ST/5\")\n",
    "ST5_dataset, ST5_reco_nSub_basis, ST5_gen_nSub_basis, ST5_weights  = a.sample_loader()\n",
    "print ST5_reco_nSub_basis.shape, ST5_weights.shape"
   ]
  },
  {
   "cell_type": "code",
   "execution_count": null,
   "metadata": {},
   "outputs": [],
   "source": [
    "a = nSubExtractor(isMC=1, axisdef=\"\", sample=\"Wjets/2\")\n",
    "Wjets_dataset, Wjets_reco_nSub_basis, Wjets_gen_nSub_basis, Wjets_weights = a.sample_loader()\n",
    "print Wjets_reco_nSub_basis.shape, Wjets_weights.shape"
   ]
  },
  {
   "cell_type": "code",
   "execution_count": null,
   "metadata": {},
   "outputs": [],
   "source": [
    "a = nSubExtractor(isMC=0, axisdef=\"\", sample=\"Data\")\n",
    "data_dataset, data_nSub_basis,  = a.sample_loader()\n",
    "print data_nSub_basis.shape"
   ]
  },
  {
   "cell_type": "code",
   "execution_count": 15,
   "metadata": {
    "scrolled": true
   },
   "outputs": [],
   "source": [
    "weight_ST1 = (80.95*0.322*lumi*1000.)/(38811017.)*np.ones(ST1_weights.shape[0])*ST1_weights[:,0]*ST1_weights[:,1]*0.8\n",
    "weight_ST2 = (0.322*136.02*lumi*1000.)/(66960888.)*np.ones(ST2_weights.shape[0])*ST2_weights[:,0]*ST2_weights[:,1]*0.8\n",
    "weight_ST3 = (35.6*lumi*1000.)/(998276.)*np.ones(ST3_weights.shape[0])*ST3_weights[:,0]*ST3_weights[:,1]*0.8\n",
    "weight_ST4 = (35.6*lumi*1000.)/(992024.)*np.ones(ST4_weights.shape[0])*ST4_weights[:,0]*ST4_weights[:,1]*0.8\n",
    "weight_ST5 = (10.12*lumi*1000.)/(2989199.)*np.ones(ST5_weights.shape[0])*ST5_weights[:,0]*ST5_weights[:,1]*0.8\n",
    "weight_TTbar = (831.76*lumi*1000.)/76915549.*np.ones(TTbar_weights.shape[0])*TTbar_weights[:,0]*TTbar_weights[:,1]*0.8\n",
    "weight_Wjets = ((60781.5*lumi*1000.)*(Wjets_weights[:,2]/abs(Wjets_weights[:,2][0]))/158307515.0)*Wjets_weights[:,0]*Wjets_weights[:,1]*0.8 \n",
    "weight_data = 1.0*np.ones(data_nSub_basis.shape[0])\n",
    "\n",
    "#print lumi, weight_Wjets\n",
    "#print TTbar_weights[:,0]"
   ]
  },
  {
   "cell_type": "code",
   "execution_count": 16,
   "metadata": {},
   "outputs": [
    {
     "name": "stdout",
     "output_type": "stream",
     "text": [
      "4681\n"
     ]
    }
   ],
   "source": [
    "lenW = Wjets_reco_nSub_basis.shape[0]\n",
    "lenST = ST1_reco_nSub_basis.shape[0]+ST1_reco_nSub_basis.shape[0]+ST2_reco_nSub_basis.shape[0]+ST4_reco_nSub_basis.shape[0]+ST5_reco_nSub_basis.shape[0]\n",
    "lenbkg = lenW+lenST\n",
    "print lenbkg"
   ]
  },
  {
   "cell_type": "code",
   "execution_count": 17,
   "metadata": {},
   "outputs": [],
   "source": [
    "bkg_reco_nSub_basis = np.concatenate((Wjets_reco_nSub_basis, ST1_reco_nSub_basis, ST2_reco_nSub_basis, ST3_reco_nSub_basis, ST4_reco_nSub_basis, ST5_reco_nSub_basis))"
   ]
  },
  {
   "cell_type": "code",
   "execution_count": 18,
   "metadata": {},
   "outputs": [
    {
     "name": "stdout",
     "output_type": "stream",
     "text": [
      "4681\n"
     ]
    }
   ],
   "source": [
    "lenW = Wjets_gen_nSub_basis.shape[0]\n",
    "lenST = ST1_gen_nSub_basis.shape[0]+ST1_gen_nSub_basis.shape[0]+ST2_gen_nSub_basis.shape[0]+ST4_gen_nSub_basis.shape[0]+ST5_gen_nSub_basis.shape[0]\n",
    "lenbkg = lenW+lenST\n",
    "print lenbkg"
   ]
  },
  {
   "cell_type": "code",
   "execution_count": 19,
   "metadata": {},
   "outputs": [],
   "source": [
    "bkg_gen_nSub_basis = np.concatenate((Wjets_gen_nSub_basis, ST1_gen_nSub_basis, ST2_gen_nSub_basis, ST3_gen_nSub_basis, ST4_gen_nSub_basis, ST5_gen_nSub_basis))"
   ]
  },
  {
   "cell_type": "code",
   "execution_count": 20,
   "metadata": {},
   "outputs": [],
   "source": [
    "Wjets_gen_tau21 = Wjets_gen_nSub_basis[:,4]/Wjets_gen_nSub_basis[:,1]\n",
    "\n",
    "ST1_gen_tau21 = ST1_gen_nSub_basis[:,4]/ST1_gen_nSub_basis[:,1]\n",
    "\n",
    "ST2_gen_tau21 = ST2_gen_nSub_basis[:,4]/ST2_gen_nSub_basis[:,1]\n",
    "\n",
    "ST3_gen_tau21 = ST3_gen_nSub_basis[:,4]/ST3_gen_nSub_basis[:,1]\n",
    "\n",
    "ST4_gen_tau21 = ST4_gen_nSub_basis[:,4]/ST4_gen_nSub_basis[:,1]\n",
    "\n",
    "ST5_gen_tau21 = ST5_gen_nSub_basis[:,4]/ST5_gen_nSub_basis[:,1]\n",
    "\n",
    "TTbar_gen_tau21 = TTbar_gen_nSub_basis[:,4]/TTbar_gen_nSub_basis[:,1]"
   ]
  },
  {
   "cell_type": "code",
   "execution_count": 21,
   "metadata": {},
   "outputs": [],
   "source": [
    "Wjets_reco_tau21 = Wjets_reco_nSub_basis[:,4]/Wjets_reco_nSub_basis[:,1]\n",
    "\n",
    "ST1_reco_tau21 = ST1_reco_nSub_basis[:,4]/ST1_reco_nSub_basis[:,1]\n",
    "\n",
    "ST2_reco_tau21 = ST2_reco_nSub_basis[:,4]/ST2_reco_nSub_basis[:,1]\n",
    "\n",
    "ST3_reco_tau21 = ST3_reco_nSub_basis[:,4]/ST3_reco_nSub_basis[:,1]\n",
    "\n",
    "ST4_reco_tau21 = ST4_reco_nSub_basis[:,4]/ST4_reco_nSub_basis[:,1]\n",
    "\n",
    "ST5_reco_tau21 = ST5_reco_nSub_basis[:,4]/ST5_reco_nSub_basis[:,1]\n",
    "\n",
    "TTbar_reco_tau21 = TTbar_reco_nSub_basis[:,4]/TTbar_reco_nSub_basis[:,1]"
   ]
  },
  {
   "cell_type": "markdown",
   "metadata": {},
   "source": [
    "# Unfolding $\\tau_{2,1}^{(1)}$ with background subtraction"
   ]
  },
  {
   "cell_type": "code",
   "execution_count": 22,
   "metadata": {},
   "outputs": [
    {
     "name": "stdout",
     "output_type": "stream",
     "text": [
      "0.033822936522658054\n",
      "0.035494525811013096\n",
      "1.2025826690775254\n",
      "1.1682265240313252 \n",
      "\n",
      "0.07700017812299854\n",
      "0.07624753724962098\n",
      "1.118227735899215\n",
      "1.0541581340983461 \n",
      "\n",
      "0.05456939248542676\n",
      "1.1363287927955423\n"
     ]
    }
   ],
   "source": [
    "MC_sig_reco_tau21 = TTbar_reco_tau21\n",
    "MC_sig_gen_tau21 = TTbar_gen_tau21\n",
    "\n",
    "MC_bkg_reco_tau21 = np.concatenate((ST1_reco_tau21,ST2_reco_tau21,ST3_reco_tau21,ST4_reco_tau21,ST5_reco_tau21,Wjets_reco_tau21))\n",
    "MC_bkg_gen_tau21 = np.concatenate((ST1_gen_tau21,ST2_gen_tau21,ST3_gen_tau21,ST4_gen_tau21,ST5_gen_tau21,Wjets_gen_tau21))\n",
    "\n",
    "data_tau21 = data_nSub_basis[:,4]/data_nSub_basis[:,1]\n",
    "weights_MC_sig = weight_TTbar\n",
    "weights_MC_bkg = np.concatenate((weight_ST1,weight_ST2,weight_ST3,weight_ST4,weight_ST5,weight_Wjets))\n",
    "\n",
    "print np.min(MC_sig_gen_tau21)\n",
    "print np.min(MC_sig_reco_tau21)\n",
    "print np.max(MC_sig_gen_tau21)\n",
    "print np.max(MC_sig_reco_tau21), \"\\n\"\n",
    "\n",
    "\n",
    "print np.min(MC_bkg_gen_tau21)\n",
    "print np.min(MC_bkg_reco_tau21)\n",
    "print np.max(MC_bkg_gen_tau21)\n",
    "print np.max(MC_bkg_reco_tau21), \"\\n\"\n",
    "\n",
    "\n",
    "print np.min(data_tau21)\n",
    "print np.max(data_tau21)"
   ]
  },
  {
   "cell_type": "markdown",
   "metadata": {
    "collapsed": true
   },
   "source": [
    "### Get the response matrix and input 1D distributions for unfolding."
   ]
  },
  {
   "cell_type": "markdown",
   "metadata": {
    "collapsed": true
   },
   "source": [
    "#### Set the axis ranges for the generator nd detector level distributions as well as the number of bins in each. Note that we want twice as many detector bins as generator level bins as recommended by the TUnfold documenation "
   ]
  },
  {
   "cell_type": "code",
   "execution_count": 23,
   "metadata": {},
   "outputs": [
    {
     "name": "stdout",
     "output_type": "stream",
     "text": [
      "[0.   0.15 0.3  0.45 0.6  0.75 0.9  1.21] 8\n",
      "[0.    0.075 0.15  0.225 0.3   0.375 0.45  0.525 0.6   0.675 0.75  0.825\n",
      " 0.9   1.055 1.21 ] 15\n"
     ]
    }
   ],
   "source": [
    "gen_bins1 = [x for x in np.linspace(num=7, start=0., stop=0.9)]\n",
    "gen_bins1 = np.concatenate(( gen_bins1, np.array([1.21])))\n",
    "print gen_bins1, gen_bins1.shape[0]\n",
    "\n",
    "det_bins1 = np.array([x for x in np.linspace(num=13, start=0., stop=0.9)])\n",
    "det_bins1 = np.concatenate((det_bins1, np.array([1.055, 1.21])))\n",
    "print det_bins1, det_bins1.shape[0]"
   ]
  },
  {
   "cell_type": "code",
   "execution_count": 24,
   "metadata": {},
   "outputs": [
    {
     "name": "stdout",
     "output_type": "stream",
     "text": [
      "[0.     0.1125 0.225  0.3375 0.45   0.5625 0.675  0.7875 0.9    1.21  ] 10\n",
      "[0.      0.05625 0.1125  0.16875 0.225   0.28125 0.3375  0.39375 0.45\n",
      " 0.50625 0.5625  0.61875 0.675   0.73125 0.7875  0.84375 0.9     1.055\n",
      " 1.21   ] 19\n"
     ]
    }
   ],
   "source": [
    "gen_bins2 = [x for x in np.linspace(num=9, start=0., stop=0.9)]\n",
    "gen_bins2 = np.concatenate(( gen_bins2, np.array([1.21])))\n",
    "print gen_bins2, gen_bins2.shape[0]\n",
    "\n",
    "det_bins2 = np.array([x for x in np.linspace(num=17, start=0., stop=0.9)])\n",
    "det_bins2 = np.concatenate((det_bins2, np.array([1.055, 1.21])))\n",
    "print det_bins2, det_bins2.shape[0]"
   ]
  },
  {
   "cell_type": "code",
   "execution_count": 25,
   "metadata": {},
   "outputs": [
    {
     "name": "stdout",
     "output_type": "stream",
     "text": [
      "[0.   0.09 0.18 0.27 0.36 0.45 0.54 0.63 0.72 0.81 0.9  1.21] 12\n",
      "[0.    0.045 0.09  0.135 0.18  0.225 0.27  0.315 0.36  0.405 0.45  0.495\n",
      " 0.54  0.585 0.63  0.675 0.72  0.765 0.81  0.855 0.9   1.055 1.21 ] 23\n"
     ]
    }
   ],
   "source": [
    "gen_bins3 = [x for x in np.linspace(num=11, start=0., stop=0.9)]\n",
    "gen_bins3 = np.concatenate(( gen_bins3, np.array([1.21])))\n",
    "print gen_bins3, gen_bins3.shape[0]\n",
    "\n",
    "det_bins3 = np.array([x for x in np.linspace(num=21, start=0., stop=0.9)])\n",
    "det_bins3 = np.concatenate((det_bins3, np.array([1.055, 1.21])))\n",
    "print det_bins3, det_bins3.shape[0]"
   ]
  },
  {
   "cell_type": "code",
   "execution_count": 26,
   "metadata": {},
   "outputs": [
    {
     "name": "stdout",
     "output_type": "stream",
     "text": [
      "[0.     0.1125 0.225  0.3375 0.45   0.5625 0.675  0.7875 0.9    1.21  ] 10\n",
      "[0.      0.05625 0.1125  0.16875 0.225   0.28125 0.3375  0.39375 0.45\n",
      " 0.50625 0.5625  0.61875 0.675   0.73125 0.7875  0.84375 0.9     1.055\n",
      " 1.21   ] 19\n"
     ]
    }
   ],
   "source": [
    "gen_bins4 = [x for x in np.linspace(num=9, start=0., stop=0.9)]\n",
    "gen_bins4 = np.concatenate(( gen_bins4, np.array([1.21])))\n",
    "print gen_bins4, gen_bins4.shape[0]\n",
    "\n",
    "det_bins4 = np.array([x for x in np.linspace(num=17, start=0., stop=0.9)])\n",
    "det_bins4 = np.concatenate((det_bins4, np.array([1.055, 1.21])))\n",
    "print det_bins4, det_bins4.shape[0]"
   ]
  },
  {
   "cell_type": "code",
   "execution_count": 27,
   "metadata": {},
   "outputs": [
    {
     "name": "stdout",
     "output_type": "stream",
     "text": [
      "[0.   0.1  0.2  0.3  0.4  0.5  0.6  0.7  0.8  0.9  1.21] 11\n",
      "[0.    0.05  0.1   0.15  0.2   0.25  0.3   0.35  0.4   0.45  0.5   0.55\n",
      " 0.6   0.65  0.7   0.75  0.8   0.85  0.9   1.055 1.21 ] 21\n"
     ]
    }
   ],
   "source": [
    "gen_bins5 = [x for x in np.linspace(num=10, start=0., stop=0.9)]\n",
    "gen_bins5 = np.concatenate(( gen_bins5, np.array([1.21])))\n",
    "print gen_bins5, gen_bins5.shape[0]\n",
    "\n",
    "det_bins5 = np.array([x for x in np.linspace(num=19, start=0., stop=0.9)])\n",
    "det_bins5 = np.concatenate((det_bins5, np.array([1.055, 1.21])))\n",
    "print det_bins5, det_bins5.shape[0]"
   ]
  },
  {
   "cell_type": "code",
   "execution_count": 28,
   "metadata": {},
   "outputs": [
    {
     "name": "stdout",
     "output_type": "stream",
     "text": [
      "[0.   0.09 0.18 0.27 0.36 0.45 0.54 0.63 0.72 0.81 0.9  1.21] 12\n",
      "[0.    0.045 0.09  0.135 0.18  0.225 0.27  0.315 0.36  0.405 0.45  0.495\n",
      " 0.54  0.585 0.63  0.675 0.72  0.765 0.81  0.855 0.9   1.055 1.21 ] 23\n"
     ]
    }
   ],
   "source": [
    "gen_bins6 = [x for x in np.linspace(num=11, start=0., stop=0.9)]\n",
    "gen_bins6 = np.concatenate(( gen_bins6, np.array([1.21])))\n",
    "print gen_bins6, gen_bins6.shape[0]\n",
    "\n",
    "det_bins6 = np.array([x for x in np.linspace(num=21, start=0., stop=0.9)])\n",
    "det_bins6 = np.concatenate((det_bins6, np.array([1.055, 1.21])))\n",
    "print det_bins6, det_bins6.shape[0]"
   ]
  },
  {
   "cell_type": "code",
   "execution_count": 29,
   "metadata": {},
   "outputs": [
    {
     "name": "stdout",
     "output_type": "stream",
     "text": [
      "[0.     0.12   0.2175 0.315  0.4125 0.51   0.6075 0.705  0.8025 0.9\n",
      " 1.21  ] 11\n",
      "[0.      0.12    0.16875 0.2175  0.26625 0.315   0.36375 0.4125  0.46125\n",
      " 0.51    0.55875 0.6075  0.65625 0.705   0.75375 0.8025  0.85125 0.9\n",
      " 1.055   1.21   ] 20\n"
     ]
    }
   ],
   "source": [
    "gen_bins7 = [x for x in np.linspace(num=9, start=0.12, stop=0.9)]\n",
    "gen_bins7 = np.concatenate(( np.array([0.]), gen_bins7, np.array([1.21])))\n",
    "print gen_bins7, gen_bins7.shape[0]\n",
    "\n",
    "det_bins7 = np.array([x for x in np.linspace(num=17, start=0.12, stop=0.9)])\n",
    "det_bins7 = np.concatenate(( np.array([0.]), det_bins7, np.array([1.055, 1.21])))\n",
    "print det_bins7, det_bins7.shape[0]"
   ]
  },
  {
   "cell_type": "code",
   "execution_count": 30,
   "metadata": {},
   "outputs": [
    {
     "name": "stdout",
     "output_type": "stream",
     "text": [
      "[0.    0.12  0.198 0.276 0.354 0.432 0.51  0.588 0.666 0.744 0.822 0.9\n",
      " 1.21 ] 13\n",
      "[0.    0.12  0.159 0.198 0.237 0.276 0.315 0.354 0.393 0.432 0.471 0.51\n",
      " 0.549 0.588 0.627 0.666 0.705 0.744 0.783 0.822 0.861 0.9   1.055 1.21 ] 24\n"
     ]
    }
   ],
   "source": [
    "gen_bins8 = [x for x in np.linspace(num=11, start=0.12, stop=0.9)]\n",
    "gen_bins8 = np.concatenate(( np.array([0.]), gen_bins8, np.array([1.21])))\n",
    "print gen_bins8, gen_bins8.shape[0]\n",
    "\n",
    "det_bins8 = np.array([x for x in np.linspace(num=21, start=0.12, stop=0.9)])\n",
    "det_bins8 = np.concatenate(( np.array([0.]), det_bins8, np.array([1.055, 1.21])))\n",
    "print det_bins8, det_bins8.shape[0]"
   ]
  },
  {
   "cell_type": "code",
   "execution_count": 31,
   "metadata": {},
   "outputs": [
    {
     "name": "stdout",
     "output_type": "stream",
     "text": [
      "[0.    0.12  0.185 0.25  0.315 0.38  0.445 0.51  0.575 0.64  0.705 0.77\n",
      " 0.835 0.9   1.21 ] 15\n",
      "[0.     0.12   0.1525 0.185  0.2175 0.25   0.2825 0.315  0.3475 0.38\n",
      " 0.4125 0.445  0.4775 0.51   0.5425 0.575  0.6075 0.64   0.6725 0.705\n",
      " 0.7375 0.77   0.8025 0.835  0.8675 0.9    1.055  1.21  ] 28\n"
     ]
    }
   ],
   "source": [
    "gen_bins9 = [x for x in np.linspace(num=13, start=0.12, stop=0.9)]\n",
    "gen_bins9 = np.concatenate(( np.array([0.]), gen_bins9, np.array([1.21])))\n",
    "print gen_bins9, gen_bins9.shape[0]\n",
    "\n",
    "det_bins9 = np.array([x for x in np.linspace(num=25, start=0.12, stop=0.9)])\n",
    "det_bins9 = np.concatenate(( np.array([0.]), det_bins9, np.array([1.055, 1.21])))\n",
    "print det_bins9, det_bins9.shape[0]"
   ]
  },
  {
   "cell_type": "code",
   "execution_count": 32,
   "metadata": {},
   "outputs": [],
   "source": [
    "det_bins_arr = [det_bins1, det_bins2, det_bins3, det_bins4, det_bins5, det_bins6, det_bins7, det_bins8, det_bins9]\n",
    "gen_bins_arr = [gen_bins1, gen_bins2, gen_bins3, gen_bins4, gen_bins5, gen_bins6, gen_bins7, gen_bins8, gen_bins9 ]"
   ]
  },
  {
   "cell_type": "markdown",
   "metadata": {},
   "source": [
    "#### Fill histograms for sig and bkg. MC separately in this case (as one should!)"
   ]
  },
  {
   "cell_type": "code",
   "execution_count": 33,
   "metadata": {},
   "outputs": [],
   "source": [
    "def fill_hists(gen_bins, det_bins, MC_sig_reco_tau21, MC_sig_gen_tau21, MC_bkg_reco_tau21, MC_bkg_gen_tau21, data_tau21):\n",
    "        \n",
    "    histMgenMC_bkg = ROOT.TH1D(\"histMgenMC_bkg\", \"histMgenMC_bkg; #tau_{2}^{1}; Events/(0.02)\",  gen_bins.shape[0]-1, (gen_bins))\n",
    "    fill_hist(histMgenMC_bkg, MC_bkg_gen_tau21, weights=weights_MC_bkg)\n",
    "\n",
    "    histMdetMC_bkg = ROOT.TH1D(\"histMdetMC_bkg\", \"histMdetMC_bkg; #tau_{2}^{1}; Events/(0.02)\", det_bins.shape[0]-1, (det_bins))\n",
    "    fill_hist(histMdetMC_bkg, MC_bkg_reco_tau21, weights=weights_MC_bkg)\n",
    "\n",
    "    histMgenMC_sig = ROOT.TH1D(\"histMgenMC_sig\", \"histMgenMC_sig; #tau_{2}^{1}; Events/(0.02)\",  gen_bins.shape[0]-1, (gen_bins))\n",
    "    fill_hist(histMgenMC_sig, MC_sig_gen_tau21, weights=weights_MC_sig)\n",
    "\n",
    "    histMdetMC_sig = ROOT.TH1D(\"histMdetMC_sig\", \"histMdetMC_sig; #tau_{2}^{1}; Events/(0.02)\", det_bins.shape[0]-1, (det_bins))\n",
    "    fill_hist(histMdetMC_sig, MC_sig_reco_tau21, weights=weights_MC_sig)\n",
    "\n",
    "    #histMgenData = ROOT.TH1D(\"histMgenData\", \"histMgenData; #tau_{2}^{1}; Events/(0.02)\", gen_bins.shape[0]-1, (gen_bins))\n",
    "    #fill_hist(histMgenData, TTbartruth_nSub_basis[:,4]/TTbartruth_nSub_basis[:,1])\n",
    "\n",
    "    histMdetData = ROOT.TH1D(\"histMdetData\", \"histMdetData; #tau_{2}^{1}; Events/(0.02)\", det_bins.shape[0]-1, (det_bins))\n",
    "    fill_hist(histMdetData, data_tau21)\n",
    "\n",
    "    histMgenMC_bkg.SetTitle(\";#tau_{2,1}^{1}(gen_bkg)\")\n",
    "    histMdetMC_bkg.SetTitle(\";#tau_{2,1}^{1}(det_bkg)\")\n",
    "    histMgenMC_sig.SetTitle(\";#tau_{2,1}^{1}(gen_sig)\")\n",
    "    histMdetMC_sig.SetTitle(\";#tau_{2,1}^{1}(det_sig)\")\n",
    "    histMdetData.SetTitle(\";#tau_{2,1}^{1}(data)\")\n",
    "\n",
    "\n",
    "    ### Fill response matrix\n",
    "\n",
    "    response = ROOT.TH2D('response', 'response', det_bins.shape[0]-1, det_bins, gen_bins.shape[0]-1, gen_bins)\n",
    "    hist2Dfill = np.zeros((MC_sig_reco_tau21.shape[0], 2))\n",
    "    hist2Dfill[:,0] = MC_sig_reco_tau21.flatten()\n",
    "    hist2Dfill[:,1] = MC_sig_gen_tau21.flatten()\n",
    "    fill_hist(response, hist2Dfill, weights_MC_sig)\n",
    "    response.SetTitle(\"Nominal Response Matrix;#tau_{2,1}^{1}(det_sig);#tau_{2,1}^{1}(gen_sig)\")\n",
    "\n",
    "    '''\n",
    "    ##### Normalise the distributions, draw them and the response matrix.\n",
    "\n",
    "    norm_genMC_bkg = histMgenMC_bkg.Integral()\n",
    "    print norm_genMC_bkg\n",
    "\n",
    "    norm_recoMC_bkg = histMdetMC_bkg.Integral()\n",
    "    print norm_recoMC_bkg\n",
    "\n",
    "    norm_genMC_sig = histMgenMC_sig.Integral()\n",
    "    print norm_genMC_sig\n",
    "\n",
    "    norm_recoMC_sig = histMdetMC_sig.Integral()\n",
    "    print norm_recoMC_sig\n",
    "\n",
    "    #norm_genData = histMgenData.Integral()\n",
    "    #print norm_genData\n",
    "\n",
    "    norm_detData = histMdetData.Integral()\n",
    "    print norm_detData\n",
    "\n",
    "    hMC_gen_bkg = ROOT.TH1D(histMgenMC_bkg)\n",
    "    #hMC_gen_bkg.Scale(1./norm_genMC_bkg)\n",
    "\n",
    "    hMC_reco_bkg = ROOT.TH1D(histMdetMC_bkg)\n",
    "    #hMC_reco_bkg.Scale(1./norm_recoMC_bkg)\n",
    "\n",
    "    hMC_gen_sig = ROOT.TH1D(histMgenMC_sig)\n",
    "    #hMC_gen_sig.Scale(1./norm_genMC_sig)\n",
    "\n",
    "    hMC_reco_sig = ROOT.TH1D(histMdetMC_sig)\n",
    "    #hMC_reco_sig.Scale(1./norm_recoMC_sig)\n",
    "\n",
    "    hMC_data = ROOT.TH1D(histMdetData)\n",
    "    #histMgenData.Scale(1./norm_genData)\n",
    "    #histMdetData.Scale(1./norm_detData)\n",
    "\n",
    "    histMgenMC_bkg.Scale(1./norm_genMC_bkg)\n",
    "    histMdetMC_bkg.Scale(1./norm_recoMC_bkg)\n",
    "    histMgenMC_sig.Scale(1./norm_genMC_sig)\n",
    "    histMdetMC_sig.Scale(1./norm_recoMC_sig)\n",
    "\n",
    "    #histMgenData.Scale(1./norm_genData)\n",
    "    histMdetData.Scale(1./norm_detData)\n",
    "    '''\n",
    "    \n",
    "    return histMgenMC_bkg, histMdetMC_bkg, histMgenMC_sig, histMdetMC_sig, histMdetData, response"
   ]
  },
  {
   "cell_type": "markdown",
   "metadata": {},
   "source": [
    "### Purity and Stability calculation"
   ]
  },
  {
   "cell_type": "markdown",
   "metadata": {},
   "source": [
    "We define purity as the fraction of reconstructed events that are generated in the same bin, \n",
    "and stability as the fraction of generated events that are reconstructed in the same\n",
    "bin, divided by the overall reconstruction efficiency per bin. "
   ]
  },
  {
   "cell_type": "code",
   "execution_count": 34,
   "metadata": {
    "scrolled": true
   },
   "outputs": [],
   "source": [
    "def purity_stability_calc(gen_bins, MC_sig_gen_tau21, det_bins, MC_sig_reco_tau21, verbose=True ):\n",
    "    \n",
    "    purity = ROOT.TH1D(\"purity\", \"Purity and stability study; #tau_{2}^{1}; \",  gen_bins.shape[0]-1, (gen_bins))\n",
    "    stability = ROOT.TH1D(\"stability\", \"Purity and stability study; #tau_{2}^{1}; \",  gen_bins.shape[0]-1, (gen_bins))\n",
    "    efficiency = ROOT.TH1D(\"efficiency\", \"Purity and stability study; #tau_{2}^{1}; \",  gen_bins.shape[0]-1, (gen_bins))\n",
    "\n",
    "    gen_arr = MC_sig_gen_tau21[:]\n",
    "    gen_bin_index = np.digitize(gen_arr, gen_bins)\n",
    "    if verbose: print gen_bin_index\n",
    "    \n",
    "    det_arr = MC_sig_reco_tau21[:]\n",
    "    det_bin_index = np.digitize(det_arr, gen_bins)\n",
    "    det_bin_index2 = np.digitize(det_arr, det_bins)\n",
    "    \n",
    "    ndet_pergenbin = [0.] #N_recgen array = number of events generated in and reconstructed in gen bin i\n",
    "    ndet_genanywhere = [0.] # number of events reconstructed in gen _bin i but generated anywhere\n",
    "    ngen_detanywhere = [0.] # number of events generated in gen _bin i but reconstructed anywhere\n",
    "\n",
    "    ### purity = # of evts generated and reconstructed in gen bin i / # of evts reconstructed in gen bin i but generated anywhere\n",
    "    ### stability = # of evts generated and reconstructed in gen bin / # of evts generated in gen bin i but reconstructed anywhere\n",
    "    \n",
    "    for i in xrange(0, gen_bins.shape[0]-1):\n",
    "\n",
    "        #print i+1\n",
    "\n",
    "        for k in xrange(0, gen_bin_index.shape[0]):\n",
    "\n",
    "            if gen_bin_index[k]==i+1: \n",
    "                ngen_detanywhere[i]+=1 #stability denominator\n",
    "                if det_bin_index[k]==i+1: ndet_pergenbin[i]+=1\n",
    "\n",
    "        ngen_detanywhere.append(0.)\n",
    "        ndet_pergenbin.append(0.)\n",
    "\n",
    "        for k in xrange(0, det_bin_index.shape[0]):\n",
    "\n",
    "            if det_bin_index[k]==i+1: \n",
    "                ndet_genanywhere[i]+=1 #purity denominator\n",
    "\n",
    "        ndet_genanywhere.append(0.)\n",
    "\n",
    "        if verbose: print \"Setting contents for P, S, eff. histos, in bin %d\"%(i+1)\n",
    "        purity.SetBinContent(i+1, ndet_pergenbin[i]/ndet_genanywhere[i])\n",
    "        stability.SetBinContent(i+1, ndet_pergenbin[i]/ngen_detanywhere[i])\n",
    "        efficiency.SetBinContent(i+1, ndet_pergenbin[i]/43107.)\n",
    "\n",
    "\n",
    "    ndet_pergenbin = np.array(ndet_pergenbin)\n",
    "    ndet_genanywhere = np.array(ndet_genanywhere)\n",
    "    ngen_detanywhere = np.array(ngen_detanywhere)\n",
    "\n",
    "    try:\n",
    "        if verbose:print \"\\n\\n+++++++++Pure and Stable! :)+++++++++++++\\n\\n\"\n",
    "        if verbose: print ndet_pergenbin,\"\\n\"\n",
    "        if verbose: print ndet_genanywhere,\"\\n\"\n",
    "        purity_arr = ndet_pergenbin/ndet_genanywhere\n",
    "        if verbose:print \"Purity array:\", purity_arr[:-1], \"\\n\"\n",
    "\n",
    "        if verbose: print ndet_pergenbin,\"\\n\"\n",
    "        if verbose: print ngen_detanywhere,\"\\n\"\n",
    "        stability_arr = ndet_pergenbin/ngen_detanywhere\n",
    "        if verbose:print \"Stability array:\", stability_arr[:-1], \"\\n\"\n",
    "\n",
    "        if verbose:print \"+++++Efficiency+++++\\n\"\n",
    "        efficiency_arr = ndet_pergenbin/np.sum(ngen_detanywhere)\n",
    "        if verbose:print \"Efficiency array:\", efficiency_arr[:-1]\n",
    "\n",
    "\n",
    "        purity.SetLineColor(ROOT.kRed)\n",
    "        purity.SetLineWidth(2)\n",
    "        purity.SetLineStyle(2)\n",
    "        purity.SetMinimum(0.)\n",
    "        purity.SetMaximum(1.05)\n",
    "\n",
    "        stability.SetLineColor(9)\n",
    "        stability.SetLineWidth(2)\n",
    "        stability.SetLineStyle(2)\n",
    "        stability.SetMinimum(0.)\n",
    "        stability.SetMaximum(1.05)\n",
    "        stability.SetTitle(\"t#bar{t} 2016, W-selection \")\n",
    "        \n",
    "\n",
    "        return purity, stability\n",
    "    except:\n",
    "        print \"didn't work, binning issues probably the cause\"\n",
    "        return -1,-1"
   ]
  },
  {
   "cell_type": "markdown",
   "metadata": {},
   "source": [
    "### Unfolding "
   ]
  },
  {
   "cell_type": "code",
   "execution_count": 35,
   "metadata": {},
   "outputs": [],
   "source": [
    "def doUnfolding(response, histMdetData, histMdetMC_sig, histMdetMC_bkg, histMgenMC_sig):\n",
    "\n",
    "    print 'getting tunfolder:'\n",
    "\n",
    "    orientation = ROOT.TUnfoldDensity.kHistMapOutputHoriz\n",
    "    regMode = ROOT.TUnfoldDensity.kRegModeCurvature\n",
    "    con = ROOT.TUnfoldDensity.kEConstraintNone\n",
    "    mode =  ROOT.TUnfoldDensity.kDensityModeBinWidth\n",
    "    errmode = ROOT.TUnfoldSys.kSysErrModeMatrix\n",
    "    #tunfolder_MC = ROOT.TUnfoldDensity(response, orientation, regMode, con, mode, \"signal\", \"*[UOb]\")\n",
    "    #tunfolder_data = ROOT.TUnfoldDensity(response, orientation, regMode, con, mode, \"signal\", \"*[UOb]\")\n",
    "\n",
    "    tunfolder_MC = ROOT.TUnfoldDensity(response,ROOT.TUnfold.kHistMapOutputVert,ROOT.TUnfold.kRegModeCurvature, ROOT.TUnfold.kEConstraintNone, ROOT.TUnfoldDensity.kDensityModeBinWidth)\n",
    "    tunfolder_data = ROOT.TUnfoldDensity(response,ROOT.TUnfold.kHistMapOutputVert,ROOT.TUnfold.kRegModeCurvature, ROOT.TUnfold.kEConstraintNone, ROOT.TUnfoldDensity.kDensityModeBinWidth)\n",
    "\n",
    "    print 'setting reco input'\n",
    "    tunfolder_data.SetInput( histMdetData )\n",
    "    tunfolder_data.SubtractBackground( histMdetMC_bkg, \"bkg_all\", 1. )\n",
    "\n",
    "    print 'setting reco MC input'\n",
    "    tunfolder_MC.SetInput( histMdetMC_sig )\n",
    "    #tunfolder_MC.SubtractBackground( histMdetMC_bkg, \"bkg_all\", 1. )\n",
    "\n",
    "    unfolded_data = tunfolder_data.DoUnfold(0.)\n",
    "    unfolded_data = tunfolder_data.GetOutput(\"unfolded_data\")\n",
    "\n",
    "    unfolded_MC = tunfolder_MC.DoUnfold(0.)\n",
    "    unfolded_MC = tunfolder_MC.GetOutput(\"closure_unfolded_MC\")\n",
    "\n",
    "\n",
    "    unfolded_MC.SetMarkerStyle(2)\n",
    "    unfolded_MC.SetMarkerColor(7)\n",
    "    unfolded_MC.SetLineColor(7)\n",
    "    unfolded_MC.SetLineWidth(1)\n",
    "    #unfolded_MC.Rebin(2)\n",
    "\n",
    "    unfolded_data.SetMarkerStyle(22)\n",
    "    unfolded_data.SetMarkerColor(1)\n",
    "    unfolded_data.SetLineColor(1)\n",
    "    unfolded_data.SetLineWidth(2)\n",
    "    #unfolded_data.Rebin(2)\n",
    "\n",
    "\n",
    "    histMgenMC_sig.SetMarkerStyle(5)\n",
    "    histMgenMC_sig.SetMarkerColor(2)\n",
    "    histMgenMC_sig.SetLineColor(2)\n",
    "    #histMgenMC_sig.Rebin(2)\n",
    "\n",
    "\n",
    "    hs = ROOT.THStack(\"#tau_{2,1}\", \"#tau_{2,1}\")\n",
    "    #hs.Add\n",
    "    #hs.SetMaximum(5500)\n",
    "    hs.Add( unfolded_MC, \"E HIST\")\n",
    "    hs.Add( unfolded_data, \"E \")\n",
    "    #hs.Add(histMgenMC_sig, \"E HIST\")\n",
    "\n",
    "    leg0 = ROOT.TLegend(0.35, 0.72, 0.9, 0.9)\n",
    "    leg0.SetTextSize(11)\n",
    "    leg0.AddEntry( unfolded_data, \"Data (2016)\", 'p')\n",
    "    #leg0.AddEntry( histMgenMC_sig, \"Generator-level (ttbar MC: Powheg+Pythia8)\", 'p')\n",
    "    #leg0.AddEntry( histMgenData, \"'Truth' (MC: MG5+Pythia8)\", 'p')\n",
    "    leg0.AddEntry( unfolded_MC, \"MC self-closure (ttbar Powheg)\", 'p')\n",
    "    leg0.SetLineColor(0)\n",
    "    leg0.SetBorderSize(0)\n",
    "    leg0.SetFillStyle(0)\n",
    "\n",
    "    #hs.Draw(\"nostack\")\n",
    "    #leg0.Draw()\n",
    "    \n",
    "    return hs, leg0"
   ]
  },
  {
   "cell_type": "markdown",
   "metadata": {
    "collapsed": true
   },
   "source": [
    "Draw the variables at reco and gen level and for \"data\""
   ]
  },
  {
   "cell_type": "code",
   "execution_count": 36,
   "metadata": {},
   "outputs": [],
   "source": [
    "ROOT.gStyle.SetOptStat(0)"
   ]
  },
  {
   "cell_type": "code",
   "execution_count": 37,
   "metadata": {
    "scrolled": true
   },
   "outputs": [
    {
     "name": "stdout",
     "output_type": "stream",
     "text": [
      "Gen-level bins 0 [0.   0.15 0.3  0.45 0.6  0.75 0.9  1.21]\n",
      "Detector-level bins 0 [0.    0.075 0.15  0.225 0.3   0.375 0.45  0.525 0.6   0.675 0.75  0.825\n",
      " 0.9   1.055 1.21 ]\n",
      "getting tunfolder:\n",
      "setting reco input\n",
      "setting reco MC input\n",
      "Gen-level bins 1 [0.     0.1125 0.225  0.3375 0.45   0.5625 0.675  0.7875 0.9    1.21  ]\n",
      "Detector-level bins 1 [0.      0.05625 0.1125  0.16875 0.225   0.28125 0.3375  0.39375 0.45\n",
      " 0.50625 0.5625  0.61875 0.675   0.73125 0.7875  0.84375 0.9     1.055\n",
      " 1.21   ]\n"
     ]
    },
    {
     "name": "stderr",
     "output_type": "stream",
     "text": [
      "/shome/kdatta/.local/lib/python2.7/site-packages/ipykernel_launcher.py:56: RuntimeWarning: invalid value encountered in divide\n",
      "/shome/kdatta/.local/lib/python2.7/site-packages/ipykernel_launcher.py:61: RuntimeWarning: invalid value encountered in divide\n"
     ]
    },
    {
     "name": "stdout",
     "output_type": "stream",
     "text": [
      "getting tunfolder:\n",
      "setting reco input\n",
      "setting reco MC input\n",
      "Gen-level bins 2 [0.   0.09 0.18 0.27 0.36 0.45 0.54 0.63 0.72 0.81 0.9  1.21]\n",
      "Detector-level bins 2 [0.    0.045 0.09  0.135 0.18  0.225 0.27  0.315 0.36  0.405 0.45  0.495\n",
      " 0.54  0.585 0.63  0.675 0.72  0.765 0.81  0.855 0.9   1.055 1.21 ]\n",
      "getting tunfolder:\n",
      "setting reco input\n",
      "setting reco MC input\n",
      "Gen-level bins 3 [0.     0.1125 0.225  0.3375 0.45   0.5625 0.675  0.7875 0.9    1.21  ]\n",
      "Detector-level bins 3 [0.      0.05625 0.1125  0.16875 0.225   0.28125 0.3375  0.39375 0.45\n",
      " 0.50625 0.5625  0.61875 0.675   0.73125 0.7875  0.84375 0.9     1.055\n",
      " 1.21   ]\n",
      "getting tunfolder:\n",
      "setting reco input\n",
      "setting reco MC input\n",
      "Gen-level bins 4 [0.   0.1  0.2  0.3  0.4  0.5  0.6  0.7  0.8  0.9  1.21]\n",
      "Detector-level bins 4 [0.    0.05  0.1   0.15  0.2   0.25  0.3   0.35  0.4   0.45  0.5   0.55\n",
      " 0.6   0.65  0.7   0.75  0.8   0.85  0.9   1.055 1.21 ]\n",
      "getting tunfolder:\n",
      "setting reco input\n",
      "setting reco MC input\n",
      "Gen-level bins 5 [0.   0.09 0.18 0.27 0.36 0.45 0.54 0.63 0.72 0.81 0.9  1.21]\n",
      "Detector-level bins 5 [0.    0.045 0.09  0.135 0.18  0.225 0.27  0.315 0.36  0.405 0.45  0.495\n",
      " 0.54  0.585 0.63  0.675 0.72  0.765 0.81  0.855 0.9   1.055 1.21 ]\n",
      "getting tunfolder:\n",
      "setting reco input\n",
      "setting reco MC input\n",
      "Gen-level bins 6 [0.     0.12   0.2175 0.315  0.4125 0.51   0.6075 0.705  0.8025 0.9\n",
      " 1.21  ]\n",
      "Detector-level bins 6 [0.      0.12    0.16875 0.2175  0.26625 0.315   0.36375 0.4125  0.46125\n",
      " 0.51    0.55875 0.6075  0.65625 0.705   0.75375 0.8025  0.85125 0.9\n",
      " 1.055   1.21   ]\n",
      "getting tunfolder:\n",
      "setting reco input\n",
      "setting reco MC input\n",
      "Gen-level bins 7 [0.    0.12  0.198 0.276 0.354 0.432 0.51  0.588 0.666 0.744 0.822 0.9\n",
      " 1.21 ]\n",
      "Detector-level bins 7 [0.    0.12  0.159 0.198 0.237 0.276 0.315 0.354 0.393 0.432 0.471 0.51\n",
      " 0.549 0.588 0.627 0.666 0.705 0.744 0.783 0.822 0.861 0.9   1.055 1.21 ]\n",
      "getting tunfolder:\n",
      "setting reco input\n",
      "setting reco MC input\n",
      "Gen-level bins 8 [0.    0.12  0.185 0.25  0.315 0.38  0.445 0.51  0.575 0.64  0.705 0.77\n",
      " 0.835 0.9   1.21 ]\n",
      "Detector-level bins 8 [0.     0.12   0.1525 0.185  0.2175 0.25   0.2825 0.315  0.3475 0.38\n",
      " 0.4125 0.445  0.4775 0.51   0.5425 0.575  0.6075 0.64   0.6725 0.705\n",
      " 0.7375 0.77   0.8025 0.835  0.8675 0.9    1.055  1.21  ]\n",
      "getting tunfolder:\n",
      "setting reco input\n",
      "setting reco MC input\n"
     ]
    },
    {
     "name": "stderr",
     "output_type": "stream",
     "text": [
      "Info in <TUnfold::SetConstraint>: fConstraint=0\n",
      "Info in <TUnfold::TUnfold>: underflow and overflow bin do not depend on the input data\n",
      "Info in <TUnfold::TUnfold>: 14 input bins and 7 output bins\n",
      "Info in <TUnfoldDensity::TUnfold>: *NOT* unfolding bin #0 (yaxis:#tau_{2,1}^{1}(gen_sig)[ufl])\n",
      "Info in <TUnfoldDensity::TUnfold>: *NOT* unfolding bin #8 (yaxis:#tau_{2,1}^{1}(gen_sig)[ofl])\n",
      "Info in <TUnfoldDensity::RegularizeOneDistribution>: regularizing yaxis regMode=3 densityMode=1 axisSteering=*[UOB]\n",
      "Info in <TUnfold::SetConstraint>: fConstraint=0\n",
      "Info in <TUnfold::TUnfold>: underflow and overflow bin do not depend on the input data\n",
      "Info in <TUnfold::TUnfold>: 14 input bins and 7 output bins\n",
      "Info in <TUnfoldDensity::TUnfold>: *NOT* unfolding bin #0 (yaxis:#tau_{2,1}^{1}(gen_sig)[ufl])\n",
      "Info in <TUnfoldDensity::TUnfold>: *NOT* unfolding bin #8 (yaxis:#tau_{2,1}^{1}(gen_sig)[ofl])\n",
      "Info in <TUnfoldDensity::RegularizeOneDistribution>: regularizing yaxis regMode=3 densityMode=1 axisSteering=*[UOB]\n",
      "Warning in <TROOT::Append>: Replacing existing TH1: histMgenMC_bkg (Potential memory leak).\n",
      "Warning in <TROOT::Append>: Replacing existing TH1: histMdetMC_bkg (Potential memory leak).\n",
      "Warning in <TROOT::Append>: Replacing existing TH1: histMgenMC_sig (Potential memory leak).\n",
      "Warning in <TROOT::Append>: Replacing existing TH1: histMdetMC_sig (Potential memory leak).\n",
      "Warning in <TROOT::Append>: Replacing existing TH1: histMdetData (Potential memory leak).\n",
      "Warning in <TROOT::Append>: Replacing existing TH1: response (Potential memory leak).\n",
      "Warning in <TROOT::Append>: Replacing existing TH1: purity (Potential memory leak).\n",
      "Warning in <TROOT::Append>: Replacing existing TH1: stability (Potential memory leak).\n",
      "Info in <TUnfold::SetConstraint>: fConstraint=0\n",
      "Info in <TUnfold::TUnfold>: underflow and overflow bin do not depend on the input data\n",
      "Info in <TUnfold::TUnfold>: 18 input bins and 9 output bins\n",
      "Info in <TUnfoldDensity::TUnfold>: *NOT* unfolding bin #0 (yaxis:#tau_{2,1}^{1}(gen_sig)[ufl])\n",
      "Info in <TUnfoldDensity::TUnfold>: *NOT* unfolding bin #10 (yaxis:#tau_{2,1}^{1}(gen_sig)[ofl])\n",
      "Info in <TUnfoldDensity::RegularizeOneDistribution>: regularizing yaxis regMode=3 densityMode=1 axisSteering=*[UOB]\n",
      "Info in <TUnfold::SetConstraint>: fConstraint=0\n",
      "Info in <TUnfold::TUnfold>: underflow and overflow bin do not depend on the input data\n",
      "Info in <TUnfold::TUnfold>: 18 input bins and 9 output bins\n",
      "Info in <TUnfoldDensity::TUnfold>: *NOT* unfolding bin #0 (yaxis:#tau_{2,1}^{1}(gen_sig)[ufl])\n",
      "Info in <TUnfoldDensity::TUnfold>: *NOT* unfolding bin #10 (yaxis:#tau_{2,1}^{1}(gen_sig)[ofl])\n",
      "Info in <TUnfoldDensity::RegularizeOneDistribution>: regularizing yaxis regMode=3 densityMode=1 axisSteering=*[UOB]\n",
      "Warning in <TROOT::Append>: Replacing existing TH1: unfolded_data (Potential memory leak).\n",
      "Warning in <TROOT::Append>: Replacing existing TH1: closure_unfolded_MC (Potential memory leak).\n",
      "Warning in <TROOT::Append>: Replacing existing TH1: histMgenMC_bkg (Potential memory leak).\n",
      "Warning in <TROOT::Append>: Replacing existing TH1: histMdetMC_bkg (Potential memory leak).\n",
      "Warning in <TROOT::Append>: Replacing existing TH1: histMgenMC_sig (Potential memory leak).\n",
      "Warning in <TROOT::Append>: Replacing existing TH1: histMdetMC_sig (Potential memory leak).\n",
      "Warning in <TROOT::Append>: Replacing existing TH1: histMdetData (Potential memory leak).\n",
      "Warning in <TROOT::Append>: Replacing existing TH1: response (Potential memory leak).\n",
      "Warning in <TROOT::Append>: Replacing existing TH1: purity (Potential memory leak).\n",
      "Warning in <TROOT::Append>: Replacing existing TH1: stability (Potential memory leak).\n",
      "Info in <TUnfold::SetConstraint>: fConstraint=0\n",
      "Info in <TUnfold::TUnfold>: underflow and overflow bin do not depend on the input data\n",
      "Info in <TUnfold::TUnfold>: 22 input bins and 11 output bins\n",
      "Info in <TUnfoldDensity::TUnfold>: *NOT* unfolding bin #0 (yaxis:#tau_{2,1}^{1}(gen_sig)[ufl])\n",
      "Info in <TUnfoldDensity::TUnfold>: *NOT* unfolding bin #12 (yaxis:#tau_{2,1}^{1}(gen_sig)[ofl])\n",
      "Info in <TUnfoldDensity::RegularizeOneDistribution>: regularizing yaxis regMode=3 densityMode=1 axisSteering=*[UOB]\n",
      "Info in <TUnfold::SetConstraint>: fConstraint=0\n",
      "Info in <TUnfold::TUnfold>: underflow and overflow bin do not depend on the input data\n",
      "Info in <TUnfold::TUnfold>: 22 input bins and 11 output bins\n",
      "Info in <TUnfoldDensity::TUnfold>: *NOT* unfolding bin #0 (yaxis:#tau_{2,1}^{1}(gen_sig)[ufl])\n",
      "Info in <TUnfoldDensity::TUnfold>: *NOT* unfolding bin #12 (yaxis:#tau_{2,1}^{1}(gen_sig)[ofl])\n",
      "Info in <TUnfoldDensity::RegularizeOneDistribution>: regularizing yaxis regMode=3 densityMode=1 axisSteering=*[UOB]\n",
      "Warning in <TUnfoldDensity::SetInput>: One input bin has zero error, and is ignored.\n",
      "Warning in <TROOT::Append>: Replacing existing TH1: unfolded_data (Potential memory leak).\n",
      "Warning in <TROOT::Append>: Replacing existing TH1: closure_unfolded_MC (Potential memory leak).\n",
      "Warning in <TROOT::Append>: Replacing existing TH1: histMgenMC_bkg (Potential memory leak).\n",
      "Warning in <TROOT::Append>: Replacing existing TH1: histMdetMC_bkg (Potential memory leak).\n",
      "Warning in <TROOT::Append>: Replacing existing TH1: histMgenMC_sig (Potential memory leak).\n",
      "Warning in <TROOT::Append>: Replacing existing TH1: histMdetMC_sig (Potential memory leak).\n",
      "Warning in <TROOT::Append>: Replacing existing TH1: histMdetData (Potential memory leak).\n",
      "Warning in <TROOT::Append>: Replacing existing TH1: response (Potential memory leak).\n",
      "Warning in <TROOT::Append>: Replacing existing TH1: purity (Potential memory leak).\n",
      "Warning in <TROOT::Append>: Replacing existing TH1: stability (Potential memory leak).\n",
      "Info in <TUnfold::SetConstraint>: fConstraint=0\n",
      "Info in <TUnfold::TUnfold>: underflow and overflow bin do not depend on the input data\n",
      "Info in <TUnfold::TUnfold>: 18 input bins and 9 output bins\n",
      "Info in <TUnfoldDensity::TUnfold>: *NOT* unfolding bin #0 (yaxis:#tau_{2,1}^{1}(gen_sig)[ufl])\n",
      "Info in <TUnfoldDensity::TUnfold>: *NOT* unfolding bin #10 (yaxis:#tau_{2,1}^{1}(gen_sig)[ofl])\n",
      "Info in <TUnfoldDensity::RegularizeOneDistribution>: regularizing yaxis regMode=3 densityMode=1 axisSteering=*[UOB]\n",
      "Info in <TUnfold::SetConstraint>: fConstraint=0\n",
      "Info in <TUnfold::TUnfold>: underflow and overflow bin do not depend on the input data\n",
      "Info in <TUnfold::TUnfold>: 18 input bins and 9 output bins\n",
      "Info in <TUnfoldDensity::TUnfold>: *NOT* unfolding bin #0 (yaxis:#tau_{2,1}^{1}(gen_sig)[ufl])\n",
      "Info in <TUnfoldDensity::TUnfold>: *NOT* unfolding bin #10 (yaxis:#tau_{2,1}^{1}(gen_sig)[ofl])\n",
      "Info in <TUnfoldDensity::RegularizeOneDistribution>: regularizing yaxis regMode=3 densityMode=1 axisSteering=*[UOB]\n",
      "Warning in <TROOT::Append>: Replacing existing TH1: unfolded_data (Potential memory leak).\n",
      "Warning in <TROOT::Append>: Replacing existing TH1: closure_unfolded_MC (Potential memory leak).\n",
      "Warning in <TROOT::Append>: Replacing existing TH1: histMgenMC_bkg (Potential memory leak).\n",
      "Warning in <TROOT::Append>: Replacing existing TH1: histMdetMC_bkg (Potential memory leak).\n",
      "Warning in <TROOT::Append>: Replacing existing TH1: histMgenMC_sig (Potential memory leak).\n",
      "Warning in <TROOT::Append>: Replacing existing TH1: histMdetMC_sig (Potential memory leak).\n",
      "Warning in <TROOT::Append>: Replacing existing TH1: histMdetData (Potential memory leak).\n",
      "Warning in <TROOT::Append>: Replacing existing TH1: response (Potential memory leak).\n",
      "Warning in <TROOT::Append>: Replacing existing TH1: purity (Potential memory leak).\n",
      "Warning in <TROOT::Append>: Replacing existing TH1: stability (Potential memory leak).\n",
      "Info in <TUnfold::SetConstraint>: fConstraint=0\n",
      "Info in <TUnfold::TUnfold>: underflow and overflow bin do not depend on the input data\n",
      "Info in <TUnfold::TUnfold>: 20 input bins and 10 output bins\n",
      "Info in <TUnfoldDensity::TUnfold>: *NOT* unfolding bin #0 (yaxis:#tau_{2,1}^{1}(gen_sig)[ufl])\n",
      "Info in <TUnfoldDensity::TUnfold>: *NOT* unfolding bin #11 (yaxis:#tau_{2,1}^{1}(gen_sig)[ofl])\n",
      "Info in <TUnfoldDensity::RegularizeOneDistribution>: regularizing yaxis regMode=3 densityMode=1 axisSteering=*[UOB]\n",
      "Info in <TUnfold::SetConstraint>: fConstraint=0\n",
      "Info in <TUnfold::TUnfold>: underflow and overflow bin do not depend on the input data\n",
      "Info in <TUnfold::TUnfold>: 20 input bins and 10 output bins\n",
      "Info in <TUnfoldDensity::TUnfold>: *NOT* unfolding bin #0 (yaxis:#tau_{2,1}^{1}(gen_sig)[ufl])\n",
      "Info in <TUnfoldDensity::TUnfold>: *NOT* unfolding bin #11 (yaxis:#tau_{2,1}^{1}(gen_sig)[ofl])\n",
      "Info in <TUnfoldDensity::RegularizeOneDistribution>: regularizing yaxis regMode=3 densityMode=1 axisSteering=*[UOB]\n",
      "Warning in <TUnfoldDensity::SetInput>: One input bin has zero error, and is ignored.\n",
      "Warning in <TROOT::Append>: Replacing existing TH1: unfolded_data (Potential memory leak).\n",
      "Warning in <TROOT::Append>: Replacing existing TH1: closure_unfolded_MC (Potential memory leak).\n",
      "Warning in <TROOT::Append>: Replacing existing TH1: histMgenMC_bkg (Potential memory leak).\n",
      "Warning in <TROOT::Append>: Replacing existing TH1: histMdetMC_bkg (Potential memory leak).\n",
      "Warning in <TROOT::Append>: Replacing existing TH1: histMgenMC_sig (Potential memory leak).\n",
      "Warning in <TROOT::Append>: Replacing existing TH1: histMdetMC_sig (Potential memory leak).\n",
      "Warning in <TROOT::Append>: Replacing existing TH1: histMdetData (Potential memory leak).\n",
      "Warning in <TROOT::Append>: Replacing existing TH1: response (Potential memory leak).\n",
      "Warning in <TROOT::Append>: Replacing existing TH1: purity (Potential memory leak).\n",
      "Warning in <TROOT::Append>: Replacing existing TH1: stability (Potential memory leak).\n",
      "Info in <TUnfold::SetConstraint>: fConstraint=0\n",
      "Info in <TUnfold::TUnfold>: underflow and overflow bin do not depend on the input data\n",
      "Info in <TUnfold::TUnfold>: 22 input bins and 11 output bins\n",
      "Info in <TUnfoldDensity::TUnfold>: *NOT* unfolding bin #0 (yaxis:#tau_{2,1}^{1}(gen_sig)[ufl])\n",
      "Info in <TUnfoldDensity::TUnfold>: *NOT* unfolding bin #12 (yaxis:#tau_{2,1}^{1}(gen_sig)[ofl])\n",
      "Info in <TUnfoldDensity::RegularizeOneDistribution>: regularizing yaxis regMode=3 densityMode=1 axisSteering=*[UOB]\n",
      "Info in <TUnfold::SetConstraint>: fConstraint=0\n",
      "Info in <TUnfold::TUnfold>: underflow and overflow bin do not depend on the input data\n",
      "Info in <TUnfold::TUnfold>: 22 input bins and 11 output bins\n",
      "Info in <TUnfoldDensity::TUnfold>: *NOT* unfolding bin #0 (yaxis:#tau_{2,1}^{1}(gen_sig)[ufl])\n",
      "Info in <TUnfoldDensity::TUnfold>: *NOT* unfolding bin #12 (yaxis:#tau_{2,1}^{1}(gen_sig)[ofl])\n",
      "Info in <TUnfoldDensity::RegularizeOneDistribution>: regularizing yaxis regMode=3 densityMode=1 axisSteering=*[UOB]\n",
      "Warning in <TUnfoldDensity::SetInput>: One input bin has zero error, and is ignored.\n",
      "Warning in <TROOT::Append>: Replacing existing TH1: unfolded_data (Potential memory leak).\n",
      "Warning in <TROOT::Append>: Replacing existing TH1: closure_unfolded_MC (Potential memory leak).\n",
      "Warning in <TROOT::Append>: Replacing existing TH1: histMgenMC_bkg (Potential memory leak).\n",
      "Warning in <TROOT::Append>: Replacing existing TH1: histMdetMC_bkg (Potential memory leak).\n",
      "Warning in <TROOT::Append>: Replacing existing TH1: histMgenMC_sig (Potential memory leak).\n",
      "Warning in <TROOT::Append>: Replacing existing TH1: histMdetMC_sig (Potential memory leak).\n",
      "Warning in <TROOT::Append>: Replacing existing TH1: histMdetData (Potential memory leak).\n",
      "Warning in <TROOT::Append>: Replacing existing TH1: response (Potential memory leak).\n",
      "Warning in <TROOT::Append>: Replacing existing TH1: purity (Potential memory leak).\n",
      "Warning in <TROOT::Append>: Replacing existing TH1: stability (Potential memory leak).\n",
      "Info in <TUnfold::SetConstraint>: fConstraint=0\n",
      "Info in <TUnfold::TUnfold>: underflow and overflow bin do not depend on the input data\n",
      "Info in <TUnfold::TUnfold>: 19 input bins and 10 output bins\n",
      "Info in <TUnfoldDensity::TUnfold>: *NOT* unfolding bin #0 (yaxis:#tau_{2,1}^{1}(gen_sig)[ufl])\n",
      "Info in <TUnfoldDensity::TUnfold>: *NOT* unfolding bin #11 (yaxis:#tau_{2,1}^{1}(gen_sig)[ofl])\n",
      "Info in <TUnfoldDensity::RegularizeOneDistribution>: regularizing yaxis regMode=3 densityMode=1 axisSteering=*[UOB]\n",
      "Info in <TUnfold::SetConstraint>: fConstraint=0\n",
      "Info in <TUnfold::TUnfold>: underflow and overflow bin do not depend on the input data\n",
      "Info in <TUnfold::TUnfold>: 19 input bins and 10 output bins\n",
      "Info in <TUnfoldDensity::TUnfold>: *NOT* unfolding bin #0 (yaxis:#tau_{2,1}^{1}(gen_sig)[ufl])\n",
      "Info in <TUnfoldDensity::TUnfold>: *NOT* unfolding bin #11 (yaxis:#tau_{2,1}^{1}(gen_sig)[ofl])\n",
      "Info in <TUnfoldDensity::RegularizeOneDistribution>: regularizing yaxis regMode=3 densityMode=1 axisSteering=*[UOB]\n",
      "Warning in <TROOT::Append>: Replacing existing TH1: unfolded_data (Potential memory leak).\n",
      "Warning in <TROOT::Append>: Replacing existing TH1: closure_unfolded_MC (Potential memory leak).\n",
      "Warning in <TROOT::Append>: Replacing existing TH1: histMgenMC_bkg (Potential memory leak).\n",
      "Warning in <TROOT::Append>: Replacing existing TH1: histMdetMC_bkg (Potential memory leak).\n",
      "Warning in <TROOT::Append>: Replacing existing TH1: histMgenMC_sig (Potential memory leak).\n",
      "Warning in <TROOT::Append>: Replacing existing TH1: histMdetMC_sig (Potential memory leak).\n",
      "Warning in <TROOT::Append>: Replacing existing TH1: histMdetData (Potential memory leak).\n",
      "Warning in <TROOT::Append>: Replacing existing TH1: response (Potential memory leak).\n",
      "Warning in <TROOT::Append>: Replacing existing TH1: purity (Potential memory leak).\n",
      "Warning in <TROOT::Append>: Replacing existing TH1: stability (Potential memory leak).\n",
      "Info in <TUnfold::SetConstraint>: fConstraint=0\n",
      "Info in <TUnfold::TUnfold>: underflow and overflow bin do not depend on the input data\n",
      "Info in <TUnfold::TUnfold>: 23 input bins and 12 output bins\n",
      "Info in <TUnfoldDensity::TUnfold>: *NOT* unfolding bin #0 (yaxis:#tau_{2,1}^{1}(gen_sig)[ufl])\n",
      "Info in <TUnfoldDensity::TUnfold>: *NOT* unfolding bin #13 (yaxis:#tau_{2,1}^{1}(gen_sig)[ofl])\n",
      "Info in <TUnfoldDensity::RegularizeOneDistribution>: regularizing yaxis regMode=3 densityMode=1 axisSteering=*[UOB]\n",
      "Info in <TUnfold::SetConstraint>: fConstraint=0\n",
      "Info in <TUnfold::TUnfold>: underflow and overflow bin do not depend on the input data\n",
      "Info in <TUnfold::TUnfold>: 23 input bins and 12 output bins\n",
      "Info in <TUnfoldDensity::TUnfold>: *NOT* unfolding bin #0 (yaxis:#tau_{2,1}^{1}(gen_sig)[ufl])\n",
      "Info in <TUnfoldDensity::TUnfold>: *NOT* unfolding bin #13 (yaxis:#tau_{2,1}^{1}(gen_sig)[ofl])\n",
      "Info in <TUnfoldDensity::RegularizeOneDistribution>: regularizing yaxis regMode=3 densityMode=1 axisSteering=*[UOB]\n",
      "Warning in <TROOT::Append>: Replacing existing TH1: unfolded_data (Potential memory leak).\n",
      "Warning in <TROOT::Append>: Replacing existing TH1: closure_unfolded_MC (Potential memory leak).\n",
      "Warning in <TROOT::Append>: Replacing existing TH1: histMgenMC_bkg (Potential memory leak).\n",
      "Warning in <TROOT::Append>: Replacing existing TH1: histMdetMC_bkg (Potential memory leak).\n",
      "Warning in <TROOT::Append>: Replacing existing TH1: histMgenMC_sig (Potential memory leak).\n",
      "Warning in <TROOT::Append>: Replacing existing TH1: histMdetMC_sig (Potential memory leak).\n",
      "Warning in <TROOT::Append>: Replacing existing TH1: histMdetData (Potential memory leak).\n",
      "Warning in <TROOT::Append>: Replacing existing TH1: response (Potential memory leak).\n",
      "Warning in <TROOT::Append>: Replacing existing TH1: purity (Potential memory leak).\n",
      "Warning in <TROOT::Append>: Replacing existing TH1: stability (Potential memory leak).\n",
      "Info in <TUnfold::SetConstraint>: fConstraint=0\n",
      "Info in <TUnfold::TUnfold>: underflow and overflow bin do not depend on the input data\n",
      "Info in <TUnfold::TUnfold>: 27 input bins and 14 output bins\n",
      "Info in <TUnfoldDensity::TUnfold>: *NOT* unfolding bin #0 (yaxis:#tau_{2,1}^{1}(gen_sig)[ufl])\n",
      "Info in <TUnfoldDensity::TUnfold>: *NOT* unfolding bin #15 (yaxis:#tau_{2,1}^{1}(gen_sig)[ofl])\n",
      "Info in <TUnfoldDensity::RegularizeOneDistribution>: regularizing yaxis regMode=3 densityMode=1 axisSteering=*[UOB]\n",
      "Info in <TUnfold::SetConstraint>: fConstraint=0\n",
      "Info in <TUnfold::TUnfold>: underflow and overflow bin do not depend on the input data\n",
      "Info in <TUnfold::TUnfold>: 27 input bins and 14 output bins\n",
      "Info in <TUnfoldDensity::TUnfold>: *NOT* unfolding bin #0 (yaxis:#tau_{2,1}^{1}(gen_sig)[ufl])\n",
      "Info in <TUnfoldDensity::TUnfold>: *NOT* unfolding bin #15 (yaxis:#tau_{2,1}^{1}(gen_sig)[ofl])\n",
      "Info in <TUnfoldDensity::RegularizeOneDistribution>: regularizing yaxis regMode=3 densityMode=1 axisSteering=*[UOB]\n",
      "Warning in <TROOT::Append>: Replacing existing TH1: unfolded_data (Potential memory leak).\n",
      "Warning in <TROOT::Append>: Replacing existing TH1: closure_unfolded_MC (Potential memory leak).\n"
     ]
    }
   ],
   "source": [
    "purities = []\n",
    "stabilities = []\n",
    "h_unfoldings = [] \n",
    "h_responses = []\n",
    "\n",
    "h_purities = ROOT.THStack(\"purities\",\"purities\")\n",
    "h_stabilities = ROOT.THStack(\"stabilities\",\"stabilities\")\n",
    "legus = []\n",
    "\n",
    "leg_p = ROOT.TLegend(0.75, 0.5, 0.9, 0.9)\n",
    "leg_p.SetLineColor(0)\n",
    "leg_p.SetBorderSize(0)\n",
    "leg_p.SetFillStyle(0)\n",
    "\n",
    "leg_s = ROOT.TLegend(0.75, 0.5, 0.9, 0.9)\n",
    "leg_s.SetLineColor(0)\n",
    "leg_s.SetBorderSize(0)\n",
    "leg_s.SetFillStyle(0)\n",
    "\n",
    "for i in xrange(len(det_bins_arr)):\n",
    "    k=i\n",
    "    gen_bins = gen_bins_arr[i]\n",
    "    det_bins = det_bins_arr[i]\n",
    "    \n",
    "    histMgenMC_bkg, histMdetMC_bkg, histMgenMC_sig, histMdetMC_sig, histMdetData, response = fill_hists(gen_bins, det_bins,\n",
    "                                                                                              MC_sig_reco_tau21, MC_sig_gen_tau21,\n",
    "                                                                                              MC_bkg_reco_tau21, MC_bkg_gen_tau21,\n",
    "                                                                                              data_tau21);\n",
    "    response.SetTitle(\"Response Matrix #tau_{2,1}^{E-sch.} binning %d\"%(i+1))\n",
    "    h_responses.append(response)\n",
    "    print \"Gen-level bins %d\"%i, gen_bins\n",
    "    print \"Detector-level bins %d\"%i, det_bins\n",
    "    '''\n",
    "    c0 = ROOT.TCanvas(\"chistMgenMC_sig1\", \"chistMgenMC_sig1\")\n",
    "    histMgenMC_sig.Draw(\"e\")\n",
    "    histMdetMC_sig.SetLineColor(ROOT.kRed+i)\n",
    "    histMdetMC_sig.Draw(\"e same\")\n",
    "    c0.Update()\n",
    "    c0.Draw()\n",
    "    c0.Print()\n",
    "    \n",
    "    \n",
    "    c1 = ROOT.TCanvas(\"chistMgenMC_bkg1\", \"chistMgenMC_bkg1\")\n",
    "    histMgenMC_bkg.Draw(\"e\")\n",
    "    histMdetMC_bkg.SetLineColor(ROOT.kRed+i)\n",
    "    histMdetMC_bkg.Draw(\"e same\")\n",
    "    c1.Update()\n",
    "    c1.Draw()\n",
    "    c1.Print()\n",
    "    \n",
    "    c2 = ROOT.TCanvas(\"chistMgenMC_sig1\", \"chistMgenMC_sig1\")\n",
    "    histMdetData.Draw(\"e \")\n",
    "    c2.Update()\n",
    "    c2.Draw()\n",
    "    c2.Print()\n",
    "    \n",
    "    c3 = ROOT.TCanvas(\"cresponse1\", \"cresponse1\")\n",
    "    response.Draw(\"colz\")\n",
    "    c3.Update()\n",
    "    c3.Draw()\n",
    "    c3.Print()\n",
    "    '''\n",
    "    purity, stability = purity_stability_calc(gen_bins, MC_sig_gen_tau21, det_bins, MC_sig_reco_tau21, verbose=False );\n",
    "    \n",
    "    if k==9:\n",
    "        k=ROOT.kGreen+9\n",
    "    purity.SetTitle(\"purity %d\"%(i+1))\n",
    "    #purity.SetLineStyle(i)\n",
    "    purity.SetLineColor(k+1)\n",
    "    \n",
    "    stability.SetTitle(\"stability %d\"%(i+1))\n",
    "    #stability.SetLineStyle(i)\n",
    "    stability.SetLineColor(k+1)\n",
    "    \n",
    "    purities.append(purity)\n",
    "    stabilities.append(stability)\n",
    "    \n",
    "    h_purities.Add(purity)\n",
    "    h_stabilities.Add(stability)\n",
    "    \n",
    "    leg_s.AddEntry( stability, \"bins%d\"%(i+1))\n",
    "    leg_p.AddEntry( purity, \"bins%d\"%(i+1))\n",
    "    \n",
    "    hu, legu = doUnfolding(response, histMdetData, histMdetMC_sig, histMdetMC_bkg, histMgenMC_sig)\n",
    "    hu.SetTitle(\"#tau_{2,1}^{E-sch.} binning %d\"%(i+1))\n",
    "    h_unfoldings.append(hu)\n",
    "    legus.append(legu)"
   ]
  },
  {
   "cell_type": "code",
   "execution_count": 38,
   "metadata": {
    "scrolled": true
   },
   "outputs": [
    {
     "name": "stderr",
     "output_type": "stream",
     "text": [
      "Info in <TCanvas::Print>: png file Purities_tau21_Escheme_Wsel_powheg.png has been created\n"
     ]
    }
   ],
   "source": [
    "cpse = ROOT.TCanvas(\"pse_ttbar\", \"pse_ttbar\", )\n",
    "#cpse.cd()\n",
    "h_purities.Draw(\"nostack\")\n",
    "leg_p.Draw()\n",
    "#cpse.Draw()\n",
    "cpse.SaveAs(\"Purities_tau21_Escheme_Wsel_powheg.png\")\n",
    "#cpse.Print()\n",
    "#cpse.Delete()"
   ]
  },
  {
   "cell_type": "code",
   "execution_count": 39,
   "metadata": {},
   "outputs": [
    {
     "name": "stderr",
     "output_type": "stream",
     "text": [
      "Info in <TCanvas::Print>: png file Stabilities_tau21_Escheme_Wsel_powheg.png has been created\n"
     ]
    }
   ],
   "source": [
    "cpse1 = ROOT.TCanvas(\"pse1_ttbar\", \"pse1_ttbar\", )\n",
    "h_stabilities.Draw(\"nostack\")\n",
    "leg_s.Draw()\n",
    "#cpse1.Draw()\n",
    "#cpse1.Draw()\n",
    "cpse1.SaveAs(\"Stabilities_tau21_Escheme_Wsel_powheg.png\")\n",
    "#cpse1.Print()"
   ]
  },
  {
   "cell_type": "code",
   "execution_count": 40,
   "metadata": {
    "scrolled": true
   },
   "outputs": [
    {
     "ename": "SystemError",
     "evalue": "void TPad::SaveAs(const char* filename = \"\", const char* option = \"\") =>\n    problem in C++; program state has been reset",
     "output_type": "error",
     "traceback": [
      "\u001b[0;31m\u001b[0m",
      "\u001b[0;31mSystemError\u001b[0mTraceback (most recent call last)",
      "\u001b[0;32m<ipython-input-40-1e0add9d3920>\u001b[0m in \u001b[0;36m<module>\u001b[0;34m()\u001b[0m\n\u001b[1;32m     13\u001b[0m \u001b[0mc5\u001b[0m\u001b[0;34m.\u001b[0m\u001b[0mSaveAs\u001b[0m\u001b[0;34m(\u001b[0m\u001b[0;34m\"Tau21_unfoldings_Escheme_Wsel_powheg.png\"\u001b[0m\u001b[0;34m)\u001b[0m\u001b[0;34m\u001b[0m\u001b[0m\n\u001b[1;32m     14\u001b[0m \u001b[0;31m#time.sleep(5)\u001b[0m\u001b[0;34m\u001b[0m\u001b[0;34m\u001b[0m\u001b[0m\n\u001b[0;32m---> 15\u001b[0;31m \u001b[0mc5\u001b[0m\u001b[0;34m.\u001b[0m\u001b[0mSaveAs\u001b[0m\u001b[0;34m(\u001b[0m\u001b[0;34m\"Tau21_unfoldings_Escheme_Wsel_powheg.pdf\"\u001b[0m\u001b[0;34m)\u001b[0m\u001b[0;34m\u001b[0m\u001b[0m\n\u001b[0m",
      "\u001b[0;31mSystemError\u001b[0m: void TPad::SaveAs(const char* filename = \"\", const char* option = \"\") =>\n    problem in C++; program state has been reset"
     ]
    },
    {
     "name": "stderr",
     "output_type": "stream",
     "text": [
      "Info in <TCanvas::Print>: png file Tau21_unfoldings_Escheme_Wsel_powheg.png has been created\n",
      "\n",
      " *** Break *** segmentation violation\n"
     ]
    }
   ],
   "source": [
    "import time\n",
    "#hs = []\n",
    "c5 = ROOT.TCanvas('c5', 'c5', 1200, 1080)\n",
    "c5.Divide(3,3)\n",
    "for i in xrange(len(h_unfoldings)):\n",
    "    c5.cd(i+1)\n",
    "    h_unfoldings[i].Draw(\"nostack\")\n",
    "    legus[i].Draw()\n",
    "    #time.sleep(1)\n",
    "\n",
    "#c5.Draw()\n",
    "#time.sleep(2)\n",
    "c5.SaveAs(\"Tau21_unfoldings_Escheme_Wsel_powheg.png\")\n",
    "#time.sleep(5)\n",
    "c5.SaveAs(\"Tau21_unfoldings_Escheme_Wsel_powheg.pdf\")"
   ]
  },
  {
   "cell_type": "code",
   "execution_count": 41,
   "metadata": {
    "scrolled": false
   },
   "outputs": [
    {
     "ename": "SystemError",
     "evalue": "void TPad::SaveAs(const char* filename = \"\", const char* option = \"\") =>\n    problem in C++; program state has been reset",
     "output_type": "error",
     "traceback": [
      "\u001b[0;31m\u001b[0m",
      "\u001b[0;31mSystemError\u001b[0mTraceback (most recent call last)",
      "\u001b[0;32m<ipython-input-41-c79fb4c79431>\u001b[0m in \u001b[0;36m<module>\u001b[0;34m()\u001b[0m\n\u001b[1;32m      6\u001b[0m \u001b[0;34m\u001b[0m\u001b[0m\n\u001b[1;32m      7\u001b[0m \u001b[0;31m#c6.Draw()\u001b[0m\u001b[0;34m\u001b[0m\u001b[0;34m\u001b[0m\u001b[0m\n\u001b[0;32m----> 8\u001b[0;31m \u001b[0mc6\u001b[0m\u001b[0;34m.\u001b[0m\u001b[0mSaveAs\u001b[0m\u001b[0;34m(\u001b[0m\u001b[0;34m\"Tau21_responses_Escheme_Wsel_powheg.png\"\u001b[0m\u001b[0;34m)\u001b[0m\u001b[0;34m\u001b[0m\u001b[0m\n\u001b[0m\u001b[1;32m      9\u001b[0m \u001b[0mc6\u001b[0m\u001b[0;34m.\u001b[0m\u001b[0mSaveAs\u001b[0m\u001b[0;34m(\u001b[0m\u001b[0;34m\"Tau21_responses_Escheme_Wsel_powheg.pdf\"\u001b[0m\u001b[0;34m)\u001b[0m\u001b[0;34m\u001b[0m\u001b[0m\n",
      "\u001b[0;31mSystemError\u001b[0m: void TPad::SaveAs(const char* filename = \"\", const char* option = \"\") =>\n    problem in C++; program state has been reset"
     ]
    },
    {
     "name": "stderr",
     "output_type": "stream",
     "text": [
      "\n",
      " *** Break *** segmentation violation\n"
     ]
    }
   ],
   "source": [
    "c6 = ROOT.TCanvas('c6', 'c6',1200, 1080)\n",
    "c6.Divide(3,3)\n",
    "for i in xrange(len(h_responses)):\n",
    "    c6.cd(i+1)\n",
    "    h_responses[i].Draw(\"colz\")\n",
    "    \n",
    "#c6.Draw()\n",
    "c6.SaveAs(\"Tau21_responses_Escheme_Wsel_powheg.png\")\n",
    "c6.SaveAs(\"Tau21_responses_Escheme_Wsel_powheg.pdf\")"
   ]
  },
  {
   "cell_type": "markdown",
   "metadata": {
    "collapsed": true
   },
   "source": [
    "Set the input, a 1D reconstructed histogram from either MC_sig (closure) or Data (measurement) , binned in the detector level binning. Subtract background contributions from data, using reco-MC bkg."
   ]
  },
  {
   "cell_type": "raw",
   "metadata": {},
   "source": [
    "Unfold nScan times with values for the regularization parameter between tauMin and tauMax using the empty TSplines to store the results."
   ]
  },
  {
   "cell_type": "raw",
   "metadata": {
    "scrolled": true
   },
   "source": [
    "print 'regularizing'\n",
    "nScan=50\n",
    "tauMin=-5.0\n",
    "tauMax=3.0\n",
    "iBest=0\n",
    "\n",
    "logTauX = ROOT.MakeNullPointer(ROOT.TSpline)\n",
    "logTauY = ROOT.MakeNullPointer(ROOT.TSpline)\n",
    "lCurve = ROOT.MakeNullPointer(ROOT.TGraph)\n",
    "\n",
    "print 'doing the unfolding'\n",
    "tunfolder.ScanLcurve(nScan,tauMin,tauMax,lCurve,logTauX,logTauY);\n",
    "print 'getting the results'\n",
    "unfolded = tunfolder.GetOutput(\"unfolded\")"
   ]
  },
  {
   "cell_type": "code",
   "execution_count": 68,
   "metadata": {},
   "outputs": [],
   "source": [
    "ROOT.gStyle.SetOptStat(0)"
   ]
  },
  {
   "cell_type": "code",
   "execution_count": 69,
   "metadata": {
    "collapsed": true
   },
   "outputs": [
    {
     "name": "stderr",
     "output_type": "stream",
     "text": [
      "Warning in <TCanvas::Constructor>: Deleting canvas with same name: c5\n",
      "Info in <TCanvas::Print>: png file Tau21_unfolding_Escheme_bkgsub_bno1.png has been created\n",
      "Info in <TCanvas::Print>: pdf file Tau21_unfolding_Escheme_bkgsub_bno1.pdf has been created\n"
     ]
    },
    {
     "data": {
      "image/png": "[encoded data removed]",
      "text/plain": [
       "<IPython.core.display.Image object>"
      ]
     },
     "metadata": {},
     "output_type": "display_data"
    }
   ],
   "source": [
    "c5 = ROOT.TCanvas('c5', 'c5')\n",
    "\n",
    "unfolded_MC.SetMarkerStyle(2)\n",
    "unfolded_MC.SetMarkerColor(7)\n",
    "unfolded_MC.SetLineColor(7)\n",
    "unfolded_MC.SetLineWidth(1)\n",
    "#unfolded_MC.Rebin(2)\n",
    "\n",
    "unfolded_data.SetMarkerStyle(22)\n",
    "unfolded_data.SetMarkerColor(1)\n",
    "unfolded_data.SetLineColor(1)\n",
    "unfolded_data.SetLineWidth(2)\n",
    "#unfolded_data.Rebin(2)\n",
    "\n",
    "#unfolded_MC.SetFillColor(0)\n",
    "#histMgenData.SetMarkerStyle(4)\n",
    "#histMgenData.SetMarkerColor(2)\n",
    "#histMgenData.SetOption(\"E\")\n",
    "#histMgenData.SetLineColor(2)\n",
    "histMgenMC_sig.SetMarkerStyle(5)\n",
    "histMgenMC_sig.SetMarkerColor(2)\n",
    "histMgenMC_sig.SetLineColor(2)\n",
    "#histMgenMC_sig.Rebin(2)\n",
    "\n",
    "\n",
    "hs = ROOT.THStack(\"#tau_{2,1}\", \"#tau_{2,1}\")\n",
    "#hs.Add\n",
    "#hs.SetMaximum(5500)\n",
    "#hs.Add( histMgenData, \"E HIST\")\n",
    "hs.Add( unfolded_MC, \"E HIST\")\n",
    "hs.Add( unfolded_data, \"E \")\n",
    "hs.Add(histMgenMC_sig, \"E HIST\")\n",
    "#hs.Add(histMdetMC_sig, \"E\")\n",
    "#hs.Add(histMdetData, \"E\")\n",
    "\n",
    "leg0 = ROOT.TLegend(0.35, 0.75, 0.91, 0.86)\n",
    "leg0.AddEntry( unfolded_data, \"Data (2016)\", 'p')\n",
    "leg0.AddEntry( histMgenMC_sig, \"Generator-level (ttbar MC: Powheg+Pythia8)\", 'p')\n",
    "#leg0.AddEntry( histMgenData, \"'Truth' (MC: MG5+Pythia8)\", 'p')\n",
    "leg0.AddEntry( unfolded_MC, \"Unfolding_self-closure (ttbar MC: Powheg+Pythia8)\", 'p')\n",
    "leg0.SetLineColor(0)\n",
    "leg0.SetBorderSize(0)\n",
    "leg0.SetFillStyle(0)\n",
    "\n",
    "#hs.Add(histMdetMC, \"E\")\n",
    "#hs.Add(histMdetData, \"E\")\n",
    "hs.Draw(\"nostack\")\n",
    "leg0.Draw()\n",
    "\n",
    "c5.Draw()\n",
    "c5.SaveAs(\"Tau21_unfolding_Escheme_bkgsub_bno1.png\")\n",
    "c5.SaveAs(\"Tau21_unfolding_Escheme_bkgsub_bno1.pdf\")"
   ]
  },
  {
   "cell_type": "code",
   "execution_count": null,
   "metadata": {},
   "outputs": [],
   "source": []
  },
  {
   "cell_type": "code",
   "execution_count": 52,
   "metadata": {
    "collapsed": true
   },
   "outputs": [
    {
     "name": "stdout",
     "output_type": "stream",
     "text": [
      "Bin Content \tBin error \tBin Center \tBin Low-Edge \tRatio to Truth for bin \tRatio Error\n",
      "78.2050 \t18.8737 \t0.05 \t0.0 0.0000 0.0000\n",
      "1939.3041 \t161.9482 \t0.145 \t0.1 0.0000 0.0000\n",
      "3273.1253 \t393.2074 \t0.235 \t0.19 0.0000 0.0000\n",
      "2785.4308 \t442.6589 \t0.325 \t0.28 0.0000 0.0000\n",
      "2202.7038 \t466.7021 \t0.415 \t0.37 0.0000 0.0000\n",
      "1566.9839 \t382.7668 \t0.505 \t0.46 0.0000 0.0000\n",
      "1064.0852 \t195.3017 \t0.595 \t0.55 0.0000 0.0000\n",
      "586.1944 \t126.3080 \t0.685 \t0.64 0.0000 0.0000\n",
      "272.8714 \t91.7365 \t0.775 \t0.73 0.0000 0.0000\n",
      "86.0563 \t34.3651 \t0.865 \t0.82 0.0000 0.0000\n",
      "46.1773 \t18.8835 \t1.11 \t0.91 0.0000 0.0000\n",
      "0.0000 \t0.0000 \t1.36954545455 \t1.31 0.0000 0.0000\n",
      "0.0000 \t0.0000 \t1.48863636364 \t1.42909090909 0.0000 0.0000\n",
      "0.0000 \t0.0000 \t1.60772727273 \t1.54818181818 0.0000 0.0000\n",
      "0.0000 \t0.0000 \t1.72681818182 \t1.66727272727 0.0000 0.0000\n",
      "0.0000 \t0.0000 \t1.84590909091 \t1.78636363636 0.0000 0.0000\n",
      "0.0000 \t0.0000 \t1.965 \t1.90545454545 0.0000 0.0000\n",
      "0.0000 \t0.0000 \t2.08409090909 \t2.02454545455 0.0000 0.0000\n",
      "0.0000 \t0.0000 \t2.20318181818 \t2.14363636364 0.0000 0.0000\n",
      "0.0000 \t0.0000 \t2.32227272727 \t2.26272727273 0.0000 0.0000\n",
      "0.0000 \t0.0000 \t2.44136363636 \t2.38181818182 0.0000 0.0000\n",
      "0.0000 \t0.0000 \t2.56045454545 \t2.50090909091 0.0000 0.0000\n"
     ]
    },
    {
     "name": "stderr",
     "output_type": "stream",
     "text": [
      "Info in <TH1D::Add>: Attempt to add histograms with different number of bins - trying to use TH1::Merge\n",
      "Error in <Merge>: Cannot merge histograms - limits are inconsistent:\n",
      " first:  (22, 0.000000, 1.310000), second: unfolded_MC (11, 0.000000, 1.310000)\n",
      "Error in <TH1D::Divide>: Cannot divide histograms with different number of bins\n"
     ]
    }
   ],
   "source": [
    "ratio = ROOT.TH1D(\"\",\"; #tau_{2,1}^{(1)}\",  gen_bins.shape[0]-1, (gen_bins))\n",
    "ratio.GetXaxis().SetTitle(\"#tau_{2,1}^{(1)}\");\n",
    "#ratio.GetYaxis().SetTitleOffset(0.);\n",
    "ratio.GetYaxis().CenterTitle(ROOT.kTRUE);\n",
    "ratio.GetXaxis().CenterTitle(ROOT.kTRUE);\n",
    "ratio.GetYaxis().SetRangeUser(0.7,1.3)\n",
    "ratio.Add(unfolded_MC)\n",
    "ratio.GetYaxis().SetTitle(\"#frac{Unfolded Powheg}{Gen-level Powheg}\")\n",
    "ratio.Sumw2()\n",
    "ratio.SetStats(0)\n",
    "ratio.Divide(histMgenMC_sig);\n",
    "ratio.GetYaxis().SetLabelSize(0.09)\n",
    "ratio.GetXaxis().SetLabelSize(0.09)\n",
    "#ratio.SetMarkerStyle(1)\n",
    "ratio.SetMarkerColor(ROOT.kRed)\n",
    "ratio.SetLineColor(ROOT.kRed)\n",
    "ratio.GetYaxis().SetTitleSize(0.12)\n",
    "ratio.GetYaxis().SetTitleOffset(0.4)\n",
    "ratio.GetXaxis().SetTitleSize(0.12)\n",
    "ratio.GetXaxis().SetTitleOffset(0.85)\n",
    "\n",
    "print \"Bin Content\", \"\\t\", \"Bin error\", \"\\t\", \"Bin Center\", \"\\t\", \"Bin Low-Edge\", \"\\t\", \"Ratio to Truth for bin\", \"\\t\", \"Ratio Error\"\n",
    "for i in xrange(1,gen_bins.shape[0]):\n",
    "    print \"%0.4f\"%unfolded_MC.GetBinContent(i), \"\\t\", \"%0.4f\"%unfolded_MC.GetBinError(i), \"\\t\", unfolded_MC.GetBinCenter(i), \"\\t\", unfolded_MC.GetBinLowEdge(i), \"%0.4f\"%ratio.GetBinContent(i), \"%0.4f\"%ratio.GetBinError(i)"
   ]
  },
  {
   "cell_type": "code",
   "execution_count": 53,
   "metadata": {
    "collapsed": true
   },
   "outputs": [
    {
     "name": "stderr",
     "output_type": "stream",
     "text": [
      "Info in <TCanvas::Print>: png file MC_SC_ratio_Escheme_bkgsub.png has been created\n",
      "Info in <TCanvas::Print>: pdf file MC_SC_ratio_Escheme_bkgsub.pdf has been created\n"
     ]
    },
    {
     "data": {
      "image/png": "[encoded data removed]",
      "text/plain": [
       "<IPython.core.display.Image object>"
      ]
     },
     "metadata": {},
     "output_type": "display_data"
    }
   ],
   "source": [
    "c6 = ROOT.TCanvas(\"c6\",\"c6\", 600,300)\n",
    "ratio.GetYaxis().SetLabelSize(0.05)\n",
    "ratio.GetXaxis().SetLabelSize(0.05)\n",
    "#ratio.SetMarkerStyle(1)\n",
    "ratio.SetMarkerStyle(5)\n",
    "ratio.SetMarkerColor(ROOT.kRed)\n",
    "ratio.SetLineColor(ROOT.kRed)\n",
    "ratio.GetYaxis().SetTitleSize(0.06)\n",
    "ratio.GetYaxis().SetTitleOffset(0.7)\n",
    "ratio.GetXaxis().SetTitleSize(0.05)\n",
    "ratio.GetXaxis().SetTitleOffset(0.8)\n",
    "#ratio.SetMinimum(0.7)\n",
    "#ratio.SetMaximum(1.3)\n",
    "#ratio.SetMarkerStyle(21);\n",
    "ratio.Draw(\"ep\")\n",
    "c6.Draw()\n",
    "c6.SaveAs(\"MC_SC_ratio_Escheme_bkgsub.png\")\n",
    "c6.SaveAs(\"MC_SC_ratio_Escheme_bkgsub.pdf\")"
   ]
  },
  {
   "cell_type": "code",
   "execution_count": 54,
   "metadata": {},
   "outputs": [
    {
     "name": "stderr",
     "output_type": "stream",
     "text": [
      "Error in <TUnfoldDensity::SubtractBackground>: Source bkg_all given twice, ignoring 2nd call.\n",
      "\n",
      "Warning in <TROOT::Append>: Replacing existing TH1: unfolded_data (Potential memory leak).\n"
     ]
    }
   ],
   "source": [
    "# get unfolding output\n",
    "# includes the statistical and background errors\n",
    "# but not the other systematic uncertainties\n",
    "#tunfolder_data.SetInput( histMdetData )\n",
    "tunfolder_data.SubtractBackground( histMdetMC_bkg, \"bkg_all\", 1. )\n",
    "\n",
    "histUnfoldOutput= tunfolder_data.GetOutput(\"unfolded_data\")\n",
    "\n",
    "# retreive error matrix of statistical errors\n",
    "histEmatStat=tunfolder_data.GetEmatrixInput(\"unfolding stat error matrix\");\n",
    "# retreive full error matrix\n",
    "# This includes all systematic errors\n",
    "histEmatTotal=tunfolder_data.GetEmatrixTotal(\"unfolding total error matrix\");\n",
    "# create two copies of the unfolded data, one with statistical errors\n",
    "# the other with total errors\n",
    "histUnfoldStat=ROOT.TH1D(\"tau21(unfold,staterr)\",\";tau21(gen)\",  gen_bins.shape[0]-1, (gen_bins));\n",
    "histUnfoldTotal=ROOT.TH1D(\"tau21(unfold,totalerr)\",\";tau21(gen)\",  gen_bins.shape[0]-1, (gen_bins));\n",
    "\n",
    "for i in xrange(0, gen_bins.shape[0]): \n",
    "    c=histUnfoldOutput.GetBinContent(i);\n",
    "    # histogram with unfolded data and stat errors\n",
    "    histUnfoldStat.SetBinContent(i,c);\n",
    "    histUnfoldStat.SetBinError(i,np.sqrt(histEmatStat.GetBinContent(i,i)));\n",
    "    # histogram with unfolded data and total errors\n",
    "    histUnfoldTotal.SetBinContent(i,c);\n",
    "    histUnfoldTotal.SetBinError(i,np.sqrt(histEmatTotal.GetBinContent(i,i)));\n",
    "\n",
    "# create histogram with correlation matrix\n",
    "histCorr=ROOT.TH2D(\"Corr(total)\",\";tau21(gen);tau21(gen)\",  gen_bins.shape[0]-1, (gen_bins), gen_bins.shape[0]-1, (gen_bins));\n",
    "for i in xrange(0, gen_bins.shape[0]): \n",
    "    ei,ej = 0,0\n",
    "    ei=np.sqrt(histEmatTotal.GetBinContent(i,i));\n",
    "    if(ei<=0.0): continue\n",
    "    for j in xrange(0, gen_bins.shape[0]):\n",
    "        ej=np.sqrt(histEmatTotal.GetBinContent(j,j));\n",
    "        if(ej<=0.0): continue\n",
    "        histCorr.SetBinContent(i,j,histEmatTotal.GetBinContent(i,j)/ei/ej);\n",
    "\n",
    "# retreive bgr source 1\n",
    "#histdetNormBgr1=tunfolder_data.GetBackground(\"bgr1 normalized\", \"background1\");\n",
    "histMdetNormBgrTotal=tunfolder_data.GetBackground(\"bkg_all\");\n",
    "#========================\n"
   ]
  },
  {
   "cell_type": "code",
   "execution_count": 55,
   "metadata": {
    "collapsed": true
   },
   "outputs": [
    {
     "data": {
      "image/png": "[encoded data removed]",
      "text/plain": [
       "<IPython.core.display.Image object>"
      ]
     },
     "metadata": {},
     "output_type": "display_data"
    }
   ],
   "source": [
    "# Step 7: plots\n",
    "output = ROOT.TCanvas();\n",
    "#output.Divide(3,2);\n",
    "#output.cd(1);\n",
    "# data, MC prediction, background\n",
    "histMdetData.SetMinimum(0.0);\n",
    "histMdetData.SetMaximum(histMdetData.GetMaximum()*1.5);\n",
    "histMdetData.Draw(\"E\");\n",
    "histMdetMC_sig.SetMinimum(0.0);\n",
    "histMdetMC_sig.SetLineColor(ROOT.kBlue);\n",
    "histMdetNormBgrTotal.SetLineColor(ROOT.kRed);\n",
    "#histdetNormBgr1.SetLineColor(ROOT.kCyan);\n",
    "histMdetMC_sig.Draw(\"SAME HIST\");\n",
    "#histdetNormBgr1.Draw(\"SAME HIST\");\n",
    "histMdetNormBgrTotal.Draw(\"SAME HIST\");\n",
    "output.Draw()"
   ]
  },
  {
   "cell_type": "code",
   "execution_count": 56,
   "metadata": {
    "collapsed": true
   },
   "outputs": [
    {
     "data": {
      "image/png": "[encoded data removed]",
      "text/plain": [
       "<IPython.core.display.Image object>"
      ]
     },
     "metadata": {},
     "output_type": "display_data"
    }
   ],
   "source": [
    "#output.cd(2)\n",
    "# unfolded data, data truth, MC truth\n",
    "output = ROOT.TCanvas();\n",
    "histUnfoldTotal.SetMinimum(0.0);\n",
    "histUnfoldTotal.SetMaximum(5000);\n",
    "histUnfoldTotal.SetLineColor(ROOT.kBlue+3)\n",
    "histUnfoldTotal.SetLineWidth(1)\n",
    "# outer error: total error\n",
    "histUnfoldTotal.Draw(\"E\");\n",
    "# middle error: stat+bgr\n",
    "histUnfoldOutput.SetLineWidth(1)\n",
    "histUnfoldOutput.Draw(\"SAME E1\");\n",
    "# inner error: stat only\n",
    "histUnfoldStat.SetLineColor(ROOT.kGreen+2)\n",
    "histUnfoldStat.Draw(\"SAME E1\");\n",
    "\n",
    "histMdetMC_sig.Draw(\"SAME HIST\");\n",
    "histMgenMC_sig.Draw(\"SAME HIST\");\n",
    "#histBbbSignalGen.SetLineColor(ROOT.kBlue);\n",
    "#histBbbSignalGen.Draw(\"SAME HIST\");\n",
    "output.Draw()"
   ]
  },
  {
   "cell_type": "code",
   "execution_count": 57,
   "metadata": {
    "collapsed": true
   },
   "outputs": [
    {
     "data": {
      "image/png": "[encoded data removed]",
      "text/plain": [
       "<IPython.core.display.Image object>"
      ]
     },
     "metadata": {},
     "output_type": "display_data"
    }
   ],
   "source": [
    "output.cd(3);\n",
    "# unfolding matrix\n",
    "response.SetLineColor(ROOT.kBlue);\n",
    "response.Draw(\"BOX\");\n",
    "\n",
    "output.Draw()"
   ]
  },
  {
   "cell_type": "code",
   "execution_count": 58,
   "metadata": {
    "collapsed": true
   },
   "outputs": [
    {
     "data": {
      "image/png": "[encoded data removed]",
      "text/plain": [
       "<IPython.core.display.Image object>"
      ]
     },
     "metadata": {},
     "output_type": "display_data"
    }
   ],
   "source": [
    "# show tau as a function of chi**2\n",
    "output.cd(4);\n",
    "#logTauX.Draw();\n",
    "#bestLogTauLogChi2.SetMarkerColor(ROOT.kRed);\n",
    "#bestLogTauLogChi2.Draw(\"*\");\n",
    "# show the L curve\n",
    "output.cd(5);\n",
    "#lCurve.Draw(\"AL\");\n",
    "#bestLcurve.SetMarkerColor(ROOT.kRed);\n",
    "#bestLcurve.Draw(\"*\");\n",
    "# show correlation matrix\n",
    "output.cd(6);\n",
    "histCorr.Draw(\"BOX\");\n",
    "output.Draw()"
   ]
  },
  {
   "cell_type": "code",
   "execution_count": null,
   "metadata": {},
   "outputs": [],
   "source": []
  },
  {
   "cell_type": "markdown",
   "metadata": {},
   "source": [
    "# 1.b) Different binning while unfolding (more gen bins) and plotting (less bins) => reduce MC bias, but increases uncertainty\n"
   ]
  },
  {
   "cell_type": "code",
   "execution_count": 21,
   "metadata": {},
   "outputs": [],
   "source": [
    "MC_sig_reco_tau21 = TTbar_reco_tau21\n",
    "MC_sig_gen_tau21 = TTbar_gen_tau21\n",
    "\n",
    "MC_bkg_reco_tau21 = np.concatenate((ST1_reco_tau21,ST2_reco_tau21,ST3_reco_tau21,ST4_reco_tau21,ST5_reco_tau21))#,Wjets_reco_tau21))\n",
    "MC_bkg_gen_tau21 = np.concatenate((ST1_gen_tau21,ST2_gen_tau21,ST3_gen_tau21,ST4_gen_tau21,ST5_gen_tau21))#,Wjets_gen_tau21))\n",
    "\n",
    "data_tau21 = data_nSub_basis[:,4]/data_nSub_basis[:,1]\n",
    "weights_MC_sig = weight_TTbar\n",
    "weights_MC_bkg = np.concatenate((weight_ST1,weight_ST2,weight_ST3,weight_ST4,weight_ST5))#,weight_Wjets))"
   ]
  },
  {
   "cell_type": "markdown",
   "metadata": {
    "collapsed": true
   },
   "source": [
    "Get the response matrix and input 1D distributions for unfolding."
   ]
  },
  {
   "cell_type": "code",
   "execution_count": 22,
   "metadata": {},
   "outputs": [
    {
     "name": "stdout",
     "output_type": "stream",
     "text": [
      "0.033822936522658054\n",
      "0.035494525811013096\n",
      "1.2025826690775254\n",
      "1.1682265240313252 \n",
      "\n",
      "0.07700017812299854\n",
      "0.07624753724962098\n",
      "1.118227735899215\n",
      "1.0541581340983461 \n",
      "\n",
      "0.05456939248542676\n",
      "1.1363287927955423\n"
     ]
    }
   ],
   "source": [
    "print np.min(MC_sig_gen_tau21)\n",
    "print np.min(MC_sig_reco_tau21)\n",
    "print np.max(MC_sig_gen_tau21)\n",
    "print np.max(MC_sig_reco_tau21), \"\\n\"\n",
    "\n",
    "\n",
    "print np.min(MC_bkg_gen_tau21)\n",
    "print np.min(MC_bkg_reco_tau21)\n",
    "print np.max(MC_bkg_gen_tau21)\n",
    "print np.max(MC_bkg_reco_tau21), \"\\n\"\n",
    "\n",
    "\n",
    "print np.min(data_tau21)\n",
    "print np.max(data_tau21)"
   ]
  },
  {
   "cell_type": "markdown",
   "metadata": {
    "collapsed": true
   },
   "source": [
    "#### Set the axis ranges for the generator nd detector level distributions as well as the number of bins in each. Note that we want twice as many detector bins as generator level bins as recommended by the TUnfold documenation "
   ]
  },
  {
   "cell_type": "code",
   "execution_count": 23,
   "metadata": {},
   "outputs": [
    {
     "name": "stdout",
     "output_type": "stream",
     "text": [
      "[0.    0.05  0.1   0.145 0.19  0.235 0.28  0.325 0.37  0.415 0.46  0.505\n",
      " 0.55  0.595 0.64  0.685 0.73  0.775 0.82  0.865 0.91  1.21  1.31 ] 23\n",
      "[0.     0.025  0.05   0.075  0.1    0.1225 0.145  0.1675 0.19   0.2125\n",
      " 0.235  0.2575 0.28   0.3025 0.325  0.3475 0.37   0.3925 0.415  0.4375\n",
      " 0.46   0.4825 0.505  0.5275 0.55   0.5725 0.595  0.6175 0.64   0.6625\n",
      " 0.685  0.7075 0.73   0.7525 0.775  0.7975 0.82   0.8425 0.865  0.8875\n",
      " 0.91   1.106  1.21   1.26   1.31  ] 45\n"
     ]
    }
   ],
   "source": [
    "gen_bins = [x for x in np.linspace(num=19, start=0.1, stop=0.91)]\n",
    "gen_bins = np.concatenate(( np.array([0., 0.05, ]), gen_bins, np.array([1.21, 1.31])))\n",
    "print gen_bins, gen_bins.shape[0]\n",
    "\n",
    "det_bins = np.array([x for x in np.linspace(num=37, start=0.1, stop=0.91)])\n",
    "det_bins = np.concatenate((np.array([0., 0.025, 0.05, 0.075]), det_bins, np.array([1.106, 1.21, 1.26, 1.31])))\n",
    "print det_bins, det_bins.shape[0]"
   ]
  },
  {
   "cell_type": "code",
   "execution_count": 24,
   "metadata": {},
   "outputs": [],
   "source": [
    "ROOT.TH1.SetDefaultSumw2()\n",
    "from root_numpy import *"
   ]
  },
  {
   "cell_type": "markdown",
   "metadata": {},
   "source": [
    "#### Fill histograms for sig and bkg. MC separately in this case (as one should!)"
   ]
  },
  {
   "cell_type": "code",
   "execution_count": 25,
   "metadata": {},
   "outputs": [],
   "source": [
    "histMgenMC_bkg = ROOT.TH1D(\"histMgenMC_bkg\", \"histMgenMC_bkg; #tau_{2}^{1}; Events/(0.02)\",  gen_bins.shape[0]-1, (gen_bins))\n",
    "fill_hist(histMgenMC_bkg, MC_bkg_gen_tau21, weights=weights_MC_bkg)\n",
    "\n",
    "histMdetMC_bkg = ROOT.TH1D(\"histMdetMC_bkg\", \"histMdetMC_bkg; #tau_{2}^{1}; Events/(0.02)\", det_bins.shape[0]-1, (det_bins))\n",
    "fill_hist(histMdetMC_bkg, MC_bkg_reco_tau21, weights=weights_MC_bkg)\n",
    "\n",
    "histMgenMC_sig = ROOT.TH1D(\"histMgenMC_sig\", \"histMgenMC_sig; #tau_{2}^{1}; Events/(0.02)\",  gen_bins.shape[0]-1, (gen_bins))\n",
    "fill_hist(histMgenMC_sig, MC_sig_gen_tau21, weights=weights_MC_sig)\n",
    "\n",
    "histMdetMC_sig = ROOT.TH1D(\"histMdetMC_sig\", \"histMdetMC_sig; #tau_{2}^{1}; Events/(0.02)\", det_bins.shape[0]-1, (det_bins))\n",
    "fill_hist(histMdetMC_sig, MC_sig_reco_tau21, weights=weights_MC_sig)\n",
    "\n",
    "#histMgenData = ROOT.TH1D(\"histMgenData\", \"histMgenData; #tau_{2}^{1}; Events/(0.02)\", gen_bins.shape[0]-1, (gen_bins))\n",
    "#fill_hist(histMgenData, TTbartruth_nSub_basis[:,4]/TTbartruth_nSub_basis[:,1])\n",
    "\n",
    "histMdetData = ROOT.TH1D(\"histMdetData\", \"histMdetData; #tau_{2}^{1}; Events/(0.02)\", det_bins.shape[0]-1, (det_bins))\n",
    "fill_hist(histMdetData, data_tau21)"
   ]
  },
  {
   "cell_type": "markdown",
   "metadata": {
    "collapsed": true
   },
   "source": [
    "Set the X and Y axis labels"
   ]
  },
  {
   "cell_type": "code",
   "execution_count": 26,
   "metadata": {},
   "outputs": [],
   "source": [
    "histMgenMC_bkg.SetTitle(\";#tau_{2,1}^{1}(gen_bkg)\")\n",
    "\n",
    "histMdetMC_bkg.SetTitle(\";#tau_{2,1}^{1}(det_bkg)\")\n",
    "\n",
    "histMgenMC_sig.SetTitle(\";#tau_{2,1}^{1}(gen_sig)\")\n",
    "\n",
    "histMdetMC_sig.SetTitle(\";#tau_{2,1}^{1}(det_sig)\")\n",
    "\n",
    "histMdetData.SetTitle(\";#tau_{2,1}^{1}(data)\")\n"
   ]
  },
  {
   "cell_type": "markdown",
   "metadata": {
    "collapsed": true
   },
   "source": [
    "Draw the variables at reco and gen level and for \"data\""
   ]
  },
  {
   "cell_type": "code",
   "execution_count": 27,
   "metadata": {
    "collapsed": true
   },
   "outputs": [
    {
     "data": {
      "image/png": "[encoded data removed]",
      "text/plain": [
       "<IPython.core.display.Image object>"
      ]
     },
     "metadata": {},
     "output_type": "display_data"
    }
   ],
   "source": [
    "c1 = ROOT.TCanvas(\"chistMgenMC_sig1\", \"chistMgenMC_sig1\")\n",
    "histMgenMC_sig.Draw(\"e\")\n",
    "histMdetMC_sig.Draw(\"e same\")\n",
    "c1.Draw()"
   ]
  },
  {
   "cell_type": "code",
   "execution_count": 28,
   "metadata": {
    "collapsed": true
   },
   "outputs": [
    {
     "data": {
      "image/png": "[encoded data removed]",
      "text/plain": [
       "<IPython.core.display.Image object>"
      ]
     },
     "metadata": {},
     "output_type": "display_data"
    }
   ],
   "source": [
    "c1 = ROOT.TCanvas(\"chistMgenMC_bkg1\", \"chistMgenMC_bkg1\")\n",
    "histMgenMC_bkg.Draw(\"e\")\n",
    "histMdetMC_bkg.Draw(\"e same\")\n",
    "c1.Draw()"
   ]
  },
  {
   "cell_type": "code",
   "execution_count": 29,
   "metadata": {
    "collapsed": true
   },
   "outputs": [
    {
     "data": {
      "image/png": "[encoded data removed]",
      "text/plain": [
       "<IPython.core.display.Image object>"
      ]
     },
     "metadata": {},
     "output_type": "display_data"
    }
   ],
   "source": [
    "c1 = ROOT.TCanvas(\"chistMgenMC_sig1\", \"chistMgenMC_sig1\")\n",
    "#histMgenData.Draw(\"e\")\n",
    "histMdetData.Draw(\"e \")\n",
    "c1.Draw()"
   ]
  },
  {
   "cell_type": "markdown",
   "metadata": {},
   "source": [
    "### Fill response matrix"
   ]
  },
  {
   "cell_type": "code",
   "execution_count": 30,
   "metadata": {},
   "outputs": [],
   "source": [
    "response = ROOT.TH2D('response', 'response', det_bins.shape[0]-1, det_bins, gen_bins.shape[0]-1, gen_bins)\n",
    "hist2Dfill = np.zeros((MC_sig_reco_tau21.shape[0], 2))\n",
    "hist2Dfill[:,0] = MC_sig_reco_tau21.flatten()\n",
    "hist2Dfill[:,1] = MC_sig_gen_tau21.flatten()\n",
    "fill_hist(response, hist2Dfill, weights_MC_sig)\n",
    "response.SetTitle(\"Nominal Response Matrix;#tau_{2,1}^{1}(det_sig);#tau_{2,1}^{1}(gen_sig)\")"
   ]
  },
  {
   "cell_type": "code",
   "execution_count": 31,
   "metadata": {
    "collapsed": true
   },
   "outputs": [
    {
     "data": {
      "image/png": "[encoded data removed]",
      "text/plain": [
       "<IPython.core.display.Image object>"
      ]
     },
     "metadata": {},
     "output_type": "display_data"
    }
   ],
   "source": [
    "c1 = ROOT.TCanvas(\"cresponse1\", \"cresponse1\")\n",
    "response.Draw(\"colz\")\n",
    "c1.Draw()"
   ]
  },
  {
   "cell_type": "markdown",
   "metadata": {},
   "source": [
    "### Purity and Stability calculation"
   ]
  },
  {
   "cell_type": "raw",
   "metadata": {
    "collapsed": true
   },
   "source": [
    "#### Normalise the distributions, draw them and the response matrix."
   ]
  },
  {
   "cell_type": "raw",
   "metadata": {},
   "source": [
    "norm_genMC_bkg = histMgenMC_bkg.Integral()\n",
    "print norm_genMC_bkg\n",
    "\n",
    "norm_recoMC_bkg = histMdetMC_bkg.Integral()\n",
    "print norm_recoMC_bkg\n",
    "\n",
    "norm_genMC_sig = histMgenMC_sig.Integral()\n",
    "print norm_genMC_sig\n",
    "\n",
    "norm_recoMC_sig = histMdetMC_sig.Integral()\n",
    "print norm_recoMC_sig\n",
    "\n",
    "#norm_genData = histMgenData.Integral()\n",
    "#print norm_genData\n",
    "\n",
    "norm_detData = histMdetData.Integral()\n",
    "print norm_detData"
   ]
  },
  {
   "cell_type": "code",
   "execution_count": 32,
   "metadata": {},
   "outputs": [],
   "source": [
    "hMC_gen_bkg = ROOT.TH1D(histMgenMC_bkg)\n",
    "#hMC_gen_bkg.Scale(1./norm_genMC_bkg)\n",
    "\n",
    "hMC_reco_bkg = ROOT.TH1D(histMdetMC_bkg)\n",
    "#hMC_reco_bkg.Scale(1./norm_recoMC_bkg)\n",
    "\n",
    "hMC_gen_sig = ROOT.TH1D(histMgenMC_sig)\n",
    "#hMC_gen_sig.Scale(1./norm_genMC_sig)\n",
    "\n",
    "hMC_reco_sig = ROOT.TH1D(histMdetMC_sig)\n",
    "#hMC_reco_sig.Scale(1./norm_recoMC_sig)\n",
    "\n",
    "hMC_data = ROOT.TH1D(histMdetData)\n",
    "#histMgenData.Scale(1./norm_genData)\n",
    "#histMdetData.Scale(1./norm_detData)\n",
    "\n",
    "'''\n",
    "histMgenMC_bkg.Scale(1./norm_genMC_bkg)\n",
    "histMdetMC_bkg.Scale(1./norm_recoMC_bkg)\n",
    "histMgenMC_sig.Scale(1./norm_genMC_sig)\n",
    "histMdetMC_sig.Scale(1./norm_recoMC_sig)\n",
    "\n",
    "#histMgenData.Scale(1./norm_genData)\n",
    "histMdetData.Scale(1./norm_detData)\n",
    "''';"
   ]
  },
  {
   "cell_type": "code",
   "execution_count": 33,
   "metadata": {
    "collapsed": true
   },
   "outputs": [
    {
     "name": "stdout",
     "output_type": "stream",
     "text": [
      "0 -0.0297727272727 0.0\n",
      "1 0.0 0.0\n",
      "2 0.025 0.798400864317\n",
      "3 0.05 4.21115573457\n",
      "4 0.075 31.4248641763\n",
      "5 0.1 71.3791198262\n",
      "6 0.1225 198.758252325\n",
      "7 0.145 350.548447918\n",
      "8 0.1675 521.208933144\n",
      "9 0.19 684.448134459\n",
      "10 0.2125 778.106028166\n",
      "11 0.235 784.983677029\n",
      "12 0.2575 857.63689871\n",
      "13 0.28 876.931195695\n",
      "14 0.3025 844.509944841\n",
      "15 0.325 773.730679045\n",
      "16 0.3475 719.923013091\n",
      "17 0.37 695.152085761\n",
      "18 0.3925 641.632147247\n",
      "19 0.415 585.784775624\n",
      "20 0.4375 568.481283309\n",
      "21 0.46 505.846409386\n",
      "22 0.4825 450.2773412\n",
      "23 0.505 415.8036858\n",
      "24 0.5275 383.333432043\n",
      "25 0.55 340.773038776\n",
      "26 0.5725 300.764722505\n",
      "27 0.595 270.514203304\n",
      "28 0.6175 254.42557171\n",
      "29 0.64 181.369973615\n",
      "30 0.6625 178.183534456\n",
      "31 0.685 147.761019979\n",
      "32 0.7075 110.541874522\n",
      "33 0.73 92.0781672849\n",
      "34 0.7525 71.8770831619\n",
      "35 0.775 62.6524982554\n",
      "36 0.7975 46.1445281786\n",
      "37 0.82 33.4119339868\n",
      "38 0.8425 17.274354915\n",
      "39 0.865 14.7779262273\n",
      "40 0.8875 9.11732293654\n",
      "41 0.91 24.1219825331\n",
      "42 1.106 0.437987571027\n",
      "43 1.21 0.0\n",
      "44 1.26 0.0\n",
      "==========\n",
      "0 -0.0595454545455 0.0\n",
      "1 0.0 1.19593351702\n",
      "2 0.05 77.0090310164\n",
      "3 0.1 620.536373596\n",
      "4 0.145 1318.76770189\n",
      "5 0.19 1585.76661434\n",
      "6 0.235 1687.35872801\n",
      "7 0.28 1461.03954345\n",
      "8 0.325 1324.39123978\n",
      "9 0.37 1170.32398679\n",
      "10 0.415 1032.37984871\n",
      "11 0.46 848.157806529\n",
      "12 0.505 718.826140838\n",
      "13 0.55 588.527323736\n",
      "14 0.595 475.557920447\n",
      "15 0.64 342.503041161\n",
      "16 0.685 243.69138581\n",
      "17 0.73 174.741369497\n",
      "18 0.775 98.130076192\n",
      "19 0.82 54.5309190287\n",
      "20 0.865 31.5253682844\n",
      "21 0.91 46.177276688\n",
      "22 1.21 0.0\n"
     ]
    }
   ],
   "source": [
    "for i in xrange(0, histMdetMC_sig.GetNbinsX()+1):\n",
    "    print i, hMC_reco_sig.GetBinLowEdge(i), hMC_reco_sig.GetBinContent(i)   \n",
    "print \"==========\"\n",
    "for i in xrange(0, hMC_gen_sig.GetNbinsX()+1):\n",
    "    print i, hMC_gen_sig.GetBinLowEdge(i), hMC_gen_sig.GetBinContent(i)"
   ]
  },
  {
   "cell_type": "code",
   "execution_count": 34,
   "metadata": {
    "collapsed": true
   },
   "outputs": [
    {
     "name": "stderr",
     "output_type": "stream",
     "text": [
      "Warning in <TCanvas::Constructor>: Deleting canvas with same name: cresponse1\n"
     ]
    },
    {
     "data": {
      "image/png": "[encoded data removed]",
      "text/plain": [
       "<IPython.core.display.Image object>"
      ]
     },
     "metadata": {},
     "output_type": "display_data"
    }
   ],
   "source": [
    "c1 = ROOT.TCanvas(\"cresponse1\", \"cresponse1\")\n",
    "response.Draw(\"colz\")\n",
    "c1.Draw()"
   ]
  },
  {
   "cell_type": "code",
   "execution_count": 35,
   "metadata": {},
   "outputs": [],
   "source": [
    "purity = ROOT.TH1D(\"purity\", \"Purity and stability study; #tau_{2}^{1}; \",  gen_bins.shape[0]-1, (gen_bins))\n",
    "stability = ROOT.TH1D(\"stability\", \"Purity and stability study; #tau_{2}^{1}; \",  gen_bins.shape[0]-1, (gen_bins))\n",
    "efficiency = ROOT.TH1D(\"efficiency\", \"Purity and stability study; #tau_{2}^{1}; \",  gen_bins.shape[0]-1, (gen_bins))"
   ]
  },
  {
   "cell_type": "markdown",
   "metadata": {},
   "source": [
    "### With python"
   ]
  },
  {
   "cell_type": "markdown",
   "metadata": {},
   "source": [
    "We define purity as the fraction of reconstructed events that are generated in the same bin, \n",
    "and stability as the fraction of generated events that are reconstructed in the same\n",
    "bin, divided by the overall reconstruction efficiency per bin. "
   ]
  },
  {
   "cell_type": "code",
   "execution_count": 36,
   "metadata": {
    "collapsed": true
   },
   "outputs": [
    {
     "name": "stdout",
     "output_type": "stream",
     "text": [
      "[ 6  7  8 ... 12 10 19]\n",
      "Setting contents for P, S, eff. histos, in bin 1\n",
      "Setting contents for P, S, eff. histos, in bin 2\n",
      "Setting contents for P, S, eff. histos, in bin 3\n",
      "Setting contents for P, S, eff. histos, in bin 4\n",
      "Setting contents for P, S, eff. histos, in bin 5\n",
      "Setting contents for P, S, eff. histos, in bin 6\n",
      "Setting contents for P, S, eff. histos, in bin 7\n",
      "Setting contents for P, S, eff. histos, in bin 8\n",
      "Setting contents for P, S, eff. histos, in bin 9\n",
      "Setting contents for P, S, eff. histos, in bin 10\n",
      "Setting contents for P, S, eff. histos, in bin 11\n",
      "Setting contents for P, S, eff. histos, in bin 12\n",
      "Setting contents for P, S, eff. histos, in bin 13\n",
      "Setting contents for P, S, eff. histos, in bin 14\n",
      "Setting contents for P, S, eff. histos, in bin 15\n",
      "Setting contents for P, S, eff. histos, in bin 16\n",
      "Setting contents for P, S, eff. histos, in bin 17\n",
      "Setting contents for P, S, eff. histos, in bin 18\n",
      "Setting contents for P, S, eff. histos, in bin 19\n",
      "Setting contents for P, S, eff. histos, in bin 20\n",
      "Setting contents for P, S, eff. histos, in bin 21\n",
      "Setting contents for P, S, eff. histos, in bin 22\n"
     ]
    },
    {
     "ename": "ZeroDivisionError",
     "evalue": "float division by zero",
     "output_type": "error",
     "traceback": [
      "\u001b[0;31m\u001b[0m",
      "\u001b[0;31mZeroDivisionError\u001b[0mTraceback (most recent call last)",
      "\u001b[0;32m<ipython-input-36-0eccbb43c8b9>\u001b[0m in \u001b[0;36m<module>\u001b[0;34m()\u001b[0m\n\u001b[1;32m     40\u001b[0m \u001b[0;34m\u001b[0m\u001b[0m\n\u001b[1;32m     41\u001b[0m     \u001b[0;32mprint\u001b[0m \u001b[0;34m\"Setting contents for P, S, eff. histos, in bin %d\"\u001b[0m\u001b[0;34m%\u001b[0m\u001b[0;34m(\u001b[0m\u001b[0mi\u001b[0m\u001b[0;34m+\u001b[0m\u001b[0;36m1\u001b[0m\u001b[0;34m)\u001b[0m\u001b[0;34m\u001b[0m\u001b[0m\n\u001b[0;32m---> 42\u001b[0;31m     \u001b[0mpurity\u001b[0m\u001b[0;34m.\u001b[0m\u001b[0mSetBinContent\u001b[0m\u001b[0;34m(\u001b[0m\u001b[0mi\u001b[0m\u001b[0;34m+\u001b[0m\u001b[0;36m1\u001b[0m\u001b[0;34m,\u001b[0m \u001b[0mndet_pergenbin\u001b[0m\u001b[0;34m[\u001b[0m\u001b[0mi\u001b[0m\u001b[0;34m]\u001b[0m\u001b[0;34m/\u001b[0m\u001b[0mndet_genanywhere\u001b[0m\u001b[0;34m[\u001b[0m\u001b[0mi\u001b[0m\u001b[0;34m]\u001b[0m\u001b[0;34m)\u001b[0m\u001b[0;34m\u001b[0m\u001b[0m\n\u001b[0m\u001b[1;32m     43\u001b[0m     \u001b[0mstability\u001b[0m\u001b[0;34m.\u001b[0m\u001b[0mSetBinContent\u001b[0m\u001b[0;34m(\u001b[0m\u001b[0mi\u001b[0m\u001b[0;34m+\u001b[0m\u001b[0;36m1\u001b[0m\u001b[0;34m,\u001b[0m \u001b[0mndet_pergenbin\u001b[0m\u001b[0;34m[\u001b[0m\u001b[0mi\u001b[0m\u001b[0;34m]\u001b[0m\u001b[0;34m/\u001b[0m\u001b[0mngen_detanywhere\u001b[0m\u001b[0;34m[\u001b[0m\u001b[0mi\u001b[0m\u001b[0;34m]\u001b[0m\u001b[0;34m)\u001b[0m\u001b[0;34m\u001b[0m\u001b[0m\n\u001b[1;32m     44\u001b[0m     \u001b[0mefficiency\u001b[0m\u001b[0;34m.\u001b[0m\u001b[0mSetBinContent\u001b[0m\u001b[0;34m(\u001b[0m\u001b[0mi\u001b[0m\u001b[0;34m+\u001b[0m\u001b[0;36m1\u001b[0m\u001b[0;34m,\u001b[0m \u001b[0mndet_pergenbin\u001b[0m\u001b[0;34m[\u001b[0m\u001b[0mi\u001b[0m\u001b[0;34m]\u001b[0m\u001b[0;34m/\u001b[0m\u001b[0;36m43107.\u001b[0m\u001b[0;34m)\u001b[0m\u001b[0;34m\u001b[0m\u001b[0m\n",
      "\u001b[0;31mZeroDivisionError\u001b[0m: float division by zero"
     ]
    }
   ],
   "source": [
    "gen_arr = MC_sig_gen_tau21[:]\n",
    "#print gen_arr[0:20]\n",
    "#print gen_bins[0:-1]\n",
    "gen_bin_index = np.digitize(gen_arr, gen_bins)\n",
    "print gen_bin_index\n",
    "#print gen_bin_index[0:20]\n",
    "\n",
    "det_arr = MC_sig_reco_tau21[0:]\n",
    "#print det_arr[0:20]\n",
    "#print det_bins[0:-1]\n",
    "det_bin_index = np.digitize(det_arr, gen_bins)\n",
    "det_bin_index2 = np.digitize(det_arr, det_bins)\n",
    "#print det_bin_index[0:20]\n",
    "\n",
    "ndet_pergenbin = [0.] #N_recgen array = number of events generated in and reconstructed in gen bin i\n",
    "ndet_genanywhere = [0.] # number of events reconstructed in gen _bin i but generated anywhere\n",
    "ngen_detanywhere = [0.] # number of events generated in gen _bin i but reconstructed anywhere\n",
    "\n",
    "### purity = # of evts generated and reconstructed in gen bin i / # of evts reconstructed in gen bin i but generated anywhere\n",
    "### stability = # of evts generated and reconstructed in gen bin / # of evts generated in gen bin i but reconstructed anywhere\n",
    "for i in xrange(0, gen_bins.shape[0]-1):\n",
    "    \n",
    "    #print i+1\n",
    "    \n",
    "    for k in xrange(0, gen_bin_index.shape[0]):\n",
    "        \n",
    "        if gen_bin_index[k]==i+1: \n",
    "            ngen_detanywhere[i]+=1 #stability denominator\n",
    "            if det_bin_index[k]==i+1: ndet_pergenbin[i]+=1\n",
    "            \n",
    "    ngen_detanywhere.append(0.)\n",
    "    ndet_pergenbin.append(0.)\n",
    "    \n",
    "    for k in xrange(0, det_bin_index.shape[0]):\n",
    "        \n",
    "        if det_bin_index[k]==i+1: \n",
    "            ndet_genanywhere[i]+=1 #purity denominator\n",
    "            \n",
    "    ndet_genanywhere.append(0.)\n",
    "    \n",
    "    print \"Setting contents for P, S, eff. histos, in bin %d\"%(i+1)\n",
    "    purity.SetBinContent(i+1, ndet_pergenbin[i]/ndet_genanywhere[i])\n",
    "    stability.SetBinContent(i+1, ndet_pergenbin[i]/ngen_detanywhere[i])\n",
    "    efficiency.SetBinContent(i+1, ndet_pergenbin[i]/43107.)\n",
    "    \n",
    "    \n",
    "ndet_pergenbin = np.array(ndet_pergenbin)\n",
    "ndet_genanywhere = np.array(ndet_genanywhere)\n",
    "ngen_detanywhere = np.array(ngen_detanywhere)\n",
    "\n",
    "print \"\\n\\n+++++++++Pure and Stable! :)+++++++++++++\\n\\n\"\n",
    "print ndet_pergenbin,\"\\n\"\n",
    "print ndet_genanywhere,\"\\n\"\n",
    "purity_arr = ndet_pergenbin/ndet_genanywhere\n",
    "print \"Purity array:\", purity_arr[:-1], \"\\n\\n\"\n",
    "\n",
    "print ndet_pergenbin,\"\\n\"\n",
    "print ngen_detanywhere,\"\\n\"\n",
    "stability_arr = ndet_pergenbin/ngen_detanywhere\n",
    "print \"Stability array:\", stability_arr[:-1], \"\\n\\n\"\n",
    "\n",
    "print \"+++++Efficiency+++++\\n\"\n",
    "efficiency_arr = ndet_pergenbin/np.sum(ngen_detanywhere)\n",
    "print \"Efficiency array:\", efficiency_arr[:-1]"
   ]
  },
  {
   "cell_type": "code",
   "execution_count": 37,
   "metadata": {},
   "outputs": [],
   "source": [
    "ROOT.gStyle.SetOptStat(0)"
   ]
  },
  {
   "cell_type": "code",
   "execution_count": 38,
   "metadata": {
    "collapsed": true
   },
   "outputs": [
    {
     "data": {
      "image/png": "[encoded data removed]",
      "text/plain": [
       "<IPython.core.display.Image object>"
      ]
     },
     "metadata": {},
     "output_type": "display_data"
    }
   ],
   "source": [
    "cpse = ROOT.TCanvas(\"pse_ttbar\", \"pse_ttbar\")\n",
    "\n",
    "purity.SetLineColor(ROOT.kRed)\n",
    "purity.SetLineWidth(2)\n",
    "purity.SetLineStyle(2)\n",
    "purity.SetMinimum(0.)\n",
    "purity.SetMaximum(1.05)\n",
    "\n",
    "stability.SetLineColor(9)\n",
    "stability.SetLineWidth(2)\n",
    "stability.SetLineStyle(1)\n",
    "stability.SetMinimum(0.)\n",
    "stability.SetMaximum(1.05)\n",
    "stability.SetTitle(\"t#bar{t} 2016, W-selection \")\n",
    "stability.Draw(\"hist\")\n",
    "purity.Draw(\"hist same\")\n",
    "#efficiency.Draw(\"same\")\n",
    "\n",
    "leg0 = ROOT.TLegend(0.6, 0.7, 0.8, 0.8)\n",
    "leg0.AddEntry( stability, \"Stability \")\n",
    "leg0.AddEntry( purity, \"Purity \")\n",
    "#leg0.AddEntry( histMgenData, \"'Truth' (MC: MG5+Pythia8)\", 'p')\n",
    "leg0.SetLineColor(0)\n",
    "leg0.SetBorderSize(0)\n",
    "leg0.SetFillStyle(0)\n",
    "\n",
    "#hs.Add(histMdetMC, \"E\")\n",
    "#hs.Add(histMdetData, \"E\")\n",
    "#hs.Draw(\"nostack\")\n",
    "leg0.Draw()\n",
    "\n",
    "ROOT.gStyle.SetOptStat(0)\n",
    "cpse.Draw()"
   ]
  },
  {
   "cell_type": "code",
   "execution_count": 39,
   "metadata": {
    "collapsed": true
   },
   "outputs": [
    {
     "data": {
      "text/plain": [
       "(array([[5.300e+01, 5.100e+01, 2.000e+00, 0.000e+00, 0.000e+00, 0.000e+00,\n",
       "         1.000e+00, 0.000e+00, 0.000e+00, 0.000e+00],\n",
       "        [1.610e+02, 2.807e+03, 5.030e+02, 2.700e+01, 1.200e+01, 1.300e+01,\n",
       "         1.200e+01, 7.000e+00, 2.000e+00, 1.400e+01],\n",
       "        [2.100e+01, 2.892e+03, 5.639e+03, 8.660e+02, 9.400e+01, 5.900e+01,\n",
       "         3.900e+01, 1.900e+01, 2.000e+01, 3.700e+01],\n",
       "        [3.000e+00, 2.860e+02, 3.634e+03, 4.945e+03, 8.980e+02, 1.220e+02,\n",
       "         5.000e+01, 3.000e+01, 1.500e+01, 3.400e+01],\n",
       "        [1.000e+00, 2.000e+01, 3.600e+02, 2.517e+03, 3.791e+03, 8.230e+02,\n",
       "         1.220e+02, 3.600e+01, 1.000e+01, 2.600e+01],\n",
       "        [0.000e+00, 4.000e+00, 4.700e+01, 2.810e+02, 1.748e+03, 2.588e+03,\n",
       "         6.090e+02, 8.100e+01, 3.000e+01, 1.300e+01],\n",
       "        [1.000e+00, 0.000e+00, 7.000e+00, 2.200e+01, 2.160e+02, 1.023e+03,\n",
       "         1.782e+03, 3.960e+02, 8.600e+01, 3.000e+01],\n",
       "        [0.000e+00, 1.000e+00, 1.000e+00, 8.000e+00, 3.000e+01, 1.230e+02,\n",
       "         5.620e+02, 9.120e+02, 2.180e+02, 5.600e+01],\n",
       "        [0.000e+00, 0.000e+00, 1.000e+00, 3.000e+00, 8.000e+00, 3.600e+01,\n",
       "         6.900e+01, 2.730e+02, 3.800e+02, 7.800e+01],\n",
       "        [0.000e+00, 0.000e+00, 0.000e+00, 0.000e+00, 1.000e+00, 1.300e+01,\n",
       "         4.000e+01, 5.800e+01, 7.800e+01, 1.200e+02]]),\n",
       " array([ 1.,  3.,  5.,  7.,  9., 11., 13., 15., 17., 19., 21.]),\n",
       " array([ 1.,  3.,  5.,  7.,  9., 11., 13., 15., 17., 19., 21.]),\n",
       " <matplotlib.image.AxesImage at 0x7f4855578790>)"
      ]
     },
     "execution_count": 39,
     "metadata": {},
     "output_type": "execute_result"
    },
    {
     "data": {
      "image/png": "[encoded data removed]",
      "text/plain": [
       "<Figure size 432x288 with 1 Axes>"
      ]
     },
     "metadata": {
      "needs_background": "light"
     },
     "output_type": "display_data"
    }
   ],
   "source": [
    "plt.hist2d(x=det_bin_index, y=gen_bin_index)"
   ]
  },
  {
   "cell_type": "code",
   "execution_count": 40,
   "metadata": {
    "collapsed": true
   },
   "outputs": [
    {
     "data": {
      "image/png": "[encoded data removed]",
      "text/plain": [
       "<Figure size 432x288 with 1 Axes>"
      ]
     },
     "metadata": {
      "needs_background": "light"
     },
     "output_type": "display_data"
    },
    {
     "data": {
      "image/png": "[encoded data removed]",
      "text/plain": [
       "<Figure size 432x288 with 1 Axes>"
      ]
     },
     "metadata": {
      "needs_background": "light"
     },
     "output_type": "display_data"
    }
   ],
   "source": [
    "plt.hist2d(x=det_bin_index2, y=gen_bin_index)\n",
    "plt.show()\n",
    "plt.hist2d(x=MC_sig_reco_tau21, y=MC_sig_gen_tau21, bins=[det_bins, gen_bins])\n",
    "plt.show()"
   ]
  },
  {
   "cell_type": "code",
   "execution_count": 41,
   "metadata": {
    "collapsed": true
   },
   "outputs": [
    {
     "data": {
      "image/png": "[encoded data removed]",
      "text/plain": [
       "<Figure size 432x288 with 1 Axes>"
      ]
     },
     "metadata": {
      "needs_background": "light"
     },
     "output_type": "display_data"
    },
    {
     "data": {
      "image/png": "[encoded data removed]",
      "text/plain": [
       "<Figure size 432x288 with 1 Axes>"
      ]
     },
     "metadata": {
      "needs_background": "light"
     },
     "output_type": "display_data"
    }
   ],
   "source": [
    "plt.hist(gen_bin_index, histtype='step', color='r')\n",
    "plt.hist(det_bin_index, histtype='step', color='b')\n",
    "plt.show()\n",
    "\n",
    "plt.hist(MC_sig_gen_tau21, histtype='step', color='r', bins=gen_bins)\n",
    "plt.hist(MC_sig_reco_tau21, histtype='step', color='b', bins=gen_bins)\n",
    "plt.show()"
   ]
  },
  {
   "cell_type": "markdown",
   "metadata": {},
   "source": [
    "### with root"
   ]
  },
  {
   "cell_type": "code",
   "execution_count": 42,
   "metadata": {
    "collapsed": true
   },
   "outputs": [
    {
     "name": "stdout",
     "output_type": "stream",
     "text": [
      "Adding content (equal to 0.0) of bin i=0, j=1 to Diagonal 1\n",
      "Adding content (equal to 0.0) of bin i=0, j=2 to Diagonal 1\n",
      "Filling row index k=0 with elements (i,j)=(0,2)\n",
      "Filling row index k=0 with elements (i,j)=(0,3)\n",
      "Filling row index k=1 with elements (i,j)=(0,4)\n",
      "Filling row index k=1 with elements (i,j)=(0,5)\n",
      "Filling row index k=2 with elements (i,j)=(0,6)\n",
      "Filling row index k=2 with elements (i,j)=(0,7)\n",
      "Filling row index k=3 with elements (i,j)=(0,8)\n",
      "Filling row index k=3 with elements (i,j)=(0,9)\n",
      "Filling row index k=4 with elements (i,j)=(0,10)\n",
      "Filling row index k=4 with elements (i,j)=(0,11)\n",
      "Filling row index k=5 with elements (i,j)=(0,12)\n",
      "Filling row index k=5 with elements (i,j)=(0,13)\n",
      "Filling row index k=6 with elements (i,j)=(0,14)\n",
      "Filling row index k=6 with elements (i,j)=(0,15)\n",
      "Filling row index k=7 with elements (i,j)=(0,16)\n",
      "Filling row index k=7 with elements (i,j)=(0,17)\n",
      "Filling row index k=8 with elements (i,j)=(0,18)\n",
      "Filling row index k=8 with elements (i,j)=(0,19)\n",
      "Filling row index k=9 with elements (i,j)=(0,20)\n",
      "Filling row index k=9 with elements (i,j)=(0,21)\n",
      "Filling row index k=10 with elements (i,j)=(0,22)\n",
      "Filling row index k=10 with elements (i,j)=(0,23)\n",
      "Filling row index k=11 with elements (i,j)=(0,24)\n",
      "Filling row index k=11 with elements (i,j)=(0,25)\n",
      "Filling row index k=12 with elements (i,j)=(0,26)\n",
      "Filling row index k=12 with elements (i,j)=(0,27)\n",
      "Filling row index k=13 with elements (i,j)=(0,28)\n",
      "Filling row index k=13 with elements (i,j)=(0,29)\n",
      "Filling row index k=14 with elements (i,j)=(0,30)\n",
      "Filling row index k=14 with elements (i,j)=(0,31)\n",
      "Filling row index k=15 with elements (i,j)=(0,32)\n",
      "Filling row index k=15 with elements (i,j)=(0,33)\n",
      "Filling row index k=16 with elements (i,j)=(0,34)\n",
      "Filling row index k=16 with elements (i,j)=(0,35)\n",
      "Filling row index k=17 with elements (i,j)=(0,36)\n",
      "Filling row index k=17 with elements (i,j)=(0,37)\n",
      "Filling row index k=18 with elements (i,j)=(0,38)\n",
      "Filling row index k=18 with elements (i,j)=(0,39)\n",
      "Filling row index k=19 with elements (i,j)=(0,40)\n",
      "Filling row index k=19 with elements (i,j)=(0,41)\n",
      "Filling row index k=20 with elements (i,j)=(0,42)\n",
      "Filling row index k=20 with elements (i,j)=(0,43)\n",
      "Filling row index k=21 with elements (i,j)=(0,44)\n",
      "Filling row index k=21 with elements (i,j)=(0,45)\n",
      "0.0 0.0\n",
      "Filling row index k=0 with elements (i,j)=(1,2)\n",
      "Filling row index k=0 with elements (i,j)=(1,3)\n",
      "Adding content (equal to 0.0) of bin i=1, j=3 to Diagonal 3\n",
      "Adding content (equal to 0.0) of bin i=1, j=4 to Diagonal 3\n",
      "Filling row index k=1 with elements (i,j)=(1,4)\n",
      "Filling row index k=1 with elements (i,j)=(1,5)\n",
      "Filling row index k=2 with elements (i,j)=(1,6)\n",
      "Filling row index k=2 with elements (i,j)=(1,7)\n",
      "Filling row index k=3 with elements (i,j)=(1,8)\n",
      "Filling row index k=3 with elements (i,j)=(1,9)\n",
      "Filling row index k=4 with elements (i,j)=(1,10)\n",
      "Filling row index k=4 with elements (i,j)=(1,11)\n",
      "Filling row index k=5 with elements (i,j)=(1,12)\n",
      "Filling row index k=5 with elements (i,j)=(1,13)\n",
      "Filling row index k=6 with elements (i,j)=(1,14)\n",
      "Filling row index k=6 with elements (i,j)=(1,15)\n",
      "Filling row index k=7 with elements (i,j)=(1,16)\n",
      "Filling row index k=7 with elements (i,j)=(1,17)\n",
      "Filling row index k=8 with elements (i,j)=(1,18)\n",
      "Filling row index k=8 with elements (i,j)=(1,19)\n",
      "Filling row index k=9 with elements (i,j)=(1,20)\n",
      "Filling row index k=9 with elements (i,j)=(1,21)\n",
      "Filling row index k=10 with elements (i,j)=(1,22)\n",
      "Filling row index k=10 with elements (i,j)=(1,23)\n",
      "Filling row index k=11 with elements (i,j)=(1,24)\n",
      "Filling row index k=11 with elements (i,j)=(1,25)\n",
      "Filling row index k=12 with elements (i,j)=(1,26)\n",
      "Filling row index k=12 with elements (i,j)=(1,27)\n",
      "Filling row index k=13 with elements (i,j)=(1,28)\n",
      "Filling row index k=13 with elements (i,j)=(1,29)\n",
      "Filling row index k=14 with elements (i,j)=(1,30)\n",
      "Filling row index k=14 with elements (i,j)=(1,31)\n",
      "Filling row index k=15 with elements (i,j)=(1,32)\n",
      "Filling row index k=15 with elements (i,j)=(1,33)\n",
      "Filling row index k=16 with elements (i,j)=(1,34)\n",
      "Filling row index k=16 with elements (i,j)=(1,35)\n",
      "Filling row index k=17 with elements (i,j)=(1,36)\n",
      "Filling row index k=17 with elements (i,j)=(1,37)\n",
      "Filling row index k=18 with elements (i,j)=(1,38)\n",
      "Filling row index k=18 with elements (i,j)=(1,39)\n",
      "Filling row index k=19 with elements (i,j)=(1,40)\n",
      "Filling row index k=19 with elements (i,j)=(1,41)\n",
      "Filling row index k=20 with elements (i,j)=(1,42)\n",
      "Filling row index k=20 with elements (i,j)=(1,43)\n",
      "Filling row index k=21 with elements (i,j)=(1,44)\n",
      "Filling row index k=21 with elements (i,j)=(1,45)\n",
      "0.0 0.0\n",
      "Filling row index k=0 with elements (i,j)=(2,2)\n",
      "Filling row index k=0 with elements (i,j)=(2,3)\n",
      "Filling row index k=1 with elements (i,j)=(2,4)\n",
      "Filling row index k=1 with elements (i,j)=(2,5)\n",
      "Adding content (equal to 0.0) of bin i=2, j=5 to Diagonal 5\n",
      "Adding content (equal to 0.0) of bin i=2, j=6 to Diagonal 5\n",
      "Filling row index k=2 with elements (i,j)=(2,6)\n",
      "Filling row index k=2 with elements (i,j)=(2,7)\n",
      "Filling row index k=3 with elements (i,j)=(2,8)\n",
      "Filling row index k=3 with elements (i,j)=(2,9)\n",
      "Filling row index k=4 with elements (i,j)=(2,10)\n",
      "Filling row index k=4 with elements (i,j)=(2,11)\n",
      "Filling row index k=5 with elements (i,j)=(2,12)\n",
      "Filling row index k=5 with elements (i,j)=(2,13)\n",
      "Filling row index k=6 with elements (i,j)=(2,14)\n",
      "Filling row index k=6 with elements (i,j)=(2,15)\n",
      "Filling row index k=7 with elements (i,j)=(2,16)\n",
      "Filling row index k=7 with elements (i,j)=(2,17)\n",
      "Filling row index k=8 with elements (i,j)=(2,18)\n",
      "Filling row index k=8 with elements (i,j)=(2,19)\n",
      "Filling row index k=9 with elements (i,j)=(2,20)\n",
      "Filling row index k=9 with elements (i,j)=(2,21)\n",
      "Filling row index k=10 with elements (i,j)=(2,22)\n",
      "Filling row index k=10 with elements (i,j)=(2,23)\n",
      "Filling row index k=11 with elements (i,j)=(2,24)\n",
      "Filling row index k=11 with elements (i,j)=(2,25)\n",
      "Filling row index k=12 with elements (i,j)=(2,26)\n",
      "Filling row index k=12 with elements (i,j)=(2,27)\n",
      "Filling row index k=13 with elements (i,j)=(2,28)\n",
      "Filling row index k=13 with elements (i,j)=(2,29)\n",
      "Filling row index k=14 with elements (i,j)=(2,30)\n",
      "Filling row index k=14 with elements (i,j)=(2,31)\n",
      "Filling row index k=15 with elements (i,j)=(2,32)\n",
      "Filling row index k=15 with elements (i,j)=(2,33)\n",
      "Filling row index k=16 with elements (i,j)=(2,34)\n",
      "Filling row index k=16 with elements (i,j)=(2,35)\n",
      "Filling row index k=17 with elements (i,j)=(2,36)\n",
      "Filling row index k=17 with elements (i,j)=(2,37)\n",
      "Filling row index k=18 with elements (i,j)=(2,38)\n",
      "Filling row index k=18 with elements (i,j)=(2,39)\n",
      "Filling row index k=19 with elements (i,j)=(2,40)\n",
      "Filling row index k=19 with elements (i,j)=(2,41)\n",
      "Filling row index k=20 with elements (i,j)=(2,42)\n",
      "Filling row index k=20 with elements (i,j)=(2,43)\n",
      "Filling row index k=21 with elements (i,j)=(2,44)\n",
      "Filling row index k=21 with elements (i,j)=(2,45)\n",
      "0.798400864317 0.0\n",
      "Filling row index k=0 with elements (i,j)=(3,2)\n",
      "Filling row index k=0 with elements (i,j)=(3,3)\n",
      "Filling row index k=1 with elements (i,j)=(3,4)\n",
      "Filling row index k=1 with elements (i,j)=(3,5)\n",
      "Filling row index k=2 with elements (i,j)=(3,6)\n",
      "Filling row index k=2 with elements (i,j)=(3,7)\n",
      "Adding content (equal to 0.0) of bin i=3, j=7 to Diagonal 7\n",
      "Adding content (equal to 0.0) of bin i=3, j=8 to Diagonal 7\n",
      "Filling row index k=3 with elements (i,j)=(3,8)\n",
      "Filling row index k=3 with elements (i,j)=(3,9)\n",
      "Filling row index k=4 with elements (i,j)=(3,10)\n",
      "Filling row index k=4 with elements (i,j)=(3,11)\n",
      "Filling row index k=5 with elements (i,j)=(3,12)\n",
      "Filling row index k=5 with elements (i,j)=(3,13)\n",
      "Filling row index k=6 with elements (i,j)=(3,14)\n",
      "Filling row index k=6 with elements (i,j)=(3,15)\n",
      "Filling row index k=7 with elements (i,j)=(3,16)\n",
      "Filling row index k=7 with elements (i,j)=(3,17)\n",
      "Filling row index k=8 with elements (i,j)=(3,18)\n",
      "Filling row index k=8 with elements (i,j)=(3,19)\n",
      "Filling row index k=9 with elements (i,j)=(3,20)\n",
      "Filling row index k=9 with elements (i,j)=(3,21)\n",
      "Filling row index k=10 with elements (i,j)=(3,22)\n",
      "Filling row index k=10 with elements (i,j)=(3,23)\n",
      "Filling row index k=11 with elements (i,j)=(3,24)\n",
      "Filling row index k=11 with elements (i,j)=(3,25)\n",
      "Filling row index k=12 with elements (i,j)=(3,26)\n",
      "Filling row index k=12 with elements (i,j)=(3,27)\n",
      "Filling row index k=13 with elements (i,j)=(3,28)\n",
      "Filling row index k=13 with elements (i,j)=(3,29)\n",
      "Filling row index k=14 with elements (i,j)=(3,30)\n",
      "Filling row index k=14 with elements (i,j)=(3,31)\n",
      "Filling row index k=15 with elements (i,j)=(3,32)\n",
      "Filling row index k=15 with elements (i,j)=(3,33)\n",
      "Filling row index k=16 with elements (i,j)=(3,34)\n",
      "Filling row index k=16 with elements (i,j)=(3,35)\n",
      "Filling row index k=17 with elements (i,j)=(3,36)\n",
      "Filling row index k=17 with elements (i,j)=(3,37)\n",
      "Filling row index k=18 with elements (i,j)=(3,38)\n",
      "Filling row index k=18 with elements (i,j)=(3,39)\n",
      "Filling row index k=19 with elements (i,j)=(3,40)\n",
      "Filling row index k=19 with elements (i,j)=(3,41)\n",
      "Filling row index k=20 with elements (i,j)=(3,42)\n",
      "Filling row index k=20 with elements (i,j)=(3,43)\n",
      "Filling row index k=21 with elements (i,j)=(3,44)\n",
      "Filling row index k=21 with elements (i,j)=(3,45)\n",
      "4.21115573457 0.0\n",
      "Filling row index k=0 with elements (i,j)=(4,2)\n",
      "Filling row index k=0 with elements (i,j)=(4,3)\n",
      "Filling row index k=1 with elements (i,j)=(4,4)\n",
      "Filling row index k=1 with elements (i,j)=(4,5)\n",
      "Filling row index k=2 with elements (i,j)=(4,6)\n",
      "Filling row index k=2 with elements (i,j)=(4,7)\n",
      "Filling row index k=3 with elements (i,j)=(4,8)\n",
      "Filling row index k=3 with elements (i,j)=(4,9)\n",
      "Adding content (equal to 0.0) of bin i=4, j=9 to Diagonal 9\n",
      "Adding content (equal to 0.0) of bin i=4, j=10 to Diagonal 9\n",
      "Filling row index k=4 with elements (i,j)=(4,10)\n",
      "Filling row index k=4 with elements (i,j)=(4,11)\n",
      "Filling row index k=5 with elements (i,j)=(4,12)\n",
      "Filling row index k=5 with elements (i,j)=(4,13)\n",
      "Filling row index k=6 with elements (i,j)=(4,14)\n",
      "Filling row index k=6 with elements (i,j)=(4,15)\n",
      "Filling row index k=7 with elements (i,j)=(4,16)\n",
      "Filling row index k=7 with elements (i,j)=(4,17)\n",
      "Filling row index k=8 with elements (i,j)=(4,18)\n",
      "Filling row index k=8 with elements (i,j)=(4,19)\n",
      "Filling row index k=9 with elements (i,j)=(4,20)\n",
      "Filling row index k=9 with elements (i,j)=(4,21)\n",
      "Filling row index k=10 with elements (i,j)=(4,22)\n",
      "Filling row index k=10 with elements (i,j)=(4,23)\n",
      "Filling row index k=11 with elements (i,j)=(4,24)\n",
      "Filling row index k=11 with elements (i,j)=(4,25)\n",
      "Filling row index k=12 with elements (i,j)=(4,26)\n",
      "Filling row index k=12 with elements (i,j)=(4,27)\n",
      "Filling row index k=13 with elements (i,j)=(4,28)\n",
      "Filling row index k=13 with elements (i,j)=(4,29)\n",
      "Filling row index k=14 with elements (i,j)=(4,30)\n",
      "Filling row index k=14 with elements (i,j)=(4,31)\n",
      "Filling row index k=15 with elements (i,j)=(4,32)\n",
      "Filling row index k=15 with elements (i,j)=(4,33)\n",
      "Filling row index k=16 with elements (i,j)=(4,34)\n",
      "Filling row index k=16 with elements (i,j)=(4,35)\n",
      "Filling row index k=17 with elements (i,j)=(4,36)\n",
      "Filling row index k=17 with elements (i,j)=(4,37)\n",
      "Filling row index k=18 with elements (i,j)=(4,38)\n",
      "Filling row index k=18 with elements (i,j)=(4,39)\n",
      "Filling row index k=19 with elements (i,j)=(4,40)\n",
      "Filling row index k=19 with elements (i,j)=(4,41)\n",
      "Filling row index k=20 with elements (i,j)=(4,42)\n",
      "Filling row index k=20 with elements (i,j)=(4,43)\n",
      "Filling row index k=21 with elements (i,j)=(4,44)\n",
      "Filling row index k=21 with elements (i,j)=(4,45)\n",
      "31.4248641763 0.0\n",
      "Filling row index k=0 with elements (i,j)=(5,2)\n",
      "Filling row index k=0 with elements (i,j)=(5,3)\n",
      "Filling row index k=1 with elements (i,j)=(5,4)\n",
      "Filling row index k=1 with elements (i,j)=(5,5)\n",
      "Filling row index k=2 with elements (i,j)=(5,6)\n",
      "Filling row index k=2 with elements (i,j)=(5,7)\n",
      "Filling row index k=3 with elements (i,j)=(5,8)\n",
      "Filling row index k=3 with elements (i,j)=(5,9)\n",
      "Filling row index k=4 with elements (i,j)=(5,10)\n",
      "Filling row index k=4 with elements (i,j)=(5,11)\n",
      "Adding content (equal to 0.373546373763) of bin i=5, j=11 to Diagonal 11\n",
      "Adding content (equal to 0.486723523025) of bin i=5, j=12 to Diagonal 11\n",
      "Filling row index k=5 with elements (i,j)=(5,12)\n",
      "Filling row index k=5 with elements (i,j)=(5,13)\n",
      "Filling row index k=6 with elements (i,j)=(5,14)\n",
      "Filling row index k=6 with elements (i,j)=(5,15)\n",
      "Filling row index k=7 with elements (i,j)=(5,16)\n",
      "Filling row index k=7 with elements (i,j)=(5,17)\n",
      "Filling row index k=8 with elements (i,j)=(5,18)\n",
      "Filling row index k=8 with elements (i,j)=(5,19)\n",
      "Filling row index k=9 with elements (i,j)=(5,20)\n",
      "Filling row index k=9 with elements (i,j)=(5,21)\n",
      "Filling row index k=10 with elements (i,j)=(5,22)\n",
      "Filling row index k=10 with elements (i,j)=(5,23)\n",
      "Filling row index k=11 with elements (i,j)=(5,24)\n",
      "Filling row index k=11 with elements (i,j)=(5,25)\n",
      "Filling row index k=12 with elements (i,j)=(5,26)\n",
      "Filling row index k=12 with elements (i,j)=(5,27)\n",
      "Filling row index k=13 with elements (i,j)=(5,28)\n",
      "Filling row index k=13 with elements (i,j)=(5,29)\n",
      "Filling row index k=14 with elements (i,j)=(5,30)\n",
      "Filling row index k=14 with elements (i,j)=(5,31)\n",
      "Filling row index k=15 with elements (i,j)=(5,32)\n",
      "Filling row index k=15 with elements (i,j)=(5,33)\n",
      "Filling row index k=16 with elements (i,j)=(5,34)\n",
      "Filling row index k=16 with elements (i,j)=(5,35)\n",
      "Filling row index k=17 with elements (i,j)=(5,36)\n",
      "Filling row index k=17 with elements (i,j)=(5,37)\n",
      "Filling row index k=18 with elements (i,j)=(5,38)\n",
      "Filling row index k=18 with elements (i,j)=(5,39)\n",
      "Filling row index k=19 with elements (i,j)=(5,40)\n",
      "Filling row index k=19 with elements (i,j)=(5,41)\n",
      "Filling row index k=20 with elements (i,j)=(5,42)\n",
      "Filling row index k=20 with elements (i,j)=(5,43)\n",
      "Filling row index k=21 with elements (i,j)=(5,44)\n",
      "Filling row index k=21 with elements (i,j)=(5,45)\n",
      "71.3791198262 0.860269896788\n",
      "Filling row index k=0 with elements (i,j)=(6,2)\n",
      "Filling row index k=0 with elements (i,j)=(6,3)\n",
      "Filling row index k=1 with elements (i,j)=(6,4)\n",
      "Filling row index k=1 with elements (i,j)=(6,5)\n",
      "Filling row index k=2 with elements (i,j)=(6,6)\n",
      "Filling row index k=2 with elements (i,j)=(6,7)\n",
      "Filling row index k=3 with elements (i,j)=(6,8)\n",
      "Filling row index k=3 with elements (i,j)=(6,9)\n",
      "Filling row index k=4 with elements (i,j)=(6,10)\n",
      "Filling row index k=4 with elements (i,j)=(6,11)\n",
      "Filling row index k=5 with elements (i,j)=(6,12)\n",
      "Filling row index k=5 with elements (i,j)=(6,13)\n",
      "Adding content (equal to 0.363462402049) of bin i=6, j=13 to Diagonal 13\n",
      "Adding content (equal to 0.0) of bin i=6, j=14 to Diagonal 13\n",
      "Filling row index k=6 with elements (i,j)=(6,14)\n",
      "Filling row index k=6 with elements (i,j)=(6,15)\n",
      "Filling row index k=7 with elements (i,j)=(6,16)\n",
      "Filling row index k=7 with elements (i,j)=(6,17)\n",
      "Filling row index k=8 with elements (i,j)=(6,18)\n",
      "Filling row index k=8 with elements (i,j)=(6,19)\n",
      "Filling row index k=9 with elements (i,j)=(6,20)\n",
      "Filling row index k=9 with elements (i,j)=(6,21)\n",
      "Filling row index k=10 with elements (i,j)=(6,22)\n",
      "Filling row index k=10 with elements (i,j)=(6,23)\n",
      "Filling row index k=11 with elements (i,j)=(6,24)\n",
      "Filling row index k=11 with elements (i,j)=(6,25)\n",
      "Filling row index k=12 with elements (i,j)=(6,26)\n",
      "Filling row index k=12 with elements (i,j)=(6,27)\n",
      "Filling row index k=13 with elements (i,j)=(6,28)\n",
      "Filling row index k=13 with elements (i,j)=(6,29)\n",
      "Filling row index k=14 with elements (i,j)=(6,30)\n",
      "Filling row index k=14 with elements (i,j)=(6,31)\n",
      "Filling row index k=15 with elements (i,j)=(6,32)\n",
      "Filling row index k=15 with elements (i,j)=(6,33)\n",
      "Filling row index k=16 with elements (i,j)=(6,34)\n",
      "Filling row index k=16 with elements (i,j)=(6,35)\n",
      "Filling row index k=17 with elements (i,j)=(6,36)\n",
      "Filling row index k=17 with elements (i,j)=(6,37)\n",
      "Filling row index k=18 with elements (i,j)=(6,38)\n",
      "Filling row index k=18 with elements (i,j)=(6,39)\n",
      "Filling row index k=19 with elements (i,j)=(6,40)\n",
      "Filling row index k=19 with elements (i,j)=(6,41)\n",
      "Filling row index k=20 with elements (i,j)=(6,42)\n",
      "Filling row index k=20 with elements (i,j)=(6,43)\n",
      "Filling row index k=21 with elements (i,j)=(6,44)\n",
      "Filling row index k=21 with elements (i,j)=(6,45)\n",
      "198.758252325 0.363462402049\n",
      "Filling row index k=0 with elements (i,j)=(7,2)\n",
      "Filling row index k=0 with elements (i,j)=(7,3)\n",
      "Filling row index k=1 with elements (i,j)=(7,4)\n",
      "Filling row index k=1 with elements (i,j)=(7,5)\n",
      "Filling row index k=2 with elements (i,j)=(7,6)\n",
      "Filling row index k=2 with elements (i,j)=(7,7)\n",
      "Filling row index k=3 with elements (i,j)=(7,8)\n",
      "Filling row index k=3 with elements (i,j)=(7,9)\n",
      "Filling row index k=4 with elements (i,j)=(7,10)\n",
      "Filling row index k=4 with elements (i,j)=(7,11)\n",
      "Filling row index k=5 with elements (i,j)=(7,12)\n",
      "Filling row index k=5 with elements (i,j)=(7,13)\n",
      "Filling row index k=6 with elements (i,j)=(7,14)\n",
      "Filling row index k=6 with elements (i,j)=(7,15)\n",
      "Adding content (equal to 0.450255836073) of bin i=7, j=15 to Diagonal 15\n",
      "Adding content (equal to 0.0) of bin i=7, j=16 to Diagonal 15\n",
      "Filling row index k=7 with elements (i,j)=(7,16)\n",
      "Filling row index k=7 with elements (i,j)=(7,17)\n",
      "Filling row index k=8 with elements (i,j)=(7,18)\n",
      "Filling row index k=8 with elements (i,j)=(7,19)\n",
      "Filling row index k=9 with elements (i,j)=(7,20)\n",
      "Filling row index k=9 with elements (i,j)=(7,21)\n",
      "Filling row index k=10 with elements (i,j)=(7,22)\n",
      "Filling row index k=10 with elements (i,j)=(7,23)\n",
      "Filling row index k=11 with elements (i,j)=(7,24)\n",
      "Filling row index k=11 with elements (i,j)=(7,25)\n",
      "Filling row index k=12 with elements (i,j)=(7,26)\n",
      "Filling row index k=12 with elements (i,j)=(7,27)\n",
      "Filling row index k=13 with elements (i,j)=(7,28)\n",
      "Filling row index k=13 with elements (i,j)=(7,29)\n",
      "Filling row index k=14 with elements (i,j)=(7,30)\n",
      "Filling row index k=14 with elements (i,j)=(7,31)\n",
      "Filling row index k=15 with elements (i,j)=(7,32)\n",
      "Filling row index k=15 with elements (i,j)=(7,33)\n",
      "Filling row index k=16 with elements (i,j)=(7,34)\n",
      "Filling row index k=16 with elements (i,j)=(7,35)\n",
      "Filling row index k=17 with elements (i,j)=(7,36)\n",
      "Filling row index k=17 with elements (i,j)=(7,37)\n",
      "Filling row index k=18 with elements (i,j)=(7,38)\n",
      "Filling row index k=18 with elements (i,j)=(7,39)\n",
      "Filling row index k=19 with elements (i,j)=(7,40)\n",
      "Filling row index k=19 with elements (i,j)=(7,41)\n",
      "Filling row index k=20 with elements (i,j)=(7,42)\n",
      "Filling row index k=20 with elements (i,j)=(7,43)\n",
      "Filling row index k=21 with elements (i,j)=(7,44)\n",
      "Filling row index k=21 with elements (i,j)=(7,45)\n",
      "350.548447918 0.450255836073\n",
      "Filling row index k=0 with elements (i,j)=(8,2)\n",
      "Filling row index k=0 with elements (i,j)=(8,3)\n",
      "Filling row index k=1 with elements (i,j)=(8,4)\n",
      "Filling row index k=1 with elements (i,j)=(8,5)\n",
      "Filling row index k=2 with elements (i,j)=(8,6)\n",
      "Filling row index k=2 with elements (i,j)=(8,7)\n",
      "Filling row index k=3 with elements (i,j)=(8,8)\n",
      "Filling row index k=3 with elements (i,j)=(8,9)\n",
      "Filling row index k=4 with elements (i,j)=(8,10)\n",
      "Filling row index k=4 with elements (i,j)=(8,11)\n",
      "Filling row index k=5 with elements (i,j)=(8,12)\n",
      "Filling row index k=5 with elements (i,j)=(8,13)\n",
      "Filling row index k=6 with elements (i,j)=(8,14)\n",
      "Filling row index k=6 with elements (i,j)=(8,15)\n",
      "Filling row index k=7 with elements (i,j)=(8,16)\n",
      "Filling row index k=7 with elements (i,j)=(8,17)\n",
      "Adding content (equal to 0.0) of bin i=8, j=17 to Diagonal 17\n",
      "Adding content (equal to 0.379082180502) of bin i=8, j=18 to Diagonal 17\n",
      "Filling row index k=8 with elements (i,j)=(8,18)\n",
      "Filling row index k=8 with elements (i,j)=(8,19)\n",
      "Filling row index k=9 with elements (i,j)=(8,20)\n",
      "Filling row index k=9 with elements (i,j)=(8,21)\n",
      "Filling row index k=10 with elements (i,j)=(8,22)\n",
      "Filling row index k=10 with elements (i,j)=(8,23)\n",
      "Filling row index k=11 with elements (i,j)=(8,24)\n",
      "Filling row index k=11 with elements (i,j)=(8,25)\n",
      "Filling row index k=12 with elements (i,j)=(8,26)\n",
      "Filling row index k=12 with elements (i,j)=(8,27)\n",
      "Filling row index k=13 with elements (i,j)=(8,28)\n",
      "Filling row index k=13 with elements (i,j)=(8,29)\n",
      "Filling row index k=14 with elements (i,j)=(8,30)\n",
      "Filling row index k=14 with elements (i,j)=(8,31)\n",
      "Filling row index k=15 with elements (i,j)=(8,32)\n",
      "Filling row index k=15 with elements (i,j)=(8,33)\n",
      "Filling row index k=16 with elements (i,j)=(8,34)\n",
      "Filling row index k=16 with elements (i,j)=(8,35)\n",
      "Filling row index k=17 with elements (i,j)=(8,36)\n",
      "Filling row index k=17 with elements (i,j)=(8,37)\n",
      "Filling row index k=18 with elements (i,j)=(8,38)\n",
      "Filling row index k=18 with elements (i,j)=(8,39)\n",
      "Filling row index k=19 with elements (i,j)=(8,40)\n",
      "Filling row index k=19 with elements (i,j)=(8,41)\n",
      "Filling row index k=20 with elements (i,j)=(8,42)\n",
      "Filling row index k=20 with elements (i,j)=(8,43)\n",
      "Filling row index k=21 with elements (i,j)=(8,44)\n",
      "Filling row index k=21 with elements (i,j)=(8,45)\n",
      "521.208933144 0.379082180502\n",
      "Filling row index k=0 with elements (i,j)=(9,2)\n",
      "Filling row index k=0 with elements (i,j)=(9,3)\n",
      "Filling row index k=1 with elements (i,j)=(9,4)\n",
      "Filling row index k=1 with elements (i,j)=(9,5)\n",
      "Filling row index k=2 with elements (i,j)=(9,6)\n",
      "Filling row index k=2 with elements (i,j)=(9,7)\n",
      "Filling row index k=3 with elements (i,j)=(9,8)\n",
      "Filling row index k=3 with elements (i,j)=(9,9)\n",
      "Filling row index k=4 with elements (i,j)=(9,10)\n",
      "Filling row index k=4 with elements (i,j)=(9,11)\n",
      "Filling row index k=5 with elements (i,j)=(9,12)\n",
      "Filling row index k=5 with elements (i,j)=(9,13)\n",
      "Filling row index k=6 with elements (i,j)=(9,14)\n",
      "Filling row index k=6 with elements (i,j)=(9,15)\n",
      "Filling row index k=7 with elements (i,j)=(9,16)\n",
      "Filling row index k=7 with elements (i,j)=(9,17)\n",
      "Filling row index k=8 with elements (i,j)=(9,18)\n",
      "Filling row index k=8 with elements (i,j)=(9,19)\n",
      "Adding content (equal to 0.37207356676) of bin i=9, j=19 to Diagonal 19\n",
      "Adding content (equal to 1.09204554514) of bin i=9, j=20 to Diagonal 19\n",
      "Filling row index k=9 with elements (i,j)=(9,20)\n",
      "Filling row index k=9 with elements (i,j)=(9,21)\n",
      "Filling row index k=10 with elements (i,j)=(9,22)\n",
      "Filling row index k=10 with elements (i,j)=(9,23)\n",
      "Filling row index k=11 with elements (i,j)=(9,24)\n",
      "Filling row index k=11 with elements (i,j)=(9,25)\n",
      "Filling row index k=12 with elements (i,j)=(9,26)\n",
      "Filling row index k=12 with elements (i,j)=(9,27)\n",
      "Filling row index k=13 with elements (i,j)=(9,28)\n",
      "Filling row index k=13 with elements (i,j)=(9,29)\n",
      "Filling row index k=14 with elements (i,j)=(9,30)\n",
      "Filling row index k=14 with elements (i,j)=(9,31)\n",
      "Filling row index k=15 with elements (i,j)=(9,32)\n",
      "Filling row index k=15 with elements (i,j)=(9,33)\n",
      "Filling row index k=16 with elements (i,j)=(9,34)\n",
      "Filling row index k=16 with elements (i,j)=(9,35)\n",
      "Filling row index k=17 with elements (i,j)=(9,36)\n",
      "Filling row index k=17 with elements (i,j)=(9,37)\n",
      "Filling row index k=18 with elements (i,j)=(9,38)\n",
      "Filling row index k=18 with elements (i,j)=(9,39)\n",
      "Filling row index k=19 with elements (i,j)=(9,40)\n",
      "Filling row index k=19 with elements (i,j)=(9,41)\n",
      "Filling row index k=20 with elements (i,j)=(9,42)\n",
      "Filling row index k=20 with elements (i,j)=(9,43)\n",
      "Filling row index k=21 with elements (i,j)=(9,44)\n",
      "Filling row index k=21 with elements (i,j)=(9,45)\n",
      "684.448134459 1.4641191119\n",
      "Filling row index k=0 with elements (i,j)=(10,2)\n",
      "Filling row index k=0 with elements (i,j)=(10,3)\n",
      "Filling row index k=1 with elements (i,j)=(10,4)\n",
      "Filling row index k=1 with elements (i,j)=(10,5)\n",
      "Filling row index k=2 with elements (i,j)=(10,6)\n",
      "Filling row index k=2 with elements (i,j)=(10,7)\n",
      "Filling row index k=3 with elements (i,j)=(10,8)\n",
      "Filling row index k=3 with elements (i,j)=(10,9)\n",
      "Filling row index k=4 with elements (i,j)=(10,10)\n",
      "Filling row index k=4 with elements (i,j)=(10,11)\n",
      "Filling row index k=5 with elements (i,j)=(10,12)\n",
      "Filling row index k=5 with elements (i,j)=(10,13)\n",
      "Filling row index k=6 with elements (i,j)=(10,14)\n",
      "Filling row index k=6 with elements (i,j)=(10,15)\n",
      "Filling row index k=7 with elements (i,j)=(10,16)\n",
      "Filling row index k=7 with elements (i,j)=(10,17)\n",
      "Filling row index k=8 with elements (i,j)=(10,18)\n",
      "Filling row index k=8 with elements (i,j)=(10,19)\n",
      "Filling row index k=9 with elements (i,j)=(10,20)\n",
      "Filling row index k=9 with elements (i,j)=(10,21)\n",
      "Adding content (equal to 0.989097250348) of bin i=10, j=21 to Diagonal 21\n",
      "Adding content (equal to 0.0) of bin i=10, j=22 to Diagonal 21\n",
      "Filling row index k=10 with elements (i,j)=(10,22)\n",
      "Filling row index k=10 with elements (i,j)=(10,23)\n",
      "Filling row index k=11 with elements (i,j)=(10,24)\n",
      "Filling row index k=11 with elements (i,j)=(10,25)\n",
      "Filling row index k=12 with elements (i,j)=(10,26)\n",
      "Filling row index k=12 with elements (i,j)=(10,27)\n",
      "Filling row index k=13 with elements (i,j)=(10,28)\n",
      "Filling row index k=13 with elements (i,j)=(10,29)\n",
      "Filling row index k=14 with elements (i,j)=(10,30)\n",
      "Filling row index k=14 with elements (i,j)=(10,31)\n",
      "Filling row index k=15 with elements (i,j)=(10,32)\n",
      "Filling row index k=15 with elements (i,j)=(10,33)\n",
      "Filling row index k=16 with elements (i,j)=(10,34)\n",
      "Filling row index k=16 with elements (i,j)=(10,35)\n",
      "Filling row index k=17 with elements (i,j)=(10,36)\n",
      "Filling row index k=17 with elements (i,j)=(10,37)\n",
      "Filling row index k=18 with elements (i,j)=(10,38)\n",
      "Filling row index k=18 with elements (i,j)=(10,39)\n",
      "Filling row index k=19 with elements (i,j)=(10,40)\n",
      "Filling row index k=19 with elements (i,j)=(10,41)\n",
      "Filling row index k=20 with elements (i,j)=(10,42)\n",
      "Filling row index k=20 with elements (i,j)=(10,43)\n",
      "Filling row index k=21 with elements (i,j)=(10,44)\n",
      "Filling row index k=21 with elements (i,j)=(10,45)\n",
      "778.106028166 0.989097250348\n",
      "Filling row index k=0 with elements (i,j)=(11,2)\n",
      "Filling row index k=0 with elements (i,j)=(11,3)\n",
      "Filling row index k=1 with elements (i,j)=(11,4)\n",
      "Filling row index k=1 with elements (i,j)=(11,5)\n",
      "Filling row index k=2 with elements (i,j)=(11,6)\n",
      "Filling row index k=2 with elements (i,j)=(11,7)\n",
      "Filling row index k=3 with elements (i,j)=(11,8)\n",
      "Filling row index k=3 with elements (i,j)=(11,9)\n",
      "Filling row index k=4 with elements (i,j)=(11,10)\n",
      "Filling row index k=4 with elements (i,j)=(11,11)\n",
      "Filling row index k=5 with elements (i,j)=(11,12)\n",
      "Filling row index k=5 with elements (i,j)=(11,13)\n",
      "Filling row index k=6 with elements (i,j)=(11,14)\n",
      "Filling row index k=6 with elements (i,j)=(11,15)\n",
      "Filling row index k=7 with elements (i,j)=(11,16)\n",
      "Filling row index k=7 with elements (i,j)=(11,17)\n",
      "Filling row index k=8 with elements (i,j)=(11,18)\n",
      "Filling row index k=8 with elements (i,j)=(11,19)\n",
      "Filling row index k=9 with elements (i,j)=(11,20)\n",
      "Filling row index k=9 with elements (i,j)=(11,21)\n",
      "Filling row index k=10 with elements (i,j)=(11,22)\n",
      "Filling row index k=10 with elements (i,j)=(11,23)\n",
      "Adding content (equal to 0.0) of bin i=11, j=23 to Diagonal 23\n",
      "Adding content (equal to 0.0) of bin i=11, j=24 to Diagonal 23\n",
      "Filling row index k=11 with elements (i,j)=(11,24)\n",
      "Filling row index k=11 with elements (i,j)=(11,25)\n",
      "Filling row index k=12 with elements (i,j)=(11,26)\n",
      "Filling row index k=12 with elements (i,j)=(11,27)\n",
      "Filling row index k=13 with elements (i,j)=(11,28)\n",
      "Filling row index k=13 with elements (i,j)=(11,29)\n",
      "Filling row index k=14 with elements (i,j)=(11,30)\n",
      "Filling row index k=14 with elements (i,j)=(11,31)\n",
      "Filling row index k=15 with elements (i,j)=(11,32)\n",
      "Filling row index k=15 with elements (i,j)=(11,33)\n",
      "Filling row index k=16 with elements (i,j)=(11,34)\n",
      "Filling row index k=16 with elements (i,j)=(11,35)\n",
      "Filling row index k=17 with elements (i,j)=(11,36)\n",
      "Filling row index k=17 with elements (i,j)=(11,37)\n",
      "Filling row index k=18 with elements (i,j)=(11,38)\n",
      "Filling row index k=18 with elements (i,j)=(11,39)\n",
      "Filling row index k=19 with elements (i,j)=(11,40)\n",
      "Filling row index k=19 with elements (i,j)=(11,41)\n",
      "Filling row index k=20 with elements (i,j)=(11,42)\n",
      "Filling row index k=20 with elements (i,j)=(11,43)\n",
      "Filling row index k=21 with elements (i,j)=(11,44)\n",
      "Filling row index k=21 with elements (i,j)=(11,45)\n",
      "784.983677029 0.0\n",
      "Filling row index k=0 with elements (i,j)=(12,2)\n",
      "Filling row index k=0 with elements (i,j)=(12,3)\n",
      "Filling row index k=1 with elements (i,j)=(12,4)\n",
      "Filling row index k=1 with elements (i,j)=(12,5)\n",
      "Filling row index k=2 with elements (i,j)=(12,6)\n",
      "Filling row index k=2 with elements (i,j)=(12,7)\n",
      "Filling row index k=3 with elements (i,j)=(12,8)\n",
      "Filling row index k=3 with elements (i,j)=(12,9)\n",
      "Filling row index k=4 with elements (i,j)=(12,10)\n",
      "Filling row index k=4 with elements (i,j)=(12,11)\n",
      "Filling row index k=5 with elements (i,j)=(12,12)\n",
      "Filling row index k=5 with elements (i,j)=(12,13)\n",
      "Filling row index k=6 with elements (i,j)=(12,14)\n",
      "Filling row index k=6 with elements (i,j)=(12,15)\n",
      "Filling row index k=7 with elements (i,j)=(12,16)\n",
      "Filling row index k=7 with elements (i,j)=(12,17)\n",
      "Filling row index k=8 with elements (i,j)=(12,18)\n",
      "Filling row index k=8 with elements (i,j)=(12,19)\n",
      "Filling row index k=9 with elements (i,j)=(12,20)\n",
      "Filling row index k=9 with elements (i,j)=(12,21)\n",
      "Filling row index k=10 with elements (i,j)=(12,22)\n",
      "Filling row index k=10 with elements (i,j)=(12,23)\n",
      "Filling row index k=11 with elements (i,j)=(12,24)\n",
      "Filling row index k=11 with elements (i,j)=(12,25)\n",
      "Adding content (equal to 0.0) of bin i=12, j=25 to Diagonal 25\n",
      "Adding content (equal to 0.0) of bin i=12, j=26 to Diagonal 25\n",
      "Filling row index k=12 with elements (i,j)=(12,26)\n",
      "Filling row index k=12 with elements (i,j)=(12,27)\n",
      "Filling row index k=13 with elements (i,j)=(12,28)\n",
      "Filling row index k=13 with elements (i,j)=(12,29)\n",
      "Filling row index k=14 with elements (i,j)=(12,30)\n",
      "Filling row index k=14 with elements (i,j)=(12,31)\n",
      "Filling row index k=15 with elements (i,j)=(12,32)\n",
      "Filling row index k=15 with elements (i,j)=(12,33)\n",
      "Filling row index k=16 with elements (i,j)=(12,34)\n",
      "Filling row index k=16 with elements (i,j)=(12,35)\n",
      "Filling row index k=17 with elements (i,j)=(12,36)\n",
      "Filling row index k=17 with elements (i,j)=(12,37)\n",
      "Filling row index k=18 with elements (i,j)=(12,38)\n",
      "Filling row index k=18 with elements (i,j)=(12,39)\n",
      "Filling row index k=19 with elements (i,j)=(12,40)\n",
      "Filling row index k=19 with elements (i,j)=(12,41)\n",
      "Filling row index k=20 with elements (i,j)=(12,42)\n",
      "Filling row index k=20 with elements (i,j)=(12,43)\n",
      "Filling row index k=21 with elements (i,j)=(12,44)\n",
      "Filling row index k=21 with elements (i,j)=(12,45)\n",
      "857.63689871 0.0\n",
      "Filling row index k=0 with elements (i,j)=(13,2)\n",
      "Filling row index k=0 with elements (i,j)=(13,3)\n",
      "Filling row index k=1 with elements (i,j)=(13,4)\n",
      "Filling row index k=1 with elements (i,j)=(13,5)\n",
      "Filling row index k=2 with elements (i,j)=(13,6)\n",
      "Filling row index k=2 with elements (i,j)=(13,7)\n",
      "Filling row index k=3 with elements (i,j)=(13,8)\n",
      "Filling row index k=3 with elements (i,j)=(13,9)\n",
      "Filling row index k=4 with elements (i,j)=(13,10)\n",
      "Filling row index k=4 with elements (i,j)=(13,11)\n",
      "Filling row index k=5 with elements (i,j)=(13,12)\n",
      "Filling row index k=5 with elements (i,j)=(13,13)\n",
      "Filling row index k=6 with elements (i,j)=(13,14)\n",
      "Filling row index k=6 with elements (i,j)=(13,15)\n",
      "Filling row index k=7 with elements (i,j)=(13,16)\n",
      "Filling row index k=7 with elements (i,j)=(13,17)\n",
      "Filling row index k=8 with elements (i,j)=(13,18)\n",
      "Filling row index k=8 with elements (i,j)=(13,19)\n",
      "Filling row index k=9 with elements (i,j)=(13,20)\n",
      "Filling row index k=9 with elements (i,j)=(13,21)\n",
      "Filling row index k=10 with elements (i,j)=(13,22)\n",
      "Filling row index k=10 with elements (i,j)=(13,23)\n",
      "Filling row index k=11 with elements (i,j)=(13,24)\n",
      "Filling row index k=11 with elements (i,j)=(13,25)\n",
      "Filling row index k=12 with elements (i,j)=(13,26)\n",
      "Filling row index k=12 with elements (i,j)=(13,27)\n",
      "Adding content (equal to 0.0) of bin i=13, j=27 to Diagonal 27\n",
      "Adding content (equal to 0.0) of bin i=13, j=28 to Diagonal 27\n",
      "Filling row index k=13 with elements (i,j)=(13,28)\n",
      "Filling row index k=13 with elements (i,j)=(13,29)\n",
      "Filling row index k=14 with elements (i,j)=(13,30)\n",
      "Filling row index k=14 with elements (i,j)=(13,31)\n",
      "Filling row index k=15 with elements (i,j)=(13,32)\n",
      "Filling row index k=15 with elements (i,j)=(13,33)\n",
      "Filling row index k=16 with elements (i,j)=(13,34)\n",
      "Filling row index k=16 with elements (i,j)=(13,35)\n",
      "Filling row index k=17 with elements (i,j)=(13,36)\n",
      "Filling row index k=17 with elements (i,j)=(13,37)\n",
      "Filling row index k=18 with elements (i,j)=(13,38)\n",
      "Filling row index k=18 with elements (i,j)=(13,39)\n",
      "Filling row index k=19 with elements (i,j)=(13,40)\n",
      "Filling row index k=19 with elements (i,j)=(13,41)\n",
      "Filling row index k=20 with elements (i,j)=(13,42)\n",
      "Filling row index k=20 with elements (i,j)=(13,43)\n",
      "Filling row index k=21 with elements (i,j)=(13,44)\n",
      "Filling row index k=21 with elements (i,j)=(13,45)\n",
      "876.931195695 0.0\n",
      "Filling row index k=0 with elements (i,j)=(14,2)\n",
      "Filling row index k=0 with elements (i,j)=(14,3)\n",
      "Filling row index k=1 with elements (i,j)=(14,4)\n",
      "Filling row index k=1 with elements (i,j)=(14,5)\n",
      "Filling row index k=2 with elements (i,j)=(14,6)\n",
      "Filling row index k=2 with elements (i,j)=(14,7)\n",
      "Filling row index k=3 with elements (i,j)=(14,8)\n",
      "Filling row index k=3 with elements (i,j)=(14,9)\n",
      "Filling row index k=4 with elements (i,j)=(14,10)\n",
      "Filling row index k=4 with elements (i,j)=(14,11)\n",
      "Filling row index k=5 with elements (i,j)=(14,12)\n",
      "Filling row index k=5 with elements (i,j)=(14,13)\n",
      "Filling row index k=6 with elements (i,j)=(14,14)\n",
      "Filling row index k=6 with elements (i,j)=(14,15)\n",
      "Filling row index k=7 with elements (i,j)=(14,16)\n",
      "Filling row index k=7 with elements (i,j)=(14,17)\n",
      "Filling row index k=8 with elements (i,j)=(14,18)\n",
      "Filling row index k=8 with elements (i,j)=(14,19)\n",
      "Filling row index k=9 with elements (i,j)=(14,20)\n",
      "Filling row index k=9 with elements (i,j)=(14,21)\n",
      "Filling row index k=10 with elements (i,j)=(14,22)\n",
      "Filling row index k=10 with elements (i,j)=(14,23)\n",
      "Filling row index k=11 with elements (i,j)=(14,24)\n",
      "Filling row index k=11 with elements (i,j)=(14,25)\n",
      "Filling row index k=12 with elements (i,j)=(14,26)\n",
      "Filling row index k=12 with elements (i,j)=(14,27)\n",
      "Filling row index k=13 with elements (i,j)=(14,28)\n",
      "Filling row index k=13 with elements (i,j)=(14,29)\n",
      "Adding content (equal to 0.0) of bin i=14, j=29 to Diagonal 29\n",
      "Adding content (equal to 0.0) of bin i=14, j=30 to Diagonal 29\n",
      "Filling row index k=14 with elements (i,j)=(14,30)\n",
      "Filling row index k=14 with elements (i,j)=(14,31)\n",
      "Filling row index k=15 with elements (i,j)=(14,32)\n",
      "Filling row index k=15 with elements (i,j)=(14,33)\n",
      "Filling row index k=16 with elements (i,j)=(14,34)\n",
      "Filling row index k=16 with elements (i,j)=(14,35)\n",
      "Filling row index k=17 with elements (i,j)=(14,36)\n",
      "Filling row index k=17 with elements (i,j)=(14,37)\n",
      "Filling row index k=18 with elements (i,j)=(14,38)\n",
      "Filling row index k=18 with elements (i,j)=(14,39)\n",
      "Filling row index k=19 with elements (i,j)=(14,40)\n",
      "Filling row index k=19 with elements (i,j)=(14,41)\n",
      "Filling row index k=20 with elements (i,j)=(14,42)\n",
      "Filling row index k=20 with elements (i,j)=(14,43)\n",
      "Filling row index k=21 with elements (i,j)=(14,44)\n",
      "Filling row index k=21 with elements (i,j)=(14,45)\n",
      "844.509944841 0.0\n",
      "Filling row index k=0 with elements (i,j)=(15,2)\n",
      "Filling row index k=0 with elements (i,j)=(15,3)\n",
      "Filling row index k=1 with elements (i,j)=(15,4)\n",
      "Filling row index k=1 with elements (i,j)=(15,5)\n",
      "Filling row index k=2 with elements (i,j)=(15,6)\n",
      "Filling row index k=2 with elements (i,j)=(15,7)\n",
      "Filling row index k=3 with elements (i,j)=(15,8)\n",
      "Filling row index k=3 with elements (i,j)=(15,9)\n",
      "Filling row index k=4 with elements (i,j)=(15,10)\n",
      "Filling row index k=4 with elements (i,j)=(15,11)\n",
      "Filling row index k=5 with elements (i,j)=(15,12)\n",
      "Filling row index k=5 with elements (i,j)=(15,13)\n",
      "Filling row index k=6 with elements (i,j)=(15,14)\n",
      "Filling row index k=6 with elements (i,j)=(15,15)\n",
      "Filling row index k=7 with elements (i,j)=(15,16)\n",
      "Filling row index k=7 with elements (i,j)=(15,17)\n",
      "Filling row index k=8 with elements (i,j)=(15,18)\n",
      "Filling row index k=8 with elements (i,j)=(15,19)\n",
      "Filling row index k=9 with elements (i,j)=(15,20)\n",
      "Filling row index k=9 with elements (i,j)=(15,21)\n",
      "Filling row index k=10 with elements (i,j)=(15,22)\n",
      "Filling row index k=10 with elements (i,j)=(15,23)\n",
      "Filling row index k=11 with elements (i,j)=(15,24)\n",
      "Filling row index k=11 with elements (i,j)=(15,25)\n",
      "Filling row index k=12 with elements (i,j)=(15,26)\n",
      "Filling row index k=12 with elements (i,j)=(15,27)\n",
      "Filling row index k=13 with elements (i,j)=(15,28)\n",
      "Filling row index k=13 with elements (i,j)=(15,29)\n",
      "Filling row index k=14 with elements (i,j)=(15,30)\n",
      "Filling row index k=14 with elements (i,j)=(15,31)\n",
      "Adding content (equal to 0.0) of bin i=15, j=31 to Diagonal 31\n",
      "Adding content (equal to 0.0) of bin i=15, j=32 to Diagonal 31\n",
      "Filling row index k=15 with elements (i,j)=(15,32)\n",
      "Filling row index k=15 with elements (i,j)=(15,33)\n",
      "Filling row index k=16 with elements (i,j)=(15,34)\n",
      "Filling row index k=16 with elements (i,j)=(15,35)\n",
      "Filling row index k=17 with elements (i,j)=(15,36)\n",
      "Filling row index k=17 with elements (i,j)=(15,37)\n",
      "Filling row index k=18 with elements (i,j)=(15,38)\n",
      "Filling row index k=18 with elements (i,j)=(15,39)\n",
      "Filling row index k=19 with elements (i,j)=(15,40)\n",
      "Filling row index k=19 with elements (i,j)=(15,41)\n",
      "Filling row index k=20 with elements (i,j)=(15,42)\n",
      "Filling row index k=20 with elements (i,j)=(15,43)\n",
      "Filling row index k=21 with elements (i,j)=(15,44)\n",
      "Filling row index k=21 with elements (i,j)=(15,45)\n",
      "773.730679045 0.0\n",
      "Filling row index k=0 with elements (i,j)=(16,2)\n",
      "Filling row index k=0 with elements (i,j)=(16,3)\n",
      "Filling row index k=1 with elements (i,j)=(16,4)\n",
      "Filling row index k=1 with elements (i,j)=(16,5)\n",
      "Filling row index k=2 with elements (i,j)=(16,6)\n",
      "Filling row index k=2 with elements (i,j)=(16,7)\n",
      "Filling row index k=3 with elements (i,j)=(16,8)\n",
      "Filling row index k=3 with elements (i,j)=(16,9)\n",
      "Filling row index k=4 with elements (i,j)=(16,10)\n",
      "Filling row index k=4 with elements (i,j)=(16,11)\n",
      "Filling row index k=5 with elements (i,j)=(16,12)\n",
      "Filling row index k=5 with elements (i,j)=(16,13)\n",
      "Filling row index k=6 with elements (i,j)=(16,14)\n",
      "Filling row index k=6 with elements (i,j)=(16,15)\n",
      "Filling row index k=7 with elements (i,j)=(16,16)\n",
      "Filling row index k=7 with elements (i,j)=(16,17)\n",
      "Filling row index k=8 with elements (i,j)=(16,18)\n",
      "Filling row index k=8 with elements (i,j)=(16,19)\n",
      "Filling row index k=9 with elements (i,j)=(16,20)\n",
      "Filling row index k=9 with elements (i,j)=(16,21)\n",
      "Filling row index k=10 with elements (i,j)=(16,22)\n",
      "Filling row index k=10 with elements (i,j)=(16,23)\n",
      "Filling row index k=11 with elements (i,j)=(16,24)\n",
      "Filling row index k=11 with elements (i,j)=(16,25)\n",
      "Filling row index k=12 with elements (i,j)=(16,26)\n",
      "Filling row index k=12 with elements (i,j)=(16,27)\n",
      "Filling row index k=13 with elements (i,j)=(16,28)\n",
      "Filling row index k=13 with elements (i,j)=(16,29)\n",
      "Filling row index k=14 with elements (i,j)=(16,30)\n",
      "Filling row index k=14 with elements (i,j)=(16,31)\n",
      "Filling row index k=15 with elements (i,j)=(16,32)\n",
      "Filling row index k=15 with elements (i,j)=(16,33)\n",
      "Adding content (equal to 0.0) of bin i=16, j=33 to Diagonal 33\n",
      "Adding content (equal to 0.0) of bin i=16, j=34 to Diagonal 33\n",
      "Filling row index k=16 with elements (i,j)=(16,34)\n",
      "Filling row index k=16 with elements (i,j)=(16,35)\n",
      "Filling row index k=17 with elements (i,j)=(16,36)\n",
      "Filling row index k=17 with elements (i,j)=(16,37)\n",
      "Filling row index k=18 with elements (i,j)=(16,38)\n",
      "Filling row index k=18 with elements (i,j)=(16,39)\n",
      "Filling row index k=19 with elements (i,j)=(16,40)\n",
      "Filling row index k=19 with elements (i,j)=(16,41)\n",
      "Filling row index k=20 with elements (i,j)=(16,42)\n",
      "Filling row index k=20 with elements (i,j)=(16,43)\n",
      "Filling row index k=21 with elements (i,j)=(16,44)\n",
      "Filling row index k=21 with elements (i,j)=(16,45)\n",
      "719.923013091 0.0\n",
      "Filling row index k=0 with elements (i,j)=(17,2)\n",
      "Filling row index k=0 with elements (i,j)=(17,3)\n",
      "Filling row index k=1 with elements (i,j)=(17,4)\n",
      "Filling row index k=1 with elements (i,j)=(17,5)\n",
      "Filling row index k=2 with elements (i,j)=(17,6)\n",
      "Filling row index k=2 with elements (i,j)=(17,7)\n",
      "Filling row index k=3 with elements (i,j)=(17,8)\n",
      "Filling row index k=3 with elements (i,j)=(17,9)\n",
      "Filling row index k=4 with elements (i,j)=(17,10)\n",
      "Filling row index k=4 with elements (i,j)=(17,11)\n",
      "Filling row index k=5 with elements (i,j)=(17,12)\n",
      "Filling row index k=5 with elements (i,j)=(17,13)\n",
      "Filling row index k=6 with elements (i,j)=(17,14)\n",
      "Filling row index k=6 with elements (i,j)=(17,15)\n",
      "Filling row index k=7 with elements (i,j)=(17,16)\n",
      "Filling row index k=7 with elements (i,j)=(17,17)\n",
      "Filling row index k=8 with elements (i,j)=(17,18)\n",
      "Filling row index k=8 with elements (i,j)=(17,19)\n",
      "Filling row index k=9 with elements (i,j)=(17,20)\n",
      "Filling row index k=9 with elements (i,j)=(17,21)\n",
      "Filling row index k=10 with elements (i,j)=(17,22)\n",
      "Filling row index k=10 with elements (i,j)=(17,23)\n",
      "Filling row index k=11 with elements (i,j)=(17,24)\n",
      "Filling row index k=11 with elements (i,j)=(17,25)\n",
      "Filling row index k=12 with elements (i,j)=(17,26)\n",
      "Filling row index k=12 with elements (i,j)=(17,27)\n",
      "Filling row index k=13 with elements (i,j)=(17,28)\n",
      "Filling row index k=13 with elements (i,j)=(17,29)\n",
      "Filling row index k=14 with elements (i,j)=(17,30)\n",
      "Filling row index k=14 with elements (i,j)=(17,31)\n",
      "Filling row index k=15 with elements (i,j)=(17,32)\n",
      "Filling row index k=15 with elements (i,j)=(17,33)\n",
      "Filling row index k=16 with elements (i,j)=(17,34)\n",
      "Filling row index k=16 with elements (i,j)=(17,35)\n",
      "Adding content (equal to 0.0) of bin i=17, j=35 to Diagonal 35\n",
      "Adding content (equal to 0.0) of bin i=17, j=36 to Diagonal 35\n",
      "Filling row index k=17 with elements (i,j)=(17,36)\n",
      "Filling row index k=17 with elements (i,j)=(17,37)\n",
      "Filling row index k=18 with elements (i,j)=(17,38)\n",
      "Filling row index k=18 with elements (i,j)=(17,39)\n",
      "Filling row index k=19 with elements (i,j)=(17,40)\n",
      "Filling row index k=19 with elements (i,j)=(17,41)\n",
      "Filling row index k=20 with elements (i,j)=(17,42)\n",
      "Filling row index k=20 with elements (i,j)=(17,43)\n",
      "Filling row index k=21 with elements (i,j)=(17,44)\n",
      "Filling row index k=21 with elements (i,j)=(17,45)\n",
      "695.152085761 0.0\n",
      "Filling row index k=0 with elements (i,j)=(18,2)\n",
      "Filling row index k=0 with elements (i,j)=(18,3)\n",
      "Filling row index k=1 with elements (i,j)=(18,4)\n",
      "Filling row index k=1 with elements (i,j)=(18,5)\n",
      "Filling row index k=2 with elements (i,j)=(18,6)\n",
      "Filling row index k=2 with elements (i,j)=(18,7)\n",
      "Filling row index k=3 with elements (i,j)=(18,8)\n",
      "Filling row index k=3 with elements (i,j)=(18,9)\n",
      "Filling row index k=4 with elements (i,j)=(18,10)\n",
      "Filling row index k=4 with elements (i,j)=(18,11)\n",
      "Filling row index k=5 with elements (i,j)=(18,12)\n",
      "Filling row index k=5 with elements (i,j)=(18,13)\n",
      "Filling row index k=6 with elements (i,j)=(18,14)\n",
      "Filling row index k=6 with elements (i,j)=(18,15)\n",
      "Filling row index k=7 with elements (i,j)=(18,16)\n",
      "Filling row index k=7 with elements (i,j)=(18,17)\n",
      "Filling row index k=8 with elements (i,j)=(18,18)\n",
      "Filling row index k=8 with elements (i,j)=(18,19)\n",
      "Filling row index k=9 with elements (i,j)=(18,20)\n",
      "Filling row index k=9 with elements (i,j)=(18,21)\n",
      "Filling row index k=10 with elements (i,j)=(18,22)\n",
      "Filling row index k=10 with elements (i,j)=(18,23)\n",
      "Filling row index k=11 with elements (i,j)=(18,24)\n",
      "Filling row index k=11 with elements (i,j)=(18,25)\n",
      "Filling row index k=12 with elements (i,j)=(18,26)\n",
      "Filling row index k=12 with elements (i,j)=(18,27)\n",
      "Filling row index k=13 with elements (i,j)=(18,28)\n",
      "Filling row index k=13 with elements (i,j)=(18,29)\n",
      "Filling row index k=14 with elements (i,j)=(18,30)\n",
      "Filling row index k=14 with elements (i,j)=(18,31)\n",
      "Filling row index k=15 with elements (i,j)=(18,32)\n",
      "Filling row index k=15 with elements (i,j)=(18,33)\n",
      "Filling row index k=16 with elements (i,j)=(18,34)\n",
      "Filling row index k=16 with elements (i,j)=(18,35)\n",
      "Filling row index k=17 with elements (i,j)=(18,36)\n",
      "Filling row index k=17 with elements (i,j)=(18,37)\n",
      "Adding content (equal to 0.0) of bin i=18, j=37 to Diagonal 37\n",
      "Adding content (equal to 0.0) of bin i=18, j=38 to Diagonal 37\n",
      "Filling row index k=18 with elements (i,j)=(18,38)\n",
      "Filling row index k=18 with elements (i,j)=(18,39)\n",
      "Filling row index k=19 with elements (i,j)=(18,40)\n",
      "Filling row index k=19 with elements (i,j)=(18,41)\n",
      "Filling row index k=20 with elements (i,j)=(18,42)\n",
      "Filling row index k=20 with elements (i,j)=(18,43)\n",
      "Filling row index k=21 with elements (i,j)=(18,44)\n",
      "Filling row index k=21 with elements (i,j)=(18,45)\n",
      "641.632147247 0.0\n",
      "Filling row index k=0 with elements (i,j)=(19,2)\n",
      "Filling row index k=0 with elements (i,j)=(19,3)\n",
      "Filling row index k=1 with elements (i,j)=(19,4)\n",
      "Filling row index k=1 with elements (i,j)=(19,5)\n",
      "Filling row index k=2 with elements (i,j)=(19,6)\n",
      "Filling row index k=2 with elements (i,j)=(19,7)\n",
      "Filling row index k=3 with elements (i,j)=(19,8)\n",
      "Filling row index k=3 with elements (i,j)=(19,9)\n",
      "Filling row index k=4 with elements (i,j)=(19,10)\n",
      "Filling row index k=4 with elements (i,j)=(19,11)\n",
      "Filling row index k=5 with elements (i,j)=(19,12)\n",
      "Filling row index k=5 with elements (i,j)=(19,13)\n",
      "Filling row index k=6 with elements (i,j)=(19,14)\n",
      "Filling row index k=6 with elements (i,j)=(19,15)\n",
      "Filling row index k=7 with elements (i,j)=(19,16)\n",
      "Filling row index k=7 with elements (i,j)=(19,17)\n",
      "Filling row index k=8 with elements (i,j)=(19,18)\n",
      "Filling row index k=8 with elements (i,j)=(19,19)\n",
      "Filling row index k=9 with elements (i,j)=(19,20)\n",
      "Filling row index k=9 with elements (i,j)=(19,21)\n",
      "Filling row index k=10 with elements (i,j)=(19,22)\n",
      "Filling row index k=10 with elements (i,j)=(19,23)\n",
      "Filling row index k=11 with elements (i,j)=(19,24)\n",
      "Filling row index k=11 with elements (i,j)=(19,25)\n",
      "Filling row index k=12 with elements (i,j)=(19,26)\n",
      "Filling row index k=12 with elements (i,j)=(19,27)\n",
      "Filling row index k=13 with elements (i,j)=(19,28)\n",
      "Filling row index k=13 with elements (i,j)=(19,29)\n",
      "Filling row index k=14 with elements (i,j)=(19,30)\n",
      "Filling row index k=14 with elements (i,j)=(19,31)\n",
      "Filling row index k=15 with elements (i,j)=(19,32)\n",
      "Filling row index k=15 with elements (i,j)=(19,33)\n",
      "Filling row index k=16 with elements (i,j)=(19,34)\n",
      "Filling row index k=16 with elements (i,j)=(19,35)\n",
      "Filling row index k=17 with elements (i,j)=(19,36)\n",
      "Filling row index k=17 with elements (i,j)=(19,37)\n",
      "Filling row index k=18 with elements (i,j)=(19,38)\n",
      "Filling row index k=18 with elements (i,j)=(19,39)\n",
      "Adding content (equal to 0.0) of bin i=19, j=39 to Diagonal 39\n",
      "Adding content (equal to 0.0) of bin i=19, j=40 to Diagonal 39\n",
      "Filling row index k=19 with elements (i,j)=(19,40)\n",
      "Filling row index k=19 with elements (i,j)=(19,41)\n",
      "Filling row index k=20 with elements (i,j)=(19,42)\n",
      "Filling row index k=20 with elements (i,j)=(19,43)\n",
      "Filling row index k=21 with elements (i,j)=(19,44)\n",
      "Filling row index k=21 with elements (i,j)=(19,45)\n",
      "585.784775624 0.0\n",
      "Filling row index k=0 with elements (i,j)=(20,2)\n",
      "Filling row index k=0 with elements (i,j)=(20,3)\n",
      "Filling row index k=1 with elements (i,j)=(20,4)\n",
      "Filling row index k=1 with elements (i,j)=(20,5)\n",
      "Filling row index k=2 with elements (i,j)=(20,6)\n",
      "Filling row index k=2 with elements (i,j)=(20,7)\n",
      "Filling row index k=3 with elements (i,j)=(20,8)\n",
      "Filling row index k=3 with elements (i,j)=(20,9)\n",
      "Filling row index k=4 with elements (i,j)=(20,10)\n",
      "Filling row index k=4 with elements (i,j)=(20,11)\n",
      "Filling row index k=5 with elements (i,j)=(20,12)\n",
      "Filling row index k=5 with elements (i,j)=(20,13)\n",
      "Filling row index k=6 with elements (i,j)=(20,14)\n",
      "Filling row index k=6 with elements (i,j)=(20,15)\n",
      "Filling row index k=7 with elements (i,j)=(20,16)\n",
      "Filling row index k=7 with elements (i,j)=(20,17)\n",
      "Filling row index k=8 with elements (i,j)=(20,18)\n",
      "Filling row index k=8 with elements (i,j)=(20,19)\n",
      "Filling row index k=9 with elements (i,j)=(20,20)\n",
      "Filling row index k=9 with elements (i,j)=(20,21)\n",
      "Filling row index k=10 with elements (i,j)=(20,22)\n",
      "Filling row index k=10 with elements (i,j)=(20,23)\n",
      "Filling row index k=11 with elements (i,j)=(20,24)\n",
      "Filling row index k=11 with elements (i,j)=(20,25)\n",
      "Filling row index k=12 with elements (i,j)=(20,26)\n",
      "Filling row index k=12 with elements (i,j)=(20,27)\n",
      "Filling row index k=13 with elements (i,j)=(20,28)\n",
      "Filling row index k=13 with elements (i,j)=(20,29)\n",
      "Filling row index k=14 with elements (i,j)=(20,30)\n",
      "Filling row index k=14 with elements (i,j)=(20,31)\n",
      "Filling row index k=15 with elements (i,j)=(20,32)\n",
      "Filling row index k=15 with elements (i,j)=(20,33)\n",
      "Filling row index k=16 with elements (i,j)=(20,34)\n",
      "Filling row index k=16 with elements (i,j)=(20,35)\n",
      "Filling row index k=17 with elements (i,j)=(20,36)\n",
      "Filling row index k=17 with elements (i,j)=(20,37)\n",
      "Filling row index k=18 with elements (i,j)=(20,38)\n",
      "Filling row index k=18 with elements (i,j)=(20,39)\n",
      "Filling row index k=19 with elements (i,j)=(20,40)\n",
      "Filling row index k=19 with elements (i,j)=(20,41)\n",
      "Adding content (equal to 0.0) of bin i=20, j=41 to Diagonal 41\n",
      "Adding content (equal to 0.0) of bin i=20, j=42 to Diagonal 41\n",
      "Filling row index k=20 with elements (i,j)=(20,42)\n",
      "Filling row index k=20 with elements (i,j)=(20,43)\n",
      "Filling row index k=21 with elements (i,j)=(20,44)\n",
      "Filling row index k=21 with elements (i,j)=(20,45)\n",
      "568.481283309 0.0\n",
      "Filling row index k=0 with elements (i,j)=(21,2)\n",
      "Filling row index k=0 with elements (i,j)=(21,3)\n",
      "Filling row index k=1 with elements (i,j)=(21,4)\n",
      "Filling row index k=1 with elements (i,j)=(21,5)\n",
      "Filling row index k=2 with elements (i,j)=(21,6)\n",
      "Filling row index k=2 with elements (i,j)=(21,7)\n",
      "Filling row index k=3 with elements (i,j)=(21,8)\n",
      "Filling row index k=3 with elements (i,j)=(21,9)\n",
      "Filling row index k=4 with elements (i,j)=(21,10)\n",
      "Filling row index k=4 with elements (i,j)=(21,11)\n",
      "Filling row index k=5 with elements (i,j)=(21,12)\n",
      "Filling row index k=5 with elements (i,j)=(21,13)\n",
      "Filling row index k=6 with elements (i,j)=(21,14)\n",
      "Filling row index k=6 with elements (i,j)=(21,15)\n",
      "Filling row index k=7 with elements (i,j)=(21,16)\n",
      "Filling row index k=7 with elements (i,j)=(21,17)\n",
      "Filling row index k=8 with elements (i,j)=(21,18)\n",
      "Filling row index k=8 with elements (i,j)=(21,19)\n",
      "Filling row index k=9 with elements (i,j)=(21,20)\n",
      "Filling row index k=9 with elements (i,j)=(21,21)\n",
      "Filling row index k=10 with elements (i,j)=(21,22)\n",
      "Filling row index k=10 with elements (i,j)=(21,23)\n",
      "Filling row index k=11 with elements (i,j)=(21,24)\n",
      "Filling row index k=11 with elements (i,j)=(21,25)\n",
      "Filling row index k=12 with elements (i,j)=(21,26)\n",
      "Filling row index k=12 with elements (i,j)=(21,27)\n",
      "Filling row index k=13 with elements (i,j)=(21,28)\n",
      "Filling row index k=13 with elements (i,j)=(21,29)\n",
      "Filling row index k=14 with elements (i,j)=(21,30)\n",
      "Filling row index k=14 with elements (i,j)=(21,31)\n",
      "Filling row index k=15 with elements (i,j)=(21,32)\n",
      "Filling row index k=15 with elements (i,j)=(21,33)\n",
      "Filling row index k=16 with elements (i,j)=(21,34)\n",
      "Filling row index k=16 with elements (i,j)=(21,35)\n",
      "Filling row index k=17 with elements (i,j)=(21,36)\n",
      "Filling row index k=17 with elements (i,j)=(21,37)\n",
      "Filling row index k=18 with elements (i,j)=(21,38)\n",
      "Filling row index k=18 with elements (i,j)=(21,39)\n",
      "Filling row index k=19 with elements (i,j)=(21,40)\n",
      "Filling row index k=19 with elements (i,j)=(21,41)\n",
      "Filling row index k=20 with elements (i,j)=(21,42)\n",
      "Filling row index k=20 with elements (i,j)=(21,43)\n",
      "Adding content (equal to 0.0) of bin i=21, j=43 to Diagonal 43\n",
      "Adding content (equal to 0.0) of bin i=21, j=44 to Diagonal 43\n",
      "Filling row index k=21 with elements (i,j)=(21,44)\n",
      "Filling row index k=21 with elements (i,j)=(21,45)\n",
      "505.846409386 0.0\n",
      "Filling row index k=0 with elements (i,j)=(22,2)\n",
      "Filling row index k=0 with elements (i,j)=(22,3)\n",
      "Filling row index k=1 with elements (i,j)=(22,4)\n",
      "Filling row index k=1 with elements (i,j)=(22,5)\n",
      "Filling row index k=2 with elements (i,j)=(22,6)\n",
      "Filling row index k=2 with elements (i,j)=(22,7)\n",
      "Filling row index k=3 with elements (i,j)=(22,8)\n",
      "Filling row index k=3 with elements (i,j)=(22,9)\n",
      "Filling row index k=4 with elements (i,j)=(22,10)\n",
      "Filling row index k=4 with elements (i,j)=(22,11)\n",
      "Filling row index k=5 with elements (i,j)=(22,12)\n",
      "Filling row index k=5 with elements (i,j)=(22,13)\n",
      "Filling row index k=6 with elements (i,j)=(22,14)\n",
      "Filling row index k=6 with elements (i,j)=(22,15)\n",
      "Filling row index k=7 with elements (i,j)=(22,16)\n",
      "Filling row index k=7 with elements (i,j)=(22,17)\n",
      "Filling row index k=8 with elements (i,j)=(22,18)\n",
      "Filling row index k=8 with elements (i,j)=(22,19)\n",
      "Filling row index k=9 with elements (i,j)=(22,20)\n",
      "Filling row index k=9 with elements (i,j)=(22,21)\n",
      "Filling row index k=10 with elements (i,j)=(22,22)\n",
      "Filling row index k=10 with elements (i,j)=(22,23)\n",
      "Filling row index k=11 with elements (i,j)=(22,24)\n",
      "Filling row index k=11 with elements (i,j)=(22,25)\n",
      "Filling row index k=12 with elements (i,j)=(22,26)\n",
      "Filling row index k=12 with elements (i,j)=(22,27)\n",
      "Filling row index k=13 with elements (i,j)=(22,28)\n",
      "Filling row index k=13 with elements (i,j)=(22,29)\n",
      "Filling row index k=14 with elements (i,j)=(22,30)\n",
      "Filling row index k=14 with elements (i,j)=(22,31)\n",
      "Filling row index k=15 with elements (i,j)=(22,32)\n",
      "Filling row index k=15 with elements (i,j)=(22,33)\n",
      "Filling row index k=16 with elements (i,j)=(22,34)\n",
      "Filling row index k=16 with elements (i,j)=(22,35)\n",
      "Filling row index k=17 with elements (i,j)=(22,36)\n",
      "Filling row index k=17 with elements (i,j)=(22,37)\n",
      "Filling row index k=18 with elements (i,j)=(22,38)\n",
      "Filling row index k=18 with elements (i,j)=(22,39)\n",
      "Filling row index k=19 with elements (i,j)=(22,40)\n",
      "Filling row index k=19 with elements (i,j)=(22,41)\n",
      "Filling row index k=20 with elements (i,j)=(22,42)\n",
      "Filling row index k=20 with elements (i,j)=(22,43)\n",
      "Filling row index k=21 with elements (i,j)=(22,44)\n",
      "Filling row index k=21 with elements (i,j)=(22,45)\n",
      "450.2773412 0.0\n"
     ]
    }
   ],
   "source": [
    "ps_bindex = 0 \n",
    "\n",
    "l = 1\n",
    "\n",
    "tot_col = [] #np.array([0. for i in xrange(0, purity.GetNbinsX()+1)]) #\n",
    "#tot_col_err = [] #0 \n",
    "\n",
    "tot_row = np.array([0. for i in xrange(1, purity.GetNbinsX()+1)])\n",
    "#tot_row_err = np.zeros_like([0. for i in xrange(1, purity.GetNbinsX()+1)])\n",
    "\n",
    "diag = [] #np.zeros_like([0. for i in xrange(1, purity.GetNbinsX()+1)])\n",
    "#diag_error = [] # np.zeros_like([0. for i in xrange(1, purity.GetNbinsX()+1)])\n",
    "\n",
    "for i in range(0, response.GetNbinsY()+1):    \n",
    "    \n",
    "    k = 0\n",
    "    col = 0.\n",
    "    d_jj = 0.\n",
    "    for j in range(1, response.GetNbinsX()+1):\n",
    "    \n",
    "        r_ij = response.GetBinContent(i,j)\n",
    "        #r_ij_err = response.GetBinError(i,j)\n",
    "        #print (i,j), r_ij\n",
    "        \n",
    "        if (j)%2==0 and j < (response.GetNbinsX()+1):\n",
    "            #since 2 reco bins per 1 gen bin\n",
    "            print \"Filling row index k={} with elements (i,j)=({},{})\".format(k,i,j)\n",
    "            tot_row[k] += r_ij\n",
    "            print \"Filling row index k={} with elements (i,j)=({},{})\".format(k,i,j+1)\n",
    "            tot_row[k] +=  response.GetBinContent(i,j+1)\n",
    "            \n",
    "            #tot_col_err[k] += response.GetBinError(i,j)\n",
    "            #tot_col_err[k] +=  response.GetBinError(i,j+1)\n",
    "            \n",
    "            k +=1\n",
    "        \n",
    "        col += r_ij\n",
    "        \n",
    "        if l==j:\n",
    "            print \"Adding content (equal to {}) of bin i={}, j={} to Diagonal\".format(r_ij, i,j), l\n",
    "            d_jj += r_ij\n",
    " \n",
    "            print \"Adding content (equal to {}) of bin i={}, j={} to Diagonal\".format( response.GetBinContent(i,j+1), i,j+1), l\n",
    "            d_jj += response.GetBinContent(i,j+1)\n",
    "\n",
    "            diag.append(d_jj)\n",
    "    l = l+2\n",
    "    print col, d_jj"
   ]
  },
  {
   "cell_type": "code",
   "execution_count": 43,
   "metadata": {
    "collapsed": true
   },
   "outputs": [
    {
     "name": "stdout",
     "output_type": "stream",
     "text": [
      "[0.0, 0.0, 0.0, 0.0, 0.0, 0.8602698967878859, 0.3634624020487216, 0.4502558360730355, 0.3790821805023327, 1.4641191119018864, 0.9890972503478634, 0.0, 0.0, 0.0, 0.0, 0.0, 0.0, 0.0, 0.0, 0.0, 0.0, 0.0]\n",
      "[ 697.26668643 2901.19489047 3133.34359304 2398.05503682 1374.3666995\n",
      "  299.24449001   68.0809242    27.19185871   16.34909266   29.48358219\n",
      "    0.            0.            0.            0.            0.\n",
      "    0.            0.            0.            0.            0.\n",
      "    0.            0.        ]\n",
      "[0.         0.         0.         0.         0.         0.00287481\n",
      " 0.00533868 0.01655848 0.02318674 0.04965879        inf        nan\n",
      "        nan        nan        nan        nan        nan        nan\n",
      "        nan        nan        nan        nan]\n"
     ]
    },
    {
     "name": "stderr",
     "output_type": "stream",
     "text": [
      "/shome/kdatta/.local/lib/python2.7/site-packages/ipykernel_launcher.py:3: RuntimeWarning: divide by zero encountered in divide\n",
      "  This is separate from the ipykernel package so we can avoid doing imports until\n",
      "/shome/kdatta/.local/lib/python2.7/site-packages/ipykernel_launcher.py:3: RuntimeWarning: invalid value encountered in divide\n",
      "  This is separate from the ipykernel package so we can avoid doing imports until\n"
     ]
    }
   ],
   "source": [
    "print diag\n",
    "print tot_row\n",
    "print diag/tot_row"
   ]
  },
  {
   "cell_type": "code",
   "execution_count": 44,
   "metadata": {
    "collapsed": true
   },
   "outputs": [
    {
     "ename": "SyntaxError",
     "evalue": "invalid syntax (<ipython-input-44-dc72c7765764>, line 9)",
     "output_type": "error",
     "traceback": [
      "\u001b[0;36m  File \u001b[0;32m\"<ipython-input-44-dc72c7765764>\"\u001b[0;36m, line \u001b[0;32m9\u001b[0m\n\u001b[0;31m    if i==0 and j==0: purity_reco_binning[0] = dval/\u001b[0m\n\u001b[0m                                                    ^\u001b[0m\n\u001b[0;31mSyntaxError\u001b[0m\u001b[0;31m:\u001b[0m invalid syntax\n"
     ]
    }
   ],
   "source": [
    "purity_reco_binning = [0] \n",
    "diag = 0\n",
    "for i in range(1, response.GetNbinsX()+1):\n",
    "    for j in range(1, response.GetNbinsY()+1):\n",
    "        dval = response.GetBinContent(i,j)\n",
    "        if i==j:\n",
    "            diag = diag+dval\n",
    "            print i, j, \n",
    "            if i==0 and j==0: purity_reco_binning[0] = dval/\n",
    "            else: purity_reco_binning.append()\n",
    "        j = j+2"
   ]
  },
  {
   "cell_type": "code",
   "execution_count": null,
   "metadata": {},
   "outputs": [],
   "source": []
  },
  {
   "cell_type": "markdown",
   "metadata": {},
   "source": [
    "### Unfolding "
   ]
  },
  {
   "cell_type": "code",
   "execution_count": 45,
   "metadata": {
    "collapsed": true
   },
   "outputs": [
    {
     "name": "stdout",
     "output_type": "stream",
     "text": [
      "getting tunfolder:\n"
     ]
    },
    {
     "name": "stderr",
     "output_type": "stream",
     "text": [
      "Info in <TUnfold::SetConstraint>: fConstraint=0\n",
      "Warning in <TUnfold::TUnfold>: 3 output bins do not depend on the input data  0 22-23\n",
      "Info in <TUnfold::TUnfold>: 44 input bins and 21 output bins\n",
      "Info in <TUnfoldDensity::TUnfold>: *NOT* unfolding bin #0 (yaxis:#tau_{2,1}^{1}(gen_sig)[ufl])\n",
      "Info in <TUnfoldDensity::TUnfold>: *NOT* unfolding bin #22 (yaxis:#tau_{2,1}^{1}(gen_sig)[1.21,1.31])\n",
      "Info in <TUnfoldDensity::TUnfold>: *NOT* unfolding bin #23 (yaxis:#tau_{2,1}^{1}(gen_sig)[ofl])\n",
      "Info in <TUnfoldDensity::RegularizeOneDistribution>: regularizing yaxis regMode=3 densityMode=1 axisSteering=*[UOB]\n",
      "Info in <TUnfold::SetConstraint>: fConstraint=0\n",
      "Warning in <TUnfold::TUnfold>: 3 output bins do not depend on the input data  0 22-23\n",
      "Info in <TUnfold::TUnfold>: 44 input bins and 21 output bins\n",
      "Info in <TUnfoldDensity::TUnfold>: *NOT* unfolding bin #0 (yaxis:#tau_{2,1}^{1}(gen_sig)[ufl])\n",
      "Info in <TUnfoldDensity::TUnfold>: *NOT* unfolding bin #22 (yaxis:#tau_{2,1}^{1}(gen_sig)[1.21,1.31])\n",
      "Info in <TUnfoldDensity::TUnfold>: *NOT* unfolding bin #23 (yaxis:#tau_{2,1}^{1}(gen_sig)[ofl])\n",
      "Info in <TUnfoldDensity::RegularizeOneDistribution>: regularizing yaxis regMode=3 densityMode=1 axisSteering=*[UOB]\n"
     ]
    }
   ],
   "source": [
    "print 'getting tunfolder:'\n",
    "\n",
    "orientation = ROOT.TUnfoldDensity.kHistMapOutputHoriz\n",
    "regMode = ROOT.TUnfoldDensity.kRegModeCurvature\n",
    "con = ROOT.TUnfoldDensity.kEConstraintNone\n",
    "mode =  ROOT.TUnfoldDensity.kDensityModeBinWidth\n",
    "errmode = ROOT.TUnfoldSys.kSysErrModeMatrix\n",
    "#tunfolder_MC = ROOT.TUnfoldDensity(response, orientation, regMode, con, mode, \"signal\", \"*[UOb]\")\n",
    "#tunfolder_data = ROOT.TUnfoldDensity(response, orientation, regMode, con, mode, \"signal\", \"*[UOb]\")\n",
    "\n",
    "tunfolder_MC = ROOT.TUnfoldDensity(response,ROOT.TUnfold.kHistMapOutputVert,ROOT.TUnfold.kRegModeCurvature, ROOT.TUnfold.kEConstraintNone, ROOT.TUnfoldDensity.kDensityModeBinWidth)\n",
    "tunfolder_data = ROOT.TUnfoldDensity(response,ROOT.TUnfold.kHistMapOutputVert,ROOT.TUnfold.kRegModeCurvature, ROOT.TUnfold.kEConstraintNone, ROOT.TUnfoldDensity.kDensityModeBinWidth)"
   ]
  },
  {
   "cell_type": "markdown",
   "metadata": {
    "collapsed": true
   },
   "source": [
    "Set the input, a 1D reconstructed histogram from either MC_sig (closure) or Data (measurement) , binned in the detector level binning. Subtract background contributions from data, using reco-MC bkg."
   ]
  },
  {
   "cell_type": "code",
   "execution_count": 46,
   "metadata": {
    "collapsed": true
   },
   "outputs": [
    {
     "name": "stdout",
     "output_type": "stream",
     "text": [
      "setting reco input\n"
     ]
    },
    {
     "name": "stderr",
     "output_type": "stream",
     "text": [
      "Warning in <TUnfoldDensity::SetInput>: 4/44 input bins have zero error, and are ignored.\n"
     ]
    }
   ],
   "source": [
    "print 'setting reco input'\n",
    "tunfolder_data.SetInput( histMdetData )\n",
    "tunfolder_data.SubtractBackground( histMdetMC_bkg, \"bkg_all\", 1. )"
   ]
  },
  {
   "cell_type": "code",
   "execution_count": 47,
   "metadata": {
    "collapsed": true
   },
   "outputs": [
    {
     "name": "stdout",
     "output_type": "stream",
     "text": [
      "setting reco MC input\n"
     ]
    },
    {
     "data": {
      "text/plain": [
       "3"
      ]
     },
     "execution_count": 47,
     "metadata": {},
     "output_type": "execute_result"
    },
    {
     "name": "stderr",
     "output_type": "stream",
     "text": [
      "Warning in <TUnfoldDensity::SetInput>: 3/44 input bins have zero error, and are ignored.\n"
     ]
    }
   ],
   "source": [
    "print 'setting reco MC input'\n",
    "tunfolder_MC.SetInput( histMdetMC_sig )\n",
    "#tunfolder_MC.SubtractBackground( histMdetMC_bkg, \"bkg_all\", 1. )"
   ]
  },
  {
   "cell_type": "raw",
   "metadata": {},
   "source": [
    "Unfold nScan times with values for the regularization parameter between tauMin and tauMax using the empty TSplines to store the results."
   ]
  },
  {
   "cell_type": "raw",
   "metadata": {
    "scrolled": true
   },
   "source": [
    "print 'regularizing'\n",
    "nScan=50\n",
    "tauMin=-5.0\n",
    "tauMax=3.0\n",
    "iBest=0\n",
    "\n",
    "logTauX = ROOT.MakeNullPointer(ROOT.TSpline)\n",
    "logTauY = ROOT.MakeNullPointer(ROOT.TSpline)\n",
    "lCurve = ROOT.MakeNullPointer(ROOT.TGraph)\n",
    "\n",
    "print 'doing the unfolding'\n",
    "tunfolder.ScanLcurve(nScan,tauMin,tauMax,lCurve,logTauX,logTauY);\n",
    "print 'getting the results'\n",
    "unfolded = tunfolder.GetOutput(\"unfolded\")"
   ]
  },
  {
   "cell_type": "code",
   "execution_count": 48,
   "metadata": {},
   "outputs": [],
   "source": [
    "unfolded_data = tunfolder_data.DoUnfold(0.)\n",
    "unfolded_data = tunfolder_data.GetOutput(\"unfolded_data\")\n",
    "\n",
    "unfolded_MC = tunfolder_MC.DoUnfold(0.)\n",
    "unfolded_MC = tunfolder_MC.GetOutput(\"unfolded_MC\")"
   ]
  },
  {
   "cell_type": "code",
   "execution_count": 49,
   "metadata": {},
   "outputs": [],
   "source": [
    "ROOT.gStyle.SetOptStat(0)"
   ]
  },
  {
   "cell_type": "code",
   "execution_count": 50,
   "metadata": {
    "collapsed": true
   },
   "outputs": [
    {
     "data": {
      "image/png": "[encoded data removed]",
      "text/plain": [
       "<IPython.core.display.Image object>"
      ]
     },
     "metadata": {},
     "output_type": "display_data"
    }
   ],
   "source": [
    "c5 = ROOT.TCanvas('c5', 'c5')\n",
    "\n",
    "unfolded_MC.SetMarkerStyle(2)\n",
    "unfolded_MC.SetMarkerColor(7)\n",
    "unfolded_MC.SetLineColor(7)\n",
    "unfolded_MC.SetLineWidth(1)\n",
    "#unfolded_MC.Rebin(2)\n",
    "\n",
    "unfolded_data.SetMarkerStyle(22)\n",
    "unfolded_data.SetMarkerColor(1)\n",
    "unfolded_data.SetLineColor(1)\n",
    "unfolded_data.SetLineWidth(2)\n",
    "#unfolded_data.Rebin(2)\n",
    "\n",
    "#unfolded_MC.SetFillColor(0)\n",
    "#histMgenData.SetMarkerStyle(4)\n",
    "#histMgenData.SetMarkerColor(2)\n",
    "#histMgenData.SetOption(\"E\")\n",
    "#histMgenData.SetLineColor(2)\n",
    "histMgenMC_sig.SetMarkerStyle(5)\n",
    "histMgenMC_sig.SetMarkerColor(2)\n",
    "histMgenMC_sig.SetLineColor(2)\n",
    "#histMgenMC_sig.Rebin(2)\n",
    "\n",
    "\n",
    "hs = ROOT.THStack(\"#tau_{2,1}\", \"#tau_{2,1}\")\n",
    "#hs.Add\n",
    "hs.SetMaximum(5500)\n",
    "#hs.Add( histMgenData, \"E HIST\")\n",
    "hs.Add( unfolded_MC, \"E HIST\")\n",
    "hs.Add( unfolded_data, \"E \")\n",
    "hs.Add(histMgenMC_sig, \"E HIST\")\n",
    "#hs.Add(histMdetMC_sig, \"E\")\n",
    "#hs.Add(histMdetData, \"E\")\n",
    "\n",
    "leg0 = ROOT.TLegend(0.35, 0.75, 0.91, 0.86)\n",
    "leg0.AddEntry( unfolded_data, \"Data (2016)\", 'p')\n",
    "leg0.AddEntry( histMgenMC_sig, \"Generator-level (ttbar MC: Powheg+Pythia8)\", 'p')\n",
    "#leg0.AddEntry( histMgenData, \"'Truth' (MC: MG5+Pythia8)\", 'p')\n",
    "leg0.AddEntry( unfolded_MC, \"Unfolding_self-closure (ttbar MC: Powheg+Pythia8)\", 'p')\n",
    "leg0.SetLineColor(0)\n",
    "leg0.SetBorderSize(0)\n",
    "leg0.SetFillStyle(0)\n",
    "\n",
    "#hs.Add(histMdetMC, \"E\")\n",
    "#hs.Add(histMdetData, \"E\")\n",
    "hs.Draw(\"nostack\")\n",
    "leg0.Draw()\n",
    "\n",
    "c5.Draw()\n",
    "#c5.SaveAs(\"Tau21_unfolding_Escheme_bkgsub.png\")\n",
    "#c5.SaveAs(\"Tau21_unfolding_Escheme_bkgsub.pdf\")"
   ]
  },
  {
   "cell_type": "code",
   "execution_count": 51,
   "metadata": {
    "collapsed": true
   },
   "outputs": [
    {
     "name": "stderr",
     "output_type": "stream",
     "text": [
      "Warning in <TCanvas::Constructor>: Deleting canvas with same name: c5\n"
     ]
    },
    {
     "data": {
      "image/png": "[encoded data removed]",
      "text/plain": [
       "<IPython.core.display.Image object>"
      ]
     },
     "metadata": {},
     "output_type": "display_data"
    }
   ],
   "source": [
    "c5 = ROOT.TCanvas('c5', 'c5')\n",
    "\n",
    "unfolded_MC.SetMarkerStyle(2)\n",
    "unfolded_MC.SetMarkerColor(7)\n",
    "unfolded_MC.SetLineColor(7)\n",
    "unfolded_MC.SetLineWidth(1)\n",
    "unfolded_MC.Rebin(2)\n",
    "\n",
    "unfolded_data.SetMarkerStyle(22)\n",
    "unfolded_data.SetMarkerColor(1)\n",
    "unfolded_data.SetLineColor(1)\n",
    "unfolded_data.SetLineWidth(2)\n",
    "unfolded_data.Rebin(2)\n",
    "\n",
    "#unfolded_MC.SetFillColor(0)\n",
    "#histMgenData.SetMarkerStyle(4)\n",
    "#histMgenData.SetMarkerColor(2)\n",
    "#histMgenData.SetOption(\"E\")\n",
    "#histMgenData.SetLineColor(2)\n",
    "histMgenMC_sig.SetMarkerStyle(5)\n",
    "histMgenMC_sig.SetMarkerColor(2)\n",
    "histMgenMC_sig.SetLineColor(2)\n",
    "histMgenMC_sig.Rebin(2)\n",
    "\n",
    "\n",
    "hs = ROOT.THStack(\"#tau_{2,1}\", \"#tau_{2,1}\")\n",
    "#hs.Add\n",
    "hs.SetMaximum(5500)\n",
    "#hs.Add( histMgenData, \"E HIST\")\n",
    "hs.Add( unfolded_MC, \"E HIST\")\n",
    "hs.Add( unfolded_data, \"E \")\n",
    "hs.Add(histMgenMC_sig, \"E HIST\")\n",
    "#hs.Add(histMdetMC_sig, \"E\")\n",
    "#hs.Add(histMdetData, \"E\")\n",
    "\n",
    "leg0 = ROOT.TLegend(0.35, 0.75, 0.91, 0.86)\n",
    "leg0.AddEntry( unfolded_data, \"Data (2016)\", 'p')\n",
    "leg0.AddEntry( histMgenMC_sig, \"Generator-level (ttbar MC: Powheg+Pythia8)\", 'p')\n",
    "#leg0.AddEntry( histMgenData, \"'Truth' (MC: MG5+Pythia8)\", 'p')\n",
    "leg0.AddEntry( unfolded_MC, \"Unfolding_self-closure (ttbar MC: Powheg+Pythia8)\", 'p')\n",
    "leg0.SetLineColor(0)\n",
    "leg0.SetBorderSize(0)\n",
    "leg0.SetFillStyle(0)\n",
    "\n",
    "#hs.Add(histMdetMC, \"E\")\n",
    "#hs.Add(histMdetData, \"E\")\n",
    "hs.Draw(\"nostack\")\n",
    "leg0.Draw()\n",
    "\n",
    "c5.Draw()\n",
    "#c5.SaveAs(\"Tau21_unfolding_Escheme_bkgsub.png\")\n",
    "#c5.SaveAs(\"Tau21_unfolding_Escheme_bkgsub.pdf\")"
   ]
  },
  {
   "cell_type": "code",
   "execution_count": 52,
   "metadata": {
    "collapsed": true
   },
   "outputs": [
    {
     "name": "stdout",
     "output_type": "stream",
     "text": [
      "Bin Content \tBin error \tBin Center \tBin Low-Edge \tRatio to Truth for bin \tRatio Error\n",
      "78.2050 \t18.8737 \t0.05 \t0.0 0.0000 0.0000\n",
      "1939.3041 \t161.9482 \t0.145 \t0.1 0.0000 0.0000\n",
      "3273.1253 \t393.2074 \t0.235 \t0.19 0.0000 0.0000\n",
      "2785.4308 \t442.6589 \t0.325 \t0.28 0.0000 0.0000\n",
      "2202.7038 \t466.7021 \t0.415 \t0.37 0.0000 0.0000\n",
      "1566.9839 \t382.7668 \t0.505 \t0.46 0.0000 0.0000\n",
      "1064.0852 \t195.3017 \t0.595 \t0.55 0.0000 0.0000\n",
      "586.1944 \t126.3080 \t0.685 \t0.64 0.0000 0.0000\n",
      "272.8714 \t91.7365 \t0.775 \t0.73 0.0000 0.0000\n",
      "86.0563 \t34.3651 \t0.865 \t0.82 0.0000 0.0000\n",
      "46.1773 \t18.8835 \t1.11 \t0.91 0.0000 0.0000\n",
      "0.0000 \t0.0000 \t1.36954545455 \t1.31 0.0000 0.0000\n",
      "0.0000 \t0.0000 \t1.48863636364 \t1.42909090909 0.0000 0.0000\n",
      "0.0000 \t0.0000 \t1.60772727273 \t1.54818181818 0.0000 0.0000\n",
      "0.0000 \t0.0000 \t1.72681818182 \t1.66727272727 0.0000 0.0000\n",
      "0.0000 \t0.0000 \t1.84590909091 \t1.78636363636 0.0000 0.0000\n",
      "0.0000 \t0.0000 \t1.965 \t1.90545454545 0.0000 0.0000\n",
      "0.0000 \t0.0000 \t2.08409090909 \t2.02454545455 0.0000 0.0000\n",
      "0.0000 \t0.0000 \t2.20318181818 \t2.14363636364 0.0000 0.0000\n",
      "0.0000 \t0.0000 \t2.32227272727 \t2.26272727273 0.0000 0.0000\n",
      "0.0000 \t0.0000 \t2.44136363636 \t2.38181818182 0.0000 0.0000\n",
      "0.0000 \t0.0000 \t2.56045454545 \t2.50090909091 0.0000 0.0000\n"
     ]
    },
    {
     "name": "stderr",
     "output_type": "stream",
     "text": [
      "Info in <TH1D::Add>: Attempt to add histograms with different number of bins - trying to use TH1::Merge\n",
      "Error in <Merge>: Cannot merge histograms - limits are inconsistent:\n",
      " first:  (22, 0.000000, 1.310000), second: unfolded_MC (11, 0.000000, 1.310000)\n",
      "Error in <TH1D::Divide>: Cannot divide histograms with different number of bins\n"
     ]
    }
   ],
   "source": [
    "ratio = ROOT.TH1D(\"\",\"; #tau_{2,1}^{(1)}\",  gen_bins.shape[0]-1, (gen_bins))\n",
    "ratio.GetXaxis().SetTitle(\"#tau_{2,1}^{(1)}\");\n",
    "#ratio.GetYaxis().SetTitleOffset(0.);\n",
    "ratio.GetYaxis().CenterTitle(ROOT.kTRUE);\n",
    "ratio.GetXaxis().CenterTitle(ROOT.kTRUE);\n",
    "ratio.GetYaxis().SetRangeUser(0.7,1.3)\n",
    "ratio.Add(unfolded_MC)\n",
    "ratio.GetYaxis().SetTitle(\"#frac{Unfolded Powheg}{Gen-level Powheg}\")\n",
    "ratio.Sumw2()\n",
    "ratio.SetStats(0)\n",
    "ratio.Divide(histMgenMC_sig);\n",
    "ratio.GetYaxis().SetLabelSize(0.09)\n",
    "ratio.GetXaxis().SetLabelSize(0.09)\n",
    "#ratio.SetMarkerStyle(1)\n",
    "ratio.SetMarkerColor(ROOT.kRed)\n",
    "ratio.SetLineColor(ROOT.kRed)\n",
    "ratio.GetYaxis().SetTitleSize(0.12)\n",
    "ratio.GetYaxis().SetTitleOffset(0.4)\n",
    "ratio.GetXaxis().SetTitleSize(0.12)\n",
    "ratio.GetXaxis().SetTitleOffset(0.85)\n",
    "\n",
    "print \"Bin Content\", \"\\t\", \"Bin error\", \"\\t\", \"Bin Center\", \"\\t\", \"Bin Low-Edge\", \"\\t\", \"Ratio to Truth for bin\", \"\\t\", \"Ratio Error\"\n",
    "for i in xrange(1,gen_bins.shape[0]):\n",
    "    print \"%0.4f\"%unfolded_MC.GetBinContent(i), \"\\t\", \"%0.4f\"%unfolded_MC.GetBinError(i), \"\\t\", unfolded_MC.GetBinCenter(i), \"\\t\", unfolded_MC.GetBinLowEdge(i), \"%0.4f\"%ratio.GetBinContent(i), \"%0.4f\"%ratio.GetBinError(i)"
   ]
  },
  {
   "cell_type": "code",
   "execution_count": 53,
   "metadata": {
    "collapsed": true
   },
   "outputs": [
    {
     "name": "stderr",
     "output_type": "stream",
     "text": [
      "Info in <TCanvas::Print>: png file MC_SC_ratio_Escheme_bkgsub.png has been created\n",
      "Info in <TCanvas::Print>: pdf file MC_SC_ratio_Escheme_bkgsub.pdf has been created\n"
     ]
    },
    {
     "data": {
      "image/png": "[encoded data removed]",
      "text/plain": [
       "<IPython.core.display.Image object>"
      ]
     },
     "metadata": {},
     "output_type": "display_data"
    }
   ],
   "source": [
    "c6 = ROOT.TCanvas(\"c6\",\"c6\", 600,300)\n",
    "ratio.GetYaxis().SetLabelSize(0.05)\n",
    "ratio.GetXaxis().SetLabelSize(0.05)\n",
    "#ratio.SetMarkerStyle(1)\n",
    "ratio.SetMarkerStyle(5)\n",
    "ratio.SetMarkerColor(ROOT.kRed)\n",
    "ratio.SetLineColor(ROOT.kRed)\n",
    "ratio.GetYaxis().SetTitleSize(0.06)\n",
    "ratio.GetYaxis().SetTitleOffset(0.7)\n",
    "ratio.GetXaxis().SetTitleSize(0.05)\n",
    "ratio.GetXaxis().SetTitleOffset(0.8)\n",
    "#ratio.SetMinimum(0.7)\n",
    "#ratio.SetMaximum(1.3)\n",
    "#ratio.SetMarkerStyle(21);\n",
    "ratio.Draw(\"ep\")\n",
    "c6.Draw()\n",
    "c6.SaveAs(\"MC_SC_ratio_Escheme_bkgsub.png\")\n",
    "c6.SaveAs(\"MC_SC_ratio_Escheme_bkgsub.pdf\")"
   ]
  },
  {
   "cell_type": "code",
   "execution_count": 54,
   "metadata": {
    "collapsed": true
   },
   "outputs": [
    {
     "name": "stderr",
     "output_type": "stream",
     "text": [
      "Error in <TUnfoldDensity::SubtractBackground>: Source bkg_all given twice, ignoring 2nd call.\n",
      "\n",
      "Warning in <TROOT::Append>: Replacing existing TH1: unfolded_data (Potential memory leak).\n"
     ]
    }
   ],
   "source": [
    "# get unfolding output\n",
    "# includes the statistical and background errors\n",
    "# but not the other systematic uncertainties\n",
    "#tunfolder_data.SetInput( histMdetData )\n",
    "tunfolder_data.SubtractBackground( histMdetMC_bkg, \"bkg_all\", 1. )\n",
    "\n",
    "histUnfoldOutput= tunfolder_data.GetOutput(\"unfolded_data\")\n",
    "\n",
    "# retreive error matrix of statistical errors\n",
    "histEmatStat=tunfolder_data.GetEmatrixInput(\"unfolding stat error matrix\");\n",
    "# retreive full error matrix\n",
    "# This includes all systematic errors\n",
    "histEmatTotal=tunfolder_data.GetEmatrixTotal(\"unfolding total error matrix\");\n",
    "# create two copies of the unfolded data, one with statistical errors\n",
    "# the other with total errors\n",
    "histUnfoldStat=ROOT.TH1D(\"tau21(unfold,staterr)\",\";tau21(gen)\",  gen_bins.shape[0]-1, (gen_bins));\n",
    "histUnfoldTotal=ROOT.TH1D(\"tau21(unfold,totalerr)\",\";tau21(gen)\",  gen_bins.shape[0]-1, (gen_bins));\n",
    "\n",
    "for i in xrange(0, gen_bins.shape[0]): \n",
    "    c=histUnfoldOutput.GetBinContent(i);\n",
    "    # histogram with unfolded data and stat errors\n",
    "    histUnfoldStat.SetBinContent(i,c);\n",
    "    histUnfoldStat.SetBinError(i,np.sqrt(histEmatStat.GetBinContent(i,i)));\n",
    "    # histogram with unfolded data and total errors\n",
    "    histUnfoldTotal.SetBinContent(i,c);\n",
    "    histUnfoldTotal.SetBinError(i,np.sqrt(histEmatTotal.GetBinContent(i,i)));\n",
    "\n",
    "# create histogram with correlation matrix\n",
    "histCorr=ROOT.TH2D(\"Corr(total)\",\";tau21(gen);tau21(gen)\",  gen_bins.shape[0]-1, (gen_bins), gen_bins.shape[0]-1, (gen_bins));\n",
    "for i in xrange(0, gen_bins.shape[0]): \n",
    "    ei,ej = 0,0\n",
    "    ei=np.sqrt(histEmatTotal.GetBinContent(i,i));\n",
    "    if(ei<=0.0): continue\n",
    "    for j in xrange(0, gen_bins.shape[0]):\n",
    "        ej=np.sqrt(histEmatTotal.GetBinContent(j,j));\n",
    "        if(ej<=0.0): continue\n",
    "        histCorr.SetBinContent(i,j,histEmatTotal.GetBinContent(i,j)/ei/ej);\n",
    "\n",
    "# retreive bgr source 1\n",
    "#histdetNormBgr1=tunfolder_data.GetBackground(\"bgr1 normalized\", \"background1\");\n",
    "histMdetNormBgrTotal=tunfolder_data.GetBackground(\"bkg_all\");\n",
    "#========================\n"
   ]
  },
  {
   "cell_type": "code",
   "execution_count": 55,
   "metadata": {
    "collapsed": true
   },
   "outputs": [
    {
     "data": {
      "image/png": "[encoded data removed]",
      "text/plain": [
       "<IPython.core.display.Image object>"
      ]
     },
     "metadata": {},
     "output_type": "display_data"
    }
   ],
   "source": [
    "# Step 7: plots\n",
    "output = ROOT.TCanvas();\n",
    "#output.Divide(3,2);\n",
    "#output.cd(1);\n",
    "# data, MC prediction, background\n",
    "histMdetData.SetMinimum(0.0);\n",
    "histMdetData.SetMaximum(histMdetData.GetMaximum()*1.5);\n",
    "histMdetData.Draw(\"E\");\n",
    "histMdetMC_sig.SetMinimum(0.0);\n",
    "histMdetMC_sig.SetLineColor(ROOT.kBlue);\n",
    "histMdetNormBgrTotal.SetLineColor(ROOT.kRed);\n",
    "#histdetNormBgr1.SetLineColor(ROOT.kCyan);\n",
    "histMdetMC_sig.Draw(\"SAME HIST\");\n",
    "#histdetNormBgr1.Draw(\"SAME HIST\");\n",
    "histMdetNormBgrTotal.Draw(\"SAME HIST\");\n",
    "output.Draw()"
   ]
  },
  {
   "cell_type": "code",
   "execution_count": 56,
   "metadata": {
    "collapsed": true
   },
   "outputs": [
    {
     "data": {
      "image/png": "[encoded data removed]",
      "text/plain": [
       "<IPython.core.display.Image object>"
      ]
     },
     "metadata": {},
     "output_type": "display_data"
    }
   ],
   "source": [
    "#output.cd(2)\n",
    "# unfolded data, data truth, MC truth\n",
    "output = ROOT.TCanvas();\n",
    "histUnfoldTotal.SetMinimum(0.0);\n",
    "histUnfoldTotal.SetMaximum(5000);\n",
    "histUnfoldTotal.SetLineColor(ROOT.kBlue+3)\n",
    "histUnfoldTotal.SetLineWidth(1)\n",
    "# outer error: total error\n",
    "histUnfoldTotal.Draw(\"E\");\n",
    "# middle error: stat+bgr\n",
    "histUnfoldOutput.SetLineWidth(1)\n",
    "histUnfoldOutput.Draw(\"SAME E1\");\n",
    "# inner error: stat only\n",
    "histUnfoldStat.SetLineColor(ROOT.kGreen+2)\n",
    "histUnfoldStat.Draw(\"SAME E1\");\n",
    "\n",
    "histMdetMC_sig.Draw(\"SAME HIST\");\n",
    "histMgenMC_sig.Draw(\"SAME HIST\");\n",
    "#histBbbSignalGen.SetLineColor(ROOT.kBlue);\n",
    "#histBbbSignalGen.Draw(\"SAME HIST\");\n",
    "output.Draw()"
   ]
  },
  {
   "cell_type": "code",
   "execution_count": 57,
   "metadata": {
    "collapsed": true
   },
   "outputs": [
    {
     "data": {
      "image/png": "[encoded data removed]",
      "text/plain": [
       "<IPython.core.display.Image object>"
      ]
     },
     "metadata": {},
     "output_type": "display_data"
    }
   ],
   "source": [
    "output.cd(3);\n",
    "# unfolding matrix\n",
    "response.SetLineColor(ROOT.kBlue);\n",
    "response.Draw(\"BOX\");\n",
    "\n",
    "output.Draw()"
   ]
  },
  {
   "cell_type": "code",
   "execution_count": 58,
   "metadata": {
    "collapsed": true
   },
   "outputs": [
    {
     "data": {
      "image/png": "[encoded data removed]",
      "text/plain": [
       "<IPython.core.display.Image object>"
      ]
     },
     "metadata": {},
     "output_type": "display_data"
    }
   ],
   "source": [
    "# show tau as a function of chi**2\n",
    "output.cd(4);\n",
    "#logTauX.Draw();\n",
    "#bestLogTauLogChi2.SetMarkerColor(ROOT.kRed);\n",
    "#bestLogTauLogChi2.Draw(\"*\");\n",
    "# show the L curve\n",
    "output.cd(5);\n",
    "#lCurve.Draw(\"AL\");\n",
    "#bestLcurve.SetMarkerColor(ROOT.kRed);\n",
    "#bestLcurve.Draw(\"*\");\n",
    "# show correlation matrix\n",
    "output.cd(6);\n",
    "histCorr.Draw(\"BOX\");\n",
    "output.Draw()"
   ]
  },
  {
   "cell_type": "code",
   "execution_count": null,
   "metadata": {},
   "outputs": [],
   "source": []
  },
  {
   "cell_type": "code",
   "execution_count": null,
   "metadata": {},
   "outputs": [],
   "source": []
  }
 ],
 "metadata": {
  "kernelspec": {
   "display_name": "Python 2",
   "language": "python",
   "name": "python2"
  },
  "language_info": {
   "codemirror_mode": {
    "name": "ipython",
    "version": 2
   },
   "file_extension": ".py",
   "mimetype": "text/x-python",
   "name": "python",
   "nbconvert_exporter": "python",
   "pygments_lexer": "ipython2",
   "version": "2.7.15"
  }
 },
 "nbformat": 4,
 "nbformat_minor": 2
}
