{
 "cells": [
  {
   "cell_type": "markdown",
   "metadata": {},
   "source": [
    "# Mapping the phase space of a jet"
   ]
  },
  {
   "cell_type": "markdown",
   "metadata": {},
   "source": [
    "## Unfolding the $N$-subjettiness basis in semileptonic $t\\bar{t}$ events at $\\sqrt{s} = 13$ TeV"
   ]
  },
  {
   "cell_type": "markdown",
   "metadata": {},
   "source": [
    "#### Firstly , import the ROOT data analysis framework which will be used to read the data files and unfold the final result. "
   ]
  },
  {
   "cell_type": "code",
   "execution_count": 1,
   "metadata": {},
   "outputs": [
    {
     "name": "stdout",
     "output_type": "stream",
     "text": [
      "Welcome to JupyROOT 6.18/00\n"
     ]
    }
   ],
   "source": [
    "import ROOT\n",
    "import array as array\n",
    "import os\n",
    "import glob\n",
    "import ROOT\n",
    "from ROOT import TH1D, TH2D, TTree,TFile\n",
    "from random import gauss\n",
    "import numpy as np\n",
    "import root_numpy as rtnpy\n",
    "import h5py\n",
    "from awkward import JaggedArray, Table\n",
    "import matplotlib.pyplot as plt\n",
    "import seaborn as sns"
   ]
  },
  {
   "cell_type": "code",
   "execution_count": 2,
   "metadata": {
    "scrolled": true
   },
   "outputs": [
    {
     "name": "stdout",
     "output_type": "stream",
     "text": [
      "2016 Single Muon dataset luminosity:35.92\n"
     ]
    }
   ],
   "source": [
    "lumi = 5.75+2.57+4.24+4.03+3.11+7.57+8.65 #B+C+D+E+F+G+H\n",
    "print \"2016 Single Muon dataset luminosity:%0.2f\"%(lumi)"
   ]
  },
  {
   "cell_type": "code",
   "execution_count": 3,
   "metadata": {},
   "outputs": [],
   "source": [
    "systs = ['Jmr', 'Jms', 'pileup', 'JesTotal', 'Lumi', 'lhaPDF', 'Jer']\n",
    "\n",
    "uncert_colors = [ 4 ,  4 , ROOT.kCyan +1 ,2 ,      ROOT.kYellow+3,    ROOT.kMagenta ,  2 , ROOT.kBlack ,ROOT.kBlack ,    ROOT.kCyan +3 , ROOT.kViolet+3 ,  ROOT.kAzure+2 , ROOT.kMagenta+1 ,ROOT.kViolet+3 ,  ROOT.kRed ,   ROOT.kCyan +3 , ROOT.kViolet+3 ,  ROOT.kAzure+2 , ROOT.kMagenta+1 ,   ROOT.kCyan +3 , ROOT.kViolet+3 ,  ROOT.kAzure+2 , ROOT.kMagenta+1 ,ROOT.kViolet+3 ,  ROOT.kRed ,   ROOT.kCyan +3 , ROOT.kViolet+3 ,  ROOT.kAzure+2 , ROOT.kMagenta+1 ]\n",
    "uncert_lines = [ 5,8,7,3,    5,    6,8,1, 2, 4, 5, 1, 7, 8, 1, 7,7,4,4,5,2,1,3, 2, 4, 5, 1, 7, 8, 1]"
   ]
  },
  {
   "cell_type": "markdown",
   "metadata": {},
   "source": [
    "# $\\tau_{2}^{(0.5)}$ unfolding with background subtraction + purity&stability study [w/ E-scheme recombination+excl. $k_T$ axes]\n"
   ]
  },
  {
   "cell_type": "markdown",
   "metadata": {},
   "source": [
    "#### Below the MC and Data events are read from ROOT trees which only contain events meeting the selection criteria set forth in this __[script](https://github.com/kaustuvdatta/jetObservables/blob/102X/python/nSubProducer_gen_reco.py)__ and thereafter in the nSubExtractor class"
   ]
  },
  {
   "cell_type": "code",
   "execution_count": 5,
   "metadata": {},
   "outputs": [],
   "source": [
    "from nSubExtractor_old import nSubExtractor_old as nSubExtractor"
   ]
  },
  {
   "cell_type": "markdown",
   "metadata": {},
   "source": [
    "### Loading datasets of $N$-subjettiness bases measured with (default: \" \" ) $E$-scheme recombination and excl. lT axes (please specifiy  \"WTA_kT\" or \"OP_kT\" in the axisdef option of the nSubExtractor)"
   ]
  },
  {
   "cell_type": "code",
   "execution_count": 5,
   "metadata": {},
   "outputs": [
    {
     "name": "stdout",
     "output_type": "stream",
     "text": [
      "(6270, 21) (6270, 2)\n"
     ]
    },
    {
     "name": "stderr",
     "output_type": "stream",
     "text": [
      "Warning in <TClass::Init>: no dictionary for class edm::ProcessHistory is available\n",
      "Warning in <TClass::Init>: no dictionary for class edm::ProcessConfiguration is available\n",
      "Warning in <TClass::Init>: no dictionary for class edm::ParameterSetBlob is available\n",
      "Warning in <TClass::Init>: no dictionary for class edm::Hash<1> is available\n",
      "Warning in <TClass::Init>: no dictionary for class pair<edm::Hash<1>,edm::ParameterSetBlob> is available\n"
     ]
    }
   ],
   "source": [
    "a = nSubExtractor(isMC=1, axisdef=\"\", sample=\"TTbar/2\")\n",
    "TTbarMG_dataset, TTbarMG_reco_nSub_basis, TTbarMG_gen_nSub_basis, TTbarMG_weights = a.sample_loader()\n",
    "\n",
    "print TTbarMG_reco_nSub_basis.shape, TTbarMG_weights.shape"
   ]
  },
  {
   "cell_type": "code",
   "execution_count": 6,
   "metadata": {},
   "outputs": [
    {
     "name": "stdout",
     "output_type": "stream",
     "text": [
      "(43107, 21) (43107, 2)\n"
     ]
    }
   ],
   "source": [
    "a = nSubExtractor(isMC=1, axisdef=\"\", sample=\"TTbar/1\")\n",
    "TTbar_dataset, TTbar_reco_nSub_basis, TTbar_gen_nSub_basis, TTbar_weights  = a.sample_loader()\n",
    "\n",
    "print TTbar_reco_nSub_basis.shape, TTbar_weights.shape"
   ]
  },
  {
   "cell_type": "code",
   "execution_count": 7,
   "metadata": {},
   "outputs": [
    {
     "name": "stdout",
     "output_type": "stream",
     "text": [
      "(900, 21) (900, 2)\n"
     ]
    }
   ],
   "source": [
    "a = nSubExtractor(isMC=1, axisdef=\"\", sample=\"ST/1\")\n",
    "ST1_dataset, ST1_reco_nSub_basis, ST1_gen_nSub_basis, ST1_weights  = a.sample_loader()\n",
    "print ST1_reco_nSub_basis.shape, ST1_weights.shape"
   ]
  },
  {
   "cell_type": "code",
   "execution_count": 8,
   "metadata": {},
   "outputs": [
    {
     "name": "stdout",
     "output_type": "stream",
     "text": [
      "(1988, 21) (1988, 2)\n"
     ]
    }
   ],
   "source": [
    "a = nSubExtractor(isMC=1, axisdef=\"\", sample=\"ST/2\")\n",
    "ST2_dataset, ST2_reco_nSub_basis, ST2_gen_nSub_basis, ST2_weights  = a.sample_loader()\n",
    "print ST2_reco_nSub_basis.shape, ST2_weights.shape"
   ]
  },
  {
   "cell_type": "code",
   "execution_count": 9,
   "metadata": {},
   "outputs": [
    {
     "name": "stdout",
     "output_type": "stream",
     "text": [
      "(594, 21) (594, 2)\n"
     ]
    }
   ],
   "source": [
    "a = nSubExtractor(isMC=1, axisdef=\"\", sample=\"ST/3\")\n",
    "ST3_dataset, ST3_reco_nSub_basis, ST3_gen_nSub_basis, ST3_weights  = a.sample_loader()\n",
    "print ST3_reco_nSub_basis.shape, ST3_weights.shape"
   ]
  },
  {
   "cell_type": "code",
   "execution_count": 10,
   "metadata": {},
   "outputs": [
    {
     "name": "stdout",
     "output_type": "stream",
     "text": [
      "(617, 21) (617, 2)\n"
     ]
    }
   ],
   "source": [
    "a = nSubExtractor(isMC=1, axisdef=\"\", sample=\"ST/4\")\n",
    "ST4_dataset, ST4_reco_nSub_basis, ST4_gen_nSub_basis, ST4_weights  = a.sample_loader()\n",
    "print ST4_reco_nSub_basis.shape, ST4_weights.shape"
   ]
  },
  {
   "cell_type": "code",
   "execution_count": 11,
   "metadata": {},
   "outputs": [
    {
     "name": "stdout",
     "output_type": "stream",
     "text": [
      "(69, 21) (69, 2)\n"
     ]
    }
   ],
   "source": [
    "a = nSubExtractor(isMC=1, axisdef=\"\", sample=\"ST/5\")\n",
    "ST5_dataset, ST5_reco_nSub_basis, ST5_gen_nSub_basis, ST5_weights  = a.sample_loader()\n",
    "print ST5_reco_nSub_basis.shape, ST5_weights.shape"
   ]
  },
  {
   "cell_type": "code",
   "execution_count": 12,
   "metadata": {},
   "outputs": [
    {
     "name": "stdout",
     "output_type": "stream",
     "text": [
      "(207, 21) (207, 3)\n"
     ]
    }
   ],
   "source": [
    "a = nSubExtractor(isMC=1, axisdef=\"\", sample=\"Wjets/2\")\n",
    "Wjets_dataset, Wjets_reco_nSub_basis, Wjets_gen_nSub_basis, Wjets_weights = a.sample_loader()\n",
    "print Wjets_reco_nSub_basis.shape, Wjets_weights.shape"
   ]
  },
  {
   "cell_type": "code",
   "execution_count": 13,
   "metadata": {},
   "outputs": [
    {
     "name": "stdout",
     "output_type": "stream",
     "text": [
      "(16482, 21)\n"
     ]
    }
   ],
   "source": [
    "a = nSubExtractor(isMC=0, axisdef=\"\", sample=\"Data\")\n",
    "data_dataset, data_nSub_basis,  = a.sample_loader()\n",
    "print data_nSub_basis.shape"
   ]
  },
  {
   "cell_type": "code",
   "execution_count": 14,
   "metadata": {
    "scrolled": true
   },
   "outputs": [],
   "source": [
    "weight_ST1 = (80.95*0.322*lumi*1000.)/(38811017.)*np.ones(ST1_weights.shape[0])*ST1_weights[:,0]*ST1_weights[:,1]*0.8\n",
    "weight_ST2 = (0.322*136.02*lumi*1000.)/(66960888.)*np.ones(ST2_weights.shape[0])*ST2_weights[:,0]*ST2_weights[:,1]*0.8\n",
    "weight_ST3 = (35.6*lumi*1000.)/(998276.)*np.ones(ST3_weights.shape[0])*ST3_weights[:,0]*ST3_weights[:,1]*0.8\n",
    "weight_ST4 = (35.6*lumi*1000.)/(992024.)*np.ones(ST4_weights.shape[0])*ST4_weights[:,0]*ST4_weights[:,1]*0.8\n",
    "weight_ST5 = (10.12*lumi*1000.)/(2989199.)*np.ones(ST5_weights.shape[0])*ST5_weights[:,0]*ST5_weights[:,1]*0.8\n",
    "weight_TTbar = (831.76*lumi*1000.)/76915549.*np.ones(TTbar_weights.shape[0])*TTbar_weights[:,0]*TTbar_weights[:,1]*0.8\n",
    "weight_Wjets = ((60781.5*lumi*1000.)*(Wjets_weights[:,2]/abs(Wjets_weights[:,2][0]))/158307515.0)*Wjets_weights[:,0]*Wjets_weights[:,1]*0.8 \n",
    "weight_data = 1.0*np.ones(data_nSub_basis.shape[0])\n",
    "\n",
    "#print lumi, weight_Wjets\n",
    "#print TTbar_weights[:,0]"
   ]
  },
  {
   "cell_type": "code",
   "execution_count": 15,
   "metadata": {},
   "outputs": [
    {
     "name": "stdout",
     "output_type": "stream",
     "text": [
      "4681\n"
     ]
    }
   ],
   "source": [
    "lenW = Wjets_reco_nSub_basis.shape[0]\n",
    "lenST = ST1_reco_nSub_basis.shape[0]+ST1_reco_nSub_basis.shape[0]+ST2_reco_nSub_basis.shape[0]+ST4_reco_nSub_basis.shape[0]+ST5_reco_nSub_basis.shape[0]\n",
    "lenbkg = lenW+lenST\n",
    "print lenbkg"
   ]
  },
  {
   "cell_type": "code",
   "execution_count": 16,
   "metadata": {},
   "outputs": [],
   "source": [
    "bkg_reco_nSub_basis = np.concatenate((Wjets_reco_nSub_basis, ST1_reco_nSub_basis, ST2_reco_nSub_basis, ST3_reco_nSub_basis, ST4_reco_nSub_basis, ST5_reco_nSub_basis))"
   ]
  },
  {
   "cell_type": "code",
   "execution_count": 17,
   "metadata": {},
   "outputs": [
    {
     "name": "stdout",
     "output_type": "stream",
     "text": [
      "4681\n"
     ]
    }
   ],
   "source": [
    "lenW = Wjets_gen_nSub_basis.shape[0]\n",
    "lenST = ST1_gen_nSub_basis.shape[0]+ST1_gen_nSub_basis.shape[0]+ST2_gen_nSub_basis.shape[0]+ST4_gen_nSub_basis.shape[0]+ST5_gen_nSub_basis.shape[0]\n",
    "lenbkg = lenW+lenST\n",
    "print lenbkg"
   ]
  },
  {
   "cell_type": "code",
   "execution_count": 18,
   "metadata": {},
   "outputs": [],
   "source": [
    "bkg_gen_nSub_basis = np.concatenate((Wjets_gen_nSub_basis, ST1_gen_nSub_basis, ST2_gen_nSub_basis, ST3_gen_nSub_basis, ST4_gen_nSub_basis, ST5_gen_nSub_basis))"
   ]
  },
  {
   "cell_type": "markdown",
   "metadata": {},
   "source": [
    "# Unfolding $\\tau_{3}^{(0.5)}$ with background subtraction"
   ]
  },
  {
   "cell_type": "code",
   "execution_count": 19,
   "metadata": {},
   "outputs": [],
   "source": [
    "Wjets_gen_tau3_0p5 = Wjets_gen_nSub_basis[:,6]\n",
    "\n",
    "ST1_gen_tau3_0p5 = ST1_gen_nSub_basis[:,6]\n",
    "\n",
    "ST2_gen_tau3_0p5 = ST2_gen_nSub_basis[:,6]\n",
    "\n",
    "ST3_gen_tau3_0p5 = ST3_gen_nSub_basis[:,6]\n",
    "\n",
    "ST4_gen_tau3_0p5 = ST4_gen_nSub_basis[:,6]\n",
    "\n",
    "ST5_gen_tau3_0p5 = ST5_gen_nSub_basis[:,6]\n",
    "\n",
    "TTbar_gen_tau3_0p5 = TTbar_gen_nSub_basis[:,6]"
   ]
  },
  {
   "cell_type": "code",
   "execution_count": 20,
   "metadata": {},
   "outputs": [],
   "source": [
    "Wjets_reco_tau3_0p5 = Wjets_reco_nSub_basis[:,6]\n",
    "\n",
    "ST1_reco_tau3_0p5 = ST1_reco_nSub_basis[:,6]\n",
    "\n",
    "ST2_reco_tau3_0p5 = ST2_reco_nSub_basis[:,6]\n",
    "\n",
    "ST3_reco_tau3_0p5 = ST3_reco_nSub_basis[:,6]\n",
    "\n",
    "ST4_reco_tau3_0p5 = ST4_reco_nSub_basis[:,6]\n",
    "\n",
    "ST5_reco_tau3_0p5 = ST5_reco_nSub_basis[:,6]\n",
    "\n",
    "TTbar_reco_tau3_0p5 = TTbar_reco_nSub_basis[:,6]"
   ]
  },
  {
   "cell_type": "code",
   "execution_count": 21,
   "metadata": {},
   "outputs": [],
   "source": [
    "MC_sig_reco_tau3_0p5 = TTbar_reco_tau3_0p5\n",
    "MC_sig_gen_tau3_0p5 = TTbar_gen_tau3_0p5\n",
    "\n",
    "MC_bkg_reco_tau3_0p5 = np.concatenate((ST1_reco_tau3_0p5,ST2_reco_tau3_0p5,ST3_reco_tau3_0p5,ST4_reco_tau3_0p5,ST5_reco_tau3_0p5,Wjets_reco_tau3_0p5))\n",
    "MC_bkg_gen_tau3_0p5 = np.concatenate((ST1_gen_tau3_0p5,ST2_gen_tau3_0p5,ST3_gen_tau3_0p5,ST4_gen_tau3_0p5,ST5_gen_tau3_0p5,Wjets_gen_tau3_0p5))\n",
    "\n",
    "data_tau3_0p5 = data_nSub_basis[:,6]\n",
    "weights_MC_sig = weight_TTbar\n",
    "weights_MC_bkg = np.concatenate((weight_ST1,weight_ST2,weight_ST3,weight_ST4,weight_ST5,weight_Wjets))"
   ]
  },
  {
   "cell_type": "markdown",
   "metadata": {
    "collapsed": true
   },
   "source": [
    "Get the response matrix and input 1D distributions for unfolding."
   ]
  },
  {
   "cell_type": "code",
   "execution_count": 22,
   "metadata": {},
   "outputs": [
    {
     "name": "stdout",
     "output_type": "stream",
     "text": [
      "0.005473632365465164\n",
      "0.04230464622378349\n",
      "0.5322859287261963\n",
      "0.5292599201202393 \n",
      "\n",
      "0.07592660933732986\n",
      "0.05889412388205528\n",
      "0.4643595516681671\n",
      "0.4904743731021881 \n",
      "\n",
      "0.02886856719851494\n",
      "0.5442260503768921\n"
     ]
    }
   ],
   "source": [
    "print np.min(MC_sig_gen_tau3_0p5)\n",
    "print np.min(MC_sig_reco_tau3_0p5)\n",
    "print np.max(MC_sig_gen_tau3_0p5)\n",
    "print np.max(MC_sig_reco_tau3_0p5), \"\\n\"\n",
    "\n",
    "\n",
    "print np.min(MC_bkg_gen_tau3_0p5)\n",
    "print np.min(MC_bkg_reco_tau3_0p5)\n",
    "print np.max(MC_bkg_gen_tau3_0p5)\n",
    "print np.max(MC_bkg_reco_tau3_0p5), \"\\n\"\n",
    "\n",
    "\n",
    "print np.min(data_tau3_0p5)\n",
    "print np.max(data_tau3_0p5)"
   ]
  },
  {
   "cell_type": "markdown",
   "metadata": {
    "collapsed": true
   },
   "source": [
    "#### Set the axis ranges for the generator nd detector level distributions as well as the number of bins in each. Note that we want twice as many detector bins as generator level bins as recommended by the TUnfold documenation "
   ]
  },
  {
   "cell_type": "code",
   "execution_count": 23,
   "metadata": {},
   "outputs": [
    {
     "name": "stdout",
     "output_type": "stream",
     "text": [
      "[0.   0.11 0.16 0.21 0.26 0.31 0.36 0.41 0.55] 9\n",
      "[0.    0.055 0.11  0.135 0.16  0.185 0.21  0.235 0.26  0.285 0.31  0.335\n",
      " 0.36  0.385 0.41  0.48  0.55 ] 17\n"
     ]
    }
   ],
   "source": [
    "gen_bins = np.array([x for x in np.linspace(num=7, start=0.11, stop=0.41)])\n",
    "gen_bins = np.concatenate((np.array([0.,]), gen_bins, np.array([0.55,])))\n",
    "print gen_bins, gen_bins.shape[0]\n",
    "\n",
    "det_bins = np.array([x for x in np.linspace(num=13, start=0.11, stop=0.41)])\n",
    "det_bins = np.concatenate((np.array([0.,0.055,]), det_bins, np.array([0.48, 0.55]),))\n",
    "print det_bins, det_bins.shape[0]"
   ]
  },
  {
   "cell_type": "code",
   "execution_count": 24,
   "metadata": {},
   "outputs": [],
   "source": [
    "ROOT.TH1.SetDefaultSumw2()\n",
    "from root_numpy import *"
   ]
  },
  {
   "cell_type": "markdown",
   "metadata": {},
   "source": [
    "#### Fill histograms for sig and bkg. MC separately in this case (as one should!)"
   ]
  },
  {
   "cell_type": "code",
   "execution_count": 25,
   "metadata": {},
   "outputs": [],
   "source": [
    "histMgenMC_bkg = ROOT.TH1D(\"histMgenMC_bkg\", \"histMgenMC_bkg; #tau_{3}^{(0.5)}; Events/(0.02)\",  gen_bins.shape[0]-1, (gen_bins))\n",
    "fill_hist(histMgenMC_bkg, MC_bkg_gen_tau3_0p5, weights=weights_MC_bkg)\n",
    "\n",
    "histMdetMC_bkg = ROOT.TH1D(\"histMdetMC_bkg\", \"histMdetMC_bkg; #tau_{3}^{(0.5)}; Events/(0.02)\", det_bins.shape[0]-1, (det_bins))\n",
    "fill_hist(histMdetMC_bkg, MC_bkg_reco_tau3_0p5, weights=weights_MC_bkg)\n",
    "\n",
    "histMgenMC_sig = ROOT.TH1D(\"histMgenMC_sig\", \"histMgenMC_sig; #tau_{3}^{(0.5)}; Events/(0.02)\",  gen_bins.shape[0]-1, (gen_bins))\n",
    "fill_hist(histMgenMC_sig, MC_sig_gen_tau3_0p5, weights=weights_MC_sig)\n",
    "\n",
    "histMdetMC_sig = ROOT.TH1D(\"histMdetMC_sig\", \"histMdetMC_sig; #tau_{3}^{(0.5)}; Events/(0.02)\", det_bins.shape[0]-1, (det_bins))\n",
    "fill_hist(histMdetMC_sig, MC_sig_reco_tau3_0p5, weights=weights_MC_sig)\n",
    "\n",
    "#histMgenData = ROOT.TH1D(\"histMgenData\", \"histMgenData; #tau_{3}^{(0.5)}; Events/(0.02)\", gen_bins.shape[0]-1, (gen_bins))\n",
    "#fill_hist(histMgenData, TTbartruth_nSub_basis[:,4]/TTbartruth_nSub_basis[:,1])\n",
    "\n",
    "histMdetData = ROOT.TH1D(\"histMdetData\", \"histMdetData; #tau_{3}^{(0.5)}; Events/(0.02)\", det_bins.shape[0]-1, (det_bins))\n",
    "fill_hist(histMdetData, data_tau3_0p5)"
   ]
  },
  {
   "cell_type": "markdown",
   "metadata": {
    "collapsed": true
   },
   "source": [
    "Set the X and Y axis labels"
   ]
  },
  {
   "cell_type": "code",
   "execution_count": 26,
   "metadata": {},
   "outputs": [],
   "source": [
    "histMgenMC_bkg.SetTitle(\";#tau_{3}^{(0.5)}(gen_bkg)\")\n",
    "\n",
    "histMdetMC_bkg.SetTitle(\";#tau_{3}^{(0.5)}(det_bkg)\")\n",
    "\n",
    "histMgenMC_sig.SetTitle(\";#tau_{3}^{(0.5)}(gen_sig)\")\n",
    "\n",
    "histMdetMC_sig.SetTitle(\";#tau_{3}^{(0.5)}(det_sig)\")\n",
    "\n",
    "histMdetData.SetTitle(\";#tau_{3}^{(0.5)}(data)\")\n"
   ]
  },
  {
   "cell_type": "markdown",
   "metadata": {
    "collapsed": true
   },
   "source": [
    "Draw the variables at reco and gen level and for \"data\""
   ]
  },
  {
   "cell_type": "code",
   "execution_count": 27,
   "metadata": {
    "scrolled": true
   },
   "outputs": [
    {
     "data": {
      "image/png": "[encoded data removed]",
      "text/plain": [
       "<IPython.core.display.Image object>"
      ]
     },
     "metadata": {},
     "output_type": "display_data"
    }
   ],
   "source": [
    "c1 = ROOT.TCanvas(\"chistMgenMC_sig1\", \"chistMgenMC_sig1\")\n",
    "histMgenMC_sig.Draw(\"e\")\n",
    "histMdetMC_sig.Draw(\"e same\")\n",
    "c1.Draw()"
   ]
  },
  {
   "cell_type": "code",
   "execution_count": 28,
   "metadata": {
    "scrolled": true
   },
   "outputs": [
    {
     "data": {
      "image/png": "[encoded data removed]",
      "text/plain": [
       "<IPython.core.display.Image object>"
      ]
     },
     "metadata": {},
     "output_type": "display_data"
    }
   ],
   "source": [
    "c1 = ROOT.TCanvas(\"chistMgenMC_bkg1\", \"chistMgenMC_bkg1\")\n",
    "histMgenMC_bkg.Draw(\"e\")\n",
    "histMdetMC_bkg.SetLineColor(ROOT.kRed)\n",
    "histMdetMC_bkg.Draw(\"e same\")\n",
    "c1.Draw()"
   ]
  },
  {
   "cell_type": "code",
   "execution_count": 29,
   "metadata": {
    "scrolled": true
   },
   "outputs": [
    {
     "data": {
      "image/png": "[encoded data removed]",
      "text/plain": [
       "<IPython.core.display.Image object>"
      ]
     },
     "metadata": {},
     "output_type": "display_data"
    }
   ],
   "source": [
    "c1 = ROOT.TCanvas(\"chistMgenMC_sig1\", \"chistMgenMC_sig1\")\n",
    "#histMgenData.Draw(\"e\")\n",
    "histMdetData.Draw(\"e \")\n",
    "c1.Draw()"
   ]
  },
  {
   "cell_type": "markdown",
   "metadata": {},
   "source": [
    "### Fill response matrix"
   ]
  },
  {
   "cell_type": "code",
   "execution_count": 30,
   "metadata": {},
   "outputs": [],
   "source": [
    "response = ROOT.TH2D('response', 'response', det_bins.shape[0]-1, det_bins, gen_bins.shape[0]-1, gen_bins)\n",
    "hist2Dfill = np.zeros((MC_sig_reco_tau3_0p5.shape[0], 2))\n",
    "hist2Dfill[:,0] = MC_sig_reco_tau3_0p5.flatten()\n",
    "hist2Dfill[:,1] = MC_sig_gen_tau3_0p5.flatten()\n",
    "fill_hist(response, hist2Dfill, weights_MC_sig)\n",
    "response.SetTitle(\"Nominal Response Matrix;#tau_{3}^{(0.5)}(det_sig);#tau_{3}^{(0.5)}(gen_sig)\")"
   ]
  },
  {
   "cell_type": "code",
   "execution_count": 31,
   "metadata": {
    "scrolled": true
   },
   "outputs": [
    {
     "data": {
      "image/png": "[encoded data removed]",
      "text/plain": [
       "<IPython.core.display.Image object>"
      ]
     },
     "metadata": {},
     "output_type": "display_data"
    }
   ],
   "source": [
    "c1 = ROOT.TCanvas(\"cresponse1\", \"cresponse1\")\n",
    "response.Draw(\"colz\")\n",
    "c1.Draw()"
   ]
  },
  {
   "cell_type": "markdown",
   "metadata": {},
   "source": [
    "### Purity and Stability calculation"
   ]
  },
  {
   "cell_type": "raw",
   "metadata": {
    "collapsed": true
   },
   "source": [
    "#### Normalise the distributions, draw them and the response matrix."
   ]
  },
  {
   "cell_type": "raw",
   "metadata": {},
   "source": [
    "norm_genMC_bkg = histMgenMC_bkg.Integral()\n",
    "print norm_genMC_bkg\n",
    "\n",
    "norm_recoMC_bkg = histMdetMC_bkg.Integral()\n",
    "print norm_recoMC_bkg\n",
    "\n",
    "norm_genMC_sig = histMgenMC_sig.Integral()\n",
    "print norm_genMC_sig\n",
    "\n",
    "norm_recoMC_sig = histMdetMC_sig.Integral()\n",
    "print norm_recoMC_sig\n",
    "\n",
    "#norm_genData = histMgenData.Integral()\n",
    "#print norm_genData\n",
    "\n",
    "norm_detData = histMdetData.Integral()\n",
    "print norm_detData"
   ]
  },
  {
   "cell_type": "code",
   "execution_count": 32,
   "metadata": {},
   "outputs": [],
   "source": [
    "hMC_gen_bkg = ROOT.TH1D(histMgenMC_bkg)\n",
    "#hMC_gen_bkg.Scale(1./norm_genMC_bkg)\n",
    "\n",
    "hMC_reco_bkg = ROOT.TH1D(histMdetMC_bkg)\n",
    "#hMC_reco_bkg.Scale(1./norm_recoMC_bkg)\n",
    "\n",
    "hMC_gen_sig = ROOT.TH1D(histMgenMC_sig)\n",
    "#hMC_gen_sig.Scale(1./norm_genMC_sig)\n",
    "\n",
    "hMC_reco_sig = ROOT.TH1D(histMdetMC_sig)\n",
    "#hMC_reco_sig.Scale(1./norm_recoMC_sig)\n",
    "\n",
    "hMC_data = ROOT.TH1D(histMdetData)\n",
    "#histMgenData.Scale(1./norm_genData)\n",
    "#histMdetData.Scale(1./norm_detData)\n",
    "\n",
    "'''\n",
    "histMgenMC_bkg.Scale(1./norm_genMC_bkg)\n",
    "histMdetMC_bkg.Scale(1./norm_recoMC_bkg)\n",
    "histMgenMC_sig.Scale(1./norm_genMC_sig)\n",
    "histMdetMC_sig.Scale(1./norm_recoMC_sig)\n",
    "\n",
    "#histMgenData.Scale(1./norm_genData)\n",
    "histMdetData.Scale(1./norm_detData)\n",
    "''';"
   ]
  },
  {
   "cell_type": "code",
   "execution_count": 33,
   "metadata": {
    "scrolled": true
   },
   "outputs": [
    {
     "name": "stdout",
     "output_type": "stream",
     "text": [
      "0 -0.034375 0.0\n",
      "1 0.0 0.698875485429\n",
      "2 0.055 27.9365079736\n",
      "3 0.11 127.306979654\n",
      "4 0.135 406.783418097\n",
      "5 0.16 939.096893035\n",
      "6 0.185 1667.20760137\n",
      "7 0.21 2200.38663281\n",
      "8 0.235 2372.95716393\n",
      "9 0.26 2088.00671085\n",
      "10 0.285 1618.84403345\n",
      "11 0.31 1127.49833483\n",
      "12 0.335 669.726524284\n",
      "13 0.36 370.659173725\n",
      "14 0.385 183.338312109\n",
      "15 0.41 96.7072012942\n",
      "16 0.48 3.98326642254\n",
      "==========\n",
      "0 -0.06875 0.0\n",
      "1 0.0 54.6701049859\n",
      "2 0.11 942.176843479\n",
      "3 0.16 3618.37021138\n",
      "4 0.21 4560.41600721\n",
      "5 0.26 2930.67156839\n",
      "6 0.31 1298.23858987\n",
      "7 0.36 406.916385327\n",
      "8 0.41 89.6779186721\n"
     ]
    }
   ],
   "source": [
    "for i in xrange(0, histMdetMC_sig.GetNbinsX()+1):\n",
    "    print i, hMC_reco_sig.GetBinLowEdge(i), hMC_reco_sig.GetBinContent(i)   \n",
    "print \"==========\"\n",
    "for i in xrange(0, hMC_gen_sig.GetNbinsX()+1):\n",
    "    print i, hMC_gen_sig.GetBinLowEdge(i), hMC_gen_sig.GetBinContent(i)"
   ]
  },
  {
   "cell_type": "code",
   "execution_count": 34,
   "metadata": {},
   "outputs": [],
   "source": [
    "purity = ROOT.TH1D(\"purity\", \"Purity and stability study; #tau_{3}^{(0.5)}; \",  gen_bins.shape[0]-1, (gen_bins))\n",
    "stability = ROOT.TH1D(\"stability\", \"Purity and stability study; #tau_{3}^{(0.5)}; \",  gen_bins.shape[0]-1, (gen_bins))\n",
    "efficiency = ROOT.TH1D(\"efficiency\", \"Purity and stability study; #tau_{3}^{(0.5)}; \",  gen_bins.shape[0]-1, (gen_bins))"
   ]
  },
  {
   "cell_type": "markdown",
   "metadata": {},
   "source": [
    "### With python"
   ]
  },
  {
   "cell_type": "markdown",
   "metadata": {},
   "source": [
    "We define purity as the fraction of reconstructed events that are generated in the same bin, \n",
    "and stability as the fraction of generated events that are reconstructed in the same\n",
    "bin, divided by the overall reconstruction efficiency per bin. "
   ]
  },
  {
   "cell_type": "code",
   "execution_count": 35,
   "metadata": {
    "scrolled": true
   },
   "outputs": [
    {
     "name": "stdout",
     "output_type": "stream",
     "text": [
      "[3 4 5 ... 5 1 7]\n",
      "Setting contents for P, S, eff. histos, in bin 1\n",
      "Setting contents for P, S, eff. histos, in bin 2\n",
      "Setting contents for P, S, eff. histos, in bin 3\n",
      "Setting contents for P, S, eff. histos, in bin 4\n",
      "Setting contents for P, S, eff. histos, in bin 5\n",
      "Setting contents for P, S, eff. histos, in bin 6\n",
      "Setting contents for P, S, eff. histos, in bin 7\n",
      "Setting contents for P, S, eff. histos, in bin 8\n",
      "\n",
      "\n",
      "+++++++++Pure and Stable! :)+++++++++++++\n",
      "\n",
      "\n",
      "[  31. 1010. 5267. 7621. 5275. 2399.  729.  159.    0.] \n",
      "\n",
      "[   87.  1651.  8123. 14209. 11509.  5510.  1699.   319.     0.] \n",
      "\n",
      "Purity array: [0.35632184 0.61175045 0.64840576 0.5363502  0.45833695 0.4353902\n",
      " 0.42907593 0.4984326 ] \n",
      "\n",
      "\n",
      "[  31. 1010. 5267. 7621. 5275. 2399.  729.  159.    0.] \n",
      "\n",
      "[  166.  2925. 11322. 14167.  9040.  3963.  1248.   276.     0.] \n",
      "\n",
      "Stability array: [0.18674699 0.34529915 0.46520049 0.53794028 0.5835177  0.60534948\n",
      " 0.58413462 0.57608696] \n",
      "\n",
      "\n",
      "+++++Efficiency+++++\n",
      "\n",
      "Efficiency array: [0.00071914 0.02343007 0.12218433 0.17679263 0.12236992 0.05565221\n",
      " 0.01691141 0.0036885 ]\n"
     ]
    },
    {
     "name": "stderr",
     "output_type": "stream",
     "text": [
      "/shome/kdatta/.local/lib/python2.7/site-packages/ipykernel_launcher.py:54: RuntimeWarning: invalid value encountered in divide\n",
      "/shome/kdatta/.local/lib/python2.7/site-packages/ipykernel_launcher.py:59: RuntimeWarning: invalid value encountered in divide\n"
     ]
    }
   ],
   "source": [
    "gen_arr = MC_sig_gen_tau3_0p5[:]\n",
    "#print gen_arr[0:20]\n",
    "#print gen_bins[0:-1]\n",
    "gen_bin_index = np.digitize(gen_arr, gen_bins)\n",
    "print gen_bin_index\n",
    "#print gen_bin_index[0:20]\n",
    "\n",
    "det_arr = MC_sig_reco_tau3_0p5[0:]\n",
    "#print det_arr[0:20]\n",
    "#print det_bins[0:-1]\n",
    "det_bin_index = np.digitize(det_arr, gen_bins)\n",
    "det_bin_index2 = np.digitize(det_arr, det_bins)\n",
    "#print det_bin_index[0:20]\n",
    "\n",
    "ndet_pergenbin = [0.] #N_recgen array = number of events generated in and reconstructed in gen bin i\n",
    "ndet_genanywhere = [0.] # number of events reconstructed in gen _bin i but generated anywhere\n",
    "ngen_detanywhere = [0.] # number of events generated in gen _bin i but reconstructed anywhere\n",
    "\n",
    "### purity = # of evts generated and reconstructed in gen bin i / # of evts reconstructed in gen bin i but generated anywhere\n",
    "### stability = # of evts generated and reconstructed in gen bin / # of evts generated in gen bin i but reconstructed anywhere\n",
    "for i in xrange(0, gen_bins.shape[0]-1):\n",
    "    \n",
    "    #print i+1\n",
    "    \n",
    "    for k in xrange(0, gen_bin_index.shape[0]):\n",
    "        \n",
    "        if gen_bin_index[k]==i+1: \n",
    "            ngen_detanywhere[i]+=1 #stability denominator\n",
    "            if det_bin_index[k]==i+1: ndet_pergenbin[i]+=1\n",
    "            \n",
    "    ngen_detanywhere.append(0.)\n",
    "    ndet_pergenbin.append(0.)\n",
    "    \n",
    "    for k in xrange(0, det_bin_index.shape[0]):\n",
    "        \n",
    "        if det_bin_index[k]==i+1: \n",
    "            ndet_genanywhere[i]+=1 #purity denominator\n",
    "            \n",
    "    ndet_genanywhere.append(0.)\n",
    "    \n",
    "    print \"Setting contents for P, S, eff. histos, in bin %d\"%(i+1)\n",
    "    purity.SetBinContent(i+1, ndet_pergenbin[i]/ndet_genanywhere[i])\n",
    "    stability.SetBinContent(i+1, ndet_pergenbin[i]/ngen_detanywhere[i])\n",
    "    efficiency.SetBinContent(i+1, ndet_pergenbin[i]/43107.)\n",
    "    \n",
    "    \n",
    "ndet_pergenbin = np.array(ndet_pergenbin)\n",
    "ndet_genanywhere = np.array(ndet_genanywhere)\n",
    "ngen_detanywhere = np.array(ngen_detanywhere)\n",
    "\n",
    "print \"\\n\\n+++++++++Pure and Stable! :)+++++++++++++\\n\\n\"\n",
    "print ndet_pergenbin,\"\\n\"\n",
    "print ndet_genanywhere,\"\\n\"\n",
    "purity_arr = ndet_pergenbin/ndet_genanywhere\n",
    "print \"Purity array:\", purity_arr[:-1], \"\\n\\n\"\n",
    "\n",
    "print ndet_pergenbin,\"\\n\"\n",
    "print ngen_detanywhere,\"\\n\"\n",
    "stability_arr = ndet_pergenbin/ngen_detanywhere\n",
    "print \"Stability array:\", stability_arr[:-1], \"\\n\\n\"\n",
    "\n",
    "print \"+++++Efficiency+++++\\n\"\n",
    "efficiency_arr = ndet_pergenbin/np.sum(ngen_detanywhere)\n",
    "print \"Efficiency array:\", efficiency_arr[:-1]"
   ]
  },
  {
   "cell_type": "code",
   "execution_count": 36,
   "metadata": {},
   "outputs": [],
   "source": [
    "ROOT.gStyle.SetOptStat(0)"
   ]
  },
  {
   "cell_type": "code",
   "execution_count": 37,
   "metadata": {
    "scrolled": false
   },
   "outputs": [
    {
     "data": {
      "image/png": "[encoded data removed]",
      "text/plain": [
       "<IPython.core.display.Image object>"
      ]
     },
     "metadata": {},
     "output_type": "display_data"
    }
   ],
   "source": [
    "cpse = ROOT.TCanvas(\"pse_ttbar\", \"pse_ttbar\")\n",
    "\n",
    "purity.SetLineColor(ROOT.kRed)\n",
    "purity.SetLineWidth(2)\n",
    "purity.SetLineStyle(2)\n",
    "purity.SetMinimum(0.)\n",
    "purity.SetMaximum(1.05)\n",
    "\n",
    "stability.SetLineColor(9)\n",
    "stability.SetLineWidth(2)\n",
    "stability.SetLineStyle(1)\n",
    "stability.SetMinimum(0.)\n",
    "stability.SetMaximum(1.05)\n",
    "stability.SetTitle(\"t#bar{t} 2016, W-selection \")\n",
    "stability.Draw(\"hist\")\n",
    "purity.Draw(\"hist same\")\n",
    "#efficiency.Draw(\"same\")\n",
    "\n",
    "leg0 = ROOT.TLegend(0.6, 0.7, 0.8, 0.8)\n",
    "leg0.AddEntry( stability, \"Stability \")\n",
    "leg0.AddEntry( purity, \"Purity \")\n",
    "#leg0.AddEntry( histMgenData, \"'Truth' (MC: MG5+Pythia8)\", 'p')\n",
    "leg0.SetLineColor(0)\n",
    "leg0.SetBorderSize(0)\n",
    "leg0.SetFillStyle(0)\n",
    "\n",
    "#hs.Add(histMdetMC, \"E\")\n",
    "#hs.Add(histMdetData, \"E\")\n",
    "#hs.Draw(\"nostack\")\n",
    "leg0.Draw()\n",
    "\n",
    "ROOT.gStyle.SetOptStat(0)\n",
    "cpse.Draw()"
   ]
  },
  {
   "cell_type": "code",
   "execution_count": 38,
   "metadata": {
    "scrolled": true
   },
   "outputs": [
    {
     "data": {
      "text/plain": [
       "(array([[3.100e+01, 4.800e+01, 8.000e+00, 0.000e+00, 0.000e+00, 0.000e+00,\n",
       "         0.000e+00, 0.000e+00, 0.000e+00, 0.000e+00],\n",
       "        [5.900e+01, 1.010e+03, 5.400e+02, 0.000e+00, 3.800e+01, 4.000e+00,\n",
       "         0.000e+00, 0.000e+00, 0.000e+00, 0.000e+00],\n",
       "        [1.900e+01, 1.508e+03, 5.267e+03, 0.000e+00, 1.261e+03, 5.900e+01,\n",
       "         0.000e+00, 8.000e+00, 1.000e+00, 0.000e+00],\n",
       "        [0.000e+00, 0.000e+00, 0.000e+00, 0.000e+00, 0.000e+00, 0.000e+00,\n",
       "         0.000e+00, 0.000e+00, 0.000e+00, 0.000e+00],\n",
       "        [2.500e+01, 3.290e+02, 4.880e+03, 0.000e+00, 7.621e+03, 1.279e+03,\n",
       "         0.000e+00, 7.200e+01, 3.000e+00, 0.000e+00],\n",
       "        [1.900e+01, 2.500e+01, 5.990e+02, 0.000e+00, 4.786e+03, 5.275e+03,\n",
       "         0.000e+00, 7.590e+02, 4.300e+01, 3.000e+00],\n",
       "        [0.000e+00, 0.000e+00, 0.000e+00, 0.000e+00, 0.000e+00, 0.000e+00,\n",
       "         0.000e+00, 0.000e+00, 0.000e+00, 0.000e+00],\n",
       "        [9.000e+00, 3.000e+00, 2.600e+01, 0.000e+00, 4.380e+02, 2.270e+03,\n",
       "         0.000e+00, 2.399e+03, 3.460e+02, 1.900e+01],\n",
       "        [4.000e+00, 0.000e+00, 2.000e+00, 0.000e+00, 2.300e+01, 1.500e+02,\n",
       "         0.000e+00, 6.960e+02, 7.290e+02, 9.500e+01],\n",
       "        [0.000e+00, 2.000e+00, 0.000e+00, 0.000e+00, 0.000e+00, 3.000e+00,\n",
       "         0.000e+00, 2.900e+01, 1.260e+02, 1.590e+02]]),\n",
       " array([1. , 1.7, 2.4, 3.1, 3.8, 4.5, 5.2, 5.9, 6.6, 7.3, 8. ]),\n",
       " array([1. , 1.7, 2.4, 3.1, 3.8, 4.5, 5.2, 5.9, 6.6, 7.3, 8. ]),\n",
       " <matplotlib.image.AxesImage at 0x7f83106d2390>)"
      ]
     },
     "execution_count": 38,
     "metadata": {},
     "output_type": "execute_result"
    },
    {
     "data": {
      "image/png": "[encoded data removed]",
      "text/plain": [
       "<Figure size 432x288 with 1 Axes>"
      ]
     },
     "metadata": {
      "needs_background": "light"
     },
     "output_type": "display_data"
    }
   ],
   "source": [
    "plt.hist2d(x=det_bin_index, y=gen_bin_index)"
   ]
  },
  {
   "cell_type": "code",
   "execution_count": 39,
   "metadata": {
    "scrolled": true
   },
   "outputs": [
    {
     "data": {
      "image/png": "[encoded data removed]",
      "text/plain": [
       "<Figure size 432x288 with 1 Axes>"
      ]
     },
     "metadata": {
      "needs_background": "light"
     },
     "output_type": "display_data"
    },
    {
     "data": {
      "image/png": "[encoded data removed]",
      "text/plain": [
       "<Figure size 432x288 with 1 Axes>"
      ]
     },
     "metadata": {
      "needs_background": "light"
     },
     "output_type": "display_data"
    }
   ],
   "source": [
    "plt.hist2d(x=det_bin_index2, y=gen_bin_index)\n",
    "plt.show()\n",
    "plt.hist2d(x=MC_sig_reco_tau3_0p5, y=MC_sig_gen_tau3_0p5, bins=[det_bins, gen_bins])\n",
    "plt.show()"
   ]
  },
  {
   "cell_type": "code",
   "execution_count": 40,
   "metadata": {
    "scrolled": true
   },
   "outputs": [
    {
     "data": {
      "image/png": "[encoded data removed]",
      "text/plain": [
       "<Figure size 432x288 with 1 Axes>"
      ]
     },
     "metadata": {
      "needs_background": "light"
     },
     "output_type": "display_data"
    },
    {
     "data": {
      "image/png": "[encoded data removed]",
      "text/plain": [
       "<Figure size 432x288 with 1 Axes>"
      ]
     },
     "metadata": {
      "needs_background": "light"
     },
     "output_type": "display_data"
    }
   ],
   "source": [
    "plt.hist(gen_bin_index, histtype='step', color='r')\n",
    "plt.hist(det_bin_index, histtype='step', color='b')\n",
    "plt.show()\n",
    "\n",
    "plt.hist(MC_sig_gen_tau3_0p5, histtype='step', color='r', bins=gen_bins)\n",
    "plt.hist(MC_sig_reco_tau3_0p5, histtype='step', color='b', bins=gen_bins)\n",
    "plt.show()"
   ]
  },
  {
   "cell_type": "markdown",
   "metadata": {},
   "source": [
    "### with root"
   ]
  },
  {
   "cell_type": "code",
   "execution_count": 41,
   "metadata": {},
   "outputs": [
    {
     "name": "stdout",
     "output_type": "stream",
     "text": [
      "Adding content (equal to 0.0) of bin i=0, j=1 to Diagonal 1\n",
      "Adding content (equal to 0.0) of bin i=0, j=2 to Diagonal 1\n",
      "Filling row index k=0 with elements (i,j)=(0,2)\n",
      "Filling row index k=0 with elements (i,j)=(0,3)\n",
      "Filling row index k=1 with elements (i,j)=(0,4)\n",
      "Filling row index k=1 with elements (i,j)=(0,5)\n",
      "Filling row index k=2 with elements (i,j)=(0,6)\n",
      "Filling row index k=2 with elements (i,j)=(0,7)\n",
      "Filling row index k=3 with elements (i,j)=(0,8)\n",
      "Filling row index k=3 with elements (i,j)=(0,9)\n",
      "Filling row index k=4 with elements (i,j)=(0,10)\n",
      "Filling row index k=4 with elements (i,j)=(0,11)\n",
      "Filling row index k=5 with elements (i,j)=(0,12)\n",
      "Filling row index k=5 with elements (i,j)=(0,13)\n",
      "Filling row index k=6 with elements (i,j)=(0,14)\n",
      "Filling row index k=6 with elements (i,j)=(0,15)\n",
      "Filling row index k=7 with elements (i,j)=(0,16)\n",
      "Filling row index k=7 with elements (i,j)=(0,17)\n",
      "0.0 0.0\n",
      "Filling row index k=0 with elements (i,j)=(1,2)\n",
      "Filling row index k=0 with elements (i,j)=(1,3)\n",
      "Adding content (equal to 0.0) of bin i=1, j=3 to Diagonal 3\n",
      "Adding content (equal to 0.0) of bin i=1, j=4 to Diagonal 3\n",
      "Filling row index k=1 with elements (i,j)=(1,4)\n",
      "Filling row index k=1 with elements (i,j)=(1,5)\n",
      "Filling row index k=2 with elements (i,j)=(1,6)\n",
      "Filling row index k=2 with elements (i,j)=(1,7)\n",
      "Filling row index k=3 with elements (i,j)=(1,8)\n",
      "Filling row index k=3 with elements (i,j)=(1,9)\n",
      "Filling row index k=4 with elements (i,j)=(1,10)\n",
      "Filling row index k=4 with elements (i,j)=(1,11)\n",
      "Filling row index k=5 with elements (i,j)=(1,12)\n",
      "Filling row index k=5 with elements (i,j)=(1,13)\n",
      "Filling row index k=6 with elements (i,j)=(1,14)\n",
      "Filling row index k=6 with elements (i,j)=(1,15)\n",
      "Filling row index k=7 with elements (i,j)=(1,16)\n",
      "Filling row index k=7 with elements (i,j)=(1,17)\n",
      "0.698875485429 0.0\n",
      "Filling row index k=0 with elements (i,j)=(2,2)\n",
      "Filling row index k=0 with elements (i,j)=(2,3)\n",
      "Filling row index k=1 with elements (i,j)=(2,4)\n",
      "Filling row index k=1 with elements (i,j)=(2,5)\n",
      "Adding content (equal to 0.0) of bin i=2, j=5 to Diagonal 5\n",
      "Adding content (equal to 0.0) of bin i=2, j=6 to Diagonal 5\n",
      "Filling row index k=2 with elements (i,j)=(2,6)\n",
      "Filling row index k=2 with elements (i,j)=(2,7)\n",
      "Filling row index k=3 with elements (i,j)=(2,8)\n",
      "Filling row index k=3 with elements (i,j)=(2,9)\n",
      "Filling row index k=4 with elements (i,j)=(2,10)\n",
      "Filling row index k=4 with elements (i,j)=(2,11)\n",
      "Filling row index k=5 with elements (i,j)=(2,12)\n",
      "Filling row index k=5 with elements (i,j)=(2,13)\n",
      "Filling row index k=6 with elements (i,j)=(2,14)\n",
      "Filling row index k=6 with elements (i,j)=(2,15)\n",
      "Filling row index k=7 with elements (i,j)=(2,16)\n",
      "Filling row index k=7 with elements (i,j)=(2,17)\n",
      "27.9365079736 0.0\n",
      "Filling row index k=0 with elements (i,j)=(3,2)\n",
      "Filling row index k=0 with elements (i,j)=(3,3)\n",
      "Filling row index k=1 with elements (i,j)=(3,4)\n",
      "Filling row index k=1 with elements (i,j)=(3,5)\n",
      "Filling row index k=2 with elements (i,j)=(3,6)\n",
      "Filling row index k=2 with elements (i,j)=(3,7)\n",
      "Adding content (equal to 0.0) of bin i=3, j=7 to Diagonal 7\n",
      "Adding content (equal to 0.0) of bin i=3, j=8 to Diagonal 7\n",
      "Filling row index k=3 with elements (i,j)=(3,8)\n",
      "Filling row index k=3 with elements (i,j)=(3,9)\n",
      "Filling row index k=4 with elements (i,j)=(3,10)\n",
      "Filling row index k=4 with elements (i,j)=(3,11)\n",
      "Filling row index k=5 with elements (i,j)=(3,12)\n",
      "Filling row index k=5 with elements (i,j)=(3,13)\n",
      "Filling row index k=6 with elements (i,j)=(3,14)\n",
      "Filling row index k=6 with elements (i,j)=(3,15)\n",
      "Filling row index k=7 with elements (i,j)=(3,16)\n",
      "Filling row index k=7 with elements (i,j)=(3,17)\n",
      "127.306979654 0.0\n",
      "Filling row index k=0 with elements (i,j)=(4,2)\n",
      "Filling row index k=0 with elements (i,j)=(4,3)\n",
      "Filling row index k=1 with elements (i,j)=(4,4)\n",
      "Filling row index k=1 with elements (i,j)=(4,5)\n",
      "Filling row index k=2 with elements (i,j)=(4,6)\n",
      "Filling row index k=2 with elements (i,j)=(4,7)\n",
      "Filling row index k=3 with elements (i,j)=(4,8)\n",
      "Filling row index k=3 with elements (i,j)=(4,9)\n",
      "Adding content (equal to 0.0) of bin i=4, j=9 to Diagonal 9\n",
      "Adding content (equal to 0.0) of bin i=4, j=10 to Diagonal 9\n",
      "Filling row index k=4 with elements (i,j)=(4,10)\n",
      "Filling row index k=4 with elements (i,j)=(4,11)\n",
      "Filling row index k=5 with elements (i,j)=(4,12)\n",
      "Filling row index k=5 with elements (i,j)=(4,13)\n",
      "Filling row index k=6 with elements (i,j)=(4,14)\n",
      "Filling row index k=6 with elements (i,j)=(4,15)\n",
      "Filling row index k=7 with elements (i,j)=(4,16)\n",
      "Filling row index k=7 with elements (i,j)=(4,17)\n",
      "406.783418097 0.0\n",
      "Filling row index k=0 with elements (i,j)=(5,2)\n",
      "Filling row index k=0 with elements (i,j)=(5,3)\n",
      "Filling row index k=1 with elements (i,j)=(5,4)\n",
      "Filling row index k=1 with elements (i,j)=(5,5)\n",
      "Filling row index k=2 with elements (i,j)=(5,6)\n",
      "Filling row index k=2 with elements (i,j)=(5,7)\n",
      "Filling row index k=3 with elements (i,j)=(5,8)\n",
      "Filling row index k=3 with elements (i,j)=(5,9)\n",
      "Filling row index k=4 with elements (i,j)=(5,10)\n",
      "Filling row index k=4 with elements (i,j)=(5,11)\n",
      "Adding content (equal to 0.0) of bin i=5, j=11 to Diagonal 11\n",
      "Adding content (equal to 0.0) of bin i=5, j=12 to Diagonal 11\n",
      "Filling row index k=5 with elements (i,j)=(5,12)\n",
      "Filling row index k=5 with elements (i,j)=(5,13)\n",
      "Filling row index k=6 with elements (i,j)=(5,14)\n",
      "Filling row index k=6 with elements (i,j)=(5,15)\n",
      "Filling row index k=7 with elements (i,j)=(5,16)\n",
      "Filling row index k=7 with elements (i,j)=(5,17)\n",
      "939.096893035 0.0\n",
      "Filling row index k=0 with elements (i,j)=(6,2)\n",
      "Filling row index k=0 with elements (i,j)=(6,3)\n",
      "Filling row index k=1 with elements (i,j)=(6,4)\n",
      "Filling row index k=1 with elements (i,j)=(6,5)\n",
      "Filling row index k=2 with elements (i,j)=(6,6)\n",
      "Filling row index k=2 with elements (i,j)=(6,7)\n",
      "Filling row index k=3 with elements (i,j)=(6,8)\n",
      "Filling row index k=3 with elements (i,j)=(6,9)\n",
      "Filling row index k=4 with elements (i,j)=(6,10)\n",
      "Filling row index k=4 with elements (i,j)=(6,11)\n",
      "Filling row index k=5 with elements (i,j)=(6,12)\n",
      "Filling row index k=5 with elements (i,j)=(6,13)\n",
      "Adding content (equal to 0.0) of bin i=6, j=13 to Diagonal 13\n",
      "Adding content (equal to 0.0) of bin i=6, j=14 to Diagonal 13\n",
      "Filling row index k=6 with elements (i,j)=(6,14)\n",
      "Filling row index k=6 with elements (i,j)=(6,15)\n",
      "Filling row index k=7 with elements (i,j)=(6,16)\n",
      "Filling row index k=7 with elements (i,j)=(6,17)\n",
      "1667.20760137 0.0\n",
      "Filling row index k=0 with elements (i,j)=(7,2)\n",
      "Filling row index k=0 with elements (i,j)=(7,3)\n",
      "Filling row index k=1 with elements (i,j)=(7,4)\n",
      "Filling row index k=1 with elements (i,j)=(7,5)\n",
      "Filling row index k=2 with elements (i,j)=(7,6)\n",
      "Filling row index k=2 with elements (i,j)=(7,7)\n",
      "Filling row index k=3 with elements (i,j)=(7,8)\n",
      "Filling row index k=3 with elements (i,j)=(7,9)\n",
      "Filling row index k=4 with elements (i,j)=(7,10)\n",
      "Filling row index k=4 with elements (i,j)=(7,11)\n",
      "Filling row index k=5 with elements (i,j)=(7,12)\n",
      "Filling row index k=5 with elements (i,j)=(7,13)\n",
      "Filling row index k=6 with elements (i,j)=(7,14)\n",
      "Filling row index k=6 with elements (i,j)=(7,15)\n",
      "Adding content (equal to 0.0) of bin i=7, j=15 to Diagonal 15\n",
      "Adding content (equal to 0.0) of bin i=7, j=16 to Diagonal 15\n",
      "Filling row index k=7 with elements (i,j)=(7,16)\n",
      "Filling row index k=7 with elements (i,j)=(7,17)\n",
      "2200.38663281 0.0\n",
      "Filling row index k=0 with elements (i,j)=(8,2)\n",
      "Filling row index k=0 with elements (i,j)=(8,3)\n",
      "Filling row index k=1 with elements (i,j)=(8,4)\n",
      "Filling row index k=1 with elements (i,j)=(8,5)\n",
      "Filling row index k=2 with elements (i,j)=(8,6)\n",
      "Filling row index k=2 with elements (i,j)=(8,7)\n",
      "Filling row index k=3 with elements (i,j)=(8,8)\n",
      "Filling row index k=3 with elements (i,j)=(8,9)\n",
      "Filling row index k=4 with elements (i,j)=(8,10)\n",
      "Filling row index k=4 with elements (i,j)=(8,11)\n",
      "Filling row index k=5 with elements (i,j)=(8,12)\n",
      "Filling row index k=5 with elements (i,j)=(8,13)\n",
      "Filling row index k=6 with elements (i,j)=(8,14)\n",
      "Filling row index k=6 with elements (i,j)=(8,15)\n",
      "Filling row index k=7 with elements (i,j)=(8,16)\n",
      "Filling row index k=7 with elements (i,j)=(8,17)\n",
      "2372.95716393 0.0\n"
     ]
    }
   ],
   "source": [
    "ps_bindex = 0 \n",
    "\n",
    "l = 1\n",
    "\n",
    "tot_col = [] #np.array([0. for i in xrange(0, purity.GetNbinsX()+1)]) #\n",
    "#tot_col_err = [] #0 \n",
    "\n",
    "tot_row = np.array([0. for i in xrange(1, purity.GetNbinsX()+1)])\n",
    "#tot_row_err = np.zeros_like([0. for i in xrange(1, purity.GetNbinsX()+1)])\n",
    "\n",
    "diag = [] #np.zeros_like([0. for i in xrange(1, purity.GetNbinsX()+1)])\n",
    "#diag_error = [] # np.zeros_like([0. for i in xrange(1, purity.GetNbinsX()+1)])\n",
    "\n",
    "for i in range(0, response.GetNbinsY()+1):    \n",
    "    \n",
    "    k = 0\n",
    "    col = 0.\n",
    "    d_jj = 0.\n",
    "    for j in range(1, response.GetNbinsX()+1):\n",
    "    \n",
    "        r_ij = response.GetBinContent(i,j)\n",
    "        #r_ij_err = response.GetBinError(i,j)\n",
    "        #print (i,j), r_ij\n",
    "        \n",
    "        if (j)%2==0 and j < (response.GetNbinsX()+1):\n",
    "            #since 2 reco bins per 1 gen bin\n",
    "            print \"Filling row index k={} with elements (i,j)=({},{})\".format(k,i,j)\n",
    "            tot_row[k] += r_ij\n",
    "            print \"Filling row index k={} with elements (i,j)=({},{})\".format(k,i,j+1)\n",
    "            tot_row[k] +=  response.GetBinContent(i,j+1)\n",
    "            \n",
    "            #tot_col_err[k] += response.GetBinError(i,j)\n",
    "            #tot_col_err[k] +=  response.GetBinError(i,j+1)\n",
    "            \n",
    "            k +=1\n",
    "        \n",
    "        col += r_ij\n",
    "        \n",
    "        if l==j:\n",
    "            print \"Adding content (equal to {}) of bin i={}, j={} to Diagonal\".format(r_ij, i,j), l\n",
    "            d_jj += r_ij\n",
    " \n",
    "            print \"Adding content (equal to {}) of bin i={}, j={} to Diagonal\".format( response.GetBinContent(i,j+1), i,j+1), l\n",
    "            d_jj += response.GetBinContent(i,j+1)\n",
    "\n",
    "            diag.append(d_jj)\n",
    "    l = l+2\n",
    "    print col, d_jj"
   ]
  },
  {
   "cell_type": "code",
   "execution_count": 42,
   "metadata": {},
   "outputs": [
    {
     "name": "stdout",
     "output_type": "stream",
     "text": [
      "[0.0, 0.0, 0.0, 0.0, 0.0, 0.0, 0.0, 0.0]\n",
      "[4351.79625631 3318.25889355   27.31818678    0.            0.\n",
      "    0.            0.            0.        ]\n",
      "[ 0.  0.  0. nan nan nan nan nan]\n"
     ]
    },
    {
     "name": "stderr",
     "output_type": "stream",
     "text": [
      "/shome/kdatta/.local/lib/python2.7/site-packages/ipykernel_launcher.py:3: RuntimeWarning: invalid value encountered in divide\n",
      "  This is separate from the ipykernel package so we can avoid doing imports until\n"
     ]
    }
   ],
   "source": [
    "print diag\n",
    "print tot_row\n",
    "print diag/tot_row"
   ]
  },
  {
   "cell_type": "code",
   "execution_count": 43,
   "metadata": {},
   "outputs": [
    {
     "ename": "SyntaxError",
     "evalue": "invalid syntax (<ipython-input-43-dc72c7765764>, line 9)",
     "output_type": "error",
     "traceback": [
      "\u001b[0;36m  File \u001b[0;32m\"<ipython-input-43-dc72c7765764>\"\u001b[0;36m, line \u001b[0;32m9\u001b[0m\n\u001b[0;31m    if i==0 and j==0: purity_reco_binning[0] = dval/\u001b[0m\n\u001b[0m                                                    ^\u001b[0m\n\u001b[0;31mSyntaxError\u001b[0m\u001b[0;31m:\u001b[0m invalid syntax\n"
     ]
    }
   ],
   "source": [
    "purity_reco_binning = [0] \n",
    "diag = 0\n",
    "for i in range(1, response.GetNbinsX()+1):\n",
    "    for j in range(1, response.GetNbinsY()+1):\n",
    "        dval = response.GetBinContent(i,j)\n",
    "        if i==j:\n",
    "            diag = diag+dval\n",
    "            print i, j, \n",
    "            if i==0 and j==0: purity_reco_binning[0] = dval/\n",
    "            else: purity_reco_binning.append()\n",
    "        j = j+2"
   ]
  },
  {
   "cell_type": "code",
   "execution_count": null,
   "metadata": {},
   "outputs": [],
   "source": []
  },
  {
   "cell_type": "markdown",
   "metadata": {},
   "source": [
    "### Unfolding "
   ]
  },
  {
   "cell_type": "code",
   "execution_count": 44,
   "metadata": {},
   "outputs": [
    {
     "name": "stdout",
     "output_type": "stream",
     "text": [
      "getting tunfolder:\n"
     ]
    },
    {
     "name": "stderr",
     "output_type": "stream",
     "text": [
      "Info in <TUnfold::SetConstraint>: fConstraint=0\n",
      "Info in <TUnfold::TUnfold>: underflow and overflow bin do not depend on the input data\n",
      "Info in <TUnfold::TUnfold>: 16 input bins and 8 output bins\n",
      "Info in <TUnfoldDensity::TUnfold>: *NOT* unfolding bin #0 (yaxis:#tau_{3}^{(0.5)}(gen_sig)[ufl])\n",
      "Info in <TUnfoldDensity::TUnfold>: *NOT* unfolding bin #9 (yaxis:#tau_{3}^{(0.5)}(gen_sig)[ofl])\n",
      "Info in <TUnfoldDensity::RegularizeOneDistribution>: regularizing yaxis regMode=3 densityMode=1 axisSteering=*[UOB]\n",
      "Info in <TUnfold::SetConstraint>: fConstraint=0\n",
      "Info in <TUnfold::TUnfold>: underflow and overflow bin do not depend on the input data\n",
      "Info in <TUnfold::TUnfold>: 16 input bins and 8 output bins\n",
      "Info in <TUnfoldDensity::TUnfold>: *NOT* unfolding bin #0 (yaxis:#tau_{3}^{(0.5)}(gen_sig)[ufl])\n",
      "Info in <TUnfoldDensity::TUnfold>: *NOT* unfolding bin #9 (yaxis:#tau_{3}^{(0.5)}(gen_sig)[ofl])\n",
      "Info in <TUnfoldDensity::RegularizeOneDistribution>: regularizing yaxis regMode=3 densityMode=1 axisSteering=*[UOB]\n"
     ]
    }
   ],
   "source": [
    "print 'getting tunfolder:'\n",
    "\n",
    "orientation = ROOT.TUnfoldDensity.kHistMapOutputHoriz\n",
    "regMode = ROOT.TUnfoldDensity.kRegModeCurvature\n",
    "con = ROOT.TUnfoldDensity.kEConstraintNone\n",
    "mode =  ROOT.TUnfoldDensity.kDensityModeBinWidth\n",
    "errmode = ROOT.TUnfoldSys.kSysErrModeMatrix\n",
    "#tunfolder_MC = ROOT.TUnfoldDensity(response, orientation, regMode, con, mode, \"signal\", \"*[UOb]\")\n",
    "#tunfolder_data = ROOT.TUnfoldDensity(response, orientation, regMode, con, mode, \"signal\", \"*[UOb]\")\n",
    "\n",
    "tunfolder_MC = ROOT.TUnfoldDensity(response,ROOT.TUnfold.kHistMapOutputVert,ROOT.TUnfold.kRegModeCurvature, ROOT.TUnfold.kEConstraintNone, ROOT.TUnfoldDensity.kDensityModeBinWidth)\n",
    "tunfolder_data = ROOT.TUnfoldDensity(response,ROOT.TUnfold.kHistMapOutputVert,ROOT.TUnfold.kRegModeCurvature, ROOT.TUnfold.kEConstraintNone, ROOT.TUnfoldDensity.kDensityModeBinWidth)"
   ]
  },
  {
   "cell_type": "markdown",
   "metadata": {
    "collapsed": true
   },
   "source": [
    "Set the input, a 1D reconstructed histogram from either MC_sig (closure) or Data (measurement) , binned in the detector level binning. Subtract background contributions from data, using reco-MC bkg."
   ]
  },
  {
   "cell_type": "code",
   "execution_count": 45,
   "metadata": {},
   "outputs": [
    {
     "name": "stdout",
     "output_type": "stream",
     "text": [
      "setting reco input\n"
     ]
    }
   ],
   "source": [
    "print 'setting reco input'\n",
    "tunfolder_data.SetInput( histMdetData )\n",
    "tunfolder_data.SubtractBackground( histMdetMC_bkg, \"bkg_all\", 1. )"
   ]
  },
  {
   "cell_type": "code",
   "execution_count": 46,
   "metadata": {},
   "outputs": [
    {
     "name": "stdout",
     "output_type": "stream",
     "text": [
      "setting reco MC input\n"
     ]
    },
    {
     "data": {
      "text/plain": [
       "0"
      ]
     },
     "execution_count": 46,
     "metadata": {},
     "output_type": "execute_result"
    }
   ],
   "source": [
    "print 'setting reco MC input'\n",
    "tunfolder_MC.SetInput( histMdetMC_sig )\n",
    "#tunfolder_MC.SubtractBackground( histMdetMC_bkg, \"bkg_all\", 1. )"
   ]
  },
  {
   "cell_type": "raw",
   "metadata": {},
   "source": [
    "Unfold nScan times with values for the regularization parameter between tauMin and tauMax using the empty TSplines to store the results."
   ]
  },
  {
   "cell_type": "raw",
   "metadata": {
    "scrolled": true
   },
   "source": [
    "print 'regularizing'\n",
    "nScan=50\n",
    "tauMin=-5.0\n",
    "tauMax=3.0\n",
    "iBest=0\n",
    "\n",
    "logTauX = ROOT.MakeNullPointer(ROOT.TSpline)\n",
    "logTauY = ROOT.MakeNullPointer(ROOT.TSpline)\n",
    "lCurve = ROOT.MakeNullPointer(ROOT.TGraph)\n",
    "\n",
    "print 'doing the unfolding'\n",
    "tunfolder.ScanLcurve(nScan,tauMin,tauMax,lCurve,logTauX,logTauY);\n",
    "print 'getting the results'\n",
    "unfolded = tunfolder.GetOutput(\"unfolded\")"
   ]
  },
  {
   "cell_type": "code",
   "execution_count": 47,
   "metadata": {},
   "outputs": [],
   "source": [
    "unfolded_data = tunfolder_data.DoUnfold(0.)\n",
    "unfolded_data = tunfolder_data.GetOutput(\"unfolded_data\")\n",
    "\n",
    "unfolded_MC = tunfolder_MC.DoUnfold(0.)\n",
    "unfolded_MC = tunfolder_MC.GetOutput(\"unfolded_MC\")"
   ]
  },
  {
   "cell_type": "code",
   "execution_count": 48,
   "metadata": {},
   "outputs": [],
   "source": [
    "ROOT.gStyle.SetOptStat(0)"
   ]
  },
  {
   "cell_type": "code",
   "execution_count": 49,
   "metadata": {
    "scrolled": false
   },
   "outputs": [
    {
     "name": "stderr",
     "output_type": "stream",
     "text": [
      "Info in <TCanvas::Print>: png file tau3_0p5_unfolding_Escheme_bkgsub.png has been created\n",
      "Info in <TCanvas::Print>: pdf file tau3_0p5_unfolding_Escheme_bkgsub.pdf has been created\n"
     ]
    },
    {
     "data": {
      "image/png": "[encoded data removed]",
      "text/plain": [
       "<IPython.core.display.Image object>"
      ]
     },
     "metadata": {},
     "output_type": "display_data"
    }
   ],
   "source": [
    "c5 = ROOT.TCanvas('c5', 'c5')\n",
    "\n",
    "unfolded_MC.SetMarkerStyle(2)\n",
    "unfolded_MC.SetMarkerColor(7)\n",
    "unfolded_MC.SetLineColor(7)\n",
    "unfolded_MC.SetLineWidth(1)\n",
    "\n",
    "unfolded_data.SetMarkerStyle(22)\n",
    "unfolded_data.SetMarkerColor(1)\n",
    "unfolded_data.SetLineColor(1)\n",
    "unfolded_data.SetLineWidth(2)\n",
    "\n",
    "\n",
    "#unfolded_MC.SetFillColor(0)\n",
    "#histMgenData.SetMarkerStyle(4)\n",
    "#histMgenData.SetMarkerColor(2)\n",
    "#histMgenData.SetOption(\"E\")\n",
    "#histMgenData.SetLineColor(2)\n",
    "histMgenMC_sig.SetMarkerStyle(5)\n",
    "histMgenMC_sig.SetMarkerColor(2)\n",
    "histMgenMC_sig.SetLineColor(2)\n",
    "\n",
    "\n",
    "\n",
    "hs = ROOT.THStack(\"#tau_{3}\", \"#tau_{3}\")\n",
    "#hs.Add\n",
    "hs.SetMaximum(6500)\n",
    "#hs.Add( histMgenData, \"E HIST\")\n",
    "hs.Add( unfolded_MC, \"E HIST\")\n",
    "hs.Add( unfolded_data, \"E \")\n",
    "hs.Add(histMgenMC_sig, \"E HIST\")\n",
    "#hs.Add(histMdetMC_sig, \"E\")\n",
    "#hs.Add(histMdetData, \"E\")\n",
    "\n",
    "leg0 = ROOT.TLegend(0.05, 0.72, 0.91, 0.85)\n",
    "leg0.AddEntry( unfolded_data, \"Data (2016)\", 'p')\n",
    "leg0.AddEntry( histMgenMC_sig, \"Generator-level (ttbar MC: Powheg+Pythia8)\", 'p')\n",
    "#leg0.AddEntry( histMgenData, \"'Truth' (MC: MG5+Pythia8)\", 'p')\n",
    "leg0.AddEntry( unfolded_MC, \"Unfolding_self-closure (ttbar MC: Powheg+Pythia8)\", 'p')\n",
    "leg0.SetLineColor(0)\n",
    "leg0.SetBorderSize(0)\n",
    "leg0.SetFillStyle(0)\n",
    "\n",
    "#hs.Add(histMdetMC, \"E\")\n",
    "#hs.Add(histMdetData, \"E\")\n",
    "hs.Draw(\"nostack\")\n",
    "leg0.Draw()\n",
    "\n",
    "c5.Draw()\n",
    "c5.SaveAs(\"tau3_0p5_unfolding_Escheme_bkgsub.png\")\n",
    "c5.SaveAs(\"tau3_0p5_unfolding_Escheme_bkgsub.pdf\")"
   ]
  },
  {
   "cell_type": "code",
   "execution_count": 50,
   "metadata": {},
   "outputs": [
    {
     "name": "stdout",
     "output_type": "stream",
     "text": [
      "Bin Content \tBin error \tBin Center \tBin Low-Edge \tRatio to Truth for bin \tRatio Error\n",
      "54.6701 \t16.8317 \t0.055 \t0.0 1.0000 0.3182\n",
      "942.1768 \t49.3597 \t0.135 \t0.11 1.0000 0.0558\n",
      "3618.3702 \t93.4536 \t0.185 \t0.16 1.0000 0.0276\n",
      "4560.4160 \t111.8421 \t0.235 \t0.21 1.0000 0.0260\n",
      "2930.6716 \t92.2772 \t0.285 \t0.26 1.0000 0.0333\n",
      "1298.2386 \t60.1170 \t0.335 \t0.31 1.0000 0.0492\n",
      "406.9164 \t33.7262 \t0.385 \t0.36 1.0000 0.0880\n",
      "89.6779 \t12.6241 \t0.48 \t0.41 1.0000 0.1542\n"
     ]
    }
   ],
   "source": [
    "ratio = ROOT.TH1D(\"\",\"; #tau_{3}^{(1)}\",  gen_bins.shape[0]-1, (gen_bins))\n",
    "ratio.GetXaxis().SetTitle(\"#tau_{3}^{(1)}\");\n",
    "#ratio.GetYaxis().SetTitleOffset(0.);\n",
    "ratio.GetYaxis().CenterTitle(ROOT.kTRUE);\n",
    "ratio.GetXaxis().CenterTitle(ROOT.kTRUE);\n",
    "ratio.GetYaxis().SetRangeUser(0.7,1.3)\n",
    "ratio.Add(unfolded_MC)\n",
    "ratio.GetYaxis().SetTitle(\"#frac{Unfolded Powheg}{Gen-level Powheg}\")\n",
    "ratio.Sumw2()\n",
    "ratio.SetStats(0)\n",
    "ratio.Divide(histMgenMC_sig);\n",
    "ratio.GetYaxis().SetLabelSize(0.09)\n",
    "ratio.GetXaxis().SetLabelSize(0.09)\n",
    "#ratio.SetMarkerStyle(1)\n",
    "ratio.SetMarkerColor(ROOT.kRed)\n",
    "ratio.SetLineColor(ROOT.kRed)\n",
    "ratio.GetYaxis().SetTitleSize(0.12)\n",
    "ratio.GetYaxis().SetTitleOffset(0.4)\n",
    "ratio.GetXaxis().SetTitleSize(0.12)\n",
    "ratio.GetXaxis().SetTitleOffset(0.85)\n",
    "\n",
    "print \"Bin Content\", \"\\t\", \"Bin error\", \"\\t\", \"Bin Center\", \"\\t\", \"Bin Low-Edge\", \"\\t\", \"Ratio to Truth for bin\", \"\\t\", \"Ratio Error\"\n",
    "for i in xrange(1,gen_bins.shape[0]):\n",
    "    print \"%0.4f\"%unfolded_MC.GetBinContent(i), \"\\t\", \"%0.4f\"%unfolded_MC.GetBinError(i), \"\\t\", unfolded_MC.GetBinCenter(i), \"\\t\", unfolded_MC.GetBinLowEdge(i), \"%0.4f\"%ratio.GetBinContent(i), \"%0.4f\"%ratio.GetBinError(i)"
   ]
  },
  {
   "cell_type": "code",
   "execution_count": 51,
   "metadata": {},
   "outputs": [
    {
     "name": "stderr",
     "output_type": "stream",
     "text": [
      "Info in <TCanvas::Print>: png file tau_3_0p5_MC_SC_ratio_Escheme_bkgsub.png has been created\n",
      "Info in <TCanvas::Print>: pdf file tau_3_0p5_MC_SC_ratio_Escheme_bkgsub.pdf has been created\n"
     ]
    },
    {
     "data": {
      "image/png": "[encoded data removed]",
      "text/plain": [
       "<IPython.core.display.Image object>"
      ]
     },
     "metadata": {},
     "output_type": "display_data"
    }
   ],
   "source": [
    "c6 = ROOT.TCanvas(\"c6\",\"c6\", 600,300)\n",
    "ratio.GetYaxis().SetLabelSize(0.05)\n",
    "ratio.GetXaxis().SetLabelSize(0.05)\n",
    "#ratio.SetMarkerStyle(1)\n",
    "ratio.SetMarkerStyle(5)\n",
    "ratio.SetMarkerColor(ROOT.kRed)\n",
    "ratio.SetLineColor(ROOT.kRed)\n",
    "ratio.GetYaxis().SetTitleSize(0.06)\n",
    "ratio.GetYaxis().SetTitleOffset(0.7)\n",
    "ratio.GetXaxis().SetTitleSize(0.05)\n",
    "ratio.GetXaxis().SetTitleOffset(0.8)\n",
    "#ratio.SetMinimum(0.7)\n",
    "#ratio.SetMaximum(1.3)\n",
    "#ratio.SetMarkerStyle(21);\n",
    "ratio.Draw(\"ep\")\n",
    "c6.Draw()\n",
    "c6.SaveAs(\"tau_3_0p5_MC_SC_ratio_Escheme_bkgsub.png\")\n",
    "c6.SaveAs(\"tau_3_0p5_MC_SC_ratio_Escheme_bkgsub.pdf\")"
   ]
  },
  {
   "cell_type": "code",
   "execution_count": 52,
   "metadata": {},
   "outputs": [
    {
     "name": "stderr",
     "output_type": "stream",
     "text": [
      "Error in <TUnfoldDensity::SubtractBackground>: Source bkg_all given twice, ignoring 2nd call.\n",
      "\n",
      "Warning in <TROOT::Append>: Replacing existing TH1: unfolded_data (Potential memory leak).\n"
     ]
    }
   ],
   "source": [
    "# get unfolding output\n",
    "# includes the statistical and background errors\n",
    "# but not the other systematic uncertainties\n",
    "#tunfolder_data.SetInput( histMdetData )\n",
    "tunfolder_data.SubtractBackground( histMdetMC_bkg, \"bkg_all\", 1. )\n",
    "\n",
    "histUnfoldOutput= tunfolder_data.GetOutput(\"unfolded_data\")\n",
    "\n",
    "# retreive error matrix of statistical errors\n",
    "histEmatStat=tunfolder_data.GetEmatrixInput(\"unfolding stat error matrix\");\n",
    "# retreive full error matrix\n",
    "# This includes all systematic errors\n",
    "histEmatTotal=tunfolder_data.GetEmatrixTotal(\"unfolding total error matrix\");\n",
    "# create two copies of the unfolded data, one with statistical errors\n",
    "# the other with total errors\n",
    "histUnfoldStat=ROOT.TH1D(\"tau3_0p5(unfold,staterr)\",\";tau3_0p5(gen)\",  gen_bins.shape[0]-1, (gen_bins));\n",
    "histUnfoldTotal=ROOT.TH1D(\"tau3_0p5(unfold,totalerr)\",\";tau3_0p5(gen)\",  gen_bins.shape[0]-1, (gen_bins));\n",
    "\n",
    "for i in xrange(0, gen_bins.shape[0]): \n",
    "    c=histUnfoldOutput.GetBinContent(i);\n",
    "    # histogram with unfolded data and stat errors\n",
    "    histUnfoldStat.SetBinContent(i,c);\n",
    "    histUnfoldStat.SetBinError(i,np.sqrt(histEmatStat.GetBinContent(i,i)));\n",
    "    # histogram with unfolded data and total errors\n",
    "    histUnfoldTotal.SetBinContent(i,c);\n",
    "    histUnfoldTotal.SetBinError(i,np.sqrt(histEmatTotal.GetBinContent(i,i)));\n",
    "\n",
    "# create histogram with correlation matrix\n",
    "histCorr=ROOT.TH2D(\"Corr(total)\",\";tau3_0p5(gen);tau3_0p5(gen)\",  gen_bins.shape[0]-1, (gen_bins), gen_bins.shape[0]-1, (gen_bins));\n",
    "for i in xrange(0, gen_bins.shape[0]): \n",
    "    ei,ej = 0,0\n",
    "    ei=np.sqrt(histEmatTotal.GetBinContent(i,i));\n",
    "    if(ei<=0.0): continue\n",
    "    for j in xrange(0, gen_bins.shape[0]):\n",
    "        ej=np.sqrt(histEmatTotal.GetBinContent(j,j));\n",
    "        if(ej<=0.0): continue\n",
    "        histCorr.SetBinContent(i,j,histEmatTotal.GetBinContent(i,j)/ei/ej);\n",
    "\n",
    "# retreive bgr source 1\n",
    "#histdetNormBgr1=tunfolder_data.GetBackground(\"bgr1 normalized\", \"background1\");\n",
    "histMdetNormBgrTotal=tunfolder_data.GetBackground(\"bkg_all\");\n",
    "#========================\n"
   ]
  },
  {
   "cell_type": "code",
   "execution_count": 53,
   "metadata": {},
   "outputs": [
    {
     "data": {
      "image/png": "[encoded data removed]",
      "text/plain": [
       "<IPython.core.display.Image object>"
      ]
     },
     "metadata": {},
     "output_type": "display_data"
    }
   ],
   "source": [
    "# Step 7: plots\n",
    "output = ROOT.TCanvas();\n",
    "#output.Divide(3,2);\n",
    "#output.cd(1);\n",
    "# data, MC prediction, background\n",
    "#histMdetData.SetMinimum(0.0);\n",
    "histMdetData.SetMaximum(histMdetData.GetMaximum()*1.5);\n",
    "histMdetData.Draw(\"E\");\n",
    "#histMdetMC_sig.SetMinimum(0.0);\n",
    "histMdetMC_sig.SetLineColor(ROOT.kBlue);\n",
    "histMdetNormBgrTotal.SetLineColor(ROOT.kRed);\n",
    "#histdetNormBgr1.SetLineColor(ROOT.kCyan);\n",
    "histMdetMC_sig.Draw(\"SAME HIST\");\n",
    "#histdetNormBgr1.Draw(\"SAME HIST\");\n",
    "histMdetNormBgrTotal.Draw(\"SAME HIST\");\n",
    "output.Draw()"
   ]
  },
  {
   "cell_type": "code",
   "execution_count": 54,
   "metadata": {},
   "outputs": [
    {
     "data": {
      "image/png": "[encoded data removed]",
      "text/plain": [
       "<IPython.core.display.Image object>"
      ]
     },
     "metadata": {},
     "output_type": "display_data"
    }
   ],
   "source": [
    "#output.cd(2)\n",
    "# unfolded data, data truth, MC truth\n",
    "output = ROOT.TCanvas();\n",
    "histUnfoldTotal.SetMinimum(0.0);\n",
    "histUnfoldTotal.SetMaximum(5000);\n",
    "histUnfoldTotal.SetLineColor(ROOT.kBlue+3)\n",
    "histUnfoldTotal.SetLineWidth(1)\n",
    "# outer error: total error\n",
    "histUnfoldTotal.Draw(\"E\");\n",
    "# middle error: stat+bgr\n",
    "histUnfoldOutput.SetLineWidth(1)\n",
    "histUnfoldOutput.Draw(\"SAME E1\");\n",
    "# inner error: stat only\n",
    "histUnfoldStat.SetLineColor(ROOT.kGreen+2)\n",
    "histUnfoldStat.Draw(\"SAME E1\");\n",
    "\n",
    "histMdetMC_sig.Draw(\"SAME HIST\");\n",
    "histMgenMC_sig.Draw(\"SAME HIST\");\n",
    "#histBbbSignalGen.SetLineColor(ROOT.kBlue);\n",
    "#histBbbSignalGen.Draw(\"SAME HIST\");\n",
    "output.Draw()"
   ]
  },
  {
   "cell_type": "code",
   "execution_count": 55,
   "metadata": {
    "scrolled": true
   },
   "outputs": [
    {
     "data": {
      "image/png": "[encoded data removed]",
      "text/plain": [
       "<IPython.core.display.Image object>"
      ]
     },
     "metadata": {},
     "output_type": "display_data"
    }
   ],
   "source": [
    "output.cd(3);\n",
    "# unfolding matrix\n",
    "response.SetLineColor(ROOT.kBlue);\n",
    "response.Draw(\"BOX\");\n",
    "\n",
    "output.Draw()"
   ]
  },
  {
   "cell_type": "code",
   "execution_count": 56,
   "metadata": {
    "scrolled": true
   },
   "outputs": [
    {
     "data": {
      "image/png": "[encoded data removed]",
      "text/plain": [
       "<IPython.core.display.Image object>"
      ]
     },
     "metadata": {},
     "output_type": "display_data"
    }
   ],
   "source": [
    "# show tau as a function of chi**2\n",
    "output.cd(4);\n",
    "#logTauX.Draw();\n",
    "#bestLogTauLogChi2.SetMarkerColor(ROOT.kRed);\n",
    "#bestLogTauLogChi2.Draw(\"*\");\n",
    "# show the L curve\n",
    "output.cd(5);\n",
    "#lCurve.Draw(\"AL\");\n",
    "#bestLcurve.SetMarkerColor(ROOT.kRed);\n",
    "#bestLcurve.Draw(\"*\");\n",
    "# show correlation matrix\n",
    "output.cd(6);\n",
    "histCorr.Draw(\"BOX\");\n",
    "output.Draw()"
   ]
  },
  {
   "cell_type": "code",
   "execution_count": null,
   "metadata": {},
   "outputs": [],
   "source": []
  },
  {
   "cell_type": "code",
   "execution_count": null,
   "metadata": {},
   "outputs": [],
   "source": []
  },
  {
   "cell_type": "markdown",
   "metadata": {},
   "source": [
    "# $\\tau_{3}^{(1)}$ unfolding with background subtraction + purity&stability study [w/ E-scheme recombination+excl. $k_T$ axes]\n"
   ]
  },
  {
   "cell_type": "code",
   "execution_count": 57,
   "metadata": {},
   "outputs": [],
   "source": [
    "Wjets_gen_tau3_1 = Wjets_gen_nSub_basis[:,7]\n",
    "\n",
    "ST1_gen_tau3_1 = ST1_gen_nSub_basis[:,7]\n",
    "\n",
    "ST2_gen_tau3_1 = ST2_gen_nSub_basis[:,7]\n",
    "\n",
    "ST3_gen_tau3_1 = ST3_gen_nSub_basis[:,7]\n",
    "\n",
    "ST4_gen_tau3_1 = ST4_gen_nSub_basis[:,7]\n",
    "\n",
    "ST5_gen_tau3_1 = ST5_gen_nSub_basis[:,7]\n",
    "\n",
    "TTbar_gen_tau3_1 = TTbar_gen_nSub_basis[:,7]"
   ]
  },
  {
   "cell_type": "code",
   "execution_count": 58,
   "metadata": {},
   "outputs": [],
   "source": [
    "Wjets_reco_tau3_1 = Wjets_reco_nSub_basis[:,7]\n",
    "\n",
    "ST1_reco_tau3_1 = ST1_reco_nSub_basis[:,7]\n",
    "\n",
    "ST2_reco_tau3_1 = ST2_reco_nSub_basis[:,7]\n",
    "\n",
    "ST3_reco_tau3_1 = ST3_reco_nSub_basis[:,7]\n",
    "\n",
    "ST4_reco_tau3_1 = ST4_reco_nSub_basis[:,7]\n",
    "\n",
    "ST5_reco_tau3_1 = ST5_reco_nSub_basis[:,7]\n",
    "\n",
    "TTbar_reco_tau3_1 = TTbar_reco_nSub_basis[:,7]"
   ]
  },
  {
   "cell_type": "markdown",
   "metadata": {},
   "source": [
    "# Unfolding $\\tau_{3}^{(1)}$ with background subtraction"
   ]
  },
  {
   "cell_type": "code",
   "execution_count": 59,
   "metadata": {},
   "outputs": [],
   "source": [
    "MC_sig_reco_tau3_1 = TTbar_reco_tau3_1\n",
    "MC_sig_gen_tau3_1 = TTbar_gen_tau3_1\n",
    "\n",
    "MC_bkg_reco_tau3_1 = np.concatenate((ST1_reco_tau3_1,ST2_reco_tau3_1,ST3_reco_tau3_1,ST4_reco_tau3_1,ST5_reco_tau3_1,Wjets_reco_tau3_1))\n",
    "MC_bkg_gen_tau3_1 = np.concatenate((ST1_gen_tau3_1,ST2_gen_tau3_1,ST3_gen_tau3_1,ST4_gen_tau3_1,ST5_gen_tau3_1,Wjets_gen_tau3_1))\n",
    "\n",
    "data_tau3_1 = data_nSub_basis[:,7]\n",
    "weights_MC_sig = weight_TTbar\n",
    "weights_MC_bkg = np.concatenate((weight_ST1,weight_ST2,weight_ST3,weight_ST4,weight_ST5,weight_Wjets))"
   ]
  },
  {
   "cell_type": "markdown",
   "metadata": {
    "collapsed": true
   },
   "source": [
    "Get the response matrix and input 1D distributions for unfolding."
   ]
  },
  {
   "cell_type": "code",
   "execution_count": 60,
   "metadata": {},
   "outputs": [
    {
     "name": "stdout",
     "output_type": "stream",
     "text": [
      "0.0003852870431728661\n",
      "0.005523808766156435\n",
      "0.29837673902511597\n",
      "0.2992352843284607 \n",
      "\n",
      "0.008215026929974556\n",
      "0.010058502666652203\n",
      "0.24170826375484467\n",
      "0.2581371068954468 \n",
      "\n",
      "0.007881100289523602\n",
      "0.3095865249633789\n"
     ]
    }
   ],
   "source": [
    "print np.min(MC_sig_gen_tau3_1)\n",
    "print np.min(MC_sig_reco_tau3_1)\n",
    "print np.max(MC_sig_gen_tau3_1)\n",
    "print np.max(MC_sig_reco_tau3_1), \"\\n\"\n",
    "\n",
    "\n",
    "print np.min(MC_bkg_gen_tau3_1)\n",
    "print np.min(MC_bkg_reco_tau3_1)\n",
    "print np.max(MC_bkg_gen_tau3_1)\n",
    "print np.max(MC_bkg_reco_tau3_1), \"\\n\"\n",
    "\n",
    "\n",
    "print np.min(data_tau3_1)\n",
    "print np.max(data_tau3_1)"
   ]
  },
  {
   "cell_type": "markdown",
   "metadata": {
    "collapsed": true
   },
   "source": [
    "#### Set the axis ranges for the generator nd detector level distributions as well as the number of bins in each. Note that we want twice as many detector bins as generator level bins as recommended by the TUnfold documenation "
   ]
  },
  {
   "cell_type": "code",
   "execution_count": 61,
   "metadata": {},
   "outputs": [
    {
     "name": "stdout",
     "output_type": "stream",
     "text": [
      "[0.   0.03 0.06 0.09 0.12 0.15 0.18 0.21 0.25 0.31] 10\n",
      "[0.    0.015 0.03  0.045 0.06  0.075 0.09  0.105 0.12  0.135 0.15  0.165\n",
      " 0.18  0.195 0.21  0.23  0.25  0.28  0.31 ] 19\n"
     ]
    }
   ],
   "source": [
    "gen_bins = np.array([x for x in np.linspace(num=8, start=0., stop=0.21)])\n",
    "gen_bins = np.concatenate((gen_bins, np.array([ 0.25,0.31])))\n",
    "print gen_bins, gen_bins.shape[0]\n",
    "\n",
    "det_bins = np.array([x for x in np.linspace(num=15, start=0., stop=0.21)])\n",
    "det_bins = np.concatenate((det_bins, np.array([0.23, 0.25, 0.28, 0.31])))\n",
    "print det_bins, det_bins.shape[0]"
   ]
  },
  {
   "cell_type": "code",
   "execution_count": 62,
   "metadata": {},
   "outputs": [],
   "source": [
    "ROOT.TH1.SetDefaultSumw2()\n",
    "from root_numpy import *"
   ]
  },
  {
   "cell_type": "markdown",
   "metadata": {},
   "source": [
    "#### Fill histograms for sig and bkg. MC separately in this case (as one should!)"
   ]
  },
  {
   "cell_type": "code",
   "execution_count": 63,
   "metadata": {},
   "outputs": [
    {
     "name": "stderr",
     "output_type": "stream",
     "text": [
      "Warning in <TROOT::Append>: Replacing existing TH1: histMgenMC_bkg (Potential memory leak).\n",
      "Warning in <TROOT::Append>: Replacing existing TH1: histMgenMC_bkg (Potential memory leak).\n",
      "Warning in <TROOT::Append>: Replacing existing TH1: histMdetMC_bkg (Potential memory leak).\n",
      "Warning in <TROOT::Append>: Replacing existing TH1: histMdetMC_bkg (Potential memory leak).\n",
      "Warning in <TROOT::Append>: Replacing existing TH1: histMgenMC_sig (Potential memory leak).\n",
      "Warning in <TROOT::Append>: Replacing existing TH1: histMgenMC_sig (Potential memory leak).\n",
      "Warning in <TROOT::Append>: Replacing existing TH1: histMdetMC_sig (Potential memory leak).\n",
      "Warning in <TROOT::Append>: Replacing existing TH1: histMdetMC_sig (Potential memory leak).\n",
      "Warning in <TROOT::Append>: Replacing existing TH1: histMdetData (Potential memory leak).\n",
      "Warning in <TROOT::Append>: Replacing existing TH1: histMdetData (Potential memory leak).\n"
     ]
    }
   ],
   "source": [
    "histMgenMC_bkg = ROOT.TH1D(\"histMgenMC_bkg\", \"histMgenMC_bkg; #tau_{3}^{(1)}; Events/(0.02)\",  gen_bins.shape[0]-1, (gen_bins))\n",
    "fill_hist(histMgenMC_bkg, MC_bkg_gen_tau3_1, weights=weights_MC_bkg)\n",
    "\n",
    "histMdetMC_bkg = ROOT.TH1D(\"histMdetMC_bkg\", \"histMdetMC_bkg; #tau_{3}^{(1)}; Events/(0.02)\", det_bins.shape[0]-1, (det_bins))\n",
    "fill_hist(histMdetMC_bkg, MC_bkg_reco_tau3_1, weights=weights_MC_bkg)\n",
    "\n",
    "histMgenMC_sig = ROOT.TH1D(\"histMgenMC_sig\", \"histMgenMC_sig; #tau_{3}^{(1)}; Events/(0.02)\",  gen_bins.shape[0]-1, (gen_bins))\n",
    "fill_hist(histMgenMC_sig, MC_sig_gen_tau3_1, weights=weights_MC_sig)\n",
    "\n",
    "histMdetMC_sig = ROOT.TH1D(\"histMdetMC_sig\", \"histMdetMC_sig; #tau_{3}^{(1)}; Events/(0.02)\", det_bins.shape[0]-1, (det_bins))\n",
    "fill_hist(histMdetMC_sig, MC_sig_reco_tau3_1, weights=weights_MC_sig)\n",
    "\n",
    "#histMgenData = ROOT.TH1D(\"histMgenData\", \"histMgenData; #tau_{3}^{(1)}; Events/(0.02)\", gen_bins.shape[0]-1, (gen_bins))\n",
    "#fill_hist(histMgenData, TTbartruth_nSub_basis[:,4]/TTbartruth_nSub_basis[:,1])\n",
    "\n",
    "histMdetData = ROOT.TH1D(\"histMdetData\", \"histMdetData; #tau_{3}^{(1)}; Events/(0.02)\", det_bins.shape[0]-1, (det_bins))\n",
    "fill_hist(histMdetData, data_tau3_1)"
   ]
  },
  {
   "cell_type": "markdown",
   "metadata": {
    "collapsed": true
   },
   "source": [
    "Set the X and Y axis labels"
   ]
  },
  {
   "cell_type": "code",
   "execution_count": 64,
   "metadata": {},
   "outputs": [],
   "source": [
    "histMgenMC_bkg.SetTitle(\";#tau_{3}^{(1)}(gen_bkg)\")\n",
    "\n",
    "histMdetMC_bkg.SetTitle(\";#tau_{3}^{(1)}(det_bkg)\")\n",
    "\n",
    "histMgenMC_sig.SetTitle(\";#tau_{3}^{(1)}(gen_sig)\")\n",
    "\n",
    "histMdetMC_sig.SetTitle(\";#tau_{3}^{(1)}(det_sig)\")\n",
    "\n",
    "histMdetData.SetTitle(\";#tau_{3}^{(1)}(data)\")\n"
   ]
  },
  {
   "cell_type": "markdown",
   "metadata": {
    "collapsed": true
   },
   "source": [
    "Draw the variables at reco and gen level and for \"data\""
   ]
  },
  {
   "cell_type": "code",
   "execution_count": 65,
   "metadata": {
    "scrolled": true
   },
   "outputs": [
    {
     "data": {
      "image/png": "[encoded data removed]",
      "text/plain": [
       "<IPython.core.display.Image object>"
      ]
     },
     "metadata": {},
     "output_type": "display_data"
    }
   ],
   "source": [
    "c1 = ROOT.TCanvas(\"chistMgenMC_sig1\", \"chistMgenMC_sig1\")\n",
    "histMgenMC_sig.Draw(\"e\")\n",
    "histMdetMC_sig.Draw(\"e same\")\n",
    "c1.Draw()"
   ]
  },
  {
   "cell_type": "code",
   "execution_count": 66,
   "metadata": {
    "scrolled": false
   },
   "outputs": [
    {
     "data": {
      "image/png": "[encoded data removed]",
      "text/plain": [
       "<IPython.core.display.Image object>"
      ]
     },
     "metadata": {},
     "output_type": "display_data"
    }
   ],
   "source": [
    "c1 = ROOT.TCanvas(\"chistMgenMC_bkg1\", \"chistMgenMC_bkg1\")\n",
    "histMgenMC_bkg.Draw(\"e\")\n",
    "histMdetMC_bkg.Draw(\"e same\")\n",
    "c1.Draw()"
   ]
  },
  {
   "cell_type": "code",
   "execution_count": 67,
   "metadata": {
    "scrolled": true
   },
   "outputs": [
    {
     "data": {
      "image/png": "[encoded data removed]",
      "text/plain": [
       "<IPython.core.display.Image object>"
      ]
     },
     "metadata": {},
     "output_type": "display_data"
    }
   ],
   "source": [
    "c1 = ROOT.TCanvas(\"chistMgenMC_sig1\", \"chistMgenMC_sig1\")\n",
    "#histMgenData.Draw(\"e\")\n",
    "histMdetData.Draw(\"e \")\n",
    "c1.Draw()"
   ]
  },
  {
   "cell_type": "markdown",
   "metadata": {},
   "source": [
    "### Fill response matrix"
   ]
  },
  {
   "cell_type": "code",
   "execution_count": 68,
   "metadata": {},
   "outputs": [
    {
     "name": "stderr",
     "output_type": "stream",
     "text": [
      "Warning in <TROOT::Append>: Replacing existing TH1: response (Potential memory leak).\n"
     ]
    }
   ],
   "source": [
    "response = ROOT.TH2D('response', 'response', det_bins.shape[0]-1, det_bins, gen_bins.shape[0]-1, gen_bins)\n",
    "hist2Dfill = np.zeros((MC_sig_reco_tau3_1.shape[0], 2))\n",
    "hist2Dfill[:,0] = MC_sig_reco_tau3_1.flatten()\n",
    "hist2Dfill[:,1] = MC_sig_gen_tau3_1.flatten()\n",
    "fill_hist(response, hist2Dfill, weights_MC_sig)\n",
    "response.SetTitle(\"Nominal Response Matrix;#tau_{3}^{(1)}(det_sig);#tau_{3}^{(1)}(gen_sig)\")"
   ]
  },
  {
   "cell_type": "code",
   "execution_count": 69,
   "metadata": {},
   "outputs": [
    {
     "data": {
      "image/png": "[encoded data removed]",
      "text/plain": [
       "<IPython.core.display.Image object>"
      ]
     },
     "metadata": {},
     "output_type": "display_data"
    }
   ],
   "source": [
    "c1 = ROOT.TCanvas(\"cresponse1\", \"cresponse1\")\n",
    "response.Draw(\"colz\")\n",
    "c1.Draw()"
   ]
  },
  {
   "cell_type": "markdown",
   "metadata": {},
   "source": [
    "### Purity and Stability calculation"
   ]
  },
  {
   "cell_type": "raw",
   "metadata": {
    "collapsed": true
   },
   "source": [
    "#### Normalise the distributions, draw them and the response matrix."
   ]
  },
  {
   "cell_type": "raw",
   "metadata": {},
   "source": [
    "norm_genMC_bkg = histMgenMC_bkg.Integral()\n",
    "print norm_genMC_bkg\n",
    "\n",
    "norm_recoMC_bkg = histMdetMC_bkg.Integral()\n",
    "print norm_recoMC_bkg\n",
    "\n",
    "norm_genMC_sig = histMgenMC_sig.Integral()\n",
    "print norm_genMC_sig\n",
    "\n",
    "norm_recoMC_sig = histMdetMC_sig.Integral()\n",
    "print norm_recoMC_sig\n",
    "\n",
    "#norm_genData = histMgenData.Integral()\n",
    "#print norm_genData\n",
    "\n",
    "norm_detData = histMdetData.Integral()\n",
    "print norm_detData"
   ]
  },
  {
   "cell_type": "code",
   "execution_count": 70,
   "metadata": {},
   "outputs": [],
   "source": [
    "hMC_gen_bkg = ROOT.TH1D(histMgenMC_bkg)\n",
    "#hMC_gen_bkg.Scale(1./norm_genMC_bkg)\n",
    "\n",
    "hMC_reco_bkg = ROOT.TH1D(histMdetMC_bkg)\n",
    "#hMC_reco_bkg.Scale(1./norm_recoMC_bkg)\n",
    "\n",
    "hMC_gen_sig = ROOT.TH1D(histMgenMC_sig)\n",
    "#hMC_gen_sig.Scale(1./norm_genMC_sig)\n",
    "\n",
    "hMC_reco_sig = ROOT.TH1D(histMdetMC_sig)\n",
    "#hMC_reco_sig.Scale(1./norm_recoMC_sig)\n",
    "\n",
    "hMC_data = ROOT.TH1D(histMdetData)\n",
    "#histMgenData.Scale(1./norm_genData)\n",
    "#histMdetData.Scale(1./norm_detData)\n",
    "\n",
    "'''\n",
    "histMgenMC_bkg.Scale(1./norm_genMC_bkg)\n",
    "histMdetMC_bkg.Scale(1./norm_recoMC_bkg)\n",
    "histMgenMC_sig.Scale(1./norm_genMC_sig)\n",
    "histMdetMC_sig.Scale(1./norm_recoMC_sig)\n",
    "\n",
    "#histMgenData.Scale(1./norm_genData)\n",
    "histMdetData.Scale(1./norm_detData)\n",
    "''';"
   ]
  },
  {
   "cell_type": "code",
   "execution_count": 71,
   "metadata": {
    "scrolled": true
   },
   "outputs": [
    {
     "name": "stdout",
     "output_type": "stream",
     "text": [
      "0 -0.0172222222222 0.0\n",
      "1 0.0 4.81127373947\n",
      "2 0.015 144.297058159\n",
      "3 0.03 805.668067781\n",
      "4 0.045 1897.14830844\n",
      "5 0.06 2577.99617218\n",
      "6 0.075 2575.91015009\n",
      "7 0.09 2064.02010432\n",
      "8 0.105 1486.53808432\n",
      "9 0.12 985.877606817\n",
      "10 0.135 608.086368448\n",
      "11 0.15 352.276417409\n",
      "12 0.165 200.831028729\n",
      "13 0.18 105.425673305\n",
      "14 0.195 52.4006888302\n",
      "15 0.21 25.9828806416\n",
      "16 0.23 8.76503626177\n",
      "17 0.25 4.65496829901\n",
      "18 0.28 0.447741539687\n",
      "==========\n",
      "0 -0.0344444444444 0.0\n",
      "1 0.0 355.210362582\n",
      "2 0.03 4102.48987493\n",
      "3 0.06 4983.83093718\n",
      "4 0.09 2716.06974781\n",
      "5 0.12 1165.27704337\n",
      "6 0.15 409.53596457\n",
      "7 0.18 132.709221486\n",
      "8 0.21 31.409386599\n",
      "9 0.25 4.6050907788\n"
     ]
    }
   ],
   "source": [
    "for i in xrange(0, histMdetMC_sig.GetNbinsX()+1):\n",
    "    print i, hMC_reco_sig.GetBinLowEdge(i), hMC_reco_sig.GetBinContent(i)   \n",
    "print \"==========\"\n",
    "for i in xrange(0, hMC_gen_sig.GetNbinsX()+1):\n",
    "    print i, hMC_gen_sig.GetBinLowEdge(i), hMC_gen_sig.GetBinContent(i)"
   ]
  },
  {
   "cell_type": "code",
   "execution_count": 72,
   "metadata": {},
   "outputs": [
    {
     "name": "stderr",
     "output_type": "stream",
     "text": [
      "Warning in <TROOT::Append>: Replacing existing TH1: purity (Potential memory leak).\n",
      "Warning in <TROOT::Append>: Replacing existing TH1: stability (Potential memory leak).\n",
      "Warning in <TROOT::Append>: Replacing existing TH1: efficiency (Potential memory leak).\n"
     ]
    }
   ],
   "source": [
    "purity = ROOT.TH1D(\"purity\", \"Purity and stability study; #tau_{3}^{(1)}; \",  gen_bins.shape[0]-1, (gen_bins))\n",
    "stability = ROOT.TH1D(\"stability\", \"Purity and stability study; #tau_{3}^{(1)}; \",  gen_bins.shape[0]-1, (gen_bins))\n",
    "efficiency = ROOT.TH1D(\"efficiency\", \"Purity and stability study; #tau_{3}^{(1)}; \",  gen_bins.shape[0]-1, (gen_bins))"
   ]
  },
  {
   "cell_type": "markdown",
   "metadata": {},
   "source": [
    "### With python"
   ]
  },
  {
   "cell_type": "markdown",
   "metadata": {},
   "source": [
    "We define purity as the fraction of reconstructed events that are generated in the same bin, \n",
    "and stability as the fraction of generated events that are reconstructed in the same\n",
    "bin, divided by the overall reconstruction efficiency per bin. "
   ]
  },
  {
   "cell_type": "code",
   "execution_count": 73,
   "metadata": {},
   "outputs": [
    {
     "name": "stdout",
     "output_type": "stream",
     "text": [
      "[2 3 4 ... 3 1 6]\n",
      "Setting contents for P, S, eff. histos, in bin 1\n",
      "Setting contents for P, S, eff. histos, in bin 2\n",
      "Setting contents for P, S, eff. histos, in bin 3\n",
      "Setting contents for P, S, eff. histos, in bin 4\n",
      "Setting contents for P, S, eff. histos, in bin 5\n",
      "Setting contents for P, S, eff. histos, in bin 6\n",
      "Setting contents for P, S, eff. histos, in bin 7\n",
      "Setting contents for P, S, eff. histos, in bin 8\n",
      "Setting contents for P, S, eff. histos, in bin 9\n",
      "\n",
      "\n",
      "+++++++++Pure and Stable! :)+++++++++++++\n",
      "\n",
      "\n",
      "[2.860e+02 6.648e+03 9.179e+03 4.973e+03 2.035e+03 6.610e+02 1.870e+02\n",
      " 4.200e+01 7.000e+00 0.000e+00] \n",
      "\n",
      "[4.4900e+02 8.4160e+03 1.6030e+04 1.1004e+04 4.9040e+03 1.6950e+03\n",
      " 4.8500e+02 1.0900e+02 1.5000e+01 0.0000e+00] \n",
      "\n",
      "Purity array: [0.63697105 0.78992395 0.57261385 0.45192657 0.41496737 0.3899705\n",
      " 0.38556701 0.3853211  0.46666667] \n",
      "\n",
      "\n",
      "[2.860e+02 6.648e+03 9.179e+03 4.973e+03 2.035e+03 6.610e+02 1.870e+02\n",
      " 4.200e+01 7.000e+00 0.000e+00] \n",
      "\n",
      "[1.1060e+03 1.2812e+04 1.5463e+04 8.3860e+03 3.5640e+03 1.2580e+03\n",
      " 4.0900e+02 9.5000e+01 1.4000e+01 0.0000e+00] \n",
      "\n",
      "Stability array: [0.25858951 0.51888854 0.59361055 0.59301216 0.57098765 0.5254372\n",
      " 0.45721271 0.44210526 0.5       ] \n",
      "\n",
      "\n",
      "+++++Efficiency+++++\n",
      "\n",
      "Efficiency array: [6.63465330e-03 1.54220892e-01 2.12935254e-01 1.15364094e-01\n",
      " 4.72081101e-02 1.53339365e-02 4.33804255e-03 9.74319716e-04\n",
      " 1.62386619e-04]\n"
     ]
    },
    {
     "name": "stderr",
     "output_type": "stream",
     "text": [
      "/shome/kdatta/.local/lib/python2.7/site-packages/ipykernel_launcher.py:54: RuntimeWarning: invalid value encountered in divide\n",
      "/shome/kdatta/.local/lib/python2.7/site-packages/ipykernel_launcher.py:59: RuntimeWarning: invalid value encountered in divide\n"
     ]
    }
   ],
   "source": [
    "gen_arr = MC_sig_gen_tau3_1[:]\n",
    "#print gen_arr[0:20]\n",
    "#print gen_bins[0:-1]\n",
    "gen_bin_index = np.digitize(gen_arr, gen_bins)\n",
    "print gen_bin_index\n",
    "#print gen_bin_index[0:20]\n",
    "\n",
    "det_arr = MC_sig_reco_tau3_1[0:]\n",
    "#print det_arr[0:20]\n",
    "#print det_bins[0:-1]\n",
    "det_bin_index = np.digitize(det_arr, gen_bins)\n",
    "det_bin_index2 = np.digitize(det_arr, det_bins)\n",
    "#print det_bin_index[0:20]\n",
    "\n",
    "ndet_pergenbin = [0.] #N_recgen array = number of events generated in and reconstructed in gen bin i\n",
    "ndet_genanywhere = [0.] # number of events reconstructed in gen _bin i but generated anywhere\n",
    "ngen_detanywhere = [0.] # number of events generated in gen _bin i but reconstructed anywhere\n",
    "\n",
    "### purity = # of evts generated and reconstructed in gen bin i / # of evts reconstructed in gen bin i but generated anywhere\n",
    "### stability = # of evts generated and reconstructed in gen bin / # of evts generated in gen bin i but reconstructed anywhere\n",
    "for i in xrange(0, gen_bins.shape[0]-1):\n",
    "    \n",
    "    #print i+1\n",
    "    \n",
    "    for k in xrange(0, gen_bin_index.shape[0]):\n",
    "        \n",
    "        if gen_bin_index[k]==i+1: \n",
    "            ngen_detanywhere[i]+=1 #stability denominator\n",
    "            if det_bin_index[k]==i+1: ndet_pergenbin[i]+=1\n",
    "            \n",
    "    ngen_detanywhere.append(0.)\n",
    "    ndet_pergenbin.append(0.)\n",
    "    \n",
    "    for k in xrange(0, det_bin_index.shape[0]):\n",
    "        \n",
    "        if det_bin_index[k]==i+1: \n",
    "            ndet_genanywhere[i]+=1 #purity denominator\n",
    "            \n",
    "    ndet_genanywhere.append(0.)\n",
    "    \n",
    "    print \"Setting contents for P, S, eff. histos, in bin %d\"%(i+1)\n",
    "    purity.SetBinContent(i+1, ndet_pergenbin[i]/ndet_genanywhere[i])\n",
    "    stability.SetBinContent(i+1, ndet_pergenbin[i]/ngen_detanywhere[i])\n",
    "    efficiency.SetBinContent(i+1, ndet_pergenbin[i]/43107.)\n",
    "    \n",
    "    \n",
    "ndet_pergenbin = np.array(ndet_pergenbin)\n",
    "ndet_genanywhere = np.array(ndet_genanywhere)\n",
    "ngen_detanywhere = np.array(ngen_detanywhere)\n",
    "\n",
    "print \"\\n\\n+++++++++Pure and Stable! :)+++++++++++++\\n\\n\"\n",
    "print ndet_pergenbin,\"\\n\"\n",
    "print ndet_genanywhere,\"\\n\"\n",
    "purity_arr = ndet_pergenbin/ndet_genanywhere\n",
    "print \"Purity array:\", purity_arr[:-1], \"\\n\\n\"\n",
    "\n",
    "print ndet_pergenbin,\"\\n\"\n",
    "print ngen_detanywhere,\"\\n\"\n",
    "stability_arr = ndet_pergenbin/ngen_detanywhere\n",
    "print \"Stability array:\", stability_arr[:-1], \"\\n\\n\"\n",
    "\n",
    "print \"+++++Efficiency+++++\\n\"\n",
    "efficiency_arr = ndet_pergenbin/np.sum(ngen_detanywhere)\n",
    "print \"Efficiency array:\", efficiency_arr[:-1]"
   ]
  },
  {
   "cell_type": "code",
   "execution_count": 74,
   "metadata": {},
   "outputs": [],
   "source": [
    "ROOT.gStyle.SetOptStat(0)"
   ]
  },
  {
   "cell_type": "code",
   "execution_count": 75,
   "metadata": {},
   "outputs": [
    {
     "name": "stderr",
     "output_type": "stream",
     "text": [
      "Warning in <TCanvas::Constructor>: Deleting canvas with same name: pse_ttbar\n"
     ]
    },
    {
     "data": {
      "image/png": "[encoded data removed]",
      "text/plain": [
       "<IPython.core.display.Image object>"
      ]
     },
     "metadata": {},
     "output_type": "display_data"
    }
   ],
   "source": [
    "cpse = ROOT.TCanvas(\"pse_ttbar\", \"pse_ttbar\")\n",
    "\n",
    "purity.SetLineColor(ROOT.kRed)\n",
    "purity.SetLineWidth(2)\n",
    "purity.SetLineStyle(2)\n",
    "purity.SetMinimum(0.)\n",
    "purity.SetMaximum(1.05)\n",
    "\n",
    "stability.SetLineColor(9)\n",
    "stability.SetLineWidth(2)\n",
    "stability.SetLineStyle(1)\n",
    "stability.SetMinimum(0.)\n",
    "stability.SetMaximum(1.05)\n",
    "stability.SetTitle(\"t#bar{t} 2016, W-selection \")\n",
    "stability.Draw(\"hist\")\n",
    "purity.Draw(\"hist same\")\n",
    "#efficiency.Draw(\"same\")\n",
    "\n",
    "leg0 = ROOT.TLegend(0.6, 0.7, 0.8, 0.8)\n",
    "leg0.AddEntry( stability, \"Stability \")\n",
    "leg0.AddEntry( purity, \"Purity \")\n",
    "#leg0.AddEntry( histMgenData, \"'Truth' (MC: MG5+Pythia8)\", 'p')\n",
    "leg0.SetLineColor(0)\n",
    "leg0.SetBorderSize(0)\n",
    "leg0.SetFillStyle(0)\n",
    "\n",
    "#hs.Add(histMdetMC, \"E\")\n",
    "#hs.Add(histMdetData, \"E\")\n",
    "#hs.Draw(\"nostack\")\n",
    "leg0.Draw()\n",
    "\n",
    "ROOT.gStyle.SetOptStat(0)\n",
    "cpse.Draw()"
   ]
  },
  {
   "cell_type": "code",
   "execution_count": 76,
   "metadata": {
    "scrolled": true
   },
   "outputs": [
    {
     "data": {
      "text/plain": [
       "(array([[2.860e+02, 1.590e+02, 4.000e+00, 0.000e+00, 0.000e+00, 0.000e+00,\n",
       "         0.000e+00, 0.000e+00, 0.000e+00, 0.000e+00],\n",
       "        [7.130e+02, 6.648e+03, 1.018e+03, 3.400e+01, 0.000e+00, 2.000e+00,\n",
       "         1.000e+00, 0.000e+00, 0.000e+00, 0.000e+00],\n",
       "        [6.700e+01, 5.579e+03, 9.179e+03, 1.118e+03, 0.000e+00, 8.100e+01,\n",
       "         5.000e+00, 1.000e+00, 0.000e+00, 0.000e+00],\n",
       "        [2.400e+01, 4.130e+02, 4.852e+03, 4.973e+03, 0.000e+00, 6.780e+02,\n",
       "         5.600e+01, 6.000e+00, 2.000e+00, 0.000e+00],\n",
       "        [0.000e+00, 0.000e+00, 0.000e+00, 0.000e+00, 0.000e+00, 0.000e+00,\n",
       "         0.000e+00, 0.000e+00, 0.000e+00, 0.000e+00],\n",
       "        [1.100e+01, 1.100e+01, 3.870e+02, 2.084e+03, 0.000e+00, 2.035e+03,\n",
       "         3.320e+02, 4.200e+01, 2.000e+00, 0.000e+00],\n",
       "        [4.000e+00, 1.000e+00, 2.200e+01, 1.630e+02, 0.000e+00, 7.060e+02,\n",
       "         6.610e+02, 1.250e+02, 1.300e+01, 0.000e+00],\n",
       "        [1.000e+00, 0.000e+00, 1.000e+00, 1.300e+01, 0.000e+00, 6.100e+01,\n",
       "         1.910e+02, 1.870e+02, 3.100e+01, 0.000e+00],\n",
       "        [0.000e+00, 1.000e+00, 0.000e+00, 0.000e+00, 0.000e+00, 1.000e+00,\n",
       "         1.200e+01, 4.600e+01, 4.200e+01, 7.000e+00],\n",
       "        [0.000e+00, 0.000e+00, 0.000e+00, 1.000e+00, 0.000e+00, 0.000e+00,\n",
       "         0.000e+00, 2.000e+00, 5.000e+00, 7.000e+00]]),\n",
       " array([1. , 1.8, 2.6, 3.4, 4.2, 5. , 5.8, 6.6, 7.4, 8.2, 9. ]),\n",
       " array([1. , 1.8, 2.6, 3.4, 4.2, 5. , 5.8, 6.6, 7.4, 8.2, 9. ]),\n",
       " <matplotlib.image.AxesImage at 0x7f83103d7210>)"
      ]
     },
     "execution_count": 76,
     "metadata": {},
     "output_type": "execute_result"
    },
    {
     "data": {
      "image/png": "[encoded data removed]",
      "text/plain": [
       "<Figure size 432x288 with 1 Axes>"
      ]
     },
     "metadata": {
      "needs_background": "light"
     },
     "output_type": "display_data"
    }
   ],
   "source": [
    "plt.hist2d(x=det_bin_index, y=gen_bin_index)"
   ]
  },
  {
   "cell_type": "code",
   "execution_count": 77,
   "metadata": {
    "scrolled": true
   },
   "outputs": [
    {
     "data": {
      "image/png": "[encoded data removed]",
      "text/plain": [
       "<Figure size 432x288 with 1 Axes>"
      ]
     },
     "metadata": {
      "needs_background": "light"
     },
     "output_type": "display_data"
    },
    {
     "data": {
      "image/png": "[encoded data removed]",
      "text/plain": [
       "<Figure size 432x288 with 1 Axes>"
      ]
     },
     "metadata": {
      "needs_background": "light"
     },
     "output_type": "display_data"
    }
   ],
   "source": [
    "plt.hist2d(x=det_bin_index2, y=gen_bin_index)\n",
    "plt.show()\n",
    "plt.hist2d(x=MC_sig_reco_tau3_1, y=MC_sig_gen_tau3_1, bins=[det_bins, gen_bins])\n",
    "plt.show()"
   ]
  },
  {
   "cell_type": "code",
   "execution_count": 78,
   "metadata": {
    "scrolled": true
   },
   "outputs": [
    {
     "data": {
      "image/png": "[encoded data removed]",
      "text/plain": [
       "<Figure size 432x288 with 1 Axes>"
      ]
     },
     "metadata": {
      "needs_background": "light"
     },
     "output_type": "display_data"
    },
    {
     "data": {
      "image/png": "[encoded data removed]",
      "text/plain": [
       "<Figure size 432x288 with 1 Axes>"
      ]
     },
     "metadata": {
      "needs_background": "light"
     },
     "output_type": "display_data"
    }
   ],
   "source": [
    "plt.hist(gen_bin_index, histtype='step', color='r')\n",
    "plt.hist(det_bin_index, histtype='step', color='b')\n",
    "plt.show()\n",
    "\n",
    "plt.hist(MC_sig_gen_tau3_1, histtype='step', color='r', bins=gen_bins)\n",
    "plt.hist(MC_sig_reco_tau3_1, histtype='step', color='b', bins=gen_bins)\n",
    "plt.show()"
   ]
  },
  {
   "cell_type": "markdown",
   "metadata": {},
   "source": [
    "### with root"
   ]
  },
  {
   "cell_type": "code",
   "execution_count": null,
   "metadata": {},
   "outputs": [],
   "source": [
    "ps_bindex = 0 \n",
    "\n",
    "l = 1\n",
    "\n",
    "tot_col = [] #np.array([0. for i in xrange(0, purity.GetNbinsX()+1)]) #\n",
    "#tot_col_err = [] #0 \n",
    "\n",
    "tot_row = np.array([0. for i in xrange(1, purity.GetNbinsX()+1)])\n",
    "#tot_row_err = np.zeros_like([0. for i in xrange(1, purity.GetNbinsX()+1)])\n",
    "\n",
    "diag = [] #np.zeros_like([0. for i in xrange(1, purity.GetNbinsX()+1)])\n",
    "#diag_error = [] # np.zeros_like([0. for i in xrange(1, purity.GetNbinsX()+1)])\n",
    "\n",
    "for i in range(0, response.GetNbinsY()+1):    \n",
    "    \n",
    "    k = 0\n",
    "    col = 0.\n",
    "    d_jj = 0.\n",
    "    for j in range(1, response.GetNbinsX()+1):\n",
    "    \n",
    "        r_ij = response.GetBinContent(i,j)\n",
    "        #r_ij_err = response.GetBinError(i,j)\n",
    "        #print (i,j), r_ij\n",
    "        \n",
    "        if (j)%2==0 and j < (response.GetNbinsX()+1):\n",
    "            #since 2 reco bins per 1 gen bin\n",
    "            print \"Filling row index k={} with elements (i,j)=({},{})\".format(k,i,j)\n",
    "            tot_row[k] += r_ij\n",
    "            print \"Filling row index k={} with elements (i,j)=({},{})\".format(k,i,j+1)\n",
    "            tot_row[k] +=  response.GetBinContent(i,j+1)\n",
    "            \n",
    "            #tot_col_err[k] += response.GetBinError(i,j)\n",
    "            #tot_col_err[k] +=  response.GetBinError(i,j+1)\n",
    "            \n",
    "            k +=1\n",
    "        \n",
    "        col += r_ij\n",
    "        \n",
    "        if l==j:\n",
    "            print \"Adding content (equal to {}) of bin i={}, j={} to Diagonal\".format(r_ij, i,j), l\n",
    "            d_jj += r_ij\n",
    " \n",
    "            print \"Adding content (equal to {}) of bin i={}, j={} to Diagonal\".format( response.GetBinContent(i,j+1), i,j+1), l\n",
    "            d_jj += response.GetBinContent(i,j+1)\n",
    "\n",
    "            diag.append(d_jj)\n",
    "    l = l+2\n",
    "    print col, d_jj"
   ]
  },
  {
   "cell_type": "code",
   "execution_count": null,
   "metadata": {},
   "outputs": [],
   "source": [
    "print diag\n",
    "print tot_row\n",
    "print diag/tot_row"
   ]
  },
  {
   "cell_type": "code",
   "execution_count": null,
   "metadata": {},
   "outputs": [],
   "source": [
    "purity_reco_binning = [0] \n",
    "diag = 0\n",
    "for i in range(1, response.GetNbinsX()+1):\n",
    "    for j in range(1, response.GetNbinsY()+1):\n",
    "        dval = response.GetBinContent(i,j)\n",
    "        if i==j:\n",
    "            diag = diag+dval\n",
    "            print i, j, \n",
    "            if i==0 and j==0: purity_reco_binning[0] = dval/\n",
    "            else: purity_reco_binning.append()\n",
    "        j = j+2"
   ]
  },
  {
   "cell_type": "code",
   "execution_count": null,
   "metadata": {},
   "outputs": [],
   "source": []
  },
  {
   "cell_type": "markdown",
   "metadata": {},
   "source": [
    "### Unfolding "
   ]
  },
  {
   "cell_type": "code",
   "execution_count": 79,
   "metadata": {},
   "outputs": [
    {
     "name": "stdout",
     "output_type": "stream",
     "text": [
      "getting tunfolder:\n"
     ]
    },
    {
     "name": "stderr",
     "output_type": "stream",
     "text": [
      "Info in <TUnfold::SetConstraint>: fConstraint=0\n",
      "Info in <TUnfold::TUnfold>: underflow and overflow bin do not depend on the input data\n",
      "Info in <TUnfold::TUnfold>: 18 input bins and 9 output bins\n",
      "Info in <TUnfoldDensity::TUnfold>: *NOT* unfolding bin #0 (yaxis:#tau_{3}^{(1)}(gen_sig)[ufl])\n",
      "Info in <TUnfoldDensity::TUnfold>: *NOT* unfolding bin #10 (yaxis:#tau_{3}^{(1)}(gen_sig)[ofl])\n",
      "Info in <TUnfoldDensity::RegularizeOneDistribution>: regularizing yaxis regMode=3 densityMode=1 axisSteering=*[UOB]\n",
      "Info in <TUnfold::SetConstraint>: fConstraint=0\n",
      "Info in <TUnfold::TUnfold>: underflow and overflow bin do not depend on the input data\n",
      "Info in <TUnfold::TUnfold>: 18 input bins and 9 output bins\n",
      "Info in <TUnfoldDensity::TUnfold>: *NOT* unfolding bin #0 (yaxis:#tau_{3}^{(1)}(gen_sig)[ufl])\n",
      "Info in <TUnfoldDensity::TUnfold>: *NOT* unfolding bin #10 (yaxis:#tau_{3}^{(1)}(gen_sig)[ofl])\n",
      "Info in <TUnfoldDensity::RegularizeOneDistribution>: regularizing yaxis regMode=3 densityMode=1 axisSteering=*[UOB]\n"
     ]
    }
   ],
   "source": [
    "print 'getting tunfolder:'\n",
    "\n",
    "orientation = ROOT.TUnfoldDensity.kHistMapOutputHoriz\n",
    "regMode = ROOT.TUnfoldDensity.kRegModeCurvature\n",
    "con = ROOT.TUnfoldDensity.kEConstraintNone\n",
    "mode =  ROOT.TUnfoldDensity.kDensityModeBinWidth\n",
    "errmode = ROOT.TUnfoldSys.kSysErrModeMatrix\n",
    "#tunfolder_MC = ROOT.TUnfoldDensity(response, orientation, regMode, con, mode, \"signal\", \"*[UOb]\")\n",
    "#tunfolder_data = ROOT.TUnfoldDensity(response, orientation, regMode, con, mode, \"signal\", \"*[UOb]\")\n",
    "\n",
    "tunfolder_MC = ROOT.TUnfoldDensity(response,ROOT.TUnfold.kHistMapOutputVert,ROOT.TUnfold.kRegModeCurvature, ROOT.TUnfold.kEConstraintNone, ROOT.TUnfoldDensity.kDensityModeBinWidth)\n",
    "tunfolder_data = ROOT.TUnfoldDensity(response,ROOT.TUnfold.kHistMapOutputVert,ROOT.TUnfold.kRegModeCurvature, ROOT.TUnfold.kEConstraintNone, ROOT.TUnfoldDensity.kDensityModeBinWidth)"
   ]
  },
  {
   "cell_type": "markdown",
   "metadata": {
    "collapsed": true
   },
   "source": [
    "Set the input, a 1D reconstructed histogram from either MC_sig (closure) or Data (measurement) , binned in the detector level binning. Subtract background contributions from data, using reco-MC bkg."
   ]
  },
  {
   "cell_type": "code",
   "execution_count": 80,
   "metadata": {},
   "outputs": [
    {
     "name": "stdout",
     "output_type": "stream",
     "text": [
      "setting reco input\n"
     ]
    }
   ],
   "source": [
    "print 'setting reco input'\n",
    "tunfolder_data.SetInput( histMdetData )\n",
    "tunfolder_data.SubtractBackground( histMdetMC_bkg, \"bkg_all\", 1. )"
   ]
  },
  {
   "cell_type": "code",
   "execution_count": 81,
   "metadata": {},
   "outputs": [
    {
     "name": "stdout",
     "output_type": "stream",
     "text": [
      "setting reco MC input\n"
     ]
    },
    {
     "data": {
      "text/plain": [
       "0"
      ]
     },
     "execution_count": 81,
     "metadata": {},
     "output_type": "execute_result"
    }
   ],
   "source": [
    "print 'setting reco MC input'\n",
    "tunfolder_MC.SetInput( histMdetMC_sig )\n",
    "#tunfolder_MC.SubtractBackground( histMdetMC_bkg, \"bkg_all\", 1. )"
   ]
  },
  {
   "cell_type": "raw",
   "metadata": {},
   "source": [
    "Unfold nScan times with values for the regularization parameter between tauMin and tauMax using the empty TSplines to store the results."
   ]
  },
  {
   "cell_type": "raw",
   "metadata": {
    "scrolled": true
   },
   "source": [
    "print 'regularizing'\n",
    "nScan=50\n",
    "tauMin=-5.0\n",
    "tauMax=3.0\n",
    "iBest=0\n",
    "\n",
    "logTauX = ROOT.MakeNullPointer(ROOT.TSpline)\n",
    "logTauY = ROOT.MakeNullPointer(ROOT.TSpline)\n",
    "lCurve = ROOT.MakeNullPointer(ROOT.TGraph)\n",
    "\n",
    "print 'doing the unfolding'\n",
    "tunfolder.ScanLcurve(nScan,tauMin,tauMax,lCurve,logTauX,logTauY);\n",
    "print 'getting the results'\n",
    "unfolded = tunfolder.GetOutput(\"unfolded\")"
   ]
  },
  {
   "cell_type": "code",
   "execution_count": 82,
   "metadata": {},
   "outputs": [
    {
     "name": "stderr",
     "output_type": "stream",
     "text": [
      "Warning in <TROOT::Append>: Replacing existing TH1: unfolded_data (Potential memory leak).\n",
      "Warning in <TROOT::Append>: Replacing existing TH1: unfolded_MC (Potential memory leak).\n"
     ]
    }
   ],
   "source": [
    "unfolded_data = tunfolder_data.DoUnfold(0.)\n",
    "unfolded_data = tunfolder_data.GetOutput(\"unfolded_data\")\n",
    "\n",
    "unfolded_MC = tunfolder_MC.DoUnfold(0.)\n",
    "unfolded_MC = tunfolder_MC.GetOutput(\"unfolded_MC\")"
   ]
  },
  {
   "cell_type": "code",
   "execution_count": 83,
   "metadata": {},
   "outputs": [],
   "source": [
    "ROOT.gStyle.SetOptStat(0)"
   ]
  },
  {
   "cell_type": "code",
   "execution_count": 84,
   "metadata": {
    "scrolled": false
   },
   "outputs": [
    {
     "name": "stderr",
     "output_type": "stream",
     "text": [
      "Warning in <TCanvas::Constructor>: Deleting canvas with same name: c5\n",
      "Info in <TCanvas::Print>: png file tau3_1_unfolding_Escheme_bkgsub.png has been created\n",
      "Info in <TCanvas::Print>: pdf file tau3_1_unfolding_Escheme_bkgsub.pdf has been created\n"
     ]
    },
    {
     "data": {
      "image/png": "[encoded data removed]",
      "text/plain": [
       "<IPython.core.display.Image object>"
      ]
     },
     "metadata": {},
     "output_type": "display_data"
    }
   ],
   "source": [
    "c5 = ROOT.TCanvas('c5', 'c5')\n",
    "\n",
    "unfolded_MC.SetMarkerStyle(2)\n",
    "unfolded_MC.SetMarkerColor(7)\n",
    "unfolded_MC.SetLineColor(7)\n",
    "unfolded_MC.SetLineWidth(1)\n",
    "\n",
    "unfolded_data.SetMarkerStyle(22)\n",
    "unfolded_data.SetMarkerColor(1)\n",
    "unfolded_data.SetLineColor(1)\n",
    "unfolded_data.SetLineWidth(2)\n",
    "\n",
    "\n",
    "#unfolded_MC.SetFillColor(0)\n",
    "#histMgenData.SetMarkerStyle(4)\n",
    "#histMgenData.SetMarkerColor(2)\n",
    "#histMgenData.SetOption(\"E\")\n",
    "#histMgenData.SetLineColor(2)\n",
    "histMgenMC_sig.SetMarkerStyle(5)\n",
    "histMgenMC_sig.SetMarkerColor(2)\n",
    "histMgenMC_sig.SetLineColor(2)\n",
    "\n",
    "\n",
    "\n",
    "hs = ROOT.THStack(\"#tau_{3}^{(1)}\", \"#tau_{3}^{(1)}\")\n",
    "#hs.Add\n",
    "#hs.SetMinimum(0)\n",
    "hs.SetMaximum(8000)\n",
    "#hs.Add( histMgenData, \"E HIST\")\n",
    "hs.Add( unfolded_MC, \"E HIST\")\n",
    "hs.Add( unfolded_data, \"E \")\n",
    "hs.Add(histMgenMC_sig, \"E HIST\")\n",
    "#hs.Add(histMdetMC_sig, \"E\")\n",
    "#hs.Add(histMdetData, \"E\")\n",
    "\n",
    "leg0 = ROOT.TLegend(0.02, 0.7, 0.91, 0.85)\n",
    "leg0.AddEntry( unfolded_data, \"Data (2016)\", 'p')\n",
    "leg0.AddEntry( histMgenMC_sig, \"Generator-level (ttbar MC: Powheg+Pythia8)\", 'p')\n",
    "#leg0.AddEntry( histMgenData, \"'Truth' (MC: MG5+Pythia8)\", 'p')\n",
    "leg0.AddEntry( unfolded_MC, \"Unfolding_self-closure (ttbar MC: Powheg+Pythia8)\", 'p')\n",
    "leg0.SetLineColor(0)\n",
    "leg0.SetBorderSize(0)\n",
    "leg0.SetFillStyle(0)\n",
    "\n",
    "#hs.Add(histMdetMC, \"E\")\n",
    "#hs.Add(histMdetData, \"E\")\n",
    "hs.Draw(\"nostack\")\n",
    "leg0.Draw()\n",
    "\n",
    "c5.Draw()\n",
    "c5.SaveAs(\"tau3_1_unfolding_Escheme_bkgsub.png\")\n",
    "c5.SaveAs(\"tau3_1_unfolding_Escheme_bkgsub.pdf\")"
   ]
  },
  {
   "cell_type": "code",
   "execution_count": 85,
   "metadata": {},
   "outputs": [
    {
     "name": "stdout",
     "output_type": "stream",
     "text": [
      "Bin Content \tBin error \tBin Center \tBin Low-Edge \tRatio to Truth for bin \tRatio Error\n",
      "355.2104 \t25.3067 \t0.015 \t0.0 1.0000 0.0779\n",
      "4102.4899 \t68.8677 \t0.045 \t0.03 1.0000 0.0192\n",
      "4983.8309 \t93.1074 \t0.075 \t0.06 1.0000 0.0205\n",
      "2716.0697 \t86.8653 \t0.105 \t0.09 1.0000 0.0340\n",
      "1165.2770 \t66.5316 \t0.135 \t0.12 1.0000 0.0597\n",
      "409.5360 \t45.8592 \t0.165 \t0.15 1.0000 0.1158\n",
      "132.7092 \t27.2439 \t0.195 \t0.18 1.0000 0.2118\n",
      "31.4094 \t10.8476 \t0.23 \t0.21 1.0000 0.3615\n",
      "4.6051 \t2.7281 \t0.28 \t0.25 1.0000 0.6521\n"
     ]
    }
   ],
   "source": [
    "ratio = ROOT.TH1D(\"\",\"; #tau_{3}^{(1)}\",  gen_bins.shape[0]-1, (gen_bins))\n",
    "ratio.GetXaxis().SetTitle(\"#tau_{3}^{(1)}\");\n",
    "#ratio.GetYaxis().SetTitleOffset(0.);\n",
    "ratio.GetYaxis().CenterTitle(ROOT.kTRUE);\n",
    "ratio.GetXaxis().CenterTitle(ROOT.kTRUE);\n",
    "ratio.GetYaxis().SetRangeUser(0.7,1.3)\n",
    "ratio.Add(unfolded_MC)\n",
    "ratio.GetYaxis().SetTitle(\"#frac{Unfolded Powheg}{Gen-level Powheg}\")\n",
    "ratio.Sumw2()\n",
    "ratio.SetStats(0)\n",
    "ratio.Divide(histMgenMC_sig);\n",
    "ratio.GetYaxis().SetLabelSize(0.09)\n",
    "ratio.GetXaxis().SetLabelSize(0.09)\n",
    "#ratio.SetMarkerStyle(1)\n",
    "ratio.SetMarkerColor(ROOT.kRed)\n",
    "ratio.SetLineColor(ROOT.kRed)\n",
    "ratio.GetYaxis().SetTitleSize(0.12)\n",
    "ratio.GetYaxis().SetTitleOffset(0.4)\n",
    "ratio.GetXaxis().SetTitleSize(0.12)\n",
    "ratio.GetXaxis().SetTitleOffset(0.85)\n",
    "\n",
    "print \"Bin Content\", \"\\t\", \"Bin error\", \"\\t\", \"Bin Center\", \"\\t\", \"Bin Low-Edge\", \"\\t\", \"Ratio to Truth for bin\", \"\\t\", \"Ratio Error\"\n",
    "for i in xrange(1,gen_bins.shape[0]):\n",
    "    print \"%0.4f\"%unfolded_MC.GetBinContent(i), \"\\t\", \"%0.4f\"%unfolded_MC.GetBinError(i), \"\\t\", unfolded_MC.GetBinCenter(i), \"\\t\", unfolded_MC.GetBinLowEdge(i), \"%0.4f\"%ratio.GetBinContent(i), \"%0.4f\"%ratio.GetBinError(i)"
   ]
  },
  {
   "cell_type": "code",
   "execution_count": 86,
   "metadata": {},
   "outputs": [
    {
     "name": "stderr",
     "output_type": "stream",
     "text": [
      "Warning in <TCanvas::Constructor>: Deleting canvas with same name: c6\n",
      "Info in <TCanvas::Print>: png file tau_3_1_MC_SC_ratio_Escheme_bkgsub.png has been created\n",
      "Info in <TCanvas::Print>: pdf file tau_3_1_MC_SC_ratio_Escheme_bkgsub.pdf has been created\n"
     ]
    },
    {
     "data": {
      "image/png": "[encoded data removed]",
      "text/plain": [
       "<IPython.core.display.Image object>"
      ]
     },
     "metadata": {},
     "output_type": "display_data"
    }
   ],
   "source": [
    "c6 = ROOT.TCanvas(\"c6\",\"c6\", 600,300)\n",
    "ratio.GetYaxis().SetLabelSize(0.05)\n",
    "ratio.GetXaxis().SetLabelSize(0.05)\n",
    "#ratio.SetMarkerStyle(1)\n",
    "ratio.SetMarkerStyle(5)\n",
    "ratio.SetMarkerColor(ROOT.kRed)\n",
    "ratio.SetLineColor(ROOT.kRed)\n",
    "ratio.GetYaxis().SetTitleSize(0.06)\n",
    "ratio.GetYaxis().SetTitleOffset(0.7)\n",
    "ratio.GetXaxis().SetTitleSize(0.05)\n",
    "ratio.GetXaxis().SetTitleOffset(0.8)\n",
    "#ratio.SetMinimum(0.7)\n",
    "#ratio.SetMaximum(1.3)\n",
    "#ratio.SetMarkerStyle(21);\n",
    "ratio.Draw(\"ep\")\n",
    "c6.Draw()\n",
    "c6.SaveAs(\"tau_3_1_MC_SC_ratio_Escheme_bkgsub.png\")\n",
    "c6.SaveAs(\"tau_3_1_MC_SC_ratio_Escheme_bkgsub.pdf\")"
   ]
  },
  {
   "cell_type": "code",
   "execution_count": 87,
   "metadata": {},
   "outputs": [
    {
     "name": "stderr",
     "output_type": "stream",
     "text": [
      "Error in <TUnfoldDensity::SubtractBackground>: Source bkg_all given twice, ignoring 2nd call.\n",
      "\n",
      "Warning in <TROOT::Append>: Replacing existing TH1: unfolded_data (Potential memory leak).\n",
      "Warning in <TROOT::Append>: Replacing existing TH1: unfolding stat error matrix (Potential memory leak).\n",
      "Warning in <TROOT::Append>: Replacing existing TH1: unfolding total error matrix (Potential memory leak).\n",
      "Warning in <TROOT::Append>: Replacing existing TH1: Corr(total) (Potential memory leak).\n",
      "Warning in <TROOT::Append>: Replacing existing TH1: bkg_all (Potential memory leak).\n"
     ]
    }
   ],
   "source": [
    "# get unfolding output\n",
    "# includes the statistical and background errors\n",
    "# but not the other systematic uncertainties\n",
    "#tunfolder_data.SetInput( histMdetData )\n",
    "tunfolder_data.SubtractBackground( histMdetMC_bkg, \"bkg_all\", 1. )\n",
    "\n",
    "histUnfoldOutput= tunfolder_data.GetOutput(\"unfolded_data\")\n",
    "\n",
    "# retreive error matrix of statistical errors\n",
    "histEmatStat=tunfolder_data.GetEmatrixInput(\"unfolding stat error matrix\");\n",
    "# retreive full error matrix\n",
    "# This includes all systematic errors\n",
    "histEmatTotal=tunfolder_data.GetEmatrixTotal(\"unfolding total error matrix\");\n",
    "# create two copies of the unfolded data, one with statistical errors\n",
    "# the other with total errors\n",
    "histUnfoldStat=ROOT.TH1D(\"tau3_1(unfold,staterr)\",\";tau3_1(gen)\",  gen_bins.shape[0]-1, (gen_bins));\n",
    "histUnfoldTotal=ROOT.TH1D(\"tau3_1(unfold,totalerr)\",\";tau3_1(gen)\",  gen_bins.shape[0]-1, (gen_bins));\n",
    "\n",
    "for i in xrange(0, gen_bins.shape[0]): \n",
    "    c=histUnfoldOutput.GetBinContent(i);\n",
    "    # histogram with unfolded data and stat errors\n",
    "    histUnfoldStat.SetBinContent(i,c);\n",
    "    histUnfoldStat.SetBinError(i,np.sqrt(histEmatStat.GetBinContent(i,i)));\n",
    "    # histogram with unfolded data and total errors\n",
    "    histUnfoldTotal.SetBinContent(i,c);\n",
    "    histUnfoldTotal.SetBinError(i,np.sqrt(histEmatTotal.GetBinContent(i,i)));\n",
    "\n",
    "# create histogram with correlation matrix\n",
    "histCorr=ROOT.TH2D(\"Corr(total)\",\";tau3_1(gen);tau3_1(gen)\",  gen_bins.shape[0]-1, (gen_bins), gen_bins.shape[0]-1, (gen_bins));\n",
    "for i in xrange(0, gen_bins.shape[0]): \n",
    "    ei,ej = 0,0\n",
    "    ei=np.sqrt(histEmatTotal.GetBinContent(i,i));\n",
    "    if(ei<=0.0): continue\n",
    "    for j in xrange(0, gen_bins.shape[0]):\n",
    "        ej=np.sqrt(histEmatTotal.GetBinContent(j,j));\n",
    "        if(ej<=0.0): continue\n",
    "        histCorr.SetBinContent(i,j,histEmatTotal.GetBinContent(i,j)/ei/ej);\n",
    "\n",
    "# retreive bgr source 1\n",
    "#histdetNormBgr1=tunfolder_data.GetBackground(\"bgr1 normalized\", \"background1\");\n",
    "histMdetNormBgrTotal=tunfolder_data.GetBackground(\"bkg_all\");\n",
    "#========================\n"
   ]
  },
  {
   "cell_type": "code",
   "execution_count": 88,
   "metadata": {},
   "outputs": [
    {
     "data": {
      "image/png": "[encoded data removed]",
      "text/plain": [
       "<IPython.core.display.Image object>"
      ]
     },
     "metadata": {},
     "output_type": "display_data"
    }
   ],
   "source": [
    "# Step 7: plots\n",
    "output = ROOT.TCanvas();\n",
    "#output.Divide(3,2);\n",
    "#output.cd(1);\n",
    "# data, MC prediction, background\n",
    "#histMdetData.SetMinimum(0.0);\n",
    "histMdetData.SetMaximum(histMdetData.GetMaximum()*1.5);\n",
    "histMdetData.Draw(\"E\");\n",
    "#histMdetMC_sig.SetMinimum(0.0);\n",
    "histMdetMC_sig.SetLineColor(ROOT.kBlue);\n",
    "histMdetNormBgrTotal.SetLineColor(ROOT.kRed);\n",
    "#histdetNormBgr1.SetLineColor(ROOT.kCyan);\n",
    "histMdetMC_sig.Draw(\"SAME HIST\");\n",
    "#histdetNormBgr1.Draw(\"SAME HIST\");\n",
    "histMdetNormBgrTotal.Draw(\"SAME HIST\");\n",
    "output.Draw()"
   ]
  },
  {
   "cell_type": "code",
   "execution_count": 89,
   "metadata": {},
   "outputs": [
    {
     "data": {
      "image/png": "[encoded data removed]",
      "text/plain": [
       "<IPython.core.display.Image object>"
      ]
     },
     "metadata": {},
     "output_type": "display_data"
    }
   ],
   "source": [
    "#output.cd(2)\n",
    "# unfolded data, data truth, MC truth\n",
    "output = ROOT.TCanvas();\n",
    "histUnfoldTotal.SetMinimum(0.0);\n",
    "histUnfoldTotal.SetMaximum(5000);\n",
    "histUnfoldTotal.SetLineColor(ROOT.kBlue+3)\n",
    "histUnfoldTotal.SetLineWidth(1)\n",
    "# outer error: total error\n",
    "histUnfoldTotal.Draw(\"E\");\n",
    "# middle error: stat+bgr\n",
    "histUnfoldOutput.SetLineWidth(1)\n",
    "histUnfoldOutput.Draw(\"SAME E1\");\n",
    "# inner error: stat only\n",
    "histUnfoldStat.SetLineColor(ROOT.kGreen+2)\n",
    "histUnfoldStat.Draw(\"SAME E1\");\n",
    "\n",
    "histMdetMC_sig.Draw(\"SAME HIST\");\n",
    "histMgenMC_sig.Draw(\"SAME HIST\");\n",
    "#histBbbSignalGen.SetLineColor(ROOT.kBlue);\n",
    "#histBbbSignalGen.Draw(\"SAME HIST\");\n",
    "output.Draw()"
   ]
  },
  {
   "cell_type": "code",
   "execution_count": 90,
   "metadata": {
    "scrolled": true
   },
   "outputs": [
    {
     "data": {
      "image/png": "[encoded data removed]",
      "text/plain": [
       "<IPython.core.display.Image object>"
      ]
     },
     "metadata": {},
     "output_type": "display_data"
    }
   ],
   "source": [
    "output.cd(3);\n",
    "# unfolding matrix\n",
    "response.SetLineColor(ROOT.kBlue);\n",
    "response.Draw(\"BOX\");\n",
    "\n",
    "output.Draw()"
   ]
  },
  {
   "cell_type": "code",
   "execution_count": 91,
   "metadata": {
    "scrolled": true
   },
   "outputs": [
    {
     "data": {
      "image/png": "[encoded data removed]",
      "text/plain": [
       "<IPython.core.display.Image object>"
      ]
     },
     "metadata": {},
     "output_type": "display_data"
    }
   ],
   "source": [
    "# show tau as a function of chi**2\n",
    "output.cd(4);\n",
    "#logTauX.Draw();\n",
    "#bestLogTauLogChi2.SetMarkerColor(ROOT.kRed);\n",
    "#bestLogTauLogChi2.Draw(\"*\");\n",
    "# show the L curve\n",
    "output.cd(5);\n",
    "#lCurve.Draw(\"AL\");\n",
    "#bestLcurve.SetMarkerColor(ROOT.kRed);\n",
    "#bestLcurve.Draw(\"*\");\n",
    "# show correlation matrix\n",
    "output.cd(6);\n",
    "histCorr.Draw(\"BOX\");\n",
    "output.Draw()"
   ]
  },
  {
   "cell_type": "code",
   "execution_count": null,
   "metadata": {},
   "outputs": [],
   "source": []
  },
  {
   "cell_type": "markdown",
   "metadata": {},
   "source": [
    "# $\\tau_{3}^{(2)}$ unfolding with background subtraction + purity&stability study [w/ E-scheme recombination+excl. $k_T$ axes]\n"
   ]
  },
  {
   "cell_type": "code",
   "execution_count": 19,
   "metadata": {},
   "outputs": [],
   "source": [
    "Wjets_gen_tau3_2 = Wjets_gen_nSub_basis[:,8]\n",
    "\n",
    "ST1_gen_tau3_2 = ST1_gen_nSub_basis[:,8]\n",
    "\n",
    "ST2_gen_tau3_2 = ST2_gen_nSub_basis[:,8]\n",
    "\n",
    "ST3_gen_tau3_2 = ST3_gen_nSub_basis[:,8]\n",
    "\n",
    "ST4_gen_tau3_2 = ST4_gen_nSub_basis[:,8]\n",
    "\n",
    "ST5_gen_tau3_2 = ST5_gen_nSub_basis[:,8]\n",
    "\n",
    "TTbar_gen_tau3_2 = TTbar_gen_nSub_basis[:,8]"
   ]
  },
  {
   "cell_type": "code",
   "execution_count": 20,
   "metadata": {},
   "outputs": [],
   "source": [
    "Wjets_reco_tau3_2 = Wjets_reco_nSub_basis[:,8]\n",
    "\n",
    "ST1_reco_tau3_2 = ST1_reco_nSub_basis[:,8]\n",
    "\n",
    "ST2_reco_tau3_2 = ST2_reco_nSub_basis[:,8]\n",
    "\n",
    "ST3_reco_tau3_2 = ST3_reco_nSub_basis[:,8]\n",
    "\n",
    "ST4_reco_tau3_2 = ST4_reco_nSub_basis[:,8]\n",
    "\n",
    "ST5_reco_tau3_2 = ST5_reco_nSub_basis[:,8]\n",
    "\n",
    "TTbar_reco_tau3_2 = TTbar_reco_nSub_basis[:,8]"
   ]
  },
  {
   "cell_type": "markdown",
   "metadata": {},
   "source": [
    "# Unfolding $\\tau_{3}^{(2)}$ with background subtraction"
   ]
  },
  {
   "cell_type": "code",
   "execution_count": 21,
   "metadata": {},
   "outputs": [],
   "source": [
    "MC_sig_reco_tau3_2 = TTbar_reco_tau3_2\n",
    "MC_sig_gen_tau3_2 = TTbar_gen_tau3_2\n",
    "\n",
    "MC_bkg_reco_tau3_2 = np.concatenate((ST1_reco_tau3_2,ST2_reco_tau3_2,ST3_reco_tau3_2,ST4_reco_tau3_2,ST5_reco_tau3_2,Wjets_reco_tau3_2))\n",
    "MC_bkg_gen_tau3_2 = np.concatenate((ST1_gen_tau3_2,ST2_gen_tau3_2,ST3_gen_tau3_2,ST4_gen_tau3_2,ST5_gen_tau3_2,Wjets_gen_tau3_2))\n",
    "\n",
    "data_tau3_2 = data_nSub_basis[:,8]\n",
    "weights_MC_sig = weight_TTbar\n",
    "weights_MC_bkg = np.concatenate((weight_ST1,weight_ST2,weight_ST3,weight_ST4,weight_ST5,weight_Wjets))"
   ]
  },
  {
   "cell_type": "markdown",
   "metadata": {
    "collapsed": true
   },
   "source": [
    "Get the response matrix and input 1D distributions for unfolding."
   ]
  },
  {
   "cell_type": "code",
   "execution_count": 22,
   "metadata": {},
   "outputs": [
    {
     "name": "stdout",
     "output_type": "stream",
     "text": [
      "7.746786286588758e-05\n",
      "0.001071561360731721\n",
      "0.11295222491025925\n",
      "0.11467206478118896 \n",
      "\n",
      "0.00046428811037912965\n",
      "0.0012451540678739548\n",
      "0.08935955166816711\n",
      "0.0925329402089119 \n",
      "\n",
      "0.001063680974766612\n",
      "0.1285649985074997\n"
     ]
    }
   ],
   "source": [
    "print np.min(MC_sig_gen_tau3_2)\n",
    "print np.min(MC_sig_reco_tau3_2)\n",
    "print np.max(MC_sig_gen_tau3_2)\n",
    "print np.max(MC_sig_reco_tau3_2), \"\\n\"\n",
    "\n",
    "\n",
    "print np.min(MC_bkg_gen_tau3_2)\n",
    "print np.min(MC_bkg_reco_tau3_2)\n",
    "print np.max(MC_bkg_gen_tau3_2)\n",
    "print np.max(MC_bkg_reco_tau3_2), \"\\n\"\n",
    "\n",
    "\n",
    "print np.min(data_tau3_2)\n",
    "print np.max(data_tau3_2)"
   ]
  },
  {
   "cell_type": "markdown",
   "metadata": {
    "collapsed": true
   },
   "source": [
    "#### Set the axis ranges for the generator nd detector level distributions as well as the number of bins in each. Note that we want twice as many detector bins as generator level bins as recommended by the TUnfold documenation "
   ]
  },
  {
   "cell_type": "code",
   "execution_count": 82,
   "metadata": {},
   "outputs": [
    {
     "name": "stdout",
     "output_type": "stream",
     "text": [
      "[0.   0.01 0.02 0.03 0.04 0.06 0.08 0.13] 8\n",
      "[0.    0.005 0.01  0.015 0.02  0.025 0.03  0.035 0.04  0.05  0.06  0.07\n",
      " 0.08  0.105 0.13 ] 15\n"
     ]
    }
   ],
   "source": [
    "gen_bins = np.array([x for x in np.linspace(num=5, start=0., stop=0.04)])\n",
    "gen_bins = np.concatenate((gen_bins, np.array([0.06, 0.08, 0.13])))\n",
    "print gen_bins, gen_bins.shape[0]\n",
    "\n",
    "det_bins = np.array([x for x in np.linspace(num=9, start=0., stop=0.04)])\n",
    "det_bins = np.concatenate((det_bins, np.array([0.05, 0.06, 0.07, 0.08, 0.105, 0.13])))\n",
    "print det_bins, det_bins.shape[0]"
   ]
  },
  {
   "cell_type": "code",
   "execution_count": 83,
   "metadata": {},
   "outputs": [],
   "source": [
    "ROOT.TH1.SetDefaultSumw2()\n",
    "from root_numpy import *"
   ]
  },
  {
   "cell_type": "markdown",
   "metadata": {},
   "source": [
    "#### Fill histograms for sig and bkg. MC separately in this case (as one should!)"
   ]
  },
  {
   "cell_type": "code",
   "execution_count": 84,
   "metadata": {},
   "outputs": [
    {
     "name": "stderr",
     "output_type": "stream",
     "text": [
      "Warning in <TROOT::Append>: Replacing existing TH1: histMgenMC_bkg (Potential memory leak).\n",
      "Warning in <TROOT::Append>: Replacing existing TH1: histMgenMC_bkg (Potential memory leak).\n",
      "Warning in <TROOT::Append>: Replacing existing TH1: histMdetMC_bkg (Potential memory leak).\n",
      "Warning in <TROOT::Append>: Replacing existing TH1: histMdetMC_bkg (Potential memory leak).\n",
      "Warning in <TROOT::Append>: Replacing existing TH1: histMgenMC_sig (Potential memory leak).\n",
      "Warning in <TROOT::Append>: Replacing existing TH1: histMgenMC_sig (Potential memory leak).\n",
      "Warning in <TROOT::Append>: Replacing existing TH1: histMdetMC_sig (Potential memory leak).\n",
      "Warning in <TROOT::Append>: Replacing existing TH1: histMdetMC_sig (Potential memory leak).\n",
      "Warning in <TROOT::Append>: Replacing existing TH1: histMdetData (Potential memory leak).\n",
      "Warning in <TROOT::Append>: Replacing existing TH1: histMdetData (Potential memory leak).\n"
     ]
    }
   ],
   "source": [
    "histMgenMC_bkg = ROOT.TH1D(\"histMgenMC_bkg\", \"histMgenMC_bkg; #tau_{3}^{(2)}; Events/(0.02)\",  gen_bins.shape[0]-1, (gen_bins))\n",
    "fill_hist(histMgenMC_bkg, MC_bkg_gen_tau3_2, weights=weights_MC_bkg)\n",
    "\n",
    "histMdetMC_bkg = ROOT.TH1D(\"histMdetMC_bkg\", \"histMdetMC_bkg; #tau_{3}^{(2)}; Events/(0.02)\", det_bins.shape[0]-1, (det_bins))\n",
    "fill_hist(histMdetMC_bkg, MC_bkg_reco_tau3_2, weights=weights_MC_bkg)\n",
    "\n",
    "histMgenMC_sig = ROOT.TH1D(\"histMgenMC_sig\", \"histMgenMC_sig; #tau_{3}^{(2)}; Events/(0.02)\",  gen_bins.shape[0]-1, (gen_bins))\n",
    "fill_hist(histMgenMC_sig, MC_sig_gen_tau3_2, weights=weights_MC_sig)\n",
    "\n",
    "histMdetMC_sig = ROOT.TH1D(\"histMdetMC_sig\", \"histMdetMC_sig; #tau_{3}^{(2)}; Events/(0.02)\", det_bins.shape[0]-1, (det_bins))\n",
    "fill_hist(histMdetMC_sig, MC_sig_reco_tau3_2, weights=weights_MC_sig)\n",
    "\n",
    "#histMgenData = ROOT.TH1D(\"histMgenData\", \"histMgenData; #tau_{3}^{(2)}; Events/(0.02)\", gen_bins.shape[0]-1, (gen_bins))\n",
    "#fill_hist(histMgenData, TTbartruth_nSub_basis[:,4]/TTbartruth_nSub_basis[:,2])\n",
    "\n",
    "histMdetData = ROOT.TH1D(\"histMdetData\", \"histMdetData; #tau_{3}^{(2)}; Events/(0.02)\", det_bins.shape[0]-1, (det_bins))\n",
    "fill_hist(histMdetData, data_tau3_2)"
   ]
  },
  {
   "cell_type": "markdown",
   "metadata": {
    "collapsed": true
   },
   "source": [
    "Set the X and Y axis labels"
   ]
  },
  {
   "cell_type": "code",
   "execution_count": 85,
   "metadata": {},
   "outputs": [],
   "source": [
    "histMgenMC_bkg.SetTitle(\";#tau_{3}^{(2)}(gen_bkg)\")\n",
    "\n",
    "histMdetMC_bkg.SetTitle(\";#tau_{3}^{(2)}(det_bkg)\")\n",
    "\n",
    "histMgenMC_sig.SetTitle(\";#tau_{3}^{(2)}(gen_sig)\")\n",
    "\n",
    "histMdetMC_sig.SetTitle(\";#tau_{3}^{(2)}(det_sig)\")\n",
    "\n",
    "histMdetData.SetTitle(\";#tau_{3}^{(2)}(data)\")\n"
   ]
  },
  {
   "cell_type": "markdown",
   "metadata": {
    "collapsed": true
   },
   "source": [
    "Draw the variables at reco and gen level and for \"data\""
   ]
  },
  {
   "cell_type": "code",
   "execution_count": 86,
   "metadata": {
    "scrolled": false
   },
   "outputs": [
    {
     "data": {
      "image/png": "[encoded data removed]",
      "text/plain": [
       "<IPython.core.display.Image object>"
      ]
     },
     "metadata": {},
     "output_type": "display_data"
    }
   ],
   "source": [
    "c1 = ROOT.TCanvas(\"chistMgenMC_sig1\", \"chistMgenMC_sig1\")\n",
    "histMgenMC_sig.Draw(\"e\")\n",
    "histMdetMC_sig.Draw(\"e same\")\n",
    "c1.Draw()"
   ]
  },
  {
   "cell_type": "code",
   "execution_count": 87,
   "metadata": {
    "scrolled": true
   },
   "outputs": [
    {
     "data": {
      "image/png": "[encoded data removed]",
      "text/plain": [
       "<IPython.core.display.Image object>"
      ]
     },
     "metadata": {},
     "output_type": "display_data"
    }
   ],
   "source": [
    "c1 = ROOT.TCanvas(\"chistMgenMC_bkg1\", \"chistMgenMC_bkg1\")\n",
    "histMgenMC_bkg.Draw(\"e\")\n",
    "histMdetMC_bkg.Draw(\"e same\")\n",
    "c1.Draw()"
   ]
  },
  {
   "cell_type": "code",
   "execution_count": 88,
   "metadata": {
    "scrolled": false
   },
   "outputs": [
    {
     "data": {
      "image/png": "[encoded data removed]",
      "text/plain": [
       "<IPython.core.display.Image object>"
      ]
     },
     "metadata": {},
     "output_type": "display_data"
    }
   ],
   "source": [
    "c1 = ROOT.TCanvas(\"chistMgenMC_sig1\", \"chistMgenMC_sig1\")\n",
    "#histMgenData.Draw(\"e\")\n",
    "histMdetData.Draw(\"e \")\n",
    "c1.Draw()"
   ]
  },
  {
   "cell_type": "markdown",
   "metadata": {},
   "source": [
    "### Fill response matrix"
   ]
  },
  {
   "cell_type": "code",
   "execution_count": 89,
   "metadata": {},
   "outputs": [
    {
     "name": "stderr",
     "output_type": "stream",
     "text": [
      "Warning in <TROOT::Append>: Replacing existing TH1: response (Potential memory leak).\n"
     ]
    }
   ],
   "source": [
    "response = ROOT.TH2D('response', 'response', det_bins.shape[0]-1, det_bins, gen_bins.shape[0]-1, gen_bins)\n",
    "hist2Dfill = np.zeros((MC_sig_reco_tau3_2.shape[0], 2))\n",
    "hist2Dfill[:,0] = MC_sig_reco_tau3_2.flatten()\n",
    "hist2Dfill[:,1] = MC_sig_gen_tau3_2.flatten()\n",
    "fill_hist(response, hist2Dfill, weights_MC_sig)\n",
    "response.SetTitle(\"Nominal Response Matrix;#tau_{3}^{(2)}(det_sig);#tau_{3}^{(2)}(gen_sig)\")"
   ]
  },
  {
   "cell_type": "code",
   "execution_count": 90,
   "metadata": {},
   "outputs": [
    {
     "data": {
      "image/png": "[encoded data removed]",
      "text/plain": [
       "<IPython.core.display.Image object>"
      ]
     },
     "metadata": {},
     "output_type": "display_data"
    }
   ],
   "source": [
    "c1 = ROOT.TCanvas(\"cresponse1\", \"cresponse1\")\n",
    "response.Draw(\"colz\")\n",
    "c1.Draw()"
   ]
  },
  {
   "cell_type": "markdown",
   "metadata": {},
   "source": [
    "### Purity and Stability calculation"
   ]
  },
  {
   "cell_type": "raw",
   "metadata": {
    "collapsed": true
   },
   "source": [
    "#### Normalise the distributions, draw them and the response matrix."
   ]
  },
  {
   "cell_type": "raw",
   "metadata": {},
   "source": [
    "norm_genMC_bkg = histMgenMC_bkg.Integral()\n",
    "print norm_genMC_bkg\n",
    "\n",
    "norm_recoMC_bkg = histMdetMC_bkg.Integral()\n",
    "print norm_recoMC_bkg\n",
    "\n",
    "norm_genMC_sig = histMgenMC_sig.Integral()\n",
    "print norm_genMC_sig\n",
    "\n",
    "norm_recoMC_sig = histMdetMC_sig.Integral()\n",
    "print norm_recoMC_sig\n",
    "\n",
    "#norm_genData = histMgenData.Integral()\n",
    "#print norm_genData\n",
    "\n",
    "norm_detData = histMdetData.Integral()\n",
    "print norm_detData"
   ]
  },
  {
   "cell_type": "code",
   "execution_count": 92,
   "metadata": {},
   "outputs": [],
   "source": [
    "hMC_gen_bkg = ROOT.TH1D(histMgenMC_bkg)\n",
    "#hMC_gen_bkg.Scale(1./norm_genMC_bkg)\n",
    "\n",
    "hMC_reco_bkg = ROOT.TH1D(histMdetMC_bkg)\n",
    "#hMC_reco_bkg.Scale(1./norm_recoMC_bkg)\n",
    "\n",
    "hMC_gen_sig = ROOT.TH1D(histMgenMC_sig)\n",
    "#hMC_gen_sig.Scale(1./norm_genMC_sig)\n",
    "\n",
    "hMC_reco_sig = ROOT.TH1D(histMdetMC_sig)\n",
    "#hMC_reco_sig.Scale(1./norm_recoMC_sig)\n",
    "\n",
    "hMC_data = ROOT.TH1D(histMdetData)\n",
    "#histMgenData.Scale(1./norm_genData)\n",
    "#histMdetData.Scale(1./norm_detData)\n",
    "\n",
    "'''\n",
    "histMgenMC_bkg.Scale(1./norm_genMC_bkg)\n",
    "histMdetMC_bkg.Scale(1./norm_recoMC_bkg)\n",
    "histMgenMC_sig.Scale(1./norm_genMC_sig)\n",
    "histMdetMC_sig.Scale(1./norm_recoMC_sig)\n",
    "\n",
    "#histMgenData.Scale(1./norm_genData)\n",
    "histMdetData.Scale(1./norm_detData)\n",
    "''';"
   ]
  },
  {
   "cell_type": "code",
   "execution_count": 93,
   "metadata": {},
   "outputs": [
    {
     "name": "stdout",
     "output_type": "stream",
     "text": [
      "0 -0.00928571428571 0.0\n",
      "1 0.0 208.420559367\n",
      "2 0.005 1685.2170352\n",
      "3 0.01 2887.73560238\n",
      "4 0.015 2848.88002541\n",
      "5 0.02 2191.49498388\n",
      "6 0.025 1494.28255834\n",
      "7 0.03 950.689129518\n",
      "8 0.035 635.024276717\n",
      "9 0.04 620.660694944\n",
      "10 0.05 246.347233523\n",
      "11 0.06 86.4933249761\n",
      "12 0.07 29.502479448\n",
      "13 0.08 15.5470259518\n",
      "14 0.105 0.842699659694\n",
      "==========\n",
      "0 -0.0185714285714 0.0\n",
      "1 0.0 2969.51051942\n",
      "2 0.01 5674.64491062\n",
      "3 0.02 3086.64207304\n",
      "4 0.03 1288.68631693\n",
      "5 0.04 747.965138792\n",
      "6 0.06 115.736857367\n",
      "7 0.08 17.9518131355\n"
     ]
    }
   ],
   "source": [
    "for i in xrange(0, histMdetMC_sig.GetNbinsX()+1):\n",
    "    print i, hMC_reco_sig.GetBinLowEdge(i), hMC_reco_sig.GetBinContent(i)   \n",
    "print \"==========\"\n",
    "for i in xrange(0, hMC_gen_sig.GetNbinsX()+1):\n",
    "    print i, hMC_gen_sig.GetBinLowEdge(i), hMC_gen_sig.GetBinContent(i)"
   ]
  },
  {
   "cell_type": "code",
   "execution_count": 94,
   "metadata": {
    "scrolled": false
   },
   "outputs": [
    {
     "name": "stderr",
     "output_type": "stream",
     "text": [
      "Warning in <TCanvas::Constructor>: Deleting canvas with same name: cresponse1\n"
     ]
    },
    {
     "data": {
      "image/png": "[encoded data removed]",
      "text/plain": [
       "<IPython.core.display.Image object>"
      ]
     },
     "metadata": {},
     "output_type": "display_data"
    }
   ],
   "source": [
    "c1 = ROOT.TCanvas(\"cresponse1\", \"cresponse1\")\n",
    "response.Draw(\"colz\")\n",
    "c1.Draw()"
   ]
  },
  {
   "cell_type": "code",
   "execution_count": 95,
   "metadata": {},
   "outputs": [
    {
     "name": "stderr",
     "output_type": "stream",
     "text": [
      "Warning in <TROOT::Append>: Replacing existing TH1: purity (Potential memory leak).\n",
      "Warning in <TROOT::Append>: Replacing existing TH1: stability (Potential memory leak).\n",
      "Warning in <TROOT::Append>: Replacing existing TH1: efficiency (Potential memory leak).\n"
     ]
    }
   ],
   "source": [
    "purity = ROOT.TH1D(\"purity\", \"Purity and stability study; #tau_{3}^{(2)}; \",  gen_bins.shape[0]-1, (gen_bins))\n",
    "stability = ROOT.TH1D(\"stability\", \"Purity and stability study; #tau_{3}^{(2)}; \",  gen_bins.shape[0]-1, (gen_bins))\n",
    "efficiency = ROOT.TH1D(\"efficiency\", \"Purity and stability study; #tau_{3}^{(2)}; \",  gen_bins.shape[0]-1, (gen_bins))"
   ]
  },
  {
   "cell_type": "markdown",
   "metadata": {},
   "source": [
    "### With python"
   ]
  },
  {
   "cell_type": "markdown",
   "metadata": {},
   "source": [
    "We define purity as the fraction of reconstructed events that are generated in the same bin, \n",
    "and stability as the fraction of generated events that are reconstructed in the same\n",
    "bin, divided by the overall reconstruction efficiency per bin. "
   ]
  },
  {
   "cell_type": "code",
   "execution_count": 96,
   "metadata": {},
   "outputs": [
    {
     "name": "stdout",
     "output_type": "stream",
     "text": [
      "[1 2 3 ... 2 1 5]\n",
      "Setting contents for P, S, eff. histos, in bin 1\n",
      "Setting contents for P, S, eff. histos, in bin 2\n",
      "Setting contents for P, S, eff. histos, in bin 3\n",
      "Setting contents for P, S, eff. histos, in bin 4\n",
      "Setting contents for P, S, eff. histos, in bin 5\n",
      "Setting contents for P, S, eff. histos, in bin 6\n",
      "Setting contents for P, S, eff. histos, in bin 7\n",
      "\n",
      "\n",
      "+++++++++Pure and Stable! :)+++++++++++++\n",
      "\n",
      "\n",
      "[ 4497. 11155.  5117.  1787.  1269.   136.    23.     0.] \n",
      "\n",
      "[ 5870. 17867. 11383.  4915.  2653.   368.    51.     0.] \n",
      "\n",
      "Purity array: [0.76609881 0.62433537 0.44953    0.36358087 0.47832642 0.36956522\n",
      " 0.45098039] \n",
      "\n",
      "\n",
      "[ 4497. 11155.  5117.  1787.  1269.   136.    23.     0.] \n",
      "\n",
      "[ 9244. 17660.  9523.  3963.  2299.   361.    57.     0.] \n",
      "\n",
      "Stability array: [0.48647772 0.63165345 0.53733067 0.45092102 0.55197912 0.3767313\n",
      " 0.40350877] \n",
      "\n",
      "\n",
      "+++++Efficiency+++++\n",
      "\n",
      "Efficiency array: [0.1043218  0.25877468 0.11870462 0.04145498 0.02943837 0.00315494\n",
      " 0.00053356]\n"
     ]
    },
    {
     "name": "stderr",
     "output_type": "stream",
     "text": [
      "/shome/kdatta/.local/lib/python2.7/site-packages/ipykernel_launcher.py:54: RuntimeWarning: invalid value encountered in divide\n",
      "/shome/kdatta/.local/lib/python2.7/site-packages/ipykernel_launcher.py:59: RuntimeWarning: invalid value encountered in divide\n"
     ]
    }
   ],
   "source": [
    "gen_arr = MC_sig_gen_tau3_2[:]\n",
    "#print gen_arr[0:20]\n",
    "#print gen_bins[0:-1]\n",
    "gen_bin_index = np.digitize(gen_arr, gen_bins)\n",
    "print gen_bin_index\n",
    "#print gen_bin_index[0:20]\n",
    "\n",
    "det_arr = MC_sig_reco_tau3_2[0:]\n",
    "#print det_arr[0:20]\n",
    "#print det_bins[0:-1]\n",
    "det_bin_index = np.digitize(det_arr, gen_bins)\n",
    "det_bin_index2 = np.digitize(det_arr, det_bins)\n",
    "#print det_bin_index[0:20]\n",
    "\n",
    "ndet_pergenbin = [0.] #N_recgen array = number of events generated in and reconstructed in gen bin i\n",
    "ndet_genanywhere = [0.] # number of events reconstructed in gen _bin i but generated anywhere\n",
    "ngen_detanywhere = [0.] # number of events generated in gen _bin i but reconstructed anywhere\n",
    "\n",
    "### purity = # of evts generated and reconstructed in gen bin i / # of evts reconstructed in gen bin i but generated anywhere\n",
    "### stability = # of evts generated and reconstructed in gen bin / # of evts generated in gen bin i but reconstructed anywhere\n",
    "for i in xrange(0, gen_bins.shape[0]-1):\n",
    "    \n",
    "    #print i+1\n",
    "    \n",
    "    for k in xrange(0, gen_bin_index.shape[0]):\n",
    "        \n",
    "        if gen_bin_index[k]==i+1: \n",
    "            ngen_detanywhere[i]+=1 #stability denominator\n",
    "            if det_bin_index[k]==i+1: ndet_pergenbin[i]+=1\n",
    "            \n",
    "    ngen_detanywhere.append(0.)\n",
    "    ndet_pergenbin.append(0.)\n",
    "    \n",
    "    for k in xrange(0, det_bin_index.shape[0]):\n",
    "        \n",
    "        if det_bin_index[k]==i+1: \n",
    "            ndet_genanywhere[i]+=1 #purity denominator\n",
    "            \n",
    "    ndet_genanywhere.append(0.)\n",
    "    \n",
    "    print \"Setting contents for P, S, eff. histos, in bin %d\"%(i+1)\n",
    "    purity.SetBinContent(i+1, ndet_pergenbin[i]/ndet_genanywhere[i])\n",
    "    stability.SetBinContent(i+1, ndet_pergenbin[i]/ngen_detanywhere[i])\n",
    "    efficiency.SetBinContent(i+1, ndet_pergenbin[i]/43107.)\n",
    "    \n",
    "    \n",
    "ndet_pergenbin = np.array(ndet_pergenbin)\n",
    "ndet_genanywhere = np.array(ndet_genanywhere)\n",
    "ngen_detanywhere = np.array(ngen_detanywhere)\n",
    "\n",
    "print \"\\n\\n+++++++++Pure and Stable! :)+++++++++++++\\n\\n\"\n",
    "print ndet_pergenbin,\"\\n\"\n",
    "print ndet_genanywhere,\"\\n\"\n",
    "purity_arr = ndet_pergenbin/ndet_genanywhere\n",
    "print \"Purity array:\", purity_arr[:-1], \"\\n\\n\"\n",
    "\n",
    "print ndet_pergenbin,\"\\n\"\n",
    "print ngen_detanywhere,\"\\n\"\n",
    "stability_arr = ndet_pergenbin/ngen_detanywhere\n",
    "print \"Stability array:\", stability_arr[:-1], \"\\n\\n\"\n",
    "\n",
    "print \"+++++Efficiency+++++\\n\"\n",
    "efficiency_arr = ndet_pergenbin/np.sum(ngen_detanywhere)\n",
    "print \"Efficiency array:\", efficiency_arr[:-1]"
   ]
  },
  {
   "cell_type": "code",
   "execution_count": 97,
   "metadata": {},
   "outputs": [],
   "source": [
    "ROOT.gStyle.SetOptStat(0)"
   ]
  },
  {
   "cell_type": "code",
   "execution_count": 98,
   "metadata": {},
   "outputs": [
    {
     "name": "stderr",
     "output_type": "stream",
     "text": [
      "Warning in <TCanvas::Constructor>: Deleting canvas with same name: pse_ttbar\n"
     ]
    },
    {
     "data": {
      "image/png": "[encoded data removed]",
      "text/plain": [
       "<IPython.core.display.Image object>"
      ]
     },
     "metadata": {},
     "output_type": "display_data"
    }
   ],
   "source": [
    "cpse = ROOT.TCanvas(\"pse_ttbar\", \"pse_ttbar\")\n",
    "\n",
    "purity.SetLineColor(ROOT.kRed)\n",
    "purity.SetLineWidth(2)\n",
    "purity.SetLineStyle(2)\n",
    "purity.SetMinimum(0.)\n",
    "purity.SetMaximum(1.05)\n",
    "\n",
    "stability.SetLineColor(9)\n",
    "stability.SetLineWidth(2)\n",
    "stability.SetLineStyle(1)\n",
    "stability.SetMinimum(0.)\n",
    "stability.SetMaximum(1.05)\n",
    "stability.SetTitle(\"t#bar{t} 2016, W-selection \")\n",
    "stability.Draw(\"hist\")\n",
    "purity.Draw(\"hist same\")\n",
    "#efficiency.Draw(\"same\")\n",
    "\n",
    "leg0 = ROOT.TLegend(0.6, 0.7, 0.8, 0.8)\n",
    "leg0.AddEntry( stability, \"Stability \")\n",
    "leg0.AddEntry( purity, \"Purity \")\n",
    "#leg0.AddEntry( histMgenData, \"'Truth' (MC: MG5+Pythia8)\", 'p')\n",
    "leg0.SetLineColor(0)\n",
    "leg0.SetBorderSize(0)\n",
    "leg0.SetFillStyle(0)\n",
    "\n",
    "#hs.Add(histMdetMC, \"E\")\n",
    "#hs.Add(histMdetData, \"E\")\n",
    "#hs.Draw(\"nostack\")\n",
    "leg0.Draw()\n",
    "\n",
    "ROOT.gStyle.SetOptStat(0)\n",
    "cpse.Draw()"
   ]
  },
  {
   "cell_type": "code",
   "execution_count": 99,
   "metadata": {
    "scrolled": true
   },
   "outputs": [
    {
     "data": {
      "text/plain": [
       "(array([[4.4970e+03, 1.3080e+03, 0.0000e+00, 5.7000e+01, 0.0000e+00,\n",
       "         8.0000e+00, 0.0000e+00, 0.0000e+00, 0.0000e+00, 0.0000e+00],\n",
       "        [4.3970e+03, 1.1155e+04, 0.0000e+00, 2.0480e+03, 0.0000e+00,\n",
       "         2.2100e+02, 4.4000e+01, 0.0000e+00, 2.0000e+00, 0.0000e+00],\n",
       "        [0.0000e+00, 0.0000e+00, 0.0000e+00, 0.0000e+00, 0.0000e+00,\n",
       "         0.0000e+00, 0.0000e+00, 0.0000e+00, 0.0000e+00, 0.0000e+00],\n",
       "        [3.1100e+02, 4.6270e+03, 0.0000e+00, 5.1170e+03, 0.0000e+00,\n",
       "         1.1130e+03, 2.0500e+02, 0.0000e+00, 1.0000e+01, 0.0000e+00],\n",
       "        [0.0000e+00, 0.0000e+00, 0.0000e+00, 0.0000e+00, 0.0000e+00,\n",
       "         0.0000e+00, 0.0000e+00, 0.0000e+00, 0.0000e+00, 0.0000e+00],\n",
       "        [3.3000e+01, 5.0500e+02, 0.0000e+00, 1.9530e+03, 0.0000e+00,\n",
       "         1.7870e+03, 6.1300e+02, 0.0000e+00, 2.3000e+01, 1.0000e+00],\n",
       "        [6.0000e+00, 6.2000e+01, 0.0000e+00, 3.4000e+02, 0.0000e+00,\n",
       "         8.0200e+02, 1.2690e+03, 0.0000e+00, 1.6800e+02, 6.0000e+00],\n",
       "        [0.0000e+00, 0.0000e+00, 0.0000e+00, 0.0000e+00, 0.0000e+00,\n",
       "         0.0000e+00, 0.0000e+00, 0.0000e+00, 0.0000e+00, 0.0000e+00],\n",
       "        [0.0000e+00, 3.0000e+00, 0.0000e+00, 7.0000e+00, 0.0000e+00,\n",
       "         3.2000e+01, 1.6300e+02, 0.0000e+00, 1.3600e+02, 2.7000e+01],\n",
       "        [0.0000e+00, 0.0000e+00, 0.0000e+00, 1.0000e+00, 0.0000e+00,\n",
       "         0.0000e+00, 5.0000e+00, 0.0000e+00, 2.2000e+01, 2.3000e+01]]),\n",
       " array([1. , 1.6, 2.2, 2.8, 3.4, 4. , 4.6, 5.2, 5.8, 6.4, 7. ]),\n",
       " array([1. , 1.6, 2.2, 2.8, 3.4, 4. , 4.6, 5.2, 5.8, 6.4, 7. ]),\n",
       " <matplotlib.image.AxesImage at 0x7ff1934d8510>)"
      ]
     },
     "execution_count": 99,
     "metadata": {},
     "output_type": "execute_result"
    },
    {
     "data": {
      "image/png": "[encoded data removed]",
      "text/plain": [
       "<Figure size 432x288 with 1 Axes>"
      ]
     },
     "metadata": {
      "needs_background": "light"
     },
     "output_type": "display_data"
    }
   ],
   "source": [
    "plt.hist2d(x=det_bin_index, y=gen_bin_index)"
   ]
  },
  {
   "cell_type": "code",
   "execution_count": 100,
   "metadata": {
    "scrolled": true
   },
   "outputs": [
    {
     "data": {
      "image/png": "[encoded data removed]",
      "text/plain": [
       "<Figure size 432x288 with 1 Axes>"
      ]
     },
     "metadata": {
      "needs_background": "light"
     },
     "output_type": "display_data"
    },
    {
     "data": {
      "image/png": "[encoded data removed]",
      "text/plain": [
       "<Figure size 432x288 with 1 Axes>"
      ]
     },
     "metadata": {
      "needs_background": "light"
     },
     "output_type": "display_data"
    }
   ],
   "source": [
    "plt.hist2d(x=det_bin_index2, y=gen_bin_index)\n",
    "plt.show()\n",
    "plt.hist2d(x=MC_sig_reco_tau3_2, y=MC_sig_gen_tau3_2, bins=[det_bins, gen_bins])\n",
    "plt.show()"
   ]
  },
  {
   "cell_type": "code",
   "execution_count": 101,
   "metadata": {
    "scrolled": true
   },
   "outputs": [
    {
     "data": {
      "image/png": "[encoded data removed]",
      "text/plain": [
       "<Figure size 432x288 with 1 Axes>"
      ]
     },
     "metadata": {
      "needs_background": "light"
     },
     "output_type": "display_data"
    },
    {
     "data": {
      "image/png": "[encoded data removed]",
      "text/plain": [
       "<Figure size 432x288 with 1 Axes>"
      ]
     },
     "metadata": {
      "needs_background": "light"
     },
     "output_type": "display_data"
    }
   ],
   "source": [
    "plt.hist(gen_bin_index, histtype='step', color='r')\n",
    "plt.hist(det_bin_index, histtype='step', color='b')\n",
    "plt.show()\n",
    "\n",
    "plt.hist(MC_sig_gen_tau3_2, histtype='step', color='r', bins=gen_bins)\n",
    "plt.hist(MC_sig_reco_tau3_2, histtype='step', color='b', bins=gen_bins)\n",
    "plt.show()"
   ]
  },
  {
   "cell_type": "markdown",
   "metadata": {},
   "source": [
    "### with root"
   ]
  },
  {
   "cell_type": "code",
   "execution_count": 102,
   "metadata": {},
   "outputs": [
    {
     "name": "stdout",
     "output_type": "stream",
     "text": [
      "Adding content (equal to 0.0) of bin i=0, j=1 to Diagonal 1\n",
      "Adding content (equal to 0.0) of bin i=0, j=2 to Diagonal 1\n",
      "Filling row index k=0 with elements (i,j)=(0,2)\n",
      "Filling row index k=0 with elements (i,j)=(0,3)\n",
      "Filling row index k=1 with elements (i,j)=(0,4)\n",
      "Filling row index k=1 with elements (i,j)=(0,5)\n",
      "Filling row index k=2 with elements (i,j)=(0,6)\n",
      "Filling row index k=2 with elements (i,j)=(0,7)\n",
      "Filling row index k=3 with elements (i,j)=(0,8)\n",
      "Filling row index k=3 with elements (i,j)=(0,9)\n",
      "Filling row index k=4 with elements (i,j)=(0,10)\n",
      "Filling row index k=4 with elements (i,j)=(0,11)\n",
      "Filling row index k=5 with elements (i,j)=(0,12)\n",
      "Filling row index k=5 with elements (i,j)=(0,13)\n",
      "Filling row index k=6 with elements (i,j)=(0,14)\n",
      "Filling row index k=6 with elements (i,j)=(0,15)\n",
      "0.0 0.0\n",
      "Filling row index k=0 with elements (i,j)=(1,2)\n",
      "Filling row index k=0 with elements (i,j)=(1,3)\n",
      "Adding content (equal to 0.0) of bin i=1, j=3 to Diagonal 3\n",
      "Adding content (equal to 0.0) of bin i=1, j=4 to Diagonal 3\n",
      "Filling row index k=1 with elements (i,j)=(1,4)\n",
      "Filling row index k=1 with elements (i,j)=(1,5)\n",
      "Filling row index k=2 with elements (i,j)=(1,6)\n",
      "Filling row index k=2 with elements (i,j)=(1,7)\n",
      "Filling row index k=3 with elements (i,j)=(1,8)\n",
      "Filling row index k=3 with elements (i,j)=(1,9)\n",
      "Filling row index k=4 with elements (i,j)=(1,10)\n",
      "Filling row index k=4 with elements (i,j)=(1,11)\n",
      "Filling row index k=5 with elements (i,j)=(1,12)\n",
      "Filling row index k=5 with elements (i,j)=(1,13)\n",
      "Filling row index k=6 with elements (i,j)=(1,14)\n",
      "Filling row index k=6 with elements (i,j)=(1,15)\n",
      "208.420559367 0.0\n",
      "Filling row index k=0 with elements (i,j)=(2,2)\n",
      "Filling row index k=0 with elements (i,j)=(2,3)\n",
      "Filling row index k=1 with elements (i,j)=(2,4)\n",
      "Filling row index k=1 with elements (i,j)=(2,5)\n",
      "Adding content (equal to 0.0) of bin i=2, j=5 to Diagonal 5\n",
      "Adding content (equal to 0.0) of bin i=2, j=6 to Diagonal 5\n",
      "Filling row index k=2 with elements (i,j)=(2,6)\n",
      "Filling row index k=2 with elements (i,j)=(2,7)\n",
      "Filling row index k=3 with elements (i,j)=(2,8)\n",
      "Filling row index k=3 with elements (i,j)=(2,9)\n",
      "Filling row index k=4 with elements (i,j)=(2,10)\n",
      "Filling row index k=4 with elements (i,j)=(2,11)\n",
      "Filling row index k=5 with elements (i,j)=(2,12)\n",
      "Filling row index k=5 with elements (i,j)=(2,13)\n",
      "Filling row index k=6 with elements (i,j)=(2,14)\n",
      "Filling row index k=6 with elements (i,j)=(2,15)\n",
      "1685.2170352 0.0\n",
      "Filling row index k=0 with elements (i,j)=(3,2)\n",
      "Filling row index k=0 with elements (i,j)=(3,3)\n",
      "Filling row index k=1 with elements (i,j)=(3,4)\n",
      "Filling row index k=1 with elements (i,j)=(3,5)\n",
      "Filling row index k=2 with elements (i,j)=(3,6)\n",
      "Filling row index k=2 with elements (i,j)=(3,7)\n",
      "Adding content (equal to 0.0) of bin i=3, j=7 to Diagonal 7\n",
      "Adding content (equal to 0.0) of bin i=3, j=8 to Diagonal 7\n",
      "Filling row index k=3 with elements (i,j)=(3,8)\n",
      "Filling row index k=3 with elements (i,j)=(3,9)\n",
      "Filling row index k=4 with elements (i,j)=(3,10)\n",
      "Filling row index k=4 with elements (i,j)=(3,11)\n",
      "Filling row index k=5 with elements (i,j)=(3,12)\n",
      "Filling row index k=5 with elements (i,j)=(3,13)\n",
      "Filling row index k=6 with elements (i,j)=(3,14)\n",
      "Filling row index k=6 with elements (i,j)=(3,15)\n",
      "2887.73560238 0.0\n",
      "Filling row index k=0 with elements (i,j)=(4,2)\n",
      "Filling row index k=0 with elements (i,j)=(4,3)\n",
      "Filling row index k=1 with elements (i,j)=(4,4)\n",
      "Filling row index k=1 with elements (i,j)=(4,5)\n",
      "Filling row index k=2 with elements (i,j)=(4,6)\n",
      "Filling row index k=2 with elements (i,j)=(4,7)\n",
      "Filling row index k=3 with elements (i,j)=(4,8)\n",
      "Filling row index k=3 with elements (i,j)=(4,9)\n",
      "Adding content (equal to 0.0) of bin i=4, j=9 to Diagonal 9\n",
      "Adding content (equal to 0.0) of bin i=4, j=10 to Diagonal 9\n",
      "Filling row index k=4 with elements (i,j)=(4,10)\n",
      "Filling row index k=4 with elements (i,j)=(4,11)\n",
      "Filling row index k=5 with elements (i,j)=(4,12)\n",
      "Filling row index k=5 with elements (i,j)=(4,13)\n",
      "Filling row index k=6 with elements (i,j)=(4,14)\n",
      "Filling row index k=6 with elements (i,j)=(4,15)\n",
      "2848.88002541 0.0\n",
      "Filling row index k=0 with elements (i,j)=(5,2)\n",
      "Filling row index k=0 with elements (i,j)=(5,3)\n",
      "Filling row index k=1 with elements (i,j)=(5,4)\n",
      "Filling row index k=1 with elements (i,j)=(5,5)\n",
      "Filling row index k=2 with elements (i,j)=(5,6)\n",
      "Filling row index k=2 with elements (i,j)=(5,7)\n",
      "Filling row index k=3 with elements (i,j)=(5,8)\n",
      "Filling row index k=3 with elements (i,j)=(5,9)\n",
      "Filling row index k=4 with elements (i,j)=(5,10)\n",
      "Filling row index k=4 with elements (i,j)=(5,11)\n",
      "Adding content (equal to 0.0) of bin i=5, j=11 to Diagonal 11\n",
      "Adding content (equal to 0.0) of bin i=5, j=12 to Diagonal 11\n",
      "Filling row index k=5 with elements (i,j)=(5,12)\n",
      "Filling row index k=5 with elements (i,j)=(5,13)\n",
      "Filling row index k=6 with elements (i,j)=(5,14)\n",
      "Filling row index k=6 with elements (i,j)=(5,15)\n",
      "2191.49498388 0.0\n",
      "Filling row index k=0 with elements (i,j)=(6,2)\n",
      "Filling row index k=0 with elements (i,j)=(6,3)\n",
      "Filling row index k=1 with elements (i,j)=(6,4)\n",
      "Filling row index k=1 with elements (i,j)=(6,5)\n",
      "Filling row index k=2 with elements (i,j)=(6,6)\n",
      "Filling row index k=2 with elements (i,j)=(6,7)\n",
      "Filling row index k=3 with elements (i,j)=(6,8)\n",
      "Filling row index k=3 with elements (i,j)=(6,9)\n",
      "Filling row index k=4 with elements (i,j)=(6,10)\n",
      "Filling row index k=4 with elements (i,j)=(6,11)\n",
      "Filling row index k=5 with elements (i,j)=(6,12)\n",
      "Filling row index k=5 with elements (i,j)=(6,13)\n",
      "Adding content (equal to 0.0) of bin i=6, j=13 to Diagonal 13\n",
      "Adding content (equal to 0.0) of bin i=6, j=14 to Diagonal 13\n",
      "Filling row index k=6 with elements (i,j)=(6,14)\n",
      "Filling row index k=6 with elements (i,j)=(6,15)\n",
      "1494.28255834 0.0\n",
      "Filling row index k=0 with elements (i,j)=(7,2)\n",
      "Filling row index k=0 with elements (i,j)=(7,3)\n",
      "Filling row index k=1 with elements (i,j)=(7,4)\n",
      "Filling row index k=1 with elements (i,j)=(7,5)\n",
      "Filling row index k=2 with elements (i,j)=(7,6)\n",
      "Filling row index k=2 with elements (i,j)=(7,7)\n",
      "Filling row index k=3 with elements (i,j)=(7,8)\n",
      "Filling row index k=3 with elements (i,j)=(7,9)\n",
      "Filling row index k=4 with elements (i,j)=(7,10)\n",
      "Filling row index k=4 with elements (i,j)=(7,11)\n",
      "Filling row index k=5 with elements (i,j)=(7,12)\n",
      "Filling row index k=5 with elements (i,j)=(7,13)\n",
      "Filling row index k=6 with elements (i,j)=(7,14)\n",
      "Filling row index k=6 with elements (i,j)=(7,15)\n",
      "950.689129518 0.0\n"
     ]
    }
   ],
   "source": [
    "ps_bindex = 0 \n",
    "\n",
    "l = 1\n",
    "\n",
    "tot_col = [] #np.array([0. for i in xrange(0, purity.GetNbinsX()+1)]) #\n",
    "#tot_col_err = [] #0 \n",
    "\n",
    "tot_row = np.array([0. for i in xrange(1, purity.GetNbinsX()+1)])\n",
    "#tot_row_err = np.zeros_like([0. for i in xrange(1, purity.GetNbinsX()+1)])\n",
    "\n",
    "diag = [] #np.zeros_like([0. for i in xrange(1, purity.GetNbinsX()+1)])\n",
    "#diag_error = [] # np.zeros_like([0. for i in xrange(1, purity.GetNbinsX()+1)])\n",
    "\n",
    "for i in range(0, response.GetNbinsY()+1):    \n",
    "    \n",
    "    k = 0\n",
    "    col = 0.\n",
    "    d_jj = 0.\n",
    "    for j in range(1, response.GetNbinsX()+1):\n",
    "    \n",
    "        r_ij = response.GetBinContent(i,j)\n",
    "        #r_ij_err = response.GetBinError(i,j)\n",
    "        #print (i,j), r_ij\n",
    "        \n",
    "        if (j)%2==0 and j < (response.GetNbinsX()+1):\n",
    "            #since 2 reco bins per 1 gen bin\n",
    "            print \"Filling row index k={} with elements (i,j)=({},{})\".format(k,i,j)\n",
    "            tot_row[k] += r_ij\n",
    "            print \"Filling row index k={} with elements (i,j)=({},{})\".format(k,i,j+1)\n",
    "            tot_row[k] +=  response.GetBinContent(i,j+1)\n",
    "            \n",
    "            #tot_col_err[k] += response.GetBinError(i,j)\n",
    "            #tot_col_err[k] +=  response.GetBinError(i,j+1)\n",
    "            \n",
    "            k +=1\n",
    "        \n",
    "        col += r_ij\n",
    "        \n",
    "        if l==j:\n",
    "            print \"Adding content (equal to {}) of bin i={}, j={} to Diagonal\".format(r_ij, i,j), l\n",
    "            d_jj += r_ij\n",
    " \n",
    "            print \"Adding content (equal to {}) of bin i={}, j={} to Diagonal\".format( response.GetBinContent(i,j+1), i,j+1), l\n",
    "            d_jj += response.GetBinContent(i,j+1)\n",
    "\n",
    "            diag.append(d_jj)\n",
    "    l = l+2\n",
    "    print col, d_jj"
   ]
  },
  {
   "cell_type": "code",
   "execution_count": 103,
   "metadata": {},
   "outputs": [
    {
     "name": "stdout",
     "output_type": "stream",
     "text": [
      "[0.0, 0.0, 0.0, 0.0, 0.0, 0.0, 0.0]\n",
      "[8.40157910e+03 8.94728218e+02 6.47923250e+00 0.00000000e+00\n",
      " 0.00000000e+00 0.00000000e+00 0.00000000e+00]\n",
      "[ 0.  0.  0. nan nan nan nan]\n"
     ]
    },
    {
     "name": "stderr",
     "output_type": "stream",
     "text": [
      "/shome/kdatta/.local/lib/python2.7/site-packages/ipykernel_launcher.py:3: RuntimeWarning: invalid value encountered in divide\n",
      "  This is separate from the ipykernel package so we can avoid doing imports until\n"
     ]
    }
   ],
   "source": [
    "print diag\n",
    "print tot_row\n",
    "print diag/tot_row"
   ]
  },
  {
   "cell_type": "code",
   "execution_count": 104,
   "metadata": {},
   "outputs": [
    {
     "ename": "SyntaxError",
     "evalue": "invalid syntax (<ipython-input-104-dc72c7765764>, line 9)",
     "output_type": "error",
     "traceback": [
      "\u001b[0;36m  File \u001b[0;32m\"<ipython-input-104-dc72c7765764>\"\u001b[0;36m, line \u001b[0;32m9\u001b[0m\n\u001b[0;31m    if i==0 and j==0: purity_reco_binning[0] = dval/\u001b[0m\n\u001b[0m                                                    ^\u001b[0m\n\u001b[0;31mSyntaxError\u001b[0m\u001b[0;31m:\u001b[0m invalid syntax\n"
     ]
    }
   ],
   "source": [
    "purity_reco_binning = [0] \n",
    "diag = 0\n",
    "for i in range(1, response.GetNbinsX()+1):\n",
    "    for j in range(1, response.GetNbinsY()+1):\n",
    "        dval = response.GetBinContent(i,j)\n",
    "        if i==j:\n",
    "            diag = diag+dval\n",
    "            print i, j, \n",
    "            if i==0 and j==0: purity_reco_binning[0] = dval/\n",
    "            else: purity_reco_binning.append()\n",
    "        j = j+2"
   ]
  },
  {
   "cell_type": "code",
   "execution_count": null,
   "metadata": {},
   "outputs": [],
   "source": []
  },
  {
   "cell_type": "markdown",
   "metadata": {},
   "source": [
    "### Unfolding "
   ]
  },
  {
   "cell_type": "code",
   "execution_count": 105,
   "metadata": {},
   "outputs": [
    {
     "name": "stdout",
     "output_type": "stream",
     "text": [
      "getting tunfolder:\n"
     ]
    },
    {
     "name": "stderr",
     "output_type": "stream",
     "text": [
      "Info in <TUnfold::SetConstraint>: fConstraint=0\n",
      "Info in <TUnfold::TUnfold>: underflow and overflow bin do not depend on the input data\n",
      "Info in <TUnfold::TUnfold>: 14 input bins and 7 output bins\n",
      "Info in <TUnfoldDensity::TUnfold>: *NOT* unfolding bin #0 (yaxis:#tau_{3}^{(2)}(gen_sig)[ufl])\n",
      "Info in <TUnfoldDensity::TUnfold>: *NOT* unfolding bin #8 (yaxis:#tau_{3}^{(2)}(gen_sig)[ofl])\n",
      "Info in <TUnfoldDensity::RegularizeOneDistribution>: regularizing yaxis regMode=3 densityMode=1 axisSteering=*[UOB]\n",
      "Info in <TUnfold::SetConstraint>: fConstraint=0\n",
      "Info in <TUnfold::TUnfold>: underflow and overflow bin do not depend on the input data\n",
      "Info in <TUnfold::TUnfold>: 14 input bins and 7 output bins\n",
      "Info in <TUnfoldDensity::TUnfold>: *NOT* unfolding bin #0 (yaxis:#tau_{3}^{(2)}(gen_sig)[ufl])\n",
      "Info in <TUnfoldDensity::TUnfold>: *NOT* unfolding bin #8 (yaxis:#tau_{3}^{(2)}(gen_sig)[ofl])\n",
      "Info in <TUnfoldDensity::RegularizeOneDistribution>: regularizing yaxis regMode=3 densityMode=1 axisSteering=*[UOB]\n"
     ]
    }
   ],
   "source": [
    "print 'getting tunfolder:'\n",
    "\n",
    "orientation = ROOT.TUnfoldDensity.kHistMapOutputHoriz\n",
    "regMode = ROOT.TUnfoldDensity.kRegModeCurvature\n",
    "con = ROOT.TUnfoldDensity.kEConstraintNone\n",
    "mode =  ROOT.TUnfoldDensity.kDensityModeBinWidth\n",
    "errmode = ROOT.TUnfoldSys.kSysErrModeMatrix\n",
    "#tunfolder_MC = ROOT.TUnfoldDensity(response, orientation, regMode, con, mode, \"signal\", \"*[UOb]\")\n",
    "#tunfolder_data = ROOT.TUnfoldDensity(response, orientation, regMode, con, mode, \"signal\", \"*[UOb]\")\n",
    "\n",
    "tunfolder_MC = ROOT.TUnfoldDensity(response,ROOT.TUnfold.kHistMapOutputVert,ROOT.TUnfold.kRegModeCurvature, ROOT.TUnfold.kEConstraintNone, ROOT.TUnfoldDensity.kDensityModeBinWidth)\n",
    "tunfolder_data = ROOT.TUnfoldDensity(response,ROOT.TUnfold.kHistMapOutputVert,ROOT.TUnfold.kRegModeCurvature, ROOT.TUnfold.kEConstraintNone, ROOT.TUnfoldDensity.kDensityModeBinWidth)"
   ]
  },
  {
   "cell_type": "markdown",
   "metadata": {
    "collapsed": true
   },
   "source": [
    "Set the input, a 1D reconstructed histogram from either MC_sig (closure) or Data (measurement) , binned in the detector level binning. Subtract background contributions from data, using reco-MC bkg."
   ]
  },
  {
   "cell_type": "code",
   "execution_count": 106,
   "metadata": {},
   "outputs": [
    {
     "name": "stdout",
     "output_type": "stream",
     "text": [
      "setting reco input\n"
     ]
    }
   ],
   "source": [
    "print 'setting reco input'\n",
    "tunfolder_data.SetInput( histMdetData )\n",
    "tunfolder_data.SubtractBackground( histMdetMC_bkg, \"bkg_all\", 1. )"
   ]
  },
  {
   "cell_type": "code",
   "execution_count": 107,
   "metadata": {},
   "outputs": [
    {
     "name": "stdout",
     "output_type": "stream",
     "text": [
      "setting reco MC input\n"
     ]
    },
    {
     "data": {
      "text/plain": [
       "0"
      ]
     },
     "execution_count": 107,
     "metadata": {},
     "output_type": "execute_result"
    }
   ],
   "source": [
    "print 'setting reco MC input'\n",
    "tunfolder_MC.SetInput( histMdetMC_sig )\n",
    "#tunfolder_MC.SubtractBackground( histMdetMC_bkg, \"bkg_all\", 1. )"
   ]
  },
  {
   "cell_type": "raw",
   "metadata": {},
   "source": [
    "##### Unfold nScan times with values for the regularization parameter between tauMin and tauMax using the empty TSplines to store the results."
   ]
  },
  {
   "cell_type": "raw",
   "metadata": {
    "scrolled": true
   },
   "source": [
    "print 'regularizing'\n",
    "nScan=5\n",
    "tauMin=-5.0\n",
    "tauMax=3.0\n",
    "iBest=0\n",
    "\n",
    "logTauX = ROOT.MakeNullPointer(ROOT.TSpline)\n",
    "logTauY = ROOT.MakeNullPointer(ROOT.TSpline)\n",
    "lCurve = ROOT.MakeNullPointer(ROOT.TGraph)\n",
    "\n",
    "print 'doing the unfolding'\n",
    "tunfolder_data.ScanLcurve(nScan,tauMin,tauMax,lCurve,logTauX,logTauY);\n",
    "print 'getting the results'\n",
    "unfolded_data = tunfolder_data.GetOutput(\"unfolded\")"
   ]
  },
  {
   "cell_type": "code",
   "execution_count": 108,
   "metadata": {},
   "outputs": [
    {
     "name": "stderr",
     "output_type": "stream",
     "text": [
      "Warning in <TROOT::Append>: Replacing existing TH1: unfolded_data (Potential memory leak).\n",
      "Warning in <TROOT::Append>: Replacing existing TH1: unfolded_MC (Potential memory leak).\n"
     ]
    }
   ],
   "source": [
    "unfolded_data = tunfolder_data.DoUnfold(0.)\n",
    "unfolded_data = tunfolder_data.GetOutput(\"unfolded_data\")\n",
    "\n",
    "unfolded_MC = tunfolder_MC.DoUnfold(0.)\n",
    "unfolded_MC = tunfolder_MC.GetOutput(\"unfolded_MC\")"
   ]
  },
  {
   "cell_type": "code",
   "execution_count": 109,
   "metadata": {},
   "outputs": [],
   "source": [
    "ROOT.gStyle.SetOptStat(0)"
   ]
  },
  {
   "cell_type": "code",
   "execution_count": 110,
   "metadata": {
    "scrolled": false
   },
   "outputs": [
    {
     "name": "stderr",
     "output_type": "stream",
     "text": [
      "Warning in <TCanvas::Constructor>: Deleting canvas with same name: c5\n",
      "Info in <TCanvas::Print>: png file tau3_2_unfolding_Escheme_bkgsub.png has been created\n",
      "Info in <TCanvas::Print>: pdf file tau3_2_unfolding_Escheme_bkgsub.pdf has been created\n"
     ]
    },
    {
     "data": {
      "image/png": "[encoded data removed]",
      "text/plain": [
       "<IPython.core.display.Image object>"
      ]
     },
     "metadata": {},
     "output_type": "display_data"
    }
   ],
   "source": [
    "c5 = ROOT.TCanvas('c5', 'c5')\n",
    "\n",
    "unfolded_MC.SetMarkerStyle(2)\n",
    "unfolded_MC.SetMarkerColor(7)\n",
    "unfolded_MC.SetLineColor(7)\n",
    "unfolded_MC.SetLineWidth(1)\n",
    "\n",
    "unfolded_data.SetMarkerStyle(22)\n",
    "unfolded_data.SetMarkerColor(1)\n",
    "unfolded_data.SetLineColor(1)\n",
    "unfolded_data.SetLineWidth(2)\n",
    "\n",
    "\n",
    "#unfolded_MC.SetFillColor(0)\n",
    "#histMgenData.SetMarkerStyle(4)\n",
    "#histMgenData.SetMarkerColor(2)\n",
    "#histMgenData.SetOption(\"E\")\n",
    "#histMgenData.SetLineColor(2)\n",
    "histMgenMC_sig.SetMarkerStyle(5)\n",
    "histMgenMC_sig.SetMarkerColor(2)\n",
    "histMgenMC_sig.SetLineColor(2)\n",
    "\n",
    "\n",
    "\n",
    "hs = ROOT.THStack(\"#tau_{3}^{(2)}\", \"#tau_{3}^{(2)}\")\n",
    "#hs.Add\n",
    "#hs.SetMinimum(0)\n",
    "hs.SetMaximum(9500)\n",
    "#hs.Add( histMgenData, \"E HIST\")\n",
    "hs.Add( unfolded_MC, \"E HIST\")\n",
    "hs.Add( unfolded_data, \"E \")\n",
    "hs.Add(histMgenMC_sig, \"E HIST\")\n",
    "#hs.Add(histMdetMC_sig, \"E\")\n",
    "#hs.Add(histMdetData, \"E\")\n",
    "\n",
    "leg0 = ROOT.TLegend(0.02, 0.72, 0.91, 0.85)\n",
    "leg0.AddEntry( unfolded_data, \"Data (2016)\", 'p')\n",
    "leg0.AddEntry( histMgenMC_sig, \"Generator-level (ttbar MC: Powheg+Pythia8)\", 'p')\n",
    "#leg0.AddEntry( histMgenData, \"'Truth' (MC: MG5+Pythia8)\", 'p')\n",
    "leg0.AddEntry( unfolded_MC, \"Unfolding_self-closure (ttbar MC: Powheg+Pythia8)\", 'p')\n",
    "leg0.SetLineColor(0)\n",
    "leg0.SetBorderSize(0)\n",
    "leg0.SetFillStyle(0)\n",
    "\n",
    "#hs.Add(histMdetMC, \"E\")\n",
    "#hs.Add(histMdetData, \"E\")\n",
    "hs.Draw(\"nostack\")\n",
    "leg0.Draw()\n",
    "\n",
    "c5.Draw()\n",
    "c5.SaveAs(\"tau3_2_unfolding_Escheme_bkgsub.png\")\n",
    "c5.SaveAs(\"tau3_2_unfolding_Escheme_bkgsub.pdf\")"
   ]
  },
  {
   "cell_type": "code",
   "execution_count": 111,
   "metadata": {},
   "outputs": [
    {
     "name": "stdout",
     "output_type": "stream",
     "text": [
      "Bin Content \tBin error \tBin Center \tBin Low-Edge \tRatio to Truth for bin \tRatio Error\n",
      "2969.5105 \t57.3425 \t0.005 \t0.0 1.0000 0.0222\n",
      "5674.6449 \t109.3061 \t0.015 \t0.01 1.0000 0.0208\n",
      "3086.6421 \t122.9660 \t0.025 \t0.02 1.0000 0.0412\n",
      "1288.6863 \t104.4149 \t0.035 \t0.03 1.0000 0.0827\n",
      "747.9651 \t71.2641 \t0.05 \t0.04 1.0000 0.0977\n",
      "115.7369 \t34.4604 \t0.07 \t0.06 1.0000 0.3028\n",
      "17.9518 \t9.1731 \t0.105 \t0.08 1.0000 0.5293\n"
     ]
    }
   ],
   "source": [
    "ratio = ROOT.TH1D(\"\",\"; #tau_{3}^{(2)}\",  gen_bins.shape[0]-1, (gen_bins))\n",
    "ratio.GetXaxis().SetTitle(\"#tau_{3}^{(2)}\");\n",
    "#ratio.GetYaxis().SetTitleOffset(0.);\n",
    "ratio.GetYaxis().CenterTitle(ROOT.kTRUE);\n",
    "ratio.GetXaxis().CenterTitle(ROOT.kTRUE);\n",
    "ratio.GetYaxis().SetRangeUser(0.7,1.3)\n",
    "ratio.Add(unfolded_MC)\n",
    "ratio.GetYaxis().SetTitle(\"#frac{Unfolded Powheg}{Gen-level Powheg}\")\n",
    "ratio.Sumw2()\n",
    "ratio.SetStats(0)\n",
    "ratio.Divide(histMgenMC_sig);\n",
    "ratio.GetYaxis().SetLabelSize(0.09)\n",
    "ratio.GetXaxis().SetLabelSize(0.09)\n",
    "#ratio.SetMarkerStyle(1)\n",
    "ratio.SetMarkerColor(ROOT.kRed)\n",
    "ratio.SetLineColor(ROOT.kRed)\n",
    "ratio.GetYaxis().SetTitleSize(0.12)\n",
    "ratio.GetYaxis().SetTitleOffset(0.4)\n",
    "ratio.GetXaxis().SetTitleSize(0.12)\n",
    "ratio.GetXaxis().SetTitleOffset(0.85)\n",
    "\n",
    "print \"Bin Content\", \"\\t\", \"Bin error\", \"\\t\", \"Bin Center\", \"\\t\", \"Bin Low-Edge\", \"\\t\", \"Ratio to Truth for bin\", \"\\t\", \"Ratio Error\"\n",
    "for i in xrange(1,gen_bins.shape[0]):\n",
    "    print \"%0.4f\"%unfolded_MC.GetBinContent(i), \"\\t\", \"%0.4f\"%unfolded_MC.GetBinError(i), \"\\t\", unfolded_MC.GetBinCenter(i), \"\\t\", unfolded_MC.GetBinLowEdge(i), \"%0.4f\"%ratio.GetBinContent(i), \"%0.4f\"%ratio.GetBinError(i)"
   ]
  },
  {
   "cell_type": "code",
   "execution_count": 112,
   "metadata": {},
   "outputs": [
    {
     "name": "stderr",
     "output_type": "stream",
     "text": [
      "Info in <TCanvas::Print>: png file tau_3_2_MC_SC_ratio_Escheme_bkgsub.png has been created\n",
      "Info in <TCanvas::Print>: pdf file tau_3_2_MC_SC_ratio_Escheme_bkgsub.pdf has been created\n"
     ]
    },
    {
     "data": {
      "image/png": "[encoded data removed]",
      "text/plain": [
       "<IPython.core.display.Image object>"
      ]
     },
     "metadata": {},
     "output_type": "display_data"
    }
   ],
   "source": [
    "c6 = ROOT.TCanvas(\"c6\",\"c6\", 600,300)\n",
    "ratio.GetYaxis().SetLabelSize(0.05)\n",
    "ratio.GetXaxis().SetLabelSize(0.05)\n",
    "#ratio.SetMarkerStyle(1)\n",
    "ratio.SetMarkerStyle(5)\n",
    "ratio.SetMarkerColor(ROOT.kRed)\n",
    "ratio.SetLineColor(ROOT.kRed)\n",
    "ratio.GetYaxis().SetTitleSize(0.06)\n",
    "ratio.GetYaxis().SetTitleOffset(0.7)\n",
    "ratio.GetXaxis().SetTitleSize(0.05)\n",
    "ratio.GetXaxis().SetTitleOffset(0.8)\n",
    "#ratio.SetMinimum(0.7)\n",
    "#ratio.SetMaximum(1.3)\n",
    "#ratio.SetMarkerStyle(21);\n",
    "ratio.Draw(\"ep\")\n",
    "c6.Draw()\n",
    "c6.SaveAs(\"tau_3_2_MC_SC_ratio_Escheme_bkgsub.png\")\n",
    "c6.SaveAs(\"tau_3_2_MC_SC_ratio_Escheme_bkgsub.pdf\")"
   ]
  },
  {
   "cell_type": "code",
   "execution_count": 113,
   "metadata": {},
   "outputs": [
    {
     "name": "stderr",
     "output_type": "stream",
     "text": [
      "Error in <TUnfoldDensity::SubtractBackground>: Source bkg_all given twice, ignoring 2nd call.\n",
      "\n",
      "Warning in <TROOT::Append>: Replacing existing TH1: unfolded_data (Potential memory leak).\n"
     ]
    }
   ],
   "source": [
    "# get unfolding output\n",
    "# includes the statistical and background errors\n",
    "# but not the other systematic uncertainties\n",
    "#tunfolder_data.SetInput( histMdetData )\n",
    "tunfolder_data.SubtractBackground( histMdetMC_bkg, \"bkg_all\", 1. )\n",
    "\n",
    "histUnfoldOutput= tunfolder_data.GetOutput(\"unfolded_data\")\n",
    "\n",
    "# retreive error matrix of statistical errors\n",
    "histEmatStat=tunfolder_data.GetEmatrixInput(\"unfolding stat error matrix\");\n",
    "# retreive full error matrix\n",
    "# This includes all systematic errors\n",
    "histEmatTotal=tunfolder_data.GetEmatrixTotal(\"unfolding total error matrix\");\n",
    "# create two copies of the unfolded data, one with statistical errors\n",
    "# the other with total errors\n",
    "histUnfoldStat=ROOT.TH1D(\"tau3_2(unfold,staterr)\",\";tau3_2(gen)\",  gen_bins.shape[0]-1, (gen_bins));\n",
    "histUnfoldTotal=ROOT.TH1D(\"tau3_2(unfold,totalerr)\",\";tau3_2(gen)\",  gen_bins.shape[0]-1, (gen_bins));\n",
    "\n",
    "for i in xrange(0, gen_bins.shape[0]): \n",
    "    c=histUnfoldOutput.GetBinContent(i);\n",
    "    # histogram with unfolded data and stat errors\n",
    "    histUnfoldStat.SetBinContent(i,c);\n",
    "    histUnfoldStat.SetBinError(i,np.sqrt(histEmatStat.GetBinContent(i,i)));\n",
    "    # histogram with unfolded data and total errors\n",
    "    histUnfoldTotal.SetBinContent(i,c);\n",
    "    histUnfoldTotal.SetBinError(i,np.sqrt(histEmatTotal.GetBinContent(i,i)));\n",
    "\n",
    "# create histogram with correlation matrix\n",
    "histCorr=ROOT.TH2D(\"Corr(total)\",\";tau3_2(gen);tau3_2(gen)\",  gen_bins.shape[0]-1, (gen_bins), gen_bins.shape[0]-1, (gen_bins));\n",
    "for i in xrange(0, gen_bins.shape[0]): \n",
    "    ei,ej = 0,0\n",
    "    ei=np.sqrt(histEmatTotal.GetBinContent(i,i));\n",
    "    if(ei<=0.0): continue\n",
    "    for j in xrange(0, gen_bins.shape[0]):\n",
    "        ej=np.sqrt(histEmatTotal.GetBinContent(j,j));\n",
    "        if(ej<=0.0): continue\n",
    "        histCorr.SetBinContent(i,j,histEmatTotal.GetBinContent(i,j)/ei/ej);\n",
    "\n",
    "# retreive bgr source 1\n",
    "#histdetNormBgr1=tunfolder_data.GetBackground(\"bgr1 normalized\", \"background1\");\n",
    "histMdetNormBgrTotal=tunfolder_data.GetBackground(\"bkg_all\");\n",
    "#========================\n"
   ]
  },
  {
   "cell_type": "code",
   "execution_count": 114,
   "metadata": {},
   "outputs": [
    {
     "data": {
      "image/png": "[encoded data removed]",
      "text/plain": [
       "<IPython.core.display.Image object>"
      ]
     },
     "metadata": {},
     "output_type": "display_data"
    }
   ],
   "source": [
    "# Step 7: plots\n",
    "output = ROOT.TCanvas();\n",
    "#output.Divide(3,2);\n",
    "#output.cd(1);\n",
    "# data, MC prediction, background\n",
    "#histMdetData.SetMinimum(0.0);\n",
    "histMdetData.SetMaximum(histMdetData.GetMaximum()*1.5);\n",
    "histMdetData.Draw(\"E\");\n",
    "#histMdetMC_sig.SetMinimum(0.0);\n",
    "histMdetMC_sig.SetLineColor(ROOT.kBlue);\n",
    "histMdetNormBgrTotal.SetLineColor(ROOT.kRed);\n",
    "#histdetNormBgr1.SetLineColor(ROOT.kCyan);\n",
    "histMdetMC_sig.Draw(\"SAME HIST\");\n",
    "#histdetNormBgr1.Draw(\"SAME HIST\");\n",
    "histMdetNormBgrTotal.Draw(\"SAME HIST\");\n",
    "output.Draw()"
   ]
  },
  {
   "cell_type": "code",
   "execution_count": 115,
   "metadata": {},
   "outputs": [
    {
     "data": {
      "image/png": "[encoded data removed]",
      "text/plain": [
       "<IPython.core.display.Image object>"
      ]
     },
     "metadata": {},
     "output_type": "display_data"
    }
   ],
   "source": [
    "#output.cd(2)\n",
    "# unfolded data, data truth, MC truth\n",
    "output = ROOT.TCanvas();\n",
    "histUnfoldTotal.SetMinimum(0.0);\n",
    "histUnfoldTotal.SetMaximum(7000);\n",
    "histUnfoldTotal.SetLineColor(ROOT.kBlue+3)\n",
    "histUnfoldTotal.SetLineWidth(1)\n",
    "# outer error: total error\n",
    "histUnfoldTotal.Draw(\"E\");\n",
    "# middle error: stat+bgr\n",
    "histUnfoldOutput.SetLineWidth(1)\n",
    "histUnfoldOutput.Draw(\"SAME E1\");\n",
    "# inner error: stat only\n",
    "histUnfoldStat.SetLineColor(ROOT.kGreen+2)\n",
    "histUnfoldStat.Draw(\"SAME E1\");\n",
    "\n",
    "histMdetMC_sig.Draw(\"SAME HIST\");\n",
    "histMgenMC_sig.Draw(\"SAME HIST\");\n",
    "#histBbbSignalGen.SetLineColor(ROOT.kBlue);\n",
    "#histBbbSignalGen.Draw(\"SAME HIST\");\n",
    "output.Draw()"
   ]
  },
  {
   "cell_type": "code",
   "execution_count": 116,
   "metadata": {
    "scrolled": true
   },
   "outputs": [
    {
     "data": {
      "image/png": "[encoded data removed]",
      "text/plain": [
       "<IPython.core.display.Image object>"
      ]
     },
     "metadata": {},
     "output_type": "display_data"
    }
   ],
   "source": [
    "output.cd(3);\n",
    "# unfolding matrix\n",
    "response.SetLineColor(ROOT.kBlue);\n",
    "response.Draw(\"BOX\");\n",
    "\n",
    "output.Draw()"
   ]
  },
  {
   "cell_type": "code",
   "execution_count": 117,
   "metadata": {
    "scrolled": true
   },
   "outputs": [
    {
     "data": {
      "image/png": "[encoded data removed]",
      "text/plain": [
       "<IPython.core.display.Image object>"
      ]
     },
     "metadata": {},
     "output_type": "display_data"
    }
   ],
   "source": [
    "# show tau as a function of chi**2\n",
    "output.cd(4);\n",
    "#logTauX.Draw();\n",
    "#bestLogTauLogChi2.SetMarkerColor(ROOT.kRed);\n",
    "#bestLogTauLogChi2.Draw(\"*\");\n",
    "# show the L curve\n",
    "output.cd(5);\n",
    "#lCurve.Draw(\"AL\");\n",
    "#bestLcurve.SetMarkerColor(ROOT.kRed);\n",
    "#bestLcurve.Draw(\"*\");\n",
    "# show correlation matrix\n",
    "output.cd(6);\n",
    "histCorr.Draw(\"BOX\");\n",
    "output.Draw()"
   ]
  },
  {
   "cell_type": "code",
   "execution_count": null,
   "metadata": {},
   "outputs": [],
   "source": []
  },
  {
   "cell_type": "code",
   "execution_count": null,
   "metadata": {},
   "outputs": [],
   "source": []
  },
  {
   "cell_type": "code",
   "execution_count": null,
   "metadata": {},
   "outputs": [],
   "source": []
  }
 ],
 "metadata": {
  "kernelspec": {
   "display_name": "Python 2",
   "language": "python",
   "name": "python2"
  },
  "language_info": {
   "codemirror_mode": {
    "name": "ipython",
    "version": 2
   },
   "file_extension": ".py",
   "mimetype": "text/x-python",
   "name": "python",
   "nbconvert_exporter": "python",
   "pygments_lexer": "ipython2",
   "version": "2.7.15"
  }
 },
 "nbformat": 4,
 "nbformat_minor": 2
}
